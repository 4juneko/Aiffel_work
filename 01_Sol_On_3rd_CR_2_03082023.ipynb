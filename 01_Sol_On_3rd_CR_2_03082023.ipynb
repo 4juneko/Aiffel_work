{
  "cells": [
    {
      "cell_type": "markdown",
      "metadata": {
        "id": "view-in-github",
        "colab_type": "text"
      },
      "source": [
        "<a href=\"https://colab.research.google.com/github/4juneko/Aiffel_work/blob/master/01_Sol_On_3rd_CR_2_03082023.ipynb\" target=\"_parent\"><img src=\"https://colab.research.google.com/assets/colab-badge.svg\" alt=\"Open In Colab\"/></a>"
      ]
    },
    {
      "cell_type": "markdown",
      "metadata": {
        "id": "wrBfu52sJIyz"
      },
      "source": [
        "### (3/9 이후) 람다 연습문제"
      ]
    },
    {
      "cell_type": "markdown",
      "metadata": {
        "id": "JfT5mkDdJOR_"
      },
      "source": [
        "#### 1.1~10 사이의 숫자가 들어있는 test_list 객체에서 filter 함수와 람다식을 이용해 짝수만을 선택해 리스트를 반환하는 프로그램을 작성하십시오."
      ]
    },
    {
      "cell_type": "code",
      "execution_count": null,
      "metadata": {
        "id": "SrWj0mahJNym"
      },
      "outputs": [],
      "source": [
        "test_list = [1, 2, 4, 7, 9, 10]\n",
        "\n",
        "# your code\n",
        "\n",
        "\n",
        "# 출력 예시 #\n",
        "# [2, 4, 10]"
      ]
    },
    {
      "cell_type": "code",
      "execution_count": null,
      "metadata": {
        "colab": {
          "base_uri": "https://localhost:8080/"
        },
        "id": "KyGgTmEyn-tA",
        "outputId": "8f54fa71-67bb-43f6-9b81-e813143115ba"
      },
      "outputs": [
        {
          "data": {
            "text/plain": [
              "[2, 4, 10]"
            ]
          },
          "execution_count": 1,
          "metadata": {},
          "output_type": "execute_result"
        }
      ],
      "source": [
        "# Solution\n",
        "test_list = [1, 2, 4, 7, 9, 10]\n",
        "\n",
        "list(filter(lambda x: not(x % 2), test_list))"
      ]
    },
    {
      "cell_type": "markdown",
      "metadata": {
        "id": "dLMObODUKVoZ"
      },
      "source": [
        "#### 2.\"ADCBBBBCABBCBDACBDCAACDDDCAABABDBCBCBDBDBDDABBAAAAAAADADBDBCBDABADCADC\"와 같은 문자열이 주어지고, A는 4점, B는 3점, C는 2점, D는 1점이라고 할 때 문자열에 사용된 알파벳 점수의 총합을 map 함수와 람다식을 이용해 구하십시오.\n",
        "\n",
        "- 1.change 라는 함수구현\n",
        "- 2.change 함수를 호출하고, map함수와 람다식을 사용하여 입력 텍스트의 값을 계산"
      ]
    },
    {
      "cell_type": "code",
      "execution_count": null,
      "metadata": {
        "id": "3jfKMfcLKVC6"
      },
      "outputs": [],
      "source": [
        "input_text = \"ADCBBBBCABBCBDACBDCAACDDDCAABABDBCBCBDBDBDDABBAAAAAAADADBDBCBDABADCADC\"\n",
        "\n",
        "def change(string):\n",
        "    # your code 1\n",
        "    pass\n",
        "\n",
        "# your code 2"
      ]
    },
    {
      "cell_type": "code",
      "execution_count": null,
      "metadata": {
        "colab": {
          "base_uri": "https://localhost:8080/"
        },
        "id": "Dn-DXVvan2n9",
        "outputId": "a9aa5a30-c453-49f7-f2ae-e53047abcf66"
      },
      "outputs": [
        {
          "data": {
            "text/plain": [
              "184"
            ]
          },
          "execution_count": 1,
          "metadata": {},
          "output_type": "execute_result"
        }
      ],
      "source": [
        "# Solution\n",
        "\n",
        "input_text = \"ADCBBBBCABBCBDACBDCAACDDDCAABABDBCBCBDBDBDDABBAAAAAAADADBDBCBDABADCADC\"\n",
        "\n",
        "def change(string):\n",
        "    result = 0\n",
        "    if string == \"A\":\n",
        "        result = 4\n",
        "    elif string == \"B\":\n",
        "        result = 3\n",
        "    elif string == \"C\":\n",
        "        result = 2\n",
        "    elif string == \"D\":\n",
        "        result = 1\n",
        "    else:\n",
        "        pass\n",
        "\n",
        "    return result\n",
        "\n",
        "sum(list(map(lambda x: change(x), list(input_text))))"
      ]
    },
    {
      "cell_type": "code",
      "execution_count": null,
      "metadata": {
        "id": "uewBVXD0U4m1"
      },
      "outputs": [],
      "source": []
    }
  ],
  "metadata": {
    "colab": {
      "provenance": [],
      "include_colab_link": true
    },
    "kernelspec": {
      "display_name": "Python 3 (ipykernel)",
      "language": "python",
      "name": "python3"
    },
    "language_info": {
      "codemirror_mode": {
        "name": "ipython",
        "version": 3
      },
      "file_extension": ".py",
      "mimetype": "text/x-python",
      "name": "python",
      "nbconvert_exporter": "python",
      "pygments_lexer": "ipython3",
      "version": "3.9.13"
    }
  },
  "nbformat": 4,
  "nbformat_minor": 0
}