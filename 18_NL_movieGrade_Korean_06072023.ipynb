{
  "cells": [
    {
      "cell_type": "markdown",
      "metadata": {
        "id": "view-in-github",
        "colab_type": "text"
      },
      "source": [
        "<a href=\"https://colab.research.google.com/github/4juneko/Aiffel_work/blob/master/18_NL_movieGrade_Korean_06072023.ipynb\" target=\"_parent\"><img src=\"https://colab.research.google.com/assets/colab-badge.svg\" alt=\"Open In Colab\"/></a>"
      ]
    },
    {
      "cell_type": "markdown",
      "id": "0170c124",
      "metadata": {
        "id": "0170c124"
      },
      "source": [
        "# Rubric\n",
        "|평가문항|\t상세기준|내 평가|\n",
        "|--|--|--|\n",
        "|1. 다양한 방법으로 Text Classification 태스크를 성공적으로 구현하였다.\t|3가지 이상의 모델이 성공적으로 시도됨|O|\n",
        "|2. gensim을 활용하여 자체학습된 혹은 사전학습된 임베딩 레이어를 분석하였다.\t|gensim의 유사단어 찾기를 활용하여 자체학습한 임베딩과 사전학습 임베딩을 비교 분석함|O||\n",
        "|3. 한국어 Word2Vec을 활용하여 가시적인 성능향상을 달성했다.|\t네이버 영화리뷰 데이터 감성분석 정확도를 85% 이상 달성함|O|"
      ]
    },
    {
      "cell_type": "markdown",
      "id": "a011f206",
      "metadata": {
        "id": "a011f206"
      },
      "source": [
        "# 1 Import Library"
      ]
    },
    {
      "cell_type": "code",
      "execution_count": null,
      "id": "fa06b86b",
      "metadata": {
        "id": "fa06b86b",
        "outputId": "73aa04fb-66f4-4e04-bb80-50d81e7dda5d"
      },
      "outputs": [
        {
          "name": "stdout",
          "output_type": "stream",
          "text": [
            "1.3.3\n",
            "0.5.2\n",
            "4.1.2\n"
          ]
        }
      ],
      "source": [
        "import pandas\n",
        "import konlpy\n",
        "import gensim\n",
        "\n",
        "print(pandas.__version__)\n",
        "print(konlpy.__version__)\n",
        "print(gensim.__version__)"
      ]
    },
    {
      "cell_type": "markdown",
      "id": "8bc8477f",
      "metadata": {
        "id": "8bc8477f"
      },
      "source": [
        "# 2 Prepare Data"
      ]
    },
    {
      "cell_type": "code",
      "execution_count": null,
      "id": "ee95bf5a",
      "metadata": {
        "id": "ee95bf5a",
        "outputId": "b7719b11-50ed-4976-dcbb-f3f5b797ac2a"
      },
      "outputs": [
        {
          "data": {
            "text/html": [
              "<div>\n",
              "<style scoped>\n",
              "    .dataframe tbody tr th:only-of-type {\n",
              "        vertical-align: middle;\n",
              "    }\n",
              "\n",
              "    .dataframe tbody tr th {\n",
              "        vertical-align: top;\n",
              "    }\n",
              "\n",
              "    .dataframe thead th {\n",
              "        text-align: right;\n",
              "    }\n",
              "</style>\n",
              "<table border=\"1\" class=\"dataframe\">\n",
              "  <thead>\n",
              "    <tr style=\"text-align: right;\">\n",
              "      <th></th>\n",
              "      <th>id</th>\n",
              "      <th>document</th>\n",
              "      <th>label</th>\n",
              "    </tr>\n",
              "  </thead>\n",
              "  <tbody>\n",
              "    <tr>\n",
              "      <th>0</th>\n",
              "      <td>9976970</td>\n",
              "      <td>아 더빙.. 진짜 짜증나네요 목소리</td>\n",
              "      <td>0</td>\n",
              "    </tr>\n",
              "    <tr>\n",
              "      <th>1</th>\n",
              "      <td>3819312</td>\n",
              "      <td>흠...포스터보고 초딩영화줄....오버연기조차 가볍지 않구나</td>\n",
              "      <td>1</td>\n",
              "    </tr>\n",
              "    <tr>\n",
              "      <th>2</th>\n",
              "      <td>10265843</td>\n",
              "      <td>너무재밓었다그래서보는것을추천한다</td>\n",
              "      <td>0</td>\n",
              "    </tr>\n",
              "    <tr>\n",
              "      <th>3</th>\n",
              "      <td>9045019</td>\n",
              "      <td>교도소 이야기구먼 ..솔직히 재미는 없다..평점 조정</td>\n",
              "      <td>0</td>\n",
              "    </tr>\n",
              "    <tr>\n",
              "      <th>4</th>\n",
              "      <td>6483659</td>\n",
              "      <td>사이몬페그의 익살스런 연기가 돋보였던 영화!스파이더맨에서 늙어보이기만 했던 커스틴 ...</td>\n",
              "      <td>1</td>\n",
              "    </tr>\n",
              "  </tbody>\n",
              "</table>\n",
              "</div>"
            ],
            "text/plain": [
              "         id                                           document  label\n",
              "0   9976970                                아 더빙.. 진짜 짜증나네요 목소리      0\n",
              "1   3819312                  흠...포스터보고 초딩영화줄....오버연기조차 가볍지 않구나      1\n",
              "2  10265843                                  너무재밓었다그래서보는것을추천한다      0\n",
              "3   9045019                      교도소 이야기구먼 ..솔직히 재미는 없다..평점 조정      0\n",
              "4   6483659  사이몬페그의 익살스런 연기가 돋보였던 영화!스파이더맨에서 늙어보이기만 했던 커스틴 ...      1"
            ]
          },
          "execution_count": 191,
          "metadata": {},
          "output_type": "execute_result"
        }
      ],
      "source": [
        "import pandas as pd\n",
        "\n",
        "# 데이터를 읽어봅시다. \n",
        "train_data = pd.read_table('~/aiffel/sentiment_classification/data/ratings_train.txt')\n",
        "test_data = pd.read_table('~/aiffel/sentiment_classification/data/ratings_test.txt')\n",
        "\n",
        "train_data.head()\n"
      ]
    },
    {
      "cell_type": "markdown",
      "id": "816f9bd2",
      "metadata": {
        "id": "816f9bd2"
      },
      "source": [
        "# 3 Preprocess Data\n",
        "- 데이터의 중복 제거\n",
        "- NaN 결측치 제거\n",
        "- 한국어 토크나이저로 토큰화\n",
        "- 불용어(Stopwords) 제거\n",
        "- 사전word_to_index 구성\n",
        "- 텍스트 스트링을 사전 인덱스 스트링으로 변환\n",
        "- X_train, y_train, X_test, y_test, word_to_index 리턴  \n",
        "</br>\n",
        "\n",
        "- 데이터셋 내 문장 길이 분포\n",
        "- 적절한 최대 문장 길이 지정\n",
        "- keras.preprocessing.sequence.pad_sequences 을 활용한 패딩 추가\n"
      ]
    },
    {
      "cell_type": "code",
      "execution_count": null,
      "id": "42d19ea6",
      "metadata": {
        "id": "42d19ea6",
        "outputId": "ac8eaa19-101a-47ba-92c8-35fa030ce9e8"
      },
      "outputs": [
        {
          "data": {
            "text/plain": [
              "(146182, 49157)"
            ]
          },
          "execution_count": 192,
          "metadata": {},
          "output_type": "execute_result"
        }
      ],
      "source": [
        "from konlpy.tag import Mecab\n",
        "import numpy as np\n",
        "from collections import Counter\n",
        "\n",
        "tokenizer = Mecab()\n",
        "stopwords = ['의','가','이','은','들','는','좀','잘','걍','과','도','를','으로','자','에','와','한','하다']\n",
        "\n",
        "def load_data(train_data, test_data, num_words=10000):\n",
        "    train_data.drop_duplicates(subset=['document'], inplace=True)\n",
        "    train_data = train_data.dropna(how = 'any') \n",
        "    test_data.drop_duplicates(subset=['document'], inplace=True)\n",
        "    test_data = test_data.dropna(how = 'any') \n",
        "    \n",
        "    X_train = []\n",
        "    for sentence in train_data['document']:\n",
        "        temp_X = tokenizer.morphs(sentence) # 토큰화\n",
        "        temp_X = [word for word in temp_X if not word in stopwords] # 불용어 제거\n",
        "        X_train.append(temp_X)\n",
        "\n",
        "    X_test = []\n",
        "    for sentence in test_data['document']:\n",
        "        temp_X = tokenizer.morphs(sentence) # 토큰화\n",
        "        temp_X = [word for word in temp_X if not word in stopwords] # 불용어 제거\n",
        "        X_test.append(temp_X)\n",
        "    \n",
        "    words = np.concatenate(X_train).tolist()\n",
        "    counter = Counter(words)\n",
        "    counter = counter.most_common(10000-4)\n",
        "    vocab = ['', '', '', ''] + [key for key, _ in counter]\n",
        "    word_to_index = {word:index for index, word in enumerate(vocab)}\n",
        "        \n",
        "    def wordlist_to_indexlist(wordlist):\n",
        "        return [word_to_index[word] if word in word_to_index else word_to_index[''] for word in wordlist]\n",
        "        \n",
        "    X_train = list(map(wordlist_to_indexlist, X_train))\n",
        "    X_test = list(map(wordlist_to_indexlist, X_test))\n",
        "        \n",
        "    return X_train, np.array(list(train_data['label'])), X_test, np.array(list(test_data['label'])), word_to_index\n",
        "    \n",
        "X_train, y_train, X_test, y_test, word_to_index = load_data(train_data, test_data) \n",
        "len(X_train), len(X_test)"
      ]
    },
    {
      "cell_type": "code",
      "execution_count": null,
      "id": "3acdaf0a",
      "metadata": {
        "id": "3acdaf0a"
      },
      "outputs": [],
      "source": [
        "index_to_word = {index:word for word, index in word_to_index.items()}"
      ]
    },
    {
      "cell_type": "code",
      "execution_count": null,
      "id": "a82aa822",
      "metadata": {
        "id": "a82aa822"
      },
      "outputs": [],
      "source": [
        "# print(word_to_index)"
      ]
    },
    {
      "cell_type": "code",
      "execution_count": null,
      "id": "a3f99edf",
      "metadata": {
        "id": "a3f99edf",
        "outputId": "0b899c11-5359-47ee-ba70-63d9a326e919"
      },
      "outputs": [
        {
          "name": "stdout",
          "output_type": "stream",
          "text": [
            "<BOS>\n",
            "5\n",
            "영화\n"
          ]
        }
      ],
      "source": [
        "#실제 인코딩 인덱스는 제공된 word_to_index에서 index 기준으로 3씩 뒤로 밀려 있습니다.  \n",
        "# word_to_index = {k:(v+3) for k,v in word_to_index.items()}\n",
        "\n",
        "# 처음 몇 개 인덱스는 사전에 정의되어 있습니다.\n",
        "word_to_index[\"<PAD>\"] = 0\n",
        "word_to_index[\"<BOS>\"] = 1\n",
        "word_to_index[\"<UNK>\"] = 2  # unknown\n",
        "word_to_index[\"<UNUSED>\"] = 3\n",
        "\n",
        "index_to_word = {index:word for word, index in word_to_index.items()}\n",
        "\n",
        "print(index_to_word[1])     # '<BOS>' 가 출력됩니다. \n",
        "print(word_to_index['영화'])  # 4 이 출력됩니다. \n",
        "print(index_to_word[5])     # 'the' 가 출력됩니다."
      ]
    },
    {
      "cell_type": "code",
      "execution_count": null,
      "id": "7dc76333",
      "metadata": {
        "id": "7dc76333"
      },
      "outputs": [],
      "source": [
        "# 문장 1개를 활용할 딕셔너리와 함께 주면, 단어 인덱스 리스트 벡터로 변환해 주는 함수입니다. \n",
        "# 단, 모든 문장은 <BOS>로 시작하는 것으로 합니다. \n",
        "def get_encoded_sentence(sentence, word_to_index):\n",
        "    return [word_to_index['<BOS>']]+[word_to_index[word] if word in word_to_index else word_to_index['<UNK>'] for word in sentence.split()]\n",
        "\n",
        "# 여러 개의 문장 리스트를 한꺼번에 단어 인덱스 리스트 벡터로 encode해 주는 함수입니다. \n",
        "def get_encoded_sentences(sentences, word_to_index):\n",
        "    return [get_encoded_sentence(sentence, word_to_index) for sentence in sentences]\n",
        "\n",
        "# 숫자 벡터로 encode된 문장을 원래대로 decode하는 함수입니다. \n",
        "def get_decoded_sentence(encoded_sentence, index_to_word):\n",
        "    return ' '.join(index_to_word[index] if index in index_to_word else '<UNK>' for index in encoded_sentence[1:])  #[1:]를 통해 <BOS>를 제외\n",
        "\n",
        "# 여러 개의 숫자 벡터로 encode된 문장을 한꺼번에 원래대로 decode하는 함수입니다. \n",
        "def get_decoded_sentences(encoded_sentences, index_to_word):\n",
        "    return [get_decoded_sentence(encoded_sentence, index_to_word) for encoded_sentence in encoded_sentences]"
      ]
    },
    {
      "cell_type": "markdown",
      "id": "3e6fb134",
      "metadata": {
        "id": "3e6fb134"
      },
      "source": [
        "## Padding "
      ]
    },
    {
      "cell_type": "code",
      "execution_count": null,
      "id": "e0f594bb",
      "metadata": {
        "id": "e0f594bb",
        "outputId": "d303ac16-c883-4109-91d5-4e027140f8de"
      },
      "outputs": [
        {
          "name": "stdout",
          "output_type": "stream",
          "text": [
            "문장길이 평균 :  15.96940191154864\n",
            "문장길이 최대 :  116\n",
            "문장길이 표준편차 :  12.843571191092\n"
          ]
        }
      ],
      "source": [
        "# 데이터셋 내 문장 길이 분포\n",
        "total_data_text = list(X_train) + list(X_test)\n",
        "# 텍스트데이터 문장길이의 리스트를 생성한 후\n",
        "num_tokens = [len(tokens) for tokens in total_data_text]\n",
        "num_tokens = np.array(num_tokens)\n",
        "# 문장길이의 평균값, 최대값, 표준편차를 계산해 본다. \n",
        "print('문장길이 평균 : ', np.mean(num_tokens))\n",
        "print('문장길이 최대 : ', np.max(num_tokens))\n",
        "print('문장길이 표준편차 : ', np.std(num_tokens))"
      ]
    },
    {
      "cell_type": "code",
      "execution_count": null,
      "id": "a8f0a90d",
      "metadata": {
        "id": "a8f0a90d",
        "outputId": "ccaee342-b811-4f15-b690-45e636c5e683"
      },
      "outputs": [
        {
          "name": "stdout",
          "output_type": "stream",
          "text": [
            "pad_sequences maxlen :  41\n",
            "전체 문장의 93.42988343341575%가 maxlen 설정값 이내에 포함됩니다. \n"
          ]
        }
      ],
      "source": [
        "# 적절한 최대 문장 길이 지정\n",
        "# 예를들어, 최대 길이를 (평균 + 2*표준편차)로 한다면,  \n",
        "max_tokens = np.mean(num_tokens) + 2 * np.std(num_tokens)\n",
        "maxlen = int(max_tokens)\n",
        "print('pad_sequences maxlen : ', maxlen)\n",
        "print('전체 문장의 {}%가 maxlen 설정값 이내에 포함됩니다. '.format(np.sum(num_tokens < max_tokens) / len(num_tokens)*100))"
      ]
    },
    {
      "cell_type": "code",
      "execution_count": null,
      "id": "4f4f89e9",
      "metadata": {
        "id": "4f4f89e9",
        "outputId": "4e6463e9-d6fd-4e7f-8dd5-2297999f3a6f"
      },
      "outputs": [
        {
          "name": "stdout",
          "output_type": "stream",
          "text": [
            "(146182, 41)\n"
          ]
        }
      ],
      "source": [
        "import tensorflow as tf\n",
        "import os\n",
        "\n",
        "# keras.preprocessing.sequence.pad_sequences를 활용한 pad 추가\n",
        "X_train = tf.keras.preprocessing.sequence.pad_sequences(X_train,\n",
        "                                                        value=word_to_index[\"<PAD>\"],\n",
        "                                                        padding='pre', # 혹은 'post'\n",
        "                                                        maxlen=maxlen)\n",
        "\n",
        "X_test = tf.keras.preprocessing.sequence.pad_sequences(X_test,\n",
        "                                                       value=word_to_index[\"<PAD>\"],\n",
        "                                                       padding='pre', # 혹은 'post'\n",
        "                                                       maxlen=maxlen)\n",
        "\n",
        "print(X_train.shape)"
      ]
    },
    {
      "cell_type": "code",
      "execution_count": null,
      "id": "45a4dc2d",
      "metadata": {
        "id": "45a4dc2d",
        "outputId": "ee2b9a9a-cdbf-4865-aa04-f97111ecfc23"
      },
      "outputs": [
        {
          "name": "stdout",
          "output_type": "stream",
          "text": [
            "[  0   0   0   0   0   0   0   0   0   0   0   0   0   0   0   0   0   0\n",
            "   0   0   0   0   0   0   0   0   0   0   0   0   0  32  74 919   4   4\n",
            "  39 228  20  33 748]\n"
          ]
        }
      ],
      "source": [
        "print(X_train[0])"
      ]
    },
    {
      "cell_type": "code",
      "execution_count": null,
      "id": "f921ba83",
      "metadata": {
        "id": "f921ba83",
        "outputId": "7576934e-151e-4477-a02b-b5dfd32a18d5"
      },
      "outputs": [
        {
          "name": "stdout",
          "output_type": "stream",
          "text": [
            "[  0   0   0   0   0   0   0   0   0   0   0   0   0   0   0   0   0   0\n",
            "   0   0   0   0   0   0   0   0   0   0   0   0   0   0   0   0   0   0\n",
            "   0   0   0 832 130]\n"
          ]
        }
      ],
      "source": [
        "print(X_test[0])"
      ]
    },
    {
      "cell_type": "markdown",
      "id": "752ccc37",
      "metadata": {
        "id": "752ccc37"
      },
      "source": [
        "# 4 Split Data"
      ]
    },
    {
      "cell_type": "code",
      "execution_count": null,
      "id": "5480c805",
      "metadata": {
        "id": "5480c805",
        "outputId": "2438d9e5-d5eb-4e26-ae6e-95f4c3403960"
      },
      "outputs": [
        {
          "name": "stdout",
          "output_type": "stream",
          "text": [
            "(96182, 41)\n",
            "(96182,)\n",
            "(50000, 41)\n",
            "(50000,)\n"
          ]
        }
      ],
      "source": [
        "# validation set 50000건 분리\n",
        "X_val = X_train[:50000]   \n",
        "y_val = y_train[:50000]\n",
        "\n",
        "# validation set을 제외한 나머지 96000건\n",
        "partial_X_train = X_train[50000:]  \n",
        "partial_y_train = y_train[50000:]\n",
        "\n",
        "print(partial_X_train.shape)\n",
        "print(partial_y_train.shape)\n",
        "print(X_val.shape)\n",
        "print(y_val.shape)"
      ]
    },
    {
      "cell_type": "markdown",
      "id": "c769a737",
      "metadata": {
        "id": "c769a737"
      },
      "source": [
        "# 5 Get Model & Train"
      ]
    },
    {
      "cell_type": "markdown",
      "id": "a6160ab6",
      "metadata": {
        "id": "a6160ab6"
      },
      "source": [
        "## 5-1 Model #1 - LSTM"
      ]
    },
    {
      "cell_type": "code",
      "execution_count": null,
      "id": "42ccdc11",
      "metadata": {
        "id": "42ccdc11",
        "outputId": "564ed9f6-1750-46e3-e1f4-6f29c55fd486"
      },
      "outputs": [
        {
          "name": "stdout",
          "output_type": "stream",
          "text": [
            "Model: \"sequential_39\"\n",
            "_________________________________________________________________\n",
            "Layer (type)                 Output Shape              Param #   \n",
            "=================================================================\n",
            "embedding_39 (Embedding)     (None, None, 16)          160000    \n",
            "_________________________________________________________________\n",
            "lstm_21 (LSTM)               (None, 128)               74240     \n",
            "_________________________________________________________________\n",
            "dense_79 (Dense)             (None, 8)                 1032      \n",
            "_________________________________________________________________\n",
            "dense_80 (Dense)             (None, 1)                 9         \n",
            "=================================================================\n",
            "Total params: 235,281\n",
            "Trainable params: 235,281\n",
            "Non-trainable params: 0\n",
            "_________________________________________________________________\n"
          ]
        }
      ],
      "source": [
        "vocab_size = 10000    # 어휘 사전의 크기입니다(10,000개의 단어)\n",
        "word_vector_dim = 16  # 워드 벡터의 차원 수 (변경 가능한 하이퍼파라미터)\n",
        "\n",
        "# model1 설계 - 딥러닝 모델 코드를 직접 작성해 주세요.\n",
        "model1 = tf.keras.Sequential()\n",
        "# [[YOUR CODE]]\n",
        "model1.add(tf.keras.layers.Embedding(vocab_size, word_vector_dim, input_shape=(None,)))\n",
        "model1.add(tf.keras.layers.LSTM(128))   # 가장 널리 쓰이는 RNN인 LSTM 레이어를 사용하였습니다. 이때 LSTM state 벡터의 차원수는 8로 하였습니다. (변경 가능)\n",
        "model1.add(tf.keras.layers.Dense(8, activation='relu'))\n",
        "model1.add(tf.keras.layers.Dense(1, activation='sigmoid'))  # 최종 출력은 긍정/부정을 나타내는 1dim 입니다.\n",
        "\n",
        "model1.summary()"
      ]
    },
    {
      "cell_type": "code",
      "execution_count": null,
      "id": "c54db455",
      "metadata": {
        "id": "c54db455",
        "outputId": "0d757a59-f444-4f61-df52-4e2e15577466"
      },
      "outputs": [
        {
          "name": "stdout",
          "output_type": "stream",
          "text": [
            "Epoch 1/15\n",
            "188/188 [==============================] - 4s 13ms/step - loss: 0.6702 - accuracy: 0.6163 - val_loss: 0.6131 - val_accuracy: 0.6515\n",
            "Epoch 2/15\n",
            "188/188 [==============================] - 2s 10ms/step - loss: 0.5386 - accuracy: 0.7514 - val_loss: 0.4957 - val_accuracy: 0.7331\n",
            "Epoch 3/15\n",
            "188/188 [==============================] - 2s 10ms/step - loss: 0.4363 - accuracy: 0.8083 - val_loss: 0.4173 - val_accuracy: 0.8214\n",
            "Epoch 4/15\n",
            "188/188 [==============================] - 2s 10ms/step - loss: 0.3998 - accuracy: 0.8259 - val_loss: 0.4019 - val_accuracy: 0.8228\n",
            "Epoch 5/15\n",
            "188/188 [==============================] - 2s 10ms/step - loss: 0.3717 - accuracy: 0.8406 - val_loss: 0.3996 - val_accuracy: 0.8190\n",
            "Epoch 6/15\n",
            "188/188 [==============================] - 2s 10ms/step - loss: 0.3567 - accuracy: 0.8471 - val_loss: 0.3799 - val_accuracy: 0.8307\n",
            "Epoch 7/15\n",
            "188/188 [==============================] - 2s 10ms/step - loss: 0.3436 - accuracy: 0.8532 - val_loss: 0.3670 - val_accuracy: 0.8400\n",
            "Epoch 8/15\n",
            "188/188 [==============================] - 2s 10ms/step - loss: 0.3345 - accuracy: 0.8584 - val_loss: 0.3664 - val_accuracy: 0.8396\n",
            "Epoch 9/15\n",
            "188/188 [==============================] - 2s 10ms/step - loss: 0.3277 - accuracy: 0.8621 - val_loss: 0.3586 - val_accuracy: 0.8444\n",
            "Epoch 10/15\n",
            "188/188 [==============================] - 2s 10ms/step - loss: 0.3210 - accuracy: 0.8653 - val_loss: 0.3581 - val_accuracy: 0.8452\n",
            "Epoch 11/15\n",
            "188/188 [==============================] - 2s 10ms/step - loss: 0.3166 - accuracy: 0.8669 - val_loss: 0.3586 - val_accuracy: 0.8448\n",
            "Epoch 12/15\n",
            "188/188 [==============================] - 2s 10ms/step - loss: 0.3124 - accuracy: 0.8692 - val_loss: 0.3646 - val_accuracy: 0.8415\n",
            "Epoch 13/15\n",
            "188/188 [==============================] - 2s 10ms/step - loss: 0.3075 - accuracy: 0.8714 - val_loss: 0.3614 - val_accuracy: 0.8434\n",
            "Epoch 14/15\n",
            "188/188 [==============================] - 2s 10ms/step - loss: 0.3016 - accuracy: 0.8740 - val_loss: 0.3577 - val_accuracy: 0.8457\n",
            "Epoch 15/15\n",
            "188/188 [==============================] - 2s 10ms/step - loss: 0.3000 - accuracy: 0.8756 - val_loss: 0.3624 - val_accuracy: 0.8439\n"
          ]
        }
      ],
      "source": [
        "adam = tf.keras.optimizers.Adam(learning_rate=0.0001, beta_1=0.9, beta_2=0.999, epsilon=None, decay=0.0, amsgrad=False)\n",
        "\n",
        "model1.compile(optimizer= adam,\n",
        "              loss='binary_crossentropy',\n",
        "              metrics=['accuracy'])\n",
        "              \n",
        "epochs=15  # 몇 epoch를 훈련하면 좋을지 결과를 보면서 바꾸어 봅시다. 20은 과대적합이어서 5로 바꿈\n",
        "\n",
        "history1 = model1.fit(partial_X_train,\n",
        "                    partial_y_train,\n",
        "                    epochs=epochs,\n",
        "                    batch_size=512,\n",
        "                    validation_data=(X_val, y_val),\n",
        "                    verbose=1)\n",
        "\n",
        "# https://wikidocs.net/36033"
      ]
    },
    {
      "cell_type": "code",
      "execution_count": null,
      "id": "40045aa2",
      "metadata": {
        "id": "40045aa2",
        "outputId": "6afec310-d9aa-4a3e-d4c7-a685d83823cf"
      },
      "outputs": [
        {
          "name": "stdout",
          "output_type": "stream",
          "text": [
            "1537/1537 - 4s - loss: 0.3740 - accuracy: 0.8392\n",
            "[0.3740371763706207, 0.8391886949539185]\n"
          ]
        }
      ],
      "source": [
        "results1 = model1.evaluate(X_test,  y_test, verbose=2)\n",
        "\n",
        "print(results1)"
      ]
    },
    {
      "cell_type": "code",
      "execution_count": null,
      "id": "bb2c1558",
      "metadata": {
        "id": "bb2c1558",
        "outputId": "d39e9ba8-f9c4-4a0b-d39e-c2afcd939edf"
      },
      "outputs": [
        {
          "name": "stdout",
          "output_type": "stream",
          "text": [
            "dict_keys(['loss', 'accuracy', 'val_loss', 'val_accuracy'])\n"
          ]
        }
      ],
      "source": [
        "history_dict1 = history1.history\n",
        "print(history_dict1.keys()) # epoch에 따른 그래프를 그려볼 수 있는 항목들"
      ]
    },
    {
      "cell_type": "code",
      "execution_count": null,
      "id": "849a6b31",
      "metadata": {
        "id": "849a6b31",
        "outputId": "e48ebb5b-d49c-4a45-ea95-f48863d0efb1"
      },
      "outputs": [
        {
          "data": {
            "image/png": "[encoded data removed]",
            "text/plain": [
              "<Figure size 432x288 with 1 Axes>"
            ]
          },
          "metadata": {
            "needs_background": "light"
          },
          "output_type": "display_data"
        }
      ],
      "source": [
        "import matplotlib.pyplot as plt\n",
        "\n",
        "acc = history_dict1['accuracy']\n",
        "val_acc = history_dict1['val_accuracy']\n",
        "loss = history_dict1['loss']\n",
        "val_loss = history_dict1['val_loss']\n",
        "\n",
        "epochs = range(1, len(acc) + 1)\n",
        "\n",
        "# \"bo\"는 \"파란색 점\"입니다\n",
        "plt.plot(epochs, loss, 'bo', label='Training loss')\n",
        "# b는 \"파란 실선\"입니다\n",
        "plt.plot(epochs, val_loss, 'b', label='Validation loss')\n",
        "plt.title('Training and validation loss of LSTM')\n",
        "plt.xlabel('Epochs')\n",
        "plt.ylabel('Loss')\n",
        "plt.legend()\n",
        "\n",
        "plt.show()"
      ]
    },
    {
      "cell_type": "code",
      "execution_count": null,
      "id": "60931ef2",
      "metadata": {
        "id": "60931ef2",
        "outputId": "3c6e4a93-4efa-4fa4-919e-5cbfefd065c2"
      },
      "outputs": [
        {
          "data": {
            "image/png": "[encoded data removed]",
            "text/plain": [
              "<Figure size 432x288 with 1 Axes>"
            ]
          },
          "metadata": {
            "needs_background": "light"
          },
          "output_type": "display_data"
        }
      ],
      "source": [
        "plt.clf()   # 그림을 초기화합니다\n",
        "\n",
        "plt.plot(epochs, acc, 'bo', label='Training acc')\n",
        "plt.plot(epochs, val_acc, 'b', label='Validation acc')\n",
        "plt.title('Training and validation accuracy of LSTM')\n",
        "plt.xlabel('Epochs')\n",
        "plt.ylabel('Accuracy')\n",
        "plt.legend()\n",
        "\n",
        "plt.show()"
      ]
    },
    {
      "cell_type": "markdown",
      "id": "f1fc9e13",
      "metadata": {
        "id": "f1fc9e13"
      },
      "source": [
        "- 과적합이 있어 learning rate를 0.00001로 정하여 학습하였더니 과적합이 없어졌음.\n",
        "- 학습이 진행됨에 따라 accracy 값이 수렴되어 모델에 레이어를 추가하여 학습하여도 나아지는 것이 없었음.\n",
        "- model의 LSTM state vector의 차원수를 8~256으로 여러 모델을 학습해보니 값에 따라 accuracy에 영향이 조금 있음을 알았음.\n",
        "- accuracy는 0.84"
      ]
    },
    {
      "cell_type": "markdown",
      "id": "1726e760",
      "metadata": {
        "id": "1726e760"
      },
      "source": [
        "## 5-2 Model #2 - Conv1D"
      ]
    },
    {
      "cell_type": "code",
      "execution_count": null,
      "id": "61e3d08a",
      "metadata": {
        "id": "61e3d08a",
        "outputId": "1a37b2d9-206b-45e0-f452-dad4cb6b4ec9"
      },
      "outputs": [
        {
          "name": "stdout",
          "output_type": "stream",
          "text": [
            "Model: \"sequential_40\"\n",
            "_________________________________________________________________\n",
            "Layer (type)                 Output Shape              Param #   \n",
            "=================================================================\n",
            "embedding_40 (Embedding)     (None, None, 16)          160000    \n",
            "_________________________________________________________________\n",
            "conv1d_26 (Conv1D)           (None, None, 16)          1808      \n",
            "_________________________________________________________________\n",
            "max_pooling1d_14 (MaxPooling (None, None, 16)          0         \n",
            "_________________________________________________________________\n",
            "conv1d_27 (Conv1D)           (None, None, 16)          1808      \n",
            "_________________________________________________________________\n",
            "global_max_pooling1d_18 (Glo (None, 16)                0         \n",
            "_________________________________________________________________\n",
            "dense_81 (Dense)             (None, 8)                 136       \n",
            "_________________________________________________________________\n",
            "dense_82 (Dense)             (None, 1)                 9         \n",
            "=================================================================\n",
            "Total params: 163,761\n",
            "Trainable params: 163,761\n",
            "Non-trainable params: 0\n",
            "_________________________________________________________________\n"
          ]
        }
      ],
      "source": [
        "vocab_size = 10000  # 어휘 사전의 크기입니다(10개의 단어)\n",
        "word_vector_dim = 16   # 단어 하나를 표현하는 임베딩 벡터의 차원 수입니다. \n",
        "\n",
        "model2 = tf.keras.Sequential()\n",
        "model2.add(tf.keras.layers.Embedding(vocab_size, word_vector_dim, input_shape=(None,)))\n",
        "model2.add(tf.keras.layers.Conv1D(16, 7, activation='relu'))\n",
        "model2.add(tf.keras.layers.MaxPooling1D(5))\n",
        "model2.add(tf.keras.layers.Conv1D(16, 7, activation='relu'))\n",
        "model2.add(tf.keras.layers.GlobalMaxPooling1D())\n",
        "model2.add(tf.keras.layers.Dense(8, activation='relu'))\n",
        "model2.add(tf.keras.layers.Dense(1, activation='sigmoid'))  # 최종 출력은 긍정/부정을 나타내는 1dim 입니다.\n",
        "\n",
        "model2.summary()"
      ]
    },
    {
      "cell_type": "code",
      "execution_count": null,
      "id": "eec063df",
      "metadata": {
        "id": "eec063df",
        "outputId": "0d757a59-f444-4f61-df52-4e2e15577466"
      },
      "outputs": [
        {
          "name": "stdout",
          "output_type": "stream",
          "text": [
            "Epoch 1/15\n",
            "188/188 [==============================] - 2s 7ms/step - loss: 0.6921 - accuracy: 0.5389 - val_loss: 0.6901 - val_accuracy: 0.5821\n",
            "Epoch 2/15\n",
            "188/188 [==============================] - 1s 6ms/step - loss: 0.6794 - accuracy: 0.6565 - val_loss: 0.6574 - val_accuracy: 0.7340\n",
            "Epoch 3/15\n",
            "188/188 [==============================] - 1s 5ms/step - loss: 0.5969 - accuracy: 0.7660 - val_loss: 0.5260 - val_accuracy: 0.7957\n",
            "Epoch 4/15\n",
            "188/188 [==============================] - 1s 5ms/step - loss: 0.4669 - accuracy: 0.8110 - val_loss: 0.4283 - val_accuracy: 0.8195\n",
            "Epoch 5/15\n",
            "188/188 [==============================] - 1s 6ms/step - loss: 0.3987 - accuracy: 0.8316 - val_loss: 0.3902 - val_accuracy: 0.8317\n",
            "Epoch 6/15\n",
            "188/188 [==============================] - 1s 5ms/step - loss: 0.3668 - accuracy: 0.8444 - val_loss: 0.3731 - val_accuracy: 0.8376\n",
            "Epoch 7/15\n",
            "188/188 [==============================] - 1s 5ms/step - loss: 0.3475 - accuracy: 0.8524 - val_loss: 0.3643 - val_accuracy: 0.8419\n",
            "Epoch 8/15\n",
            "188/188 [==============================] - 1s 6ms/step - loss: 0.3343 - accuracy: 0.8598 - val_loss: 0.3592 - val_accuracy: 0.8430\n",
            "Epoch 9/15\n",
            "188/188 [==============================] - 1s 6ms/step - loss: 0.3246 - accuracy: 0.8642 - val_loss: 0.3562 - val_accuracy: 0.8450\n",
            "Epoch 10/15\n",
            "188/188 [==============================] - 1s 6ms/step - loss: 0.3161 - accuracy: 0.8680 - val_loss: 0.3547 - val_accuracy: 0.8461\n",
            "Epoch 11/15\n",
            "188/188 [==============================] - 1s 6ms/step - loss: 0.3092 - accuracy: 0.8714 - val_loss: 0.3535 - val_accuracy: 0.8466\n",
            "Epoch 12/15\n",
            "188/188 [==============================] - 1s 6ms/step - loss: 0.3031 - accuracy: 0.8744 - val_loss: 0.3532 - val_accuracy: 0.8470\n",
            "Epoch 13/15\n",
            "188/188 [==============================] - 1s 6ms/step - loss: 0.2977 - accuracy: 0.8767 - val_loss: 0.3532 - val_accuracy: 0.8471\n",
            "Epoch 14/15\n",
            "188/188 [==============================] - 1s 6ms/step - loss: 0.2926 - accuracy: 0.8794 - val_loss: 0.3536 - val_accuracy: 0.8468\n",
            "Epoch 15/15\n",
            "188/188 [==============================] - 1s 6ms/step - loss: 0.2879 - accuracy: 0.8820 - val_loss: 0.3548 - val_accuracy: 0.8472\n"
          ]
        }
      ],
      "source": [
        "adam = tf.keras.optimizers.Adam(learning_rate=0.0001, beta_1=0.9, beta_2=0.999, epsilon=None, decay=0.0, amsgrad=False)\n",
        "\n",
        "model2.compile(optimizer=adam,\n",
        "              loss='binary_crossentropy',\n",
        "              metrics=['accuracy'])\n",
        "              \n",
        "epochs=15  # 몇 epoch를 훈련하면 좋을지 결과를 보면서 바꾸어 봅시다. \n",
        "\n",
        "history2 = model2.fit(partial_X_train,\n",
        "                    partial_y_train,\n",
        "                    epochs=epochs,\n",
        "                    batch_size=512,\n",
        "                    validation_data=(X_val, y_val),\n",
        "                    verbose=1)"
      ]
    },
    {
      "cell_type": "code",
      "execution_count": null,
      "id": "39debb67",
      "metadata": {
        "id": "39debb67",
        "outputId": "6afec310-d9aa-4a3e-d4c7-a685d83823cf"
      },
      "outputs": [
        {
          "name": "stdout",
          "output_type": "stream",
          "text": [
            "1537/1537 - 2s - loss: 0.3681 - accuracy: 0.8416\n",
            "[0.36807698011398315, 0.8416298627853394]\n"
          ]
        }
      ],
      "source": [
        "results2 = model2.evaluate(X_test,  y_test, verbose=2)\n",
        "\n",
        "print(results2)"
      ]
    },
    {
      "cell_type": "code",
      "execution_count": null,
      "id": "048da13e",
      "metadata": {
        "id": "048da13e",
        "outputId": "d39e9ba8-f9c4-4a0b-d39e-c2afcd939edf"
      },
      "outputs": [
        {
          "name": "stdout",
          "output_type": "stream",
          "text": [
            "dict_keys(['loss', 'accuracy', 'val_loss', 'val_accuracy'])\n"
          ]
        }
      ],
      "source": [
        "history_dict2 = history2.history\n",
        "print(history_dict2.keys()) # epoch에 따른 그래프를 그려볼 수 있는 항목들"
      ]
    },
    {
      "cell_type": "code",
      "execution_count": null,
      "id": "76abbbc1",
      "metadata": {
        "id": "76abbbc1",
        "outputId": "e48ebb5b-d49c-4a45-ea95-f48863d0efb1"
      },
      "outputs": [
        {
          "data": {
            "image/png": "[encoded data removed]",
            "text/plain": [
              "<Figure size 432x288 with 1 Axes>"
            ]
          },
          "metadata": {
            "needs_background": "light"
          },
          "output_type": "display_data"
        }
      ],
      "source": [
        "import matplotlib.pyplot as plt\n",
        "\n",
        "acc = history_dict2['accuracy']\n",
        "val_acc = history_dict2['val_accuracy']\n",
        "loss = history_dict2['loss']\n",
        "val_loss = history_dict2['val_loss']\n",
        "\n",
        "epochs = range(1, len(acc) + 1)\n",
        "\n",
        "# \"bo\"는 \"파란색 점\"입니다\n",
        "plt.plot(epochs, loss, 'bo', label='Training loss')\n",
        "# b는 \"파란 실선\"입니다\n",
        "plt.plot(epochs, val_loss, 'b', label='Validation loss')\n",
        "plt.title('Training and validation loss of Conv1D')\n",
        "plt.xlabel('Epochs')\n",
        "plt.ylabel('Loss')\n",
        "plt.legend()\n",
        "\n",
        "plt.show()"
      ]
    },
    {
      "cell_type": "code",
      "execution_count": null,
      "id": "74977e99",
      "metadata": {
        "id": "74977e99",
        "outputId": "3c6e4a93-4efa-4fa4-919e-5cbfefd065c2"
      },
      "outputs": [
        {
          "data": {
            "image/png": "[encoded data removed]",
            "text/plain": [
              "<Figure size 432x288 with 1 Axes>"
            ]
          },
          "metadata": {
            "needs_background": "light"
          },
          "output_type": "display_data"
        }
      ],
      "source": [
        "plt.clf()   # 그림을 초기화합니다\n",
        "\n",
        "plt.plot(epochs, acc, 'bo', label='Training acc')\n",
        "plt.plot(epochs, val_acc, 'b', label='Validation acc')\n",
        "plt.title('Training and validation accuracy of Conv1D')\n",
        "plt.xlabel('Epochs')\n",
        "plt.ylabel('Accuracy')\n",
        "plt.legend()\n",
        "\n",
        "plt.show()"
      ]
    },
    {
      "cell_type": "markdown",
      "id": "55d5b9c3",
      "metadata": {
        "id": "55d5b9c3"
      },
      "source": [
        "- learning rate를 변경하면서 학습을 하여 과적합을 방지하였으나 accuracy가 0.84로 0.85를 못미치고 수렴함. "
      ]
    },
    {
      "cell_type": "markdown",
      "id": "765eab2a",
      "metadata": {
        "id": "765eab2a"
      },
      "source": [
        "## 5-3 Model #3 - GlobalMaxPooling"
      ]
    },
    {
      "cell_type": "code",
      "execution_count": null,
      "id": "14103603",
      "metadata": {
        "id": "14103603",
        "outputId": "564ed9f6-1750-46e3-e1f4-6f29c55fd486"
      },
      "outputs": [
        {
          "name": "stdout",
          "output_type": "stream",
          "text": [
            "Model: \"sequential_20\"\n",
            "_________________________________________________________________\n",
            "Layer (type)                 Output Shape              Param #   \n",
            "=================================================================\n",
            "embedding_20 (Embedding)     (None, None, 16)          160000    \n",
            "_________________________________________________________________\n",
            "global_max_pooling1d_11 (Glo (None, 16)                0         \n",
            "_________________________________________________________________\n",
            "dense_41 (Dense)             (None, 8)                 136       \n",
            "_________________________________________________________________\n",
            "dense_42 (Dense)             (None, 1)                 9         \n",
            "=================================================================\n",
            "Total params: 160,145\n",
            "Trainable params: 160,145\n",
            "Non-trainable params: 0\n",
            "_________________________________________________________________\n"
          ]
        }
      ],
      "source": [
        "vocab_size = 10000    # 어휘 사전의 크기입니다(10,000개의 단어)\n",
        "word_vector_dim = 16  # 워드 벡터의 차원 수 (변경 가능한 하이퍼파라미터)\n",
        "\n",
        "# model3 설계 - 딥러닝 모델 코드를 직접 작성해 주세요.\n",
        "model3 = tf.keras.Sequential()\n",
        "model3.add(tf.keras.layers.Embedding(vocab_size, word_vector_dim, input_shape=(None,)))\n",
        "model3.add(tf.keras.layers.GlobalMaxPooling1D())\n",
        "model3.add(tf.keras.layers.Dense(8, activation='relu'))\n",
        "model3.add(tf.keras.layers.Dense(1, activation='sigmoid'))  # 최종 출력은 긍정/부정을 나타내는 1dim 입니다.\n",
        "\n",
        "model3.summary()"
      ]
    },
    {
      "cell_type": "code",
      "execution_count": null,
      "id": "3bd0c837",
      "metadata": {
        "id": "3bd0c837",
        "outputId": "0d757a59-f444-4f61-df52-4e2e15577466"
      },
      "outputs": [
        {
          "name": "stdout",
          "output_type": "stream",
          "text": [
            "Epoch 1/40\n",
            "188/188 [==============================] - 1s 5ms/step - loss: 0.6917 - accuracy: 0.5239 - val_loss: 0.6895 - val_accuracy: 0.5957\n",
            "Epoch 2/40\n",
            "188/188 [==============================] - 1s 4ms/step - loss: 0.6865 - accuracy: 0.6904 - val_loss: 0.6832 - val_accuracy: 0.7352\n",
            "Epoch 3/40\n",
            "188/188 [==============================] - 1s 4ms/step - loss: 0.6783 - accuracy: 0.7515 - val_loss: 0.6733 - val_accuracy: 0.7510\n",
            "Epoch 4/40\n",
            "188/188 [==============================] - 1s 4ms/step - loss: 0.6653 - accuracy: 0.7697 - val_loss: 0.6572 - val_accuracy: 0.7751\n",
            "Epoch 5/40\n",
            "188/188 [==============================] - 1s 4ms/step - loss: 0.6466 - accuracy: 0.7879 - val_loss: 0.6374 - val_accuracy: 0.7843\n",
            "Epoch 6/40\n",
            "188/188 [==============================] - 1s 4ms/step - loss: 0.6250 - accuracy: 0.7964 - val_loss: 0.6151 - val_accuracy: 0.7907\n",
            "Epoch 7/40\n",
            "188/188 [==============================] - 1s 4ms/step - loss: 0.6010 - accuracy: 0.8033 - val_loss: 0.5908 - val_accuracy: 0.7978\n",
            "Epoch 8/40\n",
            "188/188 [==============================] - 1s 4ms/step - loss: 0.5752 - accuracy: 0.8090 - val_loss: 0.5654 - val_accuracy: 0.8018\n",
            "Epoch 9/40\n",
            "188/188 [==============================] - 1s 4ms/step - loss: 0.5490 - accuracy: 0.8145 - val_loss: 0.5404 - val_accuracy: 0.8066\n",
            "Epoch 10/40\n",
            "188/188 [==============================] - 1s 4ms/step - loss: 0.5235 - accuracy: 0.8193 - val_loss: 0.5166 - val_accuracy: 0.8107\n",
            "Epoch 11/40\n",
            "188/188 [==============================] - 1s 4ms/step - loss: 0.4996 - accuracy: 0.8232 - val_loss: 0.4949 - val_accuracy: 0.8142\n",
            "Epoch 12/40\n",
            "188/188 [==============================] - 1s 4ms/step - loss: 0.4778 - accuracy: 0.8272 - val_loss: 0.4754 - val_accuracy: 0.8171\n",
            "Epoch 13/40\n",
            "188/188 [==============================] - 1s 4ms/step - loss: 0.4582 - accuracy: 0.8310 - val_loss: 0.4584 - val_accuracy: 0.8196\n",
            "Epoch 14/40\n",
            "188/188 [==============================] - 1s 4ms/step - loss: 0.4410 - accuracy: 0.8339 - val_loss: 0.4438 - val_accuracy: 0.8219\n",
            "Epoch 15/40\n",
            "188/188 [==============================] - 1s 4ms/step - loss: 0.4260 - accuracy: 0.8366 - val_loss: 0.4313 - val_accuracy: 0.8240\n",
            "Epoch 16/40\n",
            "188/188 [==============================] - 1s 4ms/step - loss: 0.4129 - accuracy: 0.8394 - val_loss: 0.4207 - val_accuracy: 0.8257\n",
            "Epoch 17/40\n",
            "188/188 [==============================] - 1s 4ms/step - loss: 0.4013 - accuracy: 0.8418 - val_loss: 0.4111 - val_accuracy: 0.8272\n",
            "Epoch 18/40\n",
            "188/188 [==============================] - 1s 4ms/step - loss: 0.3901 - accuracy: 0.8439 - val_loss: 0.4025 - val_accuracy: 0.8282\n",
            "Epoch 19/40\n",
            "188/188 [==============================] - 1s 4ms/step - loss: 0.3805 - accuracy: 0.8460 - val_loss: 0.3957 - val_accuracy: 0.8296\n",
            "Epoch 20/40\n",
            "188/188 [==============================] - 1s 4ms/step - loss: 0.3724 - accuracy: 0.8478 - val_loss: 0.3900 - val_accuracy: 0.8306\n",
            "Epoch 21/40\n",
            "188/188 [==============================] - 1s 4ms/step - loss: 0.3652 - accuracy: 0.8502 - val_loss: 0.3853 - val_accuracy: 0.8315\n",
            "Epoch 22/40\n",
            "188/188 [==============================] - 1s 4ms/step - loss: 0.3588 - accuracy: 0.8520 - val_loss: 0.3813 - val_accuracy: 0.8325\n",
            "Epoch 23/40\n",
            "188/188 [==============================] - 1s 4ms/step - loss: 0.3531 - accuracy: 0.8541 - val_loss: 0.3779 - val_accuracy: 0.8335\n",
            "Epoch 24/40\n",
            "188/188 [==============================] - 1s 4ms/step - loss: 0.3478 - accuracy: 0.8560 - val_loss: 0.3749 - val_accuracy: 0.8343\n",
            "Epoch 25/40\n",
            "188/188 [==============================] - 1s 4ms/step - loss: 0.3429 - accuracy: 0.8576 - val_loss: 0.3723 - val_accuracy: 0.8347\n",
            "Epoch 26/40\n",
            "188/188 [==============================] - 1s 4ms/step - loss: 0.3384 - accuracy: 0.8595 - val_loss: 0.3701 - val_accuracy: 0.8357\n",
            "Epoch 27/40\n",
            "188/188 [==============================] - 1s 4ms/step - loss: 0.3342 - accuracy: 0.8615 - val_loss: 0.3682 - val_accuracy: 0.8365\n",
            "Epoch 28/40\n",
            "188/188 [==============================] - 1s 4ms/step - loss: 0.3302 - accuracy: 0.8631 - val_loss: 0.3665 - val_accuracy: 0.8375\n",
            "Epoch 29/40\n",
            "188/188 [==============================] - 1s 4ms/step - loss: 0.3264 - accuracy: 0.8648 - val_loss: 0.3650 - val_accuracy: 0.8378\n",
            "Epoch 30/40\n",
            "188/188 [==============================] - 1s 4ms/step - loss: 0.3228 - accuracy: 0.8664 - val_loss: 0.3637 - val_accuracy: 0.8385\n",
            "Epoch 31/40\n",
            "188/188 [==============================] - 1s 4ms/step - loss: 0.3194 - accuracy: 0.8680 - val_loss: 0.3626 - val_accuracy: 0.8395\n",
            "Epoch 32/40\n",
            "188/188 [==============================] - 1s 4ms/step - loss: 0.3161 - accuracy: 0.8691 - val_loss: 0.3616 - val_accuracy: 0.8398\n",
            "Epoch 33/40\n",
            "188/188 [==============================] - 1s 4ms/step - loss: 0.3129 - accuracy: 0.8703 - val_loss: 0.3608 - val_accuracy: 0.8406\n",
            "Epoch 34/40\n",
            "188/188 [==============================] - 1s 4ms/step - loss: 0.3098 - accuracy: 0.8720 - val_loss: 0.3601 - val_accuracy: 0.8411\n",
            "Epoch 35/40\n",
            "188/188 [==============================] - 1s 4ms/step - loss: 0.3069 - accuracy: 0.8730 - val_loss: 0.3595 - val_accuracy: 0.8410\n",
            "Epoch 36/40\n",
            "188/188 [==============================] - 1s 4ms/step - loss: 0.3040 - accuracy: 0.8742 - val_loss: 0.3590 - val_accuracy: 0.8416\n",
            "Epoch 37/40\n",
            "188/188 [==============================] - 1s 4ms/step - loss: 0.3013 - accuracy: 0.8754 - val_loss: 0.3586 - val_accuracy: 0.8419\n",
            "Epoch 38/40\n",
            "188/188 [==============================] - 1s 4ms/step - loss: 0.2986 - accuracy: 0.8763 - val_loss: 0.3583 - val_accuracy: 0.8423\n",
            "Epoch 39/40\n",
            "188/188 [==============================] - 1s 4ms/step - loss: 0.2960 - accuracy: 0.8777 - val_loss: 0.3581 - val_accuracy: 0.8426\n",
            "Epoch 40/40\n",
            "188/188 [==============================] - 1s 4ms/step - loss: 0.2934 - accuracy: 0.8787 - val_loss: 0.3580 - val_accuracy: 0.8430\n"
          ]
        }
      ],
      "source": [
        "adam = tf.keras.optimizers.Adam(learning_rate=0.0001, beta_1=0.9, beta_2=0.999, epsilon=None, decay=0.0, amsgrad=False)\n",
        "\n",
        "model3.compile(optimizer=adam,\n",
        "              loss='binary_crossentropy',\n",
        "              metrics=['accuracy'])\n",
        "              \n",
        "epochs=40  # 몇 epoch를 훈련하면 좋을지 결과를 보면서 바꾸어 봅시다. \n",
        "\n",
        "history3 = model3.fit(partial_X_train,\n",
        "                    partial_y_train,\n",
        "                    epochs=epochs,\n",
        "                    batch_size=512,\n",
        "                    validation_data=(X_val, y_val),\n",
        "                    verbose=1)"
      ]
    },
    {
      "cell_type": "code",
      "execution_count": null,
      "id": "e494049d",
      "metadata": {
        "id": "e494049d",
        "outputId": "6afec310-d9aa-4a3e-d4c7-a685d83823cf"
      },
      "outputs": [
        {
          "name": "stdout",
          "output_type": "stream",
          "text": [
            "1537/1537 - 2s - loss: 0.3659 - accuracy: 0.8396\n",
            "[0.3659473657608032, 0.8396362662315369]\n"
          ]
        }
      ],
      "source": [
        "results3 = model3.evaluate(X_test,  y_test, verbose=2)\n",
        "\n",
        "print(results3)"
      ]
    },
    {
      "cell_type": "code",
      "execution_count": null,
      "id": "435cac43",
      "metadata": {
        "id": "435cac43",
        "outputId": "d39e9ba8-f9c4-4a0b-d39e-c2afcd939edf"
      },
      "outputs": [
        {
          "name": "stdout",
          "output_type": "stream",
          "text": [
            "dict_keys(['loss', 'accuracy', 'val_loss', 'val_accuracy'])\n"
          ]
        }
      ],
      "source": [
        "history_dict3 = history3.history\n",
        "print(history_dict1.keys()) # epoch에 따른 그래프를 그려볼 수 있는 항목들"
      ]
    },
    {
      "cell_type": "code",
      "execution_count": null,
      "id": "5360651f",
      "metadata": {
        "id": "5360651f",
        "outputId": "e48ebb5b-d49c-4a45-ea95-f48863d0efb1"
      },
      "outputs": [
        {
          "data": {
            "image/png": "[encoded data removed]",
            "text/plain": [
              "<Figure size 432x288 with 1 Axes>"
            ]
          },
          "metadata": {
            "needs_background": "light"
          },
          "output_type": "display_data"
        }
      ],
      "source": [
        "import matplotlib.pyplot as plt\n",
        "\n",
        "acc = history_dict3['accuracy']\n",
        "val_acc = history_dict3['val_accuracy']\n",
        "loss = history_dict3['loss']\n",
        "val_loss = history_dict3['val_loss']\n",
        "\n",
        "epochs = range(1, len(acc) + 1)\n",
        "\n",
        "# \"bo\"는 \"파란색 점\"입니다\n",
        "plt.plot(epochs, loss, 'bo', label='Training loss')\n",
        "# b는 \"파란 실선\"입니다\n",
        "plt.plot(epochs, val_loss, 'b', label='Validation loss' )\n",
        "plt.title('Training and validation loss of GlobalMaxPooling')\n",
        "plt.xlabel('Epochs')\n",
        "plt.ylabel('Loss')\n",
        "plt.legend()\n",
        "\n",
        "plt.show()"
      ]
    },
    {
      "cell_type": "code",
      "execution_count": null,
      "id": "8ebe452b",
      "metadata": {
        "id": "8ebe452b",
        "outputId": "3c6e4a93-4efa-4fa4-919e-5cbfefd065c2"
      },
      "outputs": [
        {
          "data": {
            "image/png": "[encoded data removed]",
            "text/plain": [
              "<Figure size 432x288 with 1 Axes>"
            ]
          },
          "metadata": {
            "needs_background": "light"
          },
          "output_type": "display_data"
        }
      ],
      "source": [
        "plt.clf()   # 그림을 초기화합니다\n",
        "\n",
        "plt.plot(epochs, acc, 'bo', label='Training acc')\n",
        "plt.plot(epochs, val_acc, 'b', label='Validation acc')\n",
        "plt.title('Training and validation accuracy of  GlobalMaxPooling')\n",
        "plt.xlabel('Epochs')\n",
        "plt.ylabel('Accuracy')\n",
        "plt.legend()\n",
        "\n",
        "plt.show()"
      ]
    },
    {
      "cell_type": "markdown",
      "id": "b62ad4e6",
      "metadata": {
        "id": "b62ad4e6"
      },
      "source": [
        "- learning rate를 변경하면서 학습을 하여서 과적합을 방지하였으나 accuracy가 0.84으로 0.85를 넘기지 못하고 수렴함. \n",
        "- 다른 모델과 다르게 학습이 진행됨에 따라 아주 조금씩 accuracy 값이 증가하였으나 너무 미미함."
      ]
    },
    {
      "cell_type": "markdown",
      "id": "7dbeb16f",
      "metadata": {
        "id": "7dbeb16f"
      },
      "source": [
        "# 6 Apply word2vec"
      ]
    },
    {
      "cell_type": "markdown",
      "id": "9848eef3",
      "metadata": {
        "id": "9848eef3"
      },
      "source": [
        "## 6-1 Model #1 - LSTM"
      ]
    },
    {
      "cell_type": "code",
      "execution_count": null,
      "id": "a59744ca",
      "metadata": {
        "id": "a59744ca",
        "outputId": "d73bc016-1d28-4e34-c0d0-8299b6a520f7"
      },
      "outputs": [
        {
          "name": "stdout",
          "output_type": "stream",
          "text": [
            "(10000, 16)\n"
          ]
        }
      ],
      "source": [
        "embedding_layer = model1.layers[0]\n",
        "weights = embedding_layer.get_weights()[0]\n",
        "print(weights.shape)    # shape: (vocab_size, embedding_dim)"
      ]
    },
    {
      "cell_type": "code",
      "execution_count": null,
      "id": "e163197d",
      "metadata": {
        "id": "e163197d"
      },
      "outputs": [],
      "source": [
        "# 학습한 Embedding 파라미터를 파일에 써서 저장합니다. \n",
        "word2vec_file_path = os.getenv('HOME')+'/aiffel/sentiment_classification/data/word2vec.txt'\n",
        "f = open(word2vec_file_path, 'w')\n",
        "f.write('{} {}\\n'.format(vocab_size-4, word_vector_dim))  # 몇개의 벡터를 얼마 사이즈로 기재할지 타이틀을 씁니다.\n",
        "\n",
        "# 단어 개수(에서 특수문자 4개는 제외하고)만큼의 워드 벡터를 파일에 기록합니다. \n",
        "vectors = model1.get_weights()[0]\n",
        "for i in range(4,vocab_size):\n",
        "    f.write('{} {}\\n'.format(index_to_word[i], ' '.join(map(str, list(vectors[i, :])))))\n",
        "f.close()"
      ]
    },
    {
      "cell_type": "code",
      "execution_count": null,
      "id": "25d4a0d0",
      "metadata": {
        "id": "25d4a0d0",
        "outputId": "70b28f71-26c7-4698-a398-d13bba8caa6f"
      },
      "outputs": [
        {
          "data": {
            "text/plain": [
              "array([-0.01853147, -0.04775202, -0.0170002 , -0.06178223, -0.05722797,\n",
              "       -0.0274931 ,  0.05500198,  0.01069494,  0.02993739, -0.03604026,\n",
              "        0.06194439,  0.01824616,  0.03728649, -0.0581596 , -0.08203577,\n",
              "        0.00696354], dtype=float32)"
            ]
          },
          "execution_count": 245,
          "metadata": {},
          "output_type": "execute_result"
        }
      ],
      "source": [
        "from gensim.models.keyedvectors import Word2VecKeyedVectors\n",
        "\n",
        "word_vectors = Word2VecKeyedVectors.load_word2vec_format(word2vec_file_path, binary=False)\n",
        "vector = word_vectors['사랑']\n",
        "vector"
      ]
    },
    {
      "cell_type": "code",
      "execution_count": null,
      "id": "4af6b64c",
      "metadata": {
        "id": "4af6b64c",
        "outputId": "c568d4f5-a30b-455d-cb86-622d91b87841"
      },
      "outputs": [
        {
          "data": {
            "text/plain": [
              "[('+_+', 0.8416579961776733),\n",
              " ('♥', 0.834623396396637),\n",
              " ('~~~^^', 0.8291171193122864),\n",
              " ('ㅠㅠㅠㅠ', 0.8159509897232056),\n",
              " ('레전드', 0.8112607002258301),\n",
              " ('and', 0.8074216246604919),\n",
              " ('풀어낸', 0.7994033098220825),\n",
              " ('꿀', 0.7982859015464783),\n",
              " ('조지클루니', 0.7889705896377563),\n",
              " ('이럼', 0.787347137928009)]"
            ]
          },
          "execution_count": 248,
          "metadata": {},
          "output_type": "execute_result"
        }
      ],
      "source": [
        "word_vectors.similar_by_word(\"사랑\")"
      ]
    },
    {
      "cell_type": "markdown",
      "id": "c30465fc",
      "metadata": {
        "id": "c30465fc"
      },
      "source": [
        "## 6-2 Model #2 - Conv1D"
      ]
    },
    {
      "cell_type": "code",
      "execution_count": null,
      "id": "c2bf59d4",
      "metadata": {
        "id": "c2bf59d4",
        "outputId": "d73bc016-1d28-4e34-c0d0-8299b6a520f7"
      },
      "outputs": [
        {
          "name": "stdout",
          "output_type": "stream",
          "text": [
            "(10000, 16)\n"
          ]
        }
      ],
      "source": [
        "embedding_layer = model2.layers[0]\n",
        "weights = embedding_layer.get_weights()[0]\n",
        "print(weights.shape)    # shape: (vocab_size, embedding_dim)"
      ]
    },
    {
      "cell_type": "code",
      "execution_count": null,
      "id": "fd5d53ce",
      "metadata": {
        "id": "fd5d53ce"
      },
      "outputs": [],
      "source": [
        "# 학습한 Embedding 파라미터를 파일에 써서 저장합니다. \n",
        "word2vec_file_path = os.getenv('HOME')+'/aiffel/sentiment_classification/data/word2vec.txt'\n",
        "f = open(word2vec_file_path, 'w')\n",
        "f.write('{} {}\\n'.format(vocab_size-4, word_vector_dim))  # 몇개의 벡터를 얼마 사이즈로 기재할지 타이틀을 씁니다.\n",
        "\n",
        "# 단어 개수(에서 특수문자 4개는 제외하고)만큼의 워드 벡터를 파일에 기록합니다. \n",
        "vectors = model2.get_weights()[0]\n",
        "for i in range(4,vocab_size):\n",
        "    f.write('{} {}\\n'.format(index_to_word[i], ' '.join(map(str, list(vectors[i, :])))))\n",
        "f.close()"
      ]
    },
    {
      "cell_type": "code",
      "execution_count": null,
      "id": "b0c59873",
      "metadata": {
        "id": "b0c59873",
        "outputId": "70b28f71-26c7-4698-a398-d13bba8caa6f"
      },
      "outputs": [
        {
          "data": {
            "text/plain": [
              "array([ 0.03860593,  0.10255454, -0.06752539,  0.00237153, -0.10219191,\n",
              "        0.02654306,  0.02306216,  0.09206163,  0.00111349,  0.01726603,\n",
              "        0.02664051, -0.07563262,  0.01546772,  0.05534345, -0.04188529,\n",
              "       -0.0454713 ], dtype=float32)"
            ]
          },
          "execution_count": 251,
          "metadata": {},
          "output_type": "execute_result"
        }
      ],
      "source": [
        "from gensim.models.keyedvectors import Word2VecKeyedVectors\n",
        "\n",
        "word_vectors = Word2VecKeyedVectors.load_word2vec_format(word2vec_file_path, binary=False)\n",
        "vector = word_vectors['사랑']\n",
        "vector"
      ]
    },
    {
      "cell_type": "code",
      "execution_count": null,
      "id": "169f3038",
      "metadata": {
        "id": "169f3038",
        "outputId": "c568d4f5-a30b-455d-cb86-622d91b87841"
      },
      "outputs": [
        {
          "data": {
            "text/plain": [
              "[('한층', 0.9175457954406738),\n",
              " ('토마스', 0.9146274924278259),\n",
              " ('가슴', 0.8799096345901489),\n",
              " ('바탕', 0.8476906418800354),\n",
              " ('주도', 0.8361486196517944),\n",
              " ('괜찮', 0.8321218490600586),\n",
              " ('찔끔', 0.8271863460540771),\n",
              " ('할게요', 0.8264355659484863),\n",
              " ('찰리채플린', 0.8191215395927429),\n",
              " ('삽입곡', 0.8184922337532043)]"
            ]
          },
          "execution_count": 252,
          "metadata": {},
          "output_type": "execute_result"
        }
      ],
      "source": [
        "word_vectors.similar_by_word(\"사랑\")"
      ]
    },
    {
      "cell_type": "markdown",
      "id": "a2c6bea1",
      "metadata": {
        "id": "a2c6bea1"
      },
      "source": [
        "## 6-3 Model #3 - GlobalMaxPooling"
      ]
    },
    {
      "cell_type": "code",
      "execution_count": null,
      "id": "51267f72",
      "metadata": {
        "id": "51267f72",
        "outputId": "d73bc016-1d28-4e34-c0d0-8299b6a520f7"
      },
      "outputs": [
        {
          "name": "stdout",
          "output_type": "stream",
          "text": [
            "(10000, 16)\n"
          ]
        }
      ],
      "source": [
        "embedding_layer = model3.layers[0]\n",
        "weights = embedding_layer.get_weights()[0]\n",
        "print(weights.shape)    # shape: (vocab_size, embedding_dim)"
      ]
    },
    {
      "cell_type": "code",
      "execution_count": null,
      "id": "1ab9855c",
      "metadata": {
        "id": "1ab9855c"
      },
      "outputs": [],
      "source": [
        "# 학습한 Embedding 파라미터를 파일에 써서 저장합니다. \n",
        "word2vec_file_path = os.getenv('HOME')+'/aiffel/sentiment_classification/data/word2vec.txt'\n",
        "f = open(word2vec_file_path, 'w')\n",
        "f.write('{} {}\\n'.format(vocab_size-4, word_vector_dim))  # 몇개의 벡터를 얼마 사이즈로 기재할지 타이틀을 씁니다.\n",
        "\n",
        "# 단어 개수(에서 특수문자 4개는 제외하고)만큼의 워드 벡터를 파일에 기록합니다. \n",
        "vectors = model3.get_weights()[0]\n",
        "for i in range(4,vocab_size):\n",
        "    f.write('{} {}\\n'.format(index_to_word[i], ' '.join(map(str, list(vectors[i, :])))))\n",
        "f.close()"
      ]
    },
    {
      "cell_type": "code",
      "execution_count": null,
      "id": "92ca4180",
      "metadata": {
        "id": "92ca4180",
        "outputId": "70b28f71-26c7-4698-a398-d13bba8caa6f"
      },
      "outputs": [
        {
          "data": {
            "text/plain": [
              "array([-0.10279344, -0.08083493, -0.1001664 , -0.06199542,  0.16362794,\n",
              "        0.17985938, -0.10149472, -0.08822759, -0.06724613, -0.05730183,\n",
              "       -0.07233708,  0.23360653, -0.07610017,  0.04680521,  0.02978873,\n",
              "       -0.02427046], dtype=float32)"
            ]
          },
          "execution_count": 255,
          "metadata": {},
          "output_type": "execute_result"
        }
      ],
      "source": [
        "from gensim.models.keyedvectors import Word2VecKeyedVectors\n",
        "\n",
        "word_vectors = Word2VecKeyedVectors.load_word2vec_format(word2vec_file_path, binary=False)\n",
        "vector = word_vectors['사랑']\n",
        "vector"
      ]
    },
    {
      "cell_type": "code",
      "execution_count": null,
      "id": "a271879b",
      "metadata": {
        "id": "a271879b",
        "outputId": "c568d4f5-a30b-455d-cb86-622d91b87841"
      },
      "outputs": [
        {
          "data": {
            "text/plain": [
              "[('김동완', 0.9434136748313904),\n",
              " ('드라마틱', 0.928017258644104),\n",
              " ('짐', 0.9236149191856384),\n",
              " ('자격', 0.9213548302650452),\n",
              " ('하나하나', 0.9152548909187317),\n",
              " ('~~!!!', 0.8976755142211914),\n",
              " ('살아오', 0.8948375582695007),\n",
              " ('중독', 0.8925775289535522),\n",
              " ('ost', 0.8896813988685608),\n",
              " ('재미나', 0.888985812664032)]"
            ]
          },
          "execution_count": 256,
          "metadata": {},
          "output_type": "execute_result"
        }
      ],
      "source": [
        "word_vectors.similar_by_word(\"사랑\")"
      ]
    },
    {
      "cell_type": "markdown",
      "id": "a634957f",
      "metadata": {
        "id": "a634957f"
      },
      "source": [
        "# 7 Use Word2Vec Model"
      ]
    },
    {
      "cell_type": "code",
      "execution_count": null,
      "id": "b979a40b",
      "metadata": {
        "id": "b979a40b"
      },
      "outputs": [],
      "source": [
        "# load word2vec\n",
        "from gensim.models import KeyedVectors\n",
        "from gensim.models.keyedvectors import Word2VecKeyedVectors\n",
        "\n",
        "word2vec_path = os.getenv('HOME')+'/aiffel/sentiment_classification/data/word2vec_ko.model'\n",
        "word_vectors = Word2VecKeyedVectors.load(word2vec_path)\n"
      ]
    },
    {
      "cell_type": "code",
      "execution_count": null,
      "id": "50952835",
      "metadata": {
        "id": "50952835",
        "outputId": "53c3a0c2-91c9-4014-a386-1514a82a5f57"
      },
      "outputs": [
        {
          "data": {
            "text/plain": [
              "(100,)"
            ]
          },
          "execution_count": 165,
          "metadata": {},
          "output_type": "execute_result"
        }
      ],
      "source": [
        "vector = word_vectors.wv['사랑']\n",
        "vector.shape"
      ]
    },
    {
      "cell_type": "code",
      "execution_count": null,
      "id": "7678c69e",
      "metadata": {
        "id": "7678c69e",
        "outputId": "efcb95e0-232d-4b8f-92aa-2bfdc34657b5"
      },
      "outputs": [
        {
          "data": {
            "text/plain": [
              "[('이별', 0.7626414895057678),\n",
              " ('행복', 0.7550068497657776),\n",
              " ('슬픔', 0.7381505966186523),\n",
              " ('유혹', 0.7238055467605591),\n",
              " ('그리움', 0.7167419195175171),\n",
              " ('추억', 0.7143999338150024),\n",
              " ('꿈', 0.7089294195175171),\n",
              " ('애정', 0.7066588997840881),\n",
              " ('포옹', 0.7034594416618347),\n",
              " ('마음', 0.6972615718841553)]"
            ]
          },
          "execution_count": 166,
          "metadata": {},
          "output_type": "execute_result"
        }
      ],
      "source": [
        "word_vectors.wv.most_similar(\"사랑\")"
      ]
    },
    {
      "cell_type": "code",
      "execution_count": null,
      "id": "56e1c596",
      "metadata": {
        "id": "56e1c596"
      },
      "outputs": [],
      "source": [
        "vocab_size = 10000    # 어휘 사전의 크기입니다(10,000개의 단어)\n",
        "word_vector_dim = 100  # 워드 벡터의 차원수\n",
        "embedding_matrix = np.random.rand(vocab_size, word_vector_dim)\n",
        "\n",
        "# embedding_matrix에 Word2Vec 워드 벡터를 단어 하나씩마다 차례차례 카피한다.\n",
        "for i in range(4,vocab_size):\n",
        "    if index_to_word[i] in word_vectors.wv:\n",
        "        embedding_matrix[i] = word_vectors.wv[index_to_word[i]]"
      ]
    },
    {
      "cell_type": "code",
      "execution_count": null,
      "id": "a5f943c8",
      "metadata": {
        "id": "a5f943c8",
        "outputId": "6ba7fa75-c530-4e5f-b9e2-baa68b43768b"
      },
      "outputs": [
        {
          "name": "stdout",
          "output_type": "stream",
          "text": [
            "Model: \"sequential_50\"\n",
            "_________________________________________________________________\n",
            "Layer (type)                 Output Shape              Param #   \n",
            "=================================================================\n",
            "embedding_50 (Embedding)     (None, 41, 100)           1000000   \n",
            "_________________________________________________________________\n",
            "lstm_31 (LSTM)               (None, 128)               117248    \n",
            "_________________________________________________________________\n",
            "dense_104 (Dense)            (None, 32)                4128      \n",
            "_________________________________________________________________\n",
            "dense_105 (Dense)            (None, 8)                 264       \n",
            "_________________________________________________________________\n",
            "dense_106 (Dense)            (None, 1)                 9         \n",
            "=================================================================\n",
            "Total params: 1,121,649\n",
            "Trainable params: 1,121,649\n",
            "Non-trainable params: 0\n",
            "_________________________________________________________________\n"
          ]
        }
      ],
      "source": [
        "from tensorflow.keras.initializers import Constant\n",
        "\n",
        "vocab_size = 10000    # 어휘 사전의 크기입니다(10,000개의 단어)\n",
        "word_vector_dim = 100  # 워드 벡터의 차원 수 \n",
        "\n",
        "# 모델 구성\n",
        "model4 = tf.keras.Sequential()\n",
        "model4.add(tf.keras.layers.Embedding(vocab_size, \n",
        "                                 word_vector_dim, \n",
        "                                 embeddings_initializer=Constant(embedding_matrix),  # 카피한 임베딩을 여기서 활용\n",
        "                                 input_length=maxlen, \n",
        "                                 trainable=True))\n",
        "model4.add(tf.keras.layers.LSTM(128))   # 가장 널리 쓰이는 RNN인 LSTM 레이어를 사용하였습니다. 이때 LSTM state 벡터의 차원수는 8로 하였습니다. (변경 가능)\n",
        "model4.add(tf.keras.layers.Dense(32, activation='relu'))\n",
        "model4.add(tf.keras.layers.Dense(8, activation='relu'))\n",
        "model4.add(tf.keras.layers.Dense(1, activation='sigmoid')) \n",
        "\n",
        "model4.summary()\n",
        "\n",
        "\n",
        "\n",
        "\n",
        "# model2 = tf.keras.Sequential()\n",
        "# model2.add(tf.keras.layers.Embedding(vocab_size, word_vector_dim, input_shape=(None,)))\n",
        "# model2.add(tf.keras.layers.Conv1D(16, 7, activation='relu'))\n",
        "# model2.add(tf.keras.layers.MaxPooling1D(5))\n",
        "# model2.add(tf.keras.layers.Conv1D(16, 7, activation='relu'))\n",
        "# model2.add(tf.keras.layers.GlobalMaxPooling1D())\n",
        "# model2.add(tf.keras.layers.Dense(8, activation='relu'))\n",
        "# model2.add(tf.keras.layers.Dense(1, activation='sigmoid'))  # 최종 출력은 긍정/부정을 나타내는 1dim 입니다.\n",
        "\n",
        "# model2.summary()"
      ]
    },
    {
      "cell_type": "code",
      "execution_count": null,
      "id": "13916846",
      "metadata": {
        "id": "13916846",
        "outputId": "89c45694-671a-481a-9b4b-0c2f35bf3216"
      },
      "outputs": [
        {
          "name": "stdout",
          "output_type": "stream",
          "text": [
            "Epoch 1/15\n",
            "188/188 [==============================] - 5s 14ms/step - loss: 0.5707 - accuracy: 0.7013 - val_loss: 0.4981 - val_accuracy: 0.7597\n",
            "Epoch 2/15\n",
            "188/188 [==============================] - 2s 12ms/step - loss: 0.4724 - accuracy: 0.7757 - val_loss: 0.4494 - val_accuracy: 0.7929\n",
            "Epoch 3/15\n",
            "188/188 [==============================] - 2s 12ms/step - loss: 0.4305 - accuracy: 0.8023 - val_loss: 0.4190 - val_accuracy: 0.8096\n",
            "Epoch 4/15\n",
            "188/188 [==============================] - 2s 12ms/step - loss: 0.4006 - accuracy: 0.8193 - val_loss: 0.4156 - val_accuracy: 0.8106\n",
            "Epoch 5/15\n",
            "188/188 [==============================] - 2s 12ms/step - loss: 0.3755 - accuracy: 0.8324 - val_loss: 0.3990 - val_accuracy: 0.8207\n",
            "Epoch 6/15\n",
            "188/188 [==============================] - 2s 12ms/step - loss: 0.3542 - accuracy: 0.8448 - val_loss: 0.3775 - val_accuracy: 0.8322\n",
            "Epoch 7/15\n",
            "188/188 [==============================] - 2s 12ms/step - loss: 0.3380 - accuracy: 0.8525 - val_loss: 0.3727 - val_accuracy: 0.8354\n",
            "Epoch 8/15\n",
            "188/188 [==============================] - 2s 12ms/step - loss: 0.3216 - accuracy: 0.8608 - val_loss: 0.3601 - val_accuracy: 0.8419\n",
            "Epoch 9/15\n",
            "188/188 [==============================] - 2s 12ms/step - loss: 0.3069 - accuracy: 0.8683 - val_loss: 0.3634 - val_accuracy: 0.8396\n",
            "Epoch 10/15\n",
            "188/188 [==============================] - 2s 12ms/step - loss: 0.2941 - accuracy: 0.8758 - val_loss: 0.3524 - val_accuracy: 0.8472\n",
            "Epoch 11/15\n",
            "188/188 [==============================] - 2s 12ms/step - loss: 0.2840 - accuracy: 0.8807 - val_loss: 0.3587 - val_accuracy: 0.8452\n",
            "Epoch 12/15\n",
            "188/188 [==============================] - 2s 12ms/step - loss: 0.2733 - accuracy: 0.8860 - val_loss: 0.3521 - val_accuracy: 0.8474\n",
            "Epoch 13/15\n",
            "188/188 [==============================] - 2s 12ms/step - loss: 0.2621 - accuracy: 0.8925 - val_loss: 0.3520 - val_accuracy: 0.8493\n",
            "Epoch 14/15\n",
            "188/188 [==============================] - 2s 12ms/step - loss: 0.2528 - accuracy: 0.8969 - val_loss: 0.3557 - val_accuracy: 0.8497\n",
            "Epoch 15/15\n",
            "188/188 [==============================] - 2s 12ms/step - loss: 0.2417 - accuracy: 0.9015 - val_loss: 0.3601 - val_accuracy: 0.8502\n",
            "1537/1537 - 4s - loss: 0.3688 - accuracy: 0.8478\n",
            "[0.36882728338241577, 0.84775310754776]\n",
            "dict_keys(['loss', 'accuracy', 'val_loss', 'val_accuracy'])\n"
          ]
        },
        {
          "data": {
            "image/png": "[encoded data removed]",
            "text/plain": [
              "<Figure size 432x288 with 1 Axes>"
            ]
          },
          "metadata": {
            "needs_background": "light"
          },
          "output_type": "display_data"
        },
        {
          "data": {
            "image/png": "[encoded data removed]",
            "text/plain": [
              "<Figure size 432x288 with 1 Axes>"
            ]
          },
          "metadata": {
            "needs_background": "light"
          },
          "output_type": "display_data"
        }
      ],
      "source": [
        "adam = tf.keras.optimizers.Adam(learning_rate=0.0002, beta_1=0.9, beta_2=0.999, epsilon=None, decay=0.0, amsgrad=False)\n",
        "\n",
        "model4.compile(optimizer=adam,\n",
        "              loss='binary_crossentropy',\n",
        "              metrics=['accuracy'])\n",
        "              \n",
        "epochs=15  # 몇 epoch를 훈련하면 좋을지 결과를 보면서 바꾸어 봅시다. \n",
        "\n",
        "history = model4.fit(partial_X_train,\n",
        "                    partial_y_train,\n",
        "                    epochs=epochs,\n",
        "                    batch_size=512,\n",
        "                    validation_data=(X_val, y_val),\n",
        "                    verbose=1)\n",
        "\n",
        "results4 = model4.evaluate(X_test,  y_test, verbose=2)\n",
        "\n",
        "print(results4)\n",
        "\n",
        "history_dict4 = history.history\n",
        "print(history_dict4.keys()) # epoch에 따른 그래프를 그려볼 수 있는 항목들\n",
        "\n",
        "import matplotlib.pyplot as plt\n",
        "\n",
        "acc = history_dict4['accuracy']\n",
        "val_acc = history_dict4['val_accuracy']\n",
        "loss = history_dict4['loss']\n",
        "val_loss = history_dict4['val_loss']\n",
        "\n",
        "epochs = range(1, len(acc) + 1)\n",
        "\n",
        "# \"bo\"는 \"파란색 점\"입니다\n",
        "plt.plot(epochs, loss, 'bo', label='Training loss')\n",
        "# b는 \"파란 실선\"입니다\n",
        "plt.plot(epochs, val_loss, 'b', label='Validation loss')\n",
        "plt.title('Training and validation loss of Word2Vec')\n",
        "plt.xlabel('Epochs')\n",
        "plt.ylabel('Loss')\n",
        "plt.legend()\n",
        "\n",
        "plt.show()\n",
        "\n",
        "plt.clf()   # 그림을 초기화합니다\n",
        "\n",
        "plt.plot(epochs, acc, 'bo', label='Training acc')\n",
        "plt.plot(epochs, val_acc, 'b', label='Validation acc')\n",
        "plt.title('Training and validation accuracy of Word2Vec')\n",
        "plt.xlabel('Epochs')\n",
        "plt.ylabel('Accuracy')\n",
        "plt.legend()\n",
        "\n",
        "plt.show()"
      ]
    },
    {
      "cell_type": "markdown",
      "id": "1b0df84e",
      "metadata": {
        "id": "1b0df84e"
      },
      "source": [
        "- 모델에 dense layer를 하나 더 추가하여 accuracy 0.85를 얻을 수 있었다."
      ]
    },
    {
      "cell_type": "markdown",
      "id": "ccd6499a",
      "metadata": {
        "id": "ccd6499a"
      },
      "source": [
        "# Review\n",
        "- gesim을 활용한 유사 단어 찾기(사랑) 및 학습 결과\n",
        "\n",
        "||자체 학습한 |embedding||사전 학습한 embedding|\n",
        "|--|--|--|--|--|\n",
        "||LSTM|Conv1D|GlobalMaxPooling|word2vec|\n",
        "|유사 단어|+_+,♥,~~~^^,ㅠㅠㅠㅠ,레전드,and,</br>풀어낸,꿀,조지클루니,이럼|한층,토마스,가슴,바탕,주도,</br>괜찮,찔끔,할게요,찰리채플린,삽입곡|김동완,드라마틱,짐,자격,하나하나,</br>~~!!!,살아오,중독,ost,재미나|이별,행복,슬픔,유혹,그리움,</br>추억,꿈,애정,포옹,마음|\n",
        "|유사도|0.78~0.84|0.82~0.92|0.89~0.94|0.70~0.76|\n",
        "|accuracy|0.84|0.84|0.84|0.85|  \n",
        "\n",
        "- 자체 학습한 embedding은 각 모델의 첫번째 레이어의 정보를 가지고 온 것인데 모든 조건이 같고 첫번째 레이어라서 같은 embedding일 것이라고 예상했지만 각각 다른 값을 보여주었음.\n",
        "- 자체 학습한 것의 유사도가 사전학습한 거보다 크지만 관련없는 단어들의 모임이었음.\n",
        "- 자체 학습한 embedding의 유사 단어 결과가 좋지 않았던 것은 데이터세트가 온전한 글의 모임이 아니라 영화를 평가하는 짧은 댓글이었기 때문일 거라 예상됨. \n",
        "- 학습율을 조정하여 과적합을 방지할 수 있었음.\n",
        "- accuracy를 높이기 위해 LSTM의 모델을 수정하였음. 특히, word2vec를 적용한 모델은 dense layer를 추가하여 0.85 기준을 맞출 수 있었음.\n"
      ]
    }
  ],
  "metadata": {
    "colab": {
      "provenance": [],
      "toc_visible": true,
      "include_colab_link": true
    },
    "kernelspec": {
      "display_name": "Python 3 (ipykernel)",
      "language": "python",
      "name": "python3"
    },
    "language_info": {
      "codemirror_mode": {
        "name": "ipython",
        "version": 3
      },
      "file_extension": ".py",
      "mimetype": "text/x-python",
      "name": "python",
      "nbconvert_exporter": "python",
      "pygments_lexer": "ipython3",
      "version": "3.9.7"
    }
  },
  "nbformat": 4,
  "nbformat_minor": 5
}