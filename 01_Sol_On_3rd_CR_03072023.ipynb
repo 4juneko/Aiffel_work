{
  "cells": [
    {
      "cell_type": "markdown",
      "metadata": {
        "id": "view-in-github",
        "colab_type": "text"
      },
      "source": [
        "<a href=\"https://colab.research.google.com/github/4juneko/Aiffel_work/blob/master/01_Sol_On_3rd_CR_03072023.ipynb\" target=\"_parent\"><img src=\"https://colab.research.google.com/assets/colab-badge.svg\" alt=\"Open In Colab\"/></a>"
      ]
    },
    {
      "cell_type": "markdown",
      "metadata": {
        "id": "O4HnUR7EzwvU"
      },
      "source": [
        "#### 1.소수를 검사하는 함수를 정의하고, 다음의 결과와 같이 사용자가 입력한 숫자가 소수인지를 판단하는 코드를 작성하시오.\n",
        "\n",
        "소수일 경우 \"소수입니다.\" 출력, 아닐 경우 \"소수가 아닙니다.\" 출력"
      ]
    },
    {
      "cell_type": "code",
      "execution_count": null,
      "metadata": {
        "id": "5H4c6H7ZzwUo"
      },
      "outputs": [],
      "source": [
        "# Solution\n",
        "input_num = int(input(\"숫자 입력: \"))\n",
        "for i in range(2, int(input_num/2)+1):\n",
        "    if input_num % i == 0:\n",
        "        print(\"소수가 아닙니다.\")\n",
        "        print(i,\"를 약수로 가집니다.\")\n",
        "        break\n",
        "    elif i == int(input_num/2):\n",
        "        print(\"소수입니다.\")"
      ]
    },
    {
      "cell_type": "markdown",
      "metadata": {
        "id": "o4erIHOyTroH"
      },
      "source": [
        "#### 2. 트럼프 카드 52장(조커 제외)을 1~52의 정수로 출력하는 코드를 아래 조건을 만족하도록 작성하시오.\n",
        "\n",
        "- 조건1. 조건문과 반복문을 활용하여 코드를 작성\n",
        "- 조건2. 1 ~ 13 : Spade A ~ k로 저장<br>\n",
        "- 조건3. 14 ~ 26 : Heart A ~ k로 저장<br>\n",
        "- 조건4. 27 ~ 39 : Diamond A ~ k로 저장<br>\n",
        "- 조건5. 40 ~ 52 : Clover A ~ k로 저장\n"
      ]
    },
    {
      "cell_type": "code",
      "execution_count": null,
      "metadata": {
        "id": "qZswk2hMsg2T"
      },
      "outputs": [],
      "source": [
        "'''\n",
        "# 출력 예시 #\n",
        "1 Spade A\n",
        "2 Spade 2\n",
        "3 Spade 3\n",
        "...\n",
        "...\n",
        "13 Spade K\n",
        "14 Heart A\n",
        "15 Heart 2\n",
        "...\n",
        "...\n",
        "50 Clover J\n",
        "51 Clover Q\n",
        "52 Clover K\n",
        "'''"
      ]
    },
    {
      "cell_type": "code",
      "execution_count": null,
      "metadata": {
        "id": "fkqtvO5LU3M5"
      },
      "outputs": [],
      "source": [
        "# Solution1\n",
        "for i in range(1, 53):\n",
        "    pattern = 'Clover'\n",
        "\n",
        "    if 1 <= i <= 13:\n",
        "        pattern = 'Spade'\n",
        "    elif 14 <= i <= 26:\n",
        "        pattern = 'Heart'\n",
        "    elif 27 <= i <= 39:\n",
        "        pattern = 'Diamond'\n",
        "\n",
        "    num_card = i % 13\n",
        "\n",
        "    if num_card == 1:\n",
        "        print(i, pattern, 'A')\n",
        "    elif num_card == 11:\n",
        "        print(i, pattern, 'J')\n",
        "    elif num_card == 12:\n",
        "        print(i, pattern, 'Q')\n",
        "    elif num_card == 0:\n",
        "        print(i, pattern, 'K')\n",
        "    else:\n",
        "        print(i, pattern, num_card)"
      ]
    },
    {
      "cell_type": "code",
      "execution_count": null,
      "metadata": {
        "id": "siFZMSddHegN"
      },
      "outputs": [],
      "source": [
        "# Solution2\n",
        "card = ['Spade','Heart','Diamond','Clover']\n",
        "count = 0\n",
        "for i in card:\n",
        "  for j in range(1,14):\n",
        "    count += 1\n",
        "    if j == 1:\n",
        "      j = 'A'\n",
        "    elif j == 11:\n",
        "      j = 'J'\n",
        "    elif j == 12:\n",
        "      j = 'Q'\n",
        "    elif j == 13:\n",
        "      j = 'K'\n",
        "    card_name = f\"{count} {i} {str(j)}\"\n",
        "    print(card_name)"
      ]
    },
    {
      "cell_type": "markdown",
      "metadata": {
        "id": "Ng6sSYgcVjQy"
      },
      "source": [
        "#### 3. 아래 코드는 입력받은 문자열 s가 올바른 시간 형식인지 검증하는 코드입니다. is_valid_time 함수를 구현하시오.\n",
        "\n",
        "(올바른 표기 시간 범위 : 00:00:00 ~ 23:59:59)\n",
        "\n"
      ]
    },
    {
      "cell_type": "code",
      "execution_count": null,
      "metadata": {
        "id": "1ccHebYjVjlD"
      },
      "outputs": [],
      "source": [
        "'''\n",
        "# 출력 예시 #\n",
        "True\n",
        "False\n",
        "False\n",
        "'''"
      ]
    },
    {
      "cell_type": "code",
      "execution_count": null,
      "metadata": {
        "colab": {
          "base_uri": "https://localhost:8080/"
        },
        "id": "P9CYOLVPVupv",
        "outputId": "8b70d99d-7d1c-4860-9354-95134c254487"
      },
      "outputs": [
        {
          "name": "stdout",
          "output_type": "stream",
          "text": [
            "True\n",
            "False\n",
            "False\n"
          ]
        }
      ],
      "source": [
        "# Solution1\n",
        "test_time = [\n",
        "    \"14:30:00\",\n",
        "    \"12:70:00\",\n",
        "    \"24:00:00\"\n",
        "]\n",
        "\n",
        "def is_valid_time(time_str):\n",
        "    temp = time_str.split(':')\n",
        "    temp = list(map(int, temp))\n",
        "    result = False\n",
        "\n",
        "    if 0 <= temp[0] <= 23 and 0 <= temp[1] <= 59 and 0 <= temp[2] <= 59:\n",
        "        result = True\n",
        "\n",
        "    return result\n",
        "\n",
        "for time in test_time:\n",
        "    print(is_valid_time(time))"
      ]
    },
    {
      "cell_type": "code",
      "execution_count": null,
      "metadata": {
        "colab": {
          "base_uri": "https://localhost:8080/"
        },
        "id": "YVv66huzHR7e",
        "outputId": "cdf6760d-49a4-4332-dd2a-25dfe59df628"
      },
      "outputs": [
        {
          "name": "stdout",
          "output_type": "stream",
          "text": [
            "True\n",
            "False\n",
            "False\n"
          ]
        }
      ],
      "source": [
        "# Solution2\n",
        "test_times = [\n",
        "    \"14:30:00\",\n",
        "    \"12:70:00\",\n",
        "    \"24:00:00\"\n",
        "]\n",
        "\n",
        "def is_valid_time(time_str):\n",
        "  hour = int(time_str[:2])\n",
        "  min = int(time_str[3:5])\n",
        "  sec = int(time_str[6:])\n",
        "  if hour >= 24:\n",
        "    return False\n",
        "  elif min >= 60:\n",
        "    return False\n",
        "  elif sec >= 60:\n",
        "    return False\n",
        "  else:\n",
        "    return True\n",
        "\n",
        "for time in test_times:\n",
        "  print(is_valid_time(time))"
      ]
    },
    {
      "cell_type": "markdown",
      "metadata": {
        "id": "_z_TRi0mzZdp"
      },
      "source": [
        "#### 4.while, for 문을 중첩해서 사용하여, 아래 조건을 만족하는 구구단 프로그램을 작성하시오.\n",
        "\n",
        "조건1.whlie문과 for문을 최소 1번 이상 사용한다.<br>\n",
        "조건2.1~3번 입력에 따라 아래와 같이 출력한다.\n",
        "- 1번을 입력하면 3,5,7,9단(홀수의 단)이 출력한다.\n",
        "- 2번을 입력하면 2,4,6,8단(짝수의 단)이 출력된다.\n",
        "- 3번을 입력하면 출력하고 싶은 단을 입력받고 입력받은 단만 출력된다.\n",
        "- 4번을 입력하면 프로그램을 종료한다.\n",
        "- 그 외에 값을 입력하면 입력오류라고 출력하고 다시 입력을 요구한다."
      ]
    },
    {
      "cell_type": "code",
      "execution_count": null,
      "metadata": {
        "id": "S-nxBZT2zxfG"
      },
      "outputs": [],
      "source": [
        "'''\n",
        "# 출력 예시 #\n",
        "구구단 프로그램을 실행합니다.\n",
        "1.홀수 구구단 출력\n",
        "2.짝수 구구단 출력\n",
        "3.입력된 단의 구구단 출력\n",
        "4.프로그램 종료\n",
        "\n",
        "숫자를 입력해주세요. : 3\n",
        "출력하고 싶은 단을 입력해주세요. : 5\n",
        "\n",
        "5단\n",
        "5 X 1 = 5\n",
        "5 X 2 = 10\n",
        "5 X 3 = 15\n",
        "5 X 4 = 20\n",
        "5 X 5 = 25\n",
        "5 X 6 = 30\n",
        "5 X 7 = 35\n",
        "5 X 8 = 40\n",
        "5 X 9 = 45\n",
        "\n",
        "숫자를 입력해주세요. : 8\n",
        "잘못된 입력입니다. 다시 입력을 해주세요.\n",
        "\n",
        "숫자를 입력해주세요. : 4\n",
        "프로그램을 종료합니다.\n",
        "'''"
      ]
    },
    {
      "cell_type": "code",
      "execution_count": null,
      "metadata": {
        "id": "5XtVUOB_4REs"
      },
      "outputs": [],
      "source": [
        "# Solution\n",
        "title = \"\"\"\n",
        "구구단 프로그램을 실행합니다.\n",
        "1. 홀수 구구단 출력\n",
        "2. 짝수 구구단 출력\n",
        "3. 입력된 단의 구구단 출력\n",
        "4. 프로그램 종료\n",
        "\"\"\"\n",
        "print(title)\n",
        "\n",
        "while True:\n",
        "    # print(title)\n",
        "    num = int(input(\"\\n숫자를 입력해주세요. : \"))\n",
        "    if num == 1:\n",
        "        for i in range(2, 10):\n",
        "            if i % 2 != 0:\n",
        "                print(\"\\n%d단\" % i)\n",
        "                for j in range(1,10):\n",
        "                    print(\"%d * %d = %d\" %(i, j, i*j))\n",
        "\n",
        "    elif num == 2:\n",
        "        for i in range(2, 10):\n",
        "            if i % 2 == 0:\n",
        "                print(\"\\n%d단\" % i)\n",
        "                for j in range(1,10):\n",
        "                    print(\"%d * %d = %d\" %(i, j, i*j))\n",
        "\n",
        "    elif num ==3:\n",
        "        dan = int(input(\"출력하고 싶은 단을 입력해주세요. : \"))\n",
        "        print(\"\\n%d단\" % dan)\n",
        "        for j in range(1,10):\n",
        "            print(\"%d X %d = %d\" % (dan, j, dan*j))\n",
        "\n",
        "    elif num == 4:\n",
        "        print(\"프로그램을 종료합니다.\")\n",
        "        break\n",
        "\n",
        "    else:\n",
        "        print(\"잘못된 입력입니다. 다시 입력을 해주세요.\")\n",
        "        continue"
      ]
    },
    {
      "cell_type": "markdown",
      "metadata": {
        "id": "dgBeMYHK2vz8"
      },
      "source": [
        "#### 5.컴퓨터와 묵찌빠 게임을 하는 프로그램을 작성하시오."
      ]
    },
    {
      "cell_type": "code",
      "execution_count": null,
      "metadata": {
        "id": "ePELbrEv4P85"
      },
      "outputs": [],
      "source": [
        "'''\n",
        "# 출력 예시 #\n",
        "가위~ 바위~ 보!\n",
        "나 : 묵        <--- 입력하는 것임\n",
        "컴퓨터 : 찌    <--- 랜덤으로 출력하는 것임(hint : random 모듈 사용)\n",
        "\n",
        "묵~ 묵~        <--- 앞에 수에서 이긴 수로 출력('빠'와 '묵'라면 '빠~ 빠~'로 출력)\n",
        "나 : 찌        <--- 입력하는 것임\n",
        "컴퓨터 : 묵    <--- 랜덤으로 출력하는 것임\n",
        "\n",
        "묵~ 묵~\n",
        "나 : 빠        <--- 앞 수에서 컴퓨터가 이겼지만 왜 내가 먼저 입력을 하는지?\n",
        "컴퓨터 : 빠    <--- 어짜피 컴퓨터는 랜덤이고, 내가 늦게 내면 무조건 이기기 때문에...\n",
        "\n",
        "컴퓨터 승리!\n",
        "'''"
      ]
    },
    {
      "cell_type": "code",
      "execution_count": null,
      "metadata": {
        "colab": {
          "base_uri": "https://localhost:8080/"
        },
        "id": "4MW7JhbPU5tq",
        "outputId": "3b11617b-ee39-42b1-caf4-04a122b4d744"
      },
      "outputs": [
        {
          "name": "stdout",
          "output_type": "stream",
          "text": [
            "가위~ 바위~ 보!\n",
            "\n",
            "나 : 빠\n",
            "컴퓨터 :  묵\n",
            "빠~ 빠~\n",
            "\n",
            "나 : 묵\n",
            "컴퓨터 :  찌\n",
            "묵~ 묵~\n",
            "\n",
            "나 : 묵\n",
            "컴퓨터 :  묵\n",
            "나 승리\n"
          ]
        }
      ],
      "source": [
        "import random\n",
        "\n",
        "mjp = ['묵', '찌', '빠']\n",
        "win = ''\n",
        "\n",
        "def disc(a, b):\n",
        "    if a == '묵' and b == '찌':\n",
        "        print(\"묵~ 묵~\")\n",
        "        return '나'\n",
        "    elif a == '찌' and b == '묵':\n",
        "        print(\"묵~ 묵~\")\n",
        "        return '컴퓨터'\n",
        "    elif a == '찌' and b == '빠':\n",
        "        print(\"찌~ 찌~\")\n",
        "        return '나'\n",
        "    elif a == '빠' and b == '찌':\n",
        "        print(\"찌~ 찌~\")\n",
        "        return '컴퓨터'\n",
        "    elif a == '빠' and b == '묵':\n",
        "        print(\"빠~ 빠~\")\n",
        "        return '나'\n",
        "    elif a == '묵' and b == '빠':\n",
        "        print(\"빠~ 빠~\")\n",
        "        return '컴퓨터'\n",
        "    elif a == b:\n",
        "        return 'draw'\n",
        "\n",
        "print(\"가위~ 바위~ 보!\")\n",
        "\n",
        "# 1회차 가위바위보\n",
        "while True:\n",
        "    me = input(\"\\n나 : \")\n",
        "    com = random.choice(mjp)\n",
        "    print(\"컴퓨터 : \", com)\n",
        "\n",
        "    s = disc(me, com)\n",
        "\n",
        "    if s == 'draw':\n",
        "        continue\n",
        "    else:\n",
        "        win = s\n",
        "        break\n",
        "\n",
        "# 2회차 묵찌빠\n",
        "while True:\n",
        "    me = input(\"\\n나 : \")\n",
        "    com = random.choice(mjp)\n",
        "    print(\"컴퓨터 : \", com)\n",
        "\n",
        "    s = disc(me, com)\n",
        "\n",
        "    if s == 'draw':\n",
        "        print(win, '승리' )\n",
        "        break\n",
        "    else:\n",
        "        win = s\n",
        "        continue"
      ]
    },
    {
      "cell_type": "markdown",
      "metadata": {
        "id": "0p4VNChDc_4m"
      },
      "source": [
        "# 재귀 문제 특집"
      ]
    },
    {
      "cell_type": "markdown",
      "metadata": {
        "id": "omTif_CEafYr"
      },
      "source": [
        "#### 1.재귀 호출을 사용하여 2개의 수를 인자로 받아 제곱을 하는 함수를 구현하시오."
      ]
    },
    {
      "cell_type": "code",
      "execution_count": null,
      "metadata": {
        "colab": {
          "base_uri": "https://localhost:8080/"
        },
        "id": "WpBTzncobKj7",
        "outputId": "e71c393c-e41e-453c-9aad-c04330395e87"
      },
      "outputs": [
        {
          "name": "stdout",
          "output_type": "stream",
          "text": [
            "16\n"
          ]
        }
      ],
      "source": [
        "def pow(a, b):\n",
        "    if b == 0:\n",
        "        return 1\n",
        "    return a * pow(a, b-1)\n",
        "\n",
        "# 출력은 a의 b승(=a^b)\n",
        "print(pow(2,4))"
      ]
    },
    {
      "cell_type": "markdown",
      "metadata": {
        "id": "OHdKvv0AZ2BZ"
      },
      "source": [
        "#### 2.재귀 호출을 사용하여 2 ~ 9단을 출력하는 코드를 작성하시오."
      ]
    },
    {
      "cell_type": "code",
      "execution_count": null,
      "metadata": {
        "id": "0SNItjlvZ1tA"
      },
      "outputs": [],
      "source": [
        "'''\n",
        "# 출력 예시 #\n",
        "2 X 1 = 2\n",
        "2 X 2 = 4\n",
        "2 X 3 = 6\n",
        "2 X 4 = 8\n",
        "2 X 5 = 10\n",
        "...\n",
        "...\n",
        "...\n",
        "9 X 7 = 63\n",
        "9 X 8 = 72\n",
        "9 X 9 = 81\n",
        "'''"
      ]
    },
    {
      "cell_type": "code",
      "execution_count": null,
      "metadata": {
        "colab": {
          "base_uri": "https://localhost:8080/"
        },
        "id": "A6a42dpaaXuS",
        "outputId": "4a047151-5ee1-477e-c002-e713a4736445"
      },
      "outputs": [
        {
          "name": "stdout",
          "output_type": "stream",
          "text": [
            "\n",
            "2단\n",
            "2 X 1 = 2\n",
            "2 X 2 = 4\n",
            "2 X 3 = 6\n",
            "2 X 4 = 8\n",
            "2 X 5 = 10\n",
            "2 X 6 = 12\n",
            "2 X 7 = 14\n",
            "2 X 8 = 16\n",
            "2 X 9 = 18\n",
            "\n",
            "3단\n",
            "3 X 1 = 3\n",
            "3 X 2 = 6\n",
            "3 X 3 = 9\n",
            "3 X 4 = 12\n",
            "3 X 5 = 15\n",
            "3 X 6 = 18\n",
            "3 X 7 = 21\n",
            "3 X 8 = 24\n",
            "3 X 9 = 27\n",
            "\n",
            "4단\n",
            "4 X 1 = 4\n",
            "4 X 2 = 8\n",
            "4 X 3 = 12\n",
            "4 X 4 = 16\n",
            "4 X 5 = 20\n",
            "4 X 6 = 24\n",
            "4 X 7 = 28\n",
            "4 X 8 = 32\n",
            "4 X 9 = 36\n",
            "\n",
            "5단\n",
            "5 X 1 = 5\n",
            "5 X 2 = 10\n",
            "5 X 3 = 15\n",
            "5 X 4 = 20\n",
            "5 X 5 = 25\n",
            "5 X 6 = 30\n",
            "5 X 7 = 35\n",
            "5 X 8 = 40\n",
            "5 X 9 = 45\n",
            "\n",
            "6단\n",
            "6 X 1 = 6\n",
            "6 X 2 = 12\n",
            "6 X 3 = 18\n",
            "6 X 4 = 24\n",
            "6 X 5 = 30\n",
            "6 X 6 = 36\n",
            "6 X 7 = 42\n",
            "6 X 8 = 48\n",
            "6 X 9 = 54\n",
            "\n",
            "7단\n",
            "7 X 1 = 7\n",
            "7 X 2 = 14\n",
            "7 X 3 = 21\n",
            "7 X 4 = 28\n",
            "7 X 5 = 35\n",
            "7 X 6 = 42\n",
            "7 X 7 = 49\n",
            "7 X 8 = 56\n",
            "7 X 9 = 63\n",
            "\n",
            "8단\n",
            "8 X 1 = 8\n",
            "8 X 2 = 16\n",
            "8 X 3 = 24\n",
            "8 X 4 = 32\n",
            "8 X 5 = 40\n",
            "8 X 6 = 48\n",
            "8 X 7 = 56\n",
            "8 X 8 = 64\n",
            "8 X 9 = 72\n",
            "\n",
            "9단\n",
            "9 X 1 = 9\n",
            "9 X 2 = 18\n",
            "9 X 3 = 27\n",
            "9 X 4 = 36\n",
            "9 X 5 = 45\n",
            "9 X 6 = 54\n",
            "9 X 7 = 63\n",
            "9 X 8 = 72\n",
            "9 X 9 = 81\n"
          ]
        }
      ],
      "source": [
        "# your code\n",
        "def gugudan(dan, n):\n",
        "    print(\"%d X %d = %d\" % (dan, n, dan*n))\n",
        "    if n < 9:\n",
        "        gugudan(dan, n+1)\n",
        "\n",
        "for dan in range(2,10):\n",
        "    print(\"\\n%d단\" % dan)\n",
        "    gugudan(dan,1)"
      ]
    },
    {
      "cell_type": "markdown",
      "metadata": {
        "id": "2ygXQFCabJ-C"
      },
      "source": [
        "#### 3.재귀 호출을 사용하여 입력받은 값이 회문인지 판단하는 함수를 구현하시오."
      ]
    },
    {
      "cell_type": "code",
      "execution_count": null,
      "metadata": {
        "colab": {
          "base_uri": "https://localhost:8080/"
        },
        "id": "UUjrGkkkciHd",
        "outputId": "5dbb3037-b593-4aff-94f6-280b191ab948"
      },
      "outputs": [
        {
          "name": "stdout",
          "output_type": "stream",
          "text": [
            "T\n",
            "F\n"
          ]
        }
      ],
      "source": [
        "def palindrome(s):\n",
        "    # your code\n",
        "    if len(s) <= 1:\n",
        "        return 'T'\n",
        "\n",
        "    if s[0] != s[-1]:\n",
        "        return 'F'\n",
        "\n",
        "    return palindrome(s[1:len(s)-1])\n",
        "\n",
        "# 출력은 회문인 경우 'T'를 출력, 회문이 아닌 경우 'F'를 출력\n",
        "print(palindrome('우영우'))\n",
        "print(palindrome('조용 조용'))"
      ]
    }
  ],
  "metadata": {
    "colab": {
      "provenance": [],
      "include_colab_link": true
    },
    "kernelspec": {
      "display_name": "Python 3 (ipykernel)",
      "language": "python",
      "name": "python3"
    },
    "language_info": {
      "codemirror_mode": {
        "name": "ipython",
        "version": 3
      },
      "file_extension": ".py",
      "mimetype": "text/x-python",
      "name": "python",
      "nbconvert_exporter": "python",
      "pygments_lexer": "ipython3",
      "version": "3.9.13"
    }
  },
  "nbformat": 4,
  "nbformat_minor": 0
}