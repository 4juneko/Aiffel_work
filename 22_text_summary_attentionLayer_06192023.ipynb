{
  "cells": [
    {
      "cell_type": "markdown",
      "metadata": {
        "id": "view-in-github",
        "colab_type": "text"
      },
      "source": [
        "<a href=\"https://colab.research.google.com/github/4juneko/Aiffel_work/blob/master/22_text_summary_attentionLayer_06192023.ipynb\" target=\"_parent\"><img src=\"https://colab.research.google.com/assets/colab-badge.svg\" alt=\"Open In Colab\"/></a>"
      ]
    },
    {
      "cell_type": "markdown",
      "id": "121f8cf6",
      "metadata": {
        "id": "121f8cf6"
      },
      "source": [
        "|평가문항|\t상세기준|내 평가|\n",
        "|--|--|--|\n",
        "|1. Abstractive 모델 구성을 위한 텍스트 전처리 단계가 체계적으로 진행되었다.\t|분석단계, 정제단계, 정규화와 불용어 제거, 데이터셋 분리, 인코딩 과정이 </br>빠짐없이 체계적으로 진행되었다.|o|\n",
        "|2. 텍스트 요약모델이 성공적으로 학습되었음을 확인하였다.|\t모델 학습이 진행되면서 train loss와 validation loss가 감소하는 경향을 그래프를 통해 확인했으며,</br> 실제 요약문에 있는 핵심 단어들이 요약 문장 안에 포함되었다.|o|\n",
        "|3. Extractive 요약을 시도해 보고 Abstractive 요약 결과과 함께 비교해 보았다.\t|두 요약 결과를 문법완성도 측면과 핵심단어 포함 측면으로 나누어 비교하고</br> 분석 결과를 표로 정리하여 제시하였다.|o|"
      ]
    },
    {
      "cell_type": "markdown",
      "source": [
        "# Abstractive Summarization"
      ],
      "metadata": {
        "id": "iaLOSIa28fLt"
      },
      "id": "iaLOSIa28fLt"
    },
    {
      "cell_type": "code",
      "execution_count": null,
      "id": "955830a8",
      "metadata": {
        "id": "955830a8",
        "outputId": "dd725e41-83cd-49e4-a65b-661bb7744735"
      },
      "outputs": [
        {
          "name": "stdout",
          "output_type": "stream",
          "text": [
            "ln: failed to create symbolic link '/aiffel/aiffel/news_summarization/data/Reviews.csv': File exists\r\n"
          ]
        }
      ],
      "source": [
        "!ln -s ~/data/*.csv ~/aiffel/news_summarization/data\n",
        "# NLTK의 불용어(stopwords)를 사용할 거에요.\n",
        "# NTLK와 NLTK 데이터셋이 설치되어 있지 않은 환경이라면 우선 NLTK를 설치하고 NTLK의 데이터셋을 다운로드 필요"
      ]
    },
    {
      "cell_type": "code",
      "source": [
        "!pip install --user -U nltk"
      ],
      "metadata": {
        "colab": {
          "base_uri": "https://localhost:8080/"
        },
        "id": "B_c-YCvgwE1o",
        "outputId": "3519a7c6-6115-48c1-93c9-21b5d213219d"
      },
      "id": "B_c-YCvgwE1o",
      "execution_count": 7,
      "outputs": [
        {
          "output_type": "stream",
          "name": "stdout",
          "text": [
            "Looking in indexes: https://pypi.org/simple, https://us-python.pkg.dev/colab-wheels/public/simple/\n",
            "Requirement already satisfied: nltk in /usr/local/lib/python3.10/dist-packages (3.8.1)\n",
            "Requirement already satisfied: click in /usr/local/lib/python3.10/dist-packages (from nltk) (8.1.3)\n",
            "Requirement already satisfied: joblib in /usr/local/lib/python3.10/dist-packages (from nltk) (1.2.0)\n",
            "Requirement already satisfied: regex>=2021.8.3 in /usr/local/lib/python3.10/dist-packages (from nltk) (2022.10.31)\n",
            "Requirement already satisfied: tqdm in /usr/local/lib/python3.10/dist-packages (from nltk) (4.65.0)\n"
          ]
        }
      ]
    },
    {
      "cell_type": "code",
      "execution_count": 8,
      "id": "7a2f1e3d",
      "metadata": {
        "id": "7a2f1e3d",
        "outputId": "ace96b0c-75f3-4096-88eb-78282b6c9dde",
        "colab": {
          "base_uri": "https://localhost:8080/"
        }
      },
      "outputs": [
        {
          "output_type": "stream",
          "name": "stderr",
          "text": [
            "[nltk_data] Downloading package stopwords to /root/nltk_data...\n",
            "[nltk_data]   Unzipping corpora/stopwords.zip.\n"
          ]
        },
        {
          "output_type": "stream",
          "name": "stdout",
          "text": [
            "3.8.1\n",
            "2.12.0\n",
            "1.2.0\n"
          ]
        }
      ],
      "source": [
        "from importlib.metadata import version\n",
        "import nltk\n",
        "nltk.download('stopwords')\n",
        "from nltk.corpus import stopwords\n",
        "import tensorflow\n",
        "import summa\n",
        "import pandas as pd\n",
        "import numpy as np\n",
        "import os\n",
        "import re\n",
        "import matplotlib.pyplot as plt\n",
        "from bs4 import BeautifulSoup\n",
        "from tensorflow.keras.preprocessing.text import Tokenizer\n",
        "from tensorflow.keras.preprocessing.sequence import pad_sequences\n",
        "import urllib.request\n",
        "import warnings\n",
        "warnings.filterwarnings(\"ignore\", category=UserWarning, module='bs4')\n",
        "\n",
        "print(nltk.__version__)\n",
        "print(tensorflow.__version__)\n",
        "print(version('summa'))\n"
      ]
    },
    {
      "cell_type": "markdown",
      "id": "a332fe99",
      "metadata": {
        "id": "a332fe99"
      },
      "source": [
        "## 1 Get Data"
      ]
    },
    {
      "cell_type": "code",
      "execution_count": 9,
      "id": "ab99c768",
      "metadata": {
        "id": "ab99c768"
      },
      "outputs": [],
      "source": [
        "import urllib.request\n",
        "urllib.request.urlretrieve(\"https://raw.githubusercontent.com/sunnysai12345/News_Summary/master/news_summary_more.csv\", filename=\"news_summary_more.csv\")\n",
        "data = pd.read_csv('news_summary_more.csv', encoding='iso-8859-1')"
      ]
    },
    {
      "cell_type": "code",
      "execution_count": 10,
      "id": "fccf5d9d",
      "metadata": {
        "id": "fccf5d9d",
        "outputId": "0e68cd3f-d1dc-4a52-e273-ec497dc7e18e",
        "colab": {
          "base_uri": "https://localhost:8080/",
          "height": 206
        }
      },
      "outputs": [
        {
          "output_type": "execute_result",
          "data": {
            "text/plain": [
              "                                           headlines  \\\n",
              "0  upGrad learner switches to career in ML & Al w...   \n",
              "1  Delhi techie wins free food from Swiggy for on...   \n",
              "2  New Zealand end Rohit Sharma-led India's 12-ma...   \n",
              "3  Aegon life iTerm insurance plan helps customer...   \n",
              "4  Have known Hirani for yrs, what if MeToo claim...   \n",
              "\n",
              "                                                text  \n",
              "0  Saurav Kant, an alumnus of upGrad and IIIT-B's...  \n",
              "1  Kunal Shah's credit card bill payment platform...  \n",
              "2  New Zealand defeated India by 8 wickets in the...  \n",
              "3  With Aegon Life iTerm Insurance plan, customer...  \n",
              "4  Speaking about the sexual harassment allegatio...  "
            ],
            "text/html": [
              "\n",
              "  <div id=\"df-6cdefe41-712a-4e70-937d-c53081ef82a9\">\n",
              "    <div class=\"colab-df-container\">\n",
              "      <div>\n",
              "<style scoped>\n",
              "    .dataframe tbody tr th:only-of-type {\n",
              "        vertical-align: middle;\n",
              "    }\n",
              "\n",
              "    .dataframe tbody tr th {\n",
              "        vertical-align: top;\n",
              "    }\n",
              "\n",
              "    .dataframe thead th {\n",
              "        text-align: right;\n",
              "    }\n",
              "</style>\n",
              "<table border=\"1\" class=\"dataframe\">\n",
              "  <thead>\n",
              "    <tr style=\"text-align: right;\">\n",
              "      <th></th>\n",
              "      <th>headlines</th>\n",
              "      <th>text</th>\n",
              "    </tr>\n",
              "  </thead>\n",
              "  <tbody>\n",
              "    <tr>\n",
              "      <th>0</th>\n",
              "      <td>upGrad learner switches to career in ML &amp; Al w...</td>\n",
              "      <td>Saurav Kant, an alumnus of upGrad and IIIT-B's...</td>\n",
              "    </tr>\n",
              "    <tr>\n",
              "      <th>1</th>\n",
              "      <td>Delhi techie wins free food from Swiggy for on...</td>\n",
              "      <td>Kunal Shah's credit card bill payment platform...</td>\n",
              "    </tr>\n",
              "    <tr>\n",
              "      <th>2</th>\n",
              "      <td>New Zealand end Rohit Sharma-led India's 12-ma...</td>\n",
              "      <td>New Zealand defeated India by 8 wickets in the...</td>\n",
              "    </tr>\n",
              "    <tr>\n",
              "      <th>3</th>\n",
              "      <td>Aegon life iTerm insurance plan helps customer...</td>\n",
              "      <td>With Aegon Life iTerm Insurance plan, customer...</td>\n",
              "    </tr>\n",
              "    <tr>\n",
              "      <th>4</th>\n",
              "      <td>Have known Hirani for yrs, what if MeToo claim...</td>\n",
              "      <td>Speaking about the sexual harassment allegatio...</td>\n",
              "    </tr>\n",
              "  </tbody>\n",
              "</table>\n",
              "</div>\n",
              "      <button class=\"colab-df-convert\" onclick=\"convertToInteractive('df-6cdefe41-712a-4e70-937d-c53081ef82a9')\"\n",
              "              title=\"Convert this dataframe to an interactive table.\"\n",
              "              style=\"display:none;\">\n",
              "        \n",
              "  <svg xmlns=\"http://www.w3.org/2000/svg\" height=\"24px\"viewBox=\"0 0 24 24\"\n",
              "       width=\"24px\">\n",
              "    <path d=\"M0 0h24v24H0V0z\" fill=\"none\"/>\n",
              "    <path d=\"M18.56 5.44l.94 2.06.94-2.06 2.06-.94-2.06-.94-.94-2.06-.94 2.06-2.06.94zm-11 1L8.5 8.5l.94-2.06 2.06-.94-2.06-.94L8.5 2.5l-.94 2.06-2.06.94zm10 10l.94 2.06.94-2.06 2.06-.94-2.06-.94-.94-2.06-.94 2.06-2.06.94z\"/><path d=\"M17.41 7.96l-1.37-1.37c-.4-.4-.92-.59-1.43-.59-.52 0-1.04.2-1.43.59L10.3 9.45l-7.72 7.72c-.78.78-.78 2.05 0 2.83L4 21.41c.39.39.9.59 1.41.59.51 0 1.02-.2 1.41-.59l7.78-7.78 2.81-2.81c.8-.78.8-2.07 0-2.86zM5.41 20L4 18.59l7.72-7.72 1.47 1.35L5.41 20z\"/>\n",
              "  </svg>\n",
              "      </button>\n",
              "      \n",
              "  <style>\n",
              "    .colab-df-container {\n",
              "      display:flex;\n",
              "      flex-wrap:wrap;\n",
              "      gap: 12px;\n",
              "    }\n",
              "\n",
              "    .colab-df-convert {\n",
              "      background-color: #E8F0FE;\n",
              "      border: none;\n",
              "      border-radius: 50%;\n",
              "      cursor: pointer;\n",
              "      display: none;\n",
              "      fill: #1967D2;\n",
              "      height: 32px;\n",
              "      padding: 0 0 0 0;\n",
              "      width: 32px;\n",
              "    }\n",
              "\n",
              "    .colab-df-convert:hover {\n",
              "      background-color: #E2EBFA;\n",
              "      box-shadow: 0px 1px 2px rgba(60, 64, 67, 0.3), 0px 1px 3px 1px rgba(60, 64, 67, 0.15);\n",
              "      fill: #174EA6;\n",
              "    }\n",
              "\n",
              "    [theme=dark] .colab-df-convert {\n",
              "      background-color: #3B4455;\n",
              "      fill: #D2E3FC;\n",
              "    }\n",
              "\n",
              "    [theme=dark] .colab-df-convert:hover {\n",
              "      background-color: #434B5C;\n",
              "      box-shadow: 0px 1px 3px 1px rgba(0, 0, 0, 0.15);\n",
              "      filter: drop-shadow(0px 1px 2px rgba(0, 0, 0, 0.3));\n",
              "      fill: #FFFFFF;\n",
              "    }\n",
              "  </style>\n",
              "\n",
              "      <script>\n",
              "        const buttonEl =\n",
              "          document.querySelector('#df-6cdefe41-712a-4e70-937d-c53081ef82a9 button.colab-df-convert');\n",
              "        buttonEl.style.display =\n",
              "          google.colab.kernel.accessAllowed ? 'block' : 'none';\n",
              "\n",
              "        async function convertToInteractive(key) {\n",
              "          const element = document.querySelector('#df-6cdefe41-712a-4e70-937d-c53081ef82a9');\n",
              "          const dataTable =\n",
              "            await google.colab.kernel.invokeFunction('convertToInteractive',\n",
              "                                                     [key], {});\n",
              "          if (!dataTable) return;\n",
              "\n",
              "          const docLinkHtml = 'Like what you see? Visit the ' +\n",
              "            '<a target=\"_blank\" href=https://colab.research.google.com/notebooks/data_table.ipynb>data table notebook</a>'\n",
              "            + ' to learn more about interactive tables.';\n",
              "          element.innerHTML = '';\n",
              "          dataTable['output_type'] = 'display_data';\n",
              "          await google.colab.output.renderOutput(dataTable, element);\n",
              "          const docLink = document.createElement('div');\n",
              "          docLink.innerHTML = docLinkHtml;\n",
              "          element.appendChild(docLink);\n",
              "        }\n",
              "      </script>\n",
              "    </div>\n",
              "  </div>\n",
              "  "
            ]
          },
          "metadata": {},
          "execution_count": 10
        }
      ],
      "source": [
        "data.head()"
      ]
    },
    {
      "cell_type": "code",
      "execution_count": 11,
      "id": "5a2e8c1b",
      "metadata": {
        "id": "5a2e8c1b",
        "outputId": "639b2091-5e6a-4a29-9636-3f926fc79827",
        "colab": {
          "base_uri": "https://localhost:8080/",
          "height": 224
        }
      },
      "outputs": [
        {
          "output_type": "stream",
          "name": "stdout",
          "text": [
            "98401\n"
          ]
        },
        {
          "output_type": "execute_result",
          "data": {
            "text/plain": [
              "                                                 Summary  \\\n",
              "42251          Anil Kapoor's look from 'Race 3' unveiled   \n",
              "73643  If I want to give speech naked, I wonÃ¢ÂÂt b...   \n",
              "34838  US Congress warned against imposing sanctions ...   \n",
              "88694  Trump contradicts own team, says he shared inf...   \n",
              "26263   Sanjay Dutt to release his autobiography in 2019   \n",
              "\n",
              "                                                    Text  \n",
              "42251  Anil Kapoor's look from the upcoming film 'Rac...  \n",
              "73643  Hailing the Supreme Court's verdict on Right t...  \n",
              "34838  The Commander of the US Fleet Forces Command, ...  \n",
              "88694  After White House denied that US President Don...  \n",
              "26263  Sanjay Dutt will be releasing his autobiograph...  "
            ],
            "text/html": [
              "\n",
              "  <div id=\"df-758aa5a9-f158-4801-a511-10b9931789ea\">\n",
              "    <div class=\"colab-df-container\">\n",
              "      <div>\n",
              "<style scoped>\n",
              "    .dataframe tbody tr th:only-of-type {\n",
              "        vertical-align: middle;\n",
              "    }\n",
              "\n",
              "    .dataframe tbody tr th {\n",
              "        vertical-align: top;\n",
              "    }\n",
              "\n",
              "    .dataframe thead th {\n",
              "        text-align: right;\n",
              "    }\n",
              "</style>\n",
              "<table border=\"1\" class=\"dataframe\">\n",
              "  <thead>\n",
              "    <tr style=\"text-align: right;\">\n",
              "      <th></th>\n",
              "      <th>Summary</th>\n",
              "      <th>Text</th>\n",
              "    </tr>\n",
              "  </thead>\n",
              "  <tbody>\n",
              "    <tr>\n",
              "      <th>42251</th>\n",
              "      <td>Anil Kapoor's look from 'Race 3' unveiled</td>\n",
              "      <td>Anil Kapoor's look from the upcoming film 'Rac...</td>\n",
              "    </tr>\n",
              "    <tr>\n",
              "      <th>73643</th>\n",
              "      <td>If I want to give speech naked, I wonÃ¢ÂÂt b...</td>\n",
              "      <td>Hailing the Supreme Court's verdict on Right t...</td>\n",
              "    </tr>\n",
              "    <tr>\n",
              "      <th>34838</th>\n",
              "      <td>US Congress warned against imposing sanctions ...</td>\n",
              "      <td>The Commander of the US Fleet Forces Command, ...</td>\n",
              "    </tr>\n",
              "    <tr>\n",
              "      <th>88694</th>\n",
              "      <td>Trump contradicts own team, says he shared inf...</td>\n",
              "      <td>After White House denied that US President Don...</td>\n",
              "    </tr>\n",
              "    <tr>\n",
              "      <th>26263</th>\n",
              "      <td>Sanjay Dutt to release his autobiography in 2019</td>\n",
              "      <td>Sanjay Dutt will be releasing his autobiograph...</td>\n",
              "    </tr>\n",
              "  </tbody>\n",
              "</table>\n",
              "</div>\n",
              "      <button class=\"colab-df-convert\" onclick=\"convertToInteractive('df-758aa5a9-f158-4801-a511-10b9931789ea')\"\n",
              "              title=\"Convert this dataframe to an interactive table.\"\n",
              "              style=\"display:none;\">\n",
              "        \n",
              "  <svg xmlns=\"http://www.w3.org/2000/svg\" height=\"24px\"viewBox=\"0 0 24 24\"\n",
              "       width=\"24px\">\n",
              "    <path d=\"M0 0h24v24H0V0z\" fill=\"none\"/>\n",
              "    <path d=\"M18.56 5.44l.94 2.06.94-2.06 2.06-.94-2.06-.94-.94-2.06-.94 2.06-2.06.94zm-11 1L8.5 8.5l.94-2.06 2.06-.94-2.06-.94L8.5 2.5l-.94 2.06-2.06.94zm10 10l.94 2.06.94-2.06 2.06-.94-2.06-.94-.94-2.06-.94 2.06-2.06.94z\"/><path d=\"M17.41 7.96l-1.37-1.37c-.4-.4-.92-.59-1.43-.59-.52 0-1.04.2-1.43.59L10.3 9.45l-7.72 7.72c-.78.78-.78 2.05 0 2.83L4 21.41c.39.39.9.59 1.41.59.51 0 1.02-.2 1.41-.59l7.78-7.78 2.81-2.81c.8-.78.8-2.07 0-2.86zM5.41 20L4 18.59l7.72-7.72 1.47 1.35L5.41 20z\"/>\n",
              "  </svg>\n",
              "      </button>\n",
              "      \n",
              "  <style>\n",
              "    .colab-df-container {\n",
              "      display:flex;\n",
              "      flex-wrap:wrap;\n",
              "      gap: 12px;\n",
              "    }\n",
              "\n",
              "    .colab-df-convert {\n",
              "      background-color: #E8F0FE;\n",
              "      border: none;\n",
              "      border-radius: 50%;\n",
              "      cursor: pointer;\n",
              "      display: none;\n",
              "      fill: #1967D2;\n",
              "      height: 32px;\n",
              "      padding: 0 0 0 0;\n",
              "      width: 32px;\n",
              "    }\n",
              "\n",
              "    .colab-df-convert:hover {\n",
              "      background-color: #E2EBFA;\n",
              "      box-shadow: 0px 1px 2px rgba(60, 64, 67, 0.3), 0px 1px 3px 1px rgba(60, 64, 67, 0.15);\n",
              "      fill: #174EA6;\n",
              "    }\n",
              "\n",
              "    [theme=dark] .colab-df-convert {\n",
              "      background-color: #3B4455;\n",
              "      fill: #D2E3FC;\n",
              "    }\n",
              "\n",
              "    [theme=dark] .colab-df-convert:hover {\n",
              "      background-color: #434B5C;\n",
              "      box-shadow: 0px 1px 3px 1px rgba(0, 0, 0, 0.15);\n",
              "      filter: drop-shadow(0px 1px 2px rgba(0, 0, 0, 0.3));\n",
              "      fill: #FFFFFF;\n",
              "    }\n",
              "  </style>\n",
              "\n",
              "      <script>\n",
              "        const buttonEl =\n",
              "          document.querySelector('#df-758aa5a9-f158-4801-a511-10b9931789ea button.colab-df-convert');\n",
              "        buttonEl.style.display =\n",
              "          google.colab.kernel.accessAllowed ? 'block' : 'none';\n",
              "\n",
              "        async function convertToInteractive(key) {\n",
              "          const element = document.querySelector('#df-758aa5a9-f158-4801-a511-10b9931789ea');\n",
              "          const dataTable =\n",
              "            await google.colab.kernel.invokeFunction('convertToInteractive',\n",
              "                                                     [key], {});\n",
              "          if (!dataTable) return;\n",
              "\n",
              "          const docLinkHtml = 'Like what you see? Visit the ' +\n",
              "            '<a target=\"_blank\" href=https://colab.research.google.com/notebooks/data_table.ipynb>data table notebook</a>'\n",
              "            + ' to learn more about interactive tables.';\n",
              "          element.innerHTML = '';\n",
              "          dataTable['output_type'] = 'display_data';\n",
              "          await google.colab.output.renderOutput(dataTable, element);\n",
              "          const docLink = document.createElement('div');\n",
              "          docLink.innerHTML = docLinkHtml;\n",
              "          element.appendChild(docLink);\n",
              "        }\n",
              "      </script>\n",
              "    </div>\n",
              "  </div>\n",
              "  "
            ]
          },
          "metadata": {},
          "execution_count": 11
        }
      ],
      "source": [
        "print(len(data))\n",
        "data.rename(columns={'headlines' : 'Summary', 'text' : 'Text'}, inplace = True) # 기존에 있던 코드를 활용하기 위해 이름 바꾸기\n",
        "data.sample(5)"
      ]
    },
    {
      "cell_type": "markdown",
      "id": "0fe9aa88",
      "metadata": {
        "id": "0fe9aa88"
      },
      "source": [
        "## 2 Preprocess"
      ]
    },
    {
      "cell_type": "markdown",
      "id": "7b5694dd",
      "metadata": {
        "id": "7b5694dd"
      },
      "source": [
        "### missing value"
      ]
    },
    {
      "cell_type": "code",
      "execution_count": 14,
      "id": "b276a9d9",
      "metadata": {
        "id": "b276a9d9",
        "outputId": "6d252653-34cc-464d-d53a-b28ac204e70a",
        "colab": {
          "base_uri": "https://localhost:8080/"
        }
      },
      "outputs": [
        {
          "output_type": "stream",
          "name": "stdout",
          "text": [
            "Text 열에서 중복을 배제한 유일한 샘플의 수 : 98360\n",
            "Summary 열에서 중복을 배제한 유일한 샘플의 수 : 98280\n"
          ]
        }
      ],
      "source": [
        "print('Text 열에서 중복을 배제한 유일한 샘플의 수 :', data['Text'].nunique())\n",
        "print('Summary 열에서 중복을 배제한 유일한 샘플의 수 :', data['Summary'].nunique())\n",
        "# 중복된 데이터는 98401-98360 = 41ea"
      ]
    },
    {
      "cell_type": "code",
      "execution_count": 15,
      "id": "4df809db",
      "metadata": {
        "id": "4df809db",
        "outputId": "3669c6b1-c42a-4e32-dc0f-af0e578405c7",
        "colab": {
          "base_uri": "https://localhost:8080/"
        }
      },
      "outputs": [
        {
          "output_type": "stream",
          "name": "stdout",
          "text": [
            "전체 샘플수 : 98360\n"
          ]
        }
      ],
      "source": [
        "# inplace=True 를 설정하면 DataFrame 타입 값을 return 하지 않고 data 내부를 직접적으로 바꿉니다\n",
        "data.drop_duplicates(subset = ['Text'], inplace=True) # 중복된 값 버리기\n",
        "print('전체 샘플수 :', (len(data)))"
      ]
    },
    {
      "cell_type": "code",
      "execution_count": 16,
      "id": "9999ac68",
      "metadata": {
        "id": "9999ac68",
        "outputId": "f3c32071-5c9d-4bb2-a498-28128dc89c57",
        "colab": {
          "base_uri": "https://localhost:8080/"
        }
      },
      "outputs": [
        {
          "output_type": "stream",
          "name": "stdout",
          "text": [
            "Summary    0\n",
            "Text       0\n",
            "dtype: int64\n"
          ]
        }
      ],
      "source": [
        "print(data.isnull().sum())\n",
        "# 결측 없음."
      ]
    },
    {
      "cell_type": "code",
      "execution_count": 17,
      "id": "57fc623e",
      "metadata": {
        "id": "57fc623e",
        "outputId": "ffbbcb03-0676-4351-8d0e-cbb47e215481",
        "colab": {
          "base_uri": "https://localhost:8080/"
        }
      },
      "outputs": [
        {
          "output_type": "stream",
          "name": "stdout",
          "text": [
            "전체 샘플수 : 98360\n"
          ]
        }
      ],
      "source": [
        "data.dropna(axis=0, inplace=True)\n",
        "print('전체 샘플수 :', (len(data)))\n",
        "# 확인차 결측치 버리기 역시나 결측치는 없었다."
      ]
    },
    {
      "cell_type": "markdown",
      "id": "650a3930",
      "metadata": {
        "id": "650a3930"
      },
      "source": [
        "### Text Normalization & Remove Stop Word\n",
        "- Text Normalization :  \n",
        "    단어들 중에서는 같은 의미인데도 다른 표현으로 쓰여 마치 다른 단어들처럼 간주되는 경우가 있음.  \n",
        "    이런 경우 기계가 굳이 이들을 마치 다른 단어로 간주하게 해서 연산량을 늘리는 것보다는 기계 학습 전에 미리 같은 표현으로 통일시켜주는 것이 기계의 연산량을 줄이는 것이 좋음.  \n",
        "    이러한 방법론을 텍스트 처리에서는 텍스트 정규화라고 함."
      ]
    },
    {
      "cell_type": "code",
      "execution_count": 18,
      "id": "5482ff58",
      "metadata": {
        "id": "5482ff58",
        "outputId": "ddb5cf12-a43a-49b0-baa0-18a795b0ac35",
        "colab": {
          "base_uri": "https://localhost:8080/"
        }
      },
      "outputs": [
        {
          "output_type": "stream",
          "name": "stdout",
          "text": [
            "정규화 사전의 수:  120\n"
          ]
        }
      ],
      "source": [
        "contractions = {\"ain't\": \"is not\", \"aren't\": \"are not\",\"can't\": \"cannot\", \"'cause\": \"because\", \"could've\": \"could have\", \"couldn't\": \"could not\",\n",
        "                           \"didn't\": \"did not\",  \"doesn't\": \"does not\", \"don't\": \"do not\", \"hadn't\": \"had not\", \"hasn't\": \"has not\", \"haven't\": \"have not\",\n",
        "                           \"he'd\": \"he would\",\"he'll\": \"he will\", \"he's\": \"he is\", \"how'd\": \"how did\", \"how'd'y\": \"how do you\", \"how'll\": \"how will\", \"how's\": \"how is\",\n",
        "                           \"I'd\": \"I would\", \"I'd've\": \"I would have\", \"I'll\": \"I will\", \"I'll've\": \"I will have\",\"I'm\": \"I am\", \"I've\": \"I have\", \"i'd\": \"i would\",\n",
        "                           \"i'd've\": \"i would have\", \"i'll\": \"i will\",  \"i'll've\": \"i will have\",\"i'm\": \"i am\", \"i've\": \"i have\", \"isn't\": \"is not\", \"it'd\": \"it would\",\n",
        "                           \"it'd've\": \"it would have\", \"it'll\": \"it will\", \"it'll've\": \"it will have\",\"it's\": \"it is\", \"let's\": \"let us\", \"ma'am\": \"madam\",\n",
        "                           \"mayn't\": \"may not\", \"might've\": \"might have\",\"mightn't\": \"might not\",\"mightn't've\": \"might not have\", \"must've\": \"must have\",\n",
        "                           \"mustn't\": \"must not\", \"mustn't've\": \"must not have\", \"needn't\": \"need not\", \"needn't've\": \"need not have\",\"o'clock\": \"of the clock\",\n",
        "                           \"oughtn't\": \"ought not\", \"oughtn't've\": \"ought not have\", \"shan't\": \"shall not\", \"sha'n't\": \"shall not\", \"shan't've\": \"shall not have\",\n",
        "                           \"she'd\": \"she would\", \"she'd've\": \"she would have\", \"she'll\": \"she will\", \"she'll've\": \"she will have\", \"she's\": \"she is\",\n",
        "                           \"should've\": \"should have\", \"shouldn't\": \"should not\", \"shouldn't've\": \"should not have\", \"so've\": \"so have\",\"so's\": \"so as\",\n",
        "                           \"this's\": \"this is\",\"that'd\": \"that would\", \"that'd've\": \"that would have\", \"that's\": \"that is\", \"there'd\": \"there would\",\n",
        "                           \"there'd've\": \"there would have\", \"there's\": \"there is\", \"here's\": \"here is\",\"they'd\": \"they would\", \"they'd've\": \"they would have\",\n",
        "                           \"they'll\": \"they will\", \"they'll've\": \"they will have\", \"they're\": \"they are\", \"they've\": \"they have\", \"to've\": \"to have\",\n",
        "                           \"wasn't\": \"was not\", \"we'd\": \"we would\", \"we'd've\": \"we would have\", \"we'll\": \"we will\", \"we'll've\": \"we will have\", \"we're\": \"we are\",\n",
        "                           \"we've\": \"we have\", \"weren't\": \"were not\", \"what'll\": \"what will\", \"what'll've\": \"what will have\", \"what're\": \"what are\",\n",
        "                           \"what's\": \"what is\", \"what've\": \"what have\", \"when's\": \"when is\", \"when've\": \"when have\", \"where'd\": \"where did\", \"where's\": \"where is\",\n",
        "                           \"where've\": \"where have\", \"who'll\": \"who will\", \"who'll've\": \"who will have\", \"who's\": \"who is\", \"who've\": \"who have\",\n",
        "                           \"why's\": \"why is\", \"why've\": \"why have\", \"will've\": \"will have\", \"won't\": \"will not\", \"won't've\": \"will not have\",\n",
        "                           \"would've\": \"would have\", \"wouldn't\": \"would not\", \"wouldn't've\": \"would not have\", \"y'all\": \"you all\",\n",
        "                           \"y'all'd\": \"you all would\",\"y'all'd've\": \"you all would have\",\"y'all're\": \"you all are\",\"y'all've\": \"you all have\",\n",
        "                           \"you'd\": \"you would\", \"you'd've\": \"you would have\", \"you'll\": \"you will\", \"you'll've\": \"you will have\",\n",
        "                           \"you're\": \"you are\", \"you've\": \"you have\"}\n",
        "\n",
        "print(\"정규화 사전의 수: \", len(contractions))\n",
        "# 텍스트 정규화를 위한 사전\n",
        "# https://stackoverflow.com/questions/19790188/expanding-english-language-contractions-in-python"
      ]
    },
    {
      "cell_type": "markdown",
      "id": "54206038",
      "metadata": {
        "id": "54206038"
      },
      "source": [
        "- Stop Word  \n",
        "    텍스트에는 자주 등장하지만 자연어 처리를 할 때 실질적으로 별 도움이 되지 않는 단어들  \n",
        "    불용어를 제거하는 것이 자연어 처리의 성능을 높이는 방법일 수 있음.  \n",
        "    NLTK에서 제공한 것을 사용함.\n",
        "   "
      ]
    },
    {
      "cell_type": "code",
      "execution_count": null,
      "id": "9dc152d3",
      "metadata": {
        "id": "9dc152d3",
        "outputId": "57e2622d-3ca0-47b8-fda8-249db97e0697"
      },
      "outputs": [
        {
          "name": "stdout",
          "output_type": "stream",
          "text": [
            "불용어 개수 : 179\n",
            "['i', 'me', 'my', 'myself', 'we', 'our', 'ours', 'ourselves', 'you', \"you're\", \"you've\", \"you'll\", \"you'd\", 'your', 'yours', 'yourself', 'yourselves', 'he', 'him', 'his', 'himself', 'she', \"she's\", 'her', 'hers', 'herself', 'it', \"it's\", 'its', 'itself', 'they', 'them', 'their', 'theirs', 'themselves', 'what', 'which', 'who', 'whom', 'this', 'that', \"that'll\", 'these', 'those', 'am', 'is', 'are', 'was', 'were', 'be', 'been', 'being', 'have', 'has', 'had', 'having', 'do', 'does', 'did', 'doing', 'a', 'an', 'the', 'and', 'but', 'if', 'or', 'because', 'as', 'until', 'while', 'of', 'at', 'by', 'for', 'with', 'about', 'against', 'between', 'into', 'through', 'during', 'before', 'after', 'above', 'below', 'to', 'from', 'up', 'down', 'in', 'out', 'on', 'off', 'over', 'under', 'again', 'further', 'then', 'once', 'here', 'there', 'when', 'where', 'why', 'how', 'all', 'any', 'both', 'each', 'few', 'more', 'most', 'other', 'some', 'such', 'no', 'nor', 'not', 'only', 'own', 'same', 'so', 'than', 'too', 'very', 's', 't', 'can', 'will', 'just', 'don', \"don't\", 'should', \"should've\", 'now', 'd', 'll', 'm', 'o', 're', 've', 'y', 'ain', 'aren', \"aren't\", 'couldn', \"couldn't\", 'didn', \"didn't\", 'doesn', \"doesn't\", 'hadn', \"hadn't\", 'hasn', \"hasn't\", 'haven', \"haven't\", 'isn', \"isn't\", 'ma', 'mightn', \"mightn't\", 'mustn', \"mustn't\", 'needn', \"needn't\", 'shan', \"shan't\", 'shouldn', \"shouldn't\", 'wasn', \"wasn't\", 'weren', \"weren't\", 'won', \"won't\", 'wouldn', \"wouldn't\"]\n"
          ]
        }
      ],
      "source": [
        "print('불용어 개수 :', len(stopwords.words('english') ))\n",
        "print(stopwords.words('english'))"
      ]
    },
    {
      "cell_type": "markdown",
      "id": "9e334eb7",
      "metadata": {
        "id": "9e334eb7"
      },
      "source": [
        "- Text 전처리 시 :  remove_stopwords를 호출\n",
        "- Summary 전처리 시 : 이미 상대적으로 문장 길이가 짧아 remove_stopwords를 호출하지 않음.  \n",
        "    - 자연스러운 문장이 되려면 불용어가 남아 있는 것이 나음."
      ]
    },
    {
      "cell_type": "code",
      "execution_count": 19,
      "id": "e2170f71",
      "metadata": {
        "id": "e2170f71",
        "outputId": "dfe8f5b6-03ec-4686-8fac-ca2094024ac8",
        "colab": {
          "base_uri": "https://localhost:8080/"
        }
      },
      "outputs": [
        {
          "output_type": "stream",
          "name": "stdout",
          "text": [
            "<3\n"
          ]
        }
      ],
      "source": [
        "# 데이터 전처리 함수\n",
        "def preprocess_sentence(sentence, remove_stopwords=True):\n",
        "    sentence = sentence.lower() # 텍스트 소문자화\n",
        "    sentence = BeautifulSoup(sentence, \"lxml\").text # <br />, <a href = ...> 등의 html 태그 제거\n",
        "    sentence = re.sub(r'\\([^)]*\\)', '', sentence) # 괄호로 닫힌 문자열 (...) 제거 Ex) my husband (and myself!) for => my husband for\n",
        "    sentence = re.sub('\"','', sentence) # 쌍따옴표 \" 제거\n",
        "    sentence = ' '.join([contractions[t] if t in contractions else t for t in sentence.split(\" \")]) # 약어 정규화\n",
        "    sentence = re.sub(r\"'s\\b\",\"\", sentence) # 소유격 제거. Ex) roland's -> roland\n",
        "    sentence = re.sub(\"[^a-zA-Z]\", \" \", sentence) # 영어 외 문자(숫자, 특수문자 등) 공백으로 변환\n",
        "    sentence = re.sub('[m]{2,}', 'mm', sentence) # m이 3개 이상이면 2개로 변경. Ex) ummmmmmm yeah -> umm yeah\n",
        "\n",
        "    # 불용어 제거 (Text)\n",
        "    if remove_stopwords:\n",
        "        tokens = ' '.join(word for word in sentence.split() if not word in stopwords.words('english') if len(word) > 1)\n",
        "    # 불용어 미제거 (Summary,  remove_stopwords=Flase)\n",
        "    else:\n",
        "        tokens = ' '.join(word for word in sentence.split() if len(word) > 1)\n",
        "    return tokens\n",
        "print('<3')"
      ]
    },
    {
      "cell_type": "code",
      "execution_count": 20,
      "id": "668ca922",
      "metadata": {
        "id": "668ca922",
        "outputId": "8860e1f6-bfd2-470f-f0dd-787f0fa29334",
        "colab": {
          "base_uri": "https://localhost:8080/"
        }
      },
      "outputs": [
        {
          "output_type": "stream",
          "name": "stdout",
          "text": [
            "text:  everything bought great infact ordered twice third ordered mother father\n",
            "summary: great way to start the day\n"
          ]
        }
      ],
      "source": [
        "# test\n",
        "temp_text = 'Everything I bought was great, infact I ordered twice and the third ordered was <br />for my mother and father.'\n",
        "temp_summary = 'Great way to start (or finish) the day!!!'\n",
        "\n",
        "print(\"text: \", preprocess_sentence(temp_text))\n",
        "print(\"summary:\", preprocess_sentence(temp_summary, False))  # 불용어를 제거하지 않습니다."
      ]
    },
    {
      "cell_type": "code",
      "execution_count": 21,
      "id": "b19f28cb",
      "metadata": {
        "id": "b19f28cb",
        "outputId": "8bbbf449-8464-4797-cdf3-66dcc16f2623",
        "colab": {
          "base_uri": "https://localhost:8080/"
        }
      },
      "outputs": [
        {
          "output_type": "stream",
          "name": "stdout",
          "text": [
            "Text 전처리 후 결과:  ['saurav kant alumnus upgrad iiit pg program machine learning artificial intelligence sr systems engineer infosys almost years work experience program upgrad degree career support helped transition data scientist tech mahindra salary hike upgrad online power learning powered lakh careers', 'kunal shah credit card bill payment platform cred gave users chance win free food swiggy one year pranav kaushik delhi techie bagged reward spending cred coins users get one cred coin per rupee bill paid used avail rewards brands like ixigo bookmyshow ubereats cult fit', 'new zealand defeated india wickets fourth odi hamilton thursday win first match five match odi series india lost international match rohit sharma captaincy consecutive victories dating back march match witnessed india getting seventh lowest total odi cricket history', 'aegon life iterm insurance plan customers enjoy tax benefits premiums paid save taxes plan provides life cover age years also customers options insure critical illnesses disability accidental death benefit rider life cover age years', 'speaking sexual harassment allegations rajkumar hirani sonam kapoor said known hirani many years true metoo movement get derailed metoo movement always believe woman case need reserve judgment added hirani accused assistant worked sanju']\n"
          ]
        }
      ],
      "source": [
        "# Text 전처리 후 clean_text에 추가\n",
        "clean_text = []\n",
        "# 전체 Text 데이터에 대한 전처리 : 10분 이상 시간이 걸릴 수 있습니다.\n",
        "for s in data['Text']:\n",
        "    clean_text.append(preprocess_sentence(s))\n",
        "\n",
        "# 전처리 후 출력\n",
        "print(\"Text 전처리 후 결과: \", clean_text[:5])"
      ]
    },
    {
      "cell_type": "code",
      "execution_count": 22,
      "id": "2babaed8",
      "metadata": {
        "id": "2babaed8",
        "outputId": "ffedc2f6-4684-4d87-cbaa-2a03aeb88515",
        "colab": {
          "base_uri": "https://localhost:8080/"
        }
      },
      "outputs": [
        {
          "output_type": "stream",
          "name": "stderr",
          "text": [
            "<ipython-input-19-8676cd6a2b2e>:4: MarkupResemblesLocatorWarning: The input looks more like a filename than markup. You may want to open this file and pass the filehandle into Beautiful Soup.\n",
            "  sentence = BeautifulSoup(sentence, \"lxml\").text # <br />, <a href = ...> 등의 html 태그 제거\n"
          ]
        },
        {
          "output_type": "stream",
          "name": "stdout",
          "text": [
            "Summary 전처리 후 결과:  ['upgrad learner switches to career in ml al with salary hike', 'delhi techie wins free food from swiggy for one year on cred', 'new zealand end rohit sharma led india match winning streak', 'aegon life iterm insurance plan helps customers save tax', 'have known hirani for yrs what if metoo claims are not true sonam']\n"
          ]
        }
      ],
      "source": [
        "# Summary 전처리 후 clean_summary에 추가\n",
        "clean_summary = []\n",
        "# 전체 Summary 데이터에 대한 전처리 : 5분 이상 시간이 걸릴 수 있습니다.\n",
        "for s in data['Summary']:\n",
        "    clean_summary.append(preprocess_sentence(s, False))\n",
        "\n",
        "print(\"Summary 전처리 후 결과: \", clean_summary[:5])"
      ]
    },
    {
      "cell_type": "code",
      "execution_count": 23,
      "id": "168c12f3",
      "metadata": {
        "id": "168c12f3",
        "outputId": "9fe39581-8900-48c9-849d-066e53e26141",
        "colab": {
          "base_uri": "https://localhost:8080/"
        }
      },
      "outputs": [
        {
          "output_type": "stream",
          "name": "stdout",
          "text": [
            "=3\n"
          ]
        }
      ],
      "source": [
        "# 전처리한 값을 데이터 프레임 안으로 넣음\n",
        "data['Text'] = clean_text\n",
        "data['Summary'] = clean_summary\n",
        "\n",
        "# 빈 값을 Null 값으로 변환\n",
        "data.replace('', np.nan, inplace=True)\n",
        "print('=3')"
      ]
    },
    {
      "cell_type": "code",
      "execution_count": 24,
      "id": "676c3ea3",
      "metadata": {
        "id": "676c3ea3",
        "outputId": "cb62d3ee-5047-4496-b8ce-6d0eb8a32cc3",
        "colab": {
          "base_uri": "https://localhost:8080/"
        }
      },
      "outputs": [
        {
          "output_type": "execute_result",
          "data": {
            "text/plain": [
              "Summary    0\n",
              "Text       0\n",
              "dtype: int64"
            ]
          },
          "metadata": {},
          "execution_count": 24
        }
      ],
      "source": [
        "data.isnull().sum()"
      ]
    },
    {
      "cell_type": "code",
      "execution_count": 25,
      "id": "8b3e50a5",
      "metadata": {
        "id": "8b3e50a5",
        "outputId": "bb5d0ebd-b04f-480b-9627-018f975b1a26",
        "colab": {
          "base_uri": "https://localhost:8080/"
        }
      },
      "outputs": [
        {
          "output_type": "stream",
          "name": "stdout",
          "text": [
            "전체 샘플수 : 98360\n"
          ]
        }
      ],
      "source": [
        "data.dropna(axis=0, inplace=True)\n",
        "print('전체 샘플수 :', (len(data)))"
      ]
    },
    {
      "cell_type": "markdown",
      "id": "2efd93d1",
      "metadata": {
        "id": "2efd93d1"
      },
      "source": [
        "### Split test & train data\n",
        "- 학습에 사용할 데이터의 크기 결정\n",
        "- 문장의 시작과 끝을 표시"
      ]
    },
    {
      "cell_type": "code",
      "execution_count": null,
      "id": "b4ad99b1",
      "metadata": {
        "id": "b4ad99b1",
        "outputId": "32fafad7-7d5e-43b5-994b-9db8f492d283"
      },
      "outputs": [
        {
          "name": "stdout",
          "output_type": "stream",
          "text": [
            "텍스트의 최소 길이 : 1\n",
            "텍스트의 최대 길이 : 60\n",
            "텍스트의 평균 길이 : 35.09968483123221\n",
            "요약의 최소 길이 : 1\n",
            "요약의 최대 길이 : 16\n",
            "요약의 평균 길이 : 9.299532330215534\n"
          ]
        },
        {
          "data": {
            "image/png": "[encoded data removed]",
            "text/plain": [
              "<Figure size 432x288 with 2 Axes>"
            ]
          },
          "metadata": {
            "needs_background": "light"
          },
          "output_type": "display_data"
        },
        {
          "data": {
            "image/png": "[encoded data removed]",
            "text/plain": [
              "<Figure size 432x288 with 1 Axes>"
            ]
          },
          "metadata": {
            "needs_background": "light"
          },
          "output_type": "display_data"
        },
        {
          "data": {
            "image/png": "[encoded data removed]",
            "text/plain": [
              "<Figure size 432x288 with 1 Axes>"
            ]
          },
          "metadata": {
            "needs_background": "light"
          },
          "output_type": "display_data"
        }
      ],
      "source": [
        "# 길이 분포 출력\n",
        "import matplotlib.pyplot as plt\n",
        "\n",
        "text_len = [len(s.split()) for s in data['Text']]\n",
        "summary_len = [len(s.split()) for s in data['Summary']]\n",
        "\n",
        "print('텍스트의 최소 길이 : {}'.format(np.min(text_len)))\n",
        "print('텍스트의 최대 길이 : {}'.format(np.max(text_len)))\n",
        "print('텍스트의 평균 길이 : {}'.format(np.mean(text_len)))\n",
        "print('요약의 최소 길이 : {}'.format(np.min(summary_len)))\n",
        "print('요약의 최대 길이 : {}'.format(np.max(summary_len)))\n",
        "print('요약의 평균 길이 : {}'.format(np.mean(summary_len)))\n",
        "\n",
        "plt.subplot(1,2,1)\n",
        "plt.boxplot(text_len)\n",
        "plt.title('Text')\n",
        "plt.subplot(1,2,2)\n",
        "plt.boxplot(summary_len)\n",
        "plt.title('Summary')\n",
        "plt.tight_layout()\n",
        "plt.show()\n",
        "\n",
        "plt.title('Text')\n",
        "plt.hist(text_len, bins = 40)\n",
        "plt.xlabel('length of samples')\n",
        "plt.ylabel('number of samples')\n",
        "plt.show()\n",
        "\n",
        "plt.title('Summary')\n",
        "plt.hist(summary_len, bins = 40)\n",
        "plt.xlabel('length of samples')\n",
        "plt.ylabel('number of samples')\n",
        "plt.show()"
      ]
    },
    {
      "cell_type": "markdown",
      "id": "e421624a",
      "metadata": {
        "id": "e421624a"
      },
      "source": [
        "- 그래프 양쪽으로 적은 빈도의 길이가 분포되어 있어 적은 분포의 부분인 그래프 양쪽을 제외하고 학습을 진행하기로 함."
      ]
    },
    {
      "cell_type": "code",
      "execution_count": null,
      "id": "9c611c5b",
      "metadata": {
        "id": "9c611c5b",
        "outputId": "c31c524f-92ed-49c8-8b65-a382306aea86"
      },
      "outputs": [
        {
          "name": "stdout",
          "output_type": "stream",
          "text": [
            "=3\n"
          ]
        }
      ],
      "source": [
        "# 전체 샘플 중 길이가 %s 이하인 샘플의 비율\n",
        "def below_threshold_len(max_len, nested_list):\n",
        "  cnt = 0\n",
        "  for s in nested_list:\n",
        "    if(len(s.split()) <= max_len):\n",
        "        cnt = cnt + 1\n",
        "  print('전체 샘플 중 길이가 %s 이하인 샘플의 비율: %s'%(max_len, (cnt / len(nested_list))))\n",
        "print('=3')"
      ]
    },
    {
      "cell_type": "code",
      "execution_count": null,
      "id": "b8f7d36a",
      "metadata": {
        "id": "b8f7d36a",
        "outputId": "d69256d5-9b44-4554-c3cf-c76456a10f81"
      },
      "outputs": [
        {
          "name": "stdout",
          "output_type": "stream",
          "text": [
            "전체 샘플 중 길이가 38 이하인 샘플의 비율: 0.8163379422529483\n",
            "전체 샘플 중 길이가 10 이하인 샘플의 비율: 0.8162972753151687\n"
          ]
        }
      ],
      "source": [
        "text_max_len = 38\n",
        "summary_max_len = 10\n",
        "\n",
        "below_threshold_len(text_max_len, data['Text'])\n",
        "below_threshold_len(summary_max_len,  data['Summary'])\n",
        "# 위 아래로 5% 정도 빼기"
      ]
    },
    {
      "cell_type": "code",
      "execution_count": null,
      "id": "22546088",
      "metadata": {
        "id": "22546088",
        "outputId": "0f1e30b7-668d-4e91-8727-949813534098"
      },
      "outputs": [
        {
          "name": "stdout",
          "output_type": "stream",
          "text": [
            "전체 샘플수 : 65295\n"
          ]
        }
      ],
      "source": [
        "# 정해진 길이보다 길면 제외하는 방법으로 데이터를 정제\n",
        "data = data[data['Text'].apply(lambda x: len(x.split()) <= text_max_len)]\n",
        "data = data[data['Summary'].apply(lambda x: len(x.split()) <= summary_max_len)]\n",
        "print('전체 샘플수 :', (len(data)))"
      ]
    },
    {
      "cell_type": "code",
      "execution_count": null,
      "id": "54595789",
      "metadata": {
        "id": "54595789",
        "outputId": "2da083fa-6d7a-42e8-ee49-261cab4d96a0"
      },
      "outputs": [
        {
          "name": "stdout",
          "output_type": "stream",
          "text": [
            "전체 샘플 중 길이가 28 이하인 샘플의 비율: 0.04091093940626271\n",
            "전체 샘플 중 길이가 7 이하인 샘플의 비율: 0.0887149247661651\n"
          ]
        }
      ],
      "source": [
        "# text_min_len = 28\n",
        "# summary_min_len = 7\n",
        "\n",
        "# below_threshold_len(text_min_len, data['Text'])\n",
        "# below_threshold_len(summary_min_len,  data['Summary'])\n",
        "# # 위 아래로 5% 정도 빼기"
      ]
    },
    {
      "cell_type": "code",
      "execution_count": null,
      "id": "c6f30468",
      "metadata": {
        "id": "c6f30468",
        "outputId": "a7bf2f6f-56ee-4cbf-e57c-6d7210ed4aae"
      },
      "outputs": [
        {
          "name": "stdout",
          "output_type": "stream",
          "text": [
            "전체 샘플수 : 20316\n"
          ]
        }
      ],
      "source": [
        "# # 정해진 길이보다 길면 제외하는 방법으로 데이터를 정제\n",
        "# data = data[data['Text'].apply(lambda x: len(x.split()) <= text_max_len & len(x.split()) >= text_min_len)]\n",
        "# data = data[data['Summary'].apply(lambda x: len(x.split()) <= summary_max_len & len(x.split()) >= summary_min_len)]\n",
        "# print('전체 샘플수 :', (len(data)))"
      ]
    },
    {
      "cell_type": "markdown",
      "id": "4d5ad1ac",
      "metadata": {
        "id": "4d5ad1ac"
      },
      "source": [
        "#### Add Token"
      ]
    },
    {
      "cell_type": "code",
      "execution_count": null,
      "id": "84ba4bc8",
      "metadata": {
        "id": "84ba4bc8",
        "outputId": "37985a1e-8c97-4566-b2ff-e7a5c46cd408"
      },
      "outputs": [
        {
          "data": {
            "text/html": [
              "<div>\n",
              "<style scoped>\n",
              "    .dataframe tbody tr th:only-of-type {\n",
              "        vertical-align: middle;\n",
              "    }\n",
              "\n",
              "    .dataframe tbody tr th {\n",
              "        vertical-align: top;\n",
              "    }\n",
              "\n",
              "    .dataframe thead th {\n",
              "        text-align: right;\n",
              "    }\n",
              "</style>\n",
              "<table border=\"1\" class=\"dataframe\">\n",
              "  <thead>\n",
              "    <tr style=\"text-align: right;\">\n",
              "      <th></th>\n",
              "      <th>Summary</th>\n",
              "      <th>Text</th>\n",
              "      <th>decoder_input</th>\n",
              "      <th>decoder_target</th>\n",
              "    </tr>\n",
              "  </thead>\n",
              "  <tbody>\n",
              "    <tr>\n",
              "      <th>2</th>\n",
              "      <td>new zealand end rohit sharma led india match w...</td>\n",
              "      <td>new zealand defeated india wickets fourth odi ...</td>\n",
              "      <td>sostoken new zealand end rohit sharma led indi...</td>\n",
              "      <td>new zealand end rohit sharma led india match w...</td>\n",
              "    </tr>\n",
              "    <tr>\n",
              "      <th>3</th>\n",
              "      <td>aegon life iterm insurance plan helps customer...</td>\n",
              "      <td>aegon life iterm insurance plan customers enjo...</td>\n",
              "      <td>sostoken aegon life iterm insurance plan helps...</td>\n",
              "      <td>aegon life iterm insurance plan helps customer...</td>\n",
              "    </tr>\n",
              "    <tr>\n",
              "      <th>5</th>\n",
              "      <td>rahat fateh ali khan denies getting notice for...</td>\n",
              "      <td>pakistani singer rahat fateh ali khan denied r...</td>\n",
              "      <td>sostoken rahat fateh ali khan denies getting n...</td>\n",
              "      <td>rahat fateh ali khan denies getting notice for...</td>\n",
              "    </tr>\n",
              "    <tr>\n",
              "      <th>9</th>\n",
              "      <td>cong wins ramgarh bypoll in rajasthan takes to...</td>\n",
              "      <td>congress candidate shafia zubair ramgarh assem...</td>\n",
              "      <td>sostoken cong wins ramgarh bypoll in rajasthan...</td>\n",
              "      <td>cong wins ramgarh bypoll in rajasthan takes to...</td>\n",
              "    </tr>\n",
              "    <tr>\n",
              "      <th>10</th>\n",
              "      <td>up cousins fed human excreta for friendship wi...</td>\n",
              "      <td>two minor cousins uttar pradesh gorakhpur alle...</td>\n",
              "      <td>sostoken up cousins fed human excreta for frie...</td>\n",
              "      <td>up cousins fed human excreta for friendship wi...</td>\n",
              "    </tr>\n",
              "  </tbody>\n",
              "</table>\n",
              "</div>"
            ],
            "text/plain": [
              "                                              Summary  \\\n",
              "2   new zealand end rohit sharma led india match w...   \n",
              "3   aegon life iterm insurance plan helps customer...   \n",
              "5   rahat fateh ali khan denies getting notice for...   \n",
              "9   cong wins ramgarh bypoll in rajasthan takes to...   \n",
              "10  up cousins fed human excreta for friendship wi...   \n",
              "\n",
              "                                                 Text  \\\n",
              "2   new zealand defeated india wickets fourth odi ...   \n",
              "3   aegon life iterm insurance plan customers enjo...   \n",
              "5   pakistani singer rahat fateh ali khan denied r...   \n",
              "9   congress candidate shafia zubair ramgarh assem...   \n",
              "10  two minor cousins uttar pradesh gorakhpur alle...   \n",
              "\n",
              "                                        decoder_input  \\\n",
              "2   sostoken new zealand end rohit sharma led indi...   \n",
              "3   sostoken aegon life iterm insurance plan helps...   \n",
              "5   sostoken rahat fateh ali khan denies getting n...   \n",
              "9   sostoken cong wins ramgarh bypoll in rajasthan...   \n",
              "10  sostoken up cousins fed human excreta for frie...   \n",
              "\n",
              "                                       decoder_target  \n",
              "2   new zealand end rohit sharma led india match w...  \n",
              "3   aegon life iterm insurance plan helps customer...  \n",
              "5   rahat fateh ali khan denies getting notice for...  \n",
              "9   cong wins ramgarh bypoll in rajasthan takes to...  \n",
              "10  up cousins fed human excreta for friendship wi...  "
            ]
          },
          "execution_count": 34,
          "metadata": {},
          "output_type": "execute_result"
        }
      ],
      "source": [
        "# 요약 데이터에는 시작 토큰과 종료 토큰을 추가한다.\n",
        "data['decoder_input'] = data['Summary'].apply(lambda x : 'sostoken '+ x)\n",
        "data['decoder_target'] = data['Summary'].apply(lambda x : x + ' eostoken')\n",
        "data.head()"
      ]
    },
    {
      "cell_type": "code",
      "execution_count": null,
      "id": "569cd3c4",
      "metadata": {
        "id": "569cd3c4",
        "outputId": "57ddc325-75a8-4403-f4c5-bdee6c7ee5d9"
      },
      "outputs": [
        {
          "name": "stdout",
          "output_type": "stream",
          "text": [
            "=3\n"
          ]
        }
      ],
      "source": [
        "encoder_input = np.array(data['Text']) # 인코더의 입력\n",
        "decoder_input = np.array(data['decoder_input']) # 디코더의 입력\n",
        "decoder_target = np.array(data['decoder_target']) # 디코더의 레이블\n",
        "print('=3')"
      ]
    },
    {
      "cell_type": "markdown",
      "id": "0dddc17f",
      "metadata": {
        "id": "0dddc17f"
      },
      "source": [
        "#### Split Data"
      ]
    },
    {
      "cell_type": "code",
      "execution_count": null,
      "id": "2e10846a",
      "metadata": {
        "id": "2e10846a",
        "outputId": "a589fa9c-1a48-49a2-9424-35d0b35c892d"
      },
      "outputs": [
        {
          "name": "stdout",
          "output_type": "stream",
          "text": [
            "[33884 33887 59255 ... 41766 45591 55966]\n"
          ]
        }
      ],
      "source": [
        "# 데이터 섞기\n",
        "indices = np.arange(encoder_input.shape[0])\n",
        "np.random.shuffle(indices)\n",
        "print(indices)"
      ]
    },
    {
      "cell_type": "code",
      "execution_count": null,
      "id": "634750a3",
      "metadata": {
        "id": "634750a3",
        "outputId": "c9c50972-5858-407e-8066-1d1498f43b5d"
      },
      "outputs": [
        {
          "name": "stdout",
          "output_type": "stream",
          "text": [
            "=3\n"
          ]
        }
      ],
      "source": [
        "encoder_input = encoder_input[indices]\n",
        "decoder_input = decoder_input[indices]\n",
        "decoder_target = decoder_target[indices]\n",
        "print('=3')"
      ]
    },
    {
      "cell_type": "code",
      "execution_count": null,
      "id": "aa643efc",
      "metadata": {
        "id": "aa643efc",
        "outputId": "24217c72-2cfc-43c7-cb2d-4cc63efac77f"
      },
      "outputs": [
        {
          "name": "stdout",
          "output_type": "stream",
          "text": [
            "테스트 데이터의 수 : 13059\n"
          ]
        }
      ],
      "source": [
        "n_of_val = int(len(encoder_input)*0.2)\n",
        "print('테스트 데이터의 수 :', n_of_val)"
      ]
    },
    {
      "cell_type": "code",
      "execution_count": null,
      "id": "b69d00b8",
      "metadata": {
        "id": "b69d00b8",
        "outputId": "0c0bcce2-c1fb-4850-c7b6-358092234ae9"
      },
      "outputs": [
        {
          "name": "stdout",
          "output_type": "stream",
          "text": [
            "훈련 데이터의 개수 : 52236\n",
            "훈련 레이블의 개수 : 52236\n",
            "테스트 데이터의 개수 : 13059\n",
            "테스트 레이블의 개수 : 13059\n"
          ]
        }
      ],
      "source": [
        "encoder_input_train = encoder_input[:-n_of_val]\n",
        "decoder_input_train = decoder_input[:-n_of_val]\n",
        "decoder_target_train = decoder_target[:-n_of_val]\n",
        "\n",
        "encoder_input_test = encoder_input[-n_of_val:]\n",
        "decoder_input_test = decoder_input[-n_of_val:]\n",
        "decoder_target_test = decoder_target[-n_of_val:]\n",
        "\n",
        "print('훈련 데이터의 개수 :', len(encoder_input_train))\n",
        "print('훈련 레이블의 개수 :', len(decoder_input_train))\n",
        "print('테스트 데이터의 개수 :', len(encoder_input_test))\n",
        "print('테스트 레이블의 개수 :', len(decoder_input_test))"
      ]
    },
    {
      "cell_type": "markdown",
      "id": "d7475384",
      "metadata": {
        "id": "d7475384"
      },
      "source": [
        "### Integer Encoding"
      ]
    },
    {
      "cell_type": "markdown",
      "id": "04755b8e",
      "metadata": {
        "id": "04755b8e"
      },
      "source": [
        "#### Text Encoding"
      ]
    },
    {
      "cell_type": "code",
      "execution_count": null,
      "id": "6e58d8db",
      "metadata": {
        "id": "6e58d8db",
        "outputId": "8fab6d8d-0863-4f7e-affc-32b451367c18"
      },
      "outputs": [
        {
          "name": "stdout",
          "output_type": "stream",
          "text": [
            "=3\n"
          ]
        }
      ],
      "source": [
        "src_tokenizer = Tokenizer() # 토크나이저 정의\n",
        "src_tokenizer.fit_on_texts(encoder_input_train) # 입력된 데이터로부터 단어 집합 생성\n",
        "print('=3')"
      ]
    },
    {
      "cell_type": "code",
      "execution_count": null,
      "id": "8ad859c3",
      "metadata": {
        "id": "8ad859c3",
        "outputId": "7cadeae6-8585-4ab4-d670-9f940f551cd3"
      },
      "outputs": [
        {
          "name": "stdout",
          "output_type": "stream",
          "text": [
            "단어 집합(vocabulary)의 크기 : 57360\n",
            "등장 빈도가 1번 이하인 희귀 단어의 수: 20654\n",
            "단어 집합에서 희귀 단어를 제외시킬 경우의 단어 집합의 크기 36706\n",
            "단어 집합에서 희귀 단어의 비율: 36.007670850767084\n",
            "전체 등장 빈도에서 희귀 단어 등장 빈도 비율: 1.1657071904278136\n"
          ]
        }
      ],
      "source": [
        "# 등장 빈도가 threshold 값인 5회 미만, 즉 4회 이하인 단어들을 제외하기로 결정\n",
        "\n",
        "threshold = 2\n",
        "total_cnt = len(src_tokenizer.word_index) # 단어의 수\n",
        "rare_cnt = 0 # 등장 빈도수가 threshold보다 작은 단어의 개수를 카운트\n",
        "total_freq = 0 # 훈련 데이터의 전체 단어 빈도수 총 합\n",
        "rare_freq = 0 # 등장 빈도수가 threshold보다 작은 단어의 등장 빈도수의 총 합\n",
        "\n",
        "# 단어와 빈도수의 쌍(pair)을 key와 value로 받는다.\n",
        "for key, value in src_tokenizer.word_counts.items():\n",
        "    total_freq = total_freq + value\n",
        "\n",
        "    # 단어의 등장 빈도수가 threshold보다 작으면\n",
        "    if(value < threshold):\n",
        "        rare_cnt = rare_cnt + 1\n",
        "        rare_freq = rare_freq + value\n",
        "\n",
        "print('단어 집합(vocabulary)의 크기 :', total_cnt)\n",
        "print('등장 빈도가 %s번 이하인 희귀 단어의 수: %s'%(threshold - 1, rare_cnt))\n",
        "print('단어 집합에서 희귀 단어를 제외시킬 경우의 단어 집합의 크기 %s'%(total_cnt - rare_cnt))\n",
        "print(\"단어 집합에서 희귀 단어의 비율:\", (rare_cnt / total_cnt)*100)\n",
        "print(\"전체 등장 빈도에서 희귀 단어 등장 빈도 비율:\", (rare_freq / total_freq)*100)"
      ]
    },
    {
      "cell_type": "code",
      "execution_count": null,
      "id": "a11d42c5",
      "metadata": {
        "id": "a11d42c5",
        "outputId": "f7141386-ef82-4b7b-f1ea-fc12f3a133e3"
      },
      "outputs": [
        {
          "name": "stdout",
          "output_type": "stream",
          "text": [
            "=3\n"
          ]
        }
      ],
      "source": [
        "# 단어 집합에서 희귀 단어를 제외시킬 경우의 단어 집합의 크기 21459를 참고하여 src_vocab = 20000으로 ..\n",
        "\n",
        "src_vocab = 22000\n",
        "src_tokenizer = Tokenizer(num_words=src_vocab) # 단어 집합의 크기를 20,000으로 제한\n",
        "src_tokenizer.fit_on_texts(encoder_input_train) # 단어 집합 재생성\n",
        "print('=3')"
      ]
    },
    {
      "cell_type": "code",
      "execution_count": null,
      "id": "bc323080",
      "metadata": {
        "id": "bc323080",
        "outputId": "bea86a42-534b-4e2c-87d4-175ef5390ace"
      },
      "outputs": [
        {
          "name": "stdout",
          "output_type": "stream",
          "text": [
            "[[674, 5928, 3001, 609, 11106, 3156, 80, 898, 2378, 291, 842, 515, 174, 167, 291, 91, 2575, 758, 3001, 2657, 58, 8, 659, 865, 721, 291, 3001], [6020, 665, 23, 571, 6555, 5929, 10015, 1212, 11, 31, 29, 22, 148, 285, 2093, 5930, 5107, 10694, 1968, 654, 4076, 1212, 63, 92, 10015, 230, 6020, 6555, 782, 102], [110, 25, 463, 2441, 4174, 395, 2874, 6021, 1031, 10329, 1405, 185, 1995, 715, 1568, 1, 11, 31, 115, 3830, 4174, 1704, 13, 3792, 185, 3674, 463, 72, 104, 3157, 1411]]\n"
          ]
        }
      ],
      "source": [
        "# 텍스트 시퀀스를 정수 시퀀스로 변환\n",
        "encoder_input_train = src_tokenizer.texts_to_sequences(encoder_input_train)\n",
        "encoder_input_test = src_tokenizer.texts_to_sequences(encoder_input_test)\n",
        "\n",
        "# 잘 진행되었는지 샘플 출력\n",
        "print(encoder_input_train[:3])"
      ]
    },
    {
      "cell_type": "markdown",
      "id": "59a39510",
      "metadata": {
        "id": "59a39510"
      },
      "source": [
        "#### Summary Encoding"
      ]
    },
    {
      "cell_type": "code",
      "execution_count": null,
      "id": "27dfca69",
      "metadata": {
        "id": "27dfca69",
        "outputId": "51e20bee-334f-45e3-f238-6e216054a80f"
      },
      "outputs": [
        {
          "name": "stdout",
          "output_type": "stream",
          "text": [
            "=3\n"
          ]
        }
      ],
      "source": [
        "tar_tokenizer = Tokenizer()\n",
        "tar_tokenizer.fit_on_texts(decoder_input_train)\n",
        "print('=3')"
      ]
    },
    {
      "cell_type": "code",
      "execution_count": null,
      "id": "778c2a72",
      "metadata": {
        "id": "778c2a72",
        "outputId": "d7f7c1fd-07e3-448e-cbe9-bcf8c51b0321"
      },
      "outputs": [
        {
          "name": "stdout",
          "output_type": "stream",
          "text": [
            "단어 집합(vocabulary)의 크기 : 25950\n",
            "등장 빈도가 2번 이하인 희귀 단어의 수: 13102\n",
            "단어 집합에서 희귀 단어를 제외시킬 경우의 단어 집합의 크기 12848\n",
            "단어 집합에서 희귀 단어의 비율: 50.48940269749518\n",
            "전체 등장 빈도에서 희귀 단어 등장 빈도 비율: 3.253016273849607\n"
          ]
        }
      ],
      "source": [
        "# 등장 빈도가 threshold 값인 5회 미만, 즉 4회 이하인 단어들을 제외하기로 결정\n",
        "\n",
        "threshold = 3\n",
        "total_cnt = len(tar_tokenizer.word_index) # 단어의 수\n",
        "rare_cnt = 0 # 등장 빈도수가 threshold보다 작은 단어의 개수를 카운트\n",
        "total_freq = 0 # 훈련 데이터의 전체 단어 빈도수 총 합\n",
        "rare_freq = 0 # 등장 빈도수가 threshold보다 작은 단어의 등장 빈도수의 총 합\n",
        "\n",
        "# 단어와 빈도수의 쌍(pair)을 key와 value로 받는다.\n",
        "for key, value in tar_tokenizer.word_counts.items():\n",
        "    total_freq = total_freq + value\n",
        "\n",
        "    # 단어의 등장 빈도수가 threshold보다 작으면\n",
        "    if(value < threshold):\n",
        "        rare_cnt = rare_cnt + 1\n",
        "        rare_freq = rare_freq + value\n",
        "\n",
        "print('단어 집합(vocabulary)의 크기 :', total_cnt)\n",
        "print('등장 빈도가 %s번 이하인 희귀 단어의 수: %s'%(threshold - 1, rare_cnt))\n",
        "print('단어 집합에서 희귀 단어를 제외시킬 경우의 단어 집합의 크기 %s'%(total_cnt - rare_cnt))\n",
        "print(\"단어 집합에서 희귀 단어의 비율:\", (rare_cnt / total_cnt)*100)\n",
        "print(\"전체 등장 빈도에서 희귀 단어 등장 빈도 비율:\", (rare_freq / total_freq)*100)"
      ]
    },
    {
      "cell_type": "code",
      "execution_count": null,
      "id": "c0abfcd0",
      "metadata": {
        "id": "c0abfcd0"
      },
      "outputs": [],
      "source": [
        "# 단어 집합에서 희귀 단어를 제외시킬 경우의 단어 집합의 크기 9427를 참고하여 tar_vocab = 9400으로 ..\n",
        "\n",
        "tar_vocab = 9400\n",
        "tar_tokenizer = Tokenizer(num_words=tar_vocab)\n",
        "tar_tokenizer.fit_on_texts(decoder_input_train)\n",
        "tar_tokenizer.fit_on_texts(decoder_target_train)"
      ]
    },
    {
      "cell_type": "code",
      "execution_count": null,
      "id": "fe1d532c",
      "metadata": {
        "id": "fe1d532c",
        "outputId": "c2c18583-d475-46e3-ad7b-0b640c223ff2"
      },
      "outputs": [
        {
          "name": "stdout",
          "output_type": "stream",
          "text": [
            "input\n",
            "input  [[1, 662, 2649, 3, 1860, 5971, 1506, 395], [1, 6918, 121, 39, 2650, 949, 2922, 4, 53], [1, 2180, 28, 498, 17, 2825, 7, 5224, 8, 892, 29], [1, 3234, 1364, 198, 171, 277, 993, 8, 77], [1, 2367, 217, 1141, 13, 568, 366, 5]]\n",
            "target\n",
            "decoder  [[662, 2649, 3, 1860, 5971, 1506, 395, 2], [6918, 121, 39, 2650, 949, 2922, 4, 53, 2], [2180, 28, 498, 17, 2825, 7, 5224, 8, 892, 29, 2], [3234, 1364, 198, 171, 277, 993, 8, 77, 2], [2367, 217, 1141, 13, 568, 366, 5, 2]]\n"
          ]
        }
      ],
      "source": [
        "# 텍스트 시퀀스를 정수 시퀀스로 변환\n",
        "decoder_input_train = tar_tokenizer.texts_to_sequences(decoder_input_train)\n",
        "decoder_target_train = tar_tokenizer.texts_to_sequences(decoder_target_train)\n",
        "decoder_input_test = tar_tokenizer.texts_to_sequences(decoder_input_test)\n",
        "decoder_target_test = tar_tokenizer.texts_to_sequences(decoder_target_test)\n",
        "\n",
        "# 잘 변환되었는지 확인\n",
        "print('input')\n",
        "print('input ',decoder_input_train[:5])\n",
        "print('target')\n",
        "print('decoder ',decoder_target_train[:5])"
      ]
    },
    {
      "cell_type": "code",
      "execution_count": null,
      "id": "6a837f68",
      "metadata": {
        "id": "6a837f68",
        "outputId": "d869a712-0db1-4ab8-ce68-437b84efe7f9"
      },
      "outputs": [
        {
          "name": "stdout",
          "output_type": "stream",
          "text": [
            "삭제할 훈련 데이터의 개수 : 0\n",
            "삭제할 테스트 데이터의 개수 : 0\n",
            "훈련 데이터의 개수 : 52236\n",
            "훈련 레이블의 개수 : 52236\n",
            "테스트 데이터의 개수 : 13059\n",
            "테스트 레이블의 개수 : 13059\n"
          ]
        }
      ],
      "source": [
        "# 훈련 데이터와 테스트 데이터에 대해서 요약문의 길이가 1인 경우의 인덱스를 각각 drop_train과 drop_test에 라는 변수에 저장해 모두 삭제\n",
        "# 다시 말해 token만 있는 인덱스 삭제\n",
        "\n",
        "drop_train = [index for index, sentence in enumerate(decoder_input_train) if len(sentence) == 1]\n",
        "drop_test = [index for index, sentence in enumerate(decoder_input_test) if len(sentence) == 1]\n",
        "\n",
        "print('삭제할 훈련 데이터의 개수 :', len(drop_train))\n",
        "print('삭제할 테스트 데이터의 개수 :', len(drop_test))\n",
        "\n",
        "encoder_input_train = [sentence for index, sentence in enumerate(encoder_input_train) if index not in drop_train]\n",
        "decoder_input_train = [sentence for index, sentence in enumerate(decoder_input_train) if index not in drop_train]\n",
        "decoder_target_train = [sentence for index, sentence in enumerate(decoder_target_train) if index not in drop_train]\n",
        "\n",
        "encoder_input_test = [sentence for index, sentence in enumerate(encoder_input_test) if index not in drop_test]\n",
        "decoder_input_test = [sentence for index, sentence in enumerate(decoder_input_test) if index not in drop_test]\n",
        "decoder_target_test = [sentence for index, sentence in enumerate(decoder_target_test) if index not in drop_test]\n",
        "\n",
        "print('훈련 데이터의 개수 :', len(encoder_input_train))\n",
        "print('훈련 레이블의 개수 :', len(decoder_input_train))\n",
        "print('테스트 데이터의 개수 :', len(encoder_input_test))\n",
        "print('테스트 레이블의 개수 :', len(decoder_input_test))"
      ]
    },
    {
      "cell_type": "markdown",
      "id": "eb5a36b8",
      "metadata": {
        "id": "eb5a36b8"
      },
      "source": [
        "### Padding"
      ]
    },
    {
      "cell_type": "code",
      "execution_count": null,
      "id": "cb2b7405",
      "metadata": {
        "id": "cb2b7405",
        "outputId": "8c291a40-1d51-4d8c-bfb9-770656a41ae0"
      },
      "outputs": [
        {
          "name": "stdout",
          "output_type": "stream",
          "text": [
            "=3\n"
          ]
        }
      ],
      "source": [
        "encoder_input_train = pad_sequences(encoder_input_train, maxlen=text_max_len, padding='post')\n",
        "encoder_input_test = pad_sequences(encoder_input_test, maxlen=text_max_len, padding='post')\n",
        "decoder_input_train = pad_sequences(decoder_input_train, maxlen=summary_max_len, padding='post')\n",
        "decoder_target_train = pad_sequences(decoder_target_train, maxlen=summary_max_len, padding='post')\n",
        "decoder_input_test = pad_sequences(decoder_input_test, maxlen=summary_max_len, padding='post')\n",
        "decoder_target_test = pad_sequences(decoder_target_test, maxlen=summary_max_len, padding='post')\n",
        "print('=3')"
      ]
    },
    {
      "cell_type": "markdown",
      "id": "656054c2",
      "metadata": {
        "id": "656054c2"
      },
      "source": [
        "## 3 Get model"
      ]
    },
    {
      "cell_type": "code",
      "execution_count": null,
      "id": "c145115b",
      "metadata": {
        "id": "c145115b"
      },
      "outputs": [],
      "source": [
        "from tensorflow.keras.layers import Input, LSTM, Embedding, Dense, Concatenate, TimeDistributed\n",
        "from tensorflow.keras.models import Model\n",
        "from tensorflow.keras.callbacks import EarlyStopping, ModelCheckpoint\n",
        "\n",
        "\n",
        "# 인코더 설계 시작\n",
        "embedding_dim = 128\n",
        "hidden_size = 256\n",
        "\n",
        "# 인코더\n",
        "encoder_inputs = Input(shape=(text_max_len,))\n",
        "\n",
        "# 인코더의 임베딩 층\n",
        "enc_emb = Embedding(src_vocab, embedding_dim)(encoder_inputs)\n",
        "\n",
        "# 인코더의 LSTM 1\n",
        "# encoder_lstm1 = LSTM(hidden_size, return_sequences=True, return_state=True ,dropout = 0.4, recurrent_dropout = 0.4)\n",
        "encoder_lstm1 = LSTM(hidden_size, return_sequences=True, return_state=True ,dropout = 0.4)\n",
        "encoder_output1, state_h1, state_c1 = encoder_lstm1(enc_emb)\n",
        "\n",
        "# 인코더의 LSTM 2\n",
        "# encoder_lstm2 = LSTM(hidden_size, return_sequences=True, return_state=True, dropout=0.4, recurrent_dropout=0.4)\n",
        "encoder_lstm2 = LSTM(hidden_size, return_sequences=True, return_state=True, dropout=0.4)\n",
        "encoder_output2, state_h2, state_c2 = encoder_lstm2(encoder_output1)\n",
        "\n",
        "# 인코더의 LSTM 3\n",
        "# encoder_lstm3 = LSTM(hidden_size, return_state=True, return_sequences=True, dropout=0.4, recurrent_dropout=0.4)\n",
        "encoder_lstm3 = LSTM(hidden_size, return_state=True, return_sequences=True, dropout=0.4)\n",
        "encoder_outputs, state_h, state_c= encoder_lstm3(encoder_output2)"
      ]
    },
    {
      "cell_type": "code",
      "execution_count": null,
      "id": "61ac4087",
      "metadata": {
        "id": "61ac4087"
      },
      "outputs": [],
      "source": [
        "# 디코더 설계\n",
        "decoder_inputs = Input(shape=(None,))\n",
        "\n",
        "# 디코더의 임베딩 층\n",
        "dec_emb_layer = Embedding(tar_vocab, embedding_dim)\n",
        "dec_emb = dec_emb_layer(decoder_inputs)\n",
        "\n",
        "# 디코더의 LSTM\n",
        "# decoder_lstm = LSTM(hidden_size, return_sequences=True, return_state=True, dropout=0.4, recurrent_dropout=0.2)\n",
        "decoder_lstm = LSTM(hidden_size, return_sequences=True, return_state=True, dropout=0.4)\n",
        "decoder_outputs, _, _ = decoder_lstm(dec_emb, initial_state=[state_h, state_c])"
      ]
    },
    {
      "cell_type": "code",
      "execution_count": null,
      "id": "97481321",
      "metadata": {
        "id": "97481321",
        "outputId": "06dd701f-cdbb-40b5-e32c-e7530e5150ea"
      },
      "outputs": [
        {
          "name": "stdout",
          "output_type": "stream",
          "text": [
            "Model: \"model\"\n",
            "__________________________________________________________________________________________________\n",
            "Layer (type)                    Output Shape         Param #     Connected to                     \n",
            "==================================================================================================\n",
            "input_3 (InputLayer)            [(None, 38)]         0                                            \n",
            "__________________________________________________________________________________________________\n",
            "embedding_2 (Embedding)         (None, 38, 128)      2816000     input_3[0][0]                    \n",
            "__________________________________________________________________________________________________\n",
            "lstm_4 (LSTM)                   [(None, 38, 256), (N 394240      embedding_2[0][0]                \n",
            "__________________________________________________________________________________________________\n",
            "input_5 (InputLayer)            [(None, None)]       0                                            \n",
            "__________________________________________________________________________________________________\n",
            "lstm_5 (LSTM)                   [(None, 38, 256), (N 525312      lstm_4[0][0]                     \n",
            "__________________________________________________________________________________________________\n",
            "embedding_4 (Embedding)         (None, None, 128)    1203200     input_5[0][0]                    \n",
            "__________________________________________________________________________________________________\n",
            "lstm_6 (LSTM)                   [(None, 38, 256), (N 525312      lstm_5[0][0]                     \n",
            "__________________________________________________________________________________________________\n",
            "lstm_8 (LSTM)                   [(None, None, 256),  394240      embedding_4[0][0]                \n",
            "                                                                 lstm_6[0][1]                     \n",
            "                                                                 lstm_6[0][2]                     \n",
            "__________________________________________________________________________________________________\n",
            "dense (Dense)                   (None, None, 9400)   2415800     lstm_8[0][0]                     \n",
            "==================================================================================================\n",
            "Total params: 8,274,104\n",
            "Trainable params: 8,274,104\n",
            "Non-trainable params: 0\n",
            "__________________________________________________________________________________________________\n"
          ]
        }
      ],
      "source": [
        "# 디코더의 출력층\n",
        "decoder_softmax_layer = Dense(tar_vocab, activation='softmax')\n",
        "decoder_softmax_outputs = decoder_softmax_layer(decoder_outputs)\n",
        "\n",
        "# 모델 정의\n",
        "model = Model([encoder_inputs, decoder_inputs], decoder_softmax_outputs)\n",
        "model.summary()"
      ]
    },
    {
      "cell_type": "code",
      "execution_count": null,
      "id": "50102a16",
      "metadata": {
        "id": "50102a16",
        "outputId": "480cd383-1df0-484a-b820-b61aa9fbfeb5"
      },
      "outputs": [
        {
          "data": {
            "image/svg+xml": [
              "<svg xmlns=\"http://www.w3.org/2000/svg\" xmlns:xlink=\"http://www.w3.org/1999/xlink\" width=\"1269pt\" height=\"737pt\" viewBox=\"0.00 0.00 951.50 553.00\">\n",
              "<g id=\"graph0\" class=\"graph\" transform=\"scale(0.75 0.75) rotate(0) translate(4 549)\">\n",
              "<title>G</title>\n",
              "<polygon fill=\"white\" stroke=\"transparent\" points=\"-4,4 -4,-549 947.5,-549 947.5,4 -4,4\"/>\n",
              "<!-- 139813727019072 -->\n",
              "<g id=\"node1\" class=\"node\">\n",
              "<title>139813727019072</title>\n",
              "<polygon fill=\"none\" stroke=\"black\" points=\"89.5,-498.5 89.5,-544.5 417.5,-544.5 417.5,-498.5 89.5,-498.5\"/>\n",
              "<text text-anchor=\"middle\" x=\"168.5\" y=\"-517.8\" font-family=\"Times,serif\" font-size=\"14.00\">input_3: InputLayer</text>\n",
              "<polyline fill=\"none\" stroke=\"black\" points=\"247.5,-498.5 247.5,-544.5 \"/>\n",
              "<text text-anchor=\"middle\" x=\"281.5\" y=\"-529.3\" font-family=\"Times,serif\" font-size=\"14.00\">input:</text>\n",
              "<polyline fill=\"none\" stroke=\"black\" points=\"247.5,-521.5 315.5,-521.5 \"/>\n",
              "<text text-anchor=\"middle\" x=\"281.5\" y=\"-506.3\" font-family=\"Times,serif\" font-size=\"14.00\">output:</text>\n",
              "<polyline fill=\"none\" stroke=\"black\" points=\"315.5,-498.5 315.5,-544.5 \"/>\n",
              "<text text-anchor=\"middle\" x=\"366.5\" y=\"-529.3\" font-family=\"Times,serif\" font-size=\"14.00\">[(None, 38)]</text>\n",
              "<polyline fill=\"none\" stroke=\"black\" points=\"315.5,-521.5 417.5,-521.5 \"/>\n",
              "<text text-anchor=\"middle\" x=\"366.5\" y=\"-506.3\" font-family=\"Times,serif\" font-size=\"14.00\">[(None, 38)]</text>\n",
              "</g>\n",
              "<!-- 139813727019168 -->\n",
              "<g id=\"node2\" class=\"node\">\n",
              "<title>139813727019168</title>\n",
              "<polygon fill=\"none\" stroke=\"black\" points=\"54,-415.5 54,-461.5 453,-461.5 453,-415.5 54,-415.5\"/>\n",
              "<text text-anchor=\"middle\" x=\"155.5\" y=\"-434.8\" font-family=\"Times,serif\" font-size=\"14.00\">embedding_2: Embedding</text>\n",
              "<polyline fill=\"none\" stroke=\"black\" points=\"257,-415.5 257,-461.5 \"/>\n",
              "<text text-anchor=\"middle\" x=\"291\" y=\"-446.3\" font-family=\"Times,serif\" font-size=\"14.00\">input:</text>\n",
              "<polyline fill=\"none\" stroke=\"black\" points=\"257,-438.5 325,-438.5 \"/>\n",
              "<text text-anchor=\"middle\" x=\"291\" y=\"-423.3\" font-family=\"Times,serif\" font-size=\"14.00\">output:</text>\n",
              "<polyline fill=\"none\" stroke=\"black\" points=\"325,-415.5 325,-461.5 \"/>\n",
              "<text text-anchor=\"middle\" x=\"389\" y=\"-446.3\" font-family=\"Times,serif\" font-size=\"14.00\">(None, 38)</text>\n",
              "<polyline fill=\"none\" stroke=\"black\" points=\"325,-438.5 453,-438.5 \"/>\n",
              "<text text-anchor=\"middle\" x=\"389\" y=\"-423.3\" font-family=\"Times,serif\" font-size=\"14.00\">(None, 38, 128)</text>\n",
              "</g>\n",
              "<!-- 139813727019072&#45;&gt;139813727019168 -->\n",
              "<g id=\"edge1\" class=\"edge\">\n",
              "<title>139813727019072-&gt;139813727019168</title>\n",
              "<path fill=\"none\" stroke=\"black\" d=\"M253.5,-498.37C253.5,-490.15 253.5,-480.66 253.5,-471.73\"/>\n",
              "<polygon fill=\"black\" stroke=\"black\" points=\"257,-471.61 253.5,-461.61 250,-471.61 257,-471.61\"/>\n",
              "</g>\n",
              "<!-- 139813893120256 -->\n",
              "<g id=\"node3\" class=\"node\">\n",
              "<title>139813893120256</title>\n",
              "<polygon fill=\"none\" stroke=\"black\" points=\"0,-332.5 0,-378.5 507,-378.5 507,-332.5 0,-332.5\"/>\n",
              "<text text-anchor=\"middle\" x=\"57.5\" y=\"-351.8\" font-family=\"Times,serif\" font-size=\"14.00\">lstm_4: LSTM</text>\n",
              "<polyline fill=\"none\" stroke=\"black\" points=\"115,-332.5 115,-378.5 \"/>\n",
              "<text text-anchor=\"middle\" x=\"149\" y=\"-363.3\" font-family=\"Times,serif\" font-size=\"14.00\">input:</text>\n",
              "<polyline fill=\"none\" stroke=\"black\" points=\"115,-355.5 183,-355.5 \"/>\n",
              "<text text-anchor=\"middle\" x=\"149\" y=\"-340.3\" font-family=\"Times,serif\" font-size=\"14.00\">output:</text>\n",
              "<polyline fill=\"none\" stroke=\"black\" points=\"183,-332.5 183,-378.5 \"/>\n",
              "<text text-anchor=\"middle\" x=\"345\" y=\"-363.3\" font-family=\"Times,serif\" font-size=\"14.00\">(None, 38, 128)</text>\n",
              "<polyline fill=\"none\" stroke=\"black\" points=\"183,-355.5 507,-355.5 \"/>\n",
              "<text text-anchor=\"middle\" x=\"345\" y=\"-340.3\" font-family=\"Times,serif\" font-size=\"14.00\">[(None, 38, 256), (None, 256), (None, 256)]</text>\n",
              "</g>\n",
              "<!-- 139813727019168&#45;&gt;139813893120256 -->\n",
              "<g id=\"edge2\" class=\"edge\">\n",
              "<title>139813727019168-&gt;139813893120256</title>\n",
              "<path fill=\"none\" stroke=\"black\" d=\"M253.5,-415.37C253.5,-407.15 253.5,-397.66 253.5,-388.73\"/>\n",
              "<polygon fill=\"black\" stroke=\"black\" points=\"257,-388.61 253.5,-378.61 250,-388.61 257,-388.61\"/>\n",
              "</g>\n",
              "<!-- 139813705722272 -->\n",
              "<g id=\"node5\" class=\"node\">\n",
              "<title>139813705722272</title>\n",
              "<polygon fill=\"none\" stroke=\"black\" points=\"0,-249.5 0,-295.5 507,-295.5 507,-249.5 0,-249.5\"/>\n",
              "<text text-anchor=\"middle\" x=\"57.5\" y=\"-268.8\" font-family=\"Times,serif\" font-size=\"14.00\">lstm_5: LSTM</text>\n",
              "<polyline fill=\"none\" stroke=\"black\" points=\"115,-249.5 115,-295.5 \"/>\n",
              "<text text-anchor=\"middle\" x=\"149\" y=\"-280.3\" font-family=\"Times,serif\" font-size=\"14.00\">input:</text>\n",
              "<polyline fill=\"none\" stroke=\"black\" points=\"115,-272.5 183,-272.5 \"/>\n",
              "<text text-anchor=\"middle\" x=\"149\" y=\"-257.3\" font-family=\"Times,serif\" font-size=\"14.00\">output:</text>\n",
              "<polyline fill=\"none\" stroke=\"black\" points=\"183,-249.5 183,-295.5 \"/>\n",
              "<text text-anchor=\"middle\" x=\"345\" y=\"-280.3\" font-family=\"Times,serif\" font-size=\"14.00\">(None, 38, 256)</text>\n",
              "<polyline fill=\"none\" stroke=\"black\" points=\"183,-272.5 507,-272.5 \"/>\n",
              "<text text-anchor=\"middle\" x=\"345\" y=\"-257.3\" font-family=\"Times,serif\" font-size=\"14.00\">[(None, 38, 256), (None, 256), (None, 256)]</text>\n",
              "</g>\n",
              "<!-- 139813893120256&#45;&gt;139813705722272 -->\n",
              "<g id=\"edge3\" class=\"edge\">\n",
              "<title>139813893120256-&gt;139813705722272</title>\n",
              "<path fill=\"none\" stroke=\"black\" d=\"M253.5,-332.37C253.5,-324.15 253.5,-314.66 253.5,-305.73\"/>\n",
              "<polygon fill=\"black\" stroke=\"black\" points=\"257,-305.61 253.5,-295.61 250,-305.61 257,-305.61\"/>\n",
              "</g>\n",
              "<!-- 139813707892768 -->\n",
              "<g id=\"node4\" class=\"node\">\n",
              "<title>139813707892768</title>\n",
              "<polygon fill=\"none\" stroke=\"black\" points=\"560.5,-249.5 560.5,-295.5 908.5,-295.5 908.5,-249.5 560.5,-249.5\"/>\n",
              "<text text-anchor=\"middle\" x=\"639.5\" y=\"-268.8\" font-family=\"Times,serif\" font-size=\"14.00\">input_5: InputLayer</text>\n",
              "<polyline fill=\"none\" stroke=\"black\" points=\"718.5,-249.5 718.5,-295.5 \"/>\n",
              "<text text-anchor=\"middle\" x=\"752.5\" y=\"-280.3\" font-family=\"Times,serif\" font-size=\"14.00\">input:</text>\n",
              "<polyline fill=\"none\" stroke=\"black\" points=\"718.5,-272.5 786.5,-272.5 \"/>\n",
              "<text text-anchor=\"middle\" x=\"752.5\" y=\"-257.3\" font-family=\"Times,serif\" font-size=\"14.00\">output:</text>\n",
              "<polyline fill=\"none\" stroke=\"black\" points=\"786.5,-249.5 786.5,-295.5 \"/>\n",
              "<text text-anchor=\"middle\" x=\"847.5\" y=\"-280.3\" font-family=\"Times,serif\" font-size=\"14.00\">[(None, None)]</text>\n",
              "<polyline fill=\"none\" stroke=\"black\" points=\"786.5,-272.5 908.5,-272.5 \"/>\n",
              "<text text-anchor=\"middle\" x=\"847.5\" y=\"-257.3\" font-family=\"Times,serif\" font-size=\"14.00\">[(None, None)]</text>\n",
              "</g>\n",
              "<!-- 139813736529984 -->\n",
              "<g id=\"node6\" class=\"node\">\n",
              "<title>139813736529984</title>\n",
              "<polygon fill=\"none\" stroke=\"black\" points=\"525.5,-166.5 525.5,-212.5 943.5,-212.5 943.5,-166.5 525.5,-166.5\"/>\n",
              "<text text-anchor=\"middle\" x=\"627\" y=\"-185.8\" font-family=\"Times,serif\" font-size=\"14.00\">embedding_4: Embedding</text>\n",
              "<polyline fill=\"none\" stroke=\"black\" points=\"728.5,-166.5 728.5,-212.5 \"/>\n",
              "<text text-anchor=\"middle\" x=\"762.5\" y=\"-197.3\" font-family=\"Times,serif\" font-size=\"14.00\">input:</text>\n",
              "<polyline fill=\"none\" stroke=\"black\" points=\"728.5,-189.5 796.5,-189.5 \"/>\n",
              "<text text-anchor=\"middle\" x=\"762.5\" y=\"-174.3\" font-family=\"Times,serif\" font-size=\"14.00\">output:</text>\n",
              "<polyline fill=\"none\" stroke=\"black\" points=\"796.5,-166.5 796.5,-212.5 \"/>\n",
              "<text text-anchor=\"middle\" x=\"870\" y=\"-197.3\" font-family=\"Times,serif\" font-size=\"14.00\">(None, None)</text>\n",
              "<polyline fill=\"none\" stroke=\"black\" points=\"796.5,-189.5 943.5,-189.5 \"/>\n",
              "<text text-anchor=\"middle\" x=\"870\" y=\"-174.3\" font-family=\"Times,serif\" font-size=\"14.00\">(None, None, 128)</text>\n",
              "</g>\n",
              "<!-- 139813707892768&#45;&gt;139813736529984 -->\n",
              "<g id=\"edge4\" class=\"edge\">\n",
              "<title>139813707892768-&gt;139813736529984</title>\n",
              "<path fill=\"none\" stroke=\"black\" d=\"M734.5,-249.37C734.5,-241.15 734.5,-231.66 734.5,-222.73\"/>\n",
              "<polygon fill=\"black\" stroke=\"black\" points=\"738,-222.61 734.5,-212.61 731,-222.61 738,-222.61\"/>\n",
              "</g>\n",
              "<!-- 139813727157312 -->\n",
              "<g id=\"node7\" class=\"node\">\n",
              "<title>139813727157312</title>\n",
              "<polygon fill=\"none\" stroke=\"black\" points=\"0,-166.5 0,-212.5 507,-212.5 507,-166.5 0,-166.5\"/>\n",
              "<text text-anchor=\"middle\" x=\"57.5\" y=\"-185.8\" font-family=\"Times,serif\" font-size=\"14.00\">lstm_6: LSTM</text>\n",
              "<polyline fill=\"none\" stroke=\"black\" points=\"115,-166.5 115,-212.5 \"/>\n",
              "<text text-anchor=\"middle\" x=\"149\" y=\"-197.3\" font-family=\"Times,serif\" font-size=\"14.00\">input:</text>\n",
              "<polyline fill=\"none\" stroke=\"black\" points=\"115,-189.5 183,-189.5 \"/>\n",
              "<text text-anchor=\"middle\" x=\"149\" y=\"-174.3\" font-family=\"Times,serif\" font-size=\"14.00\">output:</text>\n",
              "<polyline fill=\"none\" stroke=\"black\" points=\"183,-166.5 183,-212.5 \"/>\n",
              "<text text-anchor=\"middle\" x=\"345\" y=\"-197.3\" font-family=\"Times,serif\" font-size=\"14.00\">(None, 38, 256)</text>\n",
              "<polyline fill=\"none\" stroke=\"black\" points=\"183,-189.5 507,-189.5 \"/>\n",
              "<text text-anchor=\"middle\" x=\"345\" y=\"-174.3\" font-family=\"Times,serif\" font-size=\"14.00\">[(None, 38, 256), (None, 256), (None, 256)]</text>\n",
              "</g>\n",
              "<!-- 139813705722272&#45;&gt;139813727157312 -->\n",
              "<g id=\"edge5\" class=\"edge\">\n",
              "<title>139813705722272-&gt;139813727157312</title>\n",
              "<path fill=\"none\" stroke=\"black\" d=\"M253.5,-249.37C253.5,-241.15 253.5,-231.66 253.5,-222.73\"/>\n",
              "<polygon fill=\"black\" stroke=\"black\" points=\"257,-222.61 253.5,-212.61 250,-222.61 257,-222.61\"/>\n",
              "</g>\n",
              "<!-- 139813727020848 -->\n",
              "<g id=\"node8\" class=\"node\">\n",
              "<title>139813727020848</title>\n",
              "<polygon fill=\"none\" stroke=\"black\" points=\"230,-83.5 230,-129.5 757,-129.5 757,-83.5 230,-83.5\"/>\n",
              "<text text-anchor=\"middle\" x=\"287.5\" y=\"-102.8\" font-family=\"Times,serif\" font-size=\"14.00\">lstm_8: LSTM</text>\n",
              "<polyline fill=\"none\" stroke=\"black\" points=\"345,-83.5 345,-129.5 \"/>\n",
              "<text text-anchor=\"middle\" x=\"379\" y=\"-114.3\" font-family=\"Times,serif\" font-size=\"14.00\">input:</text>\n",
              "<polyline fill=\"none\" stroke=\"black\" points=\"345,-106.5 413,-106.5 \"/>\n",
              "<text text-anchor=\"middle\" x=\"379\" y=\"-91.3\" font-family=\"Times,serif\" font-size=\"14.00\">output:</text>\n",
              "<polyline fill=\"none\" stroke=\"black\" points=\"413,-83.5 413,-129.5 \"/>\n",
              "<text text-anchor=\"middle\" x=\"585\" y=\"-114.3\" font-family=\"Times,serif\" font-size=\"14.00\">[(None, None, 128), (None, 256), (None, 256)]</text>\n",
              "<polyline fill=\"none\" stroke=\"black\" points=\"413,-106.5 757,-106.5 \"/>\n",
              "<text text-anchor=\"middle\" x=\"585\" y=\"-91.3\" font-family=\"Times,serif\" font-size=\"14.00\">[(None, None, 256), (None, 256), (None, 256)]</text>\n",
              "</g>\n",
              "<!-- 139813736529984&#45;&gt;139813727020848 -->\n",
              "<g id=\"edge6\" class=\"edge\">\n",
              "<title>139813736529984-&gt;139813727020848</title>\n",
              "<path fill=\"none\" stroke=\"black\" d=\"M668.96,-166.47C638.02,-156.07 600.91,-143.6 568.81,-132.81\"/>\n",
              "<polygon fill=\"black\" stroke=\"black\" points=\"569.62,-129.39 559.02,-129.52 567.39,-136.03 569.62,-129.39\"/>\n",
              "</g>\n",
              "<!-- 139813727157312&#45;&gt;139813727020848 -->\n",
              "<g id=\"edge7\" class=\"edge\">\n",
              "<title>139813727157312-&gt;139813727020848</title>\n",
              "<path fill=\"none\" stroke=\"black\" d=\"M318.76,-166.47C349.58,-156.07 386.53,-143.6 418.5,-132.81\"/>\n",
              "<polygon fill=\"black\" stroke=\"black\" points=\"419.89,-136.04 428.25,-129.52 417.65,-129.4 419.89,-136.04\"/>\n",
              "</g>\n",
              "<!-- 139813707935856 -->\n",
              "<g id=\"node9\" class=\"node\">\n",
              "<title>139813707935856</title>\n",
              "<polygon fill=\"none\" stroke=\"black\" points=\"325.5,-0.5 325.5,-46.5 661.5,-46.5 661.5,-0.5 325.5,-0.5\"/>\n",
              "<text text-anchor=\"middle\" x=\"381.5\" y=\"-19.8\" font-family=\"Times,serif\" font-size=\"14.00\">dense: Dense</text>\n",
              "<polyline fill=\"none\" stroke=\"black\" points=\"437.5,-0.5 437.5,-46.5 \"/>\n",
              "<text text-anchor=\"middle\" x=\"471.5\" y=\"-31.3\" font-family=\"Times,serif\" font-size=\"14.00\">input:</text>\n",
              "<polyline fill=\"none\" stroke=\"black\" points=\"437.5,-23.5 505.5,-23.5 \"/>\n",
              "<text text-anchor=\"middle\" x=\"471.5\" y=\"-8.3\" font-family=\"Times,serif\" font-size=\"14.00\">output:</text>\n",
              "<polyline fill=\"none\" stroke=\"black\" points=\"505.5,-0.5 505.5,-46.5 \"/>\n",
              "<text text-anchor=\"middle\" x=\"583.5\" y=\"-31.3\" font-family=\"Times,serif\" font-size=\"14.00\">(None, None, 256)</text>\n",
              "<polyline fill=\"none\" stroke=\"black\" points=\"505.5,-23.5 661.5,-23.5 \"/>\n",
              "<text text-anchor=\"middle\" x=\"583.5\" y=\"-8.3\" font-family=\"Times,serif\" font-size=\"14.00\">(None, None, 9400)</text>\n",
              "</g>\n",
              "<!-- 139813727020848&#45;&gt;139813707935856 -->\n",
              "<g id=\"edge8\" class=\"edge\">\n",
              "<title>139813727020848-&gt;139813707935856</title>\n",
              "<path fill=\"none\" stroke=\"black\" d=\"M493.5,-83.37C493.5,-75.15 493.5,-65.66 493.5,-56.73\"/>\n",
              "<polygon fill=\"black\" stroke=\"black\" points=\"497,-56.61 493.5,-46.61 490,-56.61 497,-56.61\"/>\n",
              "</g>\n",
              "</g>\n",
              "</svg>"
            ],
            "text/plain": [
              "<IPython.core.display.SVG object>"
            ]
          },
          "execution_count": 58,
          "metadata": {},
          "output_type": "execute_result"
        }
      ],
      "source": [
        "from IPython.display import SVG\n",
        "from keras.utils.vis_utils import model_to_dot\n",
        "\n",
        "%matplotlib inline\n",
        "\n",
        "SVG(model_to_dot(model, show_shapes=True, dpi=96).create(prog='dot', format='svg'))"
      ]
    },
    {
      "cell_type": "markdown",
      "id": "e9284ef4",
      "metadata": {
        "id": "e9284ef4"
      },
      "source": [
        "### Add Attention layer"
      ]
    },
    {
      "cell_type": "code",
      "execution_count": null,
      "id": "c6b6f421",
      "metadata": {
        "id": "c6b6f421",
        "outputId": "395f0413-0903-425f-9d54-8206dd5aa8c4"
      },
      "outputs": [
        {
          "name": "stdout",
          "output_type": "stream",
          "text": [
            "Model: \"model_1\"\n",
            "__________________________________________________________________________________________________\n",
            "Layer (type)                    Output Shape         Param #     Connected to                     \n",
            "==================================================================================================\n",
            "input_3 (InputLayer)            [(None, 38)]         0                                            \n",
            "__________________________________________________________________________________________________\n",
            "embedding_2 (Embedding)         (None, 38, 128)      2816000     input_3[0][0]                    \n",
            "__________________________________________________________________________________________________\n",
            "lstm_4 (LSTM)                   [(None, 38, 256), (N 394240      embedding_2[0][0]                \n",
            "__________________________________________________________________________________________________\n",
            "input_5 (InputLayer)            [(None, None)]       0                                            \n",
            "__________________________________________________________________________________________________\n",
            "lstm_5 (LSTM)                   [(None, 38, 256), (N 525312      lstm_4[0][0]                     \n",
            "__________________________________________________________________________________________________\n",
            "embedding_4 (Embedding)         (None, None, 128)    1203200     input_5[0][0]                    \n",
            "__________________________________________________________________________________________________\n",
            "lstm_6 (LSTM)                   [(None, 38, 256), (N 525312      lstm_5[0][0]                     \n",
            "__________________________________________________________________________________________________\n",
            "lstm_8 (LSTM)                   [(None, None, 256),  394240      embedding_4[0][0]                \n",
            "                                                                 lstm_6[0][1]                     \n",
            "                                                                 lstm_6[0][2]                     \n",
            "__________________________________________________________________________________________________\n",
            "attention_layer (AdditiveAttent (None, None, 256)    256         lstm_8[0][0]                     \n",
            "                                                                 lstm_6[0][0]                     \n",
            "__________________________________________________________________________________________________\n",
            "concat_layer (Concatenate)      (None, None, 512)    0           lstm_8[0][0]                     \n",
            "                                                                 attention_layer[0][0]            \n",
            "__________________________________________________________________________________________________\n",
            "dense_1 (Dense)                 (None, None, 9400)   4822200     concat_layer[0][0]               \n",
            "==================================================================================================\n",
            "Total params: 10,680,760\n",
            "Trainable params: 10,680,760\n",
            "Non-trainable params: 0\n",
            "__________________________________________________________________________________________________\n"
          ]
        }
      ],
      "source": [
        "from tensorflow.keras.layers import AdditiveAttention\n",
        "\n",
        "# 어텐션 층(어텐션 함수)\n",
        "attn_layer = AdditiveAttention(name='attention_layer')\n",
        "\n",
        "# 인코더와 디코더의 모든 time step의 hidden state를 어텐션 층에 전달하고 결과를 리턴\n",
        "attn_out = attn_layer([decoder_outputs, encoder_outputs])\n",
        "\n",
        "\n",
        "# 어텐션의 결과와 디코더의 hidden state들을 연결\n",
        "decoder_concat_input = Concatenate(axis=-1, name='concat_layer')([decoder_outputs, attn_out])\n",
        "\n",
        "# 디코더의 출력층\n",
        "decoder_softmax_layer = Dense(tar_vocab, activation='softmax')\n",
        "decoder_softmax_outputs = decoder_softmax_layer(decoder_concat_input)\n",
        "\n",
        "# 모델 정의\n",
        "model = Model([encoder_inputs, decoder_inputs], decoder_softmax_outputs)\n",
        "model.summary()"
      ]
    },
    {
      "cell_type": "code",
      "execution_count": null,
      "id": "e617b2b7",
      "metadata": {
        "id": "e617b2b7",
        "outputId": "89aee439-56d2-4e4b-da9d-6a8d85167e35"
      },
      "outputs": [
        {
          "data": {
            "image/svg+xml": [
              "<svg xmlns=\"http://www.w3.org/2000/svg\" xmlns:xlink=\"http://www.w3.org/1999/xlink\" width=\"1335pt\" height=\"959pt\" viewBox=\"0.00 0.00 1001.00 719.00\">\n",
              "<g id=\"graph0\" class=\"graph\" transform=\"scale(0.75 0.75) rotate(0) translate(4 715)\">\n",
              "<title>G</title>\n",
              "<polygon fill=\"white\" stroke=\"transparent\" points=\"-4,4 -4,-715 997,-715 997,4 -4,4\"/>\n",
              "<!-- 139813727019072 -->\n",
              "<g id=\"node1\" class=\"node\">\n",
              "<title>139813727019072</title>\n",
              "<polygon fill=\"none\" stroke=\"black\" points=\"139,-664.5 139,-710.5 467,-710.5 467,-664.5 139,-664.5\"/>\n",
              "<text text-anchor=\"middle\" x=\"218\" y=\"-683.8\" font-family=\"Times,serif\" font-size=\"14.00\">input_3: InputLayer</text>\n",
              "<polyline fill=\"none\" stroke=\"black\" points=\"297,-664.5 297,-710.5 \"/>\n",
              "<text text-anchor=\"middle\" x=\"331\" y=\"-695.3\" font-family=\"Times,serif\" font-size=\"14.00\">input:</text>\n",
              "<polyline fill=\"none\" stroke=\"black\" points=\"297,-687.5 365,-687.5 \"/>\n",
              "<text text-anchor=\"middle\" x=\"331\" y=\"-672.3\" font-family=\"Times,serif\" font-size=\"14.00\">output:</text>\n",
              "<polyline fill=\"none\" stroke=\"black\" points=\"365,-664.5 365,-710.5 \"/>\n",
              "<text text-anchor=\"middle\" x=\"416\" y=\"-695.3\" font-family=\"Times,serif\" font-size=\"14.00\">[(None, 38)]</text>\n",
              "<polyline fill=\"none\" stroke=\"black\" points=\"365,-687.5 467,-687.5 \"/>\n",
              "<text text-anchor=\"middle\" x=\"416\" y=\"-672.3\" font-family=\"Times,serif\" font-size=\"14.00\">[(None, 38)]</text>\n",
              "</g>\n",
              "<!-- 139813727019168 -->\n",
              "<g id=\"node2\" class=\"node\">\n",
              "<title>139813727019168</title>\n",
              "<polygon fill=\"none\" stroke=\"black\" points=\"103.5,-581.5 103.5,-627.5 502.5,-627.5 502.5,-581.5 103.5,-581.5\"/>\n",
              "<text text-anchor=\"middle\" x=\"205\" y=\"-600.8\" font-family=\"Times,serif\" font-size=\"14.00\">embedding_2: Embedding</text>\n",
              "<polyline fill=\"none\" stroke=\"black\" points=\"306.5,-581.5 306.5,-627.5 \"/>\n",
              "<text text-anchor=\"middle\" x=\"340.5\" y=\"-612.3\" font-family=\"Times,serif\" font-size=\"14.00\">input:</text>\n",
              "<polyline fill=\"none\" stroke=\"black\" points=\"306.5,-604.5 374.5,-604.5 \"/>\n",
              "<text text-anchor=\"middle\" x=\"340.5\" y=\"-589.3\" font-family=\"Times,serif\" font-size=\"14.00\">output:</text>\n",
              "<polyline fill=\"none\" stroke=\"black\" points=\"374.5,-581.5 374.5,-627.5 \"/>\n",
              "<text text-anchor=\"middle\" x=\"438.5\" y=\"-612.3\" font-family=\"Times,serif\" font-size=\"14.00\">(None, 38)</text>\n",
              "<polyline fill=\"none\" stroke=\"black\" points=\"374.5,-604.5 502.5,-604.5 \"/>\n",
              "<text text-anchor=\"middle\" x=\"438.5\" y=\"-589.3\" font-family=\"Times,serif\" font-size=\"14.00\">(None, 38, 128)</text>\n",
              "</g>\n",
              "<!-- 139813727019072&#45;&gt;139813727019168 -->\n",
              "<g id=\"edge1\" class=\"edge\">\n",
              "<title>139813727019072-&gt;139813727019168</title>\n",
              "<path fill=\"none\" stroke=\"black\" d=\"M303,-664.37C303,-656.15 303,-646.66 303,-637.73\"/>\n",
              "<polygon fill=\"black\" stroke=\"black\" points=\"306.5,-637.61 303,-627.61 299.5,-637.61 306.5,-637.61\"/>\n",
              "</g>\n",
              "<!-- 139813893120256 -->\n",
              "<g id=\"node3\" class=\"node\">\n",
              "<title>139813893120256</title>\n",
              "<polygon fill=\"none\" stroke=\"black\" points=\"49.5,-498.5 49.5,-544.5 556.5,-544.5 556.5,-498.5 49.5,-498.5\"/>\n",
              "<text text-anchor=\"middle\" x=\"107\" y=\"-517.8\" font-family=\"Times,serif\" font-size=\"14.00\">lstm_4: LSTM</text>\n",
              "<polyline fill=\"none\" stroke=\"black\" points=\"164.5,-498.5 164.5,-544.5 \"/>\n",
              "<text text-anchor=\"middle\" x=\"198.5\" y=\"-529.3\" font-family=\"Times,serif\" font-size=\"14.00\">input:</text>\n",
              "<polyline fill=\"none\" stroke=\"black\" points=\"164.5,-521.5 232.5,-521.5 \"/>\n",
              "<text text-anchor=\"middle\" x=\"198.5\" y=\"-506.3\" font-family=\"Times,serif\" font-size=\"14.00\">output:</text>\n",
              "<polyline fill=\"none\" stroke=\"black\" points=\"232.5,-498.5 232.5,-544.5 \"/>\n",
              "<text text-anchor=\"middle\" x=\"394.5\" y=\"-529.3\" font-family=\"Times,serif\" font-size=\"14.00\">(None, 38, 128)</text>\n",
              "<polyline fill=\"none\" stroke=\"black\" points=\"232.5,-521.5 556.5,-521.5 \"/>\n",
              "<text text-anchor=\"middle\" x=\"394.5\" y=\"-506.3\" font-family=\"Times,serif\" font-size=\"14.00\">[(None, 38, 256), (None, 256), (None, 256)]</text>\n",
              "</g>\n",
              "<!-- 139813727019168&#45;&gt;139813893120256 -->\n",
              "<g id=\"edge2\" class=\"edge\">\n",
              "<title>139813727019168-&gt;139813893120256</title>\n",
              "<path fill=\"none\" stroke=\"black\" d=\"M303,-581.37C303,-573.15 303,-563.66 303,-554.73\"/>\n",
              "<polygon fill=\"black\" stroke=\"black\" points=\"306.5,-554.61 303,-544.61 299.5,-554.61 306.5,-554.61\"/>\n",
              "</g>\n",
              "<!-- 139813705722272 -->\n",
              "<g id=\"node5\" class=\"node\">\n",
              "<title>139813705722272</title>\n",
              "<polygon fill=\"none\" stroke=\"black\" points=\"49.5,-415.5 49.5,-461.5 556.5,-461.5 556.5,-415.5 49.5,-415.5\"/>\n",
              "<text text-anchor=\"middle\" x=\"107\" y=\"-434.8\" font-family=\"Times,serif\" font-size=\"14.00\">lstm_5: LSTM</text>\n",
              "<polyline fill=\"none\" stroke=\"black\" points=\"164.5,-415.5 164.5,-461.5 \"/>\n",
              "<text text-anchor=\"middle\" x=\"198.5\" y=\"-446.3\" font-family=\"Times,serif\" font-size=\"14.00\">input:</text>\n",
              "<polyline fill=\"none\" stroke=\"black\" points=\"164.5,-438.5 232.5,-438.5 \"/>\n",
              "<text text-anchor=\"middle\" x=\"198.5\" y=\"-423.3\" font-family=\"Times,serif\" font-size=\"14.00\">output:</text>\n",
              "<polyline fill=\"none\" stroke=\"black\" points=\"232.5,-415.5 232.5,-461.5 \"/>\n",
              "<text text-anchor=\"middle\" x=\"394.5\" y=\"-446.3\" font-family=\"Times,serif\" font-size=\"14.00\">(None, 38, 256)</text>\n",
              "<polyline fill=\"none\" stroke=\"black\" points=\"232.5,-438.5 556.5,-438.5 \"/>\n",
              "<text text-anchor=\"middle\" x=\"394.5\" y=\"-423.3\" font-family=\"Times,serif\" font-size=\"14.00\">[(None, 38, 256), (None, 256), (None, 256)]</text>\n",
              "</g>\n",
              "<!-- 139813893120256&#45;&gt;139813705722272 -->\n",
              "<g id=\"edge3\" class=\"edge\">\n",
              "<title>139813893120256-&gt;139813705722272</title>\n",
              "<path fill=\"none\" stroke=\"black\" d=\"M303,-498.37C303,-490.15 303,-480.66 303,-471.73\"/>\n",
              "<polygon fill=\"black\" stroke=\"black\" points=\"306.5,-471.61 303,-461.61 299.5,-471.61 306.5,-471.61\"/>\n",
              "</g>\n",
              "<!-- 139813707892768 -->\n",
              "<g id=\"node4\" class=\"node\">\n",
              "<title>139813707892768</title>\n",
              "<polygon fill=\"none\" stroke=\"black\" points=\"610,-415.5 610,-461.5 958,-461.5 958,-415.5 610,-415.5\"/>\n",
              "<text text-anchor=\"middle\" x=\"689\" y=\"-434.8\" font-family=\"Times,serif\" font-size=\"14.00\">input_5: InputLayer</text>\n",
              "<polyline fill=\"none\" stroke=\"black\" points=\"768,-415.5 768,-461.5 \"/>\n",
              "<text text-anchor=\"middle\" x=\"802\" y=\"-446.3\" font-family=\"Times,serif\" font-size=\"14.00\">input:</text>\n",
              "<polyline fill=\"none\" stroke=\"black\" points=\"768,-438.5 836,-438.5 \"/>\n",
              "<text text-anchor=\"middle\" x=\"802\" y=\"-423.3\" font-family=\"Times,serif\" font-size=\"14.00\">output:</text>\n",
              "<polyline fill=\"none\" stroke=\"black\" points=\"836,-415.5 836,-461.5 \"/>\n",
              "<text text-anchor=\"middle\" x=\"897\" y=\"-446.3\" font-family=\"Times,serif\" font-size=\"14.00\">[(None, None)]</text>\n",
              "<polyline fill=\"none\" stroke=\"black\" points=\"836,-438.5 958,-438.5 \"/>\n",
              "<text text-anchor=\"middle\" x=\"897\" y=\"-423.3\" font-family=\"Times,serif\" font-size=\"14.00\">[(None, None)]</text>\n",
              "</g>\n",
              "<!-- 139813736529984 -->\n",
              "<g id=\"node6\" class=\"node\">\n",
              "<title>139813736529984</title>\n",
              "<polygon fill=\"none\" stroke=\"black\" points=\"575,-332.5 575,-378.5 993,-378.5 993,-332.5 575,-332.5\"/>\n",
              "<text text-anchor=\"middle\" x=\"676.5\" y=\"-351.8\" font-family=\"Times,serif\" font-size=\"14.00\">embedding_4: Embedding</text>\n",
              "<polyline fill=\"none\" stroke=\"black\" points=\"778,-332.5 778,-378.5 \"/>\n",
              "<text text-anchor=\"middle\" x=\"812\" y=\"-363.3\" font-family=\"Times,serif\" font-size=\"14.00\">input:</text>\n",
              "<polyline fill=\"none\" stroke=\"black\" points=\"778,-355.5 846,-355.5 \"/>\n",
              "<text text-anchor=\"middle\" x=\"812\" y=\"-340.3\" font-family=\"Times,serif\" font-size=\"14.00\">output:</text>\n",
              "<polyline fill=\"none\" stroke=\"black\" points=\"846,-332.5 846,-378.5 \"/>\n",
              "<text text-anchor=\"middle\" x=\"919.5\" y=\"-363.3\" font-family=\"Times,serif\" font-size=\"14.00\">(None, None)</text>\n",
              "<polyline fill=\"none\" stroke=\"black\" points=\"846,-355.5 993,-355.5 \"/>\n",
              "<text text-anchor=\"middle\" x=\"919.5\" y=\"-340.3\" font-family=\"Times,serif\" font-size=\"14.00\">(None, None, 128)</text>\n",
              "</g>\n",
              "<!-- 139813707892768&#45;&gt;139813736529984 -->\n",
              "<g id=\"edge4\" class=\"edge\">\n",
              "<title>139813707892768-&gt;139813736529984</title>\n",
              "<path fill=\"none\" stroke=\"black\" d=\"M784,-415.37C784,-407.15 784,-397.66 784,-388.73\"/>\n",
              "<polygon fill=\"black\" stroke=\"black\" points=\"787.5,-388.61 784,-378.61 780.5,-388.61 787.5,-388.61\"/>\n",
              "</g>\n",
              "<!-- 139813727157312 -->\n",
              "<g id=\"node7\" class=\"node\">\n",
              "<title>139813727157312</title>\n",
              "<polygon fill=\"none\" stroke=\"black\" points=\"49.5,-332.5 49.5,-378.5 556.5,-378.5 556.5,-332.5 49.5,-332.5\"/>\n",
              "<text text-anchor=\"middle\" x=\"107\" y=\"-351.8\" font-family=\"Times,serif\" font-size=\"14.00\">lstm_6: LSTM</text>\n",
              "<polyline fill=\"none\" stroke=\"black\" points=\"164.5,-332.5 164.5,-378.5 \"/>\n",
              "<text text-anchor=\"middle\" x=\"198.5\" y=\"-363.3\" font-family=\"Times,serif\" font-size=\"14.00\">input:</text>\n",
              "<polyline fill=\"none\" stroke=\"black\" points=\"164.5,-355.5 232.5,-355.5 \"/>\n",
              "<text text-anchor=\"middle\" x=\"198.5\" y=\"-340.3\" font-family=\"Times,serif\" font-size=\"14.00\">output:</text>\n",
              "<polyline fill=\"none\" stroke=\"black\" points=\"232.5,-332.5 232.5,-378.5 \"/>\n",
              "<text text-anchor=\"middle\" x=\"394.5\" y=\"-363.3\" font-family=\"Times,serif\" font-size=\"14.00\">(None, 38, 256)</text>\n",
              "<polyline fill=\"none\" stroke=\"black\" points=\"232.5,-355.5 556.5,-355.5 \"/>\n",
              "<text text-anchor=\"middle\" x=\"394.5\" y=\"-340.3\" font-family=\"Times,serif\" font-size=\"14.00\">[(None, 38, 256), (None, 256), (None, 256)]</text>\n",
              "</g>\n",
              "<!-- 139813705722272&#45;&gt;139813727157312 -->\n",
              "<g id=\"edge5\" class=\"edge\">\n",
              "<title>139813705722272-&gt;139813727157312</title>\n",
              "<path fill=\"none\" stroke=\"black\" d=\"M303,-415.37C303,-407.15 303,-397.66 303,-388.73\"/>\n",
              "<polygon fill=\"black\" stroke=\"black\" points=\"306.5,-388.61 303,-378.61 299.5,-388.61 306.5,-388.61\"/>\n",
              "</g>\n",
              "<!-- 139813727020848 -->\n",
              "<g id=\"node8\" class=\"node\">\n",
              "<title>139813727020848</title>\n",
              "<polygon fill=\"none\" stroke=\"black\" points=\"350.5,-249.5 350.5,-295.5 877.5,-295.5 877.5,-249.5 350.5,-249.5\"/>\n",
              "<text text-anchor=\"middle\" x=\"408\" y=\"-268.8\" font-family=\"Times,serif\" font-size=\"14.00\">lstm_8: LSTM</text>\n",
              "<polyline fill=\"none\" stroke=\"black\" points=\"465.5,-249.5 465.5,-295.5 \"/>\n",
              "<text text-anchor=\"middle\" x=\"499.5\" y=\"-280.3\" font-family=\"Times,serif\" font-size=\"14.00\">input:</text>\n",
              "<polyline fill=\"none\" stroke=\"black\" points=\"465.5,-272.5 533.5,-272.5 \"/>\n",
              "<text text-anchor=\"middle\" x=\"499.5\" y=\"-257.3\" font-family=\"Times,serif\" font-size=\"14.00\">output:</text>\n",
              "<polyline fill=\"none\" stroke=\"black\" points=\"533.5,-249.5 533.5,-295.5 \"/>\n",
              "<text text-anchor=\"middle\" x=\"705.5\" y=\"-280.3\" font-family=\"Times,serif\" font-size=\"14.00\">[(None, None, 128), (None, 256), (None, 256)]</text>\n",
              "<polyline fill=\"none\" stroke=\"black\" points=\"533.5,-272.5 877.5,-272.5 \"/>\n",
              "<text text-anchor=\"middle\" x=\"705.5\" y=\"-257.3\" font-family=\"Times,serif\" font-size=\"14.00\">[(None, None, 256), (None, 256), (None, 256)]</text>\n",
              "</g>\n",
              "<!-- 139813736529984&#45;&gt;139813727020848 -->\n",
              "<g id=\"edge6\" class=\"edge\">\n",
              "<title>139813736529984-&gt;139813727020848</title>\n",
              "<path fill=\"none\" stroke=\"black\" d=\"M737.55,-332.37C716.56,-322.37 691.59,-310.47 669.61,-300\"/>\n",
              "<polygon fill=\"black\" stroke=\"black\" points=\"670.93,-296.75 660.4,-295.61 667.92,-303.07 670.93,-296.75\"/>\n",
              "</g>\n",
              "<!-- 139813727157312&#45;&gt;139813727020848 -->\n",
              "<g id=\"edge7\" class=\"edge\">\n",
              "<title>139813727157312-&gt;139813727020848</title>\n",
              "<path fill=\"none\" stroke=\"black\" d=\"M387.57,-332.47C428.45,-321.83 477.66,-309.01 519.75,-298.05\"/>\n",
              "<polygon fill=\"black\" stroke=\"black\" points=\"520.65,-301.43 529.45,-295.52 518.89,-294.66 520.65,-301.43\"/>\n",
              "</g>\n",
              "<!-- 139813705780672 -->\n",
              "<g id=\"node9\" class=\"node\">\n",
              "<title>139813705780672</title>\n",
              "<polygon fill=\"none\" stroke=\"black\" points=\"0,-166.5 0,-212.5 606,-212.5 606,-166.5 0,-166.5\"/>\n",
              "<text text-anchor=\"middle\" x=\"130\" y=\"-185.8\" font-family=\"Times,serif\" font-size=\"14.00\">attention_layer: AdditiveAttention</text>\n",
              "<polyline fill=\"none\" stroke=\"black\" points=\"260,-166.5 260,-212.5 \"/>\n",
              "<text text-anchor=\"middle\" x=\"294\" y=\"-197.3\" font-family=\"Times,serif\" font-size=\"14.00\">input:</text>\n",
              "<polyline fill=\"none\" stroke=\"black\" points=\"260,-189.5 328,-189.5 \"/>\n",
              "<text text-anchor=\"middle\" x=\"294\" y=\"-174.3\" font-family=\"Times,serif\" font-size=\"14.00\">output:</text>\n",
              "<polyline fill=\"none\" stroke=\"black\" points=\"328,-166.5 328,-212.5 \"/>\n",
              "<text text-anchor=\"middle\" x=\"467\" y=\"-197.3\" font-family=\"Times,serif\" font-size=\"14.00\">[(None, None, 256), (None, 38, 256)]</text>\n",
              "<polyline fill=\"none\" stroke=\"black\" points=\"328,-189.5 606,-189.5 \"/>\n",
              "<text text-anchor=\"middle\" x=\"467\" y=\"-174.3\" font-family=\"Times,serif\" font-size=\"14.00\">(None, None, 256)</text>\n",
              "</g>\n",
              "<!-- 139813727157312&#45;&gt;139813705780672 -->\n",
              "<g id=\"edge9\" class=\"edge\">\n",
              "<title>139813727157312-&gt;139813705780672</title>\n",
              "<path fill=\"none\" stroke=\"black\" d=\"M303,-332.38C303,-304.18 303,-255.21 303,-222.82\"/>\n",
              "<polygon fill=\"black\" stroke=\"black\" points=\"306.5,-222.53 303,-212.53 299.5,-222.53 306.5,-222.53\"/>\n",
              "</g>\n",
              "<!-- 139813727020848&#45;&gt;139813705780672 -->\n",
              "<g id=\"edge8\" class=\"edge\">\n",
              "<title>139813727020848-&gt;139813705780672</title>\n",
              "<path fill=\"none\" stroke=\"black\" d=\"M529.43,-249.47C488.55,-238.83 439.34,-226.01 397.25,-215.05\"/>\n",
              "<polygon fill=\"black\" stroke=\"black\" points=\"398.11,-211.66 387.55,-212.52 396.35,-218.43 398.11,-211.66\"/>\n",
              "</g>\n",
              "<!-- 139813705722224 -->\n",
              "<g id=\"node10\" class=\"node\">\n",
              "<title>139813705722224</title>\n",
              "<polygon fill=\"none\" stroke=\"black\" points=\"183.5,-83.5 183.5,-129.5 752.5,-129.5 752.5,-83.5 183.5,-83.5\"/>\n",
              "<text text-anchor=\"middle\" x=\"285.5\" y=\"-102.8\" font-family=\"Times,serif\" font-size=\"14.00\">concat_layer: Concatenate</text>\n",
              "<polyline fill=\"none\" stroke=\"black\" points=\"387.5,-83.5 387.5,-129.5 \"/>\n",
              "<text text-anchor=\"middle\" x=\"421.5\" y=\"-114.3\" font-family=\"Times,serif\" font-size=\"14.00\">input:</text>\n",
              "<polyline fill=\"none\" stroke=\"black\" points=\"387.5,-106.5 455.5,-106.5 \"/>\n",
              "<text text-anchor=\"middle\" x=\"421.5\" y=\"-91.3\" font-family=\"Times,serif\" font-size=\"14.00\">output:</text>\n",
              "<polyline fill=\"none\" stroke=\"black\" points=\"455.5,-83.5 455.5,-129.5 \"/>\n",
              "<text text-anchor=\"middle\" x=\"604\" y=\"-114.3\" font-family=\"Times,serif\" font-size=\"14.00\">[(None, None, 256), (None, None, 256)]</text>\n",
              "<polyline fill=\"none\" stroke=\"black\" points=\"455.5,-106.5 752.5,-106.5 \"/>\n",
              "<text text-anchor=\"middle\" x=\"604\" y=\"-91.3\" font-family=\"Times,serif\" font-size=\"14.00\">(None, None, 512)</text>\n",
              "</g>\n",
              "<!-- 139813727020848&#45;&gt;139813705722224 -->\n",
              "<g id=\"edge10\" class=\"edge\">\n",
              "<title>139813727020848-&gt;139813705722224</title>\n",
              "<path fill=\"none\" stroke=\"black\" d=\"M621.04,-249.21C626.83,-226.28 631.66,-190.56 615,-166 605.87,-152.54 593.1,-142.18 578.86,-134.2\"/>\n",
              "<polygon fill=\"black\" stroke=\"black\" points=\"580.32,-131.01 569.83,-129.53 577.1,-137.23 580.32,-131.01\"/>\n",
              "</g>\n",
              "<!-- 139813705780672&#45;&gt;139813705722224 -->\n",
              "<g id=\"edge11\" class=\"edge\">\n",
              "<title>139813705780672-&gt;139813705722224</title>\n",
              "<path fill=\"none\" stroke=\"black\" d=\"M348.09,-166.37C368.37,-156.41 392.47,-144.58 413.74,-134.14\"/>\n",
              "<polygon fill=\"black\" stroke=\"black\" points=\"415.53,-137.16 422.97,-129.61 412.45,-130.87 415.53,-137.16\"/>\n",
              "</g>\n",
              "<!-- 139813705777216 -->\n",
              "<g id=\"node11\" class=\"node\">\n",
              "<title>139813705777216</title>\n",
              "<polygon fill=\"none\" stroke=\"black\" points=\"292,-0.5 292,-46.5 644,-46.5 644,-0.5 292,-0.5\"/>\n",
              "<text text-anchor=\"middle\" x=\"356\" y=\"-19.8\" font-family=\"Times,serif\" font-size=\"14.00\">dense_1: Dense</text>\n",
              "<polyline fill=\"none\" stroke=\"black\" points=\"420,-0.5 420,-46.5 \"/>\n",
              "<text text-anchor=\"middle\" x=\"454\" y=\"-31.3\" font-family=\"Times,serif\" font-size=\"14.00\">input:</text>\n",
              "<polyline fill=\"none\" stroke=\"black\" points=\"420,-23.5 488,-23.5 \"/>\n",
              "<text text-anchor=\"middle\" x=\"454\" y=\"-8.3\" font-family=\"Times,serif\" font-size=\"14.00\">output:</text>\n",
              "<polyline fill=\"none\" stroke=\"black\" points=\"488,-0.5 488,-46.5 \"/>\n",
              "<text text-anchor=\"middle\" x=\"566\" y=\"-31.3\" font-family=\"Times,serif\" font-size=\"14.00\">(None, None, 512)</text>\n",
              "<polyline fill=\"none\" stroke=\"black\" points=\"488,-23.5 644,-23.5 \"/>\n",
              "<text text-anchor=\"middle\" x=\"566\" y=\"-8.3\" font-family=\"Times,serif\" font-size=\"14.00\">(None, None, 9400)</text>\n",
              "</g>\n",
              "<!-- 139813705722224&#45;&gt;139813705777216 -->\n",
              "<g id=\"edge12\" class=\"edge\">\n",
              "<title>139813705722224-&gt;139813705777216</title>\n",
              "<path fill=\"none\" stroke=\"black\" d=\"M468,-83.37C468,-75.15 468,-65.66 468,-56.73\"/>\n",
              "<polygon fill=\"black\" stroke=\"black\" points=\"471.5,-56.61 468,-46.61 464.5,-56.61 471.5,-56.61\"/>\n",
              "</g>\n",
              "</g>\n",
              "</svg>"
            ],
            "text/plain": [
              "<IPython.core.display.SVG object>"
            ]
          },
          "execution_count": 60,
          "metadata": {},
          "output_type": "execute_result"
        }
      ],
      "source": [
        "from IPython.display import SVG\n",
        "from keras.utils.vis_utils import model_to_dot\n",
        "\n",
        "%matplotlib inline\n",
        "\n",
        "SVG(model_to_dot(model, show_shapes=True, dpi=96).create(prog='dot', format='svg'))"
      ]
    },
    {
      "cell_type": "markdown",
      "id": "51422e98",
      "metadata": {
        "id": "51422e98"
      },
      "source": [
        "## 4 Train"
      ]
    },
    {
      "cell_type": "code",
      "execution_count": null,
      "id": "c060be48",
      "metadata": {
        "id": "c060be48",
        "outputId": "41871d5b-3744-4999-8442-8b51c432211e"
      },
      "outputs": [
        {
          "name": "stdout",
          "output_type": "stream",
          "text": [
            "Epoch 1/50\n",
            "817/817 [==============================] - 30s 28ms/step - loss: 6.1260 - val_loss: 5.7375\n",
            "Epoch 2/50\n",
            "817/817 [==============================] - 22s 27ms/step - loss: 5.6090 - val_loss: 5.4202\n",
            "Epoch 3/50\n",
            "817/817 [==============================] - 22s 28ms/step - loss: 5.3356 - val_loss: 5.2403\n",
            "Epoch 4/50\n",
            "817/817 [==============================] - 23s 28ms/step - loss: 5.1279 - val_loss: 5.0954\n",
            "Epoch 5/50\n",
            "817/817 [==============================] - 23s 28ms/step - loss: 4.9433 - val_loss: 4.9405\n",
            "Epoch 6/50\n",
            "817/817 [==============================] - 23s 28ms/step - loss: 4.7943 - val_loss: 4.8462\n",
            "Epoch 7/50\n",
            "817/817 [==============================] - 23s 28ms/step - loss: 4.6655 - val_loss: 4.8252\n",
            "Epoch 8/50\n",
            "817/817 [==============================] - 23s 28ms/step - loss: 4.5585 - val_loss: 4.7238\n",
            "Epoch 9/50\n",
            "817/817 [==============================] - 23s 28ms/step - loss: 4.4602 - val_loss: 4.6571\n",
            "Epoch 10/50\n",
            "817/817 [==============================] - 23s 28ms/step - loss: 4.3733 - val_loss: 4.6230\n",
            "Epoch 11/50\n",
            "817/817 [==============================] - 23s 28ms/step - loss: 4.3051 - val_loss: 4.6118\n",
            "Epoch 12/50\n",
            "817/817 [==============================] - 23s 28ms/step - loss: 4.2433 - val_loss: 4.5765\n",
            "Epoch 13/50\n",
            "817/817 [==============================] - 23s 28ms/step - loss: 4.1773 - val_loss: 4.5815\n",
            "Epoch 14/50\n",
            "817/817 [==============================] - 23s 28ms/step - loss: 4.1284 - val_loss: 4.5595\n",
            "Epoch 15/50\n",
            "817/817 [==============================] - 23s 28ms/step - loss: 4.0745 - val_loss: 4.5465\n",
            "Epoch 16/50\n",
            "817/817 [==============================] - 23s 28ms/step - loss: 4.0219 - val_loss: 4.5325\n",
            "Epoch 17/50\n",
            "817/817 [==============================] - 23s 28ms/step - loss: 3.9709 - val_loss: 4.5240\n",
            "Epoch 18/50\n",
            "817/817 [==============================] - 23s 28ms/step - loss: 3.9252 - val_loss: 4.5160\n",
            "Epoch 19/50\n",
            "817/817 [==============================] - 23s 28ms/step - loss: 3.8925 - val_loss: 4.5284\n",
            "Epoch 20/50\n",
            "817/817 [==============================] - 23s 28ms/step - loss: 3.8654 - val_loss: 4.5157\n",
            "Epoch 21/50\n",
            "817/817 [==============================] - 23s 28ms/step - loss: 3.8195 - val_loss: 4.4957\n",
            "Epoch 22/50\n",
            "817/817 [==============================] - 23s 28ms/step - loss: 3.7876 - val_loss: 4.5066\n",
            "Epoch 23/50\n",
            "817/817 [==============================] - 23s 28ms/step - loss: 3.7613 - val_loss: 4.5113\n",
            "Epoch 00023: early stopping\n"
          ]
        }
      ],
      "source": [
        "model.compile(optimizer='rmsprop', loss='sparse_categorical_crossentropy')\n",
        "es = EarlyStopping(monitor='val_loss', patience=2, verbose=1)\n",
        "history = model.fit(x=[encoder_input_train, decoder_input_train], y=decoder_target_train, \\\n",
        "          validation_data=([encoder_input_test, decoder_input_test], decoder_target_test), \\\n",
        "          batch_size=64, callbacks=[es], epochs=50)"
      ]
    },
    {
      "cell_type": "code",
      "execution_count": null,
      "id": "d47ae338",
      "metadata": {
        "scrolled": true,
        "id": "d47ae338",
        "outputId": "1ec26d83-45eb-4267-a430-e9efc93382e4"
      },
      "outputs": [
        {
          "data": {
            "image/png": "[encoded data removed]",
            "text/plain": [
              "<Figure size 432x288 with 1 Axes>"
            ]
          },
          "metadata": {
            "needs_background": "light"
          },
          "output_type": "display_data"
        }
      ],
      "source": [
        "plt.plot(history.history['loss'], label='train_loss')\n",
        "plt.plot(history.history['val_loss'], label='val_loss')\n",
        "plt.title('Loss of Model with Attention layer')\n",
        "plt.legend()\n",
        "plt.show()"
      ]
    },
    {
      "cell_type": "markdown",
      "id": "c9c7b542",
      "metadata": {
        "id": "c9c7b542"
      },
      "source": [
        "## 5 Get inference model"
      ]
    },
    {
      "cell_type": "code",
      "execution_count": null,
      "id": "147f3158",
      "metadata": {
        "id": "147f3158",
        "outputId": "9698ee28-06a3-4ade-e2ee-da0cb059044b"
      },
      "outputs": [
        {
          "name": "stdout",
          "output_type": "stream",
          "text": [
            "=3\n"
          ]
        }
      ],
      "source": [
        "src_index_to_word = src_tokenizer.index_word # 원문 단어 집합에서 정수 -> 단어를 얻음\n",
        "tar_word_to_index = tar_tokenizer.word_index # 요약 단어 집합에서 단어 -> 정수를 얻음\n",
        "tar_index_to_word = tar_tokenizer.index_word # 요약 단어 집합에서 정수 -> 단어를 얻음\n",
        "\n",
        "print('=3')"
      ]
    },
    {
      "cell_type": "code",
      "execution_count": null,
      "id": "f03f7f00",
      "metadata": {
        "id": "f03f7f00",
        "outputId": "6e89f697-8682-48b9-fd1e-25650b94a8ac"
      },
      "outputs": [
        {
          "name": "stdout",
          "output_type": "stream",
          "text": [
            "=3\n"
          ]
        }
      ],
      "source": [
        "# 인코더 설계\n",
        "encoder_model = Model(inputs=encoder_inputs, outputs=[encoder_outputs, state_h, state_c])\n",
        "\n",
        "# 이전 시점의 상태들을 저장하는 텐서\n",
        "decoder_state_input_h = Input(shape=(hidden_size,))\n",
        "decoder_state_input_c = Input(shape=(hidden_size,))\n",
        "\n",
        "dec_emb2 = dec_emb_layer(decoder_inputs)\n",
        "\n",
        "# 문장의 다음 단어를 예측하기 위해서 초기 상태(initial_state)를 이전 시점의 상태로 사용. 이는 뒤의 함수 decode_sequence()에 구현\n",
        "# 훈련 과정에서와 달리 LSTM의 리턴하는 은닉 상태와 셀 상태인 state_h와 state_c를 버리지 않음.\n",
        "decoder_outputs2, state_h2, state_c2 = decoder_lstm(dec_emb2, initial_state=[decoder_state_input_h, decoder_state_input_c])\n",
        "\n",
        "print('=3')"
      ]
    },
    {
      "cell_type": "code",
      "execution_count": null,
      "id": "8746633b",
      "metadata": {
        "id": "8746633b",
        "outputId": "841a2ab3-453a-4e22-b631-447db89b6b89"
      },
      "outputs": [
        {
          "name": "stdout",
          "output_type": "stream",
          "text": [
            "=3\n"
          ]
        }
      ],
      "source": [
        "# 어텐션 함수\n",
        "decoder_hidden_state_input = Input(shape=(text_max_len, hidden_size))\n",
        "attn_out_inf = attn_layer([decoder_outputs2, decoder_hidden_state_input])\n",
        "decoder_inf_concat = Concatenate(axis=-1, name='concat')([decoder_outputs2, attn_out_inf])\n",
        "\n",
        "# 디코더의 출력층\n",
        "decoder_outputs2 = decoder_softmax_layer(decoder_inf_concat)\n",
        "\n",
        "# 최종 디코더 모델\n",
        "decoder_model = Model(\n",
        "    [decoder_inputs] + [decoder_hidden_state_input,decoder_state_input_h, decoder_state_input_c],\n",
        "    [decoder_outputs2] + [state_h2, state_c2])\n",
        "\n",
        "print('=3')"
      ]
    },
    {
      "cell_type": "code",
      "execution_count": null,
      "id": "766cfb7a",
      "metadata": {
        "id": "766cfb7a",
        "outputId": "00bb2937-9135-4a79-affb-4531dab8f62c"
      },
      "outputs": [
        {
          "name": "stdout",
          "output_type": "stream",
          "text": [
            "=3\n"
          ]
        }
      ],
      "source": [
        "def decode_sequence(input_seq):\n",
        "    # 입력으로부터 인코더의 상태를 얻음\n",
        "    e_out, e_h, e_c = encoder_model.predict(input_seq)\n",
        "\n",
        "     # <SOS>에 해당하는 토큰 생성\n",
        "    target_seq = np.zeros((1,1))\n",
        "    target_seq[0, 0] = tar_word_to_index['sostoken']\n",
        "\n",
        "    stop_condition = False\n",
        "    decoded_sentence = ''\n",
        "    while not stop_condition: # stop_condition이 True가 될 때까지 루프 반복\n",
        "\n",
        "        output_tokens, h, c = decoder_model.predict([target_seq] + [e_out, e_h, e_c])\n",
        "        sampled_token_index = np.argmax(output_tokens[0, -1, :])\n",
        "        sampled_token = tar_index_to_word[sampled_token_index]\n",
        "\n",
        "        if (sampled_token!='eostoken'):\n",
        "            decoded_sentence += ' '+sampled_token\n",
        "\n",
        "        #  <eos>에 도달하거나 최대 길이를 넘으면 중단.\n",
        "        if (sampled_token == 'eostoken'  or len(decoded_sentence.split()) >= (summary_max_len-1)):\n",
        "            stop_condition = True\n",
        "\n",
        "        # 길이가 1인 타겟 시퀀스를 업데이트\n",
        "        target_seq = np.zeros((1,1))\n",
        "        target_seq[0, 0] = sampled_token_index\n",
        "\n",
        "        # 상태를 업데이트 합니다.\n",
        "        e_h, e_c = h, c\n",
        "\n",
        "    return decoded_sentence\n",
        "print('=3')"
      ]
    },
    {
      "cell_type": "markdown",
      "id": "2d379708",
      "metadata": {
        "id": "2d379708"
      },
      "source": [
        "### Test model"
      ]
    },
    {
      "cell_type": "code",
      "execution_count": null,
      "id": "07cff2d1",
      "metadata": {
        "id": "07cff2d1",
        "outputId": "bfce7284-4484-435e-b46f-ceeaf20f7ba9"
      },
      "outputs": [
        {
          "name": "stdout",
          "output_type": "stream",
          "text": [
            "=3\n"
          ]
        }
      ],
      "source": [
        "# 원문의 정수 시퀀스를 텍스트 시퀀스로 변환\n",
        "def seq2text(input_seq):\n",
        "    temp=''\n",
        "    for i in input_seq:\n",
        "        if (i!=0):\n",
        "            temp = temp + src_index_to_word[i]+' '\n",
        "    return temp\n",
        "\n",
        "# 요약문의 정수 시퀀스를 텍스트 시퀀스로 변환\n",
        "def seq2summary(input_seq):\n",
        "    temp=''\n",
        "    for i in input_seq:\n",
        "        if ((i!=0 and i!=tar_word_to_index['sostoken']) and i!=tar_word_to_index['eostoken']):\n",
        "            temp = temp + tar_index_to_word[i] + ' '\n",
        "    return temp\n",
        "\n",
        "print('=3')"
      ]
    },
    {
      "cell_type": "code",
      "execution_count": null,
      "id": "ad53e63e",
      "metadata": {
        "scrolled": true,
        "id": "ad53e63e",
        "outputId": "8e6a4003-934f-4644-eebc-a966c777fe9b"
      },
      "outputs": [
        {
          "name": "stdout",
          "output_type": "stream",
          "text": [
            "원문 : benchmark indices sensex nifty ended record closing highs third straight session monday nifty closing first time sensex ended points higher nifty gained points close markets influenced industrial growth surged month high november \n",
            "실제 요약 : nifty closes above for the first time \n",
            "예측 요약 :  sensex nifty sensex falls to record high\n",
            "\n",
            "\n",
            "원문 : mumbai based businessman allegedly lost crore sim fraud following six missed calls phone two numbers one uk code accused reportedly bought new sim card businessman name deactivated old one company bank account linked mobile businessman said \n",
            "실제 요약 : mumbai businessman loses crore after missed calls on phone \n",
            "예측 요약 :  mumbai loses cr in mumbai over online\n",
            "\n",
            "\n",
            "원문 : bengaluru recorded highest demand office space across country first quarter real estate report stated demand accounted combined share markets like delhi ncr mumbai hyderabad city also saw highest leasing activity growth quarter compared period last year \n",
            "실제 요약 : demand for office space in highest in bengaluru \n",
            "예측 요약 :  bengaluru records highest ever total of india in\n",
            "\n",
            "\n",
            "원문 : karni sena threatened face maharashtra navnirman sena chief raj thackeray party member said nobody allowed obstruct padmaavat release mumbai party later clarified member comments personal take party official stand security agency offer protection movie party officials said \n",
            "실제 요약 : karni sena threatens to mns chief thackeray face \n",
            "예측 요약 :  padmaavat should be held for padmaavat padmaavat bjp\n",
            "\n",
            "\n",
            "원문 : veteran actor kader khan admitted hospital critical condition put ventilator per reports actor reportedly suffering breathlessness showing symptoms pneumonia present condition results disease progressive palsy reports added \n",
            "실제 요약 : veteran actor kader khan health critical put on ventilator reports \n",
            "예측 요약 :  aamir khan actress quits over his health health reports\n",
            "\n",
            "\n"
          ]
        }
      ],
      "source": [
        "for i in range(50, 55):\n",
        "    print(\"원문 :\", seq2text(encoder_input_test[i]))\n",
        "    print(\"실제 요약 :\", seq2summary(decoder_input_test[i]))\n",
        "    print(\"예측 요약 :\", decode_sequence(encoder_input_test[i].reshape(1, text_max_len)))\n",
        "    print(\"\\n\")"
      ]
    },
    {
      "cell_type": "markdown",
      "id": "bc463c3b",
      "metadata": {
        "id": "bc463c3b"
      },
      "source": [
        "# Extractive Summarization\n",
        "- text (str) : 요약할 테스트.\n",
        "- ratio (float, optional) – 요약문에서 원본에서 선택되는 문장 비율. 0~1 사이값\n",
        "- words (int or None, optional) – 출력에 포함할 단어 수.\n",
        "- 만약, ratio와 함께 두 파라미터가 모두 제공되는 경우 ratio는 무시한다.\n",
        "- split (bool, optional) – True면 문장 list / False는 조인(join)된 문자열을 반환"
      ]
    },
    {
      "cell_type": "code",
      "execution_count": 1,
      "id": "90d1e152",
      "metadata": {
        "id": "90d1e152",
        "outputId": "78ff93c1-c4c8-4efd-a4c7-6c4af9ef847b",
        "colab": {
          "base_uri": "https://localhost:8080/"
        }
      },
      "outputs": [
        {
          "output_type": "stream",
          "name": "stdout",
          "text": [
            "torchsummary                     1.5.1\n"
          ]
        }
      ],
      "source": [
        "!pip list | grep summa"
      ]
    },
    {
      "cell_type": "code",
      "source": [
        "!pip install summa"
      ],
      "metadata": {
        "colab": {
          "base_uri": "https://localhost:8080/"
        },
        "id": "-Fk5MV1Tvusb",
        "outputId": "57d64542-286d-4001-b9f5-60686e9f3695"
      },
      "id": "-Fk5MV1Tvusb",
      "execution_count": 3,
      "outputs": [
        {
          "output_type": "stream",
          "name": "stdout",
          "text": [
            "Looking in indexes: https://pypi.org/simple, https://us-python.pkg.dev/colab-wheels/public/simple/\n",
            "Collecting summa\n",
            "  Downloading summa-1.2.0.tar.gz (54 kB)\n",
            "\u001b[2K     \u001b[90m━━━━━━━━━━━━━━━━━━━━━━━━━━━━━━━━━━━━━━━━\u001b[0m \u001b[32m54.9/54.9 kB\u001b[0m \u001b[31m5.2 MB/s\u001b[0m eta \u001b[36m0:00:00\u001b[0m\n",
            "\u001b[?25h  Preparing metadata (setup.py) ... \u001b[?25l\u001b[?25hdone\n",
            "Requirement already satisfied: scipy>=0.19 in /usr/local/lib/python3.10/dist-packages (from summa) (1.10.1)\n",
            "Requirement already satisfied: numpy<1.27.0,>=1.19.5 in /usr/local/lib/python3.10/dist-packages (from scipy>=0.19->summa) (1.22.4)\n",
            "Building wheels for collected packages: summa\n",
            "  Building wheel for summa (setup.py) ... \u001b[?25l\u001b[?25hdone\n",
            "  Created wheel for summa: filename=summa-1.2.0-py3-none-any.whl size=54389 sha256=e091f1cdfd7485809f28ab862e2b39b80d04b2e2ec1d9e992d7c1a7c23ec069c\n",
            "  Stored in directory: /root/.cache/pip/wheels/4a/ca/c5/4958614cfba88ed6ceb7cb5a849f9f89f9ac49971616bc919f\n",
            "Successfully built summa\n",
            "Installing collected packages: summa\n",
            "Successfully installed summa-1.2.0\n"
          ]
        }
      ]
    },
    {
      "cell_type": "code",
      "execution_count": 4,
      "id": "433272ee",
      "metadata": {
        "id": "433272ee"
      },
      "outputs": [],
      "source": [
        "import requests\n",
        "from summa.summarizer import summarize"
      ]
    },
    {
      "cell_type": "code",
      "execution_count": 26,
      "id": "3d9b5703",
      "metadata": {
        "id": "3d9b5703",
        "outputId": "0f81f19b-4e39-4032-f6e4-81caa1fbec67",
        "colab": {
          "base_uri": "https://localhost:8080/"
        }
      },
      "outputs": [
        {
          "output_type": "stream",
          "name": "stdout",
          "text": [
            "원문 :  Kunal Shah's credit card bill payment platform, CRED, gave users a chance to win free food from Swiggy for one year. Pranav Kaushik, a Delhi techie, bagged this reward after spending 2000 CRED coins. Users get one CRED coin per rupee of bill paid, which can be used to avail rewards from brands like Ixigo, BookMyShow, UberEats, Cult.Fit and more.\n",
            "실제 요약 : Delhi techie wins free food from Swiggy for one year on CRED\n",
            "추출 요약 :  ['Users get one CRED coin per rupee of bill paid, which can be used to avail rewards from brands like Ixigo, BookMyShow, UberEats, Cult.Fit and more.']\n"
          ]
        }
      ],
      "source": [
        "import pandas as pd\n",
        "data2 = pd.read_csv('news_summary_more.csv', encoding='iso-8859-1')\n",
        "data2.rename(columns={'headlines' : 'Summary', 'text' : 'Text'}, inplace = True) # 기존에 있던 코드를 활용하기 위해 이름 바꾸기\n",
        "text= data2['Text'][1]\n",
        "print('원문 : ',text)\n",
        "print(\"실제 요약 :\", data2['Summary'][1])\n",
        "print('추출 요약 : ', summarize(text, ratio=0.4, split=True))"
      ]
    },
    {
      "cell_type": "code",
      "execution_count": 31,
      "id": "ad271a94",
      "metadata": {
        "id": "ad271a94",
        "outputId": "5509a77f-d491-4113-b618-ff405a741186",
        "colab": {
          "base_uri": "https://localhost:8080/"
        }
      },
      "outputs": [
        {
          "output_type": "stream",
          "name": "stdout",
          "text": [
            "원문 : Two minor cousins in Uttar Pradesh's Gorakhpur were allegedly repeatedly burnt with tongs and forced to eat human excreta by their family for being friends with two boys from the same school. The cousins revealed their ordeal to the police and Child Welfare Committee after being brought back to Gorakhpur from Nepal, where they had fled to escape the torture.\n",
            "실제 요약 : UP cousins fed human excreta for friendship with boys\n",
            "추출 요약 : [\"Two minor cousins in Uttar Pradesh's Gorakhpur were allegedly repeatedly burnt with tongs and forced to eat human excreta by their family for being friends with two boys from the same school.\"]\n",
            "\n",
            "\n",
            "원문 : Isha Ghosh, an 81-year-old member of Bharat Scouts and Guides (BSG), has been imparting physical and mental training to schoolchildren in Jharkhand for several decades. Chaibasa-based Ghosh reportedly walks seven kilometres daily and spends eight hours conducting physical training, apart from climbing and yoga sessions. She says, \"One should do something for society till one's last breath.\"\n",
            "실제 요약 : 81-yr-old woman conducts physical training in J'khand schools\n",
            "추출 요약 : ['Isha Ghosh, an 81-year-old member of Bharat Scouts and Guides (BSG), has been imparting physical and mental training to schoolchildren in Jharkhand for several decades.']\n",
            "\n",
            "\n",
            "원문 : Urging saints and seers at the Kumbh Mela to quit smoking, Yoga guru Ramdev said, \"We follow Ram and Krishna who never smoked in their life then why should we?\" Making them take a pledge to quit tobacco, he collected chillum (clay pipe) from several sadhus. He said he will deposit the chillums for display at a museum he'll build.\n",
            "실제 요약 : Ram, Krishna didn't smoke, why should we: Ramdev to sadhus at Kumbh\n",
            "추출 요약 : ['Urging saints and seers at the Kumbh Mela to quit smoking, Yoga guru Ramdev said, \"We follow Ram and Krishna who never smoked in their life then why should we?\" Making them take a pledge to quit tobacco, he collected chillum (clay pipe) from several sadhus.']\n",
            "\n",
            "\n",
            "원문 : Former stripper and regional sales director of a pharmaceutical company, Sunrise Lee, gave a doctor a lap dance in a nightclub to persuade him to prescribe an addictive fentanyl spray in 2012, the company's sales representative told a US court. She said she saw Lee \"sitting on [doctor's] lap, kind of bouncing around.\" Lee has been accused of bribing doctors.\n",
            "실제 요약 : Pharma exec gave doctor a lap dance to sell medicine in US: Witness\n",
            "추출 요약 : [\"Former stripper and regional sales director of a pharmaceutical company, Sunrise Lee, gave a doctor a lap dance in a nightclub to persuade him to prescribe an addictive fentanyl spray in 2012, the company's sales representative told a US court.\"]\n",
            "\n",
            "\n",
            "원문 : Reliance Industries' Chairman Mukesh Ambani's daughter Isha Ambani, who got married last month, said she only cried at her 'bidaai' because she felt peer pressure as everyone was crying, especially her parents. \"I was emotional too but everyone around me would cry all the time,\" she added. \"It was a very emotional affair for everyone in my family,\" said Isha.\n",
            "실제 요약 :  I only cried at my 'bidaai' as I felt peer pressure: Isha Ambani\n",
            "추출 요약 : ['\"It was a very emotional affair for everyone in my family,\" said Isha.']\n",
            "\n",
            "\n"
          ]
        }
      ],
      "source": [
        "for i in range(10, 15):\n",
        "    text = data2['Text'][i]\n",
        "    print(\"원문 :\",  data2['Text'][i])\n",
        "    print(\"실제 요약 :\", data2['Summary'][i])\n",
        "    print(\"추출 요약 :\", summarize(text, ratio=0.5, split=True))\n",
        "    print(\"\\n\")"
      ]
    },
    {
      "cell_type": "code",
      "execution_count": null,
      "id": "21ef570f",
      "metadata": {
        "id": "21ef570f"
      },
      "outputs": [],
      "source": [
        "text = requests.get('http://rare-technologies.com/the_matrix_synopsis.txt').text"
      ]
    },
    {
      "cell_type": "code",
      "execution_count": null,
      "id": "c9b8481a",
      "metadata": {
        "id": "c9b8481a",
        "outputId": "6f75706a-5c33-447a-b049-58284ae68d61"
      },
      "outputs": [
        {
          "name": "stdout",
          "output_type": "stream",
          "text": [
            "The screen is filled with green, cascading code which gives way to the title, The Matrix.\r\n",
            "\r\n",
            "A phone rings and text appears on the screen: \"Call trans opt: received. 2-19-98 13:24:18 REC: Log>\" As a conversation takes place between Trinity (Carrie-Anne Moss) and Cypher (Joe Pantoliano), two free humans, a table of random green numbers are being scanned and individual numbers selected, creating a series of digits not unlike an ordinary phone number, as if a code is being deciphered or a call is being traced.\r\n",
            "\r\n",
            "Trinity discusses some unknown person. Cypher taunts Trinity, suggesting she enjoys watching him. Trinity counters that \"Morpheus (Laurence Fishburne) says he may be 'the One',\" just as the sound of a number being selected alerts Trinity that someone may be tracing their call. She ends the call.\r\n",
            "\r\n",
            "Armed policemen move down a darkened, decrepit hallway in the Heart O' the City Hotel, their flashlight beam bouncing just ahead of them. They come to room 303, kick down the door and find a woman dressed in black, facing away from them. It's Trinity. She brings her hands up from the laptop she's working on at their command.\r\n",
            "\r\n",
            "Outside the hotel a car drives up and three agents appear in neatly pressed black suits. They are Agent Smith (Hugo Weaving), Agent Brown (Paul Goddard), and Agent Jones (Robert Taylor). Agent Smith and the presiding police lieutenant argue. Agent Smith admonishes the policeman that they were given specific orders to contact the agents first, for their\n"
          ]
        }
      ],
      "source": [
        "print(text[:1500])"
      ]
    },
    {
      "cell_type": "code",
      "execution_count": null,
      "id": "30d5fe15",
      "metadata": {
        "id": "30d5fe15",
        "outputId": "dd7bcede-2d86-4de1-8988-9e001012658c"
      },
      "outputs": [
        {
          "name": "stdout",
          "output_type": "stream",
          "text": [
            "Summary:\n",
            "Morpheus, Trinity, Neo, Apoc, Switch, Mouse and Cypher are jacked into the Matrix.\n",
            "Trinity brings the helicopter down to the floor that Morpheus is on and Neo opens fire on the three Agents.\n"
          ]
        }
      ],
      "source": [
        "print('Summary:')\n",
        "print(summarize(text, ratio=0.005))"
      ]
    },
    {
      "cell_type": "code",
      "execution_count": null,
      "id": "aa25039d",
      "metadata": {
        "id": "aa25039d",
        "outputId": "2795df24-9487-434b-b9e2-9bb7be618f09"
      },
      "outputs": [
        {
          "name": "stdout",
          "output_type": "stream",
          "text": [
            "Summary:\n",
            "['Morpheus, Trinity, Neo, Apoc, Switch, Mouse and Cypher are jacked into the Matrix.', 'Trinity brings the helicopter down to the floor that Morpheus is on and Neo opens fire on the three Agents.']\n"
          ]
        }
      ],
      "source": [
        "print('Summary:')\n",
        "print(summarize(text, ratio=0.005, split=True))"
      ]
    },
    {
      "cell_type": "code",
      "execution_count": null,
      "id": "4344d163",
      "metadata": {
        "id": "4344d163",
        "outputId": "23a868cb-d092-4efe-d61a-20df7acf9f79"
      },
      "outputs": [
        {
          "name": "stdout",
          "output_type": "stream",
          "text": [
            "Summary:\n",
            "Trinity takes Neo to Morpheus.\n",
            "Morpheus, Trinity, Neo, Apoc, Switch, Mouse and Cypher are jacked into the Matrix.\n",
            "Trinity brings the helicopter down to the floor that Morpheus is on and Neo opens fire on the three Agents.\n"
          ]
        }
      ],
      "source": [
        "print('Summary:')\n",
        "print(summarize(text, words=50))"
      ]
    },
    {
      "cell_type": "markdown",
      "id": "d41b3884",
      "metadata": {
        "id": "d41b3884"
      },
      "source": [
        "# Review\n",
        "- 문장의 분포 그래프가 종모양으로 양쪽 끝, 문장의 길이가 길거나 짧은 쪽의 빈도가 적어 그것을 제외하고 학습을 시켰는데 요약문이 같은 단어 반복이 계속됨.\n",
        "- 문장 분포 그래프 중 문장의 길이가 긴 쪽만 잘라내고 학습을 하였더니 대체로 실제 요약문에 있는 단어들로 요약문이 생성된 것을 볼 수 있었음. 하지만 반복되는 단어가 종종 있었음.\n",
        "- 성능 향상을 위해 LSTM 층을 추가하거나 embedding_dim, hidden_size를 변화를 주어도 성능에서 나아지는 것이 없이 비슷한 값을 보임.\n"
      ]
    },
    {
      "cell_type": "markdown",
      "source": [
        "||Abstractive Summary|Extractive Summary|\n",
        "|--|--|--|\n",
        "|원문 | benchmark indices sensex nifty ended record closing highs third straight session monday nifty closing</br> first time sensex ended points</br> higher nifty gained points close markets influenced industrial growth surged month high november |Two minor cousins in Uttar Pradesh's Gorakhpur were allegedly repeatedly burnt</br> with tongs and forced to eat human excreta by their family for being friends with two boys from the same school.</br> The cousins revealed their ordeal to the police and Child Welfare Committee after being brought back to Gorakhpur from Nepal,</br> where they had fled to escape the torture.|\n",
        "|실제 요약 | nifty closes above for the first time |UP cousins fed human excreta for friendship with boys|\n",
        "|예측 요약 | sensex nifty sensex falls to record high|\"Two minor cousins in Uttar Pradesh's Gorakhpur were allegedly repeatedly burnt with tongs and forced </br>to eat human excreta by their family for being friends with two boys from the same school.\"|\n",
        "||||\n",
        "|원문 |mumbai based businessman allegedly lost crore sim fraud</br> following six missed calls phone two numbers one uk code accused</br> reportedly bought new sim card</br> businessman name deactivated old one company bank account linked mobile businessman said |Urging saints and seers at the Kumbh Mela to quit smoking,</br> Yoga guru Ramdev said, </br>\"We follow Ram and Krishna who never smoked in their life then why should we?\" </br>Making them take a pledge to quit tobacco, he collected chillum (clay pipe) from several sadhus.</br> He said he will deposit the chillums for display at a museum he'll build.|\n",
        "|실제 요약 | mumbai businessman loses crore after missed calls on phone |Ram, Krishna didn't smoke, why should we: Ramdev to sadhus at Kumbh|\n",
        "|예측 요약 |  mumbai loses cr in mumbai over online|Urging saints and seers at the Kumbh Mela to quit smoking,</br> Yoga guru Ramdev said,</br> \"We follow Ram and Krishna who never smoked in their life then why should we?\" Making them take a pledge to quit tobacco,</br> he collected chillum (clay pipe) from several sadhus.|\n",
        "||||\n",
        "|평가|적당하지 않은 단어를 사용. ex)falls to record high</br> 성능이 좋지 않아 원문의 내용을 알기에는 부족</br>주어 동사를 형태를 가지고 있음.|핵심이 되는 문장을 추출하였으나 그 문장이 매우 긴 경우 요약문의 길이가 원문에 비해 0.5까지 됨. </br>원문의 문장을 그대로 사용하여 문법적으로 문제가 되지 않음.|\n",
        "\n"
      ],
      "metadata": {
        "id": "3ebI_BUQzpyH"
      },
      "id": "3ebI_BUQzpyH"
    }
  ],
  "metadata": {
    "kernelspec": {
      "display_name": "Python 3 (ipykernel)",
      "language": "python",
      "name": "python3"
    },
    "language_info": {
      "codemirror_mode": {
        "name": "ipython",
        "version": 3
      },
      "file_extension": ".py",
      "mimetype": "text/x-python",
      "name": "python",
      "nbconvert_exporter": "python",
      "pygments_lexer": "ipython3",
      "version": "3.9.7"
    },
    "colab": {
      "provenance": [],
      "toc_visible": true,
      "include_colab_link": true
    }
  },
  "nbformat": 4,
  "nbformat_minor": 5
}