{
 "cells": [
  {
   "cell_type": "markdown",
   "metadata": {
    "id": "O4HnUR7EzwvU"
   },
   "source": [
    "#### 1.소수를 검사하는 함수를 정의하고, 다음의 결과와 같이 사용자가 입력한 숫자가 소수인지를 판단하는 코드를 작성하시오.\n",
    "\n",
    "소수일 경우 \"소수입니다.\" 출력, 아닐 경우 \"소수가 아닙니다.\" 출력"
   ]
  },
  {
   "cell_type": "code",
   "execution_count": null,
   "metadata": {
    "id": "5H4c6H7ZzwUo"
   },
   "outputs": [],
   "source": [
    "# your code\n",
    "\n",
    "\n",
    "def prime_no(number):\n",
    "  for n in range(2,number):\n",
    "      if number%n==0:\n",
    "          result='소수아님'\n",
    "          break\n",
    "      else:\n",
    "          result='소수'\n",
    "  return result\n",
    "\n",
    "no = int(input('number 양의 정수'))\n",
    "\n",
    "prime_no(no)\n"
   ]
  },
  {
   "cell_type": "markdown",
   "metadata": {
    "id": "o4erIHOyTroH"
   },
   "source": [
    "#### 2. 트럼프 카드 52장(조커 제외)을 1~52의 정수로 출력하는 코드를 아래 조건을 만족하도록 작성하시오.\n",
    "\n",
    "- 조건1. 조건문과 반복문을 활용하여 코드를 작성\n",
    "- 조건2. 1 ~ 13 : Spade A ~ k로 저장<br>\n",
    "- 조건3. 14 ~ 26 : Heart A ~ k로 저장<br>\n",
    "- 조건4. 27 ~ 39 : Diamond A ~ k로 저장<br>\n",
    "- 조건5. 40 ~ 52 : Clover A ~ k로 저장\n"
   ]
  },
  {
   "cell_type": "code",
   "execution_count": null,
   "metadata": {
    "id": "qZswk2hMsg2T"
   },
   "outputs": [],
   "source": [
    "# '''\n",
    "# # 출력 예시 #\n",
    "# 1 Spade A\n",
    "# 2 Spade 2\n",
    "# 3 Spade 3\n",
    "# ...\n",
    "# ...\n",
    "# 13 Spade K\n",
    "# 14 Heart A\n",
    "# 15 Heart 2\n",
    "# ...\n",
    "# ...\n",
    "# 50 Clover J\n",
    "# 51 Clover Q\n",
    "# 52 Clover K\n",
    "# '''"
   ]
  },
  {
   "cell_type": "code",
   "execution_count": null,
   "metadata": {
    "id": "fkqtvO5LU3M5"
   },
   "outputs": [],
   "source": [
    "# your code\n",
    "card_no=['A','2','3','4','5','6','7','8','9','10','J','Q','K']\n",
    "\n",
    "card_kind=['Spade', 'Heart', 'Diamond', 'Clover']\n",
    "\n",
    "for kind in card_kind:\n",
    "    for no in range(0,len(card_no)):\n",
    "        if kind=='Spade':\n",
    "            print(no+1 ,kind,' ',card_no[no])\n",
    "        elif kind=='Heart':\n",
    "            print(no+14 ,kind,' ',card_no[no])\n",
    "        elif kind=='Diamond':\n",
    "            print(no+27 ,kind,' ',card_no[no])\n",
    "        elif kind=='Clover':\n",
    "            print(no+40 ,kind,' ',card_no[no])"
   ]
  },
  {
   "cell_type": "markdown",
   "metadata": {
    "id": "Ng6sSYgcVjQy"
   },
   "source": [
    "#### 3. 아래 코드는 입력받은 문자열 s가 올바른 시간 형식인지 검증하는 코드입니다. is_valid_time 함수를 구현하시오.\n",
    "\n",
    "(올바른 표기 시간 범위 : 00:00:00 ~ 23:59:59)\n",
    "\n"
   ]
  },
  {
   "cell_type": "code",
   "execution_count": null,
   "metadata": {
    "id": "1ccHebYjVjlD"
   },
   "outputs": [],
   "source": [
    "'''\n",
    "# 출력 예시 #\n",
    "True\n",
    "False\n",
    "False\n",
    "'''"
   ]
  },
  {
   "cell_type": "code",
   "execution_count": null,
   "metadata": {
    "id": "P9CYOLVPVupv"
   },
   "outputs": [],
   "source": [
    "test_time = [\n",
    "    \"14:30:00\",\n",
    "    \"12:70:00\",\n",
    "    \"24:00:00\"\n",
    "]\n",
    "\n",
    "def is_valid_time(time_str):\n",
    "    a=time_str.split(':')\n",
    "    for i in range(0,3):\n",
    "        a[i]=int(a[i])\n",
    "\n",
    "    if a[0]>=0 and a[0] < 24 and a[1] >= 0 and a[1] < 60 and a[2] >= 0 and a[2] < 60:\n",
    "        return True\n",
    "    else:\n",
    "        return False\n",
    "     \n",
    "for time in test_time:\n",
    "    print(time)\n",
    "    print(is_valid_time(time))"
   ]
  },
  {
   "cell_type": "markdown",
   "metadata": {
    "id": "_z_TRi0mzZdp"
   },
   "source": [
    "#### 4.while, for 문을 중첩해서 사용하여, 아래 조건을 만족하는 구구단 프로그램을 작성하시오.\n",
    "\n",
    "조건1.whlie문과 for문을 최소 1번 이상 사용한다.<br>\n",
    "조건2.1~3번 입력에 따라 아래와 같이 출력한다.\n",
    "- 1번을 입력하면 3,5,7,9단(홀수의 단)이 출력한다.\n",
    "- 2번을 입력하면 2,4,6,8단(짝수의 단)이 출력된다.\n",
    "- 3번을 입력하면 출력하고 싶은 단을 입력받고 입력받은 단만 출력된다.\n",
    "- 4번을 입력하면 프로그램을 종료한다.\n",
    "- 그 외에 값을 입력하면 입력오류라고 출력하고 다시 입력을 요구한다."
   ]
  },
  {
   "cell_type": "code",
   "execution_count": null,
   "metadata": {
    "id": "S-nxBZT2zxfG"
   },
   "outputs": [],
   "source": [
    "'''\n",
    "# 출력 예시 #\n",
    "구구단 프로그램을 실행합니다.\n",
    "1.홀수 구구단 출력\n",
    "2.짝수 구구단 출력\n",
    "3.입력된 단의 구구단 출력\n",
    "4.프로그램 종료\n",
    "\n",
    "숫자를 입력해주세요. : 3\n",
    "출력하고 싶은 단을 입력해주세요. : 5\n",
    "\n",
    "5단\n",
    "5 X 1 = 5\n",
    "5 X 2 = 10\n",
    "5 X 3 = 15\n",
    "5 X 4 = 20\n",
    "5 X 5 = 25\n",
    "5 X 6 = 30\n",
    "5 X 7 = 35\n",
    "5 X 8 = 40\n",
    "5 X 9 = 45\n",
    "\n",
    "숫자를 입력해주세요. : 8\n",
    "잘못된 입력입니다. 다시 입력을 해주세요.\n",
    "\n",
    "숫자를 입력해주세요. : 4\n",
    "프로그램을 종료합니다.\n",
    "'''"
   ]
  },
  {
   "cell_type": "code",
   "execution_count": null,
   "metadata": {
    "id": "5XtVUOB_4REs"
   },
   "outputs": [],
   "source": [
    "# your code\n",
    "no= int(input('1-4 중 입력'))\n",
    "while True:\n",
    "  if no==1:\n",
    "      print('홀수 구구단')\n",
    "      for i in range(3,10,2):\n",
    "          print(i,'단')\n",
    "          for j in range(1,10):\n",
    "              print(i,'*',j,'=',i*j)\n",
    "      break\n",
    "  elif no==2:\n",
    "      print('짝수 구구단')\n",
    "      for i in range(2,9,2):\n",
    "          print(i,'단')\n",
    "          for j in range(1,10):\n",
    "              print(i,'*',j,'=',i*j)\n",
    "      break\n",
    "  elif no==3:\n",
    "      i= int(input('구구단 몇단?'))\n",
    "      print(i,'단')\n",
    "      for j in range(1,10):\n",
    "          print(i,'*',j,'=',i*j)\n",
    "      break\n",
    "  elif no==4:\n",
    "      print('프로그램 종료')\n",
    "      break"
   ]
  },
  {
   "cell_type": "markdown",
   "metadata": {
    "id": "dgBeMYHK2vz8"
   },
   "source": [
    "#### 5.컴퓨터와 묵찌빠 게임을 하는 프로그램을 작성하시오."
   ]
  },
  {
   "cell_type": "code",
   "execution_count": null,
   "metadata": {
    "id": "ePELbrEv4P85"
   },
   "outputs": [],
   "source": [
    "'''\n",
    "# 출력 예시 #\n",
    "가위~ 바위~ 보!\n",
    "나 : 묵        <--- 입력하는 것임\n",
    "컴퓨터 : 찌    <--- 랜덤으로 출력하는 것임(hint : random 모듈 사용)\n",
    "\n",
    "묵~ 묵~        <--- 앞에 수에서 이긴 수로 출력('빠'와 '묵'라면 '빠~ 빠~'로 출력)\n",
    "나 : 찌        <--- 입력하는 것임\n",
    "컴퓨터 : 묵    <--- 랜덤으로 출력하는 것임\n",
    "\n",
    "묵~ 묵~\n",
    "나 : 빠        <--- 앞 수에서 컴퓨터가 이겼지만 왜 내가 먼저 입력을 하는지?\n",
    "컴퓨터 : 빠    <--- 어짜피 컴퓨터는 랜덤이고, 내가 늦게 내면 무조건 이기기 때문에...\n",
    "\n",
    "컴퓨터 승리!\n",
    "'''"
   ]
  },
  {
   "cell_type": "code",
   "execution_count": null,
   "metadata": {
    "id": "4MW7JhbPU5tq"
   },
   "outputs": [],
   "source": [
    "# your code\n",
    "import random\n",
    "while True:\n",
    "    print('가위!, 바위!, 보!')\n",
    "    gamer = str(input('묵,찌,빠 중 입력'))\n",
    "    print('나:',gamer)\n",
    "\n",
    "    thonni = ['묵', '찌', '빠']\n",
    "    choice = random.choice(thonni)\n",
    "    print('컴:',choice)\n",
    "\n",
    "    if gamer == choice :\n",
    "        result= 2\n",
    "    elif gamer == '묵' and choice == '찌':\n",
    "        result= 1\n",
    "    elif gamer == '찌' and choice == '빠':\n",
    "        result= 1\n",
    "    elif gamer == '빠' and choice == '묵':\n",
    "        result= 1\n",
    "    else:\n",
    "        result= 0\n",
    "\n",
    "\n",
    "    if result== 1:\n",
    "        print(gamer*2)\n",
    "        print('공격하세요!')\n",
    "    elif result== 0:\n",
    "        print(choice*2)\n",
    "        print('수비하세요')\n",
    "    else:\n",
    "        print('다시')\n",
    "        break\n",
    "\n"
   ]
  },
  {
   "cell_type": "markdown",
   "metadata": {
    "id": "0p4VNChDc_4m"
   },
   "source": [
    "# 재귀 문제 특집"
   ]
  },
  {
   "cell_type": "markdown",
   "metadata": {
    "id": "omTif_CEafYr"
   },
   "source": [
    "#### 1.재귀 호출을 사용하여 2개의 수를 인자로 받아 제곱을 하는 함수를 구현하시오."
   ]
  },
  {
   "cell_type": "code",
   "execution_count": null,
   "metadata": {
    "id": "WpBTzncobKj7"
   },
   "outputs": [],
   "source": [
    "i=int(input('밑 입력'))\n",
    "j=int(input('지수 입력'))\n",
    "\n",
    "def pow(a, b):\n",
    "    if b == 1:\n",
    "        return a\n",
    "    \n",
    "    return pow(a,b-1)*a\n",
    "    \n",
    "print(i,'의 ',j,'승(=',i,'^',j,')=',pow(i,j))\n",
    "\n",
    "\n",
    "# 출력은 a의 b승(=a^b)\n",
    "\n"
   ]
  },
  {
   "cell_type": "markdown",
   "metadata": {
    "id": "OHdKvv0AZ2BZ"
   },
   "source": [
    "#### 2.재귀 호출을 사용하여 2 ~ 9단을 출력하는 코드를 작성하시오."
   ]
  },
  {
   "cell_type": "code",
   "execution_count": null,
   "metadata": {
    "id": "0SNItjlvZ1tA"
   },
   "outputs": [],
   "source": [
    "'''\n",
    "# 출력 예시 #\n",
    "2 X 1 = 2\n",
    "2 X 2 = 4\n",
    "2 X 3 = 6\n",
    "2 X 4 = 8\n",
    "2 X 5 = 10\n",
    "...\n",
    "...\n",
    "...\n",
    "9 X 7 = 63\n",
    "9 X 8 = 72\n",
    "9 X 9 = 81\n",
    "'''"
   ]
  },
  {
   "cell_type": "code",
   "execution_count": 1,
   "metadata": {
    "colab": {
     "base_uri": "https://localhost:8080/"
    },
    "executionInfo": {
     "elapsed": 11,
     "status": "ok",
     "timestamp": 1678359286855,
     "user": {
      "displayName": "June Ko",
      "userId": "01172581608508178140"
     },
     "user_tz": -540
    },
    "id": "A6a42dpaaXuS",
    "outputId": "5583850f-5238-4acb-940b-a9989026109a"
   },
   "outputs": [
    {
     "name": "stdout",
     "output_type": "stream",
     "text": [
      "2 * 1 = 2\n",
      "2 * 2 = 4\n",
      "2 * 3 = 6\n",
      "2 * 4 = 8\n",
      "2 * 5 = 10\n",
      "2 * 6 = 12\n",
      "2 * 7 = 14\n",
      "2 * 8 = 16\n",
      "2 * 9 = 18\n",
      "3 * 1 = 3\n",
      "3 * 2 = 6\n",
      "3 * 3 = 9\n",
      "3 * 4 = 12\n",
      "3 * 5 = 15\n",
      "3 * 6 = 18\n",
      "3 * 7 = 21\n",
      "3 * 8 = 24\n",
      "3 * 9 = 27\n",
      "4 * 1 = 4\n",
      "4 * 2 = 8\n",
      "4 * 3 = 12\n",
      "4 * 4 = 16\n",
      "4 * 5 = 20\n",
      "4 * 6 = 24\n",
      "4 * 7 = 28\n",
      "4 * 8 = 32\n",
      "4 * 9 = 36\n",
      "5 * 1 = 5\n",
      "5 * 2 = 10\n",
      "5 * 3 = 15\n",
      "5 * 4 = 20\n",
      "5 * 5 = 25\n",
      "5 * 6 = 30\n",
      "5 * 7 = 35\n",
      "5 * 8 = 40\n",
      "5 * 9 = 45\n",
      "6 * 1 = 6\n",
      "6 * 2 = 12\n",
      "6 * 3 = 18\n",
      "6 * 4 = 24\n",
      "6 * 5 = 30\n",
      "6 * 6 = 36\n",
      "6 * 7 = 42\n",
      "6 * 8 = 48\n",
      "6 * 9 = 54\n",
      "7 * 1 = 7\n",
      "7 * 2 = 14\n",
      "7 * 3 = 21\n",
      "7 * 4 = 28\n",
      "7 * 5 = 35\n",
      "7 * 6 = 42\n",
      "7 * 7 = 49\n",
      "7 * 8 = 56\n",
      "7 * 9 = 63\n",
      "8 * 1 = 8\n",
      "8 * 2 = 16\n",
      "8 * 3 = 24\n",
      "8 * 4 = 32\n",
      "8 * 5 = 40\n",
      "8 * 6 = 48\n",
      "8 * 7 = 56\n",
      "8 * 8 = 64\n",
      "8 * 9 = 72\n",
      "9 * 1 = 9\n",
      "9 * 2 = 18\n",
      "9 * 3 = 27\n",
      "9 * 4 = 36\n",
      "9 * 5 = 45\n",
      "9 * 6 = 54\n",
      "9 * 7 = 63\n",
      "9 * 8 = 72\n",
      "9 * 9 = 81\n",
      "2 * 1 = 2\n",
      "2 * 2 = 4\n",
      "2 * 3 = 6\n",
      "2 * 4 = 8\n",
      "2 * 5 = 10\n",
      "2 * 6 = 12\n",
      "2 * 7 = 14\n",
      "2 * 8 = 16\n",
      "2 * 9 = 18\n",
      "3 * 1 = 3\n",
      "3 * 2 = 6\n",
      "3 * 3 = 9\n",
      "3 * 4 = 12\n",
      "3 * 5 = 15\n",
      "3 * 6 = 18\n",
      "3 * 7 = 21\n",
      "3 * 8 = 24\n",
      "3 * 9 = 27\n",
      "4 * 1 = 4\n",
      "4 * 2 = 8\n",
      "4 * 3 = 12\n",
      "4 * 4 = 16\n",
      "4 * 5 = 20\n",
      "4 * 6 = 24\n",
      "4 * 7 = 28\n",
      "4 * 8 = 32\n",
      "4 * 9 = 36\n",
      "5 * 1 = 5\n",
      "5 * 2 = 10\n",
      "5 * 3 = 15\n",
      "5 * 4 = 20\n",
      "5 * 5 = 25\n",
      "5 * 6 = 30\n",
      "5 * 7 = 35\n",
      "5 * 8 = 40\n",
      "5 * 9 = 45\n",
      "6 * 1 = 6\n",
      "6 * 2 = 12\n",
      "6 * 3 = 18\n",
      "6 * 4 = 24\n",
      "6 * 5 = 30\n",
      "6 * 6 = 36\n",
      "6 * 7 = 42\n",
      "6 * 8 = 48\n",
      "6 * 9 = 54\n",
      "7 * 1 = 7\n",
      "7 * 2 = 14\n",
      "7 * 3 = 21\n",
      "7 * 4 = 28\n",
      "7 * 5 = 35\n",
      "7 * 6 = 42\n",
      "7 * 7 = 49\n",
      "7 * 8 = 56\n",
      "7 * 9 = 63\n",
      "8 * 1 = 8\n",
      "8 * 2 = 16\n",
      "8 * 3 = 24\n",
      "8 * 4 = 32\n",
      "8 * 5 = 40\n",
      "8 * 6 = 48\n",
      "8 * 7 = 56\n",
      "8 * 8 = 64\n",
      "8 * 9 = 72\n",
      "9 * 1 = 9\n",
      "9 * 2 = 18\n",
      "9 * 3 = 27\n",
      "9 * 4 = 36\n",
      "9 * 5 = 45\n",
      "9 * 6 = 54\n",
      "9 * 7 = 63\n",
      "9 * 8 = 72\n",
      "9 * 9 = 81\n"
     ]
    }
   ],
   "source": [
    "# your code 1\n",
    "for a in range(2,10):\n",
    "\n",
    "  def mul(n):\n",
    "    if n==0:\n",
    "      return\n",
    "    else:\n",
    "      print(a,'*',(10-n),'=',a*(10-n))\n",
    "      mul(n-1)\n",
    "\n",
    "  mul(9)\n",
    "\n",
    "#2\n",
    "def mul(n):\n",
    "   if n==0:\n",
    "     return\n",
    "   else:\n",
    "     print(a,'*',(10-n),'=',a*(10-n))\n",
    "     mul(n-1)\n",
    "\n",
    "for a in range(2,10):\n",
    " mul(9)\n",
    "\n",
    "\n"
   ]
  },
  {
   "cell_type": "markdown",
   "metadata": {
    "id": "2ygXQFCabJ-C"
   },
   "source": [
    "#### 3.재귀 호출을 사용하여 입력받은 값이 회문인지 판단하는 함수를 구현하시오."
   ]
  },
  {
   "cell_type": "code",
   "execution_count": null,
   "metadata": {
    "colab": {
     "base_uri": "https://localhost:8080/"
    },
    "executionInfo": {
     "elapsed": 5129,
     "status": "ok",
     "timestamp": 1678230253533,
     "user": {
      "displayName": "June Ko",
      "userId": "01172581608508178140"
     },
     "user_tz": -540
    },
    "id": "UUjrGkkkciHd",
    "outputId": "8f084f74-067a-4685-e81e-ef8448a39cff"
   },
   "outputs": [
    {
     "name": "stdout",
     "output_type": "stream",
     "text": [
      "글자 입력assa\n",
      "T\n"
     ]
    }
   ],
   "source": [
    "chr=str(input('글자 입력'))\n",
    "\n",
    "#print(s)\n",
    "  \n",
    "def palindrome(chr):\n",
    "  s=len(chr)\n",
    "  if chr[s-1]!=chr[len(chr)-s]:\n",
    "    return False\n",
    "  else:\n",
    "    return True\n",
    "    palindrome(s-1)\n",
    "\n",
    "# palindrome(chr)\n",
    "if palindrome(chr)==True:\n",
    "  print('T')\n",
    "else:\n",
    "  print('F')\n",
    "# 출력은 회문인 경우 'T'를 출력, 회문이 아닌 경우 'F'를 출력"
   ]
  }
 ],
 "metadata": {
  "accelerator": "GPU",
  "colab": {
   "provenance": []
  },
  "gpuClass": "standard",
  "kernelspec": {
   "display_name": "Python 3 (ipykernel)",
   "language": "python",
   "name": "python3"
  },
  "language_info": {
   "codemirror_mode": {
    "name": "ipython",
    "version": 3
   },
   "file_extension": ".py",
   "mimetype": "text/x-python",
   "name": "python",
   "nbconvert_exporter": "python",
   "pygments_lexer": "ipython3",
   "version": "3.9.13"
  }
 },
 "nbformat": 4,
 "nbformat_minor": 1
}
