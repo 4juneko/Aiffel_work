{
  "nbformat": 4,
  "nbformat_minor": 0,
  "metadata": {
    "colab": {
      "provenance": [],
      "collapsed_sections": [
        "Zkhj089UEZPh",
        "JE-00xISwkeJ",
        "qaurwHYBwnyN"
      ],
      "toc_visible": true,
      "authorship_tag": "ABX9TyNL1dO1A7OFPec/ppJpdnvM",
      "include_colab_link": true
    },
    "kernelspec": {
      "name": "python3",
      "display_name": "Python 3"
    },
    "language_info": {
      "name": "python"
    },
    "accelerator": "GPU",
    "gpuClass": "standard"
  },
  "cells": [
    {
      "cell_type": "markdown",
      "metadata": {
        "id": "view-in-github",
        "colab_type": "text"
      },
      "source": [
        "<a href=\"https://colab.research.google.com/github/4juneko/Aiffel_work/blob/master/11_DeepLearning_Project_04272023.ipynb\" target=\"_parent\"><img src=\"https://colab.research.google.com/assets/colab-badge.svg\" alt=\"Open In Colab\"/></a>"
      ]
    },
    {
      "cell_type": "markdown",
      "source": [
        "# Rubric\n",
        "|평가문항\t|상세기준|내평가|\n",
        "|---|---|---|\n",
        "|1. Boston 주택 가격 예측 프로젝트를 성공적으로 완료하였는가?\t|프로젝트의 지시 사항을 따라 데이터 전처리, 모델 구성, 모델 학습을 올바르게 진행하였다.|<center>O</center>|\n",
        "|2. Reuters 데이터의 분류 프로젝트를 성공적으로 완료하였는가?\t|프로젝트의 지시 사항을 따라 데이터 전처리, 모델 구성, 모델 학습을 올바르게 진행하였다.|<center>O</center>|\n",
        "|3. CIFAR10 데이터의 분류 프로젝트를 성공적으로 완료하였는가?\t|프로젝트의 지시 사항을 따라 데이터 전처리, 모델 구성, 모델 학습을 올바르게 진행하였다.|<center>O</center>|"
      ],
      "metadata": {
        "id": "bWrMzLbCTCee"
      }
    },
    {
      "cell_type": "markdown",
      "source": [
        "# Boston House Price\n",
        "- 집값 예측\n",
        "- feature의 값의 범위가 너무 달라 \n",
        "    - 표준화가 필요함. "
      ],
      "metadata": {
        "id": "4GVeH9GACUYV"
      }
    },
    {
      "cell_type": "markdown",
      "source": [
        "## Load Data from keras"
      ],
      "metadata": {
        "id": "_d7QNGeqUdYC"
      }
    },
    {
      "cell_type": "code",
      "source": [
        "from tensorflow.keras import models, layers\n",
        "import matplotlib.pyplot as plt"
      ],
      "metadata": {
        "id": "vYu7bAkdS_oJ"
      },
      "execution_count": null,
      "outputs": []
    },
    {
      "cell_type": "code",
      "source": [
        "# keras.datasets 안에 boston_housing 데이터셋을 로드합니다.\n",
        "from keras.datasets import boston_housing\n",
        "\n",
        "(train_data, train_labels), (test_data, test_labels) = boston_housing.load_data()\n",
        "\n",
        "# 데이터셋의 크기를 확인합니다.\n",
        "print(len(train_data))\n",
        "print(len(test_data))"
      ],
      "metadata": {
        "colab": {
          "base_uri": "https://localhost:8080/"
        },
        "id": "boWr35IFUbBY",
        "outputId": "6ebd4020-2351-4c11-f5c2-42a1ee7451e4"
      },
      "execution_count": null,
      "outputs": [
        {
          "output_type": "stream",
          "name": "stdout",
          "text": [
            "Downloading data from https://storage.googleapis.com/tensorflow/tf-keras-datasets/boston_housing.npz\n",
            "57026/57026 [==============================] - 0s 0us/step\n",
            "404\n",
            "102\n"
          ]
        }
      ]
    },
    {
      "cell_type": "code",
      "source": [
        "train_data\n",
        "# 값의 차이(10^(-2)~10^2)가 있어 표준화를 진행"
      ],
      "metadata": {
        "colab": {
          "base_uri": "https://localhost:8080/"
        },
        "id": "HKYzZEm6U5ZG",
        "outputId": "ea46e7b1-ef8c-4244-d9cf-e86b4927e881"
      },
      "execution_count": null,
      "outputs": [
        {
          "output_type": "execute_result",
          "data": {
            "text/plain": [
              "array([[1.23247e+00, 0.00000e+00, 8.14000e+00, ..., 2.10000e+01,\n",
              "        3.96900e+02, 1.87200e+01],\n",
              "       [2.17700e-02, 8.25000e+01, 2.03000e+00, ..., 1.47000e+01,\n",
              "        3.95380e+02, 3.11000e+00],\n",
              "       [4.89822e+00, 0.00000e+00, 1.81000e+01, ..., 2.02000e+01,\n",
              "        3.75520e+02, 3.26000e+00],\n",
              "       ...,\n",
              "       [3.46600e-02, 3.50000e+01, 6.06000e+00, ..., 1.69000e+01,\n",
              "        3.62250e+02, 7.83000e+00],\n",
              "       [2.14918e+00, 0.00000e+00, 1.95800e+01, ..., 1.47000e+01,\n",
              "        2.61950e+02, 1.57900e+01],\n",
              "       [1.43900e-02, 6.00000e+01, 2.93000e+00, ..., 1.56000e+01,\n",
              "        3.76700e+02, 4.38000e+00]])"
            ]
          },
          "metadata": {},
          "execution_count": 12
        }
      ]
    },
    {
      "cell_type": "code",
      "source": [
        "train_data.shape, test_data.shape"
      ],
      "metadata": {
        "colab": {
          "base_uri": "https://localhost:8080/"
        },
        "id": "FjcXWCFnYx7B",
        "outputId": "983f8215-a935-43b9-e5d1-5a621b9b076c"
      },
      "execution_count": null,
      "outputs": [
        {
          "output_type": "execute_result",
          "data": {
            "text/plain": [
              "((404, 13), (102, 13))"
            ]
          },
          "metadata": {},
          "execution_count": 17
        }
      ]
    },
    {
      "cell_type": "markdown",
      "source": [
        "## Preprocess"
      ],
      "metadata": {
        "id": "uTY7dpNSUzUC"
      }
    },
    {
      "cell_type": "code",
      "source": [
        "mean = train_data.mean(axis=0)\n",
        "std = train_data.std(axis=0)\n",
        "mean, std\n",
        "# 축 개념이 혼동이 되었음.\n",
        "# https://stackoverflow.com/questions/22149584/what-does-axis-in-pandas-mean"
      ],
      "metadata": {
        "colab": {
          "base_uri": "https://localhost:8080/"
        },
        "id": "Zj2jlGoOVjqd",
        "outputId": "7d8bfe31-10c8-427a-9d2d-57d7a5a90b80"
      },
      "execution_count": null,
      "outputs": [
        {
          "output_type": "execute_result",
          "data": {
            "text/plain": [
              "(array([3.74511057e+00, 1.14801980e+01, 1.11044307e+01, 6.18811881e-02,\n",
              "        5.57355941e-01, 6.26708168e+00, 6.90106436e+01, 3.74027079e+00,\n",
              "        9.44059406e+00, 4.05898515e+02, 1.84759901e+01, 3.54783168e+02,\n",
              "        1.27408168e+01]),\n",
              " array([9.22929073e+00, 2.37382770e+01, 6.80287253e+00, 2.40939633e-01,\n",
              "        1.17147847e-01, 7.08908627e-01, 2.79060634e+01, 2.02770050e+00,\n",
              "        8.68758849e+00, 1.66168506e+02, 2.19765689e+00, 9.39946015e+01,\n",
              "        7.24556085e+00]))"
            ]
          },
          "metadata": {},
          "execution_count": 10
        }
      ]
    },
    {
      "cell_type": "code",
      "source": [
        "# 문제 1-1: 데이터셋의 전처리를 위해 표준화 작업을 수행합니다.\n",
        "# 먼저 입력 데이터의 각 특성의 평균을 뺍니다.\n",
        "train_data = train_data - mean\n",
        "\n",
        "# 평균을 뺀 입력 데이터에서 표준편차를 나눕니다.\n",
        "# 데이터 특성의 중앙이 0에 가깝게 만들고, 표준편차가 1이 되게 만듭니다.\n",
        "train_data = train_data / std\n",
        "\n",
        "# 테스트 데이터셋도 마찬가지로 평균을 빼고, 표준편차로 나눕니다.\n",
        "test_data = test_data  -mean\n",
        "test_data = test_data - std\n",
        "\n",
        "train_data, test_data"
      ],
      "metadata": {
        "colab": {
          "base_uri": "https://localhost:8080/"
        },
        "id": "5EhfcDo-Uybh",
        "outputId": "f1980443-1ea5-4404-9c5f-c8f3a6bd54b1"
      },
      "execution_count": null,
      "outputs": [
        {
          "output_type": "execute_result",
          "data": {
            "text/plain": [
              "(array([[-0.43528338, -0.50398828, -1.6963705 , ..., -7.88452909,\n",
              "         -3.76973875, -1.64453751],\n",
              "        [-0.44949685, -0.3575834 , -1.82839562, ..., -9.18895907,\n",
              "         -3.76991079, -1.94188131],\n",
              "        [-0.39224795, -0.50398828, -1.48115445, ..., -8.05017099,\n",
              "         -3.77215867, -1.93902407],\n",
              "        ...,\n",
              "        [-0.44934552, -0.44187712, -1.74131522, ..., -8.73344383,\n",
              "         -3.77366066, -1.85197339],\n",
              "        [-0.42452133, -0.50398828, -1.44917455, ..., -9.18895907,\n",
              "         -3.78501325, -1.700349  ],\n",
              "        [-0.44958349, -0.39751201, -1.80894838, ..., -9.00261193,\n",
              "         -3.77202511, -1.91768999]]),\n",
              " array([[  -7.86420259,  -70.43695008,  -17.71460645, ...,  -21.14729398,\n",
              "         -870.30553953,  -10.92275537],\n",
              "        [ -25.82551259,  -70.43695008,  -25.80460645, ...,  -23.54729398,\n",
              "         -502.60553953,  -23.76275537],\n",
              "        [ -25.89383259,  -70.43695008,  -30.62460645, ...,  -21.14729398,\n",
              "         -500.65553953,  -30.23275537],\n",
              "        ...,\n",
              "        [ -24.11503259,  -70.43695008,  -16.23460645, ...,  -26.64729398,\n",
              "         -507.94553953,  -38.05275537],\n",
              "        [ -25.59071259,  -70.43695008,  -29.61460645, ...,  -23.94729398,\n",
              "         -505.85553953,  -30.26275537],\n",
              "        [ -23.02480259,  -70.43695008,  -16.23460645, ...,  -26.64729398,\n",
              "         -657.39553953,  -30.16275537]]))"
            ]
          },
          "metadata": {},
          "execution_count": 15
        }
      ]
    },
    {
      "cell_type": "code",
      "source": [
        "train_data.shape[1]"
      ],
      "metadata": {
        "colab": {
          "base_uri": "https://localhost:8080/"
        },
        "id": "Hlrjv1RzaPw6",
        "outputId": "5ca2ae72-a6f3-4ce7-bc13-7b842729f4c2"
      },
      "execution_count": null,
      "outputs": [
        {
          "output_type": "execute_result",
          "data": {
            "text/plain": [
              "13"
            ]
          },
          "metadata": {},
          "execution_count": 19
        }
      ]
    },
    {
      "cell_type": "markdown",
      "source": [
        "## Model and Compile"
      ],
      "metadata": {
        "id": "VftU1rMDX0zf"
      }
    },
    {
      "cell_type": "markdown",
      "source": [
        " Activation Function of Hidden layer\n",
        "- relu : output value 0~N\n",
        "- sigmoid : output value 0~1  (vanishing gradient)\n",
        "- tanh : output value -1~1  (vanishing gradient)\n",
        "\n",
        "Activation Function of Output layer\n",
        " - lenear output : regerssion(변환 없이 바로 나와 no activation이라고도)\n",
        " - logistic(sigmoid) : binary claasification\n",
        " - softmax : classification"
      ],
      "metadata": {
        "id": "lOfErFvhghjd"
      }
    },
    {
      "cell_type": "code",
      "source": [
        "# 문제 1-2: 주택 가격 예측을 위한 딥러닝 모델 구성 및 컴파일합니다.\n",
        "# input_shape은 (train_data.shape[1], )으로 구성합니다.\n",
        "\n",
        "model = models.Sequential()\n",
        "model.add(layers.Input(shape=(train_data.shape[1], ), name='Input'))\n",
        "model.add(layers.Dense(64, activation='sigmoid', name='Dense1'))\n",
        "model.add(layers.Dense(64, activation='relu', name='Dense2'))\n",
        "model.add(layers.Dense(1, activation='linear', name='Ouput'))\n",
        "model.summary()"
      ],
      "metadata": {
        "colab": {
          "base_uri": "https://localhost:8080/"
        },
        "id": "BCi_Sk-3UaPm",
        "outputId": "00d4d414-0bd2-480b-e5bd-c75e1d92734d"
      },
      "execution_count": null,
      "outputs": [
        {
          "output_type": "stream",
          "name": "stdout",
          "text": [
            "Model: \"sequential_13\"\n",
            "_________________________________________________________________\n",
            " Layer (type)                Output Shape              Param #   \n",
            "=================================================================\n",
            " Dense1 (Dense)              (None, 64)                896       \n",
            "                                                                 \n",
            " Dense2 (Dense)              (None, 64)                4160      \n",
            "                                                                 \n",
            " Ouput (Dense)               (None, 1)                 65        \n",
            "                                                                 \n",
            "=================================================================\n",
            "Total params: 5,121\n",
            "Trainable params: 5,121\n",
            "Non-trainable params: 0\n",
            "_________________________________________________________________\n"
          ]
        }
      ]
    },
    {
      "cell_type": "code",
      "source": [
        "from tensorflow.keras import models, utils\n",
        "utils.plot_model(model)"
      ],
      "metadata": {
        "colab": {
          "base_uri": "https://localhost:8080/",
          "height": 369
        },
        "id": "hYvVPgeWj88j",
        "outputId": "618e2bc0-7d28-43ed-d547-a61c9bbd14eb"
      },
      "execution_count": null,
      "outputs": [
        {
          "output_type": "execute_result",
          "data": {
            "image/png": "[encoded data removed]",
            "text/plain": [
              "<IPython.core.display.Image object>"
            ]
          },
          "metadata": {},
          "execution_count": 90
        }
      ]
    },
    {
      "cell_type": "code",
      "source": [
        "# 컴파일\n",
        "# 회귀(예측)을 위한 모델이므로 loss를 mse, metrics를 mae로 사용합니다.\n",
        "model.compile(loss='mse',\n",
        "              optimizer='adam',\n",
        "              metrics=['mae'])"
      ],
      "metadata": {
        "id": "U5e7Tx5ZUaMF"
      },
      "execution_count": null,
      "outputs": []
    },
    {
      "cell_type": "code",
      "source": [
        "# 문제 1-3: 예측을 위한 딥러닝 모델을 학습합니다.\n",
        "history = model.fit(train_data, train_labels,\n",
        "                    epochs=50,\n",
        "                    batch_size=100,\n",
        "                    validation_data=(test_data, test_labels))"
      ],
      "metadata": {
        "colab": {
          "base_uri": "https://localhost:8080/"
        },
        "id": "j7Rj_UbiagSj",
        "outputId": "0f4ec8ce-c3cb-4747-f826-d2c02dd66222"
      },
      "execution_count": null,
      "outputs": [
        {
          "output_type": "stream",
          "name": "stdout",
          "text": [
            "Epoch 1/50\n",
            "5/5 [==============================] - 1s 44ms/step - loss: 589.8265 - mae: 22.5073 - val_loss: 566.5385 - val_mae: 21.9909\n",
            "Epoch 2/50\n",
            "5/5 [==============================] - 0s 12ms/step - loss: 543.1082 - mae: 21.4704 - val_loss: 539.8109 - val_mae: 21.3693\n",
            "Epoch 3/50\n",
            "5/5 [==============================] - 0s 10ms/step - loss: 504.1610 - mae: 20.5421 - val_loss: 515.1541 - val_mae: 20.7712\n",
            "Epoch 4/50\n",
            "5/5 [==============================] - 0s 11ms/step - loss: 466.7451 - mae: 19.6286 - val_loss: 487.1891 - val_mae: 20.0935\n",
            "Epoch 5/50\n",
            "5/5 [==============================] - 0s 11ms/step - loss: 428.5379 - mae: 18.6572 - val_loss: 456.7793 - val_mae: 19.3318\n",
            "Epoch 6/50\n",
            "5/5 [==============================] - 0s 15ms/step - loss: 387.9845 - mae: 17.5578 - val_loss: 422.7076 - val_mae: 18.4388\n",
            "Epoch 7/50\n",
            "5/5 [==============================] - 0s 10ms/step - loss: 345.8638 - mae: 16.3543 - val_loss: 388.4046 - val_mae: 17.4822\n",
            "Epoch 8/50\n",
            "5/5 [==============================] - 0s 12ms/step - loss: 304.8495 - mae: 15.0477 - val_loss: 353.3515 - val_mae: 16.4588\n",
            "Epoch 9/50\n",
            "5/5 [==============================] - 0s 14ms/step - loss: 261.8490 - mae: 13.6010 - val_loss: 317.5615 - val_mae: 15.3742\n",
            "Epoch 10/50\n",
            "5/5 [==============================] - 0s 11ms/step - loss: 220.9927 - mae: 12.0857 - val_loss: 277.6689 - val_mae: 14.1488\n",
            "Epoch 11/50\n",
            "5/5 [==============================] - 0s 11ms/step - loss: 183.5153 - mae: 10.5122 - val_loss: 233.9784 - val_mae: 12.7638\n",
            "Epoch 12/50\n",
            "5/5 [==============================] - 0s 15ms/step - loss: 148.7998 - mae: 9.0134 - val_loss: 199.9620 - val_mae: 11.5957\n",
            "Epoch 13/50\n",
            "5/5 [==============================] - 0s 11ms/step - loss: 121.2586 - mae: 7.6975 - val_loss: 172.1328 - val_mae: 10.5331\n",
            "Epoch 14/50\n",
            "5/5 [==============================] - 0s 12ms/step - loss: 99.8285 - mae: 6.6314 - val_loss: 148.8293 - val_mae: 9.5875\n",
            "Epoch 15/50\n",
            "5/5 [==============================] - 0s 11ms/step - loss: 84.8163 - mae: 5.9877 - val_loss: 131.9023 - val_mae: 8.8490\n",
            "Epoch 16/50\n",
            "5/5 [==============================] - 0s 14ms/step - loss: 76.1293 - mae: 5.7913 - val_loss: 120.4244 - val_mae: 8.2929\n",
            "Epoch 17/50\n",
            "5/5 [==============================] - 0s 13ms/step - loss: 73.5174 - mae: 5.9751 - val_loss: 114.0792 - val_mae: 7.9448\n",
            "Epoch 18/50\n",
            "5/5 [==============================] - 0s 10ms/step - loss: 72.3414 - mae: 6.1302 - val_loss: 112.0034 - val_mae: 7.8282\n",
            "Epoch 19/50\n",
            "5/5 [==============================] - 0s 11ms/step - loss: 71.8099 - mae: 6.1739 - val_loss: 112.5244 - val_mae: 7.8747\n",
            "Epoch 20/50\n",
            "5/5 [==============================] - 0s 15ms/step - loss: 71.0085 - mae: 6.0973 - val_loss: 114.9794 - val_mae: 8.0237\n",
            "Epoch 21/50\n",
            "5/5 [==============================] - 0s 11ms/step - loss: 70.1357 - mae: 5.9635 - val_loss: 118.1844 - val_mae: 8.2093\n",
            "Epoch 22/50\n",
            "5/5 [==============================] - 0s 11ms/step - loss: 69.2744 - mae: 5.8181 - val_loss: 120.7219 - val_mae: 8.3486\n",
            "Epoch 23/50\n",
            "5/5 [==============================] - 0s 15ms/step - loss: 68.9112 - mae: 5.7475 - val_loss: 121.0744 - val_mae: 8.3694\n",
            "Epoch 24/50\n",
            "5/5 [==============================] - 0s 15ms/step - loss: 68.3262 - mae: 5.7170 - val_loss: 120.0542 - val_mae: 8.3202\n",
            "Epoch 25/50\n",
            "5/5 [==============================] - 0s 12ms/step - loss: 67.6176 - mae: 5.7618 - val_loss: 116.8020 - val_mae: 8.1628\n",
            "Epoch 26/50\n",
            "5/5 [==============================] - 0s 10ms/step - loss: 67.1450 - mae: 5.8324 - val_loss: 115.6734 - val_mae: 8.1092\n",
            "Epoch 27/50\n",
            "5/5 [==============================] - 0s 15ms/step - loss: 66.7047 - mae: 5.8689 - val_loss: 115.1860 - val_mae: 8.0906\n",
            "Epoch 28/50\n",
            "5/5 [==============================] - 0s 15ms/step - loss: 66.2040 - mae: 5.8740 - val_loss: 115.4317 - val_mae: 8.1160\n",
            "Epoch 29/50\n",
            "5/5 [==============================] - 0s 15ms/step - loss: 65.6525 - mae: 5.8773 - val_loss: 115.2927 - val_mae: 8.0873\n",
            "Epoch 30/50\n",
            "5/5 [==============================] - 0s 10ms/step - loss: 65.3058 - mae: 5.8929 - val_loss: 115.5290 - val_mae: 8.0847\n",
            "Epoch 31/50\n",
            "5/5 [==============================] - 0s 11ms/step - loss: 64.8438 - mae: 5.8496 - val_loss: 115.8477 - val_mae: 8.0985\n",
            "Epoch 32/50\n",
            "5/5 [==============================] - 0s 10ms/step - loss: 64.3656 - mae: 5.8161 - val_loss: 115.8516 - val_mae: 8.1090\n",
            "Epoch 33/50\n",
            "5/5 [==============================] - 0s 14ms/step - loss: 63.9243 - mae: 5.7794 - val_loss: 116.5894 - val_mae: 8.1489\n",
            "Epoch 34/50\n",
            "5/5 [==============================] - 0s 11ms/step - loss: 63.4715 - mae: 5.6833 - val_loss: 118.0581 - val_mae: 8.2196\n",
            "Epoch 35/50\n",
            "5/5 [==============================] - 0s 12ms/step - loss: 63.1418 - mae: 5.5601 - val_loss: 119.7882 - val_mae: 8.2989\n",
            "Epoch 36/50\n",
            "5/5 [==============================] - 0s 10ms/step - loss: 62.8257 - mae: 5.4855 - val_loss: 118.5286 - val_mae: 8.2362\n",
            "Epoch 37/50\n",
            "5/5 [==============================] - 0s 11ms/step - loss: 62.2322 - mae: 5.5347 - val_loss: 115.1737 - val_mae: 8.0706\n",
            "Epoch 38/50\n",
            "5/5 [==============================] - 0s 15ms/step - loss: 61.8571 - mae: 5.6256 - val_loss: 113.0552 - val_mae: 7.9638\n",
            "Epoch 39/50\n",
            "5/5 [==============================] - 0s 13ms/step - loss: 61.3942 - mae: 5.6375 - val_loss: 112.5609 - val_mae: 7.9361\n",
            "Epoch 40/50\n",
            "5/5 [==============================] - 0s 14ms/step - loss: 61.0057 - mae: 5.6016 - val_loss: 112.1323 - val_mae: 7.9127\n",
            "Epoch 41/50\n",
            "5/5 [==============================] - 0s 11ms/step - loss: 60.6974 - mae: 5.5392 - val_loss: 112.9492 - val_mae: 7.9551\n",
            "Epoch 42/50\n",
            "5/5 [==============================] - 0s 15ms/step - loss: 60.3621 - mae: 5.4690 - val_loss: 113.1786 - val_mae: 7.9677\n",
            "Epoch 43/50\n",
            "5/5 [==============================] - 0s 10ms/step - loss: 60.1577 - mae: 5.4209 - val_loss: 113.9248 - val_mae: 8.0055\n",
            "Epoch 44/50\n",
            "5/5 [==============================] - 0s 15ms/step - loss: 59.9524 - mae: 5.3719 - val_loss: 114.7285 - val_mae: 8.0476\n",
            "Epoch 45/50\n",
            "5/5 [==============================] - 0s 11ms/step - loss: 59.7183 - mae: 5.3486 - val_loss: 114.2276 - val_mae: 8.0219\n",
            "Epoch 46/50\n",
            "5/5 [==============================] - 0s 15ms/step - loss: 59.4490 - mae: 5.3324 - val_loss: 113.3453 - val_mae: 7.9721\n",
            "Epoch 47/50\n",
            "5/5 [==============================] - 0s 11ms/step - loss: 58.9384 - mae: 5.4144 - val_loss: 109.3575 - val_mae: 7.7532\n",
            "Epoch 48/50\n",
            "5/5 [==============================] - 0s 11ms/step - loss: 58.7248 - mae: 5.5391 - val_loss: 107.9206 - val_mae: 7.6686\n",
            "Epoch 49/50\n",
            "5/5 [==============================] - 0s 11ms/step - loss: 58.5535 - mae: 5.6052 - val_loss: 106.3449 - val_mae: 7.5775\n",
            "Epoch 50/50\n",
            "5/5 [==============================] - 0s 11ms/step - loss: 58.2681 - mae: 5.5985 - val_loss: 106.2534 - val_mae: 7.5786\n"
          ]
        }
      ]
    },
    {
      "cell_type": "code",
      "source": [
        "# 모델 학습 히스토리에서 loss, val_loss, mae, val_mae를 차트로 보여줍니다.\n",
        "plt.style.use('seaborn-white')\n",
        "\n",
        "history_dict = history.history\n",
        "\n",
        "loss = history_dict['loss']\n",
        "val_loss = history_dict['val_loss']\n",
        "\n",
        "epochs = range(1, len(loss) + 1)\n",
        "fig = plt.figure(figsize=(12, 5))\n",
        "\n",
        "ax1 = fig.add_subplot(1, 2, 1)\n",
        "ax1.plot(epochs, loss, 'b-', label='train_loss')\n",
        "ax1.plot(epochs, val_loss, 'r-', label='val_loss')\n",
        "ax1.set_title('Train and Validation Loss')\n",
        "ax1.set_xlabel('Epochs')\n",
        "ax1.set_ylabel('Loss')\n",
        "ax1.grid()\n",
        "ax1.legend()\n",
        "\n",
        "mae = history_dict['mae']\n",
        "val_mae = history_dict['val_mae']\n",
        "\n",
        "ax2 = fig.add_subplot(1, 2, 2)\n",
        "ax2.plot(epochs, mae, 'b-', label='train_mae')\n",
        "ax2.plot(epochs, val_mae, 'r-', label='val_mae')\n",
        "ax2.set_title('Train and Validation MAE')\n",
        "ax2.set_xlabel('Epochs')\n",
        "ax2.set_ylabel('Accuracy')\n",
        "ax2.grid()\n",
        "ax2.legend()\n",
        "\n",
        "plt.show()"
      ],
      "metadata": {
        "colab": {
          "base_uri": "https://localhost:8080/",
          "height": 526
        },
        "id": "Vutj2YnWa9tA",
        "outputId": "a04f13c9-1c20-46fd-b7a2-894708e3232b"
      },
      "execution_count": null,
      "outputs": [
        {
          "output_type": "stream",
          "name": "stderr",
          "text": [
            "<ipython-input-93-eee1a1311e5a>:2: MatplotlibDeprecationWarning: The seaborn styles shipped by Matplotlib are deprecated since 3.6, as they no longer correspond to the styles shipped by seaborn. However, they will remain available as 'seaborn-v0_8-<style>'. Alternatively, directly use the seaborn API instead.\n",
            "  plt.style.use('seaborn-white')\n"
          ]
        },
        {
          "output_type": "display_data",
          "data": {
            "text/plain": [
              "<Figure size 1200x500 with 2 Axes>"
            ],
            "image/png": "[encoded data removed]"
          },
          "metadata": {}
        }
      ]
    },
    {
      "cell_type": "markdown",
      "source": [
        "## Evaluate & Predict"
      ],
      "metadata": {
        "id": "5fS3tbu_clE-"
      }
    },
    {
      "cell_type": "code",
      "source": [
        "model.evaluate(test_data, test_labels)"
      ],
      "metadata": {
        "colab": {
          "base_uri": "https://localhost:8080/"
        },
        "id": "K3i6RcWgcpUN",
        "outputId": "08ae4b2b-9b09-47f3-8c95-afd22b5dc4a7"
      },
      "execution_count": null,
      "outputs": [
        {
          "output_type": "stream",
          "name": "stdout",
          "text": [
            "4/4 [==============================] - 0s 4ms/step - loss: 103.3645 - mae: 7.3830\n"
          ]
        },
        {
          "output_type": "execute_result",
          "data": {
            "text/plain": [
              "[103.36447143554688, 7.383044242858887]"
            ]
          },
          "metadata": {},
          "execution_count": 72
        }
      ]
    },
    {
      "cell_type": "code",
      "source": [
        "model.predict(test_data[0:5])"
      ],
      "metadata": {
        "colab": {
          "base_uri": "https://localhost:8080/"
        },
        "id": "iFPKKbNCosUh",
        "outputId": "fb4cf7ef-a939-4a9b-e479-e45f5e7a2b7e"
      },
      "execution_count": null,
      "outputs": [
        {
          "output_type": "stream",
          "name": "stderr",
          "text": [
            "WARNING:tensorflow:6 out of the last 16 calls to <function Model.make_predict_function.<locals>.predict_function at 0x7f7d14954b80> triggered tf.function retracing. Tracing is expensive and the excessive number of tracings could be due to (1) creating @tf.function repeatedly in a loop, (2) passing tensors with different shapes, (3) passing Python objects instead of tensors. For (1), please define your @tf.function outside of the loop. For (2), @tf.function has reduce_retracing=True option that can avoid unnecessary retracing. For (3), please refer to https://www.tensorflow.org/guide/function#controlling_retracing and https://www.tensorflow.org/api_docs/python/tf/function for  more details.\n"
          ]
        },
        {
          "output_type": "stream",
          "name": "stdout",
          "text": [
            "1/1 [==============================] - 0s 63ms/step\n"
          ]
        },
        {
          "output_type": "execute_result",
          "data": {
            "text/plain": [
              "array([[17.75235 ],\n",
              "       [18.456524],\n",
              "       [18.170938],\n",
              "       [18.422775],\n",
              "       [18.223404]], dtype=float32)"
            ]
          },
          "metadata": {},
          "execution_count": 94
        }
      ]
    },
    {
      "cell_type": "code",
      "source": [
        "test_labels[0:5]"
      ],
      "metadata": {
        "colab": {
          "base_uri": "https://localhost:8080/"
        },
        "id": "cEfSqMBeo5_m",
        "outputId": "b522f506-8559-4619-fe70-6efff4f0960b"
      },
      "execution_count": null,
      "outputs": [
        {
          "output_type": "execute_result",
          "data": {
            "text/plain": [
              "array([ 7.2, 18.8, 19. , 27. , 22.2])"
            ]
          },
          "metadata": {},
          "execution_count": 95
        }
      ]
    },
    {
      "cell_type": "code",
      "source": [
        "# model.get_weights()"
      ],
      "metadata": {
        "id": "-1kOhSVnpgJs"
      },
      "execution_count": null,
      "outputs": []
    },
    {
      "cell_type": "code",
      "source": [
        "import numpy as np\n",
        "pred_ys = model.predict(test_data)\n",
        "arg_pred_y = np.argmax(pred_ys, axis=1)"
      ],
      "metadata": {
        "colab": {
          "base_uri": "https://localhost:8080/"
        },
        "id": "_OMIr7lqcr5g",
        "outputId": "0ba3be65-ee6e-48ee-f405-fee5a616b708"
      },
      "execution_count": null,
      "outputs": [
        {
          "output_type": "stream",
          "name": "stdout",
          "text": [
            "4/4 [==============================] - 0s 3ms/step\n"
          ]
        }
      ]
    },
    {
      "cell_type": "markdown",
      "source": [
        "# Reuters\n",
        "- 주제 분류\n",
        "- 텍스트 데이터를 벡터로 변환 (주제 레이블도)\n",
        "    - one-hot-encocding\n",
        "\n"
      ],
      "metadata": {
        "id": "_xRDz19nrC0d"
      }
    },
    {
      "cell_type": "markdown",
      "source": [
        "## Load Data from keras"
      ],
      "metadata": {
        "id": "Zkhj089UEZPh"
      }
    },
    {
      "cell_type": "code",
      "source": [
        "import numpy as np\n",
        "import matplotlib.pyplot as plt\n",
        "from sklearn.model_selection import train_test_split\n",
        "\n",
        "from tensorflow.keras import models, layers\n",
        "from tensorflow.keras import callbacks\n",
        "from tensorflow.keras import utils\n",
        "from keras.datasets import reuters"
      ],
      "metadata": {
        "id": "Y_4P00FYc2aq"
      },
      "execution_count": null,
      "outputs": []
    },
    {
      "cell_type": "code",
      "source": [
        "# 문제 2-1: reuters 데이터셋을 로드하고, 훈련 데이터셋에서 25%를 검증 데이터셋으로 분리합니다.\n",
        "(train_data, train_labels), (test_data, test_labels) = reuters.load_data(num_words=10000)\n",
        "train_data2, val_data, train_labels2, val_labels = train_test_split(train_data, train_labels, test_size=0.25)\n",
        "# 훈련, 검증, 테스트 데이터와 레이블 종류가 몇 개인지 출력합니다.\n",
        "print(len(train_data))\n",
        "print(len(train_data2))\n",
        "print(len(val_data))\n",
        "print(len(test_data))\n",
        "print(len(set(train_labels)))"
      ],
      "metadata": {
        "colab": {
          "base_uri": "https://localhost:8080/"
        },
        "id": "u9p4-XAlrNAZ",
        "outputId": "d829228f-1bc3-4a34-c5b6-bad1620d1604"
      },
      "execution_count": null,
      "outputs": [
        {
          "output_type": "stream",
          "name": "stdout",
          "text": [
            "Downloading data from https://storage.googleapis.com/tensorflow/tf-keras-datasets/reuters.npz\n",
            "2110848/2110848 [==============================] - 0s 0us/step\n",
            "8982\n",
            "6736\n",
            "2246\n",
            "2246\n",
            "46\n"
          ]
        }
      ]
    },
    {
      "cell_type": "code",
      "source": [
        "train_data[0]"
      ],
      "metadata": {
        "colab": {
          "base_uri": "https://localhost:8080/"
        },
        "id": "dsKjKy1ZIBEX",
        "outputId": "8fdc62ad-9cf9-49e3-e1d5-a2a1d2114ba2"
      },
      "execution_count": null,
      "outputs": [
        {
          "output_type": "execute_result",
          "data": {
            "text/plain": [
              "[1,\n",
              " 2,\n",
              " 2,\n",
              " 8,\n",
              " 43,\n",
              " 10,\n",
              " 447,\n",
              " 5,\n",
              " 25,\n",
              " 207,\n",
              " 270,\n",
              " 5,\n",
              " 3095,\n",
              " 111,\n",
              " 16,\n",
              " 369,\n",
              " 186,\n",
              " 90,\n",
              " 67,\n",
              " 7,\n",
              " 89,\n",
              " 5,\n",
              " 19,\n",
              " 102,\n",
              " 6,\n",
              " 19,\n",
              " 124,\n",
              " 15,\n",
              " 90,\n",
              " 67,\n",
              " 84,\n",
              " 22,\n",
              " 482,\n",
              " 26,\n",
              " 7,\n",
              " 48,\n",
              " 4,\n",
              " 49,\n",
              " 8,\n",
              " 864,\n",
              " 39,\n",
              " 209,\n",
              " 154,\n",
              " 6,\n",
              " 151,\n",
              " 6,\n",
              " 83,\n",
              " 11,\n",
              " 15,\n",
              " 22,\n",
              " 155,\n",
              " 11,\n",
              " 15,\n",
              " 7,\n",
              " 48,\n",
              " 9,\n",
              " 4579,\n",
              " 1005,\n",
              " 504,\n",
              " 6,\n",
              " 258,\n",
              " 6,\n",
              " 272,\n",
              " 11,\n",
              " 15,\n",
              " 22,\n",
              " 134,\n",
              " 44,\n",
              " 11,\n",
              " 15,\n",
              " 16,\n",
              " 8,\n",
              " 197,\n",
              " 1245,\n",
              " 90,\n",
              " 67,\n",
              " 52,\n",
              " 29,\n",
              " 209,\n",
              " 30,\n",
              " 32,\n",
              " 132,\n",
              " 6,\n",
              " 109,\n",
              " 15,\n",
              " 17,\n",
              " 12]"
            ]
          },
          "metadata": {},
          "execution_count": 3
        }
      ]
    },
    {
      "cell_type": "code",
      "source": [
        "test_labels"
      ],
      "metadata": {
        "colab": {
          "base_uri": "https://localhost:8080/"
        },
        "id": "cHGNevNVAGaS",
        "outputId": "3fa2e0e6-573a-466d-b10d-2cdfdd582f52"
      },
      "execution_count": null,
      "outputs": [
        {
          "output_type": "execute_result",
          "data": {
            "text/plain": [
              "array([ 3, 10,  1, ...,  3,  3, 24])"
            ]
          },
          "metadata": {},
          "execution_count": 4
        }
      ]
    },
    {
      "cell_type": "markdown",
      "source": [
        "## Preprocess"
      ],
      "metadata": {
        "id": "JE-00xISwkeJ"
      }
    },
    {
      "cell_type": "code",
      "source": [
        "word_index = reuters.get_word_index() #데이터 셋이 단어 인덱스로 되어 있어 인덱스를 단어들로 변환\n",
        "index_word = dict([(value, key) for (key, value) in word_index.items()]) #딕셔너리 형태로\n",
        "news = ' '.join([str(i) for i in train_data[0]]) #단어들로 하나의 리뷰를 만들어줌.\n",
        "news = ' '.join([index_word.get(i-3, '?') for i in train_data[0]])  #\n",
        "news"
      ],
      "metadata": {
        "colab": {
          "base_uri": "https://localhost:8080/"
        },
        "id": "k1DPtuCVHDb4",
        "outputId": "ca0a42cd-6af4-4943-ec55-1fbff24e362c"
      },
      "execution_count": null,
      "outputs": [
        {
          "output_type": "stream",
          "name": "stdout",
          "text": [
            "Downloading data from https://storage.googleapis.com/tensorflow/tf-keras-datasets/reuters_word_index.json\n",
            "550378/550378 [==============================] - 0s 0us/step\n"
          ]
        },
        {
          "output_type": "execute_result",
          "data": {
            "text/plain": [
              "'? ? ? said as a result of its december acquisition of space co it expects earnings per share in 1987 of 1 15 to 1 30 dlrs per share up from 70 cts in 1986 the company said pretax net should rise to nine to 10 mln dlrs from six mln dlrs in 1986 and rental operation revenues to 19 to 22 mln dlrs from 12 5 mln dlrs it said cash flow per share this year should be 2 50 to three dlrs reuter 3'"
            ],
            "application/vnd.google.colaboratory.intrinsic+json": {
              "type": "string"
            }
          },
          "metadata": {},
          "execution_count": 5
        }
      ]
    },
    {
      "cell_type": "code",
      "source": [
        "# 문제 2-2: 텍스트 데이터의 전처리를 위해서 각 데이터셋마다 원-핫 인코딩을 수행합니다.\n",
        "def one_hot_encoding(data, dim=10000):\n",
        "  results = np.zeros((len(data), dim))\n",
        "  for i, d in enumerate(data):\n",
        "    results[i, d] = 1.\n",
        "  return results\n",
        "\n",
        "x_train = one_hot_encoding(train_data2)\n",
        "x_val = one_hot_encoding(val_data)\n",
        "x_test = one_hot_encoding(test_data)\n",
        "\n",
        "# 레이블 데이터들은 범주형 형태로 to_categorical() 함수를 사용해 변환합니다.\n",
        "y_train = utils.to_categorical(train_labels2)\n",
        "y_val = utils.to_categorical(val_labels)\n",
        "y_test = utils.to_categorical(test_labels)"
      ],
      "metadata": {
        "id": "2blSVuUJtYL7"
      },
      "execution_count": null,
      "outputs": []
    },
    {
      "cell_type": "code",
      "source": [
        "train_data.shape, x_train.shape"
      ],
      "metadata": {
        "colab": {
          "base_uri": "https://localhost:8080/"
        },
        "id": "I0aD6orvyY-m",
        "outputId": "ae6f2271-b428-4f50-905b-bd3f221657c9"
      },
      "execution_count": null,
      "outputs": [
        {
          "output_type": "execute_result",
          "data": {
            "text/plain": [
              "((8982,), (6736, 10000))"
            ]
          },
          "metadata": {},
          "execution_count": 7
        }
      ]
    },
    {
      "cell_type": "markdown",
      "source": [
        "## Model and Complie"
      ],
      "metadata": {
        "id": "qaurwHYBwnyN"
      }
    },
    {
      "cell_type": "code",
      "source": [
        "# 문제 2-3: 빠른 학습과 과대적합을 방지하기 위해 BatchNormalization과 Dropout을 적용한 딥러닝 모델을 구성합니다.\n",
        "import tensorflow as tf\n",
        "from tensorflow.keras import models, layers\n",
        "\n",
        "model = models.Sequential()\n",
        "model.add(layers.Dense(128, input_shape=(10000, ), name='input'))\n",
        "model.add(layers.BatchNormalization())\n",
        "model.add(layers.Activation('relu')) \n",
        "model.add(layers.Dropout(0.5))\n",
        "model.add(layers.Dense(128, name='hidden'))\n",
        "model.add(layers.BatchNormalization())\n",
        "model.add(layers.Activation('relu')) \n",
        "model.add(layers.Dropout(0.5))\n",
        "model.add(layers.Dense(46, activation='softmax', name='output'))\n",
        "\n",
        "model.compile(optimizer='adam',\n",
        "              loss='categorical_crossentropy',\n",
        "              metrics=['accuracy'])\n",
        "model.summary()"
      ],
      "metadata": {
        "colab": {
          "base_uri": "https://localhost:8080/"
        },
        "id": "-4Rzd_Hswq4l",
        "outputId": "0aec231c-43c4-408c-d4c4-aa587f7cf0ef"
      },
      "execution_count": null,
      "outputs": [
        {
          "output_type": "stream",
          "name": "stdout",
          "text": [
            "Model: \"sequential\"\n",
            "_________________________________________________________________\n",
            " Layer (type)                Output Shape              Param #   \n",
            "=================================================================\n",
            " input (Dense)               (None, 128)               1280128   \n",
            "                                                                 \n",
            " batch_normalization (BatchN  (None, 128)              512       \n",
            " ormalization)                                                   \n",
            "                                                                 \n",
            " activation (Activation)     (None, 128)               0         \n",
            "                                                                 \n",
            " dropout (Dropout)           (None, 128)               0         \n",
            "                                                                 \n",
            " hidden (Dense)              (None, 128)               16512     \n",
            "                                                                 \n",
            " batch_normalization_1 (Batc  (None, 128)              512       \n",
            " hNormalization)                                                 \n",
            "                                                                 \n",
            " activation_1 (Activation)   (None, 128)               0         \n",
            "                                                                 \n",
            " dropout_1 (Dropout)         (None, 128)               0         \n",
            "                                                                 \n",
            " output (Dense)              (None, 46)                5934      \n",
            "                                                                 \n",
            "=================================================================\n",
            "Total params: 1,303,598\n",
            "Trainable params: 1,303,086\n",
            "Non-trainable params: 512\n",
            "_________________________________________________________________\n"
          ]
        }
      ]
    },
    {
      "cell_type": "code",
      "source": [
        "utils.plot_model(model, show_shapes=True)"
      ],
      "metadata": {
        "colab": {
          "base_uri": "https://localhost:8080/"
        },
        "id": "ViB604ZeekZH",
        "outputId": "e29c4e8b-4840-4723-c8c5-0e81fcb5429b"
      },
      "execution_count": null,
      "outputs": [
        {
          "output_type": "execute_result",
          "data": {
            "image/png": "[encoded data removed]",
            "text/plain": [
              "<IPython.core.display.Image object>"
            ]
          },
          "metadata": {},
          "execution_count": 9
        }
      ]
    },
    {
      "cell_type": "code",
      "source": [
        "check_point_cb = callbacks.ModelCheckpoint('reuterst_model.h5', \n",
        "                                           save_best_only=True)\n",
        "early_stopping_cb = callbacks.EarlyStopping(patience=10, \n",
        "                                            monitor='val_loss',\n",
        "                                            restore_best_weights=True)\n",
        "history = model.fit(x_train, y_train, epochs=40,\n",
        "                    # batch_size=512\n",
        "                    validation_data=(x_val, y_val),\n",
        "                    callbacks=[check_point_cb, early_stopping_cb])"
      ],
      "metadata": {
        "colab": {
          "base_uri": "https://localhost:8080/"
        },
        "id": "kZfSTmsWxlL0",
        "outputId": "eaa2a728-d225-4c8e-9bf9-8d4f199c6748"
      },
      "execution_count": null,
      "outputs": [
        {
          "output_type": "stream",
          "name": "stdout",
          "text": [
            "Epoch 1/40\n",
            "211/211 [==============================] - 13s 14ms/step - loss: 1.9430 - accuracy: 0.5598 - val_loss: 1.5228 - val_accuracy: 0.7053\n",
            "Epoch 2/40\n",
            "211/211 [==============================] - 2s 7ms/step - loss: 1.2415 - accuracy: 0.7053 - val_loss: 1.1085 - val_accuracy: 0.7685\n",
            "Epoch 3/40\n",
            "211/211 [==============================] - 1s 6ms/step - loss: 1.0001 - accuracy: 0.7634 - val_loss: 1.0146 - val_accuracy: 0.7823\n",
            "Epoch 4/40\n",
            "211/211 [==============================] - 1s 6ms/step - loss: 0.8327 - accuracy: 0.8008 - val_loss: 0.9788 - val_accuracy: 0.7930\n",
            "Epoch 5/40\n",
            "211/211 [==============================] - 1s 6ms/step - loss: 0.7085 - accuracy: 0.8299 - val_loss: 0.9423 - val_accuracy: 0.8023\n",
            "Epoch 6/40\n",
            "211/211 [==============================] - 1s 7ms/step - loss: 0.6148 - accuracy: 0.8452 - val_loss: 0.9397 - val_accuracy: 0.8081\n",
            "Epoch 7/40\n",
            "211/211 [==============================] - 1s 7ms/step - loss: 0.5484 - accuracy: 0.8645 - val_loss: 0.9393 - val_accuracy: 0.8103\n",
            "Epoch 8/40\n",
            "211/211 [==============================] - 1s 6ms/step - loss: 0.5040 - accuracy: 0.8711 - val_loss: 0.9451 - val_accuracy: 0.8126\n",
            "Epoch 9/40\n",
            "211/211 [==============================] - 2s 9ms/step - loss: 0.4412 - accuracy: 0.8897 - val_loss: 0.9504 - val_accuracy: 0.8081\n",
            "Epoch 10/40\n",
            "211/211 [==============================] - 2s 7ms/step - loss: 0.4170 - accuracy: 0.8931 - val_loss: 0.9720 - val_accuracy: 0.8139\n",
            "Epoch 11/40\n",
            "211/211 [==============================] - 1s 6ms/step - loss: 0.3898 - accuracy: 0.8989 - val_loss: 0.9724 - val_accuracy: 0.8161\n",
            "Epoch 12/40\n",
            "211/211 [==============================] - 1s 6ms/step - loss: 0.3514 - accuracy: 0.9080 - val_loss: 0.9793 - val_accuracy: 0.8157\n",
            "Epoch 13/40\n",
            "211/211 [==============================] - 1s 7ms/step - loss: 0.3387 - accuracy: 0.9126 - val_loss: 0.9937 - val_accuracy: 0.8117\n",
            "Epoch 14/40\n",
            "211/211 [==============================] - 1s 6ms/step - loss: 0.3388 - accuracy: 0.9121 - val_loss: 1.0006 - val_accuracy: 0.8157\n",
            "Epoch 15/40\n",
            "211/211 [==============================] - 1s 6ms/step - loss: 0.3089 - accuracy: 0.9186 - val_loss: 1.0071 - val_accuracy: 0.8143\n",
            "Epoch 16/40\n",
            "211/211 [==============================] - 1s 6ms/step - loss: 0.2997 - accuracy: 0.9227 - val_loss: 1.0286 - val_accuracy: 0.8183\n",
            "Epoch 17/40\n",
            "211/211 [==============================] - 1s 7ms/step - loss: 0.2886 - accuracy: 0.9247 - val_loss: 1.0354 - val_accuracy: 0.8179\n"
          ]
        }
      ]
    },
    {
      "cell_type": "code",
      "source": [
        "# 모델이 잘 학습되었는지 확인하기 위해서 loss, val_loss, accuracy, val_accuracy를 차트로 시각화\n",
        "import matplotlib.pyplot as plt\n",
        "\n",
        "history_dict = history.history\n",
        "\n",
        "loss = history_dict['loss']\n",
        "val_loss = history_dict['val_loss']\n",
        "epochs = range(1, len(loss) + 1)\n",
        "\n",
        "fig = plt.figure(figsize=(12, 5))\n",
        "\n",
        "ax1 = fig.add_subplot(1, 2, 1)\n",
        "ax1.plot(epochs, loss, color='blue', label='train_loss')\n",
        "ax1.plot(epochs, val_loss, color='red', label='val_loss')\n",
        "ax1.set_title('Train and Validation Loss')\n",
        "ax1.set_xlabel('Epochs')\n",
        "ax1.set_ylabel('Loss')\n",
        "ax1.grid()\n",
        "ax1.legend()\n",
        "\n",
        "accuracy = history_dict['accuracy']\n",
        "val_accuracy = history_dict['val_accuracy']\n",
        "\n",
        "ax2 = fig.add_subplot(1, 2, 2)\n",
        "ax2.plot(epochs, accuracy, color='blue', label='train_accuracy')\n",
        "ax2.plot(epochs, val_accuracy, color='red', label='val_accuracy')\n",
        "ax2.set_title('Train and Validation Accuracy')\n",
        "ax2.set_xlabel('Epochs')\n",
        "ax2.set_ylabel('Accuracy')\n",
        "ax2.grid()\n",
        "ax2.legend()\n",
        "\n",
        "plt.show()\n",
        "# 모델의 학습 결과를 살펴보면 에폭이 진행될수록 val_loss는 계속 증가하고, val_accuracy는 조금씩 감소하는 것을 알 수 있습니다. 모델은 과대적합된 상태"
      ],
      "metadata": {
        "colab": {
          "base_uri": "https://localhost:8080/"
        },
        "id": "wtQLqxJAGOWB",
        "outputId": "c2b5972e-7ea2-4c59-a243-312041c69379"
      },
      "execution_count": null,
      "outputs": [
        {
          "output_type": "display_data",
          "data": {
            "text/plain": [
              "<Figure size 1200x500 with 2 Axes>"
            ],
            "image/png": "[encoded data removed]"
          },
          "metadata": {}
        }
      ]
    },
    {
      "cell_type": "markdown",
      "source": [
        "## Evaluate & Predict"
      ],
      "metadata": {
        "id": "R0XvdmNBPAx1"
      }
    },
    {
      "cell_type": "code",
      "source": [
        "results = model.evaluate(x_test, y_test)\n",
        "results"
      ],
      "metadata": {
        "colab": {
          "base_uri": "https://localhost:8080/"
        },
        "outputId": "b3c06b18-2ca1-43c8-dc7d-5e6977f6820e",
        "id": "6BrrSjTSPAx2"
      },
      "execution_count": null,
      "outputs": [
        {
          "output_type": "stream",
          "name": "stdout",
          "text": [
            "71/71 [==============================] - 0s 3ms/step - loss: 0.9792 - accuracy: 0.7939\n"
          ]
        },
        {
          "output_type": "execute_result",
          "data": {
            "text/plain": [
              "[0.979225218296051, 0.7938557267189026]"
            ]
          },
          "metadata": {},
          "execution_count": 12
        }
      ]
    },
    {
      "cell_type": "code",
      "source": [
        "y_test"
      ],
      "metadata": {
        "colab": {
          "base_uri": "https://localhost:8080/"
        },
        "id": "mPbJ0fyJFM8N",
        "outputId": "234eba1d-12d7-4d36-9f5e-e8b3f31abd2f"
      },
      "execution_count": null,
      "outputs": [
        {
          "output_type": "execute_result",
          "data": {
            "text/plain": [
              "array([[0., 0., 0., ..., 0., 0., 0.],\n",
              "       [0., 0., 0., ..., 0., 0., 0.],\n",
              "       [0., 1., 0., ..., 0., 0., 0.],\n",
              "       ...,\n",
              "       [0., 0., 0., ..., 0., 0., 0.],\n",
              "       [0., 0., 0., ..., 0., 0., 0.],\n",
              "       [0., 0., 0., ..., 0., 0., 0.]], dtype=float32)"
            ]
          },
          "metadata": {},
          "execution_count": 13
        }
      ]
    },
    {
      "cell_type": "markdown",
      "source": [
        "### Confusion matrix\n",
        "- y_test와 예측한 값의 타입이 달라서 여러 과정을 거쳐야 함.  => one-hot-encoding의 역변환 \n",
        "        1. y_test가 one-hot-encoding으로 여러 열 중 맞는 셀 하나에 1이라는 숫자가 들어있음.  \n",
        "        2. 숫자 1일 들어있는 자리를 np.where를 이용하여 알아냄.  \n",
        "        3. 결과값의 타입이 튜플인데 이것을 str로 바꾸고  \n",
        "        4. 그 중 숫자만 추출  \n",
        "        5. 추출한 숫자를 리스트에 차례로 넣어줌(y_test_n)  \n",
        "        6. confusion matrix를 만들 수 있음.\n",
        "\n",
        "### 바보임? test_labels를 그냥 사용하면 되는 거였음 "
      ],
      "metadata": {
        "id": "Wk5ZQ8y4y_3t"
      }
    },
    {
      "cell_type": "code",
      "source": [
        "y_test.shape[0]\n",
        "a=np.where(y_test[2]==1)\n",
        "a\n",
        "# a=str(a)\n",
        "import re\n",
        "int(re.sub(r'[^0-9]', '', str(a)))\n",
        "# https://bskyvision.com/entry/python-%EB%88%88%EC%9D%84-%EA%B0%90%EA%B3%A0-%EC%9E%88%EC%9C%BC%EB%A9%B4-%EA%B2%BD%EB%B3%B4%EB%A5%BC-%EC%9A%B8%EB%A6%AC%EB%8A%94-%ED%94%84%EB%A1%9C%EA%B7%B8%EB%9E%A8-%EC%A1%B8%EC%9D%8C%EC%9A%B4%EC%A0%84-%EB%B0%A9%EC%A7%80"
      ],
      "metadata": {
        "colab": {
          "base_uri": "https://localhost:8080/"
        },
        "id": "oO94yrHiiELI",
        "outputId": "491671e9-c5ec-4e6b-ae06-02d27ef086af"
      },
      "execution_count": null,
      "outputs": [
        {
          "output_type": "execute_result",
          "data": {
            "text/plain": [
              "1"
            ]
          },
          "metadata": {},
          "execution_count": 24
        }
      ]
    },
    {
      "cell_type": "code",
      "source": [
        "import re\n",
        "\n",
        "y_test_n=[]\n",
        "for i in range(y_test.shape[0]):\n",
        "    a=np.where(y_test[i]==1)\n",
        "    b=int(re.sub(r'[^0-9]', '', str(a)))\n",
        "    y_test_n.append(b)"
      ],
      "metadata": {
        "id": "Jij9VK7ahL6-"
      },
      "execution_count": null,
      "outputs": []
    },
    {
      "cell_type": "code",
      "source": [
        "y_test_n\n",
        "# y_test_n == test_labes"
      ],
      "metadata": {
        "colab": {
          "base_uri": "https://localhost:8080/"
        },
        "id": "BnYrwtPwyOmf",
        "outputId": "61a9e109-0d49-4d7d-ed5a-9a296d715502"
      },
      "execution_count": null,
      "outputs": [
        {
          "output_type": "execute_result",
          "data": {
            "text/plain": [
              "[3,\n",
              " 10,\n",
              " 1,\n",
              " 4,\n",
              " 4,\n",
              " 3,\n",
              " 3,\n",
              " 3,\n",
              " 3,\n",
              " 3,\n",
              " 5,\n",
              " 4,\n",
              " 1,\n",
              " 3,\n",
              " 1,\n",
              " 11,\n",
              " 23,\n",
              " 3,\n",
              " 19,\n",
              " 3,\n",
              " 8,\n",
              " 3,\n",
              " 3,\n",
              " 3,\n",
              " 9,\n",
              " 3,\n",
              " 4,\n",
              " 6,\n",
              " 10,\n",
              " 3,\n",
              " 3,\n",
              " 10,\n",
              " 20,\n",
              " 1,\n",
              " 19,\n",
              " 4,\n",
              " 40,\n",
              " 1,\n",
              " 4,\n",
              " 3,\n",
              " 15,\n",
              " 21,\n",
              " 3,\n",
              " 34,\n",
              " 4,\n",
              " 4,\n",
              " 3,\n",
              " 4,\n",
              " 3,\n",
              " 11,\n",
              " 20,\n",
              " 3,\n",
              " 1,\n",
              " 3,\n",
              " 3,\n",
              " 4,\n",
              " 26,\n",
              " 4,\n",
              " 20,\n",
              " 19,\n",
              " 4,\n",
              " 3,\n",
              " 4,\n",
              " 4,\n",
              " 4,\n",
              " 3,\n",
              " 3,\n",
              " 1,\n",
              " 3,\n",
              " 4,\n",
              " 21,\n",
              " 16,\n",
              " 3,\n",
              " 19,\n",
              " 43,\n",
              " 2,\n",
              " 1,\n",
              " 3,\n",
              " 39,\n",
              " 4,\n",
              " 3,\n",
              " 3,\n",
              " 3,\n",
              " 11,\n",
              " 19,\n",
              " 20,\n",
              " 1,\n",
              " 11,\n",
              " 4,\n",
              " 3,\n",
              " 3,\n",
              " 4,\n",
              " 3,\n",
              " 4,\n",
              " 3,\n",
              " 11,\n",
              " 11,\n",
              " 3,\n",
              " 20,\n",
              " 28,\n",
              " 8,\n",
              " 1,\n",
              " 20,\n",
              " 3,\n",
              " 3,\n",
              " 2,\n",
              " 4,\n",
              " 4,\n",
              " 4,\n",
              " 4,\n",
              " 3,\n",
              " 3,\n",
              " 4,\n",
              " 3,\n",
              " 33,\n",
              " 3,\n",
              " 4,\n",
              " 4,\n",
              " 3,\n",
              " 4,\n",
              " 3,\n",
              " 4,\n",
              " 19,\n",
              " 4,\n",
              " 18,\n",
              " 3,\n",
              " 19,\n",
              " 3,\n",
              " 3,\n",
              " 3,\n",
              " 19,\n",
              " 3,\n",
              " 1,\n",
              " 3,\n",
              " 23,\n",
              " 4,\n",
              " 13,\n",
              " 1,\n",
              " 3,\n",
              " 3,\n",
              " 3,\n",
              " 3,\n",
              " 4,\n",
              " 4,\n",
              " 19,\n",
              " 4,\n",
              " 4,\n",
              " 24,\n",
              " 3,\n",
              " 3,\n",
              " 11,\n",
              " 4,\n",
              " 3,\n",
              " 3,\n",
              " 41,\n",
              " 1,\n",
              " 3,\n",
              " 3,\n",
              " 11,\n",
              " 17,\n",
              " 3,\n",
              " 3,\n",
              " 2,\n",
              " 4,\n",
              " 3,\n",
              " 4,\n",
              " 3,\n",
              " 10,\n",
              " 3,\n",
              " 3,\n",
              " 3,\n",
              " 20,\n",
              " 3,\n",
              " 12,\n",
              " 18,\n",
              " 21,\n",
              " 1,\n",
              " 17,\n",
              " 3,\n",
              " 3,\n",
              " 19,\n",
              " 20,\n",
              " 3,\n",
              " 19,\n",
              " 3,\n",
              " 21,\n",
              " 3,\n",
              " 3,\n",
              " 6,\n",
              " 35,\n",
              " 19,\n",
              " 3,\n",
              " 34,\n",
              " 36,\n",
              " 8,\n",
              " 21,\n",
              " 3,\n",
              " 4,\n",
              " 25,\n",
              " 4,\n",
              " 16,\n",
              " 16,\n",
              " 19,\n",
              " 3,\n",
              " 3,\n",
              " 4,\n",
              " 4,\n",
              " 19,\n",
              " 2,\n",
              " 4,\n",
              " 3,\n",
              " 4,\n",
              " 3,\n",
              " 3,\n",
              " 3,\n",
              " 20,\n",
              " 4,\n",
              " 26,\n",
              " 3,\n",
              " 3,\n",
              " 3,\n",
              " 3,\n",
              " 3,\n",
              " 4,\n",
              " 13,\n",
              " 3,\n",
              " 31,\n",
              " 16,\n",
              " 20,\n",
              " 3,\n",
              " 4,\n",
              " 19,\n",
              " 20,\n",
              " 11,\n",
              " 9,\n",
              " 1,\n",
              " 3,\n",
              " 3,\n",
              " 13,\n",
              " 3,\n",
              " 19,\n",
              " 1,\n",
              " 4,\n",
              " 4,\n",
              " 11,\n",
              " 3,\n",
              " 3,\n",
              " 4,\n",
              " 19,\n",
              " 3,\n",
              " 4,\n",
              " 4,\n",
              " 3,\n",
              " 3,\n",
              " 25,\n",
              " 4,\n",
              " 31,\n",
              " 4,\n",
              " 26,\n",
              " 11,\n",
              " 19,\n",
              " 4,\n",
              " 4,\n",
              " 4,\n",
              " 18,\n",
              " 3,\n",
              " 4,\n",
              " 4,\n",
              " 3,\n",
              " 10,\n",
              " 4,\n",
              " 19,\n",
              " 3,\n",
              " 3,\n",
              " 20,\n",
              " 3,\n",
              " 4,\n",
              " 19,\n",
              " 16,\n",
              " 3,\n",
              " 3,\n",
              " 4,\n",
              " 16,\n",
              " 4,\n",
              " 3,\n",
              " 3,\n",
              " 3,\n",
              " 3,\n",
              " 4,\n",
              " 10,\n",
              " 3,\n",
              " 25,\n",
              " 1,\n",
              " 3,\n",
              " 4,\n",
              " 16,\n",
              " 4,\n",
              " 4,\n",
              " 4,\n",
              " 16,\n",
              " 3,\n",
              " 11,\n",
              " 3,\n",
              " 19,\n",
              " 16,\n",
              " 3,\n",
              " 6,\n",
              " 3,\n",
              " 16,\n",
              " 3,\n",
              " 16,\n",
              " 21,\n",
              " 4,\n",
              " 3,\n",
              " 4,\n",
              " 1,\n",
              " 16,\n",
              " 4,\n",
              " 2,\n",
              " 3,\n",
              " 35,\n",
              " 3,\n",
              " 25,\n",
              " 8,\n",
              " 3,\n",
              " 3,\n",
              " 19,\n",
              " 3,\n",
              " 19,\n",
              " 4,\n",
              " 19,\n",
              " 3,\n",
              " 4,\n",
              " 3,\n",
              " 3,\n",
              " 19,\n",
              " 4,\n",
              " 19,\n",
              " 26,\n",
              " 3,\n",
              " 19,\n",
              " 24,\n",
              " 3,\n",
              " 3,\n",
              " 4,\n",
              " 3,\n",
              " 4,\n",
              " 3,\n",
              " 17,\n",
              " 4,\n",
              " 4,\n",
              " 3,\n",
              " 3,\n",
              " 3,\n",
              " 19,\n",
              " 43,\n",
              " 3,\n",
              " 9,\n",
              " 3,\n",
              " 4,\n",
              " 4,\n",
              " 10,\n",
              " 4,\n",
              " 21,\n",
              " 3,\n",
              " 3,\n",
              " 9,\n",
              " 3,\n",
              " 3,\n",
              " 11,\n",
              " 11,\n",
              " 1,\n",
              " 4,\n",
              " 1,\n",
              " 11,\n",
              " 3,\n",
              " 38,\n",
              " 3,\n",
              " 3,\n",
              " 3,\n",
              " 10,\n",
              " 3,\n",
              " 19,\n",
              " 16,\n",
              " 19,\n",
              " 20,\n",
              " 6,\n",
              " 3,\n",
              " 4,\n",
              " 39,\n",
              " 3,\n",
              " 44,\n",
              " 16,\n",
              " 3,\n",
              " 22,\n",
              " 3,\n",
              " 3,\n",
              " 16,\n",
              " 1,\n",
              " 19,\n",
              " 4,\n",
              " 11,\n",
              " 9,\n",
              " 3,\n",
              " 4,\n",
              " 3,\n",
              " 3,\n",
              " 3,\n",
              " 1,\n",
              " 3,\n",
              " 3,\n",
              " 4,\n",
              " 13,\n",
              " 3,\n",
              " 3,\n",
              " 4,\n",
              " 3,\n",
              " 4,\n",
              " 24,\n",
              " 4,\n",
              " 3,\n",
              " 1,\n",
              " 24,\n",
              " 4,\n",
              " 3,\n",
              " 1,\n",
              " 41,\n",
              " 13,\n",
              " 3,\n",
              " 21,\n",
              " 1,\n",
              " 3,\n",
              " 3,\n",
              " 3,\n",
              " 3,\n",
              " 9,\n",
              " 4,\n",
              " 2,\n",
              " 19,\n",
              " 19,\n",
              " 32,\n",
              " 3,\n",
              " 4,\n",
              " 3,\n",
              " 4,\n",
              " 8,\n",
              " 19,\n",
              " 1,\n",
              " 3,\n",
              " 12,\n",
              " 19,\n",
              " 19,\n",
              " 34,\n",
              " 3,\n",
              " 4,\n",
              " 3,\n",
              " 3,\n",
              " 1,\n",
              " 39,\n",
              " 19,\n",
              " 4,\n",
              " 4,\n",
              " 4,\n",
              " 3,\n",
              " 4,\n",
              " 4,\n",
              " 22,\n",
              " 13,\n",
              " 4,\n",
              " 3,\n",
              " 19,\n",
              " 4,\n",
              " 4,\n",
              " 3,\n",
              " 20,\n",
              " 1,\n",
              " 4,\n",
              " 3,\n",
              " 3,\n",
              " 3,\n",
              " 3,\n",
              " 3,\n",
              " 16,\n",
              " 4,\n",
              " 11,\n",
              " 3,\n",
              " 19,\n",
              " 40,\n",
              " 4,\n",
              " 3,\n",
              " 3,\n",
              " 3,\n",
              " 3,\n",
              " 4,\n",
              " 4,\n",
              " 25,\n",
              " 6,\n",
              " 3,\n",
              " 4,\n",
              " 3,\n",
              " 3,\n",
              " 3,\n",
              " 4,\n",
              " 1,\n",
              " 4,\n",
              " 4,\n",
              " 3,\n",
              " 4,\n",
              " 4,\n",
              " 4,\n",
              " 3,\n",
              " 1,\n",
              " 19,\n",
              " 41,\n",
              " 15,\n",
              " 4,\n",
              " 9,\n",
              " 1,\n",
              " 3,\n",
              " 11,\n",
              " 3,\n",
              " 3,\n",
              " 4,\n",
              " 21,\n",
              " 4,\n",
              " 19,\n",
              " 19,\n",
              " 13,\n",
              " 4,\n",
              " 44,\n",
              " 4,\n",
              " 13,\n",
              " 4,\n",
              " 20,\n",
              " 4,\n",
              " 4,\n",
              " 3,\n",
              " 19,\n",
              " 30,\n",
              " 26,\n",
              " 2,\n",
              " 24,\n",
              " 3,\n",
              " 37,\n",
              " 4,\n",
              " 20,\n",
              " 31,\n",
              " 4,\n",
              " 34,\n",
              " 3,\n",
              " 4,\n",
              " 3,\n",
              " 16,\n",
              " 31,\n",
              " 10,\n",
              " 3,\n",
              " 3,\n",
              " 19,\n",
              " 16,\n",
              " 32,\n",
              " 3,\n",
              " 20,\n",
              " 3,\n",
              " 3,\n",
              " 41,\n",
              " 11,\n",
              " 3,\n",
              " 4,\n",
              " 4,\n",
              " 8,\n",
              " 3,\n",
              " 8,\n",
              " 16,\n",
              " 3,\n",
              " 3,\n",
              " 4,\n",
              " 4,\n",
              " 19,\n",
              " 4,\n",
              " 3,\n",
              " 3,\n",
              " 16,\n",
              " 3,\n",
              " 3,\n",
              " 16,\n",
              " 4,\n",
              " 25,\n",
              " 36,\n",
              " 4,\n",
              " 28,\n",
              " 4,\n",
              " 19,\n",
              " 4,\n",
              " 3,\n",
              " 20,\n",
              " 3,\n",
              " 3,\n",
              " 16,\n",
              " 3,\n",
              " 36,\n",
              " 3,\n",
              " 18,\n",
              " 3,\n",
              " 3,\n",
              " 4,\n",
              " 20,\n",
              " 4,\n",
              " 3,\n",
              " 4,\n",
              " 11,\n",
              " 19,\n",
              " 20,\n",
              " 4,\n",
              " 4,\n",
              " 3,\n",
              " 3,\n",
              " 3,\n",
              " 4,\n",
              " 0,\n",
              " 1,\n",
              " 4,\n",
              " 3,\n",
              " 3,\n",
              " 1,\n",
              " 39,\n",
              " 3,\n",
              " 19,\n",
              " 36,\n",
              " 3,\n",
              " 11,\n",
              " 4,\n",
              " 3,\n",
              " 16,\n",
              " 3,\n",
              " 3,\n",
              " 3,\n",
              " 4,\n",
              " 35,\n",
              " 19,\n",
              " 3,\n",
              " 3,\n",
              " 3,\n",
              " 3,\n",
              " 3,\n",
              " 3,\n",
              " 16,\n",
              " 18,\n",
              " 3,\n",
              " 19,\n",
              " 1,\n",
              " 16,\n",
              " 4,\n",
              " 3,\n",
              " 3,\n",
              " 4,\n",
              " 3,\n",
              " 1,\n",
              " 1,\n",
              " 4,\n",
              " 22,\n",
              " 4,\n",
              " 19,\n",
              " 3,\n",
              " 12,\n",
              " 8,\n",
              " 3,\n",
              " 3,\n",
              " 4,\n",
              " 23,\n",
              " 3,\n",
              " 4,\n",
              " 4,\n",
              " 3,\n",
              " 4,\n",
              " 3,\n",
              " 3,\n",
              " 20,\n",
              " 1,\n",
              " 12,\n",
              " 3,\n",
              " 4,\n",
              " 16,\n",
              " 3,\n",
              " 16,\n",
              " 3,\n",
              " 3,\n",
              " 3,\n",
              " 1,\n",
              " 3,\n",
              " 19,\n",
              " 20,\n",
              " 4,\n",
              " 2,\n",
              " 3,\n",
              " 3,\n",
              " 20,\n",
              " 35,\n",
              " 11,\n",
              " 1,\n",
              " 4,\n",
              " 11,\n",
              " 28,\n",
              " 13,\n",
              " 4,\n",
              " 3,\n",
              " 25,\n",
              " 3,\n",
              " 19,\n",
              " 3,\n",
              " 21,\n",
              " 23,\n",
              " 3,\n",
              " 3,\n",
              " 1,\n",
              " 8,\n",
              " 3,\n",
              " 3,\n",
              " 40,\n",
              " 3,\n",
              " 40,\n",
              " 4,\n",
              " 11,\n",
              " 4,\n",
              " 4,\n",
              " 4,\n",
              " 11,\n",
              " 3,\n",
              " 23,\n",
              " 3,\n",
              " 19,\n",
              " 3,\n",
              " 30,\n",
              " 3,\n",
              " 16,\n",
              " 3,\n",
              " 3,\n",
              " 19,\n",
              " 3,\n",
              " 4,\n",
              " 3,\n",
              " 4,\n",
              " 9,\n",
              " 3,\n",
              " 0,\n",
              " 42,\n",
              " 3,\n",
              " 4,\n",
              " 3,\n",
              " 16,\n",
              " 3,\n",
              " 4,\n",
              " 3,\n",
              " 3,\n",
              " 3,\n",
              " 4,\n",
              " 16,\n",
              " 3,\n",
              " 4,\n",
              " 4,\n",
              " 5,\n",
              " 11,\n",
              " 8,\n",
              " 3,\n",
              " 4,\n",
              " 3,\n",
              " 4,\n",
              " 3,\n",
              " 3,\n",
              " 16,\n",
              " 19,\n",
              " 3,\n",
              " 4,\n",
              " 3,\n",
              " 10,\n",
              " 3,\n",
              " 3,\n",
              " 3,\n",
              " 11,\n",
              " 3,\n",
              " 11,\n",
              " 0,\n",
              " 3,\n",
              " 24,\n",
              " 3,\n",
              " 1,\n",
              " 3,\n",
              " 13,\n",
              " 37,\n",
              " 3,\n",
              " 3,\n",
              " 3,\n",
              " 21,\n",
              " 10,\n",
              " 3,\n",
              " 4,\n",
              " 4,\n",
              " 3,\n",
              " 19,\n",
              " 4,\n",
              " 20,\n",
              " 9,\n",
              " 4,\n",
              " 4,\n",
              " 3,\n",
              " 36,\n",
              " 4,\n",
              " 11,\n",
              " 4,\n",
              " 4,\n",
              " 3,\n",
              " 4,\n",
              " 3,\n",
              " 3,\n",
              " 3,\n",
              " 11,\n",
              " 1,\n",
              " 3,\n",
              " 3,\n",
              " 20,\n",
              " 1,\n",
              " 23,\n",
              " 20,\n",
              " 32,\n",
              " 3,\n",
              " 3,\n",
              " 3,\n",
              " 12,\n",
              " 3,\n",
              " 3,\n",
              " 11,\n",
              " 3,\n",
              " 3,\n",
              " 4,\n",
              " 19,\n",
              " 3,\n",
              " 3,\n",
              " 31,\n",
              " 10,\n",
              " 3,\n",
              " 3,\n",
              " 3,\n",
              " 1,\n",
              " 11,\n",
              " 3,\n",
              " 20,\n",
              " 6,\n",
              " 41,\n",
              " 4,\n",
              " 11,\n",
              " 9,\n",
              " 3,\n",
              " 3,\n",
              " 19,\n",
              " 27,\n",
              " 11,\n",
              " 8,\n",
              " 4,\n",
              " 3,\n",
              " 28,\n",
              " 11,\n",
              " 3,\n",
              " 16,\n",
              " 11,\n",
              " 4,\n",
              " 24,\n",
              " 16,\n",
              " 11,\n",
              " 10,\n",
              " 16,\n",
              " 3,\n",
              " 16,\n",
              " 19,\n",
              " 24,\n",
              " 3,\n",
              " 26,\n",
              " 32,\n",
              " 16,\n",
              " 19,\n",
              " 3,\n",
              " 3,\n",
              " 15,\n",
              " 3,\n",
              " 8,\n",
              " 3,\n",
              " 4,\n",
              " 1,\n",
              " 1,\n",
              " 13,\n",
              " 41,\n",
              " 4,\n",
              " 14,\n",
              " 23,\n",
              " 19,\n",
              " 3,\n",
              " 3,\n",
              " 3,\n",
              " 28,\n",
              " 11,\n",
              " 7,\n",
              " 4,\n",
              " 3,\n",
              " 8,\n",
              " 8,\n",
              " 19,\n",
              " 20,\n",
              " 4,\n",
              " 3,\n",
              " 4,\n",
              " 3,\n",
              " 3,\n",
              " 4,\n",
              " 33,\n",
              " 19,\n",
              " 3,\n",
              " 3,\n",
              " 3,\n",
              " 11,\n",
              " 21,\n",
              " 4,\n",
              " 4,\n",
              " 19,\n",
              " 3,\n",
              " 4,\n",
              " 3,\n",
              " 3,\n",
              " 19,\n",
              " 3,\n",
              " 3,\n",
              " 20,\n",
              " 3,\n",
              " 19,\n",
              " 19,\n",
              " 24,\n",
              " 28,\n",
              " 20,\n",
              " 3,\n",
              " 25,\n",
              " 5,\n",
              " 4,\n",
              " 20,\n",
              " 24,\n",
              " 4,\n",
              " 19,\n",
              " 4,\n",
              " 21,\n",
              " 4,\n",
              " 3,\n",
              " 4,\n",
              " 16,\n",
              " 1,\n",
              " 19,\n",
              " 1,\n",
              " 3,\n",
              " 4,\n",
              " 3,\n",
              " 3,\n",
              " 24,\n",
              " 8,\n",
              " 32,\n",
              " 25,\n",
              " 3,\n",
              " 16,\n",
              " 3,\n",
              " 3,\n",
              " 3,\n",
              " 16,\n",
              " 4,\n",
              " 3,\n",
              " 25,\n",
              " 3,\n",
              " 18,\n",
              " 3,\n",
              " 19,\n",
              " 3,\n",
              " 4,\n",
              " 3,\n",
              " 3,\n",
              " 16,\n",
              " 3,\n",
              " 4,\n",
              " 1,\n",
              " 6,\n",
              " 12,\n",
              " 11,\n",
              " 3,\n",
              " 3,\n",
              " 25,\n",
              " 4,\n",
              " 0,\n",
              " 3,\n",
              " 15,\n",
              " 19,\n",
              " 16,\n",
              " 3,\n",
              " 4,\n",
              " 3,\n",
              " 4,\n",
              " 3,\n",
              " 20,\n",
              " 3,\n",
              " ...]"
            ]
          },
          "metadata": {},
          "execution_count": 27
        }
      ]
    },
    {
      "cell_type": "code",
      "source": [
        "arg_pred_y"
      ],
      "metadata": {
        "colab": {
          "base_uri": "https://localhost:8080/"
        },
        "outputId": "0f523cb4-b1aa-4ce2-f947-81ad98ec05ea",
        "id": "O7rKPP0LPAx4"
      },
      "execution_count": null,
      "outputs": [
        {
          "output_type": "execute_result",
          "data": {
            "text/plain": [
              "array([ 3, 10,  1, ...,  3,  4, 16])"
            ]
          },
          "metadata": {},
          "execution_count": 43
        }
      ]
    },
    {
      "cell_type": "code",
      "source": [
        "# classification_report를 이용하여 Fashion MNIST를 분류하는 모델의 결과를 10개 분류 기준 별로 precision, recall, f1-score, support를 살펴볼 수 있습니다.\n",
        "from tensorflow.keras import utils\n",
        "from sklearn.metrics import classification_report\n",
        "\n",
        "pred_ys = model.predict(x_test)\n",
        "arg_pred_y = np.argmax(pred_ys, axis=1)\n",
        "y_test_cat = utils.to_categorical(y_test)\n",
        "# print(classification_report(y_test_n, arg_pred_y))\n",
        "print(classification_report(test_labels, arg_pred_y))\n"
      ],
      "metadata": {
        "colab": {
          "base_uri": "https://localhost:8080/"
        },
        "id": "QGhVYylGOtxu",
        "outputId": "ffdc0cd9-6da2-4646-c6b7-0e587cb15155"
      },
      "execution_count": null,
      "outputs": [
        {
          "output_type": "stream",
          "name": "stdout",
          "text": [
            "71/71 [==============================] - 0s 2ms/step\n",
            "              precision    recall  f1-score   support\n",
            "\n",
            "           0       0.70      0.58      0.64        12\n",
            "           1       0.63      0.82      0.71       105\n",
            "           2       0.72      0.65      0.68        20\n",
            "           3       0.92      0.95      0.93       813\n",
            "           4       0.85      0.89      0.87       474\n",
            "           5       0.00      0.00      0.00         5\n",
            "           6       0.72      0.93      0.81        14\n",
            "           7       1.00      0.33      0.50         3\n",
            "           8       0.57      0.71      0.64        38\n",
            "           9       0.68      0.68      0.68        25\n",
            "          10       0.89      0.83      0.86        30\n",
            "          11       0.57      0.84      0.68        83\n",
            "          12       0.57      0.31      0.40        13\n",
            "          13       0.57      0.62      0.60        37\n",
            "          14       0.00      0.00      0.00         2\n",
            "          15       0.50      0.11      0.18         9\n",
            "          16       0.69      0.77      0.73        99\n",
            "          17       1.00      0.08      0.15        12\n",
            "          18       0.73      0.55      0.63        20\n",
            "          19       0.72      0.71      0.71       133\n",
            "          20       0.67      0.53      0.59        70\n",
            "          21       0.65      0.74      0.69        27\n",
            "          22       0.00      0.00      0.00         7\n",
            "          23       0.60      0.50      0.55        12\n",
            "          24       0.50      0.26      0.34        19\n",
            "          25       0.65      0.71      0.68        31\n",
            "          26       1.00      0.25      0.40         8\n",
            "          27       0.00      0.00      0.00         4\n",
            "          28       0.14      0.10      0.12        10\n",
            "          29       0.00      0.00      0.00         4\n",
            "          30       0.44      0.67      0.53        12\n",
            "          31       1.00      0.23      0.38        13\n",
            "          32       1.00      0.50      0.67        10\n",
            "          33       1.00      0.60      0.75         5\n",
            "          34       0.67      0.57      0.62         7\n",
            "          35       0.00      0.00      0.00         6\n",
            "          36       0.50      0.09      0.15        11\n",
            "          37       0.00      0.00      0.00         2\n",
            "          38       1.00      0.33      0.50         3\n",
            "          39       0.00      0.00      0.00         5\n",
            "          40       0.00      0.00      0.00        10\n",
            "          41       0.50      0.25      0.33         8\n",
            "          42       0.00      0.00      0.00         3\n",
            "          43       1.00      0.50      0.67         6\n",
            "          44       1.00      0.80      0.89         5\n",
            "          45       0.00      0.00      0.00         1\n",
            "\n",
            "    accuracy                           0.80      2246\n",
            "   macro avg       0.55      0.41      0.44      2246\n",
            "weighted avg       0.78      0.80      0.78      2246\n",
            "\n"
          ]
        },
        {
          "output_type": "stream",
          "name": "stderr",
          "text": [
            "/usr/local/lib/python3.9/dist-packages/sklearn/metrics/_classification.py:1344: UndefinedMetricWarning: Precision and F-score are ill-defined and being set to 0.0 in labels with no predicted samples. Use `zero_division` parameter to control this behavior.\n",
            "  _warn_prf(average, modifier, msg_start, len(result))\n",
            "/usr/local/lib/python3.9/dist-packages/sklearn/metrics/_classification.py:1344: UndefinedMetricWarning: Precision and F-score are ill-defined and being set to 0.0 in labels with no predicted samples. Use `zero_division` parameter to control this behavior.\n",
            "  _warn_prf(average, modifier, msg_start, len(result))\n",
            "/usr/local/lib/python3.9/dist-packages/sklearn/metrics/_classification.py:1344: UndefinedMetricWarning: Precision and F-score are ill-defined and being set to 0.0 in labels with no predicted samples. Use `zero_division` parameter to control this behavior.\n",
            "  _warn_prf(average, modifier, msg_start, len(result))\n"
          ]
        }
      ]
    },
    {
      "cell_type": "markdown",
      "source": [
        "# CIFAR10\n",
        "- 이미지 10개로 분류\n",
        "- 32 * 32 *3 => 3072 \n",
        "- 0 ~ 255  => 0 ~ 1"
      ],
      "metadata": {
        "id": "p0rI9R0QW-c8"
      }
    },
    {
      "cell_type": "markdown",
      "source": [
        "## Load Data from keras"
      ],
      "metadata": {
        "id": "hy9qTEC3X3E4"
      }
    },
    {
      "cell_type": "code",
      "source": [
        "import matplotlib.pyplot as plt\n",
        "from sklearn.model_selection import train_test_split\n",
        "\n",
        "from tensorflow.keras import models, layers\n",
        "from tensorflow.keras.datasets import cifar10"
      ],
      "metadata": {
        "id": "tKzQVPHcP9cO"
      },
      "execution_count": null,
      "outputs": []
    },
    {
      "cell_type": "code",
      "source": [
        "# 문제 3-1: cifar10 데이터셋을 로드하고, 훈련 데이터셋에서 20%를 검증 데이터셋으로 분리합니다.\n",
        "(x_train_full, y_train_full), (x_test, y_test) = cifar10.load_data()\n",
        "x_train, x_val, y_train, y_val = train_test_split(x_train_full, y_train_full, test_size=0.20)\n",
        "\n",
        "# 훈련, 검증, 테스트 데이터와 레이블 종류가 몇개인지 출력합니다.\n",
        "print(\"전체 학습 데이터: {} 레이블: {}\".format(x_train_full.shape, y_train_full.shape))\n",
        "print(\"학습 데이터: {} 레이블: {}\".format(x_train.shape, y_train.shape))\n",
        "print(\"검증 데이터: {} 레이블: {}\".format(x_val.shape, y_val.shape))\n",
        "print(\"테스트 데이터: {} 레이블: {}\".format(x_test.shape, y_test.shape))"
      ],
      "metadata": {
        "colab": {
          "base_uri": "https://localhost:8080/"
        },
        "id": "i123MVVeX-_y",
        "outputId": "32ca54bc-3b8b-4017-f5c0-37e05371e563"
      },
      "execution_count": null,
      "outputs": [
        {
          "output_type": "stream",
          "name": "stdout",
          "text": [
            "Downloading data from https://www.cs.toronto.edu/~kriz/cifar-10-python.tar.gz\n",
            "170498071/170498071 [==============================] - 7s 0us/step\n",
            "전체 학습 데이터: (50000, 32, 32, 3) 레이블: (50000, 1)\n",
            "학습 데이터: (40000, 32, 32, 3) 레이블: (40000, 1)\n",
            "검증 데이터: (10000, 32, 32, 3) 레이블: (10000, 1)\n",
            "테스트 데이터: (10000, 32, 32, 3) 레이블: (10000, 1)\n"
          ]
        }
      ]
    },
    {
      "cell_type": "code",
      "source": [
        "# cifar10의 분류에 해당하는 'airplane', 'automobile', 'bird', 'cat', 'deer', \n",
        "# 'dog', 'frog', 'horse', 'ship', 'truck'를 class_name으로 정의합니다.\n",
        "class_names = ['airplane', 'automobile', 'bird', 'cat', 'deer',\n",
        "               'dog', 'frog', 'horse', 'ship', 'truck']"
      ],
      "metadata": {
        "id": "sxtrOXwrYgk0"
      },
      "execution_count": null,
      "outputs": []
    },
    {
      "cell_type": "code",
      "source": [
        "# 훈련 데이터의 0번째인 x_train[0]를 이미지로 시각화합니다.\n",
        "plt.style.use('seaborn-white')\n",
        "\n",
        "plt.figure()\n",
        "plt.imshow(x_train[0])\n",
        "plt.colorbar()\n",
        "plt.show()"
      ],
      "metadata": {
        "colab": {
          "base_uri": "https://localhost:8080/",
          "height": 481
        },
        "id": "bpNzxhRuY3FG",
        "outputId": "456b2cee-2185-4906-f94f-1af123ce20b0"
      },
      "execution_count": null,
      "outputs": [
        {
          "output_type": "stream",
          "name": "stderr",
          "text": [
            "<ipython-input-5-6d8a43ba86bc>:2: MatplotlibDeprecationWarning: The seaborn styles shipped by Matplotlib are deprecated since 3.6, as they no longer correspond to the styles shipped by seaborn. However, they will remain available as 'seaborn-v0_8-<style>'. Alternatively, directly use the seaborn API instead.\n",
            "  plt.style.use('seaborn-white')\n"
          ]
        },
        {
          "output_type": "display_data",
          "data": {
            "text/plain": [
              "<Figure size 640x480 with 2 Axes>"
            ],
            "image/png": "[encoded data removed]"
          },
          "metadata": {}
        }
      ]
    },
    {
      "cell_type": "markdown",
      "source": [
        "## Preprocess"
      ],
      "metadata": {
        "id": "RWFzluPbtIfD"
      }
    },
    {
      "cell_type": "code",
      "source": [
        "# 훈련, 검증, 테스트 데이터의 형태(shape)을 출력합니다.\n",
        "print(x_train.shape)\n",
        "print(x_val.shape)\n",
        "print(x_test.shape)"
      ],
      "metadata": {
        "colab": {
          "base_uri": "https://localhost:8080/"
        },
        "id": "vKiGWiMFaHxm",
        "outputId": "3c10b6fe-a465-4c0f-a915-93f4a13bf5b1"
      },
      "execution_count": null,
      "outputs": [
        {
          "output_type": "stream",
          "name": "stdout",
          "text": [
            "(40000, 32, 32, 3)\n",
            "(10000, 32, 32, 3)\n",
            "(10000, 32, 32, 3)\n"
          ]
        }
      ]
    },
    {
      "cell_type": "code",
      "source": [
        "# 문제 3-2: 훈련, 검증, 테스트 데이터의 형태(shape)을 32 * 32 * 3 = 3072로 변형합니다.\n",
        "x_train = x_train.reshape(-1, 32 * 32 *3)\n",
        "x_val = x_val.reshape(-1, 32 * 32 *3)\n",
        "x_test = x_test.reshape(-1, 32 * 32 *3)\n",
        "\n",
        "print(x_train.shape)\n",
        "print(x_val.shape)\n",
        "print(x_test.shape)\n",
        "print(y_train.shape)"
      ],
      "metadata": {
        "colab": {
          "base_uri": "https://localhost:8080/"
        },
        "id": "re5m3cHkaIU0",
        "outputId": "34c6e1ee-5558-4e7d-bb55-b656b4d1ef56"
      },
      "execution_count": null,
      "outputs": [
        {
          "output_type": "stream",
          "name": "stdout",
          "text": [
            "(40000, 3072)\n",
            "(10000, 3072)\n",
            "(10000, 3072)\n",
            "(40000, 1)\n"
          ]
        }
      ]
    },
    {
      "cell_type": "code",
      "source": [
        "# 훈련, 검증, 테스트 데이터를 255로 나누어 0~1 사이의 값으로 변환합니다.\n",
        "x_train = x_train / 255.\n",
        "x_val = x_val / 255.\n",
        "x_test = x_test / 255."
      ],
      "metadata": {
        "id": "m1QlJFxIamvS"
      },
      "execution_count": null,
      "outputs": []
    },
    {
      "cell_type": "markdown",
      "source": [
        "## Model & Compile"
      ],
      "metadata": {
        "id": "86aFwbaCbMDd"
      }
    },
    {
      "cell_type": "code",
      "source": [
        "# 문제 2-3: 빠른 학습과 과대적합을 방지하기 위해 BatchNormalization과 Dropout을 적용한 딥러닝 모델을 구성합니다.\n",
        "import tensorflow as tf\n",
        "from tensorflow.keras import models, layers\n",
        "\n",
        "model = models.Sequential()\n",
        "model.add(layers.Input(shape=(3072,), name='Input'))\n",
        "model.add(layers.Dense(2048, name='hidden1'))\n",
        "model.add(layers.BatchNormalization())\n",
        "model.add(layers.Activation('relu')) \n",
        "model.add(layers.Dropout(0.5))\n",
        "model.add(layers.Dense(1024, name='hidden2'))\n",
        "model.add(layers.BatchNormalization())\n",
        "model.add(layers.Activation('relu')) \n",
        "model.add(layers.Dropout(0.5))\n",
        "model.add(layers.Dense(512, name='hidden3'))\n",
        "model.add(layers.BatchNormalization())\n",
        "model.add(layers.Activation('relu')) \n",
        "model.add(layers.Dropout(0.5))\n",
        "model.add(layers.Dense(10, activation='softmax', name='output'))\n",
        "\n",
        "# model.compile(optimizer='adam',\n",
        "#               loss='categorical_crossentropy',\n",
        "#               metrics=['accuracy'])\n",
        "# model.fit 진행 중  ValueError: Shapes (32, 1) and (32, 10) are incompatible \n",
        "# https://somjang.tistory.com/entry/TF20-MNIST-ValueError-Shapes-32-10-and-32-1-are-incompatible-%ED%95%B4%EA%B2%B0-%EB%B0%A9%EB%B2%95\n",
        "\n",
        "# model.compile(optimizer=tf.keras.optimizers.Adam(), \n",
        "#               loss='sparse_categorical_crossentropy', \n",
        "#               metrics=[tf.keras.metrics.SparseCategoricalAccuracy()])\n",
        "\n",
        "model.compile(optimizer='adam',\n",
        "              loss='sparse_categorical_crossentropy',\n",
        "              metrics=['accuracy'])\n",
        "\n",
        "\n",
        "model.summary()"
      ],
      "metadata": {
        "colab": {
          "base_uri": "https://localhost:8080/"
        },
        "outputId": "79d56b81-0231-4f78-98c7-4336fc788a90",
        "id": "EXtNjrpObciV"
      },
      "execution_count": null,
      "outputs": [
        {
          "output_type": "stream",
          "name": "stdout",
          "text": [
            "Model: \"sequential\"\n",
            "_________________________________________________________________\n",
            " Layer (type)                Output Shape              Param #   \n",
            "=================================================================\n",
            " hidden1 (Dense)             (None, 2048)              6293504   \n",
            "                                                                 \n",
            " batch_normalization (BatchN  (None, 2048)             8192      \n",
            " ormalization)                                                   \n",
            "                                                                 \n",
            " activation (Activation)     (None, 2048)              0         \n",
            "                                                                 \n",
            " dropout (Dropout)           (None, 2048)              0         \n",
            "                                                                 \n",
            " hidden2 (Dense)             (None, 1024)              2098176   \n",
            "                                                                 \n",
            " batch_normalization_1 (Batc  (None, 1024)             4096      \n",
            " hNormalization)                                                 \n",
            "                                                                 \n",
            " activation_1 (Activation)   (None, 1024)              0         \n",
            "                                                                 \n",
            " dropout_1 (Dropout)         (None, 1024)              0         \n",
            "                                                                 \n",
            " hidden3 (Dense)             (None, 512)               524800    \n",
            "                                                                 \n",
            " batch_normalization_2 (Batc  (None, 512)              2048      \n",
            " hNormalization)                                                 \n",
            "                                                                 \n",
            " activation_2 (Activation)   (None, 512)               0         \n",
            "                                                                 \n",
            " dropout_2 (Dropout)         (None, 512)               0         \n",
            "                                                                 \n",
            " output (Dense)              (None, 10)                5130      \n",
            "                                                                 \n",
            "=================================================================\n",
            "Total params: 8,935,946\n",
            "Trainable params: 8,928,778\n",
            "Non-trainable params: 7,168\n",
            "_________________________________________________________________\n"
          ]
        }
      ]
    },
    {
      "cell_type": "code",
      "source": [
        "utils.plot_model(model, show_shapes=True)"
      ],
      "metadata": {
        "colab": {
          "base_uri": "https://localhost:8080/",
          "height": 1000
        },
        "id": "IqjigHLzdV7k",
        "outputId": "9d1da8df-c4d5-44b3-e370-c3ded29f39c3"
      },
      "execution_count": null,
      "outputs": [
        {
          "output_type": "execute_result",
          "data": {
            "image/png": "[encoded data removed]",
            "text/plain": [
              "<IPython.core.display.Image object>"
            ]
          },
          "metadata": {},
          "execution_count": 181
        }
      ]
    },
    {
      "cell_type": "code",
      "source": [
        "check_point_cb = callbacks.ModelCheckpoint('cifar10_model.h5', \n",
        "                                           save_best_only=True)\n",
        "early_stopping_cb = callbacks.EarlyStopping(patience=10, \n",
        "                                            monitor='val_loss',\n",
        "                                            restore_best_weights=True)\n",
        "history = model.fit(x_train, y_train, \n",
        "                    epochs=60,\n",
        "                    validation_data=(x_val, y_val),\n",
        "                    callbacks=[check_point_cb, early_stopping_cb])"
      ],
      "metadata": {
        "colab": {
          "base_uri": "https://localhost:8080/"
        },
        "outputId": "016db455-1990-496a-e43a-d23f107109c9",
        "id": "FThWNukubciW"
      },
      "execution_count": null,
      "outputs": [
        {
          "output_type": "stream",
          "name": "stdout",
          "text": [
            "Epoch 1/60\n",
            "1250/1250 [==============================] - 20s 10ms/step - loss: 1.9626 - accuracy: 0.3172 - val_loss: 1.7777 - val_accuracy: 0.3536\n",
            "Epoch 2/60\n",
            "1250/1250 [==============================] - 9s 7ms/step - loss: 1.6721 - accuracy: 0.3993 - val_loss: 1.6514 - val_accuracy: 0.4055\n",
            "Epoch 3/60\n",
            "1250/1250 [==============================] - 7s 6ms/step - loss: 1.5980 - accuracy: 0.4300 - val_loss: 1.6582 - val_accuracy: 0.4013\n",
            "Epoch 4/60\n",
            "1250/1250 [==============================] - 8s 7ms/step - loss: 1.5396 - accuracy: 0.4516 - val_loss: 1.5345 - val_accuracy: 0.4523\n",
            "Epoch 5/60\n",
            "1250/1250 [==============================] - 7s 6ms/step - loss: 1.4973 - accuracy: 0.4624 - val_loss: 1.5777 - val_accuracy: 0.4287\n",
            "Epoch 6/60\n",
            "1250/1250 [==============================] - 8s 6ms/step - loss: 1.4600 - accuracy: 0.4796 - val_loss: 1.5382 - val_accuracy: 0.4491\n",
            "Epoch 7/60\n",
            "1250/1250 [==============================] - 8s 6ms/step - loss: 1.4297 - accuracy: 0.4931 - val_loss: 1.4553 - val_accuracy: 0.4764\n",
            "Epoch 8/60\n",
            "1250/1250 [==============================] - 8s 6ms/step - loss: 1.3971 - accuracy: 0.5048 - val_loss: 1.4241 - val_accuracy: 0.4930\n",
            "Epoch 9/60\n",
            "1250/1250 [==============================] - 7s 6ms/step - loss: 1.3678 - accuracy: 0.5137 - val_loss: 1.4075 - val_accuracy: 0.4956\n",
            "Epoch 10/60\n",
            "1250/1250 [==============================] - 8s 6ms/step - loss: 1.3464 - accuracy: 0.5215 - val_loss: 1.3676 - val_accuracy: 0.5130\n",
            "Epoch 11/60\n",
            "1250/1250 [==============================] - 7s 5ms/step - loss: 1.3256 - accuracy: 0.5302 - val_loss: 1.4305 - val_accuracy: 0.4996\n",
            "Epoch 12/60\n",
            "1250/1250 [==============================] - 8s 6ms/step - loss: 1.2958 - accuracy: 0.5407 - val_loss: 1.4664 - val_accuracy: 0.4839\n",
            "Epoch 13/60\n",
            "1250/1250 [==============================] - 7s 6ms/step - loss: 1.2740 - accuracy: 0.5448 - val_loss: 1.3684 - val_accuracy: 0.5141\n",
            "Epoch 14/60\n",
            "1250/1250 [==============================] - 8s 6ms/step - loss: 1.2535 - accuracy: 0.5547 - val_loss: 1.4042 - val_accuracy: 0.5120\n",
            "Epoch 15/60\n",
            "1250/1250 [==============================] - 7s 6ms/step - loss: 1.2363 - accuracy: 0.5597 - val_loss: 1.4475 - val_accuracy: 0.4929\n",
            "Epoch 16/60\n",
            "1250/1250 [==============================] - 7s 6ms/step - loss: 1.2159 - accuracy: 0.5699 - val_loss: 1.3498 - val_accuracy: 0.5270\n",
            "Epoch 17/60\n",
            "1250/1250 [==============================] - 8s 6ms/step - loss: 1.2033 - accuracy: 0.5759 - val_loss: 1.5609 - val_accuracy: 0.4688\n",
            "Epoch 18/60\n",
            "1250/1250 [==============================] - 7s 6ms/step - loss: 1.1783 - accuracy: 0.5803 - val_loss: 1.4101 - val_accuracy: 0.5092\n",
            "Epoch 19/60\n",
            "1250/1250 [==============================] - 7s 6ms/step - loss: 1.1646 - accuracy: 0.5864 - val_loss: 1.3356 - val_accuracy: 0.5275\n",
            "Epoch 20/60\n",
            "1250/1250 [==============================] - 8s 6ms/step - loss: 1.1407 - accuracy: 0.5918 - val_loss: 1.5287 - val_accuracy: 0.4798\n",
            "Epoch 21/60\n",
            "1250/1250 [==============================] - 7s 6ms/step - loss: 1.1339 - accuracy: 0.5978 - val_loss: 1.3524 - val_accuracy: 0.5303\n",
            "Epoch 22/60\n",
            "1250/1250 [==============================] - 8s 6ms/step - loss: 1.1087 - accuracy: 0.6066 - val_loss: 1.2772 - val_accuracy: 0.5497\n",
            "Epoch 23/60\n",
            "1250/1250 [==============================] - 7s 6ms/step - loss: 1.0948 - accuracy: 0.6130 - val_loss: 1.3354 - val_accuracy: 0.5336\n",
            "Epoch 24/60\n",
            "1250/1250 [==============================] - 7s 6ms/step - loss: 1.0806 - accuracy: 0.6164 - val_loss: 1.3533 - val_accuracy: 0.5340\n",
            "Epoch 25/60\n",
            "1250/1250 [==============================] - 8s 6ms/step - loss: 1.0668 - accuracy: 0.6205 - val_loss: 1.3566 - val_accuracy: 0.5261\n",
            "Epoch 26/60\n",
            "1250/1250 [==============================] - 7s 5ms/step - loss: 1.0478 - accuracy: 0.6249 - val_loss: 1.3363 - val_accuracy: 0.5404\n",
            "Epoch 27/60\n",
            "1250/1250 [==============================] - 7s 6ms/step - loss: 1.0341 - accuracy: 0.6342 - val_loss: 1.4721 - val_accuracy: 0.5096\n",
            "Epoch 28/60\n",
            "1250/1250 [==============================] - 8s 6ms/step - loss: 1.0259 - accuracy: 0.6323 - val_loss: 1.2913 - val_accuracy: 0.5493\n",
            "Epoch 29/60\n",
            "1250/1250 [==============================] - 7s 5ms/step - loss: 0.9981 - accuracy: 0.6421 - val_loss: 1.2905 - val_accuracy: 0.5544\n",
            "Epoch 30/60\n",
            "1250/1250 [==============================] - 7s 6ms/step - loss: 0.9889 - accuracy: 0.6472 - val_loss: 1.2965 - val_accuracy: 0.5552\n",
            "Epoch 31/60\n",
            "1250/1250 [==============================] - 7s 5ms/step - loss: 0.9816 - accuracy: 0.6515 - val_loss: 1.3109 - val_accuracy: 0.5483\n",
            "Epoch 32/60\n",
            "1250/1250 [==============================] - 7s 6ms/step - loss: 0.9677 - accuracy: 0.6559 - val_loss: 1.3259 - val_accuracy: 0.5566\n"
          ]
        }
      ]
    },
    {
      "cell_type": "code",
      "source": [
        "print(y_train)"
      ],
      "metadata": {
        "colab": {
          "base_uri": "https://localhost:8080/"
        },
        "id": "RpNleG57D-qb",
        "outputId": "0a387ec1-dd13-44b2-9072-f31478e38fdd"
      },
      "execution_count": null,
      "outputs": [
        {
          "output_type": "stream",
          "name": "stdout",
          "text": [
            "[[6]\n",
            " [5]\n",
            " [6]\n",
            " ...\n",
            " [4]\n",
            " [9]\n",
            " [5]]\n"
          ]
        }
      ]
    },
    {
      "cell_type": "code",
      "source": [
        "# 모델이 잘 학습되었는지 확인하기 위해서 loss, val_loss, accuracy, val_accuracy를 차트로 시각화\n",
        "import matplotlib.pyplot as plt\n",
        "\n",
        "history_dict = history.history\n",
        "\n",
        "loss = history_dict['loss']\n",
        "val_loss = history_dict['val_loss']\n",
        "epochs = range(1, len(loss) + 1)\n",
        "\n",
        "fig = plt.figure(figsize=(12, 5))\n",
        "\n",
        "ax1 = fig.add_subplot(1, 2, 1)\n",
        "ax1.plot(epochs, loss, color='blue', label='train_loss')\n",
        "ax1.plot(epochs, val_loss, color='red', label='val_loss')\n",
        "ax1.set_title('Train and Validation Loss')\n",
        "ax1.set_xlabel('Epochs')\n",
        "ax1.set_ylabel('Loss')\n",
        "ax1.grid()\n",
        "ax1.legend()\n",
        "\n",
        "accuracy = history_dict['accuracy']\n",
        "val_accuracy = history_dict['val_accuracy']\n",
        "\n",
        "ax2 = fig.add_subplot(1, 2, 2)\n",
        "ax2.plot(epochs, accuracy, color='blue', label='train_accuracy')\n",
        "ax2.plot(epochs, val_accuracy, color='red', label='val_accuracy')\n",
        "ax2.set_title('Train and Validation Accuracy')\n",
        "ax2.set_xlabel('Epochs')\n",
        "ax2.set_ylabel('Accuracy')\n",
        "ax2.grid()\n",
        "ax2.legend()\n",
        "\n",
        "plt.show()\n",
        "# 모델의 학습 결과를 살펴보면 에폭이 진행될수록 val_loss는 계속 증가하고, val_accuracy는 조금씩 감소하는 것을 알 수 있습니다. 모델은 과대적합된 상태"
      ],
      "metadata": {
        "colab": {
          "base_uri": "https://localhost:8080/",
          "height": 471
        },
        "outputId": "71ed6bd1-1e8f-478f-94f4-f5cd4e179d14",
        "id": "FFmeKGEJbciW"
      },
      "execution_count": null,
      "outputs": [
        {
          "output_type": "display_data",
          "data": {
            "text/plain": [
              "<Figure size 1200x500 with 2 Axes>"
            ],
            "image/png": "[encoded data removed]"
          },
          "metadata": {}
        }
      ]
    },
    {
      "cell_type": "markdown",
      "source": [
        "## Evaluate"
      ],
      "metadata": {
        "id": "VcHC3ix-tCBD"
      }
    },
    {
      "cell_type": "code",
      "source": [
        "model.evaluate(x_test, y_test)\n",
        "#정확도가 0.5정도밖에 안됨. CNN하면 좋아진다고..."
      ],
      "metadata": {
        "colab": {
          "base_uri": "https://localhost:8080/"
        },
        "id": "nNUcX39KbQai",
        "outputId": "ac1e6d52-9c99-4a56-e98d-bc531a452952"
      },
      "execution_count": null,
      "outputs": [
        {
          "output_type": "stream",
          "name": "stdout",
          "text": [
            "313/313 [==============================] - 1s 3ms/step - loss: 1.2653 - accuracy: 0.5559\n"
          ]
        },
        {
          "output_type": "execute_result",
          "data": {
            "text/plain": [
              "[1.2653248310089111, 0.555899977684021]"
            ]
          },
          "metadata": {},
          "execution_count": 13
        }
      ]
    },
    {
      "cell_type": "code",
      "source": [
        "arg_pred_y"
      ],
      "metadata": {
        "colab": {
          "base_uri": "https://localhost:8080/"
        },
        "id": "8zKTugsTEgus",
        "outputId": "75bec761-13c1-4072-be1a-62ff638a0059"
      },
      "execution_count": null,
      "outputs": [
        {
          "output_type": "execute_result",
          "data": {
            "text/plain": [
              "array([ 3, 10,  1, ...,  3,  4, 16])"
            ]
          },
          "metadata": {},
          "execution_count": 38
        }
      ]
    },
    {
      "cell_type": "code",
      "source": [
        "from tensorflow.keras import utils\n",
        "from sklearn.metrics import classification_report\n",
        "\n",
        "pred_ys = model.predict(x_test)\n",
        "arg_pred_y = np.argmax(pred_ys, axis=1)\n",
        "y_test_cat = utils.to_categorical(y_test)\n",
        "print(classification_report(y_test, arg_pred_y))"
      ],
      "metadata": {
        "colab": {
          "base_uri": "https://localhost:8080/"
        },
        "id": "KfzULWFdsxOd",
        "outputId": "532eb580-b442-44ff-f329-add4145ee00b"
      },
      "execution_count": null,
      "outputs": [
        {
          "output_type": "stream",
          "name": "stdout",
          "text": [
            "313/313 [==============================] - 1s 2ms/step\n",
            "              precision    recall  f1-score   support\n",
            "\n",
            "           0       0.61      0.64      0.62      1000\n",
            "           1       0.62      0.70      0.66      1000\n",
            "           2       0.59      0.28      0.38      1000\n",
            "           3       0.39      0.36      0.38      1000\n",
            "           4       0.53      0.46      0.49      1000\n",
            "           5       0.43      0.53      0.47      1000\n",
            "           6       0.64      0.58      0.61      1000\n",
            "           7       0.62      0.64      0.63      1000\n",
            "           8       0.58      0.77      0.66      1000\n",
            "           9       0.57      0.61      0.59      1000\n",
            "\n",
            "    accuracy                           0.56     10000\n",
            "   macro avg       0.56      0.56      0.55     10000\n",
            "weighted avg       0.56      0.56      0.55     10000\n",
            "\n"
          ]
        }
      ]
    },
    {
      "cell_type": "code",
      "source": [],
      "metadata": {
        "id": "XiZYOuFPC2aw"
      },
      "execution_count": null,
      "outputs": []
    }
  ]
}