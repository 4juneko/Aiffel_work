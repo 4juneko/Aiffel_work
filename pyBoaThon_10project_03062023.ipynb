{
 "cells": [
  {
   "cell_type": "code",
   "execution_count": 23,
   "metadata": {},
   "outputs": [
    {
     "data": {
      "text/plain": [
       "'010-12345-*****'"
      ]
     },
     "execution_count": 23,
     "metadata": {},
     "output_type": "execute_result"
    }
   ],
   "source": [
    "nums = str(input('전화번호를 입력하세요 010-*****-*****형태로'))\n",
    "\n",
    "# 가운데 5자리와 마직막 5자리가 같은 때 두 부분 모두 *****로 출력되는 문제가 있어 두 부분을 나눠 저장하고 다시 붙여 출력함.\n",
    "\n",
    "def change_num(nums):\n",
    "    #print(nums)\n",
    "    first = nums[4:9]\n",
    "    second = nums[-5:]\n",
    "    second = second.replace(second,'*****')\n",
    "    answer = '010-'+ first + '-' + second\n",
    "    return answer\n",
    "\n",
    "change_num(nums)"
   ]
  },
  {
   "cell_type": "code",
   "execution_count": 24,
   "metadata": {},
   "outputs": [
    {
     "data": {
      "text/plain": [
       "'010-*****-*****'"
      ]
     },
     "execution_count": 24,
     "metadata": {},
     "output_type": "execute_result"
    }
   ],
   "source": [
    "no = str(input('전화번호를 입력하세요 010-*****-*****형태로'))\n",
    "\n",
    "# 가운데 5자리와 마직막 5자리가 같은 때 두 부분 모두 *****로 출력되는 문제가 있어\n",
    "\n",
    "def change_num(nums):\n",
    "    output=nums.replace(nums[-5:],'*****')\n",
    "    return output\n",
    "\n",
    "change_num(no)"
   ]
  },
  {
   "cell_type": "code",
   "execution_count": 2,
   "metadata": {},
   "outputs": [
    {
     "data": {
      "text/plain": [
       "[1, 2, 3, 4, 5, 6, 7, 8, 9]"
      ]
     },
     "execution_count": 2,
     "metadata": {},
     "output_type": "execute_result"
    }
   ],
   "source": [
    "a = [[1, 2], 3, [[4, 5, 6], 7], 8, 9]\n",
    "\n",
    "\n",
    "def flatten(data):\n",
    "    output_list=[]  # 빈 리스트를 만듭니다.\n",
    "    for element in data:\n",
    "            if type(element)==list:\n",
    "                output_list += flatten(element) #재귀\n",
    "        \n",
    "            else: \n",
    "                output_list.append(element)\n",
    "                #print(element)\n",
    "            \n",
    "    return output_list\n",
    "\n",
    "flatten(a)"
   ]
  },
  {
   "cell_type": "code",
   "execution_count": 4,
   "metadata": {},
   "outputs": [
    {
     "data": {
      "text/plain": [
       "10"
      ]
     },
     "execution_count": 4,
     "metadata": {},
     "output_type": "execute_result"
    }
   ],
   "source": [
    "def multiple(*numbers):\n",
    "    output=1 #곱하기 초기값\n",
    "    for num in numbers:\n",
    "        if num <= 10:\n",
    "            output *= num\n",
    "        else:\n",
    "            pass\n",
    "    return output\n",
    "\n",
    "multiple(2,5,15)"
   ]
  }
 ],
 "metadata": {
  "kernelspec": {
   "display_name": "base",
   "language": "python",
   "name": "python3"
  },
  "language_info": {
   "codemirror_mode": {
    "name": "ipython",
    "version": 3
   },
   "file_extension": ".py",
   "mimetype": "text/x-python",
   "name": "python",
   "nbconvert_exporter": "python",
   "pygments_lexer": "ipython3",
   "version": "3.9.12"
  },
  "orig_nbformat": 4
 },
 "nbformat": 4,
 "nbformat_minor": 2
}
