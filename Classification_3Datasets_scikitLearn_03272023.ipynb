{
 "cells": [
  {
   "cell_type": "markdown",
   "id": "YU2c6rbHzv2j",
   "metadata": {
    "id": "YU2c6rbHzv2j"
   },
   "source": [
    "|평가문항\t|상세기준| 내 평가|\n",
    "|---|---|---|\n",
    "|1. 3가지 데이터셋의 구성을 파악하고, 데이터를 이해하는 과정이 포함되어있는가?|feature와 label 선정을 위한 데이터 분석과정을 전개함|Done|\n",
    "|2. 3가지 데이터셋에 대해 각각 5가지 모델을 이용하여 학습을 수행하고 결과값을 얻었는가?|모델학습 및 테스트가 정상적으로 수행되고, 결과값을 얻었음|Done|\n",
    "|3. 3가지 데이터셋에 대해 모델의 평가 지표를 선택하고, 그 이유를 근거를 바탕으로 서술하였는가?|모델학습을 통해 얻은 결과물을 바탕으로 평가지표를 선택하고, 본인의 의견을 서술하였음|Not bad|"
   ]
  },
  {
   "cell_type": "markdown",
   "id": "fb478062",
   "metadata": {
    "id": "fb478062"
   },
   "source": [
    "# Classification of 3 Datasets\n",
    "load_digits  \n",
    "load_wine  \n",
    "load_breast_cancer  "
   ]
  },
  {
   "cell_type": "markdown",
   "id": "bR0flI1u0LHQ",
   "metadata": {
    "id": "bR0flI1u0LHQ"
   },
   "source": [
    "- 평가 지표에 대한 정리  \n",
    "\n",
    "|평가지표|의미|오차행렬과의 관계|언제 사용하나|예시|과제에서 사용할 지표|\n",
    "|------|---|---|---|---|---|  \n",
    "|accuracy|얼마나 정확하고 </br>잘못 예측한 결과가 없었는지 평가|(TP+TN)/(TP+TN+FN+FP)|모든 클래스가 다 중요할 때, 참 거짓의 구분이 없을 때,</br> 클래스가 불균형할 경우 문제가 생길 수 있음.|글자 인식, </br>숫자 인식|Digits|\n",
    "|recall|실제 참 데이터 중 예측 참|TP/(TP+FN)|실제 참 데이터가 거짓일 때 큰 위험성이 있을 때|환자 판별, </br>테러리스트 예측, </br>폭설, 폭우, 지진, 팬데믹 예측 </br>카드이상결제|Breast_cancer|\n",
    "|precision|예측 참 중 실제 참, 예측 참에 집중|TP/(TP+FP)|거짓 데이터가 참으로 예측될 때 큰 위험성이 있을 때|명품 판정,</br>스팸메일 고르기,</br>범죄자 예측|\n",
    "|f1|recall&precision의 조화평균, </br>1에 가까울수록 좋음. |2/(recall^-1+precision^-1)|클래스가 불균형할 때도 사용하기 좋음.|암예측|Wine|\n"
   ]
  },
  {
   "cell_type": "markdown",
   "id": "756898f2",
   "metadata": {
    "id": "756898f2"
   },
   "source": [
    "### import Library"
   ]
  },
  {
   "cell_type": "code",
   "execution_count": 535,
   "id": "73c33b3f",
   "metadata": {
    "colab": {
     "base_uri": "https://localhost:8080/"
    },
    "executionInfo": {
     "elapsed": 636,
     "status": "ok",
     "timestamp": 1680404709869,
     "user": {
      "displayName": "June Ko",
      "userId": "10187011845533435771"
     },
     "user_tz": -540
    },
    "id": "73c33b3f",
    "outputId": "4cefffe6-dd14-47cb-f67b-075642ddd65a"
   },
   "outputs": [
    {
     "name": "stdout",
     "output_type": "stream",
     "text": [
      "1.2.2\n"
     ]
    }
   ],
   "source": [
    "import sklearn\n",
    "print(sklearn.__version__)\n",
    "\n",
    "from sklearn.tree import DecisionTreeClassifier # 싸이킷런에 있는 결정트리분류기를 사용하기 위해 불러오는 코드\n",
    "from sklearn.ensemble import RandomForestClassifier #랜덤포레스트라는 분류기를 사용하기 위해 import\n",
    "from sklearn import svm #Support Vector Machine을 사용하기 위해 import\n",
    "from sklearn.linear_model import SGDClassifier #선형분류기인 SGDClassifier를 사용하기 위한 import\n",
    "from sklearn.linear_model import LogisticRegression # 선형분류기인 LogisticRegression를 사용하기 위한 import\n",
    "\n",
    "from sklearn.model_selection import train_test_split #싸이킷런에 있는 데이터를 train과 test dataset으로 나누어주는 함수 import\n",
    "\n",
    "from sklearn.metrics import classification_report #싸이킷런에 있는 분류 결과에 대한 시각화를 위해 쓰는 코드\n",
    "\n",
    "import pandas as pd\n",
    "\n",
    "from collections import Counter"
   ]
  },
  {
   "cell_type": "markdown",
   "id": "9f8a439b",
   "metadata": {
    "id": "9f8a439b"
   },
   "source": [
    "## 1 Digits\n",
    "- Optical recognition of handwritten digits dataset"
   ]
  },
  {
   "cell_type": "markdown",
   "id": "28fc3b5f",
   "metadata": {
    "id": "28fc3b5f"
   },
   "source": [
    "###1-1. Load Dataset"
   ]
  },
  {
   "cell_type": "code",
   "execution_count": 536,
   "id": "093e87e1",
   "metadata": {
    "colab": {
     "base_uri": "https://localhost:8080/"
    },
    "executionInfo": {
     "elapsed": 6,
     "status": "ok",
     "timestamp": 1680404710351,
     "user": {
      "displayName": "June Ko",
      "userId": "10187011845533435771"
     },
     "user_tz": -540
    },
    "id": "093e87e1",
    "outputId": "6109b9e5-2add-4a17-938b-1e60d886b30e"
   },
   "outputs": [
    {
     "name": "stdout",
     "output_type": "stream",
     "text": [
      ".. _digits_dataset:\n",
      "\n",
      "Optical recognition of handwritten digits dataset\n",
      "--------------------------------------------------\n",
      "\n",
      "**Data Set Characteristics:**\n",
      "\n",
      "    :Number of Instances: 1797\n",
      "    :Number of Attributes: 64\n",
      "    :Attribute Information: 8x8 image of integer pixels in the range 0..16.\n",
      "    :Missing Attribute Values: None\n",
      "    :Creator: E. Alpaydin (alpaydin '@' boun.edu.tr)\n",
      "    :Date: July; 1998\n",
      "\n",
      "This is a copy of the test set of the UCI ML hand-written digits datasets\n",
      "https://archive.ics.uci.edu/ml/datasets/Optical+Recognition+of+Handwritten+Digits\n",
      "\n",
      "The data set contains images of hand-written digits: 10 classes where\n",
      "each class refers to a digit.\n",
      "\n",
      "Preprocessing programs made available by NIST were used to extract\n",
      "normalized bitmaps of handwritten digits from a preprinted form. From a\n",
      "total of 43 people, 30 contributed to the training set and different 13\n",
      "to the test set. 32x32 bitmaps are divided into nonoverlapping blocks of\n",
      "4x4 and the number of on pixels are counted in each block. This generates\n",
      "an input matrix of 8x8 where each element is an integer in the range\n",
      "0..16. This reduces dimensionality and gives invariance to small\n",
      "distortions.\n",
      "\n",
      "For info on NIST preprocessing routines, see M. D. Garris, J. L. Blue, G.\n",
      "T. Candela, D. L. Dimmick, J. Geist, P. J. Grother, S. A. Janet, and C.\n",
      "L. Wilson, NIST Form-Based Handprint Recognition System, NISTIR 5469,\n",
      "1994.\n",
      "\n",
      ".. topic:: References\n",
      "\n",
      "  - C. Kaynak (1995) Methods of Combining Multiple Classifiers and Their\n",
      "    Applications to Handwritten Digit Recognition, MSc Thesis, Institute of\n",
      "    Graduate Studies in Science and Engineering, Bogazici University.\n",
      "  - E. Alpaydin, C. Kaynak (1998) Cascading Classifiers, Kybernetika.\n",
      "  - Ken Tang and Ponnuthurai N. Suganthan and Xi Yao and A. Kai Qin.\n",
      "    Linear dimensionalityreduction using relevance weighted LDA. School of\n",
      "    Electrical and Electronic Engineering Nanyang Technological University.\n",
      "    2005.\n",
      "  - Claudio Gentile. A New Approximate Maximal Margin Classification\n",
      "    Algorithm. NIPS. 2000.\n",
      "\n"
     ]
    }
   ],
   "source": [
    "from sklearn.datasets import load_digits\n",
    "digits = load_digits() # 데이터 전체를 불러온다.\n",
    "print(digits.DESCR)"
   ]
  },
  {
   "cell_type": "markdown",
   "id": "c2b23fde",
   "metadata": {
    "id": "c2b23fde"
   },
   "source": [
    "###1-2. EDA\n",
    "- Feature Data 지정하기\n",
    "- Label Data 지정하기\n",
    "- Target Names 출력해 보기\n",
    "- 데이터 Describe 해 보기 => 위에서"
   ]
  },
  {
   "cell_type": "code",
   "execution_count": 537,
   "id": "deeecf25",
   "metadata": {
    "colab": {
     "base_uri": "https://localhost:8080/"
    },
    "executionInfo": {
     "elapsed": 530,
     "status": "ok",
     "timestamp": 1680404710879,
     "user": {
      "displayName": "June Ko",
      "userId": "10187011845533435771"
     },
     "user_tz": -540
    },
    "id": "deeecf25",
    "outputId": "d9b205c5-ccdb-4fa1-aacb-164ebf09503e"
   },
   "outputs": [
    {
     "name": "stdout",
     "output_type": "stream",
     "text": [
      "(1797, 64)\n",
      "(1797,)\n"
     ]
    }
   ],
   "source": [
    "digits_data = digits.data #데이터의 data컬럼을 분류해 _data 변수에 담는다.\n",
    "digits_label = digits.target # 데이터의 target컬럼을 분류해 _label 변수에 담는다.\n",
    "digits_df = pd.DataFrame(data=digits_data, columns=digits.feature_names)\n",
    "print(digits_data.shape)\n",
    "print(digits_label.shape)"
   ]
  },
  {
   "cell_type": "code",
   "execution_count": 538,
   "id": "47999ff5",
   "metadata": {
    "colab": {
     "base_uri": "https://localhost:8080/"
    },
    "executionInfo": {
     "elapsed": 30,
     "status": "ok",
     "timestamp": 1680404710879,
     "user": {
      "displayName": "June Ko",
      "userId": "10187011845533435771"
     },
     "user_tz": -540
    },
    "id": "47999ff5",
    "outputId": "5e26b6aa-3145-4afe-cb34-ce84fd43564b"
   },
   "outputs": [
    {
     "name": "stdout",
     "output_type": "stream",
     "text": [
      "['pixel_0_0', 'pixel_0_1', 'pixel_0_2', 'pixel_0_3', 'pixel_0_4', 'pixel_0_5', 'pixel_0_6', 'pixel_0_7', 'pixel_1_0', 'pixel_1_1', 'pixel_1_2', 'pixel_1_3', 'pixel_1_4', 'pixel_1_5', 'pixel_1_6', 'pixel_1_7', 'pixel_2_0', 'pixel_2_1', 'pixel_2_2', 'pixel_2_3', 'pixel_2_4', 'pixel_2_5', 'pixel_2_6', 'pixel_2_7', 'pixel_3_0', 'pixel_3_1', 'pixel_3_2', 'pixel_3_3', 'pixel_3_4', 'pixel_3_5', 'pixel_3_6', 'pixel_3_7', 'pixel_4_0', 'pixel_4_1', 'pixel_4_2', 'pixel_4_3', 'pixel_4_4', 'pixel_4_5', 'pixel_4_6', 'pixel_4_7', 'pixel_5_0', 'pixel_5_1', 'pixel_5_2', 'pixel_5_3', 'pixel_5_4', 'pixel_5_5', 'pixel_5_6', 'pixel_5_7', 'pixel_6_0', 'pixel_6_1', 'pixel_6_2', 'pixel_6_3', 'pixel_6_4', 'pixel_6_5', 'pixel_6_6', 'pixel_6_7', 'pixel_7_0', 'pixel_7_1', 'pixel_7_2', 'pixel_7_3', 'pixel_7_4', 'pixel_7_5', 'pixel_7_6', 'pixel_7_7']\n",
      "[0 1 2 3 4 5 6 7 8 9]\n"
     ]
    },
    {
     "data": {
      "text/plain": [
       "Counter({0: 178,\n",
       "         1: 182,\n",
       "         2: 177,\n",
       "         3: 183,\n",
       "         4: 181,\n",
       "         5: 182,\n",
       "         6: 181,\n",
       "         7: 179,\n",
       "         8: 174,\n",
       "         9: 180})"
      ]
     },
     "execution_count": 538,
     "metadata": {},
     "output_type": "execute_result"
    }
   ],
   "source": [
    "print(digits.feature_names) #픽셀 값\n",
    "print(digits.target_names) #target 값\n",
    "Counter(digits_label) #클래스 당 데이터 갯수 확인. 골고루 분포되어 있는 거 확인"
   ]
  },
  {
   "cell_type": "code",
   "execution_count": 539,
   "id": "u2yeXQY7qqiQ",
   "metadata": {
    "colab": {
     "base_uri": "https://localhost:8080/",
     "height": 299
    },
    "executionInfo": {
     "elapsed": 25,
     "status": "ok",
     "timestamp": 1680404710879,
     "user": {
      "displayName": "June Ko",
      "userId": "10187011845533435771"
     },
     "user_tz": -540
    },
    "id": "u2yeXQY7qqiQ",
    "outputId": "f04181ac-b8a5-4599-91d9-e0bf857641d2"
   },
   "outputs": [
    {
     "data": {
      "text/html": [
       "\n",
       "  <div id=\"df-e2278ebd-7a9c-42ed-a329-fccf19b7a9a4\">\n",
       "    <div class=\"colab-df-container\">\n",
       "      <div>\n",
       "<style scoped>\n",
       "    .dataframe tbody tr th:only-of-type {\n",
       "        vertical-align: middle;\n",
       "    }\n",
       "\n",
       "    .dataframe tbody tr th {\n",
       "        vertical-align: top;\n",
       "    }\n",
       "\n",
       "    .dataframe thead th {\n",
       "        text-align: right;\n",
       "    }\n",
       "</style>\n",
       "<table border=\"1\" class=\"dataframe\">\n",
       "  <thead>\n",
       "    <tr style=\"text-align: right;\">\n",
       "      <th></th>\n",
       "      <th>pixel_0_0</th>\n",
       "      <th>pixel_0_1</th>\n",
       "      <th>pixel_0_2</th>\n",
       "      <th>pixel_0_3</th>\n",
       "      <th>pixel_0_4</th>\n",
       "      <th>pixel_0_5</th>\n",
       "      <th>pixel_0_6</th>\n",
       "      <th>pixel_0_7</th>\n",
       "      <th>pixel_1_0</th>\n",
       "      <th>pixel_1_1</th>\n",
       "      <th>...</th>\n",
       "      <th>pixel_6_6</th>\n",
       "      <th>pixel_6_7</th>\n",
       "      <th>pixel_7_0</th>\n",
       "      <th>pixel_7_1</th>\n",
       "      <th>pixel_7_2</th>\n",
       "      <th>pixel_7_3</th>\n",
       "      <th>pixel_7_4</th>\n",
       "      <th>pixel_7_5</th>\n",
       "      <th>pixel_7_6</th>\n",
       "      <th>pixel_7_7</th>\n",
       "    </tr>\n",
       "  </thead>\n",
       "  <tbody>\n",
       "    <tr>\n",
       "      <th>0</th>\n",
       "      <td>0.0</td>\n",
       "      <td>0.0</td>\n",
       "      <td>5.0</td>\n",
       "      <td>13.0</td>\n",
       "      <td>9.0</td>\n",
       "      <td>1.0</td>\n",
       "      <td>0.0</td>\n",
       "      <td>0.0</td>\n",
       "      <td>0.0</td>\n",
       "      <td>0.0</td>\n",
       "      <td>...</td>\n",
       "      <td>0.0</td>\n",
       "      <td>0.0</td>\n",
       "      <td>0.0</td>\n",
       "      <td>0.0</td>\n",
       "      <td>6.0</td>\n",
       "      <td>13.0</td>\n",
       "      <td>10.0</td>\n",
       "      <td>0.0</td>\n",
       "      <td>0.0</td>\n",
       "      <td>0.0</td>\n",
       "    </tr>\n",
       "    <tr>\n",
       "      <th>1</th>\n",
       "      <td>0.0</td>\n",
       "      <td>0.0</td>\n",
       "      <td>0.0</td>\n",
       "      <td>12.0</td>\n",
       "      <td>13.0</td>\n",
       "      <td>5.0</td>\n",
       "      <td>0.0</td>\n",
       "      <td>0.0</td>\n",
       "      <td>0.0</td>\n",
       "      <td>0.0</td>\n",
       "      <td>...</td>\n",
       "      <td>0.0</td>\n",
       "      <td>0.0</td>\n",
       "      <td>0.0</td>\n",
       "      <td>0.0</td>\n",
       "      <td>0.0</td>\n",
       "      <td>11.0</td>\n",
       "      <td>16.0</td>\n",
       "      <td>10.0</td>\n",
       "      <td>0.0</td>\n",
       "      <td>0.0</td>\n",
       "    </tr>\n",
       "    <tr>\n",
       "      <th>2</th>\n",
       "      <td>0.0</td>\n",
       "      <td>0.0</td>\n",
       "      <td>0.0</td>\n",
       "      <td>4.0</td>\n",
       "      <td>15.0</td>\n",
       "      <td>12.0</td>\n",
       "      <td>0.0</td>\n",
       "      <td>0.0</td>\n",
       "      <td>0.0</td>\n",
       "      <td>0.0</td>\n",
       "      <td>...</td>\n",
       "      <td>5.0</td>\n",
       "      <td>0.0</td>\n",
       "      <td>0.0</td>\n",
       "      <td>0.0</td>\n",
       "      <td>0.0</td>\n",
       "      <td>3.0</td>\n",
       "      <td>11.0</td>\n",
       "      <td>16.0</td>\n",
       "      <td>9.0</td>\n",
       "      <td>0.0</td>\n",
       "    </tr>\n",
       "    <tr>\n",
       "      <th>3</th>\n",
       "      <td>0.0</td>\n",
       "      <td>0.0</td>\n",
       "      <td>7.0</td>\n",
       "      <td>15.0</td>\n",
       "      <td>13.0</td>\n",
       "      <td>1.0</td>\n",
       "      <td>0.0</td>\n",
       "      <td>0.0</td>\n",
       "      <td>0.0</td>\n",
       "      <td>8.0</td>\n",
       "      <td>...</td>\n",
       "      <td>9.0</td>\n",
       "      <td>0.0</td>\n",
       "      <td>0.0</td>\n",
       "      <td>0.0</td>\n",
       "      <td>7.0</td>\n",
       "      <td>13.0</td>\n",
       "      <td>13.0</td>\n",
       "      <td>9.0</td>\n",
       "      <td>0.0</td>\n",
       "      <td>0.0</td>\n",
       "    </tr>\n",
       "    <tr>\n",
       "      <th>4</th>\n",
       "      <td>0.0</td>\n",
       "      <td>0.0</td>\n",
       "      <td>0.0</td>\n",
       "      <td>1.0</td>\n",
       "      <td>11.0</td>\n",
       "      <td>0.0</td>\n",
       "      <td>0.0</td>\n",
       "      <td>0.0</td>\n",
       "      <td>0.0</td>\n",
       "      <td>0.0</td>\n",
       "      <td>...</td>\n",
       "      <td>0.0</td>\n",
       "      <td>0.0</td>\n",
       "      <td>0.0</td>\n",
       "      <td>0.0</td>\n",
       "      <td>0.0</td>\n",
       "      <td>2.0</td>\n",
       "      <td>16.0</td>\n",
       "      <td>4.0</td>\n",
       "      <td>0.0</td>\n",
       "      <td>0.0</td>\n",
       "    </tr>\n",
       "  </tbody>\n",
       "</table>\n",
       "<p>5 rows × 64 columns</p>\n",
       "</div>\n",
       "      <button class=\"colab-df-convert\" onclick=\"convertToInteractive('df-e2278ebd-7a9c-42ed-a329-fccf19b7a9a4')\"\n",
       "              title=\"Convert this dataframe to an interactive table.\"\n",
       "              style=\"display:none;\">\n",
       "        \n",
       "  <svg xmlns=\"http://www.w3.org/2000/svg\" height=\"24px\"viewBox=\"0 0 24 24\"\n",
       "       width=\"24px\">\n",
       "    <path d=\"M0 0h24v24H0V0z\" fill=\"none\"/>\n",
       "    <path d=\"M18.56 5.44l.94 2.06.94-2.06 2.06-.94-2.06-.94-.94-2.06-.94 2.06-2.06.94zm-11 1L8.5 8.5l.94-2.06 2.06-.94-2.06-.94L8.5 2.5l-.94 2.06-2.06.94zm10 10l.94 2.06.94-2.06 2.06-.94-2.06-.94-.94-2.06-.94 2.06-2.06.94z\"/><path d=\"M17.41 7.96l-1.37-1.37c-.4-.4-.92-.59-1.43-.59-.52 0-1.04.2-1.43.59L10.3 9.45l-7.72 7.72c-.78.78-.78 2.05 0 2.83L4 21.41c.39.39.9.59 1.41.59.51 0 1.02-.2 1.41-.59l7.78-7.78 2.81-2.81c.8-.78.8-2.07 0-2.86zM5.41 20L4 18.59l7.72-7.72 1.47 1.35L5.41 20z\"/>\n",
       "  </svg>\n",
       "      </button>\n",
       "      \n",
       "  <style>\n",
       "    .colab-df-container {\n",
       "      display:flex;\n",
       "      flex-wrap:wrap;\n",
       "      gap: 12px;\n",
       "    }\n",
       "\n",
       "    .colab-df-convert {\n",
       "      background-color: #E8F0FE;\n",
       "      border: none;\n",
       "      border-radius: 50%;\n",
       "      cursor: pointer;\n",
       "      display: none;\n",
       "      fill: #1967D2;\n",
       "      height: 32px;\n",
       "      padding: 0 0 0 0;\n",
       "      width: 32px;\n",
       "    }\n",
       "\n",
       "    .colab-df-convert:hover {\n",
       "      background-color: #E2EBFA;\n",
       "      box-shadow: 0px 1px 2px rgba(60, 64, 67, 0.3), 0px 1px 3px 1px rgba(60, 64, 67, 0.15);\n",
       "      fill: #174EA6;\n",
       "    }\n",
       "\n",
       "    [theme=dark] .colab-df-convert {\n",
       "      background-color: #3B4455;\n",
       "      fill: #D2E3FC;\n",
       "    }\n",
       "\n",
       "    [theme=dark] .colab-df-convert:hover {\n",
       "      background-color: #434B5C;\n",
       "      box-shadow: 0px 1px 3px 1px rgba(0, 0, 0, 0.15);\n",
       "      filter: drop-shadow(0px 1px 2px rgba(0, 0, 0, 0.3));\n",
       "      fill: #FFFFFF;\n",
       "    }\n",
       "  </style>\n",
       "\n",
       "      <script>\n",
       "        const buttonEl =\n",
       "          document.querySelector('#df-e2278ebd-7a9c-42ed-a329-fccf19b7a9a4 button.colab-df-convert');\n",
       "        buttonEl.style.display =\n",
       "          google.colab.kernel.accessAllowed ? 'block' : 'none';\n",
       "\n",
       "        async function convertToInteractive(key) {\n",
       "          const element = document.querySelector('#df-e2278ebd-7a9c-42ed-a329-fccf19b7a9a4');\n",
       "          const dataTable =\n",
       "            await google.colab.kernel.invokeFunction('convertToInteractive',\n",
       "                                                     [key], {});\n",
       "          if (!dataTable) return;\n",
       "\n",
       "          const docLinkHtml = 'Like what you see? Visit the ' +\n",
       "            '<a target=\"_blank\" href=https://colab.research.google.com/notebooks/data_table.ipynb>data table notebook</a>'\n",
       "            + ' to learn more about interactive tables.';\n",
       "          element.innerHTML = '';\n",
       "          dataTable['output_type'] = 'display_data';\n",
       "          await google.colab.output.renderOutput(dataTable, element);\n",
       "          const docLink = document.createElement('div');\n",
       "          docLink.innerHTML = docLinkHtml;\n",
       "          element.appendChild(docLink);\n",
       "        }\n",
       "      </script>\n",
       "    </div>\n",
       "  </div>\n",
       "  "
      ],
      "text/plain": [
       "   pixel_0_0  pixel_0_1  pixel_0_2  pixel_0_3  pixel_0_4  pixel_0_5  \\\n",
       "0        0.0        0.0        5.0       13.0        9.0        1.0   \n",
       "1        0.0        0.0        0.0       12.0       13.0        5.0   \n",
       "2        0.0        0.0        0.0        4.0       15.0       12.0   \n",
       "3        0.0        0.0        7.0       15.0       13.0        1.0   \n",
       "4        0.0        0.0        0.0        1.0       11.0        0.0   \n",
       "\n",
       "   pixel_0_6  pixel_0_7  pixel_1_0  pixel_1_1  ...  pixel_6_6  pixel_6_7  \\\n",
       "0        0.0        0.0        0.0        0.0  ...        0.0        0.0   \n",
       "1        0.0        0.0        0.0        0.0  ...        0.0        0.0   \n",
       "2        0.0        0.0        0.0        0.0  ...        5.0        0.0   \n",
       "3        0.0        0.0        0.0        8.0  ...        9.0        0.0   \n",
       "4        0.0        0.0        0.0        0.0  ...        0.0        0.0   \n",
       "\n",
       "   pixel_7_0  pixel_7_1  pixel_7_2  pixel_7_3  pixel_7_4  pixel_7_5  \\\n",
       "0        0.0        0.0        6.0       13.0       10.0        0.0   \n",
       "1        0.0        0.0        0.0       11.0       16.0       10.0   \n",
       "2        0.0        0.0        0.0        3.0       11.0       16.0   \n",
       "3        0.0        0.0        7.0       13.0       13.0        9.0   \n",
       "4        0.0        0.0        0.0        2.0       16.0        4.0   \n",
       "\n",
       "   pixel_7_6  pixel_7_7  \n",
       "0        0.0        0.0  \n",
       "1        0.0        0.0  \n",
       "2        9.0        0.0  \n",
       "3        0.0        0.0  \n",
       "4        0.0        0.0  \n",
       "\n",
       "[5 rows x 64 columns]"
      ]
     },
     "execution_count": 539,
     "metadata": {},
     "output_type": "execute_result"
    }
   ],
   "source": [
    "digits_df.head()"
   ]
  },
  {
   "cell_type": "markdown",
   "id": "b67150c9",
   "metadata": {
    "id": "b67150c9"
   },
   "source": [
    "###1-3. Split"
   ]
  },
  {
   "cell_type": "code",
   "execution_count": 540,
   "id": "f30e4735",
   "metadata": {
    "colab": {
     "base_uri": "https://localhost:8080/"
    },
    "executionInfo": {
     "elapsed": 24,
     "status": "ok",
     "timestamp": 1680404710880,
     "user": {
      "displayName": "June Ko",
      "userId": "10187011845533435771"
     },
     "user_tz": -540
    },
    "id": "f30e4735",
    "outputId": "553114de-b08d-4a28-d382-eb40802492d5"
   },
   "outputs": [
    {
     "data": {
      "text/plain": [
       "((1437, 64), (1437,), (360, 64), (360,))"
      ]
     },
     "execution_count": 540,
     "metadata": {},
     "output_type": "execute_result"
    }
   ],
   "source": [
    "digits_X_train, digits_X_test, digits_y_train, digits_y_test = train_test_split(digits_data, \n",
    "                                                    digits_label, \n",
    "                                                    test_size=0.2, \n",
    "                                                    random_state=7) \n",
    "digits_X_train.shape, digits_y_train.shape, digits_X_test.shape, digits_y_test.shape"
   ]
  },
  {
   "cell_type": "code",
   "execution_count": 541,
   "id": "5d002180",
   "metadata": {
    "colab": {
     "base_uri": "https://localhost:8080/"
    },
    "executionInfo": {
     "elapsed": 22,
     "status": "ok",
     "timestamp": 1680404710881,
     "user": {
      "displayName": "June Ko",
      "userId": "10187011845533435771"
     },
     "user_tz": -540
    },
    "id": "5d002180",
    "outputId": "9df0b08f-07c9-40b7-9d0d-f15b304c4adf"
   },
   "outputs": [
    {
     "data": {
      "text/plain": [
       "(array([2, 2, 2, ..., 1, 3, 3]),\n",
       " array([6, 0, 5, 9, 2, 9, 0, 4, 1, 0, 1, 8, 2, 5, 2, 8, 1, 8, 9, 1, 0, 2,\n",
       "        0, 4, 5, 3, 3, 0, 0, 4, 1, 4, 4, 4, 6, 1, 4, 0, 6, 6, 0, 9, 3, 6,\n",
       "        6, 2, 0, 1, 9, 6, 2, 8, 9, 9, 0, 2, 0, 8, 4, 6, 8, 5, 8, 7, 8, 7,\n",
       "        7, 4, 1, 4, 5, 5, 4, 6, 2, 0, 1, 3, 7, 5, 8, 2, 4, 4, 2, 5, 1, 9,\n",
       "        3, 7, 6, 3, 3, 5, 6, 2, 1, 0, 1, 9, 4, 1, 1, 3, 1, 6, 9, 0, 3, 7,\n",
       "        6, 9, 3, 8, 0, 8, 3, 8, 8, 6, 3, 7, 3, 9, 0, 3, 0, 9, 8, 1, 2, 2,\n",
       "        3, 6, 9, 4, 0, 5, 4, 2, 9, 1, 0, 2, 5, 0, 2, 2, 7, 4, 6, 9, 8, 2,\n",
       "        6, 0, 4, 4, 8, 5, 0, 2, 4, 6, 8, 2, 3, 7, 2, 9, 0, 3, 5, 9, 1, 6,\n",
       "        8, 7, 5, 3, 0, 4, 2, 1, 3, 3, 6, 0, 2, 8, 4, 1, 4, 7, 5, 7, 6, 6,\n",
       "        8, 1, 0, 6, 8, 7, 1, 1, 9, 8, 5, 5, 3, 6, 8, 1, 2, 0, 7, 5, 3, 0,\n",
       "        8, 2, 0, 4, 0, 9, 4, 8, 4, 7, 9, 7, 3, 6, 2, 5, 1, 5, 9, 2, 9, 9,\n",
       "        8, 2, 1, 6, 7, 1, 7, 5, 7, 8, 9, 5, 7, 4, 3, 7, 8, 8, 2, 8, 9, 5,\n",
       "        3, 2, 8, 0, 4, 2, 1, 0, 8, 4, 1, 7, 1, 4, 7, 7, 1, 8, 3, 8, 4, 3,\n",
       "        5, 9, 4, 4, 8, 1, 8, 7, 2, 3, 1, 1, 1, 0, 2, 8, 0, 7, 4, 0, 1, 0,\n",
       "        2, 3, 7, 9, 8, 5, 8, 2, 2, 6, 5, 0, 8, 9, 8, 9, 0, 0, 9, 7, 4, 1,\n",
       "        2, 6, 7, 3, 7, 4, 0, 2, 1, 7, 2, 5, 7, 2, 3, 5, 7, 1, 4, 1, 3, 3,\n",
       "        8, 8, 1, 0, 1, 9, 3, 0]))"
      ]
     },
     "execution_count": 541,
     "metadata": {},
     "output_type": "execute_result"
    }
   ],
   "source": [
    "digits_y_train, digits_y_test"
   ]
  },
  {
   "cell_type": "markdown",
   "id": "27996785",
   "metadata": {
    "id": "27996785"
   },
   "source": [
    "###1-4. Machine Learning & Evaluation"
   ]
  },
  {
   "cell_type": "markdown",
   "id": "7557a8c1",
   "metadata": {
    "id": "7557a8c1"
   },
   "source": [
    "#### 1-a. Decision Tree Classifier"
   ]
  },
  {
   "cell_type": "code",
   "execution_count": 542,
   "id": "19c56ddf",
   "metadata": {
    "colab": {
     "base_uri": "https://localhost:8080/"
    },
    "executionInfo": {
     "elapsed": 20,
     "status": "ok",
     "timestamp": 1680404710881,
     "user": {
      "displayName": "June Ko",
      "userId": "10187011845533435771"
     },
     "user_tz": -540
    },
    "id": "19c56ddf",
    "outputId": "2fbd738a-edb2-40b2-da90-9d6190fc50bd"
   },
   "outputs": [
    {
     "data": {
      "text/plain": [
       "array([6, 0, 5, 3, 2, 9, 0, 4, 1, 0, 1, 8, 2, 5, 2, 8, 1, 8, 3, 1, 0, 2,\n",
       "       0, 4, 5, 3, 3, 0, 0, 4, 1, 4, 4, 4, 6, 1, 4, 0, 6, 6, 0, 5, 3, 6,\n",
       "       6, 2, 0, 1, 9, 6, 2, 8, 2, 9, 0, 2, 0, 8, 4, 6, 8, 5, 8, 7, 2, 7,\n",
       "       7, 2, 2, 4, 5, 5, 4, 6, 2, 0, 3, 3, 7, 5, 8, 2, 4, 4, 2, 5, 1, 4,\n",
       "       3, 7, 6, 3, 1, 5, 6, 2, 1, 0, 1, 1, 4, 5, 1, 3, 1, 6, 9, 0, 3, 7,\n",
       "       6, 9, 3, 8, 0, 1, 3, 8, 8, 6, 3, 7, 3, 9, 0, 9, 0, 9, 3, 1, 2, 2,\n",
       "       3, 6, 9, 4, 0, 1, 8, 3, 9, 1, 0, 8, 5, 0, 7, 2, 7, 4, 4, 9, 2, 2,\n",
       "       6, 0, 4, 4, 9, 5, 0, 2, 4, 4, 2, 2, 3, 7, 2, 9, 0, 3, 5, 9, 9, 6,\n",
       "       8, 4, 5, 3, 0, 4, 2, 1, 3, 3, 6, 0, 8, 1, 4, 1, 4, 7, 5, 7, 6, 6,\n",
       "       8, 1, 0, 6, 1, 7, 1, 1, 9, 8, 5, 5, 3, 6, 6, 1, 2, 0, 7, 5, 3, 0,\n",
       "       8, 2, 0, 4, 0, 9, 4, 6, 4, 7, 9, 5, 3, 6, 2, 5, 2, 5, 9, 3, 9, 9,\n",
       "       2, 2, 1, 6, 4, 1, 7, 5, 9, 8, 9, 5, 7, 4, 3, 7, 4, 8, 2, 8, 9, 5,\n",
       "       3, 2, 1, 0, 4, 2, 1, 0, 1, 4, 1, 7, 6, 4, 7, 7, 9, 8, 3, 8, 4, 3,\n",
       "       5, 9, 4, 4, 8, 1, 8, 7, 2, 3, 2, 1, 1, 0, 2, 8, 0, 7, 4, 3, 1, 0,\n",
       "       2, 3, 9, 9, 8, 5, 6, 2, 2, 6, 5, 0, 8, 9, 8, 9, 0, 0, 4, 7, 4, 1,\n",
       "       9, 6, 7, 3, 7, 4, 0, 2, 1, 7, 6, 5, 3, 2, 3, 5, 7, 1, 4, 1, 3, 3,\n",
       "       8, 8, 1, 0, 1, 9, 8, 0])"
      ]
     },
     "execution_count": 542,
     "metadata": {},
     "output_type": "execute_result"
    }
   ],
   "source": [
    "decision_tree = DecisionTreeClassifier(random_state=32) #결정트리분류기의 객체를 만든다.\n",
    "decision_tree.fit(digits_X_train, digits_y_train) # 분류기에 x와 y의 훈련 데이터를 넣어 훈련 시킨다.\n",
    "digits_y_pred = decision_tree.predict(digits_X_test) # 훈련된 분류기에 X_test라는 테스트 데이터셋을 넣어 얼마나 예측했는지 확인한다.\n",
    "digits_y_pred"
   ]
  },
  {
   "cell_type": "markdown",
   "id": "Tmq7prKMtIrS",
   "metadata": {
    "id": "Tmq7prKMtIrS"
   },
   "source": [
    "##### Evaluation"
   ]
  },
  {
   "cell_type": "code",
   "execution_count": 543,
   "id": "ZBgP4OsiGQmw",
   "metadata": {
    "executionInfo": {
     "elapsed": 18,
     "status": "ok",
     "timestamp": 1680404710881,
     "user": {
      "displayName": "June Ko",
      "userId": "10187011845533435771"
     },
     "user_tz": -540
    },
    "id": "ZBgP4OsiGQmw"
   },
   "outputs": [],
   "source": [
    "# 평가 지표 함수\n",
    "def get_eval1(y_test, y_pred):\n",
    "    confusion = confusion_matrix( y_test, y_pred)\n",
    "    accuracy = accuracy_score(y_test , y_pred )\n",
    "    precision = precision_score(y_test , y_pred, average = 'macro') #micro:샘플을 똑같이 간주, macro:각 클래스를 동일한 비중\n",
    "    recall = recall_score(y_test , y_pred, average = 'macro')\n",
    "    f1 = f1_score(y_test,y_pred, average ='macro') \n",
    "\n",
    "    print('confusion matrix')\n",
    "    print(confusion)\n",
    "\n",
    "    return 'accuracy: {0:.2f}, precision: {1:.2f}, recall: {2:.2f}, f1:{3:.2f}'.format(accuracy, precision, recall, f1)\n"
   ]
  },
  {
   "cell_type": "code",
   "execution_count": 544,
   "id": "9swiQBxNtYrW",
   "metadata": {
    "colab": {
     "base_uri": "https://localhost:8080/"
    },
    "executionInfo": {
     "elapsed": 17,
     "status": "ok",
     "timestamp": 1680404710881,
     "user": {
      "displayName": "June Ko",
      "userId": "10187011845533435771"
     },
     "user_tz": -540
    },
    "id": "9swiQBxNtYrW",
    "outputId": "2bed841b-b534-4a65-bd16-52eb6b05f913"
   },
   "outputs": [
    {
     "name": "stdout",
     "output_type": "stream",
     "text": [
      "              precision    recall  f1-score   support\n",
      "\n",
      "           0       1.00      0.98      0.99        43\n",
      "           1       0.81      0.81      0.81        42\n",
      "           2       0.79      0.82      0.80        40\n",
      "           3       0.79      0.91      0.85        34\n",
      "           4       0.83      0.95      0.89        37\n",
      "           5       0.90      0.96      0.93        28\n",
      "           6       0.84      0.93      0.88        28\n",
      "           7       0.96      0.82      0.89        33\n",
      "           8       0.88      0.65      0.75        43\n",
      "           9       0.78      0.78      0.78        32\n",
      "\n",
      "    accuracy                           0.86       360\n",
      "   macro avg       0.86      0.86      0.86       360\n",
      "weighted avg       0.86      0.86      0.85       360\n",
      "\n"
     ]
    }
   ],
   "source": [
    "print(classification_report(digits_y_test, digits_y_pred)) # 결과를 지표로 확인하기 위해 classification_report를 활용해 y_test, y_pred 값을 넣어 확인한다."
   ]
  },
  {
   "cell_type": "code",
   "execution_count": 545,
   "id": "5bq8FX-MsQSg",
   "metadata": {
    "colab": {
     "base_uri": "https://localhost:8080/"
    },
    "executionInfo": {
     "elapsed": 16,
     "status": "ok",
     "timestamp": 1680404710882,
     "user": {
      "displayName": "June Ko",
      "userId": "10187011845533435771"
     },
     "user_tz": -540
    },
    "id": "5bq8FX-MsQSg",
    "outputId": "77a5e74a-ec8e-4d20-c505-c67ea1a24353"
   },
   "outputs": [
    {
     "name": "stdout",
     "output_type": "stream",
     "text": [
      "confusion matrix\n",
      "[[42  0  0  1  0  0  0  0  0  0]\n",
      " [ 0 34  3  1  0  1  1  0  0  2]\n",
      " [ 0  0 33  2  0  0  1  1  2  1]\n",
      " [ 0  1  0 31  0  0  0  0  1  1]\n",
      " [ 0  0  1  0 35  0  0  0  1  0]\n",
      " [ 0  1  0  0  0 27  0  0  0  0]\n",
      " [ 0  0  0  0  2  0 26  0  0  0]\n",
      " [ 0  0  0  1  2  1  0 27  0  2]\n",
      " [ 0  5  4  1  1  0  3  0 28  1]\n",
      " [ 0  1  1  2  2  1  0  0  0 25]]\n",
      "----------------------------------------------------------------------------------------------------\n",
      "accuracy: 0.86, precision: 0.86, recall: 0.86, f1:0.86\n"
     ]
    }
   ],
   "source": [
    "# 실제 정답 y_test과 예측값 y_pred 비교하여 평가 \n",
    "from sklearn.metrics import confusion_matrix, accuracy_score, recall_score, precision_score, f1_score\n",
    "\n",
    "Digits_DT = get_eval1(digits_y_test, digits_y_pred)\n",
    "print('--'*50)\n",
    "print(Digits_DT)"
   ]
  },
  {
   "cell_type": "markdown",
   "id": "QM_AW1nCttrf",
   "metadata": {
    "id": "QM_AW1nCttrf"
   },
   "source": [
    "#### 1-b. RandomForest Classifier"
   ]
  },
  {
   "cell_type": "code",
   "execution_count": 546,
   "id": "4fYX65hTuDNb",
   "metadata": {
    "colab": {
     "base_uri": "https://localhost:8080/"
    },
    "executionInfo": {
     "elapsed": 572,
     "status": "ok",
     "timestamp": 1680404711440,
     "user": {
      "displayName": "June Ko",
      "userId": "10187011845533435771"
     },
     "user_tz": -540
    },
    "id": "4fYX65hTuDNb",
    "outputId": "d82ac9bf-ac50-4c1e-a8f6-641cc06c397d"
   },
   "outputs": [
    {
     "data": {
      "text/plain": [
       "array([6, 0, 5, 9, 2, 9, 0, 4, 1, 0, 1, 8, 2, 5, 2, 8, 1, 8, 5, 1, 0, 2,\n",
       "       0, 4, 5, 3, 3, 0, 0, 4, 1, 4, 4, 4, 6, 1, 4, 0, 6, 6, 0, 9, 3, 6,\n",
       "       6, 2, 0, 1, 9, 6, 2, 8, 5, 9, 0, 2, 0, 8, 4, 6, 8, 5, 8, 7, 8, 7,\n",
       "       7, 4, 1, 4, 5, 5, 4, 6, 2, 0, 1, 3, 7, 5, 8, 2, 4, 4, 2, 5, 1, 9,\n",
       "       3, 7, 6, 3, 3, 5, 6, 2, 1, 0, 1, 9, 4, 1, 1, 3, 1, 6, 9, 0, 3, 7,\n",
       "       6, 9, 3, 8, 0, 1, 3, 8, 8, 6, 3, 7, 3, 9, 0, 3, 0, 9, 1, 1, 2, 2,\n",
       "       3, 6, 9, 4, 0, 5, 4, 2, 9, 1, 0, 2, 5, 0, 2, 2, 7, 4, 4, 9, 8, 2,\n",
       "       6, 0, 4, 4, 5, 5, 0, 2, 4, 6, 8, 2, 3, 7, 2, 9, 0, 3, 5, 9, 1, 6,\n",
       "       8, 7, 5, 3, 0, 4, 2, 1, 3, 3, 6, 0, 2, 8, 4, 1, 4, 7, 5, 7, 6, 6,\n",
       "       8, 1, 0, 6, 1, 7, 1, 1, 9, 8, 5, 9, 3, 6, 8, 1, 2, 0, 7, 5, 3, 0,\n",
       "       8, 2, 0, 4, 0, 9, 4, 8, 4, 7, 9, 7, 3, 6, 2, 5, 1, 5, 9, 2, 9, 9,\n",
       "       7, 2, 1, 6, 7, 1, 7, 5, 7, 8, 9, 5, 7, 4, 3, 7, 7, 8, 2, 8, 9, 5,\n",
       "       3, 2, 8, 0, 4, 2, 1, 0, 8, 4, 1, 7, 1, 4, 7, 7, 1, 8, 3, 8, 4, 3,\n",
       "       5, 9, 4, 4, 8, 1, 8, 7, 2, 3, 1, 1, 1, 0, 2, 8, 0, 7, 4, 4, 1, 0,\n",
       "       2, 3, 9, 9, 8, 5, 4, 2, 2, 6, 5, 0, 8, 9, 8, 9, 0, 0, 9, 7, 4, 1,\n",
       "       2, 6, 7, 3, 7, 4, 0, 2, 1, 7, 2, 5, 7, 2, 3, 5, 7, 1, 4, 1, 3, 3,\n",
       "       8, 8, 1, 0, 1, 9, 3, 0])"
      ]
     },
     "execution_count": 546,
     "metadata": {},
     "output_type": "execute_result"
    }
   ],
   "source": [
    "random_forest = RandomForestClassifier(random_state=32) # RandomForest분류기 객체를 생성\n",
    "random_forest.fit(digits_X_train, digits_y_train) # 분류기에 x와 y의 훈련 데이터를 넣어 훈련 시킨다.\n",
    "digits_y_pred = random_forest.predict(digits_X_test) # 훈련된 분류기에 X_test라는 테스트 데이터셋을 넣어 얼마나 예측했는지 확인한다.\n",
    "digits_y_pred"
   ]
  },
  {
   "cell_type": "markdown",
   "id": "xpf0WESHxp4l",
   "metadata": {
    "id": "xpf0WESHxp4l"
   },
   "source": [
    "##### Evaluation"
   ]
  },
  {
   "cell_type": "code",
   "execution_count": 547,
   "id": "tINlNYF_uCxV",
   "metadata": {
    "colab": {
     "base_uri": "https://localhost:8080/"
    },
    "executionInfo": {
     "elapsed": 22,
     "status": "ok",
     "timestamp": 1680404711440,
     "user": {
      "displayName": "June Ko",
      "userId": "10187011845533435771"
     },
     "user_tz": -540
    },
    "id": "tINlNYF_uCxV",
    "outputId": "775a97ab-3e0b-42c4-800d-adce09ba8838"
   },
   "outputs": [
    {
     "name": "stdout",
     "output_type": "stream",
     "text": [
      "              precision    recall  f1-score   support\n",
      "\n",
      "           0       1.00      0.98      0.99        43\n",
      "           1       0.93      1.00      0.97        42\n",
      "           2       1.00      1.00      1.00        40\n",
      "           3       1.00      1.00      1.00        34\n",
      "           4       0.93      1.00      0.96        37\n",
      "           5       0.90      0.96      0.93        28\n",
      "           6       1.00      0.96      0.98        28\n",
      "           7       0.94      0.97      0.96        33\n",
      "           8       1.00      0.84      0.91        43\n",
      "           9       0.94      0.94      0.94        32\n",
      "\n",
      "    accuracy                           0.96       360\n",
      "   macro avg       0.96      0.96      0.96       360\n",
      "weighted avg       0.97      0.96      0.96       360\n",
      "\n"
     ]
    }
   ],
   "source": [
    "print(classification_report(digits_y_test, digits_y_pred)) # 결과를 지표로 확인하기 위해 classification_report를 활용해 y_test, y_pred 값을 넣어 확인한다."
   ]
  },
  {
   "cell_type": "code",
   "execution_count": 548,
   "id": "QSiO0dfGSI35",
   "metadata": {
    "colab": {
     "base_uri": "https://localhost:8080/"
    },
    "executionInfo": {
     "elapsed": 17,
     "status": "ok",
     "timestamp": 1680404711441,
     "user": {
      "displayName": "June Ko",
      "userId": "10187011845533435771"
     },
     "user_tz": -540
    },
    "id": "QSiO0dfGSI35",
    "outputId": "04c4a3f1-8fd2-4c0e-b12f-0e0f7d5f4485"
   },
   "outputs": [
    {
     "name": "stdout",
     "output_type": "stream",
     "text": [
      "confusion matrix\n",
      "[[42  0  0  0  1  0  0  0  0  0]\n",
      " [ 0 42  0  0  0  0  0  0  0  0]\n",
      " [ 0  0 40  0  0  0  0  0  0  0]\n",
      " [ 0  0  0 34  0  0  0  0  0  0]\n",
      " [ 0  0  0  0 37  0  0  0  0  0]\n",
      " [ 0  0  0  0  0 27  0  0  0  1]\n",
      " [ 0  0  0  0  1  0 27  0  0  0]\n",
      " [ 0  0  0  0  0  0  0 32  0  1]\n",
      " [ 0  3  0  0  1  1  0  2 36  0]\n",
      " [ 0  0  0  0  0  2  0  0  0 30]]\n",
      "----------------------------------------------------------------------------------------------------\n",
      "accuracy: 0.96, precision: 0.96, recall: 0.96, f1:0.96\n"
     ]
    }
   ],
   "source": [
    "# 실제 정답 y_test과 예측값 y_pred 비교하여 평가 \n",
    "from sklearn.metrics import confusion_matrix, accuracy_score, recall_score, precision_score, f1_score\n",
    "\n",
    "Digits_RF = get_eval1(digits_y_test, digits_y_pred)\n",
    "print('--'*50)\n",
    "print(Digits_RF)"
   ]
  },
  {
   "cell_type": "markdown",
   "id": "x9Y7PACSx5ib",
   "metadata": {
    "id": "x9Y7PACSx5ib"
   },
   "source": [
    "#### 1-c. Support Vector Machine"
   ]
  },
  {
   "cell_type": "code",
   "execution_count": 549,
   "id": "9x6L-Uk1x4CS",
   "metadata": {
    "colab": {
     "base_uri": "https://localhost:8080/"
    },
    "executionInfo": {
     "elapsed": 13,
     "status": "ok",
     "timestamp": 1680404711441,
     "user": {
      "displayName": "June Ko",
      "userId": "10187011845533435771"
     },
     "user_tz": -540
    },
    "id": "9x6L-Uk1x4CS",
    "outputId": "4917d489-c779-465d-a459-df679711663b"
   },
   "outputs": [
    {
     "data": {
      "text/plain": [
       "array([6, 0, 5, 9, 2, 9, 0, 4, 1, 0, 1, 8, 2, 5, 2, 8, 1, 8, 9, 1, 0, 2,\n",
       "       0, 4, 5, 3, 3, 0, 0, 4, 1, 4, 4, 4, 6, 1, 4, 0, 6, 6, 0, 9, 3, 6,\n",
       "       6, 2, 0, 1, 9, 6, 2, 8, 5, 9, 0, 2, 0, 8, 4, 6, 8, 5, 8, 7, 8, 7,\n",
       "       7, 4, 1, 4, 5, 5, 4, 6, 2, 0, 1, 3, 7, 5, 8, 2, 4, 4, 2, 5, 1, 9,\n",
       "       3, 7, 6, 3, 3, 5, 6, 2, 1, 0, 1, 9, 4, 1, 1, 3, 1, 6, 9, 0, 3, 7,\n",
       "       6, 9, 3, 8, 0, 1, 3, 8, 8, 6, 3, 7, 3, 9, 0, 3, 0, 9, 1, 1, 2, 2,\n",
       "       3, 6, 9, 4, 0, 5, 4, 2, 9, 1, 0, 2, 5, 0, 2, 2, 7, 4, 6, 9, 8, 2,\n",
       "       6, 0, 4, 4, 5, 5, 0, 2, 4, 6, 8, 2, 3, 7, 2, 9, 0, 3, 5, 9, 1, 6,\n",
       "       8, 7, 5, 3, 0, 4, 2, 1, 3, 3, 6, 0, 2, 8, 4, 1, 4, 7, 5, 7, 6, 6,\n",
       "       8, 1, 0, 6, 8, 7, 1, 1, 9, 8, 5, 5, 3, 6, 8, 1, 2, 0, 7, 5, 3, 0,\n",
       "       8, 2, 0, 4, 0, 9, 4, 8, 4, 7, 9, 7, 3, 6, 2, 5, 1, 5, 9, 2, 9, 9,\n",
       "       8, 2, 1, 6, 7, 1, 7, 5, 7, 8, 9, 5, 7, 4, 3, 7, 8, 8, 2, 8, 9, 5,\n",
       "       3, 2, 8, 0, 4, 2, 1, 0, 8, 4, 1, 7, 1, 4, 7, 7, 1, 8, 3, 8, 4, 3,\n",
       "       5, 9, 4, 4, 8, 1, 8, 7, 2, 3, 1, 1, 1, 0, 2, 8, 0, 7, 4, 0, 1, 0,\n",
       "       2, 3, 7, 9, 8, 5, 8, 2, 2, 6, 5, 0, 8, 9, 8, 9, 0, 0, 9, 7, 4, 1,\n",
       "       2, 6, 7, 3, 7, 4, 0, 2, 1, 7, 2, 5, 7, 2, 3, 5, 7, 1, 4, 1, 3, 3,\n",
       "       8, 8, 1, 0, 1, 9, 3, 0])"
      ]
     },
     "execution_count": 549,
     "metadata": {},
     "output_type": "execute_result"
    }
   ],
   "source": [
    "svm_model = svm.SVC() # 모델 객체 만들기\n",
    "svm_model.fit(digits_X_train, digits_y_train) # 분류기에 x와 y의 훈련 데이터를 넣어 훈련 시킨다.\n",
    "digits_y_pred = svm_model.predict(digits_X_test) # 훈련된 분류기에 X_test라는 테스트 데이터셋을 넣어 얼마나 예측했는지 확인한다.\n",
    "digits_y_pred"
   ]
  },
  {
   "cell_type": "markdown",
   "id": "CVeo0JcTx4CS",
   "metadata": {
    "id": "CVeo0JcTx4CS"
   },
   "source": [
    "##### Evaluation"
   ]
  },
  {
   "cell_type": "code",
   "execution_count": 550,
   "id": "ARtC4edVx4CT",
   "metadata": {
    "colab": {
     "base_uri": "https://localhost:8080/"
    },
    "executionInfo": {
     "elapsed": 11,
     "status": "ok",
     "timestamp": 1680404711441,
     "user": {
      "displayName": "June Ko",
      "userId": "10187011845533435771"
     },
     "user_tz": -540
    },
    "id": "ARtC4edVx4CT",
    "outputId": "343bfa61-235d-4237-ece4-caa48a773335"
   },
   "outputs": [
    {
     "name": "stdout",
     "output_type": "stream",
     "text": [
      "              precision    recall  f1-score   support\n",
      "\n",
      "           0       1.00      1.00      1.00        43\n",
      "           1       0.95      1.00      0.98        42\n",
      "           2       1.00      1.00      1.00        40\n",
      "           3       1.00      1.00      1.00        34\n",
      "           4       1.00      1.00      1.00        37\n",
      "           5       0.93      1.00      0.97        28\n",
      "           6       1.00      1.00      1.00        28\n",
      "           7       1.00      1.00      1.00        33\n",
      "           8       1.00      0.93      0.96        43\n",
      "           9       1.00      0.97      0.98        32\n",
      "\n",
      "    accuracy                           0.99       360\n",
      "   macro avg       0.99      0.99      0.99       360\n",
      "weighted avg       0.99      0.99      0.99       360\n",
      "\n"
     ]
    }
   ],
   "source": [
    "print(classification_report(digits_y_test, digits_y_pred)) # 결과를 지표로 확인하기 위해 classification_report를 활용해 y_test, y_pred 값을 넣어 확인한다."
   ]
  },
  {
   "cell_type": "code",
   "execution_count": 551,
   "id": "Bc47V764Sjlv",
   "metadata": {
    "colab": {
     "base_uri": "https://localhost:8080/"
    },
    "executionInfo": {
     "elapsed": 9,
     "status": "ok",
     "timestamp": 1680404711441,
     "user": {
      "displayName": "June Ko",
      "userId": "10187011845533435771"
     },
     "user_tz": -540
    },
    "id": "Bc47V764Sjlv",
    "outputId": "000c4acc-8d2a-4f19-dcd7-92af628beb52"
   },
   "outputs": [
    {
     "name": "stdout",
     "output_type": "stream",
     "text": [
      "confusion matrix\n",
      "[[43  0  0  0  0  0  0  0  0  0]\n",
      " [ 0 42  0  0  0  0  0  0  0  0]\n",
      " [ 0  0 40  0  0  0  0  0  0  0]\n",
      " [ 0  0  0 34  0  0  0  0  0  0]\n",
      " [ 0  0  0  0 37  0  0  0  0  0]\n",
      " [ 0  0  0  0  0 28  0  0  0  0]\n",
      " [ 0  0  0  0  0  0 28  0  0  0]\n",
      " [ 0  0  0  0  0  0  0 33  0  0]\n",
      " [ 0  2  0  0  0  1  0  0 40  0]\n",
      " [ 0  0  0  0  0  1  0  0  0 31]]\n",
      "----------------------------------------------------------------------------------------------------\n",
      "accuracy: 0.99, precision: 0.99, recall: 0.99, f1:0.99\n"
     ]
    }
   ],
   "source": [
    "# 실제 정답 y_test과 예측값 y_pred 비교하여 평가 \n",
    "from sklearn.metrics import confusion_matrix, accuracy_score, recall_score, precision_score, f1_score\n",
    "\n",
    "Digits_SVM = get_eval1(digits_y_test, digits_y_pred)\n",
    "print('--'*50)\n",
    "print(Digits_SVM)"
   ]
  },
  {
   "cell_type": "markdown",
   "id": "LCi809eIy8tM",
   "metadata": {
    "id": "LCi809eIy8tM"
   },
   "source": [
    "#### 1-d. Stochasric Gradient Descent Classifier"
   ]
  },
  {
   "cell_type": "code",
   "execution_count": 552,
   "id": "tPn6AtIHy7SC",
   "metadata": {
    "colab": {
     "base_uri": "https://localhost:8080/"
    },
    "executionInfo": {
     "elapsed": 8,
     "status": "ok",
     "timestamp": 1680404711441,
     "user": {
      "displayName": "June Ko",
      "userId": "10187011845533435771"
     },
     "user_tz": -540
    },
    "id": "tPn6AtIHy7SC",
    "outputId": "d77592a0-2d8a-479f-858c-cb0084b94c25"
   },
   "outputs": [
    {
     "data": {
      "text/plain": [
       "array([6, 0, 5, 9, 2, 9, 0, 4, 1, 0, 1, 8, 2, 5, 2, 8, 1, 8, 5, 1, 0, 2,\n",
       "       0, 4, 5, 3, 3, 0, 0, 4, 1, 4, 4, 4, 6, 1, 4, 0, 6, 6, 0, 9, 3, 6,\n",
       "       6, 2, 0, 1, 9, 6, 2, 8, 5, 9, 0, 2, 0, 8, 4, 6, 8, 5, 8, 7, 8, 7,\n",
       "       7, 4, 1, 4, 5, 5, 4, 6, 2, 0, 3, 3, 7, 5, 8, 2, 4, 4, 2, 5, 1, 9,\n",
       "       3, 7, 6, 3, 8, 5, 6, 2, 1, 0, 1, 9, 4, 1, 9, 5, 3, 6, 9, 0, 3, 7,\n",
       "       6, 9, 3, 8, 0, 1, 3, 1, 8, 6, 3, 7, 3, 9, 0, 3, 0, 9, 1, 1, 2, 2,\n",
       "       3, 6, 9, 4, 0, 5, 4, 2, 9, 1, 0, 2, 5, 0, 2, 2, 7, 4, 8, 9, 8, 2,\n",
       "       6, 0, 4, 4, 1, 5, 0, 2, 4, 1, 2, 2, 3, 7, 2, 9, 0, 3, 5, 9, 1, 6,\n",
       "       8, 7, 5, 3, 0, 4, 2, 1, 3, 3, 6, 0, 2, 8, 4, 1, 4, 7, 5, 7, 6, 6,\n",
       "       8, 1, 0, 6, 8, 7, 1, 1, 9, 8, 5, 5, 3, 6, 3, 1, 2, 0, 7, 5, 3, 0,\n",
       "       8, 2, 0, 4, 0, 9, 4, 8, 4, 7, 9, 7, 3, 6, 2, 5, 1, 5, 9, 2, 9, 9,\n",
       "       8, 2, 1, 6, 7, 5, 7, 5, 4, 5, 9, 5, 7, 4, 3, 7, 8, 8, 2, 8, 9, 5,\n",
       "       3, 2, 8, 0, 4, 2, 1, 0, 8, 4, 1, 7, 1, 4, 7, 7, 1, 8, 3, 8, 4, 3,\n",
       "       5, 9, 4, 4, 8, 1, 8, 7, 2, 3, 1, 1, 1, 0, 2, 8, 0, 7, 4, 0, 1, 0,\n",
       "       2, 3, 4, 9, 8, 5, 4, 2, 2, 6, 5, 0, 5, 9, 8, 9, 0, 0, 9, 7, 4, 1,\n",
       "       2, 6, 4, 3, 7, 4, 0, 2, 1, 7, 2, 5, 7, 2, 3, 5, 7, 1, 4, 1, 3, 3,\n",
       "       8, 8, 1, 0, 1, 9, 1, 0])"
      ]
     },
     "execution_count": 552,
     "metadata": {},
     "output_type": "execute_result"
    }
   ],
   "source": [
    "sgd_model = SGDClassifier() # 모델 객체 만들기\n",
    "sgd_model.fit(digits_X_train, digits_y_train) # 분류기에 x와 y의 훈련 데이터를 넣어 훈련 시킨다.\n",
    "digits_y_pred = sgd_model.predict(digits_X_test) # 훈련된 분류기에 X_test라는 테스트 데이터셋을 넣어 얼마나 예측했는지 확인한다.\n",
    "digits_y_pred"
   ]
  },
  {
   "cell_type": "markdown",
   "id": "LbsKTQrFy7SD",
   "metadata": {
    "id": "LbsKTQrFy7SD"
   },
   "source": [
    "##### Evaluation"
   ]
  },
  {
   "cell_type": "code",
   "execution_count": 553,
   "id": "YRUPG5jVy7SD",
   "metadata": {
    "colab": {
     "base_uri": "https://localhost:8080/"
    },
    "executionInfo": {
     "elapsed": 6,
     "status": "ok",
     "timestamp": 1680404711441,
     "user": {
      "displayName": "June Ko",
      "userId": "10187011845533435771"
     },
     "user_tz": -540
    },
    "id": "YRUPG5jVy7SD",
    "outputId": "4c628ddc-3402-41de-d1b7-1b5f5e0274c1"
   },
   "outputs": [
    {
     "name": "stdout",
     "output_type": "stream",
     "text": [
      "              precision    recall  f1-score   support\n",
      "\n",
      "           0       1.00      1.00      1.00        43\n",
      "           1       0.86      0.90      0.88        42\n",
      "           2       0.98      1.00      0.99        40\n",
      "           3       0.91      0.91      0.91        34\n",
      "           4       0.90      1.00      0.95        37\n",
      "           5       0.82      1.00      0.90        28\n",
      "           6       1.00      0.93      0.96        28\n",
      "           7       1.00      0.91      0.95        33\n",
      "           8       0.94      0.79      0.86        43\n",
      "           9       0.97      0.94      0.95        32\n",
      "\n",
      "    accuracy                           0.94       360\n",
      "   macro avg       0.94      0.94      0.94       360\n",
      "weighted avg       0.94      0.94      0.94       360\n",
      "\n"
     ]
    }
   ],
   "source": [
    "print(classification_report(digits_y_test, digits_y_pred)) # 결과를 지표로 확인하기 위해 classification_report를 활용해 y_test, y_pred 값을 넣어 확인한다."
   ]
  },
  {
   "cell_type": "code",
   "execution_count": 554,
   "id": "ghDObH9AStzP",
   "metadata": {
    "colab": {
     "base_uri": "https://localhost:8080/"
    },
    "executionInfo": {
     "elapsed": 5,
     "status": "ok",
     "timestamp": 1680404711441,
     "user": {
      "displayName": "June Ko",
      "userId": "10187011845533435771"
     },
     "user_tz": -540
    },
    "id": "ghDObH9AStzP",
    "outputId": "8a5064d3-a8ee-436c-b929-c631414c252c"
   },
   "outputs": [
    {
     "name": "stdout",
     "output_type": "stream",
     "text": [
      "confusion matrix\n",
      "[[43  0  0  0  0  0  0  0  0  0]\n",
      " [ 0 38  0  2  0  1  0  0  0  1]\n",
      " [ 0  0 40  0  0  0  0  0  0  0]\n",
      " [ 0  1  0 31  0  1  0  0  1  0]\n",
      " [ 0  0  0  0 37  0  0  0  0  0]\n",
      " [ 0  0  0  0  0 28  0  0  0  0]\n",
      " [ 0  1  0  0  0  0 26  0  1  0]\n",
      " [ 0  0  0  0  3  0  0 30  0  0]\n",
      " [ 0  4  1  1  1  2  0  0 34  0]\n",
      " [ 0  0  0  0  0  2  0  0  0 30]]\n",
      "----------------------------------------------------------------------------------------------------\n",
      "accuracy: 0.94, precision: 0.94, recall: 0.94, f1:0.94\n"
     ]
    }
   ],
   "source": [
    "# 실제 정답 y_test과 예측값 y_pred 비교하여 평가 \n",
    "from sklearn.metrics import confusion_matrix, accuracy_score, recall_score, precision_score, f1_score\n",
    "\n",
    "Digits_SGD = get_eval1(digits_y_test, digits_y_pred)\n",
    "print('--'*50)\n",
    "print(Digits_SGD)"
   ]
  },
  {
   "cell_type": "markdown",
   "id": "3fpxBpnf0Id8",
   "metadata": {
    "id": "3fpxBpnf0Id8"
   },
   "source": [
    "#### 1-e. Logistic Regression"
   ]
  },
  {
   "cell_type": "code",
   "execution_count": 555,
   "id": "RWsuZDuB0Id9",
   "metadata": {
    "colab": {
     "base_uri": "https://localhost:8080/"
    },
    "executionInfo": {
     "elapsed": 510,
     "status": "ok",
     "timestamp": 1680404711948,
     "user": {
      "displayName": "June Ko",
      "userId": "10187011845533435771"
     },
     "user_tz": -540
    },
    "id": "RWsuZDuB0Id9",
    "outputId": "bc83047a-4d95-4cb0-e348-7ebe53687b89"
   },
   "outputs": [
    {
     "name": "stderr",
     "output_type": "stream",
     "text": [
      "/usr/local/lib/python3.9/dist-packages/sklearn/linear_model/_logistic.py:458: ConvergenceWarning: lbfgs failed to converge (status=1):\n",
      "STOP: TOTAL NO. of ITERATIONS REACHED LIMIT.\n",
      "\n",
      "Increase the number of iterations (max_iter) or scale the data as shown in:\n",
      "    https://scikit-learn.org/stable/modules/preprocessing.html\n",
      "Please also refer to the documentation for alternative solver options:\n",
      "    https://scikit-learn.org/stable/modules/linear_model.html#logistic-regression\n",
      "  n_iter_i = _check_optimize_result(\n"
     ]
    },
    {
     "data": {
      "text/plain": [
       "array([6, 0, 5, 3, 2, 9, 0, 4, 1, 0, 1, 8, 2, 5, 2, 5, 1, 8, 5, 1, 0, 2,\n",
       "       0, 4, 5, 3, 3, 0, 0, 4, 1, 4, 4, 4, 6, 1, 4, 0, 6, 6, 0, 9, 3, 6,\n",
       "       6, 2, 0, 1, 9, 6, 2, 8, 9, 9, 0, 2, 0, 8, 4, 6, 8, 5, 8, 7, 8, 7,\n",
       "       7, 4, 1, 4, 5, 5, 4, 6, 2, 0, 1, 3, 7, 5, 8, 2, 4, 4, 2, 5, 1, 9,\n",
       "       3, 7, 6, 3, 7, 5, 6, 2, 1, 0, 1, 9, 4, 1, 9, 3, 1, 6, 9, 0, 3, 7,\n",
       "       6, 9, 3, 8, 0, 1, 3, 8, 8, 6, 3, 7, 3, 9, 0, 3, 0, 9, 1, 1, 2, 2,\n",
       "       3, 6, 9, 4, 0, 5, 4, 2, 9, 1, 0, 2, 5, 0, 2, 2, 7, 4, 8, 9, 8, 2,\n",
       "       6, 0, 4, 4, 5, 5, 0, 2, 4, 6, 2, 2, 3, 7, 2, 9, 0, 3, 5, 9, 1, 6,\n",
       "       8, 7, 5, 3, 0, 4, 2, 1, 3, 3, 6, 0, 2, 8, 4, 1, 4, 7, 5, 7, 6, 6,\n",
       "       8, 1, 0, 6, 8, 7, 1, 1, 9, 8, 5, 5, 3, 6, 8, 1, 2, 0, 7, 5, 3, 0,\n",
       "       8, 2, 0, 4, 0, 9, 4, 8, 4, 7, 9, 7, 3, 6, 2, 8, 1, 5, 9, 2, 9, 9,\n",
       "       8, 2, 1, 6, 7, 8, 7, 5, 7, 8, 5, 5, 7, 4, 3, 7, 5, 8, 2, 8, 9, 5,\n",
       "       3, 2, 8, 0, 4, 2, 1, 0, 8, 4, 1, 7, 1, 4, 7, 7, 1, 8, 3, 8, 4, 3,\n",
       "       5, 9, 4, 4, 8, 1, 8, 7, 2, 3, 1, 1, 1, 0, 2, 8, 0, 7, 4, 0, 1, 0,\n",
       "       2, 3, 3, 9, 8, 5, 4, 2, 2, 6, 5, 0, 5, 9, 8, 9, 0, 0, 9, 7, 4, 1,\n",
       "       2, 6, 7, 3, 7, 4, 0, 2, 1, 7, 2, 5, 7, 2, 3, 5, 7, 1, 4, 1, 3, 3,\n",
       "       8, 8, 1, 0, 1, 9, 3, 0])"
      ]
     },
     "execution_count": 555,
     "metadata": {},
     "output_type": "execute_result"
    }
   ],
   "source": [
    "logistic_model = LogisticRegression() # 모델 객체 만들기\n",
    "logistic_model.fit(digits_X_train, digits_y_train) # 분류기에 x와 y의 훈련 데이터를 넣어 훈련 시킨다.\n",
    "digits_y_pred = logistic_model.predict(digits_X_test) # 훈련된 분류기에 X_test라는 테스트 데이터셋을 넣어 얼마나 예측했는지 확인한다.\n",
    "digits_y_pred"
   ]
  },
  {
   "cell_type": "markdown",
   "id": "Ip1ud3_f0Id9",
   "metadata": {
    "id": "Ip1ud3_f0Id9"
   },
   "source": [
    "##### Evaluation"
   ]
  },
  {
   "cell_type": "code",
   "execution_count": 556,
   "id": "v1gTq7NJ0Id9",
   "metadata": {
    "colab": {
     "base_uri": "https://localhost:8080/"
    },
    "executionInfo": {
     "elapsed": 31,
     "status": "ok",
     "timestamp": 1680404711948,
     "user": {
      "displayName": "June Ko",
      "userId": "10187011845533435771"
     },
     "user_tz": -540
    },
    "id": "v1gTq7NJ0Id9",
    "outputId": "ca0fd70b-825b-4360-d0b2-00ff6fb29f7e"
   },
   "outputs": [
    {
     "name": "stdout",
     "output_type": "stream",
     "text": [
      "              precision    recall  f1-score   support\n",
      "\n",
      "           0       1.00      1.00      1.00        43\n",
      "           1       0.95      0.95      0.95        42\n",
      "           2       0.98      1.00      0.99        40\n",
      "           3       0.94      0.97      0.96        34\n",
      "           4       0.97      1.00      0.99        37\n",
      "           5       0.82      0.96      0.89        28\n",
      "           6       1.00      0.96      0.98        28\n",
      "           7       0.97      0.97      0.97        33\n",
      "           8       0.92      0.81      0.86        43\n",
      "           9       0.97      0.91      0.94        32\n",
      "\n",
      "    accuracy                           0.95       360\n",
      "   macro avg       0.95      0.95      0.95       360\n",
      "weighted avg       0.95      0.95      0.95       360\n",
      "\n"
     ]
    }
   ],
   "source": [
    "print(classification_report(digits_y_test, digits_y_pred)) # 결과를 지표로 확인하기 위해 classification_report를 활용해 y_test, y_pred 값을 넣어 확인한다."
   ]
  },
  {
   "cell_type": "code",
   "execution_count": 557,
   "id": "ct-mKCM4S42O",
   "metadata": {
    "colab": {
     "base_uri": "https://localhost:8080/"
    },
    "executionInfo": {
     "elapsed": 27,
     "status": "ok",
     "timestamp": 1680404711949,
     "user": {
      "displayName": "June Ko",
      "userId": "10187011845533435771"
     },
     "user_tz": -540
    },
    "id": "ct-mKCM4S42O",
    "outputId": "63abc223-dee8-41f7-b877-4ca7505a0837"
   },
   "outputs": [
    {
     "name": "stdout",
     "output_type": "stream",
     "text": [
      "confusion matrix\n",
      "[[43  0  0  0  0  0  0  0  0  0]\n",
      " [ 0 40  0  0  0  0  0  0  1  1]\n",
      " [ 0  0 40  0  0  0  0  0  0  0]\n",
      " [ 0  0  0 33  0  0  0  1  0  0]\n",
      " [ 0  0  0  0 37  0  0  0  0  0]\n",
      " [ 0  0  0  0  0 27  0  0  1  0]\n",
      " [ 0  0  0  0  0  0 27  0  1  0]\n",
      " [ 0  0  0  1  0  0  0 32  0  0]\n",
      " [ 0  2  1  0  1  4  0  0 35  0]\n",
      " [ 0  0  0  1  0  2  0  0  0 29]]\n",
      "----------------------------------------------------------------------------------------------------\n",
      "accuracy: 0.95, precision: 0.95, recall: 0.95, f1:0.95\n"
     ]
    }
   ],
   "source": [
    "# 실제 정답 y_test과 예측값 y_pred 비교하여 평가 \n",
    "from sklearn.metrics import confusion_matrix, accuracy_score, recall_score, precision_score, f1_score\n",
    "\n",
    "Digits_LR = get_eval1(digits_y_test, digits_y_pred)\n",
    "print('--'*50)\n",
    "print(Digits_LR)"
   ]
  },
  {
   "cell_type": "markdown",
   "id": "ZfUh7NltZbRN",
   "metadata": {
    "id": "ZfUh7NltZbRN"
   },
   "source": [
    "## Digits  Evaluation Summary\n",
    "- 각 클래스의 데이터 수가 고루 분포되어 있고 각 숫자 인식의 경중이 구분되지 않으므로  accuracy를 기준으로 모델을 평가하는 것이 좋을 거 같음.\n",
    "- accuracy 기준으로 SVM 모델이 가장 적합한 모델임.\n",
    "- SVM의 classification_report과 confusion_matrix를 보면  \n",
    "실제 8을 다른 것(1,5)으로 예측한 것이 가장 많아 8의 recall이 가장 작고  \n",
    "5로 예측했는데 실제는 아닌 것(8,9)이 가장 많아 5의 precision이 가장 작다.  \n"
   ]
  },
  {
   "cell_type": "code",
   "execution_count": 558,
   "id": "iv2aMJnoZbRO",
   "metadata": {
    "colab": {
     "base_uri": "https://localhost:8080/"
    },
    "executionInfo": {
     "elapsed": 23,
     "status": "ok",
     "timestamp": 1680404711949,
     "user": {
      "displayName": "June Ko",
      "userId": "10187011845533435771"
     },
     "user_tz": -540
    },
    "id": "iv2aMJnoZbRO",
    "outputId": "7f1e81dc-319b-496f-a3ad-b6c7bc230e86"
   },
   "outputs": [
    {
     "name": "stdout",
     "output_type": "stream",
     "text": [
      "Decision Tree Classifire :  accuracy: 0.86, precision: 0.86, recall: 0.86, f1:0.86\n",
      "Random Forest Classifier :  accuracy: 0.96, precision: 0.96, recall: 0.96, f1:0.96\n",
      "\u001b[91mSupport Vector Machine :  accuracy: 0.99, precision: 0.99, recall: 0.99, f1:0.99\u001b[0m\n",
      "Stochasric Gradient Descent Classifier :  accuracy: 0.94, precision: 0.94, recall: 0.94, f1:0.94\n",
      "Logistic Regression :  accuracy: 0.95, precision: 0.95, recall: 0.95, f1:0.95\n"
     ]
    }
   ],
   "source": [
    "print('Decision Tree Classifire : ',Digits_DT)\n",
    "print('Random Forest Classifier : ',Digits_RF)\n",
    "print('\\033[91m'+ 'Support Vector Machine : ',Digits_SVM +'\\033[0m')\n",
    "print('Stochasric Gradient Descent Classifier : ',Digits_SGD)\n",
    "print('Logistic Regression : ',Digits_LR)"
   ]
  },
  {
   "cell_type": "markdown",
   "id": "QDs5n-rpUDyX",
   "metadata": {
    "id": "QDs5n-rpUDyX"
   },
   "source": [
    "##2 Wine\n",
    "- the results of a chemical analysis of wines grown in the same\n",
    "region in Italy by three different cultivators"
   ]
  },
  {
   "cell_type": "markdown",
   "id": "GLWclgW8UDyd",
   "metadata": {
    "id": "GLWclgW8UDyd"
   },
   "source": [
    "###2-1. Load Dataset"
   ]
  },
  {
   "cell_type": "code",
   "execution_count": 559,
   "id": "48J0xUZoUDyd",
   "metadata": {
    "colab": {
     "base_uri": "https://localhost:8080/"
    },
    "executionInfo": {
     "elapsed": 21,
     "status": "ok",
     "timestamp": 1680404711950,
     "user": {
      "displayName": "June Ko",
      "userId": "10187011845533435771"
     },
     "user_tz": -540
    },
    "id": "48J0xUZoUDyd",
    "outputId": "af8eabb8-5fa3-40a2-bfbf-50f54ddf563b"
   },
   "outputs": [
    {
     "name": "stdout",
     "output_type": "stream",
     "text": [
      ".. _wine_dataset:\n",
      "\n",
      "Wine recognition dataset\n",
      "------------------------\n",
      "\n",
      "**Data Set Characteristics:**\n",
      "\n",
      "    :Number of Instances: 178\n",
      "    :Number of Attributes: 13 numeric, predictive attributes and the class\n",
      "    :Attribute Information:\n",
      " \t\t- Alcohol\n",
      " \t\t- Malic acid\n",
      " \t\t- Ash\n",
      "\t\t- Alcalinity of ash  \n",
      " \t\t- Magnesium\n",
      "\t\t- Total phenols\n",
      " \t\t- Flavanoids\n",
      " \t\t- Nonflavanoid phenols\n",
      " \t\t- Proanthocyanins\n",
      "\t\t- Color intensity\n",
      " \t\t- Hue\n",
      " \t\t- OD280/OD315 of diluted wines\n",
      " \t\t- Proline\n",
      "\n",
      "    - class:\n",
      "            - class_0\n",
      "            - class_1\n",
      "            - class_2\n",
      "\t\t\n",
      "    :Summary Statistics:\n",
      "    \n",
      "    ============================= ==== ===== ======= =====\n",
      "                                   Min   Max   Mean     SD\n",
      "    ============================= ==== ===== ======= =====\n",
      "    Alcohol:                      11.0  14.8    13.0   0.8\n",
      "    Malic Acid:                   0.74  5.80    2.34  1.12\n",
      "    Ash:                          1.36  3.23    2.36  0.27\n",
      "    Alcalinity of Ash:            10.6  30.0    19.5   3.3\n",
      "    Magnesium:                    70.0 162.0    99.7  14.3\n",
      "    Total Phenols:                0.98  3.88    2.29  0.63\n",
      "    Flavanoids:                   0.34  5.08    2.03  1.00\n",
      "    Nonflavanoid Phenols:         0.13  0.66    0.36  0.12\n",
      "    Proanthocyanins:              0.41  3.58    1.59  0.57\n",
      "    Colour Intensity:              1.3  13.0     5.1   2.3\n",
      "    Hue:                          0.48  1.71    0.96  0.23\n",
      "    OD280/OD315 of diluted wines: 1.27  4.00    2.61  0.71\n",
      "    Proline:                       278  1680     746   315\n",
      "    ============================= ==== ===== ======= =====\n",
      "\n",
      "    :Missing Attribute Values: None\n",
      "    :Class Distribution: class_0 (59), class_1 (71), class_2 (48)\n",
      "    :Creator: R.A. Fisher\n",
      "    :Donor: Michael Marshall (MARSHALL%PLU@io.arc.nasa.gov)\n",
      "    :Date: July, 1988\n",
      "\n",
      "This is a copy of UCI ML Wine recognition datasets.\n",
      "https://archive.ics.uci.edu/ml/machine-learning-databases/wine/wine.data\n",
      "\n",
      "The data is the results of a chemical analysis of wines grown in the same\n",
      "region in Italy by three different cultivators. There are thirteen different\n",
      "measurements taken for different constituents found in the three types of\n",
      "wine.\n",
      "\n",
      "Original Owners: \n",
      "\n",
      "Forina, M. et al, PARVUS - \n",
      "An Extendible Package for Data Exploration, Classification and Correlation. \n",
      "Institute of Pharmaceutical and Food Analysis and Technologies,\n",
      "Via Brigata Salerno, 16147 Genoa, Italy.\n",
      "\n",
      "Citation:\n",
      "\n",
      "Lichman, M. (2013). UCI Machine Learning Repository\n",
      "[https://archive.ics.uci.edu/ml]. Irvine, CA: University of California,\n",
      "School of Information and Computer Science. \n",
      "\n",
      ".. topic:: References\n",
      "\n",
      "  (1) S. Aeberhard, D. Coomans and O. de Vel, \n",
      "  Comparison of Classifiers in High Dimensional Settings, \n",
      "  Tech. Rep. no. 92-02, (1992), Dept. of Computer Science and Dept. of  \n",
      "  Mathematics and Statistics, James Cook University of North Queensland. \n",
      "  (Also submitted to Technometrics). \n",
      "\n",
      "  The data was used with many others for comparing various \n",
      "  classifiers. The classes are separable, though only RDA \n",
      "  has achieved 100% correct classification. \n",
      "  (RDA : 100%, QDA 99.4%, LDA 98.9%, 1NN 96.1% (z-transformed data)) \n",
      "  (All results using the leave-one-out technique) \n",
      "\n",
      "  (2) S. Aeberhard, D. Coomans and O. de Vel, \n",
      "  \"THE CLASSIFICATION PERFORMANCE OF RDA\" \n",
      "  Tech. Rep. no. 92-01, (1992), Dept. of Computer Science and Dept. of \n",
      "  Mathematics and Statistics, James Cook University of North Queensland. \n",
      "  (Also submitted to Journal of Chemometrics).\n",
      "\n"
     ]
    }
   ],
   "source": [
    "from sklearn.datasets import load_wine\n",
    "wine = load_wine() # 데이터 전체를 불러온다.\n",
    "print(wine.DESCR)"
   ]
  },
  {
   "cell_type": "markdown",
   "id": "4g8pqvnLUDye",
   "metadata": {
    "id": "4g8pqvnLUDye"
   },
   "source": [
    "###2-2. EDA\n",
    "- Feature Data 지정하기\n",
    "- Label Data 지정하기\n",
    "- Target Names 출력해 보기\n",
    "- 데이터 Describe 해 보기"
   ]
  },
  {
   "cell_type": "code",
   "execution_count": 560,
   "id": "ZsoziJoAUDye",
   "metadata": {
    "colab": {
     "base_uri": "https://localhost:8080/"
    },
    "executionInfo": {
     "elapsed": 18,
     "status": "ok",
     "timestamp": 1680404711950,
     "user": {
      "displayName": "June Ko",
      "userId": "10187011845533435771"
     },
     "user_tz": -540
    },
    "id": "ZsoziJoAUDye",
    "outputId": "12839db7-a686-4d7a-a3c7-c73ee5eb885b"
   },
   "outputs": [
    {
     "name": "stdout",
     "output_type": "stream",
     "text": [
      "(178, 13)\n",
      "(178,)\n"
     ]
    }
   ],
   "source": [
    "wine_data = wine.data #데이터의 data컬럼을 분류해 _data 변수에 담는다.\n",
    "wine_label = wine.target # 데이터의 target컬럼을 분류해 _label 변수에 담는다.\n",
    "wine_df = pd.DataFrame(data=wine_data, columns=wine.feature_names)\n",
    "print(wine_data.shape)\n",
    "print(wine_label.shape)"
   ]
  },
  {
   "cell_type": "code",
   "execution_count": 561,
   "id": "R2qTw1wIUDye",
   "metadata": {
    "colab": {
     "base_uri": "https://localhost:8080/"
    },
    "executionInfo": {
     "elapsed": 16,
     "status": "ok",
     "timestamp": 1680404711951,
     "user": {
      "displayName": "June Ko",
      "userId": "10187011845533435771"
     },
     "user_tz": -540
    },
    "id": "R2qTw1wIUDye",
    "outputId": "a4b6c626-964c-4296-9aa5-9bf6507879be"
   },
   "outputs": [
    {
     "name": "stdout",
     "output_type": "stream",
     "text": [
      "['alcohol', 'malic_acid', 'ash', 'alcalinity_of_ash', 'magnesium', 'total_phenols', 'flavanoids', 'nonflavanoid_phenols', 'proanthocyanins', 'color_intensity', 'hue', 'od280/od315_of_diluted_wines', 'proline']\n",
      "['class_0' 'class_1' 'class_2']\n"
     ]
    },
    {
     "data": {
      "text/plain": [
       "Counter({0: 59, 1: 71, 2: 48})"
      ]
     },
     "execution_count": 561,
     "metadata": {},
     "output_type": "execute_result"
    }
   ],
   "source": [
    "print(wine.feature_names) #여러 성분들들\n",
    "print(wine.target_names) #target 값 class 3가지지\n",
    "Counter(wine_label) #클래스 당 데이터 갯수 확인. class_1이 가장 많음 고르지 않아 평가 지표 accuracy는 피해야 함. "
   ]
  },
  {
   "cell_type": "code",
   "execution_count": 562,
   "id": "POUtwLYBUDye",
   "metadata": {
    "colab": {
     "base_uri": "https://localhost:8080/",
     "height": 364
    },
    "executionInfo": {
     "elapsed": 13,
     "status": "ok",
     "timestamp": 1680404711951,
     "user": {
      "displayName": "June Ko",
      "userId": "10187011845533435771"
     },
     "user_tz": -540
    },
    "id": "POUtwLYBUDye",
    "outputId": "a6b077f5-1961-4340-8afe-cdda40515a1b"
   },
   "outputs": [
    {
     "data": {
      "text/html": [
       "\n",
       "  <div id=\"df-eceac581-b6cf-42ed-94b4-4b10fe6ccb9a\">\n",
       "    <div class=\"colab-df-container\">\n",
       "      <div>\n",
       "<style scoped>\n",
       "    .dataframe tbody tr th:only-of-type {\n",
       "        vertical-align: middle;\n",
       "    }\n",
       "\n",
       "    .dataframe tbody tr th {\n",
       "        vertical-align: top;\n",
       "    }\n",
       "\n",
       "    .dataframe thead th {\n",
       "        text-align: right;\n",
       "    }\n",
       "</style>\n",
       "<table border=\"1\" class=\"dataframe\">\n",
       "  <thead>\n",
       "    <tr style=\"text-align: right;\">\n",
       "      <th></th>\n",
       "      <th>alcohol</th>\n",
       "      <th>malic_acid</th>\n",
       "      <th>ash</th>\n",
       "      <th>alcalinity_of_ash</th>\n",
       "      <th>magnesium</th>\n",
       "      <th>total_phenols</th>\n",
       "      <th>flavanoids</th>\n",
       "      <th>nonflavanoid_phenols</th>\n",
       "      <th>proanthocyanins</th>\n",
       "      <th>color_intensity</th>\n",
       "      <th>hue</th>\n",
       "      <th>od280/od315_of_diluted_wines</th>\n",
       "      <th>proline</th>\n",
       "    </tr>\n",
       "  </thead>\n",
       "  <tbody>\n",
       "    <tr>\n",
       "      <th>count</th>\n",
       "      <td>178.000000</td>\n",
       "      <td>178.000000</td>\n",
       "      <td>178.000000</td>\n",
       "      <td>178.000000</td>\n",
       "      <td>178.000000</td>\n",
       "      <td>178.000000</td>\n",
       "      <td>178.000000</td>\n",
       "      <td>178.000000</td>\n",
       "      <td>178.000000</td>\n",
       "      <td>178.000000</td>\n",
       "      <td>178.000000</td>\n",
       "      <td>178.000000</td>\n",
       "      <td>178.000000</td>\n",
       "    </tr>\n",
       "    <tr>\n",
       "      <th>mean</th>\n",
       "      <td>13.000618</td>\n",
       "      <td>2.336348</td>\n",
       "      <td>2.366517</td>\n",
       "      <td>19.494944</td>\n",
       "      <td>99.741573</td>\n",
       "      <td>2.295112</td>\n",
       "      <td>2.029270</td>\n",
       "      <td>0.361854</td>\n",
       "      <td>1.590899</td>\n",
       "      <td>5.058090</td>\n",
       "      <td>0.957449</td>\n",
       "      <td>2.611685</td>\n",
       "      <td>746.893258</td>\n",
       "    </tr>\n",
       "    <tr>\n",
       "      <th>std</th>\n",
       "      <td>0.811827</td>\n",
       "      <td>1.117146</td>\n",
       "      <td>0.274344</td>\n",
       "      <td>3.339564</td>\n",
       "      <td>14.282484</td>\n",
       "      <td>0.625851</td>\n",
       "      <td>0.998859</td>\n",
       "      <td>0.124453</td>\n",
       "      <td>0.572359</td>\n",
       "      <td>2.318286</td>\n",
       "      <td>0.228572</td>\n",
       "      <td>0.709990</td>\n",
       "      <td>314.907474</td>\n",
       "    </tr>\n",
       "    <tr>\n",
       "      <th>min</th>\n",
       "      <td>11.030000</td>\n",
       "      <td>0.740000</td>\n",
       "      <td>1.360000</td>\n",
       "      <td>10.600000</td>\n",
       "      <td>70.000000</td>\n",
       "      <td>0.980000</td>\n",
       "      <td>0.340000</td>\n",
       "      <td>0.130000</td>\n",
       "      <td>0.410000</td>\n",
       "      <td>1.280000</td>\n",
       "      <td>0.480000</td>\n",
       "      <td>1.270000</td>\n",
       "      <td>278.000000</td>\n",
       "    </tr>\n",
       "    <tr>\n",
       "      <th>25%</th>\n",
       "      <td>12.362500</td>\n",
       "      <td>1.602500</td>\n",
       "      <td>2.210000</td>\n",
       "      <td>17.200000</td>\n",
       "      <td>88.000000</td>\n",
       "      <td>1.742500</td>\n",
       "      <td>1.205000</td>\n",
       "      <td>0.270000</td>\n",
       "      <td>1.250000</td>\n",
       "      <td>3.220000</td>\n",
       "      <td>0.782500</td>\n",
       "      <td>1.937500</td>\n",
       "      <td>500.500000</td>\n",
       "    </tr>\n",
       "    <tr>\n",
       "      <th>50%</th>\n",
       "      <td>13.050000</td>\n",
       "      <td>1.865000</td>\n",
       "      <td>2.360000</td>\n",
       "      <td>19.500000</td>\n",
       "      <td>98.000000</td>\n",
       "      <td>2.355000</td>\n",
       "      <td>2.135000</td>\n",
       "      <td>0.340000</td>\n",
       "      <td>1.555000</td>\n",
       "      <td>4.690000</td>\n",
       "      <td>0.965000</td>\n",
       "      <td>2.780000</td>\n",
       "      <td>673.500000</td>\n",
       "    </tr>\n",
       "    <tr>\n",
       "      <th>75%</th>\n",
       "      <td>13.677500</td>\n",
       "      <td>3.082500</td>\n",
       "      <td>2.557500</td>\n",
       "      <td>21.500000</td>\n",
       "      <td>107.000000</td>\n",
       "      <td>2.800000</td>\n",
       "      <td>2.875000</td>\n",
       "      <td>0.437500</td>\n",
       "      <td>1.950000</td>\n",
       "      <td>6.200000</td>\n",
       "      <td>1.120000</td>\n",
       "      <td>3.170000</td>\n",
       "      <td>985.000000</td>\n",
       "    </tr>\n",
       "    <tr>\n",
       "      <th>max</th>\n",
       "      <td>14.830000</td>\n",
       "      <td>5.800000</td>\n",
       "      <td>3.230000</td>\n",
       "      <td>30.000000</td>\n",
       "      <td>162.000000</td>\n",
       "      <td>3.880000</td>\n",
       "      <td>5.080000</td>\n",
       "      <td>0.660000</td>\n",
       "      <td>3.580000</td>\n",
       "      <td>13.000000</td>\n",
       "      <td>1.710000</td>\n",
       "      <td>4.000000</td>\n",
       "      <td>1680.000000</td>\n",
       "    </tr>\n",
       "  </tbody>\n",
       "</table>\n",
       "</div>\n",
       "      <button class=\"colab-df-convert\" onclick=\"convertToInteractive('df-eceac581-b6cf-42ed-94b4-4b10fe6ccb9a')\"\n",
       "              title=\"Convert this dataframe to an interactive table.\"\n",
       "              style=\"display:none;\">\n",
       "        \n",
       "  <svg xmlns=\"http://www.w3.org/2000/svg\" height=\"24px\"viewBox=\"0 0 24 24\"\n",
       "       width=\"24px\">\n",
       "    <path d=\"M0 0h24v24H0V0z\" fill=\"none\"/>\n",
       "    <path d=\"M18.56 5.44l.94 2.06.94-2.06 2.06-.94-2.06-.94-.94-2.06-.94 2.06-2.06.94zm-11 1L8.5 8.5l.94-2.06 2.06-.94-2.06-.94L8.5 2.5l-.94 2.06-2.06.94zm10 10l.94 2.06.94-2.06 2.06-.94-2.06-.94-.94-2.06-.94 2.06-2.06.94z\"/><path d=\"M17.41 7.96l-1.37-1.37c-.4-.4-.92-.59-1.43-.59-.52 0-1.04.2-1.43.59L10.3 9.45l-7.72 7.72c-.78.78-.78 2.05 0 2.83L4 21.41c.39.39.9.59 1.41.59.51 0 1.02-.2 1.41-.59l7.78-7.78 2.81-2.81c.8-.78.8-2.07 0-2.86zM5.41 20L4 18.59l7.72-7.72 1.47 1.35L5.41 20z\"/>\n",
       "  </svg>\n",
       "      </button>\n",
       "      \n",
       "  <style>\n",
       "    .colab-df-container {\n",
       "      display:flex;\n",
       "      flex-wrap:wrap;\n",
       "      gap: 12px;\n",
       "    }\n",
       "\n",
       "    .colab-df-convert {\n",
       "      background-color: #E8F0FE;\n",
       "      border: none;\n",
       "      border-radius: 50%;\n",
       "      cursor: pointer;\n",
       "      display: none;\n",
       "      fill: #1967D2;\n",
       "      height: 32px;\n",
       "      padding: 0 0 0 0;\n",
       "      width: 32px;\n",
       "    }\n",
       "\n",
       "    .colab-df-convert:hover {\n",
       "      background-color: #E2EBFA;\n",
       "      box-shadow: 0px 1px 2px rgba(60, 64, 67, 0.3), 0px 1px 3px 1px rgba(60, 64, 67, 0.15);\n",
       "      fill: #174EA6;\n",
       "    }\n",
       "\n",
       "    [theme=dark] .colab-df-convert {\n",
       "      background-color: #3B4455;\n",
       "      fill: #D2E3FC;\n",
       "    }\n",
       "\n",
       "    [theme=dark] .colab-df-convert:hover {\n",
       "      background-color: #434B5C;\n",
       "      box-shadow: 0px 1px 3px 1px rgba(0, 0, 0, 0.15);\n",
       "      filter: drop-shadow(0px 1px 2px rgba(0, 0, 0, 0.3));\n",
       "      fill: #FFFFFF;\n",
       "    }\n",
       "  </style>\n",
       "\n",
       "      <script>\n",
       "        const buttonEl =\n",
       "          document.querySelector('#df-eceac581-b6cf-42ed-94b4-4b10fe6ccb9a button.colab-df-convert');\n",
       "        buttonEl.style.display =\n",
       "          google.colab.kernel.accessAllowed ? 'block' : 'none';\n",
       "\n",
       "        async function convertToInteractive(key) {\n",
       "          const element = document.querySelector('#df-eceac581-b6cf-42ed-94b4-4b10fe6ccb9a');\n",
       "          const dataTable =\n",
       "            await google.colab.kernel.invokeFunction('convertToInteractive',\n",
       "                                                     [key], {});\n",
       "          if (!dataTable) return;\n",
       "\n",
       "          const docLinkHtml = 'Like what you see? Visit the ' +\n",
       "            '<a target=\"_blank\" href=https://colab.research.google.com/notebooks/data_table.ipynb>data table notebook</a>'\n",
       "            + ' to learn more about interactive tables.';\n",
       "          element.innerHTML = '';\n",
       "          dataTable['output_type'] = 'display_data';\n",
       "          await google.colab.output.renderOutput(dataTable, element);\n",
       "          const docLink = document.createElement('div');\n",
       "          docLink.innerHTML = docLinkHtml;\n",
       "          element.appendChild(docLink);\n",
       "        }\n",
       "      </script>\n",
       "    </div>\n",
       "  </div>\n",
       "  "
      ],
      "text/plain": [
       "          alcohol  malic_acid         ash  alcalinity_of_ash   magnesium  \\\n",
       "count  178.000000  178.000000  178.000000         178.000000  178.000000   \n",
       "mean    13.000618    2.336348    2.366517          19.494944   99.741573   \n",
       "std      0.811827    1.117146    0.274344           3.339564   14.282484   \n",
       "min     11.030000    0.740000    1.360000          10.600000   70.000000   \n",
       "25%     12.362500    1.602500    2.210000          17.200000   88.000000   \n",
       "50%     13.050000    1.865000    2.360000          19.500000   98.000000   \n",
       "75%     13.677500    3.082500    2.557500          21.500000  107.000000   \n",
       "max     14.830000    5.800000    3.230000          30.000000  162.000000   \n",
       "\n",
       "       total_phenols  flavanoids  nonflavanoid_phenols  proanthocyanins  \\\n",
       "count     178.000000  178.000000            178.000000       178.000000   \n",
       "mean        2.295112    2.029270              0.361854         1.590899   \n",
       "std         0.625851    0.998859              0.124453         0.572359   \n",
       "min         0.980000    0.340000              0.130000         0.410000   \n",
       "25%         1.742500    1.205000              0.270000         1.250000   \n",
       "50%         2.355000    2.135000              0.340000         1.555000   \n",
       "75%         2.800000    2.875000              0.437500         1.950000   \n",
       "max         3.880000    5.080000              0.660000         3.580000   \n",
       "\n",
       "       color_intensity         hue  od280/od315_of_diluted_wines      proline  \n",
       "count       178.000000  178.000000                    178.000000   178.000000  \n",
       "mean          5.058090    0.957449                      2.611685   746.893258  \n",
       "std           2.318286    0.228572                      0.709990   314.907474  \n",
       "min           1.280000    0.480000                      1.270000   278.000000  \n",
       "25%           3.220000    0.782500                      1.937500   500.500000  \n",
       "50%           4.690000    0.965000                      2.780000   673.500000  \n",
       "75%           6.200000    1.120000                      3.170000   985.000000  \n",
       "max          13.000000    1.710000                      4.000000  1680.000000  "
      ]
     },
     "execution_count": 562,
     "metadata": {},
     "output_type": "execute_result"
    }
   ],
   "source": [
    "wine_df.describe()"
   ]
  },
  {
   "cell_type": "markdown",
   "id": "YcElUnxrUDye",
   "metadata": {
    "id": "YcElUnxrUDye"
   },
   "source": [
    "###2-3. Split"
   ]
  },
  {
   "cell_type": "code",
   "execution_count": 563,
   "id": "LItKHt81UDye",
   "metadata": {
    "colab": {
     "base_uri": "https://localhost:8080/"
    },
    "executionInfo": {
     "elapsed": 13,
     "status": "ok",
     "timestamp": 1680404711952,
     "user": {
      "displayName": "June Ko",
      "userId": "10187011845533435771"
     },
     "user_tz": -540
    },
    "id": "LItKHt81UDye",
    "outputId": "2da49d64-1ce7-476a-a6c8-4d249ac2d705"
   },
   "outputs": [
    {
     "data": {
      "text/plain": [
       "((142, 13), (142,), (36, 13), (36,))"
      ]
     },
     "execution_count": 563,
     "metadata": {},
     "output_type": "execute_result"
    }
   ],
   "source": [
    "wine_X_train, wine_X_test, wine_y_train, wine_y_test = train_test_split(wine_data, \n",
    "                                                    wine_label, \n",
    "                                                    test_size=0.2, \n",
    "                                                    random_state=7) \n",
    "wine_X_train.shape, wine_y_train.shape, wine_X_test.shape, wine_y_test.shape"
   ]
  },
  {
   "cell_type": "code",
   "execution_count": 564,
   "id": "rqlBJTZ-UDye",
   "metadata": {
    "colab": {
     "base_uri": "https://localhost:8080/"
    },
    "executionInfo": {
     "elapsed": 10,
     "status": "ok",
     "timestamp": 1680404711952,
     "user": {
      "displayName": "June Ko",
      "userId": "10187011845533435771"
     },
     "user_tz": -540
    },
    "id": "rqlBJTZ-UDye",
    "outputId": "bf5d2d2b-b152-4eb3-c091-1ee9cdfd44d4"
   },
   "outputs": [
    {
     "data": {
      "text/plain": [
       "(array([2, 2, 0, 2, 0, 1, 2, 2, 1, 0, 0, 1, 1, 1, 1, 1, 0, 0, 1, 1, 1, 0,\n",
       "        2, 0, 2, 1, 2, 0, 2, 1, 1, 1, 0, 1, 0, 0, 2, 0, 2, 1, 1, 2, 1, 0,\n",
       "        1, 1, 1, 1, 0, 0, 0, 1, 1, 2, 1, 0, 1, 2, 0, 1, 0, 2, 1, 0, 0, 0,\n",
       "        0, 1, 1, 0, 1, 1, 0, 0, 0, 0, 2, 2, 0, 0, 0, 2, 0, 0, 1, 2, 1, 1,\n",
       "        0, 0, 2, 0, 2, 2, 2, 1, 2, 1, 2, 1, 0, 0, 2, 1, 2, 1, 1, 0, 1, 2,\n",
       "        1, 2, 0, 0, 2, 0, 1, 2, 0, 1, 0, 0, 0, 0, 1, 0, 2, 1, 1, 2, 0, 1,\n",
       "        1, 1, 0, 2, 1, 1, 2, 1, 0, 2]),\n",
       " array([2, 0, 2, 2, 1, 2, 1, 0, 1, 2, 0, 1, 2, 1, 1, 1, 1, 2, 0, 0, 1, 1,\n",
       "        1, 1, 0, 2, 1, 2, 2, 2, 1, 0, 2, 1, 1, 1]))"
      ]
     },
     "execution_count": 564,
     "metadata": {},
     "output_type": "execute_result"
    }
   ],
   "source": [
    "wine_y_train, wine_y_test"
   ]
  },
  {
   "cell_type": "markdown",
   "id": "OEbxCidMUDye",
   "metadata": {
    "id": "OEbxCidMUDye"
   },
   "source": [
    "###2-4. Machine Learning & Evaluation"
   ]
  },
  {
   "cell_type": "markdown",
   "id": "LLbSyrvRUDye",
   "metadata": {
    "id": "LLbSyrvRUDye"
   },
   "source": [
    "#### 2-a. Decision Tree Classifier"
   ]
  },
  {
   "cell_type": "code",
   "execution_count": 565,
   "id": "HHzuyVpKUDye",
   "metadata": {
    "colab": {
     "base_uri": "https://localhost:8080/"
    },
    "executionInfo": {
     "elapsed": 506,
     "status": "ok",
     "timestamp": 1680404712450,
     "user": {
      "displayName": "June Ko",
      "userId": "10187011845533435771"
     },
     "user_tz": -540
    },
    "id": "HHzuyVpKUDye",
    "outputId": "4cd3ab88-3c70-4325-eb0b-618784955f59"
   },
   "outputs": [
    {
     "data": {
      "text/plain": [
       "array([2, 0, 2, 2, 1, 2, 1, 0, 1, 1, 0, 1, 1, 1, 1, 1, 1, 2, 0, 0, 1, 1,\n",
       "       1, 1, 0, 2, 1, 2, 2, 2, 1, 0, 2, 1, 1, 1])"
      ]
     },
     "execution_count": 565,
     "metadata": {},
     "output_type": "execute_result"
    }
   ],
   "source": [
    "decision_tree = DecisionTreeClassifier(random_state=32) #결정트리분류기의 객체를 만든다.\n",
    "decision_tree.fit(wine_X_train, wine_y_train) # 분류기에 x와 y의 훈련 데이터를 넣어 훈련 시킨다.\n",
    "wine_y_pred = decision_tree.predict(wine_X_test) # 훈련된 분류기에 X_test라는 테스트 데이터셋을 넣어 얼마나 예측했는지 확인한다.\n",
    "wine_y_pred"
   ]
  },
  {
   "cell_type": "markdown",
   "id": "mND2PDbRUDye",
   "metadata": {
    "id": "mND2PDbRUDye"
   },
   "source": [
    "##### Evaluation"
   ]
  },
  {
   "cell_type": "code",
   "execution_count": 566,
   "id": "-dZn0Km-UDye",
   "metadata": {
    "executionInfo": {
     "elapsed": 30,
     "status": "ok",
     "timestamp": 1680404712450,
     "user": {
      "displayName": "June Ko",
      "userId": "10187011845533435771"
     },
     "user_tz": -540
    },
    "id": "-dZn0Km-UDye"
   },
   "outputs": [],
   "source": [
    "# 평가 지표 함수\n",
    "def get_eval2(y_test, y_pred):\n",
    "    confusion = confusion_matrix( y_test, y_pred)\n",
    "    accuracy = accuracy_score(y_test , y_pred )\n",
    "    precision = precision_score(y_test , y_pred, average = 'micro') #micro:샘플을 똑같이 간주, macro:각 클래스를 동일한 비중\n",
    "    recall = recall_score(y_test , y_pred, average = 'micro') # 클래스 불균형이 있으므로 micro 선택\n",
    "    f1 = f1_score(y_test,y_pred, average ='micro') \n",
    "\n",
    "    print('confusion matrix')\n",
    "    print(confusion)\n",
    "\n",
    "    return 'accuracy: {0:.2f}, precision: {1:.2f}, recall: {2:.2f}, f1:{3:.2f}'.format(accuracy, precision, recall, f1)\n"
   ]
  },
  {
   "cell_type": "code",
   "execution_count": 567,
   "id": "LMgmx0txUDyf",
   "metadata": {
    "colab": {
     "base_uri": "https://localhost:8080/"
    },
    "executionInfo": {
     "elapsed": 29,
     "status": "ok",
     "timestamp": 1680404712450,
     "user": {
      "displayName": "June Ko",
      "userId": "10187011845533435771"
     },
     "user_tz": -540
    },
    "id": "LMgmx0txUDyf",
    "outputId": "49edc7b3-859a-41c2-b85a-ab2b1c43313e"
   },
   "outputs": [
    {
     "name": "stdout",
     "output_type": "stream",
     "text": [
      "              precision    recall  f1-score   support\n",
      "\n",
      "           0       1.00      1.00      1.00         7\n",
      "           1       0.89      1.00      0.94        17\n",
      "           2       1.00      0.83      0.91        12\n",
      "\n",
      "    accuracy                           0.94        36\n",
      "   macro avg       0.96      0.94      0.95        36\n",
      "weighted avg       0.95      0.94      0.94        36\n",
      "\n"
     ]
    }
   ],
   "source": [
    "print(classification_report(wine_y_test, wine_y_pred)) # 결과를 지표로 확인하기 위해 classification_report를 활용해 y_test, y_pred 값을 넣어 확인한다."
   ]
  },
  {
   "cell_type": "code",
   "execution_count": 568,
   "id": "6gwyTpCPUDyf",
   "metadata": {
    "colab": {
     "base_uri": "https://localhost:8080/"
    },
    "executionInfo": {
     "elapsed": 25,
     "status": "ok",
     "timestamp": 1680404712450,
     "user": {
      "displayName": "June Ko",
      "userId": "10187011845533435771"
     },
     "user_tz": -540
    },
    "id": "6gwyTpCPUDyf",
    "outputId": "8eb3eea9-0d7f-49e4-83d2-a28d2cec6dac"
   },
   "outputs": [
    {
     "name": "stdout",
     "output_type": "stream",
     "text": [
      "confusion matrix\n",
      "[[ 7  0  0]\n",
      " [ 0 17  0]\n",
      " [ 0  2 10]]\n",
      "----------------------------------------------------------------------------------------------------\n",
      "accuracy: 0.94, precision: 0.94, recall: 0.94, f1:0.94\n"
     ]
    }
   ],
   "source": [
    "# 실제 정답 y_test과 예측값 y_pred 비교하여 평가 \n",
    "from sklearn.metrics import confusion_matrix, accuracy_score, recall_score, precision_score, f1_score\n",
    "\n",
    "Wine_DT = get_eval2(wine_y_test, wine_y_pred)\n",
    "print('--'*50)\n",
    "print(Wine_DT)"
   ]
  },
  {
   "cell_type": "markdown",
   "id": "AKcjRb1EUDyf",
   "metadata": {
    "id": "AKcjRb1EUDyf"
   },
   "source": [
    "#### 2-b. RandomForest Classifier"
   ]
  },
  {
   "cell_type": "code",
   "execution_count": 569,
   "id": "xZ3WtK5HUDyf",
   "metadata": {
    "colab": {
     "base_uri": "https://localhost:8080/"
    },
    "executionInfo": {
     "elapsed": 22,
     "status": "ok",
     "timestamp": 1680404712450,
     "user": {
      "displayName": "June Ko",
      "userId": "10187011845533435771"
     },
     "user_tz": -540
    },
    "id": "xZ3WtK5HUDyf",
    "outputId": "a687c7d0-b641-462c-8db4-8a9614d69cd8"
   },
   "outputs": [
    {
     "data": {
      "text/plain": [
       "array([2, 0, 2, 2, 1, 2, 1, 0, 1, 2, 0, 1, 2, 1, 1, 1, 1, 2, 0, 0, 1, 1,\n",
       "       1, 1, 0, 2, 1, 2, 2, 2, 1, 0, 2, 1, 1, 1])"
      ]
     },
     "execution_count": 569,
     "metadata": {},
     "output_type": "execute_result"
    }
   ],
   "source": [
    "random_forest = RandomForestClassifier(random_state=32) # RandomForest분류기 객체를 생성\n",
    "random_forest.fit(wine_X_train, wine_y_train) # 분류기에 x와 y의 훈련 데이터를 넣어 훈련 시킨다.\n",
    "wine_y_pred = random_forest.predict(wine_X_test) # 훈련된 분류기에 X_test라는 테스트 데이터셋을 넣어 얼마나 예측했는지 확인한다.\n",
    "wine_y_pred"
   ]
  },
  {
   "cell_type": "markdown",
   "id": "4M3QJ4g9UDyf",
   "metadata": {
    "id": "4M3QJ4g9UDyf"
   },
   "source": [
    "##### Evaluation"
   ]
  },
  {
   "cell_type": "code",
   "execution_count": 570,
   "id": "xab1a1sLUDyf",
   "metadata": {
    "colab": {
     "base_uri": "https://localhost:8080/"
    },
    "executionInfo": {
     "elapsed": 20,
     "status": "ok",
     "timestamp": 1680404712451,
     "user": {
      "displayName": "June Ko",
      "userId": "10187011845533435771"
     },
     "user_tz": -540
    },
    "id": "xab1a1sLUDyf",
    "outputId": "3c566631-a4d3-4cd2-9a58-bc88c8522c23"
   },
   "outputs": [
    {
     "name": "stdout",
     "output_type": "stream",
     "text": [
      "              precision    recall  f1-score   support\n",
      "\n",
      "           0       1.00      1.00      1.00         7\n",
      "           1       1.00      1.00      1.00        17\n",
      "           2       1.00      1.00      1.00        12\n",
      "\n",
      "    accuracy                           1.00        36\n",
      "   macro avg       1.00      1.00      1.00        36\n",
      "weighted avg       1.00      1.00      1.00        36\n",
      "\n"
     ]
    }
   ],
   "source": [
    "print(classification_report(wine_y_test, wine_y_pred)) # 결과를 지표로 확인하기 위해 classification_report를 활용해 y_test, y_pred 값을 넣어 확인한다."
   ]
  },
  {
   "cell_type": "code",
   "execution_count": 571,
   "id": "uJiFlGNwUDyf",
   "metadata": {
    "colab": {
     "base_uri": "https://localhost:8080/"
    },
    "executionInfo": {
     "elapsed": 17,
     "status": "ok",
     "timestamp": 1680404712451,
     "user": {
      "displayName": "June Ko",
      "userId": "10187011845533435771"
     },
     "user_tz": -540
    },
    "id": "uJiFlGNwUDyf",
    "outputId": "45f8fb43-ea32-4322-ac83-e153f6ef66d3"
   },
   "outputs": [
    {
     "name": "stdout",
     "output_type": "stream",
     "text": [
      "confusion matrix\n",
      "[[ 7  0  0]\n",
      " [ 0 17  0]\n",
      " [ 0  0 12]]\n",
      "----------------------------------------------------------------------------------------------------\n",
      "accuracy: 1.00, precision: 1.00, recall: 1.00, f1:1.00\n"
     ]
    }
   ],
   "source": [
    "# 실제 정답 y_test과 예측값 y_pred 비교하여 평가 \n",
    "from sklearn.metrics import confusion_matrix, accuracy_score, recall_score, precision_score, f1_score\n",
    "\n",
    "Wine_RF = get_eval2(wine_y_test, wine_y_pred)\n",
    "print('--'*50)\n",
    "print(Wine_RF)"
   ]
  },
  {
   "cell_type": "markdown",
   "id": "m-xnW9f3UDyf",
   "metadata": {
    "id": "m-xnW9f3UDyf"
   },
   "source": [
    "#### 2-c. Support Vector Machine"
   ]
  },
  {
   "cell_type": "code",
   "execution_count": 572,
   "id": "OSifXte5UDyf",
   "metadata": {
    "colab": {
     "base_uri": "https://localhost:8080/"
    },
    "executionInfo": {
     "elapsed": 15,
     "status": "ok",
     "timestamp": 1680404712451,
     "user": {
      "displayName": "June Ko",
      "userId": "10187011845533435771"
     },
     "user_tz": -540
    },
    "id": "OSifXte5UDyf",
    "outputId": "f4bb2375-09c7-4964-ea80-6a6b7d5e46e6"
   },
   "outputs": [
    {
     "data": {
      "text/plain": [
       "array([1, 0, 1, 1, 1, 1, 1, 0, 1, 1, 0, 1, 1, 1, 1, 1, 1, 1, 0, 0, 0, 1,\n",
       "       1, 1, 0, 1, 1, 2, 1, 1, 1, 2, 1, 1, 1, 2])"
      ]
     },
     "execution_count": 572,
     "metadata": {},
     "output_type": "execute_result"
    }
   ],
   "source": [
    "svm_model = svm.SVC() # 모델 객체 만들기\n",
    "svm_model.fit(wine_X_train, wine_y_train) # 분류기에 x와 y의 훈련 데이터를 넣어 훈련 시킨다.\n",
    "wine_y_pred = svm_model.predict(wine_X_test) # 훈련된 분류기에 X_test라는 테스트 데이터셋을 넣어 얼마나 예측했는지 확인한다.\n",
    "wine_y_pred"
   ]
  },
  {
   "cell_type": "markdown",
   "id": "S33uQI5jUDyf",
   "metadata": {
    "id": "S33uQI5jUDyf"
   },
   "source": [
    "##### Evaluation"
   ]
  },
  {
   "cell_type": "code",
   "execution_count": 573,
   "id": "ctyPpupIUDyf",
   "metadata": {
    "colab": {
     "base_uri": "https://localhost:8080/"
    },
    "executionInfo": {
     "elapsed": 12,
     "status": "ok",
     "timestamp": 1680404712451,
     "user": {
      "displayName": "June Ko",
      "userId": "10187011845533435771"
     },
     "user_tz": -540
    },
    "id": "ctyPpupIUDyf",
    "outputId": "c68771ba-8793-41c2-c644-019ec4fa3703"
   },
   "outputs": [
    {
     "name": "stdout",
     "output_type": "stream",
     "text": [
      "              precision    recall  f1-score   support\n",
      "\n",
      "           0       0.86      0.86      0.86         7\n",
      "           1       0.58      0.88      0.70        17\n",
      "           2       0.33      0.08      0.13        12\n",
      "\n",
      "    accuracy                           0.61        36\n",
      "   macro avg       0.59      0.61      0.56        36\n",
      "weighted avg       0.55      0.61      0.54        36\n",
      "\n"
     ]
    }
   ],
   "source": [
    "print(classification_report(wine_y_test, wine_y_pred)) # 결과를 지표로 확인하기 위해 classification_report를 활용해 y_test, y_pred 값을 넣어 확인한다."
   ]
  },
  {
   "cell_type": "code",
   "execution_count": 574,
   "id": "A8f6pnk4UDyf",
   "metadata": {
    "colab": {
     "base_uri": "https://localhost:8080/"
    },
    "executionInfo": {
     "elapsed": 11,
     "status": "ok",
     "timestamp": 1680404712451,
     "user": {
      "displayName": "June Ko",
      "userId": "10187011845533435771"
     },
     "user_tz": -540
    },
    "id": "A8f6pnk4UDyf",
    "outputId": "4a7cfd75-d478-4b3a-82d4-182221866807"
   },
   "outputs": [
    {
     "name": "stdout",
     "output_type": "stream",
     "text": [
      "confusion matrix\n",
      "[[ 6  0  1]\n",
      " [ 1 15  1]\n",
      " [ 0 11  1]]\n",
      "----------------------------------------------------------------------------------------------------\n",
      "accuracy: 0.61, precision: 0.61, recall: 0.61, f1:0.61\n"
     ]
    }
   ],
   "source": [
    "# 실제 정답 y_test과 예측값 y_pred 비교하여 평가 \n",
    "from sklearn.metrics import confusion_matrix, accuracy_score, recall_score, precision_score, f1_score\n",
    "\n",
    "Wine_SVM = get_eval2(wine_y_test, wine_y_pred)\n",
    "print('--'*50)\n",
    "print(Wine_SVM)"
   ]
  },
  {
   "cell_type": "markdown",
   "id": "HvdGkibfUDyf",
   "metadata": {
    "id": "HvdGkibfUDyf"
   },
   "source": [
    "#### 2-d. Stochasric Gradient Descent Classifier"
   ]
  },
  {
   "cell_type": "code",
   "execution_count": 575,
   "id": "chBzO77FUDyf",
   "metadata": {
    "colab": {
     "base_uri": "https://localhost:8080/"
    },
    "executionInfo": {
     "elapsed": 9,
     "status": "ok",
     "timestamp": 1680404712451,
     "user": {
      "displayName": "June Ko",
      "userId": "10187011845533435771"
     },
     "user_tz": -540
    },
    "id": "chBzO77FUDyf",
    "outputId": "7643dc76-63bd-4aa7-eca3-1058d0d7759d"
   },
   "outputs": [
    {
     "data": {
      "text/plain": [
       "array([1, 1, 1, 1, 1, 1, 1, 0, 1, 1, 0, 1, 1, 1, 1, 1, 1, 1, 0, 0, 0, 1,\n",
       "       1, 1, 0, 1, 1, 1, 1, 1, 1, 0, 1, 1, 1, 1])"
      ]
     },
     "execution_count": 575,
     "metadata": {},
     "output_type": "execute_result"
    }
   ],
   "source": [
    "sgd_model = SGDClassifier() # 모델 객체 만들기\n",
    "sgd_model.fit(wine_X_train, wine_y_train) # 분류기에 x와 y의 훈련 데이터를 넣어 훈련 시킨다.\n",
    "wine_y_pred = sgd_model.predict(wine_X_test) # 훈련된 분류기에 X_test라는 테스트 데이터셋을 넣어 얼마나 예측했는지 확인한다.\n",
    "wine_y_pred"
   ]
  },
  {
   "cell_type": "markdown",
   "id": "kQD_oy6bUDyg",
   "metadata": {
    "id": "kQD_oy6bUDyg"
   },
   "source": [
    "##### Evaluation"
   ]
  },
  {
   "cell_type": "code",
   "execution_count": 576,
   "id": "jLGeZvKxUDyg",
   "metadata": {
    "colab": {
     "base_uri": "https://localhost:8080/"
    },
    "executionInfo": {
     "elapsed": 7,
     "status": "ok",
     "timestamp": 1680404712451,
     "user": {
      "displayName": "June Ko",
      "userId": "10187011845533435771"
     },
     "user_tz": -540
    },
    "id": "jLGeZvKxUDyg",
    "outputId": "0fca1eab-ad32-40a6-b27f-b30d8626bc4d"
   },
   "outputs": [
    {
     "name": "stdout",
     "output_type": "stream",
     "text": [
      "              precision    recall  f1-score   support\n",
      "\n",
      "           0       0.86      0.86      0.86         7\n",
      "           1       0.55      0.94      0.70        17\n",
      "           2       0.00      0.00      0.00        12\n",
      "\n",
      "    accuracy                           0.61        36\n",
      "   macro avg       0.47      0.60      0.52        36\n",
      "weighted avg       0.43      0.61      0.50        36\n",
      "\n"
     ]
    },
    {
     "name": "stderr",
     "output_type": "stream",
     "text": [
      "/usr/local/lib/python3.9/dist-packages/sklearn/metrics/_classification.py:1344: UndefinedMetricWarning: Precision and F-score are ill-defined and being set to 0.0 in labels with no predicted samples. Use `zero_division` parameter to control this behavior.\n",
      "  _warn_prf(average, modifier, msg_start, len(result))\n",
      "/usr/local/lib/python3.9/dist-packages/sklearn/metrics/_classification.py:1344: UndefinedMetricWarning: Precision and F-score are ill-defined and being set to 0.0 in labels with no predicted samples. Use `zero_division` parameter to control this behavior.\n",
      "  _warn_prf(average, modifier, msg_start, len(result))\n",
      "/usr/local/lib/python3.9/dist-packages/sklearn/metrics/_classification.py:1344: UndefinedMetricWarning: Precision and F-score are ill-defined and being set to 0.0 in labels with no predicted samples. Use `zero_division` parameter to control this behavior.\n",
      "  _warn_prf(average, modifier, msg_start, len(result))\n"
     ]
    }
   ],
   "source": [
    "print(classification_report(wine_y_test, wine_y_pred)) # 결과를 지표로 확인하기 위해 classification_report를 활용해 y_test, y_pred 값을 넣어 확인한다."
   ]
  },
  {
   "cell_type": "code",
   "execution_count": 577,
   "id": "26tD4jhnUDyg",
   "metadata": {
    "colab": {
     "base_uri": "https://localhost:8080/"
    },
    "executionInfo": {
     "elapsed": 6,
     "status": "ok",
     "timestamp": 1680404712451,
     "user": {
      "displayName": "June Ko",
      "userId": "10187011845533435771"
     },
     "user_tz": -540
    },
    "id": "26tD4jhnUDyg",
    "outputId": "736bab29-2d24-4258-ccda-03ce332cd091"
   },
   "outputs": [
    {
     "name": "stdout",
     "output_type": "stream",
     "text": [
      "confusion matrix\n",
      "[[ 6  1  0]\n",
      " [ 1 16  0]\n",
      " [ 0 12  0]]\n",
      "----------------------------------------------------------------------------------------------------\n",
      "accuracy: 0.61, precision: 0.61, recall: 0.61, f1:0.61\n"
     ]
    }
   ],
   "source": [
    "# 실제 정답 y_test과 예측값 y_pred 비교하여 평가 \n",
    "from sklearn.metrics import confusion_matrix, accuracy_score, recall_score, precision_score, f1_score\n",
    "\n",
    "Wine_SGD = get_eval2(wine_y_test, wine_y_pred)\n",
    "print('--'*50)\n",
    "print(Wine_SGD)"
   ]
  },
  {
   "cell_type": "markdown",
   "id": "zalqDeWRUDyg",
   "metadata": {
    "id": "zalqDeWRUDyg"
   },
   "source": [
    "#### 2-e. Logistic Regression"
   ]
  },
  {
   "cell_type": "code",
   "execution_count": 578,
   "id": "zLPqOL37UDyg",
   "metadata": {
    "colab": {
     "base_uri": "https://localhost:8080/"
    },
    "executionInfo": {
     "elapsed": 627,
     "status": "ok",
     "timestamp": 1680404713074,
     "user": {
      "displayName": "June Ko",
      "userId": "10187011845533435771"
     },
     "user_tz": -540
    },
    "id": "zLPqOL37UDyg",
    "outputId": "5a5723bb-41ab-4b69-e51e-24b2a3108e5f"
   },
   "outputs": [
    {
     "name": "stderr",
     "output_type": "stream",
     "text": [
      "/usr/local/lib/python3.9/dist-packages/sklearn/linear_model/_logistic.py:458: ConvergenceWarning: lbfgs failed to converge (status=1):\n",
      "STOP: TOTAL NO. of ITERATIONS REACHED LIMIT.\n",
      "\n",
      "Increase the number of iterations (max_iter) or scale the data as shown in:\n",
      "    https://scikit-learn.org/stable/modules/preprocessing.html\n",
      "Please also refer to the documentation for alternative solver options:\n",
      "    https://scikit-learn.org/stable/modules/linear_model.html#logistic-regression\n",
      "  n_iter_i = _check_optimize_result(\n"
     ]
    },
    {
     "data": {
      "text/plain": [
       "array([2, 0, 2, 2, 1, 2, 1, 0, 1, 2, 0, 1, 2, 1, 1, 1, 1, 2, 0, 0, 1, 1,\n",
       "       1, 1, 0, 2, 1, 2, 2, 2, 1, 1, 2, 1, 1, 1])"
      ]
     },
     "execution_count": 578,
     "metadata": {},
     "output_type": "execute_result"
    }
   ],
   "source": [
    "logistic_model = LogisticRegression() # 모델 객체 만들기\n",
    "logistic_model.fit(wine_X_train, wine_y_train) # 분류기에 x와 y의 훈련 데이터를 넣어 훈련 시킨다.\n",
    "wine_y_pred = logistic_model.predict(wine_X_test) # 훈련된 분류기에 X_test라는 테스트 데이터셋을 넣어 얼마나 예측했는지 확인한다.\n",
    "wine_y_pred"
   ]
  },
  {
   "cell_type": "markdown",
   "id": "gv8MTwMpUDyh",
   "metadata": {
    "id": "gv8MTwMpUDyh"
   },
   "source": [
    "##### Evaluation"
   ]
  },
  {
   "cell_type": "code",
   "execution_count": 579,
   "id": "55zq2vHIUDyh",
   "metadata": {
    "colab": {
     "base_uri": "https://localhost:8080/"
    },
    "executionInfo": {
     "elapsed": 34,
     "status": "ok",
     "timestamp": 1680404713075,
     "user": {
      "displayName": "June Ko",
      "userId": "10187011845533435771"
     },
     "user_tz": -540
    },
    "id": "55zq2vHIUDyh",
    "outputId": "2a7bdd39-f61a-4c8b-9d80-85d884dcbcfb"
   },
   "outputs": [
    {
     "name": "stdout",
     "output_type": "stream",
     "text": [
      "              precision    recall  f1-score   support\n",
      "\n",
      "           0       1.00      0.86      0.92         7\n",
      "           1       0.94      1.00      0.97        17\n",
      "           2       1.00      1.00      1.00        12\n",
      "\n",
      "    accuracy                           0.97        36\n",
      "   macro avg       0.98      0.95      0.96        36\n",
      "weighted avg       0.97      0.97      0.97        36\n",
      "\n"
     ]
    }
   ],
   "source": [
    "print(classification_report(wine_y_test, wine_y_pred)) # 결과를 지표로 확인하기 위해 classification_report를 활용해 y_test, y_pred 값을 넣어 확인한다."
   ]
  },
  {
   "cell_type": "code",
   "execution_count": 580,
   "id": "fLsLFGAGUDyh",
   "metadata": {
    "colab": {
     "base_uri": "https://localhost:8080/"
    },
    "executionInfo": {
     "elapsed": 30,
     "status": "ok",
     "timestamp": 1680404713075,
     "user": {
      "displayName": "June Ko",
      "userId": "10187011845533435771"
     },
     "user_tz": -540
    },
    "id": "fLsLFGAGUDyh",
    "outputId": "92c1667b-b045-43b2-eca5-614b22aa30c6"
   },
   "outputs": [
    {
     "name": "stdout",
     "output_type": "stream",
     "text": [
      "confusion matrix\n",
      "[[ 6  1  0]\n",
      " [ 0 17  0]\n",
      " [ 0  0 12]]\n",
      "----------------------------------------------------------------------------------------------------\n",
      "accuracy: 0.97, precision: 0.97, recall: 0.97, f1:0.97\n"
     ]
    }
   ],
   "source": [
    "# 실제 정답 y_test과 예측값 y_pred 비교하여 평가 \n",
    "from sklearn.metrics import confusion_matrix, accuracy_score, recall_score, precision_score, f1_score\n",
    "\n",
    "Wine_LR = get_eval2(wine_y_test, wine_y_pred)\n",
    "print('--'*50)\n",
    "print(Wine_LR)"
   ]
  },
  {
   "cell_type": "markdown",
   "id": "LHCYqfNaTAC8",
   "metadata": {
    "id": "LHCYqfNaTAC8"
   },
   "source": [
    "## Wine  Evaluation Summary\n",
    "- 각 클래스의 데이터 수가 불균형이어서 accuracy로 평가하는 것은 적당치 않고 조화평균인 f1으로 평가하는 것이 낫겠음.\n",
    "- f1 기준으로 RandomForest 모델이 가장 적합한 모델임. f1이외 다른 지표도 random forest가 가장 좋음.\n",
    "- RandomForest의 classification_report과 confusion_matrix를 보면 실제와 예측이 일치함. \n",
    "\n"
   ]
  },
  {
   "cell_type": "code",
   "execution_count": 581,
   "id": "zv0QzHzXTMcx",
   "metadata": {
    "colab": {
     "base_uri": "https://localhost:8080/"
    },
    "executionInfo": {
     "elapsed": 27,
     "status": "ok",
     "timestamp": 1680404713075,
     "user": {
      "displayName": "June Ko",
      "userId": "10187011845533435771"
     },
     "user_tz": -540
    },
    "id": "zv0QzHzXTMcx",
    "outputId": "2009cf8b-2409-46fc-d2c9-b92b6492baef"
   },
   "outputs": [
    {
     "name": "stdout",
     "output_type": "stream",
     "text": [
      "Decision Tree Classifire :  accuracy: 0.94, precision: 0.94, recall: 0.94, f1:0.94\n",
      "\u001b[91mRandom Forest Classifier :  accuracy: 1.00, precision: 1.00, recall: 1.00, f1:1.00\u001b[0m\n",
      "Support Vector Machine :  accuracy: 0.61, precision: 0.61, recall: 0.61, f1:0.61\n",
      "Stochasric Gradient Descent Classifier :  accuracy: 0.61, precision: 0.61, recall: 0.61, f1:0.61\n",
      "Logistic Regression :  accuracy: 0.97, precision: 0.97, recall: 0.97, f1:0.97\n"
     ]
    }
   ],
   "source": [
    "print('Decision Tree Classifire : ',Wine_DT)\n",
    "print('\\033[91m'+'Random Forest Classifier : ',Wine_RF+'\\033[0m')\n",
    "print('Support Vector Machine : ',Wine_SVM)\n",
    "print('Stochasric Gradient Descent Classifier : ',Wine_SGD)\n",
    "print('Logistic Regression : ',Wine_LR)"
   ]
  },
  {
   "cell_type": "markdown",
   "id": "VXcyrM_dbIqn",
   "metadata": {
    "id": "VXcyrM_dbIqn"
   },
   "source": [
    "##3 Breast_cancer\n",
    "- Features are computed from a digitized image of a fine needle\n",
    "aspirate (FNA) of a breast mass.  They describe\n",
    "characteristics of the cell nuclei present in the image.  \n",
    "    - class_0 : Malignant\n",
    "    - class_1 : Benign"
   ]
  },
  {
   "cell_type": "markdown",
   "id": "Yop1WIWobIqo",
   "metadata": {
    "id": "Yop1WIWobIqo"
   },
   "source": [
    "###3-1. Load Dataset"
   ]
  },
  {
   "cell_type": "markdown",
   "id": "RLOJoqs0eLT4",
   "metadata": {
    "id": "RLOJoqs0eLT4"
   },
   "source": []
  },
  {
   "cell_type": "code",
   "execution_count": 582,
   "id": "Jyl3NRCUbIqo",
   "metadata": {
    "colab": {
     "base_uri": "https://localhost:8080/"
    },
    "executionInfo": {
     "elapsed": 25,
     "status": "ok",
     "timestamp": 1680404713075,
     "user": {
      "displayName": "June Ko",
      "userId": "10187011845533435771"
     },
     "user_tz": -540
    },
    "id": "Jyl3NRCUbIqo",
    "outputId": "e8f70c09-d573-4c11-c594-e6fc05553a44"
   },
   "outputs": [
    {
     "name": "stdout",
     "output_type": "stream",
     "text": [
      ".. _breast_cancer_dataset:\n",
      "\n",
      "Breast cancer wisconsin (diagnostic) dataset\n",
      "--------------------------------------------\n",
      "\n",
      "**Data Set Characteristics:**\n",
      "\n",
      "    :Number of Instances: 569\n",
      "\n",
      "    :Number of Attributes: 30 numeric, predictive attributes and the class\n",
      "\n",
      "    :Attribute Information:\n",
      "        - radius (mean of distances from center to points on the perimeter)\n",
      "        - texture (standard deviation of gray-scale values)\n",
      "        - perimeter\n",
      "        - area\n",
      "        - smoothness (local variation in radius lengths)\n",
      "        - compactness (perimeter^2 / area - 1.0)\n",
      "        - concavity (severity of concave portions of the contour)\n",
      "        - concave points (number of concave portions of the contour)\n",
      "        - symmetry\n",
      "        - fractal dimension (\"coastline approximation\" - 1)\n",
      "\n",
      "        The mean, standard error, and \"worst\" or largest (mean of the three\n",
      "        worst/largest values) of these features were computed for each image,\n",
      "        resulting in 30 features.  For instance, field 0 is Mean Radius, field\n",
      "        10 is Radius SE, field 20 is Worst Radius.\n",
      "\n",
      "        - class:\n",
      "                - WDBC-Malignant\n",
      "                - WDBC-Benign\n",
      "\n",
      "    :Summary Statistics:\n",
      "\n",
      "    ===================================== ====== ======\n",
      "                                           Min    Max\n",
      "    ===================================== ====== ======\n",
      "    radius (mean):                        6.981  28.11\n",
      "    texture (mean):                       9.71   39.28\n",
      "    perimeter (mean):                     43.79  188.5\n",
      "    area (mean):                          143.5  2501.0\n",
      "    smoothness (mean):                    0.053  0.163\n",
      "    compactness (mean):                   0.019  0.345\n",
      "    concavity (mean):                     0.0    0.427\n",
      "    concave points (mean):                0.0    0.201\n",
      "    symmetry (mean):                      0.106  0.304\n",
      "    fractal dimension (mean):             0.05   0.097\n",
      "    radius (standard error):              0.112  2.873\n",
      "    texture (standard error):             0.36   4.885\n",
      "    perimeter (standard error):           0.757  21.98\n",
      "    area (standard error):                6.802  542.2\n",
      "    smoothness (standard error):          0.002  0.031\n",
      "    compactness (standard error):         0.002  0.135\n",
      "    concavity (standard error):           0.0    0.396\n",
      "    concave points (standard error):      0.0    0.053\n",
      "    symmetry (standard error):            0.008  0.079\n",
      "    fractal dimension (standard error):   0.001  0.03\n",
      "    radius (worst):                       7.93   36.04\n",
      "    texture (worst):                      12.02  49.54\n",
      "    perimeter (worst):                    50.41  251.2\n",
      "    area (worst):                         185.2  4254.0\n",
      "    smoothness (worst):                   0.071  0.223\n",
      "    compactness (worst):                  0.027  1.058\n",
      "    concavity (worst):                    0.0    1.252\n",
      "    concave points (worst):               0.0    0.291\n",
      "    symmetry (worst):                     0.156  0.664\n",
      "    fractal dimension (worst):            0.055  0.208\n",
      "    ===================================== ====== ======\n",
      "\n",
      "    :Missing Attribute Values: None\n",
      "\n",
      "    :Class Distribution: 212 - Malignant, 357 - Benign\n",
      "\n",
      "    :Creator:  Dr. William H. Wolberg, W. Nick Street, Olvi L. Mangasarian\n",
      "\n",
      "    :Donor: Nick Street\n",
      "\n",
      "    :Date: November, 1995\n",
      "\n",
      "This is a copy of UCI ML Breast Cancer Wisconsin (Diagnostic) datasets.\n",
      "https://goo.gl/U2Uwz2\n",
      "\n",
      "Features are computed from a digitized image of a fine needle\n",
      "aspirate (FNA) of a breast mass.  They describe\n",
      "characteristics of the cell nuclei present in the image.\n",
      "\n",
      "Separating plane described above was obtained using\n",
      "Multisurface Method-Tree (MSM-T) [K. P. Bennett, \"Decision Tree\n",
      "Construction Via Linear Programming.\" Proceedings of the 4th\n",
      "Midwest Artificial Intelligence and Cognitive Science Society,\n",
      "pp. 97-101, 1992], a classification method which uses linear\n",
      "programming to construct a decision tree.  Relevant features\n",
      "were selected using an exhaustive search in the space of 1-4\n",
      "features and 1-3 separating planes.\n",
      "\n",
      "The actual linear program used to obtain the separating plane\n",
      "in the 3-dimensional space is that described in:\n",
      "[K. P. Bennett and O. L. Mangasarian: \"Robust Linear\n",
      "Programming Discrimination of Two Linearly Inseparable Sets\",\n",
      "Optimization Methods and Software 1, 1992, 23-34].\n",
      "\n",
      "This database is also available through the UW CS ftp server:\n",
      "\n",
      "ftp ftp.cs.wisc.edu\n",
      "cd math-prog/cpo-dataset/machine-learn/WDBC/\n",
      "\n",
      ".. topic:: References\n",
      "\n",
      "   - W.N. Street, W.H. Wolberg and O.L. Mangasarian. Nuclear feature extraction \n",
      "     for breast tumor diagnosis. IS&T/SPIE 1993 International Symposium on \n",
      "     Electronic Imaging: Science and Technology, volume 1905, pages 861-870,\n",
      "     San Jose, CA, 1993.\n",
      "   - O.L. Mangasarian, W.N. Street and W.H. Wolberg. Breast cancer diagnosis and \n",
      "     prognosis via linear programming. Operations Research, 43(4), pages 570-577, \n",
      "     July-August 1995.\n",
      "   - W.H. Wolberg, W.N. Street, and O.L. Mangasarian. Machine learning techniques\n",
      "     to diagnose breast cancer from fine-needle aspirates. Cancer Letters 77 (1994) \n",
      "     163-171.\n"
     ]
    }
   ],
   "source": [
    "from sklearn.datasets import load_breast_cancer\n",
    "breast_cancer = load_breast_cancer() # 데이터 전체를 불러온다.\n",
    "print(breast_cancer.DESCR)"
   ]
  },
  {
   "cell_type": "markdown",
   "id": "l7dZGK2WbIqo",
   "metadata": {
    "id": "l7dZGK2WbIqo"
   },
   "source": [
    "###3-2. EDA\n",
    "- Feature Data 지정하기\n",
    "- Label Data 지정하기\n",
    "- Target Names 출력해 보기\n",
    "- 데이터 Describe 해 보기"
   ]
  },
  {
   "cell_type": "code",
   "execution_count": 583,
   "id": "481mbQ8cbIqo",
   "metadata": {
    "colab": {
     "base_uri": "https://localhost:8080/"
    },
    "executionInfo": {
     "elapsed": 23,
     "status": "ok",
     "timestamp": 1680404713076,
     "user": {
      "displayName": "June Ko",
      "userId": "10187011845533435771"
     },
     "user_tz": -540
    },
    "id": "481mbQ8cbIqo",
    "outputId": "7d84baf5-108a-4fc7-ebd0-1888b0f2166f"
   },
   "outputs": [
    {
     "name": "stdout",
     "output_type": "stream",
     "text": [
      "(569, 30)\n",
      "(569,)\n"
     ]
    }
   ],
   "source": [
    "breast_cancer_data = breast_cancer.data #데이터의 data컬럼을 분류해 _data 변수에 담는다.\n",
    "breast_cancer_label = breast_cancer.target # 데이터의 target컬럼을 분류해 _label 변수에 담는다.\n",
    "breast_cancer_df = pd.DataFrame(data=breast_cancer_data, columns=breast_cancer.feature_names)\n",
    "print(breast_cancer_data.shape)\n",
    "print(breast_cancer_label.shape)"
   ]
  },
  {
   "cell_type": "code",
   "execution_count": 584,
   "id": "sBuu6Au_bIqp",
   "metadata": {
    "colab": {
     "base_uri": "https://localhost:8080/"
    },
    "executionInfo": {
     "elapsed": 20,
     "status": "ok",
     "timestamp": 1680404713076,
     "user": {
      "displayName": "June Ko",
      "userId": "10187011845533435771"
     },
     "user_tz": -540
    },
    "id": "sBuu6Au_bIqp",
    "outputId": "a5b6d7e3-31d7-49f1-a348-8f5a9e91640c"
   },
   "outputs": [
    {
     "name": "stdout",
     "output_type": "stream",
     "text": [
      "['mean radius' 'mean texture' 'mean perimeter' 'mean area'\n",
      " 'mean smoothness' 'mean compactness' 'mean concavity'\n",
      " 'mean concave points' 'mean symmetry' 'mean fractal dimension'\n",
      " 'radius error' 'texture error' 'perimeter error' 'area error'\n",
      " 'smoothness error' 'compactness error' 'concavity error'\n",
      " 'concave points error' 'symmetry error' 'fractal dimension error'\n",
      " 'worst radius' 'worst texture' 'worst perimeter' 'worst area'\n",
      " 'worst smoothness' 'worst compactness' 'worst concavity'\n",
      " 'worst concave points' 'worst symmetry' 'worst fractal dimension']\n",
      "['malignant' 'benign']\n"
     ]
    },
    {
     "data": {
      "text/plain": [
       "Counter({0: 212, 1: 357})"
      ]
     },
     "execution_count": 584,
     "metadata": {},
     "output_type": "execute_result"
    }
   ],
   "source": [
    "print(breast_cancer.feature_names) #피쳐 왜 이렇게 많음. Decidion Tree는 적당하지 않겠음.\n",
    "print(breast_cancer.target_names) #target 값\n",
    "Counter(breast_cancer_label) #클래스 당 데이터 갯수 확인. class_1이 많음. 고르지 않아 평가 지표 accuracy는 피해야 함. "
   ]
  },
  {
   "cell_type": "code",
   "execution_count": 585,
   "id": "xgt1EE-5bIqp",
   "metadata": {
    "colab": {
     "base_uri": "https://localhost:8080/",
     "height": 428
    },
    "executionInfo": {
     "elapsed": 20,
     "status": "ok",
     "timestamp": 1680404713077,
     "user": {
      "displayName": "June Ko",
      "userId": "10187011845533435771"
     },
     "user_tz": -540
    },
    "id": "xgt1EE-5bIqp",
    "outputId": "6d42c629-db92-423c-a55f-5eb1d44a8812"
   },
   "outputs": [
    {
     "data": {
      "text/html": [
       "\n",
       "  <div id=\"df-174177a8-d1f2-429f-b3f1-3b6c6af2c7eb\">\n",
       "    <div class=\"colab-df-container\">\n",
       "      <div>\n",
       "<style scoped>\n",
       "    .dataframe tbody tr th:only-of-type {\n",
       "        vertical-align: middle;\n",
       "    }\n",
       "\n",
       "    .dataframe tbody tr th {\n",
       "        vertical-align: top;\n",
       "    }\n",
       "\n",
       "    .dataframe thead th {\n",
       "        text-align: right;\n",
       "    }\n",
       "</style>\n",
       "<table border=\"1\" class=\"dataframe\">\n",
       "  <thead>\n",
       "    <tr style=\"text-align: right;\">\n",
       "      <th></th>\n",
       "      <th>mean radius</th>\n",
       "      <th>mean texture</th>\n",
       "      <th>mean perimeter</th>\n",
       "      <th>mean area</th>\n",
       "      <th>mean smoothness</th>\n",
       "      <th>mean compactness</th>\n",
       "      <th>mean concavity</th>\n",
       "      <th>mean concave points</th>\n",
       "      <th>mean symmetry</th>\n",
       "      <th>mean fractal dimension</th>\n",
       "      <th>...</th>\n",
       "      <th>worst radius</th>\n",
       "      <th>worst texture</th>\n",
       "      <th>worst perimeter</th>\n",
       "      <th>worst area</th>\n",
       "      <th>worst smoothness</th>\n",
       "      <th>worst compactness</th>\n",
       "      <th>worst concavity</th>\n",
       "      <th>worst concave points</th>\n",
       "      <th>worst symmetry</th>\n",
       "      <th>worst fractal dimension</th>\n",
       "    </tr>\n",
       "  </thead>\n",
       "  <tbody>\n",
       "    <tr>\n",
       "      <th>count</th>\n",
       "      <td>569.000000</td>\n",
       "      <td>569.000000</td>\n",
       "      <td>569.000000</td>\n",
       "      <td>569.000000</td>\n",
       "      <td>569.000000</td>\n",
       "      <td>569.000000</td>\n",
       "      <td>569.000000</td>\n",
       "      <td>569.000000</td>\n",
       "      <td>569.000000</td>\n",
       "      <td>569.000000</td>\n",
       "      <td>...</td>\n",
       "      <td>569.000000</td>\n",
       "      <td>569.000000</td>\n",
       "      <td>569.000000</td>\n",
       "      <td>569.000000</td>\n",
       "      <td>569.000000</td>\n",
       "      <td>569.000000</td>\n",
       "      <td>569.000000</td>\n",
       "      <td>569.000000</td>\n",
       "      <td>569.000000</td>\n",
       "      <td>569.000000</td>\n",
       "    </tr>\n",
       "    <tr>\n",
       "      <th>mean</th>\n",
       "      <td>14.127292</td>\n",
       "      <td>19.289649</td>\n",
       "      <td>91.969033</td>\n",
       "      <td>654.889104</td>\n",
       "      <td>0.096360</td>\n",
       "      <td>0.104341</td>\n",
       "      <td>0.088799</td>\n",
       "      <td>0.048919</td>\n",
       "      <td>0.181162</td>\n",
       "      <td>0.062798</td>\n",
       "      <td>...</td>\n",
       "      <td>16.269190</td>\n",
       "      <td>25.677223</td>\n",
       "      <td>107.261213</td>\n",
       "      <td>880.583128</td>\n",
       "      <td>0.132369</td>\n",
       "      <td>0.254265</td>\n",
       "      <td>0.272188</td>\n",
       "      <td>0.114606</td>\n",
       "      <td>0.290076</td>\n",
       "      <td>0.083946</td>\n",
       "    </tr>\n",
       "    <tr>\n",
       "      <th>std</th>\n",
       "      <td>3.524049</td>\n",
       "      <td>4.301036</td>\n",
       "      <td>24.298981</td>\n",
       "      <td>351.914129</td>\n",
       "      <td>0.014064</td>\n",
       "      <td>0.052813</td>\n",
       "      <td>0.079720</td>\n",
       "      <td>0.038803</td>\n",
       "      <td>0.027414</td>\n",
       "      <td>0.007060</td>\n",
       "      <td>...</td>\n",
       "      <td>4.833242</td>\n",
       "      <td>6.146258</td>\n",
       "      <td>33.602542</td>\n",
       "      <td>569.356993</td>\n",
       "      <td>0.022832</td>\n",
       "      <td>0.157336</td>\n",
       "      <td>0.208624</td>\n",
       "      <td>0.065732</td>\n",
       "      <td>0.061867</td>\n",
       "      <td>0.018061</td>\n",
       "    </tr>\n",
       "    <tr>\n",
       "      <th>min</th>\n",
       "      <td>6.981000</td>\n",
       "      <td>9.710000</td>\n",
       "      <td>43.790000</td>\n",
       "      <td>143.500000</td>\n",
       "      <td>0.052630</td>\n",
       "      <td>0.019380</td>\n",
       "      <td>0.000000</td>\n",
       "      <td>0.000000</td>\n",
       "      <td>0.106000</td>\n",
       "      <td>0.049960</td>\n",
       "      <td>...</td>\n",
       "      <td>7.930000</td>\n",
       "      <td>12.020000</td>\n",
       "      <td>50.410000</td>\n",
       "      <td>185.200000</td>\n",
       "      <td>0.071170</td>\n",
       "      <td>0.027290</td>\n",
       "      <td>0.000000</td>\n",
       "      <td>0.000000</td>\n",
       "      <td>0.156500</td>\n",
       "      <td>0.055040</td>\n",
       "    </tr>\n",
       "    <tr>\n",
       "      <th>25%</th>\n",
       "      <td>11.700000</td>\n",
       "      <td>16.170000</td>\n",
       "      <td>75.170000</td>\n",
       "      <td>420.300000</td>\n",
       "      <td>0.086370</td>\n",
       "      <td>0.064920</td>\n",
       "      <td>0.029560</td>\n",
       "      <td>0.020310</td>\n",
       "      <td>0.161900</td>\n",
       "      <td>0.057700</td>\n",
       "      <td>...</td>\n",
       "      <td>13.010000</td>\n",
       "      <td>21.080000</td>\n",
       "      <td>84.110000</td>\n",
       "      <td>515.300000</td>\n",
       "      <td>0.116600</td>\n",
       "      <td>0.147200</td>\n",
       "      <td>0.114500</td>\n",
       "      <td>0.064930</td>\n",
       "      <td>0.250400</td>\n",
       "      <td>0.071460</td>\n",
       "    </tr>\n",
       "    <tr>\n",
       "      <th>50%</th>\n",
       "      <td>13.370000</td>\n",
       "      <td>18.840000</td>\n",
       "      <td>86.240000</td>\n",
       "      <td>551.100000</td>\n",
       "      <td>0.095870</td>\n",
       "      <td>0.092630</td>\n",
       "      <td>0.061540</td>\n",
       "      <td>0.033500</td>\n",
       "      <td>0.179200</td>\n",
       "      <td>0.061540</td>\n",
       "      <td>...</td>\n",
       "      <td>14.970000</td>\n",
       "      <td>25.410000</td>\n",
       "      <td>97.660000</td>\n",
       "      <td>686.500000</td>\n",
       "      <td>0.131300</td>\n",
       "      <td>0.211900</td>\n",
       "      <td>0.226700</td>\n",
       "      <td>0.099930</td>\n",
       "      <td>0.282200</td>\n",
       "      <td>0.080040</td>\n",
       "    </tr>\n",
       "    <tr>\n",
       "      <th>75%</th>\n",
       "      <td>15.780000</td>\n",
       "      <td>21.800000</td>\n",
       "      <td>104.100000</td>\n",
       "      <td>782.700000</td>\n",
       "      <td>0.105300</td>\n",
       "      <td>0.130400</td>\n",
       "      <td>0.130700</td>\n",
       "      <td>0.074000</td>\n",
       "      <td>0.195700</td>\n",
       "      <td>0.066120</td>\n",
       "      <td>...</td>\n",
       "      <td>18.790000</td>\n",
       "      <td>29.720000</td>\n",
       "      <td>125.400000</td>\n",
       "      <td>1084.000000</td>\n",
       "      <td>0.146000</td>\n",
       "      <td>0.339100</td>\n",
       "      <td>0.382900</td>\n",
       "      <td>0.161400</td>\n",
       "      <td>0.317900</td>\n",
       "      <td>0.092080</td>\n",
       "    </tr>\n",
       "    <tr>\n",
       "      <th>max</th>\n",
       "      <td>28.110000</td>\n",
       "      <td>39.280000</td>\n",
       "      <td>188.500000</td>\n",
       "      <td>2501.000000</td>\n",
       "      <td>0.163400</td>\n",
       "      <td>0.345400</td>\n",
       "      <td>0.426800</td>\n",
       "      <td>0.201200</td>\n",
       "      <td>0.304000</td>\n",
       "      <td>0.097440</td>\n",
       "      <td>...</td>\n",
       "      <td>36.040000</td>\n",
       "      <td>49.540000</td>\n",
       "      <td>251.200000</td>\n",
       "      <td>4254.000000</td>\n",
       "      <td>0.222600</td>\n",
       "      <td>1.058000</td>\n",
       "      <td>1.252000</td>\n",
       "      <td>0.291000</td>\n",
       "      <td>0.663800</td>\n",
       "      <td>0.207500</td>\n",
       "    </tr>\n",
       "  </tbody>\n",
       "</table>\n",
       "<p>8 rows × 30 columns</p>\n",
       "</div>\n",
       "      <button class=\"colab-df-convert\" onclick=\"convertToInteractive('df-174177a8-d1f2-429f-b3f1-3b6c6af2c7eb')\"\n",
       "              title=\"Convert this dataframe to an interactive table.\"\n",
       "              style=\"display:none;\">\n",
       "        \n",
       "  <svg xmlns=\"http://www.w3.org/2000/svg\" height=\"24px\"viewBox=\"0 0 24 24\"\n",
       "       width=\"24px\">\n",
       "    <path d=\"M0 0h24v24H0V0z\" fill=\"none\"/>\n",
       "    <path d=\"M18.56 5.44l.94 2.06.94-2.06 2.06-.94-2.06-.94-.94-2.06-.94 2.06-2.06.94zm-11 1L8.5 8.5l.94-2.06 2.06-.94-2.06-.94L8.5 2.5l-.94 2.06-2.06.94zm10 10l.94 2.06.94-2.06 2.06-.94-2.06-.94-.94-2.06-.94 2.06-2.06.94z\"/><path d=\"M17.41 7.96l-1.37-1.37c-.4-.4-.92-.59-1.43-.59-.52 0-1.04.2-1.43.59L10.3 9.45l-7.72 7.72c-.78.78-.78 2.05 0 2.83L4 21.41c.39.39.9.59 1.41.59.51 0 1.02-.2 1.41-.59l7.78-7.78 2.81-2.81c.8-.78.8-2.07 0-2.86zM5.41 20L4 18.59l7.72-7.72 1.47 1.35L5.41 20z\"/>\n",
       "  </svg>\n",
       "      </button>\n",
       "      \n",
       "  <style>\n",
       "    .colab-df-container {\n",
       "      display:flex;\n",
       "      flex-wrap:wrap;\n",
       "      gap: 12px;\n",
       "    }\n",
       "\n",
       "    .colab-df-convert {\n",
       "      background-color: #E8F0FE;\n",
       "      border: none;\n",
       "      border-radius: 50%;\n",
       "      cursor: pointer;\n",
       "      display: none;\n",
       "      fill: #1967D2;\n",
       "      height: 32px;\n",
       "      padding: 0 0 0 0;\n",
       "      width: 32px;\n",
       "    }\n",
       "\n",
       "    .colab-df-convert:hover {\n",
       "      background-color: #E2EBFA;\n",
       "      box-shadow: 0px 1px 2px rgba(60, 64, 67, 0.3), 0px 1px 3px 1px rgba(60, 64, 67, 0.15);\n",
       "      fill: #174EA6;\n",
       "    }\n",
       "\n",
       "    [theme=dark] .colab-df-convert {\n",
       "      background-color: #3B4455;\n",
       "      fill: #D2E3FC;\n",
       "    }\n",
       "\n",
       "    [theme=dark] .colab-df-convert:hover {\n",
       "      background-color: #434B5C;\n",
       "      box-shadow: 0px 1px 3px 1px rgba(0, 0, 0, 0.15);\n",
       "      filter: drop-shadow(0px 1px 2px rgba(0, 0, 0, 0.3));\n",
       "      fill: #FFFFFF;\n",
       "    }\n",
       "  </style>\n",
       "\n",
       "      <script>\n",
       "        const buttonEl =\n",
       "          document.querySelector('#df-174177a8-d1f2-429f-b3f1-3b6c6af2c7eb button.colab-df-convert');\n",
       "        buttonEl.style.display =\n",
       "          google.colab.kernel.accessAllowed ? 'block' : 'none';\n",
       "\n",
       "        async function convertToInteractive(key) {\n",
       "          const element = document.querySelector('#df-174177a8-d1f2-429f-b3f1-3b6c6af2c7eb');\n",
       "          const dataTable =\n",
       "            await google.colab.kernel.invokeFunction('convertToInteractive',\n",
       "                                                     [key], {});\n",
       "          if (!dataTable) return;\n",
       "\n",
       "          const docLinkHtml = 'Like what you see? Visit the ' +\n",
       "            '<a target=\"_blank\" href=https://colab.research.google.com/notebooks/data_table.ipynb>data table notebook</a>'\n",
       "            + ' to learn more about interactive tables.';\n",
       "          element.innerHTML = '';\n",
       "          dataTable['output_type'] = 'display_data';\n",
       "          await google.colab.output.renderOutput(dataTable, element);\n",
       "          const docLink = document.createElement('div');\n",
       "          docLink.innerHTML = docLinkHtml;\n",
       "          element.appendChild(docLink);\n",
       "        }\n",
       "      </script>\n",
       "    </div>\n",
       "  </div>\n",
       "  "
      ],
      "text/plain": [
       "       mean radius  mean texture  mean perimeter    mean area  \\\n",
       "count   569.000000    569.000000      569.000000   569.000000   \n",
       "mean     14.127292     19.289649       91.969033   654.889104   \n",
       "std       3.524049      4.301036       24.298981   351.914129   \n",
       "min       6.981000      9.710000       43.790000   143.500000   \n",
       "25%      11.700000     16.170000       75.170000   420.300000   \n",
       "50%      13.370000     18.840000       86.240000   551.100000   \n",
       "75%      15.780000     21.800000      104.100000   782.700000   \n",
       "max      28.110000     39.280000      188.500000  2501.000000   \n",
       "\n",
       "       mean smoothness  mean compactness  mean concavity  mean concave points  \\\n",
       "count       569.000000        569.000000      569.000000           569.000000   \n",
       "mean          0.096360          0.104341        0.088799             0.048919   \n",
       "std           0.014064          0.052813        0.079720             0.038803   \n",
       "min           0.052630          0.019380        0.000000             0.000000   \n",
       "25%           0.086370          0.064920        0.029560             0.020310   \n",
       "50%           0.095870          0.092630        0.061540             0.033500   \n",
       "75%           0.105300          0.130400        0.130700             0.074000   \n",
       "max           0.163400          0.345400        0.426800             0.201200   \n",
       "\n",
       "       mean symmetry  mean fractal dimension  ...  worst radius  \\\n",
       "count     569.000000              569.000000  ...    569.000000   \n",
       "mean        0.181162                0.062798  ...     16.269190   \n",
       "std         0.027414                0.007060  ...      4.833242   \n",
       "min         0.106000                0.049960  ...      7.930000   \n",
       "25%         0.161900                0.057700  ...     13.010000   \n",
       "50%         0.179200                0.061540  ...     14.970000   \n",
       "75%         0.195700                0.066120  ...     18.790000   \n",
       "max         0.304000                0.097440  ...     36.040000   \n",
       "\n",
       "       worst texture  worst perimeter   worst area  worst smoothness  \\\n",
       "count     569.000000       569.000000   569.000000        569.000000   \n",
       "mean       25.677223       107.261213   880.583128          0.132369   \n",
       "std         6.146258        33.602542   569.356993          0.022832   \n",
       "min        12.020000        50.410000   185.200000          0.071170   \n",
       "25%        21.080000        84.110000   515.300000          0.116600   \n",
       "50%        25.410000        97.660000   686.500000          0.131300   \n",
       "75%        29.720000       125.400000  1084.000000          0.146000   \n",
       "max        49.540000       251.200000  4254.000000          0.222600   \n",
       "\n",
       "       worst compactness  worst concavity  worst concave points  \\\n",
       "count         569.000000       569.000000            569.000000   \n",
       "mean            0.254265         0.272188              0.114606   \n",
       "std             0.157336         0.208624              0.065732   \n",
       "min             0.027290         0.000000              0.000000   \n",
       "25%             0.147200         0.114500              0.064930   \n",
       "50%             0.211900         0.226700              0.099930   \n",
       "75%             0.339100         0.382900              0.161400   \n",
       "max             1.058000         1.252000              0.291000   \n",
       "\n",
       "       worst symmetry  worst fractal dimension  \n",
       "count      569.000000               569.000000  \n",
       "mean         0.290076                 0.083946  \n",
       "std          0.061867                 0.018061  \n",
       "min          0.156500                 0.055040  \n",
       "25%          0.250400                 0.071460  \n",
       "50%          0.282200                 0.080040  \n",
       "75%          0.317900                 0.092080  \n",
       "max          0.663800                 0.207500  \n",
       "\n",
       "[8 rows x 30 columns]"
      ]
     },
     "execution_count": 585,
     "metadata": {},
     "output_type": "execute_result"
    }
   ],
   "source": [
    "breast_cancer_df.describe()"
   ]
  },
  {
   "cell_type": "markdown",
   "id": "eHmbACGqbIqp",
   "metadata": {
    "id": "eHmbACGqbIqp"
   },
   "source": [
    "###3-3. Split"
   ]
  },
  {
   "cell_type": "code",
   "execution_count": 586,
   "id": "ftr6eFlEbIqp",
   "metadata": {
    "colab": {
     "base_uri": "https://localhost:8080/"
    },
    "executionInfo": {
     "elapsed": 19,
     "status": "ok",
     "timestamp": 1680404713077,
     "user": {
      "displayName": "June Ko",
      "userId": "10187011845533435771"
     },
     "user_tz": -540
    },
    "id": "ftr6eFlEbIqp",
    "outputId": "88304fcf-98dc-411b-e436-952b246f5eb0"
   },
   "outputs": [
    {
     "data": {
      "text/plain": [
       "((455, 30), (455,), (114, 30), (114,))"
      ]
     },
     "execution_count": 586,
     "metadata": {},
     "output_type": "execute_result"
    }
   ],
   "source": [
    "cancer_X_train, cancer_X_test, cancer_y_train, cancer_y_test = train_test_split(breast_cancer_data, \n",
    "                                                    breast_cancer_label, \n",
    "                                                    test_size=0.2, \n",
    "                                                    random_state=7) \n",
    "cancer_X_train.shape, cancer_y_train.shape, cancer_X_test.shape, cancer_y_test.shape"
   ]
  },
  {
   "cell_type": "code",
   "execution_count": 587,
   "id": "sYRoCKcHbIqp",
   "metadata": {
    "colab": {
     "base_uri": "https://localhost:8080/"
    },
    "executionInfo": {
     "elapsed": 18,
     "status": "ok",
     "timestamp": 1680404713077,
     "user": {
      "displayName": "June Ko",
      "userId": "10187011845533435771"
     },
     "user_tz": -540
    },
    "id": "sYRoCKcHbIqp",
    "outputId": "d560f690-1403-44e8-cd87-097aceaf74a4"
   },
   "outputs": [
    {
     "data": {
      "text/plain": [
       "(array([0, 1, 1, 1, 1, 0, 1, 1, 1, 1, 1, 0, 1, 0, 1, 1, 1, 1, 1, 1, 1, 1,\n",
       "        1, 1, 1, 1, 1, 1, 0, 1, 0, 1, 1, 1, 0, 1, 1, 1, 1, 0, 1, 1, 1, 0,\n",
       "        0, 0, 1, 1, 1, 1, 0, 1, 1, 0, 1, 0, 0, 1, 1, 1, 1, 0, 1, 1, 0, 1,\n",
       "        1, 1, 1, 0, 1, 1, 1, 0, 1, 0, 1, 1, 0, 1, 0, 1, 1, 1, 1, 1, 1, 0,\n",
       "        0, 1, 1, 0, 0, 0, 1, 0, 1, 1, 1, 1, 0, 1, 1, 1, 1, 1, 1, 1, 0, 1,\n",
       "        1, 0, 0, 0, 1, 1, 0, 1, 1, 1, 0, 0, 1, 1, 0, 1, 0, 1, 0, 0, 1, 1,\n",
       "        1, 1, 0, 1, 1, 0, 0, 1, 1, 0, 1, 0, 1, 1, 0, 1, 0, 0, 0, 0, 1, 1,\n",
       "        1, 0, 1, 0, 0, 1, 1, 1, 1, 1, 1, 1, 0, 0, 1, 1, 0, 0, 1, 0, 1, 1,\n",
       "        0, 1, 1, 1, 1, 1, 0, 1, 1, 1, 0, 1, 1, 0, 1, 1, 0, 0, 0, 0, 0, 1,\n",
       "        1, 0, 1, 0, 1, 1, 1, 0, 1, 1, 1, 1, 1, 0, 1, 0, 0, 0, 0, 1, 1, 0,\n",
       "        1, 1, 0, 1, 0, 1, 1, 0, 1, 1, 0, 1, 1, 0, 1, 0, 0, 1, 1, 1, 0, 1,\n",
       "        1, 1, 0, 0, 1, 1, 0, 1, 1, 0, 0, 0, 1, 1, 0, 1, 0, 1, 1, 1, 1, 1,\n",
       "        0, 1, 1, 0, 1, 0, 0, 0, 1, 0, 0, 1, 0, 1, 0, 0, 1, 0, 1, 0, 1, 0,\n",
       "        1, 1, 0, 1, 1, 0, 0, 0, 1, 0, 0, 1, 1, 0, 1, 1, 1, 1, 1, 1, 0, 1,\n",
       "        1, 0, 1, 1, 1, 1, 1, 0, 1, 1, 0, 0, 1, 1, 1, 0, 0, 1, 0, 0, 1, 1,\n",
       "        1, 1, 0, 1, 1, 0, 0, 0, 1, 0, 0, 1, 0, 0, 0, 1, 0, 1, 1, 0, 0, 1,\n",
       "        0, 1, 1, 0, 0, 1, 1, 0, 0, 0, 0, 0, 0, 0, 1, 1, 1, 1, 0, 1, 0, 1,\n",
       "        1, 1, 1, 1, 1, 1, 0, 1, 0, 0, 1, 1, 0, 0, 0, 1, 0, 1, 0, 1, 1, 1,\n",
       "        0, 1, 1, 1, 1, 0, 1, 1, 0, 1, 1, 1, 1, 1, 1, 0, 1, 1, 1, 1, 1, 0,\n",
       "        0, 0, 1, 1, 1, 1, 1, 0, 1, 1, 1, 1, 1, 1, 1, 0, 0, 0, 0, 0, 0, 1,\n",
       "        0, 1, 0, 1, 0, 1, 0, 1, 1, 1, 1, 1, 1, 0, 1]),\n",
       " array([1, 0, 1, 1, 1, 0, 1, 1, 0, 1, 0, 0, 0, 1, 1, 1, 1, 1, 0, 0, 0, 0,\n",
       "        0, 1, 0, 0, 0, 1, 1, 0, 1, 1, 1, 0, 1, 0, 1, 1, 1, 1, 1, 1, 1, 1,\n",
       "        0, 1, 1, 1, 1, 0, 1, 0, 0, 1, 0, 0, 1, 1, 0, 1, 1, 0, 1, 1, 1, 0,\n",
       "        1, 0, 1, 1, 1, 1, 1, 0, 1, 1, 1, 1, 1, 1, 1, 1, 1, 0, 0, 0, 0, 0,\n",
       "        1, 1, 0, 1, 1, 0, 0, 1, 1, 0, 1, 1, 1, 1, 1, 0, 0, 1, 1, 1, 1, 1,\n",
       "        1, 1, 0, 1]))"
      ]
     },
     "execution_count": 587,
     "metadata": {},
     "output_type": "execute_result"
    }
   ],
   "source": [
    "cancer_y_train, cancer_y_test"
   ]
  },
  {
   "cell_type": "markdown",
   "id": "zWCGVUsJbIqp",
   "metadata": {
    "id": "zWCGVUsJbIqp"
   },
   "source": [
    "###3-4. Machine Learning & Evaluation"
   ]
  },
  {
   "cell_type": "markdown",
   "id": "5XSFtxrcbIqp",
   "metadata": {
    "id": "5XSFtxrcbIqp"
   },
   "source": [
    "#### 3-a. Decision Tree Classifier"
   ]
  },
  {
   "cell_type": "code",
   "execution_count": 588,
   "id": "4gb2u7RIbIqp",
   "metadata": {
    "colab": {
     "base_uri": "https://localhost:8080/"
    },
    "executionInfo": {
     "elapsed": 17,
     "status": "ok",
     "timestamp": 1680404713078,
     "user": {
      "displayName": "June Ko",
      "userId": "10187011845533435771"
     },
     "user_tz": -540
    },
    "id": "4gb2u7RIbIqp",
    "outputId": "a00cbb72-23c4-4eed-d226-b717f50bc966"
   },
   "outputs": [
    {
     "data": {
      "text/plain": [
       "array([1, 0, 1, 1, 0, 0, 1, 1, 1, 1, 0, 0, 0, 1, 1, 1, 1, 1, 0, 0, 0, 0,\n",
       "       0, 1, 0, 1, 0, 1, 1, 0, 1, 1, 1, 0, 1, 0, 0, 1, 1, 1, 1, 1, 1, 1,\n",
       "       0, 1, 1, 1, 1, 0, 1, 0, 0, 1, 0, 0, 1, 1, 0, 1, 1, 1, 1, 1, 1, 0,\n",
       "       1, 0, 1, 1, 1, 0, 1, 0, 1, 1, 1, 1, 1, 1, 1, 1, 1, 0, 0, 0, 1, 0,\n",
       "       1, 1, 1, 1, 1, 0, 1, 1, 1, 0, 1, 1, 1, 1, 1, 0, 0, 1, 1, 1, 1, 1,\n",
       "       1, 1, 1, 1])"
      ]
     },
     "execution_count": 588,
     "metadata": {},
     "output_type": "execute_result"
    }
   ],
   "source": [
    "decision_tree = DecisionTreeClassifier(random_state=32) #결정트리분류기의 객체를 만든다.\n",
    "decision_tree.fit(cancer_X_train, cancer_y_train) # 분류기에 x와 y의 훈련 데이터를 넣어 훈련 시킨다.\n",
    "cancer_y_pred = decision_tree.predict(cancer_X_test) # 훈련된 분류기에 X_test라는 테스트 데이터셋을 넣어 얼마나 예측했는지 확인한다.\n",
    "cancer_y_pred"
   ]
  },
  {
   "cell_type": "markdown",
   "id": "EXynccaybIqp",
   "metadata": {
    "id": "EXynccaybIqp"
   },
   "source": [
    "##### Evaluation"
   ]
  },
  {
   "cell_type": "code",
   "execution_count": 589,
   "id": "3TDfpzoJbIqp",
   "metadata": {
    "executionInfo": {
     "elapsed": 16,
     "status": "ok",
     "timestamp": 1680404713079,
     "user": {
      "displayName": "June Ko",
      "userId": "10187011845533435771"
     },
     "user_tz": -540
    },
    "id": "3TDfpzoJbIqp"
   },
   "outputs": [],
   "source": [
    "# 평가 지표 함수\n",
    "def get_eval3(y_test, y_pred):\n",
    "    confusion = confusion_matrix( y_test, y_pred)\n",
    "    accuracy = accuracy_score(y_test , y_pred )\n",
    "    precision = precision_score(y_test , y_pred, average = 'micro') #micro:샘플을 똑같이 간주, macro:각 클래스를 동일한 비중\n",
    "    recall = recall_score(y_test , y_pred, average = 'micro') # 클래스 불균형이 있으므로 micro 선택택\n",
    "    f1 = f1_score(y_test,y_pred, average ='micro') \n",
    "\n",
    "    print('confusion matrix')\n",
    "    print(confusion)\n",
    "\n",
    "    return 'accuracy: {0:.2f}, precision: {1:.2f}, recall: {2:.2f}, f1:{3:.2f}'.format(accuracy, precision, recall, f1)\n"
   ]
  },
  {
   "cell_type": "code",
   "execution_count": 590,
   "id": "DiDXW17ZbIqp",
   "metadata": {
    "colab": {
     "base_uri": "https://localhost:8080/"
    },
    "executionInfo": {
     "elapsed": 16,
     "status": "ok",
     "timestamp": 1680404713079,
     "user": {
      "displayName": "June Ko",
      "userId": "10187011845533435771"
     },
     "user_tz": -540
    },
    "id": "DiDXW17ZbIqp",
    "outputId": "12b3588c-ffa0-4a98-cb7a-dc0aa9f30cef"
   },
   "outputs": [
    {
     "name": "stdout",
     "output_type": "stream",
     "text": [
      "              precision    recall  f1-score   support\n",
      "\n",
      "           0       0.92      0.82      0.87        40\n",
      "           1       0.91      0.96      0.93        74\n",
      "\n",
      "    accuracy                           0.91       114\n",
      "   macro avg       0.91      0.89      0.90       114\n",
      "weighted avg       0.91      0.91      0.91       114\n",
      "\n"
     ]
    }
   ],
   "source": [
    "print(classification_report(cancer_y_test, cancer_y_pred)) # 결과를 지표로 확인하기 위해 classification_report를 활용해 y_test, y_pred 값을 넣어 확인한다."
   ]
  },
  {
   "cell_type": "code",
   "execution_count": 591,
   "id": "iH5twMcYbIqq",
   "metadata": {
    "colab": {
     "base_uri": "https://localhost:8080/"
    },
    "executionInfo": {
     "elapsed": 14,
     "status": "ok",
     "timestamp": 1680404713079,
     "user": {
      "displayName": "June Ko",
      "userId": "10187011845533435771"
     },
     "user_tz": -540
    },
    "id": "iH5twMcYbIqq",
    "outputId": "ebe04e7a-8479-4a18-9a2f-3ee95fa947cb"
   },
   "outputs": [
    {
     "name": "stdout",
     "output_type": "stream",
     "text": [
      "confusion matrix\n",
      "[[33  7]\n",
      " [ 3 71]]\n",
      "----------------------------------------------------------------------------------------------------\n",
      "accuracy: 0.91, precision: 0.91, recall: 0.91, f1:0.91\n"
     ]
    }
   ],
   "source": [
    "# 실제 정답 y_test과 예측값 y_pred 비교하여 평가 \n",
    "from sklearn.metrics import confusion_matrix, accuracy_score, recall_score, precision_score, f1_score\n",
    "\n",
    "Breast_cancer_DT = get_eval3(cancer_y_test, cancer_y_pred)\n",
    "print('--'*50)\n",
    "print(Breast_cancer_DT)"
   ]
  },
  {
   "cell_type": "markdown",
   "id": "rWMvHO9jbIqq",
   "metadata": {
    "id": "rWMvHO9jbIqq"
   },
   "source": [
    "#### 3-b. RandomForest Classifier"
   ]
  },
  {
   "cell_type": "code",
   "execution_count": 592,
   "id": "PDTTtLEAbIqq",
   "metadata": {
    "colab": {
     "base_uri": "https://localhost:8080/"
    },
    "executionInfo": {
     "elapsed": 580,
     "status": "ok",
     "timestamp": 1680404713647,
     "user": {
      "displayName": "June Ko",
      "userId": "10187011845533435771"
     },
     "user_tz": -540
    },
    "id": "PDTTtLEAbIqq",
    "outputId": "cb889dd8-052f-4a1e-da83-45162eb52d01"
   },
   "outputs": [
    {
     "data": {
      "text/plain": [
       "array([1, 0, 1, 1, 1, 0, 1, 1, 0, 1, 0, 0, 0, 1, 1, 1, 1, 1, 0, 0, 0, 0,\n",
       "       0, 1, 0, 0, 0, 1, 1, 0, 1, 1, 1, 0, 1, 0, 1, 1, 1, 1, 1, 1, 1, 1,\n",
       "       0, 1, 1, 1, 1, 0, 1, 0, 0, 1, 0, 0, 1, 1, 0, 1, 1, 0, 1, 1, 1, 0,\n",
       "       1, 0, 1, 1, 1, 1, 1, 0, 1, 1, 1, 1, 1, 1, 1, 1, 1, 0, 0, 0, 0, 0,\n",
       "       1, 1, 0, 1, 1, 0, 0, 1, 1, 0, 1, 1, 1, 1, 1, 0, 0, 1, 1, 1, 1, 1,\n",
       "       1, 1, 0, 1])"
      ]
     },
     "execution_count": 592,
     "metadata": {},
     "output_type": "execute_result"
    }
   ],
   "source": [
    "random_forest = RandomForestClassifier(random_state=32) # RandomForest분류기 객체를 생성\n",
    "random_forest.fit(cancer_X_train, cancer_y_train) # 분류기에 x와 y의 훈련 데이터를 넣어 훈련 시킨다.\n",
    "cancer_y_pred = random_forest.predict(cancer_X_test) # 훈련된 분류기에 X_test라는 테스트 데이터셋을 넣어 얼마나 예측했는지 확인한다.\n",
    "cancer_y_pred"
   ]
  },
  {
   "cell_type": "markdown",
   "id": "joChC1xpbIqq",
   "metadata": {
    "id": "joChC1xpbIqq"
   },
   "source": [
    "##### Evaluation"
   ]
  },
  {
   "cell_type": "code",
   "execution_count": 593,
   "id": "YZCZBXG6bIqq",
   "metadata": {
    "colab": {
     "base_uri": "https://localhost:8080/"
    },
    "executionInfo": {
     "elapsed": 37,
     "status": "ok",
     "timestamp": 1680404713648,
     "user": {
      "displayName": "June Ko",
      "userId": "10187011845533435771"
     },
     "user_tz": -540
    },
    "id": "YZCZBXG6bIqq",
    "outputId": "feb8c409-c975-45e4-d587-514417fcd7e2"
   },
   "outputs": [
    {
     "name": "stdout",
     "output_type": "stream",
     "text": [
      "              precision    recall  f1-score   support\n",
      "\n",
      "           0       1.00      1.00      1.00        40\n",
      "           1       1.00      1.00      1.00        74\n",
      "\n",
      "    accuracy                           1.00       114\n",
      "   macro avg       1.00      1.00      1.00       114\n",
      "weighted avg       1.00      1.00      1.00       114\n",
      "\n"
     ]
    }
   ],
   "source": [
    "print(classification_report(cancer_y_test, cancer_y_pred)) # 결과를 지표로 확인하기 위해 classification_report를 활용해 y_test, y_pred 값을 넣어 확인한다."
   ]
  },
  {
   "cell_type": "code",
   "execution_count": 594,
   "id": "yGSeBptMbIqq",
   "metadata": {
    "colab": {
     "base_uri": "https://localhost:8080/"
    },
    "executionInfo": {
     "elapsed": 33,
     "status": "ok",
     "timestamp": 1680404713648,
     "user": {
      "displayName": "June Ko",
      "userId": "10187011845533435771"
     },
     "user_tz": -540
    },
    "id": "yGSeBptMbIqq",
    "outputId": "dc7592ed-ca58-442b-f083-e6721a907b09"
   },
   "outputs": [
    {
     "name": "stdout",
     "output_type": "stream",
     "text": [
      "confusion matrix\n",
      "[[40  0]\n",
      " [ 0 74]]\n",
      "----------------------------------------------------------------------------------------------------\n",
      "accuracy: 1.00, precision: 1.00, recall: 1.00, f1:1.00\n"
     ]
    }
   ],
   "source": [
    "# 실제 정답 y_test과 예측값 y_pred 비교하여 평가 \n",
    "from sklearn.metrics import confusion_matrix, accuracy_score, recall_score, precision_score, f1_score\n",
    "\n",
    "Breast_cancer_RF = get_eval3(cancer_y_test, cancer_y_pred)\n",
    "print('--'*50)\n",
    "print(Breast_cancer_RF)"
   ]
  },
  {
   "cell_type": "markdown",
   "id": "s5mJ84oNbIqq",
   "metadata": {
    "id": "s5mJ84oNbIqq"
   },
   "source": [
    "#### 3-c. Support Vector Machine"
   ]
  },
  {
   "cell_type": "code",
   "execution_count": 595,
   "id": "YloD4QXMbIqq",
   "metadata": {
    "colab": {
     "base_uri": "https://localhost:8080/"
    },
    "executionInfo": {
     "elapsed": 30,
     "status": "ok",
     "timestamp": 1680404713648,
     "user": {
      "displayName": "June Ko",
      "userId": "10187011845533435771"
     },
     "user_tz": -540
    },
    "id": "YloD4QXMbIqq",
    "outputId": "e9139763-35fa-444c-c775-3f2afdda01c5"
   },
   "outputs": [
    {
     "data": {
      "text/plain": [
       "array([1, 0, 1, 1, 1, 0, 1, 1, 1, 1, 0, 0, 1, 1, 1, 1, 1, 1, 0, 1, 0, 0,\n",
       "       0, 1, 0, 1, 1, 1, 1, 1, 1, 1, 1, 0, 1, 0, 1, 1, 1, 1, 1, 1, 1, 1,\n",
       "       0, 1, 1, 1, 1, 0, 1, 0, 1, 1, 0, 1, 1, 1, 0, 1, 1, 0, 1, 1, 1, 1,\n",
       "       1, 0, 1, 1, 1, 1, 1, 0, 1, 1, 1, 1, 1, 1, 1, 1, 1, 0, 0, 0, 1, 0,\n",
       "       1, 1, 0, 1, 1, 0, 0, 1, 1, 0, 1, 1, 1, 1, 1, 0, 1, 1, 1, 1, 1, 1,\n",
       "       1, 1, 0, 1])"
      ]
     },
     "execution_count": 595,
     "metadata": {},
     "output_type": "execute_result"
    }
   ],
   "source": [
    "svm_model = svm.SVC() # 모델 객체 만들기\n",
    "svm_model.fit(cancer_X_train, cancer_y_train) # 분류기에 x와 y의 훈련 데이터를 넣어 훈련 시킨다.\n",
    "cancer_y_pred = svm_model.predict(cancer_X_test) # 훈련된 분류기에 X_test라는 테스트 데이터셋을 넣어 얼마나 예측했는지 확인한다.\n",
    "cancer_y_pred"
   ]
  },
  {
   "cell_type": "markdown",
   "id": "L2c9Nj-lbIqq",
   "metadata": {
    "id": "L2c9Nj-lbIqq"
   },
   "source": [
    "##### Evaluation"
   ]
  },
  {
   "cell_type": "code",
   "execution_count": 596,
   "id": "iZ4fszM1bIqq",
   "metadata": {
    "colab": {
     "base_uri": "https://localhost:8080/"
    },
    "executionInfo": {
     "elapsed": 28,
     "status": "ok",
     "timestamp": 1680404713649,
     "user": {
      "displayName": "June Ko",
      "userId": "10187011845533435771"
     },
     "user_tz": -540
    },
    "id": "iZ4fszM1bIqq",
    "outputId": "d5dcc922-63c1-4af6-9ec4-760b20f9920d"
   },
   "outputs": [
    {
     "name": "stdout",
     "output_type": "stream",
     "text": [
      "              precision    recall  f1-score   support\n",
      "\n",
      "           0       1.00      0.72      0.84        40\n",
      "           1       0.87      1.00      0.93        74\n",
      "\n",
      "    accuracy                           0.90       114\n",
      "   macro avg       0.94      0.86      0.89       114\n",
      "weighted avg       0.92      0.90      0.90       114\n",
      "\n"
     ]
    }
   ],
   "source": [
    "print(classification_report(cancer_y_test, cancer_y_pred)) # 결과를 지표로 확인하기 위해 classification_report를 활용해 y_test, y_pred 값을 넣어 확인한다."
   ]
  },
  {
   "cell_type": "code",
   "execution_count": 597,
   "id": "g5L95cclbIqq",
   "metadata": {
    "colab": {
     "base_uri": "https://localhost:8080/"
    },
    "executionInfo": {
     "elapsed": 26,
     "status": "ok",
     "timestamp": 1680404713649,
     "user": {
      "displayName": "June Ko",
      "userId": "10187011845533435771"
     },
     "user_tz": -540
    },
    "id": "g5L95cclbIqq",
    "outputId": "aeb91ad7-4860-4715-fd7b-4e0b9ef9b110"
   },
   "outputs": [
    {
     "name": "stdout",
     "output_type": "stream",
     "text": [
      "confusion matrix\n",
      "[[29 11]\n",
      " [ 0 74]]\n",
      "----------------------------------------------------------------------------------------------------\n",
      "accuracy: 0.90, precision: 0.90, recall: 0.90, f1:0.90\n"
     ]
    }
   ],
   "source": [
    "# 실제 정답 y_test과 예측값 y_pred 비교하여 평가 \n",
    "from sklearn.metrics import confusion_matrix, accuracy_score, recall_score, precision_score, f1_score\n",
    "\n",
    "Breast_cancer_SVM = get_eval3(cancer_y_test, cancer_y_pred)\n",
    "print('--'*50)\n",
    "print(Breast_cancer_SVM)"
   ]
  },
  {
   "cell_type": "markdown",
   "id": "9jYCVvkfbIqq",
   "metadata": {
    "id": "9jYCVvkfbIqq"
   },
   "source": [
    "#### 3-d. Stochasric Gradient Descent Classifier"
   ]
  },
  {
   "cell_type": "code",
   "execution_count": 598,
   "id": "uxe6qzfTbIqq",
   "metadata": {
    "colab": {
     "base_uri": "https://localhost:8080/"
    },
    "executionInfo": {
     "elapsed": 23,
     "status": "ok",
     "timestamp": 1680404713649,
     "user": {
      "displayName": "June Ko",
      "userId": "10187011845533435771"
     },
     "user_tz": -540
    },
    "id": "uxe6qzfTbIqq",
    "outputId": "0e9ab751-1bf7-4186-83a3-21ea2b74c47b"
   },
   "outputs": [
    {
     "data": {
      "text/plain": [
       "array([1, 1, 1, 1, 1, 0, 1, 1, 1, 1, 1, 0, 1, 1, 1, 1, 1, 1, 0, 1, 0, 0,\n",
       "       0, 1, 0, 1, 1, 1, 1, 1, 1, 1, 1, 1, 1, 0, 1, 1, 1, 1, 1, 1, 1, 1,\n",
       "       0, 1, 1, 1, 1, 0, 1, 0, 1, 1, 0, 0, 1, 1, 0, 1, 1, 0, 1, 1, 1, 1,\n",
       "       1, 0, 1, 1, 1, 1, 1, 0, 1, 1, 1, 1, 1, 1, 1, 1, 1, 0, 0, 1, 1, 0,\n",
       "       1, 1, 0, 1, 1, 0, 0, 1, 1, 0, 1, 1, 1, 1, 1, 0, 1, 1, 1, 1, 1, 1,\n",
       "       1, 1, 0, 1])"
      ]
     },
     "execution_count": 598,
     "metadata": {},
     "output_type": "execute_result"
    }
   ],
   "source": [
    "sgd_model = SGDClassifier() # 모델 객체 만들기\n",
    "sgd_model.fit(cancer_X_train, cancer_y_train) # 분류기에 x와 y의 훈련 데이터를 넣어 훈련 시킨다.\n",
    "cancer_y_pred = sgd_model.predict(cancer_X_test) # 훈련된 분류기에 X_test라는 테스트 데이터셋을 넣어 얼마나 예측했는지 확인한다.\n",
    "cancer_y_pred"
   ]
  },
  {
   "cell_type": "markdown",
   "id": "1gMRQ7jPbIqr",
   "metadata": {
    "id": "1gMRQ7jPbIqr"
   },
   "source": [
    "##### Evaluation"
   ]
  },
  {
   "cell_type": "code",
   "execution_count": 599,
   "id": "AXPebHtybIqs",
   "metadata": {
    "colab": {
     "base_uri": "https://localhost:8080/"
    },
    "executionInfo": {
     "elapsed": 22,
     "status": "ok",
     "timestamp": 1680404713650,
     "user": {
      "displayName": "June Ko",
      "userId": "10187011845533435771"
     },
     "user_tz": -540
    },
    "id": "AXPebHtybIqs",
    "outputId": "cff83f9a-21a0-4759-fc02-8eb8cd7401a5"
   },
   "outputs": [
    {
     "name": "stdout",
     "output_type": "stream",
     "text": [
      "              precision    recall  f1-score   support\n",
      "\n",
      "           0       1.00      0.65      0.79        40\n",
      "           1       0.84      1.00      0.91        74\n",
      "\n",
      "    accuracy                           0.88       114\n",
      "   macro avg       0.92      0.82      0.85       114\n",
      "weighted avg       0.90      0.88      0.87       114\n",
      "\n"
     ]
    }
   ],
   "source": [
    "print(classification_report(cancer_y_test, cancer_y_pred)) # 결과를 지표로 확인하기 위해 classification_report를 활용해 y_test, y_pred 값을 넣어 확인한다."
   ]
  },
  {
   "cell_type": "code",
   "execution_count": 600,
   "id": "DGv4dBYKbIqt",
   "metadata": {
    "colab": {
     "base_uri": "https://localhost:8080/"
    },
    "executionInfo": {
     "elapsed": 19,
     "status": "ok",
     "timestamp": 1680404713650,
     "user": {
      "displayName": "June Ko",
      "userId": "10187011845533435771"
     },
     "user_tz": -540
    },
    "id": "DGv4dBYKbIqt",
    "outputId": "a473a257-2b71-4c97-e203-5df4301bcc29"
   },
   "outputs": [
    {
     "name": "stdout",
     "output_type": "stream",
     "text": [
      "confusion matrix\n",
      "[[26 14]\n",
      " [ 0 74]]\n",
      "----------------------------------------------------------------------------------------------------\n",
      "accuracy: 0.88, precision: 0.88, recall: 0.88, f1:0.88\n"
     ]
    }
   ],
   "source": [
    "# 실제 정답 y_test과 예측값 y_pred 비교하여 평가 \n",
    "from sklearn.metrics import confusion_matrix, accuracy_score, recall_score, precision_score, f1_score\n",
    "\n",
    "Breast_cancer_SGD = get_eval3(cancer_y_test, cancer_y_pred)\n",
    "print('--'*50)\n",
    "print(Breast_cancer_SGD)"
   ]
  },
  {
   "cell_type": "markdown",
   "id": "8UkAf8q_bIqt",
   "metadata": {
    "id": "8UkAf8q_bIqt"
   },
   "source": [
    "#### 3-e. Logistic Regression"
   ]
  },
  {
   "cell_type": "code",
   "execution_count": 601,
   "id": "WqMFXFVkbIqt",
   "metadata": {
    "colab": {
     "base_uri": "https://localhost:8080/"
    },
    "executionInfo": {
     "elapsed": 17,
     "status": "ok",
     "timestamp": 1680404713650,
     "user": {
      "displayName": "June Ko",
      "userId": "10187011845533435771"
     },
     "user_tz": -540
    },
    "id": "WqMFXFVkbIqt",
    "outputId": "b408a226-95b4-4634-f78b-516cd99137ff"
   },
   "outputs": [
    {
     "name": "stderr",
     "output_type": "stream",
     "text": [
      "/usr/local/lib/python3.9/dist-packages/sklearn/linear_model/_logistic.py:458: ConvergenceWarning: lbfgs failed to converge (status=1):\n",
      "STOP: TOTAL NO. of ITERATIONS REACHED LIMIT.\n",
      "\n",
      "Increase the number of iterations (max_iter) or scale the data as shown in:\n",
      "    https://scikit-learn.org/stable/modules/preprocessing.html\n",
      "Please also refer to the documentation for alternative solver options:\n",
      "    https://scikit-learn.org/stable/modules/linear_model.html#logistic-regression\n",
      "  n_iter_i = _check_optimize_result(\n"
     ]
    },
    {
     "data": {
      "text/plain": [
       "array([1, 0, 1, 1, 1, 0, 1, 1, 1, 1, 0, 0, 0, 1, 1, 1, 1, 1, 0, 1, 0, 0,\n",
       "       0, 1, 0, 1, 1, 1, 1, 1, 1, 1, 1, 0, 1, 0, 1, 1, 1, 1, 1, 1, 1, 1,\n",
       "       0, 1, 1, 1, 1, 0, 1, 0, 0, 1, 0, 0, 1, 1, 0, 1, 1, 0, 1, 1, 1, 0,\n",
       "       1, 0, 1, 1, 1, 1, 1, 0, 1, 1, 1, 1, 1, 1, 1, 1, 1, 0, 0, 1, 1, 0,\n",
       "       1, 1, 0, 1, 1, 0, 0, 1, 1, 0, 1, 1, 1, 1, 1, 0, 0, 1, 1, 1, 1, 1,\n",
       "       1, 1, 0, 1])"
      ]
     },
     "execution_count": 601,
     "metadata": {},
     "output_type": "execute_result"
    }
   ],
   "source": [
    "logistic_model = LogisticRegression() # 모델 객체 만들기\n",
    "logistic_model.fit(cancer_X_train, cancer_y_train) # 분류기에 x와 y의 훈련 데이터를 넣어 훈련 시킨다.\n",
    "cancer_y_pred = logistic_model.predict(cancer_X_test) # 훈련된 분류기에 X_test라는 테스트 데이터셋을 넣어 얼마나 예측했는지 확인한다.\n",
    "cancer_y_pred"
   ]
  },
  {
   "cell_type": "markdown",
   "id": "DhsVXzbJbIqt",
   "metadata": {
    "id": "DhsVXzbJbIqt"
   },
   "source": [
    "##### Evaluation"
   ]
  },
  {
   "cell_type": "code",
   "execution_count": 602,
   "id": "8cV1-xbVbIqt",
   "metadata": {
    "colab": {
     "base_uri": "https://localhost:8080/"
    },
    "executionInfo": {
     "elapsed": 15,
     "status": "ok",
     "timestamp": 1680404713651,
     "user": {
      "displayName": "June Ko",
      "userId": "10187011845533435771"
     },
     "user_tz": -540
    },
    "id": "8cV1-xbVbIqt",
    "outputId": "bba11e01-0f0b-4425-b91f-e38deece02ed"
   },
   "outputs": [
    {
     "name": "stdout",
     "output_type": "stream",
     "text": [
      "              precision    recall  f1-score   support\n",
      "\n",
      "           0       1.00      0.82      0.90        40\n",
      "           1       0.91      1.00      0.95        74\n",
      "\n",
      "    accuracy                           0.94       114\n",
      "   macro avg       0.96      0.91      0.93       114\n",
      "weighted avg       0.94      0.94      0.94       114\n",
      "\n"
     ]
    }
   ],
   "source": [
    "print(classification_report(cancer_y_test, cancer_y_pred)) # 결과를 지표로 확인하기 위해 classification_report를 활용해 y_test, y_pred 값을 넣어 확인한다."
   ]
  },
  {
   "cell_type": "code",
   "execution_count": 603,
   "id": "l-TkQhpRbIqt",
   "metadata": {
    "colab": {
     "base_uri": "https://localhost:8080/"
    },
    "executionInfo": {
     "elapsed": 12,
     "status": "ok",
     "timestamp": 1680404713651,
     "user": {
      "displayName": "June Ko",
      "userId": "10187011845533435771"
     },
     "user_tz": -540
    },
    "id": "l-TkQhpRbIqt",
    "outputId": "3e799a95-404f-49c4-820f-e649aad97ca0"
   },
   "outputs": [
    {
     "name": "stdout",
     "output_type": "stream",
     "text": [
      "confusion matrix\n",
      "[[33  7]\n",
      " [ 0 74]]\n",
      "----------------------------------------------------------------------------------------------------\n",
      "accuracy: 0.94, precision: 0.94, recall: 0.94, f1:0.94\n"
     ]
    }
   ],
   "source": [
    "# 실제 정답 y_test과 예측값 y_pred 비교하여 평가 \n",
    "from sklearn.metrics import confusion_matrix, accuracy_score, recall_score, precision_score, f1_score\n",
    "\n",
    "Breast_cancer_LR = get_eval3(cancer_y_test, cancer_y_pred)\n",
    "print('--'*50)\n",
    "print(Breast_cancer_LR)"
   ]
  },
  {
   "cell_type": "markdown",
   "id": "HiC0dNrEbIqt",
   "metadata": {
    "id": "HiC0dNrEbIqt"
   },
   "source": [
    "## Breast_cancer Evaluation Summary\n",
    "- 각 클래스의 데이터 수가 불균형이어서 accuracy로 평가하는 것은 적당치 않고 </br> 조화평균인 f1으로 평가하거나 </br>암 환자를 거르지 않고 모두 찾아내겠다라는 것이 목적이라면 recall을 평가 지표로 정하는 것이 좋을 거 같음.\n",
    "- recall 기준으로 RandomForest 모델이 가장 적합한 모델임. f1이외에도 다른 지표도 random forest가 가장 좋음.\n",
    "- RandomForest의 classification_report과 confusion_matrix를 보면 실제와 예측이 일치함. \n",
    "\n"
   ]
  },
  {
   "cell_type": "code",
   "execution_count": 604,
   "id": "BLKLMs6GbIqt",
   "metadata": {
    "colab": {
     "base_uri": "https://localhost:8080/"
    },
    "executionInfo": {
     "elapsed": 10,
     "status": "ok",
     "timestamp": 1680404713651,
     "user": {
      "displayName": "June Ko",
      "userId": "10187011845533435771"
     },
     "user_tz": -540
    },
    "id": "BLKLMs6GbIqt",
    "outputId": "72bd4186-e090-4cec-ddaa-395bfa608f52"
   },
   "outputs": [
    {
     "name": "stdout",
     "output_type": "stream",
     "text": [
      "Decision Tree Classifire :  accuracy: 0.91, precision: 0.91, recall: 0.91, f1:0.91\n",
      "\u001b[91mRandom Forest Classifier :  accuracy: 1.00, precision: 1.00, recall: 1.00, f1:1.00\u001b[0m\n",
      "Support Vector Machine :  accuracy: 0.90, precision: 0.90, recall: 0.90, f1:0.90\n",
      "Stochasric Gradient Descent Classifier :  accuracy: 0.88, precision: 0.88, recall: 0.88, f1:0.88\n",
      "Logistic Regression :  accuracy: 0.94, precision: 0.94, recall: 0.94, f1:0.94\n"
     ]
    }
   ],
   "source": [
    "print('Decision Tree Classifire : ',Breast_cancer_DT)\n",
    "print('\\033[91m'+ 'Random Forest Classifier : ',Breast_cancer_RF +'\\033[0m')\n",
    "print('Support Vector Machine : ',Breast_cancer_SVM)\n",
    "print('Stochasric Gradient Descent Classifier : ',Breast_cancer_SGD)\n",
    "print('Logistic Regression : ',Breast_cancer_LR)"
   ]
  },
  {
   "cell_type": "code",
   "execution_count": 604,
   "id": "ACXk93m5t3w5",
   "metadata": {
    "executionInfo": {
     "elapsed": 7,
     "status": "ok",
     "timestamp": 1680404713651,
     "user": {
      "displayName": "June Ko",
      "userId": "10187011845533435771"
     },
     "user_tz": -540
    },
    "id": "ACXk93m5t3w5"
   },
   "outputs": [],
   "source": []
  }
 ],
 "metadata": {
  "colab": {
   "provenance": [],
   "toc_visible": true
  },
  "kernelspec": {
   "display_name": "Python 3 (ipykernel)",
   "language": "python",
   "name": "python3"
  },
  "language_info": {
   "codemirror_mode": {
    "name": "ipython",
    "version": 3
   },
   "file_extension": ".py",
   "mimetype": "text/x-python",
   "name": "python",
   "nbconvert_exporter": "python",
   "pygments_lexer": "ipython3",
   "version": "3.9.7"
  }
 },
 "nbformat": 4,
 "nbformat_minor": 5
}
