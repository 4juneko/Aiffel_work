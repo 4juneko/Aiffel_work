{
  "cells": [
    {
      "cell_type": "markdown",
      "metadata": {
        "id": "view-in-github",
        "colab_type": "text"
      },
      "source": [
        "<a href=\"https://colab.research.google.com/github/4juneko/Aiffel_work/blob/master/23_chatbot_korean_transformer_06222023.ipynb\" target=\"_parent\"><img src=\"https://colab.research.google.com/assets/colab-badge.svg\" alt=\"Open In Colab\"/></a>"
      ]
    },
    {
      "cell_type": "markdown",
      "id": "fe185f71",
      "metadata": {
        "id": "fe185f71"
      },
      "source": [
        "# Rubric\n",
        "|평가문항|\t상세기준|내 평가|\n",
        "|--|--|--|\n",
        "|1. 한국어 전처리를 통해 학습 데이터셋을 구축하였다.|\t공백과 특수문자 처리, 토크나이징, 병렬데이터 구축의 과정이 적절히 진행되었다.|o|\n",
        "|2. 트랜스포머 모델을 구현하여 한국어 챗봇 모델 학습을 정상적으로 진행하였다.\t|구현한 트랜스포머 모델이 한국어 병렬 데이터 학습 시 안정적으로 수렴하였다.|o|\n",
        "|3. 한국어 입력문장에 대해 한국어로 답변하는 함수를 구현하였다.|\t한국어 입력문장에 맥락에 맞는 한국어로 답변을 리턴하였다.|o|"
      ]
    },
    {
      "cell_type": "markdown",
      "id": "8e5f9797",
      "metadata": {
        "id": "8e5f9797"
      },
      "source": [
        "# Import Library"
      ]
    },
    {
      "cell_type": "code",
      "execution_count": null,
      "id": "ae91193c",
      "metadata": {
        "id": "ae91193c",
        "outputId": "542be193-5695-40bb-87c8-28cdc1c785be"
      },
      "outputs": [
        {
          "name": "stdout",
          "output_type": "stream",
          "text": [
            "슝=3\n"
          ]
        }
      ],
      "source": [
        "import tensorflow as tf\n",
        "import tensorflow_datasets as tfds\n",
        "import os\n",
        "import re\n",
        "import numpy as np\n",
        "import matplotlib.pyplot as plt\n",
        "import pandas as pd\n",
        "print(\"슝=3\")"
      ]
    },
    {
      "cell_type": "markdown",
      "id": "6aba9b85",
      "metadata": {
        "id": "6aba9b85"
      },
      "source": [
        "# 1 Get Data"
      ]
    },
    {
      "cell_type": "code",
      "execution_count": null,
      "id": "97644a5b",
      "metadata": {
        "id": "97644a5b"
      },
      "outputs": [],
      "source": [
        "mkdir -p ~/aiffel/transformer_chatbot/data/"
      ]
    },
    {
      "cell_type": "code",
      "execution_count": null,
      "id": "a8192300",
      "metadata": {
        "id": "a8192300",
        "outputId": "5cd139e3-49b5-4035-940a-c115b61e0f8c"
      },
      "outputs": [
        {
          "name": "stdout",
          "output_type": "stream",
          "text": [
            "ln: failed to create symbolic link '/aiffel/aiffel/transformer_chatbot/data/ChatbotData .csv': File exists\r\n"
          ]
        }
      ],
      "source": [
        "!ln -s ~/data/* ~/aiffel/transformer_chatbot/data/\n",
        "# https://github.com/songys/Chatbot_data/blob/master/ChatbotData.csv"
      ]
    },
    {
      "cell_type": "markdown",
      "id": "187e8b8a",
      "metadata": {
        "id": "187e8b8a"
      },
      "source": [
        "# 2 Preprocess Data"
      ]
    },
    {
      "cell_type": "code",
      "execution_count": null,
      "id": "7c478b71",
      "metadata": {
        "id": "7c478b71",
        "outputId": "f2bf95a4-7588-461b-cdab-f39b53ea8680"
      },
      "outputs": [
        {
          "name": "stdout",
          "output_type": "stream",
          "text": [
            "<class 'pandas.core.frame.DataFrame'>\n",
            "RangeIndex: 11823 entries, 0 to 11822\n",
            "Data columns (total 3 columns):\n",
            " #   Column  Non-Null Count  Dtype \n",
            "---  ------  --------------  ----- \n",
            " 0   Q       11823 non-null  object\n",
            " 1   A       11823 non-null  object\n",
            " 2   label   11823 non-null  int64 \n",
            "dtypes: int64(1), object(2)\n",
            "memory usage: 277.2+ KB\n"
          ]
        },
        {
          "data": {
            "text/html": [
              "<div>\n",
              "<style scoped>\n",
              "    .dataframe tbody tr th:only-of-type {\n",
              "        vertical-align: middle;\n",
              "    }\n",
              "\n",
              "    .dataframe tbody tr th {\n",
              "        vertical-align: top;\n",
              "    }\n",
              "\n",
              "    .dataframe thead th {\n",
              "        text-align: right;\n",
              "    }\n",
              "</style>\n",
              "<table border=\"1\" class=\"dataframe\">\n",
              "  <thead>\n",
              "    <tr style=\"text-align: right;\">\n",
              "      <th></th>\n",
              "      <th>Q</th>\n",
              "      <th>A</th>\n",
              "      <th>label</th>\n",
              "    </tr>\n",
              "  </thead>\n",
              "  <tbody>\n",
              "    <tr>\n",
              "      <th>6800</th>\n",
              "      <td>싸구려 인생</td>\n",
              "      <td>누구도 당신의 인생을 평가할 수 없어요.</td>\n",
              "      <td>1</td>\n",
              "    </tr>\n",
              "    <tr>\n",
              "      <th>5061</th>\n",
              "      <td>핸드폰 너무 많이 해</td>\n",
              "      <td>그래서 저를 만날 수 있죠.</td>\n",
              "      <td>0</td>\n",
              "    </tr>\n",
              "    <tr>\n",
              "      <th>4661</th>\n",
              "      <td>친구랑 있으면 내가 작아져</td>\n",
              "      <td>당신은 생각보다 큰 사람이에요.</td>\n",
              "      <td>0</td>\n",
              "    </tr>\n",
              "    <tr>\n",
              "      <th>976</th>\n",
              "      <td>너무 추워서 시베리아 같아</td>\n",
              "      <td>어서 따듯한 곳으로 가세요</td>\n",
              "      <td>0</td>\n",
              "    </tr>\n",
              "    <tr>\n",
              "      <th>8952</th>\n",
              "      <td>결혼식 날짜 잡으려고</td>\n",
              "      <td>축하드려요.</td>\n",
              "      <td>2</td>\n",
              "    </tr>\n",
              "    <tr>\n",
              "      <th>2158</th>\n",
              "      <td>부자 백수 하고 싶어</td>\n",
              "      <td>그게 최고죠.</td>\n",
              "      <td>0</td>\n",
              "    </tr>\n",
              "    <tr>\n",
              "      <th>8048</th>\n",
              "      <td>정말 아직 너무 사랑합니다 잡고 싶습니다</td>\n",
              "      <td>다시 잡는다면 후회할 거예요.</td>\n",
              "      <td>1</td>\n",
              "    </tr>\n",
              "    <tr>\n",
              "      <th>7273</th>\n",
              "      <td>욕을 퍼붓고 왓어</td>\n",
              "      <td>마음이 후련하길 바랍니다.</td>\n",
              "      <td>1</td>\n",
              "    </tr>\n",
              "    <tr>\n",
              "      <th>8304</th>\n",
              "      <td>참아야겠지</td>\n",
              "      <td>가끔은 내키는 대로 해보세요.</td>\n",
              "      <td>1</td>\n",
              "    </tr>\n",
              "    <tr>\n",
              "      <th>9922</th>\n",
              "      <td>사랑이 뭘까 궁금해</td>\n",
              "      <td>저도 상당히 궁금하네요.</td>\n",
              "      <td>2</td>\n",
              "    </tr>\n",
              "  </tbody>\n",
              "</table>\n",
              "</div>"
            ],
            "text/plain": [
              "                           Q                       A  label\n",
              "6800                  싸구려 인생  누구도 당신의 인생을 평가할 수 없어요.      1\n",
              "5061             핸드폰 너무 많이 해         그래서 저를 만날 수 있죠.      0\n",
              "4661          친구랑 있으면 내가 작아져       당신은 생각보다 큰 사람이에요.      0\n",
              "976           너무 추워서 시베리아 같아          어서 따듯한 곳으로 가세요      0\n",
              "8952             결혼식 날짜 잡으려고                  축하드려요.      2\n",
              "2158             부자 백수 하고 싶어                 그게 최고죠.      0\n",
              "8048  정말 아직 너무 사랑합니다 잡고 싶습니다        다시 잡는다면 후회할 거예요.      1\n",
              "7273               욕을 퍼붓고 왓어          마음이 후련하길 바랍니다.      1\n",
              "8304                   참아야겠지        가끔은 내키는 대로 해보세요.      1\n",
              "9922              사랑이 뭘까 궁금해           저도 상당히 궁금하네요.      2"
            ]
          },
          "execution_count": 4,
          "metadata": {},
          "output_type": "execute_result"
        }
      ],
      "source": [
        "file_path = os.getenv('HOME')+'/aiffel/transformer_chatbot/data/ChatbotData .csv'\n",
        "\n",
        "data = pd.read_csv(file_path)\n",
        "data.info()\n",
        "data.sample(10)"
      ]
    },
    {
      "cell_type": "code",
      "execution_count": null,
      "id": "9314e8b2",
      "metadata": {
        "id": "9314e8b2",
        "outputId": "e11ad5b9-3525-478f-ff69-474e1b87d77c"
      },
      "outputs": [
        {
          "data": {
            "text/plain": [
              "array([0, 1, 2])"
            ]
          },
          "execution_count": 5,
          "metadata": {},
          "output_type": "execute_result"
        }
      ],
      "source": [
        "data['label'].unique()"
      ]
    },
    {
      "cell_type": "code",
      "execution_count": null,
      "id": "d84bb54e",
      "metadata": {
        "id": "d84bb54e",
        "outputId": "73230af0-bb7e-4b55-cb99-c2a4bd33b2e9"
      },
      "outputs": [
        {
          "data": {
            "text/html": [
              "<div>\n",
              "<style scoped>\n",
              "    .dataframe tbody tr th:only-of-type {\n",
              "        vertical-align: middle;\n",
              "    }\n",
              "\n",
              "    .dataframe tbody tr th {\n",
              "        vertical-align: top;\n",
              "    }\n",
              "\n",
              "    .dataframe thead th {\n",
              "        text-align: right;\n",
              "    }\n",
              "</style>\n",
              "<table border=\"1\" class=\"dataframe\">\n",
              "  <thead>\n",
              "    <tr style=\"text-align: right;\">\n",
              "      <th></th>\n",
              "      <th>Q</th>\n",
              "      <th>A</th>\n",
              "    </tr>\n",
              "    <tr>\n",
              "      <th>label</th>\n",
              "      <th></th>\n",
              "      <th></th>\n",
              "    </tr>\n",
              "  </thead>\n",
              "  <tbody>\n",
              "    <tr>\n",
              "      <th>0</th>\n",
              "      <td>5290</td>\n",
              "      <td>5290</td>\n",
              "    </tr>\n",
              "    <tr>\n",
              "      <th>1</th>\n",
              "      <td>3570</td>\n",
              "      <td>3570</td>\n",
              "    </tr>\n",
              "    <tr>\n",
              "      <th>2</th>\n",
              "      <td>2963</td>\n",
              "      <td>2963</td>\n",
              "    </tr>\n",
              "  </tbody>\n",
              "</table>\n",
              "</div>"
            ],
            "text/plain": [
              "          Q     A\n",
              "label            \n",
              "0      5290  5290\n",
              "1      3570  3570\n",
              "2      2963  2963"
            ]
          },
          "execution_count": 6,
          "metadata": {},
          "output_type": "execute_result"
        }
      ],
      "source": [
        "data.groupby(['label']).count()"
      ]
    },
    {
      "cell_type": "code",
      "execution_count": null,
      "id": "d493acd7",
      "metadata": {
        "id": "d493acd7",
        "outputId": "718e8b66-df1a-497f-dfc8-ac639180176f"
      },
      "outputs": [
        {
          "name": "stdout",
          "output_type": "stream",
          "text": [
            "50000\n"
          ]
        }
      ],
      "source": [
        "# 사용할 샘플의 최대 개수\n",
        "MAX_SAMPLES = 50000\n",
        "print(MAX_SAMPLES)"
      ]
    },
    {
      "cell_type": "code",
      "execution_count": null,
      "id": "f24f9dc9",
      "metadata": {
        "id": "f24f9dc9",
        "outputId": "c5cf7419-4efa-48d2-b678-c5c6902871b6"
      },
      "outputs": [
        {
          "name": "stdout",
          "output_type": "stream",
          "text": [
            "슝=3\n"
          ]
        }
      ],
      "source": [
        "from konlpy.tag import Mecab\n",
        "from collections import Counter\n",
        "\n",
        "tokenizer = Mecab()\n",
        "stopwords = ['의','가','이','은','들','는','좀','잘','걍','과','도','를','으로','자','에','와','한','하다']\n",
        "\n",
        "# 전처리 함수\n",
        "\n",
        "def preprocess_sentence(sentence):\n",
        "#   sentence = sentence.lower().strip()\n",
        "\n",
        "  # 단어와 구두점(punctuation) 사이의 거리를 만듭니다.\n",
        "  # 예를 들어서 \"I am a student.\" => \"I am a student .\"와 같이\n",
        "  # student와 온점 사이에 거리를 만듭니다.\n",
        "  sentence = re.sub(r\"([?.!,])\", r\" \\1 \", sentence)\n",
        "  sentence = re.sub(r'[\" \"]+', \" \", sentence)\n",
        "\n",
        "  # (a-z, A-Z, \".\", \"?\", \"!\", \",\")를 제외한 모든 문자를 공백인 ' '로 대체합니다.\n",
        "  sentence = re.sub(r\"[^a-zA-Z|ㄱ-ㅎ|ㅏ-ㅣ|가-힣|?.!,0-9]+\", \" \", sentence)\n",
        "  sentence = sentence.strip()\n",
        "  return sentence\n",
        "print(\"슝=3\")"
      ]
    },
    {
      "cell_type": "code",
      "execution_count": null,
      "id": "a0630054",
      "metadata": {
        "id": "a0630054",
        "outputId": "1ae4c388-e415-4a46-bfd6-c66cd0b49681"
      },
      "outputs": [
        {
          "name": "stdout",
          "output_type": "stream",
          "text": [
            "슝=3\n"
          ]
        }
      ],
      "source": [
        "# 질문과 답변의 쌍인 데이터셋을 구성하기 위한 데이터 로드 함수\n",
        "def load_conversations(data):\n",
        "    inputs, outputs =[],[]\n",
        "\n",
        "    q_sentences = data['Q']\n",
        "    a_sentences = data['A']\n",
        "\n",
        "    for i,j in zip(q_sentences, a_sentences):\n",
        "        inputs.append(preprocess_sentence(i))\n",
        "        outputs.append(preprocess_sentence(j))\n",
        "\n",
        "    return inputs, outputs\n",
        "\n",
        "print(\"슝=3\")"
      ]
    },
    {
      "cell_type": "code",
      "execution_count": null,
      "id": "d23e85fc",
      "metadata": {
        "id": "d23e85fc",
        "outputId": "0c92bd84-4b18-4699-fd65-bdb4e63bdb72"
      },
      "outputs": [
        {
          "name": "stdout",
          "output_type": "stream",
          "text": [
            "전체 샘플 수 : 11823\n",
            "전체 샘플 수 : 11823\n",
            "1지망 학교 떨어졌어 : 위로해 드립니다 .\n",
            "가스비 장난 아님 : 다음 달에는 더 절약해봐요 .\n"
          ]
        }
      ],
      "source": [
        "# 데이터를 로드하고 전처리하여 질문을 questions, 답변을 answers에 저장합니다.\n",
        "questions, answers = load_conversations(data)\n",
        "print('전체 샘플 수 :', len(questions))\n",
        "print('전체 샘플 수 :', len(answers))\n",
        "print('{} : {}'.format(questions[1], answers[1]))\n",
        "print('{} : {}'.format(questions[21], answers[21]))"
      ]
    },
    {
      "cell_type": "markdown",
      "id": "7629c47b",
      "metadata": {
        "id": "7629c47b"
      },
      "source": [
        "## Preprocess pararrel data\n",
        "1. TensorFlow Datasets SubwordTextEncoder 를 토크나이저로 사용한다.  \n",
        "    단어보다 더 작은 단위인 Subword를 기준으로 토크나이징하고,  \n",
        "    각 토큰을 고유한 정수로 인코딩 한다.\n",
        "2. 각 문장을 토큰화하고 각 문장의 시작과 끝을 나타내는 START_TOKEN 및 END_TOKEN을 추가한다.\n",
        "3. 최대 길이 MAX_LENGTH 인 40을 넘는 문장들은 필터링한다.\n",
        "4. MAX_LENGTH보다 길이가 짧은 문장들은 40에 맞도록 패딩 한다."
      ]
    },
    {
      "cell_type": "markdown",
      "id": "5f9e4641",
      "metadata": {
        "id": "5f9e4641"
      },
      "source": [
        "### make vocabulary"
      ]
    },
    {
      "cell_type": "code",
      "execution_count": null,
      "id": "bb07eb81",
      "metadata": {
        "id": "bb07eb81",
        "outputId": "58b45274-aac9-491b-da0b-07070504d1e7"
      },
      "outputs": [
        {
          "name": "stdout",
          "output_type": "stream",
          "text": [
            "살짝 오래 걸릴 수 있어요. 스트레칭 한 번 해볼까요? 👐\n",
            "슝=3 \n"
          ]
        }
      ],
      "source": [
        "import tensorflow_datasets as tfds\n",
        "print(\"살짝 오래 걸릴 수 있어요. 스트레칭 한 번 해볼까요? 👐\")\n",
        "\n",
        "# 질문과 답변 데이터셋에 대해서 Vocabulary 생성\n",
        "tokenizer = tfds.deprecated.text.SubwordTextEncoder.build_from_corpus(questions + answers, target_vocab_size=2**13)\n",
        "print(\"슝=3 \")"
      ]
    },
    {
      "cell_type": "code",
      "execution_count": null,
      "id": "9e9d5158",
      "metadata": {
        "id": "9e9d5158",
        "outputId": "016d6f9f-525a-4246-a19d-0fccf203e0f7"
      },
      "outputs": [
        {
          "name": "stdout",
          "output_type": "stream",
          "text": [
            "슝=3\n"
          ]
        }
      ],
      "source": [
        "# 시작 토큰과 종료 토큰에 고유한 정수를 부여합니다.\n",
        "START_TOKEN, END_TOKEN = [tokenizer.vocab_size], [tokenizer.vocab_size + 1]\n",
        "print(\"슝=3\")"
      ]
    },
    {
      "cell_type": "code",
      "execution_count": null,
      "id": "173625de",
      "metadata": {
        "id": "173625de",
        "outputId": "c85fad57-5f42-469c-abd0-d900a7c424d0"
      },
      "outputs": [
        {
          "name": "stdout",
          "output_type": "stream",
          "text": [
            "START_TOKEN의 번호 : [8170]\n",
            "END_TOKEN의 번호 : [8171]\n"
          ]
        }
      ],
      "source": [
        "print('START_TOKEN의 번호 :' ,[tokenizer.vocab_size])\n",
        "print('END_TOKEN의 번호 :' ,[tokenizer.vocab_size + 1])"
      ]
    },
    {
      "cell_type": "code",
      "execution_count": null,
      "id": "4752f86a",
      "metadata": {
        "id": "4752f86a",
        "outputId": "d54465c1-6bb0-47ce-8b49-ca9dca40141a"
      },
      "outputs": [
        {
          "name": "stdout",
          "output_type": "stream",
          "text": [
            "8172\n"
          ]
        }
      ],
      "source": [
        "# 시작 토큰과 종료 토큰을 고려하여 +2를 하여 단어장의 크기를 산정합니다.\n",
        "VOCAB_SIZE = tokenizer.vocab_size + 2\n",
        "print(VOCAB_SIZE)"
      ]
    },
    {
      "cell_type": "markdown",
      "id": "8c7c2640",
      "metadata": {
        "id": "8c7c2640"
      },
      "source": [
        "### Encoding(to integer) & Padding"
      ]
    },
    {
      "cell_type": "code",
      "execution_count": null,
      "id": "c51af02a",
      "metadata": {
        "id": "c51af02a",
        "outputId": "e6219beb-3311-47be-bfa1-b5adbe895ef1"
      },
      "outputs": [
        {
          "name": "stdout",
          "output_type": "stream",
          "text": [
            "정수 인코딩 후의 1번째 질문 샘플: [7963, 47, 917, 7946, 997, 1715]\n",
            "정수 인코딩 후의 1번째 답변 샘플: [1828, 5499, 1]\n",
            "정수 인코딩 후의 21번째 질문 샘플: [5762, 610, 2490, 4163]\n",
            "정수 인코딩 후의 21번째 답변 샘플: [2356, 7510, 7, 6273, 97, 1]\n"
          ]
        }
      ],
      "source": [
        "# 임의의 22번째 샘플에 대해서 정수 인코딩 작업을 수행.\n",
        "# 각 토큰을 고유한 정수로 변환\n",
        "print('정수 인코딩 후의 1번째 질문 샘플: {}'.format(tokenizer.encode(questions[1])))\n",
        "print('정수 인코딩 후의 1번째 답변 샘플: {}'.format(tokenizer.encode(answers[1])))\n",
        "\n",
        "print('정수 인코딩 후의 21번째 질문 샘플: {}'.format(tokenizer.encode(questions[21])))\n",
        "print('정수 인코딩 후의 21번째 답변 샘플: {}'.format(tokenizer.encode(answers[21])))"
      ]
    },
    {
      "cell_type": "code",
      "execution_count": null,
      "id": "2f498290",
      "metadata": {
        "id": "2f498290",
        "outputId": "bcfd133d-baf5-4025-a2d0-a2c88e5e75f5"
      },
      "outputs": [
        {
          "name": "stdout",
          "output_type": "stream",
          "text": [
            "40\n"
          ]
        }
      ],
      "source": [
        "# 샘플의 최대 허용 길이 또는 패딩 후의 최종 길이\n",
        "MAX_LENGTH = 40\n",
        "print(MAX_LENGTH)"
      ]
    },
    {
      "cell_type": "code",
      "execution_count": null,
      "id": "bcc18731",
      "metadata": {
        "id": "bcc18731",
        "outputId": "2833c7ad-3f1c-4dbb-8052-c041c5ed5c0f"
      },
      "outputs": [
        {
          "name": "stdout",
          "output_type": "stream",
          "text": [
            "슝=3\n"
          ]
        }
      ],
      "source": [
        "# 정수 인코딩, 최대 길이를 초과하는 샘플 제거, 패딩\n",
        "def tokenize_and_filter(inputs, outputs):\n",
        "    tokenized_inputs, tokenized_outputs = [], []\n",
        "\n",
        "    for (sentence1, sentence2) in zip(inputs, outputs):\n",
        "    # 정수 인코딩 과정에서 시작 토큰과 종료 토큰을 추가\n",
        "        sentence1 = START_TOKEN + tokenizer.encode(sentence1) + END_TOKEN\n",
        "        sentence2 = START_TOKEN + tokenizer.encode(sentence2) + END_TOKEN\n",
        "\n",
        "    # 최대 길이 40 이하인 경우에만 데이터셋으로 허용\n",
        "        if len(sentence1) <= MAX_LENGTH and len(sentence2) <= MAX_LENGTH:\n",
        "            tokenized_inputs.append(sentence1)\n",
        "            tokenized_outputs.append(sentence2)\n",
        "\n",
        "    # 최대 길이 40으로 모든 데이터셋을 패딩\n",
        "    tokenized_inputs = tf.keras.preprocessing.sequence.pad_sequences(\n",
        "      tokenized_inputs, maxlen=MAX_LENGTH, padding='post')\n",
        "    tokenized_outputs = tf.keras.preprocessing.sequence.pad_sequences(\n",
        "      tokenized_outputs, maxlen=MAX_LENGTH, padding='post')\n",
        "\n",
        "    return tokenized_inputs, tokenized_outputs\n",
        "print(\"슝=3\")"
      ]
    },
    {
      "cell_type": "code",
      "execution_count": null,
      "id": "66ff895a",
      "metadata": {
        "id": "66ff895a",
        "outputId": "dbd74079-7460-4301-f3ac-0756d890b73d"
      },
      "outputs": [
        {
          "name": "stdout",
          "output_type": "stream",
          "text": [
            "단어장의 크기 : 8172\n",
            "필터링 후의 질문 샘플 개수: 11823\n",
            "필터링 후의 답변 샘플 개수: 11823\n",
            "[8170 7963   47  917 7946  997 1715 8171    0    0    0    0    0    0\n",
            "    0    0    0    0    0    0    0    0    0    0    0    0    0    0\n",
            "    0    0    0    0    0    0    0    0    0    0    0    0] : [8170 1828 5499    1 8171    0    0    0    0    0    0    0    0    0\n",
            "    0    0    0    0    0    0    0    0    0    0    0    0    0    0\n",
            "    0    0    0    0    0    0    0    0    0    0    0    0]\n",
            "[8170 5762  610 2490 4163 8171    0    0    0    0    0    0    0    0\n",
            "    0    0    0    0    0    0    0    0    0    0    0    0    0    0\n",
            "    0    0    0    0    0    0    0    0    0    0    0    0] : [8170 2356 7510    7 6273   97    1 8171    0    0    0    0    0    0\n",
            "    0    0    0    0    0    0    0    0    0    0    0    0    0    0\n",
            "    0    0    0    0    0    0    0    0    0    0    0    0]\n"
          ]
        }
      ],
      "source": [
        "questions_token, answers_token = tokenize_and_filter(questions, answers)\n",
        "print('단어장의 크기 :',(VOCAB_SIZE))\n",
        "print('필터링 후의 질문 샘플 개수: {}'.format(len(questions)))\n",
        "print('필터링 후의 답변 샘플 개수: {}'.format(len(answers)))\n",
        "print('{} : {}'.format(questions_token[1], answers_token[1]))\n",
        "print('{} : {}'.format(questions_token[21], answers_token[21]))"
      ]
    },
    {
      "cell_type": "markdown",
      "id": "9a93b371",
      "metadata": {
        "id": "9a93b371"
      },
      "source": [
        "### Teacher Forcing"
      ]
    },
    {
      "cell_type": "code",
      "execution_count": null,
      "id": "13a0a72e",
      "metadata": {
        "id": "13a0a72e",
        "outputId": "b28252f1-57ec-4646-ecd3-478fb2ef0db2"
      },
      "outputs": [
        {
          "name": "stdout",
          "output_type": "stream",
          "text": [
            "슝=3\n"
          ]
        }
      ],
      "source": [
        "BATCH_SIZE = 64\n",
        "BUFFER_SIZE = 20000\n",
        "\n",
        "# 디코더는 이전의 target을 다음의 input으로 사용합니다.\n",
        "# 이에 따라 outputs에서는 START_TOKEN을 제거하겠습니다.\n",
        "dataset = tf.data.Dataset.from_tensor_slices((\n",
        "    {\n",
        "        'inputs': questions_token,\n",
        "        'dec_inputs': answers_token[:, :-1]\n",
        "    },\n",
        "    {\n",
        "        'outputs': answers_token[:, 1:]\n",
        "    },\n",
        "))\n",
        "\n",
        "dataset = dataset.cache()\n",
        "dataset = dataset.shuffle(BUFFER_SIZE)\n",
        "dataset = dataset.batch(BATCH_SIZE)\n",
        "dataset = dataset.prefetch(tf.data.experimental.AUTOTUNE)\n",
        "print(\"슝=3\")"
      ]
    },
    {
      "cell_type": "markdown",
      "id": "3b85f0fa",
      "metadata": {
        "id": "3b85f0fa"
      },
      "source": [
        "# 3 Get Model"
      ]
    },
    {
      "cell_type": "code",
      "execution_count": null,
      "id": "d45793d3",
      "metadata": {
        "id": "d45793d3",
        "outputId": "101d1f6e-8f24-484a-9ced-8dc2f812a18d"
      },
      "outputs": [
        {
          "name": "stdout",
          "output_type": "stream",
          "text": [
            "슝=3\n"
          ]
        }
      ],
      "source": [
        "# padding masking\n",
        "def create_padding_mask(x):\n",
        "    mask = tf.cast(tf.math.equal(x, 0), tf.float32) # tf.cast : d.type을 바꾸는 함수\n",
        "    # (batch_size, 1, 1, sequence length)\n",
        "    return mask[:, tf.newaxis, tf.newaxis, :]\n",
        "print(\"슝=3\")"
      ]
    },
    {
      "cell_type": "code",
      "execution_count": null,
      "id": "48c8d43b",
      "metadata": {
        "id": "48c8d43b",
        "outputId": "6660d849-6bd9-471d-d7b4-0c8f5fbd515f"
      },
      "outputs": [
        {
          "name": "stdout",
          "output_type": "stream",
          "text": [
            "이해못함\n"
          ]
        }
      ],
      "source": [
        "# look ahead masking\n",
        "def create_look_ahead_mask(x):\n",
        "    seq_len = tf.shape(x)[1]\n",
        "    look_ahead_mask = 1 - tf.linalg.band_part(tf.ones((seq_len, seq_len)), -1, 0)\n",
        "    padding_mask = create_padding_mask(x)\n",
        "    return tf.maximum(look_ahead_mask, padding_mask)\n",
        "print(\"이해못함\")"
      ]
    },
    {
      "cell_type": "code",
      "execution_count": null,
      "id": "2e37f202",
      "metadata": {
        "scrolled": true,
        "id": "2e37f202",
        "outputId": "583bd169-339d-4330-d1de-bffa43e40deb"
      },
      "outputs": [
        {
          "name": "stdout",
          "output_type": "stream",
          "text": [
            "슝=3\n"
          ]
        }
      ],
      "source": [
        "# 포지셔널 인코딩 레이어\n",
        "class PositionalEncoding(tf.keras.layers.Layer):\n",
        "\n",
        "    def __init__(self, position, d_model):\n",
        "        super(PositionalEncoding, self).__init__()\n",
        "        self.pos_encoding = self.positional_encoding(position, d_model)\n",
        "\n",
        "    def get_angles(self, position, i, d_model):\n",
        "        angles = 1 / tf.pow(10000, (2 * (i // 2)) / tf.cast(d_model, tf.float32))\n",
        "        return position * angles\n",
        "\n",
        "    def positional_encoding(self, position, d_model):\n",
        "        # 각도 배열 생성\n",
        "        angle_rads = self.get_angles(\n",
        "            position=tf.range(position, dtype=tf.float32)[:, tf.newaxis],\n",
        "            i=tf.range(d_model, dtype=tf.float32)[tf.newaxis, :],\n",
        "            d_model=d_model)\n",
        "\n",
        "        # 배열의 짝수 인덱스에는 sin 함수 적용\n",
        "        sines = tf.math.sin(angle_rads[:, 0::2])\n",
        "        # 배열의 홀수 인덱스에는 cosine 함수 적용\n",
        "        cosines = tf.math.cos(angle_rads[:, 1::2])\n",
        "\n",
        "        # sin과 cosine이 교차되도록 재배열\n",
        "        pos_encoding = tf.stack([sines, cosines], axis=0)\n",
        "        pos_encoding = tf.transpose(pos_encoding,[1, 2, 0])\n",
        "        pos_encoding = tf.reshape(pos_encoding, [position, d_model])\n",
        "\n",
        "        pos_encoding = pos_encoding[tf.newaxis, ...]\n",
        "        return tf.cast(pos_encoding, tf.float32)\n",
        "\n",
        "    def call(self, inputs):\n",
        "        return inputs + self.pos_encoding[:, :tf.shape(inputs)[1], :]\n",
        "\n",
        "print(\"슝=3\")"
      ]
    },
    {
      "cell_type": "code",
      "execution_count": null,
      "id": "589ade19",
      "metadata": {
        "id": "589ade19",
        "outputId": "23eb2399-8155-42f8-f3d5-2e2d5a8d2b4a"
      },
      "outputs": [
        {
          "data": {
            "image/png": "[encoded data removed]",
            "text/plain": [
              "<Figure size 432x288 with 2 Axes>"
            ]
          },
          "metadata": {
            "needs_background": "light"
          },
          "output_type": "display_data"
        }
      ],
      "source": [
        "# 최대 문장 길이 : 50, 워드 임베딩 차원 : 512\n",
        "sample_pos_encoding = PositionalEncoding(50, 512)\n",
        "\n",
        "plt.pcolormesh(sample_pos_encoding.pos_encoding.numpy()[0], cmap='RdBu')\n",
        "plt.xlabel('Depth')\n",
        "plt.xlim((0, 512))\n",
        "plt.ylabel('Position')\n",
        "plt.colorbar()\n",
        "plt.show()"
      ]
    },
    {
      "cell_type": "code",
      "execution_count": null,
      "id": "1e44a46a",
      "metadata": {
        "id": "1e44a46a",
        "outputId": "a20c860e-fb2e-4536-a7dd-7dbd5ada4b69"
      },
      "outputs": [
        {
          "data": {
            "image/png": "[encoded data removed]",
            "text/plain": [
              "<Figure size 432x288 with 2 Axes>"
            ]
          },
          "metadata": {
            "needs_background": "light"
          },
          "output_type": "display_data"
        }
      ],
      "source": [
        "# 최대 문장 길이 : 30, 워드 임베딩 차원 : 256\n",
        "sample_pos_encoding = PositionalEncoding(30, 256)\n",
        "\n",
        "plt.pcolormesh(sample_pos_encoding.pos_encoding.numpy()[0], cmap='RdBu')\n",
        "plt.xlabel('Depth')\n",
        "plt.xlim((0, 256))\n",
        "plt.ylabel('Position')\n",
        "plt.colorbar()\n",
        "plt.show()"
      ]
    },
    {
      "cell_type": "code",
      "execution_count": null,
      "id": "acd0bfc5",
      "metadata": {
        "id": "acd0bfc5",
        "outputId": "14cb0816-7288-430d-a1ee-b52f22203429"
      },
      "outputs": [
        {
          "name": "stdout",
          "output_type": "stream",
          "text": [
            "슝=3\n"
          ]
        }
      ],
      "source": [
        "# 스케일드 닷 프로덕트 어텐션 함수\n",
        "def scaled_dot_product_attention(query, key, value, mask):\n",
        "  # 어텐션 가중치는 Q와 K의 닷 프로덕트\n",
        "  matmul_qk = tf.matmul(query, key, transpose_b=True)\n",
        "\n",
        "  # 가중치를 정규화\n",
        "  depth = tf.cast(tf.shape(key)[-1], tf.float32)\n",
        "  logits = matmul_qk / tf.math.sqrt(depth)\n",
        "\n",
        "  # 패딩에 마스크 추가\n",
        "  if mask is not None:\n",
        "    logits += (mask * -1e9)\n",
        "\n",
        "  # softmax적용\n",
        "  attention_weights = tf.nn.softmax(logits, axis=-1)\n",
        "\n",
        "  # 최종 어텐션은 가중치와 V의 닷 프로덕트\n",
        "  output = tf.matmul(attention_weights, value)\n",
        "  return output\n",
        "\n",
        "print(\"슝=3\")"
      ]
    },
    {
      "cell_type": "code",
      "execution_count": null,
      "id": "78db7dd2",
      "metadata": {
        "id": "78db7dd2",
        "outputId": "34aa9458-6766-40a5-b5c7-060e08f7b8ce"
      },
      "outputs": [
        {
          "name": "stdout",
          "output_type": "stream",
          "text": [
            "슝=3\n"
          ]
        }
      ],
      "source": [
        "# multi head attention\n",
        "\n",
        "class MultiHeadAttention(tf.keras.layers.Layer):\n",
        "\n",
        "  def __init__(self, d_model, num_heads, name=\"multi_head_attention\"):\n",
        "    super(MultiHeadAttention, self).__init__(name=name)\n",
        "    self.num_heads = num_heads\n",
        "    self.d_model = d_model\n",
        "\n",
        "    assert d_model % self.num_heads == 0\n",
        "\n",
        "    self.depth = d_model // self.num_heads\n",
        "\n",
        "    self.query_dense = tf.keras.layers.Dense(units=d_model)\n",
        "    self.key_dense = tf.keras.layers.Dense(units=d_model)\n",
        "    self.value_dense = tf.keras.layers.Dense(units=d_model)\n",
        "\n",
        "    self.dense = tf.keras.layers.Dense(units=d_model)\n",
        "\n",
        "  def split_heads(self, inputs, batch_size):\n",
        "    inputs = tf.reshape(\n",
        "        inputs, shape=(batch_size, -1, self.num_heads, self.depth))\n",
        "    return tf.transpose(inputs, perm=[0, 2, 1, 3])\n",
        "\n",
        "  def call(self, inputs):\n",
        "    query, key, value, mask = inputs['query'], inputs['key'], inputs[\n",
        "        'value'], inputs['mask']\n",
        "    batch_size = tf.shape(query)[0]\n",
        "\n",
        "    # Q, K, V에 각각 Dense를 적용합니다\n",
        "    query = self.query_dense(query)\n",
        "    key = self.key_dense(key)\n",
        "    value = self.value_dense(value)\n",
        "\n",
        "    # 병렬 연산을 위한 머리를 여러 개 만듭니다\n",
        "    query = self.split_heads(query, batch_size)\n",
        "    key = self.split_heads(key, batch_size)\n",
        "    value = self.split_heads(value, batch_size)\n",
        "\n",
        "    # 스케일드 닷 프로덕트 어텐션 함수\n",
        "    scaled_attention = scaled_dot_product_attention(query, key, value, mask)\n",
        "\n",
        "    scaled_attention = tf.transpose(scaled_attention, perm=[0, 2, 1, 3])\n",
        "\n",
        "    # 어텐션 연산 후에 각 결과를 다시 연결(concatenate)합니다\n",
        "    concat_attention = tf.reshape(scaled_attention,\n",
        "                                  (batch_size, -1, self.d_model))\n",
        "\n",
        "    # 최종 결과에도 Dense를 한 번 더 적용합니다\n",
        "    outputs = self.dense(concat_attention)\n",
        "\n",
        "    return outputs\n",
        "print(\"슝=3\")"
      ]
    },
    {
      "cell_type": "code",
      "execution_count": null,
      "id": "ffce5712",
      "metadata": {
        "id": "ffce5712",
        "outputId": "70c4d6fc-dbc2-41d5-9402-97cad98041d0"
      },
      "outputs": [
        {
          "name": "stdout",
          "output_type": "stream",
          "text": [
            "tf.Tensor(\n",
            "[[[[0. 0. 1. 0. 1.]]]\n",
            "\n",
            "\n",
            " [[[1. 1. 1. 0. 0.]]]], shape=(2, 1, 1, 5), dtype=float32)\n"
          ]
        }
      ],
      "source": [
        "print(create_padding_mask(tf.constant([[1, 2, 0, 3, 0], [0, 0, 0, 4, 5]])))\n",
        "# 0인 부분은 1로 아니면 0으로 바뀌었네"
      ]
    },
    {
      "cell_type": "code",
      "execution_count": null,
      "id": "2a13961c",
      "metadata": {
        "id": "2a13961c",
        "outputId": "179693ad-fe0a-4bc8-dd8f-bc90cb56f449"
      },
      "outputs": [
        {
          "name": "stdout",
          "output_type": "stream",
          "text": [
            "tf.Tensor(\n",
            "[[[[0. 1. 1. 1. 1.]\n",
            "   [0. 0. 1. 1. 1.]\n",
            "   [0. 0. 0. 1. 1.]\n",
            "   [0. 0. 0. 0. 1.]\n",
            "   [0. 0. 0. 0. 0.]]]], shape=(1, 1, 5, 5), dtype=float32)\n"
          ]
        }
      ],
      "source": [
        "print(create_look_ahead_mask(tf.constant([[1, 2, 3, 4, 5]])))"
      ]
    },
    {
      "cell_type": "code",
      "execution_count": null,
      "id": "6d109b25",
      "metadata": {
        "id": "6d109b25",
        "outputId": "9f23abf4-ae0b-409d-d84a-044d29f39eaf"
      },
      "outputs": [
        {
          "name": "stdout",
          "output_type": "stream",
          "text": [
            "tf.Tensor(\n",
            "[[[[1. 1. 1. 1. 1.]\n",
            "   [1. 0. 1. 1. 1.]\n",
            "   [1. 0. 0. 1. 1.]\n",
            "   [1. 0. 0. 0. 1.]\n",
            "   [1. 0. 0. 0. 0.]]]], shape=(1, 1, 5, 5), dtype=float32)\n"
          ]
        }
      ],
      "source": [
        "print(create_look_ahead_mask(tf.constant([[0, 5, 1, 5, 5]])))"
      ]
    },
    {
      "cell_type": "code",
      "execution_count": null,
      "id": "b998a8fd",
      "metadata": {
        "id": "b998a8fd",
        "outputId": "dfc0c92b-9103-4134-a64e-0575162aed24"
      },
      "outputs": [
        {
          "name": "stdout",
          "output_type": "stream",
          "text": [
            "슝=3\n"
          ]
        }
      ],
      "source": [
        "# Encoder layer = self attention(multi head attention) + feed forward neural network\n",
        "# 인코더 하나의 레이어를 함수로 구현.\n",
        "# 이 하나의 레이어 안에는 두 개의 서브 레이어가 존재합니다.\n",
        "def encoder_layer(units, d_model, num_heads, dropout, name=\"encoder_layer\"):\n",
        "  inputs = tf.keras.Input(shape=(None, d_model), name=\"inputs\")\n",
        "\n",
        "  # 패딩 마스크 사용\n",
        "  padding_mask = tf.keras.Input(shape=(1, 1, None), name=\"padding_mask\")\n",
        "\n",
        "  # 첫 번째 서브 레이어 : 멀티 헤드 어텐션 수행 (셀프 어텐션)\n",
        "  attention = MultiHeadAttention(\n",
        "      d_model, num_heads, name=\"attention\")({\n",
        "          'query': inputs,\n",
        "          'key': inputs,\n",
        "          'value': inputs,\n",
        "          'mask': padding_mask\n",
        "      })\n",
        "\n",
        "  # 어텐션의 결과는 Dropout과 Layer Normalization이라는 훈련을 돕는 테크닉을 수행\n",
        "  attention = tf.keras.layers.Dropout(rate=dropout)(attention)\n",
        "  attention = tf.keras.layers.LayerNormalization(\n",
        "      epsilon=1e-6)(inputs + attention)\n",
        "\n",
        "  # 두 번째 서브 레이어 : 2개의 완전연결층\n",
        "  outputs = tf.keras.layers.Dense(units=units, activation='relu')(attention)\n",
        "  outputs = tf.keras.layers.Dense(units=d_model)(outputs)\n",
        "\n",
        "  # 완전연결층의 결과는 Dropout과 LayerNormalization이라는 훈련을 돕는 테크닉을 수행\n",
        "  outputs = tf.keras.layers.Dropout(rate=dropout)(outputs)\n",
        "  outputs = tf.keras.layers.LayerNormalization(\n",
        "      epsilon=1e-6)(attention + outputs)\n",
        "\n",
        "  return tf.keras.Model(\n",
        "      inputs=[inputs, padding_mask], outputs=outputs, name=name)\n",
        "print(\"슝=3\")"
      ]
    },
    {
      "cell_type": "code",
      "execution_count": null,
      "id": "5e4fe59d",
      "metadata": {
        "id": "5e4fe59d",
        "outputId": "e83c0866-0b50-4b9a-819a-125b4fc8cedc"
      },
      "outputs": [
        {
          "name": "stdout",
          "output_type": "stream",
          "text": [
            "슝=3\n"
          ]
        }
      ],
      "source": [
        "# Transformer Encoder\n",
        "\n",
        "def encoder(vocab_size,\n",
        "            num_layers,\n",
        "            units,\n",
        "            d_model,\n",
        "            num_heads,\n",
        "            dropout,\n",
        "            name=\"encoder\"):\n",
        "  inputs = tf.keras.Input(shape=(None,), name=\"inputs\")\n",
        "\n",
        "  # 패딩 마스크 사용\n",
        "  padding_mask = tf.keras.Input(shape=(1, 1, None), name=\"padding_mask\")\n",
        "\n",
        "  # 임베딩 레이어\n",
        "  embeddings = tf.keras.layers.Embedding(vocab_size, d_model)(inputs)\n",
        "  embeddings *= tf.math.sqrt(tf.cast(d_model, tf.float32))\n",
        "\n",
        "  # 포지셔널 인코딩\n",
        "  embeddings = PositionalEncoding(vocab_size, d_model)(embeddings)\n",
        "\n",
        "  outputs = tf.keras.layers.Dropout(rate=dropout)(embeddings)\n",
        "\n",
        "  # num_layers만큼 쌓아올린 인코더의 층.\n",
        "  for i in range(num_layers):\n",
        "    outputs = encoder_layer(\n",
        "        units=units,\n",
        "        d_model=d_model,\n",
        "        num_heads=num_heads,\n",
        "        dropout=dropout,\n",
        "        name=\"encoder_layer_{}\".format(i),\n",
        "    )([outputs, padding_mask])\n",
        "\n",
        "  return tf.keras.Model(\n",
        "      inputs=[inputs, padding_mask], outputs=outputs, name=name)\n",
        "print(\"슝=3\")"
      ]
    },
    {
      "cell_type": "code",
      "execution_count": null,
      "id": "4ffb7906",
      "metadata": {
        "id": "4ffb7906",
        "outputId": "b0c60bbe-cc10-42b7-e2a5-093b4275573b"
      },
      "outputs": [
        {
          "name": "stdout",
          "output_type": "stream",
          "text": [
            "슝=3\n"
          ]
        }
      ],
      "source": [
        "# Decoder layer\n",
        "# 디코더 하나의 레이어를 함수로 구현.\n",
        "# 이 하나의 레이어 안에는 세 개의 서브 레이어가 존재합니다.\n",
        "def decoder_layer(units, d_model, num_heads, dropout, name=\"decoder_layer\"):\n",
        "  inputs = tf.keras.Input(shape=(None, d_model), name=\"inputs\")\n",
        "  enc_outputs = tf.keras.Input(shape=(None, d_model), name=\"encoder_outputs\")\n",
        "  look_ahead_mask = tf.keras.Input(\n",
        "      shape=(1, None, None), name=\"look_ahead_mask\")\n",
        "  padding_mask = tf.keras.Input(shape=(1, 1, None), name='padding_mask')\n",
        "\n",
        "  # 첫 번째 서브 레이어 : 멀티 헤드 어텐션 수행 (셀프 어텐션)\n",
        "  attention1 = MultiHeadAttention(\n",
        "      d_model, num_heads, name=\"attention_1\")(inputs={\n",
        "          'query': inputs,\n",
        "          'key': inputs,\n",
        "          'value': inputs,\n",
        "          'mask': look_ahead_mask\n",
        "      })\n",
        "\n",
        "  # 멀티 헤드 어텐션의 결과는 LayerNormalization이라는 훈련을 돕는 테크닉을 수행\n",
        "  attention1 = tf.keras.layers.LayerNormalization(\n",
        "      epsilon=1e-6)(attention1 + inputs)\n",
        "\n",
        "  # 두 번째 서브 레이어 : 마스크드 멀티 헤드 어텐션 수행 (인코더-디코더 어텐션)\n",
        "  attention2 = MultiHeadAttention(\n",
        "      d_model, num_heads, name=\"attention_2\")(inputs={\n",
        "          'query': attention1,\n",
        "          'key': enc_outputs,\n",
        "          'value': enc_outputs,\n",
        "          'mask': padding_mask\n",
        "      })\n",
        "\n",
        "  # 마스크드 멀티 헤드 어텐션의 결과는\n",
        "  # Dropout과 LayerNormalization이라는 훈련을 돕는 테크닉을 수행\n",
        "  attention2 = tf.keras.layers.Dropout(rate=dropout)(attention2)\n",
        "  attention2 = tf.keras.layers.LayerNormalization(\n",
        "      epsilon=1e-6)(attention2 + attention1)\n",
        "\n",
        "  # 세 번째 서브 레이어 : 2개의 완전연결층\n",
        "  outputs = tf.keras.layers.Dense(units=units, activation='relu')(attention2)\n",
        "  outputs = tf.keras.layers.Dense(units=d_model)(outputs)\n",
        "\n",
        "  # 완전연결층의 결과는 Dropout과 LayerNormalization 수행\n",
        "  outputs = tf.keras.layers.Dropout(rate=dropout)(outputs)\n",
        "  outputs = tf.keras.layers.LayerNormalization(\n",
        "      epsilon=1e-6)(outputs + attention2)\n",
        "\n",
        "  return tf.keras.Model(\n",
        "      inputs=[inputs, enc_outputs, look_ahead_mask, padding_mask],\n",
        "      outputs=outputs,\n",
        "      name=name)\n",
        "print(\"슝=3\")"
      ]
    },
    {
      "cell_type": "code",
      "execution_count": null,
      "id": "7fa18064",
      "metadata": {
        "id": "7fa18064",
        "outputId": "cd298347-abe3-4d66-ecea-b19e851abd31"
      },
      "outputs": [
        {
          "name": "stdout",
          "output_type": "stream",
          "text": [
            "슝=3\n"
          ]
        }
      ],
      "source": [
        "# Decoder\n",
        "def decoder(vocab_size,\n",
        "            num_layers,\n",
        "            units,\n",
        "            d_model,\n",
        "            num_heads,\n",
        "            dropout,\n",
        "            name='decoder'):\n",
        "  inputs = tf.keras.Input(shape=(None,), name='inputs')\n",
        "  enc_outputs = tf.keras.Input(shape=(None, d_model), name='encoder_outputs')\n",
        "  look_ahead_mask = tf.keras.Input(\n",
        "      shape=(1, None, None), name='look_ahead_mask')\n",
        "\n",
        "  # 패딩 마스크\n",
        "  padding_mask = tf.keras.Input(shape=(1, 1, None), name='padding_mask')\n",
        "\n",
        "  # 임베딩 레이어\n",
        "  embeddings = tf.keras.layers.Embedding(vocab_size, d_model)(inputs)\n",
        "  embeddings *= tf.math.sqrt(tf.cast(d_model, tf.float32))\n",
        "\n",
        "  # 포지셔널 인코딩\n",
        "  embeddings = PositionalEncoding(vocab_size, d_model)(embeddings)\n",
        "\n",
        "  # Dropout이라는 훈련을 돕는 테크닉을 수행\n",
        "  outputs = tf.keras.layers.Dropout(rate=dropout)(embeddings)\n",
        "\n",
        "  for i in range(num_layers):\n",
        "    outputs = decoder_layer(\n",
        "        units=units,\n",
        "        d_model=d_model,\n",
        "        num_heads=num_heads,\n",
        "        dropout=dropout,\n",
        "        name='decoder_layer_{}'.format(i),\n",
        "    )(inputs=[outputs, enc_outputs, look_ahead_mask, padding_mask])\n",
        "\n",
        "  return tf.keras.Model(\n",
        "      inputs=[inputs, enc_outputs, look_ahead_mask, padding_mask],\n",
        "      outputs=outputs,\n",
        "      name=name)\n",
        "print(\"슝=3\")"
      ]
    },
    {
      "cell_type": "code",
      "execution_count": null,
      "id": "b16b1a3e",
      "metadata": {
        "id": "b16b1a3e",
        "outputId": "956a2829-31c3-4c90-cd4d-4098b5a0be50"
      },
      "outputs": [
        {
          "name": "stdout",
          "output_type": "stream",
          "text": [
            "슝=3\n"
          ]
        }
      ],
      "source": [
        "def transformer(vocab_size,\n",
        "                num_layers,\n",
        "                units,\n",
        "                d_model,\n",
        "                num_heads,\n",
        "                dropout,\n",
        "                name=\"transformer\"):\n",
        "  inputs = tf.keras.Input(shape=(None,), name=\"inputs\")\n",
        "  dec_inputs = tf.keras.Input(shape=(None,), name=\"dec_inputs\")\n",
        "\n",
        "  # 인코더에서 패딩을 위한 마스크\n",
        "  enc_padding_mask = tf.keras.layers.Lambda(\n",
        "      create_padding_mask, output_shape=(1, 1, None),\n",
        "      name='enc_padding_mask')(inputs)\n",
        "\n",
        "  # 디코더에서 미래의 토큰을 마스크 하기 위해서 사용합니다.\n",
        "  # 내부적으로 패딩 마스크도 포함되어져 있습니다.\n",
        "  look_ahead_mask = tf.keras.layers.Lambda(\n",
        "      create_look_ahead_mask,\n",
        "      output_shape=(1, None, None),\n",
        "      name='look_ahead_mask')(dec_inputs)\n",
        "\n",
        "  # 두 번째 어텐션 블록에서 인코더의 벡터들을 마스킹\n",
        "  # 디코더에서 패딩을 위한 마스크\n",
        "  dec_padding_mask = tf.keras.layers.Lambda(\n",
        "      create_padding_mask, output_shape=(1, 1, None),\n",
        "      name='dec_padding_mask')(inputs)\n",
        "\n",
        "  # 인코더\n",
        "  enc_outputs = encoder(\n",
        "      vocab_size=vocab_size,\n",
        "      num_layers=num_layers,\n",
        "      units=units,\n",
        "      d_model=d_model,\n",
        "      num_heads=num_heads,\n",
        "      dropout=dropout,\n",
        "  )(inputs=[inputs, enc_padding_mask])\n",
        "\n",
        "  # 디코더\n",
        "  dec_outputs = decoder(\n",
        "      vocab_size=vocab_size,\n",
        "      num_layers=num_layers,\n",
        "      units=units,\n",
        "      d_model=d_model,\n",
        "      num_heads=num_heads,\n",
        "      dropout=dropout,\n",
        "  )(inputs=[dec_inputs, enc_outputs, look_ahead_mask, dec_padding_mask])\n",
        "\n",
        "  # 완전연결층\n",
        "  outputs = tf.keras.layers.Dense(units=vocab_size, name=\"outputs\")(dec_outputs)\n",
        "\n",
        "  return tf.keras.Model(inputs=[inputs, dec_inputs], outputs=outputs, name=name)\n",
        "print(\"슝=3\")"
      ]
    },
    {
      "cell_type": "markdown",
      "id": "27187e6b",
      "metadata": {
        "id": "27187e6b"
      },
      "source": [
        "## Model"
      ]
    },
    {
      "cell_type": "code",
      "execution_count": null,
      "id": "dddb9192",
      "metadata": {
        "id": "dddb9192",
        "outputId": "33d1ec8e-1096-403e-df6b-d627e30f94cc"
      },
      "outputs": [
        {
          "name": "stdout",
          "output_type": "stream",
          "text": [
            "Model: \"transformer\"\n",
            "__________________________________________________________________________________________________\n",
            "Layer (type)                    Output Shape         Param #     Connected to                     \n",
            "==================================================================================================\n",
            "inputs (InputLayer)             [(None, None)]       0                                            \n",
            "__________________________________________________________________________________________________\n",
            "dec_inputs (InputLayer)         [(None, None)]       0                                            \n",
            "__________________________________________________________________________________________________\n",
            "enc_padding_mask (Lambda)       (None, 1, 1, None)   0           inputs[0][0]                     \n",
            "__________________________________________________________________________________________________\n",
            "encoder (Functional)            (None, None, 512)    8918016     inputs[0][0]                     \n",
            "                                                                 enc_padding_mask[0][0]           \n",
            "__________________________________________________________________________________________________\n",
            "look_ahead_mask (Lambda)        (None, 1, None, None 0           dec_inputs[0][0]                 \n",
            "__________________________________________________________________________________________________\n",
            "dec_padding_mask (Lambda)       (None, 1, 1, None)   0           inputs[0][0]                     \n",
            "__________________________________________________________________________________________________\n",
            "decoder (Functional)            (None, None, 512)    12072960    dec_inputs[0][0]                 \n",
            "                                                                 encoder[0][0]                    \n",
            "                                                                 look_ahead_mask[0][0]            \n",
            "                                                                 dec_padding_mask[0][0]           \n",
            "__________________________________________________________________________________________________\n",
            "outputs (Dense)                 (None, None, 8172)   4192236     decoder[0][0]                    \n",
            "==================================================================================================\n",
            "Total params: 25,183,212\n",
            "Trainable params: 25,183,212\n",
            "Non-trainable params: 0\n",
            "__________________________________________________________________________________________________\n"
          ]
        }
      ],
      "source": [
        "tf.keras.backend.clear_session()\n",
        "\n",
        "# 하이퍼파라미터\n",
        "NUM_LAYERS = 3 # 인코더와 디코더의 층의 개수\n",
        "D_MODEL = 512 # 인코더와 디코더 내부의 입, 출력의 고정 차원\n",
        "NUM_HEADS = 8 # 멀티 헤드 어텐션에서의 헤드 수\n",
        "UNITS = 512 # 피드 포워드 신경망의 은닉층의 크기\n",
        "DROPOUT = 0.1 # 드롭아웃의 비율\n",
        "\n",
        "model = transformer(\n",
        "    vocab_size=VOCAB_SIZE,\n",
        "    num_layers=NUM_LAYERS,\n",
        "    units=UNITS,\n",
        "    d_model=D_MODEL,\n",
        "    num_heads=NUM_HEADS,\n",
        "    dropout=DROPOUT)\n",
        "\n",
        "model.summary()"
      ]
    },
    {
      "cell_type": "code",
      "execution_count": null,
      "id": "bef019df",
      "metadata": {
        "id": "bef019df",
        "outputId": "62fce66b-9432-4784-b196-47ecd05375e8"
      },
      "outputs": [
        {
          "data": {
            "image/svg+xml": [
              "<svg xmlns=\"http://www.w3.org/2000/svg\" xmlns:xlink=\"http://www.w3.org/1999/xlink\" width=\"1999pt\" height=\"516pt\" viewBox=\"0.00 0.00 1499.00 387.00\">\n",
              "<g id=\"graph0\" class=\"graph\" transform=\"scale(0.75 0.75) rotate(0) translate(4 383)\">\n",
              "<title>G</title>\n",
              "<polygon fill=\"white\" stroke=\"transparent\" points=\"-4,4 -4,-383 1495,-383 1495,4 -4,4\"/>\n",
              "<!-- 140002983342432 -->\n",
              "<g id=\"node1\" class=\"node\">\n",
              "<title>140002983342432</title>\n",
              "<polygon fill=\"none\" stroke=\"black\" points=\"255,-332.5 255,-378.5 594,-378.5 594,-332.5 255,-332.5\"/>\n",
              "<text text-anchor=\"middle\" x=\"329.5\" y=\"-351.8\" font-family=\"Times,serif\" font-size=\"14.00\">inputs: InputLayer</text>\n",
              "<polyline fill=\"none\" stroke=\"black\" points=\"404,-332.5 404,-378.5 \"/>\n",
              "<text text-anchor=\"middle\" x=\"438\" y=\"-363.3\" font-family=\"Times,serif\" font-size=\"14.00\">input:</text>\n",
              "<polyline fill=\"none\" stroke=\"black\" points=\"404,-355.5 472,-355.5 \"/>\n",
              "<text text-anchor=\"middle\" x=\"438\" y=\"-340.3\" font-family=\"Times,serif\" font-size=\"14.00\">output:</text>\n",
              "<polyline fill=\"none\" stroke=\"black\" points=\"472,-332.5 472,-378.5 \"/>\n",
              "<text text-anchor=\"middle\" x=\"533\" y=\"-363.3\" font-family=\"Times,serif\" font-size=\"14.00\">[(None, None)]</text>\n",
              "<polyline fill=\"none\" stroke=\"black\" points=\"472,-355.5 594,-355.5 \"/>\n",
              "<text text-anchor=\"middle\" x=\"533\" y=\"-340.3\" font-family=\"Times,serif\" font-size=\"14.00\">[(None, None)]</text>\n",
              "</g>\n",
              "<!-- 140002884582704 -->\n",
              "<g id=\"node3\" class=\"node\">\n",
              "<title>140002884582704</title>\n",
              "<polygon fill=\"none\" stroke=\"black\" points=\"87,-249.5 87,-295.5 518,-295.5 518,-249.5 87,-249.5\"/>\n",
              "<text text-anchor=\"middle\" x=\"195\" y=\"-268.8\" font-family=\"Times,serif\" font-size=\"14.00\">enc_padding_mask: Lambda</text>\n",
              "<polyline fill=\"none\" stroke=\"black\" points=\"303,-249.5 303,-295.5 \"/>\n",
              "<text text-anchor=\"middle\" x=\"337\" y=\"-280.3\" font-family=\"Times,serif\" font-size=\"14.00\">input:</text>\n",
              "<polyline fill=\"none\" stroke=\"black\" points=\"303,-272.5 371,-272.5 \"/>\n",
              "<text text-anchor=\"middle\" x=\"337\" y=\"-257.3\" font-family=\"Times,serif\" font-size=\"14.00\">output:</text>\n",
              "<polyline fill=\"none\" stroke=\"black\" points=\"371,-249.5 371,-295.5 \"/>\n",
              "<text text-anchor=\"middle\" x=\"444.5\" y=\"-280.3\" font-family=\"Times,serif\" font-size=\"14.00\">(None, None)</text>\n",
              "<polyline fill=\"none\" stroke=\"black\" points=\"371,-272.5 518,-272.5 \"/>\n",
              "<text text-anchor=\"middle\" x=\"444.5\" y=\"-257.3\" font-family=\"Times,serif\" font-size=\"14.00\">(None, 1, 1, None)</text>\n",
              "</g>\n",
              "<!-- 140002983342432&#45;&gt;140002884582704 -->\n",
              "<g id=\"edge1\" class=\"edge\">\n",
              "<title>140002983342432-&gt;140002884582704</title>\n",
              "<path fill=\"none\" stroke=\"black\" d=\"M391.16,-332.37C376.77,-322.81 359.78,-311.53 344.54,-301.41\"/>\n",
              "<polygon fill=\"black\" stroke=\"black\" points=\"346.06,-298.22 335.8,-295.61 342.19,-304.05 346.06,-298.22\"/>\n",
              "</g>\n",
              "<!-- 140002879264608 -->\n",
              "<g id=\"node4\" class=\"node\">\n",
              "<title>140002879264608</title>\n",
              "<polygon fill=\"none\" stroke=\"black\" points=\"0,-166.5 0,-212.5 487,-212.5 487,-166.5 0,-166.5\"/>\n",
              "<text text-anchor=\"middle\" x=\"79\" y=\"-185.8\" font-family=\"Times,serif\" font-size=\"14.00\">encoder: Functional</text>\n",
              "<polyline fill=\"none\" stroke=\"black\" points=\"158,-166.5 158,-212.5 \"/>\n",
              "<text text-anchor=\"middle\" x=\"192\" y=\"-197.3\" font-family=\"Times,serif\" font-size=\"14.00\">input:</text>\n",
              "<polyline fill=\"none\" stroke=\"black\" points=\"158,-189.5 226,-189.5 \"/>\n",
              "<text text-anchor=\"middle\" x=\"192\" y=\"-174.3\" font-family=\"Times,serif\" font-size=\"14.00\">output:</text>\n",
              "<polyline fill=\"none\" stroke=\"black\" points=\"226,-166.5 226,-212.5 \"/>\n",
              "<text text-anchor=\"middle\" x=\"356.5\" y=\"-197.3\" font-family=\"Times,serif\" font-size=\"14.00\">[(None, None), (None, 1, 1, None)]</text>\n",
              "<polyline fill=\"none\" stroke=\"black\" points=\"226,-189.5 487,-189.5 \"/>\n",
              "<text text-anchor=\"middle\" x=\"356.5\" y=\"-174.3\" font-family=\"Times,serif\" font-size=\"14.00\">(None, None, 512)</text>\n",
              "</g>\n",
              "<!-- 140002983342432&#45;&gt;140002879264608 -->\n",
              "<g id=\"edge2\" class=\"edge\">\n",
              "<title>140002983342432-&gt;140002879264608</title>\n",
              "<path fill=\"none\" stroke=\"black\" d=\"M556.82,-332.36C582.44,-320.33 602.18,-301.85 604.5,-273.5\"/>\n",
              "<path fill=\"none\" stroke=\"black\" d=\"M604.5,-271.5C606.23,-250.32 509.74,-229.4 416.09,-214.12\"/>\n",
              "<polygon fill=\"black\" stroke=\"black\" points=\"416.59,-210.66 406.16,-212.52 415.47,-217.57 416.59,-210.66\"/>\n",
              "</g>\n",
              "<!-- 140002894341648 -->\n",
              "<g id=\"node6\" class=\"node\">\n",
              "<title>140002894341648</title>\n",
              "<polygon fill=\"none\" stroke=\"black\" points=\"505,-166.5 505,-212.5 936,-212.5 936,-166.5 505,-166.5\"/>\n",
              "<text text-anchor=\"middle\" x=\"613\" y=\"-185.8\" font-family=\"Times,serif\" font-size=\"14.00\">dec_padding_mask: Lambda</text>\n",
              "<polyline fill=\"none\" stroke=\"black\" points=\"721,-166.5 721,-212.5 \"/>\n",
              "<text text-anchor=\"middle\" x=\"755\" y=\"-197.3\" font-family=\"Times,serif\" font-size=\"14.00\">input:</text>\n",
              "<polyline fill=\"none\" stroke=\"black\" points=\"721,-189.5 789,-189.5 \"/>\n",
              "<text text-anchor=\"middle\" x=\"755\" y=\"-174.3\" font-family=\"Times,serif\" font-size=\"14.00\">output:</text>\n",
              "<polyline fill=\"none\" stroke=\"black\" points=\"789,-166.5 789,-212.5 \"/>\n",
              "<text text-anchor=\"middle\" x=\"862.5\" y=\"-197.3\" font-family=\"Times,serif\" font-size=\"14.00\">(None, None)</text>\n",
              "<polyline fill=\"none\" stroke=\"black\" points=\"789,-189.5 936,-189.5 \"/>\n",
              "<text text-anchor=\"middle\" x=\"862.5\" y=\"-174.3\" font-family=\"Times,serif\" font-size=\"14.00\">(None, 1, 1, None)</text>\n",
              "</g>\n",
              "<!-- 140002983342432&#45;&gt;140002894341648 -->\n",
              "<g id=\"edge5\" class=\"edge\">\n",
              "<title>140002983342432-&gt;140002894341648</title>\n",
              "<path fill=\"none\" stroke=\"black\" d=\"M604.5,-271.5C606.47,-247.4 624.08,-229.86 645.01,-217.39\"/>\n",
              "<polygon fill=\"black\" stroke=\"black\" points=\"646.75,-220.43 653.81,-212.53 643.37,-214.3 646.75,-220.43\"/>\n",
              "</g>\n",
              "<!-- 140002867688256 -->\n",
              "<g id=\"node2\" class=\"node\">\n",
              "<title>140002867688256</title>\n",
              "<polygon fill=\"none\" stroke=\"black\" points=\"1120,-249.5 1120,-295.5 1491,-295.5 1491,-249.5 1120,-249.5\"/>\n",
              "<text text-anchor=\"middle\" x=\"1210.5\" y=\"-268.8\" font-family=\"Times,serif\" font-size=\"14.00\">dec_inputs: InputLayer</text>\n",
              "<polyline fill=\"none\" stroke=\"black\" points=\"1301,-249.5 1301,-295.5 \"/>\n",
              "<text text-anchor=\"middle\" x=\"1335\" y=\"-280.3\" font-family=\"Times,serif\" font-size=\"14.00\">input:</text>\n",
              "<polyline fill=\"none\" stroke=\"black\" points=\"1301,-272.5 1369,-272.5 \"/>\n",
              "<text text-anchor=\"middle\" x=\"1335\" y=\"-257.3\" font-family=\"Times,serif\" font-size=\"14.00\">output:</text>\n",
              "<polyline fill=\"none\" stroke=\"black\" points=\"1369,-249.5 1369,-295.5 \"/>\n",
              "<text text-anchor=\"middle\" x=\"1430\" y=\"-280.3\" font-family=\"Times,serif\" font-size=\"14.00\">[(None, None)]</text>\n",
              "<polyline fill=\"none\" stroke=\"black\" points=\"1369,-272.5 1491,-272.5 \"/>\n",
              "<text text-anchor=\"middle\" x=\"1430\" y=\"-257.3\" font-family=\"Times,serif\" font-size=\"14.00\">[(None, None)]</text>\n",
              "</g>\n",
              "<!-- 140002884582320 -->\n",
              "<g id=\"node5\" class=\"node\">\n",
              "<title>140002884582320</title>\n",
              "<polygon fill=\"none\" stroke=\"black\" points=\"954.5,-166.5 954.5,-212.5 1404.5,-212.5 1404.5,-166.5 954.5,-166.5\"/>\n",
              "<text text-anchor=\"middle\" x=\"1057.5\" y=\"-185.8\" font-family=\"Times,serif\" font-size=\"14.00\">look_ahead_mask: Lambda</text>\n",
              "<polyline fill=\"none\" stroke=\"black\" points=\"1160.5,-166.5 1160.5,-212.5 \"/>\n",
              "<text text-anchor=\"middle\" x=\"1194.5\" y=\"-197.3\" font-family=\"Times,serif\" font-size=\"14.00\">input:</text>\n",
              "<polyline fill=\"none\" stroke=\"black\" points=\"1160.5,-189.5 1228.5,-189.5 \"/>\n",
              "<text text-anchor=\"middle\" x=\"1194.5\" y=\"-174.3\" font-family=\"Times,serif\" font-size=\"14.00\">output:</text>\n",
              "<polyline fill=\"none\" stroke=\"black\" points=\"1228.5,-166.5 1228.5,-212.5 \"/>\n",
              "<text text-anchor=\"middle\" x=\"1316.5\" y=\"-197.3\" font-family=\"Times,serif\" font-size=\"14.00\">(None, None)</text>\n",
              "<polyline fill=\"none\" stroke=\"black\" points=\"1228.5,-189.5 1404.5,-189.5 \"/>\n",
              "<text text-anchor=\"middle\" x=\"1316.5\" y=\"-174.3\" font-family=\"Times,serif\" font-size=\"14.00\">(None, 1, None, None)</text>\n",
              "</g>\n",
              "<!-- 140002867688256&#45;&gt;140002884582320 -->\n",
              "<g id=\"edge4\" class=\"edge\">\n",
              "<title>140002867688256-&gt;140002884582320</title>\n",
              "<path fill=\"none\" stroke=\"black\" d=\"M1271.07,-249.37C1256.07,-239.72 1238.33,-228.32 1222.47,-218.13\"/>\n",
              "<polygon fill=\"black\" stroke=\"black\" points=\"1224.19,-215.07 1213.89,-212.61 1220.41,-220.96 1224.19,-215.07\"/>\n",
              "</g>\n",
              "<!-- 140002878445888 -->\n",
              "<g id=\"node7\" class=\"node\">\n",
              "<title>140002878445888</title>\n",
              "<polygon fill=\"none\" stroke=\"black\" points=\"552,-83.5 552,-129.5 1347,-129.5 1347,-83.5 552,-83.5\"/>\n",
              "<text text-anchor=\"middle\" x=\"631\" y=\"-102.8\" font-family=\"Times,serif\" font-size=\"14.00\">decoder: Functional</text>\n",
              "<polyline fill=\"none\" stroke=\"black\" points=\"710,-83.5 710,-129.5 \"/>\n",
              "<text text-anchor=\"middle\" x=\"744\" y=\"-114.3\" font-family=\"Times,serif\" font-size=\"14.00\">input:</text>\n",
              "<polyline fill=\"none\" stroke=\"black\" points=\"710,-106.5 778,-106.5 \"/>\n",
              "<text text-anchor=\"middle\" x=\"744\" y=\"-91.3\" font-family=\"Times,serif\" font-size=\"14.00\">output:</text>\n",
              "<polyline fill=\"none\" stroke=\"black\" points=\"778,-83.5 778,-129.5 \"/>\n",
              "<text text-anchor=\"middle\" x=\"1062.5\" y=\"-114.3\" font-family=\"Times,serif\" font-size=\"14.00\">[(None, None), (None, None, 512), (None, 1, None, None), (None, 1, 1, None)]</text>\n",
              "<polyline fill=\"none\" stroke=\"black\" points=\"778,-106.5 1347,-106.5 \"/>\n",
              "<text text-anchor=\"middle\" x=\"1062.5\" y=\"-91.3\" font-family=\"Times,serif\" font-size=\"14.00\">(None, None, 512)</text>\n",
              "</g>\n",
              "<!-- 140002867688256&#45;&gt;140002878445888 -->\n",
              "<g id=\"edge6\" class=\"edge\">\n",
              "<title>140002867688256-&gt;140002878445888</title>\n",
              "<path fill=\"none\" stroke=\"black\" d=\"M1372.43,-249.37C1388.67,-240.66 1404.06,-228.85 1413.5,-213 1424.19,-195.05 1427.32,-181.67 1413.5,-166 1400.75,-151.55 1333.65,-139.77 1254.25,-130.67\"/>\n",
              "<polygon fill=\"black\" stroke=\"black\" points=\"1254.33,-127.15 1244,-129.51 1253.54,-134.11 1254.33,-127.15\"/>\n",
              "</g>\n",
              "<!-- 140002884582704&#45;&gt;140002879264608 -->\n",
              "<g id=\"edge3\" class=\"edge\">\n",
              "<title>140002884582704-&gt;140002879264608</title>\n",
              "<path fill=\"none\" stroke=\"black\" d=\"M286.38,-249.37C279.94,-240.53 272.42,-230.21 265.5,-220.7\"/>\n",
              "<polygon fill=\"black\" stroke=\"black\" points=\"268.32,-218.63 259.6,-212.61 262.66,-222.75 268.32,-218.63\"/>\n",
              "</g>\n",
              "<!-- 140002879264608&#45;&gt;140002878445888 -->\n",
              "<g id=\"edge7\" class=\"edge\">\n",
              "<title>140002879264608-&gt;140002878445888</title>\n",
              "<path fill=\"none\" stroke=\"black\" d=\"M435.49,-166.47C532.2,-155.38 649.44,-141.93 747.52,-130.67\"/>\n",
              "<polygon fill=\"black\" stroke=\"black\" points=\"748.02,-134.14 757.55,-129.52 747.22,-127.18 748.02,-134.14\"/>\n",
              "</g>\n",
              "<!-- 140002884582320&#45;&gt;140002878445888 -->\n",
              "<g id=\"edge8\" class=\"edge\">\n",
              "<title>140002884582320-&gt;140002878445888</title>\n",
              "<path fill=\"none\" stroke=\"black\" d=\"M1116.96,-166.47C1087.55,-156.12 1052.32,-143.71 1021.77,-132.95\"/>\n",
              "<polygon fill=\"black\" stroke=\"black\" points=\"1022.63,-129.54 1012.03,-129.52 1020.3,-136.15 1022.63,-129.54\"/>\n",
              "</g>\n",
              "<!-- 140002894341648&#45;&gt;140002878445888 -->\n",
              "<g id=\"edge9\" class=\"edge\">\n",
              "<title>140002894341648-&gt;140002878445888</title>\n",
              "<path fill=\"none\" stroke=\"black\" d=\"M782.77,-166.47C812.05,-156.12 847.13,-143.71 877.54,-132.95\"/>\n",
              "<polygon fill=\"black\" stroke=\"black\" points=\"878.98,-136.16 887.24,-129.52 876.64,-129.56 878.98,-136.16\"/>\n",
              "</g>\n",
              "<!-- 140002879028768 -->\n",
              "<g id=\"node8\" class=\"node\">\n",
              "<title>140002879028768</title>\n",
              "<polygon fill=\"none\" stroke=\"black\" points=\"775,-0.5 775,-46.5 1124,-46.5 1124,-0.5 775,-0.5\"/>\n",
              "<text text-anchor=\"middle\" x=\"837.5\" y=\"-19.8\" font-family=\"Times,serif\" font-size=\"14.00\">outputs: Dense</text>\n",
              "<polyline fill=\"none\" stroke=\"black\" points=\"900,-0.5 900,-46.5 \"/>\n",
              "<text text-anchor=\"middle\" x=\"934\" y=\"-31.3\" font-family=\"Times,serif\" font-size=\"14.00\">input:</text>\n",
              "<polyline fill=\"none\" stroke=\"black\" points=\"900,-23.5 968,-23.5 \"/>\n",
              "<text text-anchor=\"middle\" x=\"934\" y=\"-8.3\" font-family=\"Times,serif\" font-size=\"14.00\">output:</text>\n",
              "<polyline fill=\"none\" stroke=\"black\" points=\"968,-0.5 968,-46.5 \"/>\n",
              "<text text-anchor=\"middle\" x=\"1046\" y=\"-31.3\" font-family=\"Times,serif\" font-size=\"14.00\">(None, None, 512)</text>\n",
              "<polyline fill=\"none\" stroke=\"black\" points=\"968,-23.5 1124,-23.5 \"/>\n",
              "<text text-anchor=\"middle\" x=\"1046\" y=\"-8.3\" font-family=\"Times,serif\" font-size=\"14.00\">(None, None, 8172)</text>\n",
              "</g>\n",
              "<!-- 140002878445888&#45;&gt;140002879028768 -->\n",
              "<g id=\"edge10\" class=\"edge\">\n",
              "<title>140002878445888-&gt;140002879028768</title>\n",
              "<path fill=\"none\" stroke=\"black\" d=\"M949.5,-83.37C949.5,-75.15 949.5,-65.66 949.5,-56.73\"/>\n",
              "<polygon fill=\"black\" stroke=\"black\" points=\"953,-56.61 949.5,-46.61 946,-56.61 953,-56.61\"/>\n",
              "</g>\n",
              "</g>\n",
              "</svg>"
            ],
            "text/plain": [
              "<IPython.core.display.SVG object>"
            ]
          },
          "execution_count": 34,
          "metadata": {},
          "output_type": "execute_result"
        }
      ],
      "source": [
        "from IPython.display import SVG\n",
        "from keras.utils.vis_utils import model_to_dot\n",
        "\n",
        "%matplotlib inline\n",
        "\n",
        "SVG(model_to_dot(model, show_shapes=True, dpi=96).create(prog='dot', format='svg'))"
      ]
    },
    {
      "cell_type": "markdown",
      "id": "b2794fcf",
      "metadata": {
        "id": "b2794fcf"
      },
      "source": [
        "## Loss function"
      ]
    },
    {
      "cell_type": "code",
      "execution_count": null,
      "id": "1c20cbab",
      "metadata": {
        "id": "1c20cbab",
        "outputId": "fc37f3dd-5f16-4764-e8d0-1cc80d5e88d8"
      },
      "outputs": [
        {
          "name": "stdout",
          "output_type": "stream",
          "text": [
            "슝=3\n"
          ]
        }
      ],
      "source": [
        "def loss_function(y_true, y_pred):\n",
        "  y_true = tf.reshape(y_true, shape=(-1, MAX_LENGTH - 1))\n",
        "\n",
        "  loss = tf.keras.losses.SparseCategoricalCrossentropy(\n",
        "      from_logits=True, reduction='none')(y_true, y_pred)\n",
        "\n",
        "  mask = tf.cast(tf.not_equal(y_true, 0), tf.float32)\n",
        "  loss = tf.multiply(loss, mask)\n",
        "\n",
        "  return tf.reduce_mean(loss)\n",
        "print(\"슝=3\")"
      ]
    },
    {
      "cell_type": "markdown",
      "id": "ec9b4785",
      "metadata": {
        "id": "ec9b4785"
      },
      "source": [
        "## Learning Rate"
      ]
    },
    {
      "cell_type": "code",
      "execution_count": null,
      "id": "d6ba4e6b",
      "metadata": {
        "id": "d6ba4e6b",
        "outputId": "31dcf524-eba3-4267-b665-5dc3d783f53c"
      },
      "outputs": [
        {
          "name": "stdout",
          "output_type": "stream",
          "text": [
            "슝=3\n"
          ]
        }
      ],
      "source": [
        "class CustomSchedule(tf.keras.optimizers.schedules.LearningRateSchedule):\n",
        "\n",
        "  def __init__(self, d_model, warmup_steps=4000):\n",
        "    super(CustomSchedule, self).__init__()\n",
        "\n",
        "    self.d_model = d_model\n",
        "    self.d_model = tf.cast(self.d_model, tf.float32)\n",
        "\n",
        "    self.warmup_steps = warmup_steps\n",
        "\n",
        "  def __call__(self, step):\n",
        "    arg1 = tf.math.rsqrt(step)\n",
        "    arg2 = step * (self.warmup_steps**-1.5)\n",
        "\n",
        "    return tf.math.rsqrt(self.d_model) * tf.math.minimum(arg1, arg2)\n",
        "print(\"슝=3\")"
      ]
    },
    {
      "cell_type": "code",
      "execution_count": null,
      "id": "453ddb8e",
      "metadata": {
        "id": "453ddb8e",
        "outputId": "a2c9cc5b-f1f9-456c-f9c0-65597d281f7f"
      },
      "outputs": [
        {
          "data": {
            "text/plain": [
              "Text(0.5, 0, 'Train Step')"
            ]
          },
          "execution_count": 37,
          "metadata": {},
          "output_type": "execute_result"
        },
        {
          "data": {
            "image/png": "[encoded data removed]",
            "text/plain": [
              "<Figure size 432x288 with 1 Axes>"
            ]
          },
          "metadata": {
            "needs_background": "light"
          },
          "output_type": "display_data"
        }
      ],
      "source": [
        "sample_learning_rate = CustomSchedule(d_model=128)\n",
        "\n",
        "plt.plot(sample_learning_rate(tf.range(200000, dtype=tf.float32)))\n",
        "plt.ylabel(\"Learning Rate\")\n",
        "plt.xlabel(\"Train Step\")"
      ]
    },
    {
      "cell_type": "markdown",
      "id": "3d57d71f",
      "metadata": {
        "id": "3d57d71f"
      },
      "source": [
        "## Model Compile"
      ]
    },
    {
      "cell_type": "code",
      "execution_count": null,
      "id": "a7064038",
      "metadata": {
        "id": "a7064038",
        "outputId": "fd6c10ec-9d3c-4d4d-805e-ff4a8573a8ac"
      },
      "outputs": [
        {
          "name": "stdout",
          "output_type": "stream",
          "text": [
            "슝=3\n"
          ]
        }
      ],
      "source": [
        "from tensorflow.keras import callbacks\n",
        "\n",
        "learning_rate = CustomSchedule(D_MODEL)\n",
        "\n",
        "optimizer = tf.keras.optimizers.Adam(\n",
        "    learning_rate, beta_1=0.9, beta_2=0.98, epsilon=1e-9)\n",
        "\n",
        "def accuracy(y_true, y_pred):\n",
        "    y_true = tf.reshape(y_true, shape=(-1, MAX_LENGTH - 1))\n",
        "    return tf.keras.metrics.sparse_categorical_accuracy(y_true, y_pred)\n",
        "\n",
        "model.compile(optimizer=optimizer, loss=loss_function, metrics=[accuracy])\n",
        "\n",
        "# check_point_cb = callbacks.ModelCheckpoint('chatbot_model',\n",
        "#                                            save_format='tf')\n",
        "early_stopping_cb = callbacks.EarlyStopping(patience=3,\n",
        "                                            monitor='accuracy',\n",
        "                                            restore_best_weights=True)\n",
        "print(\"슝=3\")"
      ]
    },
    {
      "cell_type": "markdown",
      "id": "ea3c68dd",
      "metadata": {
        "id": "ea3c68dd"
      },
      "source": [
        "## Train"
      ]
    },
    {
      "cell_type": "code",
      "execution_count": null,
      "id": "913f948e",
      "metadata": {
        "id": "913f948e",
        "outputId": "027dc709-3ba0-452d-efee-b1c8d61a9b3a"
      },
      "outputs": [
        {
          "name": "stdout",
          "output_type": "stream",
          "text": [
            "Epoch 1/100\n",
            "185/185 [==============================] - 32s 125ms/step - loss: 1.3438 - accuracy: 0.0293\n",
            "Epoch 2/100\n",
            "185/185 [==============================] - 24s 127ms/step - loss: 1.0623 - accuracy: 0.0497\n",
            "Epoch 3/100\n",
            "185/185 [==============================] - 23s 125ms/step - loss: 0.9657 - accuracy: 0.0527\n",
            "Epoch 4/100\n",
            "185/185 [==============================] - 23s 124ms/step - loss: 0.9047 - accuracy: 0.0561\n",
            "Epoch 5/100\n",
            "185/185 [==============================] - 23s 125ms/step - loss: 0.8420 - accuracy: 0.0594\n",
            "Epoch 6/100\n",
            "185/185 [==============================] - 23s 125ms/step - loss: 0.7708 - accuracy: 0.0651\n",
            "Epoch 7/100\n",
            "185/185 [==============================] - 23s 125ms/step - loss: 0.6916 - accuracy: 0.0739\n",
            "Epoch 8/100\n",
            "185/185 [==============================] - 23s 125ms/step - loss: 0.6054 - accuracy: 0.0835\n",
            "Epoch 9/100\n",
            "185/185 [==============================] - 23s 125ms/step - loss: 0.5158 - accuracy: 0.0944\n",
            "Epoch 10/100\n",
            "185/185 [==============================] - 23s 125ms/step - loss: 0.4261 - accuracy: 0.1063\n",
            "Epoch 11/100\n",
            "185/185 [==============================] - 23s 125ms/step - loss: 0.3387 - accuracy: 0.1183\n",
            "Epoch 12/100\n",
            "185/185 [==============================] - 23s 126ms/step - loss: 0.2593 - accuracy: 0.1297\n",
            "Epoch 13/100\n",
            "185/185 [==============================] - 23s 125ms/step - loss: 0.1915 - accuracy: 0.1402\n",
            "Epoch 14/100\n",
            "185/185 [==============================] - 23s 125ms/step - loss: 0.1367 - accuracy: 0.1496\n",
            "Epoch 15/100\n",
            "185/185 [==============================] - 23s 126ms/step - loss: 0.0985 - accuracy: 0.1560\n",
            "Epoch 16/100\n",
            "185/185 [==============================] - 23s 125ms/step - loss: 0.0745 - accuracy: 0.1601\n",
            "Epoch 17/100\n",
            "185/185 [==============================] - 23s 125ms/step - loss: 0.0608 - accuracy: 0.1624\n",
            "Epoch 18/100\n",
            "185/185 [==============================] - 23s 126ms/step - loss: 0.0545 - accuracy: 0.1630\n",
            "Epoch 19/100\n",
            "185/185 [==============================] - 23s 126ms/step - loss: 0.0503 - accuracy: 0.1634\n",
            "Epoch 20/100\n",
            "185/185 [==============================] - 23s 126ms/step - loss: 0.0489 - accuracy: 0.1637\n",
            "Epoch 21/100\n",
            "185/185 [==============================] - 23s 126ms/step - loss: 0.0491 - accuracy: 0.1631\n",
            "Epoch 22/100\n",
            "185/185 [==============================] - 23s 125ms/step - loss: 0.0475 - accuracy: 0.1635\n",
            "Epoch 23/100\n",
            "185/185 [==============================] - 23s 126ms/step - loss: 0.0457 - accuracy: 0.1638\n",
            "Epoch 24/100\n",
            "185/185 [==============================] - 23s 126ms/step - loss: 0.0410 - accuracy: 0.1649\n",
            "Epoch 25/100\n",
            "185/185 [==============================] - 23s 127ms/step - loss: 0.0359 - accuracy: 0.1660\n",
            "Epoch 26/100\n",
            "185/185 [==============================] - 23s 126ms/step - loss: 0.0327 - accuracy: 0.1669\n",
            "Epoch 27/100\n",
            "185/185 [==============================] - 23s 126ms/step - loss: 0.0292 - accuracy: 0.1679\n",
            "Epoch 28/100\n",
            "185/185 [==============================] - 23s 126ms/step - loss: 0.0270 - accuracy: 0.1682\n",
            "Epoch 29/100\n",
            "185/185 [==============================] - 23s 126ms/step - loss: 0.0254 - accuracy: 0.1687\n",
            "Epoch 30/100\n",
            "185/185 [==============================] - 23s 126ms/step - loss: 0.0222 - accuracy: 0.1695\n",
            "Epoch 31/100\n",
            "185/185 [==============================] - 23s 126ms/step - loss: 0.0209 - accuracy: 0.1699\n",
            "Epoch 32/100\n",
            "185/185 [==============================] - 23s 126ms/step - loss: 0.0202 - accuracy: 0.1700\n",
            "Epoch 33/100\n",
            "185/185 [==============================] - 23s 126ms/step - loss: 0.0187 - accuracy: 0.1704\n",
            "Epoch 34/100\n",
            "185/185 [==============================] - 23s 125ms/step - loss: 0.0173 - accuracy: 0.1708\n",
            "Epoch 35/100\n",
            "185/185 [==============================] - 23s 126ms/step - loss: 0.0160 - accuracy: 0.1711\n",
            "Epoch 36/100\n",
            "185/185 [==============================] - 23s 126ms/step - loss: 0.0150 - accuracy: 0.1714\n",
            "Epoch 37/100\n",
            "185/185 [==============================] - 23s 126ms/step - loss: 0.0138 - accuracy: 0.1716\n",
            "Epoch 38/100\n",
            "185/185 [==============================] - 23s 126ms/step - loss: 0.0134 - accuracy: 0.1717\n",
            "Epoch 39/100\n",
            "185/185 [==============================] - 23s 126ms/step - loss: 0.0123 - accuracy: 0.1720\n",
            "Epoch 40/100\n",
            "185/185 [==============================] - 23s 126ms/step - loss: 0.0117 - accuracy: 0.1723\n",
            "Epoch 41/100\n",
            "185/185 [==============================] - 23s 126ms/step - loss: 0.0115 - accuracy: 0.1723\n",
            "Epoch 42/100\n",
            "185/185 [==============================] - 23s 126ms/step - loss: 0.0112 - accuracy: 0.1724\n",
            "Epoch 43/100\n",
            "185/185 [==============================] - 23s 126ms/step - loss: 0.0104 - accuracy: 0.1726\n",
            "Epoch 44/100\n",
            "185/185 [==============================] - 23s 126ms/step - loss: 0.0104 - accuracy: 0.1725\n",
            "Epoch 45/100\n",
            "185/185 [==============================] - 23s 126ms/step - loss: 0.0094 - accuracy: 0.1728\n",
            "Epoch 46/100\n",
            "185/185 [==============================] - 23s 125ms/step - loss: 0.0092 - accuracy: 0.1728\n",
            "Epoch 47/100\n",
            "185/185 [==============================] - 23s 125ms/step - loss: 0.0094 - accuracy: 0.1728\n",
            "Epoch 48/100\n",
            "185/185 [==============================] - 23s 126ms/step - loss: 0.0086 - accuracy: 0.1730\n",
            "Epoch 49/100\n",
            "185/185 [==============================] - 23s 126ms/step - loss: 0.0081 - accuracy: 0.1731\n",
            "Epoch 50/100\n",
            "185/185 [==============================] - 23s 126ms/step - loss: 0.0080 - accuracy: 0.1732\n",
            "Epoch 51/100\n",
            "185/185 [==============================] - 23s 126ms/step - loss: 0.0076 - accuracy: 0.1732\n",
            "Epoch 52/100\n",
            "185/185 [==============================] - 23s 126ms/step - loss: 0.0077 - accuracy: 0.1732\n",
            "Epoch 53/100\n",
            "185/185 [==============================] - 23s 126ms/step - loss: 0.0071 - accuracy: 0.1733\n",
            "Epoch 54/100\n",
            "185/185 [==============================] - 23s 126ms/step - loss: 0.0065 - accuracy: 0.1735\n",
            "Epoch 55/100\n",
            "185/185 [==============================] - 23s 126ms/step - loss: 0.0067 - accuracy: 0.1734\n",
            "Epoch 56/100\n",
            "185/185 [==============================] - 23s 126ms/step - loss: 0.0063 - accuracy: 0.1735\n",
            "Epoch 57/100\n",
            "185/185 [==============================] - 23s 126ms/step - loss: 0.0061 - accuracy: 0.1736\n",
            "Epoch 58/100\n",
            "185/185 [==============================] - 23s 126ms/step - loss: 0.0060 - accuracy: 0.1736\n",
            "Epoch 59/100\n",
            "185/185 [==============================] - 23s 126ms/step - loss: 0.0060 - accuracy: 0.1735\n",
            "Epoch 60/100\n",
            "185/185 [==============================] - 23s 126ms/step - loss: 0.0060 - accuracy: 0.1736\n",
            "Epoch 61/100\n",
            "185/185 [==============================] - 23s 126ms/step - loss: 0.0061 - accuracy: 0.1736\n"
          ]
        }
      ],
      "source": [
        "EPOCHS = 100\n",
        "history1 = model.fit(dataset, epochs=EPOCHS, callbacks=[early_stopping_cb])"
      ]
    },
    {
      "cell_type": "code",
      "execution_count": null,
      "id": "339789ad",
      "metadata": {
        "id": "339789ad",
        "outputId": "5fd348c1-1612-48b5-995a-5b499c8b78fe"
      },
      "outputs": [
        {
          "name": "stdout",
          "output_type": "stream",
          "text": [
            "dict_keys(['loss', 'accuracy'])\n"
          ]
        }
      ],
      "source": [
        "history_dict1 = history1.history\n",
        "print(history_dict1.keys()) # epoch에 따른 그래프를 그려볼 수 있는 항목들"
      ]
    },
    {
      "cell_type": "code",
      "execution_count": null,
      "id": "43808a36",
      "metadata": {
        "scrolled": false,
        "id": "43808a36",
        "outputId": "3663f8a7-3419-4fbd-d904-31a884616ecd"
      },
      "outputs": [
        {
          "data": {
            "image/png": "[encoded data removed]",
            "text/plain": [
              "<Figure size 720x432 with 2 Axes>"
            ]
          },
          "metadata": {},
          "output_type": "display_data"
        }
      ],
      "source": [
        "import matplotlib.pyplot as plt\n",
        "\n",
        "acc = history_dict1['accuracy']\n",
        "loss = history_dict1['loss']\n",
        "\n",
        "epochs = range(1, len(acc) + 1)\n",
        "\n",
        "fig, ax1= plt.subplots(figsize=(10, 6), facecolor=\"w\")\n",
        "\n",
        "ax1.plot(epochs, acc, lw=3, color='blue')\n",
        "\n",
        "ax2 = ax1.twinx()\n",
        "\n",
        "ax2.plot(epochs, loss, lw=3, color='deeppink')\n",
        "\n",
        "# ax1.legend(['Accuracy'], loc='best', prop=dict(weight='bold'))\n",
        "# ax2.legend(['Loss'], loc=(0.85, 0.93), prop=dict(weight='bold'))\n",
        "ax1.set_title('Training Accuracy & Loss', fontsize=24, fontweight=\"bold\", pad=32)\n",
        "\n",
        "ax1.set_ylabel(\"Accuracy\", fontsize=12, fontweight=\"bold\", color='blue')\n",
        "ax2.set_ylabel(\"Loss\", fontsize=12, fontweight=\"bold\", color='deeppink')\n",
        "ax1.set_xlabel(\"Epochs\")\n",
        "\n",
        "plt.show()"
      ]
    },
    {
      "cell_type": "code",
      "execution_count": null,
      "id": "94b23c31",
      "metadata": {
        "id": "94b23c31"
      },
      "outputs": [],
      "source": [
        "from keras.models import load_model\n",
        "model.save_weights('chatbot_model')\n",
        "# model.save(\"chatbot_model.h5\")"
      ]
    },
    {
      "cell_type": "code",
      "execution_count": null,
      "id": "0a3fc3a4",
      "metadata": {
        "id": "0a3fc3a4"
      },
      "outputs": [],
      "source": [
        "load_status = model.load_weights('chatbot_model')\n",
        "\n",
        "# `assert_consumed` can be used as validation that all variable values have been\n",
        "# restored from the checkpoint. See `tf.train.Checkpoint.restore` for other\n",
        "# methods in the Status object.\n",
        "load_status.assert_consumed()"
      ]
    },
    {
      "cell_type": "markdown",
      "id": "8dc25a9f",
      "metadata": {
        "id": "8dc25a9f"
      },
      "source": [
        "# 4 Test Chat-Bot"
      ]
    },
    {
      "cell_type": "code",
      "execution_count": null,
      "id": "eee5dc9d",
      "metadata": {
        "id": "eee5dc9d",
        "outputId": "0070cca4-7547-449c-9b25-239845acfb91"
      },
      "outputs": [
        {
          "name": "stdout",
          "output_type": "stream",
          "text": [
            "슝=3\n"
          ]
        }
      ],
      "source": [
        "def decoder_inference(sentence):\n",
        "  sentence = preprocess_sentence(sentence)\n",
        "\n",
        "  # 입력된 문장을 정수 인코딩 후, 시작 토큰과 종료 토큰을 앞뒤로 추가.\n",
        "  # ex) Where have you been? → [[8331   86   30    5 1059    7 8332]]\n",
        "  sentence = tf.expand_dims(\n",
        "      START_TOKEN + tokenizer.encode(sentence) + END_TOKEN, axis=0)\n",
        "\n",
        "  # 디코더의 현재까지의 예측한 출력 시퀀스가 지속적으로 저장되는 변수.\n",
        "  # 처음에는 예측한 내용이 없음으로 시작 토큰만 별도 저장. ex) 8331\n",
        "  output_sequence = tf.expand_dims(START_TOKEN, 0)\n",
        "\n",
        "  # 디코더의 인퍼런스 단계\n",
        "  for i in range(MAX_LENGTH):\n",
        "    # 디코더는 최대 MAX_LENGTH의 길이만큼 다음 단어 예측을 반복합니다.\n",
        "    predictions = model(inputs=[sentence, output_sequence], training=False)\n",
        "    predictions = predictions[:, -1:, :]\n",
        "\n",
        "    # 현재 예측한 단어의 정수\n",
        "    predicted_id = tf.cast(tf.argmax(predictions, axis=-1), tf.int32)\n",
        "\n",
        "    # 만약 현재 예측한 단어가 종료 토큰이라면 for문을 종료\n",
        "    if tf.equal(predicted_id, END_TOKEN[0]):\n",
        "      break\n",
        "\n",
        "    # 예측한 단어들은 지속적으로 output_sequence에 추가됩니다.\n",
        "    # 이 output_sequence는 다시 디코더의 입력이 됩니다.\n",
        "    output_sequence = tf.concat([output_sequence, predicted_id], axis=-1)\n",
        "\n",
        "  return tf.squeeze(output_sequence, axis=0)\n",
        "print(\"슝=3\")"
      ]
    },
    {
      "cell_type": "code",
      "execution_count": null,
      "id": "e7742af9",
      "metadata": {
        "id": "e7742af9",
        "outputId": "eaac3200-582e-4ea6-a0e8-e2de280e0bab"
      },
      "outputs": [
        {
          "name": "stdout",
          "output_type": "stream",
          "text": [
            "슝=3\n"
          ]
        }
      ],
      "source": [
        "def sentence_generation(sentence):\n",
        "  # 입력 문장에 대해서 디코더를 동작 시켜 예측된 정수 시퀀스를 리턴받습니다.\n",
        "  prediction = decoder_inference(sentence)\n",
        "\n",
        "  # 정수 시퀀스를 다시 텍스트 시퀀스로 변환합니다.\n",
        "  predicted_sentence = tokenizer.decode(\n",
        "      [i for i in prediction if i < tokenizer.vocab_size])\n",
        "\n",
        "  print('입력 : {}'.format(sentence))\n",
        "  print('출력 : {}'.format(predicted_sentence))\n",
        "\n",
        "  return predicted_sentence\n",
        "print(\"슝=3\")"
      ]
    },
    {
      "cell_type": "code",
      "execution_count": null,
      "id": "b10c89a2",
      "metadata": {
        "id": "b10c89a2",
        "outputId": "7009ea5c-cbaf-41ab-abf7-c1973b2c9501"
      },
      "outputs": [
        {
          "name": "stdout",
          "output_type": "stream",
          "text": [
            "입력 : 졸리다.\n",
            "출력 : 잠을 깨요 ! 기운 내요 ! !\n"
          ]
        },
        {
          "data": {
            "text/plain": [
              "'잠을 깨요 ! 기운 내요 ! !'"
            ]
          },
          "execution_count": 53,
          "metadata": {},
          "output_type": "execute_result"
        }
      ],
      "source": [
        "sentence_generation('졸리다.')"
      ]
    },
    {
      "cell_type": "code",
      "execution_count": null,
      "id": "96f6bbfc",
      "metadata": {
        "id": "96f6bbfc",
        "outputId": "acd00314-940f-444a-d782-6f4462e8746f"
      },
      "outputs": [
        {
          "name": "stdout",
          "output_type": "stream",
          "text": [
            "입력 : 집이 깨끗하네요\n",
            "출력 : 무슨 이유일이 있었나봐요 .\n"
          ]
        },
        {
          "data": {
            "text/plain": [
              "'무슨 이유일이 있었나봐요 .'"
            ]
          },
          "execution_count": 59,
          "metadata": {},
          "output_type": "execute_result"
        }
      ],
      "source": [
        "sentence_generation(\"집이 깨끗하네요\")"
      ]
    },
    {
      "cell_type": "code",
      "execution_count": null,
      "id": "49325389",
      "metadata": {
        "id": "49325389",
        "outputId": "d5fa7e2c-9bc6-4eb6-ef78-c221cb03da45"
      },
      "outputs": [
        {
          "name": "stdout",
          "output_type": "stream",
          "text": [
            "입력 : 아침에 일찍 일어나는 방법이 있나요?\n",
            "출력 : 조금 더 일찍 잠을 자보세요 .\n"
          ]
        },
        {
          "data": {
            "text/plain": [
              "'조금 더 일찍 잠을 자보세요 .'"
            ]
          },
          "execution_count": 56,
          "metadata": {},
          "output_type": "execute_result"
        }
      ],
      "source": [
        "sentence_generation('아침에 일찍 일어나는 방법이 있나요?')"
      ]
    },
    {
      "cell_type": "code",
      "execution_count": null,
      "id": "ab8c2fe9",
      "metadata": {
        "id": "ab8c2fe9",
        "outputId": "43679e19-1b6b-43b7-adaa-85071bd1ff55"
      },
      "outputs": [
        {
          "name": "stdout",
          "output_type": "stream",
          "text": [
            "입력 : 가끔 무력해질 때가 있어요\n",
            "출력 : 지금처럼 현실을 인정하세요 .\n"
          ]
        },
        {
          "data": {
            "text/plain": [
              "'지금처럼 현실을 인정하세요 .'"
            ]
          },
          "execution_count": 57,
          "metadata": {},
          "output_type": "execute_result"
        }
      ],
      "source": [
        "sentence_generation(\"가끔 무력해질 때가 있어요\")"
      ]
    },
    {
      "cell_type": "markdown",
      "id": "58e07bf8",
      "metadata": {
        "id": "58e07bf8"
      },
      "source": [
        "# Review\n",
        "- 한글이므로 전처리시에 한글에 대한 것을 추가하였음.\n",
        "- accuracy와 loss 값이 안정적으로 수렴한 듯 보임.\n",
        "- 대화 내용이 어색한 것도 있지만 대체로 괜찮은 대답을 함.  \n",
        "\n",
        "|입력|출력|\n",
        "|--|--|\n",
        "|졸리다|잠을 깨요 ! 기운 내요 ! !|\n",
        "|집이 깨끗하네요|무슨 이유일이 있었나봐요 .|\n",
        "|아침에 일찍 일어나는 방법이 있나요?|조금 더 일찍 잠을 자보세요 .|\n",
        "|가끔 무력해질 때가 있어요|지금처럼 현실을 인정하세요 .|\n",
        "\n",
        "- 문제를 해결해주려는 의도의 문장이 생성이 됨."
      ]
    }
  ],
  "metadata": {
    "kernelspec": {
      "display_name": "Python 3 (ipykernel)",
      "language": "python",
      "name": "python3"
    },
    "language_info": {
      "codemirror_mode": {
        "name": "ipython",
        "version": 3
      },
      "file_extension": ".py",
      "mimetype": "text/x-python",
      "name": "python",
      "nbconvert_exporter": "python",
      "pygments_lexer": "ipython3",
      "version": "3.9.7"
    },
    "colab": {
      "provenance": [],
      "toc_visible": true,
      "include_colab_link": true
    }
  },
  "nbformat": 4,
  "nbformat_minor": 5
}