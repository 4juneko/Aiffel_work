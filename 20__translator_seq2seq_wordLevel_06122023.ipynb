{
  "cells": [
    {
      "cell_type": "markdown",
      "metadata": {
        "id": "view-in-github",
        "colab_type": "text"
      },
      "source": [
        "<a href=\"https://colab.research.google.com/github/4juneko/Aiffel_work/blob/master/20__translator_seq2seq_wordLevel_06122023.ipynb\" target=\"_parent\"><img src=\"https://colab.research.google.com/assets/colab-badge.svg\" alt=\"Open In Colab\"/></a>"
      ]
    },
    {
      "cell_type": "markdown",
      "metadata": {
        "id": "8os7MP-W79An"
      },
      "source": [
        "# Rubric\n",
        "|평가문항|\t상세기준|내 평가|\n",
        "|--|--|--|\n",
        "|1. 번역기 모델 학습에 필요한 텍스트 데이터 전처리가 잘 이루어졌다.\t|구두점, 대소문자, 띄어쓰기 등 번역기 모델에 요구되는 전처리가 정상적으로 진행되었다.|o|\n",
        "|2. seq2seq 기반의 번역기 모델이 정상적으로 구동된다.|\tseq2seq 모델 훈련결과를 그래프로 출력해보고, validation loss그래프가 우하향하는 경향성을 보이며 학습이 진행됨이 확인되었다.|o|\n",
        "|3. 테스트 결과 의미가 통하는 수준의 번역문이 생성되었다.\t|테스트용 디코더 모델이 정상적으로 만들어졌으며, input(영어)와 output(프랑스어) 모두 한글로 번역해서 결과를 출력해보았고, 둘의 내용이 유사함을 확인하였다.|o|"
      ]
    },
    {
      "cell_type": "markdown",
      "metadata": {
        "id": "Rp5iQ1Ci79At"
      },
      "source": [
        "# Get Data"
      ]
    },
    {
      "cell_type": "code",
      "execution_count": null,
      "metadata": {
        "ExecuteTime": {
          "end_time": "2020-09-24T02:42:06.707966Z",
          "start_time": "2020-09-24T02:42:06.704999Z"
        },
        "id": "1ql2oUTz79Au"
      },
      "outputs": [],
      "source": [
        "import pandas as pd\n",
        "from tensorflow.keras.preprocessing.text import Tokenizer\n",
        "from tensorflow.keras.preprocessing.sequence import pad_sequences\n",
        "from tensorflow.keras.utils import to_categorical\n",
        "import numpy as np\n",
        "import re\n",
        "from tensorflow.keras.layers import Input, LSTM, Embedding, Dense, Masking, Dropout\n",
        "from tensorflow.keras.models import Model"
      ]
    },
    {
      "cell_type": "code",
      "execution_count": null,
      "metadata": {
        "ExecuteTime": {
          "end_time": "2020-09-24T02:42:07.039493Z",
          "start_time": "2020-09-24T02:42:06.708861Z"
        },
        "id": "LPbPb4Z779Ax",
        "outputId": "f8143320-2a07-45e9-de65-b58ba6ff0a89"
      },
      "outputs": [
        {
          "name": "stdout",
          "output_type": "stream",
          "text": [
            "전체 샘플의 수: 217975\n"
          ]
        },
        {
          "data": {
            "text/html": [
              "<div>\n",
              "<style scoped>\n",
              "    .dataframe tbody tr th:only-of-type {\n",
              "        vertical-align: middle;\n",
              "    }\n",
              "\n",
              "    .dataframe tbody tr th {\n",
              "        vertical-align: top;\n",
              "    }\n",
              "\n",
              "    .dataframe thead th {\n",
              "        text-align: right;\n",
              "    }\n",
              "</style>\n",
              "<table border=\"1\" class=\"dataframe\">\n",
              "  <thead>\n",
              "    <tr style=\"text-align: right;\">\n",
              "      <th></th>\n",
              "      <th>eng</th>\n",
              "      <th>fra</th>\n",
              "      <th>cc</th>\n",
              "    </tr>\n",
              "  </thead>\n",
              "  <tbody>\n",
              "    <tr>\n",
              "      <th>151610</th>\n",
              "      <td>Last night we worked until 10 p.m.</td>\n",
              "      <td>Hier soir nous avons travaillé jusqu'à dix heu...</td>\n",
              "      <td>CC-BY 2.0 (France) Attribution: tatoeba.org #6...</td>\n",
              "    </tr>\n",
              "    <tr>\n",
              "      <th>207965</th>\n",
              "      <td>It's very likely that somebody will be waiting...</td>\n",
              "      <td>Il est très probable que quelqu'un sera en tra...</td>\n",
              "      <td>CC-BY 2.0 (France) Attribution: tatoeba.org #7...</td>\n",
              "    </tr>\n",
              "    <tr>\n",
              "      <th>133360</th>\n",
              "      <td>Tom told me that Mary was dead.</td>\n",
              "      <td>Tom m'a dit que Marie était morte.</td>\n",
              "      <td>CC-BY 2.0 (France) Attribution: tatoeba.org #6...</td>\n",
              "    </tr>\n",
              "    <tr>\n",
              "      <th>61645</th>\n",
              "      <td>He spoke highly of you.</td>\n",
              "      <td>Il a été dithyrambique à votre sujet.</td>\n",
              "      <td>CC-BY 2.0 (France) Attribution: tatoeba.org #1...</td>\n",
              "    </tr>\n",
              "    <tr>\n",
              "      <th>6974</th>\n",
              "      <td>Bring a lunch.</td>\n",
              "      <td>Apporte à déjeuner !</td>\n",
              "      <td>CC-BY 2.0 (France) Attribution: tatoeba.org #4...</td>\n",
              "    </tr>\n",
              "  </tbody>\n",
              "</table>\n",
              "</div>"
            ],
            "text/plain": [
              "                                                      eng  \\\n",
              "151610                 Last night we worked until 10 p.m.   \n",
              "207965  It's very likely that somebody will be waiting...   \n",
              "133360                    Tom told me that Mary was dead.   \n",
              "61645                             He spoke highly of you.   \n",
              "6974                                       Bring a lunch.   \n",
              "\n",
              "                                                      fra  \\\n",
              "151610  Hier soir nous avons travaillé jusqu'à dix heu...   \n",
              "207965  Il est très probable que quelqu'un sera en tra...   \n",
              "133360                 Tom m'a dit que Marie était morte.   \n",
              "61645               Il a été dithyrambique à votre sujet.   \n",
              "6974                                 Apporte à déjeuner !   \n",
              "\n",
              "                                                       cc  \n",
              "151610  CC-BY 2.0 (France) Attribution: tatoeba.org #6...  \n",
              "207965  CC-BY 2.0 (France) Attribution: tatoeba.org #7...  \n",
              "133360  CC-BY 2.0 (France) Attribution: tatoeba.org #6...  \n",
              "61645   CC-BY 2.0 (France) Attribution: tatoeba.org #1...  \n",
              "6974    CC-BY 2.0 (France) Attribution: tatoeba.org #4...  "
            ]
          },
          "execution_count": 2,
          "metadata": {},
          "output_type": "execute_result"
        }
      ],
      "source": [
        "import os\n",
        "file_path = os.getenv('HOME')+'/aiffel/translator_seq2seq/data/fra.txt'\n",
        "lines = pd.read_csv(file_path, names=['eng', 'fra', 'cc'], sep='\\t')\n",
        "print('전체 샘플의 수:', len(lines))\n",
        "lines.sample(5)"
      ]
    },
    {
      "cell_type": "code",
      "execution_count": null,
      "metadata": {
        "ExecuteTime": {
          "end_time": "2020-09-24T02:42:07.057125Z",
          "start_time": "2020-09-24T02:42:07.040354Z"
        },
        "id": "gNZeng_i79Az",
        "outputId": "966d847a-1be8-4e95-c7c1-46d18a1c1dbc"
      },
      "outputs": [
        {
          "data": {
            "text/html": [
              "<div>\n",
              "<style scoped>\n",
              "    .dataframe tbody tr th:only-of-type {\n",
              "        vertical-align: middle;\n",
              "    }\n",
              "\n",
              "    .dataframe tbody tr th {\n",
              "        vertical-align: top;\n",
              "    }\n",
              "\n",
              "    .dataframe thead th {\n",
              "        text-align: right;\n",
              "    }\n",
              "</style>\n",
              "<table border=\"1\" class=\"dataframe\">\n",
              "  <thead>\n",
              "    <tr style=\"text-align: right;\">\n",
              "      <th></th>\n",
              "      <th>eng</th>\n",
              "      <th>fra</th>\n",
              "    </tr>\n",
              "  </thead>\n",
              "  <tbody>\n",
              "    <tr>\n",
              "      <th>87653</th>\n",
              "      <td>I haven't lost any weight.</td>\n",
              "      <td>Je n'ai pas perdu de poids.</td>\n",
              "    </tr>\n",
              "    <tr>\n",
              "      <th>64848</th>\n",
              "      <td>Please give him a call.</td>\n",
              "      <td>Veuillez lui téléphoner, je vous prie.</td>\n",
              "    </tr>\n",
              "    <tr>\n",
              "      <th>67215</th>\n",
              "      <td>What do you make of it?</td>\n",
              "      <td>Qu'est ce que tu en penses ?</td>\n",
              "    </tr>\n",
              "    <tr>\n",
              "      <th>61696</th>\n",
              "      <td>He was shorter than me.</td>\n",
              "      <td>Il était plus petit que moi.</td>\n",
              "    </tr>\n",
              "    <tr>\n",
              "      <th>84239</th>\n",
              "      <td>Where did you learn that?</td>\n",
              "      <td>Où as-tu appris ça ?</td>\n",
              "    </tr>\n",
              "  </tbody>\n",
              "</table>\n",
              "</div>"
            ],
            "text/plain": [
              "                              eng                                     fra\n",
              "87653  I haven't lost any weight.             Je n'ai pas perdu de poids.\n",
              "64848     Please give him a call.  Veuillez lui téléphoner, je vous prie.\n",
              "67215     What do you make of it?            Qu'est ce que tu en penses ?\n",
              "61696     He was shorter than me.            Il était plus petit que moi.\n",
              "84239   Where did you learn that?                    Où as-tu appris ça ?"
            ]
          },
          "execution_count": 3,
          "metadata": {},
          "output_type": "execute_result"
        }
      ],
      "source": [
        "lines = lines[['eng', 'fra']][60000:93000]\n",
        "lines.sample(5)"
      ]
    },
    {
      "cell_type": "code",
      "execution_count": null,
      "metadata": {
        "ExecuteTime": {
          "end_time": "2020-09-24T02:42:07.065580Z",
          "start_time": "2020-09-24T02:42:07.058132Z"
        },
        "id": "cUFkl7Mz79A0",
        "outputId": "04c7e731-387b-4192-f4d5-8566c2b8b2ae"
      },
      "outputs": [
        {
          "data": {
            "text/plain": [
              "array(['You were there, right?', 'You will stay at home.',\n",
              "       \"You won't be punished.\", ..., 'What time did you wake up?',\n",
              "       'What time did you wake up?', 'What time did you wake up?'],\n",
              "      dtype=object)"
            ]
          },
          "execution_count": 4,
          "metadata": {},
          "output_type": "execute_result"
        }
      ],
      "source": [
        "lines_np_eng= lines['eng'].to_numpy()\n",
        "lines_np_fra= lines['fra'].to_numpy()\n",
        "lines_np_eng"
      ]
    },
    {
      "cell_type": "markdown",
      "metadata": {
        "id": "LfRiqRuI79A1"
      },
      "source": [
        "# 1 Refine, normalize, preprocess"
      ]
    },
    {
      "cell_type": "code",
      "execution_count": null,
      "metadata": {
        "ExecuteTime": {
          "end_time": "2020-09-24T02:42:07.078380Z",
          "start_time": "2020-09-24T02:42:07.066612Z"
        },
        "id": "ax3s_3zD79A2"
      },
      "outputs": [],
      "source": [
        "sos_token = '<start> '\n",
        "eos_token = ' <end>'\n",
        "\n",
        "def preprocess_line(line, plus_token = True):\n",
        "    # 소문자로 변경하기\n",
        "    line = line.lower().strip()\n",
        "    # 구두점(Punctuation)을 단어와 분리하기\n",
        "    line = re.sub(r\"([?.!,¿])\", r\" \\1 \", line)\n",
        "    line = re.sub(r'[\" \"]+', \" \", line)\n",
        "    line = re.sub(r\"[^a-zA-Z?.!,¿]+\", \" \", line)\n",
        "\n",
        "    line = line.strip()\n",
        "\n",
        "    if plus_token == True:\n",
        "        line = sos_token + line + eos_token\n",
        "\n",
        "    return line"
      ]
    },
    {
      "cell_type": "markdown",
      "metadata": {
        "id": "z9USPypV79A3"
      },
      "source": [
        "## Tokenize"
      ]
    },
    {
      "cell_type": "code",
      "execution_count": null,
      "metadata": {
        "ExecuteTime": {
          "end_time": "2020-09-24T02:42:07.088838Z",
          "start_time": "2020-09-24T02:42:07.079546Z"
        },
        "id": "89dvem_J79A3"
      },
      "outputs": [],
      "source": [
        "def tokenize(corpus):\n",
        "    tokenizer = Tokenizer(\n",
        "        num_words=7000,\n",
        "        filters=' ',\n",
        "        oov_token=\"<unk>\"\n",
        "    )\n",
        "    tokenizer.fit_on_texts(corpus)\n",
        "\n",
        "    tensor = tokenizer.texts_to_sequences(corpus)\n",
        "\n",
        "    return tensor, tokenizer"
      ]
    },
    {
      "cell_type": "code",
      "execution_count": null,
      "metadata": {
        "ExecuteTime": {
          "end_time": "2020-09-24T02:42:07.664834Z",
          "start_time": "2020-09-24T02:42:07.089865Z"
        },
        "id": "5wHJX0rb79A4"
      },
      "outputs": [],
      "source": [
        "eng_lines = []\n",
        "fra_lines = []\n",
        "\n",
        "# eng_lines.append(lines.eng.apply(lambda x : preprocess_line(x,plus_token = False)))\n",
        "# fra_lines.append(lines.fra.apply(lambda x : preprocess_line(x),))\n",
        "\n",
        "for eng, fra in zip(lines.eng, lines.fra):\n",
        "    if len(eng) == 0: continue\n",
        "    if len(fra) == 0: continue\n",
        "\n",
        "    eng_lines.append(preprocess_line(eng, plus_token = False))\n",
        "    fra_lines.append(preprocess_line(fra))"
      ]
    },
    {
      "cell_type": "code",
      "execution_count": null,
      "metadata": {
        "ExecuteTime": {
          "end_time": "2020-09-24T02:42:07.672511Z",
          "start_time": "2020-09-24T02:42:07.665883Z"
        },
        "id": "HBq2oAkl79A5",
        "outputId": "1b6b3af5-800a-4f2c-bb64-15036f490cc1"
      },
      "outputs": [
        {
          "data": {
            "text/plain": [
              "(33000,)"
            ]
          },
          "execution_count": 8,
          "metadata": {},
          "output_type": "execute_result"
        }
      ],
      "source": [
        "np.shape(eng_lines)"
      ]
    },
    {
      "cell_type": "code",
      "execution_count": null,
      "metadata": {
        "ExecuteTime": {
          "end_time": "2020-09-24T02:42:08.316454Z",
          "start_time": "2020-09-24T02:42:07.673413Z"
        },
        "scrolled": true,
        "id": "zuSCeOlp79A5",
        "outputId": "64dcaadb-48f1-4b66-e677-4b6346a5c6d3"
      },
      "outputs": [
        {
          "data": {
            "text/plain": [
              "[[2, 15, 105, 23, 374, 34, 19, 7, 22, 8, 6, 3],\n",
              " [2, 15, 3036, 151, 78, 4, 3],\n",
              " [2, 15, 13, 1135, 8, 3723, 4, 3],\n",
              " [2, 10, 19, 347, 8, 16, 1519, 4, 3],\n",
              " [2, 15, 13, 389, 8, 16, 1519, 4, 3],\n",
              " [2, 10, 19, 1647, 8, 17, 4, 3],\n",
              " [2, 15, 443, 176, 9, 5098, 4, 3],\n",
              " [2, 15, 443, 176, 9, 35, 20, 128, 278, 4, 3],\n",
              " [2, 15, 443, 176, 9, 26, 841, 72, 4, 3],\n",
              " [2, 10, 1136, 176, 9, 10, 841, 72, 4, 3]]"
            ]
          },
          "execution_count": 9,
          "metadata": {},
          "output_type": "execute_result"
        }
      ],
      "source": [
        "eng_tensor, eng_tokenizer = tokenize(eng_lines)\n",
        "fra_tensor, fra_tokenizer = tokenize(fra_lines)\n",
        "fra_tensor[:10]"
      ]
    },
    {
      "cell_type": "code",
      "execution_count": null,
      "metadata": {
        "id": "m0S7Uvln79A5",
        "outputId": "5b336922-6851-4967-a5ee-7ef81a7d422e"
      },
      "outputs": [
        {
          "data": {
            "text/plain": [
              "[[4, 61, 53, 43, 88, 5],\n",
              " [4, 78, 144, 48, 101, 2],\n",
              " [4, 108, 7, 31, 1650, 2],\n",
              " [4, 108, 7, 630, 16, 2],\n",
              " [4, 108, 7, 630, 16, 2],\n",
              " [4, 481, 7, 35, 11, 2],\n",
              " [4, 76, 141, 121, 147, 2],\n",
              " [4, 76, 141, 404, 72, 2],\n",
              " [4, 76, 141, 427, 49, 2],\n",
              " [4, 76, 141, 427, 49, 2]]"
            ]
          },
          "execution_count": 10,
          "metadata": {},
          "output_type": "execute_result"
        }
      ],
      "source": [
        "eng_tensor[:10]"
      ]
    },
    {
      "cell_type": "code",
      "execution_count": null,
      "metadata": {
        "ExecuteTime": {
          "end_time": "2020-09-24T02:42:08.408003Z",
          "start_time": "2020-09-24T02:42:08.320511Z"
        },
        "id": "BTL3E4_G79A6"
      },
      "outputs": [],
      "source": [
        "encoder_input = eng_tensor\n",
        "# 종료 토큰 제거\n",
        "decoder_input = [[char for char in line if char != fra_tokenizer.word_index['<end>']] for line in fra_tensor]\n",
        "# 시작 토큰 제거\n",
        "decoder_target =[[char for char in line if char != fra_tokenizer.word_index['<start>']] for line in fra_tensor]"
      ]
    },
    {
      "cell_type": "markdown",
      "metadata": {
        "id": "Cm-8H_sQ79A6"
      },
      "source": [
        "## padding"
      ]
    },
    {
      "cell_type": "code",
      "execution_count": null,
      "metadata": {
        "ExecuteTime": {
          "end_time": "2020-09-24T02:42:08.411266Z",
          "start_time": "2020-09-24T02:42:08.409121Z"
        },
        "id": "mdnBmIKK79A7"
      },
      "outputs": [],
      "source": [
        "def pad_tensor(tensor):\n",
        "    total_data_text = list(tensor)\n",
        "    num_tokens = [len(tokens) for tokens in total_data_text]\n",
        "    max_tokens = max(num_tokens)\n",
        "#     max_tokens = np.mean(num_tokens) + 2 * np.std(num_tokens)\n",
        "    maxlen = int(max_tokens)\n",
        "    tensor = pad_sequences(tensor, padding='post', maxlen=maxlen)\n",
        "    return tensor"
      ]
    },
    {
      "cell_type": "code",
      "execution_count": null,
      "metadata": {
        "ExecuteTime": {
          "end_time": "2020-09-24T02:42:08.724842Z",
          "start_time": "2020-09-24T02:42:08.412137Z"
        },
        "id": "0EbIZ62l79A7",
        "outputId": "ed71cfcf-212d-4bfb-fb85-f8c27ddadb81"
      },
      "outputs": [
        {
          "name": "stdout",
          "output_type": "stream",
          "text": [
            "영어 데이터의 크기(shape) : (33000, 10)\n",
            "프랑스어 입력데이터의 크기(shape) : (33000, 17)\n",
            "프랑스어 출력데이터의 크기(shape) : (33000, 17)\n"
          ]
        }
      ],
      "source": [
        "encoder_input = pad_tensor(encoder_input)\n",
        "decoder_input = pad_tensor(decoder_input)\n",
        "decoder_target = pad_tensor(decoder_target)\n",
        "print('영어 데이터의 크기(shape) :',np.shape(encoder_input))\n",
        "print('프랑스어 입력데이터의 크기(shape) :',np.shape(decoder_input))\n",
        "print('프랑스어 출력데이터의 크기(shape) :',np.shape(decoder_target))"
      ]
    },
    {
      "cell_type": "code",
      "execution_count": null,
      "metadata": {
        "ExecuteTime": {
          "end_time": "2020-09-24T02:42:08.728291Z",
          "start_time": "2020-09-24T02:42:08.725786Z"
        },
        "id": "6bmxR_DB79A7"
      },
      "outputs": [],
      "source": [
        "eng_vocab_size = len(eng_tokenizer.word_index)+1\n",
        "fra_vocab_size = len(fra_tokenizer.word_index)+1\n",
        "\n",
        "max_eng_seq_len = encoder_input.shape[1]\n",
        "max_fra_seq_len = decoder_input.shape[1]"
      ]
    },
    {
      "cell_type": "code",
      "execution_count": null,
      "metadata": {
        "ExecuteTime": {
          "end_time": "2020-09-24T02:42:08.750134Z",
          "start_time": "2020-09-24T02:42:08.729282Z"
        },
        "scrolled": true,
        "id": "1IyhnPIQ79A7",
        "outputId": "c0751e85-b94e-49a0-80a4-2cfd73209c63"
      },
      "outputs": [
        {
          "name": "stdout",
          "output_type": "stream",
          "text": [
            "전체 샘플의 수 : 33000\n",
            "영어 단어장의 크기 : 5795\n",
            "프랑스어 단어장의 크기 : 8297\n",
            "영어 시퀀스의 최대 길이 10\n",
            "프랑스어 시퀀스의 최대 길이 17\n"
          ]
        }
      ],
      "source": [
        "print('전체 샘플의 수 :',len(lines))\n",
        "print('영어 단어장의 크기 :', eng_vocab_size)\n",
        "print('프랑스어 단어장의 크기 :', fra_vocab_size)\n",
        "print('영어 시퀀스의 최대 길이', max_eng_seq_len)\n",
        "print('프랑스어 시퀀스의 최대 길이', max_fra_seq_len)"
      ]
    },
    {
      "cell_type": "markdown",
      "metadata": {
        "id": "ASJU7oy079A8"
      },
      "source": [
        "## Split"
      ]
    },
    {
      "cell_type": "code",
      "execution_count": null,
      "metadata": {
        "ExecuteTime": {
          "end_time": "2020-09-24T02:42:08.777325Z",
          "start_time": "2020-09-24T02:42:08.751082Z"
        },
        "id": "DPV9LP1279A8"
      },
      "outputs": [],
      "source": [
        "indices = np.arange(encoder_input.shape[0])\n",
        "np.random.shuffle(indices)\n",
        "\n",
        "encoder_input = encoder_input[indices]\n",
        "decoder_input = decoder_input[indices]\n",
        "decoder_target = decoder_target[indices]"
      ]
    },
    {
      "cell_type": "code",
      "execution_count": null,
      "metadata": {
        "ExecuteTime": {
          "end_time": "2020-09-24T02:42:08.784171Z",
          "start_time": "2020-09-24T02:42:08.778467Z"
        },
        "id": "dJRi9Yci79A8",
        "outputId": "9b7895e1-8a4e-44c2-b343-ce7d7999023a"
      },
      "outputs": [
        {
          "name": "stdout",
          "output_type": "stream",
          "text": [
            "(30000, 10)\n",
            "(30000, 17)\n",
            "(30000, 17)\n",
            "(3000, 10)\n",
            "(3000, 17)\n",
            "(3000, 17)\n"
          ]
        }
      ],
      "source": [
        "n_of_val = 3000\n",
        "\n",
        "encoder_input_train = encoder_input[:-n_of_val]\n",
        "decoder_input_train = decoder_input[:-n_of_val]\n",
        "decoder_target_train = decoder_target[:-n_of_val]\n",
        "\n",
        "encoder_input_test = encoder_input[-n_of_val:]\n",
        "decoder_input_test = decoder_input[-n_of_val:]\n",
        "decoder_target_test = decoder_target[-n_of_val:]\n",
        "\n",
        "print(encoder_input_train.shape)\n",
        "print(decoder_input_train.shape)\n",
        "print(decoder_target_train.shape)\n",
        "print(encoder_input_test.shape)\n",
        "print(decoder_input_test.shape)\n",
        "print(decoder_target_test.shape)"
      ]
    },
    {
      "cell_type": "markdown",
      "metadata": {
        "id": "Og5X6sxX79A9"
      },
      "source": [
        "# Get Train Model with Embedding layer\n",
        "https://wikidocs.net/33793"
      ]
    },
    {
      "cell_type": "markdown",
      "metadata": {
        "id": "J_ViIQp979A9"
      },
      "source": [
        "## Encoder"
      ]
    },
    {
      "cell_type": "code",
      "execution_count": null,
      "metadata": {
        "ExecuteTime": {
          "end_time": "2020-09-24T02:49:26.091256Z",
          "start_time": "2020-09-24T02:49:25.476357Z"
        },
        "id": "etyxjIBY79A9"
      },
      "outputs": [],
      "source": [
        "embedding_size = 512\n",
        "hidden_size = 512\n",
        "\n",
        "encoder_inputs = Input(shape=(None, ), name='encoder_input')\n",
        "enc_emb =  Embedding(eng_vocab_size, embedding_size,\n",
        "                    input_length=max_eng_seq_len)(encoder_inputs)\n",
        "enc_masking = Masking(mask_value=0.0)(enc_emb)\n",
        "\n",
        "encoder_lstm = LSTM(hidden_size, dropout = 0.5, return_state=True)\n",
        "encoder_outputs, state_h, state_c = encoder_lstm(enc_masking)\n",
        "\n",
        "encoder_states = [state_h, state_c]"
      ]
    },
    {
      "cell_type": "markdown",
      "metadata": {
        "id": "ymV2fBaP79A9"
      },
      "source": [
        "## Decoder"
      ]
    },
    {
      "cell_type": "code",
      "execution_count": null,
      "metadata": {
        "ExecuteTime": {
          "end_time": "2020-09-24T02:49:26.784028Z",
          "start_time": "2020-09-24T02:49:26.193095Z"
        },
        "id": "xdqkL2g-79A9"
      },
      "outputs": [],
      "source": [
        "decoder_inputs = Input(shape=(None, ), name='decoder_input')\n",
        "dec_emb =  Embedding(fra_vocab_size, embedding_size)(decoder_inputs)\n",
        "dec_masking = Masking(mask_value=0.0)(dec_emb)\n",
        "\n",
        "decoder_lstm = LSTM(hidden_size, dropout = 0.5, return_sequences = True, return_state=True)\n",
        "decoder_outputs, _, _ = decoder_lstm(dec_masking, initial_state = encoder_states)"
      ]
    },
    {
      "cell_type": "code",
      "execution_count": null,
      "metadata": {
        "ExecuteTime": {
          "end_time": "2020-09-24T02:49:26.914694Z",
          "start_time": "2020-09-24T02:49:26.898013Z"
        },
        "id": "dm81vz3h79A9"
      },
      "outputs": [],
      "source": [
        "decoder_softmax_layer = Dense(fra_vocab_size, activation='softmax')\n",
        "decoder_outputs = decoder_softmax_layer(decoder_outputs)"
      ]
    },
    {
      "cell_type": "markdown",
      "metadata": {
        "id": "hrYGbv6e79A-"
      },
      "source": [
        "## Join Train Model"
      ]
    },
    {
      "cell_type": "code",
      "execution_count": null,
      "metadata": {
        "ExecuteTime": {
          "end_time": "2020-09-24T02:49:27.032908Z",
          "start_time": "2020-09-24T02:49:27.023537Z"
        },
        "id": "AVD9hgtr79A-",
        "outputId": "31901984-ae67-4d67-dc68-973d61c3bf5e"
      },
      "outputs": [
        {
          "name": "stdout",
          "output_type": "stream",
          "text": [
            "Model: \"model\"\n",
            "__________________________________________________________________________________________________\n",
            "Layer (type)                    Output Shape         Param #     Connected to                     \n",
            "==================================================================================================\n",
            "encoder_input (InputLayer)      [(None, None)]       0                                            \n",
            "__________________________________________________________________________________________________\n",
            "decoder_input (InputLayer)      [(None, None)]       0                                            \n",
            "__________________________________________________________________________________________________\n",
            "embedding (Embedding)           (None, None, 512)    2967040     encoder_input[0][0]              \n",
            "__________________________________________________________________________________________________\n",
            "embedding_1 (Embedding)         (None, None, 512)    4248064     decoder_input[0][0]              \n",
            "__________________________________________________________________________________________________\n",
            "masking (Masking)               (None, None, 512)    0           embedding[0][0]                  \n",
            "__________________________________________________________________________________________________\n",
            "masking_1 (Masking)             (None, None, 512)    0           embedding_1[0][0]                \n",
            "__________________________________________________________________________________________________\n",
            "lstm (LSTM)                     [(None, 512), (None, 2099200     masking[0][0]                    \n",
            "__________________________________________________________________________________________________\n",
            "lstm_1 (LSTM)                   [(None, None, 512),  2099200     masking_1[0][0]                  \n",
            "                                                                 lstm[0][1]                       \n",
            "                                                                 lstm[0][2]                       \n",
            "__________________________________________________________________________________________________\n",
            "dense (Dense)                   (None, None, 8297)   4256361     lstm_1[0][0]                     \n",
            "==================================================================================================\n",
            "Total params: 15,669,865\n",
            "Trainable params: 15,669,865\n",
            "Non-trainable params: 0\n",
            "__________________________________________________________________________________________________\n"
          ]
        }
      ],
      "source": [
        "model = Model([encoder_inputs, decoder_inputs], decoder_outputs)\n",
        "model.summary()"
      ]
    },
    {
      "cell_type": "code",
      "execution_count": null,
      "metadata": {
        "id": "2cXYyKJf79A-",
        "outputId": "39a84a16-2970-4a89-bc92-a6ff0e575f52"
      },
      "outputs": [
        {
          "data": {
            "image/svg+xml": [
              "<svg xmlns=\"http://www.w3.org/2000/svg\" xmlns:xlink=\"http://www.w3.org/1999/xlink\" width=\"1184pt\" height=\"627pt\" viewBox=\"0.00 0.00 888.00 470.00\">\n",
              "<g id=\"graph0\" class=\"graph\" transform=\"scale(0.75 0.75) rotate(0) translate(4 466)\">\n",
              "<title>G</title>\n",
              "<polygon fill=\"white\" stroke=\"transparent\" points=\"-4,4 -4,-466 884,-466 884,4 -4,4\"/>\n",
              "<!-- 140488325502336 -->\n",
              "<g id=\"node1\" class=\"node\">\n",
              "<title>140488325502336</title>\n",
              "<polygon fill=\"none\" stroke=\"black\" points=\"34,-415.5 34,-461.5 430,-461.5 430,-415.5 34,-415.5\"/>\n",
              "<text text-anchor=\"middle\" x=\"137\" y=\"-434.8\" font-family=\"Times,serif\" font-size=\"14.00\">encoder_input: InputLayer</text>\n",
              "<polyline fill=\"none\" stroke=\"black\" points=\"240,-415.5 240,-461.5 \"/>\n",
              "<text text-anchor=\"middle\" x=\"274\" y=\"-446.3\" font-family=\"Times,serif\" font-size=\"14.00\">input:</text>\n",
              "<polyline fill=\"none\" stroke=\"black\" points=\"240,-438.5 308,-438.5 \"/>\n",
              "<text text-anchor=\"middle\" x=\"274\" y=\"-423.3\" font-family=\"Times,serif\" font-size=\"14.00\">output:</text>\n",
              "<polyline fill=\"none\" stroke=\"black\" points=\"308,-415.5 308,-461.5 \"/>\n",
              "<text text-anchor=\"middle\" x=\"369\" y=\"-446.3\" font-family=\"Times,serif\" font-size=\"14.00\">[(None, None)]</text>\n",
              "<polyline fill=\"none\" stroke=\"black\" points=\"308,-438.5 430,-438.5 \"/>\n",
              "<text text-anchor=\"middle\" x=\"369\" y=\"-423.3\" font-family=\"Times,serif\" font-size=\"14.00\">[(None, None)]</text>\n",
              "</g>\n",
              "<!-- 140488325501952 -->\n",
              "<g id=\"node3\" class=\"node\">\n",
              "<title>140488325501952</title>\n",
              "<polygon fill=\"none\" stroke=\"black\" points=\"31,-332.5 31,-378.5 433,-378.5 433,-332.5 31,-332.5\"/>\n",
              "<text text-anchor=\"middle\" x=\"124.5\" y=\"-351.8\" font-family=\"Times,serif\" font-size=\"14.00\">embedding: Embedding</text>\n",
              "<polyline fill=\"none\" stroke=\"black\" points=\"218,-332.5 218,-378.5 \"/>\n",
              "<text text-anchor=\"middle\" x=\"252\" y=\"-363.3\" font-family=\"Times,serif\" font-size=\"14.00\">input:</text>\n",
              "<polyline fill=\"none\" stroke=\"black\" points=\"218,-355.5 286,-355.5 \"/>\n",
              "<text text-anchor=\"middle\" x=\"252\" y=\"-340.3\" font-family=\"Times,serif\" font-size=\"14.00\">output:</text>\n",
              "<polyline fill=\"none\" stroke=\"black\" points=\"286,-332.5 286,-378.5 \"/>\n",
              "<text text-anchor=\"middle\" x=\"359.5\" y=\"-363.3\" font-family=\"Times,serif\" font-size=\"14.00\">(None, None)</text>\n",
              "<polyline fill=\"none\" stroke=\"black\" points=\"286,-355.5 433,-355.5 \"/>\n",
              "<text text-anchor=\"middle\" x=\"359.5\" y=\"-340.3\" font-family=\"Times,serif\" font-size=\"14.00\">(None, None, 512)</text>\n",
              "</g>\n",
              "<!-- 140488325502336&#45;&gt;140488325501952 -->\n",
              "<g id=\"edge1\" class=\"edge\">\n",
              "<title>140488325502336-&gt;140488325501952</title>\n",
              "<path fill=\"none\" stroke=\"black\" d=\"M232,-415.37C232,-407.15 232,-397.66 232,-388.73\"/>\n",
              "<polygon fill=\"black\" stroke=\"black\" points=\"235.5,-388.61 232,-378.61 228.5,-388.61 235.5,-388.61\"/>\n",
              "</g>\n",
              "<!-- 140488296030944 -->\n",
              "<g id=\"node2\" class=\"node\">\n",
              "<title>140488296030944</title>\n",
              "<polygon fill=\"none\" stroke=\"black\" points=\"473,-332.5 473,-378.5 869,-378.5 869,-332.5 473,-332.5\"/>\n",
              "<text text-anchor=\"middle\" x=\"576\" y=\"-351.8\" font-family=\"Times,serif\" font-size=\"14.00\">decoder_input: InputLayer</text>\n",
              "<polyline fill=\"none\" stroke=\"black\" points=\"679,-332.5 679,-378.5 \"/>\n",
              "<text text-anchor=\"middle\" x=\"713\" y=\"-363.3\" font-family=\"Times,serif\" font-size=\"14.00\">input:</text>\n",
              "<polyline fill=\"none\" stroke=\"black\" points=\"679,-355.5 747,-355.5 \"/>\n",
              "<text text-anchor=\"middle\" x=\"713\" y=\"-340.3\" font-family=\"Times,serif\" font-size=\"14.00\">output:</text>\n",
              "<polyline fill=\"none\" stroke=\"black\" points=\"747,-332.5 747,-378.5 \"/>\n",
              "<text text-anchor=\"middle\" x=\"808\" y=\"-363.3\" font-family=\"Times,serif\" font-size=\"14.00\">[(None, None)]</text>\n",
              "<polyline fill=\"none\" stroke=\"black\" points=\"747,-355.5 869,-355.5 \"/>\n",
              "<text text-anchor=\"middle\" x=\"808\" y=\"-340.3\" font-family=\"Times,serif\" font-size=\"14.00\">[(None, None)]</text>\n",
              "</g>\n",
              "<!-- 140488297827920 -->\n",
              "<g id=\"node4\" class=\"node\">\n",
              "<title>140488297827920</title>\n",
              "<polygon fill=\"none\" stroke=\"black\" points=\"462,-249.5 462,-295.5 880,-295.5 880,-249.5 462,-249.5\"/>\n",
              "<text text-anchor=\"middle\" x=\"563.5\" y=\"-268.8\" font-family=\"Times,serif\" font-size=\"14.00\">embedding_1: Embedding</text>\n",
              "<polyline fill=\"none\" stroke=\"black\" points=\"665,-249.5 665,-295.5 \"/>\n",
              "<text text-anchor=\"middle\" x=\"699\" y=\"-280.3\" font-family=\"Times,serif\" font-size=\"14.00\">input:</text>\n",
              "<polyline fill=\"none\" stroke=\"black\" points=\"665,-272.5 733,-272.5 \"/>\n",
              "<text text-anchor=\"middle\" x=\"699\" y=\"-257.3\" font-family=\"Times,serif\" font-size=\"14.00\">output:</text>\n",
              "<polyline fill=\"none\" stroke=\"black\" points=\"733,-249.5 733,-295.5 \"/>\n",
              "<text text-anchor=\"middle\" x=\"806.5\" y=\"-280.3\" font-family=\"Times,serif\" font-size=\"14.00\">(None, None)</text>\n",
              "<polyline fill=\"none\" stroke=\"black\" points=\"733,-272.5 880,-272.5 \"/>\n",
              "<text text-anchor=\"middle\" x=\"806.5\" y=\"-257.3\" font-family=\"Times,serif\" font-size=\"14.00\">(None, None, 512)</text>\n",
              "</g>\n",
              "<!-- 140488296030944&#45;&gt;140488297827920 -->\n",
              "<g id=\"edge2\" class=\"edge\">\n",
              "<title>140488296030944-&gt;140488297827920</title>\n",
              "<path fill=\"none\" stroke=\"black\" d=\"M671,-332.37C671,-324.15 671,-314.66 671,-305.73\"/>\n",
              "<polygon fill=\"black\" stroke=\"black\" points=\"674.5,-305.61 671,-295.61 667.5,-305.61 674.5,-305.61\"/>\n",
              "</g>\n",
              "<!-- 140488307160736 -->\n",
              "<g id=\"node5\" class=\"node\">\n",
              "<title>140488307160736</title>\n",
              "<polygon fill=\"none\" stroke=\"black\" points=\"51.5,-249.5 51.5,-295.5 412.5,-295.5 412.5,-249.5 51.5,-249.5\"/>\n",
              "<text text-anchor=\"middle\" x=\"124.5\" y=\"-268.8\" font-family=\"Times,serif\" font-size=\"14.00\">masking: Masking</text>\n",
              "<polyline fill=\"none\" stroke=\"black\" points=\"197.5,-249.5 197.5,-295.5 \"/>\n",
              "<text text-anchor=\"middle\" x=\"231.5\" y=\"-280.3\" font-family=\"Times,serif\" font-size=\"14.00\">input:</text>\n",
              "<polyline fill=\"none\" stroke=\"black\" points=\"197.5,-272.5 265.5,-272.5 \"/>\n",
              "<text text-anchor=\"middle\" x=\"231.5\" y=\"-257.3\" font-family=\"Times,serif\" font-size=\"14.00\">output:</text>\n",
              "<polyline fill=\"none\" stroke=\"black\" points=\"265.5,-249.5 265.5,-295.5 \"/>\n",
              "<text text-anchor=\"middle\" x=\"339\" y=\"-280.3\" font-family=\"Times,serif\" font-size=\"14.00\">(None, None, 512)</text>\n",
              "<polyline fill=\"none\" stroke=\"black\" points=\"265.5,-272.5 412.5,-272.5 \"/>\n",
              "<text text-anchor=\"middle\" x=\"339\" y=\"-257.3\" font-family=\"Times,serif\" font-size=\"14.00\">(None, None, 512)</text>\n",
              "</g>\n",
              "<!-- 140488325501952&#45;&gt;140488307160736 -->\n",
              "<g id=\"edge3\" class=\"edge\">\n",
              "<title>140488325501952-&gt;140488307160736</title>\n",
              "<path fill=\"none\" stroke=\"black\" d=\"M232,-332.37C232,-324.15 232,-314.66 232,-305.73\"/>\n",
              "<polygon fill=\"black\" stroke=\"black\" points=\"235.5,-305.61 232,-295.61 228.5,-305.61 235.5,-305.61\"/>\n",
              "</g>\n",
              "<!-- 140488297075376 -->\n",
              "<g id=\"node6\" class=\"node\">\n",
              "<title>140488297075376</title>\n",
              "<polygon fill=\"none\" stroke=\"black\" points=\"482.5,-166.5 482.5,-212.5 859.5,-212.5 859.5,-166.5 482.5,-166.5\"/>\n",
              "<text text-anchor=\"middle\" x=\"563.5\" y=\"-185.8\" font-family=\"Times,serif\" font-size=\"14.00\">masking_1: Masking</text>\n",
              "<polyline fill=\"none\" stroke=\"black\" points=\"644.5,-166.5 644.5,-212.5 \"/>\n",
              "<text text-anchor=\"middle\" x=\"678.5\" y=\"-197.3\" font-family=\"Times,serif\" font-size=\"14.00\">input:</text>\n",
              "<polyline fill=\"none\" stroke=\"black\" points=\"644.5,-189.5 712.5,-189.5 \"/>\n",
              "<text text-anchor=\"middle\" x=\"678.5\" y=\"-174.3\" font-family=\"Times,serif\" font-size=\"14.00\">output:</text>\n",
              "<polyline fill=\"none\" stroke=\"black\" points=\"712.5,-166.5 712.5,-212.5 \"/>\n",
              "<text text-anchor=\"middle\" x=\"786\" y=\"-197.3\" font-family=\"Times,serif\" font-size=\"14.00\">(None, None, 512)</text>\n",
              "<polyline fill=\"none\" stroke=\"black\" points=\"712.5,-189.5 859.5,-189.5 \"/>\n",
              "<text text-anchor=\"middle\" x=\"786\" y=\"-174.3\" font-family=\"Times,serif\" font-size=\"14.00\">(None, None, 512)</text>\n",
              "</g>\n",
              "<!-- 140488297827920&#45;&gt;140488297075376 -->\n",
              "<g id=\"edge4\" class=\"edge\">\n",
              "<title>140488297827920-&gt;140488297075376</title>\n",
              "<path fill=\"none\" stroke=\"black\" d=\"M671,-249.37C671,-241.15 671,-231.66 671,-222.73\"/>\n",
              "<polygon fill=\"black\" stroke=\"black\" points=\"674.5,-222.61 671,-212.61 667.5,-222.61 674.5,-222.61\"/>\n",
              "</g>\n",
              "<!-- 140488307162560 -->\n",
              "<g id=\"node7\" class=\"node\">\n",
              "<title>140488307162560</title>\n",
              "<polygon fill=\"none\" stroke=\"black\" points=\"0,-166.5 0,-212.5 464,-212.5 464,-166.5 0,-166.5\"/>\n",
              "<text text-anchor=\"middle\" x=\"49.5\" y=\"-185.8\" font-family=\"Times,serif\" font-size=\"14.00\">lstm: LSTM</text>\n",
              "<polyline fill=\"none\" stroke=\"black\" points=\"99,-166.5 99,-212.5 \"/>\n",
              "<text text-anchor=\"middle\" x=\"133\" y=\"-197.3\" font-family=\"Times,serif\" font-size=\"14.00\">input:</text>\n",
              "<polyline fill=\"none\" stroke=\"black\" points=\"99,-189.5 167,-189.5 \"/>\n",
              "<text text-anchor=\"middle\" x=\"133\" y=\"-174.3\" font-family=\"Times,serif\" font-size=\"14.00\">output:</text>\n",
              "<polyline fill=\"none\" stroke=\"black\" points=\"167,-166.5 167,-212.5 \"/>\n",
              "<text text-anchor=\"middle\" x=\"315.5\" y=\"-197.3\" font-family=\"Times,serif\" font-size=\"14.00\">(None, None, 512)</text>\n",
              "<polyline fill=\"none\" stroke=\"black\" points=\"167,-189.5 464,-189.5 \"/>\n",
              "<text text-anchor=\"middle\" x=\"315.5\" y=\"-174.3\" font-family=\"Times,serif\" font-size=\"14.00\">[(None, 512), (None, 512), (None, 512)]</text>\n",
              "</g>\n",
              "<!-- 140488307160736&#45;&gt;140488307162560 -->\n",
              "<g id=\"edge5\" class=\"edge\">\n",
              "<title>140488307160736-&gt;140488307162560</title>\n",
              "<path fill=\"none\" stroke=\"black\" d=\"M232,-249.37C232,-241.15 232,-231.66 232,-222.73\"/>\n",
              "<polygon fill=\"black\" stroke=\"black\" points=\"235.5,-222.61 232,-212.61 228.5,-222.61 235.5,-222.61\"/>\n",
              "</g>\n",
              "<!-- 140490937760928 -->\n",
              "<g id=\"node8\" class=\"node\">\n",
              "<title>140490937760928</title>\n",
              "<polygon fill=\"none\" stroke=\"black\" points=\"187.5,-83.5 187.5,-129.5 714.5,-129.5 714.5,-83.5 187.5,-83.5\"/>\n",
              "<text text-anchor=\"middle\" x=\"245\" y=\"-102.8\" font-family=\"Times,serif\" font-size=\"14.00\">lstm_1: LSTM</text>\n",
              "<polyline fill=\"none\" stroke=\"black\" points=\"302.5,-83.5 302.5,-129.5 \"/>\n",
              "<text text-anchor=\"middle\" x=\"336.5\" y=\"-114.3\" font-family=\"Times,serif\" font-size=\"14.00\">input:</text>\n",
              "<polyline fill=\"none\" stroke=\"black\" points=\"302.5,-106.5 370.5,-106.5 \"/>\n",
              "<text text-anchor=\"middle\" x=\"336.5\" y=\"-91.3\" font-family=\"Times,serif\" font-size=\"14.00\">output:</text>\n",
              "<polyline fill=\"none\" stroke=\"black\" points=\"370.5,-83.5 370.5,-129.5 \"/>\n",
              "<text text-anchor=\"middle\" x=\"542.5\" y=\"-114.3\" font-family=\"Times,serif\" font-size=\"14.00\">[(None, None, 512), (None, 512), (None, 512)]</text>\n",
              "<polyline fill=\"none\" stroke=\"black\" points=\"370.5,-106.5 714.5,-106.5 \"/>\n",
              "<text text-anchor=\"middle\" x=\"542.5\" y=\"-91.3\" font-family=\"Times,serif\" font-size=\"14.00\">[(None, None, 512), (None, 512), (None, 512)]</text>\n",
              "</g>\n",
              "<!-- 140488297075376&#45;&gt;140490937760928 -->\n",
              "<g id=\"edge6\" class=\"edge\">\n",
              "<title>140488297075376-&gt;140490937760928</title>\n",
              "<path fill=\"none\" stroke=\"black\" d=\"M611.17,-166.47C583.17,-156.16 549.64,-143.82 520.51,-133.09\"/>\n",
              "<polygon fill=\"black\" stroke=\"black\" points=\"521.41,-129.69 510.81,-129.52 518.99,-136.26 521.41,-129.69\"/>\n",
              "</g>\n",
              "<!-- 140488307162560&#45;&gt;140490937760928 -->\n",
              "<g id=\"edge7\" class=\"edge\">\n",
              "<title>140488307162560-&gt;140490937760928</title>\n",
              "<path fill=\"none\" stroke=\"black\" d=\"M291.55,-166.47C319.43,-156.16 352.81,-143.82 381.81,-133.09\"/>\n",
              "<polygon fill=\"black\" stroke=\"black\" points=\"383.29,-136.27 391.46,-129.52 380.87,-129.71 383.29,-136.27\"/>\n",
              "</g>\n",
              "<!-- 140488296033392 -->\n",
              "<g id=\"node9\" class=\"node\">\n",
              "<title>140488296033392</title>\n",
              "<polygon fill=\"none\" stroke=\"black\" points=\"283,-0.5 283,-46.5 619,-46.5 619,-0.5 283,-0.5\"/>\n",
              "<text text-anchor=\"middle\" x=\"339\" y=\"-19.8\" font-family=\"Times,serif\" font-size=\"14.00\">dense: Dense</text>\n",
              "<polyline fill=\"none\" stroke=\"black\" points=\"395,-0.5 395,-46.5 \"/>\n",
              "<text text-anchor=\"middle\" x=\"429\" y=\"-31.3\" font-family=\"Times,serif\" font-size=\"14.00\">input:</text>\n",
              "<polyline fill=\"none\" stroke=\"black\" points=\"395,-23.5 463,-23.5 \"/>\n",
              "<text text-anchor=\"middle\" x=\"429\" y=\"-8.3\" font-family=\"Times,serif\" font-size=\"14.00\">output:</text>\n",
              "<polyline fill=\"none\" stroke=\"black\" points=\"463,-0.5 463,-46.5 \"/>\n",
              "<text text-anchor=\"middle\" x=\"541\" y=\"-31.3\" font-family=\"Times,serif\" font-size=\"14.00\">(None, None, 512)</text>\n",
              "<polyline fill=\"none\" stroke=\"black\" points=\"463,-23.5 619,-23.5 \"/>\n",
              "<text text-anchor=\"middle\" x=\"541\" y=\"-8.3\" font-family=\"Times,serif\" font-size=\"14.00\">(None, None, 8297)</text>\n",
              "</g>\n",
              "<!-- 140490937760928&#45;&gt;140488296033392 -->\n",
              "<g id=\"edge8\" class=\"edge\">\n",
              "<title>140490937760928-&gt;140488296033392</title>\n",
              "<path fill=\"none\" stroke=\"black\" d=\"M451,-83.37C451,-75.15 451,-65.66 451,-56.73\"/>\n",
              "<polygon fill=\"black\" stroke=\"black\" points=\"454.5,-56.61 451,-46.61 447.5,-56.61 454.5,-56.61\"/>\n",
              "</g>\n",
              "</g>\n",
              "</svg>"
            ],
            "text/plain": [
              "<IPython.core.display.SVG object>"
            ]
          },
          "execution_count": 22,
          "metadata": {},
          "output_type": "execute_result"
        }
      ],
      "source": [
        "from IPython.display import SVG\n",
        "from keras.utils.vis_utils import model_to_dot\n",
        "\n",
        "%matplotlib inline\n",
        "\n",
        "SVG(model_to_dot(model, show_shapes=True, dpi=96).create(prog='dot', format='svg'))"
      ]
    },
    {
      "cell_type": "markdown",
      "metadata": {
        "id": "Yk4idTsp79A-"
      },
      "source": [
        "## Train"
      ]
    },
    {
      "cell_type": "code",
      "execution_count": null,
      "metadata": {
        "ExecuteTime": {
          "end_time": "2020-09-24T03:12:07.759334Z",
          "start_time": "2020-09-24T02:49:31.333993Z"
        },
        "scrolled": true,
        "id": "1Jgm_vQ879A_",
        "outputId": "35d87c43-b5c6-4836-b94b-e3227f231be3"
      },
      "outputs": [
        {
          "name": "stdout",
          "output_type": "stream",
          "text": [
            "Epoch 1/50\n",
            "938/938 [==============================] - 28s 21ms/step - loss: 1.9296 - val_loss: 1.5871\n",
            "Epoch 2/50\n",
            "938/938 [==============================] - 18s 19ms/step - loss: 1.4644 - val_loss: 1.3733\n",
            "Epoch 3/50\n",
            "938/938 [==============================] - 18s 19ms/step - loss: 1.2742 - val_loss: 1.2450\n",
            "Epoch 4/50\n",
            "938/938 [==============================] - 18s 19ms/step - loss: 1.1391 - val_loss: 1.1623\n",
            "Epoch 5/50\n",
            "938/938 [==============================] - 18s 19ms/step - loss: 1.0364 - val_loss: 1.0946\n",
            "Epoch 6/50\n",
            "938/938 [==============================] - 18s 19ms/step - loss: 0.9576 - val_loss: 1.0519\n",
            "Epoch 7/50\n",
            "938/938 [==============================] - 18s 19ms/step - loss: 0.8889 - val_loss: 1.0242\n",
            "Epoch 8/50\n",
            "938/938 [==============================] - 18s 19ms/step - loss: 0.8396 - val_loss: 1.0118\n",
            "Epoch 9/50\n",
            "938/938 [==============================] - 18s 19ms/step - loss: 0.7980 - val_loss: 0.9990\n",
            "Epoch 10/50\n",
            "938/938 [==============================] - 18s 19ms/step - loss: 0.7651 - val_loss: 0.9945\n",
            "Epoch 11/50\n",
            "938/938 [==============================] - 18s 19ms/step - loss: 0.7424 - val_loss: 0.9923\n",
            "Epoch 12/50\n",
            "938/938 [==============================] - 18s 19ms/step - loss: 0.7160 - val_loss: 0.9807\n",
            "Epoch 13/50\n",
            "938/938 [==============================] - 18s 19ms/step - loss: 0.6941 - val_loss: 0.9881\n",
            "Epoch 14/50\n",
            "938/938 [==============================] - 18s 19ms/step - loss: 0.6847 - val_loss: 0.9958\n",
            "Epoch 15/50\n",
            "938/938 [==============================] - 18s 19ms/step - loss: 0.6767 - val_loss: 1.0011\n",
            "Epoch 16/50\n",
            "938/938 [==============================] - 18s 19ms/step - loss: 0.6663 - val_loss: 1.0022\n",
            "Epoch 17/50\n",
            "938/938 [==============================] - 18s 19ms/step - loss: 0.6554 - val_loss: 0.9981\n",
            "Epoch 18/50\n",
            "938/938 [==============================] - 18s 19ms/step - loss: 0.6487 - val_loss: 1.0040\n",
            "Epoch 19/50\n",
            "938/938 [==============================] - 18s 19ms/step - loss: 0.6335 - val_loss: 0.9890\n",
            "Epoch 20/50\n",
            "938/938 [==============================] - 18s 19ms/step - loss: 0.6133 - val_loss: 0.9818\n",
            "Epoch 21/50\n",
            "938/938 [==============================] - 18s 19ms/step - loss: 0.6024 - val_loss: 0.9836\n",
            "Epoch 22/50\n",
            "938/938 [==============================] - 18s 19ms/step - loss: 0.5951 - val_loss: 0.9862\n",
            "Epoch 23/50\n",
            "938/938 [==============================] - 18s 19ms/step - loss: 0.5891 - val_loss: 0.9816\n",
            "Epoch 24/50\n",
            "938/938 [==============================] - 18s 19ms/step - loss: 0.5829 - val_loss: 0.9813\n",
            "Epoch 25/50\n",
            "938/938 [==============================] - 18s 19ms/step - loss: 0.5765 - val_loss: 0.9862\n",
            "Epoch 26/50\n",
            "938/938 [==============================] - 18s 19ms/step - loss: 0.5700 - val_loss: 0.9791\n",
            "Epoch 27/50\n",
            "938/938 [==============================] - 18s 19ms/step - loss: 0.5631 - val_loss: 0.9750\n",
            "Epoch 28/50\n",
            "938/938 [==============================] - 18s 19ms/step - loss: 0.5572 - val_loss: 0.9727\n",
            "Epoch 29/50\n",
            "938/938 [==============================] - 18s 19ms/step - loss: 0.5514 - val_loss: 0.9742\n",
            "Epoch 30/50\n",
            "938/938 [==============================] - 18s 19ms/step - loss: 0.5463 - val_loss: 0.9713\n",
            "Epoch 31/50\n",
            "938/938 [==============================] - 18s 19ms/step - loss: 0.5391 - val_loss: 0.9767\n",
            "Epoch 32/50\n",
            "938/938 [==============================] - 18s 19ms/step - loss: 0.5318 - val_loss: 0.9744\n",
            "Epoch 33/50\n",
            "938/938 [==============================] - 18s 19ms/step - loss: 0.5257 - val_loss: 0.9751\n",
            "Epoch 34/50\n",
            "938/938 [==============================] - 18s 19ms/step - loss: 0.5195 - val_loss: 0.9705\n",
            "Epoch 35/50\n",
            "938/938 [==============================] - 18s 19ms/step - loss: 0.5143 - val_loss: 0.9715\n",
            "Epoch 36/50\n",
            "938/938 [==============================] - 18s 19ms/step - loss: 0.5089 - val_loss: 0.9729\n",
            "Epoch 37/50\n",
            "938/938 [==============================] - 18s 19ms/step - loss: 0.5045 - val_loss: 0.9711\n",
            "Epoch 38/50\n",
            "938/938 [==============================] - 18s 19ms/step - loss: 0.5018 - val_loss: 0.9734\n",
            "Epoch 39/50\n",
            "938/938 [==============================] - 18s 19ms/step - loss: 0.4964 - val_loss: 0.9689\n",
            "Epoch 40/50\n",
            "938/938 [==============================] - 18s 19ms/step - loss: 0.4936 - val_loss: 0.9693\n",
            "Epoch 41/50\n",
            "938/938 [==============================] - 18s 19ms/step - loss: 0.4906 - val_loss: 0.9699\n",
            "Epoch 42/50\n",
            "938/938 [==============================] - 18s 19ms/step - loss: 0.4871 - val_loss: 0.9675\n",
            "Epoch 43/50\n",
            "938/938 [==============================] - 18s 19ms/step - loss: 0.4847 - val_loss: 0.9687\n",
            "Epoch 44/50\n",
            "938/938 [==============================] - 18s 19ms/step - loss: 0.4825 - val_loss: 0.9729\n",
            "Epoch 45/50\n",
            "938/938 [==============================] - 18s 19ms/step - loss: 0.4820 - val_loss: 0.9693\n",
            "Epoch 46/50\n",
            "938/938 [==============================] - 18s 19ms/step - loss: 0.4797 - val_loss: 0.9680\n",
            "Epoch 47/50\n",
            "938/938 [==============================] - 18s 19ms/step - loss: 0.4771 - val_loss: 0.9675\n",
            "Epoch 48/50\n",
            "938/938 [==============================] - 18s 19ms/step - loss: 0.4748 - val_loss: 0.9699\n",
            "Epoch 49/50\n",
            "938/938 [==============================] - 18s 19ms/step - loss: 0.4741 - val_loss: 0.9716\n",
            "Epoch 50/50\n",
            "938/938 [==============================] - 18s 19ms/step - loss: 0.4716 - val_loss: 0.9744\n"
          ]
        }
      ],
      "source": [
        "import tensorflow as tf\n",
        "\n",
        "# rmsprop = tf.keras.optimizers.RMSprop(learning_rate=0.0003)\n",
        "model.compile(optimizer='rmsprop', loss='sparse_categorical_crossentropy')\n",
        "\n",
        "history = model.fit(x=[encoder_input_train, decoder_input_train],\n",
        "          y=decoder_target_train,\n",
        "          validation_data = ([encoder_input_test, decoder_input_test],\n",
        "                             decoder_target_test),\n",
        "          batch_size=32,\n",
        "          epochs=50)"
      ]
    },
    {
      "cell_type": "code",
      "execution_count": null,
      "metadata": {
        "id": "pCmyLsHp79A_",
        "outputId": "b421d03f-36c8-4231-92fc-9a0dfa252d57"
      },
      "outputs": [
        {
          "name": "stdout",
          "output_type": "stream",
          "text": [
            "dict_keys(['loss', 'val_loss'])\n"
          ]
        }
      ],
      "source": [
        "history_dict = history.history\n",
        "print(history_dict.keys()) # epoch에 따른 그래프를 그려볼 수 있는 항목들"
      ]
    },
    {
      "cell_type": "code",
      "execution_count": null,
      "metadata": {
        "id": "Z5z_Z1rQ79A_",
        "outputId": "dee40c2b-62e8-4cd0-ee06-eaab8682c7bf"
      },
      "outputs": [
        {
          "data": {
            "image/png": "[encoded data removed]",
            "text/plain": [
              "<Figure size 432x288 with 1 Axes>"
            ]
          },
          "metadata": {
            "needs_background": "light"
          },
          "output_type": "display_data"
        }
      ],
      "source": [
        "# padding : post, with masking layer\n",
        "import matplotlib.pyplot as plt\n",
        "\n",
        "loss = history_dict['loss']\n",
        "val_loss = history_dict['val_loss']\n",
        "\n",
        "epochs = range(1, len(loss) + 1)\n",
        "\n",
        "# \"bo\"는 \"파란색 점\"입니다\n",
        "plt.plot(epochs, loss, 'bo', label='Training loss')\n",
        "# b는 \"파란 실선\"입니다\n",
        "plt.plot(epochs, val_loss, 'r', label='Validation loss')\n",
        "plt.title('Validation loss')\n",
        "plt.xlabel('Epochs')\n",
        "plt.ylabel('Loss')\n",
        "plt.legend()\n",
        "\n",
        "plt.show()"
      ]
    },
    {
      "cell_type": "code",
      "execution_count": null,
      "metadata": {
        "id": "dk0V2t4079A_"
      },
      "outputs": [],
      "source": [
        "from keras.models import load_model\n",
        "\n",
        "model.save('translator_model_50.h5')"
      ]
    },
    {
      "cell_type": "markdown",
      "metadata": {
        "id": "F_X__1BJ79A_"
      },
      "source": [
        "# Evaluate"
      ]
    },
    {
      "cell_type": "code",
      "execution_count": null,
      "metadata": {
        "id": "TfU7z9uz79A_"
      },
      "outputs": [],
      "source": [
        "from keras.models import load_model\n",
        "model = load_model('translator_model_50.h5')"
      ]
    },
    {
      "cell_type": "markdown",
      "metadata": {
        "id": "fYfpeAgY79BF"
      },
      "source": [
        "## Get Inference Model"
      ]
    },
    {
      "cell_type": "markdown",
      "metadata": {
        "id": "aOqwsYIk79BG"
      },
      "source": [
        "### Encoder"
      ]
    },
    {
      "cell_type": "code",
      "execution_count": null,
      "metadata": {
        "ExecuteTime": {
          "end_time": "2020-09-24T03:12:15.046533Z",
          "start_time": "2020-09-24T03:12:15.041653Z"
        },
        "id": "n9izxdic79BG",
        "outputId": "4edeaedc-2596-4288-fd3e-94ea694a9110"
      },
      "outputs": [
        {
          "name": "stdout",
          "output_type": "stream",
          "text": [
            "Model: \"model_1\"\n",
            "_________________________________________________________________\n",
            "Layer (type)                 Output Shape              Param #   \n",
            "=================================================================\n",
            "encoder_input (InputLayer)   [(None, None)]            0         \n",
            "_________________________________________________________________\n",
            "embedding (Embedding)        (None, None, 512)         2967040   \n",
            "_________________________________________________________________\n",
            "masking (Masking)            (None, None, 512)         0         \n",
            "_________________________________________________________________\n",
            "lstm (LSTM)                  [(None, 512), (None, 512) 2099200   \n",
            "=================================================================\n",
            "Total params: 5,066,240\n",
            "Trainable params: 5,066,240\n",
            "Non-trainable params: 0\n",
            "_________________________________________________________________\n"
          ]
        }
      ],
      "source": [
        "encoder_model = Model(inputs = encoder_inputs, outputs = encoder_states)\n",
        "encoder_model.summary()"
      ]
    },
    {
      "cell_type": "markdown",
      "metadata": {
        "id": "NWg_s-nM79BG"
      },
      "source": [
        "### Decoder"
      ]
    },
    {
      "cell_type": "code",
      "execution_count": null,
      "metadata": {
        "ExecuteTime": {
          "end_time": "2020-09-24T03:14:33.679780Z",
          "start_time": "2020-09-24T03:14:33.525419Z"
        },
        "id": "daQ2NMIZ79BG"
      },
      "outputs": [],
      "source": [
        "decoder_state_input_h = Input(shape=(embedding_size,))\n",
        "decoder_state_input_c = Input(shape=(embedding_size,))\n",
        "decoder_states_inputs = [decoder_state_input_h, decoder_state_input_c]\n",
        "\n",
        "dec_emb2 = Embedding(fra_vocab_size, embedding_size)(decoder_inputs)\n",
        "decoder_outputs2, state_h2, state_c2 = decoder_lstm(dec_emb2, initial_state = decoder_states_inputs)\n",
        "decoder_states2 = [state_h2, state_c2]\n",
        "\n",
        "decoder_outputs2 = decoder_softmax_layer(decoder_outputs2)"
      ]
    },
    {
      "cell_type": "code",
      "execution_count": null,
      "metadata": {
        "ExecuteTime": {
          "end_time": "2020-09-24T03:14:34.154054Z",
          "start_time": "2020-09-24T03:14:34.152297Z"
        },
        "id": "wCRChvaQ79BG"
      },
      "outputs": [],
      "source": [
        "eng2idx = eng_tokenizer.word_index\n",
        "fra2idx = fra_tokenizer.word_index\n",
        "idx2eng = eng_tokenizer.index_word\n",
        "idx2fra = fra_tokenizer.index_word"
      ]
    },
    {
      "cell_type": "code",
      "execution_count": null,
      "metadata": {
        "ExecuteTime": {
          "end_time": "2020-09-24T03:14:34.938203Z",
          "start_time": "2020-09-24T03:14:34.931647Z"
        },
        "scrolled": true,
        "id": "h_b8kSa479BG",
        "outputId": "ec469f93-529b-4908-ee98-2236804a3a1c"
      },
      "outputs": [
        {
          "name": "stdout",
          "output_type": "stream",
          "text": [
            "Model: \"model_2\"\n",
            "__________________________________________________________________________________________________\n",
            "Layer (type)                    Output Shape         Param #     Connected to                     \n",
            "==================================================================================================\n",
            "decoder_input (InputLayer)      [(None, None)]       0                                            \n",
            "__________________________________________________________________________________________________\n",
            "embedding_2 (Embedding)         (None, None, 512)    4248064     decoder_input[0][0]              \n",
            "__________________________________________________________________________________________________\n",
            "input_1 (InputLayer)            [(None, 512)]        0                                            \n",
            "__________________________________________________________________________________________________\n",
            "input_2 (InputLayer)            [(None, 512)]        0                                            \n",
            "__________________________________________________________________________________________________\n",
            "lstm_1 (LSTM)                   [(None, None, 512),  2099200     embedding_2[0][0]                \n",
            "                                                                 input_1[0][0]                    \n",
            "                                                                 input_2[0][0]                    \n",
            "__________________________________________________________________________________________________\n",
            "dense (Dense)                   (None, None, 8297)   4256361     lstm_1[1][0]                     \n",
            "==================================================================================================\n",
            "Total params: 10,603,625\n",
            "Trainable params: 10,603,625\n",
            "Non-trainable params: 0\n",
            "__________________________________________________________________________________________________\n"
          ]
        }
      ],
      "source": [
        "decoder_model = Model(inputs=[decoder_inputs] + decoder_states_inputs, outputs=[decoder_outputs2] + decoder_states2)\n",
        "decoder_model.summary()"
      ]
    },
    {
      "cell_type": "code",
      "execution_count": null,
      "metadata": {
        "ExecuteTime": {
          "end_time": "2020-09-24T03:14:35.496509Z",
          "start_time": "2020-09-24T03:14:35.492924Z"
        },
        "id": "vh15dvav79BG"
      },
      "outputs": [],
      "source": [
        "def decode_sequence(input_seq):\n",
        "    # 입력으로부터 인코더의 상태를 얻음\n",
        "    states_value = encoder_model.predict(input_seq)\n",
        "\n",
        "    # <start>에 해당하는 원-핫 벡터 생성\n",
        "    target_seq = np.zeros((1,1))\n",
        "    target_seq[0, 0] = fra2idx['<start>']\n",
        "\n",
        "    stop_condition = False\n",
        "    decoded_sentence = \"\"\n",
        "\n",
        "    # stop_condition이 True가 될 때까지 루프 반복\n",
        "    while not stop_condition:\n",
        "        # 이점 시점의 상태 states_value를 현 시점의 초기 상태로 사용\n",
        "        output_tokens, h, c = decoder_model.predict([target_seq] + states_value)\n",
        "\n",
        "        # 예측 결과를 문자로 변환\n",
        "        sampled_token_index = np.argmax(output_tokens[0, -1, :])\n",
        "        sampled_char = idx2fra[sampled_token_index]\n",
        "\n",
        "        # 현재 시점의 예측 문자를 예측 문장에 추가\n",
        "        decoded_sentence += ' '+sampled_char\n",
        "\n",
        "        # <eos>에 도달하거나 최대 길이를 넘으면 중단.\n",
        "        if (sampled_char == '<end>' or\n",
        "           len(decoded_sentence) > max_fra_seq_len):\n",
        "            stop_condition = True\n",
        "\n",
        "        # 현재 시점의 예측 결과를 다음 시점의 입력으로 사용하기 위해 저장\n",
        "        target_seq = np.zeros((1, 1))\n",
        "        target_seq[0, 0] = sampled_token_index\n",
        "\n",
        "        # 현재 시점의 상태를 다음 시점의 상태로 사용하기 위해 저장\n",
        "        states_value = [h, c]\n",
        "\n",
        "    return decoded_sentence"
      ]
    },
    {
      "cell_type": "code",
      "execution_count": null,
      "metadata": {
        "ExecuteTime": {
          "end_time": "2020-09-24T03:14:36.008471Z",
          "start_time": "2020-09-24T03:14:36.006508Z"
        },
        "id": "x9Uxln4u79BH"
      },
      "outputs": [],
      "source": [
        "# 원문의 정수 시퀀스를 텍스트 시퀀스로 변환\n",
        "def seq2src(input_seq):\n",
        "    temp=''\n",
        "    for i in input_seq:\n",
        "        if(i!=0):\n",
        "            temp = temp + idx2eng[i]+' '\n",
        "    return temp"
      ]
    },
    {
      "cell_type": "code",
      "execution_count": null,
      "metadata": {
        "ExecuteTime": {
          "end_time": "2020-09-24T03:14:36.350914Z",
          "start_time": "2020-09-24T03:14:36.348567Z"
        },
        "id": "oeIBsnIw79BH"
      },
      "outputs": [],
      "source": [
        "# 번역문의 정수 시퀀스를 텍스트 시퀀스로 변환\n",
        "def seq2tar(input_seq):\n",
        "    temp=''\n",
        "    for i in input_seq:\n",
        "        if((i!=0 and i!=fra2idx['<start>']) and i!=fra2idx['<end>']):\n",
        "            temp = temp + idx2fra[i] + ' '\n",
        "    return temp"
      ]
    },
    {
      "cell_type": "markdown",
      "metadata": {
        "id": "6m79bm5I79BH"
      },
      "source": [
        "## test Model"
      ]
    },
    {
      "cell_type": "code",
      "execution_count": null,
      "metadata": {
        "ExecuteTime": {
          "end_time": "2020-09-24T03:14:38.844455Z",
          "start_time": "2020-09-24T03:14:37.314057Z"
        },
        "scrolled": true,
        "id": "d6l10e_-79BH",
        "outputId": "5e210fd7-5510-487b-ae69-1b3683cf7e05"
      },
      "outputs": [
        {
          "name": "stdout",
          "output_type": "stream",
          "text": [
            "-----------------------------------\n",
            "입력 문장: nobody knows it but me . \n",
            "정답 문장: personne ne le sait , part moi . \n",
            "번역기가 번역한 문장:  personne ne ne n\n",
            "-----------------------------------\n",
            "입력 문장: which browser do you use ? \n",
            "정답 문장: quel navigateur utilisez vous ? \n",
            "번역기가 번역한 문장:  quel <unk> vous \n",
            "-----------------------------------\n",
            "입력 문장: he is inclined to get mad . \n",
            "정답 문장: il a tendance se mettre en col re . \n",
            "번역기가 번역한 문장:  il est de le se \n",
            "-----------------------------------\n",
            "입력 문장: i have the ace of spades . \n",
            "정답 문장: j ai l as de pique . \n",
            "번역기가 번역한 문장:  j en la l au d . \n",
            "-----------------------------------\n",
            "입력 문장: maybe i drink too much . \n",
            "정답 문장: je bois peut tre trop . \n",
            "번역기가 번역한 문장:  peut tre peut qu\n"
          ]
        }
      ],
      "source": [
        "for seq_index in [10, 100, 1000, 1500, 2300]:\n",
        "    input_seq = encoder_input_test[seq_index: seq_index + 1]\n",
        "    decoded_sentence = decode_sequence(input_seq)\n",
        "    print(35 * \"-\")\n",
        "    print('입력 문장:', seq2src(encoder_input_test[seq_index]))\n",
        "    print('정답 문장:', seq2tar(decoder_input_test[seq_index]))\n",
        "    print('번역기가 번역한 문장:', decoded_sentence[:len(decoded_sentence)-1])"
      ]
    },
    {
      "cell_type": "markdown",
      "metadata": {
        "id": "VUuI5Y4k79BH"
      },
      "source": [
        "# Result\n",
        "\n",
        "-----------------------------------\n",
        "입력 문장: nobody knows it but me .\n",
        "정답 문장: personne ne le sait , part moi .\n",
        "번역기가 번역한 문장:  personne ne ne n\n",
        "파파고가 번역한 문장 : 무인\n",
        "-----------------------------------\n",
        "입력 문장: which browser do you use ?\n",
        "정답 문장: quel navigateur utilisez vous ?\n",
        "번역기가 번역한 문장:  quel <unk> vous\n",
        "파파고가 번역한 문장 : 당신이 어떤 <unk>를\n",
        "-----------------------------------\n",
        "입력 문장: he is inclined to get mad .\n",
        "정답 문장: il a tendance se mettre en col re .\n",
        "번역기가 번역한 문장:  il est de le se\n",
        "파파고가 번역한 문장 : 그 사람은 게으름뱅이\n",
        "-----------------------------------\n",
        "입력 문장: i have the ace of spades .\n",
        "정답 문장: j ai l as de pique .\n",
        "번역기가 번역한 문장:  j en la l au d .\n",
        "파파고가 번역한 문장 : 지긋지긋하다\n",
        "-----------------------------------\n",
        "입력 문장: maybe i drink too much .\n",
        "정답 문장: je bois peut tre trop .\n",
        "번역기가 번역한 문장:  peut tre peut qu\n",
        "파파고가 번역한 문장 : -ㄹ지 모른다"
      ]
    },
    {
      "cell_type": "markdown",
      "metadata": {
        "id": "IMUlGs8M79BH"
      },
      "source": [
        "# Review\n",
        "- 패딩을 pre로 할 경우 모델에서 masking layer가 필요없었지만, post로 할 경우 masking layer가 필요했음\n",
        "    패딩이 pre일 때 masking layer 없으면 에러.\n",
        "    masking layer의 역할 : 입력 시퀀스의 일부를 랜덤하게 마스크하여 모델이 해당 부분을 예측하도록 유도 빈칸을 채우거나 문장 생성과 같은 작업을 수행. 문맥을 파악하고 다응ㅁ에 나올 단어나 토큰을 예측할 수 있음.(https://huyntohoon.tistory.com/14)\n",
        "- 문장 330000를 가지고 여러 시도를 해보았지만(토큰화 방법, dropout 비율, 학습율, 패팅 방법, 문장의 길이 등을 변경하여 학습한 성능이 val loss 기준으로 1.1~ 1.4이었고 번역한 문장은 영어 첫 단어가 같은 모든 같은 단어로 시작하는 프랑스 문장으로 번역됨.\n",
        "- 학습할 문장을 53000개로 늘렸더니 val loss가 0.8로 상당히 성능 향상이라고 기대했지만 번역된 결과는 앞선 학습과 다르지 않음.\n",
        "- 배치 사이즈를 줄여 학습하였더니 val loss의 개선이 크지 않았지만 번역에서는 조금 나은 결과를 얻었음.\n",
        "- 번역한 내용이 완벽하게 정확하지는 않지만 의미가 통하는 번역을 얻었음.\n",
        "- 모델 구조가 복잡하고 성능을 향상시킬 수 있는 변수가 많아 더 많은 학습이 필요하겠음.\n",
        "\n",
        "https://medium.com/analytics-vidhya/encoder-decoder-seq2seq-models-clearly-explained-c34186fbf49b\n",
        "https://towardsdatascience.com/how-to-implement-seq2seq-lstm-model-in-keras-shortcutnlp-6f355f3e5639"
      ]
    },
    {
      "cell_type": "code",
      "execution_count": null,
      "metadata": {
        "id": "-4JTHbSD79BH"
      },
      "outputs": [],
      "source": []
    },
    {
      "cell_type": "code",
      "execution_count": null,
      "metadata": {
        "id": "zI_g2mOn79BH"
      },
      "outputs": [],
      "source": []
    }
  ],
  "metadata": {
    "kernelspec": {
      "display_name": "Python 3 (ipykernel)",
      "language": "python",
      "name": "python3"
    },
    "language_info": {
      "codemirror_mode": {
        "name": "ipython",
        "version": 3
      },
      "file_extension": ".py",
      "mimetype": "text/x-python",
      "name": "python",
      "nbconvert_exporter": "python",
      "pygments_lexer": "ipython3",
      "version": "3.9.7"
    },
    "toc": {
      "base_numbering": 1,
      "nav_menu": {},
      "number_sections": true,
      "sideBar": true,
      "skip_h1_title": false,
      "title_cell": "Table of Contents",
      "title_sidebar": "Contents",
      "toc_cell": false,
      "toc_position": {},
      "toc_section_display": true,
      "toc_window_display": false
    },
    "varInspector": {
      "cols": {
        "lenName": 16,
        "lenType": 16,
        "lenVar": 40
      },
      "kernels_config": {
        "python": {
          "delete_cmd_postfix": "",
          "delete_cmd_prefix": "del ",
          "library": "var_list.py",
          "varRefreshCmd": "print(var_dic_list())"
        },
        "r": {
          "delete_cmd_postfix": ") ",
          "delete_cmd_prefix": "rm(",
          "library": "var_list.r",
          "varRefreshCmd": "cat(var_dic_list()) "
        }
      },
      "types_to_exclude": [
        "module",
        "function",
        "builtin_function_or_method",
        "instance",
        "_Feature"
      ],
      "window_display": false
    },
    "colab": {
      "provenance": [],
      "include_colab_link": true
    }
  },
  "nbformat": 4,
  "nbformat_minor": 0
}