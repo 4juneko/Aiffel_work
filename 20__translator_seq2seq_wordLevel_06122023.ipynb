{
  "cells": [
    {
      "cell_type": "markdown",
      "metadata": {
        "id": "view-in-github",
        "colab_type": "text"
      },
      "source": [
        "<a href=\"https://colab.research.google.com/github/4juneko/Aiffel_work/blob/master/20__translator_seq2seq_wordLevel_06122023.ipynb\" target=\"_parent\"><img src=\"https://colab.research.google.com/assets/colab-badge.svg\" alt=\"Open In Colab\"/></a>"
      ]
    },
    {
      "cell_type": "markdown",
      "id": "dcf5da4c",
      "metadata": {
        "id": "dcf5da4c"
      },
      "source": [
        "# Rubric\n",
        "|평가문항|\t상세기준|내 평가|\n",
        "|--|--|--|\n",
        "|1. 번역기 모델 학습에 필요한 텍스트 데이터 전처리가 잘 이루어졌다.\t|구두점, 대소문자, 띄어쓰기 등 번역기 모델에 요구되는 전처리가 정상적으로 진행되었다.|o|\n",
        "|2. seq2seq 기반의 번역기 모델이 정상적으로 구동된다.|\tseq2seq 모델 훈련결과를 그래프로 출력해보고, validation loss그래프가 우하향하는 경향성을 보이며 학습이 진행됨이 확인되었다.|o|\n",
        "|3. 테스트 결과 의미가 통하는 수준의 번역문이 생성되었다.\t|테스트용 디코더 모델이 정상적으로 만들어졌으며, input(영어)와 output(프랑스어) 모두 한글로 번역해서 결과를 출력해보았고, 둘의 내용이 유사함을 확인하였다.|x|"
      ]
    },
    {
      "cell_type": "code",
      "execution_count": null,
      "id": "cdd7f50d",
      "metadata": {
        "id": "cdd7f50d"
      },
      "outputs": [],
      "source": [
        "import pandas as pd\n",
        "from tensorflow.keras.preprocessing.text import Tokenizer\n",
        "from tensorflow.keras.preprocessing.sequence import pad_sequences\n",
        "from tensorflow.keras.utils import to_categorical\n",
        "import numpy as np"
      ]
    },
    {
      "cell_type": "code",
      "execution_count": null,
      "id": "58b96dbd",
      "metadata": {
        "id": "58b96dbd",
        "outputId": "216e60b4-a817-4992-e53f-86248efc50eb"
      },
      "outputs": [
        {
          "name": "stdout",
          "output_type": "stream",
          "text": [
            "2.6.0\n"
          ]
        }
      ],
      "source": [
        "import tensorflow\n",
        "\n",
        "print(tensorflow.__version__)"
      ]
    },
    {
      "cell_type": "code",
      "execution_count": null,
      "id": "dcea1134",
      "metadata": {
        "id": "dcea1134",
        "outputId": "37db3628-dead-4181-c285-bf8e4040d64f"
      },
      "outputs": [
        {
          "name": "stdout",
          "output_type": "stream",
          "text": [
            "전체 샘플의 수 : 217975\n"
          ]
        },
        {
          "data": {
            "text/html": [
              "<div>\n",
              "<style scoped>\n",
              "    .dataframe tbody tr th:only-of-type {\n",
              "        vertical-align: middle;\n",
              "    }\n",
              "\n",
              "    .dataframe tbody tr th {\n",
              "        vertical-align: top;\n",
              "    }\n",
              "\n",
              "    .dataframe thead th {\n",
              "        text-align: right;\n",
              "    }\n",
              "</style>\n",
              "<table border=\"1\" class=\"dataframe\">\n",
              "  <thead>\n",
              "    <tr style=\"text-align: right;\">\n",
              "      <th></th>\n",
              "      <th>eng</th>\n",
              "      <th>fra</th>\n",
              "      <th>cc</th>\n",
              "    </tr>\n",
              "  </thead>\n",
              "  <tbody>\n",
              "    <tr>\n",
              "      <th>159816</th>\n",
              "      <td>You don't have to do what Tom says.</td>\n",
              "      <td>Vous n'avez pas à suivre Tom.</td>\n",
              "      <td>CC-BY 2.0 (France) Attribution: tatoeba.org #1...</td>\n",
              "    </tr>\n",
              "    <tr>\n",
              "      <th>38353</th>\n",
              "      <td>Has Tom calmed down?</td>\n",
              "      <td>Tom s'est-il calmé?</td>\n",
              "      <td>CC-BY 2.0 (France) Attribution: tatoeba.org #4...</td>\n",
              "    </tr>\n",
              "    <tr>\n",
              "      <th>38122</th>\n",
              "      <td>Don't make me blush.</td>\n",
              "      <td>Ne me faites pas rougir.</td>\n",
              "      <td>CC-BY 2.0 (France) Attribution: tatoeba.org #3...</td>\n",
              "    </tr>\n",
              "    <tr>\n",
              "      <th>217663</th>\n",
              "      <td>Yesterday the unveiling of the founder's statu...</td>\n",
              "      <td>Hier a eu lieu l'inauguration de la statue du ...</td>\n",
              "      <td>CC-BY 2.0 (France) Attribution: tatoeba.org #2...</td>\n",
              "    </tr>\n",
              "    <tr>\n",
              "      <th>102643</th>\n",
              "      <td>You're the one responsible.</td>\n",
              "      <td>C'est toi qui es responsable.</td>\n",
              "      <td>CC-BY 2.0 (France) Attribution: tatoeba.org #9...</td>\n",
              "    </tr>\n",
              "  </tbody>\n",
              "</table>\n",
              "</div>"
            ],
            "text/plain": [
              "                                                      eng  \\\n",
              "159816                You don't have to do what Tom says.   \n",
              "38353                                Has Tom calmed down?   \n",
              "38122                                Don't make me blush.   \n",
              "217663  Yesterday the unveiling of the founder's statu...   \n",
              "102643                        You're the one responsible.   \n",
              "\n",
              "                                                      fra  \\\n",
              "159816                      Vous n'avez pas à suivre Tom.   \n",
              "38353                                 Tom s'est-il calmé?   \n",
              "38122                            Ne me faites pas rougir.   \n",
              "217663  Hier a eu lieu l'inauguration de la statue du ...   \n",
              "102643                      C'est toi qui es responsable.   \n",
              "\n",
              "                                                       cc  \n",
              "159816  CC-BY 2.0 (France) Attribution: tatoeba.org #1...  \n",
              "38353   CC-BY 2.0 (France) Attribution: tatoeba.org #4...  \n",
              "38122   CC-BY 2.0 (France) Attribution: tatoeba.org #3...  \n",
              "217663  CC-BY 2.0 (France) Attribution: tatoeba.org #2...  \n",
              "102643  CC-BY 2.0 (France) Attribution: tatoeba.org #9...  "
            ]
          },
          "execution_count": 3,
          "metadata": {},
          "output_type": "execute_result"
        }
      ],
      "source": [
        "import os\n",
        "file_path = os.getenv('HOME')+'/aiffel/translator_seq2seq/data/fra.txt'\n",
        "lines = pd.read_csv(file_path, names=['eng', 'fra', 'cc'], sep='\\t')\n",
        "print('전체 샘플의 수 :',len(lines))\n",
        "lines.sample(5) #샘플 5개 출력"
      ]
    },
    {
      "cell_type": "code",
      "execution_count": null,
      "id": "cd5defeb",
      "metadata": {
        "id": "cd5defeb",
        "outputId": "cbad8f69-a2a3-4b44-a6d2-caa99dfdb04b"
      },
      "outputs": [
        {
          "data": {
            "text/html": [
              "<div>\n",
              "<style scoped>\n",
              "    .dataframe tbody tr th:only-of-type {\n",
              "        vertical-align: middle;\n",
              "    }\n",
              "\n",
              "    .dataframe tbody tr th {\n",
              "        vertical-align: top;\n",
              "    }\n",
              "\n",
              "    .dataframe thead th {\n",
              "        text-align: right;\n",
              "    }\n",
              "</style>\n",
              "<table border=\"1\" class=\"dataframe\">\n",
              "  <thead>\n",
              "    <tr style=\"text-align: right;\">\n",
              "      <th></th>\n",
              "      <th>eng</th>\n",
              "      <th>fra</th>\n",
              "    </tr>\n",
              "  </thead>\n",
              "  <tbody>\n",
              "    <tr>\n",
              "      <th>0</th>\n",
              "      <td>Go.</td>\n",
              "      <td>Va !</td>\n",
              "    </tr>\n",
              "    <tr>\n",
              "      <th>1</th>\n",
              "      <td>Go.</td>\n",
              "      <td>Marche.</td>\n",
              "    </tr>\n",
              "    <tr>\n",
              "      <th>2</th>\n",
              "      <td>Go.</td>\n",
              "      <td>En route !</td>\n",
              "    </tr>\n",
              "    <tr>\n",
              "      <th>3</th>\n",
              "      <td>Go.</td>\n",
              "      <td>Bouge !</td>\n",
              "    </tr>\n",
              "    <tr>\n",
              "      <th>4</th>\n",
              "      <td>Hi.</td>\n",
              "      <td>Salut !</td>\n",
              "    </tr>\n",
              "  </tbody>\n",
              "</table>\n",
              "</div>"
            ],
            "text/plain": [
              "   eng         fra\n",
              "0  Go.        Va !\n",
              "1  Go.     Marche.\n",
              "2  Go.  En route !\n",
              "3  Go.     Bouge !\n",
              "4  Hi.     Salut !"
            ]
          },
          "execution_count": 4,
          "metadata": {},
          "output_type": "execute_result"
        }
      ],
      "source": [
        "lines_ef = lines[['eng', 'fra']][:53000].copy().reset_index(drop=True) # 3.3만개 샘플 사용\n",
        "lines_ef.head(5)\n",
        "\n",
        "# 앞에 있는 33000개를 추출하여 학습하였더니 다소 짧은 문장으로 성능이 좋지 않은 거 같아 중간 쯤의 문장을 선택해봄."
      ]
    },
    {
      "cell_type": "code",
      "execution_count": null,
      "id": "7392ab43",
      "metadata": {
        "id": "7392ab43",
        "outputId": "6c25ebbe-140f-451a-eb6e-98537e5fecdb"
      },
      "outputs": [
        {
          "data": {
            "text/plain": [
              "pandas.core.frame.DataFrame"
            ]
          },
          "execution_count": 81,
          "metadata": {},
          "output_type": "execute_result"
        }
      ],
      "source": [
        "type(lines_ef)"
      ]
    },
    {
      "cell_type": "code",
      "execution_count": null,
      "id": "bc387cf6",
      "metadata": {
        "id": "bc387cf6",
        "outputId": "cd516d7c-21c0-4b09-9017-1cb9c271640b"
      },
      "outputs": [
        {
          "data": {
            "text/html": [
              "<div>\n",
              "<style scoped>\n",
              "    .dataframe tbody tr th:only-of-type {\n",
              "        vertical-align: middle;\n",
              "    }\n",
              "\n",
              "    .dataframe tbody tr th {\n",
              "        vertical-align: top;\n",
              "    }\n",
              "\n",
              "    .dataframe thead th {\n",
              "        text-align: right;\n",
              "    }\n",
              "</style>\n",
              "<table border=\"1\" class=\"dataframe\">\n",
              "  <thead>\n",
              "    <tr style=\"text-align: right;\">\n",
              "      <th></th>\n",
              "      <th>eng</th>\n",
              "      <th>fra</th>\n",
              "    </tr>\n",
              "  </thead>\n",
              "  <tbody>\n",
              "    <tr>\n",
              "      <th>10000</th>\n",
              "      <td>What are you accusing me of?</td>\n",
              "      <td>De quoi est-ce que tu m'accuses ?</td>\n",
              "    </tr>\n",
              "    <tr>\n",
              "      <th>10001</th>\n",
              "      <td>What are you all doing here?</td>\n",
              "      <td>Qu'êtes-vous tous en train de faire ici ?</td>\n",
              "    </tr>\n",
              "    <tr>\n",
              "      <th>10002</th>\n",
              "      <td>What are you all doing here?</td>\n",
              "      <td>Qu'êtes-vous toutes en train de faire ici ?</td>\n",
              "    </tr>\n",
              "    <tr>\n",
              "      <th>10003</th>\n",
              "      <td>What are you doing tomorrow?</td>\n",
              "      <td>Tu fais quoi demain ?</td>\n",
              "    </tr>\n",
              "    <tr>\n",
              "      <th>10004</th>\n",
              "      <td>What are you hiding from me?</td>\n",
              "      <td>Qu'est-ce que tu me caches ?</td>\n",
              "    </tr>\n",
              "  </tbody>\n",
              "</table>\n",
              "</div>"
            ],
            "text/plain": [
              "                                eng  \\\n",
              "10000  What are you accusing me of?   \n",
              "10001  What are you all doing here?   \n",
              "10002  What are you all doing here?   \n",
              "10003  What are you doing tomorrow?   \n",
              "10004  What are you hiding from me?   \n",
              "\n",
              "                                               fra  \n",
              "10000            De quoi est-ce que tu m'accuses ?  \n",
              "10001    Qu'êtes-vous tous en train de faire ici ?  \n",
              "10002  Qu'êtes-vous toutes en train de faire ici ?  \n",
              "10003                        Tu fais quoi demain ?  \n",
              "10004                 Qu'est-ce que tu me caches ?  "
            ]
          },
          "execution_count": 5,
          "metadata": {},
          "output_type": "execute_result"
        }
      ],
      "source": [
        "lines_ef[10000:10005]"
      ]
    },
    {
      "cell_type": "markdown",
      "id": "7cc18e08",
      "metadata": {
        "id": "7cc18e08"
      },
      "source": [
        "# 1 Refine, normalize, preprocess"
      ]
    },
    {
      "cell_type": "code",
      "execution_count": null,
      "id": "d12428c5",
      "metadata": {
        "id": "d12428c5",
        "outputId": "623b26b7-644e-45d3-d0e2-22d7261f3426"
      },
      "outputs": [
        {
          "name": "stdout",
          "output_type": "stream",
          "text": [
            "i ll do it .\n"
          ]
        }
      ],
      "source": [
        "import os, re\n",
        "\n",
        "def preprocess_sentence(sentence):\n",
        "    sentence = sentence.lower().strip() # 1. 소문자로, 공백 없애기\n",
        "    sentence = re.sub(r\"([?.!,¿])\", r\" \\1 \", sentence) # 2. 특수문자 양쪽에 공백\n",
        "    sentence = re.sub(r'[\" \"]+', \" \", sentence)\n",
        "    sentence = re.sub(r\"[^a-zA-Z?.!,¿]+\", \" \", sentence)\n",
        "    sentence = sentence.strip() # 5. 양쪽 공백 지우기. 1번에서도 공백 없애기 했는데 두번째이네\n",
        "    sentence = re.sub(r'[\" \"]+', \" \", sentence) # 3. 여러개 공백은 공백 하나로\n",
        "\n",
        "    return sentence\n",
        "\n",
        "# 이 문장이 어떻게 필터링되는지 확인해 보세요.\n",
        "print(preprocess_sentence(lines_ef.eng[2126]))"
      ]
    },
    {
      "cell_type": "code",
      "execution_count": null,
      "id": "606a5bd0",
      "metadata": {
        "id": "606a5bd0"
      },
      "outputs": [],
      "source": [
        "from nltk.tokenize import TreebankWordTokenizer, WordPunctTokenizer\n",
        "from tensorflow.keras.preprocessing.text import text_to_word_sequence\n",
        "\n",
        "tokenizer = TreebankWordTokenizer() # 하이픈 단어 유지. doesn't는 does와 n't로\n",
        "# tokenizer = WordPunctTokenizer() # don't를 don과 t로 jone's를 jone와 s로\n",
        "# tokenizer = text_to_word_sequence # 컴마 느낌표 등 제거. don't, jone's는 보존  성능이 살짝 떨어졌음.\n",
        "\n",
        "# https://wikidocs.net/21698\n",
        "# 토크나이저에 따라 모델 성능이 크게 차이나는 거 같지 않음."
      ]
    },
    {
      "cell_type": "code",
      "execution_count": null,
      "id": "1189de6c",
      "metadata": {
        "id": "1189de6c",
        "outputId": "def8369f-8422-4be8-f00f-f634a74f2240"
      },
      "outputs": [
        {
          "data": {
            "text/plain": [
              "53000"
            ]
          },
          "execution_count": 8,
          "metadata": {},
          "output_type": "execute_result"
        }
      ],
      "source": [
        "len(lines_ef)"
      ]
    },
    {
      "cell_type": "code",
      "execution_count": null,
      "id": "7bdc531b",
      "metadata": {
        "id": "7bdc531b",
        "outputId": "923a72e4-4fe3-4461-bf6c-9c44b185211f"
      },
      "outputs": [
        {
          "data": {
            "text/plain": [
              "['go', '.']"
            ]
          },
          "execution_count": 7,
          "metadata": {},
          "output_type": "execute_result"
        }
      ],
      "source": [
        "for i in range(len(lines_ef)):\n",
        "    lines_ef.eng[i] = preprocess_sentence(lines_ef.eng[i])\n",
        "    lines_ef.fra[i] = preprocess_sentence(lines_ef.fra[i]) # 특수문자 지우고 띄어쓰기\n",
        "    lines_ef.eng[i] = tokenizer.tokenize(lines_ef.eng[i])\n",
        "    lines_ef.fra[i] = tokenizer.tokenize(lines_ef.fra[i]) # 띄어쓰기한 거 나눠 리스트로 만들기\n",
        "\n",
        "lines_ef.eng[0]"
      ]
    },
    {
      "cell_type": "code",
      "execution_count": null,
      "id": "48e15712",
      "metadata": {
        "id": "48e15712"
      },
      "outputs": [],
      "source": [
        "lines_ef[10000:10005]"
      ]
    },
    {
      "cell_type": "markdown",
      "id": "22a6c387",
      "metadata": {
        "id": "22a6c387"
      },
      "source": [
        "# 2 Add Start & End Token\n",
        "https://wikidocs.net/2850\n",
        "- 디코더의 입력과 예측에는 시작 토큰 <sos>와 종료 토큰 <eos>가 필요\n",
        "- 시작과 종료를 한꺼번에 넣고 숫자로 바꾼 뒤에 하나씩 빼줌"
      ]
    },
    {
      "cell_type": "code",
      "execution_count": null,
      "id": "e639e76f",
      "metadata": {
        "id": "e639e76f"
      },
      "outputs": [],
      "source": [
        "lines_ef['fra'] = lines_ef['fra'].apply(lambda x: [\"<sos>\"] + x + [\"<eos>\"])\n",
        "\n",
        "# append(['<sos>'])"
      ]
    },
    {
      "cell_type": "code",
      "execution_count": null,
      "id": "fcc5f9b7",
      "metadata": {
        "id": "fcc5f9b7",
        "outputId": "51ffea3f-9e8e-4eae-ecf9-8d0b33d0dbda"
      },
      "outputs": [
        {
          "data": {
            "text/html": [
              "<div>\n",
              "<style scoped>\n",
              "    .dataframe tbody tr th:only-of-type {\n",
              "        vertical-align: middle;\n",
              "    }\n",
              "\n",
              "    .dataframe tbody tr th {\n",
              "        vertical-align: top;\n",
              "    }\n",
              "\n",
              "    .dataframe thead th {\n",
              "        text-align: right;\n",
              "    }\n",
              "</style>\n",
              "<table border=\"1\" class=\"dataframe\">\n",
              "  <thead>\n",
              "    <tr style=\"text-align: right;\">\n",
              "      <th></th>\n",
              "      <th>eng</th>\n",
              "      <th>fra</th>\n",
              "    </tr>\n",
              "  </thead>\n",
              "  <tbody>\n",
              "    <tr>\n",
              "      <th>0</th>\n",
              "      <td>[go, .]</td>\n",
              "      <td>[&lt;sos&gt;, va, !, &lt;eos&gt;]</td>\n",
              "    </tr>\n",
              "    <tr>\n",
              "      <th>1</th>\n",
              "      <td>[go, .]</td>\n",
              "      <td>[&lt;sos&gt;, marche, ., &lt;eos&gt;]</td>\n",
              "    </tr>\n",
              "    <tr>\n",
              "      <th>2</th>\n",
              "      <td>[go, .]</td>\n",
              "      <td>[&lt;sos&gt;, en, route, !, &lt;eos&gt;]</td>\n",
              "    </tr>\n",
              "    <tr>\n",
              "      <th>3</th>\n",
              "      <td>[go, .]</td>\n",
              "      <td>[&lt;sos&gt;, bouge, !, &lt;eos&gt;]</td>\n",
              "    </tr>\n",
              "    <tr>\n",
              "      <th>4</th>\n",
              "      <td>[hi, .]</td>\n",
              "      <td>[&lt;sos&gt;, salut, !, &lt;eos&gt;]</td>\n",
              "    </tr>\n",
              "  </tbody>\n",
              "</table>\n",
              "</div>"
            ],
            "text/plain": [
              "       eng                           fra\n",
              "0  [go, .]         [<sos>, va, !, <eos>]\n",
              "1  [go, .]     [<sos>, marche, ., <eos>]\n",
              "2  [go, .]  [<sos>, en, route, !, <eos>]\n",
              "3  [go, .]      [<sos>, bouge, !, <eos>]\n",
              "4  [hi, .]      [<sos>, salut, !, <eos>]"
            ]
          },
          "execution_count": 9,
          "metadata": {},
          "output_type": "execute_result"
        }
      ],
      "source": [
        "lines_ef[:5]"
      ]
    },
    {
      "cell_type": "markdown",
      "id": "c9fdbd87",
      "metadata": {
        "id": "c9fdbd87"
      },
      "source": [
        "# 3 Word to Integer\n",
        "https://wikidocs.net/31766"
      ]
    },
    {
      "cell_type": "code",
      "execution_count": null,
      "id": "68e9459a",
      "metadata": {
        "id": "68e9459a"
      },
      "outputs": [],
      "source": [
        "eng_tokenizer = Tokenizer()\n",
        "eng_tokenizer.fit_on_texts(lines_ef.eng)\n",
        "\n",
        "# fit_on_texts는 입력한 텍스트로부터 단어 빈도수가 높은 순으로 낮은 정수 인덱스를 부여"
      ]
    },
    {
      "cell_type": "code",
      "execution_count": null,
      "id": "4eeb7784",
      "metadata": {
        "id": "4eeb7784",
        "outputId": "28acff9d-0e2c-43bc-c86b-825aa977e0c2"
      },
      "outputs": [
        {
          "name": "stdout",
          "output_type": "stream",
          "text": [
            "{'.': 1, 'i': 2, 'you': 3, '?': 4, 'tom': 5, 'it': 6, 'is': 7, 'a': 8, 's': 9, 't': 10, 're': 11, 'we': 12, 'the': 13, 'that': 14, 'm': 15, 'to': 16, 'he': 17, 'this': 18, 'me': 19, 'are': 20, 'do': 21, 'was': 22, 'can': 23, 'they': 24, 'have': 25, 'your': 26, 'my': 27, 'don': 28, 'not': 29, 'what': 30, 'did': 31, '!': 32, 'go': 33, 'll': 34, 'be': 35, 'all': 36, 'like': 37, 'she': 38, 'in': 39, 'no': 40, 'here': 41, 'very': 42, 'how': 43, 'let': 44, 'on': 45, 'of': 46, 'get': 47, 'want': 48, 'know': 49, 'need': 50, 'up': 51, ',': 52, 'one': 53, 'who': 54, 'for': 55, 've': 56, 'there': 57, 'out': 58, 'him': 59, 'good': 60, 'so': 61, 'now': 62, 'were': 63, 'got': 64, 'please': 65, 'at': 66, 'come': 67, 'just': 68, 'why': 69, 'help': 70, 'love': 71, 'too': 72, 'look': 73, 'where': 74, 'has': 75, 'us': 76, 'will': 77, 'take': 78, 'see': 79, 'stop': 80, 'an': 81, 'had': 82, 'with': 83, 'didn': 84, 'his': 85, 'must': 86, 'back': 87, 'home': 88, 'won': 89, 'give': 90, 'am': 91, 'work': 92, 'isn': 93, 'still': 94, 'really': 95, 'them': 96, 'think': 97, 'try': 98, 'happy': 99, 'right': 100, 'leave': 101, 'going': 102, 'feel': 103, 'her': 104, 'keep': 105, 'time': 106, 'car': 107, 'eat': 108, 'saw': 109, 'made': 110, 'never': 111, 'everyone': 112, 'stay': 113, 'may': 114, 'busy': 115, 'looks': 116, 'again': 117, 'alone': 118, 'mary': 119, 'lost': 120, 'should': 121, 'down': 122, 'about': 123, 'well': 124, 'ready': 125, 'bad': 126, 'went': 127, 'dog': 128, 'say': 129, 'job': 130, 'big': 131, 'hate': 132, 'off': 133, 'french': 134, 'wait': 135, 'could': 136, 'does': 137, 'some': 138, 'tell': 139, 'make': 140, 'd': 141, 'nice': 142, 'felt': 143, 'tired': 144, 'today': 145, 'money': 146, 'old': 147, 'away': 148, 'drink': 149, 'call': 150, 'much': 151, 'wrong': 152, 'lot': 153, 'book': 154, 'talk': 155, 'our': 156, 'left': 157, 'over': 158, 'fun': 159, 'hurt': 160, 'enough': 161, 'sure': 162, 'late': 163, 'room': 164, 'done': 165, 'way': 166, 'wasn': 167, 'seems': 168, 'mine': 169, 'nobody': 170, 'new': 171, 'read': 172, 'day': 173, 'door': 174, 'everything': 175, 'open': 176, 'said': 177, 'hard': 178, 'hear': 179, 'better': 180, 'hope': 181, 'friends': 182, 'when': 183, 'safe': 184, 'live': 185, 'came': 186, 'idea': 187, 'everybody': 188, 'been': 189, 'both': 190, 'likes': 191, 'house': 192, 'turn': 193, 'more': 194, 'nothing': 195, 'ok': 196, 'anyone': 197, 'bed': 198, 'find': 199, 'trust': 200, 'kept': 201, 'gave': 202, 'funny': 203, 'ask': 204, 'speak': 205, 'cold': 206, 'aren': 207, 'sorry': 208, 'buy': 209, 'water': 210, 'these': 211, 'careful': 212, 'would': 213, 'yet': 214, 'easy': 215, 'friend': 216, 'only': 217, 'broke': 218, 'by': 219, 'watch': 220, 'man': 221, 'sit': 222, 'play': 223, 'put': 224, 'knew': 225, 'found': 226, 'win': 227, 'true': 228, 'great': 229, 'something': 230, 'crazy': 231, 'sleep': 232, 'died': 233, 'yours': 234, 'loves': 235, 'took': 236, 'hurry': 237, 'and': 238, 'run': 239, 'miss': 240, 'best': 241, 'show': 242, 'coming': 243, 'hungry': 244, 'gone': 245, 'angry': 246, 'answer': 247, 'dead': 248, 'already': 249, 'as': 250, 'life': 251, 'teacher': 252, 'pay': 253, 'sick': 254, 'die': 255, 'doing': 256, 'fast': 257, 'called': 258, 'believe': 259, 'school': 260, 'heard': 261, 'problem': 262, 'forget': 263, 'bring': 264, 'pretty': 265, 'use': 266, 'sing': 267, 'mad': 268, 'anybody': 269, 'cat': 270, 'always': 271, 'thanks': 272, 'long': 273, 'almost': 274, 'close': 275, 'sad': 276, 'soon': 277, 'mean': 278, 'started': 279, 'eyes': 280, 'being': 281, 'quit': 282, 'kind': 283, 'tried': 284, 'looked': 285, 'name': 286, 'bit': 287, 'stupid': 288, 'doesn': 289, 'care': 290, 'free': 291, 'early': 292, 'sat': 293, 'lucky': 294, 'quiet': 295, 'knows': 296, 'yourself': 297, 'any': 298, 'move': 299, 'food': 300, 'boy': 301, 'wanted': 302, 'swim': 303, 'beer': 304, 'upset': 305, 'anything': 306, 'quite': 307, 'tomorrow': 308, 'from': 309, 'told': 310, 'married': 311, 'scared': 312, 'start': 313, 'liked': 314, 'remember': 315, 'once': 316, 'change': 317, 'wants': 318, 'ran': 319, 'fine': 320, 'drunk': 321, 'working': 322, 'stopped': 323, 'hand': 324, 'shut': 325, 'walk': 326, 'outside': 327, 'two': 328, 'hot': 329, 'afraid': 330, 'those': 331, 'first': 332, 'talking': 333, 'seem': 334, 'little': 335, 'glad': 336, 'tall': 337, 'shot': 338, 'changed': 339, 'lunch': 340, 'ate': 341, 'perfect': 342, 'met': 343, 'hat': 344, 'lose': 345, 'happen': 346, 'mother': 347, 'enjoy': 348, 'kids': 349, 'needed': 350, 'listen': 351, 'drive': 352, 'works': 353, 'check': 354, 'seat': 355, 'plan': 356, 'fired': 357, 'serious': 358, 'study': 359, 'myself': 360, 'coffee': 361, 'handle': 362, 'weird': 363, 'whose': 364, 'hair': 365, 'light': 366, 'if': 367, 'stand': 368, 'tv': 369, 'needs': 370, 'key': 371, 'lie': 372, 'write': 373, 'clean': 374, 'around': 375, 'bus': 376, 'next': 377, 'warned': 378, 'running': 379, 'choice': 380, 'red': 381, 'dinner': 382, 'phone': 383, 'word': 384, 'guy': 385, 'fell': 386, 'fix': 387, 'tea': 388, 'kidding': 389, 'often': 390, 'joke': 391, 'hit': 392, 'wine': 393, 'seen': 394, 'someone': 395, 'boston': 396, 'began': 397, 'fat': 398, 'inside': 399, 'missed': 400, 'son': 401, 'which': 402, 'getting': 403, 'cool': 404, 'guys': 405, 'fish': 406, 'child': 407, 'finished': 408, 'luck': 409, 'loved': 410, 'eating': 411, 'bought': 412, 'nuts': 413, 'happened': 414, 'wish': 415, 'many': 416, 'father': 417, 'fault': 418, 'arrived': 419, 'sounds': 420, 'touch': 421, 'leaving': 422, 'became': 423, 'wife': 424, 'calm': 425, 'rest': 426, 'night': 427, 'young': 428, 'naive': 429, 'nervous': 430, 'books': 431, 'owe': 432, 'place': 433, 'three': 434, 'cute': 435, 'hands': 436, 'last': 437, 'mind': 438, 'caught': 439, 'crying': 440, 'invited': 441, 'music': 442, 'hates': 443, 'used': 444, 'born': 445, 'agree': 446, 'cry': 447, 'follow': 448, 'asked': 449, 'milk': 450, 'song': 451, 'quickly': 452, 'doctor': 453, 'shoes': 454, 'people': 455, 'into': 456, 'such': 457, 'forgot': 458, 'rich': 459, 'news': 460, 'else': 461, 'together': 462, 'bicycle': 463, 'proud': 464, 'hold': 465, 'kiss': 466, 'ahead': 467, 'lying': 468, 'cake': 469, 'reading': 470, 'meet': 471, 'empty': 472, 'bag': 473, 'understand': 474, 'or': 475, 'story': 476, 'wake': 477, 'brave': 478, 'strong': 479, 'liar': 480, 'gun': 481, 'pen': 482, 'killed': 483, 'awesome': 484, 'kill': 485, 'hurts': 486, 'dogs': 487, 'girl': 488, 'sweet': 489, 'deal': 490, 'worried': 491, 'things': 492, 'couldn': 493, 'paid': 494, 'alive': 495, 'far': 496, 'worked': 497, 'thank': 498, 'waited': 499, 'break': 500, 'asleep': 501, 'laughed': 502, 'fire': 503, 'ill': 504, 'sign': 505, 'real': 506, 'spoke': 507, 'helped': 508, 'game': 509, 'cut': 510, 'guess': 511, 'maybe': 512, 'surprised': 513, 'later': 514, 'sound': 515, 'than': 516, 'beat': 517, 'count': 518, 'another': 519, 'heart': 520, 'might': 521, 'singing': 522, 'dream': 523, 'own': 524, 'lives': 525, 'somebody': 526, 'drop': 527, 'head': 528, 'dark': 529, 'rain': 530, 'minute': 531, 'family': 532, 'turned': 533, 'lied': 534, 'smoke': 535, 'tough': 536, 'smart': 537, 'sleepy': 538, 'excited': 539, 'broken': 540, 'confused': 541, 'writing': 542, 'lazy': 543, 'smell': 544, 'lonely': 545, 'looking': 546, 'bike': 547, 'fair': 548, 'catch': 549, 'horse': 550, 'baby': 551, 'trouble': 552, 'walked': 553, 'wonderful': 554, 'clever': 555, 'fight': 556, 'blame': 557, 'sent': 558, 'coat': 559, 'beautiful': 560, 'keys': 561, 'same': 562, 'yesterday': 563, 'normal': 564, 'team': 565, 'small': 566, 'week': 567, 'different': 568, 'important': 569, 'every': 570, 'children': 571, 'thing': 572, 'worry': 573, 'joking': 574, 'curious': 575, 'strange': 576, 'dance': 577, 'saved': 578, 'upstairs': 579, 'girls': 580, 'tie': 581, 'makes': 582, 'apple': 583, 'betrayed': 584, 'watching': 585, 'shirt': 586, 'full': 587, 'after': 588, 'dirty': 589, 'prepared': 590, 'jealous': 591, 'secret': 592, 'explain': 593, 'boss': 594, 'trusted': 595, 'satisfied': 596, 'behind': 597, 'movie': 598, 'cried': 599, 'fit': 600, 'lock': 601, 'grab': 602, 'excuse': 603, 'awful': 604, 'cook': 605, 'trying': 606, 'cats': 607, 'correct': 608, 'silent': 609, 'list': 610, 'slow': 611, 'idiot': 612, 'face': 613, 'town': 614, 'drank': 615, 'send': 616, 'arm': 617, 'slept': 618, 'amazing': 619, 'mom': 620, 'student': 621, 'sister': 622, 'tonight': 623, 'fly': 624, 'short': 625, 'duty': 626, 'laugh': 627, 'box': 628, 'fool': 629, 'party': 630, 'act': 631, 'smiling': 632, 'boring': 633, 'window': 634, 'boat': 635, 'rules': 636, 'point': 637, 'brother': 638, 'feeling': 639, 'person': 640, 'shy': 641, 'step': 642, 'yes': 643, 'vote': 644, 'age': 645, 'thirsty': 646, 'pain': 647, 'polite': 648, 'closed': 649, 'finally': 650, 'danger': 651, 'table': 652, 'chance': 653, 'charge': 654, 'mistake': 655, 'their': 656, 'trip': 657, 'wet': 658, 'welcome': 659, 'rude': 660, 'smiled': 661, 'save': 662, 'honest': 663, 'retired': 664, 'tight': 665, 'patient': 666, 'wrote': 667, 'even': 668, 'kid': 669, 'believed': 670, 'ride': 671, 'oldest': 672, 'message': 673, 'then': 674, 'ignore': 675, 'blue': 676, 'bored': 677, 'bet': 678, 'unlucky': 679, 'slowly': 680, 'having': 681, 'opened': 682, 'failed': 683, 'weak': 684, 'warn': 685, 'woke': 686, 'blind': 687, 'famous': 688, 'dancing': 689, 'shocked': 690, 'law': 691, 'mess': 692, 'deserve': 693, 'pizza': 694, 'thought': 695, 'followed': 696, 'english': 697, 'nose': 698, 'listening': 699, 'order': 700, 'end': 701, 'knife': 702, 'relax': 703, 'hang': 704, 'terrific': 705, 'awake': 706, 'dying': 707, 'ours': 708, 'winning': 709, 'kissed': 710, 'says': 711, 'meat': 712, 'hey': 713, 'involved': 714, 'cops': 715, 'meant': 716, 'studying': 717, 'comes': 718, 'exhausted': 719, 'possible': 720, 'laughing': 721, 'seemed': 722, 'second': 723, 'parents': 724, 'truth': 725, 'hug': 726, 'wise': 727, 'choose': 728, 'faster': 729, 'relaxed': 730, 'moving': 731, 'war': 732, 'cash': 733, 'set': 734, 'closer': 735, 'shall': 736, 'teach': 737, 'feet': 738, 'talented': 739, 'few': 740, 'god': 741, 'feels': 742, 'japanese': 743, 'terrible': 744, 'camera': 745, 'park': 746, 'dangerous': 747, 'picture': 748, 'desk': 749, 'allowed': 750, 'timid': 751, 'hired': 752, 'men': 753, 'risk': 754, 'lawyer': 755, 'forward': 756, 'raining': 757, 'train': 758, 'begin': 759, 'join': 760, 'push': 761, 'high': 762, 'talked': 763, 'ugly': 764, 'cheated': 765, 'warm': 766, 'losing': 767, 'skinny': 768, 'apologize': 769, 'cooking': 770, 'date': 771, 'refused': 772, 'sleeping': 773, 'guilty': 774, 'woman': 775, 'deny': 776, 'downstairs': 777, 'smells': 778, 'prefer': 779, 'shower': 780, 'playing': 781, 'travel': 782, 'glasses': 783, 'interested': 784, 'smarter': 785, 'bill': 786, 'office': 787, 'ever': 788, 'obey': 789, 'poor': 790, 'hero': 791, 'finish': 792, 'snow': 793, 'simple': 794, 'watched': 795, 'dress': 796, 'shopping': 797, 'black': 798, 'matter': 799, 'clock': 800, 'pleased': 801, 'impressed': 802, 'sense': 803, 'near': 804, 'moment': 805, 'tastes': 806, 'tree': 807, 'brought': 808, 'letter': 809, 'chair': 810, 'expensive': 811, 'continue': 812, 'goal': 813, 'death': 814, 'drinking': 815, 'without': 816, 'himself': 817, 'jump': 818, 'wash': 819, 'clear': 820, 'drives': 821, 'boys': 822, 'regret': 823, 'bite': 824, 'decided': 825, 'unbelievable': 826, 'respect': 827, 'depressed': 828, 'worth': 829, 'cup': 830, 'plays': 831, 'disgusting': 832, 'wear': 833, 'expect': 834, 'hour': 835, 'daughter': 836, 'but': 837, 'hello': 838, 'smile': 839, 'stayed': 840, 'helps': 841, 'seated': 842, 'naked': 843, 'happens': 844, 'dressed': 845, 'driving': 846, 'touched': 847, 'fake': 848, 'silly': 849, 'map': 850, 'innocent': 851, 'white': 852, 'yelling': 853, 'favor': 854, 'baked': 855, 'part': 856, 'allow': 857, 'number': 858, 'injured': 859, 'rather': 860, 'making': 861, 'helpful': 862, 'escape': 863, 'ordered': 864, 'decision': 865, 'clothes': 866, 'prove': 867, 'agreed': 868, 'along': 869, 'forgive': 870, 'air': 871, 'green': 872, 'sharp': 873, 'decide': 874, 'generous': 875, 'hated': 876, 'eggs': 877, 'ashamed': 878, 'trapped': 879, 'monday': 880, 'gift': 881, 'locked': 882, 'bath': 883, 'annoying': 884, 'cruel': 885, 'dry': 886, 'bird': 887, 'breath': 888, 'throw': 889, 'six': 890, 'before': 891, 'waiting': 892, 'fishing': 893, 'doors': 894, 'carefully': 895, 'prices': 896, 'pencil': 897, 'haven': 898, 'mouth': 899, 'question': 900, 'stood': 901, 'deep': 902, 'refuse': 903, 'taste': 904, 'fantastic': 905, 'stuck': 906, 'lovely': 907, 'direct': 908, 'share': 909, 'golf': 910, 'sell': 911, 'paper': 912, 'remain': 913, 'horrible': 914, 'apples': 915, 'plans': 916, 'learn': 917, 'missing': 918, 'control': 919, 'foolish': 920, 'rope': 921, 'badly': 922, 'dad': 923, 'rid': 924, 'lit': 925, 'students': 926, 'store': 927, 'match': 928, 'taking': 929, 'hide': 930, 'pass': 931, 'pull': 932, 'pardon': 933, 'built': 934, 'pick': 935, 'drinks': 936, 'friendly': 937, 'useless': 938, 'grow': 939, 'speaking': 940, 'special': 941, 'legs': 942, 'line': 943, 'survive': 944, 'fever': 945, 'nearly': 946, 'convinced': 947, 'helping': 948, 'nonsense': 949, 'ball': 950, 'side': 951, 'wind': 952, 'afford': 953, 'hardly': 954, 'relieved': 955, 'enemy': 956, 'ideas': 957, 'flight': 958, 'eye': 959, 'longer': 960, 'hi': 961, 'attack': 962, 'low': 963, 'okay': 964, 'beg': 965, 'promise': 966, 'armed': 967, 'shoot': 968, 'creative': 969, 'chose': 970, 'hugged': 971, 'escaped': 972, 'ship': 973, 'half': 974, 'proof': 975, 'robbed': 976, 'fighting': 977, 'while': 978, 'fed': 979, 'raise': 980, 'ambitious': 981, 'concerned': 982, 'gets': 983, 'insane': 984, 'floor': 985, 'truck': 986, 'cookies': 987, 'price': 988, 'glass': 989, 'ago': 990, 'ridiculous': 991, 'each': 992, 'cautious': 993, 'cost': 994, 'speaks': 995, 'protect': 996, 'other': 997, 'bald': 998, 'odd': 999, 'noticed': 1000, 'rush': 1001, 'ice': 1002, 'panicked': 1003, 'ruined': 1004, 'cheap': 1005, 'aside': 1006, 'bother': 1007, 'fear': 1008, 'gas': 1009, 'moved': 1010, 'stunned': 1011, 'loud': 1012, 'leg': 1013, 'huge': 1014, 'confident': 1015, 'pathetic': 1016, 'cancer': 1017, 'nearby': 1018, 'shame': 1019, 'snowing': 1020, 'dreaming': 1021, 'flowers': 1022, 'summer': 1023, 'motivated': 1024, 'saying': 1025, 'bell': 1026, 'complain': 1027, 'year': 1028, 'noise': 1029, 'swimming': 1030, 'rang': 1031, 'fate': 1032, 'remained': 1033, 'ticket': 1034, 'breakfast': 1035, 'weight': 1036, 'under': 1037, 'candles': 1038, 'rely': 1039, 'deaf': 1040, 'birds': 1041, 'cares': 1042, 'content': 1043, 'pray': 1044, 'merciful': 1045, 'grew': 1046, 'also': 1047, 'class': 1048, 'soup': 1049, 'chicken': 1050, 'return': 1051, 'denied': 1052, 'handled': 1053, 'cab': 1054, 'singer': 1055, 'ears': 1056, 'bleeding': 1057, 'mistaken': 1058, 'outraged': 1059, 'positive': 1060, 'diary': 1061, 'sang': 1062, 'smoking': 1063, 'stole': 1064, 'jobs': 1065, 'note': 1066, 'wore': 1067, 'impatient': 1068, 'business': 1069, 'trusts': 1070, 'harm': 1071, 'holiday': 1072, 'christmas': 1073, 'large': 1074, 'totally': 1075, 'bank': 1076, 'incredible': 1077, 'straight': 1078, 'held': 1079, 'wallet': 1080, 'threatened': 1081, 'exactly': 1082, 'oh': 1083, 'runs': 1084, 'cover': 1085, 'dizzy': 1086, 'burned': 1087, 'seriously': 1088, 'breathe': 1089, 'doubt': 1090, 'fixed': 1091, 'screamed': 1092, 'accept': 1093, 'amused': 1094, 'single': 1095, 'thirty': 1096, 'dumb': 1097, 'staying': 1098, 'dumped': 1099, 'piano': 1100, 'focused': 1101, 'walking': 1102, 'pale': 1103, 'dating': 1104, 'crime': 1105, 'tricked': 1106, 'horses': 1107, 'taxi': 1108, 'artist': 1109, 'resilient': 1110, 'leak': 1111, 'yourselves': 1112, 'grass': 1113, 'attacked': 1114, 'radio': 1115, 'road': 1116, 'country': 1117, 'towel': 1118, 'lay': 1119, 'tennis': 1120, 'wouldn': 1121, 'wasting': 1122, 'suddenly': 1123, 'headache': 1124, 'frightened': 1125, 'belongs': 1126, 'difficult': 1127, 'loudly': 1128, 'familiar': 1129, 'giggled': 1130, 'hers': 1131, 'quick': 1132, 'facts': 1133, 'promised': 1134, 'comment': 1135, 'punctual': 1136, 'bread': 1137, 'scream': 1138, 'healthy': 1139, 'starved': 1140, 'unhappy': 1141, 'surprise': 1142, 'objective': 1143, 'romantic': 1144, 'admire': 1145, 'sugar': 1146, 'fearless': 1147, 'powerful': 1148, 'rumor': 1149, 'closely': 1150, 'tense': 1151, 'loser': 1152, 'beware': 1153, 'thief': 1154, 'skiing': 1155, 'played': 1156, 'blood': 1157, 'available': 1158, 'weapon': 1159, 'suit': 1160, 'bright': 1161, 'eaten': 1162, 'power': 1163, 'sore': 1164, 'evidence': 1165, 'able': 1166, 'embarrassed': 1167, 'sour': 1168, 'changes': 1169, 'overreacting': 1170, 'company': 1171, 'showed': 1172, 'guitar': 1173, 'surrounded': 1174, 'days': 1175, 'pants': 1176, 'none': 1177, 'bothering': 1178, 'productive': 1179, 'address': 1180, 'obeyed': 1181, 'loosen': 1182, 'loaded': 1183, 'matters': 1184, 'notes': 1185, 'discreet': 1186, 'jerk': 1187, 'fined': 1188, 'messed': 1189, 'manage': 1190, 'baffled': 1191, 'sincere': 1192, 'doll': 1193, 'spring': 1194, 'talks': 1195, 'shake': 1196, 'resist': 1197, 'safely': 1198, 'enjoyed': 1199, 'paint': 1200, 'fan': 1201, 'hopeless': 1202, 'pregnant': 1203, 'stubborn': 1204, 'checked': 1205, 'waste': 1206, 'ended': 1207, 'arguing': 1208, 'gold': 1209, 'feed': 1210, 'bananas': 1211, 'soccer': 1212, 'advice': 1213, 'rescued': 1214, 'forgetful': 1215, 'terrified': 1216, 'test': 1217, 'standing': 1218, 'peace': 1219, 'stuff': 1220, 'shoe': 1221, 'cousins': 1222, 'enemies': 1223, 'add': 1224, 'file': 1225, 'sold': 1226, 'borrow': 1227, 'animals': 1228, 'alike': 1229, 'police': 1230, 'seldom': 1231, 'volunteer': 1232, 'truly': 1233, 'handsome': 1234, 'necessary': 1235, 'answered': 1236, 'roll': 1237, 'church': 1238, 'lake': 1239, 'sky': 1240, 'believes': 1241, 'teeth': 1242, 'papers': 1243, 'cousin': 1244, 'advance': 1245, 'hospital': 1246, 'example': 1247, 'weather': 1248, 'shouldn': 1249, 'rained': 1250, 'opinion': 1251, 'continued': 1252, 'arrive': 1253, 'weekend': 1254, 'stylish': 1255, 'medication': 1256, 'ski': 1257, 'fussy': 1258, 'buying': 1259, 'humble': 1260, 'fruit': 1261, 'certain': 1262, 'puzzled': 1263, 'older': 1264, 'fall': 1265, 'exciting': 1266, 'draw': 1267, 'understood': 1268, 'canadian': 1269, 'genius': 1270, 'divorced': 1271, 'garbage': 1272, 'goes': 1273, 'quietly': 1274, 'passed': 1275, 'annoy': 1276, 'adorable': 1277, 'ring': 1278, 'movies': 1279, 'volunteered': 1280, 'expecting': 1281, 'screaming': 1282, 'offer': 1283, 'foot': 1284, 'anyway': 1285, 'creepy': 1286, 'scares': 1287, 'succeed': 1288, 'calling': 1289, 'mail': 1290, 'panting': 1291, 'spiders': 1292, 'details': 1293, 'selected': 1294, 'astonished': 1295, 'overworked': 1296, 'vegetarian': 1297, 'reply': 1298, 'blew': 1299, 'earlier': 1300, 'excused': 1301, 'ten': 1302, 'interesting': 1303, 'football': 1304, 'homework': 1305, 'learned': 1306, 'baseball': 1307, 'taught': 1308, 'unusual': 1309, 'sale': 1310, 'sounded': 1311, 'fabulous': 1312, 'city': 1313, 'times': 1314, 'flexible': 1315, 'stolen': 1316, 'umbrella': 1317, 'drill': 1318, 'disappointed': 1319, 'living': 1320, 'issue': 1321, 'fortunate': 1322, 'abandoned': 1323, 'problems': 1324, 'fingers': 1325, 'briefly': 1326, 'heavy': 1327, 'others': 1328, 'raised': 1329, 'barely': 1330, 'everywhere': 1331, 'sort': 1332, 'knocked': 1333, 'served': 1334, 'meeting': 1335, 'anywhere': 1336, 'volume': 1337, 'anymore': 1338, 'mentally': 1339, 'burn': 1340, 'brief': 1341, 'jumped': 1342, 'phoned': 1343, 'thin': 1344, 'marry': 1345, 'cheered': 1346, 'crashed': 1347, 'fainted': 1348, 'stinks': 1349, 'fill': 1350, 'admit': 1351, 'sneaky': 1352, 'strict': 1353, 'rice': 1354, 'rock': 1355, 'washed': 1356, 'engaged': 1357, 'popular': 1358, 'selfish': 1359, 'teasing': 1360, 'memorize': 1361, 'drowned': 1362, 'twins': 1363, 'rifle': 1364, 'evening': 1365, 'kicked': 1366, 'chess': 1367, 'women': 1368, 'coward': 1369, 'expected': 1370, 'saint': 1371, 'reserved': 1372, 'unfair': 1373, 'obvious': 1374, 'dreams': 1375, 'scary': 1376, 'uneasy': 1377, 'translate': 1378, 'circle': 1379, 'gear': 1380, 'dropped': 1381, 'maid': 1382, 'ignored': 1383, 'type': 1384, 'deserved': 1385, 'winter': 1386, 'plane': 1387, 'surrendered': 1388, 'pool': 1389, 'powerless': 1390, 'unlocked': 1391, 'climbing': 1392, 'gambling': 1393, 'wounded': 1394, 'pushed': 1395, 'crafty': 1396, 'disappeared': 1397, 'keeps': 1398, 'spot': 1399, 'careless': 1400, 'against': 1401, 'devastated': 1402, 'roses': 1403, 'charming': 1404, 'stalling': 1405, 'brothers': 1406, 'envious': 1407, 'comfortable': 1408, 'dawn': 1409, 'appreciate': 1410, 'sons': 1411, 'misunderstood': 1412, 'rent': 1413, 'extroverted': 1414, 'vacation': 1415, 'resourceful': 1416, 'happening': 1417, 'seeing': 1418, 'repeat': 1419, 'salt': 1420, 'prize': 1421, 'immediately': 1422, 'grown': 1423, 'cap': 1424, 'traveling': 1425, 'insurance': 1426, 'beach': 1427, 'computer': 1428, 'rarely': 1429, 'humiliated': 1430, 'stressed': 1431, 'complicated': 1432, 'unnecessary': 1433, 'cards': 1434, 'leader': 1435, 'hobby': 1436, 'weapons': 1437, 'extremely': 1438, 'sight': 1439, 'lights': 1440, 'master': 1441, 'somewhere': 1442, 'astute': 1443, 'kitchen': 1444, 'eyesight': 1445, 'goodbye': 1446, 'tidy': 1447, 'bless': 1448, 'hurried': 1449, 'cop': 1450, 'snowed': 1451, 'course': 1452, 'walks': 1453, 'voted': 1454, 'prudent': 1455, 'carry': 1456, 'destroy': 1457, 'canceled': 1458, 'disagree': 1459, 'envy': 1460, 'exercise': 1461, 'greedy': 1462, 'begun': 1463, 'cooked': 1464, 'cheerful': 1465, 'ruthless': 1466, 'math': 1467, 'psychic': 1468, 'wealthy': 1469, 'split': 1470, 'coughed': 1471, 'evil': 1472, 'owns': 1473, 'describe': 1474, 'arrogant': 1475, 'apologized': 1476, 'easily': 1477, 'doubts': 1478, 'jokes': 1479, 'twice': 1480, 'grateful': 1481, 'starving': 1482, 'thrilled': 1483, 'identify': 1484, 'digging': 1485, 'command': 1486, 'spy': 1487, 'stoned': 1488, 'words': 1489, 'ink': 1490, 'reasonable': 1491, 'demented': 1492, 'pie': 1493, 'clue': 1494, 'copy': 1495, 'contented': 1496, 'flattered': 1497, 'intrigued': 1498, 'skeptical': 1499, 'worse': 1500, 'treat': 1501, 'unlikely': 1502, 'attention': 1503, 'model': 1504, 'clearly': 1505, 'suits': 1506, 'till': 1507, 'doctors': 1508, 'cows': 1509, 'judge': 1510, 'van': 1511, 'scolded': 1512, 'parties': 1513, 'dessert': 1514, 'college': 1515, 'punished': 1516, 'guide': 1517, 'contagious': 1518, 'successful': 1519, 'likely': 1520, 'counting': 1521, 'similar': 1522, 'cleaned': 1523, 'present': 1524, 'meal': 1525, 'solution': 1526, 'studied': 1527, 'adventurous': 1528, 'voice': 1529, 'tissue': 1530, 'mayor': 1531, 'witness': 1532, 'kidnapped': 1533, 'double': 1534, 'alarmed': 1535, 'unambitious': 1536, 'seven': 1537, 'fresh': 1538, 'windy': 1539, 'its': 1540, 'smaller': 1541, 'bottle': 1542, 'alarm': 1543, 'forgiven': 1544, 'wears': 1545, 'dishes': 1546, 'prisoners': 1547, 'embarrassing': 1548, 'stranger': 1549, 'aggressive': 1550, 'shape': 1551, 'size': 1552, 'button': 1553, 'tire': 1554, 'promoted': 1555, 'entered': 1556, 'murdered': 1557, 'mistakes': 1558, 'whatever': 1559, 'five': 1560, 'knees': 1561, 'incompetent': 1562, 'skipped': 1563, 'accident': 1564, 'style': 1565, 'unconscious': 1566, 'wild': 1567, 'neighbor': 1568, 'emergency': 1569, 'downtown': 1570, 'memory': 1571, 'completely': 1572, 'confirm': 1573, 'forced': 1574, 'roommate': 1575, 'mood': 1576, 'painting': 1577, 'lots': 1578, 'firm': 1579, 'toilet': 1580, 'service': 1581, 'drove': 1582, 'skip': 1583, 'pack': 1584, 'swam': 1585, 'hung': 1586, 'north': 1587, 'flinched': 1588, 'twin': 1589, 'shaken': 1590, 'nap': 1591, 'fail': 1592, 'sensible': 1593, 'thorough': 1594, 'eight': 1595, 'disagreed': 1596, 'taxes': 1597, 'cars': 1598, 'struggled': 1599, 'attend': 1600, 'finicky': 1601, 'legal': 1602, 'trap': 1603, 'lift': 1604, 'numb': 1605, 'caution': 1606, 'dope': 1607, 'guest': 1608, 'beef': 1609, 'morning': 1610, 'rose': 1611, 'star': 1612, 'sue': 1613, 'offended': 1614, 'staring': 1615, 'pig': 1616, 'focus': 1617, 'shock': 1618, 'years': 1619, 'scare': 1620, 'pitch': 1621, 'blow': 1622, 'gamble': 1623, 'sells': 1624, 'caused': 1625, 'cheese': 1626, 'ought': 1627, 'outrank': 1628, 'songs': 1629, 'delighted': 1630, 'desperate': 1631, 'miserable': 1632, 'diet': 1633, 'coach': 1634, 'personal': 1635, 'proceed': 1636, 'japan': 1637, 'fooled': 1638, 'packing': 1639, 'page': 1640, 'trees': 1641, 'growing': 1642, 'guns': 1643, 'uncle': 1644, 'slapped': 1645, 'wide': 1646, 'secrets': 1647, 'sun': 1648, 'answers': 1649, 'revenge': 1650, 'beginner': 1651, 'noon': 1652, 'lend': 1653, 'peel': 1654, 'beauty': 1655, 'illegal': 1656, 'harmless': 1657, 'escaping': 1658, 'congratulations': 1659, 'trunk': 1660, 'stared': 1661, 'partner': 1662, 'salad': 1663, 'notice': 1664, 'returned': 1665, 'zoo': 1666, 'color': 1667, 'impossible': 1668, 'irrelevant': 1669, 'practice': 1670, 'gray': 1671, 'moon': 1672, 'sea': 1673, 'agitated': 1674, 'sipped': 1675, 'visit': 1676, 'crack': 1677, 'barking': 1678, 'juice': 1679, 'reason': 1680, 'stairs': 1681, 'bowed': 1682, 'knee': 1683, 'receipt': 1684, 'candle': 1685, 'egg': 1686, 'bar': 1687, 'month': 1688, 'criminal': 1689, 'frustrated': 1690, 'sunday': 1691, 'america': 1692, 'repair': 1693, 'socks': 1694, 'wisely': 1695, 'guard': 1696, 'mystery': 1697, 'conceited': 1698, 'courteous': 1699, 'headed': 1700, 'soldiers': 1701, 'weren': 1702, 'unique': 1703, 'talkative': 1704, 'sleeve': 1705, 'lived': 1706, 'photo': 1707, 'overwhelmed': 1708, 'wreck': 1709, 'world': 1710, 'fashionable': 1711, 'following': 1712, 'courageous': 1713, 'suspicious': 1714, 'responsible': 1715, 'jacket': 1716, 'banged': 1717, 'occur': 1718, 'boyfriend': 1719, 'packed': 1720, 'parked': 1721, 'infected': 1722, 'station': 1723, 'burst': 1724, 'tears': 1725, 'probably': 1726, 'gently': 1727, 'sweater': 1728, 'either': 1729, 'wow': 1730, 'fold': 1731, 'nodded': 1732, 'rested': 1733, 'lies': 1734, 'cooks': 1735, 'aboard': 1736, 'calls': 1737, 'absurd': 1738, 'chuckled': 1739, 'art': 1740, 'survived': 1741, 'biased': 1742, 'safer': 1743, 'alert': 1744, 'cheat': 1745, 'flies': 1746, 'yelled': 1747, 'harder': 1748, 'cancel': 1749, 'argue': 1750, 'panic': 1751, 'resigned': 1752, 'lips': 1753, 'jail': 1754, 'smashed': 1755, 'through': 1756, 'flat': 1757, 'fact': 1758, 'rule': 1759, 'means': 1760, 'card': 1761, 'guessed': 1762, 'pity': 1763, 'snack': 1764, 'lousy': 1765, 'games': 1766, 'smelled': 1767, 'risks': 1768, 'wonder': 1769, 'member': 1770, 'bluffing': 1771, 'freezing': 1772, 'obedient': 1773, 'reliable': 1774, 'curse': 1775, 'lead': 1776, 'expert': 1777, 'eats': 1778, 'delicious': 1779, 'belong': 1780, 'despise': 1781, 'steal': 1782, 'fought': 1783, 'elected': 1784, 'orders': 1785, 'support': 1786, 'tempted': 1787, 'disgusted': 1788, 'takes': 1789, 'bragging': 1790, 'worrying': 1791, 'adores': 1792, 'misled': 1793, 'remembers': 1794, 'related': 1795, 'responded': 1796, 'hint': 1797, 'flew': 1798, 'video': 1799, 'writer': 1800, 'outgoing': 1801, 'arrested': 1802, 'sisters': 1803, 'painted': 1804, 'captured': 1805, 'welcomed': 1806, 'speechless': 1807, 'forgotten': 1808, 'bargain': 1809, 'awkward': 1810, 'whistling': 1811, 'remembered': 1812, 'troubled': 1813, 'blast': 1814, 'taken': 1815, 'interrupt': 1816, 'tongue': 1817, 'supper': 1818, 'horrified': 1819, 'aware': 1820, 'defenseless': 1821, 'introverted': 1822, 'trustworthy': 1823, 'river': 1824, 'negotiate': 1825, 'orange': 1826, 'remove': 1827, 'calmed': 1828, 'texting': 1829, 'neighbors': 1830, 'separated': 1831, 'pleasure': 1832, 'startled': 1833, 'fuse': 1834, 'blown': 1835, 'apply': 1836, 'top': 1837, 'drawer': 1838, 'street': 1839, 'costs': 1840, 'distracted': 1841, 'debt': 1842, 'politely': 1843, 'chocolate': 1844, 'washing': 1845, 'windows': 1846, 'complaining': 1847, 'rejected': 1848, 'studies': 1849, 'hilarious': 1850, 'screw': 1851, 'arms': 1852, 'pens': 1853, 'trusting': 1854, 'hook': 1855, 'hotel': 1856, 'abroad': 1857, 'pulled': 1858, 'sometimes': 1859, 'garden': 1860, 'depressing': 1861, 'brainer': 1862, 'hearing': 1863, 'shop': 1864, 'terms': 1865, 'prisoner': 1866, 'report': 1867, 'nine': 1868, 'fooling': 1869, 'learning': 1870, 'frozen': 1871, 'chosen': 1872, 'traveled': 1873, 'fascinating': 1874, 'enjoying': 1875, 'vegetables': 1876, 'accepted': 1877, 'wearing': 1878, 'faith': 1879, 'perfectly': 1880, 'alcohol': 1881, 'choices': 1882, 'perhaps': 1883, 'poem': 1884, 'conscientious': 1885, 'negative': 1886, 'crossed': 1887, 'removed': 1888, 'duck': 1889, 'bury': 1890, 'stink': 1891, 'waved': 1892, 'loyal': 1893, 'sober': 1894, 'above': 1895, 'unlock': 1896, 'fret': 1897, 'listened': 1898, 'hiding': 1899, 'replace': 1900, 'sec': 1901, 'buried': 1902, 'confessed': 1903, 'beans': 1904, 'dieting': 1905, 'falling': 1906, 'pipe': 1907, 'cloudy': 1908, 'ironic': 1909, 'poison': 1910, 'urgent': 1911, 'timing': 1912, 'chased': 1913, 'opera': 1914, 'farmer': 1915, 'addicted': 1916, 'adult': 1917, 'faithful': 1918, 'grounded': 1919, 'homeless': 1920, 'homesick': 1921, 'hideous': 1922, 'plug': 1923, 'recess': 1924, 'louder': 1925, 'approved': 1926, 'bores': 1927, 'overslept': 1928, 'mature': 1929, 'questions': 1930, 'kite': 1931, 'american': 1932, 'cough': 1933, 'freaked': 1934, 'salmon': 1935, 'yellow': 1936, 'hiking': 1937, 'nature': 1938, 'insist': 1939, 'tied': 1940, 'stabbed': 1941, 'impulsive': 1942, 'uninsured': 1943, 'apart': 1944, 'saturday': 1945, 'relief': 1946, 'accurate': 1947, 'active': 1948, 'gate': 1949, 'cow': 1950, 'oven': 1951, 'crept': 1952, 'vulgar': 1953, 'joined': 1954, 'remarried': 1955, 'adopted': 1956, 'violent': 1957, 'thinks': 1958, 'grumpy': 1959, 'suspect': 1960, 'avoid': 1961, 'form': 1962, 'beard': 1963, 'actor': 1964, 'prison': 1965, 'oysters': 1966, 'data': 1967, 'deceived': 1968, 'insulted': 1969, 'common': 1970, 'miracle': 1971, 'larger': 1972, 'tooth': 1973, 'sir': 1974, 'prepare': 1975, 'meter': 1976, 'swims': 1977, 'complained': 1978, 'intervened': 1979, 'precise': 1980, 'brain': 1981, 'prude': 1982, 'capsized': 1983, 'brush': 1984, 'bug': 1985, 'signed': 1986, 'mercy': 1987, 'dreamer': 1988, 'mentioned': 1989, 'writes': 1990, 'husband': 1991, 'id': 1992, 'resign': 1993, 'violence': 1994, 'tattoo': 1995, 'misjudged': 1996, 'shave': 1997, 'foreigner': 1998, 'training': 1999, 'minded': 2000, 'manager': 2001, 'breathing': 2002, 'natural': 2003, 'tasted': 2004, 'soft': 2005, 'niece': 2006, 'neither': 2007, 'leaves': 2008, 'silk': 2009, 'bugging': 2010, 'exit': 2011, 'bizarre': 2012, 'acted': 2013, 'deranged': 2014, 'suffer': 2015, 'repulsive': 2016, 'front': 2017, 'teachers': 2018, 'freedom': 2019, 'rented': 2020, 'punched': 2021, 'teaches': 2022, 'disloyal': 2023, 'chef': 2024, 'cross': 2025, 'mention': 2026, 'useful': 2027, 'garage': 2028, 'pajamas': 2029, 'sweat': 2030, 'novel': 2031, 'australia': 2032, 'victorious': 2033, 'between': 2034, 'fbi': 2035, 'volunteering': 2036, 'threat': 2037, 'effective': 2038, 'race': 2039, 'sofa': 2040, 'pure': 2041, 'elaborate': 2042, 'search': 2043, 'rough': 2044, 'storm': 2045, 'sports': 2046, 'reluctant': 2047, 'silently': 2048, 'stepped': 2049, 'depend': 2050, 'lady': 2051, 'traitor': 2052, 'thieves': 2053, 'earth': 2054, 'brown': 2055, 'sailor': 2056, 'lightly': 2057, 'ground': 2058, 'schedule': 2059, 'experience': 2060, 'discouraged': 2061, 'turning': 2062, 'wall': 2063, 'disturbing': 2064, 'handy': 2065, 'market': 2066, 'deserves': 2067, 'determined': 2068, 'crawling': 2069, 'hurting': 2070, 'filthy': 2071, 'information': 2072, 'challenge': 2073, 'kissing': 2074, 'letting': 2075, 'relevant': 2076, 'forever': 2077, 'names': 2078, 'case': 2079, 'telephone': 2080, 'potatoes': 2081, 'exam': 2082, 'frequently': 2083, 'until': 2084, 'treatment': 2085, 'bruised': 2086, 'embarrass': 2087, 'piece': 2088, 'girlfriend': 2089, 'assistant': 2090, 'risked': 2091, 'vacant': 2092, 'ringing': 2093, 'disturbed': 2094, 'snickering': 2095, 'opportunistic': 2096, 'inconsiderate': 2097, 'temperamental': 2098, 'aim': 2099, 'tries': 2100, 'chill': 2101, 'east': 2102, 'west': 2103, 'sand': 2104, 'chubby': 2105, 'paying': 2106, 'fad': 2107, 'cds': 2108, 'watchful': 2109, 'comfort': 2110, 'shout': 2111, 'coin': 2112, 'mice': 2113, 'recovered': 2114, 'succeeded': 2115, 'third': 2116, 'furious': 2117, 'jittery': 2118, 'sloshed': 2119, 'unarmed': 2120, 'enter': 2121, 'plants': 2122, 'stick': 2123, 'icky': 2124, 'lame': 2125, 'grim': 2126, 'listens': 2127, 'realistic': 2128, 'spoon': 2129, 'donut': 2130, 'poet': 2131, 'driven': 2132, 'faint': 2133, 'giddy': 2134, 'liars': 2135, 'honey': 2136, 'sushi': 2137, 'diabetic': 2138, 'drowning': 2139, 'gullible': 2140, 'angel': 2141, 'rational': 2142, 'wolf': 2143, 'noisy': 2144, 'complex': 2145, 'genuine': 2146, 'sued': 2147, 'stir': 2148, 'pushing': 2149, 'trash': 2150, 'applauded': 2151, 'ain': 2152, 'respectful': 2153, 'body': 2154, 'skate': 2155, 'wins': 2156, 'cookie': 2157, 'hole': 2158, 'borrowed': 2159, 'contributed': 2160, 'dislike': 2161, 'garlic': 2162, 'grapes': 2163, 'object': 2164, 'lamp': 2165, 'ghost': 2166, 'behave': 2167, 'committed': 2168, 'observant': 2169, 'shivering': 2170, 'painful': 2171, 'worries': 2172, 'midnight': 2173, 'ease': 2174, 'differ': 2175, 'texted': 2176, 'annoyed': 2177, 'respond': 2178, 'sinking': 2179, 'hiring': 2180, 'racist': 2181, 'contact': 2182, 'mug': 2183, 'birthday': 2184, 'counts': 2185, 'corrected': 2186, 'gossip': 2187, 'carrots': 2188, 'flu': 2189, 'history': 2190, 'turtles': 2191, 'protest': 2192, 'puppy': 2193, 'cleaning': 2194, 'testify': 2195, 'survivor': 2196, 'optimistic': 2197, 'overweight': 2198, 'winner': 2199, 'untalented': 2200, 'bear': 2201, 'risky': 2202, 'nurse': 2203, 'teased': 2204, 'appeared': 2205, 'snap': 2206, 'logical': 2207, 'rubbish': 2208, 'roof': 2209, 'fork': 2210, 'sitting': 2211, 'sobbing': 2212, 'calmly': 2213, 'sweating': 2214, 'helpless': 2215, 'quitting': 2216, 'causes': 2217, 'wipe': 2218, 'balls': 2219, 'bees': 2220, 'boil': 2221, 'rub': 2222, 'cheating': 2223, 'photogenic': 2224, 'unfortunate': 2225, 'showered': 2226, 'teaching': 2227, 'patience': 2228, 'army': 2229, 'hammer': 2230, 'sword': 2231, 'land': 2232, 'attorney': 2233, 'blaming': 2234, 'celebrating': 2235, 'experienced': 2236, 'handed': 2237, 'soaking': 2238, 'modest': 2239, 'ages': 2240, 'acceptable': 2241, 'impressive': 2242, 'inevitable': 2243, 'loan': 2244, 'tax': 2245, 'jeans': 2246, 'reads': 2247, 'steady': 2248, 'player': 2249, 'childish': 2250, 'immature': 2251, 'understands': 2252, 'toes': 2253, 'lack': 2254, 'realize': 2255, 'fixing': 2256, 'giving': 2257, 'organized': 2258, 'survivors': 2259, 'disaster': 2260, 'blushing': 2261, 'less': 2262, 'accidents': 2263, 'catholic': 2264, 'concentrate': 2265, 'wire': 2266, 'blanket': 2267, 'speech': 2268, 'hunting': 2269, 'oranges': 2270, 'dumbfounded': 2271, 'awoke': 2272, 'halloween': 2273, 'surprises': 2274, 'coughing': 2275, 'led': 2276, 'elephants': 2277, 'soul': 2278, 'band': 2279, 'view': 2280, 'retire': 2281, 'farm': 2282, 'enthusiastic': 2283, 'fairly': 2284, 'heading': 2285, 'ignoring': 2286, 'rainy': 2287, 'sunny': 2288, 'compromise': 2289, 'couch': 2290, 'mars': 2291, 'planet': 2292, 'tiny': 2293, 'stomach': 2294, 'gain': 2295, 'pets': 2296, 'italy': 2297, 'shots': 2298, 'picking': 2299, 'limit': 2300, 'monster': 2301, 'indignant': 2302, 'perplexed': 2303, 'released': 2304, 'theory': 2305, 'eater': 2306, 'younger': 2307, 'obnoxious': 2308, 'pet': 2309, 'shook': 2310, 'raking': 2311, 'disappointing': 2312, 'sandwich': 2313, 'graduate': 2314, 'grade': 2315, 'regrets': 2316, 'earring': 2317, 'minutes': 2318, 'sunrise': 2319, 'victory': 2320, 'outnumbered': 2321, 'gym': 2322, 'worker': 2323, 'total': 2324, 'persuaded': 2325, 'uncomfortable': 2326, 'depends': 2327, 'heavily': 2328, 'rage': 2329, 'peaches': 2330, 'rising': 2331, 'wood': 2332, 'system': 2333, 'damage': 2334, 'driver': 2335, 'handcuffed': 2336, 'patiently': 2337, 'future': 2338, 'changing': 2339, 'happiness': 2340, 'asking': 2341, 'target': 2342, 'registered': 2343, 'using': 2344, 'robots': 2345, 'gloves': 2346, 'lacks': 2347, 'chinese': 2348, 'overconfident': 2349, 'spare': 2350, 'tickets': 2351, 'comic': 2352, 'doubted': 2353, 'log': 2354, 'hours': 2355, 'spilled': 2356, 'suggest': 2357, 'laid': 2358, 'gotten': 2359, 'unavoidable': 2360, 'concern': 2361, 'coincidence': 2362, 'corner': 2363, 'crowded': 2364, 'fridge': 2365, 'sealed': 2366, 'zipper': 2367, 'cucumbers': 2368, 'manners': 2369, 'strive': 2370, 'concert': 2371, 'cleared': 2372, 'christians': 2373, 'unreliable': 2374, 'contributing': 2375, 'avoiding': 2376, 'ruler': 2377, 'opposite': 2378, 'medal': 2379, 'loose': 2380, 'betray': 2381, 'solved': 2382, 'become': 2383, 'accompany': 2384, 'trousers': 2385, 'spread': 2386, 'knives': 2387, 'intolerable': 2388, 'weeks': 2389, 'groggy': 2390, 'stopping': 2391, 'cheers': 2392, 'knit': 2393, 'dozed': 2394, 'snore': 2395, 'speed': 2396, 'blinked': 2397, 'cringed': 2398, 'exhaled': 2399, 'cured': 2400, 'seize': 2401, 'south': 2402, 'tragic': 2403, 'squinted': 2404, 'threw': 2405, 'baking': 2406, 'magic': 2407, 'cd': 2408, 'wept': 2409, 'lighten': 2410, 'agrees': 2411, 'winced': 2412, 'guts': 2413, 'nerd': 2414, 'taller': 2415, 'hesitated': 2416, 'jazz': 2417, 'nailed': 2418, 'snickered': 2419, 'baker': 2420, 'medic': 2421, 'blessed': 2422, 'stuffed': 2423, 'scam': 2424, 'burns': 2425, 'press': 2426, 'release': 2427, 'blushed': 2428, 'neat': 2429, 'dump': 2430, 'attentive': 2431, 'ghosts': 2432, 'bigot': 2433, 'space': 2434, 'dancer': 2435, 'shooting': 2436, 'thinking': 2437, 'truthful': 2438, 'deer': 2439, 'vague': 2440, 'bedtime': 2441, 'pigs': 2442, 'nerve': 2443, 'bossy': 2444, 'futon': 2445, 'included': 2446, 'supportive': 2447, 'security': 2448, 'deeply': 2449, 'braces': 2450, 'skating': 2451, 'toys': 2452, 'pinched': 2453, 'admired': 2454, 'muslim': 2455, 'runner': 2456, 'visa': 2457, 'tenure': 2458, 'hockey': 2459, 'violin': 2460, 'rescheduled': 2461, 'budge': 2462, 'mask': 2463, 'plumber': 2464, 'tourist': 2465, 'dedicated': 2466, 'sensitive': 2467, 'flaw': 2468, 'gorgeous': 2469, 'outdated': 2470, 'seal': 2471, 'beside': 2472, 'shouting': 2473, 'sweep': 2474, 'sheep': 2475, 'rushed': 2476, 'snoring': 2477, 'group': 2478, 'earned': 2479, 'wicked': 2480, 'qualified': 2481, 'recycle': 2482, 'wheel': 2483, 'gambler': 2484, 'banana': 2485, 'flunk': 2486, 'honored': 2487, 'nauseous': 2488, 'vision': 2489, 'bowling': 2490, 'plead': 2491, 'usually': 2492, 'barefoot': 2493, 'detained': 2494, 'cooperate': 2495, 'diplomatic': 2496, 'exercising': 2497, 'fascinated': 2498, 'firing': 2499, 'undressing': 2500, 'unemployed': 2501, 'planned': 2502, 'snowman': 2503, 'option': 2504, 'beyond': 2505, 'brand': 2506, 'redundant': 2507, 'biting': 2508, 'science': 2509, 'bunch': 2510, 'evident': 2511, 'hogwash': 2512, 'barked': 2513, 'leaks': 2514, 'annoys': 2515, 'talent': 2516, 'crook': 2517, 'moron': 2518, 'spoiled': 2519, 'unmoved': 2520, 'volunteers': 2521, 'guests': 2522, 'action': 2523, 'retiring': 2524, 'tragedy': 2525, 'paris': 2526, 'screwed': 2527, 'round': 2528, 'dismissed': 2529, 'insult': 2530, 'overdo': 2531, 'danced': 2532, 'prayed': 2533, 'bottom': 2534, 'acts': 2535, 'painter': 2536, 'surfing': 2537, 'abhor': 2538, 'tomatoes': 2539, 'seizure': 2540, 'leukemia': 2541, 'tokyo': 2542, 'helmet': 2543, 'guidance': 2544, 'shifted': 2545, 'parrot': 2546, 'solve': 2547, 'detective': 2548, 'engineer': 2549, 'cracking': 2550, 'daydreaming': 2551, 'heartbroken': 2552, 'interfering': 2553, 'ammo': 2554, 'persevering': 2555, 'habit': 2556, 'moldy': 2557, 'shortcut': 2558, 'toy': 2559, 'season': 2560, 'terrifying': 2561, 'narrow': 2562, 'celebrate': 2563, 'october': 2564, 'assertive': 2565, 'silence': 2566, 'nosy': 2567, 'engine': 2568, 'chances': 2569, 'damp': 2570, 'blocked': 2571, 'feared': 2572, 'greeted': 2573, 'visited': 2574, 'gifts': 2575, 'friday': 2576, 'rabbits': 2577, 'dejected': 2578, 'giggling': 2579, 'panicking': 2580, 'suffered': 2581, 'canadians': 2582, 'past': 2583, 'comb': 2584, 'naughty': 2585, 'golfer': 2586, 'snakes': 2587, 'climb': 2588, 'bridge': 2589, 'disturb': 2590, 'purpose': 2591, 'joy': 2592, 'recently': 2593, 'hunt': 2594, 'arabic': 2595, 'france': 2596, 'struck': 2597, 'sneezed': 2598, 'pork': 2599, 'drugs': 2600, 'hybrid': 2601, 'empowered': 2602, 'request': 2603, 'website': 2604, 'hay': 2605, 'toothache': 2606, 'ocean': 2607, 'tires': 2608, 'recommend': 2609, 'gladly': 2610, 'alcoholic': 2611, 'disorganized': 2612, 'homeschooled': 2613, 'trick': 2614, 'informed': 2615, 'smokes': 2616, 'pulse': 2617, 'stung': 2618, 'article': 2619, 'defeated': 2620, 'spit': 2621, 'showing': 2622, 'touching': 2623, 'ludicrous': 2624, 'ticked': 2625, 'tank': 2626, 'relaxing': 2627, 'glanced': 2628, 'excellent': 2629, 'sarcastic': 2630, 'considered': 2631, 'demand': 2632, 'warning': 2633, 'visitors': 2634, 'dozing': 2635, 'owners': 2636, 'mirror': 2637, 'advised': 2638, 'arrest': 2639, 'policeman': 2640, 'build': 2641, 'ambulance': 2642, 'advise': 2643, 'fuss': 2644, 'goodnight': 2645, 'vase': 2646, 'grabbed': 2647, 'gentleman': 2648, 'scientist': 2649, 'travels': 2650, 'rapidly': 2651, 'ballistic': 2652, 'journalist': 2653, 'bathe': 2654, 'bolted': 2655, 'brushed': 2656, 'verify': 2657, 'bags': 2658, 'intervene': 2659, 'bee': 2660, 'privacy': 2661, 'skirt': 2662, 'colors': 2663, 'picked': 2664, 'recommended': 2665, 'known': 2666, 'plate': 2667, 'notebook': 2668, 'apology': 2669, 'awfully': 2670, 'nonstop': 2671, 'unexpected': 2672, 'chilly': 2673, 'dictionary': 2674, 'murder': 2675, 'shoulders': 2676, 'rats': 2677, 'bitterly': 2678, 'harassing': 2679, 'worst': 2680, 'hasn': 2681, 'minor': 2682, 'sensed': 2683, 'suffocating': 2684, 'witnesses': 2685, 'cowards': 2686, 'pessimistic': 2687, 'achieved': 2688, 'european': 2689, 'telling': 2690, 'flute': 2691, 'menu': 2692, 'invite': 2693, 'tells': 2694, 'offend': 2695, 'desire': 2696, 'traffic': 2697, 'position': 2698, 'imagine': 2699, 'most': 2700, 'blonde': 2701, 'custom': 2702, 'pot': 2703, 'offense': 2704, 'library': 2705, 'christian': 2706, 'compliment': 2707, 'breaks': 2708, 'extreme': 2709, 'effort': 2710, 'unforgettable': 2711, 'battery': 2712, 'soared': 2713, 'sip': 2714, 'sloppy': 2715, 'debate': 2716, 'urgency': 2717, 'bigger': 2718, 'scout': 2719, 'optimist': 2720, 'inefficient': 2721, 'gunshot': 2722, 'butter': 2723, 'four': 2724, 'settling': 2725, 'least': 2726, 'rooms': 2727, 'lessons': 2728, 'recognize': 2729, 'defeat': 2730, 'folded': 2731, 'towels': 2732, 'slightly': 2733, 'attitude': 2734, 'managed': 2735, 'pretended': 2736, 'received': 2737, 'value': 2738, 'shortly': 2739, 'building': 2740, 'apartment': 2741, 'laundry': 2742, 'burning': 2743, 'elders': 2744, 'slice': 2745, 'tiger': 2746, 'questioned': 2747, 'infuriating': 2748, 'favorite': 2749, 'acting': 2750, 'incorrigible': 2751, 'shaking': 2752, 'joystick': 2753, 'overestimate': 2754, 'booze': 2755, 'poisoning': 2756, 'flirt': 2757, 'greatest': 2758, 'suspicion': 2759, 'diamonds': 2760, 'undress': 2761, 'blames': 2762, 'measured': 2763, 'speaker': 2764, 'squeeze': 2765, 'argument': 2766, 'pharmacy': 2767, 'slap': 2768, 'shorter': 2769, 'discuss': 2770, 'closet': 2771, 'separately': 2772, 'insufficient': 2773, 'extraordinary': 2774, 'irresponsible': 2775, 'hospitalized': 2776, 'outcome': 2777, 'froze': 2778, 'kick': 2779, 'sighed': 2780, 'bark': 2781, 'film': 2782, 'grinned': 2783, 'groaned': 2784, 'aah': 2785, 'dig': 2786, 'human': 2787, 'cpr': 2788, 'b': 2789, 'relented': 2790, 'pooped': 2791, 'unwell': 2792, 'fox': 2793, 'phony': 2794, 'jesus': 2795, 'mama': 2796, 'scoot': 2797, 'snores': 2798, 'gloat': 2799, 'stare': 2800, 'adore': 2801, 'exercised': 2802, 'protested': 2803, 'widow': 2804, 'fasting': 2805, 'humming': 2806, 'psyched': 2807, 'fatal': 2808, 'yen': 2809, 'warmer': 2810, 'across': 2811, 'clap': 2812, 'record': 2813, 'settle': 2814, 'glum': 2815, 'slim': 2816, 'sweated': 2817, 'bore': 2818, 'loss': 2819, 'exist': 2820, 'cranky': 2821, 'barbaric': 2822, 'dare': 2823, 'rugby': 2824, 'rewrote': 2825, 'lion': 2826, 'suppose': 2827, 'beaten': 2828, 'barber': 2829, 'eighteen': 2830, 'reformed': 2831, 'restless': 2832, 'ticklish': 2833, 'unbiased': 2834, 'solid': 2835, 'iron': 2836, 'robot': 2837, 'archaic': 2838, 'ladies': 2839, 'bounce': 2840, 'approve': 2841, 'rare': 2842, 'stumbled': 2843, 'ufo': 2844, 'adults': 2845, 'doomed': 2846, 'heroes': 2847, 'minors': 2848, 'vanished': 2849, 'slipping': 2850, 'exhale': 2851, 'ham': 2852, 'cracked': 2853, 'senior': 2854, 'insecure': 2855, 'honk': 2856, 'horn': 2857, 'dye': 2858, 'queasy': 2859, 'poetry': 2860, 'trains': 2861, 'sock': 2862, 'autumn': 2863, 'funds': 2864, 'rat': 2865, 'bacon': 2866, 'dentist': 2867, 'soldier': 2868, 'surgeon': 2869, 'addict': 2870, 'easygoing': 2871, 'plastered': 2872, 'unmarried': 2873, 'voting': 2874, 'damaged': 2875, 'leather': 2876, 'bat': 2877, 'wig': 2878, 'viral': 2879, 'rental': 2880, 'poisoned': 2881, 'stealing': 2882, 'cage': 2883, 'symptoms': 2884, 'vary': 2885, 'dvd': 2886, 'false': 2887, 'touchy': 2888, 'prevail': 2889, 'anxious': 2890, 'lawyers': 2891, 'absent': 2892, 'hypocrite': 2893, 'idiots': 2894, 'morons': 2895, 'sink': 2896, 'crude': 2897, 'hasty': 2898, 'struggle': 2899, 'holidays': 2900, 'author': 2901, 'brakes': 2902, 'decorated': 2903, 'mondays': 2904, 'spinach': 2905, 'picnics': 2906, 'stories': 2907, 'surgery': 2908, 'serve': 2909, 'justice': 2910, 'outdoors': 2911, 'unharmed': 2912, 'bachelor': 2913, 'freshman': 2914, 'musician': 2915, 'dehydrated': 2916, 'dependable': 2917, 'illiterate': 2918, 'methodical': 2919, 'quitter': 2920, 'bitter': 2921, 'wednesday': 2922, 'sickening': 2923, 'undamaged': 2924, 'jaw': 2925, 'ache': 2926, 'tune': 2927, 'choked': 2928, 'tower': 2929, 'alright': 2930, 'flag': 2931, 'melted': 2932, 'bites': 2933, 'theirs': 2934, 'ford': 2935, 'callous': 2936, 'immoral': 2937, 'nodding': 2938, 'improve': 2939, 'recover': 2940, 'plenty': 2941, 'partners': 2942, 'refugees': 2943, 'stronger': 2944, 'rip': 2945, 'disgust': 2946, 'adjust': 2947, 'bears': 2948, 'whistle': 2949, 'boxes': 2950, 'defend': 2951, 'popcorn': 2952, 'ambition': 2953, 'gloomy': 2954, 'lad': 2955, 'southpaw': 2956, 'mud': 2957, 'compete': 2958, 'disobeyed': 2959, 'feverish': 2960, 'sunburned': 2961, 'reptiles': 2962, 'heat': 2963, 'laptop': 2964, 'alibi': 2965, 'screams': 2966, 'rains': 2967, 'elbow': 2968, 'tape': 2969, 'bills': 2970, 'biking': 2971, 'relied': 2972, 'gears': 2973, 'soundly': 2974, 'dollar': 2975, 'refund': 2976, 'mommy': 2977, 'acquitted': 2978, 'coma': 2979, 'assist': 2980, 'escort': 2981, 'tipsy': 2982, 'begging': 2983, 'cooperating': 2984, 'pickle': 2985, 'replaceable': 2986, 'sympathetic': 2987, 'captain': 2988, 'handmade': 2989, 'omen': 2990, 'disgrace': 2991, 'inadequate': 2992, 'sweltering': 2993, 'covered': 2994, 'shift': 2995, 'sticky': 2996, 'lid': 2997, 'forgave': 2998, 'breather': 2999, 'puzzle': 3000, 'doubtful': 3001, 'peculiar': 3002, 'actors': 3003, 'reality': 3004, 'bagel': 3005, 'dyslexic': 3006, 'resolute': 3007, 'skittish': 3008, 'tactless': 3009, 'wavering': 3010, 'stops': 3011, 'mouse': 3012, 'sees': 3013, 'waffles': 3014, 'retreat': 3015, 'shared': 3016, 'impartial': 3017, 'loo': 3018, 'picky': 3019, 'wizard': 3020, 'cane': 3021, 'spell': 3022, 'blinds': 3023, 'consider': 3024, 'dial': 3025, 'deceive': 3026, 'faces': 3027, 'yell': 3028, 'gardening': 3029, 'picasso': 3030, 'biologist': 3031, 'lover': 3032, 'heaven': 3033, 'professor': 3034, 'reach': 3035, 'trout': 3036, 'protected': 3037, 'ripped': 3038, 'computers': 3039, 'allergies': 3040, 'standards': 3041, 'ropes': 3042, 'temper': 3043, 'yolks': 3044, 'kleenex': 3045, 'planted': 3046, 'pointed': 3047, 'rubbed': 3048, 'conservative': 3049, 'freaking': 3050, 'killing': 3051, 'paranoid': 3052, 'riddle': 3053, 'valuable': 3054, 'enjoyable': 3055, 'excessive': 3056, 'settled': 3057, 'transparent': 3058, 'fleas': 3059, 'parrots': 3060, 'rome': 3061, 'tb': 3062, 'disliked': 3063, 'troubling': 3064, 'upsetting': 3065, 'limits': 3066, 'ambushed': 3067, 'pianist': 3068, 'improving': 3069, 'oblivious': 3070, 'deported': 3071, 'goggles': 3072, 'pictures': 3073, 'nightmare': 3074, 'belt': 3075, 'quote': 3076, 'religious': 3077, 'copies': 3078, 'na': 3079, 'forty': 3080, 'influential': 3081, 'twisted': 3082, 'pink': 3083, 'spelled': 3084, 'deleted': 3085, 'vulnerable': 3086, 'scarf': 3087, 'grades': 3088, 'passport': 3089, 'intend': 3090, 'practicing': 3091, 'confidence': 3092, 'hats': 3093, 'dam': 3094, 'balance': 3095, 'protection': 3096, 'ignorance': 3097, 'airplane': 3098, 'swept': 3099, 'plates': 3100, 'boiling': 3101, 'flabbergasted': 3102, 'handling': 3103, 'guessing': 3104, 'dubious': 3105, 'rumors': 3106, 'smoked': 3107, 'inflation': 3108, 'cumbersome': 3109, 'destiny': 3110, 'greasy': 3111, 'wobbly': 3112, 'moot': 3113, 'starting': 3114, 'misses': 3115, 'reconsider': 3116, 'pretend': 3117, 'teen': 3118, 'exaggerating': 3119, 'aspirin': 3120, 'error': 3121, 'surprising': 3122, 'crowd': 3123, 'lemon': 3124, 'foxes': 3125, 'permanent': 3126, 'temporary': 3127, 'thursday': 3128, 'praying': 3129, 'articulate': 3130, 'protective': 3131, 'recovering': 3132, 'remarkable': 3133, 'hopeful': 3134, 'peered': 3135, 'recognized': 3136, 'bait': 3137, 'visitor': 3138, 'battle': 3139, 'stain': 3140, 'major': 3141, 'applause': 3142, 'pockets': 3143, 'blog': 3144, 'snails': 3145, 'choosy': 3146, 'king': 3147, 'tore': 3148, 'remote': 3149, 'breathed': 3150, 'classmate': 3151, 'colleague': 3152, 'unimpressed': 3153, 'kilos': 3154, 'scapegoat': 3155, 'refill': 3156, 'fond': 3157, 'fries': 3158, 'carpet': 3159, 'complaint': 3160, 'religion': 3161, 'hid': 3162, 'imagination': 3163, 'mission': 3164, 'candlelight': 3165, 'mathematics': 3166, 'raspberries': 3167, 'windsurfing': 3168, 'outfit': 3169, 'roast': 3170, 'blamed': 3171, 'explosion': 3172, 'sliced': 3173, 'consulted': 3174, 'nagasaki': 3175, 'hire': 3176, 'e': 3177, 'learner': 3178, 'health': 3179, 'bathtub': 3180, 'beginning': 3181, 'invincible': 3182, 'simply': 3183, 'terribly': 3184, 'improved': 3185, 'handcrafted': 3186, 'magnificent': 3187, 'bound': 3188, 'merely': 3189, 'o': 3190, 'luckily': 3191, 'strategy': 3192, 'owls': 3193, 'begins': 3194, 'biggest': 3195, 'melting': 3196, 'path': 3197, 'server': 3198, 'fits': 3199, 'template': 3200, 'shoelaces': 3201, 'comforted': 3202, 'downhearted': 3203, 'frazzled': 3204, 'remains': 3205, 'distraught': 3206, 'affects': 3207, 'stock': 3208, 'saving': 3209, 'wedding': 3210, 'hidden': 3211, 'considerate': 3212, 'egotistical': 3213, 'mammal': 3214, 'seats': 3215, 'lap': 3216, 'farewell': 3217, 'objection': 3218, 'tightly': 3219, 'treated': 3220, 'kisser': 3221, 'barks': 3222, 'repay': 3223, 'swimmer': 3224, 'research': 3225, 'fully': 3226, 'messages': 3227, 'uniform': 3228, 'dishwasher': 3229, 'neck': 3230, 'doorbell': 3231, 'given': 3232, 'sleeper': 3233, 'hauling': 3234, 'progress': 3235, 'undecided': 3236, 'locker': 3237, 'bundle': 3238, 'dated': 3239, 'loop': 3240, 'monkeys': 3241, 'gums': 3242, 'complete': 3243, 'cheek': 3244, 'self': 3245, 'preposterous': 3246, 'unacceptable': 3247, 'coal': 3248, 'closing': 3249, 'howling': 3250, 'challenged': 3251, 'gifted': 3252, 'resumed': 3253, 'intently': 3254, 'eavesdropping': 3255, 'utilities': 3256, 'extra': 3257, 'squirrel': 3258, 'language': 3259, 'inform': 3260, 'fancy': 3261, 'attained': 3262, 'nervously': 3263, 'password': 3264, 'necklace': 3265, 'earrings': 3266, 'views': 3267, 'hill': 3268, 'allergic': 3269, 'putting': 3270, 'easier': 3271, 'procrastinating': 3272, 'basketball': 3273, 'investigating': 3274, 'overemotional': 3275, 'unimaginative': 3276, 'ignition': 3277, 'autopsy': 3278, 'contain': 3279, 'critical': 3280, 'tuna': 3281, 'hop': 3282, 'swore': 3283, 'cheer': 3284, 'goofed': 3285, 'moaned': 3286, 'dj': 3287, 'sexy': 3288, 'humor': 3289, 'inhaled': 3290, 'tripped': 3291, 'leo': 3292, 'below': 3293, 'rocks': 3294, 'higher': 3295, 'bottoms': 3296, 'swiss': 3297, 'objected': 3298, 'shrugged': 3299, 'whistled': 3300, 'immune': 3301, 'soaked': 3302, 'wasted': 3303, 'bogus': 3304, 'chat': 3305, 'braked': 3306, 'gasped': 3307, 'unscrew': 3308, 'sunk': 3309, 'specific': 3310, 'bowl': 3311, 'flip': 3312, 'nasty': 3313, 'hunk': 3314, 'slob': 3315, 'monk': 3316, 'oppose': 3317, 'surrender': 3318, 'frantic': 3319, 'neutral': 3320, 'stumped': 3321, 'foggy': 3322, 'futile': 3323, 'wary': 3324, 'drag': 3325, 'drew': 3326, 'abandon': 3327, 'backup': 3328, 'litter': 3329, 'ramble': 3330, 'slouch': 3331, 'examine': 3332, 'avoids': 3333, 'heroic': 3334, 'jogging': 3335, 'honor': 3336, 'trips': 3337, 'canned': 3338, 'wimped': 3339, 'gemini': 3340, 'taurus': 3341, 'surfer': 3342, 'agent': 3343, 'autistic': 3344, 'cultured': 3345, 'managing': 3346, 'worn': 3347, 'amazed': 3348, 'heal': 3349, 'plant': 3350, 'suicide': 3351, 'review': 3352, 'itch': 3353, 'shrieked': 3354, 'pouting': 3355, 'whining': 3356, 'yawning': 3357, 'enlisted': 3358, 'grumbled': 3359, 'insisted': 3360, 'obese': 3361, 'stoic': 3362, 'vegan': 3363, 'starve': 3364, 'amuse': 3365, 'imbecile': 3366, 'gross': 3367, 'moody': 3368, 'blindfold': 3369, 'despair': 3370, 'peas': 3371, 'dies': 3372, 'haircut': 3373, 'bled': 3374, 'thrilling': 3375, 'bribed': 3376, 'designed': 3377, 'poker': 3378, 'exaggerated': 3379, 'reborn': 3380, 'bonus': 3381, 'scammed': 3382, 'flying': 3383, 'asthma': 3384, 'rights': 3385, 'sirens': 3386, 'camels': 3387, 'cities': 3388, 'clocks': 3389, 'crew': 3390, 'squash': 3391, 'crushed': 3392, 'dazzled': 3393, 'drugged': 3394, 'poems': 3395, 'scorpio': 3396, 'widower': 3397, 'adaptable': 3398, 'orphan': 3399, 'bilingual': 3400, 'efficient': 3401, 'strike': 3402, 'surviving': 3403, 'owner': 3404, 'gag': 3405, 'bomb': 3406, 'hoax': 3407, 'superb': 3408, 'homemade': 3409, 'occupied': 3410, 'suicidal': 3411, 'hustling': 3412, 'motion': 3413, 'aches': 3414, 'aloud': 3415, 'russia': 3416, 'clapping': 3417, 'frowning': 3418, 'scowling': 3419, 'spitting': 3420, 'straighten': 3421, 'saturn': 3422, 'myth': 3423, 'doable': 3424, 'untrue': 3425, 'asian': 3426, 'spies': 3427, 'goats': 3428, 'online': 3429, 'unhurt': 3430, 'upbeat': 3431, 'winded': 3432, 'staggered': 3433, 'tensed': 3434, 'frank': 3435, 'choking': 3436, 'elderly': 3437, 'wax': 3438, 'opposed': 3439, 'sync': 3440, 'stalled': 3441, 'bummer': 3442, 'fiasco': 3443, 'legibly': 3444, 'charlatan': 3445, 'hoot': 3446, 'snob': 3447, 'unkind': 3448, 'clich': 3449, 'shovel': 3450, 'juggle': 3451, 'tigers': 3452, 'force': 3453, 'tease': 3454, 'tempt': 3455, 'dude': 3456, 'afternoon': 3457, 'lip': 3458, 'dislikes': 3459, 'owes': 3460, 'respects': 3461, 'ex': 3462, 'con': 3463, 'nail': 3464, 'suntan': 3465, 'expelled': 3466, 'guarantee': 3467, 'mishap': 3468, 'stroke': 3469, 'sundays': 3470, 'insects': 3471, 'karaoke': 3472, 'hiccups': 3473, 'voices': 3474, 'hiccup': 3475, 'lobster': 3476, 'mahjong': 3477, 'puzzles': 3478, 'seafood': 3479, 'stamp': 3480, 'predicted': 3481, 'cattle': 3482, 'sneeze': 3483, 'korean': 3484, 'hammered': 3485, 'impolite': 3486, 'agony': 3487, 'pardoned': 3488, 'prosper': 3489, 'salesman': 3490, 'meditating': 3491, 'prejudiced': 3492, 'dishonest': 3493, 'cream': 3494, 'revolting': 3495, 'searching': 3496, 'bach': 3497, 'sings': 3498, 'hottie': 3499, 'gossiping': 3500, 'grumbling': 3501, 'quibbling': 3502, 'sniffling': 3503, 'plastic': 3504, 'siren': 3505, 'snag': 3506, 'muddy': 3507, 'tricky': 3508, 'dice': 3509, 'hectic': 3510, 'pear': 3511, 'shark': 3512, 'balding': 3513, 'cynical': 3514, 'shaving': 3515, 'unfazed': 3516, 'retaliated': 3517, 'clueless': 3518, 'crash': 3519, 'landed': 3520, 'couple': 3521, 'amusing': 3522, 'elusive': 3523, 'obscene': 3524, 'pro': 3525, 'insured': 3526, 'hibernate': 3527, 'bullet': 3528, 'nails': 3529, 'hatch': 3530, 'towards': 3531, 'jam': 3532, 'stingy': 3533, 'interfere': 3534, 'remind': 3535, 'fetch': 3536, 'whirl': 3537, 'slowpoke': 3538, 'humiliating': 3539, 'chickened': 3540, 'dealt': 3541, 'downloaded': 3542, 'dried': 3543, 'isolated': 3544, 'fanatics': 3545, 'politics': 3546, 'rug': 3547, 'weddings': 3548, 'bruise': 3549, 'epilepsy': 3550, 'area': 3551, 'lent': 3552, 'interest': 3553, 'internet': 3554, 'outwitted': 3555, 'scored': 3556, 'vitamins': 3557, 'assaulted': 3558, 'convicted': 3559, 'wondering': 3560, 'arrange': 3561, 'reward': 3562, 'capricorn': 3563, 'cameraman': 3564, 'carpenter': 3565, 'geologist': 3566, 'catching': 3567, 'ending': 3568, 'hardworking': 3569, 'witch': 3570, 'spontaneous': 3571, 'unconvinced': 3572, 'outrage': 3573, 'improbable': 3574, 'misleading': 3575, 'secure': 3576, 'refreshing': 3577, 'typical': 3578, 'sufficient': 3579, 'humid': 3580, 'paging': 3581, 'lemons': 3582, 'improvise': 3583, 'merry': 3584, 'squeak': 3585, 'planning': 3586, 'pour': 3587, 'rejection': 3588, 'sharks': 3589, 'graceful': 3590, 'load': 3591, 'frankly': 3592, 'cast': 3593, 'net': 3594, 'tub': 3595, 'cure': 3596, 'pilots': 3597, 'dances': 3598, 'client': 3599, 'psycho': 3600, 'tailor': 3601, 'knocking': 3602, 'dummy': 3603, 'perverse': 3604, 'pleasant': 3605, 'sneezing': 3606, 'spirited': 3607, 'unafraid': 3608, 'unnerved': 3609, 'sleeps': 3610, 'slowed': 3611, 'photos': 3612, 'yawn': 3613, 'walls': 3614, 'fools': 3615, 'raw': 3616, 'experts': 3617, 'sailing': 3618, 'newcomers': 3619, 'newlyweds': 3620, 'resigning': 3621, 'unrelated': 3622, 'treasure': 3623, 'stake': 3624, 'oar': 3625, 'devil': 3626, 'menace': 3627, 'wings': 3628, 'invisible': 3629, 'maniac': 3630, 'typist': 3631, 'boxing': 3632, 'brace': 3633, 'normally': 3634, 'supply': 3635, 'delicately': 3636, 'pasta': 3637, 'rashly': 3638, 'exaggerate': 3639, 'meals': 3640, 'veggies': 3641, 'hamster': 3642, 'flow': 3643, 'croissant': 3644, 'backward': 3645, 'moves': 3646, 'ratted': 3647, 'bartender': 3648, 'senile': 3649, 'intelligent': 3650, 'brazil': 3651, 'reschedule': 3652, 'confiscated': 3653, 'deliver': 3654, 'reasons': 3655, 'chemistry': 3656, 'hypocrisy': 3657, 'paperwork': 3658, 'gunshots': 3659, 'lifted': 3660, 'adventure': 3661, 'hedgehogs': 3662, 'spaghetti': 3663, 'soap': 3664, 'umbrellas': 3665, 'divorce': 3666, 'rematch': 3667, 'vengeance': 3668, 'unprepared': 3669, 'demonstrate': 3670, 'clerk': 3671, 'bookkeeper': 3672, 'programmer': 3673, 'ambidextrous': 3674, 'dissatisfied': 3675, 'housesitting': 3676, 'attic': 3677, 'super': 3678, 'youngest': 3679, 'conscious': 3680, 'euros': 3681, 'freaks': 3682, 'virus': 3683, 'hype': 3684, 'mandatory': 3685, 'dodge': 3686, 'tradition': 3687, 'frightening': 3688, 'drug': 3689, 'asia': 3690, 'camping': 3691, 'lower': 3692, 'itchy': 3693, 'sunburn': 3694, 'beats': 3695, 'bellyaching': 3696, 'hassling': 3697, 'despises': 3698, 'obstinate': 3699, 'rode': 3700, 'camel': 3701, 'worships': 3702, 'bench': 3703, 'skunks': 3704, 'apologizing': 3705, 'nit': 3706, 'million': 3707, 'explains': 3708, 'brilliant': 3709, 'curtain': 3710, 'abated': 3711, 'switch': 3712, 'icy': 3713, 'scoffed': 3714, 'artists': 3715, 'required': 3716, 'precious': 3717, 'bounced': 3718, 'detests': 3719, 'forgives': 3720, 'fried': 3721, 'rabbit': 3722, 'chickens': 3723, 'onions': 3724, 'delirious': 3725, 'emotional': 3726, 'merciless': 3727, 'observing': 3728, 'campus': 3729, 'suspended': 3730, 'sighing': 3731, 'tulips': 3732, 'smiles': 3733, 'overheard': 3734, 'tickled': 3735, 'appalled': 3736, 'watches': 3737, 'innovative': 3738, 'undefeated': 3739, 'instead': 3740, 'slower': 3741, 'competed': 3742, 'classmates': 3743, 'seek': 3744, 'property': 3745, 'score': 3746, 'wherever': 3747, 'cheaper': 3748, 'developed': 3749, 'uses': 3750, 'notified': 3751, 'dyes': 3752, 'nicely': 3753, 'x': 3754, 'marks': 3755, 'seventh': 3756, 'practical': 3757, 'unethical': 3758, 'zip': 3759, 'admission': 3760, 'steps': 3761, 'bachelors': 3762, 'click': 3763, 'link': 3764, 'cocaine': 3765, 'imminent': 3766, 'startle': 3767, 'disable': 3768, 'ants': 3769, 'kratom': 3770, 'wan': 3771, 'threaten': 3772, 'haste': 3773, 'blackmailed': 3774, 'deals': 3775, 'earns': 3776, 'gives': 3777, 'blond': 3778, 'physicist': 3779, 'unrealistic': 3780, 'frugally': 3781, 'requested': 3782, 'russian': 3783, 'imprisoned': 3784, 'heed': 3785, 'skin': 3786, 'handrail': 3787, 'chopin': 3788, 'tutor': 3789, 'mosquitoes': 3790, 'hangover': 3791, 'proposal': 3792, 'chest': 3793, 'footsteps': 3794, 'adventures': 3795, 'outlive': 3796, 'muscle': 3797, 'jest': 3798, 'inchworm': 3799, 'swallowed': 3800, 'passenger': 3801, 'discredited': 3802, 'flirting': 3803, 'shotgun': 3804, 'sagittarius': 3805, 'trainer': 3806, 'concentrating': 3807, 'materialistic': 3808, 'lab': 3809, 'strongest': 3810, 'pride': 3811, 'insure': 3812, 'deliberate': 3813, 'horrendous': 3814, 'flimsy': 3815, 'club': 3816, 'conspiracy': 3817, 'knock': 3818, 'investigate': 3819, 'prediction': 3820, 'mosquitos': 3821, 'aching': 3822, 'shoulder': 3823, 'attract': 3824, 'attractive': 3825, 'dear': 3826, 'unsociable': 3827, 'hyperactive': 3828, 'flower': 3829, 'somehow': 3830, 'badgering': 3831, 'interrupting': 3832, 'rings': 3833, 'classified': 3834, 'clapped': 3835, 'bland': 3836, 'dull': 3837, 'lovers': 3838, 'motor': 3839, 'thick': 3840, 'hunted': 3841, 'tortured': 3842, 'identical': 3843, 'bucket': 3844, 'appalling': 3845, 'offensive': 3846, 'skim': 3847, 'fishy': 3848, 'claims': 3849, 'appear': 3850, 'excluded': 3851, 'freed': 3852, 'imitated': 3853, 'believer': 3854, 'magician': 3855, 'despondent': 3856, 'trained': 3857, 'peeked': 3858, 'strangled': 3859, 'hose': 3860, 'beers': 3861, 'flaws': 3862, 'p': 3863, 'warrant': 3864, 'canoe': 3865, 'due': 3866, 'killers': 3867, 'pulling': 3868, 'revelation': 3869, 'delay': 3870, 'stitches': 3871, 'murderer': 3872, 'unpleasant': 3873, 'mocking': 3874, 'fascinate': 3875, 'pillow': 3876, 'subject': 3877, 'kabuki': 3878, 'mozart': 3879, 'stones': 3880, 'blanks': 3881, 'cartwheel': 3882, 'cycling': 3883, 'gripped': 3884, 'alzheimer': 3885, 'daydreamer': 3886, 'walker': 3887, 'critic': 3888, 'aristocrat': 3889, 'fifty': 3890, 'print': 3891, 'museum': 3892, 'absolutely': 3893, 'prophet': 3894, 'potato': 3895, 'sin': 3896, 'earn': 3897, 'miserably': 3898, 'loads': 3899, 'goat': 3900, 'appetite': 3901, 'siblings': 3902, 'cameras': 3903, 'explosions': 3904, 'emailed': 3905, 'poverty': 3906, 'promises': 3907, 'pad': 3908, 'inspiration': 3909, 'oiled': 3910, 'repeated': 3911, 'unplugged': 3912, 'disqualified': 3913, 'stiff': 3914, 'election': 3915, 'fianc': 3916, 'rusty': 3917, 'claustrophobic': 3918, 'gaining': 3919, 'laying': 3920, 'denying': 3921, 'selling': 3922, 'somewhat': 3923, 'supporting': 3924, 'supposed': 3925, 'gained': 3926, 'board': 3927, 'boggles': 3928, 'mended': 3929, 'deadly': 3930, 'astonishing': 3931, 'mesmerizing': 3932, 'possibility': 3933, 'recipe': 3934, 'disease': 3935, 'knowledge': 3936, 'lesson': 3937, 'rephrase': 3938, 'moons': 3939, 'final': 3940, 'goals': 3941, 'lofty': 3942, 'hunch': 3943, 'mailbox': 3944, 'slide': 3945, 'immortal': 3946, 'suitcase': 3947, 'permitted': 3948, 'bandage': 3949, 'safety': 3950, 'schools': 3951, 'charity': 3952, 'teaser': 3953, 'slip': 3954, 'correcting': 3955, 'losers': 3956, 'tickles': 3957, 'unimportant': 3958, 'attempt': 3959, 'buzzer': 3960, 'fog': 3961, 'rallied': 3962, 'pond': 3963, 'shops': 3964, 'brightened': 3965, 'stars': 3966, 'wandered': 3967, 'wrestlers': 3968, 'th': 3969, 'families': 3970, 'hostages': 3971, 'tents': 3972, 'peaceful': 3973, 'disposable': 3974, 'foreigners': 3975, 'contacted': 3976, 'cycles': 3977, 'enjoys': 3978, 'follows': 3979, 'john': 3980, 'bars': 3981, 'launders': 3982, 'pays': 3983, 'refuses': 3984, 'blankly': 3985, 'reporter': 3986, 'distressed': 3987, 'hysterical': 3988, 'persistent': 3989, 'subpoenaed': 3990, 'unbeatable': 3991, 'tuck': 3992, 'chartered': 3993, 'chatted': 3994, 'wheat': 3995, 'contract': 3996, 'deadline': 3997, 'sacrifices': 3998, 'assistance': 3999, 'passengers': 4000, 'judged': 4001, 'convince': 4002, 'halfway': 4003, 'agreement': 4004, 'slowing': 4005, 'unprejudiced': 4006, 'spotted': 4007, 'porcupine': 4008, 'bakery': 4009, 'prevent': 4010, 'yeah': 4011, 'oath': 4012, 'intimidate': 4013, 'racists': 4014, 'idealist': 4015, 'unemotional': 4016, 'acid': 4017, 'facebook': 4018, 'banker': 4019, 'ducks': 4020, 'habits': 4021, 'absorbs': 4022, 'darkness': 4023, 'disconnect': 4024, 'sarcasm': 4025, 'vertigo': 4026, 'jewelry': 4027, 'cigars': 4028, 'ketamine': 4029, 'cocky': 4030, 'blush': 4031, 'scribble': 4032, 'faults': 4033, 'cheering': 4034, 'sport': 4035, 'sorrows': 4036, 'toothpick': 4037, 'journey': 4038, 'bragged': 4039, 'willingly': 4040, 'excess': 4041, 'square': 4042, 'hoped': 4043, 'jimmied': 4044, 'morocco': 4045, 'response': 4046, 'loses': 4047, 'sixty': 4048, 'cardiologist': 4049, 'hunter': 4050, 'virtue': 4051, 'electrician': 4052, 'director': 4053, 'collect': 4054, 'checking': 4055, 'dove': 4056, 'email': 4057, 'invitation': 4058, 'nowhere': 4059, 'hadn': 4060, 'flights': 4061, 'talents': 4062, 'opponents': 4063, 'highly': 4064, 'brewed': 4065, 'costume': 4066, 'reservations': 4067, 'blackboard': 4068, 'kidney': 4069, 'medical': 4070, 'instructions': 4071, 'colds': 4072, 'reviewed': 4073, 'sprang': 4074, 'backwards': 4075, 'tested': 4076, 'elevator': 4077, 'candor': 4078, 'steak': 4079, 'german': 4080, 'factory': 4081, 'wagon': 4082, 'social': 4083, 'drafting': 4084, 'bathroom': 4085, 'incredibly': 4086, 'indebted': 4087, 'intimidated': 4088, 'presentable': 4089, 'drawing': 4090, 'figured': 4091, 'santa': 4092, 'appropriate': 4093, 'bothers': 4094, 'snows': 4095, 'bugged': 4096, 'serves': 4097, 'excruciating': 4098, 'fling': 4099, 'slippery': 4100, 'eleven': 4101, 'bible': 4102, 'subjective': 4103, 'limbo': 4104, 'consuming': 4105, 'appointment': 4106, 'swollen': 4107, 'escapes': 4108, 'package': 4109, 'allies': 4110, 'limited': 4111, 'ends': 4112, 'poaching': 4113, 'believing': 4114, 'reinforcements': 4115, 'boiled': 4116, 'natured': 4117, 'sonata': 4118, 'buys': 4119, 'willed': 4120, 'squirrels': 4121, 'proves': 4122, 'discouraging': 4123, 'specialty': 4124, 'original': 4125, 'uneven': 4126, 'decent': 4127, 'collapsed': 4128, 'faded': 4129, 'tender': 4130, 'monkey': 4131, 'shining': 4132, 'outlook': 4133, 'stakes': 4134, 'investors': 4135, 'inseparable': 4136, 'grave': 4137, 'handbag': 4138, 'metal': 4139, 'appears': 4140, 'approached': 4141, 'collects': 4142, 'encouraged': 4143, 'pacemaker': 4144, 'consultant': 4145, 'handcuffs': 4146, 'promptly': 4147, 'salted': 4148, 'impatiently': 4149, 'flustered': 4150, 'contest': 4151, 'hallucinating': 4152, 'text': 4153, 'scandal': 4154, 'oral': 4155, 'situation': 4156, 'anxiously': 4157, 'forest': 4158, 'tempting': 4159, 'champions': 4160, 'opportunity': 4161, 'sunset': 4162, 'fare': 4163, 'arriving': 4164, 'located': 4165, 'forgetting': 4166, 'replacing': 4167, 'cursing': 4168, 'correctly': 4169, 'reek': 4170, 'harmed': 4171, 'cantankerous': 4172, 'sweetest': 4173, 'undependable': 4174, 'mobile': 4175, 'crooked': 4176, 'animal': 4177, 'squid': 4178, 'explosives': 4179, 'imitating': 4180, 'imitations': 4181, 'cotton': 4182, 'exhausting': 4183, 'foresee': 4184, 'blankets': 4185, 'glaucoma': 4186, 'marijuana': 4187, 'contacts': 4188, 'dentures': 4189, 'dramatic': 4190, 'brake': 4191, 'disappoint': 4192, 'borders': 4193, 'paws': 4194, 'applied': 4195, 'filed': 4196, 'nerves': 4197, 'dollars': 4198, 'foreign': 4199, 'conscience': 4200, 'daughters': 4201, 'bewildered': 4202, 'stone': 4203, 'clothed': 4204, 'smooth': 4205, 'talker': 4206, 'lung': 4207, 'inspired': 4208, 'yard': 4209, 'mt': 4210, 'fuji': 4211, 'actually': 4212, 'punctuality': 4213, 'pry': 4214, 'grudges': 4215, 'unappreciated': 4216, 'flushed': 4217, 'alternative': 4218, 'tumor': 4219, 'reservation': 4220, 'stomachache': 4221, 'thirteen': 4222, 'boots': 4223, 'rib': 4224, 'dyke': 4225, 'track': 4226, 'disrespect': 4227, 'memorized': 4228, 'january': 4229, 'rechecked': 4230, 'underestimated': 4231, 'analysis': 4232, 'posted': 4233, 'welfare': 4234, 'disposal': 4235, 'options': 4236, 'hitting': 4237, 'marrying': 4238, 'servant': 4239, 'pressing': 4240, 'charges': 4241, 'irritating': 4242, 'timetable': 4243, 'smoothly': 4244, 'predictable': 4245, 'gander': 4246, 'clouds': 4247, 'leap': 4248, 'unattractive': 4249, 'judging': 4250, 'planes': 4251, 'account': 4252, 'scalpel': 4253, 'sharpen': 4254, 'impolitely': 4255, 'shrug': 4256, 'main': 4257, 'ticking': 4258, 'servers': 4259, 'antidote': 4260, 'vacancy': 4261, 'difference': 4262, 'logs': 4263, 'plums': 4264, 'ripe': 4265, 'approaching': 4266, 'vegetarians': 4267, 'smoothies': 4268, 'formed': 4269, 'westward': 4270, 'tourists': 4271, 'bedroom': 4272, 'cuts': 4273, 'prettier': 4274, 'houses': 4275, 'hesitantly': 4276, 'guilt': 4277, 'salute': 4278, 'chopping': 4279, 'uninteresting': 4280, 'resisted': 4281, 'mesmerized': 4282, 'awkwardly': 4283, 'chanting': 4284, 'grinning': 4285, 'groaning': 4286, 'mumbling': 4287, 'trembled': 4288, 'plus': 4289, 'americans': 4290, 'advantage': 4291, 'disconnected': 4292, 'protecting': 4293, 'underage': 4294, 'holding': 4295, 'duties': 4296, 'brings': 4297, 'commotion': 4298, 'nickname': 4299, 'restroom': 4300, 'ditch': 4301, 'permit': 4302, 'feelings': 4303, 'snooze': 4304, 'flattering': 4305, 'dolphin': 4306, 'pickpockets': 4307, 'stats': 4308, 'ruin': 4309, 'propose': 4310, 'fled': 4311, 'pair': 4312, 'buzz': 4313, 'cuff': 4314, 'cursed': 4315, 'frowned': 4316, 'gloated': 4317, 'grunted': 4318, 'prepaid': 4319, 'shouted': 4320, 'needy': 4321, 'poured': 4322, 'dived': 4323, 'knits': 4324, 'limps': 4325, 'r': 4326, 'shivered': 4327, 'flabby': 4328, 'bulky': 4329, 'taboo': 4330, 'lasts': 4331, 'cheats': 4332, 'cusses': 4333, 'farted': 4334, 'sobbed': 4335, 'yawned': 4336, 'blink': 4337, 'faking': 4338, 'assume': 4339, 'tapes': 4340, 'glue': 4341, 'coup': 4342, 'curt': 4343, 'gambles': 4344, 'gargled': 4345, 'meek': 4346, 'vain': 4347, 'reacted': 4348, 'sneered': 4349, 'sniffed': 4350, 'snorted': 4351, 'hell': 4352, 'heel': 4353, 'warmly': 4354, 'mocked': 4355, 'caviar': 4356, 'carded': 4357, 'ax': 4358, 'hives': 4359, 'improvised': 4360, 'sympathize': 4361, 'framed': 4362, 'weighed': 4363, 'priest': 4364, 'purist': 4365, 'famished': 4366, 'hungover': 4367, 'rebel': 4368, 'elk': 4369, 'cinch': 4370, 'setup': 4371, 'hearsay': 4372, 'mull': 4373, 'hip': 4374, 'cared': 4375, 'filming': 4376, 'gawking': 4377, 'whiff': 4378, 'spam': 4379, 'approves': 4380, 'nut': 4381, 'pudgy': 4382, 'sniffled': 4383, 'stutters': 4384, 'arabs': 4385, 'drown': 4386, 'mock': 4387, 'sass': 4388, 'healthily': 4389, 'bloom': 4390, 'riddance': 4391, 'advises': 4392, 'dug': 4393, 'british': 4394, 'grouch': 4395, 'jesuit': 4396, 'tycoon': 4397, 'acquired': 4398, 'added': 4399, 'classes': 4400, 'drowsy': 4401, 'forbid': 4402, 'fleeced': 4403, 'crowds': 4404, 'prunes': 4405, 'crepes': 4406, 'yacht': 4407, 'resent': 4408, 'queen': 4409, 'firefox': 4410, 'pony': 4411, 'nights': 4412, 'trainee': 4413, 'parole': 4414, 'resentful': 4415, 'sickens': 4416, 'parody': 4417, 'sequel': 4418, 'indecent': 4419, 'instinct': 4420, 'obsolete': 4421, 'paddling': 4422, 'mortal': 4423, 'lungs': 4424, 'obeys': 4425, 'livid': 4426, 'cutie': 4427, 'heap': 4428, 'rad': 4429, 'unreal': 4430, 'mooed': 4431, 'embraced': 4432, 'pun': 4433, 'basic': 4434, 'exercises': 4435, 'graduated': 4436, 'hick': 4437, 'sexist': 4438, 'somber': 4439, 'stable': 4440, 'overdosed': 4441, 'shuddered': 4442, 'stiffened': 4443, 'testified': 4444, 'untie': 4445, 'assumed': 4446, 'tools': 4447, 'candy': 4448, 'rebuild': 4449, 'buddies': 4450, 'winners': 4451, 'matured': 4452, 'hassle': 4453, 'disagrees': 4454, 'coke': 4455, 'intruding': 4456, 'boats': 4457, 'purr': 4458, 'farts': 4459, 'gasps': 4460, 'lines': 4461, 'tan': 4462, 'gazed': 4463, 'bankrupt': 4464, 'jelly': 4465, 'hungarian': 4466, 'outlaw': 4467, 'henpecked': 4468, 'ached': 4469, 'perceptive': 4470, 'draft': 4471, 'seasick': 4472, 'snubbed': 4473, 'hailed': 4474, 'ironing': 4475, 'zealots': 4476, 'amnesia': 4477, 'thud': 4478, 'almonds': 4479, 'castles': 4480, 'sashimi': 4481, 'upstate': 4482, 'lasagna': 4483, 'puppies': 4484, 'sunsets': 4485, 'muffins': 4486, 'decline': 4487, 'insulin': 4488, 'asap': 4489, 'urge': 4490, 'memo': 4491, 'scold': 4492, 'merchant': 4493, 'minister': 4494, 'thumbs': 4495, 'farsighted': 4496, 'remodeling': 4497, 'killer': 4498, 'credible': 4499, 'disgusts': 4500, 'fluke': 4501, 'magical': 4502, 'classic': 4503, 'firefly': 4504, 'ambush': 4505, 'drizzling': 4506, 'forbidden': 4507, 'grotesque': 4508, 'inspiring': 4509, 'vibrating': 4510, 'worthless': 4511, 'clues': 4512, 'mum': 4513, 'joints': 4514, 'itches': 4515, 'tummy': 4516, 'ow': 4517, 'ditched': 4518, 'brains': 4519, 'prudish': 4520, 'types': 4521, 'looker': 4522, 'poking': 4523, 'resisting': 4524, 'honked': 4525, 'quarreled': 4526, 'babies': 4527, 'unsafe': 4528, 'draws': 4529, 'issues': 4530, 'scurvy': 4531, 'dwarf': 4532, 'felon': 4533, 'fraud': 4534, 'giant': 4535, 'lefty': 4536, 'mason': 4537, 'pilot': 4538, 'devoted': 4539, 'pompous': 4540, 'radical': 4541, 'slender': 4542, 'unkempt': 4543, 'tofu': 4544, 'maps': 4545, 'fuming': 4546, 'stranded': 4547, 'unstable': 4548, 'sauce': 4549, 'rear': 4550, 'duet': 4551, 'butchers': 4552, 'buffoon': 4553, 'letdown': 4554, 'atm': 4555, 'reinstated': 4556, 'suggestions': 4557, 'purple': 4558, 'anytime': 4559, 'clip': 4560, 'crows': 4561, 'rap': 4562, 'freak': 4563, 'fasten': 4564, 'onto': 4565, 'daddy': 4566, 'toyota': 4567, 'racket': 4568, 'intrigues': 4569, 'ethiopian': 4570, 'sweets': 4571, 'puts': 4572, 'airs': 4573, 'whisky': 4574, 'shouts': 4575, 'swindled': 4576, 'comedian': 4577, 'frat': 4578, 'gardener': 4579, 'newcomer': 4580, 'helium': 4581, 'hoist': 4582, 'sails': 4583, 'hypnotism': 4584, 'egypt': 4585, 'booked': 4586, 'carp': 4587, 'funerals': 4588, 'raccoons': 4589, 'dandruff': 4590, 'diabetes': 4591, 'immunity': 4592, 'thump': 4593, 'imagined': 4594, 'cartoons': 4595, 'westerns': 4596, 'barbecue': 4597, 'comedies': 4598, 'eggplant': 4599, 'pancakes': 4600, 'brownies': 4601, 'caffeine': 4602, 'orchids': 4603, 'respected': 4604, 'giraffe': 4605, 'pattern': 4606, 'patrol': 4607, 'petrified': 4608, 'chauffeur': 4609, 'housewife': 4610, 'lifeguard': 4611, 'masochist': 4612, 'owl': 4613, 'stutterer': 4614, 'frying': 4615, 'nearsighted': 4616, 'deck': 4617, 'hazardous': 4618, 'poisonous': 4619, 'zebra': 4620, 'ethical': 4621, 'poorly': 4622, 'burnt': 4623, 'enticing': 4624, 'mushroom': 4625, 'travesty': 4626, 'artificial': 4627, 'dirt': 4628, 'scarce': 4629, 'updated': 4630, 'knead': 4631, 'dough': 4632, 'koalas': 4633, 'kites': 4634, 'shrank': 4635, 'natto': 4636, 'wonders': 4637, 'rake': 4638, 'saddle': 4639, 'brazilian': 4640, 'spanish': 4641, 'nagging': 4642, 'squabbling': 4643, 'whimpering': 4644, 'pagoda': 4645, 'shadow': 4646, 'growled': 4647, 'nigh': 4648, 'stank': 4649, 'howled': 4650, 'melons': 4651, 'interns': 4652, 'farce': 4653, 'lance': 4654, 'private': 4655, 'pleases': 4656, 'burps': 4657, 'exaggerates': 4658, 'ipad': 4659, 'jockey': 4660, 'madman': 4661, 'prince': 4662, 'welder': 4663, 'adapting': 4664, 'anorexic': 4665, 'athletic': 4666, 'depraved': 4667, 'drenched': 4668, 'eloquent': 4669, 'immobile': 4670, 'insolent': 4671, 'likeable': 4672, 'reckless': 4673, 'studious': 4674, 'tireless': 4675, 'tolerant': 4676, 'learns': 4677, 'dazed': 4678, 'falls': 4679, 'moose': 4680, 'evasive': 4681, 'moaning': 4682, 'paralyzed': 4683, 'declared': 4684, 'ponchos': 4685, 'farmers': 4686, 'camp': 4687, 'attorneys': 4688, 'comedians': 4689, 'gardeners': 4690, 'gentlemen': 4691, 'incorrect': 4692, 'relatives': 4693, 'soulmates': 4694, 'blessing': 4695, 'prospect': 4696, 'weakling': 4697, 'gpa': 4698, 'jello': 4699, 'unsure': 4700, 'mustn': 4701, 'rut': 4702, 'atlantis': 4703, 'beaks': 4704, 'consult': 4705, 'gawk': 4706, 'mislead': 4707, 'sometime': 4708, 'groans': 4709, 'gossips': 4710, 'floating': 4711, 'hobo': 4712, 'joker': 4713, 'acrobat': 4714, 'shares': 4715, 'tenacious': 4716, 'winked': 4717, 'historian': 4718, 'nonsmoker': 4719, 'sophomore': 4720, 'hone': 4721, 'skills': 4722, 'melodramatic': 4723, 'norway': 4724, 'weekly': 4725, 'appreciated': 4726, 'bumped': 4727, 'pizzas': 4728, 'disregarded': 4729, 'dilemma': 4730, 'refreshed': 4731, 'filled': 4732, 'drift': 4733, 'goosebumps': 4734, 'texts': 4735, 'fireworks': 4736, 'diploma': 4737, 'grenade': 4738, 'toaster': 4739, 'heartburn': 4740, 'pneumonia': 4741, 'wavy': 4742, 'journal': 4743, 'astrology': 4744, 'mushrooms': 4745, 'uncles': 4746, 'mysteries': 4747, 'pop': 4748, 'europe': 4749, 'astronomy': 4750, 'libraries': 4751, 'fortune': 4752, 'envelopes': 4753, 'subtitles': 4754, 'vent': 4755, 'label': 4756, 'require': 4757, 'lease': 4758, 'strongly': 4759, 'martini': 4760, 'pal': 4761, 'raccoon': 4762, 'scooter': 4763, 'dumbstruck': 4764, 'raffle': 4765, 'riser': 4766, 'shutterbug': 4767, 'inviting': 4768, 'beggar': 4769, 'row': 4770, 'drawn': 4771, 'accessible': 4772, 'perks': 4773, 'april': 4774, 'snowstorm': 4775, 'sunflower': 4776, 'balmy': 4777, 'conceivable': 4778, 'cooler': 4779, 'fetched': 4780, 'regrettable': 4781, 'darts': 4782, 'inbox': 4783, 'oil': 4784, 'pump': 4785, 'idolized': 4786, 'scene': 4787, 'repulses': 4788, 'pitied': 4789, 'pinching': 4790, 'taunting': 4791, 'precautions': 4792, 'kindly': 4793, 'avoidable': 4794, 'blackmail': 4795, 'idle': 4796, 'affair': 4797, 'creaked': 4798, 'bucked': 4799, 'jar': 4800, 'jury': 4801, 'mass': 4802, 'noes': 4803, 'singers': 4804, 'amateurs': 4805, 'traitors': 4806, 'messy': 4807, 'insanity': 4808, 'official': 4809, 'puzzling': 4810, 'sabotage': 4811, 'shameful': 4812, 'shocking': 4813, 'norm': 4814, 'admires': 4815, 'avoided': 4816, 'raft': 4817, 'coughs': 4818, 'charisma': 4819, 'freckles': 4820, 'drummer': 4821, 'gourmet': 4822, 'gymnast': 4823, 'hipster': 4824, 'patriot': 4825, 'realtor': 4826, 'trucker': 4827, 'intern': 4828, 'competent': 4829, 'deceitful': 4830, 'fanatical': 4831, 'inventive': 4832, 'legendary': 4833, 'nephew': 4834, 'overjoyed': 4835, 'regretful': 4836, 'shameless': 4837, 'nosey': 4838, 'trembling': 4839, 'ponies': 4840, 'steals': 4841, 'suggested': 4842, 'swears': 4843, 'abducted': 4844, 'babbling': 4845, 'cremated': 4846, 'ecstatic': 4847, 'executed': 4848, 'unshaven': 4849, 'berserk': 4850, 'bonkers': 4851, 'headstrong': 4852, 'robbery': 4853, 'swordfish': 4854, 'crisis': 4855, 'injuries': 4856, 'evacuate': 4857, 'withdraw': 4858, 'supplies': 4859, 'downsizing': 4860, 'historians': 4861, 'lifeguards': 4862, 'mates': 4863, 'fails': 4864, 'razor': 4865, 'hamlet': 4866, 'banned': 4867, 'wool': 4868, 'huh': 4869, 'distant': 4870, 'failure': 4871, 'lunatic': 4872, 'leaf': 4873, 'nests': 4874, 'champagne': 4875, 'chuck': 4876, 'compare': 4877, 'lager': 4878, 'latin': 4879, 'pears': 4880, 'ignorant': 4881, 'crass': 4882, 'petty': 4883, 'pushy': 4884, 'fry': 4885, 'rung': 4886, 'carried': 4887, 'chewed': 4888, 'gum': 4889, 'grain': 4890, 'roughly': 4891, 'fills': 4892, 'hanged': 4893, 'ego': 4894, 'daredevil': 4895, 'osaka': 4896, 'miles': 4897, 'wakes': 4898, 'raging': 4899, 'scripts': 4900, 'buff': 4901, 'timer': 4902, 'undergrad': 4903, 'georgia': 4904, 'warnings': 4905, 'darkened': 4906, 'hamburger': 4907, 'baited': 4908, 'bid': 4909, 'cactus': 4910, 'webcam': 4911, 'shelter': 4912, 'upfront': 4913, 'app': 4914, 'register': 4915, 'sting': 4916, 'breakdown': 4917, 'hypocrites': 4918, 'interviews': 4919, 'desert': 4920, 'backache': 4921, 'migraine': 4922, 'sailboat': 4923, 'earache': 4924, 'discs': 4925, 'savings': 4926, 'jackpot': 4927, 'navy': 4928, 'bitten': 4929, 'challenges': 4930, 'folk': 4931, 'sauerkraut': 4932, 'spicy': 4933, 'odds': 4934, 'watermelon': 4935, 'hamburgers': 4936, 'performing': 4937, 'album': 4938, 'keyboard': 4939, 'toothpaste': 4940, 'oversleep': 4941, 'hood': 4942, 'paused': 4943, 'tambourine': 4944, 'volleyball': 4945, 'pruned': 4946, 'geography': 4947, 'otherwise': 4948, 'highway': 4949, 'confess': 4950, 'workout': 4951, 'sympathy': 4952, 'mugged': 4953, 'misinformed': 4954, 'trespassing': 4955, 'harvard': 4956, 'salesperson': 4957, 'accountant': 4958, 'astronomer': 4959, 'bringing': 4960, 'irreplaceable': 4961, 'evicted': 4962, 'diarrhea': 4963, 'notarized': 4964, 'warranted': 4965, 'curfew': 4966, 'remedy': 4967, 'stunning': 4968, 'pieces': 4969, 'ways': 4970, 'cooled': 4971, 'optional': 4972, 'massacre': 4973, 'convenient': 4974, 'convincing': 4975, 'disastrous': 4976, 'persuasive': 4977, 'confidential': 4978, 'questionable': 4979, 'imprecise': 4980, 'unauthorized': 4981, 'onerous': 4982, 'chin': 4983, 'wrestle': 4984, 'hut': 4985, 'straws': 4986, 'peek': 4987, 'ephemeral': 4988, 'conquers': 4989, 'transient': 4990, 'vivacious': 4991, 'opposites': 4992, 'production': 4993, 'thorns': 4994, 'appeals': 4995, 'figure': 4996, 'turner': 4997, 'golden': 4998, 'lullaby': 4999, 'sloths': 5000, 'lane': 5001, 'scale': 5002, 'mimicking': 5003, 'termites': 5004, 'depresses': 5005, 'essential': 5006, 'fir': 5007, 'defense': 5008, 'spirit': 5009, 'undeniable': 5010, 'barn': 5011, 'cable': 5012, 'snapped': 5013, 'donkey': 5014, 'brayed': 5015, 'squeaked': 5016, 'ajar': 5017, 'rotates': 5018, 'jammed': 5019, 'meager': 5020, 'tactic': 5021, 'verdict': 5022, 'gods': 5023, 'trial': 5024, 'cannibals': 5025, 'murderers': 5026, 'coconut': 5027, 'extortion': 5028, 'gibberish': 5029, 'insulting': 5030, 'irregular': 5031, 'justified': 5032, 'pointless': 5033, 'priceless': 5034, 'tasteless': 5035, 'worrisome': 5036, 'silver': 5037, 'arrives': 5038, 'behaved': 5039, 'despised': 5040, 'flinch': 5041, 'expects': 5042, 'iq': 5043, 'iphone': 5044, 'arthritis': 5045, 'frostbite': 5046, 'seniority': 5047, 'juan': 5048, 'bookworm': 5049, 'designer': 5050, 'jeweller': 5051, 'mechanic': 5052, 'pushover': 5053, 'teenager': 5054, 'werewolf': 5055, 'believable': 5056, 'custody': 5057, 'therapy': 5058, 'indecisive': 5059, 'insightful': 5060, 'intolerant': 5061, 'passionate': 5062, 'perspiring': 5063, 'possessive': 5064, 'stuttering': 5065, 'unfaithful': 5066, 'mumbles': 5067, 'outlived': 5068, 'humbly': 5069, 'sneezes': 5070, 'vomited': 5071, 'updates': 5072, 'fanatic': 5073, 'fireman': 5074, 'negligent': 5075, 'imaginative': 5076, 'acrylic': 5077, 'liquid': 5078, 'vaccine': 5079, 'suppliers': 5080, 'parks': 5081, 'mothers': 5082, 'journalists': 5083, 'collection': 5084, 'tacky': 5085, 'troubles': 5086, 'melon': 5087, 'confucius': 5088, 'drama': 5089, 'c': 5090, 'woods': 5091, 'wriggle': 5092, 'actresses': 5093, 'particular': 5094, 'scaring': 5095, 'unfriendly': 5096, 'scratched': 5097, 'comma': 5098, 'insect': 5099, 'revolt': 5100, 'brewing': 5101, 'demanding': 5102, 'criminals': 5103, 'buddhist': 5104, 'attendance': 5105, 'contains': 5106, 'hops': 5107, 'chirping': 5108, 'rackets': 5109, 'caption': 5110, 'divide': 5111, 'conquer': 5112, 'copycat': 5113, 'patronize': 5114, 'relaxes': 5115, 'dust': 5116, 'shelf': 5117, 'endorse': 5118, 'portion': 5119, 'breakable': 5120, 'broom': 5121, 'wrench': 5122, 'thanksgiving': 5123, 'od': 5124, 'foolishly': 5125, 'mile': 5126, 'fishmonger': 5127, 'heartless': 5128, 'judgement': 5129, 'retaliate': 5130, 'rolled': 5131, 'thrust': 5132, 'weighs': 5133, 'lottery': 5134, 'ghostwriter': 5135, 'keeper': 5136, 'meth': 5137, 'englishman': 5138, 'torn': 5139, 'sooty': 5140, 'baggage': 5141, 'eludes': 5142, 'pace': 5143, 'quickened': 5144, 'untidy': 5145, 'economy': 5146, 'cope': 5147, 'customers': 5148, 'anticipated': 5149, 'chips': 5150, 'peanuts': 5151, 'clutch': 5152, 'exclude': 5153, 'clicked': 5154, 'detest': 5155, 'soda': 5156, 'vodka': 5157, 'beets': 5158, 'tests': 5159, 'fastened': 5160, 'fractured': 5161, 'bureaucracy': 5162, 'nosebleed': 5163, 'telescope': 5164, 'cabin': 5165, 'frizzy': 5166, 'invoice': 5167, 'rehearse': 5168, 'nephews': 5169, 'pans': 5170, 'jog': 5171, 'redecorated': 5172, 'irish': 5173, 'places': 5174, 'disco': 5175, 'skirts': 5176, 'photography': 5177, 'translating': 5178, 'bearded': 5179, 'butterflies': 5180, 'fairy': 5181, 'tales': 5182, 'melody': 5183, 'photocopies': 5184, 'mopped': 5185, 'secretary': 5186, 'envelope': 5187, 'lotion': 5188, 'nutmeg': 5189, 'trumpet': 5190, 'slammed': 5191, 'cigarettes': 5192, 'psychology': 5193, 'ankle': 5194, 'unloaded': 5195, 'limp': 5196, 'paraphrasing': 5197, 'television': 5198, 'weigh': 5199, 'pounds': 5200, 'success': 5201, 'catering': 5202, 'introduce': 5203, 'photographer': 5204, 'bats': 5205, 'harassed': 5206, 'singapore': 5207, 'poorer': 5208, 'deadbeat': 5209, 'gangster': 5210, 'pacifist': 5211, 'delusional': 5212, 'slave': 5213, 'balcony': 5214, 'unenthusiastic': 5215, 'woken': 5216, 'bliss': 5217, 'satisfactory': 5218, 'chained': 5219, 'milkman': 5220, 'recyclable': 5221, 'parallel': 5222, 'frustrating': 5223, 'preventable': 5224, 'distraction': 5225, 'proven': 5226, 'typo': 5227, 'experiment': 5228, 'investment': 5229, 'booby': 5230, 'disconcerting': 5231, 'heartbreaking': 5232, 'plague': 5233, 'brass': 5234, 'pertinent': 5235, 'greece': 5236, 'profile': 5237, 'trade': 5238, 'catty': 5239, 'squabble': 5240, 'monopolies': 5241, 'universal': 5242, 'budget': 5243, 'meows': 5244, 'fuel': 5245, 'restored': 5246, 'arise': 5247, 'breed': 5248, 'strength': 5249, 'postcard': 5250, 'aid': 5251, 'pigeon': 5252, 'toed': 5253, 'ghostly': 5254, 'lonesome': 5255, 'antiques': 5256, 'happily': 5257, 'supermodel': 5258, 'phoning': 5259, 'destroyed': 5260, 'intent': 5261, 'promising': 5262, 'impractical': 5263, 'juvenile': 5264, 'maximum': 5265, 'stale': 5266, 'coast': 5267, 'crow': 5268, 'doorknob': 5269, 'flame': 5270, 'wilted': 5271, 'caved': 5272, 'waxing': 5273, 'drying': 5274, 'backfired': 5275, 'port': 5276, 'squealed': 5277, 'waves': 5278, 'carnations': 5279, 'shaggy': 5280, 'triangle': 5281, 'apricot': 5282, 'octagon': 5283, 'astounding': 5284, 'project': 5285, 'outlandish': 5286, 'outrageous': 5287, 'plagiarism': 5288, 'unbearable': 5289, 'unheard': 5290, 'rag': 5291, 'tighten': 5292, 'sniff': 5293, 'instantly': 5294, 'lemonade': 5295, 'unwanted': 5296, 'headaches': 5297, 'mustache': 5298, 'ponytail': 5299, 'narcolepsy': 5300, 'candidate': 5301, 'hillbilly': 5302, 'librarian': 5303, 'machinist': 5304, 'terrorist': 5305, 'activist': 5306, 'imposter': 5307, 'fart': 5308, 'competitive': 5309, 'independent': 5310, 'insensitive': 5311, 'intoxicated': 5312, 'stark': 5313, 'supervising': 5314, 'parent': 5315, 'partying': 5316, 'drum': 5317, 'pacing': 5318, 'crusader': 5319, 'irrational': 5320, 'payday': 5321, 'argued': 5322, 'flour': 5323, 'sacrifice': 5324, 'conned': 5325, 'writers': 5326, 'eaters': 5327, 'honeymooning': 5328, 'pumpkin': 5329, 'vile': 5330, 'behavior': 5331, 'funeral': 5332, 'chapel': 5333, 'judges': 5334, 'float': 5335, 'sulking': 5336, 'scar': 5337, 'softy': 5338, 'gal': 5339, 'liability': 5340, 'princess': 5341, 'wimp': 5342, 'stray': 5343, 'whale': 5344, 'metals': 5345, 'pinch': 5346, 'sales': 5347, 'anyhow': 5348, 'stalking': 5349, 'gentle': 5350, 'jellyfish': 5351, 'bunnies': 5352, 'credit': 5353, 'chew': 5354, 'chivalry': 5355, 'cicadas': 5356, 'complaints': 5357, 'increasing': 5358, 'confusing': 5359, 'temple': 5360, 'tip': 5361, 'detect': 5362, 'swear': 5363, 'ungrateful': 5364, 'slam': 5365, 'grandma': 5366, 'samosa': 5367, 'grief': 5368, 'abused': 5369, 'averted': 5370, 'gaze': 5371, 'irritated': 5372, 'boarded': 5373, 'illness': 5374, 'ferrari': 5375, 'bleed': 5376, 'mutton': 5377, 'chops': 5378, 'fellow': 5379, 'apt': 5380, 'indeed': 5381, 'lean': 5382, 'sociable': 5383, 'motivation': 5384, 'lays': 5385, 'wisecrack': 5386, 'muttered': 5387, 'cages': 5388, 'reached': 5389, 'saluted': 5390, 'shined': 5391, 'swearing': 5392, 'ohio': 5393, 'chain': 5394, 'smoker': 5395, 'bloomer': 5396, 'cannon': 5397, 'scriptwriter': 5398, 'fifties': 5399, 'sentry': 5400, 'public': 5401, 'cheeks': 5402, 'pudding': 5403, 'honesty': 5404, 'thai': 5405, 'reunion': 5406, 'noodles': 5407, 'india': 5408, 'vip': 5409, 'gauge': 5410, 'clenched': 5411, 'fists': 5412, 'figurines': 5413, 'postcards': 5414, 'poultry': 5415, 'cent': 5416, 'bribes': 5417, 'cereal': 5418, 'pier': 5419, 'humbled': 5420, 'radios': 5421, 'hardest': 5422, 'premonition': 5423, 'runny': 5424, 'appendicitis': 5425, 'chapped': 5426, 'lucid': 5427, 'woodpecker': 5428, 'whisper': 5429, 'rambling': 5430, 'jacksons': 5431, 'glossy': 5432, 'chairs': 5433, 'mirrors': 5434, 'italian': 5435, 'aunts': 5436, 'blackberries': 5437, 'hangers': 5438, 'plugged': 5439, 'revised': 5440, 'motorcycle': 5441, 'scrubbed': 5442, 'footage': 5443, 'nude': 5444, 'turkey': 5445, 'suppressed': 5446, 'medicine': 5447, 'blend': 5448, 'trimmed': 5449, 'hedge': 5450, 'worms': 5451, 'schooled': 5452, 'usual': 5453, 'sack': 5454, 'tolerate': 5455, 'daiquiri': 5456, 'input': 5457, 'manually': 5458, 'butt': 5459, 'perfectionist': 5460, 'thirst': 5461, 'produce': 5462, 'underwear': 5463, 'backyard': 5464, 'basement': 5465, 'loner': 5466, 'disagreeing': 5467, 'customer': 5468, 'victim': 5469, 'rates': 5470, 'claus': 5471, 'comprehensive': 5472, 'significant': 5473, 'jasmine': 5474, 'permissible': 5475, 'profitable': 5476, 'drizzle': 5477, 'appetizing': 5478, 'solar': 5479, 'numbing': 5480, 'unpardonable': 5481, 'cause': 5482, 'comedy': 5483, 'dreary': 5484, 'knotty': 5485, 'glitch': 5486, 'arranged': 5487, 'backpack': 5488, 'plain': 5489, 'fantasy': 5490, 'placebo': 5491, 'non': 5492, 'refundable': 5493, 'negotiable': 5494, 'clunky': 5495, 'fashion': 5496, 'overcast': 5497, 'stuffy': 5498, 'unbearably': 5499, 'asians': 5500, 'jupiter': 5501, 'ladybugs': 5502, 'aphids': 5503, 'overreact': 5504, 'napkin': 5505, 'merlin': 5506, 'passion': 5507, 'aunt': 5508, 'rise': 5509, 'catnip': 5510, 'gritty': 5511, 'throat': 5512, 'whole': 5513, 'items': 5514, 'supported': 5515, 'nutritious': 5516, 'ostriches': 5517, 'spatula': 5518, 'mumble': 5519, 'curb': 5520, 'paramount': 5521, 'boards': 5522, 'convulsions': 5523, 'chatterbox': 5524, 'mere': 5525, 'mannered': 5526, 'skinned': 5527, 'laced': 5528, 'shinjuku': 5529, 'shaved': 5530, 'penniless': 5531, 'employed': 5532, 'someday': 5533, 'scales': 5534, 'aggravating': 5535, 'strap': 5536, 'taxis': 5537, 'technology': 5538, 'thailand': 5539, 'info': 5540, 'suffice': 5541, 'months': 5542, 'imitation': 5543, 'reasoning': 5544, 'uncommon': 5545, 'priority': 5546, 'uncalled': 5547, 'blouse': 5548, 'ceased': 5549, 'crops': 5550, 'folder': 5551, 'dusty': 5552, 'hen': 5553, 'rags': 5554, 'deepens': 5555, 'leaked': 5556, 'leaking': 5557, 'stores': 5558, 'volcano': 5559, 'erupted': 5560, 'bare': 5561, 'spoons': 5562, 'motive': 5563, 'condition': 5564, 'chorus': 5565, 'glances': 5566, 'wormy': 5567, 'minds': 5568, 'forum': 5569, 'newspaper': 5570, 'devastating': 5571, 'encouraging': 5572, 'inexcusable': 5573, 'mango': 5574, 'sheet': 5575, 'site': 5576, 'shoddy': 5577, 'tin': 5578, 'botched': 5579, 'comics': 5580, 'stamps': 5581, 'googled': 5582, 'sidetracked': 5583, 'backbone': 5584, 'tonsillitis': 5585, 'biochemist': 5586, 'diver': 5587, 'lumberjack': 5588, 'pharmacist': 5589, 'politician': 5590, 'anarchist': 5591, 'astronaut': 5592, 'economist': 5593, 'inspector': 5594, 'intellectual': 5595, 'level': 5596, 'multilingual': 5597, 'bodyguard': 5598, 'godfather': 5599, 'presumptuous': 5600, 'cave': 5601, 'banjo': 5602, 'drums': 5603, 'prefers': 5604, 'blondes': 5605, 'sorted': 5606, 'blacklisted': 5607, 'cooperative': 5608, 'interrupted': 5609, 'cellmate': 5610, 'traumatized': 5611, 'ties': 5612, 'races': 5613, 'overtime': 5614, 'reddened': 5615, 'provide': 5616, 'shade': 5617, 'resting': 5618, 'coffees': 5619, 'vegemite': 5620, 'concerns': 5621, 'teams': 5622, 'ballots': 5623, 'turns': 5624, 'ourselves': 5625, 'estimate': 5626, 'rowboat': 5627, 'among': 5628, 'strangers': 5629, 'paradise': 5630, 'achievement': 5631, 'losses': 5632, 'dragons': 5633, 'brunch': 5634, 'forks': 5635, 'luggage': 5636, 'airport': 5637, 'accompanied': 5638, 'addressing': 5639, 'swing': 5640, 'babe': 5641, 'limping': 5642, 'neptune': 5643, 'duped': 5644, 'irresistible': 5645, 'zebras': 5646, 'stripes': 5647, 'amputation': 5648, 'spying': 5649, 'berlin': 5650, 'germany': 5651, 'slippers': 5652, 'version': 5653, 'backstage': 5654, 'extend': 5655, 'folks': 5656, 'colonize': 5657, 'clarify': 5658, 'buck': 5659, 'loving': 5660, 'context': 5661, 'damascus': 5662, 'syria': 5663, 'whiskey': 5664, 'ladder': 5665, 'bagpipes': 5666, 'pretzels': 5667, 'kimono': 5668, 'dolphins': 5669, 'bump': 5670, 'exert': 5671, 'spoil': 5672, 'dublin': 5673, 'ireland': 5674, 'detail': 5675, 'fears': 5676, 'frisked': 5677, 'exact': 5678, 'clumsiness': 5679, 'extension': 5680, 'feedback': 5681, 'differences': 5682, 'bedding': 5683, 'scrub': 5684, 'vines': 5685, 'hatred': 5686, 'aimed': 5687, 'begged': 5688, 'bent': 5689, 'rescue': 5690, 'counted': 5691, 'clipped': 5692, 'geneva': 5693, 'hardware': 5694, 'devoured': 5695, 'emptied': 5696, 'dander': 5697, 'doctorate': 5698, 'income': 5699, 'accent': 5700, 'nimble': 5701, 'harsh': 5702, 'unsung': 5703, 'energy': 5704, 'diving': 5705, 'savage': 5706, 'sadly': 5707, 'willing': 5708, 'leaned': 5709, 'steaks': 5710, 'pressed': 5711, 'sketched': 5712, 'ligament': 5713, 'cell': 5714, 'busboy': 5715, 'influence': 5716, 'offered': 5717, 'clown': 5718, 'unknown': 5719, 'amazes': 5720, 'sacred': 5721, 'huskies': 5722, 'basque': 5723, 'malice': 5724, 'ashtray': 5725, 'letters': 5726, 'daydreamed': 5727, 'badge': 5728, 'mussels': 5729, 'vomiting': 5730, 'dubbed': 5731, 'goodbyes': 5732, 'peanut': 5733, 'salary': 5734, 'slight': 5735, 'wooden': 5736, 'bottled': 5737, 'objections': 5738, 'statistics': 5739, 'twig': 5740, 'finger': 5741, 'procedure': 5742, 'district': 5743, 'fruits': 5744, 'diversity': 5745, 'optimism': 5746, 'flashlight': 5747, 'sunglasses': 5748, 'economics': 5749, 'mortgaged': 5750, 'blacked': 5751, 'fax': 5752, 'pleaded': 5753, 'pumped': 5754, 'lightning': 5755, 'thoughts': 5756, 'plot': 5757, 'afoot': 5758, 'shuffled': 5759, 'sincerely': 5760, 'skimmed': 5761, 'spent': 5762, 'topic': 5763, 'switched': 5764, 'tightened': 5765, 'react': 5766, 'tugged': 5767, 'tap': 5768, 'mp': 5769, 'watered': 5770, 'manhattan': 5771, 'corn': 5772, 'archaeologist': 5773, 'eighth': 5774, 'grader': 5775, 'attracted': 5776, 'depending': 5777, 'eager': 5778, 'fluent': 5779, 'folding': 5780, 'juggling': 5781, 'specialist': 5782, 'tattletale': 5783, 'sides': 5784, 'bind': 5785, 'meetings': 5786, 'amateur': 5787, 'bashful': 5788, 'vindicated': 5789, 'dignity': 5790, 'filling': 5791, 'spoken': 5792, 'regular': 5793, 'unreasonable': 5794, 'ketchup': 5795, 'stern': 5796, 'sprinkle': 5797, 'glows': 5798, 'tedious': 5799, 'grueling': 5800, 'warming': 5801, 'sham': 5802, 'giveaway': 5803, 'longish': 5804, 'scalp': 5805, 'thankless': 5806, 'greek': 5807, 'equity': 5808, 'courtesy': 5809, 'classroom': 5810, 'pouring': 5811, 'satisfying': 5812, 'peninsula': 5813, 'entertained': 5814, 'kindness': 5815, 'beget': 5816, 'lincoln': 5817, 'lions': 5818, 'colorblind': 5819, 'blinding': 5820, 'program': 5821, 'lobby': 5822, 'misery': 5823, 'accomplished': 5824, 'sling': 5825, 'watering': 5826, 'grows': 5827, 'exploding': 5828, 'failing': 5829, 'frayed': 5830, 'rockets': 5831, 'newts': 5832, 'amphibians': 5833, 'expendable': 5834, 'forcing': 5835, 'oops': 5836, 'fees': 5837, 'marriage': 5838, 'phew': 5839, 'insert': 5840, 'mayo': 5841, 'ammunition': 5842, 'postman': 5843, 'ironed': 5844, 'hostile': 5845, 'skipping': 5846, 'picnic': 5847, 'belly': 5848, 'smog': 5849, 'acorns': 5850, 'clowning': 5851, 'bandit': 5852, 'becomes': 5853, 'narrows': 5854, 'blatant': 5855, 'herring': 5856, 'pseudoscience': 5857, 'mri': 5858, 'basket': 5859, 'bin': 5860, 'cupboard': 5861, 'nipped': 5862, 'mutual': 5863, 'dense': 5864, 'gang': 5865, 'heater': 5866, 'haunted': 5867, 'ablaze': 5868, 'lakes': 5869, 'bulb': 5870, 'saddened': 5871, 'bleak': 5872, 'flop': 5873, 'penalty': 5874, 'workable': 5875, 'trivial': 5876, 'results': 5877, 'overflowed': 5878, 'roads': 5879, 'rigged': 5880, 'benign': 5881, 'shifting': 5882, 'conditions': 5883, 'exceptions': 5884, 'threats': 5885, 'cakes': 5886, 'clinked': 5887, 'tenderly': 5888, 'sending': 5889, 'rotten': 5890, 'benefits': 5891, 'diamond': 5892, 'essay': 5893, 'stove': 5894, 'wand': 5895, 'blowing': 5896, 'shallow': 5897, 'edible': 5898, 'cramped': 5899, 'fragile': 5900, 'overboard': 5901, 'subjects': 5902, 'congratulated': 5903, 'craves': 5904, 'slanted': 5905, 'sox': 5906, 'bass': 5907, 'billionaire': 5908, 'businessman': 5909, 'firefighter': 5910, 'glassblower': 5911, 'sleepwalker': 5912, 'disrespectful': 5913, 'grilling': 5914, 'morgue': 5915, 'indispensable': 5916, 'philosophical': 5917, 'schizophrenic': 5918, 'centered': 5919, 'wiser': 5920, 'arithmetic': 5921, 'ceremonies': 5922, 'peeled': 5923, 'perused': 5924, 'reloaded': 5925, 'rinsed': 5926, 'fence': 5927, 'unbothered': 5928, 'fertilizer': 5929, 'thanked': 5930, 'competitor': 5931, 'shaven': 5932, 'electrocuted': 5933, 'straw': 5934, 'cellphone': 5935, 'healing': 5936, 'naturally': 5937, 'unemployment': 5938, 'reflects': 5939, 'canoed': 5940, 'downstream': 5941, 'workers': 5942, 'unsuccessful': 5943, 'catholics': 5944, 'recession': 5945, 'barbarians': 5946, 'evacuating': 5947, 'terrorists': 5948, 'bullets': 5949, 'planting': 5950, 'seeds': 5951, 'discussed': 5952, 'blindfolded': 5953, 'splendid': 5954, 'seagulls': 5955, 'involve': 5956, 'aiming': 5957, 'username': 5958, 'guards': 5959, 'meters': 5960, 'chainsaw': 5961, 'purse': 5962, 'entrance': 5963, 'washroom': 5964, 'pies': 5965, 'coaches': 5966, 'invented': 5967, 'gon': 5968, 'twinkle': 5969, 'workaholic': 5970, 'impress': 5971, 'bullseye': 5972, 'beautifully': 5973, 'unpredictable': 5974, 'drooling': 5975, 'africa': 5976, 'continent': 5977, 'ah': 5978, 'nanny': 5979, 'barcelona': 5980, 'spain': 5981, 'berries': 5982, 'brad': 5983, 'pitt': 5984, 'scissors': 5985, 'braille': 5986, 'communication': 5987, 'compasses': 5988, 'sentence': 5989, 'sucks': 5990, 'dishonor': 5991, 'caesar': 5992, 'transfer': 5993, 'lighter': 5994, 'anchovies': 5995, 'bean': 5996, 'geraniums': 5997}\n"
          ]
        }
      ],
      "source": [
        "print(eng_tokenizer.word_index)"
      ]
    },
    {
      "cell_type": "code",
      "execution_count": null,
      "id": "9130349a",
      "metadata": {
        "id": "9130349a",
        "outputId": "166dc2c7-8e25-4fd8-940a-a1d222f49269"
      },
      "outputs": [
        {
          "data": {
            "text/plain": [
              "[[33, 1], [33, 1], [33, 1], [33, 1], [961, 1]]"
            ]
          },
          "execution_count": 11,
          "metadata": {},
          "output_type": "execute_result"
        }
      ],
      "source": [
        "eng_text = eng_tokenizer.texts_to_sequences(lines_ef.eng)\n",
        "eng_text[:5]"
      ]
    },
    {
      "cell_type": "code",
      "execution_count": null,
      "id": "47011567",
      "metadata": {
        "id": "47011567",
        "outputId": "53190741-579b-4255-b694-e2a6fa03c06a"
      },
      "outputs": [
        {
          "name": "stdout",
          "output_type": "stream",
          "text": [
            "{'<sos>': 1, '<eos>': 2, '.': 3, 'je': 4, 'est': 5, '?': 6, 'vous': 7, 'tom': 8, 'a': 9, 'pas': 10, 'j': 11, 'il': 12, 'tu': 13, 'de': 14, 'le': 15, 'ne': 16, '!': 17, 'nous': 18, 'l': 19, 'ai': 20, 'c': 21, 'd': 22, 's': 23, 't': 24, 'un': 25, 'n': 26, 'ce': 27, 'suis': 28, 'la': 29, 'en': 30, 'que': 31, 'me': 32, 'tes': 33, 'une': 34, 'es': 35, 'les': 36, 'm': 37, 'e': 38, 'te': 39, 'moi': 40, ',': 41, 'y': 42, 'elle': 43, 'sont': 44, 'tait': 45, 'ils': 46, 'fait': 47, 'qui': 48, 'tout': 49, 'as': 50, 'sommes': 51, 'r': 52, 're': 53, 'mon': 54, 'avez': 55, 'des': 56, 'qu': 57, 'elles': 58, 'tr': 59, 'peux': 60, 'faire': 61, 'aime': 62, 'pr': 63, 'ici': 64, 'toi': 65, 'on': 66, 'cela': 67, 'bien': 68, 'se': 69, 'avons': 70, 'du': 71, 'tre': 72, 'besoin': 73, 'veux': 74, 'air': 75, 'votre': 76, 'pour': 77, 'personne': 78, 'o': 79, 'pourquoi': 80, 'ton': 81, 'arr': 82, 'ma': 83, 'ont': 84, 'comment': 85, 'va': 86, 'aller': 87, 'faut': 88, 'tous': 89, 'tais': 90, 'si': 91, 'maintenant': 92, 'au': 93, 'peut': 94, 'fais': 95, 'avec': 96, 'dans': 97, 'monde': 98, 'cette': 99, 'trop': 100, 'bon': 101, 'plus': 102, 'sais': 103, 'train': 104, 'vraiment': 105, 'lui': 106, 'puis': 107, 'mes': 108, 'mal': 109, 'vais': 110, 'encore': 111, 'dois': 112, 'dit': 113, 'maison': 114, 'sur': 115, 'v': 116, 'toutes': 117, 'ceci': 118, 'adore': 119, 'jamais': 120, 'ta': 121, 'pla': 122, 'voiture': 123, 'vu': 124, 'g': 125, 'soyez': 126, 'partir': 127, 'comme': 128, 'occup': 129, 'p': 130, 'sens': 131, 'quelle': 132, 'beaucoup': 133, 'pouvez': 134, 'temps': 135, 'rien': 136, 'aider': 137, 'quel': 138, 'deux': 139, 'son': 140, 'sois': 141, 'quoi': 142, 'chez': 143, 'faites': 144, 'pense': 145, 'fort': 146, 'voir': 147, 'ais': 148, 'peu': 149, 'bonne': 150, 'teste': 151, 'chien': 152, 'fran': 153, 'juste': 154, 'porte': 155, 'toujours': 156, 'laisse': 157, 'viens': 158, 'travail': 159, 'chose': 160, 'appr': 161, 'argent': 162, 'f': 163, 'aujourd': 164, 'hui': 165, 'aide': 166, 'perdu': 167, 'avait': 168, 'par': 169, 'fatigu': 170, 'avoir': 171, 'semble': 172, 'prie': 173, 'id': 174, 'seul': 175, 'quelque': 176, 'pouvons': 177, 'parler': 178, 'heureux': 179, 'assez': 180, 'livre': 181, 'eu': 182, 'b': 183, 'tellement': 184, 'nouveau': 185, 'quelqu': 186, 'laissez': 187, 'dire': 188, 'confiance': 189, 'prends': 190, 'mieux': 191, 'dis': 192, 'quand': 193, 'pris': 194, 'regarde': 195, 'marie': 196, 'notre': 197, 'allez': 198, 'reste': 199, 'tez': 200, 'coup': 201, 'all': 202, 'connais': 203, 'peur': 204, 'raison': 205, 'manger': 206, 'sol': 207, 'ci': 208, 'allons': 209, 'vos': 210, 'aussi': 211, 'accord': 212, 'heure': 213, 'prenez': 214, 'trouv': 215, 'bless': 216, 'grand': 217, 'probl': 218, 'fut': 219, 'vie': 220, 'pass': 221, 'avais': 222, 'vite': 223, 'agit': 224, 'arrive': 225, 'ter': 226, 'donne': 227, 'parle': 228, 'eau': 229, 'non': 230, 'esp': 231, 'sait': 232, 'termin': 233, 'lit': 234, 'et': 235, 'faim': 236, 'arriv': 237, 'tard': 238, 'chambre': 239, 'restez': 240, 'gar': 241, 'devrais': 242, 'mort': 243, 'h': 244, 'simplement': 245, 'merci': 246, 'prendre': 247, 'soit': 248, 'vrai': 249, 'malade': 250, 'sans': 251, 'veuillez': 252, 'homme': 253, 've': 254, 'venir': 255, 'sa': 256, 'amis': 257, 'entendu': 258, 'aimes': 259, 'passe': 260, 'essayer': 261, 'ces': 262, 'autre': 263, 'mauvais': 264, 'cie': 265, 'cl': 266, 'enfants': 267, 'pourrait': 268, 'veut': 269, 'fini': 270, 'chance': 271, 'yeux': 272, 'col': 273, 'ge': 274, 'mary': 275, 'gros': 276, 'mis': 277, 'travaille': 278, 'chanter': 279, 'devons': 280, 'voici': 281, 'tions': 282, 'boulot': 283, 'retard': 284, 'aux': 285, 'main': 286, 'rent': 287, 'travailler': 288, 'int': 289, 'vas': 290, 'go': 291, 'froid': 292, 'attendre': 293, 'cole': 294, 'mange': 295, 'curit': 296, 'regardez': 297, 'nager': 298, 'parti': 299, 'laiss': 300, 'dehors': 301, 'crois': 302, 'vois': 303, 'cass': 304, 'ami': 305, 'trouve': 306, 'venu': 307, 'appel': 308, 'presque': 309, 'pi': 310, 'achet': 311, 'ch': 312, 'fois': 313, 'essaie': 314, 'chercher': 315, 'bizarre': 316, 'mourir': 317, 'heureuse': 318, 'bi': 319, 'demain': 320, 'calme': 321, 'vue': 322, 'rester': 323, 'lire': 324, 'venez': 325, 'triste': 326, 'journ': 327, 'voulez': 328, 'gagn': 329, 'aucun': 330, 'dites': 331, 'attention': 332, 'veill': 333, 'enfant': 334, 'donn': 335, 'femme': 336, 'bient': 337, 'ur': 338, 'vient': 339, 'che': 340, 'verre': 341, 'vieux': 342, 'seule': 343, 'dur': 344, 'facile': 345, 'aimerais': 346, 'choix': 347, 'taient': 348, 'plut': 349, 'essay': 350, 'heures': 351, 'petit': 352, 'doit': 353, 'dessus': 354, 'chat': 355, 'fille': 356, 'peuvent': 357, 'combien': 358, 'rieur': 359, 'fou': 360, 'serai': 361, 'cher': 362, 'entrer': 363, 'tort': 364, 'devez': 365, 'ses': 366, 'grande': 367, 'senti': 368, 'th': 369, 'mang': 370, 'jeuner': 371, 'bas': 372, 'donnez': 373, 'content': 374, 'difficile': 375, 'nom': 376, 'dr': 377, 'chapeau': 378, 'tiez': 379, 'lo': 380, 'place': 381, 'fils': 382, 'res': 383, 'caf': 384, 'aucune': 385, 'idiot': 386, 'mari': 387, 'joue': 388, 'souvent': 389, 'sera': 390, 'rencontr': 391, 'commenc': 392, 'pourrais': 393, 'invit': 394, 'faute': 395, 'tranquille': 396, 'tomber': 397, 'garde': 398, 'leur': 399, 'oubli': 400, 'dormir': 401, 'vis': 402, 'sortir': 403, 'voulons': 404, 'cheveux': 405, 'aimez': 406, 'importe': 407, 'plan': 408, 'mauvaise': 409, 'dispose': 410, 'rit': 411, 'montre': 412, 'assis': 413, 'quiconque': 414, 'vin': 415, 'aim': 416, 'bus': 417, 'pleurer': 418, 'gagner': 419, 'voulais': 420, 'ponse': 421, 'ons': 422, 'crit': 423, 'savez': 424, 'cet': 425, 'attends': 426, 'partie': 427, 'sors': 428, 'chaud': 429, 'savais': 430, 'compte': 431, 'faisons': 432, 'entendre': 433, 'ou': 434, 'point': 435, 'boston': 436, 'demande': 437, 'appelle': 438, 'ferme': 439, 'courir': 440, 'nuit': 441, 'davantage': 442, 'arme': 443, 'bois': 444, 'jour': 445, 'tir': 446, 'parl': 447, 'nourriture': 448, 'marcher': 449, 'payer': 450, 'cr': 451, 'am': 452, 'rapidement': 453, 'manque': 454, 'trouver': 455, 'marche': 456, 'entre': 457, 'court': 458, 'mets': 459, 'rieux': 460, 'trois': 461, 'chemin': 462, 'toute': 463, 'histoire': 464, 'feu': 465, 'br': 466, 'regard': 467, 'devenu': 468, 'amusant': 469, 'ts': 470, 'jouer': 471, 'prix': 472, 'debout': 473, 'gentil': 474, 'fi': 475, 'amour': 476, 'ville': 477, 'asseoir': 478, 'jeune': 479, 'fr': 480, 'tomb': 481, 'blague': 482, 'libre': 483, 'voil': 484, 'chang': 485, 'bureau': 486, 'phone': 487, 'sac': 488, 'u': 489, 'chanson': 490, 'musique': 491, 'part': 492, 'essayez': 493, 'irai': 494, 'rendre': 495, 'ment': 496, 'apr': 497, 'sent': 498, 'arriver': 499, 'demand': 500, 'danser': 501, 'savoir': 502, 'devrions': 503, 'ensemble': 504, 'pars': 505, 'plait': 506, 'nouvelle': 507, 'plein': 508, 'perdre': 509, 'lait': 510, 'parer': 511, 'celui': 512, 'bras': 513, 'riche': 514, 'amus': 515, 'galement': 516, 'contrari': 517, 'na': 518, 'moment': 519, 'livres': 520, 'chaussures': 521, 'vol': 522, 'espoir': 523, 'continu': 524, 'attendez': 525, 'ob': 526, 'marrant': 527, 'chiens': 528, 'march': 529, 'prudent': 530, 'stylo': 531, 'vit': 532, 'photo': 533, 'ferai': 534, 'erreur': 535, 'choses': 536, 'soir': 537, 'famille': 538, 'co': 539, 'compris': 540, 'tiens': 541, 'beau': 542, 'belle': 543, 'rouge': 544, 'rentrer': 545, 'lev': 546, 'vieille': 547, 'meilleur': 548, 'teau': 549, 'continuez': 550, 'sortez': 551, 'parfait': 552, 'avance': 553, 'eux': 554, 'sauv': 555, 'commen': 556, 'bonnes': 557, 'vide': 558, 'vont': 559, 'boire': 560, 'ner': 561, 'sormais': 562, 'menti': 563, 'continue': 564, 'carte': 565, 'prudente': 566, 'parlez': 567, 'lis': 568, 'inqui': 569, 'ferm': 570, 'tour': 571, 'rire': 572, 'manqu': 573, 'cheval': 574, 'diff': 575, 'voyage': 576, 'mains': 577, 'hier': 578, 'rest': 579, 'conduire': 580, 'stupide': 581, 'dormi': 582, 'envoy': 583, 'ouvert': 584, 'ainsi': 585, 'envie': 586, 'coute': 587, 'decin': 588, 'filles': 589, 'regarder': 590, 'crire': 591, 'lu': 592, 'pay': 593, 'loin': 594, 'mien': 595, 'ussi': 596, 'plaisir': 597, 'sympa': 598, 'ferais': 599, 'fit': 600, 'semaine': 601, 'bateau': 602, 'jusqu': 603, 'mettez': 604, 'super': 605, 'souviens': 606, 'danger': 607, 'contente': 608, 'amie': 609, 'minute': 610, 'veulent': 611, 'quipe': 612, 'reviens': 613, 'ri': 614, 'premier': 615, 'entends': 616, 'poisson': 617, 'service': 618, 'conna': 619, 'courant': 620, 'effray': 621, 'appeler': 622, 'fen': 623, 'fier': 624, 'nial': 625, 'cuisine': 626, 'chats': 627, 'secret': 628, 'embrass': 629, 'affaire': 630, 'manteau': 631, 'gens': 632, 'surpris': 633, 'question': 634, 'honn': 635, 'pied': 636, 'savons': 637, 'aid': 638, 'neuf': 639, 'venue': 640, 'derri': 641, 'type': 642, 'liste': 643, 'tudier': 644, 'incroyable': 645, 'aise': 646, 'mot': 647, 'utiliser': 648, 'pomme': 649, 'chemise': 650, 'route': 651, 'avis': 652, 'timide': 653, 'chante': 654, 'faux': 655, 'seconde': 656, 'fl': 657, 'professeur': 658, 'seulement': 659, 'table': 660, 'endroit': 661, 'forme': 662, 'oui': 663, 'sommeil': 664, 'retour': 665, 'bo': 666, 'attrap': 667, 'nez': 668, 'ceux': 669, 'rend': 670, 'rer': 671, 'alors': 672, 'ans': 673, 'possible': 674, 'vers': 675, 'signe': 676, 'touch': 677, 'grosse': 678, 'folle': 679, 'compter': 680, 'nouvelles': 681, 'lentement': 682, 'aimons': 683, 'demander': 684, 'pieds': 685, 'avions': 686, 'peine': 687, 'gles': 688, 'amies': 689, 'voudrais': 690, 'film': 691, 'pu': 692, 'comprends': 693, 'avant': 694, 'tenez': 695, 'ouvre': 696, 'haut': 697, 'propre': 698, 'rends': 699, 'entra': 700, 'soif': 701, 'thomas': 702, 'pouvais': 703, 'note': 704, 'but': 705, 'compl': 706, 'tres': 707, 'gardez': 708, 'fonctionne': 709, 'emploi': 710, 'horrible': 711, 'simple': 712, 'ira': 713, 'satisfait': 714, 'intelligent': 715, 'tudie': 716, 'changer': 717, 'trange': 718, 'rendu': 719, 'nerveux': 720, 'pommes': 721, 'imm': 722, 'diatement': 723, 'neige': 724, 'nos': 725, 'quelques': 726, 'devrait': 727, 'bicyclette': 728, 'celle': 729, 'rement': 730, 'message': 731, 'cours': 732, 'terre': 733, 'hors': 734, 'fermez': 735, 'parole': 736, 'sale': 737, 'mienne': 738, 'fil': 739, 'parviens': 740, 'rencontrer': 741, 'taxi': 742, 'patron': 743, 'dieu': 744, 'anglais': 745, 'sous': 746, 'tement': 747, 'douche': 748, 'connaissez': 749, 'vision': 750, 'commence': 751, 'tendu': 752, 'fous': 753, 'rapide': 754, 'retraite': 755, 'petite': 756, 'idiote': 757, 'fus': 758, 'normal': 759, 'important': 760, 'silencieux': 761, 'sp': 762, 'commencer': 763, 'appartient': 764, 'faisait': 765, 'entr': 766, 'pizza': 767, 'lumi': 768, 'bruit': 769, 'couteau': 770, 'portes': 771, 'aurais': 772, 'suffit': 773, 'essaye': 774, 'ach': 775, 'mani': 776, 'aidez': 777, 'ouvrez': 778, 'mignon': 779, 'cris': 780, 'oublie': 781, 'abandonn': 782, 'mentir': 783, 'cuisiner': 784, 'command': 785, 'chant': 786, 'donner': 787, 'curieux': 788, 'moins': 789, 'viande': 790, 'bons': 791, 'tant': 792, 'fis': 793, 'celles': 794, 'meilleure': 795, 'cid': 796, 'parents': 797, 'lunettes': 798, 'bonjour': 799, 'oubliez': 800, 'nerv': 801, 'arm': 802, 'apporte': 803, 'seuls': 804, 'sentis': 805, 'taille': 806, 'guerre': 807, 'vir': 808, 'habite': 809, 'honte': 810, 'amoureux': 811, 'verrouill': 812, 'utile': 813, 'sourire': 814, 'disparu': 815, 'vent': 816, 'bu': 817, 'poss': 818, 'impressionn': 819, 'lequel': 820, 'embrasser': 821, 'chaise': 822, 'gentille': 823, 'paresseux': 824, 'morte': 825, 'attendu': 826, 'tromp': 827, 'rendez': 828, 'souci': 829, 'rappelle': 830, 'sujet': 831, 'avocat': 832, 'devriez': 833, 'battre': 834, 'morts': 835, 'prot': 836, 'jeu': 837, 'jours': 838, 'appelez': 839, 'touche': 840, 'sentez': 841, 'dedans': 842, 'passer': 843, 'seules': 844, 'hommes': 845, 'ros': 846, 'menteur': 847, 'loup': 848, 'heureuses': 849, 'mit': 850, 'gagne': 851, 'choqu': 852, 'loi': 853, 'allum': 854, 'ro': 855, 'reposer': 856, 'droit': 857, 'horreur': 858, 'font': 859, 'flics': 860, 'sentait': 861, 'chef': 862, 'expliquer': 863, 'tudiant': 864, 'voulait': 865, 'tasse': 866, 'pondu': 867, 'lettre': 868, 'suffisamment': 869, 'magasin': 870, 'vraie': 871, 'sinc': 872, 'ext': 873, 'pleur': 874, 'demandez': 875, 'attrape': 876, 'chouette': 877, 'faible': 878, 'frapp': 879, 'sombre': 880, 'arri': 881, 'patient': 882, 'sentie': 883, 'quitt': 884, 'prim': 885, 'excit': 886, 'risque': 887, 'pleuvoir': 888, 'cadeau': 889, 'fumer': 890, 'papier': 891, 'bain': 892, 'dingue': 893, 'excuses': 894, 'noir': 895, 'suite': 896, 'souhaite': 897, 'acheter': 898, 'prenons': 899, 'voix': 900, 'appareil': 901, 'trahi': 902, 'soleil': 903, 'dangereux': 904, 'garder': 905, 'enseignant': 906, 'ouverte': 907, 'bouge': 908, 'mangez': 909, 'tent': 910, 'mouill': 911, 'montrez': 912, 'partez': 913, 'sortie': 914, 'certain': 915, 'assieds': 916, 'magnifique': 917, 'vus': 918, 'serais': 919, 'prudents': 920, 'prudentes': 921, 'soucie': 922, 'range': 923, 'liquide': 924, 'ufs': 925, 'perplexe': 926, 'gal': 927, 'lundi': 928, 'dors': 929, 'agir': 930, 'buvez': 931, 'impliqu': 932, 'paix': 933, 'essayons': 934, 'mangent': 935, 'cesse': 936, 'mesure': 937, 'oiseau': 938, 'obtenu': 939, 'sembles': 940, 'semblez': 941, 'contre': 942, 'press': 943, 'travers': 944, 'rarement': 945, 'croire': 946, 'coutez': 947, 'ves': 948, 'asseyez': 949, 'voler': 950, 'nu': 951, 'dure': 952, 'trente': 953, 'soin': 954, 'confectionn': 955, 'produit': 956, 'partons': 957, 'droite': 958, 'dix': 959, 'viendra': 960, 'rang': 961, 'bris': 962, 'suivi': 963, 'bre': 964, 'profond': 965, 'mont': 966, 'para': 967, 'cong': 968, 'venus': 969, 'jaloux': 970, 'continuait': 971, 'gars': 972, 'responsable': 973, 'dont': 974, 'autres': 975, 'sant': 976, 'monte': 977, 'fantastique': 978, 'rentre': 979, 'conduis': 980, 'courageux': 981, 'savait': 982, 'rentr': 983, 'tourne': 984, 'saoul': 985, 'bouger': 986, 'doute': 987, 'tien': 988, 'maman': 989, 'endormi': 990, 'mettre': 991, 'lieu': 992, 'contr': 993, 'attentivement': 994, 'adorent': 995, 'aiment': 996, 'affaires': 997, 'cess': 998, 'vre': 999, 'lever': 1000, 'pleut': 1001, 'vaut': 1002, 'contact': 1003, 'arbre': 1004, 'vacances': 1005, 'mer': 1006, 'ger': 1007, 'laisser': 1008, 'ress': 1009, 'montrer': 1010, 'longtemps': 1011, 'enfin': 1012, 'forc': 1013, 'salut': 1014, 'grave': 1015, 'sorti': 1016, 'suivez': 1017, 'ivre': 1018, 'voyez': 1019, 'sang': 1020, 'partis': 1021, 'engag': 1022, 'ing': 1023, 'dernier': 1024, 'forte': 1025, 'mec': 1026, 'golf': 1027, 'parie': 1028, 'malchanceux': 1029, 'instant': 1030, 'fera': 1031, 'actuellement': 1032, 'ensuite': 1033, 'mensonge': 1034, 'coupable': 1035, 'gard': 1036, 'corde': 1037, 'avion': 1038, 'port': 1039, 'dirai': 1040, 'pourvu': 1041, 'cloche': 1042, 'marre': 1043, 'num': 1044, 'coupe': 1045, 'pleine': 1046, 'retourne': 1047, 'apport': 1048, 'ouvrir': 1049, 'cravate': 1050, 'ridicule': 1051, 'classe': 1052, 'partout': 1053, 'chaque': 1054, 'crayon': 1055, 'tranger': 1056, 'cessaire': 1057, 'disposons': 1058, 'voyager': 1059, 'pantalon': 1060, 'baisse': 1061, 'emport': 1062, 'souris': 1063, 'entrez': 1064, 'malheureux': 1065, 'veille': 1066, 'pare': 1067, 'devant': 1068, 'able': 1069, 'chou': 1070, 'cessez': 1071, 'aille': 1072, 'remarqu': 1073, 'vues': 1074, 'aveugle': 1075, 'chanceux': 1076, 'fonctionn': 1077, 'mais': 1078, 'emporter': 1079, 'bourr': 1080, 'mille': 1081, 'refus': 1082, 'tient': 1083, 'tage': 1084, 'pays': 1085, 'journal': 1086, 'pause': 1087, 'travaill': 1088, 'abandonner': 1089, 'genre': 1090, 'cru': 1091, 'motiv': 1092, 'tourn': 1093, 'inquiet': 1094, 'six': 1095, 'excus': 1096, 'jolie': 1097, 'venues': 1098, 'dort': 1099, 'assit': 1100, 'soulag': 1101, 'pensais': 1102, 'cision': 1103, 'urgence': 1104, 'jambes': 1105, 'fa': 1106, 'fiche': 1107, 'promis': 1108, 'mignonne': 1109, 'refuse': 1110, 'souri': 1111, 'clair': 1112, 'pleure': 1113, 'mens': 1114, 'cri': 1115, 'terai': 1116, 'vivant': 1117, 'bord': 1118, 'apportez': 1119, 'pauvre': 1120, 'suppose': 1121, 'hais': 1122, 'conduit': 1123, 'raisonnable': 1124, 'licenci': 1125, 'furieux': 1126, 'amoureuse': 1127, 'plaisante': 1128, 'exact': 1129, 'missionner': 1130, 'boisson': 1131, 'po': 1132, 'donna': 1133, 'aimait': 1134, 'chatte': 1135, 'preuve': 1136, 'nage': 1137, 'sesp': 1138, 'fin': 1139, 'lib': 1140, 'jeunes': 1141, 'ver': 1142, 'talent': 1143, 'mortes': 1144, 'emm': 1145, 'addition': 1146, 'poids': 1147, 'moindre': 1148, 'fallait': 1149, 'convaincu': 1150, 'ordre': 1151, 'coffre': 1152, 'ennuyeux': 1153, 'semblait': 1154, 'intention': 1155, 'an': 1156, 'no': 1157, 'soyons': 1158, 'visage': 1159, 'chapper': 1160, 'dents': 1161, 'attraper': 1162, 'enti': 1163, 'vivent': 1164, 'visite': 1165, 'plu': 1166, 'unique': 1167, 'gage': 1168, 'camp': 1169, 'tenu': 1170, 'faits': 1171, 'descends': 1172, 'amuse': 1173, 'i': 1174, 'utilise': 1175, 'paie': 1176, 'formidable': 1177, 'ayez': 1178, 'aie': 1179, 'excuse': 1180, 'coucher': 1181, 'attendrai': 1182, 'vot': 1183, 'merveilleux': 1184, 'derni': 1185, 'ignore': 1186, 'ler': 1187, 'terrible': 1188, 'proc': 1189, 'notes': 1190, 'reux': 1191, 'discuter': 1192, 'change': 1193, 'jetez': 1194, 'lav': 1195, 'nie': 1196, 'libres': 1197, 'connaissons': 1198, 'pourrions': 1199, 'rite': 1200, 'cancer': 1201, 'lisez': 1202, 'continuer': 1203, 'ann': 1204, 'savent': 1205, 'fleurs': 1206, 'football': 1207, 'rhume': 1208, 'manquer': 1209, 'surprise': 1210, 'silence': 1211, 'suffisant': 1212, 'serons': 1213, 'balle': 1214, 'changement': 1215, 'choisi': 1216, 'continua': 1217, 'eh': 1218, 'habill': 1219, 'dirais': 1220, 'appris': 1221, 'pluie': 1222, 'ennuis': 1223, 'feriez': 1224, 'tements': 1225, 'robe': 1226, 'sorte': 1227, 'cool': 1228, 'ra': 1229, 'montez': 1230, 'quitte': 1231, 'fume': 1232, 'verrouille': 1233, 'passez': 1234, 'agr': 1235, 'crivez': 1236, 'oiseaux': 1237, 'choisis': 1238, 'langue': 1239, 'coinc': 1240, 'correct': 1241, 'chaude': 1242, 'rieuse': 1243, 'sauter': 1244, 'sentais': 1245, 'cu': 1246, 'libataire': 1247, 'boit': 1248, 'rat': 1249, 'cingl': 1250, 'jette': 1251, 'devint': 1252, 'pain': 1253, 'fruits': 1254, 'confus': 1255, 'pondre': 1256, 'long': 1257, 'mauvaises': 1258, 'largu': 1259, 'ennuie': 1260, 'grossier': 1261, 'courses': 1262, 'chir': 1263, 'douleur': 1264, 'hurler': 1265, 'bl': 1266, 'faveur': 1267, 'horloge': 1268, 'coin': 1269, 'pouvoir': 1270, 'prendrai': 1271, 'vivre': 1272, 'crier': 1273, 'aviez': 1274, 'menteuse': 1275, 'pourriez': 1276, 'parlons': 1277, 'truc': 1278, 'plaisanter': 1279, 'parfaite': 1280, 'serviette': 1281, 'permettre': 1282, 'ordinateur': 1283, 'enseigner': 1284, 'exp': 1285, 'prit': 1286, 'ciel': 1287, 'embarrass': 1288, 'tableau': 1289, 'file': 1290, 'commencez': 1291, 'cas': 1292, 'casse': 1293, 'pue': 1294, 'jou': 1295, 'phon': 1296, 'repos': 1297, 'revenu': 1298, 'donc': 1299, 'rez': 1300, 'humeur': 1301, 'huit': 1302, 'assise': 1303, 'miens': 1304, 'attend': 1305, 'devoir': 1306, 'pardonne': 1307, 'alit': 1308, 'sourit': 1309, 'grands': 1310, 'dingues': 1311, 'inutile': 1312, 'prise': 1313, 'regrette': 1314, 'autour': 1315, 'pose': 1316, 'chis': 1317, 'pensez': 1318, 'penses': 1319, 'lent': 1320, 'rs': 1321, 'uf': 1322, 'emb': 1323, 'tique': 1324, 'preuves': 1325, 'perds': 1326, 'piano': 1327, 'enseigne': 1328, 'drogu': 1329, 'indign': 1330, 'rifi': 1331, 'injuste': 1332, 'blanc': 1333, 'concentr': 1334, 'poli': 1335, 'japonais': 1336, 'poste': 1337, 'fallu': 1338, 'douloureux': 1339, 'examen': 1340, 'dos': 1341, 'revenir': 1342, 'animaux': 1343, 'pens': 1344, 'attaqu': 1345, 'essence': 1346, 'repas': 1347, 'radio': 1348, 'cis': 1349, 'portait': 1350, 'police': 1351, 'garer': 1352, 'banque': 1353, 'avaient': 1354, 'destin': 1355, 'croit': 1356, 'sacr': 1357, 'sauver': 1358, 'parles': 1359, 'parfaitement': 1360, 'froide': 1361, 'jouons': 1362, 'montr': 1363, 'salle': 1364, 'doigts': 1365, 'exemple': 1366, 'longue': 1367, 'effront': 1368, 'adresse': 1369, 'tire': 1370, 'doucement': 1371, 'lin': 1372, 'bienvenue': 1373, 'attrapez': 1374, 'revenez': 1375, 'cinq': 1376, 'skier': 1377, 'abandonne': 1378, 'courageuse': 1379, 'chanceuse': 1380, 'face': 1381, 'malin': 1382, 'exercice': 1383, 'devenue': 1384, 'cout': 1385, 'glace': 1386, 'paniqu': 1387, 'couru': 1388, 'conduirai': 1389, 'crev': 1390, 'proximit': 1391, 'mordu': 1392, 'souffle': 1393, 'perdus': 1394, 'arrives': 1395, 'soupe': 1396, 'jalouse': 1397, 'nerveuse': 1398, 'ste': 1399, 'gle': 1400, 'mercis': 1401, 'rouges': 1402, 'manques': 1403, 'agissait': 1404, 'chapp': 1405, 'travaillez': 1406, 'objectif': 1407, 'joindre': 1408, 'failli': 1409, 'facilement': 1410, 'sucre': 1411, 'gel': 1412, 'compliqu': 1413, 'jambe': 1414, 'or': 1415, 'stup': 1416, 'tendre': 1417, 'vivons': 1418, 'choc': 1419, 'mots': 1420, 'mentez': 1421, 'cercle': 1422, 'acquisition': 1423, 'exag': 1424, 'fum': 1425, 'volontaire': 1426, 'tuer': 1427, 'artiste': 1428, 'sucr': 1429, 'voit': 1430, 'folles': 1431, 'ligne': 1432, 'surveille': 1433, 'reproche': 1434, 'promenade': 1435, 'trahie': 1436, 'biscuits': 1437, 'convient': 1438, 'occuper': 1439, 'bouche': 1440, 'cartes': 1441, 'esprit': 1442, 'nier': 1443, 'attendais': 1444, 'tennis': 1445, 'rience': 1446, 'frais': 1447, 'lac': 1448, 'ches': 1449, 'posez': 1450, 'ressemble': 1451, 'escaliers': 1452, 'tenir': 1453, 'portez': 1454, 'menac': 1455, 'guitare': 1456, 'camion': 1457, 'bougies': 1458, 'gare': 1459, 'serez': 1460, 'oh': 1461, 'pousse': 1462, 'prochaine': 1463, 'courage': 1464, 'joli': 1465, 'grossi': 1466, 'paierai': 1467, 'chauve': 1468, 'tendue': 1469, 'perdue': 1470, 'pondez': 1471, 'brave': 1472, 'allong': 1473, 'approche': 1474, 'miennes': 1475, 'satisfaits': 1476, 'rifie': 1477, 'ruin': 1478, 'resterai': 1479, 'bleu': 1480, 'tons': 1481, 'vote': 1482, 'commentaire': 1483, 'accept': 1484, 'grandes': 1485, 'arrivez': 1486, 'battu': 1487, 'fie': 1488, 'ni': 1489, 'prison': 1490, 'neiger': 1491, 'couvert': 1492, 'sert': 1493, 'printemps': 1494, 'monter': 1495, 'teins': 1496, 'clat': 1497, 'oublier': 1498, 'remettez': 1499, 'ambitieux': 1500, 'eut': 1501, 'romantique': 1502, 'ador': 1503, 'papa': 1504, 'fiable': 1505, 'abord': 1506, 'apprends': 1507, 'leva': 1508, 'connaissent': 1509, 'ind': 1510, 'renvoy': 1511, 'fiez': 1512, 'jug': 1513, 'encre': 1514, 'sales': 1515, 'bananes': 1516, 'cesser': 1517, 'taire': 1518, 'assur': 1519, 'prend': 1520, 'sonne': 1521, 'arrivent': 1522, 'mangea': 1523, 'sentit': 1524, 'laquelle': 1525, 'travailles': 1526, 'herbe': 1527, 'retournez': 1528, 'fermer': 1529, 'ignorer': 1530, 'commande': 1531, 'nul': 1532, 'travaillent': 1533, 'tudiants': 1534, 'seras': 1535, 'ressant': 1536, 'charg': 1537, 'allumette': 1538, 'tel': 1539, 'ennemi': 1540, 'longs': 1541, 'glise': 1542, 'sort': 1543, 'oreilles': 1544, 'parapluie': 1545, 'manche': 1546, 'papiers': 1547, 'vendre': 1548, 'permis': 1549, 'cient': 1550, 'sport': 1551, 'bri': 1552, 'monnaie': 1553, 'pouvait': 1554, 'furent': 1555, 'respect': 1556, 'tends': 1557, 'revoir': 1558, 'bougez': 1559, 'verrouillez': 1560, 'veillez': 1561, 'lave': 1562, 'perd': 1563, 'trouvez': 1564, 'sourd': 1565, 'disponible': 1566, 'pouse': 1567, 'prouve': 1568, 'marr': 1569, 'connaissance': 1570, 'mise': 1571, 'viendrai': 1572, 'aiderai': 1573, 'fauch': 1574, 'occupe': 1575, 'imb': 1576, 'trompe': 1577, 'ponds': 1578, 'satisfaite': 1579, 'satisfaites': 1580, 'fonctionnera': 1581, 'tranquilles': 1582, 'regarda': 1583, 'ferons': 1584, 'nettoie': 1585, 'nombre': 1586, 'crie': 1587, 'rifier': 1588, 'excuser': 1589, 'pari': 1590, 'curieuse': 1591, 'gime': 1592, 'tombe': 1593, 'norme': 1594, 'manquez': 1595, 'dommage': 1596, 'sign': 1597, 'enseignante': 1598, 'moiti': 1599, 'souffre': 1600, 'excitant': 1601, 'moque': 1602, 'risques': 1603, 'endormie': 1604, 'reviendrai': 1605, 'innocent': 1606, 'ravi': 1607, 'serait': 1608, 'rumeur': 1609, 'ritable': 1610, 'cial': 1611, 'effrayant': 1612, 'tirer': 1613, 'jeun': 1614, 'plant': 1615, 'danse': 1616, 'adorable': 1617, 'piti': 1618, 'refuser': 1619, 'armes': 1620, 'faisais': 1621, 'propri': 1622, 'fuite': 1623, 'restons': 1624, 'perdit': 1625, 'chacun': 1626, 'importance': 1627, 'match': 1628, 'prouver': 1629, 'pourvue': 1630, 'araign': 1631, 'urs': 1632, 'aurai': 1633, 'habitu': 1634, 'probable': 1635, 'possibilit': 1636, 'couter': 1637, 'nombreux': 1638, 'absurde': 1639, 'ambition': 1640, 'instituteur': 1641, 'emp': 1642, 'devoirs': 1643, 'double': 1644, 'crime': 1645, 'in': 1646, 'vitable': 1647, 'suivre': 1648, 'inform': 1649, 'calm': 1650, 'assurance': 1651, 'surprises': 1652, 'terriblement': 1653, 'promesse': 1654, 'plaindre': 1655, 'portefeuille': 1656, 'canap': 1657, 'exactement': 1658, 'pratique': 1659, 'vement': 1660, 'pital': 1661, 'survenu': 1662, 'remercier': 1663, 'laisserai': 1664, 'lior': 1665, 'dou': 1666, 'pardon': 1667, 'attaque': 1668, 'ah': 1669, 'quittez': 1670, 'gras': 1671, 'poussez': 1672, 'parez': 1673, 'descendez': 1674, 'aliste': 1675, 'amusez': 1676, 'mecs': 1677, 'saut': 1678, 'ant': 1679, 'mince': 1680, 'partit': 1681, 'retrait': 1682, 'pleurait': 1683, 'pleura': 1684, 'rel': 1685, 'choisissez': 1686, 'astucieux': 1687, 'construit': 1688, 'ressenti': 1689, 'partirai': 1690, 'tienne': 1691, 'travaillons': 1692, 'tudiez': 1693, 'abri': 1694, 'riches': 1695, 'ski': 1696, 'jouez': 1697, 'piqu': 1698, 'devais': 1699, 'riz': 1700, 'cacher': 1701, 'imp': 1702, 'fianc': 1703, 'sid': 1704, 'poup': 1705, 'vint': 1706, 'date': 1707, 'sage': 1708, 'gueule': 1709, 'demi': 1710, 'ailles': 1711, 'selon': 1712, 'confiant': 1713, 'laissa': 1714, 'admire': 1715, 'checs': 1716, 'femmes': 1717, 'enceinte': 1718, 'serv': 1719, 'parla': 1720, 'perturb': 1721, 'cruel': 1722, 'porc': 1723, 'adorait': 1724, 'abattu': 1725, 'sortons': 1726, 'mine': 1727, 'dot': 1728, 'capable': 1729, 'poissons': 1730, 'larmes': 1731, 'nourri': 1732, 'hiver': 1733, 'clef': 1734, 'chevaux': 1735, 'respecte': 1736, 'piscine': 1737, 'improbable': 1738, 'rons': 1739, 'optimiste': 1740, 'auparavant': 1741, 'proches': 1742, 'ennemis': 1743, 'partage': 1744, 'vaches': 1745, 'plaira': 1746, 'spectacle': 1747, 'compagnie': 1748, 'sorient': 1749, 'dimanche': 1750, 'tails': 1751, 'lectionn': 1752, 'oublierai': 1753, 'coop': 1754, 'ras': 1755, 'midi': 1756, 'roses': 1757, 'poulet': 1758, 'devient': 1759, 'sympathique': 1760, 'allume': 1761, 'quelles': 1762, 'dirait': 1763, 'inquiets': 1764, 'pattes': 1765, 'solution': 1766, 'aube': 1767, 'tudiante': 1768, 'corriger': 1769, 'habitude': 1770, 'propos': 1771, 'emprunter': 1772, 'bouteille': 1773, 'costume': 1774, 'comprend': 1775, 'croyez': 1776, 'pardonn': 1777, 'lune': 1778, 'traitement': 1779, 'sel': 1780, 'firent': 1781, 'retourn': 1782, 'victoire': 1783, 'dirigeons': 1784, 'serr': 1785, 'bar': 1786, 'virer': 1787, 'rappeler': 1788, 'plage': 1789, 'humili': 1790, 'cousin': 1791, 'rique': 1792, 'finalement': 1793, 'apprendre': 1794, 'comprendre': 1795, 'extr': 1796, 'jardin': 1797, 'veste': 1798, 'branch': 1799, 'voudriez': 1800, 'achetez': 1801, 'serre': 1802, 'serrez': 1803, 'impossible': 1804, 'remercie': 1805, 'calmes': 1806, 'campe': 1807, 'cassez': 1808, 'recule': 1809, 'tue': 1810, 'reculez': 1811, 'ailleurs': 1812, 'teint': 1813, 'laid': 1814, 'sienne': 1815, 'touchez': 1816, 'meurs': 1817, 'supplie': 1818, 'trich': 1819, 'rican': 1820, 'passerai': 1821, 'gratuit': 1822, 'mangeons': 1823, 'dessous': 1824, 'rieusement': 1825, 'baiss': 1826, 'nag': 1827, 'coul': 1828, 'gauche': 1829, 'cile': 1830, 'nord': 1831, 'direct': 1832, 'connu': 1833, 'humble': 1834, 'rigole': 1835, 'met': 1836, 'cria': 1837, 'tenter': 1838, 'vieilles': 1839, 'nettoyez': 1840, 'lance': 1841, 'rendue': 1842, 'vres': 1843, 'dule': 1844, 'avancer': 1845, 'attendons': 1846, 'mordre': 1847, 'devin': 1848, 'chaussettes': 1849, 'fonc': 1850, 'refusa': 1851, 'saura': 1852, 'propres': 1853, 'bordel': 1854, 'iras': 1855, 'sauf': 1856, 'terminer': 1857, 'finir': 1858, 'alcool': 1859, 'prudemment': 1860, 'fusil': 1861, 'plans': 1862, 'projets': 1863, 'compatis': 1864, 'justice': 1865, 'divorc': 1866, 'fid': 1867, 'affam': 1868, 'arrivera': 1869, 'diction': 1870, 'hypoth': 1871, 'finie': 1872, 'aidera': 1873, 'mignons': 1874, 'missionn': 1875, 'idiots': 1876, 'renvers': 1877, 'voleur': 1878, 'accepte': 1879, 'fallut': 1880, 'conclu': 1881, 'objection': 1882, 'conseils': 1883, 'appartement': 1884, 'lue': 1885, 'malchanceuse': 1886, 'allais': 1887, 'flatt': 1888, 'distrait': 1889, 'intrigu': 1890, 'leurs': 1891, 'sceptique': 1892, 'terrifi': 1893, 'neur': 1894, 'sente': 1895, 'cider': 1896, 'offre': 1897, 'rejet': 1898, 'trucs': 1899, 'groupe': 1900, 'decins': 1901, 'toucher': 1902, 'grimpe': 1903, 'parc': 1904, 'veiller': 1905, 'cause': 1906, 'parlais': 1907, 'prisonnier': 1908, 'siffler': 1909, 'difficult': 1910, 'docteur': 1911, 'mission': 1912, 'intelligente': 1913, 'marrer': 1914, 'moyens': 1915, 'respirer': 1916, 'app': 1917, 'barr': 1918, 'enfreint': 1919, 'baseball': 1920, 'mouchoir': 1921, 'clefs': 1922, 'moin': 1923, 'alarme': 1924, 'ressources': 1925, 'japonaise': 1926, 'autoris': 1927, 'envoyer': 1928, 'bleue': 1929, 'attendait': 1930, 'restait': 1931, 'vaisselle': 1932, 'toilettes': 1933, 'comprenez': 1934, 'gumes': 1935, 'entendit': 1936, 'ticket': 1937, 'pire': 1938, 'mois': 1939, 'appelles': 1940, 'polie': 1941, 'pneu': 1942, 'verrai': 1943, 'tra': 1944, 'erreurs': 1945, 'cies': 1946, 'probablement': 1947, 'auras': 1948, 'animal': 1949, 'genoux': 1950, 'incomp': 1951, 'style': 1952, 'rendrai': 1953, 'institutrice': 1954, 'rapport': 1955, 'union': 1956, 'week': 1957, 'end': 1958, 'moire': 1959, 'courez': 1960, 'cache': 1961, 'saute': 1962, 'cam': 1963, 'disparais': 1964, 'guerpissez': 1965, 'ronfle': 1966, 'tenue': 1967, 'retire': 1968, 'ordonn': 1969, 'sien': 1970, 'sauve': 1971, 'irons': 1972, 'excusez': 1973, 'cras': 1974, 'glouss': 1975, 'cipit': 1976, 'appellerai': 1977, 'nue': 1978, 'cart': 1979, 'immobile': 1980, 'parties': 1981, 'discut': 1982, 'vigilant': 1983, 'sec': 1984, 'chantez': 1985, 'art': 1986, 'surv': 1987, 'tremp': 1988, 'ignorez': 1989, 'parfois': 1990, 'sept': 1991, 'vert': 1992, 'cherche': 1993, 'cions': 1994, 'faibles': 1995, 'marrante': 1996, 'bizarres': 1997, 'discr': 1998, 'reuse': 1999, 'joues': 2000, 'maigre': 2001, 'saccord': 2002, 'aimais': 2003, 'voitures': 2004, 'frappa': 2005, 'enlac': 2006, 'noy': 2007, 'jumeaux': 2008, 'dessin': 2009, 'irez': 2010, 'contract': 2011, 'rappelez': 2012, 'levez': 2013, 'fant': 2014, 'hicule': 2015, 'soutiens': 2016, 'path': 2017, 'brouiller': 2018, 'impatient': 2019, 'op': 2020, 'jeux': 2021, 'membre': 2022, 'adulte': 2023, 'intr': 2024, 'rue': 2025, 'certaine': 2026, 'offens': 2027, 'aura': 2028, 'hideux': 2029, 'vident': 2030, 'creuser': 2031, 'disputer': 2032, 'pousser': 2033, 'beaux': 2034, 'commandes': 2035, 'testait': 2036, 'test': 2037, 'apeur': 2038, 'concentrer': 2039, 'venons': 2040, 'corps': 2041, 'vendu': 2042, 'deviens': 2043, 'accorde': 2044, 'nisse': 2045, 'ignor': 2046, 'vend': 2047, 'sentir': 2048, 'ue': 2049, 'coups': 2050, 'atteint': 2051, 'raconte': 2052, 'films': 2053, 'nature': 2054, 'hicul': 2055, 'odeur': 2056, 'chansons': 2057, 'efficace': 2058, 'superbe': 2059, 'cent': 2060, 'personnel': 2061, 'grimper': 2062, 'champ': 2063, 'oublions': 2064, 'nettoyer': 2065, 'japon': 2066, 'lacet': 2067, 'remari': 2068, 'agac': 2069, 'page': 2070, 'arbres': 2071, 'cousins': 2072, 'amoureuses': 2073, 'nerveuses': 2074, 'recrut': 2075, 'volant': 2076, 'astucieuse': 2077, 'plaisantes': 2078, 'amenez': 2079, 'camionnette': 2080, 'oncle': 2081, 'trin': 2082, 'accident': 2083, 'secrets': 2084, 'lourd': 2085, 'ponses': 2086, 'peint': 2087, 'prudence': 2088, 'rerai': 2089, 'succ': 2090, 'charger': 2091, 'dent': 2092, 'monsieur': 2093, 'envoie': 2094, 'ill': 2095, 'projet': 2096, 'fondu': 2097, 'sonn': 2098, 'tudions': 2099, 'ouverts': 2100, 'regardons': 2101, 'parais': 2102, 'grosses': 2103, 'allait': 2104, 'mourut': 2105, 'salade': 2106, 'supporter': 2107, 'portable': 2108, 'pleuvra': 2109, 'connaissais': 2110, 'patience': 2111, 'chocolat': 2112, 'vitesse': 2113, 'zoo': 2114, 'joie': 2115, 'porter': 2116, 'rant': 2117, 'inhabituel': 2118, 'amuser': 2119, 'devraient': 2120, 'tourna': 2121, 'nigme': 2122, 'gravement': 2123, 'resta': 2124, 'retourner': 2125, 'comptez': 2126, 'menace': 2127, 'talentueux': 2128, 'aurait': 2129, 'jus': 2130, 'soudainement': 2131, 'emplettes': 2132, 'genou': 2133, 'nouvel': 2134, 'quitter': 2135, 'envers': 2136, 'panne': 2137, 'pendant': 2138, 'solitaire': 2139, 'stress': 2140, 'course': 2141, 'bouton': 2142, 'gosses': 2143, 'pourvus': 2144, 'soldats': 2145, 'rites': 2146, 'aurez': 2147, 'saviez': 2148, 'demanda': 2149, 'billet': 2150, 'descendu': 2151, 'voulu': 2152, 'familier': 2153, 'opinion': 2154, 'sonna': 2155, 'concert': 2156, 'servi': 2157, 'conditions': 2158, 'fusill': 2159, 'surmen': 2160, 'pouill': 2161, 'confirmer': 2162, 'nombreuses': 2163, 'bond': 2164, 'infect': 2165, 'baissez': 2166, 'poursuis': 2167, 'tendez': 2168, 'souriez': 2169, 'exclu': 2170, 'gentils': 2171, 'campez': 2172, 'tuez': 2173, 'avancez': 2174, 'rouler': 2175, 'sers': 2176, 'essaierai': 2177, 'fain': 2178, 'utilisez': 2179, 'ouest': 2180, 'dollars': 2181, 'eus': 2182, 'promets': 2183, 'flic': 2184, 'gu': 2185, 'veinard': 2186, 'ok': 2187, 'repose': 2188, 'conduisez': 2189, 'premi': 2190, 'annul': 2191, 'paules': 2192, 'normale': 2193, 'marchera': 2194, 'permettez': 2195, 'couvrez': 2196, 'it': 2197, 'perdues': 2198, 'atif': 2199, 'finis': 2200, 'cuisinier': 2201, 'haricots': 2202, 'ennuyer': 2203, 'vertiges': 2204, 'testais': 2205, 'foir': 2206, 'colle': 2207, 'paye': 2208, 'vends': 2209, 'foies': 2210, 'bruyant': 2211, 'tat': 2212, 'plaisanterie': 2213, 'arnaque': 2214, 'voter': 2215, 'remets': 2216, 'gueulasse': 2217, 'nouveaux': 2218, 'rompu': 2219, 'givr': 2220, 'impatiente': 2221, 'effectu': 2222, 'identit': 2223, 'sieste': 2224, 'chanteur': 2225, 'tude': 2226, 'patronne': 2227, 'ravie': 2228, 'environs': 2229, 'demeure': 2230, 'espion': 2231, 'entend': 2232, 'savions': 2233, 'rendons': 2234, 'mangerons': 2235, 'permission': 2236, 'saouls': 2237, 'saoules': 2238, 'chic': 2239, 'manges': 2240, 'petits': 2241, 'couper': 2242, 'tarte': 2243, 'caus': 2244, 'chienne': 2245, 'ordres': 2246, 'sir': 2247, 'fromage': 2248, 'sister': 2249, 'lampe': 2250, 'gamin': 2251, 'libert': 2252, 'fuit': 2253, 'mod': 2254, 'certains': 2255, 'clairement': 2256, 'positif': 2257, 'acceptable': 2258, 'vache': 2259, 'four': 2260, 'mangera': 2261, 'bagages': 2262, 'valises': 2263, 'tache': 2264, 'pouss': 2265, 'courrier': 2266, 'brillant': 2267, 'rus': 2268, 'agis': 2269, 'fichier': 2270, 'entendez': 2271, 'barrassez': 2272, 'indice': 2273, 'barbe': 2274, 'vid': 2275, 'extraverti': 2276, 'capte': 2277, 'grandi': 2278, 'dessert': 2279, 'rerais': 2280, 'vieil': 2281, 'faite': 2282, 'pend': 2283, 'amusons': 2284, 'asseyons': 2285, 'accompagner': 2286, 'embrassa': 2287, 'viennent': 2288, 'mord': 2289, 'gaucher': 2290, 'roul': 2291, 'volume': 2292, 'incroyables': 2293, 'entendue': 2294, 'cardiaque': 2295, 'foot': 2296, 'ressens': 2297, 'guide': 2298, 'souper': 2299, 'horrifi': 2300, 'choisir': 2301, 'bat': 2302, 'rivi': 2303, 'naturel': 2304, 'neuve': 2305, 'humide': 2306, 'alentours': 2307, 'orange': 2308, 'emmenez': 2309, 'issue': 2310, 'semblables': 2311, 'gant': 2312, 'enchant': 2313, 'tudies': 2314, 'flexible': 2315, 'tiroir': 2316, 'vivez': 2317, 'alarm': 2318, 'oblige': 2319, 'conseil': 2320, 'discours': 2321, 'ferma': 2322, 'poliment': 2323, 'aper': 2324, 'casquette': 2325, 'bleus': 2326, 'myst': 2327, 'biblioth': 2328, 'commis': 2329, 'laver': 2330, 'hasard': 2331, 'gante': 2332, 'changea': 2333, 'cern': 2334, 'tresse': 2335, 'coutes': 2336, 'disposez': 2337, 'ciez': 2338, 'stylos': 2339, 'oreille': 2340, 'manquent': 2341, 'pouser': 2342, 'senter': 2343, 'chasse': 2344, 'primant': 2345, 'licieuse': 2346, 'tourner': 2347, 'harceler': 2348, 'imagination': 2349, 'gants': 2350, 'fausse': 2351, 'foi': 2352, 'rappellerai': 2353, 'chr': 2354, 'quatre': 2355, 'poser': 2356, 'contraire': 2357, 'dicaments': 2358, 'soient': 2359, 'calmez': 2360, 'gentilles': 2361, 'fichez': 2362, 'embrasse': 2363, 'taisez': 2364, 'lavez': 2365, 'battus': 2366, 'bienvenu': 2367, 'bref': 2368, 'bravo': 2369, 'gaffe': 2370, 'usage': 2371, 'peau': 2372, 'paresseuse': 2373, 'fense': 2374, 'poil': 2375, 'affreux': 2376, 'lion': 2377, 'sable': 2378, 'signez': 2379, 'assises': 2380, 'cuit': 2381, 'rifiez': 2382, 'die': 2383, 'admets': 2384, 'imagine': 2385, 'cuis': 2386, 'directe': 2387, 'remu': 2388, 'maigrichon': 2389, 'maigrichonne': 2390, 'strict': 2391, 'mode': 2392, 'proche': 2393, 'discutons': 2394, 'cou': 2395, 'application': 2396, 'voyait': 2397, 'parlait': 2398, 'hurlait': 2399, 'joyeux': 2400, 'travaillerons': 2401, 'prochain': 2402, 'ative': 2403, 'bowling': 2404, 'fumez': 2405, 'missionna': 2406, 'gosse': 2407, 'puissant': 2408, 'enterr': 2409, 'coll': 2410, 'bol': 2411, 'maths': 2412, 'pagaille': 2413, 'emporte': 2414, 'oppos': 2415, 'parvenu': 2416, 'populaire': 2417, 'estomac': 2418, 'plat': 2419, 'minable': 2420, 'souhait': 2421, 'chauffeur': 2422, 'souvenez': 2423, 'glac': 2424, 'sinistre': 2425, 'aimable': 2426, 'doux': 2427, 'paralys': 2428, 'agi': 2429, 'mourant': 2430, 'marchez': 2431, 'adorons': 2432, 'confiante': 2433, 'envoyez': 2434, 'cuill': 2435, 'su': 2436, 'menteurs': 2437, 'moyen': 2438, 'blagues': 2439, 'voyages': 2440, 'espace': 2441, 'rose': 2442, 'toile': 2443, 'dout': 2444, 'ventilateur': 2445, 'esseul': 2446, 'secou': 2447, 'chanteuse': 2448, 'diab': 2449, 'bats': 2450, 'saint': 2451, 'obstin': 2452, 'affair': 2453, 'vague': 2454, 'coule': 2455, 'roule': 2456, 'interrompre': 2457, 'fout': 2458, 'ordures': 2459, 'sain': 2460, 'ti': 2461, 'paraissez': 2462, 'heurt': 2463, 'contents': 2464, 'assiette': 2465, 'mat': 2466, 'trouille': 2467, 'cin': 2468, 'saumon': 2469, 'perdis': 2470, 'domicile': 2471, 'ambitieuse': 2472, 'convaincue': 2473, 'vou': 2474, 'logique': 2475, 'mie': 2476, 'samedi': 2477, 'soulagement': 2478, 'atroce': 2479, 'sentent': 2480, 'changent': 2481, 'embauch': 2482, 'beaut': 2483, 'mannequin': 2484, 'basse': 2485, 'ram': 2486, 'doivent': 2487, 'verts': 2488, 'noue': 2489, 'chaussure': 2490, 'dipl': 2491, 'crise': 2492, 'rejoint': 2493, 'sms': 2494, 'adopt': 2495, 'violent': 2496, 'comprenons': 2497, 'ennemies': 2498, 'jalouses': 2499, 'plaisantez': 2500, 'endormis': 2501, 'suspect': 2502, 'ballon': 2503, 'agace': 2504, 'is': 2505, 'grimpez': 2506, 'crivain': 2507, 'acteur': 2508, 'alla': 2509, 'joueur': 2510, 'trer': 2511, 'ins': 2512, 'toit': 2513, 'tromper': 2514, 'puni': 2515, 'dossier': 2516, 'el': 2517, 'miracle': 2518, 'chiant': 2519, 'risqu': 2520, 'finissons': 2521, 'cherchez': 2522, 'morceau': 2523, 'augment': 2524, 'compteur': 2525, 'bile': 2526, 'taisait': 2527, 'allumez': 2528, 'volontaires': 2529, 'manquerez': 2530, 'pension': 2531, 'meilleurs': 2532, 'perdez': 2533, 'veur': 2534, 'mentionn': 2535, 'partenaire': 2536, 'nique': 2537, 'diriez': 2538, 'saurais': 2539, 'violence': 2540, 'tatouage': 2541, 'parte': 2542, 'gl': 2543, 'maire': 2544, 'enseign': 2545, 'quasiment': 2546, 'devenir': 2547, 'blaguer': 2548, 'compassion': 2549, 'impressionnant': 2550, 'poque': 2551, 'noire': 2552, 'gris': 2553, 'pondit': 2554, 'rob': 2555, 'taquiner': 2556, 'pous': 2557, 'soie': 2558, 'moteur': 2559, 'ouvrit': 2560, 'baignoire': 2561, 'puits': 2562, 'sourient': 2563, 'ritent': 2564, 'aimer': 2565, 'parlent': 2566, 'difficiles': 2567, 'solu': 2568, 'vif': 2569, 'pouvantable': 2570, 'conscience': 2571, 'rents': 2572, 'rentes': 2573, 'prisonniers': 2574, 'apparent': 2575, 'malades': 2576, 'talentueuse': 2577, 'fusible': 2578, 'tudiantes': 2579, 'coupez': 2580, 'habitez': 2581, 'obligez': 2582, 'applaudi': 2583, 'garage': 2584, 'dormait': 2585, 'ouvrage': 2586, 'embarrassant': 2587, 'transpirer': 2588, 'drogue': 2589, 'sentiment': 2590, 'roman': 2591, 'australie': 2592, 'aides': 2593, 'tudi': 2594, 'agressif': 2595, 'tonn': 2596, 'refaire': 2597, 'enthousiaste': 2598, 'ferait': 2599, 'temp': 2600, 'effort': 2601, 'article': 2602, 'limite': 2603, 'jouent': 2604, 'inconscient': 2605, 'pourvues': 2606, 'fiers': 2607, 'longueur': 2608, 'parfaits': 2609, 'parfaites': 2610, 'aies': 2611, 'merveilleuse': 2612, 'resse': 2613, 'courut': 2614, 'marin': 2615, 'journaliste': 2616, 'couleur': 2617, 'fond': 2618, 'boucle': 2619, 'serrure': 2620, 'mement': 2621, 'excellente': 2622, 'gentiment': 2623, 'cierges': 2624, 'bazar': 2625, 'vies': 2626, 'enfile': 2627, 'enfilez': 2628, 'connaissait': 2629, 'mur': 2630, 'coutait': 2631, 'frustr': 2632, 'menott': 2633, 'reconnu': 2634, 'cach': 2635, 'bonheur': 2636, 'vive': 2637, 'clata': 2638, 'parvient': 2639, 'environ': 2640, 'alluma': 2641, 'plaire': 2642, 'beurre': 2643, 'informations': 2644, 'avertir': 2645, 'secours': 2646, 'gorg': 2647, 'compara': 2648, 'contusionn': 2649, 'inconv': 2650, 'nient': 2651, 'personnes': 2652, 'ayons': 2653, 'mourrais': 2654, 'donnerai': 2655, 'semaines': 2656, 'mentalement': 2657, 'pouffer': 2658, 'inconsid': 2659, 'clairer': 2660, 'relaxe': 2661, 'capt': 2662, 'lez': 2663, 'plie': 2664, 'gagez': 2665, 'essayai': 2666, 'courait': 2667, 'couvre': 2668, 'diable': 2669, 'profondeur': 2670, 'sourde': 2671, 'rigolo': 2672, 'essaies': 2673, 'saisis': 2674, 'dirigez': 2675, 'dirige': 2676, 'mouvement': 2677, 'vivante': 2678, 'loyal': 2679, 'sobre': 2680, 'cuire': 2681, 'neig': 2682, 'voyons': 2683, 'relais': 2684, 'timides': 2685, 'rieuses': 2686, 'jouis': 2687, 'pleurent': 2688, 'tracasse': 2689, 'charmant': 2690, 'trag': 2691, 'plais': 2692, 'sournois': 2693, 'inoffensif': 2694, 'cd': 2695, 'sus': 2696, 'remplace': 2697, 'recommence': 2698, 'cartez': 2699, 'aida': 2700, 'sauta': 2701, 'discret': 2702, 'ponctuel': 2703, 'impitoyable': 2704, 'battez': 2705, 'panique': 2706, 'changez': 2707, 'habillez': 2708, 'trouva': 2709, 'plaisent': 2710, 'merd': 2711, 'remis': 2712, 'trouvais': 2713, 'essayerai': 2714, 'tenterai': 2715, 'toubib': 2716, 'confuse': 2717, 'patiente': 2718, 'gav': 2719, 'brouillard': 2720, 'ironique': 2721, 'urgent': 2722, 'chons': 2723, 'morise': 2724, 'pile': 2725, 'plantes': 2726, 'devenait': 2727, 'bouch': 2728, 'parvenus': 2729, 'eue': 2730, 'insensible': 2731, 'impoli': 2732, 'fiant': 2733, 'teignez': 2734, 'perte': 2735, 'passera': 2736, 'comporte': 2737, 'objectifs': 2738, 'copine': 2739, 'rejoindre': 2740, 'videz': 2741, 'crainte': 2742, 'beignet': 2743, 'pitoyable': 2744, 'poursuivi': 2745, 'affreusement': 2746, 'peinture': 2747, 'cambriol': 2748, 'perdrai': 2749, 'joindrai': 2750, 'canadien': 2751, 'avocate': 2752, 'accro': 2753, 'saigne': 2754, 'pide': 2755, 'ange': 2756, 'cerf': 2757, 'matin': 2758, 'cha': 2759, 'deviner': 2760, 'devine': 2761, 'devinez': 2762, 'ation': 2763, 'fixer': 2764, 'testent': 2765, 'tendus': 2766, 'tendues': 2767, 'phoner': 2768, 'viendront': 2769, 'emplois': 2770, 'forts': 2771, 'cruelle': 2772, 'marrants': 2773, 'durs': 2774, 'questions': 2775, 'ennuyez': 2776, 'ennuies': 2777, 'contentes': 2778, 'patiner': 2779, 'dorment': 2780, 'impolie': 2781, 'essuie': 2782, 'nourris': 2783, 'uns': 2784, 'trou': 2785, 'ancien': 2786, 'licieux': 2787, 'emprunt': 2788, 'survivre': 2789, 'naus': 2790, 'prime': 2791, 'bague': 2792, 'visa': 2793, 'ail': 2794, 'sie': 2795, 'contrat': 2796, 'courus': 2797, 'travaillais': 2798, 'mangerai': 2799, 'trouverai': 2800, 'montrerai': 2801, 'malheureuse': 2802, 'sensible': 2803, 'aga': 2804, 'minuit': 2805, 'empoisonn': 2806, 'continuons': 2807, 'folie': 2808, 'mortel': 2809, 'vanter': 2810, 'hait': 2811, 'courageuses': 2812, 'attache': 2813, 'aidait': 2814, 'ciait': 2815, 'souvient': 2816, 'effraie': 2817, 'dales': 2818, 'changera': 2819, 'touffe': 2820, 'tournez': 2821, 'chouer': 2822, 'inutiles': 2823, 'poisse': 2824, 'absent': 2825, 'fric': 2826, 'permets': 2827, 'raciste': 2828, 'vitez': 2829, 'sortis': 2830, 'sorties': 2831, 'juge': 2832, 'tente': 2833, 'bisou': 2834, 'anniversaire': 2835, 'jeta': 2836, 'cor': 2837, 'pige': 2838, 'expuls': 2839, 'carottes': 2840, 'toux': 2841, 'grippe': 2842, 'entendis': 2843, 'hu': 2844, 'tortues': 2845, 'augmentation': 2846, 'quemment': 2847, 'nus': 2848, 'butant': 2849, 'contagieux': 2850, 'fascin': 2851, 'vire': 2852, 'surpoids': 2853, 'tarienne': 2854, 'retournons': 2855, 'rirent': 2856, 'charmante': 2857, 'force': 2858, 'nomme': 2859, 'serve': 2860, 'appela': 2861, 'infirmi': 2862, 'vienne': 2863, 'tape': 2864, 'visible': 2865, 'teinte': 2866, 'aimaient': 2867, 'fourchette': 2868, 'lacets': 2869, 'plaint': 2870, 'soixante': 2871, 'serviable': 2872, 'calmement': 2873, 'survivra': 2874, 'ouvertes': 2875, 'fiables': 2876, 'produire': 2877, 'nettoy': 2878, 'plainte': 2879, 'niale': 2880, 'chantes': 2881, 'boissons': 2882, 'chanceuses': 2883, 'abeilles': 2884, 'bouillir': 2885, 'terrifiant': 2886, 'attendit': 2887, 'envoya': 2888, 'tenait': 2889, 'com': 2890, 'compagnon': 2891, 'photog': 2892, 'admettre': 2893, 'tapis': 2894, 'actuelle': 2895, 'rende': 2896, 'marteau': 2897, 'totalement': 2898, 'kidnapp': 2899, 'apporterai': 2900, 'semblant': 2901, 'conducteur': 2902, 'conscient': 2903, 'introverti': 2904, 'pont': 2905, 'munitions': 2906, 'pers': 2907, 'modeste': 2908, 'respire': 2909, 'valait': 2910, 'raccourci': 2911, 'acide': 2912, 'feuilles': 2913, 'enl': 2914, 'pousa': 2915, 'particulier': 2916, 'jet': 2917, 'arriva': 2918, 'devenus': 2919, 'tueront': 2920, 'peindre': 2921, 'lapins': 2922, 'arrogant': 2923, 'immature': 2924, 'courag': 2925, 'form': 2926, 'tol': 2927, 'tranquillement': 2928, 'souffrir': 2929, 'souvenir': 2930, 'orteils': 2931, 'flexibles': 2932, 'parlions': 2933, 'ussir': 2934, 'lou': 2935, 'voisins': 2936, 'organis': 2937, 'sastre': 2938, 'trouvait': 2939, 'tera': 2940, 'retenu': 2941, 'cipitation': 2942, 'volat': 2943, 'pauvres': 2944, 'terme': 2945, 'incorrigible': 2946, 'bout': 2947, 'policier': 2948, 'aboie': 2949, 'accidents': 2950, 'bienvenus': 2951, 'crack': 2952, 'applaudit': 2953, 'explique': 2954, 'expliquez': 2955, 'couverture': 2956, 'loigne': 2957, 'loignez': 2958, 'envol': 2959, 'oranges': 2960, 'types': 2961, 'poule': 2962, 'halloween': 2963, 'site': 2964, 'tousser': 2965, 'obtenir': 2966, 'phants': 2967, 'jaunes': 2968, 'coton': 2969, 'dette': 2970, 'criminel': 2971, 'coller': 2972, 'jeter': 2973, 'mars': 2974, 'italie': 2975, 'trait': 2976, 'promue': 2977, 'ass': 2978, 'croient': 2979, 'approch': 2980, 'faisaient': 2981, 'remport': 2982, 'pistolet': 2983, 'courtois': 2984, 'ticent': 2985, 'sugg': 2986, 'trouvera': 2987, 'mati': 2988, 'orie': 2989, 'ritez': 2990, 'importante': 2991, 'braguette': 2992, 'gratuite': 2993, 'religion': 2994, 'vendez': 2995, 'remplissez': 2996, 'formulaire': 2997, 'irr': 2998, 'sandwich': 2999, 'proposition': 3000, 'pic': 3001, 'minutes': 3002, 'lecture': 3003, 'maladie': 3004, 'voisin': 3005, 'enqu': 3006, 'tentons': 3007, 'pardonner': 3008, 'attitude': 3009, 'phares': 3010, 'loyer': 3011, 'syst': 3012, 'enlev': 3013, 'prier': 3014, 'blesser': 3015, 'grandir': 3016, 'productif': 3017, 'patiemment': 3018, 'disais': 3019, 'quels': 3020, 'servir': 3021, 'tante': 3022, 'contient': 3023, 'robots': 3024, 'passage': 3025, 'inspiration': 3026, 'camarade': 3027, 'supporte': 3028, 'sensation': 3029, 'math': 3030, 'complet': 3031, 'ranger': 3032, 'ncidence': 3033, 'crut': 3034, 'concombres': 3035, 'repris': 3036, 'silencieuse': 3037, 'aideront': 3038, 'trang': 3039, 'mariage': 3040, 'assign': 3041, 'entier': 3042, 'daille': 3043, 'identifier': 3044, 'couteaux': 3045, 'erron': 3046, 'soup': 3047, 'placard': 3048, 'opportuniste': 3049, 'filez': 3050, 'max': 3051, 'pig': 3052, 'sensass': 3053, 'quitable': 3054, 'foutre': 3055, 'enterre': 3056, 'balai': 3057, 'rentrez': 3058, 'adieu': 3059, 'ciao': 3060, 'tirez': 3061, 'retirez': 3062, 'grouille': 3063, 'claire': 3064, 'paum': 3065, 'acc': 3066, 'excellent': 3067, 'employez': 3068, 'missionne': 3069, 'puissante': 3070, 'volent': 3071, 'aboient': 3072, 'placez': 3073, 'saisissez': 3074, 'abandonnerai': 3075, 'croch': 3076, 'veinarde': 3077, 'loign': 3078, 'distance': 3079, 'hein': 3080, 'attirante': 3081, 'restes': 3082, 'nageaient': 3083, 'plong': 3084, 'nmes': 3085, 'alentour': 3086, 'cul': 3087, 'insiste': 3088, 'cipitez': 3089, 'da': 3090, 'sud': 3091, 'adorais': 3092, 'vomi': 3093, 'jumeau': 3094, 'grassouillet': 3095, 'recommencez': 3096, 'jure': 3097, 'paiera': 3098, 'foutu': 3099, 'cide': 3100, 'amical': 3101, 'ponctuelle': 3102, 'raisonnables': 3103, 'finissez': 3104, 'habille': 3105, 'ha': 3106, 'partager': 3107, 'confess': 3108, 'teaux': 3109, 'jazz': 3110, 'rock': 3111, 'ir': 3112, 'clou': 3113, 'parvenue': 3114, 'troisi': 3115, 'remont': 3116, 'pensionn': 3117, 'taquine': 3118, 'fortun': 3119, 'casser': 3120, 'pipe': 3121, 'tier': 3122, 'poison': 3123, 'mettons': 3124, 'morisez': 3125, 'roi': 3126, 'applaudir': 3127, 'patienter': 3128, 'priez': 3129, 'rougi': 3130, 'souriait': 3131, 'soign': 3132, 'mental': 3133, 'coriace': 3134, 'navire': 3135, 'fumes': 3136, 'rangez': 3137, 'fatigue': 3138, 'crains': 3139, 'nia': 3140, 'moqu': 3141, 'attendra': 3142, 'incapable': 3143, 'veine': 3144, 'doutes': 3145, 'miel': 3146, 'grouiller': 3147, 'forces': 3148, 'demanderai': 3149, 'poursuivrai': 3150, 'canadienne': 3151, 'noyer': 3152, 'innocente': 3153, 'sainte': 3154, 'consciencieux': 3155, 'impartial': 3156, 'fer': 3157, 'nuageux': 3158, 'net': 3159, 'surviendra': 3160, 'effarant': 3161, 'coutons': 3162, 'boug': 3163, 'cia': 3164, 'tira': 3165, 'descendit': 3166, 'connaissaient': 3167, 'courriel': 3168, 'brouill': 3169, 'cran': 3170, 'meurt': 3171, 'der': 3172, 'condamn': 3173, 'perdons': 3174, 'mineurs': 3175, 'fortes': 3176, 'cruels': 3177, 'matinal': 3178, 'matinale': 3179, 'marrantes': 3180, 'fs': 3181, 'futon': 3182, 'inclus': 3183, 'respectueux': 3184, 'solidaire': 3185, 'bande': 3186, 'captes': 3187, 'captez': 3188, 'bouchon': 3189, 'trace': 3190, 'nourrissez': 3191, 'riel': 3192, 'accrochez': 3193, 'accroche': 3194, 'servante': 3195, 'tua': 3196, 'jouets': 3197, 'pinc': 3198, 'arnaqu': 3199, 'efforce': 3200, 'ricain': 3201, 'rir': 3202, 'con': 3203, 'vole': 3204, 'jumelle': 3205, 'jaune': 3206, 'automne': 3207, 'copie': 3208, 'hockey': 3209, 'violon': 3210, 'poignard': 3211, 'masque': 3212, 'permettrai': 3213, 'plombier': 3214, 'touriste': 3215, 'rente': 3216, 'nement': 3217, 'impulsif': 3218, 'expert': 3219, 'gr': 3220, 'tenace': 3221, 'cuir': 3222, 'pleuve': 3223, 'bombe': 3224, 'location': 3225, 'laissons': 3226, 'gardons': 3227, 'courte': 3228, 'douce': 3229, 'cage': 3230, 'haute': 3231, 'bagnole': 3232, 'niaux': 3233, 'mentent': 3234, 'incorrect': 3235, 'attachez': 3236, 'mangeait': 3237, 'ressentait': 3238, 'mature': 3239, 'indemne': 3240, 'essouffl': 3241, 'admirons': 3242, 'suppos': 3243, 'pouvions': 3244, 'voulions': 3245, 'formons': 3246, 'certaines': 3247, 'cousines': 3248, 'avocats': 3249, 'couler': 3250, 'ception': 3251, 'adorerais': 3252, 'brillante': 3253, 'maline': 3254, 'endormies': 3255, 'vilaine': 3256, 'agissez': 3257, 'ajoutez': 3258, 'pleures': 3259, 'vivants': 3260, 'vivantes': 3261, 'pelle': 3262, 'connait': 3263, 'issez': 3264, 'tentez': 3265, 'profite': 3266, 'barrasse': 3267, 'marque': 3268, 'gifl': 3269, 'auteur': 3270, 'banane': 3271, 'crue': 3272, 'corrig': 3273, 'chappe': 3274, 'honor': 3275, 'suivie': 3276, 'hoquet': 3277, 'cookies': 3278, 'pique': 3279, 'lyc': 3280, 'tail': 3281, 'chiot': 3282, 'vengeance': 3283, 'chargerai': 3284, 'payerai': 3285, 'maladroit': 3286, 'anti': 3287, 'consommer': 3288, 'ours': 3289, 'bonhomme': 3290, 'embuscade': 3291, 'grotesque': 3292, 'placement': 3293, 'valeur': 3294, 'canon': 3295, 'lant': 3296, 'partaient': 3297, 'truit': 3298, 'curis': 3299, 'avenir': 3300, 'dira': 3301, 'escroc': 3302, 'immoral': 3303, 'tut': 3304, 'remettra': 3305, 'transpire': 3306, 'cerveau': 3307, 'acclam': 3308, 'paris': 3309, 'demandes': 3310, 'pendule': 3311, 'aimeriez': 3312, 'gagnes': 3313, 'tiennes': 3314, 'balles': 3315, 'parvenez': 3316, 'licitations': 3317, 'dez': 3318, 'tit': 3319, 'regardait': 3320, 'acheta': 3321, 'peintre': 3322, 'surf': 3323, 'facture': 3324, 'ellement': 3325, 'impuissant': 3326, 'tomates': 3327, 'leuc': 3328, 'gagnera': 3329, 'tokyo': 3330, 'alis': 3331, 'casque': 3332, 'raser': 3333, 'jouais': 3334, 'sonner': 3335, 'dollar': 3336, 'perroquet': 3337, 'rembourser': 3338, 'partiez': 3339, 'risquer': 3340, 'suivrai': 3341, 'gue': 3342, 'nieur': 3343, 'extravertie': 3344, 'explos': 3345, 'fra': 3346, 'moisi': 3347, 'fabuleux': 3348, 'insuffisant': 3349, 'jouet': 3350, 'cieux': 3351, 'rafra': 3352, 'battons': 3353, 'requis': 3354, 'enfui': 3355, 'furieuse': 3356, 'tomba': 3357, 'octobre': 3358, 'fonctionner': 3359, 'prirent': 3360, 'semblent': 3361, 'trouveront': 3362, 'balivernes': 3363, 'cadeaux': 3364, 'vendredi': 3365, 'trahis': 3366, 'frappe': 3367, 'troubl': 3368, 'plac': 3369, 'bizarrement': 3370, 'photos': 3371, 'souffert': 3372, 'comptons': 3373, 'courons': 3374, 'partag': 3375, 'cup': 3376, 'rendrons': 3377, 'canadiens': 3378, 'enneig': 3379, 'peigne': 3380, 'perdant': 3381, 'alliez': 3382, 'adorables': 3383, 'rougis': 3384, 'gligent': 3385, 'splendide': 3386, 'lente': 3387, 'serpents': 3388, 'soigneusement': 3389, 'consid': 3390, 'termine': 3391, 'cemment': 3392, 'pyjama': 3393, 'prof': 3394, 'tint': 3395, 'arabe': 3396, 'utilis': 3397, 'france': 3398, 'comp': 3399, 'portent': 3400, 'paniquer': 3401, 'remettre': 3402, 'stopper': 3403, 'hybride': 3404, 'web': 3405, 'rage': 3406, 'sonnerie': 3407, 'oc': 3408, 'bougie': 3409, 'ouvris': 3410, 'revanche': 3411, 'venger': 3412, 'treize': 3413, 'victorieux': 3414, 'volontiers': 3415, 'gerai': 3416, 'alcoolique': 3417, 'sorganis': 3418, 'signifie': 3419, 'ensoleill': 3420, 'pur': 3421, 'compromis': 3422, 'polis': 3423, 'polies': 3424, 'trahies': 3425, 'certainement': 3426, 'constitue': 3427, 'aigre': 3428, 'cds': 3429, 'prisent': 3430, 'assassin': 3431, 'reviendra': 3432, 'jean': 3433, 'oignons': 3434, 'monstre': 3435, 'sarcastique': 3436, 'prendra': 3437, 'song': 3438, 'avertissement': 3439, 'visiteurs': 3440, 'gler': 3441, 'reviennes': 3442, 'ferions': 3443, 'saurons': 3444, 'libataires': 3445, 'taires': 3446, 'miroir': 3447, 'resplendissant': 3448, 'resplendissante': 3449, 'bavard': 3450, 'sages': 3451, 'fermeture': 3452, 'arrestation': 3453, 'ambulance': 3454, 'nageur': 3455, 'vase': 3456, 'poches': 3457, 'cevant': 3458, 'intervenir': 3459, 'pus': 3460, 'obtiens': 3461, 'abeille': 3462, 'moustiques': 3463, 'intimit': 3464, 'jupe': 3465, 'couleurs': 3466, 'recommand': 3467, 'inconsciente': 3468, 'choisirai': 3469, 'cierais': 3470, 'enverrai': 3471, 'loque': 3472, 'penser': 3473, 'rumeurs': 3474, 'profonde': 3475, 'fortement': 3476, 'dictionnaire': 3477, 'chantons': 3478, 'audition': 3479, 'rats': 3480, 'excessive': 3481, 'foule': 3482, 'mangeront': 3483, 'universit': 3484, 'passionn': 3485, 'renonc': 3486, 'serra': 3487, 'comprenait': 3488, 'autrefois': 3489, 'alimentation': 3490, 'arrivons': 3491, 'fermons': 3492, 'cialit': 3493, 'blanche': 3494, 'europ': 3495, 'productive': 3496, 'doyen': 3497, 'doyenne': 3498, 'craintif': 3499, 'craintive': 3500, 'exige': 3501, 'moquez': 3502, 'tarien': 3503, 'louer': 3504, 'menu': 3505, 'culpabilit': 3506, 'voyagez': 3507, 'lessive': 3508, 'critique': 3509, 'rait': 3510, 'cuisis': 3511, 'amen': 3512, 'procur': 3513, 'voisine': 3514, 'colocataire': 3515, 'marier': 3516, 'bandes': 3517, 'matiques': 3518, 'offenser': 3519, 'barrasserai': 3520, 'essai': 3521, 'nerai': 3522, 'promu': 3523, 'compliment': 3524, 'fascinant': 3525, 'existe': 3526, 'batterie': 3527, 'lettres': 3528, 'occasion': 3529, 'ayant': 3530, 'rendit': 3531, 'tises': 3532, 'fan': 3533, 'inclina': 3534, 'inefficace': 3535, 'voyag': 3536, 'essaya': 3537, 'insulte': 3538, 'habitent': 3539, 'nieux': 3540, 'nieuse': 3541, 'habile': 3542, 'vraies': 3543, 'totalit': 3544, 'disposes': 3545, 'reconnais': 3546, 'pensent': 3547, 'cure': 3548, 'cida': 3549, 'collectionne': 3550, 'serviettes': 3551, 'ventre': 3552, 'soins': 3553, 'chandail': 3554, 'absolument': 3555, 'programme': 3556, 'image': 3557, 'volont': 3558, 'tigre': 3559, 'changements': 3560, 'surpass': 3561, 'approchons': 3562, 'extraordinaire': 3563, 'rencontrons': 3564, 'manette': 3565, 'quelconque': 3566, 'amener': 3567, 'recommencer': 3568, 'diamants': 3569, 'hauteur': 3570, 'mesur': 3571, 'nerveusement': 3572, 'ciai': 3573, 'pharmacie': 3574, 'maria': 3575, 'hospitalis': 3576, 'cous': 3577, 'fuyez': 3578, 'poursuivez': 3579, 'tricote': 3580, 'foutez': 3581, 'oust': 3582, 'secoue': 3583, 'joignez': 3584, 'visez': 3585, 'vise': 3586, 'exprim': 3587, 'sagesse': 3588, 'magne': 3589, 'magnez': 3590, 'rassasi': 3591, 'ante': 3592, 'laide': 3593, 'moche': 3594, 'tentative': 3595, 'enfuis': 3596, 'sauvez': 3597, 'informez': 3598, 'emploie': 3599, 'avertis': 3600, 'sourcils': 3601, 'rigol': 3602, 'buch': 3603, 'vivrai': 3604, 'valise': 3605, 'travaillerai': 3606, 'rie': 3607, 'tatillon': 3608, 'tatillonne': 3609, 'loyale': 3610, 'verse': 3611, 'demie': 3612, 'abandonnez': 3613, 'demandons': 3614, 'ouais': 3615, 'reposez': 3616, 'boite': 3617, 'assure': 3618, 'entretenus': 3619, 'entretenues': 3620, 'essayerons': 3621, 'gagnerons': 3622, 'tristes': 3623, 'merveille': 3624, 'commences': 3625, 'pues': 3626, 'chantent': 3627, 'inspirez': 3628, 'truisez': 3629, 'creuse': 3630, 'cipite': 3631, 'vidence': 3632, 'pardonnez': 3633, 'absurdit': 3634, 'tragique': 3635, 'rencontrai': 3636, 'rifierai': 3637, 'commencerai': 3638, 'connue': 3639, 'sournoise': 3640, 'passade': 3641, 'ph': 3642, 'renard': 3643, 'pipeau': 3644, 'bidon': 3645, 'arrache': 3646, 'abandonnons': 3647, 'renon': 3648, 'blesse': 3649, 'ramasse': 3650, 'gardes': 3651, 'geste': 3652, 'siens': 3653, 'triche': 3654, 'cuisin': 3655, 'missait': 3656, 'hurla': 3657, 'augmente': 3658, 'virez': 3659, 'mourons': 3660, 'achetons': 3661, 'accompli': 3662, 'hurl': 3663, 'suivant': 3664, 'vilain': 3665, 'discrets': 3666, 'ricordieuse': 3667, 'ricordieux': 3668, 'minutieux': 3669, 'appellez': 3670, 'vaincu': 3671, 'discussion': 3672, 'ris': 3673, 'riait': 3674, 'dressa': 3675, 'thune': 3676, 'marqu': 3677, 'buvais': 3678, 'amende': 3679, 'cents': 3680, 'gaz': 3681, 'mu': 3682, 'verai': 3683, 'boulanger': 3684, 'veuve': 3685, 'chocottes': 3686, 'di': 3687, 'affol': 3688, 'frousse': 3689, 'voyant': 3690, 'sarm': 3691, 'fatal': 3692, 'briser': 3693, 'rompre': 3694, 'dansons': 3695, 'buvons': 3696, 'parons': 3697, 'rapprochez': 3698, 'calcul': 3699, 'poussent': 3700, 'croissent': 3701, 'appuyer': 3702, 'charme': 3703, 'goutant': 3704, 'chissez': 3705, 'grandit': 3706, 'z': 3707, 'renifl': 3708, 'transpir': 3709, 'missionnons': 3710, 'mangions': 3711, 'aidons': 3712, 'combattrons': 3713, 'ennuyons': 3714, 'intelligents': 3715, 'intelligentes': 3716, 'malheur': 3717, 'paresseuses': 3718, 'grossiers': 3719, 'neufs': 3720, 'renforts': 3721, 'approchez': 3722, 'enseignes': 3723, 'bonsoir': 3724, 'meure': 3725, 'fanatique': 3726, 'dessiner': 3727, 'effet': 3728, 'mords': 3729, 'mouches': 3730, 'rugby': 3731, 'initi': 3732, 'pes': 3733, 'reprises': 3734, 'apprendrai': 3735, 'mettrai': 3736, 'lirai': 3737, 'barbier': 3738, 'danseuse': 3739, 'agent': 3740, 'lange': 3741, 'cultiv': 3742, 'reconnaissant': 3743, 'priv': 3744, 'issant': 3745, 'las': 3746, 'consciencieuse': 3747, 'solide': 3748, 'identifiez': 3749, 'lan': 3750, 'chiqu': 3751, 'fruit': 3752, 'robot': 3753, 'archa': 3754, 'tritus': 3755, 'revue': 3756, 'cochons': 3757, 'stes': 3758, 'bougea': 3759, 'branche': 3760, 'aff': 3761, 'bailler': 3762, 'conte': 3763, 'aident': 3764, 'dirent': 3765, 'bleues': 3766, 'froids': 3767, 'froides': 3768, 'mignonnes': 3769, 'moches': 3770, 'rare': 3771, 'approuv': 3772, 'tourdi': 3773, 'couta': 3774, 'stone': 3775, 'traduisez': 3776, 'traduis': 3777, 'aimions': 3778, 'veil': 3779, 'ovni': 3780, 'ciderons': 3781, 'rerons': 3782, 'adultes': 3783, 'plaisantons': 3784, 'normaux': 3785, 'normales': 3786, 'charlatan': 3787, 'importants': 3788, 'amuses': 3789, 'saoule': 3790, 'malpoli': 3791, 'lunatique': 3792, 'idiotes': 3793, 'dures': 3794, 'cialiste': 3795, 'respectueuse': 3796, 'mesquin': 3797, 'raccrochez': 3798, 'impertinent': 3799, 'chanta': 3800, 'tablissement': 3801, 'biscuit': 3802, 'jambon': 3803, 'flou': 3804, 'lapid': 3805, 'fesses': 3806, 'servez': 3807, 'saignait': 3808, 'musulman': 3809, 'contribu': 3810, 'claque': 3811, 'droits': 3812, 'jogging': 3813, 'trains': 3814, 'ance': 3815, 'priorit': 3816, 'fonds': 3817, 'quant': 3818, 'bagarre': 3819, 'flingue': 3820, 'tiendrai': 3821, 'derai': 3822, 'prouverai': 3823, 'regarderai': 3824, 'dentiste': 3825, 'soldat': 3826, 'chirurgien': 3827, 'fourbu': 3828, 'distraite': 3829, 'endurant': 3830, 'endurante': 3831, 'tremble': 3832, 'endommag': 3833, 'perruque': 3834, 'empire': 3835, 'canular': 3836, 'traite': 3837, 'gez': 3838, 'descendons': 3839, 'motion': 3840, 'descendre': 3841, 'sympt': 3842, 'horripilant': 3843, 'flippant': 3844, 'faisable': 3845, 'savaient': 3846, 'asiatiques': 3847, 'ennuient': 3848, 'formidables': 3849, 'silencieuses': 3850, 'dvd': 3851, 'nouez': 3852, 'exerce': 3853, 'bern': 3854, 'moutons': 3855, 'offensa': 3856, 'licat': 3857, 'quitta': 3858, 'induit': 3859, 'li': 3860, 'ronfler': 3861, 'changeons': 3862, 'survivrons': 3863, 'chec': 3864, 'sirez': 3865, 'accuser': 3866, 'trompez': 3867, 'trompes': 3868, 'hypocrite': 3869, 'reposes': 3870, 'malins': 3871, 'avide': 3872, 'tins': 3873, 'coca': 3874, 'ajoute': 3875, 'qualifi': 3876, 'pleurez': 3877, 'payez': 3878, 'annuler': 3879, 'jongler': 3880, 'nourrissent': 3881, 'donnent': 3882, 'gobe': 3883, 'plains': 3884, 'jugez': 3885, 'frimer': 3886, 'assois': 3887, 'gaspille': 3888, 'haleine': 3889, 'baiser': 3890, 'admirait': 3891, 'disparut': 3892, 'sociable': 3893, 'gronda': 3894, 'disput': 3895, 'recal': 3896, 'aversion': 3897, 'honteux': 3898, 'pinards': 3899, 'vreux': 3900, 'continuai': 3901, 'niques': 3902, 'histoires': 3903, 'causer': 3904, 'foyer': 3905, 'nostalgie': 3906, 'fac': 3907, 'soulever': 3908, 'soutien': 3909, 'ternue': 3910, 'senterai': 3911, 'prierai': 3912, 'vendeur': 3913, 'survivant': 3914, 'contagieuse': 3915, 'shydrat': 3916, 'antie': 3917, 'analphab': 3918, 'amer': 3919, 'mage': 3920, 'magique': 3921, 'fonctionnait': 3922, 'dor': 3923, 'mercredi': 3924, 'superflu': 3925, 'rentrons': 3926, 'alistes': 3927, 'partageons': 3928, 'choire': 3929, 'gratte': 3930, 'chappa': 3931, 'science': 3932, 'trangl': 3933, 'bruyante': 3934, 'renifler': 3935, 'telles': 3936, 'poupon': 3937, 'chantaient': 3938, 'aboyait': 3939, 'drapeau': 3940, 'teignit': 3941, 'regards': 3942, 'hic': 3943, 'disposent': 3944, 'aidaient': 3945, 'plaisantent': 3946, 'efforts': 3947, 'chouettes': 3948, 'judicieux': 3949, 'dessine': 3950, 'effondr': 3951, 'ford': 3952, 'pareil': 3953, 'sanglots': 3954, 'impassible': 3955, 'ripost': 3956, 'faudrait': 3957, 'battra': 3958, 'liorera': 3959, 'vacille': 3960, 'anges': 3961, 'tabli': 3962, 'connaissions': 3963, 'rendues': 3964, 'rendus': 3965, 'stupides': 3966, 'manquera': 3967, 'manqueras': 3968, 'impuissants': 3969, 'partenaires': 3970, 'puissants': 3971, 'fugi': 3972, 'tues': 3973, 'pareils': 3974, 'massif': 3975, 'causes': 3976, 'fautif': 3977, 'feras': 3978, 'apprenez': 3979, 'chandelle': 3980, 'braves': 3981, 'puritain': 3982, 'puritaine': 3983, 'voleuse': 3984, 'chants': 3985, 'chavir': 3986, 'regardes': 3987, 'brosse': 3988, 'arranger': 3989, 'fies': 3990, 'pri': 3991, 'sordre': 3992, 'grille': 3993, 'pop': 3994, 'recommenc': 3995, 'quarante': 3996, 'aventure': 3997, 'ois': 3998, 'sob': 3999, 'retrouv': 4000, 'barrass': 4001, 'cultive': 4002, 'correctement': 4003, 'pilepsie': 4004, 'politique': 4005, 'reptiles': 4006, 'chaleur': 4007, 'alibi': 4008, 'recevoir': 4009, 'anim': 4010, 'auto': 4011, 'nouba': 4012, 'terrain': 4013, 'factures': 4014, 'motif': 4015, 'dormis': 4016, 'revenue': 4017, 'acquitt': 4018, 'coma': 4019, 'tective': 4020, 'ologue': 4021, 'aventureuse': 4022, 'appliqu': 4023, 'ivrogne': 4024, 'sorci': 4025, 'dispute': 4026, 'capitaine': 4027, 'finira': 4028, 'onze': 4029, 'sushi': 4030, 'reposons': 4031, 'viseur': 4032, 'mensonges': 4033, 'gifla': 4034, 'toussait': 4035, 'toussa': 4036, 'textos': 4037, 'imminente': 4038, 'potage': 4039, 'rem': 4040, 'bloqu': 4041, 'devinrent': 4042, 'devenues': 4043, 'partent': 4044, 'restent': 4045, 'attendent': 4046, 'lancez': 4047, 'baguel': 4048, 'client': 4049, 'dyslexique': 4050, 'ent': 4051, 'craint': 4052, 'trompait': 4053, 'sirot': 4054, 'provoqu': 4055, 'texto': 4056, 'emball': 4057, 'pugnant': 4058, 'gaufres': 4059, 'voile': 4060, 'camper': 4061, 'impatients': 4062, 'impatientes': 4063, 'prisonni': 4064, 'survivants': 4065, 'comptes': 4066, 'gligente': 4067, 'pides': 4068, 'talentueuses': 4069, 'grasse': 4070, 'ailes': 4071, 'bienvenues': 4072, 'moururent': 4073, 'catholique': 4074, 'catholiques': 4075, 'maniaque': 4076, 'canne': 4077, 'sommet': 4078, 'stores': 4079, 'trisez': 4080, 'souciez': 4081, 'cipitamment': 4082, 'picasso': 4083, 'longues': 4084, 'intime': 4085, 'natation': 4086, 'pensait': 4087, 'dormit': 4088, 'biologiste': 4089, 'deuxi': 4090, 'observe': 4091, 'respiration': 4092, 'trouves': 4093, 'ressent': 4094, 'ternuer': 4095, 'inclin': 4096, 'cogn': 4097, 'remplacer': 4098, 'truite': 4099, 'impuissante': 4100, 'arnaquer': 4101, 'ordinateurs': 4102, 'allergies': 4103, 'tonations': 4104, 'allumai': 4105, 'cierge': 4106, 'norm': 4107, 'kleenex': 4108, 'pneus': 4109, 'us': 4110, 'attendue': 4111, 'agressive': 4112, 'punie': 4113, 'pardonnerai': 4114, 'vingt': 4115, 'comptable': 4116, 'pratiquement': 4117, 'parano': 4118, 'aque': 4119, 'euros': 4120, 'excessif': 4121, 'pluvieux': 4122, 'venteux': 4123, 'contentez': 4124, 'neigera': 4125, 'puces': 4126, 'minuscule': 4127, 'pouls': 4128, 'rythme': 4129, 'perroquets': 4130, 'velopper': 4131, 'garez': 4132, 'respectez': 4133, 'rome': 4134, 'verrons': 4135, 'tuberculose': 4136, 'insult': 4137, 'sc': 4138, 'fix': 4139, 'sursauter': 4140, 'hilarant': 4141, 'plaisant': 4142, 'nible': 4143, 'limites': 4144, 'oblig': 4145, 'craignent': 4146, 'dangereuses': 4147, 'correspond': 4148, 'avanc': 4149, 'embrouill': 4150, 'ignorait': 4151, 'ex': 4152, 'pianiste': 4153, 'regrets': 4154, 'marchait': 4155, 'tuera': 4156, 'aimera': 4157, 'protection': 4158, 'calmer': 4159, 'langage': 4160, 'premiers': 4161, 'commettons': 4162, 'retirer': 4163, 'prises': 4164, 'lons': 4165, 'coupables': 4166, 'shabiller': 4167, 'pourrie': 4168, 'sultat': 4169, 'finit': 4170, 'ceinture': 4171, 'toilette': 4172, 'effectivement': 4173, 'ignores': 4174, 'conseill': 4175, 'suffisante': 4176, 'importantes': 4177, 'bavarde': 4178, 'japonaises': 4179, 'voleurs': 4180, 'voleuses': 4181, 'copies': 4182, 'traduire': 4183, 'blonde': 4184, 'pleins': 4185, 'paraissait': 4186, 'encombre': 4187, 'saisit': 4188, 'marron': 4189, 'courts': 4190, 'gentleman': 4191, 'scientifique': 4192, 'influent': 4193, 'suicid': 4194, 'disait': 4195, 'mouise': 4196, 'rampe': 4197, 'rivaliser': 4198, 'quotidiennement': 4199, 'accepter': 4200, 'contacter': 4201, 'ralentir': 4202, 'ignorais': 4203, 'inscrit': 4204, 'vuln': 4205, 'couche': 4206, 'passeport': 4207, 'excellentes': 4208, 'saine': 4209, 'chapeaux': 4210, 'charpe': 4211, 'barrage': 4212, 'quilibre': 4213, 'appels': 4214, 'lectricit': 4215, 'ignorance': 4216, 'planche': 4217, 'assiettes': 4218, 'averti': 4219, 'passager': 4220, 'dissuad': 4221, 'boulevers': 4222, 'candidat': 4223, 'abasourdi': 4224, 'inflation': 4225, 'vieillit': 4226, 'convaincant': 4227, 'inattendu': 4228, 'arrang': 4229, 'paille': 4230, 'montons': 4231, 'raffolent': 4232, 'aiguis': 4233, 'ennuyeuse': 4234, 'admis': 4235, 'imiter': 4236, 'aspirine': 4237, 'voque': 4238, 'surprenant': 4239, 'policiers': 4240, 'massifs': 4241, 'regardent': 4242, 'renards': 4243, 'ressemblent': 4244, 'convenait': 4245, 'menteuses': 4246, 'reuses': 4247, 'identiques': 4248, 'caisse': 4249, 'seau': 4250, 'noix': 4251, 'gulier': 4252, 'jeudi': 4253, 'tend': 4254, 'magicien': 4255, 'protecteur': 4256, 'remarquable': 4257, 'mineur': 4258, 'ramper': 4259, 'mises': 4260, 'tarder': 4261, 'fauts': 4262, 'cano': 4263, 'bataille': 4264, 'aventureux': 4265, 'lai': 4266, 'trouble': 4267, 'cible': 4268, 'satisfaisant': 4269, 'auriez': 4270, 'enne': 4271, 'tantes': 4272, 'virgule': 4273, 'criminelle': 4274, 'escargots': 4275, 'conduise': 4276, 'aussit': 4277, 'obtenez': 4278, 'enquis': 4279, 'retint': 4280, 'chinois': 4281, 'bouc': 4282, 'missaire': 4283, 'bruns': 4284, 'position': 4285, 'frites': 4286, 'cuite': 4287, 'autoriser': 4288, 'imaginer': 4289, 'entendus': 4290, 'viendras': 4291, 'viendrez': 4292, 'coutume': 4293, 'framboises': 4294, 'baffe': 4295, 'jules': 4296, 'percut': 4297, 'consult': 4298, 'nagasaki': 4299, 'rouill': 4300, 'invincible': 4301, 'cens': 4302, 'brise': 4303, 'mena': 4304, 'pertinent': 4305, 'occupation': 4306, 'prouv': 4307, 'uvre': 4308, 'frigo': 4309, 'inoubliable': 4310, 'juges': 4311, 'profil': 4312, 'pelouse': 4313, 'scell': 4314, 'strat': 4315, 'gie': 4316, 'suivante': 4317, 'suivit': 4318, 'chets': 4319, 'bondi': 4320, 'vouloir': 4321, 'linge': 4322, 'efforcez': 4323, 'noms': 4324, 'serveur': 4325, 'magasins': 4326, 'verte': 4327, 'tentes': 4328, 'insupportable': 4329, 'bahi': 4330, 'pessimiste': 4331, 'actif': 4332, 'dirig': 4333, 'ait': 4334, 'sempar': 4335, 'entour': 4336, 'encercl': 4337, 'mouiller': 4338, 'affecte': 4339, 'raisins': 4340, 'fermes': 4341, 'tonation': 4342, 'enthousiastes': 4343, 'partirons': 4344, 'horaire': 4345, 'servent': 4346, 'signifier': 4347, 'trouvent': 4348, 'aimerait': 4349, 'voies': 4350, 'voyiez': 4351, 'remettras': 4352, 'remettrez': 4353, 'sentiras': 4354, 'sentirez': 4355, 'riment': 4356, 'mammif': 4357, 'tal': 4358, 'essayes': 4359, 'directeur': 4360, 'canards': 4361, 'chances': 4362, 'absorbe': 4363, 'accepta': 4364, 'dame': 4365, 'for': 4366, 'douceur': 4367, 'retira': 4368, 'retir': 4369, 'pull': 4370, 'telle': 4371, 'soci': 4372, 'pli': 4373, 'messages': 4374, 'uniforme': 4375, 'assistant': 4376, 'tranges': 4377, 'seriez': 4378, 'chinoise': 4379, 'fasse': 4380, 'assistance': 4381, 'instructions': 4382, 'lectronique': 4383, 'timent': 4384, 'pierre': 4385, 'sciences': 4386, 'progr': 4387, 'casier': 4388, 'paquet': 4389, 'ennuy': 4390, 'information': 4391, 'nettoyons': 4392, 'rangeons': 4393, 'singes': 4394, 'gencives': 4395, 'marmonner': 4396, 'mariole': 4397, 'chers': 4398, 'bandit': 4399, 'inacceptable': 4400, 'charbon': 4401, 'correcte': 4402, 'baissa': 4403, 'questionn': 4404, 'semblaient': 4405, 'auront': 4406, 'constamment': 4407, 'fbi': 4408, 'impatience': 4409, 'vomir': 4410, 'cureuil': 4411, 'diriges': 4412, 'ouf': 4413, 'gaspillez': 4414, 'gaspilles': 4415, 'taper': 4416, 'ball': 4417, 'gative': 4418, 'nerfs': 4419, 'billets': 4420, 'blanches': 4421, 'impliquer': 4422, 'statistiques': 4423, 'collier': 4424, 'boucles': 4425, 'colline': 4426, 'allonger': 4427, 'allergique': 4428, 'poign': 4429, 'disent': 4430, 'basket': 4431, 'irresponsable': 4432, 'voie': 4433, 'autopsie': 4434, 'thon': 4435, 'fuyons': 4436, 'cachez': 4437, 'stop': 4438, 'aha': 4439, 'raoul': 4440, 'attaquez': 4441, 'tchin': 4442, 'fui': 4443, 'justes': 4444, 'quitables': 4445, 'enterrez': 4446, 'secouez': 4447, 'pliez': 4448, 'assoupi': 4449, 'assoupie': 4450, 'fig': 4451, 'jur': 4452, 'cafard': 4453, 'bibi': 4454, 'appuie': 4455, 'bouclez': 4456, 'battues': 4457, 'menottez': 4458, 'criss': 4459, 'barrez': 4460, 'barre': 4461, 'ret': 4462, 'soupir': 4463, 'revoil': 4464, 'enfuyez': 4465, 'nickel': 4466, 'payait': 4467, 'mourez': 4468, 'dodo': 4469, 'dj': 4470, 'sexy': 4471, 'clign': 4472, 'recul': 4473, 'mi': 4474, 'grogn': 4475, 'inspir': 4476, 'voyais': 4477, 'marcherai': 4478, 'so': 4479, 'pleuvait': 4480, 'immobiles': 4481, 'tranquillisez': 4482, 'aaah': 4483, 'capturez': 4484, 'patientez': 4485, 'calmos': 4486, 'entret': 4487, 'emporterons': 4488, 'extra': 4489, 'partant': 4490, 'inspire': 4491, 'truis': 4492, 'tracassez': 4493, 'sautez': 4494, 'chauffer': 4495, 'raccroch': 4496, 'construite': 4497, 'parai': 4498, 'tressailli': 4499, 'sursaut': 4500, 'protestais': 4501, 'enfuit': 4502, 'pliss': 4503, 'tirerai': 4504, 'cupide': 4505, 'immunis': 4506, 'stricte': 4507, 'magie': 4508, 'bougeons': 4509, 'voiles': 4510, 'passons': 4511, 'votons': 4512, 'vigilants': 4513, 'remplacez': 4514, 'alerte': 4515, 'trichent': 4516, 'frein': 4517, 'oublia': 4518, 'hocha': 4519, 'soupira': 4520, 'sanglotait': 4521, 'grimace': 4522, 'grimac': 4523, 'augmentez': 4524, 'visse': 4525, 'chouerons': 4526, 'ussirons': 4527, 'attendrons': 4528, 'galit': 4529, 'soucier': 4530, 'cides': 4531, 'cidez': 4532, 'atives': 4533, 'atifs': 4534, 'amicaux': 4535, 'amicale': 4536, 'mente': 4537, 'ponctuelles': 4538, 'ponctuels': 4539, 'impitoyables': 4540, 'cifique': 4541, 'minutieuse': 4542, 'rev': 4543, 'cuisinez': 4544, 'refais': 4545, 'refaites': 4546, 'trichez': 4547, 'fixe': 4548, 'endors': 4549, 'tripes': 4550, 'binoclard': 4551, 'flemmard': 4552, 'moine': 4553, 'parvenir': 4554, 'prune': 4555, 'verbalis': 4556, 'contravention': 4557, 'contredanse': 4558, 'sit': 4559, 'protest': 4560, 'remise': 4561, 'lutt': 4562, 'ennuyais': 4563, 'sou': 4564, 'tournait': 4565, 'saqu': 4566, 'tenais': 4567, 'crierai': 4568, 'assisterai': 4569, 'annulerai': 4570, 'changerai': 4571, 'ciderai': 4572, 'arriverai': 4573, 'neutre': 4574, 'voyante': 4575, 'dalle': 4576, 'crocs': 4577, 'brons': 4578, 'amusante': 4579, 'attrist': 4580, 'votez': 4581, 'appuyez': 4582, 'dormez': 4583, 'trichait': 4584, 'noya': 4585, 'respirait': 4586, 'inspira': 4587, 'moral': 4588, 'immense': 4589, 'vaniteux': 4590, 'salue': 4591, 'souvenons': 4592, 'partagera': 4593, 'commencerons': 4594, 'jumelles': 4595, 'emmerdeur': 4596, 'boulet': 4597, 'naze': 4598, 'rendras': 4599, 'vanoui': 4600, 'saufs': 4601, 'sauves': 4602, 'neuves': 4603, 'chauves': 4604, 'armez': 4605, 'attentif': 4606, 'attentive': 4607, 'confiants': 4608, 'confiantes': 4609, 'objective': 4610, 'objectives': 4611, 'accompagne': 4612, 'vex': 4613, 'radote': 4614, 'siste': 4615, 'carabine': 4616, 'existent': 4617, 'plaqu': 4618, 'barbare': 4619, 'avou': 4620, 'vanouir': 4621, 'malaise': 4622, 'tremper': 4623, 'sushis': 4624, 'plaisanteries': 4625, 'invent': 4626, 'crivis': 4627, 'battrai': 4628, 'gonfl': 4629, 'terais': 4630, 'expliquerai': 4631, 'tuerai': 4632, 'signerai': 4633, 'meaux': 4634, 'taureau': 4635, 'couard': 4636, 'fermier': 4637, 'agriculteur': 4638, 'assu': 4639, 'autiste': 4640, 'saigner': 4641, 'reconnaissante': 4642, 'abruti': 4643, 'rationnel': 4644, 'amend': 4645, 'chatouilleux': 4646, 'imitation': 4647, 'rira': 4648, 'plante': 4649, 'gaspillage': 4650, 'complexe': 4651, 'conneries': 4652, 'manquant': 4653, 'dames': 4654, 'hasarde': 4655, 'poursuivit': 4656, 'sortit': 4657, 'chantait': 4658, 'quereller': 4659, 'fredonner': 4660, 'bouder': 4661, 'geindre': 4662, 'bouff': 4663, 'commandement': 4664, 'approuvent': 4665, 'appelleront': 4666, 'grandiront': 4667, 'sauront': 4668, 'siennes': 4669, 'bronch': 4670, 'insist': 4671, 'sto': 4672, 'gan': 4673, 'rencontra': 4674, 'abattue': 4675, 'gaie': 4676, 'sentons': 4677, 'applaud': 4678, 'entendons': 4679, 'mourions': 4680, 'discutions': 4681, 'chair': 4682, 'suivrons': 4683, 'mourrons': 4684, 'biais': 4685, 'directs': 4686, 'sournoises': 4687, 'tie': 4688, 'racont': 4689, 'mourra': 4690, 'souhaitez': 4691, 'nerves': 4692, 'mourras': 4693, 'cruelles': 4694, 'passes': 4695, 'passa': 4696, 'approuve': 4697, 'quelconques': 4698, 'redemandez': 4699, 'courent': 4700, 'lancer': 4701, 'cuisez': 4702, 'criminalit': 4703, 'pigez': 4704, 'mesquine': 4705, 'niez': 4706, 'raccroche': 4707, 'pois': 4708, 'expirez': 4709, 'conseille': 4710, 'plombs': 4711, 'bretelles': 4712, 'enla': 4713, 'patin': 4714, 'mentit': 4715, 'aima': 4716, 'poursuit': 4717, 'retiens': 4718, 'retenez': 4719, 'klaxonne': 4720, 'coureur': 4721, 'soudoy': 4722, 'acqu': 4723, 'ressentir': 4724, 'tousse': 4725, 'poker': 4726, 'rena': 4727, 'gratuitement': 4728, 'devenais': 4729, 'enrhum': 4730, 'galant': 4731, 'nes': 4732, 'craques': 4733, 'chameaux': 4734, 'villes': 4735, 'raisin': 4736, 'chaussette': 4737, 'insister': 4738, 'formuler': 4739, 'quipage': 4740, 'cal': 4741, 'poulets': 4742, 'capitul': 4743, 'ligot': 4744, 'sci': 4745, 'excursion': 4746, 'continuerai': 4747, 'sauverai': 4748, 'scorpion': 4749, 'veuf': 4750, 'adapte': 4751, 'orphelin': 4752, 'bilingue': 4753, 'vann': 4754, 'tourdie': 4755, 'intrigue': 4756, 'admirateurs': 4757, 'parages': 4758, 'licite': 4759, 'barbant': 4760, 'pid': 4761, 'parodie': 4762, 'passionnant': 4763, 'invite': 4764, 'suicidaire': 4765, 'lutter': 4766, 'mener': 4767, 'vendons': 4768, 'poumons': 4769, 'rejoue': 4770, 'rejouez': 4771, 'sonnez': 4772, 'russie': 4773, 'scellez': 4774, 'scelle': 4775, 'renvoyez': 4776, 'renvoie': 4777, 'active': 4778, 'queue': 4779, 'marrez': 4780, 'cracher': 4781, 'varient': 4782, 'ramenez': 4783, 'signifiait': 4784, 'saturne': 4785, 'mythe': 4786, 'prenait': 4787, 'niales': 4788, 'petites': 4789, 'espionnes': 4790, 'trompent': 4791, 'ineptie': 4792, 'exerc': 4793, 'sita': 4794, 'plouc': 4795, 'stable': 4796, 'susceptible': 4797, 'entrain': 4798, 'vulgaire': 4799, 'manquait': 4800, 'overdose': 4801, 'crisp': 4802, 'perdait': 4803, 'travaillera': 4804, 'trompions': 4805, 'prendrons': 4806, 'acceptons': 4807, 'anxieux': 4808, 'perplexes': 4809, 'potes': 4810, 'veinards': 4811, 'veinardes': 4812, 'synchronis': 4813, 'populaires': 4814, 'ciaux': 4815, 'malchanceuses': 4816, 'fiasco': 4817, 'hurle': 4818, 'lisible': 4819, 'snob': 4820, 'brit': 4821, 'partiale': 4822, 'bougon': 4823, 'bougonne': 4824, 'grognon': 4825, 'mentaux': 4826, 'maigrichonnes': 4827, 'maigrichons': 4828, 'els': 4829, 'bres': 4830, 'clich': 4831, 'mouche': 4832, 'offrez': 4833, 'portail': 4834, 'copiez': 4835, 'produisent': 4836, 'tigres': 4837, 'nies': 4838, 'recyclage': 4839, 'pratiquez': 4840, 'salace': 4841, 'assoyez': 4842, 'formez': 4843, 'mordit': 4844, 'grond': 4845, 'tirait': 4846, 'haletait': 4847, 'travailla': 4848, 'freinez': 4849, 'freine': 4850, 'maniez': 4851, 'crus': 4852, 'comm': 4853, 'cocufi': 4854, 'lang': 4855, 'saventure': 4856, 'muni': 4857, 'insectes': 4858, 'repasser': 4859, 'karaok': 4860, 'homard': 4861, 'nigmes': 4862, 'side': 4863, 'desserts': 4864, 'protestation': 4865, 'timbre': 4866, 'ration': 4867, 'plaide': 4868, 'revient': 4869, 'reprends': 4870, 'insouciant': 4871, 'farine': 4872, 'incarc': 4873, 'agonie': 4874, 'graci': 4875, 'prosp': 4876, 'phonerai': 4877, 'guiderai': 4878, 'brouillerai': 4879, 'occuperai': 4880, 'pouserai': 4881, 'fierai': 4882, 'butante': 4883, 'novice': 4884, 'marchand': 4885, 'musicien': 4886, 'diplomate': 4887, 'diter': 4888, 'thodique': 4889, 'surcharg': 4890, 'vainqueur': 4891, 'dible': 4892, 'liore': 4893, 'navant': 4894, 'classique': 4895, 'malhonn': 4896, 'interdit': 4897, 'immonde': 4898, 'appelons': 4899, 'simples': 4900, 'vad': 4901, 'remarqua': 4902, 'caution': 4903, 'pluche': 4904, 'poursuivre': 4905, 'relevez': 4906, 'fauteuil': 4907, 'redis': 4908, 'redites': 4909, 'bach': 4910, 'taquina': 4911, 'taquin': 4912, 'esprits': 4913, 'bavarder': 4914, 'ergoter': 4915, 'foutaises': 4916, 'tablit': 4917, 'aboya': 4918, 'burent': 4919, 'boueux': 4920, 'masqu': 4921, 'puent': 4922, 'morfl': 4923, 'attaquer': 4924, 'attaqueront': 4925, 'essaient': 4926, 'essayent': 4927, 'positivement': 4928, 'excusa': 4929, 'poire': 4930, 'buvait': 4931, 'larguer': 4932, 'intervint': 4933, 'loser': 4934, 'requin': 4935, 'cynique': 4936, 'assoiff': 4937, 'imperturbable': 4938, 'flingues': 4939, 'allure': 4940, 'routi': 4941, 'repr': 4942, 'tendit': 4943, 'gardait': 4944, 'ussira': 4945, 'bluffe': 4946, 'noie': 4947, 'surveillez': 4948, 'cautions': 4949, 'cessions': 4950, 'atterrir': 4951, 'action': 4952, 'plaisantait': 4953, 'parerons': 4954, 'corrigerons': 4955, 'aiderons': 4956, 'couple': 4957, 'reconnaissants': 4958, 'reconnaissantes': 4959, 'impuissantes': 4960, 'innocents': 4961, 'puissantes': 4962, 'tus': 4963, 'meilleures': 4964, 'pareilles': 4965, 'choue': 4966, 'intervenu': 4967, 'remonte': 4968, 'insaisissable': 4969, 'imprudent': 4970, 'imprudente': 4971, 'hideuse': 4972, 'obsc': 4973, 'professionnel': 4974, 'gagnez': 4975, 'emportez': 4976, 'retourna': 4977, 'chavira': 4978, 'ajuste': 4979, 'inscrire': 4980, 'gratuites': 4981, 'envieux': 4982, 'envieuse': 4983, 'hibernent': 4984, 'ongles': 4985, 'trappe': 4986, 'jusque': 4987, 'noirs': 4988, 'fendez': 4989, 'fends': 4990, 'barqu': 4991, 'massage': 4992, 'confiture': 4993, 'rappelles': 4994, 'radin': 4995, 'insultez': 4996, 'interrompez': 4997, 'interromps': 4998, 'sistez': 4999, 'corn': 5000, 'criteau': 5001, 'pancarte': 5002, 'abandonna': 5003, 'sucreries': 5004, 'mentionna': 5005, 'sauva': 5006, 'whisky': 5007, 'tudia': 5008, 'outr': 5009, 'poux': 5010, 'humiliation': 5011, 'mangeais': 5012, 'per': 5013, 'ritais': 5014, 'vreuse': 5015, 'isol': 5016, 'exclue': 5017, 'barrassai': 5018, 'fanatiques': 5019, 'ques': 5020, 'mariages': 5021, 'boulots': 5022, 'coude': 5023, 'regardai': 5024, 'java': 5025, 'moelleux': 5026, 'internet': 5027, 'retentir': 5028, 'poings': 5029, 'vitamines': 5030, 'promen': 5031, 'remboursement': 5032, 'combattre': 5033, 'combat': 5034, 'nierai': 5035, 'tairai': 5036, 'referais': 5037, 'arrangerai': 5038, 'truirai': 5039, 'commanderai': 5040, 'dormirai': 5041, 'soudre': 5042, 'capricorne': 5043, 'consciente': 5044, 'arrose': 5045, 'daltonien': 5046, 'vaincre': 5047, 'os': 5048, 'spontan': 5049, 'aval': 5050, 'support': 5051, 'croyons': 5052, 'solde': 5053, 'glacial': 5054, 'mou': 5055, 'outrage': 5056, 'passag': 5057, 'balaise': 5058, 'chissant': 5059, 'anmoins': 5060, 'troit': 5061, 'souriante': 5062, 'souriant': 5063, 'biper': 5064, 'citron': 5065, 'taisons': 5066, 'collaborons': 5067, 'cerfs': 5068, 'improvisons': 5069, 'songe': 5070, 'jeans': 5071, 'collant': 5072, 'pelez': 5073, 'requins': 5074, 'pin': 5075, 'attach': 5076, 'travaillait': 5077, 'baraka': 5078, 'franchement': 5079, 'racontez': 5080, 'ombre': 5081, 'douteux': 5082, 'filet': 5083, 'lante': 5084, 'couch': 5085, 'mugissait': 5086, 'acteurs': 5087, 'pilotes': 5088, 'fichent': 5089, 'craignaient': 5090, 'tenaient': 5091, 'partirent': 5092, 'eurent': 5093, 'dules': 5094, 'rigolent': 5095, 'similaires': 5096, 'farce': 5097, 'rappel': 5098, 'poursuivait': 5099, 'apparu': 5100, 'suivait': 5101, 'tailleur': 5102, 'loquent': 5103, 'incertain': 5104, 'lamentable': 5105, 'pervers': 5106, 'tact': 5107, 'venait': 5108, 'dupe': 5109, 'moigner': 5110, 'moigne': 5111, 'taquinait': 5112, 'porta': 5113, 'sirait': 5114, 'randonn': 5115, 'cidera': 5116, 'souffrira': 5117, 'souviendra': 5118, 'repoussant': 5119, 'murs': 5120, 'secouru': 5121, 'testons': 5122, 'enseignants': 5123, 'enseignantes': 5124, 'ciles': 5125, 'assister': 5126, 'disposions': 5127, 'experts': 5128, 'conscients': 5129, 'respectons': 5130, 'faisions': 5131, 'attraperons': 5132, 'resterons': 5133, 'viendrons': 5134, 'canadiennes': 5135, 'ambitieuses': 5136, 'disponibles': 5137, 'charge': 5138, 'chichis': 5139, 'endurants': 5140, 'endurantes': 5141, 'survivantes': 5142, 'scores': 5143, 'sor': 5144, 'compense': 5145, 'wc': 5146, 'trousses': 5147, 'joui': 5148, 'jouie': 5149, 'arrogante': 5150, 'arrogants': 5151, 'saignez': 5152, 'autoritaire': 5153, 'responsables': 5154, 'bruyants': 5155, 'bruyantes': 5156, 'lents': 5157, 'lentes': 5158, 'aboyer': 5159, 'surviennent': 5160, 'invisible': 5161, 'candidature': 5162, 'golfeur': 5163, 'golfeuse': 5164, 'dactylo': 5165, 'bec': 5166, 'ennuyant': 5167, 'normalement': 5168, 'renseigner': 5169, 'peler': 5170, 'concentre': 5171, 'traverse': 5172, 'traversez': 5173, 'aimiez': 5174, 'licatement': 5175, 'connard': 5176, 'couragez': 5177, 'grimaces': 5178, 'ramassez': 5179, 'verres': 5180, 'triomphe': 5181, 'hamster': 5182, 'jardiner': 5183, 'accordez': 5184, 'reparti': 5185, 'croissant': 5186, 'din': 5187, 'nettoya': 5188, 'soucis': 5189, 'chasser': 5190, 'endett': 5191, 'nonc': 5192, 'muet': 5193, 'parviendra': 5194, 'tenancier': 5195, 'fumeur': 5196, 'resurgit': 5197, 'bonnard': 5198, 'ressentez': 5199, 'sil': 5200, 'chop': 5201, 'confisqu': 5202, 'expr': 5203, 'noisettes': 5204, 'investi': 5205, 'investie': 5206, 'pouvoirs': 5207, 'raisons': 5208, 'chimie': 5209, 'hypocrisie': 5210, 'paperasse': 5211, 'bouquin': 5212, 'requ': 5213, 'men': 5214, 'soulev': 5215, 'rissons': 5216, 'spaghettis': 5217, 'savon': 5218, 'couvercle': 5219, 'restaurant': 5220, 'recommande': 5221, 'refusai': 5222, 'frott': 5223, 'bail': 5224, 'divorcer': 5225, 'affection': 5226, 'clo': 5227, 'tudierai': 5228, 'plats': 5229, 'employ': 5230, 'programmeur': 5231, 'ambidextre': 5232, 'traditionaliste': 5233, 'scolaris': 5234, 'grenier': 5235, 'relax': 5236, 'vente': 5237, 'attir': 5238, 'virus': 5239, 'avouer': 5240, 'battage': 5241, 'obligatoire': 5242, 'riode': 5243, 'tradition': 5244, 'confortant': 5245, 'saison': 5246, 'drame': 5247, 'brille': 5248, 'transparent': 5249, 'asie': 5250, 'engourdis': 5251, 'humour': 5252, 'parlera': 5253, 'capables': 5254, 'meurent': 5255, 'signer': 5256, 'reculer': 5257, 'gaspiller': 5258, 'fouillez': 5259, 'chevelure': 5260, 'chameau': 5261, 'banc': 5262, 'criait': 5263, 'mordue': 5264, 'crache': 5265, 'vasser': 5266, 'interf': 5267, 'pincer': 5268, 'viter': 5269, 'rideau': 5270, 'ouvrirent': 5271, 'gag': 5272, 'interrupteur': 5273, 'retentit': 5274, 'raill': 5275, 'artistes': 5276, 'boivent': 5277, 'changeront': 5278, 'souviendront': 5279, 'chappent': 5280, 'vadent': 5281, 'enfuient': 5282, 'rient': 5283, 'temporiser': 5284, 'chauff': 5285, 'relaxant': 5286, 'choquant': 5287, 'tabass': 5288, 'lapin': 5289, 'poules': 5290, 'travails': 5291, 'routier': 5292, 'paradis': 5293, 'observer': 5294, 'campus': 5295, 'soupirer': 5296, 'tulipes': 5297, 'poing': 5298, 'horriblement': 5299, 'constern': 5300, 'attaqua': 5301, 'agresser': 5302, 'cut': 5303, 'innovateur': 5304, 'rigoler': 5305, 'bel': 5306, 'concouru': 5307, 'parvenons': 5308, 'pendons': 5309, 'trouvons': 5310, 'diviser': 5311, 'conserve': 5312, 'vacuer': 5313, 'captur': 5314, 'souhaitons': 5315, 'reverrons': 5316, 'nons': 5317, 'situation': 5318, 'ussite': 5319, 'mangeur': 5320, 'ferez': 5321, 'astrologique': 5322, 'voudrez': 5323, 'velopp': 5324, 'remarquerait': 5325, 'professeure': 5326, 'mentirait': 5327, 'aiderait': 5328, 'x': 5329, 'indique': 5330, 'cesses': 5331, 'retournes': 5332, 'rebrousse': 5333, 'septi': 5334, 'regretteras': 5335, 'regretterez': 5336, 'veuse': 5337, 'belles': 5338, 'courtoise': 5339, 'dangereuse': 5340, 'odieux': 5341, 'odieuse': 5342, 'cries': 5343, 'merveilleuses': 5344, 'valis': 5345, 'abattit': 5346, 'compr': 5347, 'hensible': 5348, 'conviendra': 5349, 'sympathiques': 5350, 'valent': 5351, 'autrui': 5352, 'directement': 5353, 'effectuer': 5354, 'lien': 5355, 'rapproche': 5356, 'pouviez': 5357, 'fourmis': 5358, 'domestique': 5359, 'kratom': 5360, 'cochonneries': 5361, 'tats': 5362, 'foin': 5363, 'bruyamment': 5364, 'saisi': 5365, 'blonds': 5366, 'blond': 5367, 'physicien': 5368, 'cessa': 5369, 'honneur': 5370, 'confectionna': 5371, 'russe': 5372, 'frotta': 5373, 'tordu': 5374, 'emprisonn': 5375, 'rentra': 5376, 'excusera': 5377, 'fourre': 5378, 'courais': 5379, 'couraient': 5380, 'donnes': 5381, 'baigne': 5382, 'verrouillai': 5383, 'achetai': 5384, 'coiff': 5385, 'chopin': 5386, 'supprim': 5387, 'rable': 5388, 'tap': 5389, 'grinc': 5390, 'cauchemar': 5391, 'migraine': 5392, 'poitrine': 5393, 'titularis': 5394, 'viendrais': 5395, 'laissai': 5396, 'aventures': 5397, 'souliers': 5398, 'confortablement': 5399, 'fabriqu': 5400, 'yens': 5401, 'ciais': 5402, 'arpenteuse': 5403, 'bestiole': 5404, 'balay': 5405, 'autrement': 5406, 'plates': 5407, 'fenses': 5408, 'submerg': 5409, 'promener': 5410, 'poursuivis': 5411, 'rentrerai': 5412, 'garderai': 5413, 'voterai': 5414, 'sagittaire': 5415, 'canin': 5416, 'observ': 5417, 'fatiguer': 5418, 'bondis': 5419, 'rialiste': 5420, 'indisponible': 5421, 'persuad': 5422, 'sauvage': 5423, 'sup': 5424, 'fiert': 5425, 'fastidieux': 5426, 'complot': 5427, 'discutable': 5428, 'sitation': 5429, 'insens': 5430, 'chit': 5431, 'assombrit': 5432, 'humaine': 5433, 'dru': 5434, 'impr': 5435, 'distances': 5436, 'concentrons': 5437, 'refaisons': 5438, 'tirons': 5439, 'jetons': 5440, 'entrons': 5441, 'marchons': 5442, 'vaudra': 5443, 'paule': 5444, 'plaignait': 5445, 'clochait': 5446, 'attirent': 5447, 'augmentent': 5448, 'hausse': 5449, 'adolescent': 5450, 'fleur': 5451, 'balance': 5452, 'dramatiser': 5453, 'risquez': 5454, 'lourde': 5455, 'supposition': 5456, 'brait': 5457, 'pouff': 5458, 'crasa': 5459, 'jugement': 5460, 'pure': 5461, 'massives': 5462, 'chassaient': 5463, 'cessent': 5464, 'tortur': 5465, 'tiraient': 5466, 'haletaient': 5467, 'survivront': 5468, 'gocieront': 5469, 'essayeront': 5470, 'permanent': 5471, 'urant': 5472, 'temporaire': 5473, 'louche': 5474, 'comport': 5475, 'divor': 5476, 'croyant': 5477, 'garda': 5478, 'country': 5479, 'tricoter': 5480, 'rassit': 5481, 'pompier': 5482, 'dera': 5483, 'approuverait': 5484, 'tuyau': 5485, 'visiteur': 5486, 'mandat': 5487, 'cherch': 5488, 'fourr': 5489, 'alerter': 5490, 'gerons': 5491, 'aventureuses': 5492, 'extravertis': 5493, 'devenons': 5494, 'retirons': 5495, 'averties': 5496, 'issante': 5497, 'lation': 5498, 'rencontrerons': 5499, 'habites': 5500, 'situe': 5501, 'tourte': 5502, 'waou': 5503, 'actrices': 5504, 'points': 5505, 'suture': 5506, 'tirera': 5507, 'ussiras': 5508, 'meurtrier': 5509, 'survivante': 5510, 'tants': 5511, 'productifs': 5512, 'productives': 5513, 'cochon': 5514, 'hostile': 5515, 'craintifs': 5516, 'craintives': 5517, 'peureux': 5518, 'peureuse': 5519, 'insecte': 5520, 'applaudissements': 5521, 'inscrite': 5522, 'tariens': 5523, 'tariennes': 5524, 'participation': 5525, 'accomplir': 5526, 'traire': 5527, 'mention': 5528, 'habit': 5529, 'blog': 5530, 'exemplaire': 5531, 'kabuki': 5532, 'mozart': 5533, 'offense': 5534, 'offusque': 5535, 'autant': 5536, 'pierres': 5537, 'poussi': 5538, 'profitez': 5539, 'ciale': 5540, 'dispara': 5541, 'haine': 5542, 'termina': 5543, 'buta': 5544, 'roue': 5545, 'alzheimer': 5546, 'rudit': 5547, 'tapa': 5548, 'aupr': 5549, 'montra': 5550, 'repouss': 5551, 'kilos': 5552, 'aristocrate': 5553, 'imprimer': 5554, 'grises': 5555, 'tabac': 5556, 'mus': 5557, 'proph': 5558, 'cacahu': 5559, 'guigne': 5560, 'lamentablement': 5561, 'dispos': 5562, 'plupart': 5563, 'tickets': 5564, 'habiller': 5565, 'avertisse': 5566, 'appareils': 5567, 'trouverons': 5568, 'salaire': 5569, 'professeurs': 5570, 'promesses': 5571, 'truire': 5572, 'explosion': 5573, 'images': 5574, 'retirai': 5575, 'allai': 5576, 'copain': 5577, 'profiter': 5578, 'viennes': 5579, 'aidiez': 5580, 'disqualifi': 5581, 'jadis': 5582, 'duqu': 5583, 'jouerai': 5584, 'souviendrai': 5585, 'reconduirai': 5586, 'licencie': 5587, 'ennemie': 5588, 'licit': 5589, 'futur': 5590, 'tonnant': 5591, 'durera': 5592, 'collectif': 5593, 'recette': 5594, 'canard': 5595, 'frig': 5596, 'rateur': 5597, 'apparue': 5598, 'reformuler': 5599, 'taillons': 5600, 'heureusement': 5601, 'lunes': 5602, 'commises': 5603, 'irrit': 5604, 'jauge': 5605, 'intuition': 5606, 'diapo': 5607, 'verra': 5608, 'invita': 5609, 'ternellement': 5610, 'hiboux': 5611, 'grimp': 5612, 'vrais': 5613, 'pansement': 5614, 'coles': 5615, 'apparition': 5616, 'ricaine': 5617, 'cuisit': 5618, 'concocta': 5619, 'signa': 5620, 'nouilles': 5621, 'chahuter': 5622, 'visager': 5623, 'chatouille': 5624, 'ril': 5625, 'accu': 5626, 'class': 5627, 'avari': 5628, 'teintes': 5629, 'congel': 5630, 'tang': 5631, 'toiles': 5632, 'gliss': 5633, 'rampant': 5634, 'familles': 5635, 'otages': 5636, 'allaient': 5637, 'paisibles': 5638, 'passeront': 5639, 'arriveront': 5640, 'parviendront': 5641, 'jetables': 5642, 'trangers': 5643, 'amusent': 5644, 'furieuses': 5645, 'scout': 5646, 'claireur': 5647, 'inspecteur': 5648, 'digne': 5649, 'frappait': 5650, 'vivait': 5651, 'habitait': 5652, 'acquies': 5653, 'fichu': 5654, 'voudrait': 5655, 'suspicieux': 5656, 'imbattable': 5657, 'machine': 5658, 'affr': 5659, 'car': 5660, 'sacrifices': 5661, 'boue': 5662, 'ivres': 5663, 'justement': 5664, 'passagers': 5665, 'oublierons': 5666, 'prierons': 5667, 'ues': 5668, 'agissons': 5669, 'rep': 5670, 'pares': 5671, 'mijotes': 5672, 'voulaient': 5673, 'troits': 5674, 'redire': 5675, 'postul': 5676, 'cessera': 5677, 'tudes': 5678, 'boulangerie': 5679, 'serment': 5680, 'boules': 5681, 'mantra': 5682, 'rengaine': 5683, 'refrain': 5684, 'laisses': 5685, 'brill': 5686, 'fantastiques': 5687, 'virera': 5688, 'racistes': 5689, 'vites': 5690, 'jolis': 5691, 'jolies': 5692, 'venant': 5693, 'fascinante': 5694, 'perdante': 5695, 'indispensable': 5696, 'utilit': 5697, 'astucieuses': 5698, 'habiles': 5699, 'nieuses': 5700, 'solitaires': 5701, 'placer': 5702, 'objet': 5703, 'partagent': 5704, 'vaste': 5705, 'places': 5706, 'facebook': 5707, 'installez': 5708, 'installes': 5709, 'banquier': 5710, 'habitudes': 5711, 'boutonne': 5712, 'recycler': 5713, 'masser': 5714, 'contactez': 5715, 'obscurit': 5716, 'rencontres': 5717, 'bifurcation': 5718, 'embranchement': 5719, 'cont': 5720, 'bijoux': 5721, 'cigare': 5722, 'dits': 5723, 'k': 5724, 'tamine': 5725, 'ingrat': 5726, 'nerve': 5727, 'rougir': 5728, 'balancer': 5729, 'chaises': 5730, 'gaux': 5731, 'van': 5732, 'job': 5733, 'salua': 5734, 'rond': 5735, 'fermement': 5736, 'travailleur': 5737, 'parier': 5738, 'maroc': 5739, 'poussa': 5740, 'maltrait': 5741, 'christianisme': 5742, 'refusait': 5743, 'cardiologue': 5744, 'chasseur': 5745, 'merde': 5746, 'dresser': 5747, 'tablir': 5748, 'vertu': 5749, 'tha': 5750, 'atterri': 5751, 'lectricien': 5752, 'rompis': 5753, 'plucher': 5754, 'arrivais': 5755, 'sourcill': 5756, 'invitation': 5757, 'plaquer': 5758, 'ramen': 5759, 'nulle': 5760, 'vols': 5761, 'assistante': 5762, 'talents': 5763, 'entendues': 5764, 'shirt': 5765, 'modifications': 5766, 'ascenseur': 5767, 'franchise': 5768, 'retrouver': 5769, 'steak': 5770, 'gocier': 5771, 'relaxer': 5772, 'allemand': 5773, 'souhaiterais': 5774, 'usine': 5775, 'sociale': 5776, 'incroyablement': 5777, 'intimid': 5778, 'rail': 5779, 'sentable': 5780, 'ridique': 5781, 'bruiner': 5782, 'licieusement': 5783, 'nergie': 5784, 'inexcusable': 5785, 'bible': 5786, 'rifions': 5787, 'enfl': 5788, 'alli': 5789, 'limit': 5790, 'pyjamas': 5791, 'mineure': 5792, 'sonate': 5793, 'ravissante': 5794, 'tanche': 5795, 'registre': 5796, 'cureuils': 5797, 'pitre': 5798, 'enlevez': 5799, 'citronnier': 5800, 'courageant': 5801, 'original': 5802, 'soi': 5803, 'sence': 5804, 'incendie': 5805, 'modifi': 5806, 'singe': 5807, 'perspectives': 5808, 'enjeux': 5809, 'circulation': 5810, 'ignorent': 5811, 'investisseurs': 5812, 'iront': 5813, 'parables': 5814, 'exasp': 5815, 'inadmissible': 5816, 'lanc': 5817, 'stimulateur': 5818, 'plongeur': 5819, 'doigt': 5820, 'sangloter': 5821, 'enfuir': 5822, 'concours': 5823, 'laissera': 5824, 'hallucinations': 5825, 'texte': 5826, 'annexes': 5827, 'scandale': 5828, 'endorm': 5829, 'oral': 5830, 'avertissions': 5831, 'formions': 5832, 'informer': 5833, 'couvrirons': 5834, 'couvrira': 5835, 'consciencieuses': 5836, 'champions': 5837, 'tonneau': 5838, 'pourraient': 5839, 'boites': 5840, 'foirer': 5841, 'surestimes': 5842, 'surestimez': 5843, 'regretter': 5844, 'comportes': 5845, 'acari': 5846, 'saignes': 5847, 'dragueurs': 5848, 'curieuses': 5849, 'serviables': 5850, 'gantes': 5851, 'calamar': 5852, 'onn': 5853, 'explosifs': 5854, 'imitations': 5855, 'alisable': 5856, 'puisant': 5857, 'gain': 5858, 'domestiques': 5859, 'ruban': 5860, 'adh': 5861, 'sif': 5862, 'couvertures': 5863, 'glaucome': 5864, 'base': 5865, 'asseye': 5866, 'marijuana': 5867, 'lentilles': 5868, 'dentier': 5869, 'investigations': 5870, 'dramatique': 5871, 'gatif': 5872, 'duper': 5873, 'reproches': 5874, 'attendirent': 5875, 'fouill': 5876, 'vendue': 5877, 'atteignit': 5878, 'traversa': 5879, 'commun': 5880, 'orateur': 5881, 'inconnu': 5882, 'confectionne': 5883, 'depuis': 5884, 'direction': 5885, 'cousine': 5886, 'enleva': 5887, 'offert': 5888, 'roulent': 5889, 'fuji': 5890, 'veillai': 5891, 'rasant': 5892, 'ponctualit': 5893, 'disposais': 5894, 'alternative': 5895, 'tumeur': 5896, 'saignent': 5897, 'bottes': 5898, 'craquer': 5899, 'trouverions': 5900, 'boutte': 5901, 'offrir': 5902, 'digue': 5903, 'joute': 5904, 'verbale': 5905, 'moris': 5906, 'janvier': 5907, 'excitante': 5908, 'estim': 5909, 'flingu': 5910, 'essayiez': 5911, 'analyse': 5912, 'escalade': 5913, 'baffer': 5914, 'surveiller': 5915, 'surveillerai': 5916, 'disposition': 5917, 'frapper': 5918, 'poursuites': 5919, 'gourdi': 5920, 'gourdie': 5921, 'sure': 5922, 'exacte': 5923, 'figure': 5924, 'nuages': 5925, 'continuent': 5926, 'tremblent': 5927, 'ternel': 5928, 'espionne': 5929, 'judicieusement': 5930, 'scalpel': 5931, 'abaisse': 5932, 'abaissez': 5933, 'office': 5934, 'impoliment': 5935, 'inviter': 5936, 'pargne': 5937, 'procrastiner': 5938, 'remerciant': 5939, 'convenu': 5940, 'pseudo': 5941, 'serveurs': 5942, 'antidote': 5943, 'rence': 5944, 'prunes': 5945, 'plaignent': 5946, 'approchent': 5947, 'buvaient': 5948, 'smoothies': 5949, 'assirent': 5950, 'victorieuses': 5951, 'clater': 5952, 'devront': 5953, 'neront': 5954, 'touristes': 5955, 'tirent': 5956, 'constituent': 5957, 'intimes': 5958, 'liorent': 5959, 'maisons': 5960, 'saluer': 5961, 'maladroitement': 5962, 'ricaner': 5963, 'mir': 5964, 'croira': 5965, 'tremblaient': 5966, 'commander': 5967, 'avantage': 5968, 'empoisonnement': 5969, 'connect': 5970, 'parlerons': 5971, 'rables': 5972, 'subissons': 5973, 'confront': 5974, 'cuisines': 5975, 'attendaient': 5976, 'adviendra': 5977, 'juger': 5978, 'chirurgie': 5979, 'franchi': 5980, 'sentiments': 5981, 'desso': 5982, 'mentais': 5983, 'suspects': 5984, 'dominer': 5985, 'motions': 5986, 'fantasque': 5987, 'incorrecte': 5988, 'dixit': 5989, 'dauphin': 5990, 'pickpockets': 5991, 'capoter': 5992, 'connaissiez': 5993, 'comprise': 5994, 'waouh': 5995, 'wah': 5996, 'payais': 5997, 'payai': 5998, 'revoyure': 5999, 'conduisis': 6000, 'embrassez': 6001, 'inscrivez': 6002, 'inscris': 6003, 'soucions': 6004, 'brefs': 6005, 'icit': 6006, 'lires': 6007, 'pressez': 6008, 'phonai': 6009, 'repu': 6010, 'pousez': 6011, 'prouvez': 6012, 'fuis': 6013, 'stoppez': 6014, 'impeccable': 6015, 'chrome': 6016, 'souhaits': 6017, 'rattrape': 6018, 'filmez': 6019, 'filme': 6020, 'continuation': 6021, 'halte': 6022, 'conjure': 6023, 'acclamais': 6024, 'expir': 6025, 'syncope': 6026, 'fronc': 6027, 'jubil': 6028, 'partirais': 6029, 'cuisinerai': 6030, 'plierai': 6031, 'gaules': 6032, 'chanterai': 6033, 'nagerai': 6034, 'parlerai': 6035, 'pot': 6036, 'romps': 6037, 'rompez': 6038, 'renonce': 6039, 'chauffe': 6040, 'chauffez': 6041, 'pardi': 6042, 'ahhh': 6043, 'ralentis': 6044, 'ralentissez': 6045, 'choisissait': 6046, 'tenterons': 6047, 'creusez': 6048, 'insistez': 6049, 'raccrocha': 6050, 'suisse': 6051, 'helv': 6052, 'niosit': 6053, 'humain': 6054, 'botte': 6055, 'tristesse': 6056, 'trouvai': 6057, 'gagnant': 6058, 'gagnante': 6059, 'rcp': 6060, 'plaisez': 6061, 'trembl': 6062, 'hauss': 6063, 'siffl': 6064, 'accepterais': 6065, 'entrerai': 6066, 'cherai': 6067, 'grassouillette': 6068, 'flasque': 6069, 'gourmand': 6070, 'gourmande': 6071, 'affaiblie': 6072, 'tocade': 6073, 'encombrant': 6074, 'tabou': 6075, 'embrassons': 6076, 'bouts': 6077, 'prions': 6078, 'dons': 6079, 'taillez': 6080, 'somme': 6081, 'envole': 6082, 'cuisinait': 6083, 'halet': 6084, 'reposait': 6085, 'reposa': 6086, 'grima': 6087, 'bailla': 6088, 'vissez': 6089, 'mentons': 6090, 'apporterons': 6091, 'nagerons': 6092, 'marcherons': 6093, 'quittes': 6094, 'antes': 6095, 'foutus': 6096, 'vainqueurs': 6097, 'amicales': 6098, 'ments': 6099, 'mentes': 6100, 'ricordieuses': 6101, 'rigoureux': 6102, 'annule': 6103, 'annulez': 6104, 'char': 6105, 'consolez': 6106, 'console': 6107, 'participe': 6108, 'camouflez': 6109, 'discute': 6110, 'discutez': 6111, 'cligne': 6112, 'jubilez': 6113, 'jubile': 6114, 'riez': 6115, 'paniquez': 6116, 'fixez': 6117, 'endormez': 6118, 'gloussa': 6119, 'ricanait': 6120, 'loucha': 6121, 'louch': 6122, 'simule': 6123, 'blind': 6124, 'cassettes': 6125, 'verbaliser': 6126, 'gueulass': 6127, 'sali': 6128, 'souk': 6129, 'poche': 6130, 'skie': 6131, 'oppose': 6132, 'accises': 6133, 'battue': 6134, 'pleurerai': 6135, 'sortirai': 6136, 'boulang': 6137, 'ticuleux': 6138, 'ticuleuse': 6139, 'fredonne': 6140, 'fracass': 6141, 'talons': 6142, 'schcoumoune': 6143, 'poissard': 6144, 'plate': 6145, 'yen': 6146, 'contrefa': 6147, 'querre': 6148, 'vain': 6149, 'futile': 6150, 'avise': 6151, 'divisons': 6152, 'pioche': 6153, 'piochez': 6154, 'applaudis': 6155, 'enregistrez': 6156, 'enregistre': 6157, 'riposte': 6158, 'ripostez': 6159, 'enfoir': 6160, 'surprenez': 6161, 'surprends': 6162, 'croque': 6163, 'croquez': 6164, 'gnangnan': 6165, 'gueu': 6166, 'poisseux': 6167, 'repenses': 6168, 'toussota': 6169, 'expirait': 6170, 'gargaris': 6171, 'plane': 6172, 'engourdi': 6173, 'tendait': 6174, 'appellera': 6175, 'enfer': 6176, 'prom': 6177, 'rifierons': 6178, 'danserons': 6179, 'conduirons': 6180, 'cherons': 6181, 'partagerons': 6182, 'tirerons': 6183, 'tiendrons': 6184, 'emmerde': 6185, 'emmerdeuse': 6186, 'andouille': 6187, 'couillon': 6188, 'taudis': 6189, 'malandrin': 6190, 'ordure': 6191, 'plaie': 6192, 'adaptera': 6193, 'rendrez': 6194, 'vanouie': 6195, 'sympas': 6196, 'minces': 6197, 'comportez': 6198, 'gnait': 6199, 'charrie': 6200, 'charriez': 6201, 'verser': 6202, 'immondices': 6203, 'radotez': 6204, 'examinez': 6205, 'examine': 6206, 'craignez': 6207, 'excentrique': 6208, 'bigot': 6209, 'sectaire': 6210, 'illumin': 6211, 'soutenez': 6212, 'encouragez': 6213, 'encourage': 6214, 'arrogance': 6215, 'barbarie': 6216, 'oses': 6217, 'osez': 6218, 'romantisme': 6219, 'caviar': 6220, 'coupai': 6221, 'courtise': 6222, 'vertige': 6223, 'hache': 6224, 'urticaire': 6225, 'besoins': 6226, 'honore': 6227, 'treignis': 6228, 'improvis': 6229, 'mut': 6230, 'tripe': 6231, 'labor': 6232, 'goberais': 6233, 'saisirai': 6234, 'attraperai': 6235, 'ouvrirai': 6236, 'danseur': 6237, 'puriste': 6238, 'surfeur': 6239, 'surfeuse': 6240, 'flan': 6241, 'pinceaux': 6242, 'rebelle': 6243, 'abrutie': 6244, 'rationnelle': 6245, 'fringale': 6246, 'chatouilleuse': 6247, 'impartiale': 6248, 'eues': 6249, 'louve': 6250, 'simulation': 6251, 'pastiche': 6252, 'pat': 6253, 'daube': 6254, 'patent': 6255, 'source': 6256, 'suicide': 6257, 'roulez': 6258, 'informe': 6259, 'rebondissons': 6260, 'levons': 6261, 'hanche': 6262, 'souciait': 6263, 'corrigez': 6264, 'disposer': 6265, 'chan': 6266, 'arde': 6267, 'tranchante': 6268, 'demeurez': 6269, 'langez': 6270, 'filmer': 6271, 'bayer': 6272, 'corneilles': 6273, 'faudra': 6274, 'rapides': 6275, 'laids': 6276, 'cassent': 6277, 'sirable': 6278, 'chier': 6279, 'effraction': 6280, 'irruption': 6281, 'enr': 6282, 'tabasser': 6283, 'grogna': 6284, 'grognait': 6285, 'haussa': 6286, 'bucha': 6287, 'chaleureux': 6288, 'siffla': 6289, 'inimaginable': 6290, 'inconcevable': 6291, 'croyable': 6292, 'buvant': 6293, 'arabes': 6294, 'attaquerons': 6295, 'assisterons': 6296, 'arriverons': 6297, 'brouillerons': 6298, 'cachons': 6299, 'matures': 6300, 'stricts': 6301, 'culot': 6302, 'toupet': 6303, 'insolence': 6304, 'clips': 6305, 'vivra': 6306, 'mangeras': 6307, 'mangerez': 6308, 'verrez': 6309, 'verras': 6310, 'assures': 6311, 'bougeait': 6312, 'incluse': 6313, 'glisse': 6314, 'rape': 6315, 'glisser': 6316, 'lasses': 6317, 'redemande': 6318, 'interrogez': 6319, 'respectueuses': 6320, 'gamins': 6321, 'bandez': 6322, 'unissez': 6323, 'dansez': 6324, 'piges': 6325, 'grossis': 6326, 'tracez': 6327, 'sainement': 6328, 'expire': 6329, 'closent': 6330, 'barras': 6331, 'disjonct': 6332, 'creus': 6333, 'bagues': 6334, 'dentaires': 6335, 'ignora': 6336, 'britannique': 6337, 'patine': 6338, 'mue': 6339, 'rousp': 6340, 'teur': 6341, 'magnat': 6342, 'klaxonnez': 6343, 'palpitant': 6344, 'ajoutais': 6345, 'admirais': 6346, 'musulmane': 6347, 'devins': 6348, 'abstiens': 6349, 'somnolent': 6350, 'interdis': 6351, 'flipp': 6352, 'toche': 6353, 'plumer': 6354, 'foules': 6355, 'rencard': 6356, 'asthmatique': 6357, 'asthme': 6358, 'atteinte': 6359, 'titulaire': 6360, 'montres': 6361, 'pruneaux': 6362, 'baissai': 6363, 'excursions': 6364, 'dress': 6365, 'dressai': 6366, 'plaisance': 6367, 'squash': 6368, 'collecte': 6369, 'recueille': 6370, 'reine': 6371, 'anguille': 6372, 'roche': 6373, 'flaire': 6374, 'firefox': 6375, 'poney': 6376, 'bloui': 6377, 'blouie': 6378, 'blaguais': 6379, 'poignarder': 6380, 'plairait': 6381, 'nettoierai': 6382, 'obtiendrai': 6383, 'stagiaire': 6384, 'pressif': 6385, 'pressive': 6386, 'impulsive': 6387, 'gamine': 6388, 'observateur': 6389, 'observatrice': 6390, 'conditionnelle': 6391, 'ressentiment': 6392, 'survis': 6393, 'aggrave': 6394, 'viral': 6395, 'vanouira': 6396, 'grisant': 6397, 'instinct': 6398, 'vieillot': 6399, 'obsol': 6400, 'pagayer': 6401, 'avan': 6402, 'ouvrons': 6403, 'poursuivons': 6404, 'rencontrez': 6405, 'ssait': 6406, 'livide': 6407, 'distinctement': 6408, 'positive': 6409, 'touille': 6410, 'touillez': 6411, 'froncer': 6412, 'redresse': 6413, 'balayer': 6414, 'varier': 6415, 'variables': 6416, 'tonnes': 6417, 'arrange': 6418, 'ravissant': 6419, 'meuglait': 6420, 'vertes': 6421, 'espions': 6422, 'basique': 6423, 'tise': 6424, 'coulait': 6425, 'ramait': 6426, 'affaibli': 6427, 'dodu': 6428, 'sexiste': 6429, 'joint': 6430, 'comptant': 6431, 'protestait': 6432, 'tablissait': 6433, 'empress': 6434, 'effraye': 6435, 'frissonn': 6436, 'chancela': 6437, 'vacilla': 6438, 'raidi': 6439, 'moign': 6440, 'pourri': 6441, 'chouera': 6442, 'missionnera': 6443, 'pleurerait': 6444, 'cirez': 6445, 'plancher': 6446, 'cire': 6447, 'buvions': 6448, 'aidions': 6449, 'intentions': 6450, 'focaliser': 6451, 'outils': 6452, 'nageons': 6453, 'bonbons': 6454, 'ennuyions': 6455, 'expliquerons': 6456, 'aurons': 6457, 'reconstruirons': 6458, 'grandissons': 6459, 'agrandissons': 6460, 'expansion': 6461, 'souffrons': 6462, 'patients': 6463, 'lisons': 6464, 'coulons': 6465, 'gagneurs': 6466, 'gagnerez': 6467, 'partial': 6468, 'brillants': 6469, 'brillantes': 6470, 'malines': 6471, 'sinistres': 6472, 'connus': 6473, 'connues': 6474, 'avides': 6475, 'attard': 6476, 'embauches': 6477, 'embauchez': 6478, 'recrutes': 6479, 'recrutez': 6480, 'bateaux': 6481, 'fique': 6482, 'objections': 6483, 'ronronnent': 6484, 'testes': 6485, 'promettez': 6486, 'pratiques': 6487, 'reprochez': 6488, 'plaignez': 6489, 'tombez': 6490, 'forcez': 6491, 'lutte': 6492, 'taquinez': 6493, 'lignes': 6494, 'enfourche': 6495, 'enfourchez': 6496, 'mug': 6497, 'joyeuse': 6498, 'antipathie': 6499, 'bronze': 6500, 'faillite': 6501, 'vendus': 6502, 'vendues': 6503, 'souffrait': 6504, 'hongrois': 6505, 'harcel': 6506, 'perspicacit': 6507, 'largeur': 6508, 'croyais': 6509, 'crues': 6510, 'emprunte': 6511, 'ongle': 6512, 'apporter': 6513, 'transig': 6514, 'copi': 6515, 'ragote': 6516, 'honteuse': 6517, 'nit': 6518, 'nite': 6519, 'suivis': 6520, 'suivies': 6521, 'garantis': 6522, 'vasculaire': 6523, 'bral': 6524, 'avc': 6525, 'munie': 6526, 'lundis': 6527, 'gimes': 6528, 'pros': 6529, 'lytes': 6530, 'amn': 6531, 'filai': 6532, 'amandes': 6533, 'mah': 6534, 'jong': 6535, 'sashimi': 6536, 'cits': 6537, 'lasagnes': 6538, 'chiots': 6539, 'couchers': 6540, 'muffins': 6541, 'cliner': 6542, 'protester': 6543, 'collation': 6544, 'insuline': 6545, 'avoue': 6546, 'tournai': 6547, 'exhorte': 6548, 'habituellement': 6549, 'sire': 6550, 'ventail': 6551, 'bluffer': 6552, 'insouciante': 6553, 'choisie': 6554, 'crevais': 6555, 'accueilli': 6556, 'accueillie': 6557, 'survivrai': 6558, 'moignerai': 6559, 'dig': 6560, 'gronderai': 6561, 'inviterai': 6562, 'ministre': 6563, 'musicienne': 6564, 'grincheux': 6565, 'grincheuse': 6566, 'tueur': 6567, 'shabille': 6568, 'accoutum': 6569, 'froiss': 6570, 'neigeait': 6571, 'conclue': 6572, 'luisant': 6573, 'flambant': 6574, 'crachine': 6575, 'exaltant': 6576, 'inexact': 6577, 'redondant': 6578, 'intact': 6579, 'vibre': 6580, 'clairs': 6581, 'francs': 6582, 'terminons': 6583, 'indices': 6584, 'agrandissez': 6585, 'agrandis': 6586, 'largissez': 6587, 'largis': 6588, 'simplifie': 6589, 'motus': 6590, 'cousue': 6591, 'gobelet': 6592, 'articulations': 6593, 'bide': 6594, 'tricha': 6595, 'sut': 6596, 'emballe': 6597, 'emballez': 6598, 'trangla': 6599, 'berna': 6600, 'cultivait': 6601, 'jugeotte': 6602, 'maladroite': 6603, 'prude': 6604, 'exprimer': 6605, 'apparut': 6606, 'reprenez': 6607, 'ronchonner': 6608, 'asticoter': 6609, 'manifeste': 6610, 'plastique': 6611, 'klaxonn': 6612, 'hiss': 6613, 'retenti': 6614, 'ssaient': 6615, 'ennuyeuses': 6616, 'ab': 6617, 'bal': 6618, 'zes': 6619, 'circonstances': 6620, 'gave': 6621, 'escroquerie': 6622, 'croul': 6623, 'fuir': 6624, 'dentaire': 6625, 'scorbut': 6626, 'intervenait': 6627, 'nain': 6628, 'lon': 6629, 'aviateur': 6630, 'sot': 6631, 'acquiesce': 6632, 'hoche': 6633, 'faction': 6634, 'hal': 6635, 'pompeux': 6636, 'radical': 6637, 'rase': 6638, 'similaire': 6639, 'sanglote': 6640, 'braill': 6641, 'indiff': 6642, 'tofu': 6643, 'mentait': 6644, 'souvenait': 6645, 'rappelait': 6646, 'sailles': 6647, 'rifiera': 6648, 'conduira': 6649, 'commencera': 6650, 'rangera': 6651, 'gai': 6652, 'instable': 6653, 'sauce': 6654, 'cerveaux': 6655, 'craser': 6656, 'duo': 6657, 'partions': 6658, 'plaisantions': 6659, 'cuits': 6660, 'enterrerons': 6661, 'appellerons': 6662, 'continuerons': 6663, 'tuerons': 6664, 'peindrons': 6665, 'sauverons': 6666, 'bouchers': 6667, 'chappons': 6668, 'sourds': 6669, 'issants': 6670, 'issantes': 6671, 'positifs': 6672, 'derniers': 6673, 'bouffon': 6674, 'dab': 6675, 'bourse': 6676, 'assistait': 6677, 'soucierait': 6678, 'poile': 6679, 'essuyez': 6680, 'goutez': 6681, 'mentis': 6682, 'fasses': 6683, 'tatillons': 6684, 'tatillonnes': 6685, 'imprudents': 6686, 'imprudentes': 6687, 'conviens': 6688, 'convenez': 6689, 'cise': 6690, 'emportes': 6691, 'ajustez': 6692, 'sents': 6693, 'sentes': 6694, 'fonctions': 6695, 'suggestions': 6696, 'violets': 6697, 'envieuses': 6698, 'rondes': 6699, 'attrapent': 6700, 'licitation': 6701, 'ux': 6702, 'corbeaux': 6703, 'rap': 6704, 'flipe': 6705, 'serine': 6706, 'serinez': 6707, 'mouton': 6708, 'dansait': 6709, 'pria': 6710, 'servait': 6711, 'excuserez': 6712, 'repliez': 6713, 'bargeots': 6714, 'panneau': 6715, 'sied': 6716, 'trahissait': 6717, 'toyota': 6718, 'raquette': 6719, 'thiopien': 6720, 'dium': 6721, 'airs': 6722, 'fixa': 6723, 'tudiait': 6724, 'escroqu': 6725, 'tricher': 6726, 'dien': 6727, 'fraternit': 6728, 'bizuth': 6729, 'jardinier': 6730, 'lambin': 6731, 'lourdaud': 6732, 'associ': 6733, 'lium': 6734, 'falsifi': 6735, 'putation': 6736, 'hissez': 6737, 'quart': 6738, 'humiliant': 6739, 'grouillez': 6740, 'pressons': 6741, 'hypnose': 6742, 'gypte': 6743, 'mesurer': 6744, 'simuler': 6745, 'percevoir': 6746, 'carpe': 6747, 'contractai': 6748, 'toner': 6749, 'surmont': 6750, 'flair': 6751, 'dus': 6752, 'obs': 6753, 'ratons': 6754, 'laveurs': 6755, 'ecchymose': 6756, 'pellicules': 6757, 'immunit': 6758, 'dorme': 6759, 'hurlements': 6760, 'imagin': 6761, 'emporterions': 6762, 'gagnerions': 6763, 'dessins': 6764, 'westerns': 6765, 'craquai': 6766, 'enflammai': 6767, 'craqu': 6768, 'enflamm': 6769, 'dissip': 6770, 'barbecues': 6771, 'dies': 6772, 'aubergines': 6773, 'dise': 6774, 'ine': 6775, 'scotch': 6776, 'rencontre': 6777, 'glais': 6778, 'orchid': 6779, 'mayeur': 6780, 'eur': 6781, 'bourgmestre': 6782, 'relu': 6783, 'souvenais': 6784, 'souvins': 6785, 'respectais': 6786, 'pressenti': 6787, 'girafe': 6788, 'parlai': 6789, 'revenus': 6790, 'revenues': 6791, 'patrouille': 6792, 'trifi': 6793, 'demandais': 6794, 'posais': 6795, 'avertirai': 6796, 'effectue': 6797, 'ficherais': 6798, 'occuperais': 6799, 'not': 6800, 'appelerai': 6801, 'rechercherai': 6802, 'cesserai': 6803, 'louerai': 6804, 'compenserai': 6805, 'raman': 6806, 'menuisier': 6807, 'sauveteur': 6808, 'masochiste': 6809, 'craque': 6810, 'frire': 6811, 'vieillis': 6812, 'panade': 6813, 'draps': 6814, 'formation': 6815, 'introvertie': 6816, 'myope': 6817, 'rempla': 6818, 'gob': 6819, 'rilleux': 6820, 'toxique': 6821, 'thique': 6822, 'halluciner': 6823, 'sembler': 6824, 'stimulant': 6825, 'repoussera': 6826, 'impasse': 6827, 'champignon': 6828, 'artificiel': 6829, 'basses': 6830, 'uvres': 6831, 'inappropri': 6832, 'inadapt': 6833, 'trompeur': 6834, 'st': 6835, 'otyp': 6836, 'touffant': 6837, 'touffante': 6838, 'maintenez': 6839, 'maintiens': 6840, 'souriants': 6841, 'souriantes': 6842, 'trissez': 6843, 'koalas': 6844, 'commentez': 6845, 'citrons': 6846, 'acides': 6847, 'volants': 6848, 'enivrons': 6849, 'assurons': 6850, 'gocions': 6851, 'disputons': 6852, 'jubilons': 6853, 'paniquons': 6854, 'ralentissons': 6855, 'grincent': 6856, 'couinent': 6857, 'natto': 6858, 'terrifiante': 6859, 'flancha': 6860, 'flanch': 6861, 'roba': 6862, 'loche': 6863, 'amusantes': 6864, 'planification': 6865, 'essentielle': 6866, 'presser': 6867, 'presse': 6868, 'versez': 6869, 'ratissez': 6870, 'sellez': 6871, 'pardonna': 6872, 'disposait': 6873, 'coureuse': 6874, 'gracieuse': 6875, 'sermonna': 6876, 'sermonn': 6877, 'poignarda': 6878, 'incita': 6879, 'incit': 6880, 'tenta': 6881, 'attacha': 6882, 'ligota': 6883, 'essayera': 6884, 'veilla': 6885, 'silienne': 6886, 'poupe': 6887, 'touss': 6888, 'espagnol': 6889, 'importuner': 6890, 'enquiquiner': 6891, 'chamailler': 6892, 'balaie': 6893, 'durer': 6894, 'promet': 6895, 'pagode': 6896, 'branle': 6897, 'puait': 6898, 'rougit': 6899, 'cipiter': 6900, 'melons': 6901, 'soucient': 6902, 'stagiaires': 6903, 'ciales': 6904, 'particuliers': 6905, 'particuli': 6906, 'grasses': 6907, 'produites': 6908, 'mahjong': 6909, 'promo': 6910, 'chet': 6911, 'singulier': 6912, 'insolite': 6913, 'agress': 6914, 'rote': 6915, 'rappela': 6916, 'contribua': 6917, 'pliqu': 6918, 'fendu': 6919, 'combattu': 6920, 'ipad': 6921, 'paysan': 6922, 'jockey': 6923, 'prince': 6924, 'psychopathe': 6925, 'soudeur': 6926, 'anorexique': 6927, 'sportif': 6928, 'mence': 6929, 'prav': 6930, 'glousse': 6931, 'ricane': 6932, 'avenant': 6933, 'surexcit': 6934, 'studieux': 6935, 'infatigable': 6936, 'franc': 6937, 'apprend': 6938, 'cash': 6939, 'lisait': 6940, 'sirotait': 6941, 'ralenti': 6942, 'ralentit': 6943, 'durcit': 6944, 'rebroussa': 6945, 'avertit': 6946, 'vasif': 6947, 'assistera': 6948, 'participera': 6949, 'corrigera': 6950, 'parera': 6951, 'partirait': 6952, 'acquiert': 6953, 'iller': 6954, 'papillon': 6955, 'poses': 6956, 'clar': 6957, 'ponchos': 6958, 'manquons': 6959, 'converser': 6960, 'devions': 6961, 'alisons': 6962, 'voyageons': 6963, 'agriculteurs': 6964, 'parviendrons': 6965, 'terons': 6966, 'diens': 6967, 'jardiniers': 6968, 'gentilshommes': 6969, 'impartiaux': 6970, 'impulsifs': 6971, 'fautifs': 6972, 'crions': 6973, 'sensibles': 6974, 'survivons': 6975, 'pleurais': 6976, 'pleuriez': 6977, 'catastrophe': 6978, 'perspective': 6979, 'personnage': 6980, 'moyenne': 6981, 'rale': 6982, 'chiottes': 6983, 'rame': 6984, 'aviron': 6985, 'particip': 6986, 'fautive': 6987, 'reprogramm': 6988, 'report': 6989, 'jouait': 6990, 'fuyiez': 6991, 'vons': 6992, 'occupes': 6993, 'notez': 6994, 'journer': 6995, 'aimeras': 6996, 'gagneur': 6997, 'finies': 6998, 'chiante': 6999, 'arrogantes': 7000, 'charmantes': 7001, 'charmants': 7002, 'triches': 7003, 'embrouilles': 7004, 'loyales': 7005, 'loyaux': 7006, 'vez': 7007, 'hideuses': 7008, 'encro': 7009, 'innocentes': 7010, 'tiques': 7011, 'temporises': 7012, 'temporisez': 7013, 'cartable': 7014, 'plomb': 7015, 'postulez': 7016, 'postule': 7017, 'sorcier': 7018, 'rougissez': 7019, 'existes': 7020, 'existez': 7021, 'atlantis': 7022, 'mordez': 7023, 'boxe': 7024, 'ennuyante': 7025, 'boxer': 7026, 'respirez': 7027, 'brossez': 7028, 'avancent': 7029, 'concentrez': 7030, 'consulte': 7031, 'trise': 7032, 'phonez': 7033, 'sides': 7034, 'soucies': 7035, 'morose': 7036, 'induisez': 7037, 'balancez': 7038, 'deviennent': 7039, 'can': 7040, 'jase': 7041, 'combattez': 7042, 'terminez': 7043, 'flotter': 7044, 'surfe': 7045, 'surfez': 7046, 'grandis': 7047, 'grandissez': 7048, 'vagabond': 7049, 'sabord': 7050, 'trompa': 7051, 'accomplit': 7052, 'renverse': 7053, 'joker': 7054, 'acrobate': 7055, 'meut': 7056, 'peignit': 7057, 'clin': 7058, 'historien': 7059, 'nile': 7060, 'teux': 7061, 'foudre': 7062, 'perfectionnez': 7063, 'tences': 7064, 'chope': 7065, 'lodrame': 7066, 'mesures': 7067, 'norv': 7068, 'relativement': 7069, 'inclinai': 7070, 'atteindre': 7071, 'redresser': 7072, 'arriverais': 7073, 'livreur': 7074, 'pizzas': 7075, 'plaisait': 7076, 'charles': 7077, 'dilemme': 7078, 'revigor': 7079, 'merveilleusement': 7080, 'rempli': 7081, 'textes': 7082, 'vacciner': 7083, 'feux': 7084, 'artifice': 7085, 'administratives': 7086, 'bourgade': 7087, 'audace': 7088, 'grenade': 7089, 'quittance': 7090, 'sujette': 7091, 'foins': 7092, 'lures': 7093, 'pneumonie': 7094, 'tendards': 7095, 'principes': 7096, 'ondul': 7097, 'souffrant': 7098, 'ficelles': 7099, 'affranchi': 7100, 'astrologie': 7101, 'champignons': 7102, 'oncles': 7103, 'europe': 7104, 'astronomie': 7105, 'ouvrages': 7106, 'anciens': 7107, 'nourritures': 7108, 'amass': 7109, 'fortune': 7110, 'mourus': 7111, 'escorte': 7112, 'tesse': 7113, 'enveloppes': 7114, 'titres': 7115, 'vider': 7116, 'dettes': 7117, 'cipitai': 7118, 'tombai': 7119, 'tiquette': 7120, 'kiffe': 7121, 'requiers': 7122, 'parapluies': 7123, 'visit': 7124, 'attendis': 7125, 'marchant': 7126, 'martini': 7127, 'correspondant': 7128, 'raton': 7129, 'laveur': 7130, 'trottinette': 7131, 'gagnions': 7132, 'amusais': 7133, 'fourbue': 7134, 'brandi': 7135, 'quent': 7136, 'buter': 7137, 'flinguer': 7138, 'enseignerai': 7139, 'traduirai': 7140, 'tombola': 7141, 'plaindrais': 7142, 'cogner': 7143, 'manifesterai': 7144, 'jeunerai': 7145, 'maigrirai': 7146, 'postes': 7147, 'flippe': 7148, 'mendiant': 7149, 'frime': 7150, 'missionnerai': 7151, 'couloir': 7152, 'glandes': 7153, 'accessible': 7154, 'flipper': 7155, 'avantages': 7156, 'homo': 7157, 'diatique': 7158, 'publicitaire': 7159, 'fonctionna': 7160, 'avril': 7161, 'tournesol': 7162, 'fraude': 7163, 'fiscale': 7164, 'radieux': 7165, 'concevable': 7166, 'regrettable': 7167, 'traversons': 7168, 'donnons': 7169, 'chettes': 7170, 'allonge': 7171, 'postez': 7172, 'cannette': 7173, 'exprima': 7174, 'souciera': 7175, 'trole': 7176, 'paies': 7177, 'parleront': 7178, 'cisez': 7179, 'ciser': 7180, 'veloppez': 7181, 'assurer': 7182, 'gonflez': 7183, 'sourdine': 7184, 'salive': 7185, 'fouille': 7186, 'prouvait': 7187, 'idol': 7188, 'insulta': 7189, 'rejeta': 7190, 'repousse': 7191, 'ardemment': 7192, 'mouffettes': 7193, 'moufettes': 7194, 'rigola': 7195, 'recrache': 7196, 'pinailler': 7197, 'moquer': 7198, 'chantage': 7199, 'propice': 7200, 'paroles': 7201, 'sidence': 7202, 'vexant': 7203, 'tic': 7204, 'tac': 7205, 'grin': 7206, 'ru': 7207, 'bocal': 7208, 'dindons': 7209, 'jury': 7210, 'divis': 7211, 'messe': 7212, 'dite': 7213, 'enclanch': 7214, 'servoir': 7215, 'sourirent': 7216, 'tarit': 7217, 'sifflet': 7218, 'disputent': 7219, 'chanteurs': 7220, 'fausses': 7221, 'amateurs': 7222, 'battent': 7223, 'inoffensifs': 7224, 'inoffensives': 7225, 'immatures': 7226, 'costaud': 7227, 'cheux': 7228, 'officiel': 7229, 'saucisses': 7230, 'sabotage': 7231, 'rebondi': 7232, 'radeau': 7233, 'manifest': 7234, 'manifestement': 7235, 'saluait': 7236, 'charisme': 7237, 'taches': 7238, 'rousseur': 7239, 'roux': 7240, 'batteur': 7241, 'gastronome': 7242, 'gymnaste': 7243, 'hipster': 7244, 'patriote': 7245, 'courtier': 7246, 'interne': 7247, 'reprend': 7248, 'tentieux': 7249, 'fourbe': 7250, 'indigne': 7251, 'inventif': 7252, 'gendaire': 7253, 'neveu': 7254, 'craquant': 7255, 'suspendu': 7256, 'ternu': 7257, 'poneys': 7258, 'primanda': 7259, 'toma': 7260, 'chatouillait': 7261, 'redouble': 7262, 'bafouillait': 7263, 'bluffait': 7264, 'vantait': 7265, 'incin': 7266, 'noyait': 7267, 'extase': 7268, 'mourait': 7269, 'transpirait': 7270, 'pondra': 7271, 'agira': 7272, 'remporta': 7273, 'invaincu': 7274, 'duisant': 7275, 'arrosez': 7276, 'testions': 7277, 'remercions': 7278, 'espadon': 7279, 'exigeons': 7280, 'actes': 7281, 'rapproch': 7282, 'blessures': 7283, 'pensions': 7284, 'dier': 7285, 'provisions': 7286, 'redevables': 7287, 'retrouve': 7288, 'payerons': 7289, 'discuterons': 7290, 'tantinet': 7291, 'uniques': 7292, 'exploite': 7293, 'copains': 7294, 'diplomates': 7295, 'duisons': 7296, 'voilure': 7297, 'assoupit': 7298, 'endort': 7299, 'assoupissons': 7300, 'endormons': 7301, 'pigeons': 7302, 'historiens': 7303, 'sauveteurs': 7304, 'thodiques': 7305, 'fricotons': 7306, 'shabillons': 7307, 'perdent': 7308, 'navet': 7309, 'tireur': 7310, 'cherches': 7311, 'manigance': 7312, 'fouillis': 7313, 'voudras': 7314, 'rasoir': 7315, 'hamlet': 7316, 'ternuons': 7317, 'joindras': 7318, 'joindrez': 7319, 'joins': 7320, 'diras': 7321, 'direz': 7322, 'laine': 7323, 'joliment': 7324, 'fabuleuse': 7325, 'sitez': 7326, 'sites': 7327, 'activer': 7328, 'magner': 7329, 'durement': 7330, 'reposiez': 7331, 'autorisation': 7332, 'citer': 7333, 'sacrement': 7334, 'distant': 7335, 'utiles': 7336, 'survivrez': 7337, 'survivras': 7338, 'tocard': 7339, 'constitues': 7340, 'constituez': 7341, 'suffisants': 7342, 'suffisantes': 7343, 'courtoises': 7344, 'oublieux': 7345, 'oublieuse': 7346, 'odieuses': 7347, 'observation': 7348, 'tenaces': 7349, 'frissonnes': 7350, 'trembles': 7351, 'tremblez': 7352, 'bavards': 7353, 'bavardes': 7354, 'immorale': 7355, 'feuille': 7356, 'freins': 7357, 'surr': 7358, 'bacheliers': 7359, 'respires': 7360, 'construisent': 7361, 'nids': 7362, 'composer': 7363, 'puisse': 7364, 'aliser': 7365, 'rapprocher': 7366, 'nageuse': 7367, 'champagne': 7368, 'rechargez': 7369, 'recharge': 7370, 'cliquez': 7371, 'admettez': 7372, 'compare': 7373, 'distribue': 7374, 'distribuez': 7375, 'lus': 7376, 'alimentaire': 7377, 'sactive': 7378, 'sactivez': 7379, 'latin': 7380, 'poires': 7381, 'sachet': 7382, 'nages': 7383, 'cornet': 7384, 'ignorant': 7385, 'insistant': 7386, 'supplier': 7387, 'foire': 7388, 'foirez': 7389, 'menacez': 7390, 'selle': 7391, 'agenouille': 7392, 'agenouillez': 7393, 'aboule': 7394, 'unis': 7395, 'mesdames': 7396, 'clam': 7397, 'gomme': 7398, 'grains': 7399, 'protesta': 7400, 'clamec': 7401, 'cann': 7402, 'brutalement': 7403, 'expira': 7404, 'transmis': 7405, 'enivra': 7406, 'enivr': 7407, 'remit': 7408, 'pendu': 7409, 'maux': 7410, 'ego': 7411, 'dimensionn': 7412, 'taiseux': 7413, 'quarantaine': 7414, 'tv': 7415, 'frugale': 7416, 'chichement': 7417, 'osaka': 7418, 'miles': 7419, 'narios': 7420, 'cycle': 7421, 'originaire': 7422, 'orgie': 7423, 'fouilles': 7424, 'oseille': 7425, 'avertissements': 7426, 'assombrirent': 7427, 'griller': 7428, 'penseriez': 7429, 'courions': 7430, 'couriez': 7431, 'stoppons': 7432, 'ussirait': 7433, 'trouverais': 7434, 'trouveriez': 7435, 'biteur': 7436, 'bitrice': 7437, 'hamburger': 7438, 'hame': 7439, 'cactus': 7440, 'webcam': 7441, 'bross': 7442, 'consoler': 7443, 'difficilement': 7444, 'enregistr': 7445, 'envisag': 7446, 'appli': 7447, 'conteste': 7448, 'gocie': 7449, 'chappai': 7450, 'oubliais': 7451, 'got': 7452, 'chahut': 7453, 'hypocrites': 7454, 'entretiens': 7455, 'pluvieuses': 7456, 'coupure': 7457, 'voilier': 7458, 'otite': 7459, 'tains': 7460, 'disques': 7461, 'conomies': 7462, 'possession': 7463, 'lot': 7464, 'marine': 7465, 'titre': 7466, 'continuais': 7467, 'choucroute': 7468, 'probabilit': 7469, 'past': 7470, 'habitais': 7471, 'hamburgers': 7472, 'public': 7473, 'album': 7474, 'raffole': 7475, 'marchander': 7476, 'appart': 7477, 'moquai': 7478, 'pit': 7479, 'clavier': 7480, 'dentifrice': 7481, 'hoch': 7482, 'capot': 7483, 'crochet': 7484, 'tambourin': 7485, 'volley': 7486, 'invoque': 7487, 'lagu': 7488, 'muscle': 7489, 'distendu': 7490, 'entorse': 7491, 'repoussai': 7492, 'embouti': 7493, 'dubitatif': 7494, 'plaisantant': 7495, 'chenille': 7496, 'assist': 7497, 'roulettes': 7498, 'ographie': 7499, 'autoroute': 7500, 'ordinaire': 7501, 'portatif': 7502, 'confesser': 7503, 'mouriez': 7504, 'meures': 7505, 'souhaitais': 7506, 'avertie': 7507, 'brais': 7508, 'dissuada': 7509, 'minorit': 7510, 'prouvais': 7511, 'bornes': 7512, 'draguais': 7513, 'piquer': 7514, 'harvard': 7515, 'journerai': 7516, 'reculerai': 7517, 'gocierai': 7518, 'nourrir': 7519, 'nourrirai': 7520, 'jetterai': 7521, 'recommanderai': 7522, 'assoirai': 7523, 'crirai': 7524, 'ducateur': 7525, 'bourreau': 7526, 'astronome': 7527, 'concentration': 7528, 'taule': 7529, 'irrempla': 7530, 'supposer': 7531, 'maigris': 7532, 'joueuse': 7533, 'cobaye': 7534, 'divination': 7535, 'pathe': 7536, 'courbatures': 7537, 'chiasse': 7538, 'kopeck': 7539, 'identifie': 7540, 'diminu': 7541, 'assurez': 7542, 'notari': 7543, 'garanti': 7544, 'morceaux': 7545, 'chi': 7546, 'facultatif': 7547, 'massacre': 7548, 'amphigourique': 7549, 'sastreux': 7550, 'branlant': 7551, 'nuageuse': 7552, 'conspiration': 7553, 'controvers': 7554, 'enfance': 7555, 'siter': 7556, 'uds': 7557, 'chim': 7558, 'confidentiel': 7559, 'nant': 7560, 'obscurcit': 7561, 'ressemblant': 7562, 'frappez': 7563, 'construisons': 7564, 'cabane': 7565, 'marions': 7566, 'pieutons': 7567, 'ignorons': 7568, 'disons': 7569, 'serrons': 7570, 'recommen': 7571, 'divertissante': 7572, 'puissance': 7573, 'meurtre': 7574, 'introduire': 7575, 'comprit': 7576, 'terrifie': 7577, 'douces': 7578, 'production': 7579, 'pantalons': 7580, 'pines': 7581, 'inspecte': 7582, 'suites': 7583, 'fascinait': 7584, 'tentrice': 7585, 'silhouette': 7586, 'asociale': 7587, 'adolescente': 7588, 'ado': 7589, 'turner': 7590, 'argument': 7591, 'hyperactive': 7592, 'berceuse': 7593, 'solvez': 7594, 'pondait': 7595, 'pourtant': 7596, 'droites': 7597, 'termites': 7598, 'massive': 7599, 'essentiel': 7600, 'sonnait': 7601, 'lurette': 7602, 'volera': 7603, 'sapin': 7604, 'rangeant': 7605, 'risible': 7606, 'niable': 7607, 'grange': 7608, 'ble': 7609, 'provision': 7610, 'fila': 7611, 'entrouverte': 7612, 'fade': 7613, 'insipide': 7614, 'vanouies': 7615, 'enray': 7616, 'mouss': 7617, 'voyants': 7618, 'paisse': 7619, 'verglac': 7620, 'tactique': 7621, 'cuve': 7622, 'prononc': 7623, 'dieux': 7624, 'chappatoire': 7625, 'ritables': 7626, 'nent': 7627, 'croyaient': 7628, 'voyagent': 7629, 'aimeront': 7630, 'cannibales': 7631, 'excellents': 7632, 'coutent': 7633, 'meurtriers': 7634, 'chics': 7635, 'intacts': 7636, 'intactes': 7637, 'coco': 7638, 'extorsion': 7639, 'charabia': 7640, 'tordant': 7641, 'plier': 7642, 'insultant': 7643, 'justifi': 7644, 'offensant': 7645, 'voltant': 7646, 'gale': 7647, 'touffer': 7648, 'croyait': 7649, 'trahit': 7650, 'prisait': 7651, 'qi': 7652, 'iphone': 7653, 'arthrite': 7654, 'engelures': 7655, 'imita': 7656, 'imit': 7657, 'don': 7658, 'juan': 7659, 'designer': 7660, 'bijoutier': 7661, 'canicien': 7662, 'chiffe': 7663, 'molle': 7664, 'garou': 7665, 'vieillard': 7666, 'garnit': 7667, 'rapie': 7668, 'perspicace': 7669, 'intol': 7670, 'possessif': 7671, 'convalescence': 7672, 'remet': 7673, 'infid': 7674, 'insociable': 7675, 'marmonne': 7676, 'parait': 7677, 'humblement': 7678, 'alignement': 7679, 'fumait': 7680, 'enthousiasm': 7681, 'lirait': 7682, 'plaindra': 7683, 'continuera': 7684, 'ficherait': 7685, 'chira': 7686, 'comprendra': 7687, 'suffoquer': 7688, 'acrylique': 7689, 'abhorrons': 7690, 'sentions': 7691, 'camarades': 7692, 'construire': 7693, 'entretenir': 7694, 'vaccin': 7695, 'fournisseurs': 7696, 'famili': 7697, 'aspirons': 7698, 'occupons': 7699, 'parcs': 7700, 'mour': 7701, 'issons': 7702, 'sceptiques': 7703, 'emploierons': 7704, 'introvertis': 7705, 'journalistes': 7706, 'tueurs': 7707, 'tueuses': 7708, 'clous': 7709, 'pessimistes': 7710, 'ascendant': 7711, 'rejouons': 7712, 'dignes': 7713, 'chauds': 7714, 'collection': 7715, 'judicieuse': 7716, 'portiez': 7717, 'advenu': 7718, 'consiste': 7719, 'passerait': 7720, 'arriverait': 7721, 'gares': 7722, 'livret': 7723, 'loquet': 7724, 'piger': 7725, 'valid': 7726, 'melon': 7727, 'confucius': 7728, 'cuisiniers': 7729, 'sistes': 7730, 'encourir': 7731, 'rirais': 7732, 'payerez': 7733, 'payeras': 7734, 'remuez': 7735, 'louper': 7736, 'donnas': 7737, 'battes': 7738, 'resplendissants': 7739, 'resplendissantes': 7740, 'retenir': 7741, 'sueur': 7742, 'battrez': 7743, 'ussirez': 7744, 'trouveras': 7745, 'disgr': 7746, 'exprimes': 7747, 'exprimez': 7748, 'contagieuses': 7749, 'diplomatie': 7750, 'experte': 7751, 'maigres': 7752, 'sagr': 7753, 'vifs': 7754, 'vives': 7755, 'peureuses': 7756, 'griff': 7757, 'volte': 7758, 'visions': 7759, 'criminels': 7760, 'bouddhiste': 7761, 'divertissez': 7762, 'moques': 7763, 'inscrits': 7764, 'houblon': 7765, 'fascinent': 7766, 'passionnent': 7767, 'abattus': 7768, 'oreiller': 7769, 'caresser': 7770, 'raquettes': 7771, 'gende': 7772, 'croisons': 7773, 'croise': 7774, 'habitaient': 7775, 'vivaient': 7776, 'gner': 7777, 'duplicata': 7778, 'kiffes': 7779, 'sauvent': 7780, 'imitateur': 7781, 'lectif': 7782, 'lective': 7783, 'avare': 7784, 'pudique': 7785, 'attirez': 7786, 'rate': 7787, 'condescendance': 7788, 'prononce': 7789, 'contez': 7790, 'remerciez': 7791, 'poubelle': 7792, 'tag': 7793, 'endosse': 7794, 'paniqua': 7795, 'affolait': 7796, 'applaudissait': 7797, 'changeait': 7798, 'blancs': 7799, 'espaces': 7800, 'remplis': 7801, 'commencement': 7802, 'fournis': 7803, 'fournissez': 7804, 'cassant': 7805, 'laboratoire': 7806, 'pendre': 7807, 'thanksgiving': 7808, 'conseilla': 7809, 'mand': 7810, 'heurta': 7811, 'cogna': 7812, 'respir': 7813, 'enfreignit': 7814, 'mile': 7815, 'exprime': 7816, 'poissonnier': 7817, 'born': 7818, 'soigneux': 7819, 'baisa': 7820, 'venances': 7821, 'senta': 7822, 'riposter': 7823, 'roula': 7824, 'toucha': 7825, 'vieillissait': 7826, 'loterie': 7827, 'marcheur': 7828, 'gastronomique': 7829, 'gre': 7830, 'gardien': 7831, 'thamph': 7832, 'tamines': 7833, 'concret': 7834, 'bougre': 7835, 'cinquante': 7836, 'suie': 7837, 'bagage': 7838, 'patant': 7839, 'liorer': 7840, 'conomie': 7841, 'quantit': 7842, 'recherche': 7843, 'clients': 7844, 'pondis': 7845, 'chips': 7846, 'embrayage': 7847, 'brul': 7848, 'procurer': 7849, 'exclure': 7850, 'renoncer': 7851, 'cliqu': 7852, 'crach': 7853, 'transige': 7854, 'soda': 7855, 'vodka': 7856, 'betteraves': 7857, 'examens': 7858, 'boucl': 7859, 'craignis': 7860, 'photographique': 7861, 'tardif': 7862, 'tendis': 7863, 'ennui': 7864, 'moquette': 7865, 'garni': 7866, 'aquarium': 7867, 'saignement': 7868, 'lescope': 7869, 'saper': 7870, 'exercer': 7871, 'assoir': 7872, 'neveux': 7873, 'explosions': 7874, 'aidais': 7875, 'grerai': 7876, 'fiancer': 7877, 'coration': 7878, 'lique': 7879, 'prenante': 7880, 'irlandaise': 7881, 'endroits': 7882, 'bordant': 7883, 'activit': 7884, 'disco': 7885, 'jupes': 7886, 'photographie': 7887, 'traduction': 7888, 'pauvret': 7889, 'barbus': 7890, 'papillons': 7891, 'contes': 7892, 'lodie': 7893, 'photocopies': 7894, 'mourrai': 7895, 'secr': 7896, 'enveloppe': 7897, 'lotion': 7898, 'muscade': 7899, 'veston': 7900, 'lubrifi': 7901, 'huil': 7902, 'trompette': 7903, 'initialement': 7904, 'tai': 7905, 'claqu': 7906, 'souche': 7907, 'loir': 7908, 'masse': 7909, 'marmotte': 7910, 'tranch': 7911, 'cigarettes': 7912, 'psychologie': 7913, 'chions': 7914, 'gagnerais': 7915, 'foul': 7916, 'cheville': 7917, 'boitant': 7918, 'marchai': 7919, 'rendis': 7920, 'perde': 7921, 'rendes': 7922, 'rendiez': 7923, 'veniez': 7924, 'chantiez': 7925, 'parliez': 7926, 'ironisais': 7927, 'douze': 7928, 'phonais': 7929, 'paraphrasais': 7930, 'dormais': 7931, 'bavardais': 7932, 'lection': 7933, 'confirmerai': 7934, 'restauration': 7935, 'engagerais': 7936, 'recruterais': 7937, 'embaucherais': 7938, 'rapporterai': 7939, 'cuistot': 7940, 'couvrir': 7941, 'plonge': 7942, 'saurai': 7943, 'reverrai': 7944, 'laverai': 7945, 'photographe': 7946, 'claustrophobe': 7947, 'singapour': 7948, 'appauvris': 7949, 'planter': 7950, 'boss': 7951, 'gangster': 7952, 'pacifiste': 7953, 'lubies': 7954, 'esclave': 7955, 'gym': 7956, 'balcon': 7957, 'incontr': 7958, 'lable': 7959, 'diocre': 7960, 'enthousiasme': 7961, 'encha': 7962, 'laitier': 7963, 'recyclable': 7964, 'parall': 7965, 'quinze': 7966, 'suffise': 7967, 'frustrant': 7968, 'hypnotique': 7969, 'reproduire': 7970, 'devra': 7971, 'distraction': 7972, 'investissement': 7973, 'concertant': 7974, 'peste': 7975, 'laiton': 7976, 'salon': 7977, 'lumineux': 7978, 'uniquement': 7979, 'interdite': 7980, 'tombent': 7981, 'kiki': 7982, 'marrons': 7983, 'cassons': 7984, 'apprenons': 7985, 'plaignons': 7986, 'chamaillons': 7987, 'nervons': 7988, 'utilisons': 7989, 'duisante': 7990, 'joigne': 7991, 'monopoles': 7992, 'nuisibles': 7993, 'universelle': 7994, 'finitive': 7995, 'budget': 7996, 'miaule': 7997, 'large': 7998, 'gestation': 7999, 'taciturne': 8000, 'nobles': 8001, 'engourdies': 8002, 'expos': 8003, 'transforme': 8004, 'immortel': 8005, 'souscrit': 8006, 'invitait': 8007, 'remarquer': 8008, 'remarquera': 8009, 'planifi': 8010, 'serrer': 8011, 'survenir': 8012, 'enfonce': 8013, 'enfoncez': 8014, 'reproduisent': 8015, 'marques': 8016, 'vaisseau': 8017, 'conomise': 8018, 'bute': 8019, 'construites': 8020, 'postale': 8021, 'agiter': 8022, 'utilisation': 8023, 'parut': 8024, 'parue': 8025, 'cuisini': 8026, 'antiquit': 8027, 'achats': 8028, 'expliqu': 8029, 'cueilli': 8030, 'charitable': 8031, 'charit': 8032, 'secoua': 8033, 'naissance': 8034, 'lite': 8035, 'reprocher': 8036, 'placent': 8037, 'meuvent': 8038, 'stade': 8039, 'fouineuse': 8040, 'tocards': 8041, 'procure': 8042, 'importune': 8043, 'prometteur': 8044, 'obtient': 8045, 'contrariant': 8046, 'maximum': 8047, 'zone': 8048, 'choua': 8049, 'nourrisson': 8050, 'serte': 8051, 'rassis': 8052, 'retentissait': 8053, 'corbeau': 8054, 'clos': 8055, 'haleter': 8056, 'claqua': 8057, 'ronde': 8058, 'flamme': 8059, 'fondre': 8060, 'redress': 8061, 'rendent': 8062, 'clatante': 8063, 'croissante': 8064, 'illumina': 8065, 'clairci': 8066, 'apparues': 8067, 'vi': 8068, 'viait': 8069, 'coucha': 8070, 'chut': 8071, 'vagues': 8072, 'hautes': 8073, 'soufflait': 8074, 'couille': 8075, 'additionnel': 8076, 'voisines': 8077, 'bienveillants': 8078, 'bienveillantes': 8079, 'lutteurs': 8080, 'catcheurs': 8081, 'riaient': 8082, 'comprendront': 8083, 'illets': 8084, 'hirsute': 8085, 'gabarit': 8086, 'template': 8087, 'triangle': 8088, 'abricot': 8089, 'octogone': 8090, 'renversant': 8091, 'troublant': 8092, 'plagiat': 8093, 'top': 8094, 'perceuse': 8095, 'chiffon': 8096, 'resserre': 8097, 'inclinait': 8098, 'consol': 8099, 'consolait': 8100, 'consola': 8101, 'persuada': 8102, 'limonade': 8103, 'naviguer': 8104, 'suit': 8105, 'moustache': 8106, 'narcolepsie': 8107, 'courtes': 8108, 'brouillait': 8109, 'circuit': 8110, 'john': 8111, 'cameraman': 8112, 'charpentier': 8113, 'caire': 8114, 'machiniste': 8115, 'nerd': 8116, 'chercheur': 8117, 'terroriste': 8118, 'militant': 8119, 'imposteur': 8120, 'cro': 8121, 'barreaux': 8122, 'titif': 8123, 'hyperactif': 8124, 'accabl': 8125, 'supervise': 8126, 'parent': 8127, 'kidnappa': 8128, 'blanchit': 8129, 'blanchiment': 8130, 'offensive': 8131, 'reint': 8132, 'pertub': 8133, 'geait': 8134, 'chait': 8135, 'anneau': 8136, 'vedette': 8137, 'terroris': 8138, 'terrifiait': 8139, 'terrorisait': 8140, 'hyst': 8141, 'irrationnel': 8142, 'persistant': 8143, 'cit': 8144, 'agitait': 8145, 'rappellera': 8146, 'mordra': 8147, 'boira': 8148, 'cultivons': 8149, 'butoir': 8150, 'tition': 8151, 'consenti': 8152, 'cour': 8153, 'sacrifions': 8154, 'dormions': 8155, 'invaincus': 8156, 'travaillions': 8157, 'aimerions': 8158, 'convaincrons': 8159, 'occuperons': 8160, 'finirons': 8161, 'crivains': 8162, 'conservateurs': 8163, 'contribuons': 8164, 'entretien': 8165, 'stock': 8166, 'enfuyons': 8167, 'sauvons': 8168, 'actifs': 8169, 'sures': 8170, 'portons': 8171, 'citrouille': 8172, 'tas': 8173, 'mijotez': 8174, 'signification': 8175, 'conseilles': 8176, 'conseillez': 8177, 'sires': 8178, 'constitu': 8179, 'comportement': 8180, 'ignoble': 8181, 'fabriqueras': 8182, 'ressemblera': 8183, 'emploies': 8184, 'fun': 8185, 'railles': 8186, 'noce': 8187, 'installer': 8188, 'chapelle': 8189, 'terait': 8190, 'ssez': 8191, 'flotte': 8192, 'employer': 8193, 'cicatrice': 8194, 'aiderez': 8195, 'aideras': 8196, 'windsurf': 8197, 'cierait': 8198, 'teriez': 8199, 'enseignerais': 8200, 'enseigneriez': 8201, 'refil': 8202, 'habituerez': 8203, 'habitueras': 8204, 'intimidez': 8205, 'intimides': 8206, 'rater': 8207, 'rencontreras': 8208, 'laissiez': 8209, 'soigner': 8210, 'partes': 8211, 'perdrez': 8212, 'perdras': 8213, 'nounours': 8214, 'zozo': 8215, 'cimen': 8216, 'venante': 8217, 'extraverties': 8218, 'fascinantes': 8219, 'fascinants': 8220, 'princesse': 8221, 'inexp': 8222, 'touches': 8223, 'devenez': 8224, 'superflue': 8225, 'directes': 8226, 'humbles': 8227, 'caches': 8228, 'rudement': 8229, 'errant': 8230, 'baleine': 8231, 'alertons': 8232, 'soldes': 8233, 'install': 8234, 'duses': 8235, 'chevalerie': 8236, 'rapprochait': 8237, 'cigales': 8238, 'clique': 8239, 'plaintes': 8240, 'rares': 8241, 'contacte': 8242, 'abat': 8243, 'routantes': 8244, 'vera': 8245, 'temple': 8246, 'pourboire': 8247, 'branchez': 8248, 'sarcasme': 8249, 'quentez': 8250, 'partages': 8251, 'acceptez': 8252, 'enseignez': 8253, 'popcorn': 8254, 'illusions': 8255, 'mouron': 8256, 'gribouille': 8257, 'gribouillez': 8258, 'sottises': 8259, 'peines': 8260, 'chagrins': 8261, 'persuade': 8262, 'convaincs': 8263, 'persuadez': 8264, 'convainquez': 8265, 'mamie': 8266, 'samoussa': 8267, 'mollo': 8268, 'chagrin': 8269, 'abus': 8270, 'clama': 8271, 'monta': 8272, 'vant': 8273, 'vanta': 8274, 'captura': 8275, 'cambrioleur': 8276, 'futa': 8277, 'inverse': 8278, 'ferrari': 8279, 'carr': 8280, 'sagement': 8281, 'rouflaquettes': 8282, 'tendance': 8283, 'religieux': 8284, 'motivation': 8285, 'mendicit': 8286, 'vanne': 8287, 'marmonna': 8288, 'cages': 8289, 'bamboula': 8290, 'cir': 8291, 'jurer': 8292, 'accrocha': 8293, 'voyagea': 8294, 'maltraita': 8295, 'converti': 8296, 'convertit': 8297, 'ohio': 8298, 'vaincra': 8299, 'regrettera': 8300, 'crivit': 8301, 'inv': 8302, 'tardivement': 8303, 'maturit': 8304, 'lectron': 8305, 'nariste': 8306, 'inconditionnel': 8307, 'cinquantaine': 8308, 'publique': 8309, 'constituer': 8310, 'pudding': 8311, 'alisa': 8312, 'claira': 8313, 'nombreuse': 8314, 'amusaient': 8315, 'vendit': 8316, 'tet': 8317, 'landaise': 8318, 'liens': 8319, 'familiaux': 8320, 'paries': 8321, 'niveau': 8322, 'loti': 8323, 'morph': 8324, 'inde': 8325, 'cheguei': 8326, 'ontem': 8327, 'personnalit': 8328, 'endormir': 8329, 'figurines': 8330, 'postales': 8331, 'chaudes': 8332, 'maintes': 8333, 'rifications': 8334, 'recherches': 8335, 'lustres': 8336, 'osais': 8337, 'appartiens': 8338, 'volaille': 8339, 'centime': 8340, 'obstacle': 8341, 'pots': 8342, 'ales': 8343, 'humilit': 8344, 'ressentis': 8345, 'prouvai': 8346, 'radios': 8347, 'pliai': 8348, 'monition': 8349, 'veils': 8350, 'torticolis': 8351, 'appendicite': 8352, 'crevass': 8353, 'opposants': 8354, 'adversaires': 8355, 'picondylite': 8356, 'chuchoter': 8357, 'dissimulai': 8358, 'dissimul': 8359, 'cafeti': 8360, 'infuser': 8361, 'inventer': 8362, 'serions': 8363, 'jeannot': 8364, 'chacune': 8365, 'claires': 8366, 'promenades': 8367, 'champs': 8368, 'miroirs': 8369, 'enferm': 8370, 'lections': 8371, 'italienne': 8372, 'entreprise': 8373, 'reserves': 8374, 'servations': 8375, 'pais': 8376, 'rein': 8377, 'urgences': 8378, 'dicale': 8379, 'cintres': 8380, 'feint': 8381, 'feignis': 8382, 'jeunai': 8383, 'sonnai': 8384, 'treigne': 8385, 'bonus': 8386, 'examin': 8387, 'revu': 8388, 'moto': 8389, 'risquai': 8390, 'moli': 8391, 'matins': 8392, 'cur': 8393, 'vier': 8394, 'bars': 8395, 'dinde': 8396, 'frissonner': 8397, 'grer': 8398, 'secourable': 8399, 'taill': 8400, 'haie': 8401, 'danses': 8402, 'scandalis': 8403, 'exc': 8404, 'prenais': 8405, 'baladais': 8406, 'marchais': 8407, 'entrais': 8408, 'piauter': 8409, 'accepterai': 8410, 'referai': 8411, 'aiderais': 8412, 'quiri': 8413, 'paierais': 8414, 'reconduire': 8415, 'parerai': 8416, 'chariot': 8417, 'habituerai': 8418, 'rejoindrai': 8419, 'botter': 8420, 'retrouverai': 8421, 'songerai': 8422, 'perfectionniste': 8423, 'social': 8424, 'travailleuse': 8425, 'construis': 8426, 'laborer': 8427, 'baucher': 8428, 'transporte': 8429, 'denr': 8430, 'bains': 8431, 'victime': 8432, 'suspendue': 8433, 'taux': 8434, 'contribue': 8435, 'facult': 8436, 'exhaustif': 8437, 'significatif': 8438, 'appropri': 8439, 'convenable': 8440, 'jasmin': 8441, 'profitable': 8442, 'bonbon': 8443, 'tissant': 8444, 'solaire': 8445, 'assombrissait': 8446, 'assommant': 8447, 'causera': 8448, 'claircir': 8449, 'pineuse': 8450, 'suet': 8451, 'al': 8452, 'pandue': 8453, 'scabreuse': 8454, 'record': 8455, 'pair': 8456, 'agrandit': 8457, 'fantasme': 8458, 'placebo': 8459, 'remboursable': 8460, 'gociable': 8461, 'subjectif': 8462, 'poussif': 8463, 'limbes': 8464, 'renferm': 8465, 'chronophage': 8466, 'insupportablement': 8467, 'jupiter': 8468, 'surveillance': 8469, 'circuler': 8470, 'coccinelles': 8471, 'pucerons': 8472, 'frite': 8473, 'exclus': 8474, 'excluez': 8475, 'emballons': 8476, 'commandons': 8477, 'group': 8478, 'merlin': 8479, 'grimpent': 8480, 'passion': 8481, 'bourdonnent': 8482, 'ruine': 8483, 'ruines': 8484, 'gorge': 8485, 'cilla': 8486, 'soutenu': 8487, 'manquerai': 8488, 'croche': 8489, 'vaille': 8490, 'nourrissantes': 8491, 'grappe': 8492, 'autruches': 8493, 'spatule': 8494, 'patates': 8495, 'peuple': 8496, 'braconner': 8497, 'braconnage': 8498, 'trottoir': 8499, 'citez': 8500, 'cite': 8501, 'retroussez': 8502, 'remontez': 8503, 'ancienne': 8504, 'primordiale': 8505, 'remerciements': 8506, 'dansa': 8507, 'embarras': 8508, 'convulsions': 8509, 'torts': 8510, 'moulin': 8511, 'bienveillante': 8512, 'joua': 8513, 'sinjuku': 8514, 'serva': 8515, 'raconta': 8516, 'concierge': 8517, 'pendante': 8518, 'refroidi': 8519, 'condol': 8520, 'ances': 8521, 'rangement': 8522, 'enterrent': 8523, 'agacer': 8524, 'ceintures': 8525, 'taxis': 8526, 'technologie': 8527, 'lande': 8528, 'situ': 8529, 'bouffe': 8530, 'balade': 8531, 'nomm': 8532, 'affreuse': 8533, 'paru': 8534, 'suffire': 8535, 'orage': 8536, 'remarque': 8537, 'marrage': 8538, 'fameux': 8539, 'combine': 8540, 'raisonnement': 8541, 'gronder': 8542, 'tach': 8543, 'encouragements': 8544, 'turent': 8545, 'consume': 8546, 'cultures': 8547, 'lure': 8548, 'soulier': 8549, 'inoccup': 8550, 'gislation': 8551, 'estompa': 8552, 'progressivement': 8553, 'teignirent': 8554, 'haillons': 8555, 'paissit': 8556, 'filtr': 8557, 'sombres': 8558, 'clench': 8559, 'dispers': 8560, 'courge': 8561, 'brillait': 8562, 'chancelle': 8563, 'bancale': 8564, 'effondra': 8565, 'volcan': 8566, 'ruption': 8567, 'molli': 8568, 'tirette': 8569, 'perdants': 8570, 'repartis': 8571, 'reparties': 8572, 'condition': 8573, 'aient': 8574, 'attraperont': 8575, 'seront': 8576, 'tiendront': 8577, 'feront': 8578, 'forum': 8579, 'nullard': 8580, 'accablant': 8581, 'encourageant': 8582, 'insoutenable': 8583, 'carnet': 8584, 'bagatelle': 8585, 'mangue': 8586, 'desserr': 8587, 'drap': 8588, 'puise': 8589, 'tain': 8590, 'approchait': 8591, 'tabasse': 8592, 'verrouilla': 8593, 'comics': 8594, 'timbres': 8595, 'distribu': 8596, 'ritait': 8597, 'encouragea': 8598, 'encourag': 8599, 'googl': 8600, 'distraire': 8601, 'tonsure': 8602, 'pipelette': 8603, 'angine': 8604, 'biochimiste': 8605, 'conseiller': 8606, 'consultant': 8607, 'cheron': 8608, 'pharmacien': 8609, 'anarchiste': 8610, 'spationaute': 8611, 'conomiste': 8612, 'intellectuel': 8613, 'multilingue': 8614, 'adjoint': 8615, 'parrain': 8616, 'somptueux': 8617, 'droitier': 8618, 'grotte': 8619, 'banjo': 8620, 'revint': 8621, 'acquiesc': 8622, 'ouvrait': 8623, 'blondes': 8624, 'interrog': 8625, 'lut': 8626, 'sal': 8627, 'sala': 8628, 'conclut': 8629, 'tria': 8630, 'mails': 8631, 'trembler': 8632, 'criture': 8633, 'dita': 8634, 'chute': 8635, 'attirer': 8636, 'ratif': 8637, 'interrompu': 8638, 'cellule': 8639, 'touffait': 8640, 'traumatis': 8641, 'lava': 8642, 'flirtait': 8643, 'cravates': 8644, 'embrassera': 8645, 'suppl': 8646, 'mentaires': 8647, 'partiel': 8648, 'procurent': 8649, 'tricot': 8650, 'comporter': 8651, 'charges': 8652, 'vegemite': 8653, 'concerne': 8654, 'quipes': 8655, 'relayer': 8656, 'prouvons': 8657, 'roulons': 8658, 'pondons': 8659, 'taxe': 8660, 'devis': 8661, 'glement': 8662, 'regrettons': 8663, 'barque': 8664, 'assaisonnons': 8665, 'anxieusement': 8666, 'reni': 8667, 'vaincrons': 8668, 'laisserons': 8669, 'incessamment': 8670, 'trinquons': 8671, 'barrasser': 8672, 'abandonnerons': 8673, 'baigner': 8674, 'milieu': 8675, 'conscientes': 8676, 'exploit': 8677, 'pertes': 8678, 'attendiez': 8679, 'dragons': 8680, 'proposes': 8681, 'cuisinons': 8682, 'brunch': 8683, 'raffut': 8684, 'tarif': 8685, 'quanti': 8686, 'partirez': 8687, 'commenceras': 8688, 'commencerez': 8689, 'fourchettes': 8690, 'roport': 8691, 'accompagn': 8692, 'affrontons': 8693, 'envoies': 8694, 'balan': 8695, 'oire': 8696, 'porterait': 8697, 'accompagnera': 8698, 'jures': 8699, 'jurez': 8700, 'criez': 8701, 'doutez': 8702, 'marres': 8703, 'neptune': 8704, 'irait': 8705, 'jeuneras': 8706, 'jeunerez': 8707, 'suivriez': 8708, 'suivrais': 8709, 'gaillard': 8710, 'marquez': 8711, 'dup': 8712, 'ressemblez': 8713, 'grill': 8714, 'importunes': 8715, 'importunez': 8716, 'puez': 8717, 'parfum': 8718, 'ignorera': 8719, 'mourrez': 8720, 'trahiras': 8721, 'trahirez': 8722, 'changeras': 8723, 'resteras': 8724, 'contribuez': 8725, 'contribues': 8726, 'incorrigibles': 8727, 'sistible': 8728, 'bibine': 8729, 'mar': 8730, 'dramatises': 8731, 'dramatisez': 8732, 'empoisonnes': 8733, 'empoisonnez': 8734, 'dragueuses': 8735, 'dragueuse': 8736, 'frimeur': 8737, 'frimeuse': 8738, 'rayures': 8739, 'onne': 8740, 'amputation': 8741, 'jeunez': 8742, 'mentale': 8743, 'mentales': 8744, 'ac': 8745, 'subjective': 8746, 'berlin': 8747, 'allemagne': 8748, 'soufflez': 8749, 'pantoufles': 8750, 'version': 8751, 'coulisses': 8752, 'prolonger': 8753, 'allumer': 8754, 'coloniser': 8755, 'clarifier': 8756, 'livrer': 8757, 'sacs': 8758, 'sains': 8759, 'saines': 8760, 'nourrit': 8761, 'survinrent': 8762, 'survenus': 8763, 'rhumes': 8764, 'accouche': 8765, 'contexte': 8766, 'scie': 8767, 'damas': 8768, 'syrie': 8769, 'ternels': 8770, 'sembl': 8771, 'chelle': 8772, 'cornemuse': 8773, 'bretzels': 8774, 'consommez': 8775, 'consommes': 8776, 'kimono': 8777, 'dauphins': 8778, 'reconnaissez': 8779, 'gligents': 8780, 'gligentes': 8781, 'infantile': 8782, 'riles': 8783, 'gatifs': 8784, 'gatives': 8785, 'brisez': 8786, 'cogne': 8787, 'traitez': 8788, 'cevez': 8789, 'manifestez': 8790, 'ambiance': 8791, 'dublin': 8792, 'irlande': 8793, 'liti': 8794, 'savourez': 8795, 'endormit': 8796, 'outrag': 8797, 'ouistiti': 8798, 'montant': 8799, 'maladresse': 8800, 'commentaires': 8801, 'rences': 8802, 'literie': 8803, 'fronti': 8804, 'borde': 8805, 'banquette': 8806, 'regagnez': 8807, 'curer': 8808, 'vignes': 8809, 'supplia': 8810, 'construisait': 8811, 'tondu': 8812, 'gen': 8813, 'commerce': 8814, 'quincaillerie': 8815, 'vora': 8816, 'craignait': 8817, 'vida': 8818, 'ressentit': 8819, 'accolade': 8820, 'lass': 8821, 'lassa': 8822, 'courrouc': 8823, 'doctorat': 8824, 'accent': 8825, 'terres': 8826, 'agile': 8827, 'rudes': 8828, 'acerbe': 8829, 'volver': 8830, 'pencha': 8831, 'vader': 8832, 'loupa': 8833, 'steaks': 8834, 'ramassa': 8835, 'repassait': 8836, 'loigna': 8837, 'escalier': 8838, 'esquiss': 8839, 'subitement': 8840, 'ligament': 8841, 'isolement': 8842, 'asseyait': 8843, 'apprendra': 8844, 'influence': 8845, 'informaticien': 8846, 'boutonneux': 8847, 'boule': 8848, 'parleur': 8849, 'baratineur': 8850, 'follement': 8851, 'coche': 8852, 'rugueuses': 8853, 'surprend': 8854, 'adoraient': 8855, 'parvenues': 8856, 'sommeill': 8857, 'torquer': 8858, 'weekend': 8859, 'huskies': 8860, 'contraint': 8861, 'basque': 8862, 'sollicit': 8863, 'enquise': 8864, 'tranche': 8865, 'malveillance': 8866, 'cahier': 8867, 'cendrier': 8868, 'incapacit': 8869, 'convaincre': 8870, 'avaler': 8871, 'finiment': 8872, 'fermai': 8873, 'traversai': 8874, 'vass': 8875, 'aboiement': 8876, 'aboiements': 8877, 'rancune': 8878, 'rancunier': 8879, 'moules': 8880, 'huitres': 8881, 'reconnue': 8882, 'respectai': 8883, 'immeuble': 8884, 'nal': 8885, 'arrach': 8886, 'rechange': 8887, 'tels': 8888, 'doubl': 8889, 'pitaux': 8890, 'muets': 8891, 'brale': 8892, 'servation': 8893, 'penchant': 8894, 'coiffe': 8895, 'brindille': 8896, 'chirer': 8897, 'troitement': 8898, 'encaisser': 8899, 'reprocherait': 8900, 'gagnerait': 8901, 'cirage': 8902, 'embrum': 8903, 'signes': 8904, 'quartier': 8905, 'chambr': 8906, 'chai': 8907, 'diversit': 8908, 'optimisme': 8909, 'cherchais': 8910, 'torche': 8911, 'notion': 8912, 'fabriquais': 8913, 'maquette': 8914, 'cialis': 8915, 'conomiques': 8916, 'bloc': 8917, 'fax': 8918, 'renseignements': 8919, 'refait': 8920, 'projette': 8921, 'plaid': 8922, 'regonfl': 8923, 'passai': 8924, 'souciais': 8925, 'cles': 8926, 'opportunit': 8927, 'indiquai': 8928, 'indiqu': 8929, 'parcouru': 8930, 'raval': 8931, 'excitants': 8932, 'excitantes': 8933, 'peinard': 8934, 'crous': 8935, 'voyageai': 8936, 'insistance': 8937, 'robinet': 8938, 'grimpai': 8939, 'coussin': 8940, 'lecteur': 8941, 'mp': 8942, 'unes': 8943, 'descendues': 8944, 'descendus': 8945, 'reveniez': 8946, 'cidiez': 8947, 'craignais': 8948, 'perdais': 8949, 'regardais': 8950, 'lisais': 8951, 'anxieuse': 8952, 'interm': 8953, 'diaire': 8954, 'ticente': 8955, 'arros': 8956, 'accompagnerai': 8957, 'vendrai': 8958, 'enfilai': 8959, 'parierais': 8960, 'rangerait': 8961, 'manhattan': 8962, 'restiez': 8963, 'recommanderais': 8964, 'admettrai': 8965, 'deviendrai': 8966, 'emmener': 8967, 'finirai': 8968, 'poserai': 8969, 'injection': 8970, 'sociales': 8971, 'quitterai': 8972, 'peindrai': 8973, 'pandrai': 8974, 'gymnase': 8975, 'windows': 8976, 'arch': 8977, 'quatri': 8978, 'business': 8979, 'pends': 8980, 'couramment': 8981, 'soirs': 8982, 'station': 8983, 'vapes': 8984, 'cafteur': 8985, 'invente': 8986, 'serviteur': 8987, 'engage': 8988, 'engager': 8989, 'unions': 8990, 'amateur': 8991, 'dignit': 8992, 'plombage': 8993, 'ketchup': 8994, 'luit': 8995, 'devait': 8996, 'ressemblait': 8997, 'curisant': 8998, 'correspondait': 8999, 'reintant': 9000, 'couchera': 9001, 'nonante': 9002, 'totale': 9003, 'imposture': 9004, 'lateur': 9005, 'familial': 9006, 'chevelu': 9007, 'quit': 9008, 'politesse': 9009, 'ninsule': 9010, 'fourrez': 9011, 'gentillesse': 9012, 'lincoln': 9013, 'lions': 9014, 'daltoniens': 9015, 'churent': 9016, 'rejoins': 9017, 'hall': 9018, 'accomplie': 9019, 'exploser': 9020, 'engourdie': 9021, 'tritons': 9022, 'amphibiens': 9023, 'gla': 9024, 'zut': 9025, 'appliquer': 9026, 'regardaient': 9027, 'rabots': 9028, 'relisez': 9029, 'noter': 9030, 'augmenter': 9031, 'crayons': 9032, 'mayo': 9033, 'room': 9034, 'economisez': 9035, 'missionnez': 9036, 'aiguise': 9037, 'aiguisez': 9038, 'factrice': 9039, 'repass': 9040, 'crivaine': 9041, 'confort': 9042, 'sortait': 9043, 'motive': 9044, 'candidats': 9045, 'haussez': 9046, 'pollution': 9047, 'recouvrait': 9048, 'autobus': 9049, 'sarcasmes': 9050, 'glands': 9051, 'actions': 9052, 'clowns': 9053, 'tergiverser': 9054, 'ouvrira': 9055, 'diminue': 9056, 'prendrait': 9057, 'flagrant': 9058, 'pistes': 9059, 'option': 9060, 'principale': 9061, 'touchant': 9062, 'irm': 9063, 'panier': 9064, 'fourgon': 9065, 'travaillaient': 9066, 'tictaque': 9067, 'riclit': 9068, 'riclita': 9069, 'fermera': 9070, 'dense': 9071, 'infecte': 9072, 'chauffage': 9073, 'hant': 9074, 'flammes': 9075, 'lacs': 9076, 'ampoule': 9077, 'lumineuse': 9078, 'momentan': 9079, 'suivirent': 9080, 'jouissantes': 9081, 'sentence': 9082, 'monstration': 9083, 'triviale': 9084, 'sultats': 9085, 'glissante': 9086, 'routes': 9087, 'sertes': 9088, 'immortelle': 9089, 'oratrice': 9090, 'truqu': 9091, 'nigne': 9092, 'canalisation': 9093, 'tari': 9094, 'apaisa': 9095, 'exceptions': 9096, 'menaces': 9097, 'lendemain': 9098, 'vacant': 9099, 'journaux': 9100, 'lourdes': 9101, 'trinqu': 9102, 'mirent': 9103, 'cultivent': 9104, 'querell': 9105, 'embrassaient': 9106, 'tendrement': 9107, 'cherchaient': 9108, 'attendront': 9109, 'radins': 9110, 'envoient': 9111, 'ficie': 9112, 'fend': 9113, 'pendouille': 9114, 'marrera': 9115, 'diamant': 9116, 'composition': 9117, 'baguette': 9118, 'hallucinant': 9119, 'potoir': 9120, 'glauque': 9121, 'comestible': 9122, 'troite': 9123, 'embaume': 9124, 'fragile': 9125, 'figurait': 9126, 'chronom': 9127, 'trage': 9128, 'autorisa': 9129, 'posa': 9130, 'pos': 9131, 'indigna': 9132, 'sitant': 9133, 'brossa': 9134, 'rifia': 9135, 'coupait': 9136, 'plia': 9137, 'attrapa': 9138, 'brid': 9139, 'tirs': 9140, 'suspendit': 9141, 'red': 9142, 'sox': 9143, 'bassiste': 9144, 'milliardaire': 9145, 'dresseur': 9146, 'souffleur': 9147, 'somnambule': 9148, 'fendre': 9149, 'irrespectueux': 9150, 'espionner': 9151, 'exceptionnel': 9152, 'lourdement': 9153, 'morgue': 9154, 'incompris': 9155, 'kg': 9156, 'hyper': 9157, 'philosophe': 9158, 'schizophr': 9159, 'gocentrique': 9160, 'arithm': 9161, 'ahuri': 9162, 'monies': 9163, 'buissonni': 9164, 'pluch': 9165, 'consulta': 9166, 'rechargea': 9167, 'retenait': 9168, 'rinc': 9169, 'branl': 9170, 'engrais': 9171, 'renversa': 9172, 'remerci': 9173, 'concurrent': 9174, 'contribuait': 9175, 'lectrocut': 9176, 'tar': 9177, 'barje': 9178, 'lier': 9179, 'foldingue': 9180, 'bonnet': 9181, 'fendrait': 9182, 'riposterait': 9183, 'attaquerait': 9184, 'accepterait': 9185, 'rison': 9186, 'enjeu': 9187, 'capital': 9188, 'pratiqu': 9189, 'ritons': 9190, 'ricains': 9191, 'tasuniens': 9192, 'enseignons': 9193, 'garantie': 9194, 'fassions': 9195, 'respecter': 9196, 'travailleurs': 9197, 'duire': 9198, 'sabrer': 9199, 'empaquet': 9200, 'onnons': 9201, 'suspecte': 9202, 'virage': 9203, 'filions': 9204, 'jouions': 9205, 'pardonnerons': 9206, 'antis': 9207, 'anties': 9208, 'claustrophobes': 9209, 'gagnons': 9210, 'rapprochons': 9211, 'chauffons': 9212, 'clate': 9213, 'rafale': 9214, 'cession': 9215, 'quittons': 9216, 'barbares': 9217, 'terroristes': 9218, 'semons': 9219, 'geons': 9220, 'mineures': 9221, 'band': 9222, 'panorama': 9223, 'dessinez': 9224, 'transportez': 9225, 'transportes': 9226, 'obligations': 9227, 'mouettes': 9228, 'implique': 9229, 'flexion': 9230, 'devrai': 9231, 'advenir': 9232, 'barouf': 9233, 'tumulte': 9234, 'pseudonyme': 9235, 'utilisateur': 9236, 'rentres': 9237, 'parcm': 9238, 'tron': 9239, 'onneuse': 9240, 'tartes': 9241, 'vitre': 9242, 'effac': 9243, 'fronces': 9244, 'ries': 9245, 'ternuez': 9246, 'rogne': 9247, 'brillent': 9248, 'retournions': 9249, 'pourvoira': 9250, 'devrons': 9251, 'attendras': 9252, 'pardonnerais': 9253, 'retireriez': 9254, 'retirerais': 9255, 'croirais': 9256, 'croiriez': 9257, 'stationner': 9258, 'impressionne': 9259, 'continues': 9260, 'poumon': 9261, 'centre': 9262, 'blesses': 9263, 'blessez': 9264, 'abandonniez': 9265, 'abandonnes': 9266, 'disiez': 9267, 'magnifiquement': 9268, 'disputiez': 9269, 'tents': 9270, 'croiras': 9271, 'croirez': 9272, 'devras': 9273, 'devrez': 9274, 'flattes': 9275, 'flattez': 9276, 'irresponsables': 9277, 'opportunistes': 9278, 'lunatiques': 9279, 'fantasques': 9280, 'inoubliables': 9281, 'bave': 9282, 'aiguilles': 9283, 'surtout': 9284, 'vitables': 9285, 'afrique': 9286, 'continent': 9287, 'jeunesse': 9288, 'enfuirent': 9289, 'apte': 9290, 'transparente': 9291, 'approcha': 9292, 'passent': 9293, 'dragues': 9294, 'harc': 9295, 'harcelez': 9296, 'nounou': 9297, 'sauvegarde': 9298, 'licieuses': 9299, 'barcelone': 9300, 'espagne': 9301, 'baies': 9302, 'ants': 9303, 'brad': 9304, 'pitt': 9305, 'ciseaux': 9306, 'menez': 9307, 'agence': 9308, 'cuisses': 9309, 'teindre': 9310, 'pourra': 9311, 'braille': 9312, 'annon': 9313, 'observent': 9314, 'communication': 9315, 'boussoles': 9316, 'pointent': 9317, 'phrase': 9318, 'shonneur': 9319, 'sar': 9320, 'exauc': 9321, 'ajouter': 9322, 'correspondance': 9323, 'critiques': 9324, 'existence': 9325, 'briquet': 9326, 'chambres': 9327, 'anchois': 9328, 'jardinage': 9329, 'raniums': 9330}\n"
          ]
        }
      ],
      "source": [
        "fra_tokenizer = Tokenizer()\n",
        "fra_tokenizer.fit_on_texts(lines_ef.fra)\n",
        "print(fra_tokenizer.word_index)"
      ]
    },
    {
      "cell_type": "code",
      "execution_count": null,
      "id": "8c0c636f",
      "metadata": {
        "id": "8c0c636f",
        "outputId": "a1db3a69-e7c2-464f-d471-6916aad96997"
      },
      "outputs": [
        {
          "data": {
            "text/plain": [
              "[[1, 86, 17, 2],\n",
              " [1, 456, 3, 2],\n",
              " [1, 30, 651, 17, 2],\n",
              " [1, 908, 17, 2],\n",
              " [1, 1014, 17, 2]]"
            ]
          },
          "execution_count": 17,
          "metadata": {},
          "output_type": "execute_result"
        }
      ],
      "source": [
        "fra_text = fra_tokenizer.texts_to_sequences(lines_ef.fra)\n",
        "fra_text[:5]"
      ]
    },
    {
      "cell_type": "code",
      "execution_count": null,
      "id": "173c5b67",
      "metadata": {
        "id": "173c5b67",
        "outputId": "f65e1b29-95f4-44d3-9195-8b9acdbda964"
      },
      "outputs": [
        {
          "name": "stdout",
          "output_type": "stream",
          "text": [
            "영어 단어장의 크기 : 5998\n",
            "프랑스어 단어장의 크기 : 9331\n"
          ]
        }
      ],
      "source": [
        "eng_vocab_size = len(eng_tokenizer.word_index) + 1\n",
        "fra_vocab_size = len(fra_tokenizer.word_index) + 1\n",
        "print('영어 단어장의 크기 :', eng_vocab_size)\n",
        "print('프랑스어 단어장의 크기 :', fra_vocab_size)"
      ]
    },
    {
      "cell_type": "code",
      "execution_count": null,
      "id": "f2596e12",
      "metadata": {
        "id": "f2596e12",
        "outputId": "adaaa018-2c9c-4416-fff1-a30d6a05381c"
      },
      "outputs": [
        {
          "name": "stdout",
          "output_type": "stream",
          "text": [
            "영어 시퀀스의 최대 길이 9\n",
            "프랑스어 시퀀스의 최대 길이 20\n"
          ]
        }
      ],
      "source": [
        "max_eng_seq_len = max([len(line) for line in eng_text])\n",
        "max_fra_seq_len = max([len(line) for line in fra_text])\n",
        "print('영어 시퀀스의 최대 길이', max_eng_seq_len)\n",
        "print('프랑스어 시퀀스의 최대 길이', max_fra_seq_len)"
      ]
    },
    {
      "cell_type": "code",
      "execution_count": null,
      "id": "5a782957",
      "metadata": {
        "id": "5a782957",
        "outputId": "165a763d-5be2-4d54-8da9-52c9a7244bdd"
      },
      "outputs": [
        {
          "name": "stdout",
          "output_type": "stream",
          "text": [
            "전체 샘플의 수 : 53000\n",
            "영어 단어장의 크기 : 5998\n",
            "프랑스어 단어장의 크기 : 9331\n",
            "영어 시퀀스의 최대 길이 9\n",
            "프랑스어 시퀀스의 최대 길이 20\n"
          ]
        }
      ],
      "source": [
        "print('전체 샘플의 수 :',len(lines_ef))\n",
        "print('영어 단어장의 크기 :', eng_vocab_size)\n",
        "print('프랑스어 단어장의 크기 :', fra_vocab_size)\n",
        "print('영어 시퀀스의 최대 길이', max_eng_seq_len)\n",
        "print('프랑스어 시퀀스의 최대 길이', max_fra_seq_len)"
      ]
    },
    {
      "cell_type": "code",
      "execution_count": null,
      "id": "822606a6",
      "metadata": {
        "id": "822606a6"
      },
      "outputs": [],
      "source": [
        "encoder_input = eng_text\n",
        "sos_token = \"<sos>\"\n",
        "eos_token = \"<eos>\"\n",
        "# 종료 토큰 제거\n",
        "decoder_input = [[ char for char in line if char != fra_tokenizer.word_index[eos_token] ] for line in fra_text]\n",
        "# 시작 토큰 제거\n",
        "decoder_target = [[ char for char in line if char != fra_tokenizer.word_index[sos_token] ] for line in fra_text]"
      ]
    },
    {
      "cell_type": "code",
      "execution_count": null,
      "id": "2376facc",
      "metadata": {
        "id": "2376facc",
        "outputId": "0f6b4ce0-fa52-4ba4-986d-9574f80b6b1c"
      },
      "outputs": [
        {
          "name": "stdout",
          "output_type": "stream",
          "text": [
            "[[1, 86, 17], [1, 456, 3], [1, 30, 651, 17]]\n",
            "[[86, 17, 2], [456, 3, 2], [30, 651, 17, 2]]\n"
          ]
        }
      ],
      "source": [
        "print(decoder_input[:3])\n",
        "print(decoder_target[:3])"
      ]
    },
    {
      "cell_type": "markdown",
      "id": "bfcfe00a",
      "metadata": {
        "id": "bfcfe00a"
      },
      "source": [
        "## Padding"
      ]
    },
    {
      "cell_type": "code",
      "execution_count": null,
      "id": "8350293f",
      "metadata": {
        "id": "8350293f",
        "outputId": "356c413f-a780-4362-b08b-0afa4b50c146"
      },
      "outputs": [
        {
          "name": "stdout",
          "output_type": "stream",
          "text": [
            "영어 데이터의 크기(shape) : (53000, 9)\n",
            "프랑스어 입력데이터의 크기(shape) : (53000, 20)\n",
            "프랑스어 출력데이터의 크기(shape) : (53000, 20)\n"
          ]
        }
      ],
      "source": [
        "encoder_input = pad_sequences(encoder_input, maxlen = max_eng_seq_len, padding='pre')\n",
        "decoder_input = pad_sequences(decoder_input, maxlen = max_fra_seq_len, padding='pre')\n",
        "decoder_target = pad_sequences(decoder_target, maxlen = max_fra_seq_len, padding='pre')\n",
        "print('영어 데이터의 크기(shape) :',np.shape(encoder_input))\n",
        "print('프랑스어 입력데이터의 크기(shape) :',np.shape(decoder_input))\n",
        "print('프랑스어 출력데이터의 크기(shape) :',np.shape(decoder_target))"
      ]
    },
    {
      "cell_type": "code",
      "execution_count": null,
      "id": "e949dbca",
      "metadata": {
        "id": "e949dbca",
        "outputId": "811201a7-cb2a-48c6-c8a0-468a8fb07a37"
      },
      "outputs": [
        {
          "name": "stdout",
          "output_type": "stream",
          "text": [
            "[  0   0   0   0   0   0   0 239  32]\n"
          ]
        }
      ],
      "source": [
        "print(encoder_input[10])"
      ]
    },
    {
      "cell_type": "markdown",
      "id": "14b1abc5",
      "metadata": {
        "id": "14b1abc5"
      },
      "source": [
        "## Split"
      ]
    },
    {
      "cell_type": "code",
      "execution_count": null,
      "id": "ae5d71a8",
      "metadata": {
        "id": "ae5d71a8",
        "outputId": "3558903b-eeec-454d-f54b-7eb35b4d714f"
      },
      "outputs": [
        {
          "name": "stdout",
          "output_type": "stream",
          "text": [
            "영어 테스트 데이터의 크기(shape) : (3000, 9)\n",
            "프랑스어 테스트 입력데이터의 크기(shape) : (3000, 20)\n",
            "프랑스어 테스트 출력데이터의 크기(shape) : (3000, 20)\n",
            "영어 학습데이터의 크기(shape) : (50000, 9)\n",
            "프랑스어 학습 입력데이터의 크기(shape) : (50000, 20)\n",
            "프랑스어 학습 출력데이터의 크기(shape) : (50000, 20)\n"
          ]
        }
      ],
      "source": [
        "n_of_val = 3000\n",
        "\n",
        "encoder_input_train = encoder_input[:-n_of_val]\n",
        "decoder_input_train = decoder_input[:-n_of_val]\n",
        "decoder_target_train = decoder_target[:-n_of_val]\n",
        "\n",
        "encoder_input_test = encoder_input[-n_of_val:]\n",
        "decoder_input_test = decoder_input[-n_of_val:]\n",
        "decoder_target_test = decoder_target[-n_of_val:]\n",
        "\n",
        "print('영어 테스트 데이터의 크기(shape) :',np.shape(encoder_input_test))\n",
        "print('프랑스어 테스트 입력데이터의 크기(shape) :',np.shape(decoder_input_test))\n",
        "print('프랑스어 테스트 출력데이터의 크기(shape) :',np.shape(decoder_target_test))\n",
        "print('영어 학습데이터의 크기(shape) :',np.shape(encoder_input_train))\n",
        "print('프랑스어 학습 입력데이터의 크기(shape) :',np.shape(decoder_input_train))\n",
        "print('프랑스어 학습 출력데이터의 크기(shape) :',np.shape(decoder_target_train))"
      ]
    },
    {
      "cell_type": "markdown",
      "id": "b238921e",
      "metadata": {
        "id": "b238921e"
      },
      "source": [
        "# 4 Get Train Model with Embedding layer\n",
        "https://wikidocs.net/33793"
      ]
    },
    {
      "cell_type": "code",
      "execution_count": null,
      "id": "84c36038",
      "metadata": {
        "id": "84c36038"
      },
      "outputs": [],
      "source": [
        "from tensorflow.keras.layers import Input, LSTM, Embedding, Dense\n",
        "from tensorflow.keras.models import Model\n",
        "from tensorflow.keras.layers import Input, Embedding, Masking"
      ]
    },
    {
      "cell_type": "markdown",
      "id": "903f4f06",
      "metadata": {
        "id": "903f4f06"
      },
      "source": [
        "## Encoder"
      ]
    },
    {
      "cell_type": "code",
      "execution_count": null,
      "id": "a6de83b8",
      "metadata": {
        "id": "a6de83b8"
      },
      "outputs": [],
      "source": [
        "# eng_vocab_size\n",
        "# output_dim = 128\n",
        "# input_length = 500\n",
        "# max_eng_seq_len\n",
        "\n",
        "# v = Embedding(vocab_size, output_dim, input_length=input_length)"
      ]
    },
    {
      "cell_type": "code",
      "execution_count": null,
      "id": "65a01faf",
      "metadata": {
        "id": "65a01faf"
      },
      "outputs": [],
      "source": [
        "embedding_size = 256\n",
        "hidden_size = 512\n",
        "\n",
        "# 인코더에서 사용할 임베딩 층 사용 예시\n",
        "encoder_inputs = Input(shape=(None, ), name='encoder_input')\n",
        "enc_emb =  Embedding(eng_vocab_size, embedding_size,\n",
        "                    input_length=max_eng_seq_len)(encoder_inputs)\n",
        "enc_masking = Masking(mask_value=0.0)(enc_emb)\n",
        "encoder_lstm = LSTM(hidden_size, dropout = 0.4, return_state=True)\n",
        "encoder_outputs, state_h, state_c = encoder_lstm(enc_emb)\n",
        "encoder_states = [state_h, state_c]\n",
        "\n",
        "# https://huyntohoon.tistory.com/14\n"
      ]
    },
    {
      "cell_type": "code",
      "execution_count": null,
      "id": "5949bdc2",
      "metadata": {
        "id": "5949bdc2"
      },
      "outputs": [],
      "source": []
    },
    {
      "cell_type": "markdown",
      "id": "1351072d",
      "metadata": {
        "id": "1351072d"
      },
      "source": [
        "## Decoder"
      ]
    },
    {
      "cell_type": "code",
      "execution_count": null,
      "id": "e8cd8ede",
      "metadata": {
        "id": "e8cd8ede"
      },
      "outputs": [],
      "source": [
        "decoder_inputs = Input(shape=(None,), name='decoder_input')\n",
        "dec_emb =  Embedding(fra_vocab_size, embedding_size)(decoder_inputs)\n",
        "dec_masking = Masking(mask_value=0.0)(dec_emb)\n",
        "decoder_lstm = LSTM(hidden_size, dropout = 0.4, return_sequences = True, return_state=True)  #`return_sequences=True`로 설정하여 모든 시점의 출력을 사용\n",
        "decoder_outputs, _, _ = decoder_lstm(dec_emb, initial_state = encoder_states)"
      ]
    },
    {
      "cell_type": "code",
      "execution_count": null,
      "id": "4bdaec80",
      "metadata": {
        "id": "4bdaec80"
      },
      "outputs": [],
      "source": [
        "decoder_softmax_layer = Dense(fra_vocab_size, activation='softmax')\n",
        "decoder_outputs = decoder_softmax_layer(decoder_outputs)"
      ]
    },
    {
      "cell_type": "markdown",
      "id": "30002b50",
      "metadata": {
        "id": "30002b50"
      },
      "source": [
        "## Join Train Model"
      ]
    },
    {
      "cell_type": "code",
      "execution_count": null,
      "id": "76de7a83",
      "metadata": {
        "id": "76de7a83",
        "outputId": "2b81234c-e90c-4fea-9cb0-e4b874b09ebf"
      },
      "outputs": [
        {
          "name": "stdout",
          "output_type": "stream",
          "text": [
            "Model: \"model_10\"\n",
            "__________________________________________________________________________________________________\n",
            "Layer (type)                    Output Shape         Param #     Connected to                     \n",
            "==================================================================================================\n",
            "encoder_input (InputLayer)      [(None, None)]       0                                            \n",
            "__________________________________________________________________________________________________\n",
            "decoder_input (InputLayer)      [(None, None)]       0                                            \n",
            "__________________________________________________________________________________________________\n",
            "embedding_52 (Embedding)        (None, None, 256)    1535488     encoder_input[0][0]              \n",
            "__________________________________________________________________________________________________\n",
            "embedding_53 (Embedding)        (None, None, 256)    2388736     decoder_input[0][0]              \n",
            "__________________________________________________________________________________________________\n",
            "lstm_52 (LSTM)                  [(None, 512), (None, 1574912     embedding_52[0][0]               \n",
            "__________________________________________________________________________________________________\n",
            "lstm_53 (LSTM)                  [(None, None, 512),  1574912     embedding_53[0][0]               \n",
            "                                                                 lstm_52[0][1]                    \n",
            "                                                                 lstm_52[0][2]                    \n",
            "__________________________________________________________________________________________________\n",
            "dense_9 (Dense)                 (None, None, 9331)   4786803     lstm_53[0][0]                    \n",
            "==================================================================================================\n",
            "Total params: 11,860,851\n",
            "Trainable params: 11,860,851\n",
            "Non-trainable params: 0\n",
            "__________________________________________________________________________________________________\n"
          ]
        }
      ],
      "source": [
        "model = Model([encoder_inputs, decoder_inputs], decoder_outputs)\n",
        "model.summary()"
      ]
    },
    {
      "cell_type": "code",
      "execution_count": null,
      "id": "5e4bd880",
      "metadata": {
        "id": "5e4bd880",
        "outputId": "b9823f86-124a-4da7-a4de-cad1cbc081e4"
      },
      "outputs": [
        {
          "data": {
            "image/svg+xml": [
              "<svg xmlns=\"http://www.w3.org/2000/svg\" xmlns:xlink=\"http://www.w3.org/1999/xlink\" width=\"1256pt\" height=\"516pt\" viewBox=\"0.00 0.00 942.00 387.00\">\n",
              "<g id=\"graph0\" class=\"graph\" transform=\"scale(0.75 0.75) rotate(0) translate(4 383)\">\n",
              "<title>G</title>\n",
              "<polygon fill=\"white\" stroke=\"transparent\" points=\"-4,4 -4,-383 938,-383 938,4 -4,4\"/>\n",
              "<!-- 139958719303440 -->\n",
              "<g id=\"node1\" class=\"node\">\n",
              "<title>139958719303440</title>\n",
              "<polygon fill=\"none\" stroke=\"black\" points=\"46.5,-332.5 46.5,-378.5 442.5,-378.5 442.5,-332.5 46.5,-332.5\"/>\n",
              "<text text-anchor=\"middle\" x=\"149.5\" y=\"-351.8\" font-family=\"Times,serif\" font-size=\"14.00\">encoder_input: InputLayer</text>\n",
              "<polyline fill=\"none\" stroke=\"black\" points=\"252.5,-332.5 252.5,-378.5 \"/>\n",
              "<text text-anchor=\"middle\" x=\"286.5\" y=\"-363.3\" font-family=\"Times,serif\" font-size=\"14.00\">input:</text>\n",
              "<polyline fill=\"none\" stroke=\"black\" points=\"252.5,-355.5 320.5,-355.5 \"/>\n",
              "<text text-anchor=\"middle\" x=\"286.5\" y=\"-340.3\" font-family=\"Times,serif\" font-size=\"14.00\">output:</text>\n",
              "<polyline fill=\"none\" stroke=\"black\" points=\"320.5,-332.5 320.5,-378.5 \"/>\n",
              "<text text-anchor=\"middle\" x=\"381.5\" y=\"-363.3\" font-family=\"Times,serif\" font-size=\"14.00\">[(None, None)]</text>\n",
              "<polyline fill=\"none\" stroke=\"black\" points=\"320.5,-355.5 442.5,-355.5 \"/>\n",
              "<text text-anchor=\"middle\" x=\"381.5\" y=\"-340.3\" font-family=\"Times,serif\" font-size=\"14.00\">[(None, None)]</text>\n",
              "</g>\n",
              "<!-- 139958719303344 -->\n",
              "<g id=\"node3\" class=\"node\">\n",
              "<title>139958719303344</title>\n",
              "<polygon fill=\"none\" stroke=\"black\" points=\"31,-249.5 31,-295.5 458,-295.5 458,-249.5 31,-249.5\"/>\n",
              "<text text-anchor=\"middle\" x=\"137\" y=\"-268.8\" font-family=\"Times,serif\" font-size=\"14.00\">embedding_50: Embedding</text>\n",
              "<polyline fill=\"none\" stroke=\"black\" points=\"243,-249.5 243,-295.5 \"/>\n",
              "<text text-anchor=\"middle\" x=\"277\" y=\"-280.3\" font-family=\"Times,serif\" font-size=\"14.00\">input:</text>\n",
              "<polyline fill=\"none\" stroke=\"black\" points=\"243,-272.5 311,-272.5 \"/>\n",
              "<text text-anchor=\"middle\" x=\"277\" y=\"-257.3\" font-family=\"Times,serif\" font-size=\"14.00\">output:</text>\n",
              "<polyline fill=\"none\" stroke=\"black\" points=\"311,-249.5 311,-295.5 \"/>\n",
              "<text text-anchor=\"middle\" x=\"384.5\" y=\"-280.3\" font-family=\"Times,serif\" font-size=\"14.00\">(None, None)</text>\n",
              "<polyline fill=\"none\" stroke=\"black\" points=\"311,-272.5 458,-272.5 \"/>\n",
              "<text text-anchor=\"middle\" x=\"384.5\" y=\"-257.3\" font-family=\"Times,serif\" font-size=\"14.00\">(None, None, 256)</text>\n",
              "</g>\n",
              "<!-- 139958719303440&#45;&gt;139958719303344 -->\n",
              "<g id=\"edge1\" class=\"edge\">\n",
              "<title>139958719303440-&gt;139958719303344</title>\n",
              "<path fill=\"none\" stroke=\"black\" d=\"M244.5,-332.37C244.5,-324.15 244.5,-314.66 244.5,-305.73\"/>\n",
              "<polygon fill=\"black\" stroke=\"black\" points=\"248,-305.61 244.5,-295.61 241,-305.61 248,-305.61\"/>\n",
              "</g>\n",
              "<!-- 139958719256992 -->\n",
              "<g id=\"node2\" class=\"node\">\n",
              "<title>139958719256992</title>\n",
              "<polygon fill=\"none\" stroke=\"black\" points=\"522.5,-249.5 522.5,-295.5 918.5,-295.5 918.5,-249.5 522.5,-249.5\"/>\n",
              "<text text-anchor=\"middle\" x=\"625.5\" y=\"-268.8\" font-family=\"Times,serif\" font-size=\"14.00\">decoder_input: InputLayer</text>\n",
              "<polyline fill=\"none\" stroke=\"black\" points=\"728.5,-249.5 728.5,-295.5 \"/>\n",
              "<text text-anchor=\"middle\" x=\"762.5\" y=\"-280.3\" font-family=\"Times,serif\" font-size=\"14.00\">input:</text>\n",
              "<polyline fill=\"none\" stroke=\"black\" points=\"728.5,-272.5 796.5,-272.5 \"/>\n",
              "<text text-anchor=\"middle\" x=\"762.5\" y=\"-257.3\" font-family=\"Times,serif\" font-size=\"14.00\">output:</text>\n",
              "<polyline fill=\"none\" stroke=\"black\" points=\"796.5,-249.5 796.5,-295.5 \"/>\n",
              "<text text-anchor=\"middle\" x=\"857.5\" y=\"-280.3\" font-family=\"Times,serif\" font-size=\"14.00\">[(None, None)]</text>\n",
              "<polyline fill=\"none\" stroke=\"black\" points=\"796.5,-272.5 918.5,-272.5 \"/>\n",
              "<text text-anchor=\"middle\" x=\"857.5\" y=\"-257.3\" font-family=\"Times,serif\" font-size=\"14.00\">[(None, None)]</text>\n",
              "</g>\n",
              "<!-- 139958719254688 -->\n",
              "<g id=\"node4\" class=\"node\">\n",
              "<title>139958719254688</title>\n",
              "<polygon fill=\"none\" stroke=\"black\" points=\"507,-166.5 507,-212.5 934,-212.5 934,-166.5 507,-166.5\"/>\n",
              "<text text-anchor=\"middle\" x=\"613\" y=\"-185.8\" font-family=\"Times,serif\" font-size=\"14.00\">embedding_51: Embedding</text>\n",
              "<polyline fill=\"none\" stroke=\"black\" points=\"719,-166.5 719,-212.5 \"/>\n",
              "<text text-anchor=\"middle\" x=\"753\" y=\"-197.3\" font-family=\"Times,serif\" font-size=\"14.00\">input:</text>\n",
              "<polyline fill=\"none\" stroke=\"black\" points=\"719,-189.5 787,-189.5 \"/>\n",
              "<text text-anchor=\"middle\" x=\"753\" y=\"-174.3\" font-family=\"Times,serif\" font-size=\"14.00\">output:</text>\n",
              "<polyline fill=\"none\" stroke=\"black\" points=\"787,-166.5 787,-212.5 \"/>\n",
              "<text text-anchor=\"middle\" x=\"860.5\" y=\"-197.3\" font-family=\"Times,serif\" font-size=\"14.00\">(None, None)</text>\n",
              "<polyline fill=\"none\" stroke=\"black\" points=\"787,-189.5 934,-189.5 \"/>\n",
              "<text text-anchor=\"middle\" x=\"860.5\" y=\"-174.3\" font-family=\"Times,serif\" font-size=\"14.00\">(None, None, 256)</text>\n",
              "</g>\n",
              "<!-- 139958719256992&#45;&gt;139958719254688 -->\n",
              "<g id=\"edge2\" class=\"edge\">\n",
              "<title>139958719256992-&gt;139958719254688</title>\n",
              "<path fill=\"none\" stroke=\"black\" d=\"M720.5,-249.37C720.5,-241.15 720.5,-231.66 720.5,-222.73\"/>\n",
              "<polygon fill=\"black\" stroke=\"black\" points=\"724,-222.61 720.5,-212.61 717,-222.61 724,-222.61\"/>\n",
              "</g>\n",
              "<!-- 139958719302672 -->\n",
              "<g id=\"node5\" class=\"node\">\n",
              "<title>139958719302672</title>\n",
              "<polygon fill=\"none\" stroke=\"black\" points=\"0,-166.5 0,-212.5 489,-212.5 489,-166.5 0,-166.5\"/>\n",
              "<text text-anchor=\"middle\" x=\"62\" y=\"-185.8\" font-family=\"Times,serif\" font-size=\"14.00\">lstm_50: LSTM</text>\n",
              "<polyline fill=\"none\" stroke=\"black\" points=\"124,-166.5 124,-212.5 \"/>\n",
              "<text text-anchor=\"middle\" x=\"158\" y=\"-197.3\" font-family=\"Times,serif\" font-size=\"14.00\">input:</text>\n",
              "<polyline fill=\"none\" stroke=\"black\" points=\"124,-189.5 192,-189.5 \"/>\n",
              "<text text-anchor=\"middle\" x=\"158\" y=\"-174.3\" font-family=\"Times,serif\" font-size=\"14.00\">output:</text>\n",
              "<polyline fill=\"none\" stroke=\"black\" points=\"192,-166.5 192,-212.5 \"/>\n",
              "<text text-anchor=\"middle\" x=\"340.5\" y=\"-197.3\" font-family=\"Times,serif\" font-size=\"14.00\">(None, None, 256)</text>\n",
              "<polyline fill=\"none\" stroke=\"black\" points=\"192,-189.5 489,-189.5 \"/>\n",
              "<text text-anchor=\"middle\" x=\"340.5\" y=\"-174.3\" font-family=\"Times,serif\" font-size=\"14.00\">[(None, 512), (None, 512), (None, 512)]</text>\n",
              "</g>\n",
              "<!-- 139958719303344&#45;&gt;139958719302672 -->\n",
              "<g id=\"edge3\" class=\"edge\">\n",
              "<title>139958719303344-&gt;139958719302672</title>\n",
              "<path fill=\"none\" stroke=\"black\" d=\"M244.5,-249.37C244.5,-241.15 244.5,-231.66 244.5,-222.73\"/>\n",
              "<polygon fill=\"black\" stroke=\"black\" points=\"248,-222.61 244.5,-212.61 241,-222.61 248,-222.61\"/>\n",
              "</g>\n",
              "<!-- 139958719517264 -->\n",
              "<g id=\"node6\" class=\"node\">\n",
              "<title>139958719517264</title>\n",
              "<polygon fill=\"none\" stroke=\"black\" points=\"214.5,-83.5 214.5,-129.5 750.5,-129.5 750.5,-83.5 214.5,-83.5\"/>\n",
              "<text text-anchor=\"middle\" x=\"276.5\" y=\"-102.8\" font-family=\"Times,serif\" font-size=\"14.00\">lstm_51: LSTM</text>\n",
              "<polyline fill=\"none\" stroke=\"black\" points=\"338.5,-83.5 338.5,-129.5 \"/>\n",
              "<text text-anchor=\"middle\" x=\"372.5\" y=\"-114.3\" font-family=\"Times,serif\" font-size=\"14.00\">input:</text>\n",
              "<polyline fill=\"none\" stroke=\"black\" points=\"338.5,-106.5 406.5,-106.5 \"/>\n",
              "<text text-anchor=\"middle\" x=\"372.5\" y=\"-91.3\" font-family=\"Times,serif\" font-size=\"14.00\">output:</text>\n",
              "<polyline fill=\"none\" stroke=\"black\" points=\"406.5,-83.5 406.5,-129.5 \"/>\n",
              "<text text-anchor=\"middle\" x=\"578.5\" y=\"-114.3\" font-family=\"Times,serif\" font-size=\"14.00\">[(None, None, 256), (None, 512), (None, 512)]</text>\n",
              "<polyline fill=\"none\" stroke=\"black\" points=\"406.5,-106.5 750.5,-106.5 \"/>\n",
              "<text text-anchor=\"middle\" x=\"578.5\" y=\"-91.3\" font-family=\"Times,serif\" font-size=\"14.00\">[(None, None, 512), (None, 512), (None, 512)]</text>\n",
              "</g>\n",
              "<!-- 139958719254688&#45;&gt;139958719517264 -->\n",
              "<g id=\"edge4\" class=\"edge\">\n",
              "<title>139958719254688-&gt;139958719517264</title>\n",
              "<path fill=\"none\" stroke=\"black\" d=\"M655.78,-166.47C625.22,-156.07 588.58,-143.6 556.87,-132.81\"/>\n",
              "<polygon fill=\"black\" stroke=\"black\" points=\"557.8,-129.43 547.21,-129.52 555.55,-136.06 557.8,-129.43\"/>\n",
              "</g>\n",
              "<!-- 139958719302672&#45;&gt;139958719517264 -->\n",
              "<g id=\"edge5\" class=\"edge\">\n",
              "<title>139958719302672-&gt;139958719517264</title>\n",
              "<path fill=\"none\" stroke=\"black\" d=\"M309.22,-166.47C339.78,-156.07 376.42,-143.6 408.13,-132.81\"/>\n",
              "<polygon fill=\"black\" stroke=\"black\" points=\"409.45,-136.06 417.79,-129.52 407.2,-129.43 409.45,-136.06\"/>\n",
              "</g>\n",
              "<!-- 139958719399776 -->\n",
              "<g id=\"node7\" class=\"node\">\n",
              "<title>139958719399776</title>\n",
              "<polygon fill=\"none\" stroke=\"black\" points=\"306.5,-0.5 306.5,-46.5 658.5,-46.5 658.5,-0.5 306.5,-0.5\"/>\n",
              "<text text-anchor=\"middle\" x=\"370.5\" y=\"-19.8\" font-family=\"Times,serif\" font-size=\"14.00\">dense_8: Dense</text>\n",
              "<polyline fill=\"none\" stroke=\"black\" points=\"434.5,-0.5 434.5,-46.5 \"/>\n",
              "<text text-anchor=\"middle\" x=\"468.5\" y=\"-31.3\" font-family=\"Times,serif\" font-size=\"14.00\">input:</text>\n",
              "<polyline fill=\"none\" stroke=\"black\" points=\"434.5,-23.5 502.5,-23.5 \"/>\n",
              "<text text-anchor=\"middle\" x=\"468.5\" y=\"-8.3\" font-family=\"Times,serif\" font-size=\"14.00\">output:</text>\n",
              "<polyline fill=\"none\" stroke=\"black\" points=\"502.5,-0.5 502.5,-46.5 \"/>\n",
              "<text text-anchor=\"middle\" x=\"580.5\" y=\"-31.3\" font-family=\"Times,serif\" font-size=\"14.00\">(None, None, 512)</text>\n",
              "<polyline fill=\"none\" stroke=\"black\" points=\"502.5,-23.5 658.5,-23.5 \"/>\n",
              "<text text-anchor=\"middle\" x=\"580.5\" y=\"-8.3\" font-family=\"Times,serif\" font-size=\"14.00\">(None, None, 9331)</text>\n",
              "</g>\n",
              "<!-- 139958719517264&#45;&gt;139958719399776 -->\n",
              "<g id=\"edge6\" class=\"edge\">\n",
              "<title>139958719517264-&gt;139958719399776</title>\n",
              "<path fill=\"none\" stroke=\"black\" d=\"M482.5,-83.37C482.5,-75.15 482.5,-65.66 482.5,-56.73\"/>\n",
              "<polygon fill=\"black\" stroke=\"black\" points=\"486,-56.61 482.5,-46.61 479,-56.61 486,-56.61\"/>\n",
              "</g>\n",
              "</g>\n",
              "</svg>"
            ],
            "text/plain": [
              "<IPython.core.display.SVG object>"
            ]
          },
          "execution_count": 80,
          "metadata": {},
          "output_type": "execute_result"
        }
      ],
      "source": [
        "from IPython.display import SVG\n",
        "from keras.utils.vis_utils import model_to_dot\n",
        "\n",
        "%matplotlib inline\n",
        "\n",
        "SVG(model_to_dot(model, show_shapes=True, dpi=96).create(prog='dot', format='svg'))"
      ]
    },
    {
      "cell_type": "markdown",
      "id": "564fcf92",
      "metadata": {
        "id": "564fcf92"
      },
      "source": [
        "## Train"
      ]
    },
    {
      "cell_type": "code",
      "execution_count": null,
      "id": "1e367cec",
      "metadata": {
        "id": "1e367cec",
        "outputId": "3ed8a9c1-3600-453a-ff40-212ec604d995"
      },
      "outputs": [
        {
          "name": "stdout",
          "output_type": "stream",
          "text": [
            "Epoch 1/20\n",
            "391/391 [==============================] - 19s 43ms/step - loss: 1.8000 - val_loss: 1.6476\n",
            "Epoch 2/20\n",
            "391/391 [==============================] - 17s 43ms/step - loss: 1.3345 - val_loss: 1.5447\n",
            "Epoch 3/20\n",
            "391/391 [==============================] - 17s 44ms/step - loss: 1.2514 - val_loss: 1.4797\n",
            "Epoch 4/20\n",
            "391/391 [==============================] - 17s 43ms/step - loss: 1.1760 - val_loss: 1.3820\n",
            "Epoch 5/20\n",
            "391/391 [==============================] - 17s 43ms/step - loss: 1.1083 - val_loss: 1.3282\n",
            "Epoch 6/20\n",
            "391/391 [==============================] - 17s 43ms/step - loss: 1.0605 - val_loss: 1.2803\n",
            "Epoch 7/20\n",
            "391/391 [==============================] - 17s 43ms/step - loss: 1.0220 - val_loss: 1.2398\n",
            "Epoch 8/20\n",
            "391/391 [==============================] - 17s 43ms/step - loss: 0.9859 - val_loss: 1.2142\n",
            "Epoch 9/20\n",
            "391/391 [==============================] - 17s 43ms/step - loss: 0.9525 - val_loss: 1.1677\n",
            "Epoch 10/20\n",
            "391/391 [==============================] - 17s 43ms/step - loss: 0.9183 - val_loss: 1.1343\n",
            "Epoch 11/20\n",
            "391/391 [==============================] - 17s 43ms/step - loss: 0.8884 - val_loss: 1.1195\n",
            "Epoch 12/20\n",
            "391/391 [==============================] - 17s 43ms/step - loss: 0.8611 - val_loss: 1.1049\n",
            "Epoch 13/20\n",
            "391/391 [==============================] - 17s 43ms/step - loss: 0.8349 - val_loss: 1.0647\n",
            "Epoch 14/20\n",
            "391/391 [==============================] - 17s 43ms/step - loss: 0.8111 - val_loss: 1.0434\n",
            "Epoch 15/20\n",
            "391/391 [==============================] - 17s 43ms/step - loss: 0.7893 - val_loss: 1.0203\n",
            "Epoch 16/20\n",
            "391/391 [==============================] - 17s 43ms/step - loss: 0.7673 - val_loss: 1.0061\n",
            "Epoch 17/20\n",
            "391/391 [==============================] - 17s 43ms/step - loss: 0.7478 - val_loss: 0.9892\n",
            "Epoch 18/20\n",
            "391/391 [==============================] - 17s 43ms/step - loss: 0.7300 - val_loss: 0.9847\n",
            "Epoch 19/20\n",
            "391/391 [==============================] - 17s 43ms/step - loss: 0.7133 - val_loss: 0.9763\n",
            "Epoch 20/20\n",
            "391/391 [==============================] - 17s 43ms/step - loss: 0.6965 - val_loss: 0.9582\n"
          ]
        }
      ],
      "source": [
        "import keras\n",
        "from keras import optimizers\n",
        "import tensorflow as tf\n",
        "\n",
        "rmsprop = tf.keras.optimizers.RMSprop(learning_rate=0.0003)\n",
        "\n",
        "model.compile(optimizer=rmsprop, loss=\"sparse_categorical_crossentropy\")\n",
        "\n",
        "history=model.fit(x = [encoder_input_train, decoder_input_train], y = decoder_target_train,\n",
        "                  validation_data = ([encoder_input_test, decoder_input_test], decoder_target_test),\n",
        "                  batch_size=128,\n",
        "                  epochs=20)\n",
        "# 기준 learning_rate = 0.0001, batch_size =128, epochs = 15, loss = 1.4\n",
        "# batch_size를 줄이니(32) loss가 조금 작아짐.(1.1) train과 val차이가 커짐.\n",
        "# learning_tate를 증가시켰더니(0,001) loss가 조금 작아짐.(1.1) train과 val차이가 커짐.\n",
        "# epoch =50 으로 loss 1.1이지만 train과 val의 차가 적음. => 조금씩 여러번 학습하는 게 좋음.\n",
        "# padding을 post에 한 경우 masking layer가 없으면 학습이 전혀 안됨. (loss=nan)"
      ]
    },
    {
      "cell_type": "code",
      "execution_count": null,
      "id": "cbe13156",
      "metadata": {
        "id": "cbe13156",
        "outputId": "028e1587-f4ba-43a3-c27d-509199969e3b"
      },
      "outputs": [
        {
          "name": "stdout",
          "output_type": "stream",
          "text": [
            "dict_keys(['loss', 'val_loss'])\n"
          ]
        }
      ],
      "source": [
        "history_dict = history.history\n",
        "print(history_dict.keys()) # epoch에 따른 그래프를 그려볼 수 있는 항목들"
      ]
    },
    {
      "cell_type": "code",
      "execution_count": null,
      "id": "4f06b6b5",
      "metadata": {
        "id": "4f06b6b5",
        "outputId": "03913eaa-408b-43e2-ab11-5f3b771ce193"
      },
      "outputs": [
        {
          "data": {
            "image/png": "[encoded data removed]",
            "text/plain": [
              "<Figure size 432x288 with 1 Axes>"
            ]
          },
          "metadata": {
            "needs_background": "light"
          },
          "output_type": "display_data"
        }
      ],
      "source": [
        "# padding : post, with masking layer\n",
        "import matplotlib.pyplot as plt\n",
        "\n",
        "loss = history_dict['loss']\n",
        "val_loss = history_dict['val_loss']\n",
        "\n",
        "epochs = range(1, len(loss) + 1)\n",
        "\n",
        "# \"bo\"는 \"파란색 점\"입니다\n",
        "plt.plot(epochs, loss, 'bo', label='Training loss')\n",
        "# b는 \"파란 실선\"입니다\n",
        "plt.plot(epochs, val_loss, 'r', label='Validation loss')\n",
        "plt.title('Validation loss')\n",
        "plt.xlabel('Epochs')\n",
        "plt.ylabel('Loss')\n",
        "plt.legend()\n",
        "\n",
        "plt.show()"
      ]
    },
    {
      "cell_type": "code",
      "execution_count": null,
      "id": "7453bcc8",
      "metadata": {
        "id": "7453bcc8"
      },
      "outputs": [],
      "source": [
        "from keras.models import load_model\n",
        "\n",
        "model.save('translator_model.h5')"
      ]
    },
    {
      "cell_type": "code",
      "execution_count": null,
      "id": "c456c750",
      "metadata": {
        "id": "c456c750",
        "outputId": "594b7bec-fade-4ea3-bac4-bde2fc357f6e"
      },
      "outputs": [
        {
          "data": {
            "image/png": "[encoded data removed]",
            "text/plain": [
              "<Figure size 432x288 with 1 Axes>"
            ]
          },
          "metadata": {
            "needs_background": "light"
          },
          "output_type": "display_data"
        }
      ],
      "source": [
        "# padding : post, with masking layer\n",
        "import matplotlib.pyplot as plt\n",
        "\n",
        "loss = history_dict['loss']\n",
        "val_loss = history_dict['val_loss']\n",
        "\n",
        "epochs = range(1, len(loss) + 1)\n",
        "\n",
        "# \"bo\"는 \"파란색 점\"입니다\n",
        "plt.plot(epochs, loss, 'bo', label='Training loss')\n",
        "# b는 \"파란 실선\"입니다\n",
        "plt.plot(epochs, val_loss, 'r', label='Validation loss')\n",
        "plt.title('Validation loss')\n",
        "plt.xlabel('Epochs')\n",
        "plt.ylabel('Loss')\n",
        "plt.legend()\n",
        "\n",
        "plt.show()"
      ]
    },
    {
      "cell_type": "code",
      "execution_count": null,
      "id": "15a97606",
      "metadata": {
        "id": "15a97606"
      },
      "outputs": [],
      "source": [
        "from keras.models import load_model\n",
        "\n",
        "model.save('translator_model_20.h5')"
      ]
    },
    {
      "cell_type": "markdown",
      "id": "dcce4e93",
      "metadata": {
        "id": "dcce4e93"
      },
      "source": [
        "## bidrectional, attention 적용"
      ]
    },
    {
      "cell_type": "code",
      "execution_count": null,
      "id": "3941ef5a",
      "metadata": {
        "id": "3941ef5a",
        "outputId": "c202c3f0-92ba-4b54-f69a-d330eb721361"
      },
      "outputs": [
        {
          "data": {
            "text/plain": [
              "TensorShape([None, 1024])"
            ]
          },
          "execution_count": 38,
          "metadata": {},
          "output_type": "execute_result"
        }
      ],
      "source": [
        "encoder_h.shape"
      ]
    },
    {
      "cell_type": "code",
      "execution_count": null,
      "id": "fb18823b",
      "metadata": {
        "id": "fb18823b",
        "outputId": "a08a4bf1-2b5b-4902-9c24-076d91a0718e"
      },
      "outputs": [
        {
          "name": "stdout",
          "output_type": "stream",
          "text": [
            "[<KerasTensor: shape=(None, None, 1024) dtype=float32 (created by layer 'bidirectional_47')>, <KerasTensor: shape=(None, 512) dtype=float32 (created by layer 'bidirectional_47')>, <KerasTensor: shape=(None, 512) dtype=float32 (created by layer 'bidirectional_47')>, <KerasTensor: shape=(None, 512) dtype=float32 (created by layer 'bidirectional_47')>, <KerasTensor: shape=(None, 512) dtype=float32 (created by layer 'bidirectional_47')>]\n",
            "Model: \"model_8\"\n",
            "__________________________________________________________________________________________________\n",
            "Layer (type)                    Output Shape         Param #     Connected to                     \n",
            "==================================================================================================\n",
            "input_47 (InputLayer)           [(None, None)]       0                                            \n",
            "__________________________________________________________________________________________________\n",
            "input_48 (InputLayer)           [(None, None)]       0                                            \n",
            "__________________________________________________________________________________________________\n",
            "embedding_48 (Embedding)        (None, None, 512)    3070976     input_47[0][0]                   \n",
            "__________________________________________________________________________________________________\n",
            "embedding_49 (Embedding)        (None, None, 512)    4777472     input_48[0][0]                   \n",
            "__________________________________________________________________________________________________\n",
            "bidirectional_46 (Bidirectional [(None, None, 1024), 4198400     embedding_48[0][0]               \n",
            "__________________________________________________________________________________________________\n",
            "bidirectional_47 (Bidirectional [(None, None, 1024), 4198400     embedding_49[0][0]               \n",
            "                                                                 bidirectional_46[0][1]           \n",
            "                                                                 bidirectional_46[0][2]           \n",
            "                                                                 bidirectional_46[0][3]           \n",
            "                                                                 bidirectional_46[0][4]           \n",
            "__________________________________________________________________________________________________\n",
            "attention_12 (Attention)        (None, None, 1024)   0           bidirectional_46[0][0]           \n",
            "                                                                 bidirectional_47[0][0]           \n",
            "__________________________________________________________________________________________________\n",
            "concatenate_51 (Concatenate)    (None, None, 2048)   0           bidirectional_47[0][0]           \n",
            "                                                                 attention_12[0][0]               \n",
            "__________________________________________________________________________________________________\n",
            "dense_7 (Dense)                 (None, None, 9331)   19119219    concatenate_51[0][0]             \n",
            "==================================================================================================\n",
            "Total params: 35,364,467\n",
            "Trainable params: 35,364,467\n",
            "Non-trainable params: 0\n",
            "__________________________________________________________________________________________________\n"
          ]
        }
      ],
      "source": [
        "import tensorflow as tf\n",
        "embedding_size = 512\n",
        "hidden_size = 512\n",
        "# encoder_states = tf.zeros([encoder_states,encoder_states])\n",
        "\n",
        "# 인코더 모델\n",
        "encoder_input = tf.keras.Input(shape=(None,))\n",
        "encoder_embedding = tf.keras.layers.Embedding(input_dim=eng_vocab_size, output_dim=embedding_size)(encoder_input)\n",
        "\n",
        "# 양방향 LSTM 레이어\n",
        "encoder_lstm = tf.keras.layers.Bidirectional(tf.keras.layers.LSTM(units=hidden_size, dropout = 0.5, return_sequences=True, return_state=True))\n",
        "encoder_outputs, forward_h, forward_c, backward_h, backward_c = encoder_lstm(encoder_embedding)\n",
        "\n",
        "# 인코더의 상태 정보를 디코더로 전달하기 위한 텐서\n",
        "encoder_h = tf.keras.layers.Concatenate()([forward_h, backward_h])\n",
        "encoder_c = tf.keras.layers.Concatenate()([forward_c, backward_c])\n",
        "# encoder_states = [encoder_h, encoder_c, encoder_h, encoder_c] # = decoder initial_state\n",
        "encoder_states = [forward_h, forward_c, backward_h, backward_c]\n",
        "\n",
        "# 디코더 모델\n",
        "decoder_input = tf.keras.Input(shape=(None,))\n",
        "decoder_embedding = tf.keras.layers.Embedding(input_dim=fra_vocab_size, output_dim=embedding_size)(decoder_input)\n",
        "\n",
        "# 양방향 LSTM 레이어\n",
        "decoder_lstm = tf.keras.layers.Bidirectional(tf.keras.layers.LSTM(units=hidden_size, dropout = 0.5, return_sequences=True, return_state=True))  #`return_sequences=True`로 설정하여 모든 시점의 출력을 사용\n",
        "decoder_outputs = decoder_lstm(decoder_embedding, initial_state = encoder_states ) # len(encoder_states)=2   ????????\n",
        "# decoder_outputs의 길이가 5개 그 중 알맞은 거 사용하면 됨. 또는 ,_,_,_,_를 사용하면 뒤게 4개 포함하여 따로 저장하지만 뒤 4개는 사용하지 않음.\n",
        "print(decoder_outputs)\n",
        "# 어텐션 메커니즘\n",
        "attn_layer = tf.keras.layers.Attention()([encoder_outputs, decoder_outputs[0]])\n",
        "\n",
        "# 디코더의 출력층\n",
        "decoder_concat_input = tf.keras.layers.Concatenate(axis=-1)([decoder_outputs[0], attn_layer])\n",
        "decoder_dense = tf.keras.layers.Dense(units=fra_vocab_size, activation='softmax')\n",
        "decoder_outputs = decoder_dense(decoder_concat_input)\n",
        "\n",
        "# 모델 생성\n",
        "model_bi = Model([encoder_input, decoder_input], decoder_outputs)\n",
        "model_bi.summary()"
      ]
    },
    {
      "cell_type": "markdown",
      "id": "654c8550",
      "metadata": {
        "id": "654c8550"
      },
      "source": [
        "### Train"
      ]
    },
    {
      "cell_type": "code",
      "execution_count": null,
      "id": "7545282e",
      "metadata": {
        "id": "7545282e",
        "outputId": "242b414c-9330-4e18-d62e-4c2d75643cf2"
      },
      "outputs": [
        {
          "data": {
            "image/svg+xml": [
              "<svg xmlns=\"http://www.w3.org/2000/svg\" xmlns:xlink=\"http://www.w3.org/1999/xlink\" width=\"1964pt\" height=\"737pt\" viewBox=\"0.00 0.00 1473.00 553.00\">\n",
              "<g id=\"graph0\" class=\"graph\" transform=\"scale(0.75 0.75) rotate(0) translate(4 549)\">\n",
              "<title>G</title>\n",
              "<polygon fill=\"white\" stroke=\"transparent\" points=\"-4,4 -4,-549 1469,-549 1469,4 -4,4\"/>\n",
              "<!-- 139958725566224 -->\n",
              "<g id=\"node1\" class=\"node\">\n",
              "<title>139958725566224</title>\n",
              "<polygon fill=\"none\" stroke=\"black\" points=\"300.5,-498.5 300.5,-544.5 657.5,-544.5 657.5,-498.5 300.5,-498.5\"/>\n",
              "<text text-anchor=\"middle\" x=\"384\" y=\"-517.8\" font-family=\"Times,serif\" font-size=\"14.00\">input_47: InputLayer</text>\n",
              "<polyline fill=\"none\" stroke=\"black\" points=\"467.5,-498.5 467.5,-544.5 \"/>\n",
              "<text text-anchor=\"middle\" x=\"501.5\" y=\"-529.3\" font-family=\"Times,serif\" font-size=\"14.00\">input:</text>\n",
              "<polyline fill=\"none\" stroke=\"black\" points=\"467.5,-521.5 535.5,-521.5 \"/>\n",
              "<text text-anchor=\"middle\" x=\"501.5\" y=\"-506.3\" font-family=\"Times,serif\" font-size=\"14.00\">output:</text>\n",
              "<polyline fill=\"none\" stroke=\"black\" points=\"535.5,-498.5 535.5,-544.5 \"/>\n",
              "<text text-anchor=\"middle\" x=\"596.5\" y=\"-529.3\" font-family=\"Times,serif\" font-size=\"14.00\">[(None, None)]</text>\n",
              "<polyline fill=\"none\" stroke=\"black\" points=\"535.5,-521.5 657.5,-521.5 \"/>\n",
              "<text text-anchor=\"middle\" x=\"596.5\" y=\"-506.3\" font-family=\"Times,serif\" font-size=\"14.00\">[(None, None)]</text>\n",
              "</g>\n",
              "<!-- 139958725566128 -->\n",
              "<g id=\"node3\" class=\"node\">\n",
              "<title>139958725566128</title>\n",
              "<polygon fill=\"none\" stroke=\"black\" points=\"265.5,-415.5 265.5,-461.5 692.5,-461.5 692.5,-415.5 265.5,-415.5\"/>\n",
              "<text text-anchor=\"middle\" x=\"371.5\" y=\"-434.8\" font-family=\"Times,serif\" font-size=\"14.00\">embedding_48: Embedding</text>\n",
              "<polyline fill=\"none\" stroke=\"black\" points=\"477.5,-415.5 477.5,-461.5 \"/>\n",
              "<text text-anchor=\"middle\" x=\"511.5\" y=\"-446.3\" font-family=\"Times,serif\" font-size=\"14.00\">input:</text>\n",
              "<polyline fill=\"none\" stroke=\"black\" points=\"477.5,-438.5 545.5,-438.5 \"/>\n",
              "<text text-anchor=\"middle\" x=\"511.5\" y=\"-423.3\" font-family=\"Times,serif\" font-size=\"14.00\">output:</text>\n",
              "<polyline fill=\"none\" stroke=\"black\" points=\"545.5,-415.5 545.5,-461.5 \"/>\n",
              "<text text-anchor=\"middle\" x=\"619\" y=\"-446.3\" font-family=\"Times,serif\" font-size=\"14.00\">(None, None)</text>\n",
              "<polyline fill=\"none\" stroke=\"black\" points=\"545.5,-438.5 692.5,-438.5 \"/>\n",
              "<text text-anchor=\"middle\" x=\"619\" y=\"-423.3\" font-family=\"Times,serif\" font-size=\"14.00\">(None, None, 512)</text>\n",
              "</g>\n",
              "<!-- 139958725566224&#45;&gt;139958725566128 -->\n",
              "<g id=\"edge1\" class=\"edge\">\n",
              "<title>139958725566224-&gt;139958725566128</title>\n",
              "<path fill=\"none\" stroke=\"black\" d=\"M479,-498.37C479,-490.15 479,-480.66 479,-471.73\"/>\n",
              "<polygon fill=\"black\" stroke=\"black\" points=\"482.5,-471.61 479,-461.61 475.5,-471.61 482.5,-471.61\"/>\n",
              "</g>\n",
              "<!-- 139958725562320 -->\n",
              "<g id=\"node2\" class=\"node\">\n",
              "<title>139958725562320</title>\n",
              "<polygon fill=\"none\" stroke=\"black\" points=\"1011.5,-415.5 1011.5,-461.5 1368.5,-461.5 1368.5,-415.5 1011.5,-415.5\"/>\n",
              "<text text-anchor=\"middle\" x=\"1095\" y=\"-434.8\" font-family=\"Times,serif\" font-size=\"14.00\">input_48: InputLayer</text>\n",
              "<polyline fill=\"none\" stroke=\"black\" points=\"1178.5,-415.5 1178.5,-461.5 \"/>\n",
              "<text text-anchor=\"middle\" x=\"1212.5\" y=\"-446.3\" font-family=\"Times,serif\" font-size=\"14.00\">input:</text>\n",
              "<polyline fill=\"none\" stroke=\"black\" points=\"1178.5,-438.5 1246.5,-438.5 \"/>\n",
              "<text text-anchor=\"middle\" x=\"1212.5\" y=\"-423.3\" font-family=\"Times,serif\" font-size=\"14.00\">output:</text>\n",
              "<polyline fill=\"none\" stroke=\"black\" points=\"1246.5,-415.5 1246.5,-461.5 \"/>\n",
              "<text text-anchor=\"middle\" x=\"1307.5\" y=\"-446.3\" font-family=\"Times,serif\" font-size=\"14.00\">[(None, None)]</text>\n",
              "<polyline fill=\"none\" stroke=\"black\" points=\"1246.5,-438.5 1368.5,-438.5 \"/>\n",
              "<text text-anchor=\"middle\" x=\"1307.5\" y=\"-423.3\" font-family=\"Times,serif\" font-size=\"14.00\">[(None, None)]</text>\n",
              "</g>\n",
              "<!-- 139958727179904 -->\n",
              "<g id=\"node4\" class=\"node\">\n",
              "<title>139958727179904</title>\n",
              "<polygon fill=\"none\" stroke=\"black\" points=\"976.5,-332.5 976.5,-378.5 1403.5,-378.5 1403.5,-332.5 976.5,-332.5\"/>\n",
              "<text text-anchor=\"middle\" x=\"1082.5\" y=\"-351.8\" font-family=\"Times,serif\" font-size=\"14.00\">embedding_49: Embedding</text>\n",
              "<polyline fill=\"none\" stroke=\"black\" points=\"1188.5,-332.5 1188.5,-378.5 \"/>\n",
              "<text text-anchor=\"middle\" x=\"1222.5\" y=\"-363.3\" font-family=\"Times,serif\" font-size=\"14.00\">input:</text>\n",
              "<polyline fill=\"none\" stroke=\"black\" points=\"1188.5,-355.5 1256.5,-355.5 \"/>\n",
              "<text text-anchor=\"middle\" x=\"1222.5\" y=\"-340.3\" font-family=\"Times,serif\" font-size=\"14.00\">output:</text>\n",
              "<polyline fill=\"none\" stroke=\"black\" points=\"1256.5,-332.5 1256.5,-378.5 \"/>\n",
              "<text text-anchor=\"middle\" x=\"1330\" y=\"-363.3\" font-family=\"Times,serif\" font-size=\"14.00\">(None, None)</text>\n",
              "<polyline fill=\"none\" stroke=\"black\" points=\"1256.5,-355.5 1403.5,-355.5 \"/>\n",
              "<text text-anchor=\"middle\" x=\"1330\" y=\"-340.3\" font-family=\"Times,serif\" font-size=\"14.00\">(None, None, 512)</text>\n",
              "</g>\n",
              "<!-- 139958725562320&#45;&gt;139958727179904 -->\n",
              "<g id=\"edge2\" class=\"edge\">\n",
              "<title>139958725562320-&gt;139958727179904</title>\n",
              "<path fill=\"none\" stroke=\"black\" d=\"M1190,-415.37C1190,-407.15 1190,-397.66 1190,-388.73\"/>\n",
              "<polygon fill=\"black\" stroke=\"black\" points=\"1193.5,-388.61 1190,-378.61 1186.5,-388.61 1193.5,-388.61\"/>\n",
              "</g>\n",
              "<!-- 139958725565840 -->\n",
              "<g id=\"node5\" class=\"node\">\n",
              "<title>139958725565840</title>\n",
              "<polygon fill=\"none\" stroke=\"black\" points=\"0,-332.5 0,-378.5 958,-378.5 958,-332.5 0,-332.5\"/>\n",
              "<text text-anchor=\"middle\" x=\"175.5\" y=\"-351.8\" font-family=\"Times,serif\" font-size=\"14.00\">bidirectional_46(lstm_48): Bidirectional(LSTM)</text>\n",
              "<polyline fill=\"none\" stroke=\"black\" points=\"351,-332.5 351,-378.5 \"/>\n",
              "<text text-anchor=\"middle\" x=\"385\" y=\"-363.3\" font-family=\"Times,serif\" font-size=\"14.00\">input:</text>\n",
              "<polyline fill=\"none\" stroke=\"black\" points=\"351,-355.5 419,-355.5 \"/>\n",
              "<text text-anchor=\"middle\" x=\"385\" y=\"-340.3\" font-family=\"Times,serif\" font-size=\"14.00\">output:</text>\n",
              "<polyline fill=\"none\" stroke=\"black\" points=\"419,-332.5 419,-378.5 \"/>\n",
              "<text text-anchor=\"middle\" x=\"688.5\" y=\"-363.3\" font-family=\"Times,serif\" font-size=\"14.00\">(None, None, 512)</text>\n",
              "<polyline fill=\"none\" stroke=\"black\" points=\"419,-355.5 958,-355.5 \"/>\n",
              "<text text-anchor=\"middle\" x=\"688.5\" y=\"-340.3\" font-family=\"Times,serif\" font-size=\"14.00\">[(None, None, 1024), (None, 512), (None, 512), (None, 512), (None, 512)]</text>\n",
              "</g>\n",
              "<!-- 139958725566128&#45;&gt;139958725565840 -->\n",
              "<g id=\"edge3\" class=\"edge\">\n",
              "<title>139958725566128-&gt;139958725565840</title>\n",
              "<path fill=\"none\" stroke=\"black\" d=\"M479,-415.37C479,-407.15 479,-397.66 479,-388.73\"/>\n",
              "<polygon fill=\"black\" stroke=\"black\" points=\"482.5,-388.61 479,-378.61 475.5,-388.61 482.5,-388.61\"/>\n",
              "</g>\n",
              "<!-- 139958724584928 -->\n",
              "<g id=\"node6\" class=\"node\">\n",
              "<title>139958724584928</title>\n",
              "<polygon fill=\"none\" stroke=\"black\" points=\"507,-249.5 507,-295.5 1465,-295.5 1465,-249.5 507,-249.5\"/>\n",
              "<text text-anchor=\"middle\" x=\"682.5\" y=\"-268.8\" font-family=\"Times,serif\" font-size=\"14.00\">bidirectional_47(lstm_49): Bidirectional(LSTM)</text>\n",
              "<polyline fill=\"none\" stroke=\"black\" points=\"858,-249.5 858,-295.5 \"/>\n",
              "<text text-anchor=\"middle\" x=\"892\" y=\"-280.3\" font-family=\"Times,serif\" font-size=\"14.00\">input:</text>\n",
              "<polyline fill=\"none\" stroke=\"black\" points=\"858,-272.5 926,-272.5 \"/>\n",
              "<text text-anchor=\"middle\" x=\"892\" y=\"-257.3\" font-family=\"Times,serif\" font-size=\"14.00\">output:</text>\n",
              "<polyline fill=\"none\" stroke=\"black\" points=\"926,-249.5 926,-295.5 \"/>\n",
              "<text text-anchor=\"middle\" x=\"1195.5\" y=\"-280.3\" font-family=\"Times,serif\" font-size=\"14.00\">[(None, None, 512), (None, 512), (None, 512), (None, 512), (None, 512)]</text>\n",
              "<polyline fill=\"none\" stroke=\"black\" points=\"926,-272.5 1465,-272.5 \"/>\n",
              "<text text-anchor=\"middle\" x=\"1195.5\" y=\"-257.3\" font-family=\"Times,serif\" font-size=\"14.00\">[(None, None, 1024), (None, 512), (None, 512), (None, 512), (None, 512)]</text>\n",
              "</g>\n",
              "<!-- 139958727179904&#45;&gt;139958724584928 -->\n",
              "<g id=\"edge4\" class=\"edge\">\n",
              "<title>139958727179904-&gt;139958724584928</title>\n",
              "<path fill=\"none\" stroke=\"black\" d=\"M1134.53,-332.47C1108.67,-322.21 1077.73,-309.92 1050.81,-299.23\"/>\n",
              "<polygon fill=\"black\" stroke=\"black\" points=\"1052.05,-295.96 1041.46,-295.52 1049.47,-302.47 1052.05,-295.96\"/>\n",
              "</g>\n",
              "<!-- 139958725565840&#45;&gt;139958724584928 -->\n",
              "<g id=\"edge5\" class=\"edge\">\n",
              "<title>139958725565840-&gt;139958724584928</title>\n",
              "<path fill=\"none\" stroke=\"black\" d=\"M616.87,-332.47C685.34,-321.53 768.14,-308.31 837.95,-297.15\"/>\n",
              "<polygon fill=\"black\" stroke=\"black\" points=\"838.83,-300.56 848.16,-295.52 837.73,-293.64 838.83,-300.56\"/>\n",
              "</g>\n",
              "<!-- 139958725046032 -->\n",
              "<g id=\"node7\" class=\"node\">\n",
              "<title>139958725046032</title>\n",
              "<polygon fill=\"none\" stroke=\"black\" points=\"392.5,-166.5 392.5,-212.5 957.5,-212.5 957.5,-166.5 392.5,-166.5\"/>\n",
              "<text text-anchor=\"middle\" x=\"483.5\" y=\"-185.8\" font-family=\"Times,serif\" font-size=\"14.00\">attention_12: Attention</text>\n",
              "<polyline fill=\"none\" stroke=\"black\" points=\"574.5,-166.5 574.5,-212.5 \"/>\n",
              "<text text-anchor=\"middle\" x=\"608.5\" y=\"-197.3\" font-family=\"Times,serif\" font-size=\"14.00\">input:</text>\n",
              "<polyline fill=\"none\" stroke=\"black\" points=\"574.5,-189.5 642.5,-189.5 \"/>\n",
              "<text text-anchor=\"middle\" x=\"608.5\" y=\"-174.3\" font-family=\"Times,serif\" font-size=\"14.00\">output:</text>\n",
              "<polyline fill=\"none\" stroke=\"black\" points=\"642.5,-166.5 642.5,-212.5 \"/>\n",
              "<text text-anchor=\"middle\" x=\"800\" y=\"-197.3\" font-family=\"Times,serif\" font-size=\"14.00\">[(None, None, 1024), (None, None, 1024)]</text>\n",
              "<polyline fill=\"none\" stroke=\"black\" points=\"642.5,-189.5 957.5,-189.5 \"/>\n",
              "<text text-anchor=\"middle\" x=\"800\" y=\"-174.3\" font-family=\"Times,serif\" font-size=\"14.00\">(None, None, 1024)</text>\n",
              "</g>\n",
              "<!-- 139958725565840&#45;&gt;139958725046032 -->\n",
              "<g id=\"edge6\" class=\"edge\">\n",
              "<title>139958725565840-&gt;139958725046032</title>\n",
              "<path fill=\"none\" stroke=\"black\" d=\"M476.85,-332.35C475.82,-308.86 477.99,-272.05 498,-249 509.81,-235.39 524.86,-224.93 541.18,-216.9\"/>\n",
              "<polygon fill=\"black\" stroke=\"black\" points=\"542.74,-220.04 550.37,-212.68 539.82,-213.68 542.74,-220.04\"/>\n",
              "</g>\n",
              "<!-- 139958724584928&#45;&gt;139958725046032 -->\n",
              "<g id=\"edge7\" class=\"edge\">\n",
              "<title>139958724584928-&gt;139958725046032</title>\n",
              "<path fill=\"none\" stroke=\"black\" d=\"M901.43,-249.47C860.55,-238.83 811.34,-226.01 769.25,-215.05\"/>\n",
              "<polygon fill=\"black\" stroke=\"black\" points=\"770.11,-211.66 759.55,-212.52 768.35,-218.43 770.11,-211.66\"/>\n",
              "</g>\n",
              "<!-- 139958727607584 -->\n",
              "<g id=\"node8\" class=\"node\">\n",
              "<title>139958727607584</title>\n",
              "<polygon fill=\"none\" stroke=\"black\" points=\"525.5,-83.5 525.5,-129.5 1134.5,-129.5 1134.5,-83.5 525.5,-83.5\"/>\n",
              "<text text-anchor=\"middle\" x=\"638.5\" y=\"-102.8\" font-family=\"Times,serif\" font-size=\"14.00\">concatenate_51: Concatenate</text>\n",
              "<polyline fill=\"none\" stroke=\"black\" points=\"751.5,-83.5 751.5,-129.5 \"/>\n",
              "<text text-anchor=\"middle\" x=\"785.5\" y=\"-114.3\" font-family=\"Times,serif\" font-size=\"14.00\">input:</text>\n",
              "<polyline fill=\"none\" stroke=\"black\" points=\"751.5,-106.5 819.5,-106.5 \"/>\n",
              "<text text-anchor=\"middle\" x=\"785.5\" y=\"-91.3\" font-family=\"Times,serif\" font-size=\"14.00\">output:</text>\n",
              "<polyline fill=\"none\" stroke=\"black\" points=\"819.5,-83.5 819.5,-129.5 \"/>\n",
              "<text text-anchor=\"middle\" x=\"977\" y=\"-114.3\" font-family=\"Times,serif\" font-size=\"14.00\">[(None, None, 1024), (None, None, 1024)]</text>\n",
              "<polyline fill=\"none\" stroke=\"black\" points=\"819.5,-106.5 1134.5,-106.5 \"/>\n",
              "<text text-anchor=\"middle\" x=\"977\" y=\"-91.3\" font-family=\"Times,serif\" font-size=\"14.00\">(None, None, 2048)</text>\n",
              "</g>\n",
              "<!-- 139958724584928&#45;&gt;139958727607584 -->\n",
              "<g id=\"edge8\" class=\"edge\">\n",
              "<title>139958724584928-&gt;139958727607584</title>\n",
              "<path fill=\"none\" stroke=\"black\" d=\"M987.53,-249.23C987.92,-225.99 985.01,-189.7 966,-166 955.18,-152.51 940.65,-142.07 925.11,-134\"/>\n",
              "<polygon fill=\"black\" stroke=\"black\" points=\"926.39,-130.73 915.86,-129.53 923.34,-137.03 926.39,-130.73\"/>\n",
              "</g>\n",
              "<!-- 139958725046032&#45;&gt;139958727607584 -->\n",
              "<g id=\"edge9\" class=\"edge\">\n",
              "<title>139958725046032-&gt;139958727607584</title>\n",
              "<path fill=\"none\" stroke=\"black\" d=\"M717.35,-166.37C736.32,-156.46 758.85,-144.68 778.76,-134.28\"/>\n",
              "<polygon fill=\"black\" stroke=\"black\" points=\"780.46,-137.34 787.7,-129.61 777.21,-131.14 780.46,-137.34\"/>\n",
              "</g>\n",
              "<!-- 139958727116832 -->\n",
              "<g id=\"node9\" class=\"node\">\n",
              "<title>139958727116832</title>\n",
              "<polygon fill=\"none\" stroke=\"black\" points=\"654,-0.5 654,-46.5 1006,-46.5 1006,-0.5 654,-0.5\"/>\n",
              "<text text-anchor=\"middle\" x=\"718\" y=\"-19.8\" font-family=\"Times,serif\" font-size=\"14.00\">dense_7: Dense</text>\n",
              "<polyline fill=\"none\" stroke=\"black\" points=\"782,-0.5 782,-46.5 \"/>\n",
              "<text text-anchor=\"middle\" x=\"816\" y=\"-31.3\" font-family=\"Times,serif\" font-size=\"14.00\">input:</text>\n",
              "<polyline fill=\"none\" stroke=\"black\" points=\"782,-23.5 850,-23.5 \"/>\n",
              "<text text-anchor=\"middle\" x=\"816\" y=\"-8.3\" font-family=\"Times,serif\" font-size=\"14.00\">output:</text>\n",
              "<polyline fill=\"none\" stroke=\"black\" points=\"850,-0.5 850,-46.5 \"/>\n",
              "<text text-anchor=\"middle\" x=\"928\" y=\"-31.3\" font-family=\"Times,serif\" font-size=\"14.00\">(None, None, 2048)</text>\n",
              "<polyline fill=\"none\" stroke=\"black\" points=\"850,-23.5 1006,-23.5 \"/>\n",
              "<text text-anchor=\"middle\" x=\"928\" y=\"-8.3\" font-family=\"Times,serif\" font-size=\"14.00\">(None, None, 9331)</text>\n",
              "</g>\n",
              "<!-- 139958727607584&#45;&gt;139958727116832 -->\n",
              "<g id=\"edge10\" class=\"edge\">\n",
              "<title>139958727607584-&gt;139958727116832</title>\n",
              "<path fill=\"none\" stroke=\"black\" d=\"M830,-83.37C830,-75.15 830,-65.66 830,-56.73\"/>\n",
              "<polygon fill=\"black\" stroke=\"black\" points=\"833.5,-56.61 830,-46.61 826.5,-56.61 833.5,-56.61\"/>\n",
              "</g>\n",
              "</g>\n",
              "</svg>"
            ],
            "text/plain": [
              "<IPython.core.display.SVG object>"
            ]
          },
          "execution_count": 73,
          "metadata": {},
          "output_type": "execute_result"
        }
      ],
      "source": [
        "from IPython.display import SVG\n",
        "from keras.utils.vis_utils import model_to_dot\n",
        "\n",
        "%matplotlib inline\n",
        "\n",
        "SVG(model_to_dot(model_bi, show_shapes=True, dpi=96).create(prog='dot', format='svg'))"
      ]
    },
    {
      "cell_type": "markdown",
      "id": "4aa3028b",
      "metadata": {
        "id": "4aa3028b"
      },
      "source": [
        "# 5 Evaluate"
      ]
    },
    {
      "cell_type": "markdown",
      "id": "10f6c74a",
      "metadata": {
        "id": "10f6c74a"
      },
      "source": [
        "## Get Inference Model"
      ]
    },
    {
      "cell_type": "code",
      "execution_count": null,
      "id": "a957b794",
      "metadata": {
        "id": "a957b794",
        "outputId": "2c108be2-a8b0-48f0-ae36-2fa12b2109c9"
      },
      "outputs": [
        {
          "name": "stdout",
          "output_type": "stream",
          "text": [
            "Model: \"model_11\"\n",
            "_________________________________________________________________\n",
            "Layer (type)                 Output Shape              Param #   \n",
            "=================================================================\n",
            "encoder_input (InputLayer)   [(None, None)]            0         \n",
            "_________________________________________________________________\n",
            "embedding_52 (Embedding)     (None, None, 256)         1535488   \n",
            "_________________________________________________________________\n",
            "lstm_52 (LSTM)               [(None, 512), (None, 512) 1574912   \n",
            "=================================================================\n",
            "Total params: 3,110,400\n",
            "Trainable params: 3,110,400\n",
            "Non-trainable params: 0\n",
            "_________________________________________________________________\n"
          ]
        }
      ],
      "source": [
        "encoder_model = Model(inputs = encoder_inputs, outputs = encoder_states)\n",
        "encoder_model.summary()"
      ]
    },
    {
      "cell_type": "code",
      "execution_count": null,
      "id": "3d4206bc",
      "metadata": {
        "id": "3d4206bc",
        "outputId": "8362cb7b-f1f6-47b3-a6c1-989891ecc069"
      },
      "outputs": [
        {
          "ename": "ValueError",
          "evalue": "Dimensions must be equal, but are 256 and 512 for '{{node MatMul_1}} = MatMul[T=DT_FLOAT, transpose_a=false, transpose_b=false](init_h, recurrent_kernel)' with input shapes: [?,256], [512,2048].",
          "output_type": "error",
          "traceback": [
            "\u001b[0;31m---------------------------------------------------------------------------\u001b[0m",
            "\u001b[0;31mInvalidArgumentError\u001b[0m                      Traceback (most recent call last)",
            "\u001b[0;32m/opt/conda/lib/python3.9/site-packages/tensorflow/python/framework/ops.py\u001b[0m in \u001b[0;36m_create_c_op\u001b[0;34m(graph, node_def, inputs, control_inputs, op_def)\u001b[0m\n\u001b[1;32m   1879\u001b[0m   \u001b[0;32mtry\u001b[0m\u001b[0;34m:\u001b[0m\u001b[0;34m\u001b[0m\u001b[0;34m\u001b[0m\u001b[0m\n\u001b[0;32m-> 1880\u001b[0;31m     \u001b[0mc_op\u001b[0m \u001b[0;34m=\u001b[0m \u001b[0mpywrap_tf_session\u001b[0m\u001b[0;34m.\u001b[0m\u001b[0mTF_FinishOperation\u001b[0m\u001b[0;34m(\u001b[0m\u001b[0mop_desc\u001b[0m\u001b[0;34m)\u001b[0m\u001b[0;34m\u001b[0m\u001b[0;34m\u001b[0m\u001b[0m\n\u001b[0m\u001b[1;32m   1881\u001b[0m   \u001b[0;32mexcept\u001b[0m \u001b[0merrors\u001b[0m\u001b[0;34m.\u001b[0m\u001b[0mInvalidArgumentError\u001b[0m \u001b[0;32mas\u001b[0m \u001b[0me\u001b[0m\u001b[0;34m:\u001b[0m\u001b[0;34m\u001b[0m\u001b[0;34m\u001b[0m\u001b[0m\n",
            "\u001b[0;31mInvalidArgumentError\u001b[0m: Dimensions must be equal, but are 256 and 512 for '{{node MatMul_1}} = MatMul[T=DT_FLOAT, transpose_a=false, transpose_b=false](init_h, recurrent_kernel)' with input shapes: [?,256], [512,2048].",
            "\nDuring handling of the above exception, another exception occurred:\n",
            "\u001b[0;31mValueError\u001b[0m                                Traceback (most recent call last)",
            "\u001b[0;32m/tmp/ipykernel_31/3946666689.py\u001b[0m in \u001b[0;36m<module>\u001b[0;34m\u001b[0m\n\u001b[1;32m     10\u001b[0m \u001b[0;31m# 구체적인 동작 자체는 def decode_sequence()에 구현.\u001b[0m\u001b[0;34m\u001b[0m\u001b[0;34m\u001b[0m\u001b[0m\n\u001b[1;32m     11\u001b[0m \u001b[0mdec_emb2\u001b[0m \u001b[0;34m=\u001b[0m  \u001b[0mEmbedding\u001b[0m\u001b[0;34m(\u001b[0m\u001b[0mfra_vocab_size\u001b[0m\u001b[0;34m,\u001b[0m \u001b[0membedding_size\u001b[0m\u001b[0;34m)\u001b[0m\u001b[0;34m(\u001b[0m\u001b[0mdecoder_inputs\u001b[0m\u001b[0;34m)\u001b[0m\u001b[0;34m\u001b[0m\u001b[0;34m\u001b[0m\u001b[0m\n\u001b[0;32m---> 12\u001b[0;31m \u001b[0mdecoder_outputs2\u001b[0m\u001b[0;34m,\u001b[0m \u001b[0mstate_h2\u001b[0m\u001b[0;34m,\u001b[0m \u001b[0mstate_c2\u001b[0m \u001b[0;34m=\u001b[0m \u001b[0mdecoder_lstm\u001b[0m\u001b[0;34m(\u001b[0m\u001b[0mdec_emb2\u001b[0m\u001b[0;34m,\u001b[0m \u001b[0minitial_state\u001b[0m \u001b[0;34m=\u001b[0m \u001b[0mdecoder_states_inputs\u001b[0m\u001b[0;34m)\u001b[0m\u001b[0;34m\u001b[0m\u001b[0;34m\u001b[0m\u001b[0m\n\u001b[0m\u001b[1;32m     13\u001b[0m \u001b[0;31m# 현재 time step의 hidden state와 cell state를 하나의 변수에 저장.\u001b[0m\u001b[0;34m\u001b[0m\u001b[0;34m\u001b[0m\u001b[0m\n\u001b[1;32m     14\u001b[0m \u001b[0mdecoder_states2\u001b[0m \u001b[0;34m=\u001b[0m \u001b[0;34m[\u001b[0m\u001b[0mstate_h2\u001b[0m\u001b[0;34m,\u001b[0m \u001b[0mstate_c2\u001b[0m\u001b[0;34m]\u001b[0m\u001b[0;34m\u001b[0m\u001b[0;34m\u001b[0m\u001b[0m\n",
            "\u001b[0;32m/opt/conda/lib/python3.9/site-packages/keras/layers/recurrent.py\u001b[0m in \u001b[0;36m__call__\u001b[0;34m(self, inputs, initial_state, constants, **kwargs)\u001b[0m\n\u001b[1;32m    703\u001b[0m       \u001b[0;31m# Perform the call with temporarily replaced input_spec\u001b[0m\u001b[0;34m\u001b[0m\u001b[0;34m\u001b[0m\u001b[0m\n\u001b[1;32m    704\u001b[0m       \u001b[0mself\u001b[0m\u001b[0;34m.\u001b[0m\u001b[0minput_spec\u001b[0m \u001b[0;34m=\u001b[0m \u001b[0mfull_input_spec\u001b[0m\u001b[0;34m\u001b[0m\u001b[0;34m\u001b[0m\u001b[0m\n\u001b[0;32m--> 705\u001b[0;31m       \u001b[0moutput\u001b[0m \u001b[0;34m=\u001b[0m \u001b[0msuper\u001b[0m\u001b[0;34m(\u001b[0m\u001b[0mRNN\u001b[0m\u001b[0;34m,\u001b[0m \u001b[0mself\u001b[0m\u001b[0;34m)\u001b[0m\u001b[0;34m.\u001b[0m\u001b[0m__call__\u001b[0m\u001b[0;34m(\u001b[0m\u001b[0mfull_input\u001b[0m\u001b[0;34m,\u001b[0m \u001b[0;34m**\u001b[0m\u001b[0mkwargs\u001b[0m\u001b[0;34m)\u001b[0m\u001b[0;34m\u001b[0m\u001b[0;34m\u001b[0m\u001b[0m\n\u001b[0m\u001b[1;32m    706\u001b[0m       \u001b[0;31m# Remove the additional_specs from input spec and keep the rest. It is\u001b[0m\u001b[0;34m\u001b[0m\u001b[0;34m\u001b[0m\u001b[0m\n\u001b[1;32m    707\u001b[0m       \u001b[0;31m# important to keep since the input spec was populated by build(), and\u001b[0m\u001b[0;34m\u001b[0m\u001b[0;34m\u001b[0m\u001b[0m\n",
            "\u001b[0;32m/opt/conda/lib/python3.9/site-packages/keras/engine/base_layer.py\u001b[0m in \u001b[0;36m__call__\u001b[0;34m(self, *args, **kwargs)\u001b[0m\n\u001b[1;32m    974\u001b[0m     \u001b[0;31m# >> model = tf.keras.Model(inputs, outputs)\u001b[0m\u001b[0;34m\u001b[0m\u001b[0;34m\u001b[0m\u001b[0m\n\u001b[1;32m    975\u001b[0m     \u001b[0;32mif\u001b[0m \u001b[0m_in_functional_construction_mode\u001b[0m\u001b[0;34m(\u001b[0m\u001b[0mself\u001b[0m\u001b[0;34m,\u001b[0m \u001b[0minputs\u001b[0m\u001b[0;34m,\u001b[0m \u001b[0margs\u001b[0m\u001b[0;34m,\u001b[0m \u001b[0mkwargs\u001b[0m\u001b[0;34m,\u001b[0m \u001b[0minput_list\u001b[0m\u001b[0;34m)\u001b[0m\u001b[0;34m:\u001b[0m\u001b[0;34m\u001b[0m\u001b[0;34m\u001b[0m\u001b[0m\n\u001b[0;32m--> 976\u001b[0;31m       return self._functional_construction_call(inputs, args, kwargs,\n\u001b[0m\u001b[1;32m    977\u001b[0m                                                 input_list)\n\u001b[1;32m    978\u001b[0m \u001b[0;34m\u001b[0m\u001b[0m\n",
            "\u001b[0;32m/opt/conda/lib/python3.9/site-packages/keras/engine/base_layer.py\u001b[0m in \u001b[0;36m_functional_construction_call\u001b[0;34m(self, inputs, args, kwargs, input_list)\u001b[0m\n\u001b[1;32m   1112\u001b[0m         layer=self, inputs=inputs, build_graph=True, training=training_value):\n\u001b[1;32m   1113\u001b[0m       \u001b[0;31m# Check input assumptions set after layer building, e.g. input shape.\u001b[0m\u001b[0;34m\u001b[0m\u001b[0;34m\u001b[0m\u001b[0m\n\u001b[0;32m-> 1114\u001b[0;31m       outputs = self._keras_tensor_symbolic_call(\n\u001b[0m\u001b[1;32m   1115\u001b[0m           inputs, input_masks, args, kwargs)\n\u001b[1;32m   1116\u001b[0m \u001b[0;34m\u001b[0m\u001b[0m\n",
            "\u001b[0;32m/opt/conda/lib/python3.9/site-packages/keras/engine/base_layer.py\u001b[0m in \u001b[0;36m_keras_tensor_symbolic_call\u001b[0;34m(self, inputs, input_masks, args, kwargs)\u001b[0m\n\u001b[1;32m    846\u001b[0m       \u001b[0;32mreturn\u001b[0m \u001b[0mtf\u001b[0m\u001b[0;34m.\u001b[0m\u001b[0mnest\u001b[0m\u001b[0;34m.\u001b[0m\u001b[0mmap_structure\u001b[0m\u001b[0;34m(\u001b[0m\u001b[0mkeras_tensor\u001b[0m\u001b[0;34m.\u001b[0m\u001b[0mKerasTensor\u001b[0m\u001b[0;34m,\u001b[0m \u001b[0moutput_signature\u001b[0m\u001b[0;34m)\u001b[0m\u001b[0;34m\u001b[0m\u001b[0;34m\u001b[0m\u001b[0m\n\u001b[1;32m    847\u001b[0m     \u001b[0;32melse\u001b[0m\u001b[0;34m:\u001b[0m\u001b[0;34m\u001b[0m\u001b[0;34m\u001b[0m\u001b[0m\n\u001b[0;32m--> 848\u001b[0;31m       \u001b[0;32mreturn\u001b[0m \u001b[0mself\u001b[0m\u001b[0;34m.\u001b[0m\u001b[0m_infer_output_signature\u001b[0m\u001b[0;34m(\u001b[0m\u001b[0minputs\u001b[0m\u001b[0;34m,\u001b[0m \u001b[0margs\u001b[0m\u001b[0;34m,\u001b[0m \u001b[0mkwargs\u001b[0m\u001b[0;34m,\u001b[0m \u001b[0minput_masks\u001b[0m\u001b[0;34m)\u001b[0m\u001b[0;34m\u001b[0m\u001b[0;34m\u001b[0m\u001b[0m\n\u001b[0m\u001b[1;32m    849\u001b[0m \u001b[0;34m\u001b[0m\u001b[0m\n\u001b[1;32m    850\u001b[0m   \u001b[0;32mdef\u001b[0m \u001b[0m_infer_output_signature\u001b[0m\u001b[0;34m(\u001b[0m\u001b[0mself\u001b[0m\u001b[0;34m,\u001b[0m \u001b[0minputs\u001b[0m\u001b[0;34m,\u001b[0m \u001b[0margs\u001b[0m\u001b[0;34m,\u001b[0m \u001b[0mkwargs\u001b[0m\u001b[0;34m,\u001b[0m \u001b[0minput_masks\u001b[0m\u001b[0;34m)\u001b[0m\u001b[0;34m:\u001b[0m\u001b[0;34m\u001b[0m\u001b[0;34m\u001b[0m\u001b[0m\n",
            "\u001b[0;32m/opt/conda/lib/python3.9/site-packages/keras/engine/base_layer.py\u001b[0m in \u001b[0;36m_infer_output_signature\u001b[0;34m(self, inputs, args, kwargs, input_masks)\u001b[0m\n\u001b[1;32m    886\u001b[0m           \u001b[0mself\u001b[0m\u001b[0;34m.\u001b[0m\u001b[0m_maybe_build\u001b[0m\u001b[0;34m(\u001b[0m\u001b[0minputs\u001b[0m\u001b[0;34m)\u001b[0m\u001b[0;34m\u001b[0m\u001b[0;34m\u001b[0m\u001b[0m\n\u001b[1;32m    887\u001b[0m           \u001b[0minputs\u001b[0m \u001b[0;34m=\u001b[0m \u001b[0mself\u001b[0m\u001b[0;34m.\u001b[0m\u001b[0m_maybe_cast_inputs\u001b[0m\u001b[0;34m(\u001b[0m\u001b[0minputs\u001b[0m\u001b[0;34m)\u001b[0m\u001b[0;34m\u001b[0m\u001b[0;34m\u001b[0m\u001b[0m\n\u001b[0;32m--> 888\u001b[0;31m           \u001b[0moutputs\u001b[0m \u001b[0;34m=\u001b[0m \u001b[0mcall_fn\u001b[0m\u001b[0;34m(\u001b[0m\u001b[0minputs\u001b[0m\u001b[0;34m,\u001b[0m \u001b[0;34m*\u001b[0m\u001b[0margs\u001b[0m\u001b[0;34m,\u001b[0m \u001b[0;34m**\u001b[0m\u001b[0mkwargs\u001b[0m\u001b[0;34m)\u001b[0m\u001b[0;34m\u001b[0m\u001b[0;34m\u001b[0m\u001b[0m\n\u001b[0m\u001b[1;32m    889\u001b[0m \u001b[0;34m\u001b[0m\u001b[0m\n\u001b[1;32m    890\u001b[0m         \u001b[0mself\u001b[0m\u001b[0;34m.\u001b[0m\u001b[0m_handle_activity_regularization\u001b[0m\u001b[0;34m(\u001b[0m\u001b[0minputs\u001b[0m\u001b[0;34m,\u001b[0m \u001b[0moutputs\u001b[0m\u001b[0;34m)\u001b[0m\u001b[0;34m\u001b[0m\u001b[0;34m\u001b[0m\u001b[0m\n",
            "\u001b[0;32m/opt/conda/lib/python3.9/site-packages/keras/layers/recurrent_v2.py\u001b[0m in \u001b[0;36mcall\u001b[0;34m(self, inputs, mask, training, initial_state)\u001b[0m\n\u001b[1;32m   1251\u001b[0m         \u001b[0;32melse\u001b[0m\u001b[0;34m:\u001b[0m\u001b[0;34m\u001b[0m\u001b[0;34m\u001b[0m\u001b[0m\n\u001b[1;32m   1252\u001b[0m           (last_output, outputs, new_h, new_c,\n\u001b[0;32m-> 1253\u001b[0;31m            runtime) = lstm_with_backend_selection(**normal_lstm_kwargs)\n\u001b[0m\u001b[1;32m   1254\u001b[0m \u001b[0;34m\u001b[0m\u001b[0m\n\u001b[1;32m   1255\u001b[0m       \u001b[0mstates\u001b[0m \u001b[0;34m=\u001b[0m \u001b[0;34m[\u001b[0m\u001b[0mnew_h\u001b[0m\u001b[0;34m,\u001b[0m \u001b[0mnew_c\u001b[0m\u001b[0;34m]\u001b[0m\u001b[0;34m\u001b[0m\u001b[0;34m\u001b[0m\u001b[0m\n",
            "\u001b[0;32m/opt/conda/lib/python3.9/site-packages/keras/layers/recurrent_v2.py\u001b[0m in \u001b[0;36mlstm_with_backend_selection\u001b[0;34m(inputs, init_h, init_c, kernel, recurrent_kernel, bias, mask, time_major, go_backwards, sequence_lengths, zero_output_for_mask)\u001b[0m\n\u001b[1;32m   1646\u001b[0m     \u001b[0;31m# Call the normal LSTM impl and register the CuDNN impl function. The\u001b[0m\u001b[0;34m\u001b[0m\u001b[0;34m\u001b[0m\u001b[0m\n\u001b[1;32m   1647\u001b[0m     \u001b[0;31m# grappler will kick in during session execution to optimize the graph.\u001b[0m\u001b[0;34m\u001b[0m\u001b[0;34m\u001b[0m\u001b[0m\n\u001b[0;32m-> 1648\u001b[0;31m     \u001b[0mlast_output\u001b[0m\u001b[0;34m,\u001b[0m \u001b[0moutputs\u001b[0m\u001b[0;34m,\u001b[0m \u001b[0mnew_h\u001b[0m\u001b[0;34m,\u001b[0m \u001b[0mnew_c\u001b[0m\u001b[0;34m,\u001b[0m \u001b[0mruntime\u001b[0m \u001b[0;34m=\u001b[0m \u001b[0mdefun_standard_lstm\u001b[0m\u001b[0;34m(\u001b[0m\u001b[0;34m**\u001b[0m\u001b[0mparams\u001b[0m\u001b[0;34m)\u001b[0m\u001b[0;34m\u001b[0m\u001b[0;34m\u001b[0m\u001b[0m\n\u001b[0m\u001b[1;32m   1649\u001b[0m     \u001b[0m_function_register\u001b[0m\u001b[0;34m(\u001b[0m\u001b[0mdefun_gpu_lstm\u001b[0m\u001b[0;34m,\u001b[0m \u001b[0;34m**\u001b[0m\u001b[0mparams\u001b[0m\u001b[0;34m)\u001b[0m\u001b[0;34m\u001b[0m\u001b[0;34m\u001b[0m\u001b[0m\n\u001b[1;32m   1650\u001b[0m \u001b[0;34m\u001b[0m\u001b[0m\n",
            "\u001b[0;32m/opt/conda/lib/python3.9/site-packages/tensorflow/python/eager/function.py\u001b[0m in \u001b[0;36m__call__\u001b[0;34m(self, *args, **kwargs)\u001b[0m\n\u001b[1;32m   3036\u001b[0m     \u001b[0;32mwith\u001b[0m \u001b[0mself\u001b[0m\u001b[0;34m.\u001b[0m\u001b[0m_lock\u001b[0m\u001b[0;34m:\u001b[0m\u001b[0;34m\u001b[0m\u001b[0;34m\u001b[0m\u001b[0m\n\u001b[1;32m   3037\u001b[0m       (graph_function,\n\u001b[0;32m-> 3038\u001b[0;31m        filtered_flat_args) = self._maybe_define_function(args, kwargs)\n\u001b[0m\u001b[1;32m   3039\u001b[0m     return graph_function._call_flat(\n\u001b[1;32m   3040\u001b[0m         filtered_flat_args, captured_inputs=graph_function.captured_inputs)  # pylint: disable=protected-access\n",
            "\u001b[0;32m/opt/conda/lib/python3.9/site-packages/tensorflow/python/eager/function.py\u001b[0m in \u001b[0;36m_maybe_define_function\u001b[0;34m(self, args, kwargs)\u001b[0m\n\u001b[1;32m   3461\u001b[0m \u001b[0;34m\u001b[0m\u001b[0m\n\u001b[1;32m   3462\u001b[0m           \u001b[0mself\u001b[0m\u001b[0;34m.\u001b[0m\u001b[0m_function_cache\u001b[0m\u001b[0;34m.\u001b[0m\u001b[0mmissed\u001b[0m\u001b[0;34m.\u001b[0m\u001b[0madd\u001b[0m\u001b[0;34m(\u001b[0m\u001b[0mcall_context_key\u001b[0m\u001b[0;34m)\u001b[0m\u001b[0;34m\u001b[0m\u001b[0;34m\u001b[0m\u001b[0m\n\u001b[0;32m-> 3463\u001b[0;31m           \u001b[0mgraph_function\u001b[0m \u001b[0;34m=\u001b[0m \u001b[0mself\u001b[0m\u001b[0;34m.\u001b[0m\u001b[0m_create_graph_function\u001b[0m\u001b[0;34m(\u001b[0m\u001b[0margs\u001b[0m\u001b[0;34m,\u001b[0m \u001b[0mkwargs\u001b[0m\u001b[0;34m)\u001b[0m\u001b[0;34m\u001b[0m\u001b[0;34m\u001b[0m\u001b[0m\n\u001b[0m\u001b[1;32m   3464\u001b[0m           \u001b[0mself\u001b[0m\u001b[0;34m.\u001b[0m\u001b[0m_function_cache\u001b[0m\u001b[0;34m.\u001b[0m\u001b[0mprimary\u001b[0m\u001b[0;34m[\u001b[0m\u001b[0mcache_key\u001b[0m\u001b[0;34m]\u001b[0m \u001b[0;34m=\u001b[0m \u001b[0mgraph_function\u001b[0m\u001b[0;34m\u001b[0m\u001b[0;34m\u001b[0m\u001b[0m\n\u001b[1;32m   3465\u001b[0m \u001b[0;34m\u001b[0m\u001b[0m\n",
            "\u001b[0;32m/opt/conda/lib/python3.9/site-packages/tensorflow/python/eager/function.py\u001b[0m in \u001b[0;36m_create_graph_function\u001b[0;34m(self, args, kwargs, override_flat_arg_shapes)\u001b[0m\n\u001b[1;32m   3296\u001b[0m     \u001b[0marg_names\u001b[0m \u001b[0;34m=\u001b[0m \u001b[0mbase_arg_names\u001b[0m \u001b[0;34m+\u001b[0m \u001b[0mmissing_arg_names\u001b[0m\u001b[0;34m\u001b[0m\u001b[0;34m\u001b[0m\u001b[0m\n\u001b[1;32m   3297\u001b[0m     graph_function = ConcreteFunction(\n\u001b[0;32m-> 3298\u001b[0;31m         func_graph_module.func_graph_from_py_func(\n\u001b[0m\u001b[1;32m   3299\u001b[0m             \u001b[0mself\u001b[0m\u001b[0;34m.\u001b[0m\u001b[0m_name\u001b[0m\u001b[0;34m,\u001b[0m\u001b[0;34m\u001b[0m\u001b[0;34m\u001b[0m\u001b[0m\n\u001b[1;32m   3300\u001b[0m             \u001b[0mself\u001b[0m\u001b[0;34m.\u001b[0m\u001b[0m_python_function\u001b[0m\u001b[0;34m,\u001b[0m\u001b[0;34m\u001b[0m\u001b[0;34m\u001b[0m\u001b[0m\n",
            "\u001b[0;32m/opt/conda/lib/python3.9/site-packages/tensorflow/python/framework/func_graph.py\u001b[0m in \u001b[0;36mfunc_graph_from_py_func\u001b[0;34m(name, python_func, args, kwargs, signature, func_graph, autograph, autograph_options, add_control_dependencies, arg_names, op_return_value, collections, capture_by_value, override_flat_arg_shapes, acd_record_initial_resource_uses)\u001b[0m\n\u001b[1;32m   1005\u001b[0m         \u001b[0m_\u001b[0m\u001b[0;34m,\u001b[0m \u001b[0moriginal_func\u001b[0m \u001b[0;34m=\u001b[0m \u001b[0mtf_decorator\u001b[0m\u001b[0;34m.\u001b[0m\u001b[0munwrap\u001b[0m\u001b[0;34m(\u001b[0m\u001b[0mpython_func\u001b[0m\u001b[0;34m)\u001b[0m\u001b[0;34m\u001b[0m\u001b[0;34m\u001b[0m\u001b[0m\n\u001b[1;32m   1006\u001b[0m \u001b[0;34m\u001b[0m\u001b[0m\n\u001b[0;32m-> 1007\u001b[0;31m       \u001b[0mfunc_outputs\u001b[0m \u001b[0;34m=\u001b[0m \u001b[0mpython_func\u001b[0m\u001b[0;34m(\u001b[0m\u001b[0;34m*\u001b[0m\u001b[0mfunc_args\u001b[0m\u001b[0;34m,\u001b[0m \u001b[0;34m**\u001b[0m\u001b[0mfunc_kwargs\u001b[0m\u001b[0;34m)\u001b[0m\u001b[0;34m\u001b[0m\u001b[0;34m\u001b[0m\u001b[0m\n\u001b[0m\u001b[1;32m   1008\u001b[0m \u001b[0;34m\u001b[0m\u001b[0m\n\u001b[1;32m   1009\u001b[0m       \u001b[0;31m# invariant: `func_outputs` contains only Tensors, CompositeTensors,\u001b[0m\u001b[0;34m\u001b[0m\u001b[0;34m\u001b[0m\u001b[0m\n",
            "\u001b[0;32m/opt/conda/lib/python3.9/site-packages/keras/layers/recurrent_v2.py\u001b[0m in \u001b[0;36mstandard_lstm\u001b[0;34m(inputs, init_h, init_c, kernel, recurrent_kernel, bias, mask, time_major, go_backwards, sequence_lengths, zero_output_for_mask)\u001b[0m\n\u001b[1;32m   1377\u001b[0m     \u001b[0;32mreturn\u001b[0m \u001b[0mh\u001b[0m\u001b[0;34m,\u001b[0m \u001b[0;34m[\u001b[0m\u001b[0mh\u001b[0m\u001b[0;34m,\u001b[0m \u001b[0mc\u001b[0m\u001b[0;34m]\u001b[0m\u001b[0;34m\u001b[0m\u001b[0;34m\u001b[0m\u001b[0m\n\u001b[1;32m   1378\u001b[0m \u001b[0;34m\u001b[0m\u001b[0m\n\u001b[0;32m-> 1379\u001b[0;31m   last_output, outputs, new_states = backend.rnn(\n\u001b[0m\u001b[1;32m   1380\u001b[0m       \u001b[0mstep\u001b[0m\u001b[0;34m,\u001b[0m\u001b[0;34m\u001b[0m\u001b[0;34m\u001b[0m\u001b[0m\n\u001b[1;32m   1381\u001b[0m       \u001b[0minputs\u001b[0m\u001b[0;34m,\u001b[0m \u001b[0;34m[\u001b[0m\u001b[0minit_h\u001b[0m\u001b[0;34m,\u001b[0m \u001b[0minit_c\u001b[0m\u001b[0;34m]\u001b[0m\u001b[0;34m,\u001b[0m\u001b[0;34m\u001b[0m\u001b[0;34m\u001b[0m\u001b[0m\n",
            "\u001b[0;32m/opt/conda/lib/python3.9/site-packages/tensorflow/python/util/dispatch.py\u001b[0m in \u001b[0;36mwrapper\u001b[0;34m(*args, **kwargs)\u001b[0m\n\u001b[1;32m    204\u001b[0m     \u001b[0;34m\"\"\"Call target, and fall back on dispatchers if there is a TypeError.\"\"\"\u001b[0m\u001b[0;34m\u001b[0m\u001b[0;34m\u001b[0m\u001b[0m\n\u001b[1;32m    205\u001b[0m     \u001b[0;32mtry\u001b[0m\u001b[0;34m:\u001b[0m\u001b[0;34m\u001b[0m\u001b[0;34m\u001b[0m\u001b[0m\n\u001b[0;32m--> 206\u001b[0;31m       \u001b[0;32mreturn\u001b[0m \u001b[0mtarget\u001b[0m\u001b[0;34m(\u001b[0m\u001b[0;34m*\u001b[0m\u001b[0margs\u001b[0m\u001b[0;34m,\u001b[0m \u001b[0;34m**\u001b[0m\u001b[0mkwargs\u001b[0m\u001b[0;34m)\u001b[0m\u001b[0;34m\u001b[0m\u001b[0;34m\u001b[0m\u001b[0m\n\u001b[0m\u001b[1;32m    207\u001b[0m     \u001b[0;32mexcept\u001b[0m \u001b[0;34m(\u001b[0m\u001b[0mTypeError\u001b[0m\u001b[0;34m,\u001b[0m \u001b[0mValueError\u001b[0m\u001b[0;34m)\u001b[0m\u001b[0;34m:\u001b[0m\u001b[0;34m\u001b[0m\u001b[0;34m\u001b[0m\u001b[0m\n\u001b[1;32m    208\u001b[0m       \u001b[0;31m# Note: convert_to_eager_tensor currently raises a ValueError, not a\u001b[0m\u001b[0;34m\u001b[0m\u001b[0;34m\u001b[0m\u001b[0m\n",
            "\u001b[0;32m/opt/conda/lib/python3.9/site-packages/keras/backend.py\u001b[0m in \u001b[0;36mrnn\u001b[0;34m(step_function, inputs, initial_states, go_backwards, mask, constants, unroll, input_length, time_major, zero_output_for_mask)\u001b[0m\n\u001b[1;32m   4352\u001b[0m     \u001b[0;31m# output_time_zero is used to determine the cell output shape and its dtype.\u001b[0m\u001b[0;34m\u001b[0m\u001b[0;34m\u001b[0m\u001b[0m\n\u001b[1;32m   4353\u001b[0m     \u001b[0;31m# the value is discarded.\u001b[0m\u001b[0;34m\u001b[0m\u001b[0;34m\u001b[0m\u001b[0m\n\u001b[0;32m-> 4354\u001b[0;31m     output_time_zero, _ = step_function(\n\u001b[0m\u001b[1;32m   4355\u001b[0m         input_time_zero, tuple(initial_states) + tuple(constants))\n\u001b[1;32m   4356\u001b[0m     output_ta = tuple(\n",
            "\u001b[0;32m/opt/conda/lib/python3.9/site-packages/keras/layers/recurrent_v2.py\u001b[0m in \u001b[0;36mstep\u001b[0;34m(cell_inputs, cell_states)\u001b[0m\n\u001b[1;32m   1364\u001b[0m \u001b[0;34m\u001b[0m\u001b[0m\n\u001b[1;32m   1365\u001b[0m     \u001b[0mz\u001b[0m \u001b[0;34m=\u001b[0m \u001b[0mbackend\u001b[0m\u001b[0;34m.\u001b[0m\u001b[0mdot\u001b[0m\u001b[0;34m(\u001b[0m\u001b[0mcell_inputs\u001b[0m\u001b[0;34m,\u001b[0m \u001b[0mkernel\u001b[0m\u001b[0;34m)\u001b[0m\u001b[0;34m\u001b[0m\u001b[0;34m\u001b[0m\u001b[0m\n\u001b[0;32m-> 1366\u001b[0;31m     \u001b[0mz\u001b[0m \u001b[0;34m+=\u001b[0m \u001b[0mbackend\u001b[0m\u001b[0;34m.\u001b[0m\u001b[0mdot\u001b[0m\u001b[0;34m(\u001b[0m\u001b[0mh_tm1\u001b[0m\u001b[0;34m,\u001b[0m \u001b[0mrecurrent_kernel\u001b[0m\u001b[0;34m)\u001b[0m\u001b[0;34m\u001b[0m\u001b[0;34m\u001b[0m\u001b[0m\n\u001b[0m\u001b[1;32m   1367\u001b[0m     \u001b[0mz\u001b[0m \u001b[0;34m=\u001b[0m \u001b[0mbackend\u001b[0m\u001b[0;34m.\u001b[0m\u001b[0mbias_add\u001b[0m\u001b[0;34m(\u001b[0m\u001b[0mz\u001b[0m\u001b[0;34m,\u001b[0m \u001b[0mbias\u001b[0m\u001b[0;34m)\u001b[0m\u001b[0;34m\u001b[0m\u001b[0;34m\u001b[0m\u001b[0m\n\u001b[1;32m   1368\u001b[0m \u001b[0;34m\u001b[0m\u001b[0m\n",
            "\u001b[0;32m/opt/conda/lib/python3.9/site-packages/tensorflow/python/util/dispatch.py\u001b[0m in \u001b[0;36mwrapper\u001b[0;34m(*args, **kwargs)\u001b[0m\n\u001b[1;32m    204\u001b[0m     \u001b[0;34m\"\"\"Call target, and fall back on dispatchers if there is a TypeError.\"\"\"\u001b[0m\u001b[0;34m\u001b[0m\u001b[0;34m\u001b[0m\u001b[0m\n\u001b[1;32m    205\u001b[0m     \u001b[0;32mtry\u001b[0m\u001b[0;34m:\u001b[0m\u001b[0;34m\u001b[0m\u001b[0;34m\u001b[0m\u001b[0m\n\u001b[0;32m--> 206\u001b[0;31m       \u001b[0;32mreturn\u001b[0m \u001b[0mtarget\u001b[0m\u001b[0;34m(\u001b[0m\u001b[0;34m*\u001b[0m\u001b[0margs\u001b[0m\u001b[0;34m,\u001b[0m \u001b[0;34m**\u001b[0m\u001b[0mkwargs\u001b[0m\u001b[0;34m)\u001b[0m\u001b[0;34m\u001b[0m\u001b[0;34m\u001b[0m\u001b[0m\n\u001b[0m\u001b[1;32m    207\u001b[0m     \u001b[0;32mexcept\u001b[0m \u001b[0;34m(\u001b[0m\u001b[0mTypeError\u001b[0m\u001b[0;34m,\u001b[0m \u001b[0mValueError\u001b[0m\u001b[0;34m)\u001b[0m\u001b[0;34m:\u001b[0m\u001b[0;34m\u001b[0m\u001b[0;34m\u001b[0m\u001b[0m\n\u001b[1;32m    208\u001b[0m       \u001b[0;31m# Note: convert_to_eager_tensor currently raises a ValueError, not a\u001b[0m\u001b[0;34m\u001b[0m\u001b[0;34m\u001b[0m\u001b[0m\n",
            "\u001b[0;32m/opt/conda/lib/python3.9/site-packages/keras/backend.py\u001b[0m in \u001b[0;36mdot\u001b[0;34m(x, y)\u001b[0m\n\u001b[1;32m   1977\u001b[0m     \u001b[0mout\u001b[0m \u001b[0;34m=\u001b[0m \u001b[0mtf\u001b[0m\u001b[0;34m.\u001b[0m\u001b[0msparse\u001b[0m\u001b[0;34m.\u001b[0m\u001b[0msparse_dense_matmul\u001b[0m\u001b[0;34m(\u001b[0m\u001b[0mx\u001b[0m\u001b[0;34m,\u001b[0m \u001b[0my\u001b[0m\u001b[0;34m)\u001b[0m\u001b[0;34m\u001b[0m\u001b[0;34m\u001b[0m\u001b[0m\n\u001b[1;32m   1978\u001b[0m   \u001b[0;32melse\u001b[0m\u001b[0;34m:\u001b[0m\u001b[0;34m\u001b[0m\u001b[0;34m\u001b[0m\u001b[0m\n\u001b[0;32m-> 1979\u001b[0;31m     \u001b[0mout\u001b[0m \u001b[0;34m=\u001b[0m \u001b[0mtf\u001b[0m\u001b[0;34m.\u001b[0m\u001b[0mmatmul\u001b[0m\u001b[0;34m(\u001b[0m\u001b[0mx\u001b[0m\u001b[0;34m,\u001b[0m \u001b[0my\u001b[0m\u001b[0;34m)\u001b[0m\u001b[0;34m\u001b[0m\u001b[0;34m\u001b[0m\u001b[0m\n\u001b[0m\u001b[1;32m   1980\u001b[0m   \u001b[0;32mreturn\u001b[0m \u001b[0mout\u001b[0m\u001b[0;34m\u001b[0m\u001b[0;34m\u001b[0m\u001b[0m\n\u001b[1;32m   1981\u001b[0m \u001b[0;34m\u001b[0m\u001b[0m\n",
            "\u001b[0;32m/opt/conda/lib/python3.9/site-packages/tensorflow/python/util/dispatch.py\u001b[0m in \u001b[0;36mwrapper\u001b[0;34m(*args, **kwargs)\u001b[0m\n\u001b[1;32m    204\u001b[0m     \u001b[0;34m\"\"\"Call target, and fall back on dispatchers if there is a TypeError.\"\"\"\u001b[0m\u001b[0;34m\u001b[0m\u001b[0;34m\u001b[0m\u001b[0m\n\u001b[1;32m    205\u001b[0m     \u001b[0;32mtry\u001b[0m\u001b[0;34m:\u001b[0m\u001b[0;34m\u001b[0m\u001b[0;34m\u001b[0m\u001b[0m\n\u001b[0;32m--> 206\u001b[0;31m       \u001b[0;32mreturn\u001b[0m \u001b[0mtarget\u001b[0m\u001b[0;34m(\u001b[0m\u001b[0;34m*\u001b[0m\u001b[0margs\u001b[0m\u001b[0;34m,\u001b[0m \u001b[0;34m**\u001b[0m\u001b[0mkwargs\u001b[0m\u001b[0;34m)\u001b[0m\u001b[0;34m\u001b[0m\u001b[0;34m\u001b[0m\u001b[0m\n\u001b[0m\u001b[1;32m    207\u001b[0m     \u001b[0;32mexcept\u001b[0m \u001b[0;34m(\u001b[0m\u001b[0mTypeError\u001b[0m\u001b[0;34m,\u001b[0m \u001b[0mValueError\u001b[0m\u001b[0;34m)\u001b[0m\u001b[0;34m:\u001b[0m\u001b[0;34m\u001b[0m\u001b[0;34m\u001b[0m\u001b[0m\n\u001b[1;32m    208\u001b[0m       \u001b[0;31m# Note: convert_to_eager_tensor currently raises a ValueError, not a\u001b[0m\u001b[0;34m\u001b[0m\u001b[0;34m\u001b[0m\u001b[0m\n",
            "\u001b[0;32m/opt/conda/lib/python3.9/site-packages/tensorflow/python/ops/math_ops.py\u001b[0m in \u001b[0;36mmatmul\u001b[0;34m(a, b, transpose_a, transpose_b, adjoint_a, adjoint_b, a_is_sparse, b_is_sparse, output_type, name)\u001b[0m\n\u001b[1;32m   3652\u001b[0m             a, b, adj_x=adjoint_a, adj_y=adjoint_b, Tout=output_type, name=name)\n\u001b[1;32m   3653\u001b[0m       \u001b[0;32melse\u001b[0m\u001b[0;34m:\u001b[0m\u001b[0;34m\u001b[0m\u001b[0;34m\u001b[0m\u001b[0m\n\u001b[0;32m-> 3654\u001b[0;31m         return gen_math_ops.mat_mul(\n\u001b[0m\u001b[1;32m   3655\u001b[0m             a, b, transpose_a=transpose_a, transpose_b=transpose_b, name=name)\n\u001b[1;32m   3656\u001b[0m \u001b[0;34m\u001b[0m\u001b[0m\n",
            "\u001b[0;32m/opt/conda/lib/python3.9/site-packages/tensorflow/python/ops/gen_math_ops.py\u001b[0m in \u001b[0;36mmat_mul\u001b[0;34m(a, b, transpose_a, transpose_b, name)\u001b[0m\n\u001b[1;32m   5710\u001b[0m     \u001b[0mtranspose_b\u001b[0m \u001b[0;34m=\u001b[0m \u001b[0;32mFalse\u001b[0m\u001b[0;34m\u001b[0m\u001b[0;34m\u001b[0m\u001b[0m\n\u001b[1;32m   5711\u001b[0m   \u001b[0mtranspose_b\u001b[0m \u001b[0;34m=\u001b[0m \u001b[0m_execute\u001b[0m\u001b[0;34m.\u001b[0m\u001b[0mmake_bool\u001b[0m\u001b[0;34m(\u001b[0m\u001b[0mtranspose_b\u001b[0m\u001b[0;34m,\u001b[0m \u001b[0;34m\"transpose_b\"\u001b[0m\u001b[0;34m)\u001b[0m\u001b[0;34m\u001b[0m\u001b[0;34m\u001b[0m\u001b[0m\n\u001b[0;32m-> 5712\u001b[0;31m   _, _, _op, _outputs = _op_def_library._apply_op_helper(\n\u001b[0m\u001b[1;32m   5713\u001b[0m         \u001b[0;34m\"MatMul\"\u001b[0m\u001b[0;34m,\u001b[0m \u001b[0ma\u001b[0m\u001b[0;34m=\u001b[0m\u001b[0ma\u001b[0m\u001b[0;34m,\u001b[0m \u001b[0mb\u001b[0m\u001b[0;34m=\u001b[0m\u001b[0mb\u001b[0m\u001b[0;34m,\u001b[0m \u001b[0mtranspose_a\u001b[0m\u001b[0;34m=\u001b[0m\u001b[0mtranspose_a\u001b[0m\u001b[0;34m,\u001b[0m \u001b[0mtranspose_b\u001b[0m\u001b[0;34m=\u001b[0m\u001b[0mtranspose_b\u001b[0m\u001b[0;34m,\u001b[0m\u001b[0;34m\u001b[0m\u001b[0;34m\u001b[0m\u001b[0m\n\u001b[1;32m   5714\u001b[0m                   name=name)\n",
            "\u001b[0;32m/opt/conda/lib/python3.9/site-packages/tensorflow/python/framework/op_def_library.py\u001b[0m in \u001b[0;36m_apply_op_helper\u001b[0;34m(op_type_name, name, **keywords)\u001b[0m\n\u001b[1;32m    746\u001b[0m       \u001b[0;31m# Add Op to graph\u001b[0m\u001b[0;34m\u001b[0m\u001b[0;34m\u001b[0m\u001b[0m\n\u001b[1;32m    747\u001b[0m       \u001b[0;31m# pylint: disable=protected-access\u001b[0m\u001b[0;34m\u001b[0m\u001b[0;34m\u001b[0m\u001b[0m\n\u001b[0;32m--> 748\u001b[0;31m       op = g._create_op_internal(op_type_name, inputs, dtypes=None,\n\u001b[0m\u001b[1;32m    749\u001b[0m                                  \u001b[0mname\u001b[0m\u001b[0;34m=\u001b[0m\u001b[0mscope\u001b[0m\u001b[0;34m,\u001b[0m \u001b[0minput_types\u001b[0m\u001b[0;34m=\u001b[0m\u001b[0minput_types\u001b[0m\u001b[0;34m,\u001b[0m\u001b[0;34m\u001b[0m\u001b[0;34m\u001b[0m\u001b[0m\n\u001b[1;32m    750\u001b[0m                                  attrs=attr_protos, op_def=op_def)\n",
            "\u001b[0;32m/opt/conda/lib/python3.9/site-packages/tensorflow/python/framework/func_graph.py\u001b[0m in \u001b[0;36m_create_op_internal\u001b[0;34m(self, op_type, inputs, dtypes, input_types, name, attrs, op_def, compute_device)\u001b[0m\n\u001b[1;32m    597\u001b[0m       \u001b[0minp\u001b[0m \u001b[0;34m=\u001b[0m \u001b[0mself\u001b[0m\u001b[0;34m.\u001b[0m\u001b[0mcapture\u001b[0m\u001b[0;34m(\u001b[0m\u001b[0minp\u001b[0m\u001b[0;34m)\u001b[0m\u001b[0;34m\u001b[0m\u001b[0;34m\u001b[0m\u001b[0m\n\u001b[1;32m    598\u001b[0m       \u001b[0mcaptured_inputs\u001b[0m\u001b[0;34m.\u001b[0m\u001b[0mappend\u001b[0m\u001b[0;34m(\u001b[0m\u001b[0minp\u001b[0m\u001b[0;34m)\u001b[0m\u001b[0;34m\u001b[0m\u001b[0;34m\u001b[0m\u001b[0m\n\u001b[0;32m--> 599\u001b[0;31m     return super(FuncGraph, self)._create_op_internal(  # pylint: disable=protected-access\n\u001b[0m\u001b[1;32m    600\u001b[0m         \u001b[0mop_type\u001b[0m\u001b[0;34m,\u001b[0m \u001b[0mcaptured_inputs\u001b[0m\u001b[0;34m,\u001b[0m \u001b[0mdtypes\u001b[0m\u001b[0;34m,\u001b[0m \u001b[0minput_types\u001b[0m\u001b[0;34m,\u001b[0m \u001b[0mname\u001b[0m\u001b[0;34m,\u001b[0m \u001b[0mattrs\u001b[0m\u001b[0;34m,\u001b[0m \u001b[0mop_def\u001b[0m\u001b[0;34m,\u001b[0m\u001b[0;34m\u001b[0m\u001b[0;34m\u001b[0m\u001b[0m\n\u001b[1;32m    601\u001b[0m         compute_device)\n",
            "\u001b[0;32m/opt/conda/lib/python3.9/site-packages/tensorflow/python/framework/ops.py\u001b[0m in \u001b[0;36m_create_op_internal\u001b[0;34m(self, op_type, inputs, dtypes, input_types, name, attrs, op_def, compute_device)\u001b[0m\n\u001b[1;32m   3559\u001b[0m     \u001b[0;31m# Session.run call cannot occur between creating and mutating the op.\u001b[0m\u001b[0;34m\u001b[0m\u001b[0;34m\u001b[0m\u001b[0m\n\u001b[1;32m   3560\u001b[0m     \u001b[0;32mwith\u001b[0m \u001b[0mself\u001b[0m\u001b[0;34m.\u001b[0m\u001b[0m_mutation_lock\u001b[0m\u001b[0;34m(\u001b[0m\u001b[0;34m)\u001b[0m\u001b[0;34m:\u001b[0m\u001b[0;34m\u001b[0m\u001b[0;34m\u001b[0m\u001b[0m\n\u001b[0;32m-> 3561\u001b[0;31m       ret = Operation(\n\u001b[0m\u001b[1;32m   3562\u001b[0m           \u001b[0mnode_def\u001b[0m\u001b[0;34m,\u001b[0m\u001b[0;34m\u001b[0m\u001b[0;34m\u001b[0m\u001b[0m\n\u001b[1;32m   3563\u001b[0m           \u001b[0mself\u001b[0m\u001b[0;34m,\u001b[0m\u001b[0;34m\u001b[0m\u001b[0;34m\u001b[0m\u001b[0m\n",
            "\u001b[0;32m/opt/conda/lib/python3.9/site-packages/tensorflow/python/framework/ops.py\u001b[0m in \u001b[0;36m__init__\u001b[0;34m(self, node_def, g, inputs, output_types, control_inputs, input_types, original_op, op_def)\u001b[0m\n\u001b[1;32m   2039\u001b[0m       \u001b[0;32mif\u001b[0m \u001b[0mop_def\u001b[0m \u001b[0;32mis\u001b[0m \u001b[0;32mNone\u001b[0m\u001b[0;34m:\u001b[0m\u001b[0;34m\u001b[0m\u001b[0;34m\u001b[0m\u001b[0m\n\u001b[1;32m   2040\u001b[0m         \u001b[0mop_def\u001b[0m \u001b[0;34m=\u001b[0m \u001b[0mself\u001b[0m\u001b[0;34m.\u001b[0m\u001b[0m_graph\u001b[0m\u001b[0;34m.\u001b[0m\u001b[0m_get_op_def\u001b[0m\u001b[0;34m(\u001b[0m\u001b[0mnode_def\u001b[0m\u001b[0;34m.\u001b[0m\u001b[0mop\u001b[0m\u001b[0;34m)\u001b[0m\u001b[0;34m\u001b[0m\u001b[0;34m\u001b[0m\u001b[0m\n\u001b[0;32m-> 2041\u001b[0;31m       self._c_op = _create_c_op(self._graph, node_def, inputs,\n\u001b[0m\u001b[1;32m   2042\u001b[0m                                 control_input_ops, op_def)\n\u001b[1;32m   2043\u001b[0m       \u001b[0mname\u001b[0m \u001b[0;34m=\u001b[0m \u001b[0mcompat\u001b[0m\u001b[0;34m.\u001b[0m\u001b[0mas_str\u001b[0m\u001b[0;34m(\u001b[0m\u001b[0mnode_def\u001b[0m\u001b[0;34m.\u001b[0m\u001b[0mname\u001b[0m\u001b[0;34m)\u001b[0m\u001b[0;34m\u001b[0m\u001b[0;34m\u001b[0m\u001b[0m\n",
            "\u001b[0;32m/opt/conda/lib/python3.9/site-packages/tensorflow/python/framework/ops.py\u001b[0m in \u001b[0;36m_create_c_op\u001b[0;34m(graph, node_def, inputs, control_inputs, op_def)\u001b[0m\n\u001b[1;32m   1881\u001b[0m   \u001b[0;32mexcept\u001b[0m \u001b[0merrors\u001b[0m\u001b[0;34m.\u001b[0m\u001b[0mInvalidArgumentError\u001b[0m \u001b[0;32mas\u001b[0m \u001b[0me\u001b[0m\u001b[0;34m:\u001b[0m\u001b[0;34m\u001b[0m\u001b[0;34m\u001b[0m\u001b[0m\n\u001b[1;32m   1882\u001b[0m     \u001b[0;31m# Convert to ValueError for backwards compatibility.\u001b[0m\u001b[0;34m\u001b[0m\u001b[0;34m\u001b[0m\u001b[0m\n\u001b[0;32m-> 1883\u001b[0;31m     \u001b[0;32mraise\u001b[0m \u001b[0mValueError\u001b[0m\u001b[0;34m(\u001b[0m\u001b[0mstr\u001b[0m\u001b[0;34m(\u001b[0m\u001b[0me\u001b[0m\u001b[0;34m)\u001b[0m\u001b[0;34m)\u001b[0m\u001b[0;34m\u001b[0m\u001b[0;34m\u001b[0m\u001b[0m\n\u001b[0m\u001b[1;32m   1884\u001b[0m \u001b[0;34m\u001b[0m\u001b[0m\n\u001b[1;32m   1885\u001b[0m   \u001b[0;32mreturn\u001b[0m \u001b[0mc_op\u001b[0m\u001b[0;34m\u001b[0m\u001b[0;34m\u001b[0m\u001b[0m\n",
            "\u001b[0;31mValueError\u001b[0m: Dimensions must be equal, but are 256 and 512 for '{{node MatMul_1}} = MatMul[T=DT_FLOAT, transpose_a=false, transpose_b=false](init_h, recurrent_kernel)' with input shapes: [?,256], [512,2048]."
          ]
        }
      ],
      "source": [
        "# 이전 time step의 hidden state를 저장하는 텐서\n",
        "decoder_state_input_h = Input(shape=(embedding_size, ))\n",
        "# 이전 time step의 cell state를 저장하는 텐서\n",
        "decoder_state_input_c = Input(shape=(embedding_size, ))\n",
        "\n",
        "# 이전 time step의 hidden state와 cell state를 하나의 변수에 저장\n",
        "decoder_states_inputs = [decoder_state_input_h, decoder_state_input_c]\n",
        "\n",
        "# decoder_states_inputs를 현재 time step의 초기 상태로 사용.\n",
        "# 구체적인 동작 자체는 def decode_sequence()에 구현.\n",
        "dec_emb2 =  Embedding(fra_vocab_size, embedding_size)(decoder_inputs)\n",
        "decoder_outputs2, state_h2, state_c2 = decoder_lstm(dec_emb2, initial_state = decoder_states_inputs)\n",
        "# 현재 time step의 hidden state와 cell state를 하나의 변수에 저장.\n",
        "decoder_states2 = [state_h2, state_c2]"
      ]
    },
    {
      "cell_type": "code",
      "execution_count": null,
      "id": "59f1fae7",
      "metadata": {
        "id": "59f1fae7",
        "outputId": "6146782f-b75e-4c24-d5b3-37504c5964e7"
      },
      "outputs": [
        {
          "ename": "NameError",
          "evalue": "name 'decoder_outputs2' is not defined",
          "output_type": "error",
          "traceback": [
            "\u001b[0;31m---------------------------------------------------------------------------\u001b[0m",
            "\u001b[0;31mNameError\u001b[0m                                 Traceback (most recent call last)",
            "\u001b[0;32m/tmp/ipykernel_31/2355957601.py\u001b[0m in \u001b[0;36m<module>\u001b[0;34m\u001b[0m\n\u001b[1;32m      1\u001b[0m \u001b[0mdecoder_outputs\u001b[0m \u001b[0;34m=\u001b[0m \u001b[0mdecoder_softmax_layer\u001b[0m\u001b[0;34m(\u001b[0m\u001b[0mdecoder_outputs\u001b[0m\u001b[0;34m)\u001b[0m\u001b[0;34m\u001b[0m\u001b[0;34m\u001b[0m\u001b[0m\n\u001b[0;32m----> 2\u001b[0;31m \u001b[0mdecoder_model\u001b[0m \u001b[0;34m=\u001b[0m \u001b[0mModel\u001b[0m\u001b[0;34m(\u001b[0m\u001b[0minputs\u001b[0m\u001b[0;34m=\u001b[0m\u001b[0;34m[\u001b[0m\u001b[0mdecoder_inputs\u001b[0m\u001b[0;34m]\u001b[0m \u001b[0;34m+\u001b[0m \u001b[0mdecoder_states_inputs\u001b[0m\u001b[0;34m,\u001b[0m \u001b[0moutputs\u001b[0m\u001b[0;34m=\u001b[0m\u001b[0;34m[\u001b[0m\u001b[0mdecoder_outputs2\u001b[0m\u001b[0;34m]\u001b[0m \u001b[0;34m+\u001b[0m \u001b[0mdecoder_states2\u001b[0m\u001b[0;34m)\u001b[0m\u001b[0;34m\u001b[0m\u001b[0;34m\u001b[0m\u001b[0m\n\u001b[0m\u001b[1;32m      3\u001b[0m \u001b[0mdecoder_model\u001b[0m\u001b[0;34m.\u001b[0m\u001b[0msummary\u001b[0m\u001b[0;34m(\u001b[0m\u001b[0;34m)\u001b[0m\u001b[0;34m\u001b[0m\u001b[0;34m\u001b[0m\u001b[0m\n",
            "\u001b[0;31mNameError\u001b[0m: name 'decoder_outputs2' is not defined"
          ]
        }
      ],
      "source": [
        "decoder_outputs = decoder_softmax_layer(decoder_outputs)\n",
        "decoder_model = Model(inputs=[decoder_inputs] + decoder_states_inputs, outputs=[decoder_outputs2] + decoder_states2)\n",
        "decoder_model.summary()"
      ]
    },
    {
      "cell_type": "code",
      "execution_count": null,
      "id": "d4e72ef4",
      "metadata": {
        "id": "d4e72ef4"
      },
      "outputs": [],
      "source": [
        "eng2idx = eng_tokenizer.word_index\n",
        "fra2idx = fra_tokenizer.word_index\n",
        "idx2eng = eng_tokenizer.index_word\n",
        "idx2fra = fra_tokenizer.index_word"
      ]
    },
    {
      "cell_type": "code",
      "execution_count": null,
      "id": "5f92373d",
      "metadata": {
        "id": "5f92373d"
      },
      "outputs": [],
      "source": [
        "def decode_sequence(input_seq):\n",
        "    # 입력으로부터 인코더의 상태를 얻음\n",
        "    states_value = encoder_model.predict(input_seq)\n",
        "\n",
        "    # 에 해당하는 원-핫 벡터 생성\n",
        "    target_seq = np.zeros((1,1))\n",
        "    target_seq[0, 0] = fra2idx['<sos>']\n",
        "\n",
        "    stop_condition = False\n",
        "    decoded_sentence = \"\"\n",
        "\n",
        "    # stop_condition이 True가 될 때까지 루프 반복\n",
        "    while not stop_condition:\n",
        "        # 이점 시점의 상태 states_value를 현 시점의 초기 상태로 사용\n",
        "        output_tokens, h, c = decoder_model.predict([target_seq] + states_value)\n",
        "\n",
        "        # 예측 결과를 문자로 변환\n",
        "        sampled_token_index = np.argmax(output_tokens[0, -1, :])\n",
        "        sampled_char = idx2fra[sampled_token_index]\n",
        "\n",
        "        # 현재 시점의 예측 문자를 예측 문장에 추가\n",
        "        decoded_sentence += ' '+sampled_char\n",
        "\n",
        "        # 에 도달하거나 최대 길이를 넘으면 중단.\n",
        "        if (sampled_char == '<eos>' or\n",
        "           len(decoded_sentence) > max_fra_seq_len):\n",
        "            stop_condition = True\n",
        "\n",
        "        # 현재 시점의 예측 결과를 다음 시점의 입력으로 사용하기 위해 저장\n",
        "        target_seq = np.zeros((1, 1))\n",
        "        target_seq[0, 0] = sampled_token_index\n",
        "\n",
        "        # 현재 시점의 상태를 다음 시점의 상태로 사용하기 위해 저장\n",
        "        states_value = [h, c]\n",
        "\n",
        "    return decoded_sentence"
      ]
    },
    {
      "cell_type": "markdown",
      "id": "cc73f2c7",
      "metadata": {
        "id": "cc73f2c7"
      },
      "source": [
        "## test Model"
      ]
    },
    {
      "cell_type": "code",
      "execution_count": null,
      "id": "84eda452",
      "metadata": {
        "id": "84eda452"
      },
      "outputs": [],
      "source": [
        "# 원문의 정수 시퀀스를 텍스트 시퀀스로 변환\n",
        "def int2ori(input_seq):\n",
        "    temp=''\n",
        "    for i in input_seq:\n",
        "        if(i!=0):\n",
        "            temp = temp + idx2eng[i]+' ' # 리스트 요소를 묶어 문장으로\n",
        "    return temp\n",
        "\n",
        "# 번역문의 정수 시퀀스를 텍스트 시퀀스로 변환\n",
        "def int2fra(input_seq):\n",
        "    temp=''\n",
        "    for i in input_seq:\n",
        "        if((i!=0 and i!=fra2idx['<sos>']) and i!=fra2idx['<eos>']): # 토큰 제외하고\n",
        "            temp = temp + idx2fra[i] + ' '\n",
        "    return temp"
      ]
    },
    {
      "cell_type": "code",
      "execution_count": null,
      "id": "d1aa4ed3",
      "metadata": {
        "id": "d1aa4ed3",
        "outputId": "ffd8009f-8217-4615-e172-feaaccccb835"
      },
      "outputs": [
        {
          "name": "stdout",
          "output_type": "stream",
          "text": [
            "-----------------------------------\n",
            "입력 문장: they re both smiling . \n",
            "정답 문장: elles sourient toutes les deux . \n",
            "번역기가 번역한 문장:  te chance faisons faison\n",
            "-----------------------------------\n",
            "입력 문장: this answer is wrong . \n",
            "정답 문장: cette r ponse est fausse . \n",
            "번역기가 번역한 문장:  te chance faisons faison\n",
            "-----------------------------------\n",
            "입력 문장: this house is famous . \n",
            "정답 문장: cette maison est c l bre . \n",
            "번역기가 번역한 문장:  te chance faisons faison\n",
            "-----------------------------------\n",
            "입력 문장: this pen has run dry . \n",
            "정답 문장: ce stylo n a plus d encre . \n",
            "번역기가 번역한 문장:  te chance faisons faison\n"
          ]
        }
      ],
      "source": [
        "# padding : post\n",
        "import numpy as np\n",
        "for seq_index in [3,50,100,200]: # 입력 문장의 인덱스 (자유롭게 선택해 보세요)\n",
        "    input_seq = encoder_input_test[seq_index: seq_index + 1]\n",
        "    decoded_sentence = decode_sequence(input_seq)\n",
        "    print(35 * \"-\")\n",
        "    print('입력 문장:', int2ori(encoder_input_test[seq_index]))\n",
        "    print('정답 문장:', int2fra(decoder_input_test[seq_index]))\n",
        "    print('번역기가 번역한 문장:', decoded_sentence[:len(decoded_sentence)-1]) # '\\n'을 빼고 출력"
      ]
    },
    {
      "cell_type": "code",
      "execution_count": null,
      "id": "584ecb27",
      "metadata": {
        "id": "584ecb27",
        "outputId": "c4466e27-1f67-4a4a-98ac-c8e8df4e36ec"
      },
      "outputs": [
        {
          "name": "stdout",
          "output_type": "stream",
          "text": [
            "-----------------------------------\n",
            "입력 문장: they re both smiling . \n",
            "정답 문장: elles sourient toutes les deux . \n",
            "번역기가 번역한 문장:  te chance faisons faison\n",
            "-----------------------------------\n",
            "입력 문장: this answer is wrong . \n",
            "정답 문장: cette r ponse est fausse . \n",
            "번역기가 번역한 문장:  te chance faisons faison\n",
            "-----------------------------------\n",
            "입력 문장: you misunderstood me . \n",
            "정답 문장: tu m as mal compris . \n",
            "번역기가 번역한 문장:  te chance faisons chanc\n",
            "-----------------------------------\n",
            "입력 문장: we went to the river . \n",
            "정답 문장: nous nous rend mes la rivi re . \n",
            "번역기가 번역한 문장:  te chance faisons faison\n"
          ]
        }
      ],
      "source": [
        "# padding : pre\n",
        "import numpy as np\n",
        "for seq_index in [3,50,2000,1050]: # 입력 문장의 인덱스 (자유롭게 선택해 보세요)\n",
        "    input_seq = encoder_input_test[seq_index: seq_index + 1]\n",
        "    decoded_sentence = decode_sequence(input_seq)\n",
        "    print(35 * \"-\")\n",
        "    print('입력 문장:', int2ori(encoder_input_test[seq_index]))\n",
        "    print('정답 문장:', int2fra(decoder_input_test[seq_index]))\n",
        "    print('번역기가 번역한 문장:', decoded_sentence[:len(decoded_sentence)-1]) # '\\n'을 빼고 출력"
      ]
    },
    {
      "cell_type": "markdown",
      "id": "64f18db0",
      "metadata": {
        "id": "64f18db0"
      },
      "source": [
        "# Review\n",
        "- 패딩을 pre로 할 경우 모델에서 masking layer가 필요없었지만, post로 할 경우 masking layer가 필요했음\n",
        "    패딩이 pre일 때 masking layer 없으면 에러.\n",
        "    masking layer의 역할 : 입력 시퀀스의 일부를 랜덤하게 마스크하여 모델이 해당 부분을 예측하도록 유도 빈칸을 채우거나 문장 생성과 같은 작업을 수행. 문맥을 파악하고 다응ㅁ에 나올 단어나 토큰을 예측할 수 있음.(https://huyntohoon.tistory.com/14)\n",
        "- 문장 330000를 가지고 여러 시도를 해보았지만(토큰화 방법, dropout 비율, 학습율, 패팅 방법, 문장의 길이 등을 변경하여 학습한 성능이 val loss 기준으로 1.1~ 1.4이었고 번역한 문장은 영어 첫 단어가 같은 모든 같은 단어로 시작하는 프랑스 문장으로 번역됨.\n",
        "- 학습할 문장을 53000개로 늘렸더니 val loss가 0.8로 상당히 성능 향상이라고 기대했지만 번역된 결과는 앞선 학습과 다르지 않음.\n",
        "-"
      ]
    },
    {
      "cell_type": "markdown",
      "id": "39263258",
      "metadata": {
        "id": "39263258"
      },
      "source": [
        "https://medium.com/analytics-vidhya/encoder-decoder-seq2seq-models-clearly-explained-c34186fbf49b\n",
        "https://towardsdatascience.com/how-to-implement-seq2seq-lstm-model-in-keras-shortcutnlp-6f355f3e5639"
      ]
    },
    {
      "cell_type": "code",
      "execution_count": null,
      "id": "fd0c3909",
      "metadata": {
        "id": "fd0c3909"
      },
      "outputs": [],
      "source": []
    }
  ],
  "metadata": {
    "kernelspec": {
      "display_name": "Python 3 (ipykernel)",
      "language": "python",
      "name": "python3"
    },
    "language_info": {
      "codemirror_mode": {
        "name": "ipython",
        "version": 3
      },
      "file_extension": ".py",
      "mimetype": "text/x-python",
      "name": "python",
      "nbconvert_exporter": "python",
      "pygments_lexer": "ipython3",
      "version": "3.9.7"
    },
    "colab": {
      "provenance": [],
      "include_colab_link": true
    }
  },
  "nbformat": 4,
  "nbformat_minor": 5
}