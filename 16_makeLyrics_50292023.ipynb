{
  "cells": [
    {
      "cell_type": "markdown",
      "metadata": {
        "id": "view-in-github",
        "colab_type": "text"
      },
      "source": [
        "<a href=\"https://colab.research.google.com/github/4juneko/Aiffel_work/blob/master/16_makeLyrics_50292023.ipynb\" target=\"_parent\"><img src=\"https://colab.research.google.com/assets/colab-badge.svg\" alt=\"Open In Colab\"/></a>"
      ]
    },
    {
      "cell_type": "markdown",
      "id": "823e614d",
      "metadata": {
        "id": "823e614d"
      },
      "source": [
        "# Rubric\n",
        "|평가문항\t|상세기준|내 평가|\n",
        "|--|--|--|\n",
        "|1. 데이터의 전처리 및 구성과정이 체계적으로 진행되었는가?\t|특수문자 제거, 토크나이저 생성, 패딩 처리의 작업들이 빠짐없이 진행되었는가?|O|\n",
        "|2. 가사 텍스트 생성 모델이 정상적으로 동작하는가?\t|텍스트 제너레이션 결과로 생성된 문장이 해석 가능한 문장인가?|O|\n",
        "|3. 텍스트 생성모델이 안정적으로 학습되었는가?\t|텍스트 생성모델의 validation loss가 2.2 이하로 낮아졌는가?|O|"
      ]
    },
    {
      "cell_type": "code",
      "execution_count": null,
      "id": "cfae499b",
      "metadata": {
        "id": "cfae499b",
        "outputId": "b86d995e-0c50-46b9-9b92-e67ab3dd8a7d"
      },
      "outputs": [
        {
          "name": "stdout",
          "output_type": "stream",
          "text": [
            "2.6.0\n"
          ]
        }
      ],
      "source": [
        "import glob  #glob 모듈의 glob 함수는 사용자가 제시한 조건에 맞는 파일명을 리스트 형식으로 반환한다\n",
        "import tensorflow\n",
        "import os, re \n",
        "import tensorflow as tf\n",
        "\n",
        "print(tensorflow.__version__)"
      ]
    },
    {
      "cell_type": "markdown",
      "id": "4308e3cd",
      "metadata": {
        "id": "4308e3cd"
      },
      "source": [
        "# Download Data\n",
        "~/aiffel/lyricist/data/lyrics"
      ]
    },
    {
      "cell_type": "markdown",
      "id": "7fd21200",
      "metadata": {
        "id": "7fd21200"
      },
      "source": [
        "# Open Data"
      ]
    },
    {
      "cell_type": "code",
      "execution_count": null,
      "id": "cfde410d",
      "metadata": {
        "id": "cfde410d",
        "outputId": "ae9defb9-c23d-4281-fd31-7bf514757c11"
      },
      "outputs": [
        {
          "name": "stdout",
          "output_type": "stream",
          "text": [
            "데이터 크기: 187088\n",
            "Examples:\n",
            " ['', '', '[Spoken Intro:]']\n"
          ]
        }
      ],
      "source": [
        "import glob\n",
        "import os\n",
        "\n",
        "txt_file_path = os.getenv('HOME')+'/aiffel/lyricist/data/lyrics/*' #os.getenv(x)함수는 환경 변수x의 값을 포함하는 문자열 변수를 반환합니다. txt_file_path 에 \"/root/aiffel/lyricist/data/lyrics/*\" 저장\n",
        "\n",
        "txt_list = glob.glob(txt_file_path) #txt_file_path 경로에 있는 모든 파일명을 리스트 형식으로 txt_list 에 할당\n",
        "\n",
        "raw_corpus = [] \n",
        "\n",
        "# 여러개의 txt 파일을 모두 읽어서 raw_corpus 에 담습니다.\n",
        "for txt_file in txt_list:\n",
        "    with open(txt_file, \"r\") as f:\n",
        "        raw = f.read().splitlines() #read() : 파일 전체의 내용을 하나의 문자열로 읽어온다. , splitlines()  : 여러라인으로 구분되어 있는 문자열을 한라인씩 분리하여 리스트로 반환\n",
        "        raw_corpus.extend(raw) # extend() : 리스트함수로 추가적인 내용을 연장 한다.\n",
        "\n",
        "print(\"데이터 크기:\", len(raw_corpus))\n",
        "print(\"Examples:\\n\", raw_corpus[:3])"
      ]
    },
    {
      "cell_type": "markdown",
      "id": "6df2e76f",
      "metadata": {
        "id": "6df2e76f"
      },
      "source": [
        "# Preprocess Data"
      ]
    },
    {
      "cell_type": "code",
      "execution_count": null,
      "id": "105f8b2e",
      "metadata": {
        "id": "105f8b2e",
        "outputId": "9ee6a636-4b55-4e2f-b171-fe05814f7480"
      },
      "outputs": [
        {
          "name": "stdout",
          "output_type": "stream",
          "text": [
            "[Spoken Intro:]\n",
            "You ever want something \n",
            "that you know you shouldn't have \n",
            "The more you know you shouldn't have it, \n",
            "The more you want it \n",
            "And then one day you get it, \n",
            "It's so good too \n",
            "But it's just like my girl \n"
          ]
        }
      ],
      "source": [
        "for idx, sentence in enumerate(raw_corpus):\n",
        "    if len(sentence) == 0: continue   # 길이가 0인 문장은 건너뜁니다.\n",
        "    if sentence[-1] == \":\": continue  # 문장의 끝이 : 인 문장은 건너뜁니다.\n",
        "\n",
        "    if idx > 9: break   # 일단 문장 10개만 확인해 볼 겁니다.\n",
        "        \n",
        "    print(sentence)"
      ]
    },
    {
      "cell_type": "code",
      "execution_count": null,
      "id": "88c97ac0",
      "metadata": {
        "id": "88c97ac0",
        "outputId": "b8ce987b-e0e5-40e0-8363-f191a2acd2ac"
      },
      "outputs": [
        {
          "name": "stdout",
          "output_type": "stream",
          "text": [
            "<start> this is sample sentence . <end>\n"
          ]
        }
      ],
      "source": [
        "def preprocess_sentence(sentence):\n",
        "    sentence = sentence.lower().strip() # 1. 소문자로, 공백 없애기\n",
        "    sentence = re.sub(r\"([?.!,¿])\", r\" \\1 \", sentence) # 2. 특수문자 양쪽에 공백\n",
        "    sentence = re.sub(r'[\" \"]+', \" \", sentence) # 3. 여러개 공백은 공백 하나로\n",
        "    sentence = re.sub(r\"[^a-zA-Z?.!,¿]+\", \" \", sentence) # 4. ^a-zA-Z?.!,¿을 제외하고 공백으로\n",
        "    sentence = sentence.strip() # 5. 양쪽 공백 지우기. 1번에서도 공백 없애기 했는데 두번째이네\n",
        "    sentence = '<start> ' + sentence + ' <end>' # 6. 처음에는 start, 끝에는 end 넣기\n",
        "    return sentence\n",
        "\n",
        "# 이 문장이 어떻게 필터링되는지 확인해 보세요.\n",
        "print(preprocess_sentence(\"This @_is ;;;sample        sentence.\"))"
      ]
    },
    {
      "cell_type": "code",
      "execution_count": null,
      "id": "a7f9ccd5",
      "metadata": {
        "id": "a7f9ccd5",
        "outputId": "0ff00828-2688-43fd-b7b7-c2f7e02ca1fb"
      },
      "outputs": [
        {
          "data": {
            "text/plain": [
              "['<start> spoken intro <end>',\n",
              " '<start> you ever want something <end>',\n",
              " '<start> that you know you shouldn t have <end>',\n",
              " '<start> the more you know you shouldn t have it , <end>',\n",
              " '<start> the more you want it <end>',\n",
              " '<start> and then one day you get it , <end>',\n",
              " '<start> it s so good too <end>',\n",
              " '<start> but it s just like my girl <end>',\n",
              " '<start> when she s around me <end>',\n",
              " '<start> i just feel so good , so good <end>']"
            ]
          },
          "execution_count": 20,
          "metadata": {},
          "output_type": "execute_result"
        }
      ],
      "source": [
        "# 여기에 정제된 문장을 모을겁니다\n",
        "corpus = []\n",
        "\n",
        "# raw_corpus list에 저장된 문장들을 순서대로 반환하여 sentence에 저장\n",
        "for sentence in raw_corpus:\n",
        "    # 우리가 원하지 않는 문장은 건너뜁니다\n",
        "    if len(sentence) == 0: continue\n",
        "    if sentence[-1] == \":\": continue\n",
        "    \n",
        "    # 앞서 구현한 preprocess_sentence() 함수를 이용하여 문장을 정제를 하고 담아주세요\n",
        "    preprocessed_sentence = preprocess_sentence(sentence)\n",
        "    corpus.append(preprocessed_sentence)\n",
        "        \n",
        "# 정제된 결과를 10개만 확인해보죠\n",
        "corpus[:10]"
      ]
    },
    {
      "cell_type": "code",
      "execution_count": null,
      "id": "c7992e89",
      "metadata": {
        "id": "c7992e89",
        "outputId": "59d5b672-1bed-4d24-ae14-1502b2a2a008"
      },
      "outputs": [
        {
          "name": "stdout",
          "output_type": "stream",
          "text": [
            "[[   2 2701 2584 ...    0    0    0]\n",
            " [   2    7  156 ...    0    0    0]\n",
            " [   2   17    7 ...    0    0    0]\n",
            " ...\n",
            " [   2  311    1 ...    0    0    0]\n",
            " [   2  735    5 ...    0    0    0]\n",
            " [   2  735    5 ...    0    0    0]] <keras_preprocessing.text.Tokenizer object at 0x7f4d18d0da60>\n"
          ]
        }
      ],
      "source": [
        "# 토큰화 문자를 숫자로...\n",
        "\n",
        "# 토큰화 할 때 텐서플로우의 Tokenizer와 pad_sequences를 사용합니다\n",
        "# 더 잘 알기 위해 아래 문서들을 참고하면 좋습니다\n",
        "# https://www.tensorflow.org/api_docs/python/tf/keras/preprocessing/text/Tokenizer\n",
        "# https://www.tensorflow.org/api_docs/python/tf/keras/preprocessing/sequence/pad_sequences\n",
        "\n",
        "def tokenize(corpus):\n",
        "    # 7000단어를 기억할 수 있는 tokenizer를 만들겁니다\n",
        "    # 우리는 이미 문장을 정제했으니 filters가 필요없어요\n",
        "    # 7000단어에 포함되지 못한 단어는 '<unk>'로 바꿀거에요\n",
        "    tokenizer = tf.keras.preprocessing.text.Tokenizer(\n",
        "        num_words=7000, \n",
        "        filters=' ',\n",
        "        oov_token=\"<unk>\" # out-of-vocabulary, 사전에 없는 단어\n",
        "    )\n",
        "    # corpus를 이용해 tokenizer 내부의 단어장을 완성합니다\n",
        "    # tokenizer.fit_on_texts(texts): 문자 데이터를 입력받아 리스트의 형태로 변환하는 메서드\n",
        "    tokenizer.fit_on_texts(corpus)\n",
        "    # 준비한 tokenizer를 이용해 corpus를 Tensor로 변환합니다\n",
        "    # tokenizer.texts_to_sequences(texts): 텍스트 안의 단어들을 숫자의 시퀀스 형태로 변환하는 메서드\n",
        "    tensor = tokenizer.texts_to_sequences(corpus)   \n",
        "    # 입력 데이터의 시퀀스 길이를 일정하게 맞춰줍니다\n",
        "    # 만약 시퀀스가 짧다면 문장 뒤에 패딩을 붙여 길이를 맞춰줍니다.\n",
        "    # 문장 앞에 패딩을 붙여 길이를 맞추고 싶다면 padding='pre'를 사용합니다\n",
        "    tensor = tf.keras.preprocessing.sequence.pad_sequences(tensor, padding='post',maxlen=20)  #  토큰의 갯수 20개를 넘어가지 않게\n",
        "    \n",
        "    print(tensor,tokenizer)\n",
        "    return tensor, tokenizer\n",
        "\n",
        "tensor, tokenizer = tokenize(corpus)"
      ]
    },
    {
      "cell_type": "code",
      "execution_count": null,
      "id": "c5155264",
      "metadata": {
        "id": "c5155264",
        "outputId": "e73ed5ec-da0e-405e-a48a-7c7b965ca346"
      },
      "outputs": [
        {
          "name": "stdout",
          "output_type": "stream",
          "text": [
            "1 : <unk>\n",
            "2 : <start>\n",
            "3 : <end>\n",
            "4 : ,\n",
            "5 : i\n",
            "6 : the\n",
            "7 : you\n",
            "8 : and\n",
            "9 : a\n",
            "10 : to\n"
          ]
        }
      ],
      "source": [
        "# tokenizer.index_word: 현재 계산된 단어의 인덱스와 인덱스에 해당하는 단어를 dictionary 형대로 반환 (Ex. {index: '~~', index: '~~', ...})\n",
        "for idx in tokenizer.index_word:\n",
        "    print(idx, \":\", tokenizer.index_word[idx])\n",
        "\n",
        "    if idx >= 10: break"
      ]
    },
    {
      "cell_type": "code",
      "execution_count": null,
      "id": "d541f7ee",
      "metadata": {
        "id": "d541f7ee",
        "outputId": "fa5fe124-0fc6-4515-9a7e-29698b43b57b"
      },
      "outputs": [
        {
          "name": "stdout",
          "output_type": "stream",
          "text": [
            "[   2 2701 2584    3    0    0    0    0    0    0    0    0    0    0\n",
            "    0    0    0    0    0]\n",
            "[2701 2584    3    0    0    0    0    0    0    0    0    0    0    0\n",
            "    0    0    0    0    0]\n"
          ]
        }
      ],
      "source": [
        "# tensor에서 마지막 토큰을 잘라내서 소스 문장을 생성합니다\n",
        "# 마지막 토큰은 <end>가 아니라 <pad>일 가능성이 높습니다.\n",
        "src_input = tensor[:, :-1]  \n",
        "# tensor에서 <start>를 잘라내서 타겟 문장을 생성합니다.\n",
        "tgt_input = tensor[:, 1:]    \n",
        "\n",
        "print(src_input[0])\n",
        "print(tgt_input[0])"
      ]
    },
    {
      "cell_type": "markdown",
      "id": "cce54509",
      "metadata": {
        "id": "cce54509"
      },
      "source": [
        "# Split Data\n",
        "- 단어장의 크기는 12,000 이상 으로 설정하세요!  \n",
        "- 총 데이터의 20% 를 평가 데이터셋으로 사용해 주세요!"
      ]
    },
    {
      "cell_type": "code",
      "execution_count": null,
      "id": "313d7b3f",
      "metadata": {
        "id": "313d7b3f"
      },
      "outputs": [],
      "source": [
        "from sklearn.model_selection import train_test_split\n",
        "\n",
        "enc_train, enc_val, dec_train, dec_val = train_test_split(src_input, \n",
        "                                                    tgt_input, \n",
        "                                                    test_size=0.2, \n",
        "                                                    shuffle=True, \n",
        "                                                    random_state=1004)"
      ]
    },
    {
      "cell_type": "code",
      "execution_count": null,
      "id": "a2c05aec",
      "metadata": {
        "id": "a2c05aec",
        "outputId": "8ba81ebd-7e16-436d-9fd0-d388cad6d6f3"
      },
      "outputs": [
        {
          "name": "stdout",
          "output_type": "stream",
          "text": [
            "(140599, 19) (35150, 19)\n"
          ]
        }
      ],
      "source": [
        "print(enc_train.shape, enc_val.shape)"
      ]
    },
    {
      "cell_type": "code",
      "execution_count": null,
      "id": "095836b5",
      "metadata": {
        "id": "095836b5",
        "outputId": "be2cf8ae-bda8-4d69-8e8a-ddaf3052562f"
      },
      "outputs": [
        {
          "data": {
            "text/plain": [
              "<BatchDataset shapes: ((256, 19), (256, 19)), types: (tf.int32, tf.int32)>"
            ]
          },
          "execution_count": 26,
          "metadata": {},
          "output_type": "execute_result"
        }
      ],
      "source": [
        "BUFFER_SIZE = len(enc_train)\n",
        "BATCH_SIZE = 256\n",
        "steps_per_epoch = len(enc_train) // BATCH_SIZE\n",
        "\n",
        " # tokenizer가 구축한 단어사전 내 7000개와, 여기 포함되지 않은 0:<pad>를 포함하여 7001개\n",
        " # tokenizer.num_words: 주어진 데이터의 문장들에서 빈도수가 높은 n개의 단어만 선택\n",
        " # tokenize() 함수에서 num_words를 7000개로 선언했기 때문에, tokenizer.num_words의 값은 7000\n",
        "VOCAB_SIZE = tokenizer.num_words + 1   \n",
        "\n",
        "# 준비한 데이터 소스로부터 데이터셋을 만듭니다\n",
        "# 데이터셋에 대해서는 아래 문서를 참고하세요\n",
        "# 자세히 알아둘수록 도움이 많이 되는 중요한 문서입니다\n",
        "# https://www.tensorflow.org/api_docs/python/tf/data/Dataset\n",
        "dataset = tf.data.Dataset.from_tensor_slices((enc_train, dec_train))\n",
        "dataset = dataset.shuffle(BUFFER_SIZE)\n",
        "dataset = dataset.batch(BATCH_SIZE, drop_remainder=True)\n",
        "dataset"
      ]
    },
    {
      "cell_type": "code",
      "execution_count": null,
      "id": "afb6de12",
      "metadata": {
        "id": "afb6de12",
        "outputId": "21d65397-41bd-417b-ee3b-7e20d05a8f43"
      },
      "outputs": [
        {
          "data": {
            "text/plain": [
              "<BatchDataset shapes: ((256, 19), (256, 19)), types: (tf.int32, tf.int32)>"
            ]
          },
          "execution_count": 27,
          "metadata": {},
          "output_type": "execute_result"
        }
      ],
      "source": [
        "val_dataset = tf.data.Dataset.from_tensor_slices((enc_val, dec_val))\n",
        "val_dataset = val_dataset.shuffle(BUFFER_SIZE)\n",
        "val_dataset = val_dataset.batch(BATCH_SIZE, drop_remainder=True)\n",
        "val_dataset"
      ]
    },
    {
      "cell_type": "markdown",
      "id": "d53e08a2",
      "metadata": {
        "id": "d53e08a2"
      },
      "source": [
        "# get Model & Train"
      ]
    },
    {
      "cell_type": "markdown",
      "id": "ebd61cbe",
      "metadata": {
        "id": "ebd61cbe"
      },
      "source": [
        "## Model #1"
      ]
    },
    {
      "cell_type": "code",
      "execution_count": null,
      "id": "40ecf7a6",
      "metadata": {
        "id": "40ecf7a6"
      },
      "outputs": [],
      "source": [
        "class TextGenerator(tf.keras.Model):\n",
        "    def __init__(self, vocab_size, embedding_size, hidden_size):\n",
        "        super().__init__()\n",
        "        # Embedding 레이어, 2개의 LSTM 레이어, 1개의 Dense 레이어로 구성되어 있다.\n",
        "        # Embedding 레이어는 단어 사전의 인덱스 값을 해당 인덱스 번째의 워드 벡터로 바꿔준다.\n",
        "        # 이 워드 벡터는 의미 벡터 공간에서 단어의 추상적 표현으로 사용된다. \n",
        "        self.embedding = tf.keras.layers.Embedding(vocab_size, embedding_size) \n",
        "        self.rnn_1 = tf.keras.layers.LSTM(hidden_size, return_sequences=True)  \n",
        "        self.rnn_2 = tf.keras.layers.LSTM(hidden_size, return_sequences=True)\n",
        "        self.linear = tf.keras.layers.Dense(vocab_size)\n",
        "        \n",
        "    def call(self, x):\n",
        "        out = self.embedding(x)\n",
        "        out = self.rnn_1(out)\n",
        "        out = self.rnn_2(out)\n",
        "        out = self.linear(out)\n",
        "        \n",
        "        return out\n",
        "# embedding size 값이 커질수록 단어의 추상적인 특징들을 더 잡아낼 수 있지만\n",
        "# 그만큼 충분한 데이터가 없으면 안좋은 결과 값을 가져옵니다!   \n",
        "embedding_size = 512 # 워드 벡터의 차원수를 말하며 단어가 추상적으로 표현되는 크기입니다.\n",
        "hidden_size = 2048 # 모델에 얼마나 많은 일꾼을 둘 것인가? 정도로 이해하면 좋다.\n",
        "model = TextGenerator(tokenizer.num_words + 1, embedding_size , hidden_size) # tokenizer.num_words에 +1인 이유는 문장에 없는 pad가 사용되었기 때문이다."
      ]
    },
    {
      "cell_type": "code",
      "execution_count": null,
      "id": "a7c1b29f",
      "metadata": {
        "id": "a7c1b29f",
        "outputId": "bcb40499-94b4-431a-f5fd-cbad3bfe82c7"
      },
      "outputs": [
        {
          "data": {
            "text/plain": [
              "<tf.Tensor: shape=(256, 19, 7001), dtype=float32, numpy=\n",
              "array([[[-1.1430148e-04, -1.5759865e-04,  8.0295147e-05, ...,\n",
              "          8.1421334e-05, -3.9826264e-05, -1.2749693e-04],\n",
              "        [-2.7238054e-04,  7.3298841e-05,  2.8093325e-04, ...,\n",
              "         -8.4723310e-05, -2.7241983e-04, -2.9063574e-04],\n",
              "        [-1.9288924e-05,  1.0732041e-04,  3.5007947e-04, ...,\n",
              "         -6.8254303e-05, -5.2376679e-04, -1.1860876e-04],\n",
              "        ...,\n",
              "        [ 9.1328705e-04,  9.5561455e-04,  5.6340587e-03, ...,\n",
              "         -2.3685277e-03,  1.2436230e-03, -1.5157579e-03],\n",
              "        [ 9.2674111e-04,  1.0494376e-03,  6.3897017e-03, ...,\n",
              "         -2.3777494e-03,  1.3568959e-03, -1.6269549e-03],\n",
              "        [ 9.4292668e-04,  1.1458620e-03,  6.9993450e-03, ...,\n",
              "         -2.3420798e-03,  1.5015422e-03, -1.6815686e-03]],\n",
              "\n",
              "       [[-1.1430148e-04, -1.5759865e-04,  8.0295147e-05, ...,\n",
              "          8.1421334e-05, -3.9826264e-05, -1.2749693e-04],\n",
              "        [ 5.1432184e-05, -1.3231626e-04,  4.3807502e-04, ...,\n",
              "         -2.1659548e-04,  5.0286908e-06, -8.1572850e-04],\n",
              "        [ 1.5854770e-04,  3.1794774e-05,  7.0464372e-04, ...,\n",
              "         -1.7777906e-04, -2.2501449e-04, -1.0395922e-03],\n",
              "        ...,\n",
              "        [ 5.7036715e-04,  2.2056499e-03,  5.9014987e-03, ...,\n",
              "         -1.7212846e-03,  1.3049309e-03, -1.2366368e-03],\n",
              "        [ 6.4507825e-04,  2.1487123e-03,  6.4575672e-03, ...,\n",
              "         -1.8110687e-03,  1.4080923e-03, -1.3009678e-03],\n",
              "        [ 7.1631611e-04,  2.1118454e-03,  6.9182669e-03, ...,\n",
              "         -1.8452102e-03,  1.5567837e-03, -1.3315495e-03]],\n",
              "\n",
              "       [[-1.1430148e-04, -1.5759865e-04,  8.0295147e-05, ...,\n",
              "          8.1421334e-05, -3.9826264e-05, -1.2749693e-04],\n",
              "        [-1.3623238e-04, -3.8009003e-04,  4.0410762e-04, ...,\n",
              "          3.3399461e-05,  1.4869901e-04, -1.0426860e-04],\n",
              "        [ 1.3763244e-04, -4.7007907e-04,  4.2719932e-04, ...,\n",
              "          2.4760835e-04,  1.7022712e-05, -2.7154959e-04],\n",
              "        ...,\n",
              "        [ 7.5758359e-04,  1.5924290e-03,  8.3603486e-03, ...,\n",
              "         -1.2298228e-03,  1.9942699e-03, -1.5604115e-03],\n",
              "        [ 7.6896430e-04,  1.7013339e-03,  8.4349029e-03, ...,\n",
              "         -1.1855940e-03,  2.2552777e-03, -1.4623009e-03],\n",
              "        [ 7.6874974e-04,  1.8023315e-03,  8.4744301e-03, ...,\n",
              "         -1.1401600e-03,  2.4926956e-03, -1.3630518e-03]],\n",
              "\n",
              "       ...,\n",
              "\n",
              "       [[-1.1430148e-04, -1.5759865e-04,  8.0295147e-05, ...,\n",
              "          8.1421334e-05, -3.9826264e-05, -1.2749693e-04],\n",
              "        [-6.5391941e-04, -3.5979212e-04, -3.4826389e-04, ...,\n",
              "          4.0288255e-04,  4.9861906e-06,  1.0128436e-04],\n",
              "        [-8.7115751e-04, -3.8004859e-04, -6.0600386e-04, ...,\n",
              "          1.7252855e-04, -9.6011008e-06,  6.4403622e-04],\n",
              "        ...,\n",
              "        [ 8.8928890e-04,  1.6942263e-03,  5.6951460e-03, ...,\n",
              "         -8.4361352e-04,  1.7314912e-03, -5.4298615e-04],\n",
              "        [ 9.6502982e-04,  1.7311681e-03,  6.3083330e-03, ...,\n",
              "         -9.9321315e-04,  1.9199350e-03, -7.3296146e-04],\n",
              "        [ 1.0132582e-03,  1.7685293e-03,  6.8052509e-03, ...,\n",
              "         -1.0938128e-03,  2.1098375e-03, -8.6933986e-04]],\n",
              "\n",
              "       [[-1.1430148e-04, -1.5759865e-04,  8.0295147e-05, ...,\n",
              "          8.1421334e-05, -3.9826264e-05, -1.2749693e-04],\n",
              "        [-3.1250043e-04, -3.4043763e-04,  2.3374456e-04, ...,\n",
              "         -2.2570023e-04,  3.9196407e-04, -6.8186906e-05],\n",
              "        [-9.4821931e-05, -3.0901181e-04,  5.7270733e-04, ...,\n",
              "         -4.5755104e-04,  6.4751366e-04, -1.8043882e-04],\n",
              "        ...,\n",
              "        [ 9.0754248e-04,  6.4299174e-04,  6.6786003e-03, ...,\n",
              "         -1.3436709e-03,  6.6097063e-04, -2.9248188e-03],\n",
              "        [ 1.0192703e-03,  8.3513162e-04,  7.1564107e-03, ...,\n",
              "         -1.4072697e-03,  9.4548124e-04, -2.7514021e-03],\n",
              "        [ 1.0946771e-03,  1.0192203e-03,  7.5361440e-03, ...,\n",
              "         -1.4364179e-03,  1.2457117e-03, -2.5599219e-03]],\n",
              "\n",
              "       [[-1.1430148e-04, -1.5759865e-04,  8.0295147e-05, ...,\n",
              "          8.1421334e-05, -3.9826264e-05, -1.2749693e-04],\n",
              "        [-4.1170727e-04, -1.9490812e-04,  2.1185580e-05, ...,\n",
              "          4.7929885e-04, -2.5600501e-04, -3.5570899e-04],\n",
              "        [-7.1124750e-04,  1.5193252e-04,  1.7724575e-04, ...,\n",
              "          4.0959485e-04, -3.8109324e-04, -2.6476002e-04],\n",
              "        ...,\n",
              "        [ 6.6331966e-04,  1.4623639e-03,  7.9654157e-03, ...,\n",
              "         -1.2888312e-03,  1.4048879e-03, -2.0717941e-03],\n",
              "        [ 7.3152100e-04,  1.5660671e-03,  8.2198046e-03, ...,\n",
              "         -1.2857888e-03,  1.6876115e-03, -1.9670951e-03],\n",
              "        [ 7.7923673e-04,  1.6687297e-03,  8.3972095e-03, ...,\n",
              "         -1.2663606e-03,  1.9606685e-03, -1.8510303e-03]]], dtype=float32)>"
            ]
          },
          "execution_count": 29,
          "metadata": {},
          "output_type": "execute_result"
        }
      ],
      "source": [
        "# 데이터셋에서 데이터 한 배치만 불러오는 방법입니다.\n",
        "# 지금은 동작 원리에 너무 빠져들지 마세요~\n",
        "for src_sample, tgt_sample in dataset.take(1): break\n",
        "\n",
        "# 한 배치만 불러온 데이터를 모델에 넣어봅니다\n",
        "model(src_sample)"
      ]
    },
    {
      "cell_type": "code",
      "execution_count": null,
      "id": "12aafdb7",
      "metadata": {
        "id": "12aafdb7",
        "outputId": "fbde3932-f553-4718-93f8-68a0158a94f7"
      },
      "outputs": [
        {
          "name": "stdout",
          "output_type": "stream",
          "text": [
            "Model: \"text_generator\"\n",
            "_________________________________________________________________\n",
            "Layer (type)                 Output Shape              Param #   \n",
            "=================================================================\n",
            "embedding (Embedding)        multiple                  3584512   \n",
            "_________________________________________________________________\n",
            "lstm (LSTM)                  multiple                  20979712  \n",
            "_________________________________________________________________\n",
            "lstm_1 (LSTM)                multiple                  33562624  \n",
            "_________________________________________________________________\n",
            "dense (Dense)                multiple                  14345049  \n",
            "=================================================================\n",
            "Total params: 72,471,897\n",
            "Trainable params: 72,471,897\n",
            "Non-trainable params: 0\n",
            "_________________________________________________________________\n"
          ]
        }
      ],
      "source": [
        "# 모델의 구조를 확인합니다.\n",
        "model.summary()"
      ]
    },
    {
      "cell_type": "markdown",
      "id": "4220336f",
      "metadata": {
        "id": "4220336f"
      },
      "source": [
        "### Train\n",
        "- 모델의 Embedding Size와 Hidden Size를 조절하며 10 Epoch 안에 val_loss 값을 2.2 수준으로 줄일 수 있는 모델을 설계하세요!\n",
        "- val_loss 값은 2.2 아래로 떨어지지 않습니다. 이럴 경우는 batch size를 변경하는 것과 같이 model.fit() 함수에 다양한 인자를 넣어주면 해결될 수도 있습니다\n",
        "- https://www.tensorflow.org/api_docs/python/tf/keras/Model#fit"
      ]
    },
    {
      "cell_type": "code",
      "execution_count": null,
      "id": "42fb6117",
      "metadata": {
        "scrolled": true,
        "id": "42fb6117",
        "outputId": "aa258cf6-d723-4f5a-ad59-61db00c996b7"
      },
      "outputs": [
        {
          "name": "stdout",
          "output_type": "stream",
          "text": [
            "Epoch 1/10\n",
            "549/549 [==============================] - 335s 601ms/step - loss: 2.6131 - val_loss: 2.2965\n",
            "Epoch 2/10\n",
            "549/549 [==============================] - 334s 609ms/step - loss: 2.1442 - val_loss: 2.0735\n",
            "Epoch 3/10\n",
            "549/549 [==============================] - 335s 610ms/step - loss: 1.8885 - val_loss: 1.9297\n",
            "Epoch 4/10\n",
            "549/549 [==============================] - 336s 611ms/step - loss: 1.6431 - val_loss: 1.8277\n",
            "Epoch 5/10\n",
            "549/549 [==============================] - 336s 612ms/step - loss: 1.4097 - val_loss: 1.7557\n",
            "Epoch 6/10\n",
            "549/549 [==============================] - 336s 613ms/step - loss: 1.1972 - val_loss: 1.7131\n",
            "Epoch 7/10\n",
            "549/549 [==============================] - 336s 612ms/step - loss: 1.0208 - val_loss: 1.6965\n",
            "Epoch 8/10\n",
            "549/549 [==============================] - 336s 612ms/step - loss: 0.8873 - val_loss: 1.7051\n",
            "Epoch 9/10\n",
            "549/549 [==============================] - 336s 612ms/step - loss: 0.8028 - val_loss: 1.7206\n",
            "Epoch 10/10\n",
            "549/549 [==============================] - 336s 613ms/step - loss: 0.7570 - val_loss: 1.7397\n"
          ]
        }
      ],
      "source": [
        "# optimizer와 loss등은 차차 배웁니다\n",
        "# 혹시 미리 알고 싶다면 아래 문서를 참고하세요\n",
        "# https://www.tensorflow.org/api_docs/python/tf/keras/optimizers\n",
        "# https://www.tensorflow.org/api_docs/python/tf/keras/losses\n",
        "# 양이 상당히 많은 편이니 지금 보는 것은 추천하지 않습니다\n",
        "\n",
        "# Adam 알고리즘을 구현하는 optimzier이며 어떤 optimzier를 써야할지 모른다면 Adam을 쓰는 것도 방법이다.\n",
        "# 우리가 학습을 할 때 최대한 틀리지 않는 방향으로 학습을 해야한다.\n",
        "# 여기서 얼마나 틀리는지(loss)를 알게하는 함수가 손실함수 이다.\n",
        "# 이 손실함수의 최소값을 찾는 것을 학습의 목표로 하며 여기서 최소값을 찾아가는 과정을 optimization 이라하고\n",
        "# 이를 수행하는 알고리즘을 optimizer(최적화)라고 한다.\n",
        "\n",
        "optimizer = tf.keras.optimizers.Adam() # Adam은 현재 가장 많이 사용하는 옵티마이저이다. 자세한 내용은 차차 배운다.\n",
        "loss = tf.keras.losses.SparseCategoricalCrossentropy( # 훈련 데이터의 라벨이 정수의 형태로 제공될 때 사용하는 손실함수이다.\n",
        "    from_logits=True, # 기본값은 False이다. 모델에 의해 생성된 출력 값이 정규화되지 않았음을 손실 함수에 알려준다. 즉 softmax함수가 적용되지 않았다는걸 의미한다. \n",
        "    reduction='none'  # 기본값은 SUM이다. 각자 나오는 값의 반환 원할 때 None을 사용한다.\n",
        ")\n",
        "# 모델을 학습시키키 위한 학습과정을 설정하는 단계이다.\n",
        "model.compile(loss=loss, optimizer=optimizer) # 손실함수와 훈련과정을 설정했다.\n",
        "history1 = model.fit(dataset, \n",
        "          epochs=10,\n",
        "          validation_data = val_dataset) # 만들어둔 데이터셋으로 모델을 학습한다. 30번 학습을 반복하겠다는 의미다."
      ]
    },
    {
      "cell_type": "code",
      "execution_count": null,
      "id": "af2076f0",
      "metadata": {
        "id": "af2076f0",
        "outputId": "0764df1d-4329-42b3-f24c-370a604c1550"
      },
      "outputs": [
        {
          "data": {
            "image/png": "[encoded data removed]",
            "text/plain": [
              "<Figure size 432x288 with 1 Axes>"
            ]
          },
          "metadata": {
            "needs_background": "light"
          },
          "output_type": "display_data"
        }
      ],
      "source": [
        "# graph\n",
        "import matplotlib.pyplot as plt\n",
        "\n",
        "loss = history1.history['loss']\n",
        "val_loss = history1.history['val_loss']\n",
        "\n",
        "epochs_range = range(1, len(loss)+1)\n",
        "\n",
        "plt.plot(epochs_range, loss, 'bo', label='Training loss')\n",
        "plt.plot(epochs_range, val_loss, 'r', label='Validation loss')\n",
        "plt.xlabel('Epochs')\n",
        "plt.ylabel('Loss')\n",
        "plt.title('Training and validation loss')\n",
        "plt.legend()\n",
        "\n",
        "plt.show()\n",
        "\n",
        "# 속도가 느리고 training과 validation의 loss가 점점 벌어져 overfit의 조짐이 보여 모델을 좀 더 심플하게 할 필요가 있겠음."
      ]
    },
    {
      "cell_type": "markdown",
      "id": "e5bdf727",
      "metadata": {
        "id": "e5bdf727"
      },
      "source": [
        "### Use Callback"
      ]
    },
    {
      "cell_type": "code",
      "execution_count": null,
      "id": "35235873",
      "metadata": {
        "scrolled": true,
        "id": "35235873",
        "outputId": "5a600a78-cd31-4502-a941-fbea9a776990"
      },
      "outputs": [
        {
          "name": "stdout",
          "output_type": "stream",
          "text": [
            "Epoch 1/10\n",
            "549/549 [==============================] - 332s 601ms/step - loss: 1.8836 - val_loss: 1.9089\n"
          ]
        },
        {
          "name": "stderr",
          "output_type": "stream",
          "text": [
            "WARNING:absl:Found untraced functions such as lstm_cell_6_layer_call_fn, lstm_cell_6_layer_call_and_return_conditional_losses, lstm_cell_7_layer_call_fn, lstm_cell_7_layer_call_and_return_conditional_losses, lstm_cell_6_layer_call_fn while saving (showing 5 of 10). These functions will not be directly callable after loading.\n"
          ]
        },
        {
          "name": "stdout",
          "output_type": "stream",
          "text": [
            "INFO:tensorflow:Assets written to: lyrics_model/assets\n"
          ]
        },
        {
          "name": "stderr",
          "output_type": "stream",
          "text": [
            "INFO:tensorflow:Assets written to: lyrics_model/assets\n"
          ]
        },
        {
          "name": "stdout",
          "output_type": "stream",
          "text": [
            "Epoch 2/10\n",
            "549/549 [==============================] - 332s 605ms/step - loss: 1.5978 - val_loss: 1.7996\n"
          ]
        },
        {
          "name": "stderr",
          "output_type": "stream",
          "text": [
            "WARNING:absl:Found untraced functions such as lstm_cell_6_layer_call_fn, lstm_cell_6_layer_call_and_return_conditional_losses, lstm_cell_7_layer_call_fn, lstm_cell_7_layer_call_and_return_conditional_losses, lstm_cell_6_layer_call_fn while saving (showing 5 of 10). These functions will not be directly callable after loading.\n"
          ]
        },
        {
          "name": "stdout",
          "output_type": "stream",
          "text": [
            "INFO:tensorflow:Assets written to: lyrics_model/assets\n"
          ]
        },
        {
          "name": "stderr",
          "output_type": "stream",
          "text": [
            "INFO:tensorflow:Assets written to: lyrics_model/assets\n"
          ]
        },
        {
          "name": "stdout",
          "output_type": "stream",
          "text": [
            "Epoch 3/10\n",
            "549/549 [==============================] - 333s 606ms/step - loss: 1.3351 - val_loss: 1.7289\n"
          ]
        },
        {
          "name": "stderr",
          "output_type": "stream",
          "text": [
            "WARNING:absl:Found untraced functions such as lstm_cell_6_layer_call_fn, lstm_cell_6_layer_call_and_return_conditional_losses, lstm_cell_7_layer_call_fn, lstm_cell_7_layer_call_and_return_conditional_losses, lstm_cell_6_layer_call_fn while saving (showing 5 of 10). These functions will not be directly callable after loading.\n"
          ]
        },
        {
          "name": "stdout",
          "output_type": "stream",
          "text": [
            "INFO:tensorflow:Assets written to: lyrics_model/assets\n"
          ]
        },
        {
          "name": "stderr",
          "output_type": "stream",
          "text": [
            "INFO:tensorflow:Assets written to: lyrics_model/assets\n"
          ]
        },
        {
          "name": "stdout",
          "output_type": "stream",
          "text": [
            "Epoch 4/10\n",
            "549/549 [==============================] - 333s 606ms/step - loss: 1.1130 - val_loss: 1.6978\n"
          ]
        },
        {
          "name": "stderr",
          "output_type": "stream",
          "text": [
            "WARNING:absl:Found untraced functions such as lstm_cell_6_layer_call_fn, lstm_cell_6_layer_call_and_return_conditional_losses, lstm_cell_7_layer_call_fn, lstm_cell_7_layer_call_and_return_conditional_losses, lstm_cell_6_layer_call_fn while saving (showing 5 of 10). These functions will not be directly callable after loading.\n"
          ]
        },
        {
          "name": "stdout",
          "output_type": "stream",
          "text": [
            "INFO:tensorflow:Assets written to: lyrics_model/assets\n"
          ]
        },
        {
          "name": "stderr",
          "output_type": "stream",
          "text": [
            "INFO:tensorflow:Assets written to: lyrics_model/assets\n"
          ]
        },
        {
          "name": "stdout",
          "output_type": "stream",
          "text": [
            "Epoch 5/10\n",
            "549/549 [==============================] - 333s 605ms/step - loss: 0.9450 - val_loss: 1.6968\n"
          ]
        },
        {
          "name": "stderr",
          "output_type": "stream",
          "text": [
            "WARNING:absl:Found untraced functions such as lstm_cell_6_layer_call_fn, lstm_cell_6_layer_call_and_return_conditional_losses, lstm_cell_7_layer_call_fn, lstm_cell_7_layer_call_and_return_conditional_losses, lstm_cell_6_layer_call_fn while saving (showing 5 of 10). These functions will not be directly callable after loading.\n"
          ]
        },
        {
          "name": "stdout",
          "output_type": "stream",
          "text": [
            "INFO:tensorflow:Assets written to: lyrics_model/assets\n"
          ]
        },
        {
          "name": "stderr",
          "output_type": "stream",
          "text": [
            "INFO:tensorflow:Assets written to: lyrics_model/assets\n"
          ]
        },
        {
          "name": "stdout",
          "output_type": "stream",
          "text": [
            "Epoch 6/10\n",
            "172/549 [========>.....................] - ETA: 3:29 - loss: 0.8106"
          ]
        }
      ],
      "source": [
        "from tensorflow.keras import callbacks\n",
        "\n",
        "optimizer = tf.keras.optimizers.Adam() # Adam은 현재 가장 많이 사용하는 옵티마이저이다. 자세한 내용은 차차 배운다.\n",
        "loss = tf.keras.losses.SparseCategoricalCrossentropy( # 훈련 데이터의 라벨이 정수의 형태로 제공될 때 사용하는 손실함수이다.\n",
        "    from_logits=True, # 기본값은 False이다. 모델에 의해 생성된 출력 값이 정규화되지 않았음을 손실 함수에 알려준다. 즉 softmax함수가 적용되지 않았다는걸 의미한다. \n",
        "    reduction='none'  # 기본값은 SUM이다. 각자 나오는 값의 반환 원할 때 None을 사용한다.\n",
        ")\n",
        "# 모델을 학습시키키 위한 학습과정을 설정하는 단계이다.\n",
        "model.compile(loss=loss, optimizer=optimizer) # 손실함수와 훈련과정을 설정했다.\n",
        "\n",
        "check_point_cb = callbacks.ModelCheckpoint('lyrics_model', \n",
        "                                           save_format='tf')\n",
        "early_stopping_cb = callbacks.EarlyStopping(patience=10, \n",
        "                                            monitor='val_loss',\n",
        "                                            restore_best_weights=True)\n",
        "history = model.fit(dataset, \n",
        "                    epochs=10,\n",
        "                    validation_data=val_dataset,\n",
        "                    callbacks=[check_point_cb, early_stopping_cb])"
      ]
    },
    {
      "cell_type": "markdown",
      "id": "b6a359a5",
      "metadata": {
        "id": "b6a359a5"
      },
      "source": [
        "## Model #2"
      ]
    },
    {
      "cell_type": "code",
      "execution_count": null,
      "id": "e3786259",
      "metadata": {
        "id": "e3786259",
        "outputId": "f45341cb-2053-4497-a47e-56559aa6d653"
      },
      "outputs": [
        {
          "name": "stdout",
          "output_type": "stream",
          "text": [
            "Model: \"text_generator_2\"\n",
            "_________________________________________________________________\n",
            "Layer (type)                 Output Shape              Param #   \n",
            "=================================================================\n",
            "embedding_2 (Embedding)      multiple                  3584512   \n",
            "_________________________________________________________________\n",
            "lstm_4 (LSTM)                multiple                  6295552   \n",
            "_________________________________________________________________\n",
            "lstm_5 (LSTM)                multiple                  8392704   \n",
            "_________________________________________________________________\n",
            "dense_2 (Dense)              multiple                  7176025   \n",
            "=================================================================\n",
            "Total params: 25,448,793\n",
            "Trainable params: 25,448,793\n",
            "Non-trainable params: 0\n",
            "_________________________________________________________________\n"
          ]
        }
      ],
      "source": [
        "class TextGenerator(tf.keras.Model):\n",
        "    def __init__(self, vocab_size, embedding_size, hidden_size):\n",
        "        super().__init__()\n",
        "        # Embedding 레이어, 2개의 LSTM 레이어, 1개의 Dense 레이어로 구성되어 있다.\n",
        "        # Embedding 레이어는 단어 사전의 인덱스 값을 해당 인덱스 번째의 워드 벡터로 바꿔준다.\n",
        "        # 이 워드 벡터는 의미 벡터 공간에서 단어의 추상적 표현으로 사용된다. \n",
        "        self.embedding = tf.keras.layers.Embedding(vocab_size, embedding_size) \n",
        "        self.rnn_1 = tf.keras.layers.LSTM(hidden_size, return_sequences=True)  \n",
        "        self.rnn_2 = tf.keras.layers.LSTM(hidden_size, return_sequences=True)\n",
        "        self.linear = tf.keras.layers.Dense(vocab_size)\n",
        "        \n",
        "    def call(self, x):\n",
        "        out = self.embedding(x)\n",
        "        out = self.rnn_1(out)\n",
        "        out = self.rnn_2(out)\n",
        "        out = self.linear(out)\n",
        "        \n",
        "        return out\n",
        "# embedding size 값이 커질수록 단어의 추상적인 특징들을 더 잡아낼 수 있지만\n",
        "# 그만큼 충분한 데이터가 없으면 안좋은 결과 값을 가져옵니다!   \n",
        "embedding_size = 512 # 워드 벡터의 차원수를 말하며 단어가 추상적으로 표현되는 크기입니다.\n",
        "hidden_size = 1024 # 모델에 얼마나 많은 일꾼을 둘 것인가? 정도로 이해하면 좋다.\n",
        "model = TextGenerator(tokenizer.num_words + 1, embedding_size , hidden_size) # tokenizer.num_words에 +1인 이유는 문장에 없는 pad가 사용되었기 때문이다.\n",
        "\n",
        "# 데이터셋에서 데이터 한 배치만 불러오는 방법입니다.\n",
        "# 지금은 동작 원리에 너무 빠져들지 마세요~\n",
        "for src_sample, tgt_sample in dataset.take(1): break\n",
        "\n",
        "# 한 배치만 불러온 데이터를 모델에 넣어봅니다\n",
        "model(src_sample)\n",
        "\n",
        "# 모델의 구조를 확인합니다.\n",
        "model.summary()"
      ]
    },
    {
      "cell_type": "code",
      "execution_count": null,
      "id": "e2bd9e3b",
      "metadata": {
        "id": "e2bd9e3b",
        "outputId": "e778b5e2-966b-4783-f8a3-8bccca944c49"
      },
      "outputs": [
        {
          "name": "stdout",
          "output_type": "stream",
          "text": [
            "Epoch 1/10\n",
            "549/549 [==============================] - 114s 195ms/step - loss: 2.7718 - val_loss: 2.4819\n",
            "Epoch 2/10\n",
            "549/549 [==============================] - 113s 205ms/step - loss: 2.3690 - val_loss: 2.3081\n",
            "Epoch 3/10\n",
            "549/549 [==============================] - 113s 206ms/step - loss: 2.2295 - val_loss: 2.2139\n",
            "Epoch 4/10\n",
            "549/549 [==============================] - 113s 205ms/step - loss: 2.1295 - val_loss: 2.1487\n",
            "Epoch 5/10\n",
            "549/549 [==============================] - 114s 206ms/step - loss: 2.0445 - val_loss: 2.0959\n",
            "Epoch 6/10\n",
            "549/549 [==============================] - 113s 206ms/step - loss: 1.9664 - val_loss: 2.0502\n",
            "Epoch 7/10\n",
            "549/549 [==============================] - 113s 206ms/step - loss: 1.8918 - val_loss: 2.0111\n",
            "Epoch 8/10\n",
            "549/549 [==============================] - 114s 207ms/step - loss: 1.8213 - val_loss: 1.9780\n",
            "Epoch 9/10\n",
            "549/549 [==============================] - 114s 207ms/step - loss: 1.7532 - val_loss: 1.9495\n",
            "Epoch 10/10\n",
            "549/549 [==============================] - 114s 207ms/step - loss: 1.6863 - val_loss: 1.9252\n"
          ]
        }
      ],
      "source": [
        "# overfit으로 다시 학습 epoch 3\n",
        "\n",
        "optimizer = tf.keras.optimizers.Adam() # Adam은 현재 가장 많이 사용하는 옵티마이저이다. 자세한 내용은 차차 배운다.\n",
        "loss = tf.keras.losses.SparseCategoricalCrossentropy( # 훈련 데이터의 라벨이 정수의 형태로 제공될 때 사용하는 손실함수이다.\n",
        "    from_logits=True, # 기본값은 False이다. 모델에 의해 생성된 출력 값이 정규화되지 않았음을 손실 함수에 알려준다. 즉 softmax함수가 적용되지 않았다는걸 의미한다. \n",
        "    reduction='none'  # 기본값은 SUM이다. 각자 나오는 값의 반환 원할 때 None을 사용한다.\n",
        ")\n",
        "# 모델을 학습시키키 위한 학습과정을 설정하는 단계이다.\n",
        "model.compile(loss=loss, optimizer=optimizer) # 손실함수와 훈련과정을 설정했다.\n",
        "history2 = model.fit(dataset, \n",
        "          epochs=10,\n",
        "          validation_data = val_dataset) # 만들어둔 데이터셋으로 모델을 학습한다. 3번 학습을 반복하겠다는 의미다."
      ]
    },
    {
      "cell_type": "code",
      "execution_count": null,
      "id": "19723788",
      "metadata": {
        "id": "19723788",
        "outputId": "e3d56fb2-9ffa-4e1f-e005-7f8cb4505a18"
      },
      "outputs": [
        {
          "data": {
            "image/png": "[encoded data removed]",
            "text/plain": [
              "<Figure size 432x288 with 1 Axes>"
            ]
          },
          "metadata": {
            "needs_background": "light"
          },
          "output_type": "display_data"
        }
      ],
      "source": [
        "# graph\n",
        "import matplotlib.pyplot as plt\n",
        "\n",
        "loss = history2.history['loss']\n",
        "val_loss = history2.history['val_loss']\n",
        "\n",
        "epochs_range = range(1, len(loss)+1)\n",
        "\n",
        "plt.plot(epochs_range, loss, 'bo', label='Training loss')\n",
        "plt.plot(epochs_range, val_loss, 'r', label='Validation loss')\n",
        "plt.xlabel('Epochs')\n",
        "plt.ylabel('Loss')\n",
        "plt.title('Training and validation loss')\n",
        "plt.legend()\n",
        "\n",
        "plt.show()"
      ]
    },
    {
      "cell_type": "markdown",
      "id": "297a7c1b",
      "metadata": {
        "id": "297a7c1b"
      },
      "source": [
        "### Use Callback"
      ]
    },
    {
      "cell_type": "code",
      "execution_count": null,
      "id": "1ea18124",
      "metadata": {
        "id": "1ea18124",
        "outputId": "095c3d88-88f2-420e-bb23-2cdecc42c8f6"
      },
      "outputs": [
        {
          "name": "stdout",
          "output_type": "stream",
          "text": [
            "Epoch 1/10\n",
            "549/549 [==============================] - 128s 223ms/step - loss: 2.7668 - val_loss: 2.4608\n"
          ]
        },
        {
          "name": "stderr",
          "output_type": "stream",
          "text": [
            "WARNING:absl:Found untraced functions such as lstm_cell_4_layer_call_fn, lstm_cell_4_layer_call_and_return_conditional_losses, lstm_cell_5_layer_call_fn, lstm_cell_5_layer_call_and_return_conditional_losses, lstm_cell_4_layer_call_fn while saving (showing 5 of 10). These functions will not be directly callable after loading.\n"
          ]
        },
        {
          "name": "stdout",
          "output_type": "stream",
          "text": [
            "INFO:tensorflow:Assets written to: lyrics_model5/assets\n"
          ]
        },
        {
          "name": "stderr",
          "output_type": "stream",
          "text": [
            "INFO:tensorflow:Assets written to: lyrics_model5/assets\n"
          ]
        },
        {
          "name": "stdout",
          "output_type": "stream",
          "text": [
            "Epoch 2/10\n",
            "549/549 [==============================] - 123s 223ms/step - loss: 2.3476 - val_loss: 2.2836\n"
          ]
        },
        {
          "name": "stderr",
          "output_type": "stream",
          "text": [
            "WARNING:absl:Found untraced functions such as lstm_cell_4_layer_call_fn, lstm_cell_4_layer_call_and_return_conditional_losses, lstm_cell_5_layer_call_fn, lstm_cell_5_layer_call_and_return_conditional_losses, lstm_cell_4_layer_call_fn while saving (showing 5 of 10). These functions will not be directly callable after loading.\n"
          ]
        },
        {
          "name": "stdout",
          "output_type": "stream",
          "text": [
            "INFO:tensorflow:Assets written to: lyrics_model5/assets\n"
          ]
        },
        {
          "name": "stderr",
          "output_type": "stream",
          "text": [
            "INFO:tensorflow:Assets written to: lyrics_model5/assets\n"
          ]
        },
        {
          "name": "stdout",
          "output_type": "stream",
          "text": [
            "Epoch 3/10\n",
            "549/549 [==============================] - 123s 224ms/step - loss: 2.1953 - val_loss: 2.1806\n"
          ]
        },
        {
          "name": "stderr",
          "output_type": "stream",
          "text": [
            "WARNING:absl:Found untraced functions such as lstm_cell_4_layer_call_fn, lstm_cell_4_layer_call_and_return_conditional_losses, lstm_cell_5_layer_call_fn, lstm_cell_5_layer_call_and_return_conditional_losses, lstm_cell_4_layer_call_fn while saving (showing 5 of 10). These functions will not be directly callable after loading.\n"
          ]
        },
        {
          "name": "stdout",
          "output_type": "stream",
          "text": [
            "INFO:tensorflow:Assets written to: lyrics_model5/assets\n"
          ]
        },
        {
          "name": "stderr",
          "output_type": "stream",
          "text": [
            "INFO:tensorflow:Assets written to: lyrics_model5/assets\n"
          ]
        },
        {
          "name": "stdout",
          "output_type": "stream",
          "text": [
            "Epoch 4/10\n",
            "549/549 [==============================] - 123s 224ms/step - loss: 2.0793 - val_loss: 2.1055\n"
          ]
        },
        {
          "name": "stderr",
          "output_type": "stream",
          "text": [
            "WARNING:absl:Found untraced functions such as lstm_cell_4_layer_call_fn, lstm_cell_4_layer_call_and_return_conditional_losses, lstm_cell_5_layer_call_fn, lstm_cell_5_layer_call_and_return_conditional_losses, lstm_cell_4_layer_call_fn while saving (showing 5 of 10). These functions will not be directly callable after loading.\n"
          ]
        },
        {
          "name": "stdout",
          "output_type": "stream",
          "text": [
            "INFO:tensorflow:Assets written to: lyrics_model5/assets\n"
          ]
        },
        {
          "name": "stderr",
          "output_type": "stream",
          "text": [
            "INFO:tensorflow:Assets written to: lyrics_model5/assets\n"
          ]
        },
        {
          "name": "stdout",
          "output_type": "stream",
          "text": [
            "Epoch 5/10\n",
            "549/549 [==============================] - 123s 224ms/step - loss: 1.9770 - val_loss: 2.0431\n"
          ]
        },
        {
          "name": "stderr",
          "output_type": "stream",
          "text": [
            "WARNING:absl:Found untraced functions such as lstm_cell_4_layer_call_fn, lstm_cell_4_layer_call_and_return_conditional_losses, lstm_cell_5_layer_call_fn, lstm_cell_5_layer_call_and_return_conditional_losses, lstm_cell_4_layer_call_fn while saving (showing 5 of 10). These functions will not be directly callable after loading.\n"
          ]
        },
        {
          "name": "stdout",
          "output_type": "stream",
          "text": [
            "INFO:tensorflow:Assets written to: lyrics_model5/assets\n"
          ]
        },
        {
          "name": "stderr",
          "output_type": "stream",
          "text": [
            "INFO:tensorflow:Assets written to: lyrics_model5/assets\n"
          ]
        },
        {
          "name": "stdout",
          "output_type": "stream",
          "text": [
            "Epoch 6/10\n",
            "549/549 [==============================] - 123s 224ms/step - loss: 1.8825 - val_loss: 1.9941\n"
          ]
        },
        {
          "name": "stderr",
          "output_type": "stream",
          "text": [
            "WARNING:absl:Found untraced functions such as lstm_cell_4_layer_call_fn, lstm_cell_4_layer_call_and_return_conditional_losses, lstm_cell_5_layer_call_fn, lstm_cell_5_layer_call_and_return_conditional_losses, lstm_cell_4_layer_call_fn while saving (showing 5 of 10). These functions will not be directly callable after loading.\n"
          ]
        },
        {
          "name": "stdout",
          "output_type": "stream",
          "text": [
            "INFO:tensorflow:Assets written to: lyrics_model5/assets\n"
          ]
        },
        {
          "name": "stderr",
          "output_type": "stream",
          "text": [
            "INFO:tensorflow:Assets written to: lyrics_model5/assets\n"
          ]
        },
        {
          "name": "stdout",
          "output_type": "stream",
          "text": [
            "Epoch 7/10\n",
            "549/549 [==============================] - 123s 224ms/step - loss: 1.7930 - val_loss: 1.9524\n"
          ]
        },
        {
          "name": "stderr",
          "output_type": "stream",
          "text": [
            "WARNING:absl:Found untraced functions such as lstm_cell_4_layer_call_fn, lstm_cell_4_layer_call_and_return_conditional_losses, lstm_cell_5_layer_call_fn, lstm_cell_5_layer_call_and_return_conditional_losses, lstm_cell_4_layer_call_fn while saving (showing 5 of 10). These functions will not be directly callable after loading.\n"
          ]
        },
        {
          "name": "stdout",
          "output_type": "stream",
          "text": [
            "INFO:tensorflow:Assets written to: lyrics_model5/assets\n"
          ]
        },
        {
          "name": "stderr",
          "output_type": "stream",
          "text": [
            "INFO:tensorflow:Assets written to: lyrics_model5/assets\n"
          ]
        },
        {
          "name": "stdout",
          "output_type": "stream",
          "text": [
            "Epoch 8/10\n",
            "549/549 [==============================] - 123s 224ms/step - loss: 1.7059 - val_loss: 1.9200\n"
          ]
        },
        {
          "name": "stderr",
          "output_type": "stream",
          "text": [
            "WARNING:absl:Found untraced functions such as lstm_cell_4_layer_call_fn, lstm_cell_4_layer_call_and_return_conditional_losses, lstm_cell_5_layer_call_fn, lstm_cell_5_layer_call_and_return_conditional_losses, lstm_cell_4_layer_call_fn while saving (showing 5 of 10). These functions will not be directly callable after loading.\n"
          ]
        },
        {
          "name": "stdout",
          "output_type": "stream",
          "text": [
            "INFO:tensorflow:Assets written to: lyrics_model5/assets\n"
          ]
        },
        {
          "name": "stderr",
          "output_type": "stream",
          "text": [
            "INFO:tensorflow:Assets written to: lyrics_model5/assets\n"
          ]
        },
        {
          "name": "stdout",
          "output_type": "stream",
          "text": [
            "Epoch 9/10\n",
            "549/549 [==============================] - 123s 224ms/step - loss: 1.6211 - val_loss: 1.8891\n"
          ]
        },
        {
          "name": "stderr",
          "output_type": "stream",
          "text": [
            "WARNING:absl:Found untraced functions such as lstm_cell_4_layer_call_fn, lstm_cell_4_layer_call_and_return_conditional_losses, lstm_cell_5_layer_call_fn, lstm_cell_5_layer_call_and_return_conditional_losses, lstm_cell_4_layer_call_fn while saving (showing 5 of 10). These functions will not be directly callable after loading.\n"
          ]
        },
        {
          "name": "stdout",
          "output_type": "stream",
          "text": [
            "INFO:tensorflow:Assets written to: lyrics_model5/assets\n"
          ]
        },
        {
          "name": "stderr",
          "output_type": "stream",
          "text": [
            "INFO:tensorflow:Assets written to: lyrics_model5/assets\n"
          ]
        },
        {
          "name": "stdout",
          "output_type": "stream",
          "text": [
            "Epoch 10/10\n",
            "549/549 [==============================] - 123s 224ms/step - loss: 1.5373 - val_loss: 1.8645\n"
          ]
        },
        {
          "name": "stderr",
          "output_type": "stream",
          "text": [
            "WARNING:absl:Found untraced functions such as lstm_cell_4_layer_call_fn, lstm_cell_4_layer_call_and_return_conditional_losses, lstm_cell_5_layer_call_fn, lstm_cell_5_layer_call_and_return_conditional_losses, lstm_cell_4_layer_call_fn while saving (showing 5 of 10). These functions will not be directly callable after loading.\n"
          ]
        },
        {
          "name": "stdout",
          "output_type": "stream",
          "text": [
            "INFO:tensorflow:Assets written to: lyrics_model5/assets\n"
          ]
        },
        {
          "name": "stderr",
          "output_type": "stream",
          "text": [
            "INFO:tensorflow:Assets written to: lyrics_model5/assets\n"
          ]
        }
      ],
      "source": [
        "from tensorflow.keras import callbacks\n",
        "\n",
        "optimizer = tf.keras.optimizers.Adam() # Adam은 현재 가장 많이 사용하는 옵티마이저이다. 자세한 내용은 차차 배운다.\n",
        "loss = tf.keras.losses.SparseCategoricalCrossentropy( # 훈련 데이터의 라벨이 정수의 형태로 제공될 때 사용하는 손실함수이다.\n",
        "    from_logits=True, # 기본값은 False이다. 모델에 의해 생성된 출력 값이 정규화되지 않았음을 손실 함수에 알려준다. 즉 softmax함수가 적용되지 않았다는걸 의미한다. \n",
        "    reduction='none'  # 기본값은 SUM이다. 각자 나오는 값의 반환 원할 때 None을 사용한다.\n",
        ")\n",
        "# 모델을 학습시키키 위한 학습과정을 설정하는 단계이다.\n",
        "model.compile(loss=loss, optimizer=optimizer) # 손실함수와 훈련과정을 설정했다.\n",
        "\n",
        "check_point_cb = callbacks.ModelCheckpoint('lyrics_model5', \n",
        "                                           save_format='tf')\n",
        "early_stopping_cb = callbacks.EarlyStopping(patience=10, \n",
        "                                            monitor='val_loss',\n",
        "                                            restore_best_weights=True)\n",
        "history5 = model.fit(dataset, \n",
        "                    epochs=10,\n",
        "                    validation_data=val_dataset,\n",
        "                    callbacks=[check_point_cb, early_stopping_cb])"
      ]
    },
    {
      "cell_type": "code",
      "execution_count": null,
      "id": "7463583c",
      "metadata": {
        "id": "7463583c",
        "outputId": "f0fd7d2a-b68a-4ae1-c0d0-19ce75db811d"
      },
      "outputs": [
        {
          "data": {
            "image/png": "[encoded data removed]",
            "text/plain": [
              "<Figure size 432x288 with 1 Axes>"
            ]
          },
          "metadata": {
            "needs_background": "light"
          },
          "output_type": "display_data"
        }
      ],
      "source": [
        "# graph\n",
        "import matplotlib.pyplot as plt\n",
        "\n",
        "loss = history5.history['loss']\n",
        "val_loss = history5.history['val_loss']\n",
        "\n",
        "epochs_range = range(1, len(loss)+1)\n",
        "\n",
        "plt.plot(epochs_range, loss, 'bo', label='Training loss')\n",
        "plt.plot(epochs_range, val_loss, 'r', label='Validation loss')\n",
        "plt.xlabel('Epochs')\n",
        "plt.ylabel('Loss')\n",
        "plt.title('Training and validation loss')\n",
        "plt.legend()\n",
        "\n",
        "plt.show()"
      ]
    },
    {
      "cell_type": "markdown",
      "id": "dd74b512",
      "metadata": {
        "id": "dd74b512"
      },
      "source": [
        "# Save & Load a trained model"
      ]
    },
    {
      "cell_type": "code",
      "execution_count": null,
      "id": "697d25e5",
      "metadata": {
        "id": "697d25e5",
        "outputId": "ef0298ea-1f79-4aca-b185-2a76bf4dc8ca"
      },
      "outputs": [
        {
          "name": "stderr",
          "output_type": "stream",
          "text": [
            "WARNING:absl:Found untraced functions such as lstm_cell_4_layer_call_fn, lstm_cell_4_layer_call_and_return_conditional_losses, lstm_cell_5_layer_call_fn, lstm_cell_5_layer_call_and_return_conditional_losses, lstm_cell_4_layer_call_fn while saving (showing 5 of 10). These functions will not be directly callable after loading.\n"
          ]
        },
        {
          "name": "stdout",
          "output_type": "stream",
          "text": [
            "INFO:tensorflow:Assets written to: lyrics_model5/assets\n"
          ]
        },
        {
          "name": "stderr",
          "output_type": "stream",
          "text": [
            "INFO:tensorflow:Assets written to: lyrics_model5/assets\n"
          ]
        }
      ],
      "source": [
        "# save trained model\n",
        "from keras.models import load_model\n",
        "# model.save_weights('lyrics_model.h5')\n",
        "\n",
        "model.save('lyrics_model5',save_format='tf')"
      ]
    },
    {
      "cell_type": "code",
      "execution_count": null,
      "id": "ad86568c",
      "metadata": {
        "id": "ad86568c",
        "outputId": "985fbff7-14ae-47e3-8411-b2a1938566f0"
      },
      "outputs": [
        {
          "data": {
            "text/plain": [
              "<tensorflow.python.training.tracking.util.CheckpointLoadStatus at 0x7f4d2d3b9ee0>"
            ]
          },
          "execution_count": 45,
          "metadata": {},
          "output_type": "execute_result"
        }
      ],
      "source": [
        "# load saved model\n",
        "# 이 프로젝트의 모델을 자유도가 높은 sub_classing model이기 때문에 structure가 저장되지 않음.\n",
        "# load model할 때 structure를 먼저 부르고 weights를 load하면 됨.\n",
        "# https://www.tensorflow.org/api_docs/python/tf/keras/Model#load_weights\n",
        "# https://wikidocs.net/106897\n",
        "\n",
        "class TextGenerator(tf.keras.Model):\n",
        "    def __init__(self, vocab_size, embedding_size, hidden_size):\n",
        "        super().__init__()\n",
        "        # Embedding 레이어, 2개의 LSTM 레이어, 1개의 Dense 레이어로 구성되어 있다.\n",
        "        # Embedding 레이어는 단어 사전의 인덱스 값을 해당 인덱스 번째의 워드 벡터로 바꿔준다.\n",
        "        # 이 워드 벡터는 의미 벡터 공간에서 단어의 추상적 표현으로 사용된다. \n",
        "        self.embedding = tf.keras.layers.Embedding(vocab_size, embedding_size) \n",
        "        self.rnn_1 = tf.keras.layers.LSTM(hidden_size, return_sequences=True)  \n",
        "        self.rnn_2 = tf.keras.layers.LSTM(hidden_size, return_sequences=True)\n",
        "        self.linear = tf.keras.layers.Dense(vocab_size)\n",
        "        \n",
        "    def call(self, x):\n",
        "        out = self.embedding(x)\n",
        "        out = self.rnn_1(out)\n",
        "        out = self.rnn_2(out)\n",
        "        out = self.linear(out)\n",
        "        \n",
        "        return out\n",
        "    \n",
        "model5 = TextGenerator(tokenizer.num_words + 1, embedding_size , hidden_size)\n",
        "\n",
        "import keras\n",
        "from keras.models import load_model\n",
        "\n",
        "model5.load_weights(filepath='lyrics_model5')"
      ]
    },
    {
      "cell_type": "markdown",
      "id": "49df30cf",
      "metadata": {
        "id": "49df30cf"
      },
      "source": [
        "# Generate text"
      ]
    },
    {
      "cell_type": "code",
      "execution_count": null,
      "id": "1f2c9bf9",
      "metadata": {
        "id": "1f2c9bf9"
      },
      "outputs": [],
      "source": [
        "#문장생성 함수 정의\n",
        "#모델에게 시작 문장을 전달하면 모델이 시작 문장을 바탕으로 작문을 진행\n",
        "def generate_text(model, tokenizer, init_sentence=\"<start>\", max_len=15): #시작 문자열을 init_sentence 로 받으며 디폴트값은 <start> 를 받는다\n",
        "    # 테스트를 위해서 입력받은 init_sentence도 텐서로 변환합니다\n",
        "    test_input = tokenizer.texts_to_sequences([init_sentence]) #텍스트 안의 단어들을 숫자의 시퀀스의 형태로 변환\n",
        "    test_tensor = tf.convert_to_tensor(test_input, dtype=tf.int64)\n",
        "    end_token = tokenizer.word_index[\"<end>\"]\n",
        "\n",
        "    # 단어 하나씩 예측해 문장을 만듭니다\n",
        "    #    1. 입력받은 문장의 텐서를 입력합니다\n",
        "    #    2. 예측된 값 중 가장 높은 확률인 word index를 뽑아냅니다\n",
        "    #    3. 2에서 예측된 word index를 문장 뒤에 붙입니다\n",
        "    #    4. 모델이 <end>를 예측했거나, max_len에 도달했다면 문장 생성을 마칩니다 (도달 하지 못하였으면 while 루프를 돌면서 다음 단어를 예측)\n",
        "    while True: #루프를 돌면서 init_sentence에 단어를 하나씩 생성성\n",
        "        # 1\n",
        "        predict = model(test_tensor) \n",
        "        # 2\n",
        "        predict_word = tf.argmax(tf.nn.softmax(predict, axis=-1), axis=-1)[:, -1] \n",
        "        # 3 \n",
        "        test_tensor = tf.concat([test_tensor, tf.expand_dims(predict_word, axis=0)], axis=-1)\n",
        "        # 4 \n",
        "        if predict_word.numpy()[0] == end_token: break\n",
        "        if test_tensor.shape[1] >= max_len: break\n",
        "\n",
        "    generated = \"\"\n",
        "    # tokenizer를 이용해 word index를 단어로 하나씩 변환합니다 \n",
        "    for word_index in test_tensor[0].numpy():\n",
        "        generated += tokenizer.index_word[word_index] + \" \"\n",
        "\n",
        "    return generated #최종적으로 모델이 생성한 문장을 반환"
      ]
    },
    {
      "cell_type": "code",
      "execution_count": null,
      "id": "507af230",
      "metadata": {
        "id": "507af230",
        "outputId": "23ce369d-dd78-4fc0-ebf1-c3d82681d249"
      },
      "outputs": [
        {
          "data": {
            "text/plain": [
              "'<start> i love you , liberian girl <end> '"
            ]
          },
          "execution_count": 42,
          "metadata": {},
          "output_type": "execute_result"
        }
      ],
      "source": [
        "generate_text(model, tokenizer, init_sentence=\"<start> i love\") #I love를 시작으로 하는 문장... "
      ]
    },
    {
      "cell_type": "code",
      "execution_count": null,
      "id": "10107290",
      "metadata": {
        "id": "10107290",
        "outputId": "591a76a2-59b5-4ee9-d508-40445fa45d52"
      },
      "outputs": [
        {
          "data": {
            "text/plain": [
              "'<start> i m gonna make it alright <end> '"
            ]
          },
          "execution_count": 43,
          "metadata": {},
          "output_type": "execute_result"
        }
      ],
      "source": [
        "generate_text(model, tokenizer, init_sentence=\"<start> i\") # I로 시작하는 문장. 슬프네.."
      ]
    },
    {
      "cell_type": "code",
      "execution_count": null,
      "id": "e695b6ae",
      "metadata": {
        "id": "e695b6ae",
        "outputId": "bee12e3f-6a20-4e11-e68f-d758976bf77c"
      },
      "outputs": [
        {
          "data": {
            "text/plain": [
              "'<start> i love you , i m not gonna crack <end> '"
            ]
          },
          "execution_count": 34,
          "metadata": {},
          "output_type": "execute_result"
        }
      ],
      "source": [
        "generate_text(model1, tokenizer, init_sentence=\"<start> i love\") # 저장했던 모델을 불러와서 문장 생성 저장 전 원래 모델과 같은 결과"
      ]
    },
    {
      "cell_type": "code",
      "execution_count": null,
      "id": "2ad6677f",
      "metadata": {
        "id": "2ad6677f",
        "outputId": "1d5d6c15-a4bb-424b-d197-7175f643e403"
      },
      "outputs": [
        {
          "data": {
            "text/plain": [
              "'<start> i m the one gon hold you down yeah , yeah <end> '"
            ]
          },
          "execution_count": 35,
          "metadata": {},
          "output_type": "execute_result"
        }
      ],
      "source": [
        "generate_text(model1, tokenizer, init_sentence=\"<start> i\") # 저장했던 모델을 불러와서 문장 생성"
      ]
    },
    {
      "cell_type": "code",
      "execution_count": null,
      "id": "1cb308ff",
      "metadata": {
        "id": "1cb308ff",
        "outputId": "cb24729c-6cb9-42fb-b026-96586072ea6a"
      },
      "outputs": [
        {
          "data": {
            "text/plain": [
              "'<start> i love you , liberian girl <end> '"
            ]
          },
          "execution_count": 46,
          "metadata": {},
          "output_type": "execute_result"
        }
      ],
      "source": [
        "generate_text(model5, tokenizer, init_sentence=\"<start> i love\")"
      ]
    },
    {
      "cell_type": "code",
      "execution_count": null,
      "id": "acb20f91",
      "metadata": {
        "id": "acb20f91",
        "outputId": "03c58399-4100-40dd-83be-b5e6e215e7b2"
      },
      "outputs": [
        {
          "data": {
            "text/plain": [
              "'<start> i m gonna make it alright <end> '"
            ]
          },
          "execution_count": 47,
          "metadata": {},
          "output_type": "execute_result"
        }
      ],
      "source": [
        "generate_text(model5, tokenizer, init_sentence=\"<start> i\") "
      ]
    },
    {
      "cell_type": "markdown",
      "id": "485a302b",
      "metadata": {
        "id": "485a302b"
      },
      "source": [
        "# Review\n",
        "- Embedding Size와 Hidden Size를 바꾸어 가며 학습함.\n",
        "- embedding_size = 512, hidden_size = 2048에서 loss 2.2 이하의 결과를 얻을 수 있었음. => 학습속도가 느려(613ms/step)\n",
        "- 속도가 느리고 training과 validation의 loss가 점점 벌어져 overfit의 조짐이 보여 모델을 좀 더 심플하게 할 필요가 있겠음.\n",
        "- embedding_size = 512, hidden_size = 1024로 다시 학습함. 224ms/step로 속도는 2배 이상 빨라짐 epochs = 10일 때 1.8645로 앞선 모델보다 성능이 더 좋음. \n",
        "- callback을 사용하였으나 epochs 설정을 10으로 하여 중간에 멈추지는 않았음. \n",
        "- model을 저장하여 코드 파일을 열 때마다 저장할 필요없게 하는데 사용한 모델이 자유도가 높은 sub_classing model이기 때문에 structure가 저장되지 않고 weights만 저장됨.\n",
        "- load model시에 structure를 먼저 부르고 load weights => 정상적으로 저장된 모델을 불러올 수 있었음.\n",
        "- 저장 전의 모델과 저장한 뒤 불러온 모델의 생성 문장은 같았음.\n",
        "    - I love 로 시작하는 생성 문장은 i love you , liberian girl\n",
        "    - I 로 시작하는 생성 문장은 i m gonna make it alright\n"
      ]
    },
    {
      "cell_type": "code",
      "execution_count": null,
      "id": "1fe54d0b",
      "metadata": {
        "id": "1fe54d0b"
      },
      "outputs": [],
      "source": []
    }
  ],
  "metadata": {
    "kernelspec": {
      "display_name": "Python 3 (ipykernel)",
      "language": "python",
      "name": "python3"
    },
    "language_info": {
      "codemirror_mode": {
        "name": "ipython",
        "version": 3
      },
      "file_extension": ".py",
      "mimetype": "text/x-python",
      "name": "python",
      "nbconvert_exporter": "python",
      "pygments_lexer": "ipython3",
      "version": "3.9.7"
    },
    "colab": {
      "provenance": [],
      "include_colab_link": true
    }
  },
  "nbformat": 4,
  "nbformat_minor": 5
}