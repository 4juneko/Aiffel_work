{
  "cells": [
    {
      "cell_type": "markdown",
      "metadata": {
        "id": "view-in-github",
        "colab_type": "text"
      },
      "source": [
        "<a href=\"https://colab.research.google.com/github/4juneko/Aiffel_work/blob/master/16_makeLyrics_50292023.ipynb\" target=\"_parent\"><img src=\"https://colab.research.google.com/assets/colab-badge.svg\" alt=\"Open In Colab\"/></a>"
      ]
    },
    {
      "cell_type": "markdown",
      "id": "090e17f9",
      "metadata": {
        "id": "090e17f9"
      },
      "source": [
        "# Rubric\n",
        "|평가문항\t|상세기준|내 평가|\n",
        "|--|--|--|\n",
        "|1. 데이터의 전처리 및 구성과정이 체계적으로 진행되었는가?\t|특수문자 제거, 토크나이저 생성, 패딩 처리의 작업들이 빠짐없이 진행되었는가?|O|\n",
        "|2. 가사 텍스트 생성 모델이 정상적으로 동작하는가?\t|텍스트 제너레이션 결과로 생성된 문장이 해석 가능한 문장인가?|O|\n",
        "|3. 텍스트 생성모델이 안정적으로 학습되었는가?\t|텍스트 생성모델의 validation loss가 2.2 이하로 낮아졌는가?|O|"
      ]
    },
    {
      "cell_type": "code",
      "execution_count": null,
      "id": "04a6f95e",
      "metadata": {
        "id": "04a6f95e",
        "outputId": "143e867a-a1d7-4d1e-858f-1dc7b3fbbeb1"
      },
      "outputs": [
        {
          "name": "stdout",
          "output_type": "stream",
          "text": [
            "2.6.0\n"
          ]
        }
      ],
      "source": [
        "import glob  #glob 모듈의 glob 함수는 사용자가 제시한 조건에 맞는 파일명을 리스트 형식으로 반환한다\n",
        "import tensorflow\n",
        "import os, re \n",
        "import tensorflow as tf\n",
        "\n",
        "print(tensorflow.__version__)"
      ]
    },
    {
      "cell_type": "markdown",
      "id": "eea87fff",
      "metadata": {
        "id": "eea87fff"
      },
      "source": [
        "# Download Data\n",
        "~/aiffel/lyricist/data/lyrics"
      ]
    },
    {
      "cell_type": "markdown",
      "id": "0dc66738",
      "metadata": {
        "id": "0dc66738"
      },
      "source": [
        "# Open Data"
      ]
    },
    {
      "cell_type": "code",
      "execution_count": null,
      "id": "cb98d9ec",
      "metadata": {
        "id": "cb98d9ec",
        "outputId": "d543150d-864c-4151-dd1a-6918872ac898"
      },
      "outputs": [
        {
          "name": "stdout",
          "output_type": "stream",
          "text": [
            "데이터 크기: 187088\n",
            "Examples:\n",
            " ['', '', '[Spoken Intro:]']\n"
          ]
        }
      ],
      "source": [
        "import glob\n",
        "import os\n",
        "\n",
        "txt_file_path = os.getenv('HOME')+'/aiffel/lyricist/data/lyrics/*' #os.getenv(x)함수는 환경 변수x의 값을 포함하는 문자열 변수를 반환합니다. txt_file_path 에 \"/root/aiffel/lyricist/data/lyrics/*\" 저장\n",
        "\n",
        "txt_list = glob.glob(txt_file_path) #txt_file_path 경로에 있는 모든 파일명을 리스트 형식으로 txt_list 에 할당\n",
        "\n",
        "raw_corpus = [] \n",
        "\n",
        "# 여러개의 txt 파일을 모두 읽어서 raw_corpus 에 담습니다.\n",
        "for txt_file in txt_list:\n",
        "    with open(txt_file, \"r\") as f:\n",
        "        raw = f.read().splitlines() #read() : 파일 전체의 내용을 하나의 문자열로 읽어온다. , splitlines()  : 여러라인으로 구분되어 있는 문자열을 한라인씩 분리하여 리스트로 반환\n",
        "        raw_corpus.extend(raw) # extend() : 리스트함수로 추가적인 내용을 연장 한다.\n",
        "\n",
        "print(\"데이터 크기:\", len(raw_corpus))\n",
        "print(\"Examples:\\n\", raw_corpus[:3])"
      ]
    },
    {
      "cell_type": "markdown",
      "id": "3d48e70e",
      "metadata": {
        "id": "3d48e70e"
      },
      "source": [
        "# Preprocess Data"
      ]
    },
    {
      "cell_type": "code",
      "execution_count": null,
      "id": "feffe25b",
      "metadata": {
        "id": "feffe25b",
        "outputId": "cc56c210-ff4b-414a-a60e-92d1eaad0946"
      },
      "outputs": [
        {
          "name": "stdout",
          "output_type": "stream",
          "text": [
            "[Spoken Intro:]\n",
            "You ever want something \n",
            "that you know you shouldn't have \n",
            "The more you know you shouldn't have it, \n",
            "The more you want it \n",
            "And then one day you get it, \n",
            "It's so good too \n",
            "But it's just like my girl \n"
          ]
        }
      ],
      "source": [
        "for idx, sentence in enumerate(raw_corpus):\n",
        "    if len(sentence) == 0: continue   # 길이가 0인 문장은 건너뜁니다.\n",
        "    if sentence[-1] == \":\": continue  # 문장의 끝이 : 인 문장은 건너뜁니다.\n",
        "\n",
        "    if idx > 9: break   # 일단 문장 10개만 확인해 볼 겁니다.\n",
        "        \n",
        "    print(sentence)"
      ]
    },
    {
      "cell_type": "code",
      "execution_count": null,
      "id": "a0968d3e",
      "metadata": {
        "id": "a0968d3e",
        "outputId": "0f21bec4-1a64-4b4e-8a98-17aa0479b5cc"
      },
      "outputs": [
        {
          "name": "stdout",
          "output_type": "stream",
          "text": [
            "<start> this is sample sentence . <end>\n"
          ]
        }
      ],
      "source": [
        "def preprocess_sentence(sentence):\n",
        "    sentence = sentence.lower().strip() # 1. 소문자로, 공백 없애기\n",
        "    sentence = re.sub(r\"([?.!,¿])\", r\" \\1 \", sentence) # 2. 특수문자 양쪽에 공백\n",
        "    sentence = re.sub(r'[\" \"]+', \" \", sentence) # 3. 여러개 공백은 공백 하나로\n",
        "    sentence = re.sub(r\"[^a-zA-Z?.!,¿]+\", \" \", sentence) # 4. ^a-zA-Z?.!,¿을 제외하고 공백으로\n",
        "    sentence = sentence.strip() # 5. 양쪽 공백 지우기. 1번에서도 공백 없애기 했는데 두번째이네\n",
        "    sentence = '<start> ' + sentence + ' <end>' # 6. 처음에는 start, 끝에는 end 넣기\n",
        "    return sentence\n",
        "\n",
        "# 이 문장이 어떻게 필터링되는지 확인해 보세요.\n",
        "print(preprocess_sentence(\"This @_is ;;;sample        sentence.\"))"
      ]
    },
    {
      "cell_type": "code",
      "execution_count": null,
      "id": "66bcc5aa",
      "metadata": {
        "id": "66bcc5aa",
        "outputId": "6abe1adf-0b01-4ed0-ae58-5222072e9a01"
      },
      "outputs": [
        {
          "data": {
            "text/plain": [
              "['<start> spoken intro <end>',\n",
              " '<start> you ever want something <end>',\n",
              " '<start> that you know you shouldn t have <end>',\n",
              " '<start> the more you know you shouldn t have it , <end>',\n",
              " '<start> the more you want it <end>',\n",
              " '<start> and then one day you get it , <end>',\n",
              " '<start> it s so good too <end>',\n",
              " '<start> but it s just like my girl <end>',\n",
              " '<start> when she s around me <end>',\n",
              " '<start> i just feel so good , so good <end>']"
            ]
          },
          "execution_count": 5,
          "metadata": {},
          "output_type": "execute_result"
        }
      ],
      "source": [
        "# 여기에 정제된 문장을 모을겁니다\n",
        "corpus = []\n",
        "\n",
        "# raw_corpus list에 저장된 문장들을 순서대로 반환하여 sentence에 저장\n",
        "for sentence in raw_corpus:\n",
        "    # 우리가 원하지 않는 문장은 건너뜁니다\n",
        "    if len(sentence) == 0: continue\n",
        "    if sentence[-1] == \":\": continue\n",
        "    \n",
        "    # 앞서 구현한 preprocess_sentence() 함수를 이용하여 문장을 정제를 하고 담아주세요\n",
        "    preprocessed_sentence = preprocess_sentence(sentence)\n",
        "    corpus.append(preprocessed_sentence)\n",
        "        \n",
        "# 정제된 결과를 10개만 확인해보죠\n",
        "corpus[:10]"
      ]
    },
    {
      "cell_type": "code",
      "execution_count": null,
      "id": "6d26e6ee",
      "metadata": {
        "id": "6d26e6ee",
        "outputId": "e74a8239-71b2-42b5-b5ce-d5673957d289"
      },
      "outputs": [
        {
          "name": "stdout",
          "output_type": "stream",
          "text": [
            "[[   2 2701 2584 ...    0    0    0]\n",
            " [   2    7  156 ...    0    0    0]\n",
            " [   2   17    7 ...    0    0    0]\n",
            " ...\n",
            " [   2  311    1 ...    0    0    0]\n",
            " [   2  735    5 ...    0    0    0]\n",
            " [   2  735    5 ...    0    0    0]] <keras_preprocessing.text.Tokenizer object at 0x7f727961f1c0>\n"
          ]
        }
      ],
      "source": [
        "# 토큰화 문자를 숫자로...\n",
        "\n",
        "# 토큰화 할 때 텐서플로우의 Tokenizer와 pad_sequences를 사용합니다\n",
        "# 더 잘 알기 위해 아래 문서들을 참고하면 좋습니다\n",
        "# https://www.tensorflow.org/api_docs/python/tf/keras/preprocessing/text/Tokenizer\n",
        "# https://www.tensorflow.org/api_docs/python/tf/keras/preprocessing/sequence/pad_sequences\n",
        "\n",
        "def tokenize(corpus):\n",
        "    # 7000단어를 기억할 수 있는 tokenizer를 만들겁니다\n",
        "    # 우리는 이미 문장을 정제했으니 filters가 필요없어요\n",
        "    # 7000단어에 포함되지 못한 단어는 '<unk>'로 바꿀거에요\n",
        "    tokenizer = tf.keras.preprocessing.text.Tokenizer(\n",
        "        num_words=7000, \n",
        "        filters=' ',\n",
        "        oov_token=\"<unk>\" # out-of-vocabulary, 사전에 없는 단어\n",
        "    )\n",
        "    # corpus를 이용해 tokenizer 내부의 단어장을 완성합니다\n",
        "    # tokenizer.fit_on_texts(texts): 문자 데이터를 입력받아 리스트의 형태로 변환하는 메서드\n",
        "    tokenizer.fit_on_texts(corpus)\n",
        "    # 준비한 tokenizer를 이용해 corpus를 Tensor로 변환합니다\n",
        "    # tokenizer.texts_to_sequences(texts): 텍스트 안의 단어들을 숫자의 시퀀스 형태로 변환하는 메서드\n",
        "    tensor = tokenizer.texts_to_sequences(corpus)   \n",
        "    # 입력 데이터의 시퀀스 길이를 일정하게 맞춰줍니다\n",
        "    # 만약 시퀀스가 짧다면 문장 뒤에 패딩을 붙여 길이를 맞춰줍니다.\n",
        "    # 문장 앞에 패딩을 붙여 길이를 맞추고 싶다면 padding='pre'를 사용합니다\n",
        "    tensor = tf.keras.preprocessing.sequence.pad_sequences(tensor, padding='post',maxlen=20)  #  토큰의 갯수 20개를 넘어가지 않게\n",
        "    \n",
        "    print(tensor,tokenizer)\n",
        "    return tensor, tokenizer\n",
        "\n",
        "tensor, tokenizer = tokenize(corpus)"
      ]
    },
    {
      "cell_type": "code",
      "execution_count": null,
      "id": "3d1f0234",
      "metadata": {
        "id": "3d1f0234",
        "outputId": "b56f1f7a-a80e-426a-b9df-8967af6f5fed"
      },
      "outputs": [
        {
          "name": "stdout",
          "output_type": "stream",
          "text": [
            "1 : <unk>\n",
            "2 : <start>\n",
            "3 : <end>\n",
            "4 : ,\n",
            "5 : i\n",
            "6 : the\n",
            "7 : you\n",
            "8 : and\n",
            "9 : a\n",
            "10 : to\n"
          ]
        }
      ],
      "source": [
        "# tokenizer.index_word: 현재 계산된 단어의 인덱스와 인덱스에 해당하는 단어를 dictionary 형대로 반환 (Ex. {index: '~~', index: '~~', ...})\n",
        "for idx in tokenizer.index_word:\n",
        "    print(idx, \":\", tokenizer.index_word[idx])\n",
        "\n",
        "    if idx >= 10: break"
      ]
    },
    {
      "cell_type": "code",
      "execution_count": null,
      "id": "62060ecb",
      "metadata": {
        "id": "62060ecb",
        "outputId": "8e04c0fd-5525-4538-8e9a-6f1de3c3fe10"
      },
      "outputs": [
        {
          "name": "stdout",
          "output_type": "stream",
          "text": [
            "[   2 2701 2584    3    0    0    0    0    0    0    0    0    0    0\n",
            "    0    0    0    0    0]\n",
            "[2701 2584    3    0    0    0    0    0    0    0    0    0    0    0\n",
            "    0    0    0    0    0]\n"
          ]
        }
      ],
      "source": [
        "# tensor에서 마지막 토큰을 잘라내서 소스 문장을 생성합니다\n",
        "# 마지막 토큰은 <end>가 아니라 <pad>일 가능성이 높습니다.\n",
        "src_input = tensor[:, :-1]  \n",
        "# tensor에서 <start>를 잘라내서 타겟 문장을 생성합니다.\n",
        "tgt_input = tensor[:, 1:]    \n",
        "\n",
        "print(src_input[0])\n",
        "print(tgt_input[0])"
      ]
    },
    {
      "cell_type": "markdown",
      "id": "c7cf9e2c",
      "metadata": {
        "id": "c7cf9e2c"
      },
      "source": [
        "# Split Data\n",
        "- 단어장의 크기는 12,000 이상 으로 설정하세요!  \n",
        "- 총 데이터의 20% 를 평가 데이터셋으로 사용해 주세요!"
      ]
    },
    {
      "cell_type": "code",
      "execution_count": null,
      "id": "f138b525",
      "metadata": {
        "id": "f138b525"
      },
      "outputs": [],
      "source": [
        "from sklearn.model_selection import train_test_split\n",
        "\n",
        "enc_train, enc_val, dec_train, dec_val = train_test_split(src_input, \n",
        "                                                    tgt_input, \n",
        "                                                    test_size=0.2, \n",
        "                                                    shuffle=True, \n",
        "                                                    random_state=1004)"
      ]
    },
    {
      "cell_type": "code",
      "execution_count": null,
      "id": "7ebbb06a",
      "metadata": {
        "id": "7ebbb06a",
        "outputId": "12602500-66c0-4278-ed4e-75b200f522d7"
      },
      "outputs": [
        {
          "name": "stdout",
          "output_type": "stream",
          "text": [
            "(140599, 19) (35150, 19)\n"
          ]
        }
      ],
      "source": [
        "print(enc_train.shape, enc_val.shape)"
      ]
    },
    {
      "cell_type": "code",
      "execution_count": null,
      "id": "10a853df",
      "metadata": {
        "id": "10a853df",
        "outputId": "5bab15ec-f87e-4a1f-e870-f6b0674f15d7"
      },
      "outputs": [
        {
          "data": {
            "text/plain": [
              "<BatchDataset shapes: ((256, 19), (256, 19)), types: (tf.int32, tf.int32)>"
            ]
          },
          "execution_count": 11,
          "metadata": {},
          "output_type": "execute_result"
        }
      ],
      "source": [
        "BUFFER_SIZE = len(enc_train)\n",
        "BATCH_SIZE = 256\n",
        "steps_per_epoch = len(enc_train) // BATCH_SIZE\n",
        "\n",
        " # tokenizer가 구축한 단어사전 내 7000개와, 여기 포함되지 않은 0:<pad>를 포함하여 7001개\n",
        " # tokenizer.num_words: 주어진 데이터의 문장들에서 빈도수가 높은 n개의 단어만 선택\n",
        " # tokenize() 함수에서 num_words를 7000개로 선언했기 때문에, tokenizer.num_words의 값은 7000\n",
        "VOCAB_SIZE = tokenizer.num_words + 1   \n",
        "\n",
        "# 준비한 데이터 소스로부터 데이터셋을 만듭니다\n",
        "# 데이터셋에 대해서는 아래 문서를 참고하세요\n",
        "# 자세히 알아둘수록 도움이 많이 되는 중요한 문서입니다\n",
        "# https://www.tensorflow.org/api_docs/python/tf/data/Dataset\n",
        "dataset = tf.data.Dataset.from_tensor_slices((enc_train, dec_train))\n",
        "dataset = dataset.shuffle(BUFFER_SIZE)\n",
        "dataset = dataset.batch(BATCH_SIZE, drop_remainder=True)\n",
        "dataset"
      ]
    },
    {
      "cell_type": "code",
      "execution_count": null,
      "id": "f6f8514a",
      "metadata": {
        "id": "f6f8514a",
        "outputId": "cc99b7b0-9167-4edd-e712-2bedda39adcf"
      },
      "outputs": [
        {
          "data": {
            "text/plain": [
              "<BatchDataset shapes: ((256, 19), (256, 19)), types: (tf.int32, tf.int32)>"
            ]
          },
          "execution_count": 12,
          "metadata": {},
          "output_type": "execute_result"
        }
      ],
      "source": [
        "val_dataset = tf.data.Dataset.from_tensor_slices((enc_val, dec_val))\n",
        "val_dataset = val_dataset.shuffle(BUFFER_SIZE)\n",
        "val_dataset = val_dataset.batch(BATCH_SIZE, drop_remainder=True)\n",
        "val_dataset"
      ]
    },
    {
      "cell_type": "markdown",
      "id": "cc9695a1",
      "metadata": {
        "id": "cc9695a1"
      },
      "source": [
        "# Model"
      ]
    },
    {
      "cell_type": "code",
      "execution_count": null,
      "id": "94cdf6ac",
      "metadata": {
        "id": "94cdf6ac"
      },
      "outputs": [],
      "source": [
        "class TextGenerator(tf.keras.Model):\n",
        "    def __init__(self, vocab_size, embedding_size, hidden_size):\n",
        "        super().__init__()\n",
        "        # Embedding 레이어, 2개의 LSTM 레이어, 1개의 Dense 레이어로 구성되어 있다.\n",
        "        # Embedding 레이어는 단어 사전의 인덱스 값을 해당 인덱스 번째의 워드 벡터로 바꿔준다.\n",
        "        # 이 워드 벡터는 의미 벡터 공간에서 단어의 추상적 표현으로 사용된다. \n",
        "        self.embedding = tf.keras.layers.Embedding(vocab_size, embedding_size) \n",
        "        self.rnn_1 = tf.keras.layers.LSTM(hidden_size, return_sequences=True)  \n",
        "        self.rnn_2 = tf.keras.layers.LSTM(hidden_size, return_sequences=True)\n",
        "        self.linear = tf.keras.layers.Dense(vocab_size)\n",
        "        \n",
        "    def call(self, x):\n",
        "        out = self.embedding(x)\n",
        "        out = self.rnn_1(out)\n",
        "        out = self.rnn_2(out)\n",
        "        out = self.linear(out)\n",
        "        \n",
        "        return out\n",
        "# embedding size 값이 커질수록 단어의 추상적인 특징들을 더 잡아낼 수 있지만\n",
        "# 그만큼 충분한 데이터가 없으면 안좋은 결과 값을 가져옵니다!   \n",
        "embedding_size = 512 # 워드 벡터의 차원수를 말하며 단어가 추상적으로 표현되는 크기입니다.\n",
        "hidden_size = 2048 # 모델에 얼마나 많은 일꾼을 둘 것인가? 정도로 이해하면 좋다.\n",
        "model = TextGenerator(tokenizer.num_words + 1, embedding_size , hidden_size) # tokenizer.num_words에 +1인 이유는 문장에 없는 pad가 사용되었기 때문이다."
      ]
    },
    {
      "cell_type": "code",
      "execution_count": null,
      "id": "7fa24a3b",
      "metadata": {
        "id": "7fa24a3b",
        "outputId": "00a22449-3d35-4e81-e62a-6e54f150fbaf"
      },
      "outputs": [
        {
          "data": {
            "text/plain": [
              "<tf.Tensor: shape=(256, 19, 7001), dtype=float32, numpy=\n",
              "array([[[-9.74357608e-05,  3.46262910e-04,  1.01655045e-04, ...,\n",
              "         -5.99511004e-05,  1.63110744e-04, -3.61824030e-04],\n",
              "        [ 3.45586013e-05,  6.31571980e-04, -2.36904336e-04, ...,\n",
              "         -2.38232693e-04, -5.33414481e-04, -4.75491979e-04],\n",
              "        [ 3.24357999e-04,  1.10829342e-03, -1.45535727e-04, ...,\n",
              "          2.46793817e-04, -6.12090225e-04, -6.05171430e-04],\n",
              "        ...,\n",
              "        [ 2.02675862e-03, -2.21047737e-03, -4.80021769e-03, ...,\n",
              "         -4.76310542e-03,  3.56668816e-03, -7.24541023e-03],\n",
              "        [ 1.97441084e-03, -2.39605829e-03, -5.14235999e-03, ...,\n",
              "         -5.24392724e-03,  3.74352629e-03, -7.47720478e-03],\n",
              "        [ 1.92754797e-03, -2.53265142e-03, -5.41911880e-03, ...,\n",
              "         -5.67735359e-03,  3.90527234e-03, -7.67374178e-03]],\n",
              "\n",
              "       [[-9.74357608e-05,  3.46262910e-04,  1.01655045e-04, ...,\n",
              "         -5.99511004e-05,  1.63110744e-04, -3.61824030e-04],\n",
              "        [ 1.44383521e-04,  6.45552180e-04, -7.18899028e-05, ...,\n",
              "         -3.09290073e-04,  1.98377689e-04, -1.03909937e-04],\n",
              "        [ 7.68579775e-04,  5.28809614e-04,  7.40816358e-06, ...,\n",
              "         -4.50583175e-04,  6.20446750e-04, -6.99788943e-05],\n",
              "        ...,\n",
              "        [ 2.38102209e-03, -4.58804716e-04, -1.14239450e-03, ...,\n",
              "         -1.77032768e-03,  2.04658136e-03, -4.35006525e-03],\n",
              "        [ 2.39527365e-03, -8.97744612e-04, -1.92921003e-03, ...,\n",
              "         -2.42482894e-03,  2.34567467e-03, -4.99471137e-03],\n",
              "        [ 2.35489267e-03, -1.29156420e-03, -2.66411039e-03, ...,\n",
              "         -3.06259305e-03,  2.61527533e-03, -5.55574102e-03]],\n",
              "\n",
              "       [[-9.74357608e-05,  3.46262910e-04,  1.01655045e-04, ...,\n",
              "         -5.99511004e-05,  1.63110744e-04, -3.61824030e-04],\n",
              "        [ 1.10171866e-04,  9.21536528e-04,  4.16933326e-04, ...,\n",
              "          5.07015036e-04,  4.29004431e-04, -5.65047376e-04],\n",
              "        [ 3.70837952e-04,  6.70447946e-04,  5.78807434e-04, ...,\n",
              "          7.34670262e-04,  4.42910503e-04, -8.21635709e-04],\n",
              "        ...,\n",
              "        [ 1.91473670e-03, -8.93524732e-04, -4.09351150e-03, ...,\n",
              "         -1.82236801e-03,  2.13667518e-03, -4.19367524e-03],\n",
              "        [ 1.89405237e-03, -1.28057320e-03, -4.52907477e-03, ...,\n",
              "         -2.58405693e-03,  2.41176574e-03, -4.85605886e-03],\n",
              "        [ 1.85135507e-03, -1.62719900e-03, -4.91316291e-03, ...,\n",
              "         -3.30453180e-03,  2.66469154e-03, -5.42881340e-03]],\n",
              "\n",
              "       ...,\n",
              "\n",
              "       [[-9.74357608e-05,  3.46262910e-04,  1.01655045e-04, ...,\n",
              "         -5.99511004e-05,  1.63110744e-04, -3.61824030e-04],\n",
              "        [-5.95813501e-04,  1.94394466e-04, -1.54729860e-04, ...,\n",
              "          1.96727531e-04,  5.93965960e-05, -8.74991179e-04],\n",
              "        [-8.85079673e-04, -1.36622184e-04, -5.43764734e-04, ...,\n",
              "          7.11971807e-05, -1.22262732e-04, -1.04776560e-03],\n",
              "        ...,\n",
              "        [ 1.38703082e-03, -2.24762317e-03, -2.71416083e-03, ...,\n",
              "         -2.45624129e-03,  2.77482462e-03, -5.08303801e-03],\n",
              "        [ 1.47124520e-03, -2.49075540e-03, -3.28917266e-03, ...,\n",
              "         -3.11245234e-03,  2.99425237e-03, -5.74016944e-03],\n",
              "        [ 1.52997521e-03, -2.68390216e-03, -3.81176150e-03, ...,\n",
              "         -3.74559034e-03,  3.18800681e-03, -6.28950680e-03]],\n",
              "\n",
              "       [[-9.74357608e-05,  3.46262910e-04,  1.01655045e-04, ...,\n",
              "         -5.99511004e-05,  1.63110744e-04, -3.61824030e-04],\n",
              "        [-6.14218006e-05,  5.62941597e-04,  1.05124593e-04, ...,\n",
              "          4.02548321e-04,  7.61415722e-05, -4.62124270e-04],\n",
              "        [-1.48803767e-04,  2.42170805e-04,  1.93316373e-04, ...,\n",
              "          5.22347633e-04, -1.11140558e-04, -4.48175328e-04],\n",
              "        ...,\n",
              "        [-9.95396636e-04, -2.68071017e-04,  1.35801686e-03, ...,\n",
              "          3.19393759e-04,  1.24982631e-04, -1.50680484e-04],\n",
              "        [-5.83658577e-04, -1.94390523e-04,  1.04446430e-03, ...,\n",
              "         -1.92383799e-04,  7.35525449e-04, -1.24202576e-03],\n",
              "        [-2.13102379e-04, -2.90653901e-04,  4.91969753e-04, ...,\n",
              "         -7.91809056e-04,  1.31194969e-03, -2.36751954e-03]],\n",
              "\n",
              "       [[-9.74357608e-05,  3.46262910e-04,  1.01655045e-04, ...,\n",
              "         -5.99511004e-05,  1.63110744e-04, -3.61824030e-04],\n",
              "        [ 1.10171866e-04,  9.21536528e-04,  4.16933326e-04, ...,\n",
              "          5.07015036e-04,  4.29004431e-04, -5.65047376e-04],\n",
              "        [-4.76141213e-05,  1.37078715e-03,  6.14574121e-04, ...,\n",
              "          9.22964129e-04,  2.83980538e-04, -5.52397745e-04],\n",
              "        ...,\n",
              "        [ 2.02849624e-03, -1.78152637e-03, -4.17401828e-03, ...,\n",
              "         -4.03154269e-03,  2.72112596e-03, -7.07761757e-03],\n",
              "        [ 1.99035951e-03, -2.05619796e-03, -4.60648956e-03, ...,\n",
              "         -4.57563531e-03,  2.96229846e-03, -7.38913938e-03],\n",
              "        [ 1.94559002e-03, -2.26934114e-03, -4.97039035e-03, ...,\n",
              "         -5.07680792e-03,  3.18814884e-03, -7.64562422e-03]]],\n",
              "      dtype=float32)>"
            ]
          },
          "execution_count": 14,
          "metadata": {},
          "output_type": "execute_result"
        }
      ],
      "source": [
        "# 데이터셋에서 데이터 한 배치만 불러오는 방법입니다.\n",
        "# 지금은 동작 원리에 너무 빠져들지 마세요~\n",
        "for src_sample, tgt_sample in dataset.take(1): break\n",
        "\n",
        "# 한 배치만 불러온 데이터를 모델에 넣어봅니다\n",
        "model(src_sample)"
      ]
    },
    {
      "cell_type": "code",
      "execution_count": null,
      "id": "571a25a3",
      "metadata": {
        "id": "571a25a3",
        "outputId": "006d6104-4692-4e16-ee11-1e067ea0c2a5"
      },
      "outputs": [
        {
          "name": "stdout",
          "output_type": "stream",
          "text": [
            "Model: \"text_generator\"\n",
            "_________________________________________________________________\n",
            "Layer (type)                 Output Shape              Param #   \n",
            "=================================================================\n",
            "embedding (Embedding)        multiple                  3584512   \n",
            "_________________________________________________________________\n",
            "lstm (LSTM)                  multiple                  20979712  \n",
            "_________________________________________________________________\n",
            "lstm_1 (LSTM)                multiple                  33562624  \n",
            "_________________________________________________________________\n",
            "dense (Dense)                multiple                  14345049  \n",
            "=================================================================\n",
            "Total params: 72,471,897\n",
            "Trainable params: 72,471,897\n",
            "Non-trainable params: 0\n",
            "_________________________________________________________________\n"
          ]
        }
      ],
      "source": [
        "# 모델의 구조를 확인합니다.\n",
        "model.summary()"
      ]
    },
    {
      "cell_type": "markdown",
      "id": "8422feaf",
      "metadata": {
        "id": "8422feaf"
      },
      "source": [
        "# Train\n",
        "- 모델의 Embedding Size와 Hidden Size를 조절하며 10 Epoch 안에 val_loss 값을 2.2 수준으로 줄일 수 있는 모델을 설계하세요!\n",
        "- val_loss 값은 2.2 아래로 떨어지지 않습니다. 이럴 경우는 batch size를 변경하는 것과 같이 model.fit() 함수에 다양한 인자를 넣어주면 해결될 수도 있습니다\n",
        "- https://www.tensorflow.org/api_docs/python/tf/keras/Model#fit"
      ]
    },
    {
      "cell_type": "code",
      "execution_count": null,
      "id": "7ef5308f",
      "metadata": {
        "scrolled": true,
        "id": "7ef5308f",
        "outputId": "bbb4e0df-53c3-4348-f5c0-09f4e4767de5"
      },
      "outputs": [
        {
          "name": "stdout",
          "output_type": "stream",
          "text": [
            "Epoch 1/10\n",
            "549/549 [==============================] - 335s 601ms/step - loss: 2.6131 - val_loss: 2.2965\n",
            "Epoch 2/10\n",
            "549/549 [==============================] - 334s 609ms/step - loss: 2.1442 - val_loss: 2.0735\n",
            "Epoch 3/10\n",
            "549/549 [==============================] - 335s 610ms/step - loss: 1.8885 - val_loss: 1.9297\n",
            "Epoch 4/10\n",
            "549/549 [==============================] - 336s 611ms/step - loss: 1.6431 - val_loss: 1.8277\n",
            "Epoch 5/10\n",
            "549/549 [==============================] - 336s 612ms/step - loss: 1.4097 - val_loss: 1.7557\n",
            "Epoch 6/10\n",
            "549/549 [==============================] - 336s 613ms/step - loss: 1.1972 - val_loss: 1.7131\n",
            "Epoch 7/10\n",
            "549/549 [==============================] - 336s 612ms/step - loss: 1.0208 - val_loss: 1.6965\n",
            "Epoch 8/10\n",
            "549/549 [==============================] - 336s 612ms/step - loss: 0.8873 - val_loss: 1.7051\n",
            "Epoch 9/10\n",
            "549/549 [==============================] - 336s 612ms/step - loss: 0.8028 - val_loss: 1.7206\n",
            "Epoch 10/10\n",
            "549/549 [==============================] - 336s 613ms/step - loss: 0.7570 - val_loss: 1.7397\n"
          ]
        }
      ],
      "source": [
        "# # optimizer와 loss등은 차차 배웁니다\n",
        "# # 혹시 미리 알고 싶다면 아래 문서를 참고하세요\n",
        "# # https://www.tensorflow.org/api_docs/python/tf/keras/optimizers\n",
        "# # https://www.tensorflow.org/api_docs/python/tf/keras/losses\n",
        "# # 양이 상당히 많은 편이니 지금 보는 것은 추천하지 않습니다\n",
        "\n",
        "# # Adam 알고리즘을 구현하는 optimzier이며 어떤 optimzier를 써야할지 모른다면 Adam을 쓰는 것도 방법이다.\n",
        "# # 우리가 학습을 할 때 최대한 틀리지 않는 방향으로 학습을 해야한다.\n",
        "# # 여기서 얼마나 틀리는지(loss)를 알게하는 함수가 손실함수 이다.\n",
        "# # 이 손실함수의 최소값을 찾는 것을 학습의 목표로 하며 여기서 최소값을 찾아가는 과정을 optimization 이라하고\n",
        "# # 이를 수행하는 알고리즘을 optimizer(최적화)라고 한다.\n",
        "\n",
        "# optimizer = tf.keras.optimizers.Adam() # Adam은 현재 가장 많이 사용하는 옵티마이저이다. 자세한 내용은 차차 배운다.\n",
        "# loss = tf.keras.losses.SparseCategoricalCrossentropy( # 훈련 데이터의 라벨이 정수의 형태로 제공될 때 사용하는 손실함수이다.\n",
        "#     from_logits=True, # 기본값은 False이다. 모델에 의해 생성된 출력 값이 정규화되지 않았음을 손실 함수에 알려준다. 즉 softmax함수가 적용되지 않았다는걸 의미한다. \n",
        "#     reduction='none'  # 기본값은 SUM이다. 각자 나오는 값의 반환 원할 때 None을 사용한다.\n",
        "# )\n",
        "# # 모델을 학습시키키 위한 학습과정을 설정하는 단계이다.\n",
        "# model.compile(loss=loss, optimizer=optimizer) # 손실함수와 훈련과정을 설정했다.\n",
        "# history1 = model.fit(dataset, \n",
        "#           epochs=10,\n",
        "#           validation_data = val_dataset) # 만들어둔 데이터셋으로 모델을 학습한다. 30번 학습을 반복하겠다는 의미다."
      ]
    },
    {
      "cell_type": "code",
      "execution_count": null,
      "id": "605556d1",
      "metadata": {
        "id": "605556d1",
        "outputId": "39c8d379-9727-4649-9303-a669726dc684"
      },
      "outputs": [
        {
          "data": {
            "image/png": "[encoded data removed]",
            "text/plain": [
              "<Figure size 432x288 with 1 Axes>"
            ]
          },
          "metadata": {
            "needs_background": "light"
          },
          "output_type": "display_data"
        }
      ],
      "source": [
        "# # graph\n",
        "# import matplotlib.pyplot as plt\n",
        "\n",
        "# loss = history1.history['loss']\n",
        "# val_loss = history1.history['val_loss']\n",
        "\n",
        "# epochs_range = range(1, len(loss)+1)\n",
        "\n",
        "# plt.plot(epochs_range, loss, 'bo', label='Training loss')\n",
        "# plt.plot(epochs_range, val_loss, 'r', label='Validation loss')\n",
        "# plt.xlabel('Epochs')\n",
        "# plt.ylabel('Loss')\n",
        "# plt.title('Training and validation loss')\n",
        "# plt.legend()\n",
        "\n",
        "# plt.show()\n",
        "# # epoch 3 이후부터 overfit.. \n",
        "# # epoch 3에서 멈추는 것이 낫겠음."
      ]
    },
    {
      "cell_type": "code",
      "execution_count": null,
      "id": "413d725e",
      "metadata": {
        "id": "413d725e",
        "outputId": "c5eb2646-edca-4114-f494-a815df1d3eea"
      },
      "outputs": [
        {
          "name": "stdout",
          "output_type": "stream",
          "text": [
            "Epoch 1/3\n",
            "549/549 [==============================] - 324s 581ms/step - loss: 2.6089 - val_loss: 2.3252\n",
            "Epoch 2/3\n",
            "549/549 [==============================] - 321s 585ms/step - loss: 2.1902 - val_loss: 2.1235\n",
            "Epoch 3/3\n",
            "549/549 [==============================] - 323s 587ms/step - loss: 1.9691 - val_loss: 1.9843\n"
          ]
        }
      ],
      "source": [
        "# overfit으로 다시 학습 epoch 3\n",
        "\n",
        "optimizer = tf.keras.optimizers.Adam() # Adam은 현재 가장 많이 사용하는 옵티마이저이다. 자세한 내용은 차차 배운다.\n",
        "loss = tf.keras.losses.SparseCategoricalCrossentropy( # 훈련 데이터의 라벨이 정수의 형태로 제공될 때 사용하는 손실함수이다.\n",
        "    from_logits=True, # 기본값은 False이다. 모델에 의해 생성된 출력 값이 정규화되지 않았음을 손실 함수에 알려준다. 즉 softmax함수가 적용되지 않았다는걸 의미한다. \n",
        "    reduction='none'  # 기본값은 SUM이다. 각자 나오는 값의 반환 원할 때 None을 사용한다.\n",
        ")\n",
        "# 모델을 학습시키키 위한 학습과정을 설정하는 단계이다.\n",
        "model.compile(loss=loss, optimizer=optimizer) # 손실함수와 훈련과정을 설정했다.\n",
        "history2 = model.fit(dataset, \n",
        "          epochs=3,\n",
        "          validation_data = val_dataset) # 만들어둔 데이터셋으로 모델을 학습한다. 3번 학습을 반복하겠다는 의미다."
      ]
    },
    {
      "cell_type": "code",
      "execution_count": null,
      "id": "818591a8",
      "metadata": {
        "id": "818591a8",
        "outputId": "f6b334f7-4741-405b-bf60-8048fc6278c7"
      },
      "outputs": [
        {
          "data": {
            "image/png": "[encoded data removed]",
            "text/plain": [
              "<Figure size 432x288 with 1 Axes>"
            ]
          },
          "metadata": {
            "needs_background": "light"
          },
          "output_type": "display_data"
        }
      ],
      "source": [
        "# graph\n",
        "import matplotlib.pyplot as plt\n",
        "\n",
        "loss = history2.history['loss']\n",
        "val_loss = history2.history['val_loss']\n",
        "\n",
        "epochs_range = range(1, len(loss)+1)\n",
        "\n",
        "plt.plot(epochs_range, loss, 'bo', label='Training loss')\n",
        "plt.plot(epochs_range, val_loss, 'r', label='Validation loss')\n",
        "plt.xlabel('Epochs')\n",
        "plt.ylabel('Loss')\n",
        "plt.title('Training and validation loss')\n",
        "plt.legend()\n",
        "\n",
        "plt.show()\n"
      ]
    },
    {
      "cell_type": "markdown",
      "id": "8117f58a",
      "metadata": {
        "id": "8117f58a"
      },
      "source": [
        "# Save & Load a trained model"
      ]
    },
    {
      "cell_type": "code",
      "execution_count": null,
      "id": "7de9190d",
      "metadata": {
        "id": "7de9190d",
        "outputId": "aa639ef5-45ac-45a8-9492-c393c25fc47a"
      },
      "outputs": [
        {
          "name": "stderr",
          "output_type": "stream",
          "text": [
            "WARNING:absl:Found untraced functions such as lstm_cell_layer_call_and_return_conditional_losses, lstm_cell_layer_call_fn, lstm_cell_1_layer_call_and_return_conditional_losses, lstm_cell_1_layer_call_fn, lstm_cell_layer_call_fn while saving (showing 5 of 10). These functions will not be directly callable after loading.\n"
          ]
        },
        {
          "name": "stdout",
          "output_type": "stream",
          "text": [
            "INFO:tensorflow:Assets written to: lyrics_model/assets\n"
          ]
        },
        {
          "name": "stderr",
          "output_type": "stream",
          "text": [
            "INFO:tensorflow:Assets written to: lyrics_model/assets\n"
          ]
        }
      ],
      "source": [
        "# save trained model\n",
        "from keras.models import load_model\n",
        "# model.save_weights('lyrics_model.h5')\n",
        "\n",
        "model.save('lyrics_model',save_format='tf')"
      ]
    },
    {
      "cell_type": "code",
      "execution_count": null,
      "id": "538dbb70",
      "metadata": {
        "id": "538dbb70",
        "outputId": "f6c13313-e4db-4eec-f739-ddb7a98f318a"
      },
      "outputs": [
        {
          "data": {
            "text/plain": [
              "<tensorflow.python.training.tracking.util.CheckpointLoadStatus at 0x7f72dc89d280>"
            ]
          },
          "execution_count": 28,
          "metadata": {},
          "output_type": "execute_result"
        }
      ],
      "source": [
        "# load saved model\n",
        "# 이 프로젝트의 모델을 자유도가 높은 sub_classing model이기 때문에 structure가 저장되지 않음.\n",
        "# load model할 때 structure를 먼저 부르고 weights를 load하면 됨.\n",
        "# https://www.tensorflow.org/api_docs/python/tf/keras/Model#load_weights\n",
        "# https://wikidocs.net/106897\n",
        "\n",
        "class TextGenerator(tf.keras.Model):\n",
        "    def __init__(self, vocab_size, embedding_size, hidden_size):\n",
        "        super().__init__()\n",
        "        # Embedding 레이어, 2개의 LSTM 레이어, 1개의 Dense 레이어로 구성되어 있다.\n",
        "        # Embedding 레이어는 단어 사전의 인덱스 값을 해당 인덱스 번째의 워드 벡터로 바꿔준다.\n",
        "        # 이 워드 벡터는 의미 벡터 공간에서 단어의 추상적 표현으로 사용된다. \n",
        "        self.embedding = tf.keras.layers.Embedding(vocab_size, embedding_size) \n",
        "        self.rnn_1 = tf.keras.layers.LSTM(hidden_size, return_sequences=True)  \n",
        "        self.rnn_2 = tf.keras.layers.LSTM(hidden_size, return_sequences=True)\n",
        "        self.linear = tf.keras.layers.Dense(vocab_size)\n",
        "        \n",
        "    def call(self, x):\n",
        "        out = self.embedding(x)\n",
        "        out = self.rnn_1(out)\n",
        "        out = self.rnn_2(out)\n",
        "        out = self.linear(out)\n",
        "        \n",
        "        return out\n",
        "    \n",
        "model1 = TextGenerator(tokenizer.num_words + 1, embedding_size , hidden_size)\n",
        "\n",
        "import keras\n",
        "from keras.models import load_model\n",
        "\n",
        "model1.load_weights(filepath='lyrics_model')"
      ]
    },
    {
      "cell_type": "code",
      "execution_count": null,
      "id": "b67446c1",
      "metadata": {
        "id": "b67446c1"
      },
      "outputs": [],
      "source": [
        "#문장생성 함수 정의\n",
        "#모델에게 시작 문장을 전달하면 모델이 시작 문장을 바탕으로 작문을 진행\n",
        "def generate_text(model, tokenizer, init_sentence=\"<start>\", max_len=15): #시작 문자열을 init_sentence 로 받으며 디폴트값은 <start> 를 받는다\n",
        "    # 테스트를 위해서 입력받은 init_sentence도 텐서로 변환합니다\n",
        "    test_input = tokenizer.texts_to_sequences([init_sentence]) #텍스트 안의 단어들을 숫자의 시퀀스의 형태로 변환\n",
        "    test_tensor = tf.convert_to_tensor(test_input, dtype=tf.int64)\n",
        "    end_token = tokenizer.word_index[\"<end>\"]\n",
        "\n",
        "    # 단어 하나씩 예측해 문장을 만듭니다\n",
        "    #    1. 입력받은 문장의 텐서를 입력합니다\n",
        "    #    2. 예측된 값 중 가장 높은 확률인 word index를 뽑아냅니다\n",
        "    #    3. 2에서 예측된 word index를 문장 뒤에 붙입니다\n",
        "    #    4. 모델이 <end>를 예측했거나, max_len에 도달했다면 문장 생성을 마칩니다 (도달 하지 못하였으면 while 루프를 돌면서 다음 단어를 예측)\n",
        "    while True: #루프를 돌면서 init_sentence에 단어를 하나씩 생성성\n",
        "        # 1\n",
        "        predict = model(test_tensor) \n",
        "        # 2\n",
        "        predict_word = tf.argmax(tf.nn.softmax(predict, axis=-1), axis=-1)[:, -1] \n",
        "        # 3 \n",
        "        test_tensor = tf.concat([test_tensor, tf.expand_dims(predict_word, axis=0)], axis=-1)\n",
        "        # 4 \n",
        "        if predict_word.numpy()[0] == end_token: break\n",
        "        if test_tensor.shape[1] >= max_len: break\n",
        "\n",
        "    generated = \"\"\n",
        "    # tokenizer를 이용해 word index를 단어로 하나씩 변환합니다 \n",
        "    for word_index in test_tensor[0].numpy():\n",
        "        generated += tokenizer.index_word[word_index] + \" \"\n",
        "\n",
        "    return generated #최종적으로 모델이 생성한 문장을 반환"
      ]
    },
    {
      "cell_type": "markdown",
      "id": "939e44b2",
      "metadata": {
        "id": "939e44b2"
      },
      "source": [
        "# Generate text"
      ]
    },
    {
      "cell_type": "code",
      "execution_count": null,
      "id": "d581b23b",
      "metadata": {
        "id": "d581b23b",
        "outputId": "c3f1ab8d-b58d-4893-ba17-432d2fadf4e2"
      },
      "outputs": [
        {
          "data": {
            "text/plain": [
              "'<start> i love you , i love you <end> '"
            ]
          },
          "execution_count": 32,
          "metadata": {},
          "output_type": "execute_result"
        }
      ],
      "source": [
        "generate_text(model, tokenizer, init_sentence=\"<start> i love\") #I love를 시작으로 하는 문장... "
      ]
    },
    {
      "cell_type": "code",
      "execution_count": null,
      "id": "b5fc152d",
      "metadata": {
        "id": "b5fc152d",
        "outputId": "52aeacf7-0306-4034-e77b-3fb70b2af2e1"
      },
      "outputs": [
        {
          "data": {
            "text/plain": [
              "'<start> i m gonna marry the night <end> '"
            ]
          },
          "execution_count": 33,
          "metadata": {},
          "output_type": "execute_result"
        }
      ],
      "source": [
        "generate_text(model, tokenizer, init_sentence=\"<start> i\") # I로 시작하는 문장. 슬프네.."
      ]
    },
    {
      "cell_type": "code",
      "execution_count": null,
      "id": "05ac5590",
      "metadata": {
        "id": "05ac5590",
        "outputId": "767bf104-a77f-4928-d3ff-c670099304e5"
      },
      "outputs": [
        {
          "data": {
            "text/plain": [
              "'<start> i love you , i love you <end> '"
            ]
          },
          "execution_count": 30,
          "metadata": {},
          "output_type": "execute_result"
        }
      ],
      "source": [
        "generate_text(model1, tokenizer, init_sentence=\"<start> i love\") # 저장했던 모델을 불러와서 문장 생성 저장 전 원래 모델과 같은 결과"
      ]
    },
    {
      "cell_type": "code",
      "execution_count": null,
      "id": "c2be0e9d",
      "metadata": {
        "id": "c2be0e9d",
        "outputId": "5bda2ee1-22bc-40bc-e03f-90375b348be0"
      },
      "outputs": [
        {
          "data": {
            "text/plain": [
              "'<start> i m gonna marry the night <end> '"
            ]
          },
          "execution_count": 31,
          "metadata": {},
          "output_type": "execute_result"
        }
      ],
      "source": [
        "generate_text(model1, tokenizer, init_sentence=\"<start> i\") # 저장했던 모델을 불러와서 문장 생성"
      ]
    },
    {
      "cell_type": "code",
      "execution_count": null,
      "id": "186caf37",
      "metadata": {
        "id": "186caf37",
        "outputId": "3de5f0ea-58eb-4d56-9fc6-d10d00400cfe"
      },
      "outputs": [
        {
          "data": {
            "text/plain": [
              "'<start> you re the only one that s ever gonna say <end> '"
            ]
          },
          "execution_count": 35,
          "metadata": {},
          "output_type": "execute_result"
        }
      ],
      "source": [
        "generate_text(model, tokenizer, init_sentence=\"<start> you\") "
      ]
    },
    {
      "cell_type": "markdown",
      "id": "024440a0",
      "metadata": {
        "id": "024440a0"
      },
      "source": [
        "# Review\n",
        "- Embedding Size와 Hidden Size를 바꾸어 가며 학습함.\n",
        "- embedding_size = 512, hidden_size = 2048에서 loss 2.2 이하의 결과를 얻을 수 있었음.\n",
        "- epochs 3이 넘어가면서 overfit이 되어 3에서 멈춤\n",
        "- model을 저장하여 코드 파일을 열 때마다 저장할 필요없게 하는데 사용한 모델이 자유도가 높은 sub_classing model이기 때문에 structure가 저장되지 않고 weights만 저장됨.\n",
        "- load model시에 structure를 먼저 부르고 load weights => 정상적으로 저장된 모델을 불러올 수 있었음.\n",
        "- I love 뒤의 생성 문장은 I love you. I love you.\n",
        "- I 뒤의 생성 문장은 i m gonna marry the night.\n",
        "- 저장 전의 모델과 저장한 뒤 불러온 모델의 생성 문장은 같았음."
      ]
    }
  ],
  "metadata": {
    "kernelspec": {
      "display_name": "Python 3 (ipykernel)",
      "language": "python",
      "name": "python3"
    },
    "language_info": {
      "codemirror_mode": {
        "name": "ipython",
        "version": 3
      },
      "file_extension": ".py",
      "mimetype": "text/x-python",
      "name": "python",
      "nbconvert_exporter": "python",
      "pygments_lexer": "ipython3",
      "version": "3.9.7"
    },
    "colab": {
      "provenance": [],
      "toc_visible": true,
      "include_colab_link": true
    }
  },
  "nbformat": 4,
  "nbformat_minor": 5
}