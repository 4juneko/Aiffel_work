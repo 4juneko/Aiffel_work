{
  "cells": [
    {
      "cell_type": "markdown",
      "metadata": {
        "id": "view-in-github",
        "colab_type": "text"
      },
      "source": [
        "<a href=\"https://colab.research.google.com/github/4juneko/Aiffel_work/blob/master/13_rock_scissor_paper_05112023.ipynb\" target=\"_parent\"><img src=\"https://colab.research.google.com/assets/colab-badge.svg\" alt=\"Open In Colab\"/></a>"
      ]
    },
    {
      "cell_type": "markdown",
      "id": "1241bcb3",
      "metadata": {
        "id": "1241bcb3"
      },
      "source": [
        "# Rubric"
      ]
    },
    {
      "cell_type": "markdown",
      "id": "a1c888cd",
      "metadata": {
        "id": "a1c888cd"
      },
      "source": [
        "|평가문항\t|상세기준| 내평가|\n",
        "|--|--|--|\n",
        "|1. 이미지 분류기 모델이 성공적으로 만들어졌는가?\t|학습과정이 정상적으로 수행되었으며,  </br>학습 결과에 대한 그래프를 시각화(ex. train acc / train loss / val acc / val loss 등) 해 보았음|O|\n",
        "|2. 오버피팅을 극복하기 위한 적절한 시도가 있었는가?\t|오버피팅 극복을 위하여   </br>데이터셋의 다양성, 정규화 등을 2가지 이상 시도해보았음|O|\n",
        "|3. 분류모델의 test accuracy가 기준 이상 높게 나왔는가?|\t60% 이상 도달하였음|O|"
      ]
    },
    {
      "cell_type": "code",
      "execution_count": null,
      "id": "75b851d2",
      "metadata": {
        "id": "75b851d2",
        "outputId": "c4eaa6d1-1e6e-4083-a9b7-0ee1ecfe2f23"
      },
      "outputs": [
        {
          "name": "stdout",
          "output_type": "stream",
          "text": [
            "2.6.0\n",
            "1.21.4\n"
          ]
        }
      ],
      "source": [
        "import tensorflow as tf\n",
        "import numpy as np\n",
        "\n",
        "print(tf.__version__)\n",
        "print(np.__version__)"
      ]
    },
    {
      "cell_type": "code",
      "execution_count": null,
      "id": "5a9b6cf7",
      "metadata": {
        "id": "5a9b6cf7",
        "outputId": "44002431-4aea-4ed2-f3c0-d2fb100acf46"
      },
      "outputs": [
        {
          "name": "stdout",
          "output_type": "stream",
          "text": [
            "PIL 라이브러리 import 완료!\n"
          ]
        }
      ],
      "source": [
        "from PIL import Image\n",
        "import glob\n",
        "import os\n",
        "import matplotlib.pyplot as plt\n",
        "\n",
        "print(\"PIL 라이브러리 import 완료!\")"
      ]
    },
    {
      "cell_type": "markdown",
      "id": "bb774fe9",
      "metadata": {
        "id": "bb774fe9"
      },
      "source": [
        "# Unzip , Rename & Move file"
      ]
    },
    {
      "cell_type": "code",
      "execution_count": null,
      "id": "35f2a5e6",
      "metadata": {
        "id": "35f2a5e6"
      },
      "outputs": [],
      "source": [
        "import zipfile\n",
        "\n",
        "def un_zip(dir_name):\n",
        "    for i in 'paper', 'scissor', 'rock':\n",
        "        for j in '4':\n",
        "            zip_file = zipfile.ZipFile(os.getenv(\"HOME\") + dir_name +i+\"/\" + i + j + \".zip\")\n",
        "            os.makedirs(os.getenv(\"HOME\") + dir_name +i+\"/\" + i + j)\n",
        "            new_dir = os.getenv(\"HOME\") + dir_name +i+\"/\" + i + j\n",
        "            zip_file.extractall(new_dir)\n",
        "    "
      ]
    },
    {
      "cell_type": "code",
      "execution_count": null,
      "id": "8bacfab0",
      "metadata": {
        "id": "8bacfab0"
      },
      "outputs": [],
      "source": [
        "un_zip('/aiffel/05112023/data_0518/')"
      ]
    },
    {
      "cell_type": "code",
      "execution_count": null,
      "id": "744e4895",
      "metadata": {
        "id": "744e4895"
      },
      "outputs": [],
      "source": [
        "zip_file = zipfile.ZipFile(os.getenv(\"HOME\") + '/aiffel/05112023/data_0518/scissor/scissor3.zip')\n",
        "\n",
        "new_dir = os.getenv(\"HOME\") +  '/aiffel/05112023/data/scissor'\n",
        "zip_file.extractall(new_dir)"
      ]
    },
    {
      "cell_type": "code",
      "execution_count": null,
      "id": "fcbc1d14",
      "metadata": {
        "id": "fcbc1d14"
      },
      "outputs": [],
      "source": [
        "# un_zip('/aiffel/05112023/test/','/aiffel/05112023/test/')"
      ]
    },
    {
      "cell_type": "code",
      "execution_count": null,
      "id": "4152ce7a",
      "metadata": {
        "id": "4152ce7a"
      },
      "outputs": [],
      "source": [
        "#rename\n",
        "def rename(no):\n",
        "    no = str(no)\n",
        "    for i in 'paper', 'scissor', 'rock':\n",
        "        for j in range(100):\n",
        "            k= str(j)\n",
        "            old_file = os.path.join(os.getenv(\"HOME\") + '/aiffel/05112023/data_0518/' + i +'/'+i+no, k + '.jpg')\n",
        "            l=str(j+300)\n",
        "            new_file = os.path.join(os.getenv(\"HOME\") + '/aiffel/05112023/data/'+ i, l +'.jpg')\n",
        "            os.rename(old_file, new_file)\n",
        "        "
      ]
    },
    {
      "cell_type": "code",
      "execution_count": null,
      "id": "1479b195",
      "metadata": {
        "id": "1479b195"
      },
      "outputs": [],
      "source": [
        "rename(4)"
      ]
    },
    {
      "cell_type": "code",
      "execution_count": null,
      "id": "2cb93caf",
      "metadata": {
        "id": "2cb93caf"
      },
      "outputs": [],
      "source": [
        "# combine files\n",
        "import shutil\n",
        "import os\n",
        " \n",
        "src = os.getenv(\"HOME\") + '/aiffel/05112023/data_0518/'\n",
        "dest = os.getenv(\"HOME\") + '/aiffel/05112023/data/'\n",
        "\n",
        "for i in 'paper', 'scissor', 'rock':\n",
        "    src_ = src + i +'/' + i +'2/'\n",
        "    dest_ = dest + i +'/'\n",
        "    files = os.listdir(src_)\n",
        "    for f in files:\n",
        "        shutil.move(src_ + f, dest_)"
      ]
    },
    {
      "cell_type": "code",
      "execution_count": null,
      "id": "ec9147ad",
      "metadata": {
        "id": "ec9147ad"
      },
      "outputs": [],
      "source": [
        "#copy data\n",
        "src = os.getenv(\"HOME\") + '/aiffel/05112023/data/'\n",
        "# os.makedirs(os.getenv(\"HOME\") + '/aiffel/05112023/data_copy/')\n",
        "\n",
        "for i in 'paper', 'scissor', 'rock':\n",
        "    src_ = src + i +'/'\n",
        "#     os.makedirs(os.getenv(\"HOME\") + '/aiffel/05112023/data_copy/' + i +'/')\n",
        "    dest = os.getenv(\"HOME\") + '/aiffel/05112023/data_copy/' + i +'/'\n",
        "    \n",
        "#     files = os.listdir(src_)\n",
        "    for f in files:\n",
        "        shutil.copytree(dest, src_)"
      ]
    },
    {
      "cell_type": "code",
      "execution_count": null,
      "id": "30964511",
      "metadata": {
        "id": "30964511"
      },
      "outputs": [],
      "source": [
        "# remove directory\n",
        "shutil.rmtree(os.getenv(\"HOME\") + '/aiffel/05112023/data_0518/test/')"
      ]
    },
    {
      "cell_type": "markdown",
      "id": "ab9fa58e",
      "metadata": {
        "id": "ab9fa58e"
      },
      "source": [
        "# Resize"
      ]
    },
    {
      "cell_type": "code",
      "execution_count": null,
      "id": "53df5473",
      "metadata": {
        "id": "53df5473"
      },
      "outputs": [],
      "source": [
        "def resize_images(img_path):\n",
        "    for i in 'paper', 'scissor', 'rock':\n",
        "        images=glob.glob(img_path +i+\"/\"+\"*.jpg\")  \n",
        "\n",
        "        print(len(images), \" \"+ i+\" images to be resized.\")\n",
        "\n",
        "        # 파일마다 모두 28x28 사이즈로 바꾸어 저장합니다.\n",
        "        target_size=(28,28)\n",
        "        for img in images:\n",
        "            old_img=Image.open(img)\n",
        "            new_img=old_img.resize(target_size,Image.ANTIALIAS)\n",
        "            new_img.save(img, \"JPEG\")\n",
        "\n",
        "        print(len(images),\" \"+ i+ \" images resized.\")\n",
        "\t\n"
      ]
    },
    {
      "cell_type": "code",
      "execution_count": null,
      "id": "a6b63db3",
      "metadata": {
        "id": "a6b63db3",
        "outputId": "877a977f-39d0-4e78-d7da-38e3d816225d"
      },
      "outputs": [
        {
          "name": "stdout",
          "output_type": "stream",
          "text": [
            "400  paper images to be resized.\n",
            "400  paper images resized.\n",
            "400  scissor images to be resized.\n",
            "400  scissor images resized.\n",
            "400  rock images to be resized.\n",
            "400  rock images resized.\n"
          ]
        }
      ],
      "source": [
        "# 이미지가 저장된 디렉토리 아래의 모든 jpg 파일을 읽어들여서\n",
        "image_dir_path = os.getenv(\"HOME\") + \"/aiffel/05112023/data/\"\n",
        "resize_images(image_dir_path)"
      ]
    },
    {
      "cell_type": "code",
      "execution_count": null,
      "id": "926b0bcb",
      "metadata": {
        "id": "926b0bcb",
        "outputId": "1ac1d487-1abd-4a93-da94-863ac58babd4"
      },
      "outputs": [
        {
          "name": "stdout",
          "output_type": "stream",
          "text": [
            "100  paper images to be resized.\n",
            "100  paper images resized.\n",
            "100  scissor images to be resized.\n",
            "100  scissor images resized.\n",
            "100  rock images to be resized.\n",
            "100  rock images resized.\n"
          ]
        }
      ],
      "source": [
        "image_dir_path = os.getenv(\"HOME\") + \"/aiffel/05112023/test/\"\n",
        "resize_images(image_dir_path)"
      ]
    },
    {
      "cell_type": "markdown",
      "id": "46715423",
      "metadata": {
        "id": "46715423"
      },
      "source": [
        "# Labeling"
      ]
    },
    {
      "cell_type": "code",
      "execution_count": null,
      "id": "566f58e8",
      "metadata": {
        "id": "566f58e8"
      },
      "outputs": [],
      "source": [
        "import numpy as np\n",
        "\n",
        "def load_data(img_path, number_of_data):  # 가위바위보 이미지 개수 총합에 주의하세요.\n",
        "    # 가위 : 0, 바위 : 1, 보 : 2\n",
        "    img_size=28\n",
        "    color=3\n",
        "    #이미지 데이터와 라벨(가위 : 0, 바위 : 1, 보 : 2) 데이터를 담을 행렬(matrix) 영역을 생성합니다.\n",
        "    imgs=np.zeros(number_of_data*img_size*img_size*color,dtype=np.int32).reshape(number_of_data,img_size,img_size,color)\n",
        "    labels=np.zeros(number_of_data,dtype=np.int32)\n",
        "\n",
        "    idx=0\n",
        "    for file in glob.iglob(img_path+'/scissor/*.jpg'):\n",
        "        img = np.array(Image.open(file),dtype=np.int32)\n",
        "        imgs[idx,:,:,:]=img    # 데이터 영역에 이미지 행렬을 복사\n",
        "        labels[idx]=0   # 가위 : 0\n",
        "        idx=idx+1\n",
        "\n",
        "    for file in glob.iglob(img_path+'/rock/*.jpg'):\n",
        "        img = np.array(Image.open(file),dtype=np.int32)\n",
        "        imgs[idx,:,:,:]=img    # 데이터 영역에 이미지 행렬을 복사\n",
        "        labels[idx]=1   # 바위 : 1\n",
        "        idx=idx+1  \n",
        "    \n",
        "    for file in glob.iglob(img_path+'/paper/*.jpg'):\n",
        "        img = np.array(Image.open(file),dtype=np.int32)\n",
        "        imgs[idx,:,:,:]=img    # 데이터 영역에 이미지 행렬을 복사\n",
        "        labels[idx]=2   # 보 : 2\n",
        "        idx=idx+1\n",
        "        \n",
        "    print(\"학습데이터(x_train)의 이미지 개수는\", idx,\"입니다.\")\n",
        "    return imgs, labels"
      ]
    },
    {
      "cell_type": "code",
      "execution_count": null,
      "id": "9fcbc4f4",
      "metadata": {
        "id": "9fcbc4f4",
        "outputId": "bf4da15d-92e6-41f4-bfec-9dd53f76d6a8"
      },
      "outputs": [
        {
          "name": "stdout",
          "output_type": "stream",
          "text": [
            "학습데이터(x_train)의 이미지 개수는 300 입니다.\n"
          ]
        }
      ],
      "source": [
        "image_dir_path = os.getenv(\"HOME\") + \"/aiffel/05112023/test\"\n",
        "(X_test, y_test)=load_data(image_dir_path, 300)"
      ]
    },
    {
      "cell_type": "code",
      "execution_count": null,
      "id": "478ba1de",
      "metadata": {
        "id": "478ba1de",
        "outputId": "92a7b912-55c0-414c-c6a3-f896072f67d9"
      },
      "outputs": [
        {
          "name": "stdout",
          "output_type": "stream",
          "text": [
            "학습데이터(x_train)의 이미지 개수는 1200 입니다.\n"
          ]
        }
      ],
      "source": [
        "image_dir_path = os.getenv(\"HOME\") + \"/aiffel/05112023/data\"\n",
        "(X, y)=load_data(image_dir_path, 1200)"
      ]
    },
    {
      "cell_type": "markdown",
      "id": "6190a9a8",
      "metadata": {
        "id": "6190a9a8"
      },
      "source": [
        "# Split"
      ]
    },
    {
      "cell_type": "code",
      "execution_count": null,
      "id": "ddd17414",
      "metadata": {
        "id": "ddd17414",
        "outputId": "73243c8b-6b59-4248-d21b-2308b393c3c5"
      },
      "outputs": [
        {
          "data": {
            "text/plain": [
              "((960, 28, 28, 3), (240, 28, 28, 3), (300, 28, 28, 3))"
            ]
          },
          "execution_count": 6,
          "metadata": {},
          "output_type": "execute_result"
        }
      ],
      "source": [
        "from sklearn.model_selection import train_test_split\n",
        "\n",
        "# split train - test \n",
        "# X_train, X_test, y_train, y_test = train_test_split(x_norm, y, test_size= 0.2, random_state=1234)\n",
        "# print(X_test.shape, y_test.shape)\n",
        "# split train-validation\n",
        "\n",
        "X2_train, X_val, y2_train, y_val = train_test_split(X, y, test_size= 0.2, random_state=1234)\n",
        "\n",
        "X2_train.shape, X_val.shape, X_test.shape"
      ]
    },
    {
      "cell_type": "code",
      "execution_count": null,
      "id": "e8d6441c",
      "metadata": {
        "id": "e8d6441c",
        "outputId": "61857565-6140-499e-bb1d-08778bc02fc8"
      },
      "outputs": [
        {
          "name": "stdout",
          "output_type": "stream",
          "text": [
            "라벨:  0\n"
          ]
        },
        {
          "data": {
            "image/png": "[encoded data removed]",
            "text/plain": [
              "<Figure size 432x288 with 1 Axes>"
            ]
          },
          "metadata": {
            "needs_background": "light"
          },
          "output_type": "display_data"
        }
      ],
      "source": [
        "import matplotlib.pyplot as plt\n",
        "plt.imshow(X2_train[0])\n",
        "print('라벨: ', y2_train[0])"
      ]
    },
    {
      "cell_type": "markdown",
      "id": "7278c5d6",
      "metadata": {
        "id": "7278c5d6"
      },
      "source": [
        "# Normalization(test)"
      ]
    },
    {
      "cell_type": "code",
      "execution_count": null,
      "id": "27799a5a",
      "metadata": {
        "id": "27799a5a",
        "outputId": "85229ff6-f8fc-4bf8-9236-549e17911c7f"
      },
      "outputs": [
        {
          "name": "stdout",
          "output_type": "stream",
          "text": [
            "x_test_norm shape: (300, 28, 28, 3)\n",
            "y_test shape: (300,)\n"
          ]
        }
      ],
      "source": [
        "x_test_norm = X_test/255.0   # 입력은 0~1 사이의 값으로 정규화\n",
        "\n",
        "print(\"x_test_norm shape: {}\".format(x_test_norm.shape))\n",
        "print(\"y_test shape: {}\".format(y_test.shape))"
      ]
    },
    {
      "cell_type": "markdown",
      "id": "1441e9e8",
      "metadata": {
        "id": "1441e9e8"
      },
      "source": [
        "# with Data Augmentation"
      ]
    },
    {
      "cell_type": "markdown",
      "id": "85dad422",
      "metadata": {
        "id": "85dad422"
      },
      "source": [
        "## Data augmentation"
      ]
    },
    {
      "cell_type": "code",
      "execution_count": null,
      "id": "4e7af167",
      "metadata": {
        "id": "4e7af167"
      },
      "outputs": [],
      "source": [
        "from tensorflow.keras.preprocessing.image import ImageDataGenerator\n",
        "\n",
        "IMG_HEIGHT =28\n",
        "IMG_WIDTH =28\n",
        "\n",
        "# Training data generator\n",
        "image_gen_train = ImageDataGenerator(rescale=1./255,\n",
        "                                     rotation_range=0.3,\n",
        "                                     width_shift_range=0.1,\n",
        "                                     height_shift_range=0.1,\n",
        "                                     zoom_range=0.2,\n",
        "                                     horizontal_flip=True, \n",
        "                                     vertical_flip=False)\n",
        "\n",
        "train_data_gen = image_gen_train.flow(X2_train, y2_train,\n",
        "                                      batch_size = 32,\n",
        "                                      shuffle=True            \n",
        "#                                                      directory=X2_train, #os.getenv(\"HOME\") + \"/aiffel/05112023/data/'                                            shuffle=True,\n",
        "#                                                      target_size=(IMG_HEIGHT, IMG_WIDTH),\n",
        "#                                                      class_mode='categorical'\n",
        "                                     )\n"
      ]
    },
    {
      "cell_type": "code",
      "execution_count": null,
      "id": "98b8cec0",
      "metadata": {
        "id": "98b8cec0"
      },
      "outputs": [],
      "source": [
        "# 데이터를 시각화하기 위한 함수\n",
        "def plotImages(images_arr):\n",
        "    fig, axes = plt.subplots(1, 5, figsize=(10,10))\n",
        "    axes = axes.flatten()\n",
        "    for img, ax in zip(images_arr, axes):\n",
        "        ax.imshow(img)\n",
        "        ax.axis('off')\n",
        "    plt.tight_layout()\n",
        "    plt.show()"
      ]
    },
    {
      "cell_type": "code",
      "execution_count": null,
      "id": "a36f77d8",
      "metadata": {
        "id": "a36f77d8",
        "outputId": "d6b5be6d-cd7f-453f-d8b0-6bbec15bb33f"
      },
      "outputs": [
        {
          "data": {
            "image/png": "[encoded data removed]",
            "text/plain": [
              "<Figure size 720x720 with 5 Axes>"
            ]
          },
          "metadata": {
            "needs_background": "light"
          },
          "output_type": "display_data"
        }
      ],
      "source": [
        "augmented_images = [train_data_gen[0][0][0] for i in range(5)]\n",
        "plotImages(augmented_images)\n"
      ]
    },
    {
      "cell_type": "code",
      "execution_count": null,
      "id": "7e0e5d93",
      "metadata": {
        "id": "7e0e5d93",
        "outputId": "5ca65445-8ebe-46ca-fac4-9ab7cbbede3d"
      },
      "outputs": [
        {
          "data": {
            "text/plain": [
              "(32, 28, 28, 3)"
            ]
          },
          "execution_count": 11,
          "metadata": {},
          "output_type": "execute_result"
        }
      ],
      "source": [
        "train_data_gen[0][0].shape"
      ]
    },
    {
      "cell_type": "code",
      "execution_count": null,
      "id": "34062ecb",
      "metadata": {
        "id": "34062ecb",
        "outputId": "caceb2b4-ca4f-4363-a0f0-e91a149b808d"
      },
      "outputs": [
        {
          "data": {
            "text/plain": [
              "30"
            ]
          },
          "execution_count": 12,
          "metadata": {},
          "output_type": "execute_result"
        }
      ],
      "source": [
        "len(train_data_gen)"
      ]
    },
    {
      "cell_type": "code",
      "execution_count": null,
      "id": "05d7b9f8",
      "metadata": {
        "id": "05d7b9f8"
      },
      "outputs": [],
      "source": [
        "# Validation data generator\n",
        "image_gen_val = ImageDataGenerator(rescale=1./255)  \n",
        "# train data와 같은 작업을 하는데 classification 때문에 스케일만 변경"
      ]
    },
    {
      "cell_type": "code",
      "execution_count": null,
      "id": "dac59750",
      "metadata": {
        "id": "dac59750"
      },
      "outputs": [],
      "source": [
        "val_data_gen = image_gen_val.flow(X_val, y_val,\n",
        "                                  batch_size = 32,\n",
        "                                  shuffle=True \n",
        "                                  )"
      ]
    },
    {
      "cell_type": "markdown",
      "id": "f5da94dc",
      "metadata": {
        "id": "f5da94dc"
      },
      "source": [
        "## Training"
      ]
    },
    {
      "cell_type": "code",
      "execution_count": null,
      "id": "d2e3a7f4",
      "metadata": {
        "id": "d2e3a7f4",
        "outputId": "200c45e5-099d-444d-941c-3921869f0537"
      },
      "outputs": [
        {
          "name": "stdout",
          "output_type": "stream",
          "text": [
            "Model: \"sequential\"\n",
            "_________________________________________________________________\n",
            "Layer (type)                 Output Shape              Param #   \n",
            "=================================================================\n",
            "conv2d (Conv2D)              (None, 26, 26, 16)        448       \n",
            "_________________________________________________________________\n",
            "max_pooling2d (MaxPooling2D) (None, 13, 13, 16)        0         \n",
            "_________________________________________________________________\n",
            "conv2d_1 (Conv2D)            (None, 11, 11, 256)       37120     \n",
            "_________________________________________________________________\n",
            "max_pooling2d_1 (MaxPooling2 (None, 5, 5, 256)         0         \n",
            "_________________________________________________________________\n",
            "flatten (Flatten)            (None, 6400)              0         \n",
            "_________________________________________________________________\n",
            "dense (Dense)                (None, 256)               1638656   \n",
            "_________________________________________________________________\n",
            "dense_1 (Dense)              (None, 3)                 771       \n",
            "=================================================================\n",
            "Total params: 1,676,995\n",
            "Trainable params: 1,676,995\n",
            "Non-trainable params: 0\n",
            "_________________________________________________________________\n"
          ]
        }
      ],
      "source": [
        "import tensorflow as tf\n",
        "from tensorflow import keras\n",
        "import numpy as np\n",
        "\n",
        "# model을 직접 만들어 보세요.\n",
        "# Hint! model의 입력/출력부에 특히 유의해 주세요. 가위바위보 데이터셋은 MNIST 데이터셋과 어떤 점이 달라졌나요?\n",
        "# 바꿔 볼 수 있는 하이퍼파라미터들\n",
        "n_channel_1=16\n",
        "n_channel_2=256\n",
        "n_dense=256\n",
        "n_train_epoch=10\n",
        "\n",
        "model=keras.models.Sequential()\n",
        "model.add(keras.layers.Conv2D(n_channel_1, (3,3), activation='relu', input_shape=(28,28,3)))\n",
        "model.add(keras.layers.MaxPool2D(2,2))\n",
        "model.add(keras.layers.Conv2D(n_channel_2, (3,3), activation='relu'))\n",
        "model.add(keras.layers.MaxPooling2D((2,2)))\n",
        "model.add(keras.layers.Flatten())\n",
        "model.add(keras.layers.Dense(n_dense, activation='relu'))\n",
        "model.add(keras.layers.Dense(3, activation='softmax'))\n",
        "\n",
        "model.summary()"
      ]
    },
    {
      "cell_type": "code",
      "execution_count": null,
      "id": "cb50eb27",
      "metadata": {
        "id": "cb50eb27"
      },
      "outputs": [],
      "source": [
        "model.compile(optimizer='adam',\n",
        "             loss='sparse_categorical_crossentropy',\n",
        "             metrics=['accuracy'])"
      ]
    },
    {
      "cell_type": "code",
      "execution_count": null,
      "id": "983d5907",
      "metadata": {
        "id": "983d5907",
        "outputId": "880b78eb-19ff-4a1d-9dbb-da72c6328f50"
      },
      "outputs": [
        {
          "name": "stdout",
          "output_type": "stream",
          "text": [
            "Epoch 1/20\n",
            "30/30 [==============================] - 42s 21ms/step - loss: 1.1082 - accuracy: 0.3479 - val_loss: 1.1248 - val_accuracy: 0.2792\n",
            "Epoch 2/20\n",
            "30/30 [==============================] - 0s 15ms/step - loss: 1.0770 - accuracy: 0.4052 - val_loss: 0.9690 - val_accuracy: 0.5042\n",
            "Epoch 3/20\n",
            "30/30 [==============================] - 0s 14ms/step - loss: 0.9833 - accuracy: 0.4667 - val_loss: 0.9010 - val_accuracy: 0.5083\n",
            "Epoch 4/20\n",
            "30/30 [==============================] - 0s 14ms/step - loss: 0.9305 - accuracy: 0.4938 - val_loss: 0.8084 - val_accuracy: 0.5875\n",
            "Epoch 5/20\n",
            "30/30 [==============================] - 0s 14ms/step - loss: 0.8832 - accuracy: 0.5542 - val_loss: 0.7723 - val_accuracy: 0.6417\n",
            "Epoch 6/20\n",
            "30/30 [==============================] - 0s 14ms/step - loss: 0.8684 - accuracy: 0.5552 - val_loss: 0.7987 - val_accuracy: 0.6375\n",
            "Epoch 7/20\n",
            "30/30 [==============================] - 0s 14ms/step - loss: 0.8211 - accuracy: 0.5979 - val_loss: 0.7870 - val_accuracy: 0.6292\n",
            "Epoch 8/20\n",
            "30/30 [==============================] - 0s 14ms/step - loss: 0.7626 - accuracy: 0.6167 - val_loss: 0.6170 - val_accuracy: 0.7208\n",
            "Epoch 9/20\n",
            "30/30 [==============================] - 0s 14ms/step - loss: 0.7352 - accuracy: 0.6625 - val_loss: 0.6067 - val_accuracy: 0.6708\n",
            "Epoch 10/20\n",
            "30/30 [==============================] - 0s 14ms/step - loss: 0.7067 - accuracy: 0.6646 - val_loss: 0.6338 - val_accuracy: 0.6875\n",
            "Epoch 11/20\n",
            "30/30 [==============================] - 0s 15ms/step - loss: 0.6972 - accuracy: 0.6677 - val_loss: 0.6131 - val_accuracy: 0.7125\n",
            "Epoch 12/20\n",
            "30/30 [==============================] - 0s 14ms/step - loss: 0.6899 - accuracy: 0.6865 - val_loss: 0.6087 - val_accuracy: 0.7042\n",
            "Epoch 13/20\n",
            "30/30 [==============================] - 0s 15ms/step - loss: 0.6512 - accuracy: 0.7000 - val_loss: 0.4728 - val_accuracy: 0.7750\n",
            "Epoch 14/20\n",
            "30/30 [==============================] - 0s 15ms/step - loss: 0.6058 - accuracy: 0.7146 - val_loss: 0.4810 - val_accuracy: 0.7667\n",
            "Epoch 15/20\n",
            "30/30 [==============================] - 0s 14ms/step - loss: 0.6511 - accuracy: 0.6844 - val_loss: 0.5861 - val_accuracy: 0.7208\n",
            "Epoch 16/20\n",
            "30/30 [==============================] - 0s 15ms/step - loss: 0.5992 - accuracy: 0.7281 - val_loss: 0.4309 - val_accuracy: 0.7833\n",
            "Epoch 17/20\n",
            "30/30 [==============================] - 0s 14ms/step - loss: 0.5698 - accuracy: 0.7448 - val_loss: 0.5500 - val_accuracy: 0.7458\n",
            "Epoch 18/20\n",
            "30/30 [==============================] - 0s 15ms/step - loss: 0.5869 - accuracy: 0.7354 - val_loss: 0.4487 - val_accuracy: 0.7958\n",
            "Epoch 19/20\n",
            "30/30 [==============================] - 0s 14ms/step - loss: 0.5730 - accuracy: 0.7469 - val_loss: 0.4608 - val_accuracy: 0.7917\n",
            "Epoch 20/20\n",
            "30/30 [==============================] - 0s 15ms/step - loss: 0.5376 - accuracy: 0.7448 - val_loss: 0.3668 - val_accuracy: 0.8375\n"
          ]
        }
      ],
      "source": [
        "# 모델 훈련\n",
        "history = model.fit(train_data_gen,\n",
        "\n",
        "#                     steps_per_epoch=(len(X2_train))/16,\n",
        "                    epochs=20,\n",
        "                    batch_size = 10,\n",
        "                    validation_data = val_data_gen,\n",
        "                    validation_freq=1\n",
        "                   )"
      ]
    },
    {
      "cell_type": "code",
      "execution_count": null,
      "id": "14c39f5a",
      "metadata": {
        "id": "14c39f5a",
        "outputId": "7dbaf0c6-ce18-4520-d290-ceac2b495396"
      },
      "outputs": [
        {
          "data": {
            "image/png": "[encoded data removed]",
            "text/plain": [
              "<Figure size 432x288 with 1 Axes>"
            ]
          },
          "metadata": {
            "needs_background": "light"
          },
          "output_type": "display_data"
        },
        {
          "data": {
            "image/png": "[encoded data removed]",
            "text/plain": [
              "<Figure size 432x288 with 1 Axes>"
            ]
          },
          "metadata": {
            "needs_background": "light"
          },
          "output_type": "display_data"
        }
      ],
      "source": [
        "# graph\n",
        "acc = history.history['accuracy']\n",
        "val_acc = history.history['val_accuracy']\n",
        "loss = history.history['loss']\n",
        "val_loss = history.history['val_loss']\n",
        "\n",
        "epochs_range = range(1, len(acc)+1)\n",
        "\n",
        "plt.plot(epochs_range, acc, 'bo', label='Training acc')\n",
        "plt.plot(epochs_range, val_acc, 'r', label='Validation acc')\n",
        "plt.xlabel('Epochs')\n",
        "plt.ylabel('Accuracy')\n",
        "plt.title('Training and validation accuracy')\n",
        "plt.legend()\n",
        "\n",
        "plt.figure()\n",
        "\n",
        "plt.plot(epochs_range, loss, 'bo', label='Training loss')\n",
        "plt.plot(epochs_range, val_loss, 'r', label='Validation loss')\n",
        "plt.xlabel('Epochs')\n",
        "plt.ylabel('Loss')\n",
        "plt.title('Training and validation loss')\n",
        "plt.legend()\n",
        "\n",
        "plt.show()"
      ]
    },
    {
      "cell_type": "markdown",
      "id": "b054bade",
      "metadata": {
        "id": "b054bade"
      },
      "source": [
        "## Evaluation"
      ]
    },
    {
      "cell_type": "code",
      "execution_count": null,
      "id": "022d149e",
      "metadata": {
        "id": "022d149e",
        "outputId": "492e2e8c-dbf9-4a06-b795-bd535c896b19"
      },
      "outputs": [
        {
          "name": "stdout",
          "output_type": "stream",
          "text": [
            "10/10 - 0s - loss: 2.8557 - accuracy: 0.3900\n",
            "test_loss: 2.8556697368621826 \n",
            "test_accuracy: 0.38999998569488525\n"
          ]
        }
      ],
      "source": [
        "# 모델 시험\n",
        "test_loss, test_accuracy = model.evaluate(x_test_norm, y_test, verbose=2)\n",
        "print(f\"test_loss: {test_loss} \")\n",
        "print(f\"test_accuracy: {test_accuracy}\")"
      ]
    },
    {
      "cell_type": "markdown",
      "id": "7763ebdf",
      "metadata": {
        "id": "7763ebdf"
      },
      "source": [
        "# without Data Augmentation"
      ]
    },
    {
      "cell_type": "markdown",
      "id": "28558862",
      "metadata": {
        "id": "28558862"
      },
      "source": [
        "## Normalization"
      ]
    },
    {
      "cell_type": "code",
      "execution_count": null,
      "id": "5cc1790c",
      "metadata": {
        "id": "5cc1790c",
        "outputId": "7625152a-471c-4a78-8aad-4f12919c057b"
      },
      "outputs": [
        {
          "name": "stdout",
          "output_type": "stream",
          "text": [
            "x_train_norm shape: (1200, 28, 28, 3)\n",
            "y_train shape: (1200,)\n"
          ]
        }
      ],
      "source": [
        "X2_train_norm = X2_train/255.0   # 입력은 0~1 사이의 값으로 정규화\n",
        "\n",
        "print(\"x_train_norm shape: {}\".format(x_norm.shape))\n",
        "print(\"y_train shape: {}\".format(y.shape))"
      ]
    },
    {
      "cell_type": "code",
      "execution_count": null,
      "id": "1b073ba5",
      "metadata": {
        "id": "1b073ba5"
      },
      "outputs": [],
      "source": [
        "X_val_norm = X_val/255.0   # 입력은 0~1 사이의 값으로 정규화\n",
        "\n",
        "print(\"x_train_norm shape: {}\".format(x_norm.shape))\n",
        "print(\"y_train shape: {}\".format(y.shape))"
      ]
    },
    {
      "cell_type": "markdown",
      "id": "56cb50db",
      "metadata": {
        "id": "56cb50db"
      },
      "source": [
        "## Training"
      ]
    },
    {
      "cell_type": "code",
      "execution_count": null,
      "id": "a932fea8",
      "metadata": {
        "id": "a932fea8",
        "outputId": "200c45e5-099d-444d-941c-3921869f0537"
      },
      "outputs": [
        {
          "name": "stdout",
          "output_type": "stream",
          "text": [
            "Model: \"sequential_5\"\n",
            "_________________________________________________________________\n",
            "Layer (type)                 Output Shape              Param #   \n",
            "=================================================================\n",
            "conv2d_10 (Conv2D)           (None, 26, 26, 16)        448       \n",
            "_________________________________________________________________\n",
            "max_pooling2d_10 (MaxPooling (None, 13, 13, 16)        0         \n",
            "_________________________________________________________________\n",
            "conv2d_11 (Conv2D)           (None, 11, 11, 256)       37120     \n",
            "_________________________________________________________________\n",
            "max_pooling2d_11 (MaxPooling (None, 5, 5, 256)         0         \n",
            "_________________________________________________________________\n",
            "flatten_5 (Flatten)          (None, 6400)              0         \n",
            "_________________________________________________________________\n",
            "dense_10 (Dense)             (None, 256)               1638656   \n",
            "_________________________________________________________________\n",
            "dense_11 (Dense)             (None, 3)                 771       \n",
            "=================================================================\n",
            "Total params: 1,676,995\n",
            "Trainable params: 1,676,995\n",
            "Non-trainable params: 0\n",
            "_________________________________________________________________\n"
          ]
        }
      ],
      "source": [
        "import tensorflow as tf\n",
        "from tensorflow import keras\n",
        "import numpy as np\n",
        "\n",
        "# model을 직접 만들어 보세요.\n",
        "# Hint! model의 입력/출력부에 특히 유의해 주세요. 가위바위보 데이터셋은 MNIST 데이터셋과 어떤 점이 달라졌나요?\n",
        "# 바꿔 볼 수 있는 하이퍼파라미터들\n",
        "n_channel_1=16\n",
        "n_channel_2=256\n",
        "n_dense=256\n",
        "n_train_epoch=10\n",
        "\n",
        "model=keras.models.Sequential()\n",
        "model.add(keras.layers.Conv2D(n_channel_1, (3,3), activation='relu', input_shape=(28,28,3)))\n",
        "model.add(keras.layers.MaxPool2D(2,2))\n",
        "model.add(keras.layers.Conv2D(n_channel_2, (3,3), activation='relu'))\n",
        "model.add(keras.layers.MaxPooling2D((2,2)))\n",
        "model.add(keras.layers.Flatten())\n",
        "model.add(keras.layers.Dense(n_dense, activation='relu'))\n",
        "model.add(keras.layers.Dense(3, activation='softmax'))\n",
        "\n",
        "model.summary()"
      ]
    },
    {
      "cell_type": "code",
      "execution_count": null,
      "id": "0e22af95",
      "metadata": {
        "id": "0e22af95"
      },
      "outputs": [],
      "source": [
        "model.compile(optimizer='adam',\n",
        "             loss='sparse_categorical_crossentropy',\n",
        "             metrics=['accuracy'])"
      ]
    },
    {
      "cell_type": "code",
      "execution_count": null,
      "id": "e41cf103",
      "metadata": {
        "id": "e41cf103",
        "outputId": "880b78eb-19ff-4a1d-9dbb-da72c6328f50"
      },
      "outputs": [
        {
          "name": "stdout",
          "output_type": "stream",
          "text": [
            "Epoch 1/20\n",
            "96/96 [==============================] - 1s 5ms/step - loss: 0.9931 - accuracy: 0.4906 - val_loss: 0.8065 - val_accuracy: 0.5500\n",
            "Epoch 2/20\n",
            "96/96 [==============================] - 0s 4ms/step - loss: 0.7724 - accuracy: 0.6156 - val_loss: 0.6329 - val_accuracy: 0.7583\n",
            "Epoch 3/20\n",
            "96/96 [==============================] - 0s 3ms/step - loss: 0.6050 - accuracy: 0.6990 - val_loss: 0.5851 - val_accuracy: 0.6708\n",
            "Epoch 4/20\n",
            "96/96 [==============================] - 0s 3ms/step - loss: 0.4773 - accuracy: 0.7781 - val_loss: 0.4431 - val_accuracy: 0.7917\n",
            "Epoch 5/20\n",
            "96/96 [==============================] - 0s 3ms/step - loss: 0.4088 - accuracy: 0.8167 - val_loss: 0.3300 - val_accuracy: 0.8708\n",
            "Epoch 6/20\n",
            "96/96 [==============================] - 0s 3ms/step - loss: 0.3094 - accuracy: 0.8656 - val_loss: 0.2325 - val_accuracy: 0.9083\n",
            "Epoch 7/20\n",
            "96/96 [==============================] - 0s 4ms/step - loss: 0.2498 - accuracy: 0.9000 - val_loss: 0.2541 - val_accuracy: 0.8792\n",
            "Epoch 8/20\n",
            "96/96 [==============================] - 0s 3ms/step - loss: 0.2071 - accuracy: 0.9187 - val_loss: 0.1645 - val_accuracy: 0.9333\n",
            "Epoch 9/20\n",
            "96/96 [==============================] - 0s 3ms/step - loss: 0.1474 - accuracy: 0.9510 - val_loss: 0.1371 - val_accuracy: 0.9292\n",
            "Epoch 10/20\n",
            "96/96 [==============================] - 0s 3ms/step - loss: 0.1114 - accuracy: 0.9625 - val_loss: 0.1122 - val_accuracy: 0.9542\n",
            "Epoch 11/20\n",
            "96/96 [==============================] - 0s 3ms/step - loss: 0.0899 - accuracy: 0.9740 - val_loss: 0.1067 - val_accuracy: 0.9500\n",
            "Epoch 12/20\n",
            "96/96 [==============================] - 0s 3ms/step - loss: 0.0935 - accuracy: 0.9635 - val_loss: 0.1734 - val_accuracy: 0.9292\n",
            "Epoch 13/20\n",
            "96/96 [==============================] - 0s 4ms/step - loss: 0.2270 - accuracy: 0.9323 - val_loss: 0.1030 - val_accuracy: 0.9625\n",
            "Epoch 14/20\n",
            "96/96 [==============================] - 0s 3ms/step - loss: 0.0752 - accuracy: 0.9792 - val_loss: 0.0873 - val_accuracy: 0.9708\n",
            "Epoch 15/20\n",
            "96/96 [==============================] - 0s 3ms/step - loss: 0.0701 - accuracy: 0.9823 - val_loss: 0.0694 - val_accuracy: 0.9833\n",
            "Epoch 16/20\n",
            "96/96 [==============================] - 0s 4ms/step - loss: 0.0407 - accuracy: 0.9927 - val_loss: 0.0474 - val_accuracy: 0.9875\n",
            "Epoch 17/20\n",
            "96/96 [==============================] - 0s 3ms/step - loss: 0.0246 - accuracy: 0.9927 - val_loss: 0.0376 - val_accuracy: 0.9917\n",
            "Epoch 18/20\n",
            "96/96 [==============================] - 0s 3ms/step - loss: 0.0192 - accuracy: 0.9937 - val_loss: 0.0456 - val_accuracy: 0.9917\n",
            "Epoch 19/20\n",
            "96/96 [==============================] - 0s 3ms/step - loss: 0.0226 - accuracy: 0.9969 - val_loss: 0.0457 - val_accuracy: 0.9750\n",
            "Epoch 20/20\n",
            "96/96 [==============================] - 0s 3ms/step - loss: 0.0153 - accuracy: 0.9969 - val_loss: 0.0269 - val_accuracy: 0.9958\n"
          ]
        }
      ],
      "source": [
        "# 모델 훈련\n",
        "history = model.fit(\n",
        "                    X2_train_norm,\n",
        "                    y2_train,\n",
        "#                     steps_per_epoch=(len(X2_train))/16,\n",
        "                    epochs=20,\n",
        "                    batch_size = 10,\n",
        "                    validation_data = (X_val_norm, y_val),\n",
        "                    validation_freq=1\n",
        "                   )"
      ]
    },
    {
      "cell_type": "code",
      "execution_count": null,
      "id": "193fb238",
      "metadata": {
        "id": "193fb238",
        "outputId": "7dbaf0c6-ce18-4520-d290-ceac2b495396"
      },
      "outputs": [
        {
          "data": {
            "image/png": "[encoded data removed]",
            "text/plain": [
              "<Figure size 432x288 with 1 Axes>"
            ]
          },
          "metadata": {
            "needs_background": "light"
          },
          "output_type": "display_data"
        },
        {
          "data": {
            "image/png": "[encoded data removed]",
            "text/plain": [
              "<Figure size 432x288 with 1 Axes>"
            ]
          },
          "metadata": {
            "needs_background": "light"
          },
          "output_type": "display_data"
        }
      ],
      "source": [
        "# graph\n",
        "acc = history.history['accuracy']\n",
        "val_acc = history.history['val_accuracy']\n",
        "loss = history.history['loss']\n",
        "val_loss = history.history['val_loss']\n",
        "\n",
        "epochs_range = range(1, len(acc)+1)\n",
        "\n",
        "plt.plot(epochs_range, acc, 'bo', label='Training acc')\n",
        "plt.plot(epochs_range, val_acc, 'r', label='Validation acc')\n",
        "plt.xlabel('Epochs')\n",
        "plt.ylabel('Accuracy')\n",
        "plt.title('Training and validation accuracy')\n",
        "plt.legend()\n",
        "\n",
        "plt.figure()\n",
        "\n",
        "plt.plot(epochs_range, loss, 'bo', label='Training loss')\n",
        "plt.plot(epochs_range, val_loss, 'r', label='Validation loss')\n",
        "plt.xlabel('Epochs')\n",
        "plt.ylabel('Loss')\n",
        "plt.title('Training and validation loss')\n",
        "plt.legend()\n",
        "\n",
        "plt.show()"
      ]
    },
    {
      "cell_type": "markdown",
      "id": "05fe3df0",
      "metadata": {
        "id": "05fe3df0"
      },
      "source": [
        "## Evaluation"
      ]
    },
    {
      "cell_type": "code",
      "execution_count": null,
      "id": "38a3e0ef",
      "metadata": {
        "id": "38a3e0ef",
        "outputId": "492e2e8c-dbf9-4a06-b795-bd535c896b19"
      },
      "outputs": [
        {
          "name": "stdout",
          "output_type": "stream",
          "text": [
            "10/10 - 0s - loss: 7.5890 - accuracy: 0.6033\n",
            "test_loss: 7.589022636413574 \n",
            "test_accuracy: 0.6033333539962769\n"
          ]
        }
      ],
      "source": [
        "# 모델 시험\n",
        "test_loss, test_accuracy = model.evaluate(x_test_norm, y_test, verbose=2)\n",
        "print(f\"test_loss: {test_loss} \")\n",
        "print(f\"test_accuracy: {test_accuracy}\")"
      ]
    },
    {
      "cell_type": "markdown",
      "id": "2a0acad0",
      "metadata": {
        "id": "2a0acad0"
      },
      "source": [
        "# Review\n",
        "- 처음에 다른 데이터 수집인이 만든 data set으로 각각 train data(600개)와 test data(300개)으로 학습을 하고 평가를 하였더니 학습을 하는 동안 정확도가 1이 나오고 평가에서는 최대 0.44로 과적합이었음.\n",
        "- 과적합을 해결하고자 data augmentation으로 데이터 개수를 증가시키려 하였으나 실패\n",
        "- 데이터 수집인이 다를 경우 data set의 차이가 있음을 인지하고 3개의 data set을 합치고 train, test, validation data를 분리하여 학습하였더니 과적합 문제가 해결되었음. => 다른 수집인의 data set을 test로 사용해야 하는 제한이었으므로 다시 다른 수집인의 데이터 전체를 test data로 설정\n",
        "- test data를 고유한 수집인의 것으로 놔두고 data set을 하나 더 추가하여 학습에 사용한 데이터를 1200개로 늘려 학습하였더니 정확도 0.6을 넘음.\n",
        "- 확실히 data augmentation은 데이터 양을 순수히 증가시키지 않는 한 정확도를 높이는 효과를 얻었음. 그러나 순수히 정확도를 높이는 좋은 방법은 데이터가 많은 것임.  \n",
        "</br>\n",
        "- 각각 다른 zip 파일을 다루는 가운데 여러가지 고려해야 할 사항들이 있었음.\n",
        "    - 중복된 파일 이름 바꾸기\n",
        "    - 여러 폴더에 있는 파일을 한 폴더로 옮기기\n",
        "    - 데이터의 손상을 대비하여 복사하기"
      ]
    }
  ],
  "metadata": {
    "colab": {
      "provenance": [],
      "toc_visible": true,
      "include_colab_link": true
    },
    "kernelspec": {
      "display_name": "Python 3 (ipykernel)",
      "language": "python",
      "name": "python3"
    },
    "language_info": {
      "codemirror_mode": {
        "name": "ipython",
        "version": 3
      },
      "file_extension": ".py",
      "mimetype": "text/x-python",
      "name": "python",
      "nbconvert_exporter": "python",
      "pygments_lexer": "ipython3",
      "version": "3.9.7"
    }
  },
  "nbformat": 4,
  "nbformat_minor": 5
}