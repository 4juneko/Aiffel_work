{
  "cells": [
    {
      "cell_type": "markdown",
      "metadata": {
        "id": "view-in-github",
        "colab_type": "text"
      },
      "source": [
        "<a href=\"https://colab.research.google.com/github/4juneko/Aiffel_work/blob/master/13_rock_scissor_paper_05112023.ipynb\" target=\"_parent\"><img src=\"https://colab.research.google.com/assets/colab-badge.svg\" alt=\"Open In Colab\"/></a>"
      ]
    },
    {
      "cell_type": "markdown",
      "source": [
        "# Rubric"
      ],
      "metadata": {
        "id": "UyB-GjHDetau"
      },
      "id": "UyB-GjHDetau"
    },
    {
      "cell_type": "markdown",
      "id": "7c66330b",
      "metadata": {
        "id": "7c66330b"
      },
      "source": [
        "|평가문항\t|상세기준| 내평가|\n",
        "|--|--|--|\n",
        "|1. 이미지 분류기 모델이 성공적으로 만들어졌는가?\t|학습과정이 정상적으로 수행되었으며,  </br>학습 결과에 대한 그래프를 시각화(ex. train acc / train loss / val acc / val loss 등) 해 보았음|O|\n",
        "|2. 오버피팅을 극복하기 위한 적절한 시도가 있었는가?\t|오버피팅 극복을 위하여   </br>데이터셋의 다양성, 정규화 등을 2가지 이상 시도해보았음|O|\n",
        "|3. 분류모델의 test accuracy가 기준 이상 높게 나왔는가?|\t60% 이상 도달하였음|O|"
      ]
    },
    {
      "cell_type": "code",
      "execution_count": null,
      "id": "d6d8c654",
      "metadata": {
        "id": "d6d8c654",
        "outputId": "079bc7f4-e98d-48d8-bbc4-7f4246484743"
      },
      "outputs": [
        {
          "name": "stdout",
          "output_type": "stream",
          "text": [
            "2.6.0\n",
            "1.21.4\n"
          ]
        }
      ],
      "source": [
        "import tensorflow as tf\n",
        "import numpy as np\n",
        "\n",
        "print(tf.__version__)\n",
        "print(np.__version__)"
      ]
    },
    {
      "cell_type": "code",
      "execution_count": null,
      "id": "9c389f84",
      "metadata": {
        "id": "9c389f84",
        "outputId": "32495403-681f-4e9a-b744-09cc5a9f33a7"
      },
      "outputs": [
        {
          "name": "stdout",
          "output_type": "stream",
          "text": [
            "PIL 라이브러리 import 완료!\n"
          ]
        }
      ],
      "source": [
        "from PIL import Image\n",
        "import glob\n",
        "import os\n",
        "import matplotlib.pyplot as plt\n",
        "\n",
        "print(\"PIL 라이브러리 import 완료!\")"
      ]
    },
    {
      "cell_type": "markdown",
      "id": "b051a1f7",
      "metadata": {
        "id": "b051a1f7"
      },
      "source": [
        "# Unzip , Rename & Move file"
      ]
    },
    {
      "cell_type": "code",
      "execution_count": null,
      "id": "2b871b23",
      "metadata": {
        "id": "2b871b23"
      },
      "outputs": [],
      "source": [
        "import zipfile\n",
        "\n",
        "def un_zip(dir_name):\n",
        "    for i in 'paper', 'scissor', 'rock':\n",
        "        for j in '','1','2':\n",
        "            zip_file = zipfile.ZipFile(os.getenv(\"HOME\") + dir_name +i+\"/\" + i + j + \".zip\")\n",
        "            os.makedirs(os.getenv(\"HOME\") + dir_name +i+\"/\" + i + j)\n",
        "            new_dir = os.getenv(\"HOME\") + dir_name +i+\"/\" + i + j\n",
        "            zip_file.extractall(new_dir)\n",
        "    "
      ]
    },
    {
      "cell_type": "code",
      "execution_count": null,
      "id": "48f1ebe4",
      "metadata": {
        "id": "48f1ebe4"
      },
      "outputs": [],
      "source": [
        "un_zip('/aiffel/05112023/data_0518/')"
      ]
    },
    {
      "cell_type": "code",
      "execution_count": null,
      "id": "c45d0cfb",
      "metadata": {
        "id": "c45d0cfb"
      },
      "outputs": [],
      "source": [
        "# un_zip('/aiffel/05112023/test/','/aiffel/05112023/test/')"
      ]
    },
    {
      "cell_type": "code",
      "execution_count": null,
      "id": "9be60f6b",
      "metadata": {
        "id": "9be60f6b"
      },
      "outputs": [],
      "source": [
        "#rename\n",
        "def rename(no):\n",
        "    no = str(no)\n",
        "    for i in 'paper', 'scissor', 'rock':\n",
        "        for j in range(100):\n",
        "            k= str(j)\n",
        "            old_file = os.path.join(os.getenv(\"HOME\") + '/aiffel/05112023/data_0518/' + i +'/'+i+no, k + '.jpg')\n",
        "            l=str(j+200)\n",
        "            new_file = os.path.join(os.getenv(\"HOME\") + '/aiffel/05112023/data_0518/'+ i +'/'+i+no, l +'.jpg')\n",
        "            os.rename(old_file, new_file)\n",
        "        "
      ]
    },
    {
      "cell_type": "code",
      "execution_count": null,
      "id": "e320fa87",
      "metadata": {
        "id": "e320fa87"
      },
      "outputs": [],
      "source": [
        "rename(2)"
      ]
    },
    {
      "cell_type": "code",
      "execution_count": null,
      "id": "354cf5e9",
      "metadata": {
        "id": "354cf5e9"
      },
      "outputs": [],
      "source": [
        "# combine files\n",
        "import shutil\n",
        "import os\n",
        " \n",
        "src = os.getenv(\"HOME\") + '/aiffel/05112023/data_0518/'\n",
        "dest = os.getenv(\"HOME\") + '/aiffel/05112023/data/'\n",
        "\n",
        "for i in 'paper', 'scissor', 'rock':\n",
        "    src_ = src + i +'/' + i +'2/'\n",
        "    dest_ = dest + i +'/'\n",
        "    files = os.listdir(src_)\n",
        "    for f in files:\n",
        "        shutil.move(src_ + f, dest_)"
      ]
    },
    {
      "cell_type": "code",
      "execution_count": null,
      "id": "2522bb67",
      "metadata": {
        "id": "2522bb67"
      },
      "outputs": [],
      "source": [
        "#copy data\n",
        "src = os.getenv(\"HOME\") + '/aiffel/05112023/data/'\n",
        "# os.makedirs(os.getenv(\"HOME\") + '/aiffel/05112023/data_copy/')\n",
        "\n",
        "for i in 'paper', 'scissor', 'rock':\n",
        "    src_ = src + i +'/'\n",
        "#     os.makedirs(os.getenv(\"HOME\") + '/aiffel/05112023/data_copy/' + i +'/')\n",
        "    dest = os.getenv(\"HOME\") + '/aiffel/05112023/data_copy/' + i +'/'\n",
        "    \n",
        "#     files = os.listdir(src_)\n",
        "    for f in files:\n",
        "        shutil.copytree(dest, src_)"
      ]
    },
    {
      "cell_type": "markdown",
      "id": "afd50bd7",
      "metadata": {
        "id": "afd50bd7"
      },
      "source": [
        "# Resize"
      ]
    },
    {
      "cell_type": "code",
      "execution_count": null,
      "id": "78733448",
      "metadata": {
        "id": "78733448"
      },
      "outputs": [],
      "source": [
        "def resize_images(img_path):\n",
        "    for i in 'paper', 'scissor', 'rock':\n",
        "        images=glob.glob(img_path +i+\"/\"+\"*.jpg\")  \n",
        "\n",
        "        print(len(images), \" \"+ i+\" images to be resized.\")\n",
        "\n",
        "        # 파일마다 모두 28x28 사이즈로 바꾸어 저장합니다.\n",
        "        target_size=(28,28)\n",
        "        for img in images:\n",
        "            old_img=Image.open(img)\n",
        "            new_img=old_img.resize(target_size,Image.ANTIALIAS)\n",
        "            new_img.save(img, \"JPEG\")\n",
        "\n",
        "        print(len(images),\" \"+ i+ \" images resized.\")"
      ]
    },
    {
      "cell_type": "code",
      "execution_count": null,
      "id": "9ebdbcdb",
      "metadata": {
        "id": "9ebdbcdb",
        "outputId": "9a1463ec-2ff3-4ad6-8cbb-25d60f2cf2d5"
      },
      "outputs": [
        {
          "name": "stdout",
          "output_type": "stream",
          "text": [
            "300  paper images to be resized.\n",
            "300  paper images resized.\n",
            "300  scissor images to be resized.\n",
            "300  scissor images resized.\n",
            "300  rock images to be resized.\n",
            "300  rock images resized.\n"
          ]
        }
      ],
      "source": [
        "# 이미지가 저장된 디렉토리 아래의 모든 jpg 파일을 읽어들여서\n",
        "image_dir_path = os.getenv(\"HOME\") + \"/aiffel/05112023/data/\"\n",
        "resize_images(image_dir_path)"
      ]
    },
    {
      "cell_type": "code",
      "execution_count": null,
      "id": "e237993d",
      "metadata": {
        "id": "e237993d",
        "outputId": "0441f7c2-0f6d-4da5-bb7a-28d2239ea7f4"
      },
      "outputs": [
        {
          "name": "stdout",
          "output_type": "stream",
          "text": [
            "100  paper images to be resized.\n",
            "100  paper images resized.\n",
            "100  scissor images to be resized.\n",
            "100  scissor images resized.\n",
            "100  rock images to be resized.\n",
            "100  rock images resized.\n"
          ]
        }
      ],
      "source": [
        "# image_dir_path = os.getenv(\"HOME\") + \"/aiffel/05112023/test/\"\n",
        "# resize_images(image_dir_path)"
      ]
    },
    {
      "cell_type": "markdown",
      "id": "3b78a5ae",
      "metadata": {
        "id": "3b78a5ae"
      },
      "source": [
        "# Labeling"
      ]
    },
    {
      "cell_type": "code",
      "execution_count": null,
      "id": "6b8d1c20",
      "metadata": {
        "id": "6b8d1c20"
      },
      "outputs": [],
      "source": [
        "import numpy as np\n",
        "\n",
        "def load_data(img_path, number_of_data):  # 가위바위보 이미지 개수 총합에 주의하세요.\n",
        "    # 가위 : 0, 바위 : 1, 보 : 2\n",
        "    img_size=28\n",
        "    color=3\n",
        "    #이미지 데이터와 라벨(가위 : 0, 바위 : 1, 보 : 2) 데이터를 담을 행렬(matrix) 영역을 생성합니다.\n",
        "    imgs=np.zeros(number_of_data*img_size*img_size*color,dtype=np.int32).reshape(number_of_data,img_size,img_size,color)\n",
        "    labels=np.zeros(number_of_data,dtype=np.int32)\n",
        "\n",
        "    idx=0\n",
        "    for file in glob.iglob(img_path+'/scissor/*.jpg'):\n",
        "        img = np.array(Image.open(file),dtype=np.int32)\n",
        "        imgs[idx,:,:,:]=img    # 데이터 영역에 이미지 행렬을 복사\n",
        "        labels[idx]=0   # 가위 : 0\n",
        "        idx=idx+1\n",
        "\n",
        "    for file in glob.iglob(img_path+'/rock/*.jpg'):\n",
        "        img = np.array(Image.open(file),dtype=np.int32)\n",
        "        imgs[idx,:,:,:]=img    # 데이터 영역에 이미지 행렬을 복사\n",
        "        labels[idx]=1   # 바위 : 1\n",
        "        idx=idx+1  \n",
        "    \n",
        "    for file in glob.iglob(img_path+'/paper/*.jpg'):\n",
        "        img = np.array(Image.open(file),dtype=np.int32)\n",
        "        imgs[idx,:,:,:]=img    # 데이터 영역에 이미지 행렬을 복사\n",
        "        labels[idx]=2   # 보 : 2\n",
        "        idx=idx+1\n",
        "        \n",
        "    print(\"학습데이터(x_train)의 이미지 개수는\", idx,\"입니다.\")\n",
        "    return imgs, labels"
      ]
    },
    {
      "cell_type": "code",
      "execution_count": null,
      "id": "1e2c3bb6",
      "metadata": {
        "id": "1e2c3bb6",
        "outputId": "2243f3b7-5e88-4159-a57e-a65eaa495f53"
      },
      "outputs": [
        {
          "name": "stdout",
          "output_type": "stream",
          "text": [
            "학습데이터(x_train)의 이미지 개수는 900 입니다.\n"
          ]
        }
      ],
      "source": [
        "image_dir_path = os.getenv(\"HOME\") + \"/aiffel/05112023/data\"\n",
        "(x, y)=load_data(image_dir_path, 900)"
      ]
    },
    {
      "cell_type": "markdown",
      "id": "c2020200",
      "metadata": {
        "id": "c2020200"
      },
      "source": [
        "# Normalization"
      ]
    },
    {
      "cell_type": "code",
      "execution_count": null,
      "id": "2f9a9d52",
      "metadata": {
        "id": "2f9a9d52",
        "outputId": "e3fe4e43-aaa0-4582-9ab2-d142dfe46e55"
      },
      "outputs": [
        {
          "name": "stdout",
          "output_type": "stream",
          "text": [
            "x_train_norm shape: (900, 28, 28, 3)\n",
            "y_train shape: (900,)\n"
          ]
        }
      ],
      "source": [
        "x_norm = x/255.0   # 입력은 0~1 사이의 값으로 정규화\n",
        "\n",
        "print(\"x_train_norm shape: {}\".format(x_norm.shape))\n",
        "print(\"y_train shape: {}\".format(y.shape))"
      ]
    },
    {
      "cell_type": "markdown",
      "id": "d9916980",
      "metadata": {
        "id": "d9916980"
      },
      "source": [
        "# Split"
      ]
    },
    {
      "cell_type": "code",
      "execution_count": null,
      "id": "f62dc50d",
      "metadata": {
        "id": "f62dc50d",
        "outputId": "88543f2a-6d18-436a-e3c0-fe9b89837579"
      },
      "outputs": [
        {
          "name": "stdout",
          "output_type": "stream",
          "text": [
            "(180, 28, 28, 3) (180,)\n"
          ]
        },
        {
          "data": {
            "text/plain": [
              "((576, 28, 28, 3), (144, 28, 28, 3), (180, 28, 28, 3))"
            ]
          },
          "execution_count": 8,
          "metadata": {},
          "output_type": "execute_result"
        }
      ],
      "source": [
        "from sklearn.model_selection import train_test_split\n",
        "\n",
        "# split train - test \n",
        "X_train, X_test, y_train, y_test = train_test_split(x_norm, y, test_size= 0.2, random_state=1234)\n",
        "print(X_test.shape, y_test.shape)\n",
        "\n",
        "# split train-validation\n",
        "X2_train, X_val, y2_train, y_val = train_test_split(X_train, y_train, test_size= 0.2, random_state=1234)\n",
        "X2_train.shape, X_val.shape, X_test.shape"
      ]
    },
    {
      "cell_type": "code",
      "execution_count": null,
      "id": "46c6e568",
      "metadata": {
        "id": "46c6e568",
        "outputId": "338d5d22-25f7-435c-8590-27794cb61359"
      },
      "outputs": [
        {
          "name": "stdout",
          "output_type": "stream",
          "text": [
            "라벨:  0\n"
          ]
        },
        {
          "data": {
            "image/png": "[encoded data removed]",
            "text/plain": [
              "<Figure size 432x288 with 1 Axes>"
            ]
          },
          "metadata": {
            "needs_background": "light"
          },
          "output_type": "display_data"
        }
      ],
      "source": [
        "import matplotlib.pyplot as plt\n",
        "plt.imshow(X2_train[0])\n",
        "print('라벨: ', y_train[0])"
      ]
    },
    {
      "cell_type": "markdown",
      "id": "b560a772",
      "metadata": {
        "id": "b560a772"
      },
      "source": [
        "# Training"
      ]
    },
    {
      "cell_type": "code",
      "execution_count": null,
      "id": "9a098db4",
      "metadata": {
        "id": "9a098db4",
        "outputId": "cbcfb6c3-c81f-4dd0-ef20-67a1ed2c2d3e"
      },
      "outputs": [
        {
          "name": "stdout",
          "output_type": "stream",
          "text": [
            "Model: \"sequential\"\n",
            "_________________________________________________________________\n",
            "Layer (type)                 Output Shape              Param #   \n",
            "=================================================================\n",
            "conv2d (Conv2D)              (None, 26, 26, 16)        448       \n",
            "_________________________________________________________________\n",
            "max_pooling2d (MaxPooling2D) (None, 13, 13, 16)        0         \n",
            "_________________________________________________________________\n",
            "conv2d_1 (Conv2D)            (None, 11, 11, 256)       37120     \n",
            "_________________________________________________________________\n",
            "max_pooling2d_1 (MaxPooling2 (None, 5, 5, 256)         0         \n",
            "_________________________________________________________________\n",
            "flatten (Flatten)            (None, 6400)              0         \n",
            "_________________________________________________________________\n",
            "dense (Dense)                (None, 256)               1638656   \n",
            "_________________________________________________________________\n",
            "dense_1 (Dense)              (None, 3)                 771       \n",
            "=================================================================\n",
            "Total params: 1,676,995\n",
            "Trainable params: 1,676,995\n",
            "Non-trainable params: 0\n",
            "_________________________________________________________________\n"
          ]
        }
      ],
      "source": [
        "import tensorflow as tf\n",
        "from tensorflow import keras\n",
        "import numpy as np\n",
        "\n",
        "# model을 직접 만들어 보세요.\n",
        "# Hint! model의 입력/출력부에 특히 유의해 주세요. 가위바위보 데이터셋은 MNIST 데이터셋과 어떤 점이 달라졌나요?\n",
        "# 바꿔 볼 수 있는 하이퍼파라미터들\n",
        "n_channel_1=16\n",
        "n_channel_2=256\n",
        "n_dense=256\n",
        "n_train_epoch=10\n",
        "\n",
        "model=keras.models.Sequential()\n",
        "model.add(keras.layers.Conv2D(n_channel_1, (3,3), activation='relu', input_shape=(28,28,3)))\n",
        "model.add(keras.layers.MaxPool2D(2,2))\n",
        "model.add(keras.layers.Conv2D(n_channel_2, (3,3), activation='relu'))\n",
        "model.add(keras.layers.MaxPooling2D((2,2)))\n",
        "model.add(keras.layers.Flatten())\n",
        "model.add(keras.layers.Dense(n_dense, activation='relu'))\n",
        "model.add(keras.layers.Dense(3, activation='softmax'))\n",
        "\n",
        "model.summary()"
      ]
    },
    {
      "cell_type": "code",
      "execution_count": null,
      "id": "274db5c7",
      "metadata": {
        "id": "274db5c7"
      },
      "outputs": [],
      "source": [
        "model.compile(optimizer='adam',\n",
        "             loss='sparse_categorical_crossentropy',\n",
        "             metrics=['accuracy'])"
      ]
    },
    {
      "cell_type": "code",
      "execution_count": null,
      "id": "a4173101",
      "metadata": {
        "id": "a4173101",
        "outputId": "84cae15e-2f9d-4456-f435-87cd72c8aec5"
      },
      "outputs": [
        {
          "data": {
            "text/plain": [
              "(576, 28, 28, 3)"
            ]
          },
          "execution_count": 12,
          "metadata": {},
          "output_type": "execute_result"
        }
      ],
      "source": [
        "X2_train.shape"
      ]
    },
    {
      "cell_type": "code",
      "execution_count": null,
      "id": "c3cb1169",
      "metadata": {
        "id": "c3cb1169",
        "outputId": "4d486133-fe7f-444a-cad9-9d458d29c281"
      },
      "outputs": [
        {
          "name": "stdout",
          "output_type": "stream",
          "text": [
            "Epoch 1/10\n",
            "58/58 [==============================] - 3s 10ms/step - loss: 1.0809 - accuracy: 0.4132 - val_loss: 0.9459 - val_accuracy: 0.4931\n",
            "Epoch 2/10\n",
            "58/58 [==============================] - 0s 4ms/step - loss: 0.8114 - accuracy: 0.6302 - val_loss: 0.6724 - val_accuracy: 0.6736\n",
            "Epoch 3/10\n",
            "58/58 [==============================] - 0s 4ms/step - loss: 0.6346 - accuracy: 0.6892 - val_loss: 0.6471 - val_accuracy: 0.6736\n",
            "Epoch 4/10\n",
            "58/58 [==============================] - 0s 4ms/step - loss: 0.5113 - accuracy: 0.7483 - val_loss: 0.4938 - val_accuracy: 0.7569\n",
            "Epoch 5/10\n",
            "58/58 [==============================] - 0s 4ms/step - loss: 0.3827 - accuracy: 0.8247 - val_loss: 0.4406 - val_accuracy: 0.8194\n",
            "Epoch 6/10\n",
            "58/58 [==============================] - 0s 4ms/step - loss: 0.3695 - accuracy: 0.8438 - val_loss: 0.4379 - val_accuracy: 0.8125\n",
            "Epoch 7/10\n",
            "58/58 [==============================] - 0s 4ms/step - loss: 0.2977 - accuracy: 0.8750 - val_loss: 0.4159 - val_accuracy: 0.8333\n",
            "Epoch 8/10\n",
            "58/58 [==============================] - 0s 4ms/step - loss: 0.2733 - accuracy: 0.8906 - val_loss: 0.3413 - val_accuracy: 0.8958\n",
            "Epoch 9/10\n",
            "58/58 [==============================] - 0s 4ms/step - loss: 0.2177 - accuracy: 0.9219 - val_loss: 0.3107 - val_accuracy: 0.8750\n",
            "Epoch 10/10\n",
            "58/58 [==============================] - 0s 4ms/step - loss: 0.1693 - accuracy: 0.9375 - val_loss: 0.2608 - val_accuracy: 0.8889\n"
          ]
        }
      ],
      "source": [
        "# 모델 훈련\n",
        "history = model.fit(X2_train,\n",
        "                    y2_train,\n",
        "#                     steps_per_epoch=(len(X2_train))/16,\n",
        "                    epochs=n_train_epoch,\n",
        "                    batch_size = 10,\n",
        "                    validation_data = (X_val, y_val)\n",
        "#                     validation_freq=1\n",
        "                   )"
      ]
    },
    {
      "cell_type": "code",
      "execution_count": null,
      "id": "b1c9b9f1",
      "metadata": {
        "id": "b1c9b9f1",
        "outputId": "400131e6-ccbe-48bd-a80d-51cb08b2cd98"
      },
      "outputs": [
        {
          "data": {
            "image/png": "[encoded data removed]",
            "text/plain": [
              "<Figure size 432x288 with 1 Axes>"
            ]
          },
          "metadata": {
            "needs_background": "light"
          },
          "output_type": "display_data"
        },
        {
          "data": {
            "image/png": "[encoded data removed]",
            "text/plain": [
              "<Figure size 432x288 with 1 Axes>"
            ]
          },
          "metadata": {
            "needs_background": "light"
          },
          "output_type": "display_data"
        }
      ],
      "source": [
        "# graph\n",
        "acc = history.history['accuracy']\n",
        "val_acc = history.history['val_accuracy']\n",
        "loss = history.history['loss']\n",
        "val_loss = history.history['val_loss']\n",
        "\n",
        "epochs_range = range(1, len(acc)+1)\n",
        "\n",
        "plt.plot(epochs_range, acc, 'bo', label='Training acc')\n",
        "plt.plot(epochs_range, val_acc, 'r', label='Validation acc')\n",
        "plt.xlabel('Epochs')\n",
        "plt.ylabel('Accuracy')\n",
        "plt.title('Training and validation accuracy')\n",
        "plt.legend()\n",
        "\n",
        "plt.figure()\n",
        "\n",
        "plt.plot(epochs_range, loss, 'bo', label='Training loss')\n",
        "plt.plot(epochs_range, val_loss, 'r', label='Validation loss')\n",
        "plt.xlabel('Epochs')\n",
        "plt.ylabel('Loss')\n",
        "plt.title('Training and validation loss')\n",
        "plt.legend()\n",
        "\n",
        "plt.show()"
      ]
    },
    {
      "cell_type": "markdown",
      "id": "16576df6",
      "metadata": {
        "id": "16576df6"
      },
      "source": [
        "# Evaluation"
      ]
    },
    {
      "cell_type": "code",
      "execution_count": null,
      "id": "6fbe6abd",
      "metadata": {
        "id": "6fbe6abd",
        "outputId": "c33744c0-55df-432d-a2d1-25884c07da60"
      },
      "outputs": [
        {
          "name": "stdout",
          "output_type": "stream",
          "text": [
            "6/6 - 0s - loss: 0.3169 - accuracy: 0.8944\n",
            "test_loss: 0.3169000446796417 \n",
            "test_accuracy: 0.894444465637207\n"
          ]
        }
      ],
      "source": [
        "# 모델 시험\n",
        "test_loss, test_accuracy = model.evaluate(X_test, y_test, verbose=2)\n",
        "print(f\"test_loss: {test_loss} \")\n",
        "print(f\"test_accuracy: {test_accuracy}\")"
      ]
    },
    {
      "cell_type": "markdown",
      "source": [
        "# Review\n",
        "- 처음에 다른 데이터 수집인이 만든 data set으로 각각 train data와 test data으로 학습을 하고 평가를 하였더니 학습을 하는 동안 정확도가 1이 나오고 평가에서는 최대 0.44로 과적합이었음.\n",
        "- 과적합을 해결하고자 data augmentation으로 데이터 개수를 증가시키려 하였으나 pipeline 만드는 과정에서 코드 오류를 해결하지 못하고 중단하였음.\n",
        "- 데이터 수집인이 다를 경우 data set의 차이가 있음을 인지하고 3개의 data set을 합치고 train, test, validation data를 분리하여 학습하였더니 과적합 문제가 해결되었음. => 다른 수집인의 data set을 test로 사용해야 하는 제한이었던 건지...\n",
        "- 각각 다른 zip 파일을 다루는 가운데 여러가지 고려해야 할 사항들이 있었음.\n",
        "    - 중복된 파일 이름 바꾸기\n",
        "    - 여러 폴더에 있는 파일을 한 폴더로 옮기기\n",
        "    - 데이터의 손상을 대비하여 복사하기"
      ],
      "metadata": {
        "id": "4SF4uoyfe7qb"
      },
      "id": "4SF4uoyfe7qb"
    }
  ],
  "metadata": {
    "kernelspec": {
      "display_name": "Python 3 (ipykernel)",
      "language": "python",
      "name": "python3"
    },
    "language_info": {
      "codemirror_mode": {
        "name": "ipython",
        "version": 3
      },
      "file_extension": ".py",
      "mimetype": "text/x-python",
      "name": "python",
      "nbconvert_exporter": "python",
      "pygments_lexer": "ipython3",
      "version": "3.9.7"
    },
    "colab": {
      "provenance": [],
      "toc_visible": true,
      "include_colab_link": true
    }
  },
  "nbformat": 4,
  "nbformat_minor": 5
}