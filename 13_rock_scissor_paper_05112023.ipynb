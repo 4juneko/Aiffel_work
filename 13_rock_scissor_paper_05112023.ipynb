{
  "cells": [
    {
      "cell_type": "markdown",
      "metadata": {
        "id": "view-in-github",
        "colab_type": "text"
      },
      "source": [
        "<a href=\"https://colab.research.google.com/github/4juneko/Aiffel_work/blob/master/13_rock_scissor_paper_05112023.ipynb\" target=\"_parent\"><img src=\"https://colab.research.google.com/assets/colab-badge.svg\" alt=\"Open In Colab\"/></a>"
      ]
    },
    {
      "cell_type": "markdown",
      "id": "a320f718",
      "metadata": {
        "id": "a320f718"
      },
      "source": [
        "# Rubric"
      ]
    },
    {
      "cell_type": "markdown",
      "id": "bc8da2f3",
      "metadata": {
        "id": "bc8da2f3"
      },
      "source": [
        "|평가문항\t|상세기준| 내평가|\n",
        "|--|--|--|\n",
        "|1. 이미지 분류기 모델이 성공적으로 만들어졌는가?\t|학습과정이 정상적으로 수행되었으며,  </br>학습 결과에 대한 그래프를 시각화(ex. train acc / train loss / val acc / val loss 등) 해 보았음|O|\n",
        "|2. 오버피팅을 극복하기 위한 적절한 시도가 있었는가?\t|오버피팅 극복을 위하여   </br>데이터셋의 다양성, 정규화 등을 2가지 이상 시도해보았음|O|\n",
        "|3. 분류모델의 test accuracy가 기준 이상 높게 나왔는가?|\t60% 이상 도달하였음|O|"
      ]
    },
    {
      "cell_type": "code",
      "execution_count": null,
      "id": "28c1b000",
      "metadata": {
        "id": "28c1b000",
        "outputId": "c4eaa6d1-1e6e-4083-a9b7-0ee1ecfe2f23"
      },
      "outputs": [
        {
          "name": "stdout",
          "output_type": "stream",
          "text": [
            "2.6.0\n",
            "1.21.4\n"
          ]
        }
      ],
      "source": [
        "import tensorflow as tf\n",
        "import numpy as np\n",
        "\n",
        "print(tf.__version__)\n",
        "print(np.__version__)"
      ]
    },
    {
      "cell_type": "code",
      "execution_count": null,
      "id": "cafd8122",
      "metadata": {
        "id": "cafd8122",
        "outputId": "44002431-4aea-4ed2-f3c0-d2fb100acf46"
      },
      "outputs": [
        {
          "name": "stdout",
          "output_type": "stream",
          "text": [
            "PIL 라이브러리 import 완료!\n"
          ]
        }
      ],
      "source": [
        "from PIL import Image\n",
        "import glob\n",
        "import os\n",
        "import matplotlib.pyplot as plt\n",
        "\n",
        "print(\"PIL 라이브러리 import 완료!\")"
      ]
    },
    {
      "cell_type": "markdown",
      "id": "3abb3554",
      "metadata": {
        "id": "3abb3554"
      },
      "source": [
        "# Unzip , Rename & Move file"
      ]
    },
    {
      "cell_type": "code",
      "execution_count": null,
      "id": "3593016c",
      "metadata": {
        "id": "3593016c"
      },
      "outputs": [],
      "source": [
        "import zipfile\n",
        "\n",
        "def un_zip(dir_name):\n",
        "    for i in 'paper', 'scissor', 'rock':\n",
        "        for j in '5':\n",
        "            zip_file = zipfile.ZipFile(os.getenv(\"HOME\") + dir_name +i+\"/\" + i + j + \".zip\")\n",
        "            os.makedirs(os.getenv(\"HOME\") + dir_name +i+\"/\" + i + j)\n",
        "            new_dir = os.getenv(\"HOME\") + dir_name +i+\"/\" + i + j\n",
        "            zip_file.extractall(new_dir)\n",
        "    "
      ]
    },
    {
      "cell_type": "code",
      "execution_count": null,
      "id": "398b30d5",
      "metadata": {
        "id": "398b30d5"
      },
      "outputs": [],
      "source": [
        "un_zip('/aiffel/05112023/data_0518/')"
      ]
    },
    {
      "cell_type": "code",
      "execution_count": null,
      "id": "ca027843",
      "metadata": {
        "id": "ca027843"
      },
      "outputs": [],
      "source": [
        "zip_file = zipfile.ZipFile(os.getenv(\"HOME\") + '/aiffel/05112023/data_0518/scissor/scissor3.zip')\n",
        "\n",
        "new_dir = os.getenv(\"HOME\") +  '/aiffel/05112023/data/scissor'\n",
        "zip_file.extractall(new_dir)"
      ]
    },
    {
      "cell_type": "code",
      "execution_count": null,
      "id": "173ee400",
      "metadata": {
        "id": "173ee400"
      },
      "outputs": [],
      "source": [
        "# un_zip('/aiffel/05112023/test/','/aiffel/05112023/test/')"
      ]
    },
    {
      "cell_type": "code",
      "execution_count": null,
      "id": "977e3c48",
      "metadata": {
        "id": "977e3c48"
      },
      "outputs": [],
      "source": [
        "#rename\n",
        "def rename(no):\n",
        "    no = str(no)\n",
        "    for i in 'scissor', 'rock':\n",
        "        for j in range(100,365):\n",
        "            k= str(j)\n",
        "            old_file = os.path.join(os.getenv(\"HOME\") + '/aiffel/05112023/data_0518/' + i +'/'+i+no, k + '.jpg')\n",
        "            l=str(j+400)\n",
        "            new_file = os.path.join(os.getenv(\"HOME\") + '/aiffel/05112023/data/'+ i, l +'.jpg')\n",
        "            os.rename(old_file, new_file)\n",
        "        "
      ]
    },
    {
      "cell_type": "code",
      "execution_count": null,
      "id": "7ba66b89",
      "metadata": {
        "id": "7ba66b89"
      },
      "outputs": [],
      "source": [
        "rename(5)"
      ]
    },
    {
      "cell_type": "code",
      "execution_count": null,
      "id": "db3214a4",
      "metadata": {
        "id": "db3214a4"
      },
      "outputs": [],
      "source": [
        "# combine files\n",
        "import shutil\n",
        "import os\n",
        " \n",
        "src = os.getenv(\"HOME\") + '/aiffel/05112023/data_0518/'\n",
        "dest = os.getenv(\"HOME\") + '/aiffel/05112023/data/'\n",
        "\n",
        "for i in 'paper', 'scissor', 'rock':\n",
        "    src_ = src + i +'/' + i +'2/'\n",
        "    dest_ = dest + i +'/'\n",
        "    files = os.listdir(src_)\n",
        "    for f in files:\n",
        "        shutil.move(src_ + f, dest_)"
      ]
    },
    {
      "cell_type": "code",
      "execution_count": null,
      "id": "32292212",
      "metadata": {
        "id": "32292212"
      },
      "outputs": [],
      "source": [
        "#copy data\n",
        "src = os.getenv(\"HOME\") + '/aiffel/05112023/data/'\n",
        "# os.makedirs(os.getenv(\"HOME\") + '/aiffel/05112023/data_copy/')\n",
        "\n",
        "for i in 'paper', 'scissor', 'rock':\n",
        "    src_ = src + i +'/'\n",
        "#     os.makedirs(os.getenv(\"HOME\") + '/aiffel/05112023/data_copy/' + i +'/')\n",
        "    dest = os.getenv(\"HOME\") + '/aiffel/05112023/data_copy/' + i +'/'\n",
        "    \n",
        "#     files = os.listdir(src_)\n",
        "    for f in files:\n",
        "        shutil.copytree(dest, src_)"
      ]
    },
    {
      "cell_type": "code",
      "execution_count": null,
      "id": "2f33d11c",
      "metadata": {
        "id": "2f33d11c"
      },
      "outputs": [],
      "source": [
        "# remove directory\n",
        "shutil.rmtree(os.getenv(\"HOME\") + '/aiffel/05112023/data_0518/test/')"
      ]
    },
    {
      "cell_type": "markdown",
      "id": "c7826500",
      "metadata": {
        "id": "c7826500"
      },
      "source": [
        "# Resize"
      ]
    },
    {
      "cell_type": "code",
      "execution_count": null,
      "id": "c1ab1909",
      "metadata": {
        "id": "c1ab1909"
      },
      "outputs": [],
      "source": [
        "def resize_images(img_path):\n",
        "    for i in 'paper', 'scissor', 'rock':\n",
        "        images=glob.glob(img_path +i+\"/\"+\"*.jpg\")  \n",
        "\n",
        "        print(len(images), \" \"+ i+\" images to be resized.\")\n",
        "\n",
        "        # 파일마다 모두 28x28 사이즈로 바꾸어 저장합니다.\n",
        "        target_size=(28,28)\n",
        "        for img in images:\n",
        "            old_img=Image.open(img)\n",
        "            new_img=old_img.resize(target_size,Image.ANTIALIAS)\n",
        "            new_img.save(img, \"JPEG\")\n",
        "\n",
        "        print(len(images),\" \"+ i+ \" images resized.\")\n",
        "\t\n"
      ]
    },
    {
      "cell_type": "code",
      "execution_count": null,
      "id": "62650e6e",
      "metadata": {
        "id": "62650e6e",
        "outputId": "877a977f-39d0-4e78-d7da-38e3d816225d"
      },
      "outputs": [
        {
          "name": "stdout",
          "output_type": "stream",
          "text": [
            "765  paper images to be resized.\n",
            "765  paper images resized.\n",
            "765  scissor images to be resized.\n",
            "765  scissor images resized.\n",
            "765  rock images to be resized.\n",
            "765  rock images resized.\n"
          ]
        }
      ],
      "source": [
        "# 이미지가 저장된 디렉토리 아래의 모든 jpg 파일을 읽어들여서\n",
        "image_dir_path = os.getenv(\"HOME\") + \"/aiffel/05112023/data/\"\n",
        "resize_images(image_dir_path)"
      ]
    },
    {
      "cell_type": "code",
      "execution_count": null,
      "id": "268e5349",
      "metadata": {
        "id": "268e5349",
        "outputId": "1ac1d487-1abd-4a93-da94-863ac58babd4"
      },
      "outputs": [
        {
          "name": "stdout",
          "output_type": "stream",
          "text": [
            "100  paper images to be resized.\n",
            "100  paper images resized.\n",
            "100  scissor images to be resized.\n",
            "100  scissor images resized.\n",
            "100  rock images to be resized.\n",
            "100  rock images resized.\n"
          ]
        }
      ],
      "source": [
        "image_dir_path = os.getenv(\"HOME\") + \"/aiffel/05112023/test/\"\n",
        "resize_images(image_dir_path)"
      ]
    },
    {
      "cell_type": "markdown",
      "id": "fef69722",
      "metadata": {
        "id": "fef69722"
      },
      "source": [
        "# Labeling"
      ]
    },
    {
      "cell_type": "code",
      "execution_count": null,
      "id": "76e9f688",
      "metadata": {
        "id": "76e9f688"
      },
      "outputs": [],
      "source": [
        "import numpy as np\n",
        "\n",
        "def load_data(img_path, number_of_data):  # 가위바위보 이미지 개수 총합에 주의하세요.\n",
        "    # 가위 : 0, 바위 : 1, 보 : 2\n",
        "    img_size=28\n",
        "    color=3\n",
        "    #이미지 데이터와 라벨(가위 : 0, 바위 : 1, 보 : 2) 데이터를 담을 행렬(matrix) 영역을 생성합니다.\n",
        "    imgs=np.zeros(number_of_data*img_size*img_size*color,dtype=np.int32).reshape(number_of_data,img_size,img_size,color)\n",
        "    labels=np.zeros(number_of_data,dtype=np.int32)\n",
        "\n",
        "    idx=0\n",
        "    for file in glob.iglob(img_path+'/scissor/*.jpg'):\n",
        "        img = np.array(Image.open(file),dtype=np.int32)\n",
        "        imgs[idx,:,:,:]=img    # 데이터 영역에 이미지 행렬을 복사\n",
        "        labels[idx]=0   # 가위 : 0\n",
        "        idx=idx+1\n",
        "\n",
        "    for file in glob.iglob(img_path+'/rock/*.jpg'):\n",
        "        img = np.array(Image.open(file),dtype=np.int32)\n",
        "        imgs[idx,:,:,:]=img    # 데이터 영역에 이미지 행렬을 복사\n",
        "        labels[idx]=1   # 바위 : 1\n",
        "        idx=idx+1  \n",
        "    \n",
        "    for file in glob.iglob(img_path+'/paper/*.jpg'):\n",
        "        img = np.array(Image.open(file),dtype=np.int32)\n",
        "        imgs[idx,:,:,:]=img    # 데이터 영역에 이미지 행렬을 복사\n",
        "        labels[idx]=2   # 보 : 2\n",
        "        idx=idx+1\n",
        "        \n",
        "    print(\"학습데이터(x_train)의 이미지 개수는\", idx,\"입니다.\")\n",
        "    return imgs, labels"
      ]
    },
    {
      "cell_type": "code",
      "execution_count": null,
      "id": "db411059",
      "metadata": {
        "id": "db411059",
        "outputId": "bf4da15d-92e6-41f4-bfec-9dd53f76d6a8"
      },
      "outputs": [
        {
          "name": "stdout",
          "output_type": "stream",
          "text": [
            "학습데이터(x_train)의 이미지 개수는 300 입니다.\n"
          ]
        }
      ],
      "source": [
        "image_dir_path = os.getenv(\"HOME\") + \"/aiffel/05112023/test\"\n",
        "(X_test, y_test)=load_data(image_dir_path, 300)"
      ]
    },
    {
      "cell_type": "code",
      "execution_count": null,
      "id": "578afa93",
      "metadata": {
        "id": "578afa93",
        "outputId": "92a7b912-55c0-414c-c6a3-f896072f67d9"
      },
      "outputs": [
        {
          "name": "stdout",
          "output_type": "stream",
          "text": [
            "학습데이터(x_train)의 이미지 개수는 2295 입니다.\n"
          ]
        }
      ],
      "source": [
        "image_dir_path = os.getenv(\"HOME\") + \"/aiffel/05112023/data\"\n",
        "(X, y)=load_data(image_dir_path, 2295)"
      ]
    },
    {
      "cell_type": "markdown",
      "id": "7c5ea6ba",
      "metadata": {
        "id": "7c5ea6ba"
      },
      "source": [
        "# Split"
      ]
    },
    {
      "cell_type": "code",
      "execution_count": null,
      "id": "f5d5efa8",
      "metadata": {
        "id": "f5d5efa8",
        "outputId": "73243c8b-6b59-4248-d21b-2308b393c3c5"
      },
      "outputs": [
        {
          "data": {
            "text/plain": [
              "((1836, 28, 28, 3), (459, 28, 28, 3), (300, 28, 28, 3))"
            ]
          },
          "execution_count": 111,
          "metadata": {},
          "output_type": "execute_result"
        }
      ],
      "source": [
        "from sklearn.model_selection import train_test_split\n",
        "\n",
        "# split train - test \n",
        "# X_train, X_test, y_train, y_test = train_test_split(x_norm, y, test_size= 0.2, random_state=1234)\n",
        "# print(X_test.shape, y_test.shape)\n",
        "# split train-validation\n",
        "\n",
        "X2_train, X_val, y2_train, y_val = train_test_split(X, y, test_size= 0.2, random_state=1234)\n",
        "\n",
        "X2_train.shape, X_val.shape, X_test.shape"
      ]
    },
    {
      "cell_type": "code",
      "execution_count": null,
      "id": "10df9e42",
      "metadata": {
        "id": "10df9e42",
        "outputId": "61857565-6140-499e-bb1d-08778bc02fc8"
      },
      "outputs": [
        {
          "name": "stdout",
          "output_type": "stream",
          "text": [
            "라벨:  0\n"
          ]
        },
        {
          "data": {
            "image/png": "[encoded data removed]",
            "text/plain": [
              "<Figure size 432x288 with 1 Axes>"
            ]
          },
          "metadata": {
            "needs_background": "light"
          },
          "output_type": "display_data"
        }
      ],
      "source": [
        "import matplotlib.pyplot as plt\n",
        "plt.imshow(X2_train[0])\n",
        "print('라벨: ', y2_train[0])"
      ]
    },
    {
      "cell_type": "markdown",
      "id": "68ed515f",
      "metadata": {
        "id": "68ed515f"
      },
      "source": [
        "# Normalization(test)"
      ]
    },
    {
      "cell_type": "code",
      "execution_count": null,
      "id": "77988c31",
      "metadata": {
        "id": "77988c31",
        "outputId": "85229ff6-f8fc-4bf8-9236-549e17911c7f"
      },
      "outputs": [
        {
          "name": "stdout",
          "output_type": "stream",
          "text": [
            "x_test_norm shape: (300, 28, 28, 3)\n",
            "y_test shape: (300,)\n"
          ]
        }
      ],
      "source": [
        "x_test_norm = X_test/255.0   # 입력은 0~1 사이의 값으로 정규화\n",
        "\n",
        "print(\"x_test_norm shape: {}\".format(x_test_norm.shape))\n",
        "print(\"y_test shape: {}\".format(y_test.shape))"
      ]
    },
    {
      "cell_type": "markdown",
      "id": "455ef32c",
      "metadata": {
        "id": "455ef32c"
      },
      "source": [
        "# with Data Augmentation"
      ]
    },
    {
      "cell_type": "markdown",
      "id": "710c930c",
      "metadata": {
        "id": "710c930c"
      },
      "source": [
        "## Data augmentation"
      ]
    },
    {
      "cell_type": "code",
      "execution_count": null,
      "id": "2e80654a",
      "metadata": {
        "id": "2e80654a"
      },
      "outputs": [],
      "source": [
        "from tensorflow.keras.preprocessing.image import ImageDataGenerator\n",
        "\n",
        "IMG_HEIGHT =28\n",
        "IMG_WIDTH =28\n",
        "\n",
        "# Training data generator\n",
        "image_gen_train = ImageDataGenerator(rescale=1./255,\n",
        "                                     rotation_range=20,\n",
        "                                     width_shift_range=0.2,\n",
        "                                     height_shift_range=0.2,\n",
        "                                     zoom_range=0.2,\n",
        "                                     horizontal_flip=True, \n",
        "                                     vertical_flip=False,\n",
        "                                     fill_mode='nearest')\n",
        "\n",
        "train_data_gen = image_gen_train.flow(X2_train, y2_train,\n",
        "                                      batch_size = 32,\n",
        "                                      shuffle=True            \n",
        "#                                                      directory=X2_train, #os.getenv(\"HOME\") + \"/aiffel/05112023/data/'                                            shuffle=True,\n",
        "#                                                      target_size=(IMG_HEIGHT, IMG_WIDTH),\n",
        "#                                                      class_mode='categorical'\n",
        "                                     )\n",
        "# https://pyimagesearch.com/2019/07/08/keras-imagedatagenerator-and-data-augmentation/"
      ]
    },
    {
      "cell_type": "code",
      "execution_count": null,
      "id": "18be9c91",
      "metadata": {
        "id": "18be9c91"
      },
      "outputs": [],
      "source": [
        "# 데이터를 시각화하기 위한 함수\n",
        "def plotImages(images_arr):\n",
        "    fig, axes = plt.subplots(1, 5, figsize=(10,10))\n",
        "    axes = axes.flatten()\n",
        "    for img, ax in zip(images_arr, axes):\n",
        "        ax.imshow(img)\n",
        "        ax.axis('off')\n",
        "    plt.tight_layout()\n",
        "    plt.show()"
      ]
    },
    {
      "cell_type": "code",
      "execution_count": null,
      "id": "42f03a6b",
      "metadata": {
        "id": "42f03a6b",
        "outputId": "d6b5be6d-cd7f-453f-d8b0-6bbec15bb33f"
      },
      "outputs": [
        {
          "data": {
            "image/png": "[encoded data removed]",
            "text/plain": [
              "<Figure size 720x720 with 5 Axes>"
            ]
          },
          "metadata": {
            "needs_background": "light"
          },
          "output_type": "display_data"
        }
      ],
      "source": [
        "augmented_images = [train_data_gen[0][0][0] for i in range(5)]\n",
        "plotImages(augmented_images)\n"
      ]
    },
    {
      "cell_type": "code",
      "execution_count": null,
      "id": "b45aad5f",
      "metadata": {
        "id": "b45aad5f",
        "outputId": "5ca65445-8ebe-46ca-fac4-9ab7cbbede3d"
      },
      "outputs": [
        {
          "data": {
            "text/plain": [
              "(32, 28, 28, 3)"
            ]
          },
          "execution_count": 77,
          "metadata": {},
          "output_type": "execute_result"
        }
      ],
      "source": [
        "train_data_gen[0][0].shape"
      ]
    },
    {
      "cell_type": "code",
      "execution_count": null,
      "id": "85f2ce25",
      "metadata": {
        "id": "85f2ce25",
        "outputId": "caceb2b4-ca4f-4363-a0f0-e91a149b808d"
      },
      "outputs": [
        {
          "data": {
            "text/plain": [
              "30"
            ]
          },
          "execution_count": 78,
          "metadata": {},
          "output_type": "execute_result"
        }
      ],
      "source": [
        "len(train_data_gen)"
      ]
    },
    {
      "cell_type": "code",
      "execution_count": null,
      "id": "0c012692",
      "metadata": {
        "id": "0c012692"
      },
      "outputs": [],
      "source": [
        "# Validation data generator\n",
        "image_gen_val = ImageDataGenerator(rescale=1./255)  \n",
        "# train data와 같은 작업을 하는데 classification 때문에 스케일만 변경"
      ]
    },
    {
      "cell_type": "code",
      "execution_count": null,
      "id": "4e79bfa5",
      "metadata": {
        "id": "4e79bfa5"
      },
      "outputs": [],
      "source": [
        "val_data_gen = image_gen_val.flow(X_val, y_val,\n",
        "                                  batch_size = 32,\n",
        "                                  shuffle=True \n",
        "                                  )"
      ]
    },
    {
      "cell_type": "markdown",
      "id": "e6afdd8a",
      "metadata": {
        "id": "e6afdd8a"
      },
      "source": [
        "## Training"
      ]
    },
    {
      "cell_type": "code",
      "execution_count": null,
      "id": "9177f491",
      "metadata": {
        "id": "9177f491",
        "outputId": "200c45e5-099d-444d-941c-3921869f0537"
      },
      "outputs": [
        {
          "name": "stdout",
          "output_type": "stream",
          "text": [
            "Model: \"sequential_12\"\n",
            "_________________________________________________________________\n",
            "Layer (type)                 Output Shape              Param #   \n",
            "=================================================================\n",
            "conv2d_24 (Conv2D)           (None, 26, 26, 16)        448       \n",
            "_________________________________________________________________\n",
            "max_pooling2d_24 (MaxPooling (None, 13, 13, 16)        0         \n",
            "_________________________________________________________________\n",
            "conv2d_25 (Conv2D)           (None, 11, 11, 256)       37120     \n",
            "_________________________________________________________________\n",
            "max_pooling2d_25 (MaxPooling (None, 5, 5, 256)         0         \n",
            "_________________________________________________________________\n",
            "flatten_12 (Flatten)         (None, 6400)              0         \n",
            "_________________________________________________________________\n",
            "dense_24 (Dense)             (None, 256)               1638656   \n",
            "_________________________________________________________________\n",
            "dense_25 (Dense)             (None, 3)                 771       \n",
            "=================================================================\n",
            "Total params: 1,676,995\n",
            "Trainable params: 1,676,995\n",
            "Non-trainable params: 0\n",
            "_________________________________________________________________\n"
          ]
        }
      ],
      "source": [
        "import tensorflow as tf\n",
        "from tensorflow import keras\n",
        "import numpy as np\n",
        "\n",
        "# model을 직접 만들어 보세요.\n",
        "# Hint! model의 입력/출력부에 특히 유의해 주세요. 가위바위보 데이터셋은 MNIST 데이터셋과 어떤 점이 달라졌나요?\n",
        "# 바꿔 볼 수 있는 하이퍼파라미터들\n",
        "n_channel_1=16\n",
        "n_channel_2=256\n",
        "n_dense=256\n",
        "n_train_epoch=10\n",
        "\n",
        "model=keras.models.Sequential()\n",
        "model.add(keras.layers.Conv2D(n_channel_1, (3,3), activation='relu', input_shape=(28,28,3)))\n",
        "model.add(keras.layers.MaxPool2D(2,2))\n",
        "model.add(keras.layers.Conv2D(n_channel_2, (3,3), activation='relu'))\n",
        "model.add(keras.layers.MaxPooling2D((2,2)))\n",
        "model.add(keras.layers.Flatten())\n",
        "model.add(keras.layers.Dense(n_dense, activation='relu'))\n",
        "model.add(keras.layers.Dense(3, activation='softmax'))\n",
        "\n",
        "model.summary()"
      ]
    },
    {
      "cell_type": "code",
      "execution_count": null,
      "id": "a46d2f1e",
      "metadata": {
        "id": "a46d2f1e"
      },
      "outputs": [],
      "source": [
        "model.compile(optimizer='adam',\n",
        "             loss='sparse_categorical_crossentropy',\n",
        "             metrics=['accuracy'])"
      ]
    },
    {
      "cell_type": "code",
      "execution_count": null,
      "id": "8660b379",
      "metadata": {
        "id": "8660b379",
        "outputId": "880b78eb-19ff-4a1d-9dbb-da72c6328f50"
      },
      "outputs": [
        {
          "name": "stdout",
          "output_type": "stream",
          "text": [
            "Epoch 1/25\n",
            "58/58 [==============================] - 1s 18ms/step - loss: 1.0762 - accuracy: 0.3960 - val_loss: 1.0123 - val_accuracy: 0.4532\n",
            "Epoch 2/25\n",
            "58/58 [==============================] - 1s 14ms/step - loss: 0.9772 - accuracy: 0.4995 - val_loss: 0.8986 - val_accuracy: 0.5207\n",
            "Epoch 3/25\n",
            "58/58 [==============================] - 1s 14ms/step - loss: 0.9223 - accuracy: 0.5196 - val_loss: 0.7744 - val_accuracy: 0.6318\n",
            "Epoch 4/25\n",
            "58/58 [==============================] - 1s 14ms/step - loss: 0.8562 - accuracy: 0.5697 - val_loss: 0.7204 - val_accuracy: 0.6296\n",
            "Epoch 5/25\n",
            "58/58 [==============================] - 1s 14ms/step - loss: 0.8305 - accuracy: 0.5784 - val_loss: 0.6833 - val_accuracy: 0.6362\n",
            "Epoch 6/25\n",
            "58/58 [==============================] - 1s 14ms/step - loss: 0.7524 - accuracy: 0.6275 - val_loss: 0.6714 - val_accuracy: 0.6841\n",
            "Epoch 7/25\n",
            "58/58 [==============================] - 1s 14ms/step - loss: 0.7519 - accuracy: 0.6340 - val_loss: 0.6392 - val_accuracy: 0.6776\n",
            "Epoch 8/25\n",
            "58/58 [==============================] - 1s 14ms/step - loss: 0.7232 - accuracy: 0.6465 - val_loss: 0.6852 - val_accuracy: 0.6623\n",
            "Epoch 9/25\n",
            "58/58 [==============================] - 1s 14ms/step - loss: 0.6731 - accuracy: 0.6765 - val_loss: 0.5382 - val_accuracy: 0.7516\n",
            "Epoch 10/25\n",
            "58/58 [==============================] - 1s 14ms/step - loss: 0.6593 - accuracy: 0.6819 - val_loss: 0.6462 - val_accuracy: 0.7233\n",
            "Epoch 11/25\n",
            "58/58 [==============================] - 1s 15ms/step - loss: 0.6376 - accuracy: 0.6993 - val_loss: 0.5144 - val_accuracy: 0.7996\n",
            "Epoch 12/25\n",
            "58/58 [==============================] - 1s 14ms/step - loss: 0.6379 - accuracy: 0.7075 - val_loss: 0.4919 - val_accuracy: 0.7974\n",
            "Epoch 13/25\n",
            "58/58 [==============================] - 1s 15ms/step - loss: 0.5905 - accuracy: 0.7375 - val_loss: 0.4795 - val_accuracy: 0.8061\n",
            "Epoch 14/25\n",
            "58/58 [==============================] - 1s 14ms/step - loss: 0.5834 - accuracy: 0.7326 - val_loss: 0.5056 - val_accuracy: 0.7821\n",
            "Epoch 15/25\n",
            "58/58 [==============================] - 1s 14ms/step - loss: 0.5888 - accuracy: 0.7473 - val_loss: 0.4907 - val_accuracy: 0.7647\n",
            "Epoch 16/25\n",
            "58/58 [==============================] - 1s 14ms/step - loss: 0.5643 - accuracy: 0.7369 - val_loss: 0.6090 - val_accuracy: 0.7473\n",
            "Epoch 17/25\n",
            "58/58 [==============================] - 1s 14ms/step - loss: 0.5447 - accuracy: 0.7554 - val_loss: 0.4032 - val_accuracy: 0.8497\n",
            "Epoch 18/25\n",
            "58/58 [==============================] - 1s 14ms/step - loss: 0.5187 - accuracy: 0.7538 - val_loss: 0.3983 - val_accuracy: 0.8388\n",
            "Epoch 19/25\n",
            "58/58 [==============================] - 1s 13ms/step - loss: 0.5355 - accuracy: 0.7593 - val_loss: 0.3857 - val_accuracy: 0.8235\n",
            "Epoch 20/25\n",
            "58/58 [==============================] - 1s 14ms/step - loss: 0.4983 - accuracy: 0.7756 - val_loss: 0.3506 - val_accuracy: 0.8627\n",
            "Epoch 21/25\n",
            "58/58 [==============================] - 1s 16ms/step - loss: 0.4932 - accuracy: 0.7800 - val_loss: 0.3061 - val_accuracy: 0.9063\n",
            "Epoch 22/25\n",
            "58/58 [==============================] - 1s 15ms/step - loss: 0.4779 - accuracy: 0.7859 - val_loss: 0.3167 - val_accuracy: 0.8867\n",
            "Epoch 23/25\n",
            "58/58 [==============================] - 1s 15ms/step - loss: 0.4921 - accuracy: 0.7789 - val_loss: 0.3277 - val_accuracy: 0.8889\n",
            "Epoch 24/25\n",
            "58/58 [==============================] - 1s 14ms/step - loss: 0.4607 - accuracy: 0.7963 - val_loss: 0.3287 - val_accuracy: 0.8584\n",
            "Epoch 25/25\n",
            "58/58 [==============================] - 1s 14ms/step - loss: 0.4651 - accuracy: 0.7892 - val_loss: 0.3096 - val_accuracy: 0.8736\n"
          ]
        }
      ],
      "source": [
        "# 모델 훈련\n",
        "history = model.fit(train_data_gen,\n",
        "\n",
        "#                     steps_per_epoch=(len(X2_train))/16,\n",
        "                    epochs=25,\n",
        "                    batch_size = 10,\n",
        "                    validation_data = val_data_gen,\n",
        "                    validation_freq=1\n",
        "                   )"
      ]
    },
    {
      "cell_type": "code",
      "execution_count": null,
      "id": "a1d3a3c7",
      "metadata": {
        "id": "a1d3a3c7",
        "outputId": "7dbaf0c6-ce18-4520-d290-ceac2b495396"
      },
      "outputs": [
        {
          "data": {
            "image/png": "[encoded data removed]",
            "text/plain": [
              "<Figure size 432x288 with 1 Axes>"
            ]
          },
          "metadata": {
            "needs_background": "light"
          },
          "output_type": "display_data"
        },
        {
          "data": {
            "image/png": "[encoded data removed]",
            "text/plain": [
              "<Figure size 432x288 with 1 Axes>"
            ]
          },
          "metadata": {
            "needs_background": "light"
          },
          "output_type": "display_data"
        }
      ],
      "source": [
        "# graph\n",
        "acc = history.history['accuracy']\n",
        "val_acc = history.history['val_accuracy']\n",
        "loss = history.history['loss']\n",
        "val_loss = history.history['val_loss']\n",
        "\n",
        "epochs_range = range(1, len(acc)+1)\n",
        "\n",
        "plt.plot(epochs_range, acc, 'bo', label='Training acc')\n",
        "plt.plot(epochs_range, val_acc, 'r', label='Validation acc')\n",
        "plt.xlabel('Epochs')\n",
        "plt.ylabel('Accuracy')\n",
        "plt.title('Training and validation accuracy')\n",
        "plt.legend()\n",
        "\n",
        "plt.figure()\n",
        "\n",
        "plt.plot(epochs_range, loss, 'bo', label='Training loss')\n",
        "plt.plot(epochs_range, val_loss, 'r', label='Validation loss')\n",
        "plt.xlabel('Epochs')\n",
        "plt.ylabel('Loss')\n",
        "plt.title('Training and validation loss')\n",
        "plt.legend()\n",
        "\n",
        "plt.show()"
      ]
    },
    {
      "cell_type": "markdown",
      "id": "79b87670",
      "metadata": {
        "id": "79b87670"
      },
      "source": [
        "## Evaluation"
      ]
    },
    {
      "cell_type": "code",
      "execution_count": null,
      "id": "219a9e66",
      "metadata": {
        "id": "219a9e66",
        "outputId": "492e2e8c-dbf9-4a06-b795-bd535c896b19"
      },
      "outputs": [
        {
          "name": "stdout",
          "output_type": "stream",
          "text": [
            "10/10 - 0s - loss: 2.0608 - accuracy: 0.2367\n",
            "test_loss: 2.0608413219451904 \n",
            "test_accuracy: 0.23666666448116302\n"
          ]
        }
      ],
      "source": [
        "# 모델 시험\n",
        "test_loss, test_accuracy = model.evaluate(x_test_norm, y_test, verbose=2)\n",
        "print(f\"test_loss: {test_loss} \")\n",
        "print(f\"test_accuracy: {test_accuracy}\")"
      ]
    },
    {
      "cell_type": "markdown",
      "id": "ddfce7d4",
      "metadata": {
        "id": "ddfce7d4"
      },
      "source": [
        "# without Data Augmentation"
      ]
    },
    {
      "cell_type": "markdown",
      "id": "7c6d0007",
      "metadata": {
        "id": "7c6d0007"
      },
      "source": [
        "## Normalization"
      ]
    },
    {
      "cell_type": "code",
      "execution_count": null,
      "id": "38cbefdb",
      "metadata": {
        "id": "38cbefdb",
        "outputId": "7625152a-471c-4a78-8aad-4f12919c057b"
      },
      "outputs": [
        {
          "name": "stdout",
          "output_type": "stream",
          "text": [
            "x_train_norm shape: (1836, 28, 28, 3)\n",
            "y_train shape: (1836,)\n"
          ]
        }
      ],
      "source": [
        "X2_train_norm = X2_train/255.0   # 입력은 0~1 사이의 값으로 정규화\n",
        "\n",
        "print(\"x_train_norm shape: {}\".format(X2_train_norm.shape))\n",
        "print(\"y_train shape: {}\".format(y2_train.shape))"
      ]
    },
    {
      "cell_type": "code",
      "execution_count": null,
      "id": "c5ef1e9d",
      "metadata": {
        "id": "c5ef1e9d",
        "outputId": "3b75b651-7f65-40d3-d46e-e5fc0892fd0d"
      },
      "outputs": [
        {
          "name": "stdout",
          "output_type": "stream",
          "text": [
            "x_train_norm shape: (459, 28, 28, 3)\n",
            "y_train shape: (459,)\n"
          ]
        }
      ],
      "source": [
        "X_val_norm = X_val/255.0   # 입력은 0~1 사이의 값으로 정규화\n",
        "\n",
        "print(\"x_train_norm shape: {}\".format(X_val_norm.shape))\n",
        "print(\"y_train shape: {}\".format(y_val.shape))"
      ]
    },
    {
      "cell_type": "markdown",
      "id": "9f51189f",
      "metadata": {
        "id": "9f51189f"
      },
      "source": [
        "## Training"
      ]
    },
    {
      "cell_type": "code",
      "execution_count": null,
      "id": "13864b75",
      "metadata": {
        "id": "13864b75",
        "outputId": "200c45e5-099d-444d-941c-3921869f0537"
      },
      "outputs": [
        {
          "name": "stdout",
          "output_type": "stream",
          "text": [
            "Model: \"sequential_16\"\n",
            "_________________________________________________________________\n",
            "Layer (type)                 Output Shape              Param #   \n",
            "=================================================================\n",
            "conv2d_32 (Conv2D)           (None, 26, 26, 16)        448       \n",
            "_________________________________________________________________\n",
            "max_pooling2d_32 (MaxPooling (None, 13, 13, 16)        0         \n",
            "_________________________________________________________________\n",
            "conv2d_33 (Conv2D)           (None, 11, 11, 256)       37120     \n",
            "_________________________________________________________________\n",
            "max_pooling2d_33 (MaxPooling (None, 5, 5, 256)         0         \n",
            "_________________________________________________________________\n",
            "flatten_16 (Flatten)         (None, 6400)              0         \n",
            "_________________________________________________________________\n",
            "dense_32 (Dense)             (None, 256)               1638656   \n",
            "_________________________________________________________________\n",
            "dense_33 (Dense)             (None, 3)                 771       \n",
            "=================================================================\n",
            "Total params: 1,676,995\n",
            "Trainable params: 1,676,995\n",
            "Non-trainable params: 0\n",
            "_________________________________________________________________\n"
          ]
        }
      ],
      "source": [
        "import tensorflow as tf\n",
        "from tensorflow import keras\n",
        "import numpy as np\n",
        "\n",
        "# model을 직접 만들어 보세요.\n",
        "# Hint! model의 입력/출력부에 특히 유의해 주세요. 가위바위보 데이터셋은 MNIST 데이터셋과 어떤 점이 달라졌나요?\n",
        "# 바꿔 볼 수 있는 하이퍼파라미터들\n",
        "n_channel_1=16\n",
        "n_channel_2=256\n",
        "n_dense=256\n",
        "n_train_epoch=10\n",
        "\n",
        "model1=keras.models.Sequential()\n",
        "model1.add(keras.layers.Conv2D(n_channel_1, (3,3), activation='relu', input_shape=(28,28,3)))\n",
        "model1.add(keras.layers.MaxPool2D(2,2))\n",
        "model1.add(keras.layers.Conv2D(n_channel_2, (3,3), activation='relu'))\n",
        "model1.add(keras.layers.MaxPooling2D((2,2)))\n",
        "model1.add(keras.layers.Flatten())\n",
        "model1.add(keras.layers.Dense(n_dense, activation='relu'))\n",
        "model1.add(keras.layers.Dense(3, activation='softmax'))\n",
        "\n",
        "model1.summary()"
      ]
    },
    {
      "cell_type": "code",
      "execution_count": null,
      "id": "784aeb21",
      "metadata": {
        "id": "784aeb21"
      },
      "outputs": [],
      "source": [
        "model1.compile(optimizer='adam',\n",
        "             loss='sparse_categorical_crossentropy',\n",
        "             metrics=['accuracy'])"
      ]
    },
    {
      "cell_type": "code",
      "execution_count": null,
      "id": "57bd7b3e",
      "metadata": {
        "id": "57bd7b3e",
        "outputId": "880b78eb-19ff-4a1d-9dbb-da72c6328f50"
      },
      "outputs": [
        {
          "name": "stdout",
          "output_type": "stream",
          "text": [
            "Epoch 1/10\n",
            "184/184 [==============================] - 1s 4ms/step - loss: 0.8562 - accuracy: 0.5768 - val_loss: 0.5163 - val_accuracy: 0.8061\n",
            "Epoch 2/10\n",
            "184/184 [==============================] - 1s 3ms/step - loss: 0.4629 - accuracy: 0.7843 - val_loss: 0.3212 - val_accuracy: 0.8802\n",
            "Epoch 3/10\n",
            "184/184 [==============================] - 1s 4ms/step - loss: 0.3007 - accuracy: 0.8638 - val_loss: 0.2277 - val_accuracy: 0.9063\n",
            "Epoch 4/10\n",
            "184/184 [==============================] - 1s 4ms/step - loss: 0.2236 - accuracy: 0.9025 - val_loss: 0.1897 - val_accuracy: 0.9368\n",
            "Epoch 5/10\n",
            "184/184 [==============================] - 1s 3ms/step - loss: 0.1616 - accuracy: 0.9385 - val_loss: 0.2078 - val_accuracy: 0.9216\n",
            "Epoch 6/10\n",
            "184/184 [==============================] - 1s 3ms/step - loss: 0.1497 - accuracy: 0.9472 - val_loss: 0.1520 - val_accuracy: 0.9434\n",
            "Epoch 7/10\n",
            "184/184 [==============================] - 1s 3ms/step - loss: 0.1304 - accuracy: 0.9521 - val_loss: 0.0974 - val_accuracy: 0.9608\n",
            "Epoch 8/10\n",
            "184/184 [==============================] - 1s 3ms/step - loss: 0.0861 - accuracy: 0.9684 - val_loss: 0.0992 - val_accuracy: 0.9673\n",
            "Epoch 9/10\n",
            "184/184 [==============================] - 1s 3ms/step - loss: 0.0659 - accuracy: 0.9760 - val_loss: 0.0706 - val_accuracy: 0.9760\n",
            "Epoch 10/10\n",
            "184/184 [==============================] - 1s 4ms/step - loss: 0.1002 - accuracy: 0.9624 - val_loss: 0.1935 - val_accuracy: 0.9346\n"
          ]
        }
      ],
      "source": [
        "# 모델 훈련\n",
        "history1 = model1.fit(\n",
        "                    X2_train_norm,\n",
        "                    y2_train,\n",
        "#                     steps_per_epoch=(len(X2_train))/16,\n",
        "                    epochs=10,\n",
        "                    batch_size = 10,\n",
        "                    validation_data = (X_val_norm, y_val),\n",
        "                    validation_freq=1\n",
        "                   )"
      ]
    },
    {
      "cell_type": "code",
      "execution_count": null,
      "id": "181dc464",
      "metadata": {
        "id": "181dc464",
        "outputId": "7dbaf0c6-ce18-4520-d290-ceac2b495396"
      },
      "outputs": [
        {
          "data": {
            "image/png": "[encoded data removed]",
            "text/plain": [
              "<Figure size 432x288 with 1 Axes>"
            ]
          },
          "metadata": {
            "needs_background": "light"
          },
          "output_type": "display_data"
        },
        {
          "data": {
            "image/png": "[encoded data removed]",
            "text/plain": [
              "<Figure size 432x288 with 1 Axes>"
            ]
          },
          "metadata": {
            "needs_background": "light"
          },
          "output_type": "display_data"
        }
      ],
      "source": [
        "# graph\n",
        "acc = history1.history['accuracy']\n",
        "val_acc = history1.history['val_accuracy']\n",
        "loss = history1.history['loss']\n",
        "val_loss = history1.history['val_loss']\n",
        "\n",
        "epochs_range = range(1, len(acc)+1)\n",
        "\n",
        "plt.plot(epochs_range, acc, 'bo', label='Training acc')\n",
        "plt.plot(epochs_range, val_acc, 'r', label='Validation acc')\n",
        "plt.xlabel('Epochs')\n",
        "plt.ylabel('Accuracy')\n",
        "plt.title('Training and validation accuracy')\n",
        "plt.legend()\n",
        "\n",
        "plt.figure()\n",
        "\n",
        "plt.plot(epochs_range, loss, 'bo', label='Training loss')\n",
        "plt.plot(epochs_range, val_loss, 'r', label='Validation loss')\n",
        "plt.xlabel('Epochs')\n",
        "plt.ylabel('Loss')\n",
        "plt.title('Training and validation loss')\n",
        "plt.legend()\n",
        "\n",
        "plt.show()"
      ]
    },
    {
      "cell_type": "markdown",
      "id": "6fa4ff9c",
      "metadata": {
        "id": "6fa4ff9c"
      },
      "source": [
        "## Evaluation"
      ]
    },
    {
      "cell_type": "code",
      "execution_count": null,
      "id": "28ea4c56",
      "metadata": {
        "id": "28ea4c56",
        "outputId": "492e2e8c-dbf9-4a06-b795-bd535c896b19"
      },
      "outputs": [
        {
          "name": "stdout",
          "output_type": "stream",
          "text": [
            "10/10 - 0s - loss: 2.5601 - accuracy: 0.6333\n",
            "test_loss: 2.560114622116089 \n",
            "test_accuracy: 0.6333333253860474\n"
          ]
        }
      ],
      "source": [
        "# 모델 시험\n",
        "test_loss, test_accuracy = model1.evaluate(x_test_norm, y_test, verbose=2)\n",
        "print(f\"test_loss: {test_loss} \")\n",
        "print(f\"test_accuracy: {test_accuracy}\")"
      ]
    },
    {
      "cell_type": "markdown",
      "id": "b22ada87",
      "metadata": {
        "id": "b22ada87"
      },
      "source": [
        "# Review\n",
        "- 처음에 다른 데이터 수집인이 만든 data set으로 각각 train data(600개)와 test data(300개)으로 학습을 하고 평가를 하였더니 학습을 하는 동안 정확도가 1이 나오고 평가에서는 최대 0.44로 과적합이었음.\n",
        "- 과적합을 해결하고자 data augmentation으로 데이터 개수를 증가시키려 하였으나 실패\n",
        "- 데이터 수집인이 다를 경우 data set의 차이가 있음을 인지하고 3개의 data set을 합치고 train, test, validation data를 분리하여 학습하였더니 과적합 문제가 해결되었음. => 다른 수집인의 data set을 test로 사용해야 하는 제한이었으므로 다시 다른 수집인의 데이터 전체를 test data로 설정\n",
        "- test data를 고유한 수집인의 것으로 놔두고 data set을 더 추가하여 학습에 사용한 데이터를 2295개로 늘려 학습하였더니 정확도 0.6을 넘음. (epochs=10)\n",
        "- 확실히 data augmentation은 데이터 양을 순수히 증가시키지 않는 한 정확도를 높이는 효과를 얻었음. 그러나 순수히 정확도를 높이는 좋은 방법은 데이터가 많은 것임.  \n",
        "</br>\n",
        "- 각각 다른 zip 파일을 다루는 가운데 여러가지 고려해야 할 사항들이 있었음.\n",
        "    - 중복된 파일 이름 바꾸기\n",
        "    - 여러 폴더에 있는 파일을 한 폴더로 옮기기\n",
        "    - 데이터의 손상을 대비하여 복사하기"
      ]
    },
    {
      "cell_type": "code",
      "source": [],
      "metadata": {
        "id": "h2H8vPQKi_-b"
      },
      "id": "h2H8vPQKi_-b",
      "execution_count": null,
      "outputs": []
    }
  ],
  "metadata": {
    "colab": {
      "provenance": [],
      "toc_visible": true,
      "include_colab_link": true
    },
    "kernelspec": {
      "display_name": "Python 3 (ipykernel)",
      "language": "python",
      "name": "python3"
    },
    "language_info": {
      "codemirror_mode": {
        "name": "ipython",
        "version": 3
      },
      "file_extension": ".py",
      "mimetype": "text/x-python",
      "name": "python",
      "nbconvert_exporter": "python",
      "pygments_lexer": "ipython3",
      "version": "3.9.7"
    }
  },
  "nbformat": 4,
  "nbformat_minor": 5
}