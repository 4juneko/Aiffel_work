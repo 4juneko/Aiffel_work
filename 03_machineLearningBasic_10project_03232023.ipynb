{
 "cells": [
  {
   "cell_type": "markdown",
   "id": "sK99fLaIMoqe",
   "metadata": {
    "id": "sK99fLaIMoqe"
   },
   "source": [
    "|평가문항|\t상세기준|\n",
    "|---|---|\n",
    "|1. Baseline을 참고하여 진행하였는가?|EDA(탐색적 데이터 분석), 데이터 전처리, 검증 데이터 분리 과정을 수행 하였는가?|\n",
    "|2. 머신러닝 지도학습(회귀) 모델을 잘 사용하였는가?|지도학습 회귀 모델을 3가지 이상 사용하여 MSE 결과를 확인해 보았는가?|\n",
    "|3. Baseline score(MSE 51,xxx) 보다 좋은 성능 향상을 하였는가?|Baseline score(MSE 51,xxx) 보다 좋은 성능을 보여준 회귀 모델은 무엇이며, MSE score는 몇 점인가?|"
   ]
  },
  {
   "cell_type": "markdown",
   "id": "3615ca44",
   "metadata": {
    "id": "3615ca44"
   },
   "source": [
    "# Airbnb (New York City)\n",
    "- 미국 NYC Airbnb 목록(2019)\n",
    "- 프로젝트 목적: 가격 예측(price)\n",
    "- 제공 데이터(3개): train.csv, test.csv, y_test(최종 채점용)\n",
    "- 평가 방식: MSE (평균제곱오차/ 실제 값과 예측 값 차이 ->제곱해 평균)\n",
    "- <참고> : 6. 지도학습(회귀) 노드의 6-8. 평가(회귀) 스텝에서 복습하실 수 있습니다.\n",
    "- 데이터 출처 바로가기 / License CC0: Public Domain /https://www.kaggle.com/datasets/dgomonov/new-york-city-airbnb-open-data"
   ]
  },
  {
   "cell_type": "code",
   "execution_count": null,
   "id": "DXfaB5fGfA0K",
   "metadata": {
    "colab": {
     "base_uri": "https://localhost:8080/"
    },
    "executionInfo": {
     "elapsed": 21661,
     "status": "ok",
     "timestamp": 1679757564997,
     "user": {
      "displayName": "June Ko",
      "userId": "10187011845533435771"
     },
     "user_tz": -540
    },
    "id": "DXfaB5fGfA0K",
    "outputId": "837d90eb-fcbc-474c-a62f-3df135a84a68"
   },
   "outputs": [
    {
     "name": "stdout",
     "output_type": "stream",
     "text": [
      "Mounted at /content/drive\n"
     ]
    }
   ],
   "source": [
    "#구글 드라이브 파일 접근 코랩에서 진행할 때..\n",
    "#학습 과정 시간은 나쁘지 않은 데 하이퍼파라미터 튜닝할 때 시간 많이 걸리니 GPU로 변경하고 시작하자 \n",
    "from google.colab import drive\n",
    "drive.mount('/content/drive')"
   ]
  },
  {
   "cell_type": "code",
   "execution_count": null,
   "id": "JMDn_D30fDy-",
   "metadata": {
    "id": "JMDn_D30fDy-"
   },
   "outputs": [],
   "source": [
    "# 데이터 호출하기\n",
    "\n",
    "# google drive path : /content/drive/MyDrive/Colab Notebooks/aiffel/data/\n",
    "# local path : D:\\Google_Drive_4juneko\\Colab Notebooks\\aiffel\n",
    "import pandas as pd\n",
    "train = pd.read_csv('/content/drive/MyDrive/Colab Notebooks/aiffel/data/train.csv')\n",
    "test = pd.read_csv('/content/drive/MyDrive/Colab Notebooks/aiffel/data/test.csv')\n",
    "y_test = pd.read_csv('/content/drive/MyDrive/Colab Notebooks/aiffel/data/y_test.csv')"
   ]
  },
  {
   "cell_type": "code",
   "execution_count": null,
   "id": "da4091eb",
   "metadata": {
    "id": "da4091eb"
   },
   "outputs": [],
   "source": [
    "#LMS에서\n",
    "# import pandas as pd\n",
    "# train = pd.read_csv('/aiffel/data/train.csv')\n",
    "# test = pd.read_csv('/aiffel/data/test.csv')\n",
    "# y_test = pd.read_csv('/aiffel/data/y_test.csv')"
   ]
  },
  {
   "cell_type": "markdown",
   "id": "dd8cc911",
   "metadata": {
    "id": "dd8cc911"
   },
   "source": [
    "## EDA\n",
    "- shape  \n",
    "- head  \n",
    "- info  \n",
    "- isnull  \n",
    "- hist  "
   ]
  },
  {
   "cell_type": "code",
   "execution_count": null,
   "id": "0dedd1aa",
   "metadata": {
    "colab": {
     "base_uri": "https://localhost:8080/"
    },
    "executionInfo": {
     "elapsed": 19,
     "status": "ok",
     "timestamp": 1679757567656,
     "user": {
      "displayName": "June Ko",
      "userId": "10187011845533435771"
     },
     "user_tz": -540
    },
    "id": "0dedd1aa",
    "outputId": "45585415-4920-4b7c-a075-a99f9cbc72d6"
   },
   "outputs": [
    {
     "data": {
      "text/plain": [
       "((39116, 16), (9779, 15), (9779, 1))"
      ]
     },
     "execution_count": 6,
     "metadata": {},
     "output_type": "execute_result"
    }
   ],
   "source": [
    "train.shape, test.shape, y_test.shape\n",
    "#train, test의 사이즈가 약 4:1 전체의 20%를 test로.. \n",
    "#test, y_test의 행 수가 값음. 같아야 함."
   ]
  },
  {
   "cell_type": "code",
   "execution_count": null,
   "id": "44aabbef",
   "metadata": {
    "colab": {
     "base_uri": "https://localhost:8080/",
     "height": 626
    },
    "executionInfo": {
     "elapsed": 19,
     "status": "ok",
     "timestamp": 1679757567656,
     "user": {
      "displayName": "June Ko",
      "userId": "10187011845533435771"
     },
     "user_tz": -540
    },
    "id": "44aabbef",
    "outputId": "fcbfd970-6829-41a2-f622-4017f9581520"
   },
   "outputs": [
    {
     "data": {
      "text/html": [
       "\n",
       "  <div id=\"df-8ea14f30-7c62-4c8b-8c0f-0c0cf96f8e4f\">\n",
       "    <div class=\"colab-df-container\">\n",
       "      <div>\n",
       "<style scoped>\n",
       "    .dataframe tbody tr th:only-of-type {\n",
       "        vertical-align: middle;\n",
       "    }\n",
       "\n",
       "    .dataframe tbody tr th {\n",
       "        vertical-align: top;\n",
       "    }\n",
       "\n",
       "    .dataframe thead th {\n",
       "        text-align: right;\n",
       "    }\n",
       "</style>\n",
       "<table border=\"1\" class=\"dataframe\">\n",
       "  <thead>\n",
       "    <tr style=\"text-align: right;\">\n",
       "      <th></th>\n",
       "      <th>id</th>\n",
       "      <th>name</th>\n",
       "      <th>host_id</th>\n",
       "      <th>host_name</th>\n",
       "      <th>neighbourhood_group</th>\n",
       "      <th>neighbourhood</th>\n",
       "      <th>latitude</th>\n",
       "      <th>longitude</th>\n",
       "      <th>room_type</th>\n",
       "      <th>price</th>\n",
       "      <th>minimum_nights</th>\n",
       "      <th>number_of_reviews</th>\n",
       "      <th>last_review</th>\n",
       "      <th>reviews_per_month</th>\n",
       "      <th>calculated_host_listings_count</th>\n",
       "      <th>availability_365</th>\n",
       "    </tr>\n",
       "  </thead>\n",
       "  <tbody>\n",
       "    <tr>\n",
       "      <th>0</th>\n",
       "      <td>14963583</td>\n",
       "      <td>Room in South Harlem near Central Park</td>\n",
       "      <td>94219511</td>\n",
       "      <td>Gilles</td>\n",
       "      <td>Manhattan</td>\n",
       "      <td>Harlem</td>\n",
       "      <td>40.80167</td>\n",
       "      <td>-73.95781</td>\n",
       "      <td>Private room</td>\n",
       "      <td>70</td>\n",
       "      <td>3</td>\n",
       "      <td>3</td>\n",
       "      <td>2019-01-01</td>\n",
       "      <td>0.09</td>\n",
       "      <td>2</td>\n",
       "      <td>0</td>\n",
       "    </tr>\n",
       "    <tr>\n",
       "      <th>1</th>\n",
       "      <td>9458704</td>\n",
       "      <td>Large 1BR Apartment, near Times Sq (2nd Floor)</td>\n",
       "      <td>49015331</td>\n",
       "      <td>Iradj</td>\n",
       "      <td>Manhattan</td>\n",
       "      <td>Hell's Kitchen</td>\n",
       "      <td>40.76037</td>\n",
       "      <td>-73.99016</td>\n",
       "      <td>Entire home/apt</td>\n",
       "      <td>240</td>\n",
       "      <td>2</td>\n",
       "      <td>64</td>\n",
       "      <td>2019-06-30</td>\n",
       "      <td>1.68</td>\n",
       "      <td>2</td>\n",
       "      <td>262</td>\n",
       "    </tr>\n",
       "  </tbody>\n",
       "</table>\n",
       "</div>\n",
       "      <button class=\"colab-df-convert\" onclick=\"convertToInteractive('df-8ea14f30-7c62-4c8b-8c0f-0c0cf96f8e4f')\"\n",
       "              title=\"Convert this dataframe to an interactive table.\"\n",
       "              style=\"display:none;\">\n",
       "        \n",
       "  <svg xmlns=\"http://www.w3.org/2000/svg\" height=\"24px\"viewBox=\"0 0 24 24\"\n",
       "       width=\"24px\">\n",
       "    <path d=\"M0 0h24v24H0V0z\" fill=\"none\"/>\n",
       "    <path d=\"M18.56 5.44l.94 2.06.94-2.06 2.06-.94-2.06-.94-.94-2.06-.94 2.06-2.06.94zm-11 1L8.5 8.5l.94-2.06 2.06-.94-2.06-.94L8.5 2.5l-.94 2.06-2.06.94zm10 10l.94 2.06.94-2.06 2.06-.94-2.06-.94-.94-2.06-.94 2.06-2.06.94z\"/><path d=\"M17.41 7.96l-1.37-1.37c-.4-.4-.92-.59-1.43-.59-.52 0-1.04.2-1.43.59L10.3 9.45l-7.72 7.72c-.78.78-.78 2.05 0 2.83L4 21.41c.39.39.9.59 1.41.59.51 0 1.02-.2 1.41-.59l7.78-7.78 2.81-2.81c.8-.78.8-2.07 0-2.86zM5.41 20L4 18.59l7.72-7.72 1.47 1.35L5.41 20z\"/>\n",
       "  </svg>\n",
       "      </button>\n",
       "      \n",
       "  <style>\n",
       "    .colab-df-container {\n",
       "      display:flex;\n",
       "      flex-wrap:wrap;\n",
       "      gap: 12px;\n",
       "    }\n",
       "\n",
       "    .colab-df-convert {\n",
       "      background-color: #E8F0FE;\n",
       "      border: none;\n",
       "      border-radius: 50%;\n",
       "      cursor: pointer;\n",
       "      display: none;\n",
       "      fill: #1967D2;\n",
       "      height: 32px;\n",
       "      padding: 0 0 0 0;\n",
       "      width: 32px;\n",
       "    }\n",
       "\n",
       "    .colab-df-convert:hover {\n",
       "      background-color: #E2EBFA;\n",
       "      box-shadow: 0px 1px 2px rgba(60, 64, 67, 0.3), 0px 1px 3px 1px rgba(60, 64, 67, 0.15);\n",
       "      fill: #174EA6;\n",
       "    }\n",
       "\n",
       "    [theme=dark] .colab-df-convert {\n",
       "      background-color: #3B4455;\n",
       "      fill: #D2E3FC;\n",
       "    }\n",
       "\n",
       "    [theme=dark] .colab-df-convert:hover {\n",
       "      background-color: #434B5C;\n",
       "      box-shadow: 0px 1px 3px 1px rgba(0, 0, 0, 0.15);\n",
       "      filter: drop-shadow(0px 1px 2px rgba(0, 0, 0, 0.3));\n",
       "      fill: #FFFFFF;\n",
       "    }\n",
       "  </style>\n",
       "\n",
       "      <script>\n",
       "        const buttonEl =\n",
       "          document.querySelector('#df-8ea14f30-7c62-4c8b-8c0f-0c0cf96f8e4f button.colab-df-convert');\n",
       "        buttonEl.style.display =\n",
       "          google.colab.kernel.accessAllowed ? 'block' : 'none';\n",
       "\n",
       "        async function convertToInteractive(key) {\n",
       "          const element = document.querySelector('#df-8ea14f30-7c62-4c8b-8c0f-0c0cf96f8e4f');\n",
       "          const dataTable =\n",
       "            await google.colab.kernel.invokeFunction('convertToInteractive',\n",
       "                                                     [key], {});\n",
       "          if (!dataTable) return;\n",
       "\n",
       "          const docLinkHtml = 'Like what you see? Visit the ' +\n",
       "            '<a target=\"_blank\" href=https://colab.research.google.com/notebooks/data_table.ipynb>data table notebook</a>'\n",
       "            + ' to learn more about interactive tables.';\n",
       "          element.innerHTML = '';\n",
       "          dataTable['output_type'] = 'display_data';\n",
       "          await google.colab.output.renderOutput(dataTable, element);\n",
       "          const docLink = document.createElement('div');\n",
       "          docLink.innerHTML = docLinkHtml;\n",
       "          element.appendChild(docLink);\n",
       "        }\n",
       "      </script>\n",
       "    </div>\n",
       "  </div>\n",
       "  "
      ],
      "text/plain": [
       "         id                                            name   host_id  \\\n",
       "0  14963583          Room in South Harlem near Central Park  94219511   \n",
       "1   9458704  Large 1BR Apartment, near Times Sq (2nd Floor)  49015331   \n",
       "\n",
       "  host_name neighbourhood_group   neighbourhood  latitude  longitude  \\\n",
       "0    Gilles           Manhattan          Harlem  40.80167  -73.95781   \n",
       "1     Iradj           Manhattan  Hell's Kitchen  40.76037  -73.99016   \n",
       "\n",
       "         room_type  price  minimum_nights  number_of_reviews last_review  \\\n",
       "0     Private room     70               3                  3  2019-01-01   \n",
       "1  Entire home/apt    240               2                 64  2019-06-30   \n",
       "\n",
       "   reviews_per_month  calculated_host_listings_count  availability_365  \n",
       "0               0.09                               2                 0  \n",
       "1               1.68                               2               262  "
      ]
     },
     "metadata": {},
     "output_type": "display_data"
    },
    {
     "data": {
      "text/html": [
       "\n",
       "  <div id=\"df-c26c2a73-f1e0-4e0b-8b56-62360a5624e5\">\n",
       "    <div class=\"colab-df-container\">\n",
       "      <div>\n",
       "<style scoped>\n",
       "    .dataframe tbody tr th:only-of-type {\n",
       "        vertical-align: middle;\n",
       "    }\n",
       "\n",
       "    .dataframe tbody tr th {\n",
       "        vertical-align: top;\n",
       "    }\n",
       "\n",
       "    .dataframe thead th {\n",
       "        text-align: right;\n",
       "    }\n",
       "</style>\n",
       "<table border=\"1\" class=\"dataframe\">\n",
       "  <thead>\n",
       "    <tr style=\"text-align: right;\">\n",
       "      <th></th>\n",
       "      <th>id</th>\n",
       "      <th>name</th>\n",
       "      <th>host_id</th>\n",
       "      <th>host_name</th>\n",
       "      <th>neighbourhood_group</th>\n",
       "      <th>neighbourhood</th>\n",
       "      <th>latitude</th>\n",
       "      <th>longitude</th>\n",
       "      <th>room_type</th>\n",
       "      <th>minimum_nights</th>\n",
       "      <th>number_of_reviews</th>\n",
       "      <th>last_review</th>\n",
       "      <th>reviews_per_month</th>\n",
       "      <th>calculated_host_listings_count</th>\n",
       "      <th>availability_365</th>\n",
       "    </tr>\n",
       "  </thead>\n",
       "  <tbody>\n",
       "    <tr>\n",
       "      <th>0</th>\n",
       "      <td>30913224</td>\n",
       "      <td>Cozy and Sunny Room Williamsburg, Luxury Building</td>\n",
       "      <td>33771081</td>\n",
       "      <td>Rémy</td>\n",
       "      <td>Brooklyn</td>\n",
       "      <td>Williamsburg</td>\n",
       "      <td>40.70959</td>\n",
       "      <td>-73.94652</td>\n",
       "      <td>Private room</td>\n",
       "      <td>3</td>\n",
       "      <td>2</td>\n",
       "      <td>2019-05-08</td>\n",
       "      <td>0.31</td>\n",
       "      <td>1</td>\n",
       "      <td>0</td>\n",
       "    </tr>\n",
       "    <tr>\n",
       "      <th>1</th>\n",
       "      <td>971247</td>\n",
       "      <td>Sunny Artist Live/Work Apartment</td>\n",
       "      <td>5308961</td>\n",
       "      <td>Larry</td>\n",
       "      <td>Manhattan</td>\n",
       "      <td>Upper West Side</td>\n",
       "      <td>40.79368</td>\n",
       "      <td>-73.96487</td>\n",
       "      <td>Entire home/apt</td>\n",
       "      <td>3</td>\n",
       "      <td>159</td>\n",
       "      <td>2019-07-03</td>\n",
       "      <td>2.09</td>\n",
       "      <td>1</td>\n",
       "      <td>244</td>\n",
       "    </tr>\n",
       "  </tbody>\n",
       "</table>\n",
       "</div>\n",
       "      <button class=\"colab-df-convert\" onclick=\"convertToInteractive('df-c26c2a73-f1e0-4e0b-8b56-62360a5624e5')\"\n",
       "              title=\"Convert this dataframe to an interactive table.\"\n",
       "              style=\"display:none;\">\n",
       "        \n",
       "  <svg xmlns=\"http://www.w3.org/2000/svg\" height=\"24px\"viewBox=\"0 0 24 24\"\n",
       "       width=\"24px\">\n",
       "    <path d=\"M0 0h24v24H0V0z\" fill=\"none\"/>\n",
       "    <path d=\"M18.56 5.44l.94 2.06.94-2.06 2.06-.94-2.06-.94-.94-2.06-.94 2.06-2.06.94zm-11 1L8.5 8.5l.94-2.06 2.06-.94-2.06-.94L8.5 2.5l-.94 2.06-2.06.94zm10 10l.94 2.06.94-2.06 2.06-.94-2.06-.94-.94-2.06-.94 2.06-2.06.94z\"/><path d=\"M17.41 7.96l-1.37-1.37c-.4-.4-.92-.59-1.43-.59-.52 0-1.04.2-1.43.59L10.3 9.45l-7.72 7.72c-.78.78-.78 2.05 0 2.83L4 21.41c.39.39.9.59 1.41.59.51 0 1.02-.2 1.41-.59l7.78-7.78 2.81-2.81c.8-.78.8-2.07 0-2.86zM5.41 20L4 18.59l7.72-7.72 1.47 1.35L5.41 20z\"/>\n",
       "  </svg>\n",
       "      </button>\n",
       "      \n",
       "  <style>\n",
       "    .colab-df-container {\n",
       "      display:flex;\n",
       "      flex-wrap:wrap;\n",
       "      gap: 12px;\n",
       "    }\n",
       "\n",
       "    .colab-df-convert {\n",
       "      background-color: #E8F0FE;\n",
       "      border: none;\n",
       "      border-radius: 50%;\n",
       "      cursor: pointer;\n",
       "      display: none;\n",
       "      fill: #1967D2;\n",
       "      height: 32px;\n",
       "      padding: 0 0 0 0;\n",
       "      width: 32px;\n",
       "    }\n",
       "\n",
       "    .colab-df-convert:hover {\n",
       "      background-color: #E2EBFA;\n",
       "      box-shadow: 0px 1px 2px rgba(60, 64, 67, 0.3), 0px 1px 3px 1px rgba(60, 64, 67, 0.15);\n",
       "      fill: #174EA6;\n",
       "    }\n",
       "\n",
       "    [theme=dark] .colab-df-convert {\n",
       "      background-color: #3B4455;\n",
       "      fill: #D2E3FC;\n",
       "    }\n",
       "\n",
       "    [theme=dark] .colab-df-convert:hover {\n",
       "      background-color: #434B5C;\n",
       "      box-shadow: 0px 1px 3px 1px rgba(0, 0, 0, 0.15);\n",
       "      filter: drop-shadow(0px 1px 2px rgba(0, 0, 0, 0.3));\n",
       "      fill: #FFFFFF;\n",
       "    }\n",
       "  </style>\n",
       "\n",
       "      <script>\n",
       "        const buttonEl =\n",
       "          document.querySelector('#df-c26c2a73-f1e0-4e0b-8b56-62360a5624e5 button.colab-df-convert');\n",
       "        buttonEl.style.display =\n",
       "          google.colab.kernel.accessAllowed ? 'block' : 'none';\n",
       "\n",
       "        async function convertToInteractive(key) {\n",
       "          const element = document.querySelector('#df-c26c2a73-f1e0-4e0b-8b56-62360a5624e5');\n",
       "          const dataTable =\n",
       "            await google.colab.kernel.invokeFunction('convertToInteractive',\n",
       "                                                     [key], {});\n",
       "          if (!dataTable) return;\n",
       "\n",
       "          const docLinkHtml = 'Like what you see? Visit the ' +\n",
       "            '<a target=\"_blank\" href=https://colab.research.google.com/notebooks/data_table.ipynb>data table notebook</a>'\n",
       "            + ' to learn more about interactive tables.';\n",
       "          element.innerHTML = '';\n",
       "          dataTable['output_type'] = 'display_data';\n",
       "          await google.colab.output.renderOutput(dataTable, element);\n",
       "          const docLink = document.createElement('div');\n",
       "          docLink.innerHTML = docLinkHtml;\n",
       "          element.appendChild(docLink);\n",
       "        }\n",
       "      </script>\n",
       "    </div>\n",
       "  </div>\n",
       "  "
      ],
      "text/plain": [
       "         id                                               name   host_id  \\\n",
       "0  30913224  Cozy and Sunny Room Williamsburg, Luxury Building  33771081   \n",
       "1    971247                   Sunny Artist Live/Work Apartment   5308961   \n",
       "\n",
       "  host_name neighbourhood_group    neighbourhood  latitude  longitude  \\\n",
       "0      Rémy            Brooklyn     Williamsburg  40.70959  -73.94652   \n",
       "1     Larry           Manhattan  Upper West Side  40.79368  -73.96487   \n",
       "\n",
       "         room_type  minimum_nights  number_of_reviews last_review  \\\n",
       "0     Private room               3                  2  2019-05-08   \n",
       "1  Entire home/apt               3                159  2019-07-03   \n",
       "\n",
       "   reviews_per_month  calculated_host_listings_count  availability_365  \n",
       "0               0.31                               1                 0  \n",
       "1               2.09                               1               244  "
      ]
     },
     "metadata": {},
     "output_type": "display_data"
    },
    {
     "data": {
      "text/html": [
       "\n",
       "  <div id=\"df-757229e7-2092-4a62-b0ef-38048218af17\">\n",
       "    <div class=\"colab-df-container\">\n",
       "      <div>\n",
       "<style scoped>\n",
       "    .dataframe tbody tr th:only-of-type {\n",
       "        vertical-align: middle;\n",
       "    }\n",
       "\n",
       "    .dataframe tbody tr th {\n",
       "        vertical-align: top;\n",
       "    }\n",
       "\n",
       "    .dataframe thead th {\n",
       "        text-align: right;\n",
       "    }\n",
       "</style>\n",
       "<table border=\"1\" class=\"dataframe\">\n",
       "  <thead>\n",
       "    <tr style=\"text-align: right;\">\n",
       "      <th></th>\n",
       "      <th>price</th>\n",
       "    </tr>\n",
       "  </thead>\n",
       "  <tbody>\n",
       "    <tr>\n",
       "      <th>0</th>\n",
       "      <td>80</td>\n",
       "    </tr>\n",
       "    <tr>\n",
       "      <th>1</th>\n",
       "      <td>190</td>\n",
       "    </tr>\n",
       "  </tbody>\n",
       "</table>\n",
       "</div>\n",
       "      <button class=\"colab-df-convert\" onclick=\"convertToInteractive('df-757229e7-2092-4a62-b0ef-38048218af17')\"\n",
       "              title=\"Convert this dataframe to an interactive table.\"\n",
       "              style=\"display:none;\">\n",
       "        \n",
       "  <svg xmlns=\"http://www.w3.org/2000/svg\" height=\"24px\"viewBox=\"0 0 24 24\"\n",
       "       width=\"24px\">\n",
       "    <path d=\"M0 0h24v24H0V0z\" fill=\"none\"/>\n",
       "    <path d=\"M18.56 5.44l.94 2.06.94-2.06 2.06-.94-2.06-.94-.94-2.06-.94 2.06-2.06.94zm-11 1L8.5 8.5l.94-2.06 2.06-.94-2.06-.94L8.5 2.5l-.94 2.06-2.06.94zm10 10l.94 2.06.94-2.06 2.06-.94-2.06-.94-.94-2.06-.94 2.06-2.06.94z\"/><path d=\"M17.41 7.96l-1.37-1.37c-.4-.4-.92-.59-1.43-.59-.52 0-1.04.2-1.43.59L10.3 9.45l-7.72 7.72c-.78.78-.78 2.05 0 2.83L4 21.41c.39.39.9.59 1.41.59.51 0 1.02-.2 1.41-.59l7.78-7.78 2.81-2.81c.8-.78.8-2.07 0-2.86zM5.41 20L4 18.59l7.72-7.72 1.47 1.35L5.41 20z\"/>\n",
       "  </svg>\n",
       "      </button>\n",
       "      \n",
       "  <style>\n",
       "    .colab-df-container {\n",
       "      display:flex;\n",
       "      flex-wrap:wrap;\n",
       "      gap: 12px;\n",
       "    }\n",
       "\n",
       "    .colab-df-convert {\n",
       "      background-color: #E8F0FE;\n",
       "      border: none;\n",
       "      border-radius: 50%;\n",
       "      cursor: pointer;\n",
       "      display: none;\n",
       "      fill: #1967D2;\n",
       "      height: 32px;\n",
       "      padding: 0 0 0 0;\n",
       "      width: 32px;\n",
       "    }\n",
       "\n",
       "    .colab-df-convert:hover {\n",
       "      background-color: #E2EBFA;\n",
       "      box-shadow: 0px 1px 2px rgba(60, 64, 67, 0.3), 0px 1px 3px 1px rgba(60, 64, 67, 0.15);\n",
       "      fill: #174EA6;\n",
       "    }\n",
       "\n",
       "    [theme=dark] .colab-df-convert {\n",
       "      background-color: #3B4455;\n",
       "      fill: #D2E3FC;\n",
       "    }\n",
       "\n",
       "    [theme=dark] .colab-df-convert:hover {\n",
       "      background-color: #434B5C;\n",
       "      box-shadow: 0px 1px 3px 1px rgba(0, 0, 0, 0.15);\n",
       "      filter: drop-shadow(0px 1px 2px rgba(0, 0, 0, 0.3));\n",
       "      fill: #FFFFFF;\n",
       "    }\n",
       "  </style>\n",
       "\n",
       "      <script>\n",
       "        const buttonEl =\n",
       "          document.querySelector('#df-757229e7-2092-4a62-b0ef-38048218af17 button.colab-df-convert');\n",
       "        buttonEl.style.display =\n",
       "          google.colab.kernel.accessAllowed ? 'block' : 'none';\n",
       "\n",
       "        async function convertToInteractive(key) {\n",
       "          const element = document.querySelector('#df-757229e7-2092-4a62-b0ef-38048218af17');\n",
       "          const dataTable =\n",
       "            await google.colab.kernel.invokeFunction('convertToInteractive',\n",
       "                                                     [key], {});\n",
       "          if (!dataTable) return;\n",
       "\n",
       "          const docLinkHtml = 'Like what you see? Visit the ' +\n",
       "            '<a target=\"_blank\" href=https://colab.research.google.com/notebooks/data_table.ipynb>data table notebook</a>'\n",
       "            + ' to learn more about interactive tables.';\n",
       "          element.innerHTML = '';\n",
       "          dataTable['output_type'] = 'display_data';\n",
       "          await google.colab.output.renderOutput(dataTable, element);\n",
       "          const docLink = document.createElement('div');\n",
       "          docLink.innerHTML = docLinkHtml;\n",
       "          element.appendChild(docLink);\n",
       "        }\n",
       "      </script>\n",
       "    </div>\n",
       "  </div>\n",
       "  "
      ],
      "text/plain": [
       "   price\n",
       "0     80\n",
       "1    190"
      ]
     },
     "metadata": {},
     "output_type": "display_data"
    }
   ],
   "source": [
    "display(train.head(2))\n",
    "display(test.head(2))\n",
    "display(y_test.head(2))"
   ]
  },
  {
   "cell_type": "code",
   "execution_count": null,
   "id": "4a5dfeeb",
   "metadata": {
    "colab": {
     "base_uri": "https://localhost:8080/"
    },
    "executionInfo": {
     "elapsed": 11,
     "status": "ok",
     "timestamp": 1679757567657,
     "user": {
      "displayName": "June Ko",
      "userId": "10187011845533435771"
     },
     "user_tz": -540
    },
    "id": "4a5dfeeb",
    "outputId": "d482d59f-2492-4be8-a5a5-c2c9aae87aa6"
   },
   "outputs": [
    {
     "data": {
      "text/plain": [
       "array(['2019-01-01', '2019-06-30', '2019-02-07', ..., '2017-01-28',\n",
       "       '2013-05-31', '2013-12-25'], dtype=object)"
      ]
     },
     "execution_count": 8,
     "metadata": {},
     "output_type": "execute_result"
    }
   ],
   "source": [
    "train['last_review'].unique()\n",
    "# 2013년 거도 있네. 다는 안보이지만. 시각화 해? 말아?"
   ]
  },
  {
   "cell_type": "code",
   "execution_count": null,
   "id": "2f72f94a",
   "metadata": {
    "colab": {
     "base_uri": "https://localhost:8080/"
    },
    "executionInfo": {
     "elapsed": 9,
     "status": "ok",
     "timestamp": 1679757567658,
     "user": {
      "displayName": "June Ko",
      "userId": "10187011845533435771"
     },
     "user_tz": -540
    },
    "id": "2f72f94a",
    "outputId": "81ddb1c2-47b1-42f9-b36c-12f962e5c4cb"
   },
   "outputs": [
    {
     "name": "stdout",
     "output_type": "stream",
     "text": [
      "<class 'pandas.core.frame.DataFrame'>\n",
      "RangeIndex: 39116 entries, 0 to 39115\n",
      "Data columns (total 16 columns):\n",
      " #   Column                          Non-Null Count  Dtype  \n",
      "---  ------                          --------------  -----  \n",
      " 0   id                              39116 non-null  int64  \n",
      " 1   name                            39104 non-null  object \n",
      " 2   host_id                         39116 non-null  int64  \n",
      " 3   host_name                       39099 non-null  object \n",
      " 4   neighbourhood_group             39116 non-null  object \n",
      " 5   neighbourhood                   39116 non-null  object \n",
      " 6   latitude                        39116 non-null  float64\n",
      " 7   longitude                       39116 non-null  float64\n",
      " 8   room_type                       39116 non-null  object \n",
      " 9   price                           39116 non-null  int64  \n",
      " 10  minimum_nights                  39116 non-null  int64  \n",
      " 11  number_of_reviews               39116 non-null  int64  \n",
      " 12  last_review                     31122 non-null  object \n",
      " 13  reviews_per_month               31122 non-null  float64\n",
      " 14  calculated_host_listings_count  39116 non-null  int64  \n",
      " 15  availability_365                39116 non-null  int64  \n",
      "dtypes: float64(3), int64(7), object(6)\n",
      "memory usage: 4.8+ MB\n",
      "<class 'pandas.core.frame.DataFrame'>\n",
      "RangeIndex: 9779 entries, 0 to 9778\n",
      "Data columns (total 15 columns):\n",
      " #   Column                          Non-Null Count  Dtype  \n",
      "---  ------                          --------------  -----  \n",
      " 0   id                              9779 non-null   int64  \n",
      " 1   name                            9775 non-null   object \n",
      " 2   host_id                         9779 non-null   int64  \n",
      " 3   host_name                       9775 non-null   object \n",
      " 4   neighbourhood_group             9779 non-null   object \n",
      " 5   neighbourhood                   9779 non-null   object \n",
      " 6   latitude                        9779 non-null   float64\n",
      " 7   longitude                       9779 non-null   float64\n",
      " 8   room_type                       9779 non-null   object \n",
      " 9   minimum_nights                  9779 non-null   int64  \n",
      " 10  number_of_reviews               9779 non-null   int64  \n",
      " 11  last_review                     7721 non-null   object \n",
      " 12  reviews_per_month               7721 non-null   float64\n",
      " 13  calculated_host_listings_count  9779 non-null   int64  \n",
      " 14  availability_365                9779 non-null   int64  \n",
      "dtypes: float64(3), int64(6), object(6)\n",
      "memory usage: 1.1+ MB\n",
      "<class 'pandas.core.frame.DataFrame'>\n",
      "RangeIndex: 9779 entries, 0 to 9778\n",
      "Data columns (total 1 columns):\n",
      " #   Column  Non-Null Count  Dtype\n",
      "---  ------  --------------  -----\n",
      " 0   price   9779 non-null   int64\n",
      "dtypes: int64(1)\n",
      "memory usage: 76.5 KB\n"
     ]
    },
    {
     "data": {
      "text/plain": [
       "(None, None, None)"
      ]
     },
     "execution_count": 9,
     "metadata": {},
     "output_type": "execute_result"
    }
   ],
   "source": [
    "train.info(), test.info(), y_test.info()\n",
    "#test에는 price 열이 없음. y_test는 열이 하나뿐이라 구지 볼 필요는 없었지만 타입 확인했음."
   ]
  },
  {
   "cell_type": "code",
   "execution_count": null,
   "id": "cd8c69c6",
   "metadata": {
    "colab": {
     "base_uri": "https://localhost:8080/"
    },
    "executionInfo": {
     "elapsed": 763,
     "status": "ok",
     "timestamp": 1679757568415,
     "user": {
      "displayName": "June Ko",
      "userId": "10187011845533435771"
     },
     "user_tz": -540
    },
    "id": "cd8c69c6",
    "outputId": "ccd7f76f-67c5-42ec-9f91-d0b6471bffb2"
   },
   "outputs": [
    {
     "data": {
      "text/plain": [
       "id                                   0\n",
       "name                                12\n",
       "host_id                              0\n",
       "host_name                           17\n",
       "neighbourhood_group                  0\n",
       "neighbourhood                        0\n",
       "latitude                             0\n",
       "longitude                            0\n",
       "room_type                            0\n",
       "price                                0\n",
       "minimum_nights                       0\n",
       "number_of_reviews                    0\n",
       "last_review                       7994\n",
       "reviews_per_month                 7994\n",
       "calculated_host_listings_count       0\n",
       "availability_365                     0\n",
       "dtype: int64"
      ]
     },
     "execution_count": 10,
     "metadata": {},
     "output_type": "execute_result"
    }
   ],
   "source": [
    "train.isnull().sum()\n",
    "#리뷰 관련 데이터에 결측치가 있음.  20% 정도. number_of_reviews의 분포를 볼 필요가 있겠음. 많네....\n",
    "#name, host_name에도 10개 남짓. 사용하지 않음."
   ]
  },
  {
   "cell_type": "code",
   "execution_count": null,
   "id": "ef26c6cf",
   "metadata": {
    "colab": {
     "base_uri": "https://localhost:8080/"
    },
    "executionInfo": {
     "elapsed": 9,
     "status": "ok",
     "timestamp": 1679757568415,
     "user": {
      "displayName": "June Ko",
      "userId": "10187011845533435771"
     },
     "user_tz": -540
    },
    "id": "ef26c6cf",
    "outputId": "d717f7c6-f866-43b8-939c-b7151c51e9ae"
   },
   "outputs": [
    {
     "data": {
      "text/plain": [
       "id                                   0\n",
       "name                                 4\n",
       "host_id                              0\n",
       "host_name                            4\n",
       "neighbourhood_group                  0\n",
       "neighbourhood                        0\n",
       "latitude                             0\n",
       "longitude                            0\n",
       "room_type                            0\n",
       "minimum_nights                       0\n",
       "number_of_reviews                    0\n",
       "last_review                       2058\n",
       "reviews_per_month                 2058\n",
       "calculated_host_listings_count       0\n",
       "availability_365                     0\n",
       "dtype: int64"
      ]
     },
     "execution_count": 11,
     "metadata": {},
     "output_type": "execute_result"
    }
   ],
   "source": [
    "test.isnull().sum()\n",
    "#리뷰 없는 곳 지우기. 20%나 되는데 지워도 될까? \n",
    "#허위이거나 신규 매물.. 기존 거래 매물을 바탕으로 예측하는 목적에 맞지 않음. 지우기로 결정!! "
   ]
  },
  {
   "cell_type": "code",
   "execution_count": null,
   "id": "3986f74b",
   "metadata": {
    "colab": {
     "base_uri": "https://localhost:8080/",
     "height": 283
    },
    "executionInfo": {
     "elapsed": 480,
     "status": "ok",
     "timestamp": 1679757568890,
     "user": {
      "displayName": "June Ko",
      "userId": "10187011845533435771"
     },
     "user_tz": -540
    },
    "id": "3986f74b",
    "outputId": "b5c95b0c-2f35-4b43-bd46-e3a2ea68e453"
   },
   "outputs": [
    {
     "data": {
      "text/plain": [
       "<Axes: >"
      ]
     },
     "execution_count": 12,
     "metadata": {},
     "output_type": "execute_result"
    },
    {
     "data": {
      "image/png": "[encoded data removed]",
      "text/plain": [
       "<Figure size 432x288 with 1 Axes>"
      ]
     },
     "metadata": {
      "needs_background": "light"
     },
     "output_type": "display_data"
    }
   ],
   "source": [
    "train['number_of_reviews'].hist(bins=300)\n"
   ]
  },
  {
   "cell_type": "code",
   "execution_count": null,
   "id": "825de52f",
   "metadata": {
    "colab": {
     "base_uri": "https://localhost:8080/"
    },
    "executionInfo": {
     "elapsed": 719,
     "status": "ok",
     "timestamp": 1679757569604,
     "user": {
      "displayName": "June Ko",
      "userId": "10187011845533435771"
     },
     "user_tz": -540
    },
    "id": "825de52f",
    "outputId": "8cccfc52-75de-47ec-a3f4-be4e1a7c8fc3"
   },
   "outputs": [
    {
     "data": {
      "text/plain": [
       "0      7994\n",
       "1      4219\n",
       "2      2763\n",
       "3      2004\n",
       "4      1593\n",
       "       ... \n",
       "347       1\n",
       "264       1\n",
       "375       1\n",
       "360       1\n",
       "282       1\n",
       "Name: number_of_reviews, Length: 379, dtype: int64"
      ]
     },
     "execution_count": 13,
     "metadata": {},
     "output_type": "execute_result"
    }
   ],
   "source": [
    "# number_of_reviews\n",
    "train['number_of_reviews'].value_counts() \n",
    "#리뷰 없는 곳이 7994 리뷰 관련 데이터 빈칸인 수랑 같음. 예상했지만 더블 체크\n",
    "#허위 매물 가능성이 높아 7994 개는 없애는 것이 좋겠음. "
   ]
  },
  {
   "cell_type": "code",
   "execution_count": null,
   "id": "-ENnuNlaxF58",
   "metadata": {
    "colab": {
     "base_uri": "https://localhost:8080/"
    },
    "executionInfo": {
     "elapsed": 8,
     "status": "ok",
     "timestamp": 1679757569604,
     "user": {
      "displayName": "June Ko",
      "userId": "10187011845533435771"
     },
     "user_tz": -540
    },
    "id": "-ENnuNlaxF58",
    "outputId": "b04e7b4f-5052-4624-9f0d-c1775bc84104"
   },
   "outputs": [
    {
     "data": {
      "text/plain": [
       "0         9\n",
       "10       12\n",
       "11        3\n",
       "12        3\n",
       "13        1\n",
       "         ..\n",
       "7703      1\n",
       "8000      1\n",
       "8500      1\n",
       "9999      3\n",
       "10000     2\n",
       "Name: price, Length: 645, dtype: int64"
      ]
     },
     "execution_count": 14,
     "metadata": {},
     "output_type": "execute_result"
    }
   ],
   "source": [
    "train['price'].value_counts().sort_index()"
   ]
  },
  {
   "cell_type": "code",
   "execution_count": null,
   "id": "0a886182",
   "metadata": {
    "colab": {
     "base_uri": "https://localhost:8080/",
     "height": 283
    },
    "executionInfo": {
     "elapsed": 1010,
     "status": "ok",
     "timestamp": 1679757570609,
     "user": {
      "displayName": "June Ko",
      "userId": "10187011845533435771"
     },
     "user_tz": -540
    },
    "id": "0a886182",
    "outputId": "0be5e991-dd29-4a93-e184-273e3ec63e66"
   },
   "outputs": [
    {
     "data": {
      "text/plain": [
       "<Axes: >"
      ]
     },
     "execution_count": 15,
     "metadata": {},
     "output_type": "execute_result"
    },
    {
     "data": {
      "image/png": "[encoded data removed]",
      "text/plain": [
       "<Figure size 432x288 with 1 Axes>"
      ]
     },
     "metadata": {
      "needs_background": "light"
     },
     "output_type": "display_data"
    }
   ],
   "source": [
    "train['price'].hist(bins=100) #bins : 가로축 구간의 갯수 지정하는 거임. 최소 최대 값 차이가 10000이므로 10씩 자른 거임? "
   ]
  },
  {
   "cell_type": "code",
   "execution_count": null,
   "id": "682dddec",
   "metadata": {
    "colab": {
     "base_uri": "https://localhost:8080/"
    },
    "executionInfo": {
     "elapsed": 566,
     "status": "ok",
     "timestamp": 1679757571169,
     "user": {
      "displayName": "June Ko",
      "userId": "10187011845533435771"
     },
     "user_tz": -540
    },
    "id": "682dddec",
    "outputId": "bd66df6e-58bb-4c67-835a-919f9c83d8d6"
   },
   "outputs": [
    {
     "data": {
      "text/plain": [
       "count    39116.000000\n",
       "mean       152.751150\n",
       "std        241.752501\n",
       "min          0.000000\n",
       "25%         69.000000\n",
       "50%        105.000000\n",
       "75%        175.000000\n",
       "max      10000.000000\n",
       "Name: price, dtype: float64"
      ]
     },
     "execution_count": 16,
     "metadata": {},
     "output_type": "execute_result"
    }
   ],
   "source": [
    "# target(describe)\n",
    "train['price'].describe()\n",
    "#0이 있어? 이것도 지우는 것이 좋겠음.\n",
    "#75%가 175인데 10000이 최대... 2000이상 데이터도 지울까 말까? 비싼 곳도 있겠지..."
   ]
  },
  {
   "cell_type": "code",
   "execution_count": null,
   "id": "3a6ad7cd",
   "metadata": {
    "colab": {
     "base_uri": "https://localhost:8080/"
    },
    "executionInfo": {
     "elapsed": 11,
     "status": "ok",
     "timestamp": 1679757571170,
     "user": {
      "displayName": "June Ko",
      "userId": "10187011845533435771"
     },
     "user_tz": -540
    },
    "id": "3a6ad7cd",
    "outputId": "64f5a6a3-c392-42e7-9f5b-306f77523c74"
   },
   "outputs": [
    {
     "data": {
      "text/plain": [
       "219517861    256\n",
       "107434423    181\n",
       "30283594      99\n",
       "137358866     82\n",
       "12243051      80\n",
       "            ... \n",
       "73369106       1\n",
       "26620387       1\n",
       "176660539      1\n",
       "26004891       1\n",
       "2609535        1\n",
       "Name: host_id, Length: 30845, dtype: int64"
      ]
     },
     "execution_count": 17,
     "metadata": {},
     "output_type": "execute_result"
    }
   ],
   "source": [
    "# 피처(host_id)\n",
    "train['host_id'].value_counts()  #"
   ]
  },
  {
   "cell_type": "code",
   "execution_count": null,
   "id": "8c7cb764",
   "metadata": {
    "colab": {
     "base_uri": "https://localhost:8080/",
     "height": 283
    },
    "executionInfo": {
     "elapsed": 901,
     "status": "ok",
     "timestamp": 1679757572064,
     "user": {
      "displayName": "June Ko",
      "userId": "10187011845533435771"
     },
     "user_tz": -540
    },
    "id": "8c7cb764",
    "outputId": "96583018-2bc2-44f7-fd17-b622080ddab3"
   },
   "outputs": [
    {
     "data": {
      "text/plain": [
       "<Axes: >"
      ]
     },
     "execution_count": 18,
     "metadata": {},
     "output_type": "execute_result"
    },
    {
     "data": {
      "image/png": "[encoded data removed]",
      "text/plain": [
       "<Figure size 432x288 with 1 Axes>"
      ]
     },
     "metadata": {
      "needs_background": "light"
     },
     "output_type": "display_data"
    }
   ],
   "source": [
    "train['availability_365'].hist(bins=10) "
   ]
  },
  {
   "cell_type": "code",
   "execution_count": null,
   "id": "35d369f1",
   "metadata": {
    "colab": {
     "base_uri": "https://localhost:8080/"
    },
    "executionInfo": {
     "elapsed": 47,
     "status": "ok",
     "timestamp": 1679757572065,
     "user": {
      "displayName": "June Ko",
      "userId": "10187011845533435771"
     },
     "user_tz": -540
    },
    "id": "35d369f1",
    "outputId": "5c13a0bf-e3ce-430a-e2b5-322dee4de6a1"
   },
   "outputs": [
    {
     "data": {
      "text/plain": [
       "0      14007\n",
       "365     1050\n",
       "364      393\n",
       "1        326\n",
       "89       308\n",
       "       ...  \n",
       "195       20\n",
       "183       18\n",
       "181       17\n",
       "196       17\n",
       "202       15\n",
       "Name: availability_365, Length: 366, dtype: int64"
      ]
     },
     "execution_count": 19,
     "metadata": {},
     "output_type": "execute_result"
    }
   ],
   "source": [
    "train['availability_365'].value_counts() \n",
    "#가능한 날이 없는 곳이 14000개나 됨. 허위거나 방이 매우 잘 나간거니?\n",
    "#리뷰 빈칸인 곳 지우고 다시 한 번 체크하면 7994가 확실히 허위매물인지 알 수 있을 거 같음."
   ]
  },
  {
   "cell_type": "markdown",
   "id": "5e8fa375",
   "metadata": {
    "id": "5e8fa375"
   },
   "source": [
    "## Data Preprocessing\n",
    "- last_review 삭제 (숫자형이 아니어서?) \n",
    "- review isnull 지우기. =>  허위 매물이거나 신규 매물이므로 기존 거래 가격을 바탕으로 가격 예측하는 목표에 어긋남.  \n",
    "- price == 0 지우기 : 허위매물?.."
   ]
  },
  {
   "cell_type": "markdown",
   "id": "efe2ac38",
   "metadata": {
    "id": "efe2ac38"
   },
   "source": [
    "### 리뷰 관련 전처리\n",
    "- 결측치 행 삭제 \n",
    "    - last_review이나 reviews_per_month의 결측치 행 제거(같은 결과)\n",
    "    - train = train['last_review'].dropna().reset_index(drop=True)\n",
    "    - test 파일은 y_test와 같이 진행해야 함. (행을 지우는 거라서..)\n",
    "    - 결측치 행 index를 리스트로 만들어 특정행 지우기\n",
    "\n",
    "- 숫자가 아니었던 'last_review' 열 지우기\n",
    "    - train = train.drop('last_review', axis=1)\n",
    "    - test = test.drop('last_review', axis=1)\n"
   ]
  },
  {
   "cell_type": "code",
   "execution_count": null,
   "id": "ac112969",
   "metadata": {
    "colab": {
     "base_uri": "https://localhost:8080/"
    },
    "executionInfo": {
     "elapsed": 46,
     "status": "ok",
     "timestamp": 1679757572066,
     "user": {
      "displayName": "June Ko",
      "userId": "10187011845533435771"
     },
     "user_tz": -540
    },
    "id": "ac112969",
    "outputId": "f9cd8dda-88ed-49b7-e59b-9ed53ff2751c"
   },
   "outputs": [
    {
     "data": {
      "text/plain": [
       "Int64Index([  10,   13,   14,   16,   31,   32,   36,   40,   50,   61,\n",
       "            ...\n",
       "            9742, 9743, 9750, 9752, 9753, 9756, 9757, 9761, 9772, 9777],\n",
       "           dtype='int64', length=2058)"
      ]
     },
     "execution_count": 20,
     "metadata": {},
     "output_type": "execute_result"
    }
   ],
   "source": [
    "# 결측치를 지우는 데 test와 y_test의 같은 행을 지워야 하므로 test의 지울 행의 index를 저장하고 y_test도 같은 행을 지울 거임.\n",
    "na_index =[]\n",
    "test['last_review']= test['last_review'].fillna(0)\n",
    "na_index = test.loc[test.last_review == 0].index\n",
    "na_index"
   ]
  },
  {
   "cell_type": "code",
   "execution_count": null,
   "id": "1c74cc13",
   "metadata": {
    "colab": {
     "base_uri": "https://localhost:8080/"
    },
    "executionInfo": {
     "elapsed": 42,
     "status": "ok",
     "timestamp": 1679757572066,
     "user": {
      "displayName": "June Ko",
      "userId": "10187011845533435771"
     },
     "user_tz": -540
    },
    "id": "1c74cc13",
    "outputId": "10dd100b-696b-4049-975a-0712ff89c173"
   },
   "outputs": [
    {
     "data": {
      "text/plain": [
       "(7721, 15)"
      ]
     },
     "execution_count": 21,
     "metadata": {},
     "output_type": "execute_result"
    }
   ],
   "source": [
    "#test의 last_review의 결측치 지움\n",
    "test = test.drop(na_index)\n",
    "test.shape"
   ]
  },
  {
   "cell_type": "code",
   "execution_count": null,
   "id": "7fb50468",
   "metadata": {
    "colab": {
     "base_uri": "https://localhost:8080/"
    },
    "executionInfo": {
     "elapsed": 39,
     "status": "ok",
     "timestamp": 1679757572067,
     "user": {
      "displayName": "June Ko",
      "userId": "10187011845533435771"
     },
     "user_tz": -540
    },
    "id": "7fb50468",
    "outputId": "f87576a3-ad72-4318-8859-74b9ad6b7e07"
   },
   "outputs": [
    {
     "data": {
      "text/plain": [
       "(7721, 1)"
      ]
     },
     "execution_count": 22,
     "metadata": {},
     "output_type": "execute_result"
    }
   ],
   "source": [
    "#test의 last_review의 결측치와 같은 행을 y_test에서 지움.\n",
    "y_test = y_test.drop(na_index)\n",
    "y_test.shape\n",
    "#같은 행을 지우니 행 수 같음."
   ]
  },
  {
   "cell_type": "code",
   "execution_count": null,
   "id": "072f4459",
   "metadata": {
    "colab": {
     "base_uri": "https://localhost:8080/"
    },
    "executionInfo": {
     "elapsed": 37,
     "status": "ok",
     "timestamp": 1679757572067,
     "user": {
      "displayName": "June Ko",
      "userId": "10187011845533435771"
     },
     "user_tz": -540
    },
    "id": "072f4459",
    "outputId": "c086476c-5f1b-457a-f19e-f6fb5196f590"
   },
   "outputs": [
    {
     "data": {
      "text/plain": [
       "(31122, 16)"
      ]
     },
     "execution_count": 23,
     "metadata": {},
     "output_type": "execute_result"
    }
   ],
   "source": [
    "#결측치가 있는 행 지우기(train) 결측치 지우는 건 여러 방법이 있음.\n",
    "# train = train['last_review'].dropna().reset_index(drop=True)\n",
    "train = train.dropna(subset=['last_review'])\n",
    "train.shape\n",
    "#((39116, 16), (9779, 15)) : 지우기 전."
   ]
  },
  {
   "cell_type": "code",
   "execution_count": null,
   "id": "d3d7a9ce",
   "metadata": {
    "colab": {
     "base_uri": "https://localhost:8080/"
    },
    "executionInfo": {
     "elapsed": 36,
     "status": "ok",
     "timestamp": 1679757572068,
     "user": {
      "displayName": "June Ko",
      "userId": "10187011845533435771"
     },
     "user_tz": -540
    },
    "id": "d3d7a9ce",
    "outputId": "e6ff1c46-a1f0-4382-d324-f5ec1b050853"
   },
   "outputs": [
    {
     "data": {
      "text/plain": [
       "0      10139\n",
       "365      679\n",
       "1        291\n",
       "364      244\n",
       "5        229\n",
       "       ...  \n",
       "183       18\n",
       "195       18\n",
       "196       16\n",
       "181       15\n",
       "202       14\n",
       "Name: availability_365, Length: 366, dtype: int64"
      ]
     },
     "execution_count": 24,
     "metadata": {},
     "output_type": "execute_result"
    }
   ],
   "source": [
    "train['availability_365'].value_counts()\n",
    "#0인 것이 4000이 줄었네 7944의 반. 365인 것이 400감소. \n",
    "#리뷰가 없는데 가능한 날이 없다!? 확실히 이상한 거 맞음. \n",
    "#나머지 4000천개는? 허위가 아닌 건가?"
   ]
  },
  {
   "cell_type": "code",
   "execution_count": null,
   "id": "f5ade0c0",
   "metadata": {
    "colab": {
     "base_uri": "https://localhost:8080/",
     "height": 1000
    },
    "executionInfo": {
     "elapsed": 34,
     "status": "ok",
     "timestamp": 1679757572068,
     "user": {
      "displayName": "June Ko",
      "userId": "10187011845533435771"
     },
     "user_tz": -540
    },
    "id": "f5ade0c0",
    "outputId": "8b0c237b-4214-43a3-a937-e9defdbd49be"
   },
   "outputs": [
    {
     "data": {
      "text/html": [
       "\n",
       "  <div id=\"df-49f1ae48-7134-4cf7-99b4-21c9e87b3544\">\n",
       "    <div class=\"colab-df-container\">\n",
       "      <div>\n",
       "<style scoped>\n",
       "    .dataframe tbody tr th:only-of-type {\n",
       "        vertical-align: middle;\n",
       "    }\n",
       "\n",
       "    .dataframe tbody tr th {\n",
       "        vertical-align: top;\n",
       "    }\n",
       "\n",
       "    .dataframe thead th {\n",
       "        text-align: right;\n",
       "    }\n",
       "</style>\n",
       "<table border=\"1\" class=\"dataframe\">\n",
       "  <thead>\n",
       "    <tr style=\"text-align: right;\">\n",
       "      <th></th>\n",
       "      <th>id</th>\n",
       "      <th>name</th>\n",
       "      <th>host_id</th>\n",
       "      <th>host_name</th>\n",
       "      <th>neighbourhood_group</th>\n",
       "      <th>neighbourhood</th>\n",
       "      <th>latitude</th>\n",
       "      <th>longitude</th>\n",
       "      <th>room_type</th>\n",
       "      <th>price</th>\n",
       "      <th>minimum_nights</th>\n",
       "      <th>number_of_reviews</th>\n",
       "      <th>last_review</th>\n",
       "      <th>reviews_per_month</th>\n",
       "      <th>calculated_host_listings_count</th>\n",
       "      <th>availability_365</th>\n",
       "    </tr>\n",
       "  </thead>\n",
       "  <tbody>\n",
       "    <tr>\n",
       "      <th>0</th>\n",
       "      <td>14963583</td>\n",
       "      <td>Room in South Harlem near Central Park</td>\n",
       "      <td>94219511</td>\n",
       "      <td>Gilles</td>\n",
       "      <td>Manhattan</td>\n",
       "      <td>Harlem</td>\n",
       "      <td>40.80167</td>\n",
       "      <td>-73.95781</td>\n",
       "      <td>Private room</td>\n",
       "      <td>70</td>\n",
       "      <td>3</td>\n",
       "      <td>3</td>\n",
       "      <td>2019-01-01</td>\n",
       "      <td>0.09</td>\n",
       "      <td>2</td>\n",
       "      <td>0</td>\n",
       "    </tr>\n",
       "    <tr>\n",
       "      <th>1</th>\n",
       "      <td>9458704</td>\n",
       "      <td>Large 1BR Apartment, near Times Sq (2nd Floor)</td>\n",
       "      <td>49015331</td>\n",
       "      <td>Iradj</td>\n",
       "      <td>Manhattan</td>\n",
       "      <td>Hell's Kitchen</td>\n",
       "      <td>40.76037</td>\n",
       "      <td>-73.99016</td>\n",
       "      <td>Entire home/apt</td>\n",
       "      <td>240</td>\n",
       "      <td>2</td>\n",
       "      <td>64</td>\n",
       "      <td>2019-06-30</td>\n",
       "      <td>1.68</td>\n",
       "      <td>2</td>\n",
       "      <td>262</td>\n",
       "    </tr>\n",
       "    <tr>\n",
       "      <th>2</th>\n",
       "      <td>26871281</td>\n",
       "      <td>West Village Apartment</td>\n",
       "      <td>440022</td>\n",
       "      <td>Petter</td>\n",
       "      <td>Manhattan</td>\n",
       "      <td>West Village</td>\n",
       "      <td>40.73001</td>\n",
       "      <td>-74.00562</td>\n",
       "      <td>Entire home/apt</td>\n",
       "      <td>150</td>\n",
       "      <td>60</td>\n",
       "      <td>1</td>\n",
       "      <td>2019-02-07</td>\n",
       "      <td>0.20</td>\n",
       "      <td>1</td>\n",
       "      <td>0</td>\n",
       "    </tr>\n",
       "    <tr>\n",
       "      <th>3</th>\n",
       "      <td>698132</td>\n",
       "      <td>LARGE PRIVATE FLOOR IN BROOKLYN, NY</td>\n",
       "      <td>3577509</td>\n",
       "      <td>Eric</td>\n",
       "      <td>Brooklyn</td>\n",
       "      <td>Bedford-Stuyvesant</td>\n",
       "      <td>40.69128</td>\n",
       "      <td>-73.93653</td>\n",
       "      <td>Entire home/apt</td>\n",
       "      <td>85</td>\n",
       "      <td>4</td>\n",
       "      <td>239</td>\n",
       "      <td>2019-06-26</td>\n",
       "      <td>2.89</td>\n",
       "      <td>2</td>\n",
       "      <td>1</td>\n",
       "    </tr>\n",
       "    <tr>\n",
       "      <th>5</th>\n",
       "      <td>15523281</td>\n",
       "      <td>1 bedroom to yourself in Midtown Manhattan!</td>\n",
       "      <td>96595601</td>\n",
       "      <td>Tristan</td>\n",
       "      <td>Manhattan</td>\n",
       "      <td>Midtown</td>\n",
       "      <td>40.75966</td>\n",
       "      <td>-73.96313</td>\n",
       "      <td>Entire home/apt</td>\n",
       "      <td>135</td>\n",
       "      <td>3</td>\n",
       "      <td>21</td>\n",
       "      <td>2019-05-12</td>\n",
       "      <td>0.67</td>\n",
       "      <td>1</td>\n",
       "      <td>0</td>\n",
       "    </tr>\n",
       "    <tr>\n",
       "      <th>...</th>\n",
       "      <td>...</td>\n",
       "      <td>...</td>\n",
       "      <td>...</td>\n",
       "      <td>...</td>\n",
       "      <td>...</td>\n",
       "      <td>...</td>\n",
       "      <td>...</td>\n",
       "      <td>...</td>\n",
       "      <td>...</td>\n",
       "      <td>...</td>\n",
       "      <td>...</td>\n",
       "      <td>...</td>\n",
       "      <td>...</td>\n",
       "      <td>...</td>\n",
       "      <td>...</td>\n",
       "      <td>...</td>\n",
       "    </tr>\n",
       "    <tr>\n",
       "      <th>39109</th>\n",
       "      <td>925240</td>\n",
       "      <td>Artist Loft - Union Square</td>\n",
       "      <td>4976428</td>\n",
       "      <td>Jonathan</td>\n",
       "      <td>Manhattan</td>\n",
       "      <td>East Village</td>\n",
       "      <td>40.73194</td>\n",
       "      <td>-73.98939</td>\n",
       "      <td>Entire home/apt</td>\n",
       "      <td>295</td>\n",
       "      <td>7</td>\n",
       "      <td>92</td>\n",
       "      <td>2019-06-24</td>\n",
       "      <td>1.23</td>\n",
       "      <td>1</td>\n",
       "      <td>316</td>\n",
       "    </tr>\n",
       "    <tr>\n",
       "      <th>39110</th>\n",
       "      <td>4649627</td>\n",
       "      <td>Spacious 1 BR, En Suite in Brownstone!</td>\n",
       "      <td>9492212</td>\n",
       "      <td>Emily And Joel</td>\n",
       "      <td>Brooklyn</td>\n",
       "      <td>Park Slope</td>\n",
       "      <td>40.67020</td>\n",
       "      <td>-73.97885</td>\n",
       "      <td>Private room</td>\n",
       "      <td>135</td>\n",
       "      <td>2</td>\n",
       "      <td>88</td>\n",
       "      <td>2018-12-31</td>\n",
       "      <td>1.60</td>\n",
       "      <td>4</td>\n",
       "      <td>0</td>\n",
       "    </tr>\n",
       "    <tr>\n",
       "      <th>39112</th>\n",
       "      <td>29754544</td>\n",
       "      <td>Comfortable- JFK,LGA Best Value</td>\n",
       "      <td>223846870</td>\n",
       "      <td>Shared Stay-JFK The Hugh Suite</td>\n",
       "      <td>Queens</td>\n",
       "      <td>Springfield Gardens</td>\n",
       "      <td>40.66102</td>\n",
       "      <td>-73.77035</td>\n",
       "      <td>Private room</td>\n",
       "      <td>50</td>\n",
       "      <td>1</td>\n",
       "      <td>57</td>\n",
       "      <td>2019-06-21</td>\n",
       "      <td>7.28</td>\n",
       "      <td>3</td>\n",
       "      <td>342</td>\n",
       "    </tr>\n",
       "    <tr>\n",
       "      <th>39114</th>\n",
       "      <td>531258</td>\n",
       "      <td>1 BR Village - 30 day+ stay</td>\n",
       "      <td>2609535</td>\n",
       "      <td>Alexandra</td>\n",
       "      <td>Manhattan</td>\n",
       "      <td>Greenwich Village</td>\n",
       "      <td>40.73110</td>\n",
       "      <td>-73.99913</td>\n",
       "      <td>Entire home/apt</td>\n",
       "      <td>165</td>\n",
       "      <td>30</td>\n",
       "      <td>19</td>\n",
       "      <td>2018-10-15</td>\n",
       "      <td>0.23</td>\n",
       "      <td>1</td>\n",
       "      <td>259</td>\n",
       "    </tr>\n",
       "    <tr>\n",
       "      <th>39115</th>\n",
       "      <td>17041225</td>\n",
       "      <td>Funky 3 Bedroom Duplex in hip Greenpoint, Broo...</td>\n",
       "      <td>1239078</td>\n",
       "      <td>Michael</td>\n",
       "      <td>Brooklyn</td>\n",
       "      <td>Greenpoint</td>\n",
       "      <td>40.72881</td>\n",
       "      <td>-73.95817</td>\n",
       "      <td>Entire home/apt</td>\n",
       "      <td>200</td>\n",
       "      <td>2</td>\n",
       "      <td>35</td>\n",
       "      <td>2017-09-15</td>\n",
       "      <td>1.19</td>\n",
       "      <td>2</td>\n",
       "      <td>0</td>\n",
       "    </tr>\n",
       "  </tbody>\n",
       "</table>\n",
       "<p>31122 rows × 16 columns</p>\n",
       "</div>\n",
       "      <button class=\"colab-df-convert\" onclick=\"convertToInteractive('df-49f1ae48-7134-4cf7-99b4-21c9e87b3544')\"\n",
       "              title=\"Convert this dataframe to an interactive table.\"\n",
       "              style=\"display:none;\">\n",
       "        \n",
       "  <svg xmlns=\"http://www.w3.org/2000/svg\" height=\"24px\"viewBox=\"0 0 24 24\"\n",
       "       width=\"24px\">\n",
       "    <path d=\"M0 0h24v24H0V0z\" fill=\"none\"/>\n",
       "    <path d=\"M18.56 5.44l.94 2.06.94-2.06 2.06-.94-2.06-.94-.94-2.06-.94 2.06-2.06.94zm-11 1L8.5 8.5l.94-2.06 2.06-.94-2.06-.94L8.5 2.5l-.94 2.06-2.06.94zm10 10l.94 2.06.94-2.06 2.06-.94-2.06-.94-.94-2.06-.94 2.06-2.06.94z\"/><path d=\"M17.41 7.96l-1.37-1.37c-.4-.4-.92-.59-1.43-.59-.52 0-1.04.2-1.43.59L10.3 9.45l-7.72 7.72c-.78.78-.78 2.05 0 2.83L4 21.41c.39.39.9.59 1.41.59.51 0 1.02-.2 1.41-.59l7.78-7.78 2.81-2.81c.8-.78.8-2.07 0-2.86zM5.41 20L4 18.59l7.72-7.72 1.47 1.35L5.41 20z\"/>\n",
       "  </svg>\n",
       "      </button>\n",
       "      \n",
       "  <style>\n",
       "    .colab-df-container {\n",
       "      display:flex;\n",
       "      flex-wrap:wrap;\n",
       "      gap: 12px;\n",
       "    }\n",
       "\n",
       "    .colab-df-convert {\n",
       "      background-color: #E8F0FE;\n",
       "      border: none;\n",
       "      border-radius: 50%;\n",
       "      cursor: pointer;\n",
       "      display: none;\n",
       "      fill: #1967D2;\n",
       "      height: 32px;\n",
       "      padding: 0 0 0 0;\n",
       "      width: 32px;\n",
       "    }\n",
       "\n",
       "    .colab-df-convert:hover {\n",
       "      background-color: #E2EBFA;\n",
       "      box-shadow: 0px 1px 2px rgba(60, 64, 67, 0.3), 0px 1px 3px 1px rgba(60, 64, 67, 0.15);\n",
       "      fill: #174EA6;\n",
       "    }\n",
       "\n",
       "    [theme=dark] .colab-df-convert {\n",
       "      background-color: #3B4455;\n",
       "      fill: #D2E3FC;\n",
       "    }\n",
       "\n",
       "    [theme=dark] .colab-df-convert:hover {\n",
       "      background-color: #434B5C;\n",
       "      box-shadow: 0px 1px 3px 1px rgba(0, 0, 0, 0.15);\n",
       "      filter: drop-shadow(0px 1px 2px rgba(0, 0, 0, 0.3));\n",
       "      fill: #FFFFFF;\n",
       "    }\n",
       "  </style>\n",
       "\n",
       "      <script>\n",
       "        const buttonEl =\n",
       "          document.querySelector('#df-49f1ae48-7134-4cf7-99b4-21c9e87b3544 button.colab-df-convert');\n",
       "        buttonEl.style.display =\n",
       "          google.colab.kernel.accessAllowed ? 'block' : 'none';\n",
       "\n",
       "        async function convertToInteractive(key) {\n",
       "          const element = document.querySelector('#df-49f1ae48-7134-4cf7-99b4-21c9e87b3544');\n",
       "          const dataTable =\n",
       "            await google.colab.kernel.invokeFunction('convertToInteractive',\n",
       "                                                     [key], {});\n",
       "          if (!dataTable) return;\n",
       "\n",
       "          const docLinkHtml = 'Like what you see? Visit the ' +\n",
       "            '<a target=\"_blank\" href=https://colab.research.google.com/notebooks/data_table.ipynb>data table notebook</a>'\n",
       "            + ' to learn more about interactive tables.';\n",
       "          element.innerHTML = '';\n",
       "          dataTable['output_type'] = 'display_data';\n",
       "          await google.colab.output.renderOutput(dataTable, element);\n",
       "          const docLink = document.createElement('div');\n",
       "          docLink.innerHTML = docLinkHtml;\n",
       "          element.appendChild(docLink);\n",
       "        }\n",
       "      </script>\n",
       "    </div>\n",
       "  </div>\n",
       "  "
      ],
      "text/plain": [
       "             id                                               name    host_id  \\\n",
       "0      14963583             Room in South Harlem near Central Park   94219511   \n",
       "1       9458704     Large 1BR Apartment, near Times Sq (2nd Floor)   49015331   \n",
       "2      26871281                             West Village Apartment     440022   \n",
       "3        698132                LARGE PRIVATE FLOOR IN BROOKLYN, NY    3577509   \n",
       "5      15523281        1 bedroom to yourself in Midtown Manhattan!   96595601   \n",
       "...         ...                                                ...        ...   \n",
       "39109    925240                         Artist Loft - Union Square    4976428   \n",
       "39110   4649627             Spacious 1 BR, En Suite in Brownstone!    9492212   \n",
       "39112  29754544                    Comfortable- JFK,LGA Best Value  223846870   \n",
       "39114    531258                        1 BR Village - 30 day+ stay    2609535   \n",
       "39115  17041225  Funky 3 Bedroom Duplex in hip Greenpoint, Broo...    1239078   \n",
       "\n",
       "                            host_name neighbourhood_group  \\\n",
       "0                              Gilles           Manhattan   \n",
       "1                               Iradj           Manhattan   \n",
       "2                              Petter           Manhattan   \n",
       "3                                Eric            Brooklyn   \n",
       "5                             Tristan           Manhattan   \n",
       "...                               ...                 ...   \n",
       "39109                        Jonathan           Manhattan   \n",
       "39110                  Emily And Joel            Brooklyn   \n",
       "39112  Shared Stay-JFK The Hugh Suite              Queens   \n",
       "39114                       Alexandra           Manhattan   \n",
       "39115                         Michael            Brooklyn   \n",
       "\n",
       "             neighbourhood  latitude  longitude        room_type  price  \\\n",
       "0                   Harlem  40.80167  -73.95781     Private room     70   \n",
       "1           Hell's Kitchen  40.76037  -73.99016  Entire home/apt    240   \n",
       "2             West Village  40.73001  -74.00562  Entire home/apt    150   \n",
       "3       Bedford-Stuyvesant  40.69128  -73.93653  Entire home/apt     85   \n",
       "5                  Midtown  40.75966  -73.96313  Entire home/apt    135   \n",
       "...                    ...       ...        ...              ...    ...   \n",
       "39109         East Village  40.73194  -73.98939  Entire home/apt    295   \n",
       "39110           Park Slope  40.67020  -73.97885     Private room    135   \n",
       "39112  Springfield Gardens  40.66102  -73.77035     Private room     50   \n",
       "39114    Greenwich Village  40.73110  -73.99913  Entire home/apt    165   \n",
       "39115           Greenpoint  40.72881  -73.95817  Entire home/apt    200   \n",
       "\n",
       "       minimum_nights  number_of_reviews last_review  reviews_per_month  \\\n",
       "0                   3                  3  2019-01-01               0.09   \n",
       "1                   2                 64  2019-06-30               1.68   \n",
       "2                  60                  1  2019-02-07               0.20   \n",
       "3                   4                239  2019-06-26               2.89   \n",
       "5                   3                 21  2019-05-12               0.67   \n",
       "...               ...                ...         ...                ...   \n",
       "39109               7                 92  2019-06-24               1.23   \n",
       "39110               2                 88  2018-12-31               1.60   \n",
       "39112               1                 57  2019-06-21               7.28   \n",
       "39114              30                 19  2018-10-15               0.23   \n",
       "39115               2                 35  2017-09-15               1.19   \n",
       "\n",
       "       calculated_host_listings_count  availability_365  \n",
       "0                                   2                 0  \n",
       "1                                   2               262  \n",
       "2                                   1                 0  \n",
       "3                                   2                 1  \n",
       "5                                   1                 0  \n",
       "...                               ...               ...  \n",
       "39109                               1               316  \n",
       "39110                               4                 0  \n",
       "39112                               3               342  \n",
       "39114                               1               259  \n",
       "39115                               2                 0  \n",
       "\n",
       "[31122 rows x 16 columns]"
      ]
     },
     "execution_count": 25,
     "metadata": {},
     "output_type": "execute_result"
    }
   ],
   "source": [
    "train"
   ]
  },
  {
   "cell_type": "code",
   "execution_count": null,
   "id": "4dcb9d19",
   "metadata": {
    "colab": {
     "base_uri": "https://localhost:8080/"
    },
    "executionInfo": {
     "elapsed": 34,
     "status": "ok",
     "timestamp": 1679757572069,
     "user": {
      "displayName": "June Ko",
      "userId": "10187011845533435771"
     },
     "user_tz": -540
    },
    "id": "4dcb9d19",
    "outputId": "1ea76c48-eed2-46f7-c953-d24abfc22abd"
   },
   "outputs": [
    {
     "data": {
      "text/plain": [
       "id                                 0\n",
       "name                               6\n",
       "host_id                            0\n",
       "host_name                         13\n",
       "neighbourhood_group                0\n",
       "neighbourhood                      0\n",
       "latitude                           0\n",
       "longitude                          0\n",
       "room_type                          0\n",
       "price                              0\n",
       "minimum_nights                     0\n",
       "number_of_reviews                  0\n",
       "last_review                        0\n",
       "reviews_per_month                  0\n",
       "calculated_host_listings_count     0\n",
       "availability_365                   0\n",
       "dtype: int64"
      ]
     },
     "execution_count": 26,
     "metadata": {},
     "output_type": "execute_result"
    }
   ],
   "source": [
    "train.isnull().sum()\n",
    "#결측치 모두 해결"
   ]
  },
  {
   "cell_type": "code",
   "execution_count": null,
   "id": "d6f85a29",
   "metadata": {
    "colab": {
     "base_uri": "https://localhost:8080/"
    },
    "executionInfo": {
     "elapsed": 32,
     "status": "ok",
     "timestamp": 1679757572069,
     "user": {
      "displayName": "June Ko",
      "userId": "10187011845533435771"
     },
     "user_tz": -540
    },
    "id": "d6f85a29",
    "outputId": "8299682a-d524-4d05-e025-fc68d31fbbf5"
   },
   "outputs": [
    {
     "data": {
      "text/plain": [
       "id                                0\n",
       "name                              0\n",
       "host_id                           0\n",
       "host_name                         3\n",
       "neighbourhood_group               0\n",
       "neighbourhood                     0\n",
       "latitude                          0\n",
       "longitude                         0\n",
       "room_type                         0\n",
       "minimum_nights                    0\n",
       "number_of_reviews                 0\n",
       "last_review                       0\n",
       "reviews_per_month                 0\n",
       "calculated_host_listings_count    0\n",
       "availability_365                  0\n",
       "dtype: int64"
      ]
     },
     "execution_count": 27,
     "metadata": {},
     "output_type": "execute_result"
    }
   ],
   "source": [
    "test.isnull().sum()"
   ]
  },
  {
   "cell_type": "code",
   "execution_count": null,
   "id": "pnKVv1ZOEAxT",
   "metadata": {
    "colab": {
     "base_uri": "https://localhost:8080/"
    },
    "executionInfo": {
     "elapsed": 32,
     "status": "ok",
     "timestamp": 1679757572070,
     "user": {
      "displayName": "June Ko",
      "userId": "10187011845533435771"
     },
     "user_tz": -540
    },
    "id": "pnKVv1ZOEAxT",
    "outputId": "4e766d22-84e1-48e9-fedc-59388453e2d2"
   },
   "outputs": [
    {
     "data": {
      "text/plain": [
       "1      4219\n",
       "2      2763\n",
       "3      2004\n",
       "4      1593\n",
       "5      1304\n",
       "       ... \n",
       "286       1\n",
       "309       1\n",
       "306       1\n",
       "298       1\n",
       "282       1\n",
       "Name: number_of_reviews, Length: 378, dtype: int64"
      ]
     },
     "execution_count": 28,
     "metadata": {},
     "output_type": "execute_result"
    }
   ],
   "source": [
    "train['number_of_reviews'].value_counts() \n",
    "#리뷰 없는 곳이 다 지워졌음."
   ]
  },
  {
   "cell_type": "markdown",
   "id": "TI4u4t2DNHE8",
   "metadata": {
    "id": "TI4u4t2DNHE8"
   },
   "source": [
    "#### 처리 후 의견\n",
    "- 결측치 행을 모두 제거하였는데 사실 좋은 방법은 아닌 거 같음.  \n",
    "- 결측치 데이터가 전체의 20%에 달하기 때문에 적은 양이 아님.\n",
    "이것이 TIP에서 처럼 0으로 바꾸는 것이 맞는 건가? 물론 결측치 행의 리뷰수가 0이었기 때문에 0으로 대체하는 것이 맞는 거 같음.  "
   ]
  },
  {
   "cell_type": "markdown",
   "id": "f1b92dd9",
   "metadata": {
    "id": "f1b92dd9"
   },
   "source": [
    "### price 이상치 제거\n",
    "- price == 0 인 거 지움. 9개 뿐이어서 큰 영향은 없을 거 같음.\n",
    "- price > 1000 인 것이 상대적으로 다른 것들과 차이가 많아 지울까 고민했지만 비싼 방도 있을 거라 이상치가 아닐 수 있는 가능성도 있기 때문에 결론적으로는 안지우는 것이 맞는 거 같음(바롬 퍼실님 조언) \n",
    "- ChatGPT한테 물어봤더니 이상치는  Z-score, IQR 등으로 처리하라는데 아직, 모르니깐... \n",
    "- 예측 모델에서는 변수들의 스케일이 다르면 예측 성능이 낮아질 수 있습니다. 따라서, 변수들의 스케일을 조정하는 것이 필요할 수 있습니다. 이 때는 Min-Max scaling, Standard scaling 등의 방법을 사용할 수 있습니다. 여기서는 Min-Max scaling을 함. (by ChatGPT, TIP)  \n",
    "- 변수가 아니라 Target도 scaling이 필요할 거 같음. price의 단위가 많이 큰 것도 있어서 scaling이 필요하긴 하겠군... 그렇지만 안했음."
   ]
  },
  {
   "cell_type": "code",
   "execution_count": null,
   "id": "1aK_e51DRNhY",
   "metadata": {
    "colab": {
     "base_uri": "https://localhost:8080/"
    },
    "executionInfo": {
     "elapsed": 31,
     "status": "ok",
     "timestamp": 1679757572070,
     "user": {
      "displayName": "June Ko",
      "userId": "10187011845533435771"
     },
     "user_tz": -540
    },
    "id": "1aK_e51DRNhY",
    "outputId": "ef41d029-a0e4-4ff7-9402-d8b4f2fd9d95"
   },
   "outputs": [
    {
     "data": {
      "text/plain": [
       "0        9\n",
       "10       8\n",
       "11       1\n",
       "12       1\n",
       "13       1\n",
       "        ..\n",
       "7500     1\n",
       "8000     1\n",
       "8500     1\n",
       "9999     2\n",
       "10000    1\n",
       "Name: price, Length: 560, dtype: int64"
      ]
     },
     "execution_count": 29,
     "metadata": {},
     "output_type": "execute_result"
    }
   ],
   "source": [
    "train['price'].value_counts().sort_index()"
   ]
  },
  {
   "cell_type": "code",
   "execution_count": null,
   "id": "12a93538",
   "metadata": {
    "id": "12a93538"
   },
   "outputs": [],
   "source": [
    "# #price의 이상치 행 지우기 이거 왜 안되지?\n",
    "# cond = (train['price'] == 0) | (train['price'] > 1000)\n",
    "# train[cond].index\n",
    "# # train = train.drop(train[cond].index, axis = 0, inplace = True )"
   ]
  },
  {
   "cell_type": "code",
   "execution_count": null,
   "id": "8f3bf812",
   "metadata": {
    "colab": {
     "base_uri": "https://localhost:8080/"
    },
    "executionInfo": {
     "elapsed": 30,
     "status": "ok",
     "timestamp": 1679757572071,
     "user": {
      "displayName": "June Ko",
      "userId": "10187011845533435771"
     },
     "user_tz": -540
    },
    "id": "8f3bf812",
    "outputId": "01a5013c-f596-4ce5-b755-7d8127c3abf7"
   },
   "outputs": [
    {
     "data": {
      "text/plain": [
       "(31113, 16)"
      ]
     },
     "execution_count": 31,
     "metadata": {},
     "output_type": "execute_result"
    }
   ],
   "source": [
    "#price의 이상치 지움.\n",
    "# train = train[(train.price != 0) & (train.price <=1000)].reset_index(drop=True)\n",
    "train = train[train.price != 0].reset_index(drop=True)\n",
    "# train =train.reset_index()\n",
    "# train = train[train.price <=1000]\n",
    "train.shape\n",
    "#이상치라고 지우는 거보다 정규화를 하는 것이 혹시 모를 이상치가 아닌 값을 버릴지 않을 수 있음. (Tip 파일에서 수행함.)"
   ]
  },
  {
   "cell_type": "markdown",
   "id": "E3U9WzPtcogE",
   "metadata": {
    "id": "E3U9WzPtcogE"
   },
   "source": [
    "### 범주형 데이터 전처리\n",
    "- Tip을 참고하여 범주형 제거하지 않은 데이터 프레임 생성\n",
    "- 수치형과 범주형을 분리하고\n",
    "- 범주형을 인코딩하여 합침  \n",
    "- 결과적으로 범주형을 제거하였을 때보다 약 10% 모델 성능 약 10% 좋아짐."
   ]
  },
  {
   "cell_type": "code",
   "execution_count": null,
   "id": "08b43d88",
   "metadata": {
    "id": "08b43d88"
   },
   "outputs": [],
   "source": [
    "# 가격 값 복사\n",
    "target = train['price']\n",
    "train = train.drop('price', axis=1)"
   ]
  },
  {
   "cell_type": "code",
   "execution_count": null,
   "id": "96b195a5",
   "metadata": {
    "colab": {
     "base_uri": "https://localhost:8080/"
    },
    "executionInfo": {
     "elapsed": 27,
     "status": "ok",
     "timestamp": 1679757572071,
     "user": {
      "displayName": "June Ko",
      "userId": "10187011845533435771"
     },
     "user_tz": -540
    },
    "id": "96b195a5",
    "outputId": "e2dddd19-970d-4ca4-8050-80702933918d"
   },
   "outputs": [
    {
     "data": {
      "text/plain": [
       "(31113, 15)"
      ]
     },
     "execution_count": 34,
     "metadata": {},
     "output_type": "execute_result"
    }
   ],
   "source": [
    "train.shape"
   ]
  },
  {
   "cell_type": "code",
   "execution_count": null,
   "id": "a462a340",
   "metadata": {
    "id": "a462a340"
   },
   "outputs": [],
   "source": [
    "# 수치형 피처와 아닌 것을 분리 \n",
    "cols = [\n",
    "        'host_id',\n",
    "        'latitude', \n",
    "        'longitude', \n",
    "        'minimum_nights',\n",
    "        'number_of_reviews', \n",
    "        'reviews_per_month',\n",
    "        'calculated_host_listings_count',\n",
    "        'availability_365'\n",
    "        ]\n",
    "cols2 = [\n",
    "        'neighbourhood_group',\n",
    "        'neighbourhood',\n",
    "        'room_type'\n",
    "]\n",
    "n_train = train[cols].copy()\n",
    "n_test = test[cols].copy()\n",
    "c_train = train[cols2].copy()\n",
    "c_test = test[cols2].copy()"
   ]
  },
  {
   "cell_type": "code",
   "execution_count": null,
   "id": "DWR90K1KaYyn",
   "metadata": {
    "colab": {
     "base_uri": "https://localhost:8080/"
    },
    "executionInfo": {
     "elapsed": 26,
     "status": "ok",
     "timestamp": 1679757572072,
     "user": {
      "displayName": "June Ko",
      "userId": "10187011845533435771"
     },
     "user_tz": -540
    },
    "id": "DWR90K1KaYyn",
    "outputId": "5ccf8084-4dfa-44e5-ebf5-6b304839b2ec"
   },
   "outputs": [
    {
     "data": {
      "text/plain": [
       "((31113, 8), (7721, 8), (31113, 3), (7721, 3))"
      ]
     },
     "execution_count": 36,
     "metadata": {},
     "output_type": "execute_result"
    }
   ],
   "source": [
    "n_train.shape, n_test.shape, c_train.shape, c_test.shape"
   ]
  },
  {
   "cell_type": "code",
   "execution_count": null,
   "id": "1CimLoo3als2",
   "metadata": {
    "colab": {
     "base_uri": "https://localhost:8080/",
     "height": 81
    },
    "executionInfo": {
     "elapsed": 23,
     "status": "ok",
     "timestamp": 1679757572072,
     "user": {
      "displayName": "June Ko",
      "userId": "10187011845533435771"
     },
     "user_tz": -540
    },
    "id": "1CimLoo3als2",
    "outputId": "8334e33a-3d7a-4eeb-d507-62e5b46fedee"
   },
   "outputs": [
    {
     "data": {
      "text/html": [
       "\n",
       "  <div id=\"df-d1ceb98c-8a92-4918-91f9-6419834cd7e1\">\n",
       "    <div class=\"colab-df-container\">\n",
       "      <div>\n",
       "<style scoped>\n",
       "    .dataframe tbody tr th:only-of-type {\n",
       "        vertical-align: middle;\n",
       "    }\n",
       "\n",
       "    .dataframe tbody tr th {\n",
       "        vertical-align: top;\n",
       "    }\n",
       "\n",
       "    .dataframe thead th {\n",
       "        text-align: right;\n",
       "    }\n",
       "</style>\n",
       "<table border=\"1\" class=\"dataframe\">\n",
       "  <thead>\n",
       "    <tr style=\"text-align: right;\">\n",
       "      <th></th>\n",
       "      <th>host_id</th>\n",
       "      <th>latitude</th>\n",
       "      <th>longitude</th>\n",
       "      <th>minimum_nights</th>\n",
       "      <th>number_of_reviews</th>\n",
       "      <th>reviews_per_month</th>\n",
       "      <th>calculated_host_listings_count</th>\n",
       "      <th>availability_365</th>\n",
       "    </tr>\n",
       "  </thead>\n",
       "  <tbody>\n",
       "    <tr>\n",
       "      <th>0</th>\n",
       "      <td>0.34406</td>\n",
       "      <td>0.727367</td>\n",
       "      <td>0.539318</td>\n",
       "      <td>0.001601</td>\n",
       "      <td>0.003185</td>\n",
       "      <td>0.001368</td>\n",
       "      <td>0.003067</td>\n",
       "      <td>0.0</td>\n",
       "    </tr>\n",
       "  </tbody>\n",
       "</table>\n",
       "</div>\n",
       "      <button class=\"colab-df-convert\" onclick=\"convertToInteractive('df-d1ceb98c-8a92-4918-91f9-6419834cd7e1')\"\n",
       "              title=\"Convert this dataframe to an interactive table.\"\n",
       "              style=\"display:none;\">\n",
       "        \n",
       "  <svg xmlns=\"http://www.w3.org/2000/svg\" height=\"24px\"viewBox=\"0 0 24 24\"\n",
       "       width=\"24px\">\n",
       "    <path d=\"M0 0h24v24H0V0z\" fill=\"none\"/>\n",
       "    <path d=\"M18.56 5.44l.94 2.06.94-2.06 2.06-.94-2.06-.94-.94-2.06-.94 2.06-2.06.94zm-11 1L8.5 8.5l.94-2.06 2.06-.94-2.06-.94L8.5 2.5l-.94 2.06-2.06.94zm10 10l.94 2.06.94-2.06 2.06-.94-2.06-.94-.94-2.06-.94 2.06-2.06.94z\"/><path d=\"M17.41 7.96l-1.37-1.37c-.4-.4-.92-.59-1.43-.59-.52 0-1.04.2-1.43.59L10.3 9.45l-7.72 7.72c-.78.78-.78 2.05 0 2.83L4 21.41c.39.39.9.59 1.41.59.51 0 1.02-.2 1.41-.59l7.78-7.78 2.81-2.81c.8-.78.8-2.07 0-2.86zM5.41 20L4 18.59l7.72-7.72 1.47 1.35L5.41 20z\"/>\n",
       "  </svg>\n",
       "      </button>\n",
       "      \n",
       "  <style>\n",
       "    .colab-df-container {\n",
       "      display:flex;\n",
       "      flex-wrap:wrap;\n",
       "      gap: 12px;\n",
       "    }\n",
       "\n",
       "    .colab-df-convert {\n",
       "      background-color: #E8F0FE;\n",
       "      border: none;\n",
       "      border-radius: 50%;\n",
       "      cursor: pointer;\n",
       "      display: none;\n",
       "      fill: #1967D2;\n",
       "      height: 32px;\n",
       "      padding: 0 0 0 0;\n",
       "      width: 32px;\n",
       "    }\n",
       "\n",
       "    .colab-df-convert:hover {\n",
       "      background-color: #E2EBFA;\n",
       "      box-shadow: 0px 1px 2px rgba(60, 64, 67, 0.3), 0px 1px 3px 1px rgba(60, 64, 67, 0.15);\n",
       "      fill: #174EA6;\n",
       "    }\n",
       "\n",
       "    [theme=dark] .colab-df-convert {\n",
       "      background-color: #3B4455;\n",
       "      fill: #D2E3FC;\n",
       "    }\n",
       "\n",
       "    [theme=dark] .colab-df-convert:hover {\n",
       "      background-color: #434B5C;\n",
       "      box-shadow: 0px 1px 3px 1px rgba(0, 0, 0, 0.15);\n",
       "      filter: drop-shadow(0px 1px 2px rgba(0, 0, 0, 0.3));\n",
       "      fill: #FFFFFF;\n",
       "    }\n",
       "  </style>\n",
       "\n",
       "      <script>\n",
       "        const buttonEl =\n",
       "          document.querySelector('#df-d1ceb98c-8a92-4918-91f9-6419834cd7e1 button.colab-df-convert');\n",
       "        buttonEl.style.display =\n",
       "          google.colab.kernel.accessAllowed ? 'block' : 'none';\n",
       "\n",
       "        async function convertToInteractive(key) {\n",
       "          const element = document.querySelector('#df-d1ceb98c-8a92-4918-91f9-6419834cd7e1');\n",
       "          const dataTable =\n",
       "            await google.colab.kernel.invokeFunction('convertToInteractive',\n",
       "                                                     [key], {});\n",
       "          if (!dataTable) return;\n",
       "\n",
       "          const docLinkHtml = 'Like what you see? Visit the ' +\n",
       "            '<a target=\"_blank\" href=https://colab.research.google.com/notebooks/data_table.ipynb>data table notebook</a>'\n",
       "            + ' to learn more about interactive tables.';\n",
       "          element.innerHTML = '';\n",
       "          dataTable['output_type'] = 'display_data';\n",
       "          await google.colab.output.renderOutput(dataTable, element);\n",
       "          const docLink = document.createElement('div');\n",
       "          docLink.innerHTML = docLinkHtml;\n",
       "          element.appendChild(docLink);\n",
       "        }\n",
       "      </script>\n",
       "    </div>\n",
       "  </div>\n",
       "  "
      ],
      "text/plain": [
       "   host_id  latitude  longitude  minimum_nights  number_of_reviews  \\\n",
       "0  0.34406  0.727367   0.539318        0.001601           0.003185   \n",
       "\n",
       "   reviews_per_month  calculated_host_listings_count  availability_365  \n",
       "0           0.001368                        0.003067               0.0  "
      ]
     },
     "metadata": {},
     "output_type": "display_data"
    }
   ],
   "source": [
    "from sklearn.preprocessing import MinMaxScaler\n",
    "scaler = MinMaxScaler()\n",
    "\n",
    "n_train[cols] = scaler.fit_transform(n_train[cols])\n",
    "n_test[cols] = scaler.transform(n_test[cols])\n",
    "display(n_train.head(1))"
   ]
  },
  {
   "cell_type": "code",
   "execution_count": null,
   "id": "nhl57iD-bkdM",
   "metadata": {
    "colab": {
     "base_uri": "https://localhost:8080/",
     "height": 81
    },
    "executionInfo": {
     "elapsed": 23,
     "status": "ok",
     "timestamp": 1679757572073,
     "user": {
      "displayName": "June Ko",
      "userId": "10187011845533435771"
     },
     "user_tz": -540
    },
    "id": "nhl57iD-bkdM",
    "outputId": "678ec85e-5e0f-4f74-d427-e9d69042f8cb"
   },
   "outputs": [
    {
     "data": {
      "text/html": [
       "\n",
       "  <div id=\"df-9d8c154c-a843-4b4b-ac8f-4f2ba85bcd49\">\n",
       "    <div class=\"colab-df-container\">\n",
       "      <div>\n",
       "<style scoped>\n",
       "    .dataframe tbody tr th:only-of-type {\n",
       "        vertical-align: middle;\n",
       "    }\n",
       "\n",
       "    .dataframe tbody tr th {\n",
       "        vertical-align: top;\n",
       "    }\n",
       "\n",
       "    .dataframe thead th {\n",
       "        text-align: right;\n",
       "    }\n",
       "</style>\n",
       "<table border=\"1\" class=\"dataframe\">\n",
       "  <thead>\n",
       "    <tr style=\"text-align: right;\">\n",
       "      <th></th>\n",
       "      <th>neighbourhood_group</th>\n",
       "      <th>neighbourhood</th>\n",
       "      <th>room_type</th>\n",
       "    </tr>\n",
       "  </thead>\n",
       "  <tbody>\n",
       "    <tr>\n",
       "      <th>0</th>\n",
       "      <td>2</td>\n",
       "      <td>93</td>\n",
       "      <td>1</td>\n",
       "    </tr>\n",
       "  </tbody>\n",
       "</table>\n",
       "</div>\n",
       "      <button class=\"colab-df-convert\" onclick=\"convertToInteractive('df-9d8c154c-a843-4b4b-ac8f-4f2ba85bcd49')\"\n",
       "              title=\"Convert this dataframe to an interactive table.\"\n",
       "              style=\"display:none;\">\n",
       "        \n",
       "  <svg xmlns=\"http://www.w3.org/2000/svg\" height=\"24px\"viewBox=\"0 0 24 24\"\n",
       "       width=\"24px\">\n",
       "    <path d=\"M0 0h24v24H0V0z\" fill=\"none\"/>\n",
       "    <path d=\"M18.56 5.44l.94 2.06.94-2.06 2.06-.94-2.06-.94-.94-2.06-.94 2.06-2.06.94zm-11 1L8.5 8.5l.94-2.06 2.06-.94-2.06-.94L8.5 2.5l-.94 2.06-2.06.94zm10 10l.94 2.06.94-2.06 2.06-.94-2.06-.94-.94-2.06-.94 2.06-2.06.94z\"/><path d=\"M17.41 7.96l-1.37-1.37c-.4-.4-.92-.59-1.43-.59-.52 0-1.04.2-1.43.59L10.3 9.45l-7.72 7.72c-.78.78-.78 2.05 0 2.83L4 21.41c.39.39.9.59 1.41.59.51 0 1.02-.2 1.41-.59l7.78-7.78 2.81-2.81c.8-.78.8-2.07 0-2.86zM5.41 20L4 18.59l7.72-7.72 1.47 1.35L5.41 20z\"/>\n",
       "  </svg>\n",
       "      </button>\n",
       "      \n",
       "  <style>\n",
       "    .colab-df-container {\n",
       "      display:flex;\n",
       "      flex-wrap:wrap;\n",
       "      gap: 12px;\n",
       "    }\n",
       "\n",
       "    .colab-df-convert {\n",
       "      background-color: #E8F0FE;\n",
       "      border: none;\n",
       "      border-radius: 50%;\n",
       "      cursor: pointer;\n",
       "      display: none;\n",
       "      fill: #1967D2;\n",
       "      height: 32px;\n",
       "      padding: 0 0 0 0;\n",
       "      width: 32px;\n",
       "    }\n",
       "\n",
       "    .colab-df-convert:hover {\n",
       "      background-color: #E2EBFA;\n",
       "      box-shadow: 0px 1px 2px rgba(60, 64, 67, 0.3), 0px 1px 3px 1px rgba(60, 64, 67, 0.15);\n",
       "      fill: #174EA6;\n",
       "    }\n",
       "\n",
       "    [theme=dark] .colab-df-convert {\n",
       "      background-color: #3B4455;\n",
       "      fill: #D2E3FC;\n",
       "    }\n",
       "\n",
       "    [theme=dark] .colab-df-convert:hover {\n",
       "      background-color: #434B5C;\n",
       "      box-shadow: 0px 1px 3px 1px rgba(0, 0, 0, 0.15);\n",
       "      filter: drop-shadow(0px 1px 2px rgba(0, 0, 0, 0.3));\n",
       "      fill: #FFFFFF;\n",
       "    }\n",
       "  </style>\n",
       "\n",
       "      <script>\n",
       "        const buttonEl =\n",
       "          document.querySelector('#df-9d8c154c-a843-4b4b-ac8f-4f2ba85bcd49 button.colab-df-convert');\n",
       "        buttonEl.style.display =\n",
       "          google.colab.kernel.accessAllowed ? 'block' : 'none';\n",
       "\n",
       "        async function convertToInteractive(key) {\n",
       "          const element = document.querySelector('#df-9d8c154c-a843-4b4b-ac8f-4f2ba85bcd49');\n",
       "          const dataTable =\n",
       "            await google.colab.kernel.invokeFunction('convertToInteractive',\n",
       "                                                     [key], {});\n",
       "          if (!dataTable) return;\n",
       "\n",
       "          const docLinkHtml = 'Like what you see? Visit the ' +\n",
       "            '<a target=\"_blank\" href=https://colab.research.google.com/notebooks/data_table.ipynb>data table notebook</a>'\n",
       "            + ' to learn more about interactive tables.';\n",
       "          element.innerHTML = '';\n",
       "          dataTable['output_type'] = 'display_data';\n",
       "          await google.colab.output.renderOutput(dataTable, element);\n",
       "          const docLink = document.createElement('div');\n",
       "          docLink.innerHTML = docLinkHtml;\n",
       "          element.appendChild(docLink);\n",
       "        }\n",
       "      </script>\n",
       "    </div>\n",
       "  </div>\n",
       "  "
      ],
      "text/plain": [
       "   neighbourhood_group  neighbourhood  room_type\n",
       "0                    2             93          1"
      ]
     },
     "metadata": {},
     "output_type": "display_data"
    }
   ],
   "source": [
    "#인코딩 \n",
    "from sklearn.preprocessing import LabelEncoder\n",
    "le = LabelEncoder()\n",
    "\n",
    "for col in cols2:\n",
    "    c_train[col] = le.fit_transform(c_train[col])\n",
    "    c_test[col] = le.transform(c_test[col])\n",
    "\n",
    "display(c_train.head(1))"
   ]
  },
  {
   "cell_type": "code",
   "execution_count": null,
   "id": "NvL1nEV8b5E6",
   "metadata": {
    "colab": {
     "base_uri": "https://localhost:8080/",
     "height": 288
    },
    "executionInfo": {
     "elapsed": 25,
     "status": "ok",
     "timestamp": 1679757572075,
     "user": {
      "displayName": "June Ko",
      "userId": "10187011845533435771"
     },
     "user_tz": -540
    },
    "id": "NvL1nEV8b5E6",
    "outputId": "a11cc451-8b14-425c-82d5-2795aaae706c"
   },
   "outputs": [
    {
     "name": "stdout",
     "output_type": "stream",
     "text": [
      "(31113, 11) (7721, 11)\n"
     ]
    },
    {
     "data": {
      "text/html": [
       "\n",
       "  <div id=\"df-38881581-f470-41b9-883a-d0ba95e0414c\">\n",
       "    <div class=\"colab-df-container\">\n",
       "      <div>\n",
       "<style scoped>\n",
       "    .dataframe tbody tr th:only-of-type {\n",
       "        vertical-align: middle;\n",
       "    }\n",
       "\n",
       "    .dataframe tbody tr th {\n",
       "        vertical-align: top;\n",
       "    }\n",
       "\n",
       "    .dataframe thead th {\n",
       "        text-align: right;\n",
       "    }\n",
       "</style>\n",
       "<table border=\"1\" class=\"dataframe\">\n",
       "  <thead>\n",
       "    <tr style=\"text-align: right;\">\n",
       "      <th></th>\n",
       "      <th>host_id</th>\n",
       "      <th>latitude</th>\n",
       "      <th>longitude</th>\n",
       "      <th>minimum_nights</th>\n",
       "      <th>number_of_reviews</th>\n",
       "      <th>reviews_per_month</th>\n",
       "      <th>calculated_host_listings_count</th>\n",
       "      <th>availability_365</th>\n",
       "      <th>neighbourhood_group</th>\n",
       "      <th>neighbourhood</th>\n",
       "      <th>room_type</th>\n",
       "    </tr>\n",
       "  </thead>\n",
       "  <tbody>\n",
       "    <tr>\n",
       "      <th>0</th>\n",
       "      <td>0.344060</td>\n",
       "      <td>0.727367</td>\n",
       "      <td>0.539318</td>\n",
       "      <td>0.001601</td>\n",
       "      <td>0.003185</td>\n",
       "      <td>0.001368</td>\n",
       "      <td>0.003067</td>\n",
       "      <td>0.000000</td>\n",
       "      <td>2</td>\n",
       "      <td>93</td>\n",
       "      <td>1</td>\n",
       "    </tr>\n",
       "    <tr>\n",
       "      <th>1</th>\n",
       "      <td>0.178984</td>\n",
       "      <td>0.625625</td>\n",
       "      <td>0.478445</td>\n",
       "      <td>0.000801</td>\n",
       "      <td>0.100318</td>\n",
       "      <td>0.028552</td>\n",
       "      <td>0.003067</td>\n",
       "      <td>0.717808</td>\n",
       "      <td>2</td>\n",
       "      <td>94</td>\n",
       "      <td>0</td>\n",
       "    </tr>\n",
       "    <tr>\n",
       "      <th>2</th>\n",
       "      <td>0.001598</td>\n",
       "      <td>0.550834</td>\n",
       "      <td>0.449354</td>\n",
       "      <td>0.047238</td>\n",
       "      <td>0.000000</td>\n",
       "      <td>0.003248</td>\n",
       "      <td>0.000000</td>\n",
       "      <td>0.000000</td>\n",
       "      <td>2</td>\n",
       "      <td>207</td>\n",
       "      <td>0</td>\n",
       "    </tr>\n",
       "    <tr>\n",
       "      <th>3</th>\n",
       "      <td>0.013055</td>\n",
       "      <td>0.455423</td>\n",
       "      <td>0.579361</td>\n",
       "      <td>0.002402</td>\n",
       "      <td>0.378981</td>\n",
       "      <td>0.049239</td>\n",
       "      <td>0.003067</td>\n",
       "      <td>0.002740</td>\n",
       "      <td>1</td>\n",
       "      <td>13</td>\n",
       "      <td>0</td>\n",
       "    </tr>\n",
       "    <tr>\n",
       "      <th>4</th>\n",
       "      <td>0.352737</td>\n",
       "      <td>0.623876</td>\n",
       "      <td>0.529308</td>\n",
       "      <td>0.001601</td>\n",
       "      <td>0.031847</td>\n",
       "      <td>0.011284</td>\n",
       "      <td>0.000000</td>\n",
       "      <td>0.000000</td>\n",
       "      <td>2</td>\n",
       "      <td>126</td>\n",
       "      <td>0</td>\n",
       "    </tr>\n",
       "  </tbody>\n",
       "</table>\n",
       "</div>\n",
       "      <button class=\"colab-df-convert\" onclick=\"convertToInteractive('df-38881581-f470-41b9-883a-d0ba95e0414c')\"\n",
       "              title=\"Convert this dataframe to an interactive table.\"\n",
       "              style=\"display:none;\">\n",
       "        \n",
       "  <svg xmlns=\"http://www.w3.org/2000/svg\" height=\"24px\"viewBox=\"0 0 24 24\"\n",
       "       width=\"24px\">\n",
       "    <path d=\"M0 0h24v24H0V0z\" fill=\"none\"/>\n",
       "    <path d=\"M18.56 5.44l.94 2.06.94-2.06 2.06-.94-2.06-.94-.94-2.06-.94 2.06-2.06.94zm-11 1L8.5 8.5l.94-2.06 2.06-.94-2.06-.94L8.5 2.5l-.94 2.06-2.06.94zm10 10l.94 2.06.94-2.06 2.06-.94-2.06-.94-.94-2.06-.94 2.06-2.06.94z\"/><path d=\"M17.41 7.96l-1.37-1.37c-.4-.4-.92-.59-1.43-.59-.52 0-1.04.2-1.43.59L10.3 9.45l-7.72 7.72c-.78.78-.78 2.05 0 2.83L4 21.41c.39.39.9.59 1.41.59.51 0 1.02-.2 1.41-.59l7.78-7.78 2.81-2.81c.8-.78.8-2.07 0-2.86zM5.41 20L4 18.59l7.72-7.72 1.47 1.35L5.41 20z\"/>\n",
       "  </svg>\n",
       "      </button>\n",
       "      \n",
       "  <style>\n",
       "    .colab-df-container {\n",
       "      display:flex;\n",
       "      flex-wrap:wrap;\n",
       "      gap: 12px;\n",
       "    }\n",
       "\n",
       "    .colab-df-convert {\n",
       "      background-color: #E8F0FE;\n",
       "      border: none;\n",
       "      border-radius: 50%;\n",
       "      cursor: pointer;\n",
       "      display: none;\n",
       "      fill: #1967D2;\n",
       "      height: 32px;\n",
       "      padding: 0 0 0 0;\n",
       "      width: 32px;\n",
       "    }\n",
       "\n",
       "    .colab-df-convert:hover {\n",
       "      background-color: #E2EBFA;\n",
       "      box-shadow: 0px 1px 2px rgba(60, 64, 67, 0.3), 0px 1px 3px 1px rgba(60, 64, 67, 0.15);\n",
       "      fill: #174EA6;\n",
       "    }\n",
       "\n",
       "    [theme=dark] .colab-df-convert {\n",
       "      background-color: #3B4455;\n",
       "      fill: #D2E3FC;\n",
       "    }\n",
       "\n",
       "    [theme=dark] .colab-df-convert:hover {\n",
       "      background-color: #434B5C;\n",
       "      box-shadow: 0px 1px 3px 1px rgba(0, 0, 0, 0.15);\n",
       "      filter: drop-shadow(0px 1px 2px rgba(0, 0, 0, 0.3));\n",
       "      fill: #FFFFFF;\n",
       "    }\n",
       "  </style>\n",
       "\n",
       "      <script>\n",
       "        const buttonEl =\n",
       "          document.querySelector('#df-38881581-f470-41b9-883a-d0ba95e0414c button.colab-df-convert');\n",
       "        buttonEl.style.display =\n",
       "          google.colab.kernel.accessAllowed ? 'block' : 'none';\n",
       "\n",
       "        async function convertToInteractive(key) {\n",
       "          const element = document.querySelector('#df-38881581-f470-41b9-883a-d0ba95e0414c');\n",
       "          const dataTable =\n",
       "            await google.colab.kernel.invokeFunction('convertToInteractive',\n",
       "                                                     [key], {});\n",
       "          if (!dataTable) return;\n",
       "\n",
       "          const docLinkHtml = 'Like what you see? Visit the ' +\n",
       "            '<a target=\"_blank\" href=https://colab.research.google.com/notebooks/data_table.ipynb>data table notebook</a>'\n",
       "            + ' to learn more about interactive tables.';\n",
       "          element.innerHTML = '';\n",
       "          dataTable['output_type'] = 'display_data';\n",
       "          await google.colab.output.renderOutput(dataTable, element);\n",
       "          const docLink = document.createElement('div');\n",
       "          docLink.innerHTML = docLinkHtml;\n",
       "          element.appendChild(docLink);\n",
       "        }\n",
       "      </script>\n",
       "    </div>\n",
       "  </div>\n",
       "  "
      ],
      "text/plain": [
       "    host_id  latitude  longitude  minimum_nights  number_of_reviews  \\\n",
       "0  0.344060  0.727367   0.539318        0.001601           0.003185   \n",
       "1  0.178984  0.625625   0.478445        0.000801           0.100318   \n",
       "2  0.001598  0.550834   0.449354        0.047238           0.000000   \n",
       "3  0.013055  0.455423   0.579361        0.002402           0.378981   \n",
       "4  0.352737  0.623876   0.529308        0.001601           0.031847   \n",
       "\n",
       "   reviews_per_month  calculated_host_listings_count  availability_365  \\\n",
       "0           0.001368                        0.003067          0.000000   \n",
       "1           0.028552                        0.003067          0.717808   \n",
       "2           0.003248                        0.000000          0.000000   \n",
       "3           0.049239                        0.003067          0.002740   \n",
       "4           0.011284                        0.000000          0.000000   \n",
       "\n",
       "   neighbourhood_group  neighbourhood  room_type  \n",
       "0                    2             93          1  \n",
       "1                    2             94          0  \n",
       "2                    2            207          0  \n",
       "3                    1             13          0  \n",
       "4                    2            126          0  "
      ]
     },
     "execution_count": 39,
     "metadata": {},
     "output_type": "execute_result"
    }
   ],
   "source": [
    "# 분리한 데이터 다시 합침\n",
    "train = pd.concat([n_train, c_train], axis=1)\n",
    "test = pd.concat([n_test, c_test], axis=1)\n",
    "print(train.shape, test.shape)\n",
    "train.head()"
   ]
  },
  {
   "cell_type": "markdown",
   "id": "849b5217",
   "metadata": {
    "id": "849b5217"
   },
   "source": [
    "## Train Test Validation Split"
   ]
  },
  {
   "cell_type": "code",
   "execution_count": null,
   "id": "553ed7ef",
   "metadata": {
    "colab": {
     "base_uri": "https://localhost:8080/"
    },
    "executionInfo": {
     "elapsed": 23,
     "status": "ok",
     "timestamp": 1679757572075,
     "user": {
      "displayName": "June Ko",
      "userId": "10187011845533435771"
     },
     "user_tz": -540
    },
    "id": "553ed7ef",
    "outputId": "a6df19bb-af19-4428-b62a-ef892cd08557"
   },
   "outputs": [
    {
     "data": {
      "text/plain": [
       "((24890, 11), (6223, 11), (24890,), (6223,))"
      ]
     },
     "execution_count": 40,
     "metadata": {},
     "output_type": "execute_result"
    }
   ],
   "source": [
    "from sklearn.model_selection import train_test_split\n",
    "\n",
    "X_train, X_val, y_train, y_val = train_test_split(train, target, test_size=0.2, random_state=2022)\n",
    "X_train.shape, X_val.shape, y_train.shape, y_val.shape"
   ]
  },
  {
   "cell_type": "markdown",
   "id": "a2d835d3",
   "metadata": {
    "id": "a2d835d3"
   },
   "source": [
    "## Machine Learning\n",
    "- 6가지 모델로 학습"
   ]
  },
  {
   "cell_type": "markdown",
   "id": "de73ea33",
   "metadata": {
    "id": "de73ea33"
   },
   "source": [
    "### 선형회귀"
   ]
  },
  {
   "cell_type": "code",
   "execution_count": null,
   "id": "48064997",
   "metadata": {
    "colab": {
     "base_uri": "https://localhost:8080/"
    },
    "executionInfo": {
     "elapsed": 340,
     "status": "ok",
     "timestamp": 1679698485073,
     "user": {
      "displayName": "June Ko",
      "userId": "10187011845533435771"
     },
     "user_tz": -540
    },
    "id": "48064997",
    "outputId": "03318203-0d7a-4ba0-a968-67eb84e25e7c"
   },
   "outputs": [
    {
     "data": {
      "text/plain": [
       "21479.46593972052"
      ]
     },
     "execution_count": 105,
     "metadata": {},
     "output_type": "execute_result"
    }
   ],
   "source": [
    "# 선형회귀\n",
    "from sklearn.linear_model import LinearRegression\n",
    "from sklearn.metrics import mean_squared_error\n",
    "\n",
    "model = LinearRegression()\n",
    "model.fit(X_train, y_train)\n",
    "pred = model.predict(X_val)\n",
    "mean_squared_error(y_val, pred)"
   ]
  },
  {
   "cell_type": "code",
   "execution_count": null,
   "id": "ad38e189",
   "metadata": {
    "colab": {
     "base_uri": "https://localhost:8080/"
    },
    "executionInfo": {
     "elapsed": 307,
     "status": "ok",
     "timestamp": 1679698487491,
     "user": {
      "displayName": "June Ko",
      "userId": "10187011845533435771"
     },
     "user_tz": -540
    },
    "id": "ad38e189",
    "outputId": "5837354a-245e-4caa-c23a-fa3847be9fe0"
   },
   "outputs": [
    {
     "data": {
      "text/plain": [
       "27097.122936510073"
      ]
     },
     "execution_count": 106,
     "metadata": {},
     "output_type": "execute_result"
    }
   ],
   "source": [
    "# test 데이터 예측 및 평가\n",
    "pred = model.predict(test)\n",
    "mean_squared_error(y_test, pred)"
   ]
  },
  {
   "cell_type": "markdown",
   "id": "dee701cf",
   "metadata": {
    "id": "dee701cf"
   },
   "source": [
    "### 릿지회귀"
   ]
  },
  {
   "cell_type": "code",
   "execution_count": null,
   "id": "6f6a2eb7",
   "metadata": {
    "colab": {
     "base_uri": "https://localhost:8080/"
    },
    "executionInfo": {
     "elapsed": 4,
     "status": "ok",
     "timestamp": 1679698490083,
     "user": {
      "displayName": "June Ko",
      "userId": "10187011845533435771"
     },
     "user_tz": -540
    },
    "id": "6f6a2eb7",
    "outputId": "cf0befce-7a5f-4aa4-ea39-5e8109a11e97"
   },
   "outputs": [
    {
     "data": {
      "text/plain": [
       "21480.44173322879"
      ]
     },
     "execution_count": 107,
     "metadata": {},
     "output_type": "execute_result"
    }
   ],
   "source": [
    "# 릿지 회귀\n",
    "from sklearn.linear_model import Ridge\n",
    "from sklearn.metrics import mean_squared_error\n",
    "\n",
    "model = Ridge()\n",
    "model.fit(X_train, y_train)\n",
    "pred = model.predict(X_val)\n",
    "mean_squared_error(y_val, pred)"
   ]
  },
  {
   "cell_type": "code",
   "execution_count": null,
   "id": "f3c7b9ae",
   "metadata": {
    "colab": {
     "base_uri": "https://localhost:8080/"
    },
    "executionInfo": {
     "elapsed": 367,
     "status": "ok",
     "timestamp": 1679698492909,
     "user": {
      "displayName": "June Ko",
      "userId": "10187011845533435771"
     },
     "user_tz": -540
    },
    "id": "f3c7b9ae",
    "outputId": "72ae62ce-385d-4dfd-bce7-081c34126341"
   },
   "outputs": [
    {
     "data": {
      "text/plain": [
       "27098.404852076383"
      ]
     },
     "execution_count": 108,
     "metadata": {},
     "output_type": "execute_result"
    }
   ],
   "source": [
    "# test 데이터 예측 및 평가\n",
    "pred = model.predict(test)\n",
    "mean_squared_error(y_test, pred)"
   ]
  },
  {
   "cell_type": "markdown",
   "id": "83d28fb0",
   "metadata": {
    "id": "83d28fb0"
   },
   "source": [
    "### 라쏘 회귀"
   ]
  },
  {
   "cell_type": "code",
   "execution_count": null,
   "id": "3aabde9c",
   "metadata": {
    "colab": {
     "base_uri": "https://localhost:8080/"
    },
    "executionInfo": {
     "elapsed": 498,
     "status": "ok",
     "timestamp": 1679698495844,
     "user": {
      "displayName": "June Ko",
      "userId": "10187011845533435771"
     },
     "user_tz": -540
    },
    "id": "3aabde9c",
    "outputId": "577bd76a-1dc9-4930-cd4f-20bf74352923"
   },
   "outputs": [
    {
     "data": {
      "text/plain": [
       "21793.207002100342"
      ]
     },
     "execution_count": 109,
     "metadata": {},
     "output_type": "execute_result"
    }
   ],
   "source": [
    "# 라쏘 회귀\n",
    "from sklearn.linear_model import Lasso\n",
    "from sklearn.metrics import mean_squared_error\n",
    "\n",
    "model = Lasso()\n",
    "model.fit(X_train, y_train)\n",
    "pred = model.predict(X_val)\n",
    "mean_squared_error(y_val, pred)"
   ]
  },
  {
   "cell_type": "code",
   "execution_count": null,
   "id": "3b522068",
   "metadata": {
    "colab": {
     "base_uri": "https://localhost:8080/"
    },
    "executionInfo": {
     "elapsed": 5,
     "status": "ok",
     "timestamp": 1679698496994,
     "user": {
      "displayName": "June Ko",
      "userId": "10187011845533435771"
     },
     "user_tz": -540
    },
    "id": "3b522068",
    "outputId": "5d3c8f80-d6ee-4bb3-ad11-5a318cd28c5c"
   },
   "outputs": [
    {
     "data": {
      "text/plain": [
       "27310.941288579746"
      ]
     },
     "execution_count": 110,
     "metadata": {},
     "output_type": "execute_result"
    }
   ],
   "source": [
    "# test 데이터 예측 및 평가\n",
    "pred = model.predict(test)\n",
    "mean_squared_error(y_test, pred)"
   ]
  },
  {
   "cell_type": "markdown",
   "id": "4aef0e9a",
   "metadata": {
    "id": "4aef0e9a"
   },
   "source": [
    "### 엘라스틱넷 회귀"
   ]
  },
  {
   "cell_type": "code",
   "execution_count": null,
   "id": "2a7e6222",
   "metadata": {
    "colab": {
     "base_uri": "https://localhost:8080/"
    },
    "executionInfo": {
     "elapsed": 351,
     "status": "ok",
     "timestamp": 1679698499285,
     "user": {
      "displayName": "June Ko",
      "userId": "10187011845533435771"
     },
     "user_tz": -540
    },
    "id": "2a7e6222",
    "outputId": "555574f1-e32a-4c67-d16e-efad790b3389"
   },
   "outputs": [
    {
     "data": {
      "text/plain": [
       "23524.940243428584"
      ]
     },
     "execution_count": 111,
     "metadata": {},
     "output_type": "execute_result"
    }
   ],
   "source": [
    "# 엘라스틱넷 회귀\n",
    "from sklearn.linear_model import ElasticNet\n",
    "from sklearn.metrics import mean_squared_error\n",
    "\n",
    "model = ElasticNet()\n",
    "model.fit(X_train, y_train)\n",
    "pred = model.predict(X_val)\n",
    "mean_squared_error(y_val, pred)"
   ]
  },
  {
   "cell_type": "code",
   "execution_count": null,
   "id": "c0194b4c",
   "metadata": {
    "colab": {
     "base_uri": "https://localhost:8080/"
    },
    "executionInfo": {
     "elapsed": 322,
     "status": "ok",
     "timestamp": 1679698501642,
     "user": {
      "displayName": "June Ko",
      "userId": "10187011845533435771"
     },
     "user_tz": -540
    },
    "id": "c0194b4c",
    "outputId": "4e40a6bb-e324-4f77-9c20-66a6b28ed3aa"
   },
   "outputs": [
    {
     "data": {
      "text/plain": [
       "29090.98960710519"
      ]
     },
     "execution_count": 112,
     "metadata": {},
     "output_type": "execute_result"
    }
   ],
   "source": [
    "# test 데이터 예측 및 평가\n",
    "pred = model.predict(test)\n",
    "mean_squared_error(y_test, pred)"
   ]
  },
  {
   "cell_type": "markdown",
   "id": "8310fb1a",
   "metadata": {
    "id": "8310fb1a"
   },
   "source": [
    "### 랜덤포레스트"
   ]
  },
  {
   "cell_type": "code",
   "execution_count": null,
   "id": "dd763123",
   "metadata": {
    "colab": {
     "base_uri": "https://localhost:8080/"
    },
    "executionInfo": {
     "elapsed": 23021,
     "status": "ok",
     "timestamp": 1679698526643,
     "user": {
      "displayName": "June Ko",
      "userId": "10187011845533435771"
     },
     "user_tz": -540
    },
    "id": "dd763123",
    "outputId": "7370f835-a1dd-4501-b494-c68958d2b773"
   },
   "outputs": [
    {
     "data": {
      "text/plain": [
       "23563.492238936207"
      ]
     },
     "execution_count": 113,
     "metadata": {},
     "output_type": "execute_result"
    }
   ],
   "source": [
    "# 랜덤포레스트\n",
    "from sklearn.ensemble import RandomForestRegressor\n",
    "from sklearn.metrics import mean_squared_error\n",
    "\n",
    "model = RandomForestRegressor(random_state=2022)\n",
    "model.fit(X_train, y_train)\n",
    "pred = model.predict(X_val)\n",
    "mean_squared_error(y_val, pred)"
   ]
  },
  {
   "cell_type": "code",
   "execution_count": null,
   "id": "9205f907",
   "metadata": {
    "colab": {
     "base_uri": "https://localhost:8080/"
    },
    "executionInfo": {
     "elapsed": 309,
     "status": "ok",
     "timestamp": 1679698529869,
     "user": {
      "displayName": "June Ko",
      "userId": "10187011845533435771"
     },
     "user_tz": -540
    },
    "id": "9205f907",
    "outputId": "8684d617-d955-487f-a7cb-1138a2b773bd"
   },
   "outputs": [
    {
     "data": {
      "text/plain": [
       "32852.347870172256"
      ]
     },
     "execution_count": 114,
     "metadata": {},
     "output_type": "execute_result"
    }
   ],
   "source": [
    "# test 데이터 예측 및 평가\n",
    "pred = model.predict(test)\n",
    "mean_squared_error(y_test, pred)"
   ]
  },
  {
   "cell_type": "markdown",
   "id": "d34ba8c8",
   "metadata": {
    "id": "d34ba8c8"
   },
   "source": [
    "### XGboost"
   ]
  },
  {
   "cell_type": "code",
   "execution_count": null,
   "id": "1e4ee5f0",
   "metadata": {
    "colab": {
     "base_uri": "https://localhost:8080/"
    },
    "executionInfo": {
     "elapsed": 3131,
     "status": "ok",
     "timestamp": 1679698536504,
     "user": {
      "displayName": "June Ko",
      "userId": "10187011845533435771"
     },
     "user_tz": -540
    },
    "id": "1e4ee5f0",
    "outputId": "3f41c89d-aacd-4d3a-88d3-cce4f06dc403"
   },
   "outputs": [
    {
     "data": {
      "text/plain": [
       "36425.22851158986"
      ]
     },
     "execution_count": 115,
     "metadata": {},
     "output_type": "execute_result"
    }
   ],
   "source": [
    "# Xgboost\n",
    "from xgboost import XGBRegressor\n",
    "from sklearn.metrics import mean_squared_error\n",
    "\n",
    "model = XGBRegressor(random_state=2022)\n",
    "\n",
    "model.fit(X_train, y_train)\n",
    "pred = model.predict(X_val)\n",
    "mean_squared_error(y_val, pred)"
   ]
  },
  {
   "cell_type": "code",
   "execution_count": null,
   "id": "cff28098",
   "metadata": {
    "colab": {
     "base_uri": "https://localhost:8080/"
    },
    "executionInfo": {
     "elapsed": 339,
     "status": "ok",
     "timestamp": 1679698540197,
     "user": {
      "displayName": "June Ko",
      "userId": "10187011845533435771"
     },
     "user_tz": -540
    },
    "id": "cff28098",
    "outputId": "a68150a8-32dd-41ee-b863-07c2f80d6688"
   },
   "outputs": [
    {
     "data": {
      "text/plain": [
       "50363.48755056846"
      ]
     },
     "execution_count": 116,
     "metadata": {},
     "output_type": "execute_result"
    }
   ],
   "source": [
    "# test 데이터 예측 및 평가\n",
    "pred = model.predict(test)\n",
    "mean_squared_error(y_test, pred)"
   ]
  },
  {
   "cell_type": "markdown",
   "id": "377efd97",
   "metadata": {
    "id": "377efd97"
   },
   "source": [
    "## Hyperparameter Tuning\n"
   ]
  },
  {
   "cell_type": "code",
   "execution_count": null,
   "id": "021b3e31",
   "metadata": {
    "id": "021b3e31"
   },
   "outputs": [],
   "source": [
    "from sklearn.model_selection import GridSearchCV, RandomizedSearchCV"
   ]
  },
  {
   "cell_type": "markdown",
   "id": "bwIL6EVBky6s",
   "metadata": {
    "id": "bwIL6EVBky6s"
   },
   "source": [
    "### XGboost"
   ]
  },
  {
   "cell_type": "code",
   "execution_count": null,
   "id": "2e27c618",
   "metadata": {
    "id": "2e27c618"
   },
   "outputs": [],
   "source": [
    "# 하이퍼파라미터\n",
    "params={'learning_rate':[0.07, 0.05], \n",
    "        'max_depth':[3, 5, 7], \n",
    "        'n_estimators':[100, 200],\n",
    "        'subsample':[0.9, 0.8, 0.7]\n",
    "        }\n",
    "# 찾는 최적의 값의 범위를 찾는 것은 경험"
   ]
  },
  {
   "cell_type": "code",
   "execution_count": null,
   "id": "3aa945a1",
   "metadata": {
    "colab": {
     "base_uri": "https://localhost:8080/",
     "height": 117
    },
    "executionInfo": {
     "elapsed": 310038,
     "status": "ok",
     "timestamp": 1679696786758,
     "user": {
      "displayName": "June Ko",
      "userId": "10187011845533435771"
     },
     "user_tz": -540
    },
    "id": "3aa945a1",
    "outputId": "71f01d6c-e8fd-451b-9c79-41dcfd342cbb"
   },
   "outputs": [
    {
     "data": {
      "text/html": [
       "<style>#sk-container-id-1 {color: black;background-color: white;}#sk-container-id-1 pre{padding: 0;}#sk-container-id-1 div.sk-toggleable {background-color: white;}#sk-container-id-1 label.sk-toggleable__label {cursor: pointer;display: block;width: 100%;margin-bottom: 0;padding: 0.3em;box-sizing: border-box;text-align: center;}#sk-container-id-1 label.sk-toggleable__label-arrow:before {content: \"▸\";float: left;margin-right: 0.25em;color: #696969;}#sk-container-id-1 label.sk-toggleable__label-arrow:hover:before {color: black;}#sk-container-id-1 div.sk-estimator:hover label.sk-toggleable__label-arrow:before {color: black;}#sk-container-id-1 div.sk-toggleable__content {max-height: 0;max-width: 0;overflow: hidden;text-align: left;background-color: #f0f8ff;}#sk-container-id-1 div.sk-toggleable__content pre {margin: 0.2em;color: black;border-radius: 0.25em;background-color: #f0f8ff;}#sk-container-id-1 input.sk-toggleable__control:checked~div.sk-toggleable__content {max-height: 200px;max-width: 100%;overflow: auto;}#sk-container-id-1 input.sk-toggleable__control:checked~label.sk-toggleable__label-arrow:before {content: \"▾\";}#sk-container-id-1 div.sk-estimator input.sk-toggleable__control:checked~label.sk-toggleable__label {background-color: #d4ebff;}#sk-container-id-1 div.sk-label input.sk-toggleable__control:checked~label.sk-toggleable__label {background-color: #d4ebff;}#sk-container-id-1 input.sk-hidden--visually {border: 0;clip: rect(1px 1px 1px 1px);clip: rect(1px, 1px, 1px, 1px);height: 1px;margin: -1px;overflow: hidden;padding: 0;position: absolute;width: 1px;}#sk-container-id-1 div.sk-estimator {font-family: monospace;background-color: #f0f8ff;border: 1px dotted black;border-radius: 0.25em;box-sizing: border-box;margin-bottom: 0.5em;}#sk-container-id-1 div.sk-estimator:hover {background-color: #d4ebff;}#sk-container-id-1 div.sk-parallel-item::after {content: \"\";width: 100%;border-bottom: 1px solid gray;flex-grow: 1;}#sk-container-id-1 div.sk-label:hover label.sk-toggleable__label {background-color: #d4ebff;}#sk-container-id-1 div.sk-serial::before {content: \"\";position: absolute;border-left: 1px solid gray;box-sizing: border-box;top: 0;bottom: 0;left: 50%;z-index: 0;}#sk-container-id-1 div.sk-serial {display: flex;flex-direction: column;align-items: center;background-color: white;padding-right: 0.2em;padding-left: 0.2em;position: relative;}#sk-container-id-1 div.sk-item {position: relative;z-index: 1;}#sk-container-id-1 div.sk-parallel {display: flex;align-items: stretch;justify-content: center;background-color: white;position: relative;}#sk-container-id-1 div.sk-item::before, #sk-container-id-1 div.sk-parallel-item::before {content: \"\";position: absolute;border-left: 1px solid gray;box-sizing: border-box;top: 0;bottom: 0;left: 50%;z-index: -1;}#sk-container-id-1 div.sk-parallel-item {display: flex;flex-direction: column;z-index: 1;position: relative;background-color: white;}#sk-container-id-1 div.sk-parallel-item:first-child::after {align-self: flex-end;width: 50%;}#sk-container-id-1 div.sk-parallel-item:last-child::after {align-self: flex-start;width: 50%;}#sk-container-id-1 div.sk-parallel-item:only-child::after {width: 0;}#sk-container-id-1 div.sk-dashed-wrapped {border: 1px dashed gray;margin: 0 0.4em 0.5em 0.4em;box-sizing: border-box;padding-bottom: 0.4em;background-color: white;}#sk-container-id-1 div.sk-label label {font-family: monospace;font-weight: bold;display: inline-block;line-height: 1.2em;}#sk-container-id-1 div.sk-label-container {text-align: center;}#sk-container-id-1 div.sk-container {/* jupyter's `normalize.less` sets `[hidden] { display: none; }` but bootstrap.min.css set `[hidden] { display: none !important; }` so we also need the `!important` here to be able to override the default hidden behavior on the sphinx rendered scikit-learn.org. See: https://github.com/scikit-learn/scikit-learn/issues/21755 */display: inline-block !important;position: relative;}#sk-container-id-1 div.sk-text-repr-fallback {display: none;}</style><div id=\"sk-container-id-1\" class=\"sk-top-container\"><div class=\"sk-text-repr-fallback\"><pre>GridSearchCV(cv=3,\n",
       "             estimator=XGBRegressor(base_score=None, booster=None,\n",
       "                                    callbacks=None, colsample_bylevel=None,\n",
       "                                    colsample_bynode=None,\n",
       "                                    colsample_bytree=None,\n",
       "                                    early_stopping_rounds=None,\n",
       "                                    enable_categorical=False, eval_metric=None,\n",
       "                                    feature_types=None, gamma=None, gpu_id=None,\n",
       "                                    grow_policy=None, importance_type=None,\n",
       "                                    interaction_constraints=None,\n",
       "                                    learning_rate=None, m...\n",
       "                                    max_cat_threshold=None,\n",
       "                                    max_cat_to_onehot=None, max_delta_step=None,\n",
       "                                    max_depth=None, max_leaves=None,\n",
       "                                    min_child_weight=None, missing=nan,\n",
       "                                    monotone_constraints=None, n_estimators=100,\n",
       "                                    n_jobs=None, num_parallel_tree=None,\n",
       "                                    predictor=None, random_state=None, ...),\n",
       "             n_jobs=-1,\n",
       "             param_grid={&#x27;learning_rate&#x27;: [0.07, 0.05], &#x27;max_depth&#x27;: [3, 5, 7],\n",
       "                         &#x27;n_estimators&#x27;: [100, 200],\n",
       "                         &#x27;subsample&#x27;: [0.9, 0.8, 0.7]})</pre><b>In a Jupyter environment, please rerun this cell to show the HTML representation or trust the notebook. <br />On GitHub, the HTML representation is unable to render, please try loading this page with nbviewer.org.</b></div><div class=\"sk-container\" hidden><div class=\"sk-item sk-dashed-wrapped\"><div class=\"sk-label-container\"><div class=\"sk-label sk-toggleable\"><input class=\"sk-toggleable__control sk-hidden--visually\" id=\"sk-estimator-id-1\" type=\"checkbox\" ><label for=\"sk-estimator-id-1\" class=\"sk-toggleable__label sk-toggleable__label-arrow\">GridSearchCV</label><div class=\"sk-toggleable__content\"><pre>GridSearchCV(cv=3,\n",
       "             estimator=XGBRegressor(base_score=None, booster=None,\n",
       "                                    callbacks=None, colsample_bylevel=None,\n",
       "                                    colsample_bynode=None,\n",
       "                                    colsample_bytree=None,\n",
       "                                    early_stopping_rounds=None,\n",
       "                                    enable_categorical=False, eval_metric=None,\n",
       "                                    feature_types=None, gamma=None, gpu_id=None,\n",
       "                                    grow_policy=None, importance_type=None,\n",
       "                                    interaction_constraints=None,\n",
       "                                    learning_rate=None, m...\n",
       "                                    max_cat_threshold=None,\n",
       "                                    max_cat_to_onehot=None, max_delta_step=None,\n",
       "                                    max_depth=None, max_leaves=None,\n",
       "                                    min_child_weight=None, missing=nan,\n",
       "                                    monotone_constraints=None, n_estimators=100,\n",
       "                                    n_jobs=None, num_parallel_tree=None,\n",
       "                                    predictor=None, random_state=None, ...),\n",
       "             n_jobs=-1,\n",
       "             param_grid={&#x27;learning_rate&#x27;: [0.07, 0.05], &#x27;max_depth&#x27;: [3, 5, 7],\n",
       "                         &#x27;n_estimators&#x27;: [100, 200],\n",
       "                         &#x27;subsample&#x27;: [0.9, 0.8, 0.7]})</pre></div></div></div><div class=\"sk-parallel\"><div class=\"sk-parallel-item\"><div class=\"sk-item\"><div class=\"sk-label-container\"><div class=\"sk-label sk-toggleable\"><input class=\"sk-toggleable__control sk-hidden--visually\" id=\"sk-estimator-id-2\" type=\"checkbox\" ><label for=\"sk-estimator-id-2\" class=\"sk-toggleable__label sk-toggleable__label-arrow\">estimator: XGBRegressor</label><div class=\"sk-toggleable__content\"><pre>XGBRegressor(base_score=None, booster=None, callbacks=None,\n",
       "             colsample_bylevel=None, colsample_bynode=None,\n",
       "             colsample_bytree=None, early_stopping_rounds=None,\n",
       "             enable_categorical=False, eval_metric=None, feature_types=None,\n",
       "             gamma=None, gpu_id=None, grow_policy=None, importance_type=None,\n",
       "             interaction_constraints=None, learning_rate=None, max_bin=None,\n",
       "             max_cat_threshold=None, max_cat_to_onehot=None,\n",
       "             max_delta_step=None, max_depth=None, max_leaves=None,\n",
       "             min_child_weight=None, missing=nan, monotone_constraints=None,\n",
       "             n_estimators=100, n_jobs=None, num_parallel_tree=None,\n",
       "             predictor=None, random_state=None, ...)</pre></div></div></div><div class=\"sk-serial\"><div class=\"sk-item\"><div class=\"sk-estimator sk-toggleable\"><input class=\"sk-toggleable__control sk-hidden--visually\" id=\"sk-estimator-id-3\" type=\"checkbox\" ><label for=\"sk-estimator-id-3\" class=\"sk-toggleable__label sk-toggleable__label-arrow\">XGBRegressor</label><div class=\"sk-toggleable__content\"><pre>XGBRegressor(base_score=None, booster=None, callbacks=None,\n",
       "             colsample_bylevel=None, colsample_bynode=None,\n",
       "             colsample_bytree=None, early_stopping_rounds=None,\n",
       "             enable_categorical=False, eval_metric=None, feature_types=None,\n",
       "             gamma=None, gpu_id=None, grow_policy=None, importance_type=None,\n",
       "             interaction_constraints=None, learning_rate=None, max_bin=None,\n",
       "             max_cat_threshold=None, max_cat_to_onehot=None,\n",
       "             max_delta_step=None, max_depth=None, max_leaves=None,\n",
       "             min_child_weight=None, missing=nan, monotone_constraints=None,\n",
       "             n_estimators=100, n_jobs=None, num_parallel_tree=None,\n",
       "             predictor=None, random_state=None, ...)</pre></div></div></div></div></div></div></div></div></div></div>"
      ],
      "text/plain": [
       "GridSearchCV(cv=3,\n",
       "             estimator=XGBRegressor(base_score=None, booster=None,\n",
       "                                    callbacks=None, colsample_bylevel=None,\n",
       "                                    colsample_bynode=None,\n",
       "                                    colsample_bytree=None,\n",
       "                                    early_stopping_rounds=None,\n",
       "                                    enable_categorical=False, eval_metric=None,\n",
       "                                    feature_types=None, gamma=None, gpu_id=None,\n",
       "                                    grow_policy=None, importance_type=None,\n",
       "                                    interaction_constraints=None,\n",
       "                                    learning_rate=None, m...\n",
       "                                    max_cat_threshold=None,\n",
       "                                    max_cat_to_onehot=None, max_delta_step=None,\n",
       "                                    max_depth=None, max_leaves=None,\n",
       "                                    min_child_weight=None, missing=nan,\n",
       "                                    monotone_constraints=None, n_estimators=100,\n",
       "                                    n_jobs=None, num_parallel_tree=None,\n",
       "                                    predictor=None, random_state=None, ...),\n",
       "             n_jobs=-1,\n",
       "             param_grid={'learning_rate': [0.07, 0.05], 'max_depth': [3, 5, 7],\n",
       "                         'n_estimators': [100, 200],\n",
       "                         'subsample': [0.9, 0.8, 0.7]})"
      ]
     },
     "execution_count": 51,
     "metadata": {},
     "output_type": "execute_result"
    }
   ],
   "source": [
    "# GridSearchCV\n",
    "model = XGBRegressor()\n",
    "grid = GridSearchCV(model, params, cv=3, n_jobs=-1)\n",
    "grid.fit(X_train, y_train)"
   ]
  },
  {
   "cell_type": "code",
   "execution_count": null,
   "id": "9d993995",
   "metadata": {
    "colab": {
     "base_uri": "https://localhost:8080/"
    },
    "executionInfo": {
     "elapsed": 407,
     "status": "ok",
     "timestamp": 1679698350813,
     "user": {
      "displayName": "June Ko",
      "userId": "10187011845533435771"
     },
     "user_tz": -540
    },
    "id": "9d993995",
    "outputId": "1fe2f6e3-1544-4092-9e66-db0b2bd2c49c"
   },
   "outputs": [
    {
     "data": {
      "text/plain": [
       "{'learning_rate': 0.05, 'max_depth': 3, 'n_estimators': 200, 'subsample': 0.7}"
      ]
     },
     "execution_count": 66,
     "metadata": {},
     "output_type": "execute_result"
    }
   ],
   "source": [
    "# 최적의 하이퍼파라미터를 찾음\n",
    "grid.best_params_"
   ]
  },
  {
   "cell_type": "code",
   "execution_count": null,
   "id": "cb8c3968",
   "metadata": {
    "colab": {
     "base_uri": "https://localhost:8080/"
    },
    "executionInfo": {
     "elapsed": 3102,
     "status": "ok",
     "timestamp": 1679698562371,
     "user": {
      "displayName": "June Ko",
      "userId": "10187011845533435771"
     },
     "user_tz": -540
    },
    "id": "cb8c3968",
    "outputId": "6f3e2dac-1cac-4549-ca6b-1def57c74b5a"
   },
   "outputs": [
    {
     "data": {
      "text/plain": [
       "30858.03957548674"
      ]
     },
     "execution_count": 118,
     "metadata": {},
     "output_type": "execute_result"
    }
   ],
   "source": [
    "# 하이퍼파라미터 튜닝\n",
    "model = XGBRegressor(\n",
    "    learning_rate = 0.05,\n",
    "    max_depth = 3,\n",
    "    n_estimators = 200,\n",
    "    subsample =0.7,\n",
    "    random_state=2022\n",
    ")\n",
    "model.fit(X_train, y_train)\n",
    "pred = model.predict(test)\n",
    "mean_squared_error(y_test, pred)\n",
    "#베스트 하이퍼파라미터 찾는데 약 3분 걸렸는데 약 20000줄었네  "
   ]
  },
  {
   "cell_type": "code",
   "execution_count": null,
   "id": "uDYRQ3eGi8Iw",
   "metadata": {
    "colab": {
     "base_uri": "https://localhost:8080/",
     "height": 117
    },
    "executionInfo": {
     "elapsed": 103676,
     "status": "ok",
     "timestamp": 1679698676997,
     "user": {
      "displayName": "June Ko",
      "userId": "10187011845533435771"
     },
     "user_tz": -540
    },
    "id": "uDYRQ3eGi8Iw",
    "outputId": "9b537ec5-291d-4190-93ef-4ef09294686b"
   },
   "outputs": [
    {
     "data": {
      "text/html": [
       "<style>#sk-container-id-2 {color: black;background-color: white;}#sk-container-id-2 pre{padding: 0;}#sk-container-id-2 div.sk-toggleable {background-color: white;}#sk-container-id-2 label.sk-toggleable__label {cursor: pointer;display: block;width: 100%;margin-bottom: 0;padding: 0.3em;box-sizing: border-box;text-align: center;}#sk-container-id-2 label.sk-toggleable__label-arrow:before {content: \"▸\";float: left;margin-right: 0.25em;color: #696969;}#sk-container-id-2 label.sk-toggleable__label-arrow:hover:before {color: black;}#sk-container-id-2 div.sk-estimator:hover label.sk-toggleable__label-arrow:before {color: black;}#sk-container-id-2 div.sk-toggleable__content {max-height: 0;max-width: 0;overflow: hidden;text-align: left;background-color: #f0f8ff;}#sk-container-id-2 div.sk-toggleable__content pre {margin: 0.2em;color: black;border-radius: 0.25em;background-color: #f0f8ff;}#sk-container-id-2 input.sk-toggleable__control:checked~div.sk-toggleable__content {max-height: 200px;max-width: 100%;overflow: auto;}#sk-container-id-2 input.sk-toggleable__control:checked~label.sk-toggleable__label-arrow:before {content: \"▾\";}#sk-container-id-2 div.sk-estimator input.sk-toggleable__control:checked~label.sk-toggleable__label {background-color: #d4ebff;}#sk-container-id-2 div.sk-label input.sk-toggleable__control:checked~label.sk-toggleable__label {background-color: #d4ebff;}#sk-container-id-2 input.sk-hidden--visually {border: 0;clip: rect(1px 1px 1px 1px);clip: rect(1px, 1px, 1px, 1px);height: 1px;margin: -1px;overflow: hidden;padding: 0;position: absolute;width: 1px;}#sk-container-id-2 div.sk-estimator {font-family: monospace;background-color: #f0f8ff;border: 1px dotted black;border-radius: 0.25em;box-sizing: border-box;margin-bottom: 0.5em;}#sk-container-id-2 div.sk-estimator:hover {background-color: #d4ebff;}#sk-container-id-2 div.sk-parallel-item::after {content: \"\";width: 100%;border-bottom: 1px solid gray;flex-grow: 1;}#sk-container-id-2 div.sk-label:hover label.sk-toggleable__label {background-color: #d4ebff;}#sk-container-id-2 div.sk-serial::before {content: \"\";position: absolute;border-left: 1px solid gray;box-sizing: border-box;top: 0;bottom: 0;left: 50%;z-index: 0;}#sk-container-id-2 div.sk-serial {display: flex;flex-direction: column;align-items: center;background-color: white;padding-right: 0.2em;padding-left: 0.2em;position: relative;}#sk-container-id-2 div.sk-item {position: relative;z-index: 1;}#sk-container-id-2 div.sk-parallel {display: flex;align-items: stretch;justify-content: center;background-color: white;position: relative;}#sk-container-id-2 div.sk-item::before, #sk-container-id-2 div.sk-parallel-item::before {content: \"\";position: absolute;border-left: 1px solid gray;box-sizing: border-box;top: 0;bottom: 0;left: 50%;z-index: -1;}#sk-container-id-2 div.sk-parallel-item {display: flex;flex-direction: column;z-index: 1;position: relative;background-color: white;}#sk-container-id-2 div.sk-parallel-item:first-child::after {align-self: flex-end;width: 50%;}#sk-container-id-2 div.sk-parallel-item:last-child::after {align-self: flex-start;width: 50%;}#sk-container-id-2 div.sk-parallel-item:only-child::after {width: 0;}#sk-container-id-2 div.sk-dashed-wrapped {border: 1px dashed gray;margin: 0 0.4em 0.5em 0.4em;box-sizing: border-box;padding-bottom: 0.4em;background-color: white;}#sk-container-id-2 div.sk-label label {font-family: monospace;font-weight: bold;display: inline-block;line-height: 1.2em;}#sk-container-id-2 div.sk-label-container {text-align: center;}#sk-container-id-2 div.sk-container {/* jupyter's `normalize.less` sets `[hidden] { display: none; }` but bootstrap.min.css set `[hidden] { display: none !important; }` so we also need the `!important` here to be able to override the default hidden behavior on the sphinx rendered scikit-learn.org. See: https://github.com/scikit-learn/scikit-learn/issues/21755 */display: inline-block !important;position: relative;}#sk-container-id-2 div.sk-text-repr-fallback {display: none;}</style><div id=\"sk-container-id-2\" class=\"sk-top-container\"><div class=\"sk-text-repr-fallback\"><pre>RandomizedSearchCV(cv=3,\n",
       "                   estimator=XGBRegressor(base_score=None, booster=None,\n",
       "                                          callbacks=None,\n",
       "                                          colsample_bylevel=None,\n",
       "                                          colsample_bynode=None,\n",
       "                                          colsample_bytree=None,\n",
       "                                          early_stopping_rounds=None,\n",
       "                                          enable_categorical=False,\n",
       "                                          eval_metric=None, feature_types=None,\n",
       "                                          gamma=None, gpu_id=None,\n",
       "                                          grow_policy=None,\n",
       "                                          importance_type=None,\n",
       "                                          interaction_constraints=None,\n",
       "                                          learning_rate=...\n",
       "                                          max_cat_to_onehot=None,\n",
       "                                          max_delta_step=None, max_depth=None,\n",
       "                                          max_leaves=None,\n",
       "                                          min_child_weight=None, missing=nan,\n",
       "                                          monotone_constraints=None,\n",
       "                                          n_estimators=100, n_jobs=None,\n",
       "                                          num_parallel_tree=None,\n",
       "                                          predictor=None, random_state=None, ...),\n",
       "                   n_jobs=-1,\n",
       "                   param_distributions={&#x27;learning_rate&#x27;: [0.07, 0.05],\n",
       "                                        &#x27;max_depth&#x27;: [3, 5, 7],\n",
       "                                        &#x27;n_estimators&#x27;: [100, 200],\n",
       "                                        &#x27;subsample&#x27;: [0.9, 0.8, 0.7]})</pre><b>In a Jupyter environment, please rerun this cell to show the HTML representation or trust the notebook. <br />On GitHub, the HTML representation is unable to render, please try loading this page with nbviewer.org.</b></div><div class=\"sk-container\" hidden><div class=\"sk-item sk-dashed-wrapped\"><div class=\"sk-label-container\"><div class=\"sk-label sk-toggleable\"><input class=\"sk-toggleable__control sk-hidden--visually\" id=\"sk-estimator-id-4\" type=\"checkbox\" ><label for=\"sk-estimator-id-4\" class=\"sk-toggleable__label sk-toggleable__label-arrow\">RandomizedSearchCV</label><div class=\"sk-toggleable__content\"><pre>RandomizedSearchCV(cv=3,\n",
       "                   estimator=XGBRegressor(base_score=None, booster=None,\n",
       "                                          callbacks=None,\n",
       "                                          colsample_bylevel=None,\n",
       "                                          colsample_bynode=None,\n",
       "                                          colsample_bytree=None,\n",
       "                                          early_stopping_rounds=None,\n",
       "                                          enable_categorical=False,\n",
       "                                          eval_metric=None, feature_types=None,\n",
       "                                          gamma=None, gpu_id=None,\n",
       "                                          grow_policy=None,\n",
       "                                          importance_type=None,\n",
       "                                          interaction_constraints=None,\n",
       "                                          learning_rate=...\n",
       "                                          max_cat_to_onehot=None,\n",
       "                                          max_delta_step=None, max_depth=None,\n",
       "                                          max_leaves=None,\n",
       "                                          min_child_weight=None, missing=nan,\n",
       "                                          monotone_constraints=None,\n",
       "                                          n_estimators=100, n_jobs=None,\n",
       "                                          num_parallel_tree=None,\n",
       "                                          predictor=None, random_state=None, ...),\n",
       "                   n_jobs=-1,\n",
       "                   param_distributions={&#x27;learning_rate&#x27;: [0.07, 0.05],\n",
       "                                        &#x27;max_depth&#x27;: [3, 5, 7],\n",
       "                                        &#x27;n_estimators&#x27;: [100, 200],\n",
       "                                        &#x27;subsample&#x27;: [0.9, 0.8, 0.7]})</pre></div></div></div><div class=\"sk-parallel\"><div class=\"sk-parallel-item\"><div class=\"sk-item\"><div class=\"sk-label-container\"><div class=\"sk-label sk-toggleable\"><input class=\"sk-toggleable__control sk-hidden--visually\" id=\"sk-estimator-id-5\" type=\"checkbox\" ><label for=\"sk-estimator-id-5\" class=\"sk-toggleable__label sk-toggleable__label-arrow\">estimator: XGBRegressor</label><div class=\"sk-toggleable__content\"><pre>XGBRegressor(base_score=None, booster=None, callbacks=None,\n",
       "             colsample_bylevel=None, colsample_bynode=None,\n",
       "             colsample_bytree=None, early_stopping_rounds=None,\n",
       "             enable_categorical=False, eval_metric=None, feature_types=None,\n",
       "             gamma=None, gpu_id=None, grow_policy=None, importance_type=None,\n",
       "             interaction_constraints=None, learning_rate=None, max_bin=None,\n",
       "             max_cat_threshold=None, max_cat_to_onehot=None,\n",
       "             max_delta_step=None, max_depth=None, max_leaves=None,\n",
       "             min_child_weight=None, missing=nan, monotone_constraints=None,\n",
       "             n_estimators=100, n_jobs=None, num_parallel_tree=None,\n",
       "             predictor=None, random_state=None, ...)</pre></div></div></div><div class=\"sk-serial\"><div class=\"sk-item\"><div class=\"sk-estimator sk-toggleable\"><input class=\"sk-toggleable__control sk-hidden--visually\" id=\"sk-estimator-id-6\" type=\"checkbox\" ><label for=\"sk-estimator-id-6\" class=\"sk-toggleable__label sk-toggleable__label-arrow\">XGBRegressor</label><div class=\"sk-toggleable__content\"><pre>XGBRegressor(base_score=None, booster=None, callbacks=None,\n",
       "             colsample_bylevel=None, colsample_bynode=None,\n",
       "             colsample_bytree=None, early_stopping_rounds=None,\n",
       "             enable_categorical=False, eval_metric=None, feature_types=None,\n",
       "             gamma=None, gpu_id=None, grow_policy=None, importance_type=None,\n",
       "             interaction_constraints=None, learning_rate=None, max_bin=None,\n",
       "             max_cat_threshold=None, max_cat_to_onehot=None,\n",
       "             max_delta_step=None, max_depth=None, max_leaves=None,\n",
       "             min_child_weight=None, missing=nan, monotone_constraints=None,\n",
       "             n_estimators=100, n_jobs=None, num_parallel_tree=None,\n",
       "             predictor=None, random_state=None, ...)</pre></div></div></div></div></div></div></div></div></div></div>"
      ],
      "text/plain": [
       "RandomizedSearchCV(cv=3,\n",
       "                   estimator=XGBRegressor(base_score=None, booster=None,\n",
       "                                          callbacks=None,\n",
       "                                          colsample_bylevel=None,\n",
       "                                          colsample_bynode=None,\n",
       "                                          colsample_bytree=None,\n",
       "                                          early_stopping_rounds=None,\n",
       "                                          enable_categorical=False,\n",
       "                                          eval_metric=None, feature_types=None,\n",
       "                                          gamma=None, gpu_id=None,\n",
       "                                          grow_policy=None,\n",
       "                                          importance_type=None,\n",
       "                                          interaction_constraints=None,\n",
       "                                          learning_rate=...\n",
       "                                          max_cat_to_onehot=None,\n",
       "                                          max_delta_step=None, max_depth=None,\n",
       "                                          max_leaves=None,\n",
       "                                          min_child_weight=None, missing=nan,\n",
       "                                          monotone_constraints=None,\n",
       "                                          n_estimators=100, n_jobs=None,\n",
       "                                          num_parallel_tree=None,\n",
       "                                          predictor=None, random_state=None, ...),\n",
       "                   n_jobs=-1,\n",
       "                   param_distributions={'learning_rate': [0.07, 0.05],\n",
       "                                        'max_depth': [3, 5, 7],\n",
       "                                        'n_estimators': [100, 200],\n",
       "                                        'subsample': [0.9, 0.8, 0.7]})"
      ]
     },
     "execution_count": 119,
     "metadata": {},
     "output_type": "execute_result"
    }
   ],
   "source": [
    "#  Randomized Search\n",
    "model = XGBRegressor()\n",
    "grid = RandomizedSearchCV(model, params, cv=3, n_iter=10, n_jobs=-1)\n",
    "grid.fit(X_train, y_train)\n",
    "#1분 조금 넘게 걸림"
   ]
  },
  {
   "cell_type": "code",
   "execution_count": null,
   "id": "8fq330IjjpjN",
   "metadata": {
    "colab": {
     "base_uri": "https://localhost:8080/"
    },
    "executionInfo": {
     "elapsed": 457,
     "status": "ok",
     "timestamp": 1679698681688,
     "user": {
      "displayName": "June Ko",
      "userId": "10187011845533435771"
     },
     "user_tz": -540
    },
    "id": "8fq330IjjpjN",
    "outputId": "dbbf0b6f-0abe-4ac0-a886-1f1a7045eb59"
   },
   "outputs": [
    {
     "data": {
      "text/plain": [
       "{'subsample': 0.7, 'n_estimators': 200, 'max_depth': 3, 'learning_rate': 0.05}"
      ]
     },
     "execution_count": 120,
     "metadata": {},
     "output_type": "execute_result"
    }
   ],
   "source": [
    "# 최적의 하이퍼파라미터를 찾음\n",
    "grid.best_params_"
   ]
  },
  {
   "cell_type": "code",
   "execution_count": null,
   "id": "xVe9KzFNkAc_",
   "metadata": {
    "colab": {
     "base_uri": "https://localhost:8080/"
    },
    "executionInfo": {
     "elapsed": 5505,
     "status": "ok",
     "timestamp": 1679698699880,
     "user": {
      "displayName": "June Ko",
      "userId": "10187011845533435771"
     },
     "user_tz": -540
    },
    "id": "xVe9KzFNkAc_",
    "outputId": "9437b059-ed1e-41eb-89fc-3d152faf363f"
   },
   "outputs": [
    {
     "data": {
      "text/plain": [
       "30858.03957548674"
      ]
     },
     "execution_count": 121,
     "metadata": {},
     "output_type": "execute_result"
    }
   ],
   "source": [
    "# 하이퍼파라미터 튜닝\n",
    "model = XGBRegressor(\n",
    "    learning_rate = 0.05,\n",
    "    max_depth = 3,\n",
    "    n_estimators = 200,\n",
    "    subsample =0.7,\n",
    "    random_state=2022\n",
    ")\n",
    "model.fit(X_train, y_train)\n",
    "pred = model.predict(test)\n",
    "mean_squared_error(y_test, pred)\n",
    "#같은 값을 찾음 .   "
   ]
  },
  {
   "cell_type": "markdown",
   "id": "fd1UwiH6nkxN",
   "metadata": {
    "id": "fd1UwiH6nkxN"
   },
   "source": [
    "## Evaluation\n",
    "### test 데이터 예측 및 평가\n",
    "모델 만들고 바로 다음셀에서 각각 평가함\n",
    "- 범주형 포함, price 0값 제외 기준으로 MSE는 선형회귀와 릿지회귀에서 가장 작은 값을 얻음  (27000정도)\n",
    "- 범주형이 있는 모델은 튜닝 전에 Xgboost의 성능이 다른 모델에 비해 많이 낮음.(60% 정도)\n",
    "- Xgboost 모델에서 하이퍼파라미터 튜닝으로 성능이 약 40% 향상됨.   \n",
    "<br/>\n",
    "- 범주형을 제거한 XGboost는 하이퍼 파라미터 튜닝 후에 엘라스틱회귀와 비슷한 값을 얻음.  \n",
    "<br/>  \n",
    "----  \n",
    "    \n",
    "\n",
    "  \n",
    "\n",
    "\n",
    "\n",
    "|모델|선형회귀|릿지회귀|라쏘회귀|엘라스틱넷회귀|램덤포레스트|XGboost|\n",
    "|----|-----|----|----|----|----|----|\n",
    "|MSE(범주형제외, 0<price<1000)|29888.807951451472|29891.815941458157|30543.077198293304|30876.789706196945|26696.27370543971|26946.6137514007|\n",
    "|GridSearchCV|---|---|---|---|---|26646.054297479976|\n",
    "|Randomized Search|---|---|---|---|---|26646.054297479976|\n",
    "|MSE(범주형 제외, 0<price)|29925.247459712293|29924.5914610508|30454.4774978721|30904.003610174812|33240.8671468074|35722.213781520084|\n",
    "|GridSearchCV|---|---|---|---|---|31046.15531193618|\n",
    "|Randomized Search|---|---|---|---|---|30113.706353657366|\n",
    "|MSE(범주형 포함, 0<price)|27097.122936510073|27098.404852076383|27310.941288579746|29090.98960710519|32852.347870172256|50363.48755056846|\n",
    "|GridSearchCV|---|---|---|---|---|30858.03957548674|\n",
    "|Randomized Search|---|---|---|---|---|30858.03957548674|\n",
    "\n",
    "---\n",
    "<br/>\n",
    "- 수치형만 있는 데이터프레임의 코드 실행은 수정으로 없어졌음. 결과만 기록함."
   ]
  },
  {
   "cell_type": "markdown",
   "id": "tTUk8FacALqv",
   "metadata": {
    "id": "tTUk8FacALqv"
   },
   "source": [
    "## Extra Work\n",
    "- 참고  \n",
    "https://www.kaggle.com/code/dgomonov/data-exploration-on-nyc-airbnb\n",
    "- 예전에는 kaggle 봐도 무슨 말인지 모르겠더니 오늘은 무슨 의미인지 어떤 코드를 복사하면 어떤 것이 구현이 될지 이제 조금 알 거 같음.\n",
    "\n",
    "<br/>\n",
    "<br/>\n",
    "Thank you for Everything  🙂\n",
    "\n",
    "✈ I want to go somewhere"
   ]
  },
  {
   "cell_type": "code",
   "execution_count": null,
   "id": "ezbFAwMtB7sv",
   "metadata": {
    "id": "ezbFAwMtB7sv"
   },
   "outputs": [],
   "source": [
    "import matplotlib.pyplot as plt\n",
    "import matplotlib.image as mpimg\n",
    "%matplotlib inline\n",
    "import seaborn as sns\n",
    "\n",
    "train_price = pd.concat([train, target], axis=1) #price를 target으로 빼놨어서 다시 붙였음."
   ]
  },
  {
   "cell_type": "markdown",
   "id": "TzjYsZpUL1IS",
   "metadata": {
    "id": "TzjYsZpUL1IS"
   },
   "source": [
    "### 경위도에 따른 가격 그래프 "
   ]
  },
  {
   "cell_type": "code",
   "execution_count": null,
   "id": "HGuHFApP9YJT",
   "metadata": {
    "colab": {
     "base_uri": "https://localhost:8080/",
     "height": 491
    },
    "executionInfo": {
     "elapsed": 2386,
     "status": "ok",
     "timestamp": 1679757589036,
     "user": {
      "displayName": "June Ko",
      "userId": "10187011845533435771"
     },
     "user_tz": -540
    },
    "id": "HGuHFApP9YJT",
    "outputId": "b726cf76-8ac7-4721-c21d-7930526a0e6f"
   },
   "outputs": [
    {
     "data": {
      "text/plain": [
       "<matplotlib.legend.Legend at 0x7f133dbbeeb0>"
      ]
     },
     "execution_count": 42,
     "metadata": {},
     "output_type": "execute_result"
    },
    {
     "data": {
      "image/png": "[encoded data removed]",
      "text/plain": [
       "<Figure size 720x576 with 2 Axes>"
      ]
     },
     "metadata": {
      "needs_background": "light"
     },
     "output_type": "display_data"
    }
   ],
   "source": [
    "viz_4=train_price.plot(kind='scatter', x='longitude', y='latitude', label='availability_365', c='price',\n",
    "                  cmap=plt.get_cmap('jet'), colorbar=True, alpha=0.3, figsize=(10,8))\n",
    "viz_4.legend()\n",
    "\n",
    "#정규화가 안되어서 그런가 높은 값들 다 숨어버렸네 뉴욕의 지도를 그려버렸다.  \n",
    "#그러고 보면 많이 비싼 방들은 따로 처리해야 했음. 가격 차이가 많이 남. 기준 이하와 이상(저가 고가 방)을 따로 취급하는 것이 낫겠음.\n",
    "#아무튼 2019년 전의 데이터라 지금은 많이 비싸졌겠지.. ㅜㅜ "
   ]
  },
  {
   "cell_type": "markdown",
   "id": "hpJIQua2MDOg",
   "metadata": {
    "id": "hpJIQua2MDOg"
   },
   "source": [
    "### 각 변수 간의 상관관계 "
   ]
  },
  {
   "cell_type": "code",
   "execution_count": null,
   "id": "f3hk47j8-AKa",
   "metadata": {
    "colab": {
     "base_uri": "https://localhost:8080/",
     "height": 625
    },
    "executionInfo": {
     "elapsed": 885,
     "status": "ok",
     "timestamp": 1679758311904,
     "user": {
      "displayName": "June Ko",
      "userId": "10187011845533435771"
     },
     "user_tz": -540
    },
    "id": "f3hk47j8-AKa",
    "outputId": "6eba007a-6e33-46d6-95f8-69e356b44b51"
   },
   "outputs": [
    {
     "data": {
      "image/png": "[encoded data removed]",
      "text/plain": [
       "<Figure size 720x576 with 2 Axes>"
      ]
     },
     "metadata": {
      "needs_background": "light"
     },
     "output_type": "display_data"
    }
   ],
   "source": [
    "import numpy as np\n",
    "\n",
    "fig, ax = plt.subplots( figsize =(10,8))\n",
    "cor_tab =train_price.corr().apply(np.round, decimals=2)\n",
    "# Palette\n",
    "pal = sns.color_palette(\"coolwarm\", 10000)\n",
    "\n",
    "mask = np.zeros_like(train_price.corr(), dtype=bool)\n",
    "mask[np.triu_indices_from(mask)] = True    #윗 줄과 함께 그래프 반만 보이기\n",
    "\n",
    "sns.heatmap(\n",
    "    data=cor_tab, \n",
    "    annot=True, \n",
    "    cmap=pal, \n",
    "    mask=mask,\n",
    "    vmin=-1, \n",
    "    center=0, \n",
    "    vmax=1, \n",
    "    cbar_kws={\"shrink\": .5}\n",
    "    )\n",
    "plt.show()\n",
    "#네이버후드와 경위도가 상관관계 있는 것은 당연.  \n",
    "#호스트와 리뷰수와 관계가 있음. 특정 호스트에 따라 장사가 잘 되고 안되고 하나봄. \n",
    "#가격과 상관관계가 상대적으로 높은 건 룸타입과 경도였음.\n",
    "#별점 데이터가 있었으면 좋았을 뻔... 중심가의 방은 가격을 맞추려고 엉망일 수도.."
   ]
  },
  {
   "cell_type": "code",
   "execution_count": null,
   "id": "Fpw3sBuN_1wb",
   "metadata": {
    "id": "Fpw3sBuN_1wb"
   },
   "outputs": [],
   "source": []
  }
 ],
 "metadata": {
  "colab": {
   "provenance": [
    {
     "file_id": "1398YY5HtuOjkoZv_E8fSpUa1rBVNwd8r",
     "timestamp": 1679640757981
    }
   ],
   "toc_visible": true
  },
  "gpuClass": "standard",
  "kernelspec": {
   "display_name": "Python 3 (ipykernel)",
   "language": "python",
   "name": "python3"
  },
  "language_info": {
   "codemirror_mode": {
    "name": "ipython",
    "version": 3
   },
   "file_extension": ".py",
   "mimetype": "text/x-python",
   "name": "python",
   "nbconvert_exporter": "python",
   "pygments_lexer": "ipython3",
   "version": "3.9.7"
  }
 },
 "nbformat": 4,
 "nbformat_minor": 5
}
